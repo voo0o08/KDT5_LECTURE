{
 "cells": [
  {
   "cell_type": "markdown",
   "source": [
    "# 프로젝트 소개 - 개인 : 퍼셉트론 수의 영향 알아보기\n",
    "\n",
    "Kaggle Fish Dataseset을 가지고 다양한 조건으로 최상의 분류모델 찾기\n",
    "- 데이터셋 : Fish Data\n",
    "\n",
    "- batch_size = 50\n",
    "- epoch = 30\n",
    "- 조기 종료 조건 : F1 기준 갱신 5번 이하\n",
    "- learning_rate = default\n",
    "- 최적화 함수 → Adam\n",
    "- 배치 정규화 → 각 레이어마다\n",
    "- 가중치 초기화 → He\n",
    "- train : validation = 6 : 1\n",
    "- test는 팀원 개인 글씨"
   ],
   "metadata": {
    "collapsed": false
   },
   "id": "bc4abfebdaf73b7"
  },
  {
   "cell_type": "markdown",
   "source": [
    "## 1. 모듈 로딩 "
   ],
   "metadata": {
    "collapsed": false
   },
   "id": "3dede4f77d934c96"
  },
  {
   "cell_type": "code",
   "outputs": [],
   "source": [
    "from PIL import Image\n",
    "import pandas as pd\n",
    "import numpy as np\n",
    "import matplotlib.pyplot as plt\n",
    "\n",
    "import torch # torch 기본 모듈로 텐서 기본 함수들 \n",
    "import torch.nn as nn # linear Regression 기능의 클래스 Linear\n",
    "import torch.nn.functional as F # 손실함수를 위함\n",
    "import torch.optim as optim # 최적화를 위함"
   ],
   "metadata": {
    "collapsed": false,
    "ExecuteTime": {
     "end_time": "2024-03-19T12:24:47.672187200Z",
     "start_time": "2024-03-19T12:24:47.661590800Z"
    }
   },
   "id": "49327cb32df9d67",
   "execution_count": 285
  },
  {
   "cell_type": "code",
   "outputs": [
    {
     "data": {
      "text/plain": "tensor([[1, 3, 1],\n        [1, 4, 1],\n        [3, 4, 2]])"
     },
     "execution_count": 367,
     "metadata": {},
     "output_type": "execute_result"
    }
   ],
   "source": [
    "seed = 2024\n",
    "\n",
    "np.random.seed(seed)\n",
    "torch.manual_seed(seed)\n",
    "torch.cuda.manual_seed_all(seed)\n"
   ],
   "metadata": {
    "collapsed": false,
    "ExecuteTime": {
     "end_time": "2024-03-19T13:07:36.540472600Z",
     "start_time": "2024-03-19T13:07:36.523943100Z"
    }
   },
   "id": "3ab21d73b3a7dc0f",
   "execution_count": 367
  },
  {
   "cell_type": "markdown",
   "source": [
    "## 2. 데이터 준비"
   ],
   "metadata": {
    "collapsed": false
   },
   "id": "204c0958e8927867"
  },
  {
   "cell_type": "code",
   "outputs": [
    {
     "data": {
      "text/plain": "tensor([[1, 3, 1],\n        [1, 4, 1],\n        [3, 4, 2]])"
     },
     "execution_count": 373,
     "metadata": {},
     "output_type": "execute_result"
    }
   ],
   "source": [
    "torch.manual_seed(seed)\n",
    "torch.randint(1, 5, (3, 3))"
   ],
   "metadata": {
    "collapsed": false,
    "ExecuteTime": {
     "end_time": "2024-03-19T13:08:23.617917Z",
     "start_time": "2024-03-19T13:08:23.579757500Z"
    }
   },
   "id": "6c8f58e91b99ea9",
   "execution_count": 373
  },
  {
   "cell_type": "code",
   "outputs": [
    {
     "data": {
      "text/plain": "['Black Sea Sprat',\n 'Gilt-Head Bream',\n 'Hourse Mackerel',\n 'Red Mullet',\n 'Red Sea Bream',\n 'Sea Bass',\n 'Shrimp',\n 'Striped Red Mullet',\n 'Trout']"
     },
     "execution_count": 286,
     "metadata": {},
     "output_type": "execute_result"
    }
   ],
   "source": [
    "# 지워도 됨\n",
    "import os\n",
    "\n",
    "dir_path = \"Fish_Dataset\"\n",
    "\n",
    "file_list = os.listdir(dir_path)\n",
    "file_list"
   ],
   "metadata": {
    "collapsed": false,
    "ExecuteTime": {
     "end_time": "2024-03-19T12:24:49.179759800Z",
     "start_time": "2024-03-19T12:24:49.163385700Z"
    }
   },
   "id": "6d6577dd161e5818",
   "execution_count": 286
  },
  {
   "cell_type": "code",
   "outputs": [],
   "source": [
    "feature = pd.read_pickle(\"feature2.pkl\")\n",
    "target = pd.read_pickle(\"target2.pkl\")"
   ],
   "metadata": {
    "collapsed": false,
    "ExecuteTime": {
     "end_time": "2024-03-19T12:24:50.097011800Z",
     "start_time": "2024-03-19T12:24:50.064772200Z"
    }
   },
   "id": "2df0c2681ad63af4",
   "execution_count": 287
  },
  {
   "cell_type": "code",
   "outputs": [
    {
     "name": "stdout",
     "output_type": "stream",
     "text": [
      "feare: (9000, 2655), 2D\n",
      "target: (9000, 1), 2D\n"
     ]
    }
   ],
   "source": [
    "# 데이터 피쳐와 타겟 개수 확인 \n",
    "print(f\"feare: {feature.shape}, {feature.ndim}D\")\n",
    "print(f\"target: {target.shape}, {target.ndim}D\")\n",
    "# feature 15000개"
   ],
   "metadata": {
    "collapsed": false,
    "ExecuteTime": {
     "end_time": "2024-03-19T12:24:50.736307Z",
     "start_time": "2024-03-19T12:24:50.692971200Z"
    }
   },
   "id": "b37a8ab5af06cb75",
   "execution_count": 288
  },
  {
   "cell_type": "code",
   "outputs": [
    {
     "data": {
      "text/plain": "0\n0    2404\n1     251\nName: count, dtype: int64"
     },
     "execution_count": 289,
     "metadata": {},
     "output_type": "execute_result"
    }
   ],
   "source": [
    "feature.iloc[0,:].value_counts()"
   ],
   "metadata": {
    "collapsed": false,
    "ExecuteTime": {
     "end_time": "2024-03-19T12:24:51.390520100Z",
     "start_time": "2024-03-19T12:24:51.357441500Z"
    }
   },
   "id": "577aae8861f6e552",
   "execution_count": 289
  },
  {
   "cell_type": "code",
   "outputs": [
    {
     "data": {
      "text/plain": "0    1000\n1    1000\n2    1000\n3    1000\n4    1000\n5    1000\n6    1000\n7    1000\n8    1000\nName: count, dtype: int64"
     },
     "execution_count": 290,
     "metadata": {},
     "output_type": "execute_result"
    }
   ],
   "source": [
    "target.value_counts()"
   ],
   "metadata": {
    "collapsed": false,
    "ExecuteTime": {
     "end_time": "2024-03-19T12:24:52.172412800Z",
     "start_time": "2024-03-19T12:24:52.121157200Z"
    }
   },
   "id": "454d124b73ffe5b5",
   "execution_count": 290
  },
  {
   "cell_type": "code",
   "outputs": [],
   "source": [
    "target = target[0] # 타겟 1차원으로 만들기!!"
   ],
   "metadata": {
    "collapsed": false,
    "ExecuteTime": {
     "end_time": "2024-03-19T12:24:53.133154300Z",
     "start_time": "2024-03-19T12:24:53.088825Z"
    }
   },
   "id": "bdba8f5a09871661",
   "execution_count": 291
  },
  {
   "cell_type": "markdown",
   "source": [
    "## 3. 데이터 가공 및 전처리\n",
    "- 결측치 없음\n",
    "- 이상치 없음\n",
    "- 중복값 없음 \n",
    "- 정규화 필요 없음\n",
    "- 타겟 -> one-hot encoding"
   ],
   "metadata": {
    "collapsed": false
   },
   "id": "aaa633661b885ea0"
  },
  {
   "cell_type": "code",
   "outputs": [],
   "source": [
    "# one-hot encoding : scatter_\n",
    "idx = torch.IntTensor(target.astype(\"int\")).type(torch.int64).unsqueeze(1)\n",
    "\n",
    "y_one_hot = torch.zeros(target.shape[0], len(target.unique())) # len(target.unique()) => 물고기 종류 9개\n",
    "y_one_hot = y_one_hot.scatter_(1, idx, 1).type(torch.int64) # 차원, 1.0이 들어갈 자리 인덱스, 채울 숫자"
   ],
   "metadata": {
    "collapsed": false,
    "ExecuteTime": {
     "end_time": "2024-03-19T12:24:54.398861500Z",
     "start_time": "2024-03-19T12:24:54.370230300Z"
    }
   },
   "id": "cad1d70c84f83144",
   "execution_count": 294
  },
  {
   "cell_type": "markdown",
   "source": [
    "## 4. 데이터 분할 및 데이터셋 준비\n",
    "- 텐서화 시키기\n",
    "- 데이터 셋 준비 : 훈련용 60000, 테스트용 10000\n",
    "- 학습 방법 : 지도 학습 - 이진 분류 (softmax->but cross_entropy가 다 갖고 있음)\n",
    "- 최적화 방법 : 경사하강법 기반의 방법 (Adam, SDG, )\n",
    "- 손실함수 : 이진분류 손실 계산 함수(cross_entropy)"
   ],
   "metadata": {
    "collapsed": false
   },
   "id": "605f27356c080728"
  },
  {
   "cell_type": "markdown",
   "source": [
    "### 4-1 데이터 분할"
   ],
   "metadata": {
    "collapsed": false
   },
   "id": "feceb8ba6b7662ff"
  },
  {
   "cell_type": "code",
   "outputs": [],
   "source": [
    "from torch.utils.data import Dataset, DataLoader, TensorDataset\n",
    "from sklearn.model_selection import train_test_split"
   ],
   "metadata": {
    "collapsed": false,
    "ExecuteTime": {
     "end_time": "2024-03-19T12:24:55.246797600Z",
     "start_time": "2024-03-19T12:24:55.211559500Z"
    }
   },
   "id": "6438f8184b13defe",
   "execution_count": 295
  },
  {
   "cell_type": "code",
   "outputs": [],
   "source": [
    "x_train, x_test, y_train, y_test = train_test_split(feature, y_one_hot, test_size=0.1, random_state=42, stratify=target)"
   ],
   "metadata": {
    "collapsed": false,
    "ExecuteTime": {
     "end_time": "2024-03-19T12:24:55.411345400Z",
     "start_time": "2024-03-19T12:24:55.358498400Z"
    }
   },
   "id": "ecdce9c563b57f71",
   "execution_count": 296
  },
  {
   "cell_type": "code",
   "outputs": [],
   "source": [
    "x_val, x_test, y_val, y_test = train_test_split(x_test, y_test, test_size=0.1, random_state=42, stratify=y_test)"
   ],
   "metadata": {
    "collapsed": false,
    "ExecuteTime": {
     "end_time": "2024-03-19T12:24:55.567608700Z",
     "start_time": "2024-03-19T12:24:55.525066800Z"
    }
   },
   "id": "70e8ad17f29dd452",
   "execution_count": 297
  },
  {
   "cell_type": "code",
   "outputs": [
    {
     "name": "stdout",
     "output_type": "stream",
     "text": [
      "train data => (8100, 2655), torch.Size([8100, 9])\n",
      "valindation data => (810, 2655), torch.Size([810, 9])\n",
      "test data => (90, 2655), torch.Size([90, 9])\n"
     ]
    }
   ],
   "source": [
    "# 데이터 shape 확인\n",
    "print(f\"train data => {x_train.shape}, {y_train.shape}\")\n",
    "print(f\"valindation data => {x_val.shape}, {y_val.shape}\")\n",
    "print(f\"test data => {x_test.shape}, {y_test.shape}\")\n",
    "\n",
    "# 8100\n",
    "# 810\n",
    "# 90"
   ],
   "metadata": {
    "collapsed": false,
    "ExecuteTime": {
     "end_time": "2024-03-19T12:24:55.737049600Z",
     "start_time": "2024-03-19T12:24:55.695299Z"
    }
   },
   "id": "20d6587f2d78c820",
   "execution_count": 298
  },
  {
   "cell_type": "markdown",
   "source": [
    "### 4-2 데이터 셋 생성"
   ],
   "metadata": {
    "collapsed": false
   },
   "id": "c8d5e8ad04227cbb"
  },
  {
   "cell_type": "code",
   "outputs": [],
   "source": [
    "# 사용자 정의 DataSet Class\n",
    "# 데이터의 텐서변환\n",
    "class DLDataset(Dataset): # torch.utils.data.Dataset을 부모로 두는 class 생성\n",
    "    # 초기화 함수\n",
    "    def __init__(self, x_data, y_data):\n",
    "        # print(y_data.dtype)\n",
    "        super().__init__()\n",
    "        \n",
    "        # x 데이터 => ndarray\n",
    "        if isinstance(x_data, torch.Tensor):\n",
    "            pass\n",
    "        else:\n",
    "            x_data = x_data.values if isinstance(x_data, pd.DataFrame) else x_data # 데이터 프레임이라면 valuse로 어레이 뽑아줘야함 \n",
    "            \n",
    "        # y 데이터 => ndarray\n",
    "        if isinstance(y_data, torch.Tensor):\n",
    "            pass\n",
    "        else:\n",
    "            y_data = y_data.values if isinstance(y_data, pd.DataFrame) else y_data \n",
    "        # ndarray에서 tensor로 변환 \n",
    "        \n",
    "        self.feature = torch.FloatTensor(x_data)\n",
    "        self.target = torch.LongTensor(y_data) \n",
    "        # print(\"[target & feature SHAPE]\", self.target.shape, self.target.ndim)\n",
    "    \n",
    "    # 데이터셋의 개수 체크 함수\n",
    "    def __len__(self):\n",
    "        return self.target.shape[0]\n",
    "    \n",
    "    # 특정 인덱스 데이터 + 라벨 반환 callback function \n",
    "    def __getitem__(self, index):\n",
    "        return self.feature[index], self.target[index] # 둘 다 튜플로 출동 "
   ],
   "metadata": {
    "collapsed": false,
    "ExecuteTime": {
     "end_time": "2024-03-19T12:24:56.100493300Z",
     "start_time": "2024-03-19T12:24:56.065438800Z"
    }
   },
   "id": "592be0b8549d717f",
   "execution_count": 299
  },
  {
   "cell_type": "code",
   "outputs": [],
   "source": [
    "train_data = DLDataset(x_train, y_train) # numpy, numpy\n",
    "val_data = DLDataset(x_val, y_val) # numpy, numpy\n",
    "test_data = DLDataset(x_test, y_test) # numpy, numpy"
   ],
   "metadata": {
    "collapsed": false,
    "ExecuteTime": {
     "end_time": "2024-03-19T12:24:57.014713100Z",
     "start_time": "2024-03-19T12:24:56.956249300Z"
    }
   },
   "id": "8ec8cf6d9584e7cc",
   "execution_count": 302
  },
  {
   "cell_type": "code",
   "outputs": [],
   "source": [
    "# from torch.utils.data import random_split\n",
    "# \n",
    "# seed = torch.Generator().manual_seed(42)\n",
    "# trainDS, validDS = random_split(my_dataset, [60000, 10000], generator=seed) \n",
    "# \n",
    "# print(f\"trainDS => {len(trainDS)}개\\nvalidDS => {len(validDS)}개\")"
   ],
   "metadata": {
    "collapsed": false,
    "ExecuteTime": {
     "end_time": "2024-03-19T12:24:57.150953600Z",
     "start_time": "2024-03-19T12:24:57.101830600Z"
    }
   },
   "id": "b71ea88e4aabfe7a",
   "execution_count": 303
  },
  {
   "cell_type": "code",
   "outputs": [
    {
     "name": "stdout",
     "output_type": "stream",
     "text": [
      "[나눠진 배치 개수]\n",
      "trainDL => 162\n",
      "validDL => 17\n",
      "testDL => 2\n"
     ]
    }
   ],
   "source": [
    "# DataLoader 생성\n",
    "\n",
    "BATCH_SIZE = 50\n",
    "trainDL = DataLoader(train_data, batch_size=BATCH_SIZE, drop_last=False, shuffle=True)\n",
    "validDL = DataLoader(val_data, batch_size=BATCH_SIZE, drop_last=False, shuffle=True)\n",
    "testDL = DataLoader(test_data, batch_size=BATCH_SIZE, drop_last=False, shuffle=True) # false 해놓으면 쪼가리들 나중에 쓸 수 있음\n",
    "\n",
    "print(f\"[나눠진 배치 개수]\\ntrainDL => {len(trainDL)}\\nvalidDL => {len(validDL)}\\ntestDL => {len(testDL)}\")"
   ],
   "metadata": {
    "collapsed": false,
    "ExecuteTime": {
     "end_time": "2024-03-19T13:11:28.008133500Z",
     "start_time": "2024-03-19T13:11:27.949037300Z"
    }
   },
   "id": "dd7fa022fd067c14",
   "execution_count": 382
  },
  {
   "cell_type": "markdown",
   "source": [
    "## 5. 학습\n",
    "- 조기 종료 조건 넣기\n",
    "- 코드 좀 더 유연하게 수정하기\n",
    "- 배치 정규화 -> 각 레이어마다\n",
    "- 가중치 초기화 -> He"
   ],
   "metadata": {
    "collapsed": false
   },
   "id": "c001ccab9083d9c4"
  },
  {
   "cell_type": "markdown",
   "source": [
    "### 5-1 모델 생성"
   ],
   "metadata": {
    "collapsed": false
   },
   "id": "fbf9409f330af4de"
  },
  {
   "cell_type": "code",
   "outputs": [],
   "source": [
    "temp_feature, temp_label = next(iter(trainDL))"
   ],
   "metadata": {
    "collapsed": false,
    "ExecuteTime": {
     "end_time": "2024-03-19T12:24:57.791354800Z",
     "start_time": "2024-03-19T12:24:57.768864100Z"
    }
   },
   "id": "75dc2d7a28ab824f",
   "execution_count": 305
  },
  {
   "cell_type": "code",
   "outputs": [
    {
     "data": {
      "text/plain": "(2655, 9)"
     },
     "execution_count": 306,
     "metadata": {},
     "output_type": "execute_result"
    }
   ],
   "source": [
    "temp_feature.shape[1], temp_label.shape[1] # 각각의 1번 요소를 뽑으면 IN_DIM, OUT_DIM"
   ],
   "metadata": {
    "collapsed": false,
    "ExecuteTime": {
     "end_time": "2024-03-19T12:24:58.319110800Z",
     "start_time": "2024-03-19T12:24:58.269937100Z"
    }
   },
   "id": "fb91b1d91a01ffde",
   "execution_count": 306
  },
  {
   "cell_type": "code",
   "outputs": [],
   "source": [
    "# MyModel 클래스 생성 : 내 미션은 퍼셉트론 수 영향 알아보기 \n",
    "class MyModel(nn.Module):\n",
    "    \n",
    "    # 모델 구성 요소 초기화 \n",
    "    def __init__(self, in_dim, out_dim, layer_num, perceptron_nums):\n",
    "        super().__init__()\n",
    "        self.layer_num = layer_num\n",
    "        self.in_dim = in_dim\n",
    "        self.out_dim = out_dim\n",
    "        \n",
    "        self.layers = nn.ModuleList()  # ModuleList에 layer 담기\n",
    "        idx = 0\n",
    "        # 은닉층과 활성화 함수 추가\n",
    "        for i in range(len(perceptron_nums)-2):\n",
    "            self.layers.append(nn.Linear(perceptron_nums[i], perceptron_nums[i+1]))  # 선형 레이어 추가\n",
    "            self.layers.append(nn.ReLU())  # ReLU 활성화 함수 추가\n",
    "            # in_dim = out_dim  # 다음 레이어의 입력 차원을 현재 출력 차원으로 설정\n",
    "            idx = i\n",
    "            \n",
    "        # 출력층 추가\n",
    "        self.layers.append(nn.Linear(perceptron_nums[idx+1], out_dim))\n",
    "        \n",
    "    def forward(self, x):\n",
    "        # 각 레이어를 차례로 통과시킴\n",
    "        for layer in self.layers:\n",
    "            x = layer(x)\n",
    "        return x"
   ],
   "metadata": {
    "collapsed": false,
    "ExecuteTime": {
     "end_time": "2024-03-19T12:24:58.491407100Z",
     "start_time": "2024-03-19T12:24:58.448273500Z"
    }
   },
   "id": "d5feee45f3b40431",
   "execution_count": 307
  },
  {
   "cell_type": "markdown",
   "source": [
    "### 5-2. 학습 함수, 예측 함수 생성, 실행디바이스, 모델, 최적화, 손실함수, 학습 횟수"
   ],
   "metadata": {
    "collapsed": false
   },
   "id": "a98a499769ff4e11"
  },
  {
   "cell_type": "code",
   "outputs": [],
   "source": [
    "# 실행 디바이스 설정\n",
    "DEVICE = \"cuda\" if torch.cuda.is_available() else \"cpu\" # GPU있으면 쓰고 없으면 cpu로"
   ],
   "metadata": {
    "collapsed": false,
    "ExecuteTime": {
     "end_time": "2024-03-19T12:24:58.779817700Z",
     "start_time": "2024-03-19T12:24:58.737790300Z"
    }
   },
   "id": "a0fea903041f0df8",
   "execution_count": 308
  },
  {
   "cell_type": "markdown",
   "source": [
    "# 모델 생성!!!!!!!!!!!!!!!!!!!!!"
   ],
   "metadata": {
    "collapsed": false
   },
   "id": "71e3a04c8a37a073"
  },
  {
   "cell_type": "code",
   "outputs": [],
   "source": [
    "# 모델 인스턴스 생성\n",
    "IN_DIM = temp_feature.shape[1] # 입력 피쳐 수\n",
    "OUT_DIM = temp_label.shape[1] # 출력 피쳐 수\n",
    "HIDDEN_NUM = 1 # 히든 레이어 개수 나는 0개!! 퍼셉트론 수 조절 하기  \n",
    "\n",
    "perceptron_nums = list(np.linspace(IN_DIM, OUT_DIM, HIDDEN_NUM+2, dtype=int))\n",
    "\n",
    "\n",
    "\n",
    "model = MyModel(IN_DIM, OUT_DIM, HIDDEN_NUM+2, perceptron_nums).to(DEVICE)"
   ],
   "metadata": {
    "collapsed": false,
    "ExecuteTime": {
     "end_time": "2024-03-19T12:55:08.815594700Z",
     "start_time": "2024-03-19T12:55:08.790855800Z"
    }
   },
   "id": "193f4984da8b9f47",
   "execution_count": 333
  },
  {
   "cell_type": "code",
   "outputs": [
    {
     "name": "stdout",
     "output_type": "stream",
     "text": [
      "Linear(in_features=2655, out_features=1332, bias=True) => nn.Linear T/F? True\n",
      "\n",
      "ReLU() => nn.Linear T/F? False\n",
      "\n",
      "Linear(in_features=1332, out_features=9, bias=True) => nn.Linear T/F? True\n"
     ]
    }
   ],
   "source": [
    "# 가중치 초기화\n",
    "for layer in model.layers:\n",
    "    print(f\"{layer} => nn.Linear T/F? {isinstance(layer, nn.Linear)}\")\n",
    "    print()\n",
    "    if isinstance(layer, nn.Linear) == True:\n",
    "        nn.init.xavier_uniform_(layer.weight)"
   ],
   "metadata": {
    "collapsed": false,
    "ExecuteTime": {
     "end_time": "2024-03-19T12:40:38.911620300Z",
     "start_time": "2024-03-19T12:40:38.879963400Z"
    }
   },
   "id": "f550e566545c48ba",
   "execution_count": 322
  },
  {
   "cell_type": "code",
   "outputs": [],
   "source": [
    "# 손실함수 인스턴스 생성\n",
    "LOSS_FN = nn.CrossEntropyLoss().to(DEVICE) # 다중분류니까\n",
    "\n",
    "# 최적화 인스턴스 생성\n",
    "OPTIMIZER = optim.Adam(model.parameters()) # lr = default 사용\n",
    "\n",
    "# 반복 횟수\n",
    "EPOCHS = 30"
   ],
   "metadata": {
    "collapsed": false,
    "ExecuteTime": {
     "end_time": "2024-03-19T12:40:39.078637700Z",
     "start_time": "2024-03-19T12:40:39.058532600Z"
    }
   },
   "id": "fd7b60980e158f96",
   "execution_count": 323
  },
  {
   "cell_type": "code",
   "outputs": [],
   "source": [
    "# 그래프 전용 함수 \n",
    "def plt_graph(loss_accuracy):\n",
    "    fig, ax1 = plt.subplots()\n",
    "    ax1.plot(loss_accuracy[0], label='loss', color=\"g\")\n",
    "    \n",
    "    ax2 = ax1.twinx()\n",
    "    ax2.plot(loss_accuracy[1],label='accuracy', color='r')\n",
    "    # plt.plot(loss_accuracy[0], label='loss')\n",
    "    # plt.plot(loss_accuracy[1], label='accuracy')\n",
    "    \n",
    "    ax1.legend(loc='upper left')\n",
    "    ax2.legend(loc='upper right')\n",
    "    \n",
    "    plt.xlabel(\"Epochs\")\n",
    "    plt.show()"
   ],
   "metadata": {
    "collapsed": false,
    "ExecuteTime": {
     "end_time": "2024-03-19T12:40:39.252801400Z",
     "start_time": "2024-03-19T12:40:39.243747Z"
    }
   },
   "id": "e42247a704f1a9ab",
   "execution_count": 324
  },
  {
   "cell_type": "code",
   "outputs": [],
   "source": [
    "from sklearn.metrics import f1_score"
   ],
   "metadata": {
    "collapsed": false,
    "ExecuteTime": {
     "end_time": "2024-03-19T12:40:39.429141700Z",
     "start_time": "2024-03-19T12:40:39.411101200Z"
    }
   },
   "id": "d2328c600b5ebad4",
   "execution_count": 325
  },
  {
   "cell_type": "code",
   "outputs": [],
   "source": [
    "# 학습 진행 함수\n",
    "def training():\n",
    "    # 학습 모드 전환 함수 : dropout이나 batch normalization과 같은 레이어들이 학습할 때의 동작 모드\n",
    "    model.train()\n",
    "    \n",
    "    # 배치크기 만큼 학습 진행 및 저장 \n",
    "    train_loss = []\n",
    "    train_f1 = []\n",
    "    \n",
    "    for cnt, (feature, target) in enumerate(trainDL):\n",
    "\n",
    "        # 배치크기만큼의 학습 데이터 준비 \n",
    "        feature, target = feature.to(DEVICE), target.to(DEVICE)\n",
    "        target = target.squeeze().type(torch.float32)\n",
    "\n",
    "        # 학습 \n",
    "        pre_target = model(feature)\n",
    "        # print(f\"pre_target => {pre_target.shape}, {pre_target.ndim}D\")\n",
    "        # print(f\"target => {target.shape}, {target.ndim}D\")\n",
    "        \n",
    "        # 손실계산\n",
    "        loss = LOSS_FN(pre_target, target)\n",
    "        train_loss.append(loss.item())\n",
    "        \n",
    "        # W, b 업데이트\n",
    "        OPTIMIZER.zero_grad() # 초기화\n",
    "        loss.backward() \n",
    "        OPTIMIZER.step()\n",
    "        \n",
    "        # print(pre_target.max(dim=1).indices)\n",
    "        # print(target.max(dim=1).indices)\n",
    "        \n",
    "        f1 = f1_score(pre_target.max(dim=1).indices,target.max(dim=1).indices, average=\"macro\")\n",
    "                #(pre_target.max(dim=1).indices == target.max(dim=1).indices).sum() / len(pre_target))\n",
    "        # print(f\"acc => {acc}\")\n",
    "\n",
    "        train_f1.append(f1)\n",
    "        # 배치 단위 학습 진행 메시지 출력 \n",
    "        # print(f\"[train batch loss] => {loss}\")\n",
    "        \n",
    "    # 학습 진행 메시지 출력\n",
    "    # print(f\"[Train loss] ==> {loss}, [acc] ==> {acc}\")\n",
    "    \n",
    "    return np.mean(train_loss), np.mean(train_f1)"
   ],
   "metadata": {
    "collapsed": false,
    "ExecuteTime": {
     "end_time": "2024-03-19T12:40:39.611458700Z",
     "start_time": "2024-03-19T12:40:39.586297100Z"
    }
   },
   "id": "6f7457cdfb4f1699",
   "execution_count": 326
  },
  {
   "cell_type": "code",
   "outputs": [],
   "source": [
    "# 검증 및 평가 진행 함수\n",
    "# 매개변수 dataLoader : 검증 또는 테스트 데이터 셋에 대한 Loader \n",
    "def testing():\n",
    "    # 추론 모드 : 레이어 비활성화, 순전파만!! 수행\n",
    "    model.eval()\n",
    "    \n",
    "    with torch.no_grad():\n",
    "        # 배치크기 만큼 학습 진행 및 저장 \n",
    "        val_loss = []\n",
    "        val_f1 = []\n",
    "        for cnt, (feature, target) in enumerate(validDL):\n",
    "            # print(cnt, feature, target)\n",
    "            # 배치크기만큼의 학습 데이터 준비 \n",
    "            feature, target = feature.to(DEVICE), target.to(DEVICE)\n",
    "            target = target.squeeze().type(torch.float32)\n",
    "        \n",
    "            # 학습 \n",
    "            pre_target = model(feature)\n",
    "            # print(f\"pre_target => {pre_target.shape}, {pre_target.ndim}D\")\n",
    "            # print(f\"target => {target.shape}, {target.ndim}D\")\n",
    "            \n",
    "            # 손실계산\n",
    "            loss = LOSS_FN(pre_target, target)\n",
    "            val_loss.append(loss.item())\n",
    "            \n",
    "            f1 = f1_score(pre_target.max(dim=1).indices,target.max(dim=1).indices, average=\"macro\")\n",
    "            \n",
    "            val_f1.append(f1)\n",
    "            \n",
    "    \n",
    "    # 학습 진행 메시지 출력\n",
    "    \n",
    "    # print(f\"acc => {acc}\") \n",
    "    # print(f\"[Valid loss] ==> {loss}, [acc] ==> {acc}\")\n",
    "    \n",
    "    return np.mean(val_loss), np.mean(val_f1)"
   ],
   "metadata": {
    "collapsed": false,
    "ExecuteTime": {
     "end_time": "2024-03-19T12:40:39.775752500Z",
     "start_time": "2024-03-19T12:40:39.756820800Z"
    }
   },
   "id": "2b9281e1a269be00",
   "execution_count": 327
  },
  {
   "cell_type": "code",
   "outputs": [
    {
     "name": "stdout",
     "output_type": "stream",
     "text": [
      "0 improve_cnt => 0\n",
      "Best valid => 0.4987\n",
      "1 improve_cnt => 0\n",
      "Best valid => 0.5715\n",
      "2 improve_cnt => 0\n",
      "Best valid => 0.5912\n",
      "3 improve_cnt => 0\n",
      "Best valid => 0.6166\n",
      "4 improve_cnt => 0\n",
      "Best valid => 0.6289\n",
      "5 improve_cnt => 0\n",
      "Best valid => 0.6461\n",
      "6 improve_cnt => 0\n",
      "7 improve_cnt => 1\n",
      "8 improve_cnt => 2\n",
      "9 improve_cnt => 3\n",
      "10 improve_cnt => 4\n",
      "Best valid => 0.6564\n",
      "11 improve_cnt => 0\n",
      "Best valid => 0.6797\n",
      "12 improve_cnt => 0\n",
      "Best valid => 0.6944\n",
      "13 improve_cnt => 0\n",
      "14 improve_cnt => 1\n",
      "Best valid => 0.7294\n",
      "15 improve_cnt => 0\n",
      "16 improve_cnt => 1\n",
      "17 improve_cnt => 2\n",
      "18 improve_cnt => 3\n",
      "19 improve_cnt => 4\n",
      "Early stopping at epoch 19\n"
     ]
    },
    {
     "data": {
      "text/plain": "<Figure size 640x480 with 2 Axes>",
      "image/png": "[encoded data removed]"
     },
     "metadata": {},
     "output_type": "display_data"
    },
    {
     "data": {
      "text/plain": "<Figure size 640x480 with 2 Axes>",
      "image/png": "[encoded data removed]"
     },
     "metadata": {},
     "output_type": "display_data"
    }
   ],
   "source": [
    "# 지정된 횟수 만큼 처음부터 ~ 끝까지 학습 및 검증 진행 \n",
    "# 목표 : 최적(Error 최소화)의 W, b를 가진 모델 완성 \n",
    "\n",
    "# from torch.optim.lr_scheduler import ReduceLROnPlateau\n",
    "best_valid_f1 = float('-inf')\n",
    "patience = 5\n",
    "improve_cnt = 0\n",
    "\n",
    "train_loss_f1 = [[],[]]\n",
    "val_loss_f1 = [[],[]]\n",
    "\n",
    "for eps in range(EPOCHS):\n",
    "    train_loss, train_f1 = training() # 학습\n",
    "    train_loss_f1[0].append(train_loss)\n",
    "    train_loss_f1[1].append(train_f1)\n",
    "    \n",
    "    valid_loss, val_f1 = testing() # 검증 \n",
    "    val_loss_f1[0].append(valid_loss)\n",
    "    val_loss_f1[1].append(val_f1)\n",
    "    \n",
    "    # print(f\"[{eps}/{EPOCHS}] \\nTRAIN {sum(train_loss)/len(train_loss)} \\nVALID : {sum(valid_loss)/len(valid_loss)}\\n\\n\")\n",
    "    print(eps, f\"improve_cnt => {improve_cnt}\")\n",
    "    \n",
    "    if val_f1 > best_valid_f1:\n",
    "        best_valid_f1 = round(val_f1, 4)\n",
    "        improve_cnt = 0\n",
    "        print(f\"Best valid => {best_valid_f1}\")\n",
    "    else:\n",
    "        improve_cnt += 1\n",
    "        if improve_cnt >= patience:\n",
    "            print(f\"Early stopping at epoch {eps}\")\n",
    "            break\n",
    "    \n",
    "            \n",
    "plt_graph(train_loss_f1)\n",
    "plt_graph(val_loss_f1)"
   ],
   "metadata": {
    "collapsed": false,
    "ExecuteTime": {
     "end_time": "2024-03-19T12:42:33.322377700Z",
     "start_time": "2024-03-19T12:40:39.921247200Z"
    }
   },
   "id": "d894ca6ccb37b241",
   "execution_count": 328
  },
  {
   "cell_type": "markdown",
   "source": [
    "# 예측 진행"
   ],
   "metadata": {
    "collapsed": false
   },
   "id": "2df89118b51e8d78"
  },
  {
   "cell_type": "code",
   "outputs": [],
   "source": [
    "def prediction():\n",
    "    # prediction에는 loss 필요없다\n",
    "    # 추론 모드 => 정규화, 경사하강법, 드랍아웃 등의 기능 비활성화\n",
    "    model.eval()\n",
    "    \n",
    "    with torch.no_grad():\n",
    "        # 배치크기 만큼 학습 진행 및 저장 \n",
    "        pred_acc = []\n",
    "        for cnt, (feature, target) in enumerate(testDL):\n",
    "            \n",
    "            feature, target = feature.to(DEVICE), target.to(DEVICE)\n",
    "            target = target.squeeze().type(torch.float32)\n",
    "        \n",
    "            # 학습 \n",
    "            pre_target = model(feature)\n",
    "            # print(f\"pre_target => {pre_target.shape}, {pre_target.ndim}D\")\n",
    "            # print(f\"target => {target.shape}, {target.ndim}D\")\n",
    "            \n",
    "            \n",
    "            acc = (pre_target.max(dim=1).indices == target.max(dim=1).indices).sum() / len(pre_target)\n",
    "            pred_acc.append(acc)\n",
    "            \n",
    "    return np.mean(pred_acc)"
   ],
   "metadata": {
    "collapsed": false,
    "ExecuteTime": {
     "end_time": "2024-03-19T12:46:46.791535400Z",
     "start_time": "2024-03-19T12:46:46.773336500Z"
    }
   },
   "id": "4c587c150fa58e63",
   "execution_count": 331
  },
  {
   "cell_type": "code",
   "outputs": [
    {
     "name": "stdout",
     "output_type": "stream",
     "text": [
      "predict accuracy => 0.6650\n"
     ]
    }
   ],
   "source": [
    "p_f1 = prediction()\n",
    "print(f\"predict accuracy => {p_f1:.4f}\")"
   ],
   "metadata": {
    "collapsed": false,
    "ExecuteTime": {
     "end_time": "2024-03-19T12:46:46.937651Z",
     "start_time": "2024-03-19T12:46:46.896146900Z"
    }
   },
   "id": "7921dee4ac7468ba",
   "execution_count": 332
  },
  {
   "cell_type": "code",
   "outputs": [
    {
     "data": {
      "text/plain": "<Figure size 640x480 with 2 Axes>",
      "image/png": "[encoded data removed]"
     },
     "metadata": {},
     "output_type": "display_data"
    },
    {
     "data": {
      "text/plain": "<Figure size 640x480 with 2 Axes>",
      "image/png": "[encoded data removed]"
     },
     "metadata": {},
     "output_type": "display_data"
    },
    {
     "name": "stdout",
     "output_type": "stream",
     "text": [
      "[2655, 100, 9]\n",
      "predict f1_score => 0.6625\n"
     ]
    },
    {
     "ename": "KeyboardInterrupt",
     "evalue": "",
     "output_type": "error",
     "traceback": [
      "\u001B[1;31m---------------------------------------------------------------------------\u001B[0m",
      "\u001B[1;31mKeyboardInterrupt\u001B[0m                         Traceback (most recent call last)",
      "Cell \u001B[1;32mIn[386], line 39\u001B[0m\n\u001B[0;32m     36\u001B[0m val_loss_f1 \u001B[38;5;241m=\u001B[39m [[],[]]\n\u001B[0;32m     38\u001B[0m \u001B[38;5;28;01mfor\u001B[39;00m eps \u001B[38;5;129;01min\u001B[39;00m \u001B[38;5;28mrange\u001B[39m(EPOCHS):\n\u001B[1;32m---> 39\u001B[0m     train_loss, train_f1 \u001B[38;5;241m=\u001B[39m \u001B[43mtraining\u001B[49m\u001B[43m(\u001B[49m\u001B[43m)\u001B[49m \u001B[38;5;66;03m# 학습\u001B[39;00m\n\u001B[0;32m     40\u001B[0m     train_loss_f1[\u001B[38;5;241m0\u001B[39m]\u001B[38;5;241m.\u001B[39mappend(train_loss)\n\u001B[0;32m     41\u001B[0m     train_loss_f1[\u001B[38;5;241m1\u001B[39m]\u001B[38;5;241m.\u001B[39mappend(train_f1)\n",
      "Cell \u001B[1;32mIn[326], line 28\u001B[0m, in \u001B[0;36mtraining\u001B[1;34m()\u001B[0m\n\u001B[0;32m     26\u001B[0m OPTIMIZER\u001B[38;5;241m.\u001B[39mzero_grad() \u001B[38;5;66;03m# 초기화\u001B[39;00m\n\u001B[0;32m     27\u001B[0m loss\u001B[38;5;241m.\u001B[39mbackward() \n\u001B[1;32m---> 28\u001B[0m \u001B[43mOPTIMIZER\u001B[49m\u001B[38;5;241;43m.\u001B[39;49m\u001B[43mstep\u001B[49m\u001B[43m(\u001B[49m\u001B[43m)\u001B[49m\n\u001B[0;32m     30\u001B[0m \u001B[38;5;66;03m# print(pre_target.max(dim=1).indices)\u001B[39;00m\n\u001B[0;32m     31\u001B[0m \u001B[38;5;66;03m# print(target.max(dim=1).indices)\u001B[39;00m\n\u001B[0;32m     33\u001B[0m f1 \u001B[38;5;241m=\u001B[39m f1_score(pre_target\u001B[38;5;241m.\u001B[39mmax(dim\u001B[38;5;241m=\u001B[39m\u001B[38;5;241m1\u001B[39m)\u001B[38;5;241m.\u001B[39mindices,target\u001B[38;5;241m.\u001B[39mmax(dim\u001B[38;5;241m=\u001B[39m\u001B[38;5;241m1\u001B[39m)\u001B[38;5;241m.\u001B[39mindices, average\u001B[38;5;241m=\u001B[39m\u001B[38;5;124m\"\u001B[39m\u001B[38;5;124mmacro\u001B[39m\u001B[38;5;124m\"\u001B[39m)\n",
      "File \u001B[1;32m~\\anaconda3\\envs\\Torch_PY38\\lib\\site-packages\\torch\\optim\\optimizer.py:385\u001B[0m, in \u001B[0;36mOptimizer.profile_hook_step.<locals>.wrapper\u001B[1;34m(*args, **kwargs)\u001B[0m\n\u001B[0;32m    380\u001B[0m         \u001B[38;5;28;01melse\u001B[39;00m:\n\u001B[0;32m    381\u001B[0m             \u001B[38;5;28;01mraise\u001B[39;00m \u001B[38;5;167;01mRuntimeError\u001B[39;00m(\n\u001B[0;32m    382\u001B[0m                 \u001B[38;5;124mf\u001B[39m\u001B[38;5;124m\"\u001B[39m\u001B[38;5;132;01m{\u001B[39;00mfunc\u001B[38;5;132;01m}\u001B[39;00m\u001B[38;5;124m must return None or a tuple of (new_args, new_kwargs), but got \u001B[39m\u001B[38;5;132;01m{\u001B[39;00mresult\u001B[38;5;132;01m}\u001B[39;00m\u001B[38;5;124m.\u001B[39m\u001B[38;5;124m\"\u001B[39m\n\u001B[0;32m    383\u001B[0m             )\n\u001B[1;32m--> 385\u001B[0m out \u001B[38;5;241m=\u001B[39m \u001B[43mfunc\u001B[49m\u001B[43m(\u001B[49m\u001B[38;5;241;43m*\u001B[39;49m\u001B[43margs\u001B[49m\u001B[43m,\u001B[49m\u001B[43m \u001B[49m\u001B[38;5;241;43m*\u001B[39;49m\u001B[38;5;241;43m*\u001B[39;49m\u001B[43mkwargs\u001B[49m\u001B[43m)\u001B[49m\n\u001B[0;32m    386\u001B[0m \u001B[38;5;28mself\u001B[39m\u001B[38;5;241m.\u001B[39m_optimizer_step_code()\n\u001B[0;32m    388\u001B[0m \u001B[38;5;66;03m# call optimizer step post hooks\u001B[39;00m\n",
      "File \u001B[1;32m~\\anaconda3\\envs\\Torch_PY38\\lib\\site-packages\\torch\\optim\\optimizer.py:76\u001B[0m, in \u001B[0;36m_use_grad_for_differentiable.<locals>._use_grad\u001B[1;34m(self, *args, **kwargs)\u001B[0m\n\u001B[0;32m     74\u001B[0m     torch\u001B[38;5;241m.\u001B[39mset_grad_enabled(\u001B[38;5;28mself\u001B[39m\u001B[38;5;241m.\u001B[39mdefaults[\u001B[38;5;124m'\u001B[39m\u001B[38;5;124mdifferentiable\u001B[39m\u001B[38;5;124m'\u001B[39m])\n\u001B[0;32m     75\u001B[0m     torch\u001B[38;5;241m.\u001B[39m_dynamo\u001B[38;5;241m.\u001B[39mgraph_break()\n\u001B[1;32m---> 76\u001B[0m     ret \u001B[38;5;241m=\u001B[39m \u001B[43mfunc\u001B[49m\u001B[43m(\u001B[49m\u001B[38;5;28;43mself\u001B[39;49m\u001B[43m,\u001B[49m\u001B[43m \u001B[49m\u001B[38;5;241;43m*\u001B[39;49m\u001B[43margs\u001B[49m\u001B[43m,\u001B[49m\u001B[43m \u001B[49m\u001B[38;5;241;43m*\u001B[39;49m\u001B[38;5;241;43m*\u001B[39;49m\u001B[43mkwargs\u001B[49m\u001B[43m)\u001B[49m\n\u001B[0;32m     77\u001B[0m \u001B[38;5;28;01mfinally\u001B[39;00m:\n\u001B[0;32m     78\u001B[0m     torch\u001B[38;5;241m.\u001B[39m_dynamo\u001B[38;5;241m.\u001B[39mgraph_break()\n",
      "File \u001B[1;32m~\\anaconda3\\envs\\Torch_PY38\\lib\\site-packages\\torch\\optim\\adam.py:166\u001B[0m, in \u001B[0;36mAdam.step\u001B[1;34m(self, closure)\u001B[0m\n\u001B[0;32m    155\u001B[0m     beta1, beta2 \u001B[38;5;241m=\u001B[39m group[\u001B[38;5;124m'\u001B[39m\u001B[38;5;124mbetas\u001B[39m\u001B[38;5;124m'\u001B[39m]\n\u001B[0;32m    157\u001B[0m     has_complex \u001B[38;5;241m=\u001B[39m \u001B[38;5;28mself\u001B[39m\u001B[38;5;241m.\u001B[39m_init_group(\n\u001B[0;32m    158\u001B[0m         group,\n\u001B[0;32m    159\u001B[0m         params_with_grad,\n\u001B[1;32m   (...)\u001B[0m\n\u001B[0;32m    163\u001B[0m         max_exp_avg_sqs,\n\u001B[0;32m    164\u001B[0m         state_steps)\n\u001B[1;32m--> 166\u001B[0m     \u001B[43madam\u001B[49m\u001B[43m(\u001B[49m\n\u001B[0;32m    167\u001B[0m \u001B[43m        \u001B[49m\u001B[43mparams_with_grad\u001B[49m\u001B[43m,\u001B[49m\n\u001B[0;32m    168\u001B[0m \u001B[43m        \u001B[49m\u001B[43mgrads\u001B[49m\u001B[43m,\u001B[49m\n\u001B[0;32m    169\u001B[0m \u001B[43m        \u001B[49m\u001B[43mexp_avgs\u001B[49m\u001B[43m,\u001B[49m\n\u001B[0;32m    170\u001B[0m \u001B[43m        \u001B[49m\u001B[43mexp_avg_sqs\u001B[49m\u001B[43m,\u001B[49m\n\u001B[0;32m    171\u001B[0m \u001B[43m        \u001B[49m\u001B[43mmax_exp_avg_sqs\u001B[49m\u001B[43m,\u001B[49m\n\u001B[0;32m    172\u001B[0m \u001B[43m        \u001B[49m\u001B[43mstate_steps\u001B[49m\u001B[43m,\u001B[49m\n\u001B[0;32m    173\u001B[0m \u001B[43m        \u001B[49m\u001B[43mamsgrad\u001B[49m\u001B[38;5;241;43m=\u001B[39;49m\u001B[43mgroup\u001B[49m\u001B[43m[\u001B[49m\u001B[38;5;124;43m'\u001B[39;49m\u001B[38;5;124;43mamsgrad\u001B[39;49m\u001B[38;5;124;43m'\u001B[39;49m\u001B[43m]\u001B[49m\u001B[43m,\u001B[49m\n\u001B[0;32m    174\u001B[0m \u001B[43m        \u001B[49m\u001B[43mhas_complex\u001B[49m\u001B[38;5;241;43m=\u001B[39;49m\u001B[43mhas_complex\u001B[49m\u001B[43m,\u001B[49m\n\u001B[0;32m    175\u001B[0m \u001B[43m        \u001B[49m\u001B[43mbeta1\u001B[49m\u001B[38;5;241;43m=\u001B[39;49m\u001B[43mbeta1\u001B[49m\u001B[43m,\u001B[49m\n\u001B[0;32m    176\u001B[0m \u001B[43m        \u001B[49m\u001B[43mbeta2\u001B[49m\u001B[38;5;241;43m=\u001B[39;49m\u001B[43mbeta2\u001B[49m\u001B[43m,\u001B[49m\n\u001B[0;32m    177\u001B[0m \u001B[43m        \u001B[49m\u001B[43mlr\u001B[49m\u001B[38;5;241;43m=\u001B[39;49m\u001B[43mgroup\u001B[49m\u001B[43m[\u001B[49m\u001B[38;5;124;43m'\u001B[39;49m\u001B[38;5;124;43mlr\u001B[39;49m\u001B[38;5;124;43m'\u001B[39;49m\u001B[43m]\u001B[49m\u001B[43m,\u001B[49m\n\u001B[0;32m    178\u001B[0m \u001B[43m        \u001B[49m\u001B[43mweight_decay\u001B[49m\u001B[38;5;241;43m=\u001B[39;49m\u001B[43mgroup\u001B[49m\u001B[43m[\u001B[49m\u001B[38;5;124;43m'\u001B[39;49m\u001B[38;5;124;43mweight_decay\u001B[39;49m\u001B[38;5;124;43m'\u001B[39;49m\u001B[43m]\u001B[49m\u001B[43m,\u001B[49m\n\u001B[0;32m    179\u001B[0m \u001B[43m        \u001B[49m\u001B[43meps\u001B[49m\u001B[38;5;241;43m=\u001B[39;49m\u001B[43mgroup\u001B[49m\u001B[43m[\u001B[49m\u001B[38;5;124;43m'\u001B[39;49m\u001B[38;5;124;43meps\u001B[39;49m\u001B[38;5;124;43m'\u001B[39;49m\u001B[43m]\u001B[49m\u001B[43m,\u001B[49m\n\u001B[0;32m    180\u001B[0m \u001B[43m        \u001B[49m\u001B[43mmaximize\u001B[49m\u001B[38;5;241;43m=\u001B[39;49m\u001B[43mgroup\u001B[49m\u001B[43m[\u001B[49m\u001B[38;5;124;43m'\u001B[39;49m\u001B[38;5;124;43mmaximize\u001B[39;49m\u001B[38;5;124;43m'\u001B[39;49m\u001B[43m]\u001B[49m\u001B[43m,\u001B[49m\n\u001B[0;32m    181\u001B[0m \u001B[43m        \u001B[49m\u001B[43mforeach\u001B[49m\u001B[38;5;241;43m=\u001B[39;49m\u001B[43mgroup\u001B[49m\u001B[43m[\u001B[49m\u001B[38;5;124;43m'\u001B[39;49m\u001B[38;5;124;43mforeach\u001B[39;49m\u001B[38;5;124;43m'\u001B[39;49m\u001B[43m]\u001B[49m\u001B[43m,\u001B[49m\n\u001B[0;32m    182\u001B[0m \u001B[43m        \u001B[49m\u001B[43mcapturable\u001B[49m\u001B[38;5;241;43m=\u001B[39;49m\u001B[43mgroup\u001B[49m\u001B[43m[\u001B[49m\u001B[38;5;124;43m'\u001B[39;49m\u001B[38;5;124;43mcapturable\u001B[39;49m\u001B[38;5;124;43m'\u001B[39;49m\u001B[43m]\u001B[49m\u001B[43m,\u001B[49m\n\u001B[0;32m    183\u001B[0m \u001B[43m        \u001B[49m\u001B[43mdifferentiable\u001B[49m\u001B[38;5;241;43m=\u001B[39;49m\u001B[43mgroup\u001B[49m\u001B[43m[\u001B[49m\u001B[38;5;124;43m'\u001B[39;49m\u001B[38;5;124;43mdifferentiable\u001B[39;49m\u001B[38;5;124;43m'\u001B[39;49m\u001B[43m]\u001B[49m\u001B[43m,\u001B[49m\n\u001B[0;32m    184\u001B[0m \u001B[43m        \u001B[49m\u001B[43mfused\u001B[49m\u001B[38;5;241;43m=\u001B[39;49m\u001B[43mgroup\u001B[49m\u001B[43m[\u001B[49m\u001B[38;5;124;43m'\u001B[39;49m\u001B[38;5;124;43mfused\u001B[39;49m\u001B[38;5;124;43m'\u001B[39;49m\u001B[43m]\u001B[49m\u001B[43m,\u001B[49m\n\u001B[0;32m    185\u001B[0m \u001B[43m        \u001B[49m\u001B[43mgrad_scale\u001B[49m\u001B[38;5;241;43m=\u001B[39;49m\u001B[38;5;28;43mgetattr\u001B[39;49m\u001B[43m(\u001B[49m\u001B[38;5;28;43mself\u001B[39;49m\u001B[43m,\u001B[49m\u001B[43m \u001B[49m\u001B[38;5;124;43m\"\u001B[39;49m\u001B[38;5;124;43mgrad_scale\u001B[39;49m\u001B[38;5;124;43m\"\u001B[39;49m\u001B[43m,\u001B[49m\u001B[43m \u001B[49m\u001B[38;5;28;43;01mNone\u001B[39;49;00m\u001B[43m)\u001B[49m\u001B[43m,\u001B[49m\n\u001B[0;32m    186\u001B[0m \u001B[43m        \u001B[49m\u001B[43mfound_inf\u001B[49m\u001B[38;5;241;43m=\u001B[39;49m\u001B[38;5;28;43mgetattr\u001B[39;49m\u001B[43m(\u001B[49m\u001B[38;5;28;43mself\u001B[39;49m\u001B[43m,\u001B[49m\u001B[43m \u001B[49m\u001B[38;5;124;43m\"\u001B[39;49m\u001B[38;5;124;43mfound_inf\u001B[39;49m\u001B[38;5;124;43m\"\u001B[39;49m\u001B[43m,\u001B[49m\u001B[43m \u001B[49m\u001B[38;5;28;43;01mNone\u001B[39;49;00m\u001B[43m)\u001B[49m\u001B[43m,\u001B[49m\n\u001B[0;32m    187\u001B[0m \u001B[43m    \u001B[49m\u001B[43m)\u001B[49m\n\u001B[0;32m    189\u001B[0m \u001B[38;5;28;01mreturn\u001B[39;00m loss\n",
      "File \u001B[1;32m~\\anaconda3\\envs\\Torch_PY38\\lib\\site-packages\\torch\\optim\\adam.py:316\u001B[0m, in \u001B[0;36madam\u001B[1;34m(params, grads, exp_avgs, exp_avg_sqs, max_exp_avg_sqs, state_steps, foreach, capturable, differentiable, fused, grad_scale, found_inf, has_complex, amsgrad, beta1, beta2, lr, weight_decay, eps, maximize)\u001B[0m\n\u001B[0;32m    313\u001B[0m \u001B[38;5;28;01melse\u001B[39;00m:\n\u001B[0;32m    314\u001B[0m     func \u001B[38;5;241m=\u001B[39m _single_tensor_adam\n\u001B[1;32m--> 316\u001B[0m \u001B[43mfunc\u001B[49m\u001B[43m(\u001B[49m\u001B[43mparams\u001B[49m\u001B[43m,\u001B[49m\n\u001B[0;32m    317\u001B[0m \u001B[43m     \u001B[49m\u001B[43mgrads\u001B[49m\u001B[43m,\u001B[49m\n\u001B[0;32m    318\u001B[0m \u001B[43m     \u001B[49m\u001B[43mexp_avgs\u001B[49m\u001B[43m,\u001B[49m\n\u001B[0;32m    319\u001B[0m \u001B[43m     \u001B[49m\u001B[43mexp_avg_sqs\u001B[49m\u001B[43m,\u001B[49m\n\u001B[0;32m    320\u001B[0m \u001B[43m     \u001B[49m\u001B[43mmax_exp_avg_sqs\u001B[49m\u001B[43m,\u001B[49m\n\u001B[0;32m    321\u001B[0m \u001B[43m     \u001B[49m\u001B[43mstate_steps\u001B[49m\u001B[43m,\u001B[49m\n\u001B[0;32m    322\u001B[0m \u001B[43m     \u001B[49m\u001B[43mamsgrad\u001B[49m\u001B[38;5;241;43m=\u001B[39;49m\u001B[43mamsgrad\u001B[49m\u001B[43m,\u001B[49m\n\u001B[0;32m    323\u001B[0m \u001B[43m     \u001B[49m\u001B[43mhas_complex\u001B[49m\u001B[38;5;241;43m=\u001B[39;49m\u001B[43mhas_complex\u001B[49m\u001B[43m,\u001B[49m\n\u001B[0;32m    324\u001B[0m \u001B[43m     \u001B[49m\u001B[43mbeta1\u001B[49m\u001B[38;5;241;43m=\u001B[39;49m\u001B[43mbeta1\u001B[49m\u001B[43m,\u001B[49m\n\u001B[0;32m    325\u001B[0m \u001B[43m     \u001B[49m\u001B[43mbeta2\u001B[49m\u001B[38;5;241;43m=\u001B[39;49m\u001B[43mbeta2\u001B[49m\u001B[43m,\u001B[49m\n\u001B[0;32m    326\u001B[0m \u001B[43m     \u001B[49m\u001B[43mlr\u001B[49m\u001B[38;5;241;43m=\u001B[39;49m\u001B[43mlr\u001B[49m\u001B[43m,\u001B[49m\n\u001B[0;32m    327\u001B[0m \u001B[43m     \u001B[49m\u001B[43mweight_decay\u001B[49m\u001B[38;5;241;43m=\u001B[39;49m\u001B[43mweight_decay\u001B[49m\u001B[43m,\u001B[49m\n\u001B[0;32m    328\u001B[0m \u001B[43m     \u001B[49m\u001B[43meps\u001B[49m\u001B[38;5;241;43m=\u001B[39;49m\u001B[43meps\u001B[49m\u001B[43m,\u001B[49m\n\u001B[0;32m    329\u001B[0m \u001B[43m     \u001B[49m\u001B[43mmaximize\u001B[49m\u001B[38;5;241;43m=\u001B[39;49m\u001B[43mmaximize\u001B[49m\u001B[43m,\u001B[49m\n\u001B[0;32m    330\u001B[0m \u001B[43m     \u001B[49m\u001B[43mcapturable\u001B[49m\u001B[38;5;241;43m=\u001B[39;49m\u001B[43mcapturable\u001B[49m\u001B[43m,\u001B[49m\n\u001B[0;32m    331\u001B[0m \u001B[43m     \u001B[49m\u001B[43mdifferentiable\u001B[49m\u001B[38;5;241;43m=\u001B[39;49m\u001B[43mdifferentiable\u001B[49m\u001B[43m,\u001B[49m\n\u001B[0;32m    332\u001B[0m \u001B[43m     \u001B[49m\u001B[43mgrad_scale\u001B[49m\u001B[38;5;241;43m=\u001B[39;49m\u001B[43mgrad_scale\u001B[49m\u001B[43m,\u001B[49m\n\u001B[0;32m    333\u001B[0m \u001B[43m     \u001B[49m\u001B[43mfound_inf\u001B[49m\u001B[38;5;241;43m=\u001B[39;49m\u001B[43mfound_inf\u001B[49m\u001B[43m)\u001B[49m\n",
      "File \u001B[1;32m~\\anaconda3\\envs\\Torch_PY38\\lib\\site-packages\\torch\\optim\\adam.py:441\u001B[0m, in \u001B[0;36m_single_tensor_adam\u001B[1;34m(params, grads, exp_avgs, exp_avg_sqs, max_exp_avg_sqs, state_steps, grad_scale, found_inf, amsgrad, has_complex, beta1, beta2, lr, weight_decay, eps, maximize, capturable, differentiable)\u001B[0m\n\u001B[0;32m    438\u001B[0m     \u001B[38;5;28;01melse\u001B[39;00m:\n\u001B[0;32m    439\u001B[0m         denom \u001B[38;5;241m=\u001B[39m (exp_avg_sq\u001B[38;5;241m.\u001B[39msqrt() \u001B[38;5;241m/\u001B[39m bias_correction2_sqrt)\u001B[38;5;241m.\u001B[39madd_(eps)\n\u001B[1;32m--> 441\u001B[0m     \u001B[43mparam\u001B[49m\u001B[38;5;241;43m.\u001B[39;49m\u001B[43maddcdiv_\u001B[49m\u001B[43m(\u001B[49m\u001B[43mexp_avg\u001B[49m\u001B[43m,\u001B[49m\u001B[43m \u001B[49m\u001B[43mdenom\u001B[49m\u001B[43m,\u001B[49m\u001B[43m \u001B[49m\u001B[43mvalue\u001B[49m\u001B[38;5;241;43m=\u001B[39;49m\u001B[38;5;241;43m-\u001B[39;49m\u001B[43mstep_size\u001B[49m\u001B[43m)\u001B[49m\n\u001B[0;32m    443\u001B[0m \u001B[38;5;66;03m# Lastly, switch back to complex view\u001B[39;00m\n\u001B[0;32m    444\u001B[0m \u001B[38;5;28;01mif\u001B[39;00m amsgrad \u001B[38;5;129;01mand\u001B[39;00m torch\u001B[38;5;241m.\u001B[39mis_complex(params[i]):\n",
      "\u001B[1;31mKeyboardInterrupt\u001B[0m: "
     ]
    }
   ],
   "source": [
    "#######################퍼셉트론 개수 전용\n",
    "perceptron_list = [] # [[IN_DIM, 100, OUT_DIM], [IN_DIM, 200, OUT_DIM]]\n",
    "for i in range(100, 2000, 400):\n",
    "    temp = [IN_DIM, i, OUT_DIM]\n",
    "    perceptron_list.append(temp)\n",
    "#######################################\n",
    "\n",
    "perceptron_f1_list = [[], []]\n",
    "train_loss_f1_list = []\n",
    "val_loss_f1_list = []\n",
    "\n",
    "for perceptron_nums in perceptron_list:\n",
    "    model = MyModel(IN_DIM, OUT_DIM, HIDDEN_NUM+2, perceptron_nums).to(DEVICE)\n",
    "    \n",
    "    # 가중치 초기화\n",
    "    for layer in model.layers:\n",
    "        # print(f\"{layer} => nn.Linear T/F? {isinstance(layer, nn.Linear)}\")\n",
    "        # print()\n",
    "        if isinstance(layer, nn.Linear) == True:\n",
    "            nn.init.xavier_uniform_(layer.weight)\n",
    "            \n",
    "    # 손실함수 인스턴스 생성\n",
    "    LOSS_FN = nn.CrossEntropyLoss().to(DEVICE) # 다중분류니까\n",
    "    \n",
    "    # 최적화 인스턴스 생성\n",
    "    OPTIMIZER = optim.Adam(model.parameters()) # lr = default 사용\n",
    "    \n",
    "    # 반복 횟수\n",
    "    EPOCHS = 30\n",
    "    \n",
    "    best_valid_f1 = float('-inf')\n",
    "    patience = 5\n",
    "    improve_cnt = 0\n",
    "    \n",
    "    train_loss_f1 = [[],[]]\n",
    "    val_loss_f1 = [[],[]]\n",
    "    \n",
    "    for eps in range(EPOCHS):\n",
    "        train_loss, train_f1 = training() # 학습\n",
    "        train_loss_f1[0].append(train_loss)\n",
    "        train_loss_f1[1].append(train_f1)\n",
    "        \n",
    "        valid_loss, val_f1 = testing() # 검증 \n",
    "        val_loss_f1[0].append(valid_loss)\n",
    "        val_loss_f1[1].append(val_f1)\n",
    "        \n",
    "        # print(f\"[{eps}/{EPOCHS}] \\nTRAIN {sum(train_loss)/len(train_loss)} \\nVALID : {sum(valid_loss)/len(valid_loss)}\\n\\n\")\n",
    "        # print(eps, f\"improve_cnt => {improve_cnt}\")\n",
    "        \n",
    "        if val_f1 > best_valid_f1:\n",
    "            best_valid_f1 = round(val_f1, 4)\n",
    "            improve_cnt = 0\n",
    "            # print(f\"Best valid => {best_valid_f1}\")\n",
    "        else:\n",
    "            improve_cnt += 1\n",
    "            if improve_cnt >= patience:\n",
    "                # print(f\"Early stopping at epoch {eps}\")\n",
    "                break\n",
    "        \n",
    "    plt_graph(train_loss_f1)\n",
    "    plt_graph(val_loss_f1)\n",
    "    train_loss_f1_list.append(train_loss_f1)\n",
    "    val_loss_f1_list.append(val_loss_f1)\n",
    "    \n",
    "    p_f1 = prediction()\n",
    "    print(perceptron_nums)\n",
    "    print(f\"predict f1_score => {p_f1:.4f}\")\n",
    "    torch.save(model, f'../data/model/mymodel{perceptron_nums[1]}.pt')\n",
    "    perceptron_f1_list[0].append(perceptron_nums[1])\n",
    "    perceptron_f1_list[1].append(p_f1)"
   ],
   "metadata": {
    "collapsed": false,
    "ExecuteTime": {
     "end_time": "2024-03-20T02:58:46.972711700Z",
     "start_time": "2024-03-20T02:57:53.382008Z"
    }
   },
   "id": "b34c1408ceec51bd",
   "execution_count": 386
  },
  {
   "cell_type": "markdown",
   "source": [
    "=> 단순히 퍼셉트론 수만 바꾸는 것은 의미가 없는 것 같음!! "
   ],
   "metadata": {
    "collapsed": false
   },
   "id": "a44d1bb791d5a37a"
  },
  {
   "cell_type": "code",
   "outputs": [],
   "source": [
    "fig, ax1 = plt.subplots()\n",
    "ax1.plot(perceptron_f1_list[0], perceptron_f1_list[1], label='loss', color=\"g\")\n",
    "\n",
    "ax1.scatter(perceptron_f1_list[0], perceptron_f1_list[1], color='r', label='data points')\n",
    "\n",
    "# plt.plot(loss_accuracy[0], label='loss')\n",
    "# plt.plot(loss_accuracy[1], label='accuracy')\n",
    "\n",
    "# ax1.legend(loc='upper left')\n",
    "# ax2.legend(loc='upper right')\n",
    "\n",
    "plt.ylabel(\"TEST_SET f1 score\")\n",
    "plt.xlabel(\"perceptron_num\")\n",
    "plt.grid()\n",
    "plt.show()"
   ],
   "metadata": {
    "collapsed": false,
    "ExecuteTime": {
     "start_time": "2024-03-20T02:58:46.962646500Z"
    }
   },
   "id": "df1dc07ccfe4f239",
   "execution_count": null
  },
  {
   "cell_type": "code",
   "outputs": [],
   "source": [],
   "metadata": {
    "collapsed": false
   },
   "id": "d388145388376770"
  }
 ],
 "metadata": {
  "kernelspec": {
   "display_name": "Python 3",
   "language": "python",
   "name": "python3"
  },
  "language_info": {
   "codemirror_mode": {
    "name": "ipython",
    "version": 2
   },
   "file_extension": ".py",
   "mimetype": "text/x-python",
   "name": "python",
   "nbconvert_exporter": "python",
   "pygments_lexer": "ipython2",
   "version": "2.7.6"
  }
 },
 "nbformat": 4,
 "nbformat_minor": 5
}
