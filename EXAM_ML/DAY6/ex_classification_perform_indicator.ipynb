{
 "cells": [
  {
   "cell_type": "markdown",
   "id": "fb5662a0-bc48-4582-9e5d-d4c872c3e1f6",
   "metadata": {},
   "source": [
    "# 분류 모델 성능 지표"
   ]
  },
  {
   "cell_type": "markdown",
   "id": "4d810752-cd9c-4e5c-b2ca-2a390946dc33",
   "metadata": {},
   "source": [
    "- 모델 구현 후 성능 평가 방식\n",
    "- 정확도(Accuracy) : 불균형 데이터 부적합\n",
    "- 보완 평가 방식 : 정밀도 precision, 재현율 recall, F1 score -> confusion matrix로 계산\n",
    "\n",
    "\n",
    "![텍스트](https://velog.velcdn.com/images%2Fsiyeon-hwang%2Fpost%2F2d11caa0-a055-4b9f-aa52-568f7be0dd0a%2Fimage.png)"
   ]
  },
  {
   "cell_type": "markdown",
   "id": "8d3eaca0-75dd-4b55-9b92-0d8258d6a303",
   "metadata": {},
   "source": [
    "## 1. 임시 데이터"
   ]
  },
  {
   "cell_type": "code",
   "execution_count": 10,
   "id": "9ed3179c-53fc-4415-8e92-a035dc6625c5",
   "metadata": {},
   "outputs": [],
   "source": [
    "y_true = [0 ,1 ,1, 0] # 답지 \n",
    "y_pred = [1, 1, 1, 0] # 예측치"
   ]
  },
  {
   "cell_type": "markdown",
   "id": "3be378ff-6491-4b02-9cef-ec5534007452",
   "metadata": {},
   "source": [
    "답 맞는 거 4개 중 3개"
   ]
  },
  {
   "cell_type": "markdown",
   "id": "072ce142-a338-4423-baf6-c957cff04864",
   "metadata": {},
   "source": [
    "## 2. 분류 평가지표"
   ]
  },
  {
   "cell_type": "code",
   "execution_count": 11,
   "id": "555fea51-234f-4b0e-9693-026992469a95",
   "metadata": {},
   "outputs": [
    {
     "name": "stdout",
     "output_type": "stream",
     "text": [
      "[분류 정확도] => 0.75\n"
     ]
    }
   ],
   "source": [
    "# 2-1 분류 정확도 => accuracy\n",
    "from sklearn.metrics import accuracy_score\n",
    "\n",
    "ret = accuracy_score(y_true, y_pred)\n",
    "print(f\"[분류 정확도] => {ret}\")"
   ]
  },
  {
   "cell_type": "markdown",
   "id": "2b77570f-cc81-4857-8204-45e897371d3a",
   "metadata": {},
   "source": [
    "[Logistic regression](https://scikit-learn.org/stable/modules/generated/sklearn.linear_model.LogisticRegression.html)의 score 까지 내려보면 accuracy를 사용한다고 되어있음"
   ]
  },
  {
   "cell_type": "code",
   "execution_count": 12,
   "id": "e8bbfdd8-58ce-4884-af6c-e495754a547a",
   "metadata": {},
   "outputs": [
    {
     "name": "stdout",
     "output_type": "stream",
     "text": [
      "[분류 정밀도] => 0.6666666666666666\n"
     ]
    }
   ],
   "source": [
    "# 2-2 정밀도 => precision : 정밀도(맞다고 한 것 중에 맞는 거)\n",
    "from sklearn.metrics import precision_score\n",
    "\n",
    "ret = precision_score(y_true, y_pred)\n",
    "print(f\"[분류 정밀도] => {ret}\")"
   ]
  },
  {
   "cell_type": "code",
   "execution_count": 13,
   "id": "f2d7652d-c085-4440-ad51-5e2bf9eea66d",
   "metadata": {},
   "outputs": [
    {
     "name": "stdout",
     "output_type": "stream",
     "text": [
      "[분류 재현율] => 1.0\n"
     ]
    }
   ],
   "source": [
    "# 2-3 재현율 => recall : 재현율(찐양성 중에 맞는 거)\n",
    "from sklearn.metrics import recall_score\n",
    "\n",
    "ret = recall_score(y_true, y_pred)\n",
    "print(f\"[분류 재현율] => {ret}\")"
   ]
  },
  {
   "cell_type": "code",
   "execution_count": 14,
   "id": "562c3160-be19-43a4-b0f8-0b1e69f1c661",
   "metadata": {},
   "outputs": [
    {
     "name": "stdout",
     "output_type": "stream",
     "text": [
      "[분류 재현율] => 0.8\n"
     ]
    }
   ],
   "source": [
    "# 2-4 f1 점수 => 정밀도와 재현율 상호보완 조화평균\n",
    "from sklearn.metrics import f1_score\n",
    "\n",
    "ret = f1_score(y_true, y_pred)\n",
    "print(f\"[분류 재현율] => {ret}\")"
   ]
  },
  {
   "cell_type": "markdown",
   "id": "8813ffa0-edc5-44ee-9186-df57a17161f7",
   "metadata": {},
   "source": [
    "상황에 따라 중요한 score가 따로 있음  \n",
    "- case 1 ) 암 양성 -> 음성 판단 -> 죽음 : 재현율(recall)이 더 중요  \n",
    "- case 2 ) 일반 메일 -> 양성 판단 -> 수신안됨 : 정밀도(precision)가 더 중요\n",
    "  \n",
    "단, 하나가 올라가면 하나는 내려가는 상충관계임을 유의"
   ]
  },
  {
   "cell_type": "code",
   "execution_count": 15,
   "id": "c213fcef-77d5-430d-bb15-011f179487b8",
   "metadata": {},
   "outputs": [],
   "source": [
    "# 2-5 confusion matrix 값 출력\n",
    "from sklearn.metrics import confusion_matrix"
   ]
  },
  {
   "cell_type": "code",
   "execution_count": 18,
   "id": "c07e96b9-e445-4336-b4d5-184c346281f4",
   "metadata": {},
   "outputs": [
    {
     "data": {
      "text/plain": [
       "array([[1, 1],\n",
       "       [0, 2]], dtype=int64)"
      ]
     },
     "execution_count": 18,
     "metadata": {},
     "output_type": "execute_result"
    }
   ],
   "source": [
    "ret_matrix = confusion_matrix(y_true, y_pred)\n",
    "ret_matrix"
   ]
  },
  {
   "cell_type": "code",
   "execution_count": 29,
   "id": "7b87e406-41a2-4876-a5c0-b6bb042ea4b2",
   "metadata": {},
   "outputs": [
    {
     "data": {
      "text/plain": [
       "(1, 1, 0, 2)"
      ]
     },
     "execution_count": 29,
     "metadata": {},
     "output_type": "execute_result"
    }
   ],
   "source": [
    "tn, fp, fn, tp = confusion_matrix(y_true, y_pred).ravel() \n",
    "# ravel() : 다차원 배열을 1차원으로 펴줌 \n",
    "tn, fp, fn, tp"
   ]
  },
  {
   "cell_type": "code",
   "execution_count": 23,
   "id": "c346a1c7-a2d9-4456-bb73-7e13b090b0c0",
   "metadata": {},
   "outputs": [],
   "source": [
    "# 정확도 정밀도 재현율 f1-score 계산\n",
    "accuracy = (tn + tp)/(tn + fp + fn + tp)# 정확도 accuracy\n",
    "precision = tp / (tp + fp) # 정밀도\n",
    "recall = tp / (tp + fn)# 재현율\n",
    "f1 = 2 * (recall * precision) / (recall + precision)"
   ]
  },
  {
   "cell_type": "code",
   "execution_count": 25,
   "id": "a7d30567-0227-4c07-b5c1-c4d55876fb00",
   "metadata": {},
   "outputs": [
    {
     "name": "stdout",
     "output_type": "stream",
     "text": [
      "정확도 => 0.75\n",
      "정밀도 => 0.6666666666666666\n",
      "재현율 => 1.0\n",
      "f1_score => 0.8\n"
     ]
    }
   ],
   "source": [
    "print(f\"정확도 => {accuracy}\")\n",
    "print(f\"정밀도 => {precision}\")\n",
    "print(f\"재현율 => {recall}\")\n",
    "print(f\"f1_score => {f1}\")"
   ]
  },
  {
   "cell_type": "code",
   "execution_count": 36,
   "id": "84723bdc-180c-46e8-af87-15d289f96fae",
   "metadata": {},
   "outputs": [
    {
     "data": {
      "image/png": "[encoded data removed]",
      "text/plain": [
       "<Figure size 640x480 with 2 Axes>"
      ]
     },
     "metadata": {},
     "output_type": "display_data"
    }
   ],
   "source": [
    "import matplotlib.pyplot as plt\n",
    "from sklearn.metrics import ConfusionMatrixDisplay\n",
    "ret_matrix = confusion_matrix(y_true, y_pred)\n",
    "conplot = ConfusionMatrixDisplay(ret_matrix)\n",
    "conplot.plot()\n",
    "plt.show()"
   ]
  },
  {
   "cell_type": "markdown",
   "id": "7ff2df6c-d8c3-4c73-add8-f61c086017cb",
   "metadata": {},
   "source": [
    "OVO OVR 중 일반적으로 OVR을 사용 "
   ]
  },
  {
   "cell_type": "code",
   "execution_count": null,
   "id": "8e8687d0-1e82-4536-8403-43951e24af27",
   "metadata": {},
   "outputs": [],
   "source": []
  },
  {
   "cell_type": "code",
   "execution_count": 27,
   "id": "c8c96d73-ef35-4a22-865c-45563de533cc",
   "metadata": {},
   "outputs": [
    {
     "data": {
      "text/plain": [
       "array([[1, 1, 0, 2]], dtype=int64)"
      ]
     },
     "execution_count": 27,
     "metadata": {},
     "output_type": "execute_result"
    }
   ],
   "source": [
    "confusion_matrix(y_true, y_pred).reshape(1,-1)"
   ]
  },
  {
   "cell_type": "code",
   "execution_count": 28,
   "id": "369f6434-7358-4ec4-8de6-f4879f821d0e",
   "metadata": {},
   "outputs": [
    {
     "data": {
      "text/plain": [
       "array([1, 1, 0, 2], dtype=int64)"
      ]
     },
     "execution_count": 28,
     "metadata": {},
     "output_type": "execute_result"
    }
   ],
   "source": [
    "confusion_matrix(y_true, y_pred).reshape(-1)"
   ]
  },
  {
   "cell_type": "markdown",
   "id": "5c079036-9986-4784-b9d5-a83ed54be0d0",
   "metadata": {},
   "source": [
    "regularizaion -> 규제(가중치를 통해 과대적합 방지)\n",
    "normalization -> 정규화\n",
    "standardization -> 표준화 \n",
    "\n",
    "선형회귀에서는 과대적합을 조절할 수 있는 매개변수가 없어서 릿지와 라쏘를 써서 해결해야함(모델을 바꾸는 것)\n",
    "\n",
    "분류는 타겟에 맞춰서 오차(단순 빼기 불가능)를 계산해야함 \n"
   ]
  },
  {
   "cell_type": "code",
   "execution_count": null,
   "id": "21e4caa4-d41c-4341-a330-fe51ff75a67e",
   "metadata": {},
   "outputs": [],
   "source": []
  }
 ],
 "metadata": {
  "kernelspec": {
   "display_name": "Python 3 (ipykernel)",
   "language": "python",
   "name": "python3"
  },
  "language_info": {
   "codemirror_mode": {
    "name": "ipython",
    "version": 3
   },
   "file_extension": ".py",
   "mimetype": "text/x-python",
   "name": "python",
   "nbconvert_exporter": "python",
   "pygments_lexer": "ipython3",
   "version": "3.9.18"
  }
 },
 "nbformat": 4,
 "nbformat_minor": 5
}
