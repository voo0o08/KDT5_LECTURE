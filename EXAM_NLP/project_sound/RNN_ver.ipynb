{
 "cells": [
  {
   "cell_type": "markdown",
   "id": "35b0beaa710e4036",
   "metadata": {
    "collapsed": false
   },
   "source": [
    "# dance - ballade 분류(RGG Ver)\n",
    "- 프로젝트에 사용된 파일"
   ]
  },
  {
   "cell_type": "code",
   "execution_count": 4,
   "id": "9194ba7419847ba8",
   "metadata": {
    "collapsed": false,
    "ExecuteTime": {
     "end_time": "2024-04-14T23:21:02.099540100Z",
     "start_time": "2024-04-14T23:21:02.092100700Z"
    }
   },
   "outputs": [],
   "source": [
    "# 모듈 로딩\n",
    "import pandas as pd\n",
    "import numpy as np\n",
    "\n",
    "from PIL import Image\n",
    "import torchvision.transforms as transforms\n",
    "from torch.utils.data import DataLoader, WeightedRandomSampler\n",
    "\n",
    "\n",
    "import torch\n",
    "import torch.nn as nn\n",
    "import torch.nn.functional as F\n",
    "import torch.optim as optim\n",
    "import torch.nn.init as init\n",
    "import matplotlib.pyplot as plt"
   ]
  },
  {
   "cell_type": "markdown",
   "id": "2e665d5a2538f343",
   "metadata": {
    "collapsed": false
   },
   "source": [
    "# 데이터 불러오기"
   ]
  },
  {
   "cell_type": "code",
   "execution_count": 5,
   "id": "56ee1fd646844f7b",
   "metadata": {
    "collapsed": false,
    "ExecuteTime": {
     "end_time": "2024-04-14T23:21:02.811329200Z",
     "start_time": "2024-04-14T23:21:02.777215300Z"
    }
   },
   "outputs": [],
   "source": [
    "from torchvision.datasets import ImageFolder \n",
    "from torchvision.transforms import transforms\n",
    "from PIL import Image\n",
    "\n",
    "# 데이터셋 경로\n",
    "train_root = \"./data/train\"\n",
    "test_root = \"./data/test\"\n",
    "\n",
    "# 전처리를 위한 변환\n",
    "preprocessing = transforms.Compose([\n",
    "    transforms.Resize((100, 100)),  # 이미지 크기 조정\n",
    "    transforms.Grayscale(),  # 이미지를 흑백으로 변환\n",
    "    # transforms.RandomRotation(degrees=(90), interpolation=transforms.InterpolationMode.BILINEAR, fill=0),\n",
    "    transforms.ToTensor(),  # 텐서로 변환\n",
    "])\n",
    "\n",
    "# 데이터셋 로드\n",
    "trainDS = ImageFolder(root=train_root, transform=preprocessing)\n",
    "testDS = ImageFolder(root=test_root, transform=preprocessing)"
   ]
  },
  {
   "cell_type": "code",
   "execution_count": 6,
   "id": "8aa94dba639469bb",
   "metadata": {
    "collapsed": false,
    "ExecuteTime": {
     "end_time": "2024-04-14T23:21:03.545679Z",
     "start_time": "2024-04-14T23:21:03.513465500Z"
    }
   },
   "outputs": [
    {
     "data": {
      "text/plain": "[('./data/train\\\\ballade\\\\balad1.png', 0),\n ('./data/train\\\\ballade\\\\balad10.png', 0),\n ('./data/train\\\\ballade\\\\balad100.png', 0),\n ('./data/train\\\\ballade\\\\balad11.png', 0),\n ('./data/train\\\\ballade\\\\balad12.png', 0),\n ('./data/train\\\\ballade\\\\balad13.png', 0),\n ('./data/train\\\\ballade\\\\balad14.png', 0),\n ('./data/train\\\\ballade\\\\balad15.png', 0),\n ('./data/train\\\\ballade\\\\balad16.png', 0),\n ('./data/train\\\\ballade\\\\balad17.png', 0),\n ('./data/train\\\\ballade\\\\balad18.png', 0),\n ('./data/train\\\\ballade\\\\balad2.png', 0),\n ('./data/train\\\\ballade\\\\balad20.png', 0),\n ('./data/train\\\\ballade\\\\balad21.png', 0),\n ('./data/train\\\\ballade\\\\balad22.png', 0),\n ('./data/train\\\\ballade\\\\balad23.png', 0),\n ('./data/train\\\\ballade\\\\balad25.png', 0),\n ('./data/train\\\\ballade\\\\balad26.png', 0),\n ('./data/train\\\\ballade\\\\balad28.png', 0),\n ('./data/train\\\\ballade\\\\balad29.png', 0),\n ('./data/train\\\\ballade\\\\balad3.png', 0),\n ('./data/train\\\\ballade\\\\balad30.png', 0),\n ('./data/train\\\\ballade\\\\balad32.png', 0),\n ('./data/train\\\\ballade\\\\balad33.png', 0),\n ('./data/train\\\\ballade\\\\balad34.png', 0),\n ('./data/train\\\\ballade\\\\balad36.png', 0),\n ('./data/train\\\\ballade\\\\balad37.png', 0),\n ('./data/train\\\\ballade\\\\balad39.png', 0),\n ('./data/train\\\\ballade\\\\balad4.png', 0),\n ('./data/train\\\\ballade\\\\balad40.png', 0),\n ('./data/train\\\\ballade\\\\balad41.png', 0),\n ('./data/train\\\\ballade\\\\balad42.png', 0),\n ('./data/train\\\\ballade\\\\balad44.png', 0),\n ('./data/train\\\\ballade\\\\balad46.png', 0),\n ('./data/train\\\\ballade\\\\balad47.png', 0),\n ('./data/train\\\\ballade\\\\balad48.png', 0),\n ('./data/train\\\\ballade\\\\balad49.png', 0),\n ('./data/train\\\\ballade\\\\balad5.png', 0),\n ('./data/train\\\\ballade\\\\balad50.png', 0),\n ('./data/train\\\\ballade\\\\balad53.png', 0),\n ('./data/train\\\\ballade\\\\balad54.png', 0),\n ('./data/train\\\\ballade\\\\balad55.png', 0),\n ('./data/train\\\\ballade\\\\balad56.png', 0),\n ('./data/train\\\\ballade\\\\balad57.png', 0),\n ('./data/train\\\\ballade\\\\balad58.png', 0),\n ('./data/train\\\\ballade\\\\balad6.png', 0),\n ('./data/train\\\\ballade\\\\balad61.png', 0),\n ('./data/train\\\\ballade\\\\balad62.png', 0),\n ('./data/train\\\\ballade\\\\balad63.png', 0),\n ('./data/train\\\\ballade\\\\balad64.png', 0),\n ('./data/train\\\\ballade\\\\balad65.png', 0),\n ('./data/train\\\\ballade\\\\balad67.png', 0),\n ('./data/train\\\\ballade\\\\balad69.png', 0),\n ('./data/train\\\\ballade\\\\balad7.png', 0),\n ('./data/train\\\\ballade\\\\balad70.png', 0),\n ('./data/train\\\\ballade\\\\balad71.png', 0),\n ('./data/train\\\\ballade\\\\balad72.png', 0),\n ('./data/train\\\\ballade\\\\balad74.png', 0),\n ('./data/train\\\\ballade\\\\balad75.png', 0),\n ('./data/train\\\\ballade\\\\balad77.png', 0),\n ('./data/train\\\\ballade\\\\balad78.png', 0),\n ('./data/train\\\\ballade\\\\balad79.png', 0),\n ('./data/train\\\\ballade\\\\balad8.png', 0),\n ('./data/train\\\\ballade\\\\balad81.png', 0),\n ('./data/train\\\\ballade\\\\balad82.png', 0),\n ('./data/train\\\\ballade\\\\balad83.png', 0),\n ('./data/train\\\\ballade\\\\balad85.png', 0),\n ('./data/train\\\\ballade\\\\balad86.png', 0),\n ('./data/train\\\\ballade\\\\balad88.png', 0),\n ('./data/train\\\\ballade\\\\balad89.png', 0),\n ('./data/train\\\\ballade\\\\balad9.png', 0),\n ('./data/train\\\\ballade\\\\balad90.png', 0),\n ('./data/train\\\\ballade\\\\balad91.png', 0),\n ('./data/train\\\\ballade\\\\balad93.png', 0),\n ('./data/train\\\\ballade\\\\balad94.png', 0),\n ('./data/train\\\\ballade\\\\balad95.png', 0),\n ('./data/train\\\\ballade\\\\balad96.png', 0),\n ('./data/train\\\\ballade\\\\balad97.png', 0),\n ('./data/train\\\\ballade\\\\balad98.png', 0),\n ('./data/train\\\\ballade\\\\balad99.png', 0),\n ('./data/train\\\\dance\\\\dance10.png', 1),\n ('./data/train\\\\dance\\\\dance100.png', 1),\n ('./data/train\\\\dance\\\\dance11.png', 1),\n ('./data/train\\\\dance\\\\dance12.png', 1),\n ('./data/train\\\\dance\\\\dance13.png', 1),\n ('./data/train\\\\dance\\\\dance15.png', 1),\n ('./data/train\\\\dance\\\\dance16.png', 1),\n ('./data/train\\\\dance\\\\dance17.png', 1),\n ('./data/train\\\\dance\\\\dance19.png', 1),\n ('./data/train\\\\dance\\\\dance2.png', 1),\n ('./data/train\\\\dance\\\\dance20.png', 1),\n ('./data/train\\\\dance\\\\dance22.png', 1),\n ('./data/train\\\\dance\\\\dance23.png', 1),\n ('./data/train\\\\dance\\\\dance24.png', 1),\n ('./data/train\\\\dance\\\\dance25.png', 1),\n ('./data/train\\\\dance\\\\dance26.png', 1),\n ('./data/train\\\\dance\\\\dance27.png', 1),\n ('./data/train\\\\dance\\\\dance3.png', 1),\n ('./data/train\\\\dance\\\\dance31.png', 1),\n ('./data/train\\\\dance\\\\dance34.png', 1),\n ('./data/train\\\\dance\\\\dance36.png', 1),\n ('./data/train\\\\dance\\\\dance37.png', 1),\n ('./data/train\\\\dance\\\\dance38.png', 1),\n ('./data/train\\\\dance\\\\dance39.png', 1),\n ('./data/train\\\\dance\\\\dance4.png', 1),\n ('./data/train\\\\dance\\\\dance40.png', 1),\n ('./data/train\\\\dance\\\\dance41.png', 1),\n ('./data/train\\\\dance\\\\dance43.png', 1),\n ('./data/train\\\\dance\\\\dance44.png', 1),\n ('./data/train\\\\dance\\\\dance45.png', 1),\n ('./data/train\\\\dance\\\\dance46.png', 1),\n ('./data/train\\\\dance\\\\dance47.png', 1),\n ('./data/train\\\\dance\\\\dance48.png', 1),\n ('./data/train\\\\dance\\\\dance5.png', 1),\n ('./data/train\\\\dance\\\\dance50.png', 1),\n ('./data/train\\\\dance\\\\dance51.png', 1),\n ('./data/train\\\\dance\\\\dance52.png', 1),\n ('./data/train\\\\dance\\\\dance53.png', 1),\n ('./data/train\\\\dance\\\\dance54.png', 1),\n ('./data/train\\\\dance\\\\dance55.png', 1),\n ('./data/train\\\\dance\\\\dance57.png', 1),\n ('./data/train\\\\dance\\\\dance58.png', 1),\n ('./data/train\\\\dance\\\\dance59.png', 1),\n ('./data/train\\\\dance\\\\dance6.png', 1),\n ('./data/train\\\\dance\\\\dance60.png', 1),\n ('./data/train\\\\dance\\\\dance61.png', 1),\n ('./data/train\\\\dance\\\\dance62.png', 1),\n ('./data/train\\\\dance\\\\dance64.png', 1),\n ('./data/train\\\\dance\\\\dance65.png', 1),\n ('./data/train\\\\dance\\\\dance66.png', 1),\n ('./data/train\\\\dance\\\\dance67.png', 1),\n ('./data/train\\\\dance\\\\dance68.png', 1),\n ('./data/train\\\\dance\\\\dance69.png', 1),\n ('./data/train\\\\dance\\\\dance71.png', 1),\n ('./data/train\\\\dance\\\\dance72.png', 1),\n ('./data/train\\\\dance\\\\dance73.png', 1),\n ('./data/train\\\\dance\\\\dance74.png', 1),\n ('./data/train\\\\dance\\\\dance75.png', 1),\n ('./data/train\\\\dance\\\\dance76.png', 1),\n ('./data/train\\\\dance\\\\dance78.png', 1),\n ('./data/train\\\\dance\\\\dance79.png', 1),\n ('./data/train\\\\dance\\\\dance8.png', 1),\n ('./data/train\\\\dance\\\\dance80.png', 1),\n ('./data/train\\\\dance\\\\dance81.png', 1),\n ('./data/train\\\\dance\\\\dance82.png', 1),\n ('./data/train\\\\dance\\\\dance83.png', 1),\n ('./data/train\\\\dance\\\\dance85.png', 1),\n ('./data/train\\\\dance\\\\dance86.png', 1),\n ('./data/train\\\\dance\\\\dance87.png', 1),\n ('./data/train\\\\dance\\\\dance88.png', 1),\n ('./data/train\\\\dance\\\\dance89.png', 1),\n ('./data/train\\\\dance\\\\dance9.png', 1),\n ('./data/train\\\\dance\\\\dance90.png', 1),\n ('./data/train\\\\dance\\\\dance92.png', 1),\n ('./data/train\\\\dance\\\\dance93.png', 1),\n ('./data/train\\\\dance\\\\dance94.png', 1),\n ('./data/train\\\\dance\\\\dance95.png', 1),\n ('./data/train\\\\dance\\\\dance96.png', 1),\n ('./data/train\\\\dance\\\\dance97.png', 1),\n ('./data/train\\\\dance\\\\dance99.png', 1)]"
     },
     "execution_count": 6,
     "metadata": {},
     "output_type": "execute_result"
    }
   ],
   "source": [
    "trainDS.samples"
   ]
  },
  {
   "cell_type": "markdown",
   "id": "bca4528fe0e93b19",
   "metadata": {
    "collapsed": false
   },
   "source": [
    "## 데이터 셋이 잘 읽혔는지 확인"
   ]
  },
  {
   "cell_type": "code",
   "execution_count": 7,
   "id": "bc9729a8211af0cc",
   "metadata": {
    "collapsed": false,
    "ExecuteTime": {
     "end_time": "2024-04-14T23:21:03.868712700Z",
     "start_time": "2024-04-14T23:21:03.842417500Z"
    }
   },
   "outputs": [
    {
     "data": {
      "text/plain": "(['ballade', 'dance'], {'ballade': 0, 'dance': 1})"
     },
     "execution_count": 7,
     "metadata": {},
     "output_type": "execute_result"
    }
   ],
   "source": [
    "trainDS.classes, trainDS.class_to_idx"
   ]
  },
  {
   "cell_type": "code",
   "execution_count": 8,
   "id": "fe102052011e9fe9",
   "metadata": {
    "collapsed": false,
    "ExecuteTime": {
     "end_time": "2024-04-14T23:21:04.007370200Z",
     "start_time": "2024-04-14T23:21:03.980990700Z"
    }
   },
   "outputs": [],
   "source": [
    "# valDS.classes, valDS.class_to_idx"
   ]
  },
  {
   "cell_type": "code",
   "execution_count": 9,
   "id": "57df3703ffeabc57",
   "metadata": {
    "collapsed": false,
    "ExecuteTime": {
     "end_time": "2024-04-14T23:21:04.166942Z",
     "start_time": "2024-04-14T23:21:04.136602400Z"
    }
   },
   "outputs": [
    {
     "data": {
      "text/plain": "(['ballade', 'dance'], {'ballade': 0, 'dance': 1})"
     },
     "execution_count": 9,
     "metadata": {},
     "output_type": "execute_result"
    }
   ],
   "source": [
    "testDS.classes, testDS.class_to_idx"
   ]
  },
  {
   "cell_type": "code",
   "execution_count": 10,
   "id": "85e25d525831aadb",
   "metadata": {
    "collapsed": false,
    "ExecuteTime": {
     "end_time": "2024-04-14T23:21:04.362977Z",
     "start_time": "2024-04-14T23:21:04.330586800Z"
    }
   },
   "outputs": [
    {
     "data": {
      "text/plain": "(160, 20)"
     },
     "execution_count": 10,
     "metadata": {},
     "output_type": "execute_result"
    }
   ],
   "source": [
    "# 비율 확인\n",
    "len(trainDS), len(testDS)"
   ]
  },
  {
   "cell_type": "code",
   "execution_count": 11,
   "id": "61d8a022288c4db3",
   "metadata": {
    "collapsed": false,
    "ExecuteTime": {
     "end_time": "2024-04-14T23:21:04.540373200Z",
     "start_time": "2024-04-14T23:21:04.507182500Z"
    }
   },
   "outputs": [
    {
     "data": {
      "text/plain": "tensor([[[0., 0., 0.,  ..., 0., 0., 0.],\n         [0., 0., 0.,  ..., 0., 0., 0.],\n         [0., 0., 0.,  ..., 0., 0., 0.],\n         ...,\n         [0., 0., 0.,  ..., 0., 0., 0.],\n         [0., 0., 0.,  ..., 0., 0., 0.],\n         [0., 0., 0.,  ..., 0., 0., 0.]]])"
     },
     "execution_count": 11,
     "metadata": {},
     "output_type": "execute_result"
    }
   ],
   "source": [
    "trainDS[0][0]"
   ]
  },
  {
   "cell_type": "code",
   "execution_count": 12,
   "id": "9d6debbd99eead3a",
   "metadata": {
    "collapsed": false,
    "ExecuteTime": {
     "end_time": "2024-04-14T23:21:04.693779500Z",
     "start_time": "2024-04-14T23:21:04.659820700Z"
    }
   },
   "outputs": [],
   "source": [
    "# sampler -> 각 배치의 분포를 맞추기 위함 \n",
    "# weights = make_weights(imgDS.targets, len(imgDS.classes))\n",
    "weights = torch.ones(len(trainDS.targets), dtype=torch.float)\n",
    "sampler = WeightedRandomSampler(weights, len(weights))\n",
    "\n",
    "train_DL = DataLoader(trainDS, batch_size=20, shuffle=True)\n",
    "test_DL = DataLoader(testDS, batch_size=20)  # 테스트 데이터 로더도 동일한 배치 크기를 설정합니다.\n"
   ]
  },
  {
   "cell_type": "code",
   "execution_count": 13,
   "id": "5ba577f82fb7b486",
   "metadata": {
    "collapsed": false,
    "ExecuteTime": {
     "end_time": "2024-04-14T23:21:04.865569700Z",
     "start_time": "2024-04-14T23:21:04.823638700Z"
    }
   },
   "outputs": [],
   "source": [
    "# max = 10\n",
    "# for cnt, (_, label) in enumerate(val_DL):\n",
    "#     print(f'batch별 target 분포\\n{label.bincount()}\\n')\n",
    "#     if cnt > max:\n",
    "#         break"
   ]
  },
  {
   "cell_type": "code",
   "execution_count": 14,
   "id": "6117f2ba111ec92c",
   "metadata": {
    "collapsed": false,
    "ExecuteTime": {
     "end_time": "2024-04-14T23:21:05.092375500Z",
     "start_time": "2024-04-14T23:21:05.050617600Z"
    }
   },
   "outputs": [
    {
     "data": {
      "text/plain": "(8, 1)"
     },
     "execution_count": 14,
     "metadata": {},
     "output_type": "execute_result"
    }
   ],
   "source": [
    "len(train_DL), len(test_DL) # 배치 개수"
   ]
  },
  {
   "cell_type": "markdown",
   "id": "fa99ea61a09f830f",
   "metadata": {
    "collapsed": false
   },
   "source": [
    "# 학습 준비"
   ]
  },
  {
   "cell_type": "code",
   "execution_count": 15,
   "id": "f343160eda89d149",
   "metadata": {
    "collapsed": false,
    "ExecuteTime": {
     "end_time": "2024-04-14T23:21:05.409338100Z",
     "start_time": "2024-04-14T23:21:05.385283800Z"
    }
   },
   "outputs": [
    {
     "name": "stdout",
     "output_type": "stream",
     "text": [
      "Using PyTorch version: 2.2.2  Device: cpu\n"
     ]
    }
   ],
   "source": [
    "### ===> 딥러닝 모델을 설계할 때 활용하는 장비 확인\n",
    "if torch.cuda.is_available():\n",
    "    DEVICE = torch.device('cuda')\n",
    "else:\n",
    "    DEVICE = torch.device('cpu')\n",
    "    \n",
    "print('Using PyTorch version:', torch.__version__, ' Device:', DEVICE)"
   ]
  },
  {
   "cell_type": "code",
   "execution_count": 16,
   "id": "d226121c639afc4c",
   "metadata": {
    "collapsed": false,
    "ExecuteTime": {
     "end_time": "2024-04-14T23:21:05.573267800Z",
     "start_time": "2024-04-14T23:21:05.539745100Z"
    }
   },
   "outputs": [],
   "source": [
    "# 데이터 모양... RNN이 뭔데 날 울려\n",
    "sequence_length = 100 # \n",
    "input_size = 2 # input_x에 대한 feature의 수 \n",
    "hidden_size = 64\n",
    "num_layers = 16\n",
    "num_classes = 2\n",
    "num_epochs = 20\n",
    "learning_rate = 0.001"
   ]
  },
  {
   "cell_type": "markdown",
   "id": "924e9ccf5db8687d",
   "metadata": {
    "collapsed": false
   },
   "source": [
    "# RNN CLASS"
   ]
  },
  {
   "cell_type": "code",
   "execution_count": 17,
   "id": "30c77d731d7ab7a0",
   "metadata": {
    "collapsed": false,
    "ExecuteTime": {
     "end_time": "2024-04-14T23:21:05.880219900Z",
     "start_time": "2024-04-14T23:21:05.858749600Z"
    }
   },
   "outputs": [],
   "source": [
    "class RNN(nn.Module):\n",
    "    def __init__(self, input_size, hidden_size, num_layers, num_classes):\n",
    "        super().__init__()\n",
    "        self.hidden_size = hidden_size\n",
    "        self.num_layers = num_layers\n",
    "        self.lstm = nn.LSTM(input_size, hidden_size, num_layers, batch_first=True, bidirectional=True) # 양방향 LSTM\n",
    "        # 피쳐수, 히든 수, 레이어 수 \n",
    "        \n",
    "        self.fc = nn.Linear(hidden_size * 2, num_classes)  # 양방향 LSTM이므로 hidden_size * 2\n",
    "        \n",
    "    # input x -> (BATCH, LENGTH, INPUT_SIZE)\n",
    "    # 단방향\n",
    "    def forward(self, x): \n",
    "        h0 = torch.zeros(self.num_layers * 2, x.size(0), self.hidden_size).to(DEVICE) # 양방향 LSTM이므로 num_layers * 2\n",
    "        c0 = torch.zeros(self.num_layers * 2, x.size(0), self.hidden_size).to(DEVICE) # hidden state와 동일\n",
    "        result, _ = self.lstm(x, (h0, c0))                                           # output : (BATCH_SIZE, SEQ_LENGTH, HIDDEN_SIZE * 2)\n",
    "        # self.lstm(batch_size, 시퀀스 길이, input_size)\n",
    "        result = self.fc(result[:, -1, :])                                              # logit \n",
    "        return result\n"
   ]
  },
  {
   "cell_type": "markdown",
   "id": "9a0d4cdd3739fafc",
   "metadata": {
    "collapsed": false
   },
   "source": [
    "# 학습 및 평가"
   ]
  },
  {
   "cell_type": "code",
   "execution_count": 18,
   "id": "d50418695085e638",
   "metadata": {
    "collapsed": false,
    "ExecuteTime": {
     "end_time": "2024-04-14T23:21:50.503629600Z",
     "start_time": "2024-04-14T23:21:06.183854200Z"
    }
   },
   "outputs": [
    {
     "name": "stdout",
     "output_type": "stream",
     "text": [
      "tensor([0, 0, 0, 1, 1, 0, 0, 0, 0, 1, 1, 0, 1, 1, 1, 0, 0, 0, 0, 1])\n",
      "tensor([0, 0, 0, 0, 0, 0, 0, 0, 0, 0, 0, 0, 0, 0, 0, 0, 0, 0, 0, 0]) 20\n",
      "Epoch [1/20], Step [1/8], Loss: 0.6790\n",
      "tensor([0, 0, 1, 1, 1, 0, 0, 0, 0, 1, 0, 0, 1, 0, 0, 1, 1, 1, 0, 0])\n",
      "tensor([0, 0, 0, 0, 0, 0, 0, 0, 0, 0, 0, 0, 0, 0, 0, 0, 0, 0, 0, 0]) 20\n",
      "Epoch [1/20], Step [2/8], Loss: 0.6766\n",
      "tensor([1, 1, 1, 0, 1, 0, 0, 0, 1, 1, 0, 0, 1, 1, 1, 1, 1, 1, 0, 1])\n",
      "tensor([0, 0, 0, 0, 0, 0, 0, 0, 0, 0, 0, 0, 0, 0, 0, 0, 0, 0, 0, 0]) 20\n",
      "Epoch [1/20], Step [3/8], Loss: 0.7458\n",
      "tensor([1, 1, 1, 0, 1, 0, 1, 1, 1, 1, 1, 0, 0, 0, 0, 0, 1, 1, 1, 1])\n",
      "tensor([0, 0, 0, 0, 0, 0, 0, 0, 0, 0, 0, 0, 0, 0, 0, 0, 0, 0, 0, 0]) 20\n",
      "Epoch [1/20], Step [4/8], Loss: 0.7410\n",
      "tensor([1, 1, 1, 1, 0, 1, 0, 1, 1, 0, 0, 1, 1, 0, 1, 1, 1, 1, 1, 0])\n",
      "tensor([0, 0, 0, 0, 0, 0, 0, 0, 0, 0, 0, 0, 0, 0, 0, 0, 0, 0, 0, 0]) 20\n",
      "Epoch [1/20], Step [5/8], Loss: 0.7462\n",
      "tensor([0, 0, 0, 0, 0, 1, 0, 0, 0, 0, 1, 1, 1, 0, 0, 1, 0, 0, 1, 1])\n",
      "tensor([0, 0, 0, 0, 0, 0, 0, 0, 0, 0, 0, 0, 0, 0, 0, 0, 0, 0, 0, 0]) 20\n",
      "Epoch [1/20], Step [6/8], Loss: 0.6682\n",
      "tensor([1, 0, 1, 1, 1, 0, 0, 1, 0, 0, 0, 1, 0, 0, 0, 0, 0, 1, 1, 0])\n",
      "tensor([0, 0, 0, 0, 0, 0, 0, 0, 0, 0, 0, 0, 0, 0, 0, 0, 0, 0, 0, 0]) 20\n",
      "Epoch [1/20], Step [7/8], Loss: 0.6792\n",
      "tensor([0, 0, 0, 0, 0, 0, 0, 1, 1, 0, 0, 1, 1, 1, 1, 1, 0, 1, 0, 1])\n",
      "tensor([0, 0, 0, 0, 0, 0, 0, 0, 0, 0, 0, 0, 0, 0, 0, 0, 0, 0, 0, 0]) 20\n",
      "Epoch [1/20], Step [8/8], Loss: 0.6883\n",
      "tensor([1, 1, 1, 1, 0, 0, 0, 1, 0, 0, 0, 1, 0, 0, 0, 0, 0, 1, 1, 0])\n",
      "tensor([0, 0, 0, 0, 0, 0, 0, 0, 0, 0, 0, 0, 0, 0, 0, 0, 0, 0, 0, 0]) 20\n",
      "Epoch [2/20], Step [1/8], Loss: 0.6806\n",
      "tensor([0, 1, 0, 1, 0, 1, 1, 1, 0, 0, 0, 1, 0, 0, 1, 0, 1, 1, 0, 1])\n",
      "tensor([0, 0, 0, 0, 0, 0, 0, 0, 0, 0, 0, 0, 0, 0, 0, 0, 0, 0, 0, 0]) 20\n",
      "Epoch [2/20], Step [2/8], Loss: 0.6959\n",
      "tensor([1, 1, 0, 1, 1, 0, 1, 0, 1, 1, 0, 1, 0, 0, 0, 0, 0, 1, 0, 0])\n",
      "tensor([0, 0, 0, 0, 0, 0, 0, 0, 0, 0, 0, 0, 0, 0, 0, 0, 0, 0, 0, 0]) 20\n",
      "Epoch [2/20], Step [3/8], Loss: 0.6885\n",
      "tensor([1, 1, 0, 1, 1, 0, 1, 0, 0, 0, 0, 0, 1, 1, 0, 1, 1, 0, 0, 0])\n",
      "tensor([0, 0, 0, 0, 0, 0, 0, 0, 0, 0, 0, 0, 0, 0, 0, 0, 0, 0, 0, 0]) 20\n",
      "Epoch [2/20], Step [4/8], Loss: 0.6886\n",
      "tensor([1, 1, 1, 0, 0, 0, 1, 1, 0, 1, 1, 1, 0, 1, 1, 1, 0, 0, 0, 1])\n",
      "tensor([0, 0, 0, 0, 0, 0, 0, 0, 0, 0, 0, 0, 0, 0, 0, 0, 0, 0, 0, 0]) 20\n",
      "Epoch [2/20], Step [5/8], Loss: 0.7090\n",
      "tensor([0, 0, 1, 1, 1, 1, 1, 0, 0, 1, 1, 1, 1, 0, 1, 0, 1, 0, 1, 1])\n",
      "tensor([0, 0, 0, 0, 0, 0, 0, 0, 0, 0, 0, 0, 0, 0, 0, 0, 0, 0, 0, 0]) 20\n",
      "Epoch [2/20], Step [6/8], Loss: 0.7142\n",
      "tensor([0, 1, 0, 1, 1, 1, 0, 0, 1, 1, 0, 1, 1, 1, 1, 0, 0, 1, 1, 0])\n",
      "tensor([0, 0, 0, 0, 0, 0, 0, 0, 0, 0, 0, 0, 0, 0, 0, 0, 0, 0, 0, 0]) 20\n",
      "Epoch [2/20], Step [7/8], Loss: 0.7060\n",
      "tensor([1, 0, 0, 0, 0, 1, 0, 1, 1, 0, 0, 1, 1, 0, 0, 1, 0, 0, 0, 0])\n",
      "tensor([0, 0, 0, 0, 0, 0, 0, 0, 0, 0, 0, 0, 0, 0, 0, 0, 0, 0, 0, 0]) 20\n",
      "Epoch [2/20], Step [8/8], Loss: 0.6799\n",
      "tensor([1, 0, 1, 1, 0, 0, 0, 0, 0, 1, 0, 1, 1, 1, 1, 1, 1, 1, 0, 0])\n",
      "tensor([0, 0, 0, 0, 0, 0, 0, 0, 0, 0, 0, 0, 0, 0, 0, 0, 0, 0, 0, 0]) 20\n",
      "Epoch [3/20], Step [1/8], Loss: 0.6984\n",
      "tensor([0, 0, 1, 0, 1, 1, 1, 0, 1, 1, 1, 1, 0, 1, 1, 0, 1, 1, 1, 1])\n",
      "tensor([0, 0, 0, 0, 0, 0, 0, 0, 0, 0, 0, 0, 0, 0, 0, 0, 0, 0, 0, 0]) 20\n",
      "Epoch [3/20], Step [2/8], Loss: 0.7086\n",
      "tensor([0, 1, 1, 0, 1, 0, 0, 1, 0, 1, 0, 0, 1, 1, 0, 0, 0, 0, 1, 0])\n",
      "tensor([0, 0, 0, 0, 0, 0, 0, 0, 0, 0, 0, 0, 0, 0, 0, 0, 0, 0, 0, 0]) 20\n",
      "Epoch [3/20], Step [3/8], Loss: 0.6880\n",
      "tensor([1, 1, 0, 1, 0, 0, 1, 1, 0, 1, 1, 0, 1, 0, 0, 1, 0, 1, 0, 0])\n",
      "tensor([0, 0, 0, 0, 0, 0, 0, 0, 0, 0, 0, 0, 0, 0, 0, 0, 0, 0, 0, 0]) 20\n",
      "Epoch [3/20], Step [4/8], Loss: 0.6934\n",
      "tensor([0, 1, 1, 1, 0, 1, 0, 1, 1, 0, 0, 0, 0, 0, 0, 0, 0, 1, 1, 1])\n",
      "tensor([0, 0, 0, 0, 0, 0, 0, 0, 0, 0, 0, 0, 0, 0, 0, 0, 0, 0, 0, 0]) 20\n",
      "Epoch [3/20], Step [5/8], Loss: 0.6918\n",
      "tensor([0, 0, 0, 1, 0, 0, 0, 0, 1, 0, 1, 1, 0, 0, 0, 0, 0, 0, 0, 0])\n",
      "tensor([0, 0, 0, 0, 0, 0, 0, 0, 0, 0, 0, 0, 0, 0, 0, 0, 0, 0, 0, 0]) 20\n",
      "Epoch [3/20], Step [6/8], Loss: 0.6871\n",
      "tensor([0, 0, 1, 1, 1, 1, 0, 1, 1, 1, 0, 0, 1, 1, 0, 1, 1, 1, 1, 1])\n",
      "tensor([0, 0, 0, 0, 0, 0, 0, 0, 0, 0, 0, 0, 0, 0, 0, 0, 0, 0, 0, 0]) 20\n",
      "Epoch [3/20], Step [7/8], Loss: 0.6983\n",
      "tensor([0, 0, 0, 0, 1, 1, 0, 1, 0, 1, 0, 1, 1, 0, 1, 1, 1, 0, 1, 0])\n",
      "tensor([0, 0, 0, 0, 0, 0, 0, 0, 0, 0, 0, 0, 0, 0, 0, 0, 0, 0, 0, 0]) 20\n",
      "Epoch [3/20], Step [8/8], Loss: 0.6932\n",
      "tensor([0, 1, 1, 0, 1, 0, 1, 1, 0, 1, 0, 1, 0, 1, 1, 0, 1, 1, 0, 0])\n",
      "tensor([0, 0, 0, 0, 0, 0, 0, 0, 0, 0, 0, 0, 0, 0, 0, 0, 0, 0, 0, 0]) 20\n",
      "Epoch [4/20], Step [1/8], Loss: 0.6941\n",
      "tensor([0, 1, 0, 0, 0, 1, 0, 1, 0, 1, 1, 1, 1, 1, 1, 0, 1, 1, 0, 0])\n",
      "tensor([0, 0, 0, 0, 0, 0, 0, 0, 0, 0, 0, 0, 0, 0, 0, 0, 0, 0, 0, 0]) 20\n",
      "Epoch [4/20], Step [2/8], Loss: 0.6939\n",
      "tensor([1, 0, 0, 0, 0, 1, 1, 1, 0, 0, 0, 0, 0, 1, 1, 0, 0, 1, 1, 0])\n",
      "tensor([0, 0, 0, 0, 0, 0, 0, 0, 0, 0, 0, 0, 0, 0, 0, 0, 0, 0, 0, 0]) 20\n",
      "Epoch [4/20], Step [3/8], Loss: 0.6924\n",
      "tensor([0, 0, 0, 0, 0, 1, 1, 0, 0, 0, 1, 1, 1, 1, 0, 0, 1, 1, 1, 1])\n",
      "tensor([0, 0, 0, 0, 0, 0, 0, 0, 0, 0, 0, 0, 0, 0, 0, 0, 0, 0, 0, 0]) 20\n",
      "Epoch [4/20], Step [4/8], Loss: 0.6932\n",
      "tensor([1, 0, 1, 0, 0, 0, 0, 0, 1, 0, 1, 1, 1, 0, 0, 1, 0, 0, 0, 1])\n",
      "tensor([0, 0, 0, 0, 0, 0, 0, 0, 0, 0, 0, 0, 0, 0, 0, 0, 0, 0, 0, 0]) 20\n",
      "Epoch [4/20], Step [5/8], Loss: 0.6928\n",
      "tensor([0, 1, 1, 1, 1, 1, 1, 0, 1, 1, 0, 1, 0, 0, 0, 1, 0, 0, 1, 1])\n",
      "tensor([0, 0, 0, 0, 0, 0, 0, 0, 0, 0, 0, 0, 0, 0, 0, 0, 0, 0, 0, 0]) 20\n",
      "Epoch [4/20], Step [6/8], Loss: 0.6937\n",
      "tensor([1, 1, 1, 0, 0, 1, 0, 0, 0, 1, 1, 0, 1, 1, 0, 0, 0, 0, 1, 1])\n",
      "tensor([0, 0, 0, 0, 0, 0, 0, 0, 0, 0, 0, 0, 0, 0, 0, 0, 0, 0, 0, 0]) 20\n",
      "Epoch [4/20], Step [7/8], Loss: 0.6931\n",
      "tensor([1, 1, 1, 1, 0, 0, 0, 0, 1, 0, 0, 0, 0, 1, 1, 1, 0, 1, 0, 1])\n",
      "tensor([0, 0, 0, 0, 0, 0, 0, 0, 0, 0, 0, 0, 0, 0, 0, 0, 0, 0, 0, 0]) 20\n",
      "Epoch [4/20], Step [8/8], Loss: 0.6931\n",
      "tensor([1, 1, 0, 1, 0, 0, 0, 0, 1, 1, 1, 1, 0, 1, 0, 0, 1, 1, 0, 1])\n",
      "tensor([0, 0, 0, 0, 0, 0, 0, 0, 0, 0, 0, 0, 0, 0, 0, 0, 0, 0, 0, 0]) 20\n",
      "Epoch [5/20], Step [1/8], Loss: 0.6932\n",
      "tensor([0, 1, 0, 1, 1, 1, 1, 1, 1, 0, 1, 1, 0, 1, 0, 0, 1, 1, 1, 1])\n",
      "tensor([1, 1, 1, 1, 1, 1, 1, 1, 1, 1, 1, 1, 1, 1, 1, 1, 1, 1, 1, 1]) 20\n",
      "Epoch [5/20], Step [2/8], Loss: 0.6926\n",
      "tensor([1, 0, 0, 0, 0, 1, 1, 0, 1, 1, 0, 0, 1, 1, 1, 1, 0, 0, 1, 1])\n",
      "tensor([1, 1, 1, 1, 1, 1, 1, 1, 1, 1, 1, 1, 1, 1, 1, 1, 1, 1, 1, 1]) 20\n",
      "Epoch [5/20], Step [3/8], Loss: 0.6925\n",
      "tensor([1, 0, 1, 0, 0, 1, 0, 0, 1, 1, 1, 1, 0, 1, 0, 1, 0, 0, 0, 1])\n",
      "tensor([1, 1, 1, 1, 1, 1, 1, 1, 1, 1, 1, 1, 1, 1, 1, 1, 1, 1, 1, 1]) 20\n",
      "Epoch [5/20], Step [4/8], Loss: 0.6932\n",
      "tensor([0, 0, 1, 1, 1, 1, 0, 1, 0, 1, 1, 0, 0, 1, 0, 1, 0, 0, 0, 1])\n",
      "tensor([1, 1, 1, 1, 1, 1, 1, 1, 1, 1, 1, 1, 1, 1, 1, 1, 1, 1, 1, 1]) 20\n",
      "Epoch [5/20], Step [5/8], Loss: 0.6933\n",
      "tensor([0, 1, 1, 1, 0, 1, 0, 1, 0, 0, 1, 1, 1, 0, 1, 0, 0, 1, 0, 0])\n",
      "tensor([1, 1, 1, 1, 1, 1, 1, 1, 1, 1, 1, 1, 1, 1, 1, 1, 1, 1, 1, 1]) 20\n",
      "Epoch [5/20], Step [6/8], Loss: 0.6934\n",
      "tensor([0, 1, 0, 0, 1, 0, 1, 0, 1, 0, 0, 0, 1, 0, 0, 1, 0, 1, 0, 1])\n",
      "tensor([1, 1, 1, 1, 1, 1, 1, 1, 1, 1, 1, 1, 1, 1, 1, 1, 1, 1, 1, 1]) 20\n",
      "Epoch [5/20], Step [7/8], Loss: 0.6992\n",
      "tensor([0, 0, 1, 0, 0, 1, 0, 0, 0, 0, 1, 0, 0, 0, 0, 0, 0, 1, 1, 1])\n",
      "tensor([1, 1, 1, 1, 1, 1, 1, 1, 1, 1, 1, 1, 1, 1, 1, 1, 1, 1, 1, 1]) 20\n",
      "Epoch [5/20], Step [8/8], Loss: 0.7052\n",
      "tensor([1, 0, 0, 1, 1, 0, 0, 1, 0, 0, 0, 0, 0, 1, 0, 1, 0, 0, 1, 1])\n",
      "tensor([1, 1, 1, 1, 1, 1, 1, 1, 1, 1, 1, 1, 1, 1, 1, 1, 1, 1, 1, 1]) 20\n",
      "Epoch [6/20], Step [1/8], Loss: 0.6982\n",
      "tensor([0, 1, 1, 0, 1, 1, 1, 1, 1, 0, 1, 1, 0, 1, 1, 1, 0, 1, 1, 1])\n",
      "tensor([1, 1, 1, 1, 1, 1, 1, 1, 1, 1, 1, 1, 1, 1, 1, 1, 1, 1, 1, 1]) 20\n",
      "Epoch [6/20], Step [2/8], Loss: 0.6849\n",
      "tensor([1, 0, 1, 0, 1, 0, 1, 0, 1, 0, 0, 1, 0, 1, 0, 0, 0, 0, 0, 1])\n",
      "tensor([1, 1, 1, 1, 1, 1, 1, 1, 1, 1, 1, 1, 1, 1, 1, 1, 1, 1, 1, 1]) 20\n",
      "Epoch [6/20], Step [3/8], Loss: 0.6964\n",
      "tensor([1, 0, 0, 1, 0, 1, 1, 1, 0, 0, 0, 0, 0, 1, 1, 0, 0, 1, 0, 1])\n",
      "tensor([1, 1, 1, 1, 1, 1, 1, 1, 1, 1, 1, 1, 1, 1, 1, 1, 1, 1, 1, 1]) 20\n",
      "Epoch [6/20], Step [4/8], Loss: 0.6945\n",
      "tensor([0, 1, 1, 1, 0, 0, 0, 0, 1, 0, 1, 0, 0, 1, 0, 0, 1, 0, 0, 1])\n",
      "tensor([1, 1, 1, 1, 1, 1, 1, 1, 1, 1, 1, 1, 1, 1, 1, 1, 1, 1, 1, 1]) 20\n",
      "Epoch [6/20], Step [5/8], Loss: 0.6951\n",
      "tensor([0, 1, 0, 1, 1, 1, 1, 0, 0, 0, 0, 1, 0, 0, 1, 0, 0, 1, 1, 0])\n",
      "tensor([1, 1, 1, 1, 1, 1, 1, 1, 1, 1, 1, 1, 1, 1, 1, 1, 1, 1, 1, 1]) 20\n",
      "Epoch [6/20], Step [6/8], Loss: 0.6936\n",
      "tensor([1, 1, 1, 1, 0, 0, 0, 0, 1, 1, 0, 0, 0, 1, 1, 1, 1, 1, 0, 1])\n",
      "tensor([0, 0, 0, 0, 0, 0, 0, 0, 0, 0, 0, 0, 0, 0, 0, 0, 0, 0, 0, 0]) 20\n",
      "Epoch [6/20], Step [7/8], Loss: 0.6932\n",
      "tensor([0, 1, 0, 1, 1, 0, 0, 1, 1, 0, 0, 1, 0, 1, 1, 1, 0, 0, 1, 1])\n",
      "tensor([0, 0, 0, 0, 0, 0, 0, 0, 0, 0, 0, 0, 0, 0, 0, 0, 0, 0, 0, 0]) 20\n",
      "Epoch [6/20], Step [8/8], Loss: 0.6934\n",
      "tensor([0, 0, 1, 0, 1, 1, 1, 0, 1, 1, 0, 1, 1, 1, 1, 0, 0, 1, 0, 1])\n",
      "tensor([0, 0, 0, 0, 0, 0, 0, 0, 0, 0, 0, 0, 0, 0, 0, 0, 0, 0, 0, 0]) 20\n",
      "Epoch [7/20], Step [1/8], Loss: 0.6941\n",
      "tensor([0, 0, 1, 1, 1, 0, 1, 0, 0, 0, 0, 1, 0, 0, 0, 1, 1, 0, 1, 1])\n",
      "tensor([0, 0, 0, 0, 0, 0, 0, 0, 0, 0, 0, 0, 0, 0, 0, 0, 0, 0, 0, 0]) 20\n",
      "Epoch [7/20], Step [2/8], Loss: 0.6927\n",
      "tensor([1, 0, 1, 1, 1, 1, 1, 1, 0, 0, 0, 0, 0, 0, 0, 1, 1, 0, 0, 1])\n",
      "tensor([0, 0, 0, 0, 0, 0, 0, 0, 0, 0, 0, 0, 0, 0, 0, 0, 0, 0, 0, 0]) 20\n",
      "Epoch [7/20], Step [3/8], Loss: 0.6932\n",
      "tensor([0, 1, 0, 0, 1, 1, 1, 0, 0, 1, 1, 1, 0, 0, 1, 0, 0, 1, 1, 1])\n",
      "tensor([0, 0, 0, 0, 0, 0, 0, 0, 0, 0, 0, 0, 0, 0, 0, 0, 0, 0, 0, 0]) 20\n",
      "Epoch [7/20], Step [4/8], Loss: 0.6938\n",
      "tensor([1, 0, 0, 0, 1, 0, 0, 1, 1, 0, 0, 1, 1, 0, 1, 1, 0, 0, 1, 1])\n",
      "tensor([0, 0, 0, 0, 0, 0, 0, 0, 0, 0, 0, 0, 0, 0, 0, 0, 0, 0, 0, 0]) 20\n",
      "Epoch [7/20], Step [5/8], Loss: 0.6932\n",
      "tensor([0, 0, 1, 1, 1, 0, 0, 1, 0, 1, 0, 0, 1, 1, 1, 0, 1, 0, 0, 0])\n",
      "tensor([0, 0, 0, 0, 0, 0, 0, 0, 0, 0, 0, 0, 0, 0, 0, 0, 0, 0, 0, 0]) 20\n",
      "Epoch [7/20], Step [6/8], Loss: 0.6926\n",
      "tensor([1, 1, 0, 1, 0, 0, 0, 0, 0, 0, 1, 0, 1, 0, 0, 0, 1, 1, 1, 0])\n",
      "tensor([0, 0, 0, 0, 0, 0, 0, 0, 0, 0, 0, 0, 0, 0, 0, 0, 0, 0, 0, 0]) 20\n",
      "Epoch [7/20], Step [7/8], Loss: 0.6919\n",
      "tensor([0, 0, 1, 0, 1, 0, 1, 0, 1, 1, 1, 1, 0, 0, 1, 1, 1, 0, 1, 0])\n",
      "tensor([0, 0, 0, 0, 0, 0, 0, 0, 0, 0, 0, 0, 0, 0, 0, 0, 0, 0, 0, 0]) 20\n",
      "Epoch [7/20], Step [8/8], Loss: 0.6940\n",
      "tensor([0, 0, 1, 1, 0, 1, 1, 0, 0, 0, 0, 0, 1, 0, 1, 0, 1, 1, 0, 0])\n",
      "tensor([0, 0, 0, 0, 0, 0, 0, 0, 0, 0, 0, 0, 0, 0, 0, 0, 0, 0, 0, 0]) 20\n",
      "Epoch [8/20], Step [1/8], Loss: 0.6914\n",
      "tensor([1, 1, 0, 1, 0, 0, 1, 1, 1, 0, 1, 0, 0, 0, 0, 0, 0, 0, 0, 0])\n",
      "tensor([0, 0, 0, 0, 0, 0, 0, 0, 0, 0, 0, 0, 0, 0, 0, 0, 0, 0, 0, 0]) 20\n",
      "Epoch [8/20], Step [2/8], Loss: 0.6900\n",
      "tensor([0, 0, 0, 0, 1, 0, 1, 1, 0, 0, 1, 1, 1, 0, 1, 0, 1, 1, 1, 0])\n",
      "tensor([0, 0, 0, 0, 0, 0, 0, 0, 0, 0, 0, 0, 0, 0, 0, 0, 0, 0, 0, 0]) 20\n",
      "Epoch [8/20], Step [3/8], Loss: 0.6933\n",
      "tensor([0, 0, 1, 1, 0, 0, 1, 1, 1, 1, 1, 1, 0, 1, 1, 1, 0, 1, 1, 0])\n",
      "tensor([0, 0, 0, 0, 0, 0, 0, 0, 0, 0, 0, 0, 0, 0, 0, 0, 0, 0, 0, 0]) 20\n",
      "Epoch [8/20], Step [4/8], Loss: 0.6985\n",
      "tensor([1, 1, 1, 0, 0, 1, 0, 0, 0, 1, 1, 0, 1, 0, 1, 1, 1, 0, 0, 1])\n",
      "tensor([0, 0, 0, 0, 0, 0, 0, 0, 0, 0, 0, 0, 0, 0, 0, 0, 0, 0, 0, 0]) 20\n",
      "Epoch [8/20], Step [5/8], Loss: 0.6951\n",
      "tensor([1, 1, 1, 1, 0, 1, 0, 0, 1, 1, 1, 0, 0, 1, 0, 0, 1, 1, 1, 0])\n",
      "tensor([0, 0, 0, 0, 0, 0, 0, 0, 0, 0, 0, 0, 0, 0, 0, 0, 0, 0, 0, 0]) 20\n",
      "Epoch [8/20], Step [6/8], Loss: 0.6970\n",
      "tensor([0, 0, 1, 1, 1, 0, 0, 0, 0, 0, 0, 1, 0, 0, 0, 1, 0, 1, 1, 1])\n",
      "tensor([0, 0, 0, 0, 0, 0, 0, 0, 0, 0, 0, 0, 0, 0, 0, 0, 0, 0, 0, 0]) 20\n",
      "Epoch [8/20], Step [7/8], Loss: 0.6899\n",
      "tensor([0, 1, 0, 1, 0, 1, 1, 0, 1, 1, 0, 0, 1, 1, 0, 1, 0, 0, 1, 1])\n",
      "tensor([0, 0, 0, 0, 0, 0, 0, 0, 0, 0, 0, 0, 0, 0, 0, 0, 0, 0, 0, 0]) 20\n",
      "Epoch [8/20], Step [8/8], Loss: 0.6950\n",
      "tensor([0, 0, 1, 1, 0, 1, 1, 1, 0, 1, 1, 0, 1, 1, 0, 1, 0, 1, 1, 1])\n",
      "tensor([0, 0, 0, 0, 0, 0, 0, 0, 0, 0, 0, 0, 0, 0, 0, 0, 0, 0, 0, 0]) 20\n",
      "Epoch [9/20], Step [1/8], Loss: 0.6982\n",
      "tensor([1, 1, 0, 0, 1, 1, 1, 0, 1, 1, 1, 1, 1, 1, 0, 0, 0, 1, 0, 0])\n",
      "tensor([0, 0, 0, 0, 0, 0, 0, 0, 0, 0, 0, 0, 0, 0, 0, 0, 0, 0, 0, 0]) 20\n",
      "Epoch [9/20], Step [2/8], Loss: 0.6960\n",
      "tensor([1, 0, 1, 0, 1, 0, 0, 0, 1, 1, 0, 0, 1, 1, 0, 0, 1, 1, 1, 1])\n",
      "tensor([0, 0, 0, 0, 0, 0, 0, 0, 0, 0, 0, 0, 0, 0, 0, 0, 0, 0, 0, 0]) 20\n",
      "Epoch [9/20], Step [3/8], Loss: 0.6942\n",
      "tensor([1, 0, 1, 1, 1, 0, 1, 1, 0, 0, 0, 0, 0, 1, 0, 0, 1, 1, 1, 0])\n",
      "tensor([0, 0, 0, 0, 0, 0, 0, 0, 0, 0, 0, 0, 0, 0, 0, 0, 0, 0, 0, 0]) 20\n",
      "Epoch [9/20], Step [4/8], Loss: 0.6932\n",
      "tensor([0, 0, 0, 1, 1, 0, 1, 1, 1, 0, 1, 0, 1, 1, 0, 1, 0, 0, 0, 0])\n",
      "tensor([0, 0, 0, 0, 0, 0, 0, 0, 0, 0, 0, 0, 0, 0, 0, 0, 0, 0, 0, 0]) 20\n",
      "Epoch [9/20], Step [5/8], Loss: 0.6929\n",
      "tensor([1, 0, 1, 0, 1, 1, 0, 0, 1, 1, 1, 0, 0, 1, 0, 1, 0, 0, 0, 0])\n",
      "tensor([1, 1, 1, 1, 1, 1, 1, 1, 1, 1, 1, 1, 1, 1, 1, 1, 1, 1, 1, 1]) 20\n",
      "Epoch [9/20], Step [6/8], Loss: 0.6932\n",
      "tensor([0, 0, 1, 0, 0, 1, 1, 0, 1, 0, 0, 0, 0, 1, 0, 0, 0, 1, 0, 0])\n",
      "tensor([1, 1, 1, 1, 1, 1, 1, 1, 1, 1, 1, 1, 1, 1, 1, 1, 1, 1, 1, 1]) 20\n",
      "Epoch [9/20], Step [7/8], Loss: 0.6941\n",
      "tensor([1, 0, 1, 1, 1, 1, 0, 0, 0, 0, 1, 0, 0, 0, 0, 1, 1, 1, 1, 0])\n",
      "tensor([1, 1, 1, 1, 1, 1, 1, 1, 1, 1, 1, 1, 1, 1, 1, 1, 1, 1, 1, 1]) 20\n",
      "Epoch [9/20], Step [8/8], Loss: 0.6931\n",
      "tensor([1, 1, 1, 0, 1, 1, 1, 1, 0, 0, 1, 1, 1, 1, 0, 0, 1, 0, 0, 0])\n",
      "tensor([0, 0, 0, 0, 0, 0, 0, 0, 0, 0, 0, 0, 0, 0, 0, 0, 0, 0, 0, 0]) 20\n",
      "Epoch [10/20], Step [1/8], Loss: 0.6932\n",
      "tensor([0, 0, 0, 1, 1, 1, 1, 1, 1, 1, 0, 0, 0, 1, 0, 0, 1, 1, 0, 1])\n",
      "tensor([1, 1, 1, 1, 1, 1, 1, 1, 1, 1, 1, 1, 1, 1, 1, 1, 1, 1, 1, 1]) 20\n",
      "Epoch [10/20], Step [2/8], Loss: 0.6931\n",
      "tensor([1, 1, 1, 1, 0, 0, 0, 0, 1, 1, 1, 1, 1, 1, 0, 1, 1, 0, 0, 0])\n",
      "tensor([1, 1, 1, 1, 1, 1, 1, 1, 1, 1, 1, 1, 1, 1, 1, 1, 1, 1, 1, 1]) 20\n",
      "Epoch [10/20], Step [3/8], Loss: 0.6929\n",
      "tensor([0, 0, 1, 0, 1, 0, 0, 1, 0, 0, 0, 0, 0, 1, 1, 0, 0, 0, 1, 0])\n",
      "tensor([1, 1, 1, 1, 1, 1, 1, 1, 1, 1, 1, 1, 1, 1, 1, 1, 1, 1, 1, 1]) 20\n",
      "Epoch [10/20], Step [4/8], Loss: 0.6946\n",
      "tensor([1, 0, 1, 1, 1, 1, 0, 0, 0, 0, 1, 0, 1, 1, 1, 1, 1, 1, 1, 1])\n",
      "tensor([1, 1, 1, 1, 1, 1, 1, 1, 1, 1, 1, 1, 1, 1, 1, 1, 1, 1, 1, 1]) 20\n",
      "Epoch [10/20], Step [5/8], Loss: 0.6920\n",
      "tensor([0, 0, 0, 1, 0, 1, 0, 1, 1, 0, 1, 1, 0, 0, 0, 1, 0, 1, 0, 1])\n",
      "tensor([1, 1, 1, 1, 1, 1, 1, 1, 1, 1, 1, 1, 1, 1, 1, 1, 1, 1, 1, 1]) 20\n",
      "Epoch [10/20], Step [6/8], Loss: 0.6937\n",
      "tensor([0, 1, 1, 0, 1, 1, 1, 1, 1, 1, 0, 1, 0, 0, 1, 1, 0, 0, 0, 0])\n",
      "tensor([1, 1, 1, 1, 1, 1, 1, 1, 1, 1, 1, 1, 1, 1, 1, 1, 1, 1, 1, 1]) 20\n",
      "Epoch [10/20], Step [7/8], Loss: 0.6926\n",
      "tensor([1, 0, 0, 0, 0, 0, 1, 0, 0, 1, 1, 0, 0, 0, 1, 0, 0, 0, 0, 0])\n",
      "tensor([1, 1, 1, 1, 1, 1, 1, 1, 1, 1, 1, 1, 1, 1, 1, 1, 1, 1, 1, 1]) 20\n",
      "Epoch [10/20], Step [8/8], Loss: 0.6971\n",
      "tensor([1, 0, 0, 1, 1, 1, 1, 0, 0, 1, 1, 0, 1, 1, 1, 0, 1, 0, 1, 0])\n",
      "tensor([1, 1, 1, 1, 1, 1, 1, 1, 1, 1, 1, 1, 1, 1, 1, 1, 1, 1, 1, 1]) 20\n",
      "Epoch [11/20], Step [1/8], Loss: 0.6920\n",
      "tensor([1, 0, 0, 0, 0, 1, 1, 1, 0, 0, 1, 0, 0, 1, 0, 0, 1, 1, 0, 1])\n",
      "tensor([1, 1, 1, 1, 1, 1, 1, 1, 1, 1, 1, 1, 1, 1, 1, 1, 1, 1, 1, 1]) 20\n",
      "Epoch [11/20], Step [2/8], Loss: 0.6937\n",
      "tensor([0, 0, 0, 0, 0, 1, 0, 1, 0, 1, 1, 1, 0, 0, 0, 1, 0, 1, 0, 1])\n",
      "tensor([1, 1, 1, 1, 1, 1, 1, 1, 1, 1, 1, 1, 1, 1, 1, 1, 1, 1, 1, 1]) 20\n",
      "Epoch [11/20], Step [3/8], Loss: 0.6939\n",
      "tensor([1, 1, 1, 1, 0, 0, 1, 1, 1, 0, 1, 1, 1, 0, 1, 0, 0, 0, 1, 0])\n",
      "tensor([1, 1, 1, 1, 1, 1, 1, 1, 1, 1, 1, 1, 1, 1, 1, 1, 1, 1, 1, 1]) 20\n",
      "Epoch [11/20], Step [4/8], Loss: 0.6929\n",
      "tensor([0, 1, 1, 1, 0, 1, 1, 1, 0, 1, 1, 0, 1, 0, 1, 0, 0, 0, 0, 1])\n",
      "tensor([1, 1, 1, 1, 1, 1, 1, 1, 1, 1, 1, 1, 1, 1, 1, 1, 1, 1, 1, 1]) 20\n",
      "Epoch [11/20], Step [5/8], Loss: 0.6931\n",
      "tensor([0, 1, 1, 0, 0, 1, 1, 0, 1, 1, 0, 0, 0, 1, 0, 1, 0, 0, 0, 1])\n",
      "tensor([1, 1, 1, 1, 1, 1, 1, 1, 1, 1, 1, 1, 1, 1, 1, 1, 1, 1, 1, 1]) 20\n",
      "Epoch [11/20], Step [6/8], Loss: 0.6932\n",
      "tensor([1, 1, 0, 1, 0, 1, 1, 1, 0, 1, 0, 0, 0, 0, 0, 0, 1, 0, 0, 1])\n",
      "tensor([0, 0, 0, 0, 0, 0, 0, 0, 0, 0, 0, 0, 0, 0, 0, 0, 0, 0, 0, 0]) 20\n",
      "Epoch [11/20], Step [7/8], Loss: 0.6931\n",
      "tensor([0, 0, 1, 0, 0, 1, 1, 1, 1, 0, 1, 1, 0, 1, 1, 1, 0, 0, 0, 0])\n",
      "tensor([0, 0, 0, 0, 0, 0, 0, 0, 0, 0, 0, 0, 0, 0, 0, 0, 0, 0, 0, 0]) 20\n",
      "Epoch [11/20], Step [8/8], Loss: 0.6931\n",
      "tensor([1, 1, 0, 1, 1, 1, 0, 1, 0, 0, 1, 1, 1, 0, 0, 0, 1, 0, 1, 0])\n",
      "tensor([0, 0, 0, 0, 0, 0, 0, 0, 0, 0, 0, 0, 0, 0, 0, 0, 0, 0, 0, 0]) 20\n",
      "Epoch [12/20], Step [1/8], Loss: 0.6934\n",
      "tensor([1, 0, 1, 1, 1, 0, 0, 1, 1, 0, 1, 1, 0, 0, 1, 0, 1, 1, 1, 1])\n",
      "tensor([0, 0, 0, 0, 0, 0, 0, 0, 0, 0, 0, 0, 0, 0, 0, 0, 0, 0, 0, 0]) 20\n",
      "Epoch [12/20], Step [2/8], Loss: 0.6942\n",
      "tensor([0, 0, 0, 1, 0, 0, 0, 1, 1, 1, 1, 0, 0, 0, 1, 1, 1, 0, 1, 1])\n",
      "tensor([0, 0, 0, 0, 0, 0, 0, 0, 0, 0, 0, 0, 0, 0, 0, 0, 0, 0, 0, 0]) 20\n",
      "Epoch [12/20], Step [3/8], Loss: 0.6931\n",
      "tensor([0, 1, 0, 1, 0, 0, 0, 1, 1, 0, 0, 1, 0, 1, 1, 0, 0, 0, 1, 0])\n",
      "tensor([0, 0, 0, 0, 0, 0, 0, 0, 0, 0, 0, 0, 0, 0, 0, 0, 0, 0, 0, 0]) 20\n",
      "Epoch [12/20], Step [4/8], Loss: 0.6931\n",
      "tensor([1, 0, 0, 0, 0, 1, 1, 1, 0, 1, 1, 1, 0, 1, 0, 0, 0, 0, 0, 0])\n",
      "tensor([0, 0, 0, 0, 0, 0, 0, 0, 0, 0, 0, 0, 0, 0, 0, 0, 0, 0, 0, 0]) 20\n",
      "Epoch [12/20], Step [5/8], Loss: 0.6931\n",
      "tensor([1, 1, 1, 0, 0, 0, 1, 0, 1, 0, 1, 0, 0, 1, 0, 0, 0, 0, 0, 1])\n",
      "tensor([0, 0, 0, 0, 0, 0, 0, 0, 0, 0, 0, 0, 0, 0, 0, 0, 0, 0, 0, 0]) 20\n",
      "Epoch [12/20], Step [6/8], Loss: 0.6928\n",
      "tensor([1, 1, 1, 1, 1, 1, 1, 1, 1, 1, 0, 0, 0, 1, 1, 1, 0, 0, 1, 0])\n",
      "tensor([0, 0, 0, 0, 0, 0, 0, 0, 0, 0, 0, 0, 0, 0, 0, 0, 0, 0, 0, 0]) 20\n",
      "Epoch [12/20], Step [7/8], Loss: 0.6948\n",
      "tensor([1, 0, 0, 0, 0, 1, 0, 0, 1, 0, 1, 1, 1, 0, 1, 0, 0, 0, 0, 1])\n",
      "tensor([0, 0, 0, 0, 0, 0, 0, 0, 0, 0, 0, 0, 0, 0, 0, 0, 0, 0, 0, 0]) 20\n",
      "Epoch [12/20], Step [8/8], Loss: 0.6924\n",
      "tensor([1, 0, 1, 1, 1, 1, 1, 0, 1, 1, 1, 0, 1, 1, 0, 1, 1, 1, 0, 0])\n",
      "tensor([0, 0, 0, 0, 0, 0, 0, 0, 0, 0, 0, 0, 0, 0, 0, 0, 0, 0, 0, 0]) 20\n",
      "Epoch [13/20], Step [1/8], Loss: 0.6951\n",
      "tensor([0, 0, 1, 1, 0, 1, 1, 1, 1, 0, 1, 1, 1, 1, 0, 1, 0, 1, 0, 0])\n",
      "tensor([0, 0, 0, 0, 0, 0, 0, 0, 0, 0, 0, 0, 0, 0, 0, 0, 0, 0, 0, 0]) 20\n",
      "Epoch [13/20], Step [2/8], Loss: 0.6938\n",
      "tensor([1, 1, 0, 1, 1, 1, 1, 0, 0, 0, 1, 1, 1, 0, 0, 0, 0, 0, 0, 1])\n",
      "tensor([0, 0, 0, 0, 0, 0, 0, 0, 0, 0, 0, 0, 0, 0, 0, 0, 0, 0, 0, 0]) 20\n",
      "Epoch [13/20], Step [3/8], Loss: 0.6931\n",
      "tensor([1, 0, 1, 1, 1, 0, 0, 0, 0, 1, 1, 1, 1, 0, 1, 1, 0, 0, 0, 0])\n",
      "tensor([1, 1, 1, 1, 1, 1, 1, 1, 1, 1, 1, 1, 1, 1, 1, 1, 1, 1, 1, 1]) 20\n",
      "Epoch [13/20], Step [4/8], Loss: 0.6931\n",
      "tensor([0, 1, 0, 1, 0, 0, 1, 0, 0, 0, 1, 0, 0, 0, 0, 0, 0, 1, 1, 0])\n",
      "tensor([1, 1, 1, 1, 1, 1, 1, 1, 1, 1, 1, 1, 1, 1, 1, 1, 1, 1, 1, 1]) 20\n",
      "Epoch [13/20], Step [5/8], Loss: 0.6950\n",
      "tensor([0, 0, 0, 1, 0, 1, 1, 1, 1, 1, 0, 1, 1, 1, 1, 0, 0, 1, 1, 1])\n",
      "tensor([1, 1, 1, 1, 1, 1, 1, 1, 1, 1, 1, 1, 1, 1, 1, 1, 1, 1, 1, 1]) 20\n",
      "Epoch [13/20], Step [6/8], Loss: 0.6919\n",
      "tensor([0, 1, 0, 0, 0, 1, 1, 0, 0, 0, 0, 0, 0, 1, 1, 0, 0, 1, 0, 1])\n",
      "tensor([1, 1, 1, 1, 1, 1, 1, 1, 1, 1, 1, 1, 1, 1, 1, 1, 1, 1, 1, 1]) 20\n",
      "Epoch [13/20], Step [7/8], Loss: 0.6948\n",
      "tensor([1, 1, 0, 0, 0, 0, 0, 0, 0, 0, 1, 1, 1, 0, 1, 0, 0, 0, 1, 1])\n",
      "tensor([1, 1, 1, 1, 1, 1, 1, 1, 1, 1, 1, 1, 1, 1, 1, 1, 1, 1, 1, 1]) 20\n",
      "Epoch [13/20], Step [8/8], Loss: 0.6941\n",
      "tensor([0, 0, 1, 0, 0, 1, 0, 0, 0, 1, 0, 1, 1, 0, 1, 0, 1, 1, 1, 0])\n",
      "tensor([1, 1, 1, 1, 1, 1, 1, 1, 1, 1, 1, 1, 1, 1, 1, 1, 1, 1, 1, 1]) 20\n",
      "Epoch [14/20], Step [1/8], Loss: 0.6934\n",
      "tensor([1, 0, 1, 1, 1, 0, 0, 1, 0, 1, 0, 0, 0, 1, 1, 0, 1, 0, 0, 0])\n",
      "tensor([1, 1, 1, 1, 1, 1, 1, 1, 1, 1, 1, 1, 1, 1, 1, 1, 1, 1, 1, 1]) 20\n",
      "Epoch [14/20], Step [2/8], Loss: 0.6932\n",
      "tensor([0, 0, 0, 0, 1, 0, 0, 0, 1, 1, 1, 1, 1, 1, 1, 1, 0, 1, 1, 0])\n",
      "tensor([0, 0, 0, 0, 0, 0, 0, 0, 0, 0, 0, 0, 0, 0, 0, 0, 0, 0, 0, 0]) 20\n",
      "Epoch [14/20], Step [3/8], Loss: 0.6934\n",
      "tensor([1, 0, 0, 1, 1, 1, 0, 0, 1, 1, 1, 1, 1, 1, 1, 0, 1, 0, 1, 0])\n",
      "tensor([0, 0, 0, 0, 0, 0, 0, 0, 0, 0, 0, 0, 0, 0, 0, 0, 0, 0, 0, 0]) 20\n",
      "Epoch [14/20], Step [4/8], Loss: 0.6946\n",
      "tensor([1, 0, 0, 0, 0, 1, 1, 1, 0, 0, 0, 1, 0, 1, 1, 0, 1, 1, 1, 0])\n",
      "tensor([0, 0, 0, 0, 0, 0, 0, 0, 0, 0, 0, 0, 0, 0, 0, 0, 0, 0, 0, 0]) 20\n",
      "Epoch [14/20], Step [5/8], Loss: 0.6932\n",
      "tensor([1, 0, 1, 1, 0, 1, 0, 1, 1, 0, 0, 1, 0, 0, 1, 1, 0, 0, 0, 0])\n",
      "tensor([0, 0, 0, 0, 0, 0, 0, 0, 0, 0, 0, 0, 0, 0, 0, 0, 0, 0, 0, 0]) 20\n",
      "Epoch [14/20], Step [6/8], Loss: 0.6927\n",
      "tensor([0, 0, 1, 1, 1, 1, 0, 1, 1, 1, 0, 1, 1, 0, 0, 0, 0, 1, 1, 0])\n",
      "tensor([0, 0, 0, 0, 0, 0, 0, 0, 0, 0, 0, 0, 0, 0, 0, 0, 0, 0, 0, 0]) 20\n",
      "Epoch [14/20], Step [7/8], Loss: 0.6937\n",
      "tensor([0, 1, 1, 0, 0, 1, 0, 1, 0, 1, 1, 1, 0, 0, 0, 0, 0, 0, 1, 0])\n",
      "tensor([0, 0, 0, 0, 0, 0, 0, 0, 0, 0, 0, 0, 0, 0, 0, 0, 0, 0, 0, 0]) 20\n",
      "Epoch [14/20], Step [8/8], Loss: 0.6922\n",
      "tensor([0, 1, 0, 1, 1, 0, 1, 0, 1, 1, 1, 0, 1, 1, 1, 1, 1, 0, 1, 1])\n",
      "tensor([0, 0, 0, 0, 0, 0, 0, 0, 0, 0, 0, 0, 0, 0, 0, 0, 0, 0, 0, 0]) 20\n",
      "Epoch [15/20], Step [1/8], Loss: 0.6954\n",
      "tensor([0, 0, 0, 1, 1, 0, 0, 1, 0, 0, 1, 0, 1, 0, 1, 0, 0, 0, 0, 0])\n",
      "tensor([0, 0, 0, 0, 0, 0, 0, 0, 0, 0, 0, 0, 0, 0, 0, 0, 0, 0, 0, 0]) 20\n",
      "Epoch [15/20], Step [2/8], Loss: 0.6915\n",
      "tensor([1, 0, 1, 1, 0, 0, 1, 0, 1, 0, 0, 0, 1, 1, 0, 0, 1, 1, 0, 0])\n",
      "tensor([0, 0, 0, 0, 0, 0, 0, 0, 0, 0, 0, 0, 0, 0, 0, 0, 0, 0, 0, 0]) 20\n",
      "Epoch [15/20], Step [3/8], Loss: 0.6926\n",
      "tensor([1, 1, 1, 0, 1, 1, 0, 0, 1, 0, 0, 0, 1, 0, 1, 1, 1, 0, 0, 1])\n",
      "tensor([0, 0, 0, 0, 0, 0, 0, 0, 0, 0, 0, 0, 0, 0, 0, 0, 0, 0, 0, 0]) 20\n",
      "Epoch [15/20], Step [4/8], Loss: 0.6938\n",
      "tensor([1, 0, 1, 1, 0, 0, 0, 0, 0, 0, 1, 1, 0, 0, 1, 0, 1, 0, 1, 1])\n",
      "tensor([0, 0, 0, 0, 0, 0, 0, 0, 0, 0, 0, 0, 0, 0, 0, 0, 0, 0, 0, 0]) 20\n",
      "Epoch [15/20], Step [5/8], Loss: 0.6925\n",
      "tensor([0, 1, 0, 1, 0, 0, 0, 1, 0, 1, 0, 1, 1, 0, 1, 1, 0, 0, 0, 0])\n",
      "tensor([0, 0, 0, 0, 0, 0, 0, 0, 0, 0, 0, 0, 0, 0, 0, 0, 0, 0, 0, 0]) 20\n",
      "Epoch [15/20], Step [6/8], Loss: 0.6915\n",
      "tensor([1, 0, 1, 1, 1, 1, 1, 1, 1, 1, 0, 1, 0, 1, 0, 0, 0, 1, 0, 0])\n",
      "tensor([0, 0, 0, 0, 0, 0, 0, 0, 0, 0, 0, 0, 0, 0, 0, 0, 0, 0, 0, 0]) 20\n",
      "Epoch [15/20], Step [7/8], Loss: 0.6953\n",
      "tensor([0, 0, 0, 1, 1, 0, 1, 1, 1, 1, 0, 0, 1, 0, 1, 1, 0, 1, 0, 1])\n",
      "tensor([0, 0, 0, 0, 0, 0, 0, 0, 0, 0, 0, 0, 0, 0, 0, 0, 0, 0, 0, 0]) 20\n",
      "Epoch [15/20], Step [8/8], Loss: 0.6943\n",
      "tensor([1, 1, 1, 0, 1, 1, 0, 0, 1, 0, 0, 1, 0, 0, 0, 0, 1, 1, 1, 1])\n",
      "tensor([0, 0, 0, 0, 0, 0, 0, 0, 0, 0, 0, 0, 0, 0, 0, 0, 0, 0, 0, 0]) 20\n",
      "Epoch [16/20], Step [1/8], Loss: 0.6943\n",
      "tensor([0, 1, 0, 0, 1, 1, 1, 1, 1, 1, 0, 0, 1, 1, 0, 1, 0, 1, 0, 1])\n",
      "tensor([0, 0, 0, 0, 0, 0, 0, 0, 0, 0, 0, 0, 0, 0, 0, 0, 0, 0, 0, 0]) 20\n",
      "Epoch [16/20], Step [2/8], Loss: 0.6953\n",
      "tensor([0, 1, 0, 1, 0, 0, 0, 1, 0, 1, 0, 0, 1, 0, 0, 1, 0, 1, 1, 1])\n",
      "tensor([0, 0, 0, 0, 0, 0, 0, 0, 0, 0, 0, 0, 0, 0, 0, 0, 0, 0, 0, 0]) 20\n",
      "Epoch [16/20], Step [3/8], Loss: 0.6923\n",
      "tensor([0, 1, 0, 1, 1, 0, 0, 0, 0, 1, 0, 0, 0, 1, 1, 0, 0, 1, 0, 1])\n",
      "tensor([0, 0, 0, 0, 0, 0, 0, 0, 0, 0, 0, 0, 0, 0, 0, 0, 0, 0, 0, 0]) 20\n",
      "Epoch [16/20], Step [4/8], Loss: 0.6916\n",
      "tensor([0, 0, 0, 1, 1, 0, 1, 0, 0, 0, 0, 1, 0, 1, 0, 0, 1, 0, 0, 1])\n",
      "tensor([0, 0, 0, 0, 0, 0, 0, 0, 0, 0, 0, 0, 0, 0, 0, 0, 0, 0, 0, 0]) 20\n",
      "Epoch [16/20], Step [5/8], Loss: 0.6908\n",
      "tensor([0, 0, 0, 1, 0, 1, 0, 1, 0, 1, 1, 0, 0, 0, 1, 0, 1, 0, 1, 1])\n",
      "tensor([0, 0, 0, 0, 0, 0, 0, 0, 0, 0, 0, 0, 0, 0, 0, 0, 0, 0, 0, 0]) 20\n",
      "Epoch [16/20], Step [6/8], Loss: 0.6922\n",
      "tensor([1, 1, 1, 1, 0, 0, 0, 0, 0, 0, 0, 1, 0, 0, 1, 1, 1, 1, 0, 1])\n",
      "tensor([0, 0, 0, 0, 0, 0, 0, 0, 0, 0, 0, 0, 0, 0, 0, 0, 0, 0, 0, 0]) 20\n",
      "Epoch [16/20], Step [7/8], Loss: 0.6932\n",
      "tensor([0, 1, 1, 1, 1, 1, 1, 0, 1, 1, 1, 1, 1, 1, 0, 0, 0, 0, 1, 1])\n",
      "tensor([0, 0, 0, 0, 0, 0, 0, 0, 0, 0, 0, 0, 0, 0, 0, 0, 0, 0, 0, 0]) 20\n",
      "Epoch [16/20], Step [8/8], Loss: 0.6987\n",
      "tensor([0, 0, 1, 1, 1, 0, 0, 0, 1, 1, 0, 1, 1, 1, 0, 0, 1, 1, 1, 1])\n",
      "tensor([0, 0, 0, 0, 0, 0, 0, 0, 0, 0, 0, 0, 0, 0, 0, 0, 0, 0, 0, 0]) 20\n",
      "Epoch [17/20], Step [1/8], Loss: 0.6959\n",
      "tensor([0, 0, 0, 1, 0, 0, 0, 0, 1, 1, 1, 0, 0, 0, 1, 1, 1, 0, 0, 0])\n",
      "tensor([0, 0, 0, 0, 0, 0, 0, 0, 0, 0, 0, 0, 0, 0, 0, 0, 0, 0, 0, 0]) 20\n",
      "Epoch [17/20], Step [2/8], Loss: 0.6898\n",
      "tensor([1, 0, 1, 0, 1, 0, 1, 0, 0, 1, 1, 0, 0, 0, 0, 0, 0, 0, 0, 1])\n",
      "tensor([0, 0, 0, 0, 0, 0, 0, 0, 0, 0, 0, 0, 0, 0, 0, 0, 0, 0, 0, 0]) 20\n",
      "Epoch [17/20], Step [3/8], Loss: 0.6898\n",
      "tensor([1, 1, 1, 1, 0, 0, 0, 0, 0, 0, 1, 1, 0, 1, 1, 1, 1, 1, 0, 0])\n",
      "tensor([0, 0, 0, 0, 0, 0, 0, 0, 0, 0, 0, 0, 0, 0, 0, 0, 0, 0, 0, 0]) 20\n",
      "Epoch [17/20], Step [4/8], Loss: 0.6945\n",
      "tensor([0, 0, 0, 1, 0, 1, 0, 0, 0, 1, 0, 1, 1, 1, 1, 0, 0, 1, 0, 1])\n",
      "tensor([0, 0, 0, 0, 0, 0, 0, 0, 0, 0, 0, 0, 0, 0, 0, 0, 0, 0, 0, 0]) 20\n",
      "Epoch [17/20], Step [5/8], Loss: 0.6919\n",
      "tensor([1, 0, 0, 1, 1, 0, 0, 1, 0, 1, 1, 0, 0, 0, 0, 1, 0, 0, 1, 1])\n",
      "tensor([0, 0, 0, 0, 0, 0, 0, 0, 0, 0, 0, 0, 0, 0, 0, 0, 0, 0, 0, 0]) 20\n",
      "Epoch [17/20], Step [6/8], Loss: 0.6917\n",
      "tensor([1, 0, 0, 1, 1, 1, 1, 1, 0, 1, 0, 0, 1, 0, 1, 1, 1, 0, 1, 0])\n",
      "tensor([0, 0, 0, 0, 0, 0, 0, 0, 0, 0, 0, 0, 0, 0, 0, 0, 0, 0, 0, 0]) 20\n",
      "Epoch [17/20], Step [7/8], Loss: 0.6966\n",
      "tensor([1, 0, 1, 1, 0, 0, 1, 1, 1, 1, 0, 0, 0, 1, 0, 1, 1, 1, 1, 1])\n",
      "tensor([0, 0, 0, 0, 0, 0, 0, 0, 0, 0, 0, 0, 0, 0, 0, 0, 0, 0, 0, 0]) 20\n",
      "Epoch [17/20], Step [8/8], Loss: 0.6984\n",
      "tensor([0, 0, 0, 0, 0, 1, 1, 0, 1, 0, 0, 1, 0, 0, 0, 0, 0, 1, 1, 1])\n",
      "tensor([0, 0, 0, 0, 0, 0, 0, 0, 0, 0, 0, 0, 0, 0, 0, 0, 0, 0, 0, 0]) 20\n",
      "Epoch [18/20], Step [1/8], Loss: 0.6886\n",
      "tensor([0, 1, 1, 1, 0, 1, 0, 0, 1, 1, 0, 1, 0, 0, 1, 0, 1, 0, 1, 1])\n",
      "tensor([0, 0, 0, 0, 0, 0, 0, 0, 0, 0, 0, 0, 0, 0, 0, 0, 0, 0, 0, 0]) 20\n",
      "Epoch [18/20], Step [2/8], Loss: 0.6948\n",
      "tensor([0, 1, 1, 0, 0, 1, 1, 1, 0, 1, 1, 0, 0, 0, 0, 0, 0, 1, 1, 0])\n",
      "tensor([0, 0, 0, 0, 0, 0, 0, 0, 0, 0, 0, 0, 0, 0, 0, 0, 0, 0, 0, 0]) 20\n",
      "Epoch [18/20], Step [3/8], Loss: 0.6917\n",
      "tensor([1, 0, 1, 0, 1, 0, 1, 0, 0, 0, 0, 0, 1, 0, 1, 1, 0, 1, 1, 0])\n",
      "tensor([0, 0, 0, 0, 0, 0, 0, 0, 0, 0, 0, 0, 0, 0, 0, 0, 0, 0, 0, 0]) 20\n",
      "Epoch [18/20], Step [4/8], Loss: 0.6917\n",
      "tensor([1, 1, 0, 0, 1, 0, 1, 1, 1, 1, 1, 0, 0, 0, 0, 1, 1, 0, 1, 1])\n",
      "tensor([0, 0, 0, 0, 0, 0, 0, 0, 0, 0, 0, 0, 0, 0, 0, 0, 0, 0, 0, 0]) 20\n",
      "Epoch [18/20], Step [5/8], Loss: 0.6964\n",
      "tensor([1, 1, 0, 1, 0, 0, 1, 1, 1, 1, 1, 0, 1, 1, 1, 1, 0, 0, 0, 1])\n",
      "tensor([0, 0, 0, 0, 0, 0, 0, 0, 0, 0, 0, 0, 0, 0, 0, 0, 0, 0, 0, 0]) 20\n",
      "Epoch [18/20], Step [6/8], Loss: 0.6978\n",
      "tensor([0, 0, 1, 1, 1, 1, 1, 1, 1, 1, 0, 0, 1, 0, 1, 1, 0, 0, 0, 0])\n",
      "tensor([0, 0, 0, 0, 0, 0, 0, 0, 0, 0, 0, 0, 0, 0, 0, 0, 0, 0, 0, 0]) 20\n",
      "Epoch [18/20], Step [7/8], Loss: 0.6945\n",
      "tensor([1, 0, 0, 0, 1, 1, 1, 1, 0, 1, 0, 0, 0, 0, 0, 0, 0, 1, 0, 1])\n",
      "tensor([0, 0, 0, 0, 0, 0, 0, 0, 0, 0, 0, 0, 0, 0, 0, 0, 0, 0, 0, 0]) 20\n",
      "Epoch [18/20], Step [8/8], Loss: 0.6912\n",
      "tensor([0, 1, 1, 0, 1, 1, 1, 1, 0, 0, 0, 1, 1, 0, 1, 0, 1, 1, 0, 1])\n",
      "tensor([0, 0, 0, 0, 0, 0, 0, 0, 0, 0, 0, 0, 0, 0, 0, 0, 0, 0, 0, 0]) 20\n",
      "Epoch [19/20], Step [1/8], Loss: 0.6949\n",
      "tensor([1, 0, 0, 1, 1, 1, 0, 0, 1, 1, 0, 1, 0, 1, 1, 1, 0, 0, 0, 0])\n",
      "tensor([0, 0, 0, 0, 0, 0, 0, 0, 0, 0, 0, 0, 0, 0, 0, 0, 0, 0, 0, 0]) 20\n",
      "Epoch [19/20], Step [2/8], Loss: 0.6932\n",
      "tensor([1, 0, 1, 0, 1, 1, 0, 0, 0, 1, 0, 0, 0, 1, 1, 1, 0, 1, 1, 1])\n",
      "tensor([0, 0, 0, 0, 0, 0, 0, 0, 0, 0, 0, 0, 0, 0, 0, 0, 0, 0, 0, 0]) 20\n",
      "Epoch [19/20], Step [3/8], Loss: 0.6935\n",
      "tensor([1, 1, 0, 0, 0, 0, 1, 1, 1, 0, 0, 1, 0, 1, 1, 0, 0, 1, 0, 1])\n",
      "tensor([0, 0, 0, 0, 0, 0, 0, 0, 0, 0, 0, 0, 0, 0, 0, 0, 0, 0, 0, 0]) 20\n",
      "Epoch [19/20], Step [4/8], Loss: 0.6931\n",
      "tensor([1, 1, 1, 1, 0, 0, 0, 0, 0, 0, 0, 1, 1, 1, 1, 0, 0, 1, 1, 1])\n",
      "tensor([1, 1, 1, 1, 1, 1, 1, 1, 1, 1, 1, 1, 1, 1, 1, 1, 1, 1, 1, 1]) 20\n",
      "Epoch [19/20], Step [5/8], Loss: 0.6930\n",
      "tensor([0, 0, 0, 0, 0, 0, 0, 0, 1, 0, 1, 1, 0, 1, 0, 0, 1, 0, 0, 0])\n",
      "tensor([1, 1, 1, 1, 1, 1, 1, 1, 1, 1, 1, 1, 1, 1, 1, 1, 1, 1, 1, 1]) 20\n",
      "Epoch [19/20], Step [6/8], Loss: 0.6953\n",
      "tensor([1, 0, 1, 1, 0, 1, 0, 0, 0, 0, 1, 1, 0, 0, 0, 1, 0, 0, 1, 1])\n",
      "tensor([1, 1, 1, 1, 1, 1, 1, 1, 1, 1, 1, 1, 1, 1, 1, 1, 1, 1, 1, 1]) 20\n",
      "Epoch [19/20], Step [7/8], Loss: 0.6935\n",
      "tensor([0, 1, 0, 1, 0, 0, 1, 0, 1, 1, 1, 0, 0, 1, 1, 0, 1, 1, 1, 1])\n",
      "tensor([1, 1, 1, 1, 1, 1, 1, 1, 1, 1, 1, 1, 1, 1, 1, 1, 1, 1, 1, 1]) 20\n",
      "Epoch [19/20], Step [8/8], Loss: 0.6927\n",
      "tensor([1, 1, 1, 0, 1, 1, 0, 1, 0, 0, 0, 0, 1, 0, 1, 1, 1, 0, 1, 1])\n",
      "tensor([1, 1, 1, 1, 1, 1, 1, 1, 1, 1, 1, 1, 1, 1, 1, 1, 1, 1, 1, 1]) 20\n",
      "Epoch [20/20], Step [1/8], Loss: 0.6926\n",
      "tensor([0, 0, 1, 0, 1, 1, 0, 0, 1, 0, 0, 0, 1, 0, 1, 0, 0, 0, 1, 1])\n",
      "tensor([1, 1, 1, 1, 1, 1, 1, 1, 1, 1, 1, 1, 1, 1, 1, 1, 1, 1, 1, 1]) 20\n",
      "Epoch [20/20], Step [2/8], Loss: 0.6939\n",
      "tensor([1, 1, 0, 1, 0, 1, 0, 0, 0, 0, 0, 0, 0, 0, 1, 0, 1, 0, 1, 1])\n",
      "tensor([1, 1, 1, 1, 1, 1, 1, 1, 1, 1, 1, 1, 1, 1, 1, 1, 1, 1, 1, 1]) 20\n",
      "Epoch [20/20], Step [3/8], Loss: 0.6939\n",
      "tensor([0, 0, 0, 0, 0, 0, 0, 1, 0, 1, 1, 1, 0, 0, 1, 0, 1, 0, 1, 1])\n",
      "tensor([1, 1, 1, 1, 1, 1, 1, 1, 1, 1, 1, 1, 1, 1, 1, 1, 1, 1, 1, 1]) 20\n",
      "Epoch [20/20], Step [4/8], Loss: 0.6937\n",
      "tensor([1, 1, 0, 0, 1, 1, 1, 1, 0, 1, 1, 0, 1, 1, 1, 1, 1, 1, 0, 0])\n",
      "tensor([1, 1, 1, 1, 1, 1, 1, 1, 1, 1, 1, 1, 1, 1, 1, 1, 1, 1, 1, 1]) 20\n",
      "Epoch [20/20], Step [5/8], Loss: 0.6931\n",
      "tensor([0, 1, 1, 0, 0, 1, 1, 1, 0, 1, 0, 1, 1, 1, 0, 0, 1, 1, 0, 1])\n",
      "tensor([1, 1, 1, 1, 1, 1, 1, 1, 1, 1, 1, 1, 1, 1, 1, 1, 1, 1, 1, 1]) 20\n",
      "Epoch [20/20], Step [6/8], Loss: 0.6931\n",
      "tensor([0, 0, 0, 0, 0, 0, 0, 1, 1, 0, 1, 0, 0, 0, 0, 1, 0, 0, 1, 1])\n",
      "tensor([1, 1, 1, 1, 1, 1, 1, 1, 1, 1, 1, 1, 1, 1, 1, 1, 1, 1, 1, 1]) 20\n",
      "Epoch [20/20], Step [7/8], Loss: 0.6938\n",
      "tensor([1, 1, 1, 1, 1, 0, 0, 0, 0, 1, 1, 1, 1, 1, 1, 1, 0, 0, 0, 0])\n",
      "tensor([1, 1, 1, 1, 1, 1, 1, 1, 1, 1, 1, 1, 1, 1, 1, 1, 1, 1, 1, 1]) 20\n",
      "Epoch [20/20], Step [8/8], Loss: 0.6930\n"
     ]
    }
   ],
   "source": [
    "# 모델 할당 후 학습\n",
    "model = RNN(input_size, hidden_size, num_layers, num_classes).to(DEVICE) # \n",
    "\n",
    "# 손실 함수와 옵티마이저 정의\n",
    "criterion = nn.CrossEntropyLoss().to(DEVICE) # 분류\n",
    "optimizer = torch.optim.Adam(model.parameters())\n",
    "scheduler = optim.lr_scheduler.ReduceLROnPlateau(optimizer)\n",
    "\n",
    "# 학습\n",
    "\n",
    "total_step = len(train_DL) # 배치 개수\n",
    "for epoch in range(num_epochs):\n",
    "    for i, (images, labels) in enumerate(train_DL):\n",
    "       # print(images.shape, images.reshape(-1, sequence_length, input_size).shape)\n",
    "       images = images.reshape(-1, 100, 100).to(DEVICE) # (BATCH, 1, 28, 28) -> (BATCH, 28, 28)\n",
    "       \n",
    "       # print(\"이미지\", images.shape)\n",
    "       var, mean = torch.var_mean(images, dim=1, keepdim=True)\n",
    "       # print(var.shape)\n",
    "       # print(var.permute(0, 2, 1).shape)\n",
    "       timed_var = var.permute(0, 2, 1)\n",
    "       timed_mean = mean.permute(0, 2, 1)\n",
    "       \n",
    "       timed_feature = torch.cat((timed_var, timed_mean), dim=-1)\n",
    "       # print(timed_feature.shape)\n",
    "       \n",
    "       labels = labels.to(DEVICE)\n",
    "       print(labels)\n",
    "\n",
    "       # 순전파\n",
    "       outputs = model(timed_feature)\n",
    "       print(torch.argmax(outputs, dim=1),len(torch.argmax(outputs, dim=1)))\n",
    "       # print(labels)\n",
    "       # print()\n",
    "       \n",
    "    #    print(outputs.shape)\n",
    "    #    print()\n",
    "    #    print(labels.shape)\n",
    "       loss = criterion(outputs, labels)\n",
    "\n",
    "       # 역전파 & 최적화\n",
    "       optimizer.zero_grad()\n",
    "       loss.backward()\n",
    "       optimizer.step()\n",
    "\n",
    "       if (i+1) % 1 == 0: \n",
    "         print('Epoch [{}/{}], Step [{}/{}], Loss: {:.4f}'.format(\n",
    "             epoch+1, num_epochs, i+1, total_step, loss.item()))"
   ]
  },
  {
   "cell_type": "markdown",
   "id": "5b4a2ea813056aa1",
   "metadata": {
    "collapsed": false
   },
   "source": [
    "# 모델 평가"
   ]
  },
  {
   "cell_type": "code",
   "execution_count": 19,
   "id": "229021f352237493",
   "metadata": {
    "collapsed": false,
    "ExecuteTime": {
     "end_time": "2024-04-14T23:21:50.639082600Z",
     "start_time": "2024-04-14T23:21:50.509872700Z"
    }
   },
   "outputs": [
    {
     "name": "stdout",
     "output_type": "stream",
     "text": [
      "tensor([0, 0, 0, 0, 0, 0, 0, 0, 0, 0, 1, 1, 1, 1, 1, 1, 1, 1, 1, 1])\n",
      "Accuracy: 50.0 %\n"
     ]
    }
   ],
   "source": [
    "model.eval() # Dropout, Batchnorm 등 실행 x\n",
    "with torch.no_grad():\n",
    "    correct = 0\n",
    "    total = 0\n",
    "    for images, labels in test_DL:\n",
    "        images = images.reshape(-1, 100, 100).to(DEVICE)\n",
    "        \n",
    "        var, mean = torch.var_mean(images, dim=1, keepdim=True)\n",
    "        # print(var.shape)\n",
    "        # # print(var.permute(0, 2, 1).shape)\n",
    "        timed_var = var.permute(0, 2, 1)\n",
    "        timed_mean = var.permute(0, 2, 1)\n",
    "        \n",
    "        timed_feature = torch.cat((timed_var, timed_mean), dim=-1)\n",
    "        # print(timed_feature.shape)\n",
    "        labels = labels.to(DEVICE)\n",
    "        print(labels)\n",
    "        \n",
    "        outputs = model(timed_feature)\n",
    "    \n",
    "        _, predicted = torch.max(outputs, 1) # logit(확률)이 가장 큰 class index 반환\n",
    "        total += labels.size(0)\n",
    "        correct += (predicted == labels).sum().item()\n",
    "    \n",
    "    print('Accuracy: {} %'.format(100 * correct / total)) \n"
   ]
  },
  {
   "cell_type": "code",
   "execution_count": 20,
   "id": "e03bee4449c978bd",
   "metadata": {
    "collapsed": false,
    "ExecuteTime": {
     "end_time": "2024-04-14T23:21:50.653010500Z",
     "start_time": "2024-04-14T23:21:50.634642900Z"
    }
   },
   "outputs": [
    {
     "data": {
      "text/plain": "tensor([[2.3761, 0.0182],\n        [1.0296, 0.1660],\n        [1.2126, 0.5576],\n        [0.0000, 0.0000]])"
     },
     "execution_count": 20,
     "metadata": {},
     "output_type": "execute_result"
    }
   ],
   "source": [
    "a = torch.tensor([\n",
    "\t[ 1.5027, -0.3270,  0.5905,  0.],\n",
    "\t[-1.5745,  1.3330, -0.5596, -0.],\n",
    "\t[ 0.1264, -0.5080,  1.6420,  0.]])\n",
    "var, mean = torch.var_mean(a, dim=0, keepdim=True)\n",
    "var = var.permute(1, 0)\n",
    "mean = mean.permute(1, 0)\n",
    "\n",
    "torch.cat((var, mean), dim=1)"
   ]
  },
  {
   "cell_type": "code",
   "execution_count": null,
   "id": "3569f7c0",
   "metadata": {},
   "outputs": [],
   "source": []
  },
  {
   "cell_type": "code",
   "execution_count": null,
   "id": "84d4a6239ba3c9c7",
   "metadata": {
    "ExecuteTime": {
     "end_time": "2024-04-05T00:07:06.732205600Z",
     "start_time": "2024-04-05T00:07:06.710186Z"
    },
    "collapsed": false
   },
   "outputs": [],
   "source": [
    "# torch.save(model.state_dict(), 'RNN.pth')"
   ]
  },
  {
   "cell_type": "code",
   "execution_count": null,
   "id": "42176a7feb3b07a2",
   "metadata": {
    "ExecuteTime": {
     "end_time": "2024-04-05T00:07:06.741884700Z",
     "start_time": "2024-04-05T00:07:06.724838100Z"
    },
    "collapsed": false
   },
   "outputs": [],
   "source": []
  }
 ],
 "metadata": {
  "kernelspec": {
   "display_name": "Python 3",
   "language": "python",
   "name": "python3"
  },
  "language_info": {
   "codemirror_mode": {
    "name": "ipython",
    "version": 3
   },
   "file_extension": ".py",
   "mimetype": "text/x-python",
   "name": "python",
   "nbconvert_exporter": "python",
   "pygments_lexer": "ipython3",
   "version": "3.8.19"
  }
 },
 "nbformat": 4,
 "nbformat_minor": 5
}
