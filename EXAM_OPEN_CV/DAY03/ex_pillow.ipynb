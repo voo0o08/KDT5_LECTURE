{
 "cells": [
  {
   "cell_type": "code",
   "execution_count": 41,
   "id": "initial_id",
   "metadata": {
    "collapsed": true,
    "ExecuteTime": {
     "end_time": "2024-03-25T07:30:59.480366500Z",
     "start_time": "2024-03-25T07:30:59.469241900Z"
    }
   },
   "outputs": [],
   "source": [
    "# 모듈 로딩\n",
    "from PIL import Image\n",
    "import torchvision.transforms as transforms\n",
    "from torch.utils.data import DataLoader"
   ]
  },
  {
   "cell_type": "code",
   "outputs": [],
   "source": [
    "# https://pytorch.org/vision/stable/generated/torchvision.transforms.v2.ToTensor.html#torchvision.transforms.v2.ToTensor"
   ],
   "metadata": {
    "collapsed": false,
    "ExecuteTime": {
     "end_time": "2024-03-25T06:41:07.831884Z",
     "start_time": "2024-03-25T06:41:07.820131800Z"
    }
   },
   "id": "cb040b82dabb20ae",
   "execution_count": 1
  },
  {
   "cell_type": "code",
   "outputs": [],
   "source": [
    "# 이미지 데이터 로딩 \n",
    "file = \"../data/img/img2.png\""
   ],
   "metadata": {
    "collapsed": false,
    "ExecuteTime": {
     "end_time": "2024-03-25T06:48:26.935933400Z",
     "start_time": "2024-03-25T06:48:26.929320100Z"
    }
   },
   "id": "15412f876320d77e",
   "execution_count": 4
  },
  {
   "cell_type": "code",
   "outputs": [
    {
     "data": {
      "text/plain": "('PNG', 816, 550, 'RGBA', PIL.PngImagePlugin.PngImageFile)"
     },
     "execution_count": 6,
     "metadata": {},
     "output_type": "execute_result"
    }
   ],
   "source": [
    "catImg = Image.open(file)\n",
    "\n",
    "catImg.format, catImg.height, catImg.width, catImg.mode, type(catImg)"
   ],
   "metadata": {
    "collapsed": false,
    "ExecuteTime": {
     "end_time": "2024-03-25T06:49:20.825428100Z",
     "start_time": "2024-03-25T06:49:20.809355700Z"
    }
   },
   "id": "60950e54ac7050a1",
   "execution_count": 6
  },
  {
   "cell_type": "code",
   "outputs": [
    {
     "name": "stdout",
     "output_type": "stream",
     "text": [
      "torch.Size([4, 816, 550]) 3\n",
      "tensor([[0.1529, 0.1490, 0.1529,  ..., 0.5725, 0.5569, 0.5686],\n",
      "        [0.1529, 0.1490, 0.1412,  ..., 0.5686, 0.5490, 0.5451],\n",
      "        [0.1569, 0.1529, 0.1490,  ..., 0.5569, 0.5490, 0.5373],\n",
      "        ...,\n",
      "        [0.6588, 0.6588, 0.6431,  ..., 0.7961, 0.7725, 0.7765],\n",
      "        [0.6588, 0.6431, 0.6510,  ..., 0.8039, 0.8000, 0.8039],\n",
      "        [0.6549, 0.6667, 0.6549,  ..., 0.8196, 0.8157, 0.8078]])\n"
     ]
    }
   ],
   "source": [
    "# 사용법\n",
    "# 1. 인스턴스 생성\n",
    "to_tensor = (transforms.ToTensor()) # 채널 위치도 바꿔주고 알잘딱 0~1로 다 해줌 \n",
    "\n",
    "# 2. 인스턴스 변수 사용\n",
    "catTS = to_tensor(catImg)\n",
    "\n",
    "# 3. 변환된 이미지 텐서 확인\n",
    "print(catTS.shape, catTS.ndim)\n",
    "print(catTS[0])"
   ],
   "metadata": {
    "collapsed": false,
    "ExecuteTime": {
     "end_time": "2024-03-25T06:53:43.099361200Z",
     "start_time": "2024-03-25T06:53:43.074038900Z"
    }
   },
   "id": "d8e697315894377a",
   "execution_count": 11
  },
  {
   "cell_type": "markdown",
   "source": [
    "# openCV"
   ],
   "metadata": {
    "collapsed": false
   },
   "id": "55ba1594b206a0fe"
  },
  {
   "cell_type": "code",
   "outputs": [
    {
     "name": "stdout",
     "output_type": "stream",
     "text": [
      "BGR =>  <class 'numpy.ndarray'> (816, 550, 3) 3\n",
      "RGB =>  <class 'numpy.ndarray'> (816, 550, 3) 3\n"
     ]
    }
   ],
   "source": [
    "import cv2\n",
    "\n",
    "img = cv2.imread(file)\n",
    "img2 = cv2.cvtColor(img, cv2.COLOR_BGR2RGB)\n",
    "\n",
    "print(\"BGR => \", type(img), img.shape, img.ndim)\n",
    "print(\"RGB => \", type(img2), img2.shape, img2.ndim) # => shape은 바뀌지 않아요"
   ],
   "metadata": {
    "collapsed": false,
    "ExecuteTime": {
     "end_time": "2024-03-25T07:00:36.379377900Z",
     "start_time": "2024-03-25T07:00:36.344976600Z"
    }
   },
   "id": "4cdb2a1422184231",
   "execution_count": 19
  },
  {
   "cell_type": "code",
   "outputs": [
    {
     "name": "stdout",
     "output_type": "stream",
     "text": [
      "torch.Size([3, 816, 550]) 3\n",
      "tensor([[0.4000, 0.3961, 0.4000,  ..., 0.8588, 0.8431, 0.8549],\n",
      "        [0.4000, 0.3961, 0.3882,  ..., 0.8627, 0.8431, 0.8392],\n",
      "        [0.4039, 0.4000, 0.3961,  ..., 0.8627, 0.8549, 0.8431],\n",
      "        ...,\n",
      "        [0.6000, 0.6000, 0.5843,  ..., 0.7373, 0.7137, 0.7176],\n",
      "        [0.6000, 0.5843, 0.5922,  ..., 0.7373, 0.7412, 0.7451],\n",
      "        [0.5961, 0.6078, 0.5961,  ..., 0.7529, 0.7569, 0.7490]])\n",
      "torch.Size([3, 816, 550]) 3\n",
      "tensor([[0.1529, 0.1490, 0.1529,  ..., 0.5725, 0.5569, 0.5686],\n",
      "        [0.1529, 0.1490, 0.1412,  ..., 0.5686, 0.5490, 0.5451],\n",
      "        [0.1569, 0.1529, 0.1490,  ..., 0.5569, 0.5490, 0.5373],\n",
      "        ...,\n",
      "        [0.6588, 0.6588, 0.6431,  ..., 0.7961, 0.7725, 0.7765],\n",
      "        [0.6588, 0.6431, 0.6510,  ..., 0.8039, 0.8000, 0.8039],\n",
      "        [0.6549, 0.6667, 0.6549,  ..., 0.8196, 0.8157, 0.8078]])\n"
     ]
    }
   ],
   "source": [
    "# 텐서로 바꾸기 \n",
    "cat2 = to_tensor(img)\n",
    "print(cat2.shape, cat2.ndim)\n",
    "print(cat2[0])\n",
    "\n",
    "cat3 = to_tensor(img2)\n",
    "print(cat3.shape, cat3.ndim)\n",
    "print(cat3[0])\n",
    "\n",
    "# pillow랑 결과가 좀 다름 계속 바꾸고 바꾸고......"
   ],
   "metadata": {
    "collapsed": false,
    "ExecuteTime": {
     "end_time": "2024-03-25T07:00:10.419642300Z",
     "start_time": "2024-03-25T07:00:10.388432900Z"
    }
   },
   "id": "d0a532784f4cf8b6",
   "execution_count": 18
  },
  {
   "cell_type": "code",
   "outputs": [],
   "source": [
    "# resizing\n",
    "preprocessing = transforms.Compose([\n",
    "    transforms.Resize(size=(50, 50)),\n",
    "    transforms.RandomHorizontalFlip(0.5),\n",
    "    transforms.ToTensor(), # 정규화는 무조건 끝쪽에 해야함 \n",
    "    \n",
    "])\n",
    "\n",
    "preprocessed_img = preprocessing(catImg)"
   ],
   "metadata": {
    "collapsed": false,
    "ExecuteTime": {
     "end_time": "2024-03-25T07:35:51.680692100Z",
     "start_time": "2024-03-25T07:35:51.655672Z"
    }
   },
   "id": "20cffc2b146ad337",
   "execution_count": 45
  },
  {
   "cell_type": "markdown",
   "source": [
    "# 이미지 데이터 셋\n",
    "- torchvision.ImageFolder 클래스 사용\n",
    "    - 이미지 데이터 라벨링\n",
    "    - 이미지 데이터 전처리\n",
    "    - 한방에 수행"
   ],
   "metadata": {
    "collapsed": false
   },
   "id": "63637fbac47b73d6"
  },
  {
   "cell_type": "code",
   "outputs": [],
   "source": [
    "from torchvision.datasets import ImageFolder "
   ],
   "metadata": {
    "collapsed": false,
    "ExecuteTime": {
     "end_time": "2024-03-25T07:35:52.241158300Z",
     "start_time": "2024-03-25T07:35:52.214809100Z"
    }
   },
   "id": "f23114c35eb75b2f",
   "execution_count": 46
  },
  {
   "cell_type": "code",
   "outputs": [],
   "source": [
    "img_root = \"../data/img\"\n",
    "\n",
    "imgDS = ImageFolder(root=img_root, transform=preprocessing)"
   ],
   "metadata": {
    "collapsed": false,
    "ExecuteTime": {
     "end_time": "2024-03-25T07:35:52.307096800Z",
     "start_time": "2024-03-25T07:35:52.278783500Z"
    }
   },
   "id": "d5feb3a728d4a638",
   "execution_count": 47
  },
  {
   "cell_type": "code",
   "outputs": [
    {
     "data": {
      "text/plain": "(['cat', 'flower'],\n {'cat': 0, 'flower': 1},\n [('../data/img\\\\cat\\\\img3.png', 0), ('../data/img\\\\flower\\\\Mine.png', 1)])"
     },
     "execution_count": 48,
     "metadata": {},
     "output_type": "execute_result"
    }
   ],
   "source": [
    "# 폴더명이 분류 클래스가 됨 \n",
    "imgDS.classes, imgDS.class_to_idx, imgDS.imgs\n",
    "# classes -> 라벨 보여줌\n",
    "# class_to_idx -> 라벨을 숫자로\n",
    "# imgs -> 파일정보 + 라벨 (경로 뽑아서 볼 수도 있겠지예...)\n",
    "\n",
    "# => Loader에 넣자!!!"
   ],
   "metadata": {
    "collapsed": false,
    "ExecuteTime": {
     "end_time": "2024-03-25T07:35:52.342689400Z",
     "start_time": "2024-03-25T07:35:52.312512900Z"
    }
   },
   "id": "58b57363db018ec3",
   "execution_count": 48
  },
  {
   "cell_type": "code",
   "outputs": [
    {
     "name": "stdout",
     "output_type": "stream",
     "text": [
      "torch.Size([1, 3, 50, 50]) torch.Size([1])\n"
     ]
    }
   ],
   "source": [
    "imgDL = DataLoader(imgDS)\n",
    "\n",
    "for (img, label) in imgDL:\n",
    "    print(img.shape, label.shape)\n",
    "    break \n",
    "\n",
    "# batch_size 아무것도 안주면 1로 들어감 "
   ],
   "metadata": {
    "collapsed": false,
    "ExecuteTime": {
     "end_time": "2024-03-25T07:35:52.381270400Z",
     "start_time": "2024-03-25T07:35:52.322257900Z"
    }
   },
   "id": "f59a47c695dc57b3",
   "execution_count": 49
  },
  {
   "cell_type": "code",
   "outputs": [],
   "source": [],
   "metadata": {
    "collapsed": false
   },
   "id": "96a014c5677706b9"
  }
 ],
 "metadata": {
  "kernelspec": {
   "display_name": "Python 3",
   "language": "python",
   "name": "python3"
  },
  "language_info": {
   "codemirror_mode": {
    "name": "ipython",
    "version": 2
   },
   "file_extension": ".py",
   "mimetype": "text/x-python",
   "name": "python",
   "nbconvert_exporter": "python",
   "pygments_lexer": "ipython2",
   "version": "2.7.6"
  }
 },
 "nbformat": 4,
 "nbformat_minor": 5
}
