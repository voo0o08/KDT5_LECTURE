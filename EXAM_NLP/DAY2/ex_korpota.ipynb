{
 "cells": [
  {
   "cell_type": "markdown",
   "source": [
    "# 자연어 데이터셋 전처리 \n",
    "- Korpora 패키지 활용\n",
    "- 데이터셋 : 한국어 혐오 데이터셋 korean_hate_speech"
   ],
   "metadata": {
    "collapsed": false
   },
   "id": "a7c237ea12477cee"
  },
  {
   "cell_type": "code",
   "execution_count": 30,
   "id": "initial_id",
   "metadata": {
    "collapsed": true,
    "ExecuteTime": {
     "end_time": "2024-03-29T00:50:45.000793900Z",
     "start_time": "2024-03-29T00:50:44.962060500Z"
    }
   },
   "outputs": [],
   "source": [
    "# !pip install Korpora"
   ]
  },
  {
   "cell_type": "code",
   "outputs": [],
   "source": [
    "import Korpora"
   ],
   "metadata": {
    "collapsed": false,
    "ExecuteTime": {
     "end_time": "2024-03-29T00:50:45.018031Z",
     "start_time": "2024-03-29T00:50:45.006122900Z"
    }
   },
   "id": "f2847cf1e61a3765",
   "execution_count": 31
  },
  {
   "cell_type": "code",
   "outputs": [
    {
     "data": {
      "text/plain": "'0.2.0'"
     },
     "execution_count": 32,
     "metadata": {},
     "output_type": "execute_result"
    }
   ],
   "source": [
    "Korpora.__version__"
   ],
   "metadata": {
    "collapsed": false,
    "ExecuteTime": {
     "end_time": "2024-03-29T00:50:45.067753600Z",
     "start_time": "2024-03-29T00:50:45.020561700Z"
    }
   },
   "id": "92bed295dd41172c",
   "execution_count": 32
  },
  {
   "cell_type": "markdown",
   "source": [
    "# 1. 데이터 준비"
   ],
   "metadata": {
    "collapsed": false
   },
   "id": "8406c226cf07db9"
  },
  {
   "cell_type": "code",
   "outputs": [
    {
     "name": "stdout",
     "output_type": "stream",
     "text": [
      "[Korpora] Corpus `korean hate speech` is already installed at C:\\Users\\kdp\\Korpora\\korean_hate_speech\\unlabeled\\unlabeled_comments_1.txt\n",
      "[Korpora] Corpus `korean hate speech` is already installed at C:\\Users\\kdp\\Korpora\\korean_hate_speech\\unlabeled\\unlabeled_comments_2.txt\n",
      "[Korpora] Corpus `korean hate speech` is already installed at C:\\Users\\kdp\\Korpora\\korean_hate_speech\\unlabeled\\unlabeled_comments_3.txt\n",
      "[Korpora] Corpus `korean hate speech` is already installed at C:\\Users\\kdp\\Korpora\\korean_hate_speech\\unlabeled\\unlabeled_comments_4.txt\n",
      "[Korpora] Corpus `korean hate speech` is already installed at C:\\Users\\kdp\\Korpora\\korean_hate_speech\\unlabeled\\unlabeled_comments_5.txt\n",
      "[Korpora] Corpus `korean hate speech` is already installed at C:\\Users\\kdp\\Korpora\\korean_hate_speech\\news_title\\unlabeled_comments.news_title_1.txt\n",
      "[Korpora] Corpus `korean hate speech` is already installed at C:\\Users\\kdp\\Korpora\\korean_hate_speech\\news_title\\unlabeled_comments.news_title_2.txt\n",
      "[Korpora] Corpus `korean hate speech` is already installed at C:\\Users\\kdp\\Korpora\\korean_hate_speech\\news_title\\unlabeled_comments.news_title_3.txt\n",
      "[Korpora] Corpus `korean hate speech` is already installed at C:\\Users\\kdp\\Korpora\\korean_hate_speech\\news_title\\unlabeled_comments.news_title_4.txt\n",
      "[Korpora] Corpus `korean hate speech` is already installed at C:\\Users\\kdp\\Korpora\\korean_hate_speech\\news_title\\unlabeled_comments.news_title_5.txt\n",
      "[Korpora] Corpus `korean hate speech` is already installed at C:\\Users\\kdp\\Korpora\\korean_hate_speech\\news_title\\dev.news_title.txt\n",
      "[Korpora] Corpus `korean hate speech` is already installed at C:\\Users\\kdp\\Korpora\\korean_hate_speech\\news_title\\test.news_title.txt\n",
      "[Korpora] Corpus `korean hate speech` is already installed at C:\\Users\\kdp\\Korpora\\korean_hate_speech\\news_title\\train.news_title.txt\n",
      "[Korpora] Corpus `korean hate speech` is already installed at C:\\Users\\kdp\\Korpora\\korean_hate_speech\\labeled\\dev.tsv\n",
      "[Korpora] Corpus `korean hate speech` is already installed at C:\\Users\\kdp\\Korpora\\korean_hate_speech\\labeled\\train.tsv\n",
      "[Korpora] Corpus `korean hate speech` is already installed at C:\\Users\\kdp\\Korpora\\korean_hate_speech\\test.no_label.tsv\n"
     ]
    }
   ],
   "source": [
    "from Korpora import Korpora\n",
    "\n",
    "# 데이터셋 파일명\n",
    "data_file = \"korean_hate_speech\"\n",
    "\n",
    "# 다운로드 fetch\n",
    "corpus = Korpora.fetch(data_file)"
   ],
   "metadata": {
    "collapsed": false,
    "ExecuteTime": {
     "end_time": "2024-03-29T00:50:49.490501900Z",
     "start_time": "2024-03-29T00:50:45.037247500Z"
    }
   },
   "id": "e71cc439945d31e3",
   "execution_count": 33
  },
  {
   "cell_type": "code",
   "outputs": [
    {
     "name": "stdout",
     "output_type": "stream",
     "text": [
      "\n",
      "    Korpora 는 다른 분들이 연구 목적으로 공유해주신 말뭉치들을\n",
      "    손쉽게 다운로드, 사용할 수 있는 기능만을 제공합니다.\n",
      "\n",
      "    말뭉치들을 공유해 주신 분들에게 감사드리며, 각 말뭉치 별 설명과 라이센스를 공유 드립니다.\n",
      "    해당 말뭉치에 대해 자세히 알고 싶으신 분은 아래의 description 을 참고,\n",
      "    해당 말뭉치를 연구/상용의 목적으로 이용하실 때에는 아래의 라이센스를 참고해 주시기 바랍니다.\n",
      "\n",
      "    # Description\n",
      "    Authors :\n",
      "        - Jihyung Moon* (inmoonlight@github)\n",
      "        - Won Ik Cho* (warnikchow@github)\n",
      "        - Junbum Lee (beomi@github)\n",
      "        * equal contribution\n",
      "    Repository : https://github.com/kocohub/korean-hate-speech\n",
      "    References :\n",
      "        - Moon, J., Cho, W. I., & Lee, J. (2020). BEEP! Korean Corpus of Online News\n",
      "          Comments for Toxic Speech Detection. arXiv preprint arXiv:2005.12503.\n",
      "\n",
      "    We provide the first human-annotated Korean corpus for toxic speech detection and the large unlabeled corpus.\n",
      "    The data is comments from the Korean entertainment news aggregation platform.\n",
      "\n",
      "    # License\n",
      "    Creative Commons Attribution-ShareAlike 4.0 International License.\n",
      "    Visit here for detail : https://creativecommons.org/licenses/by-sa/4.0/\n",
      "[Korpora] Corpus `korean hate speech` is already installed at C:\\Users\\kdp\\Korpora\\korean_hate_speech\\unlabeled\\unlabeled_comments_1.txt\n",
      "[Korpora] Corpus `korean hate speech` is already installed at C:\\Users\\kdp\\Korpora\\korean_hate_speech\\unlabeled\\unlabeled_comments_2.txt\n",
      "[Korpora] Corpus `korean hate speech` is already installed at C:\\Users\\kdp\\Korpora\\korean_hate_speech\\unlabeled\\unlabeled_comments_3.txt\n",
      "[Korpora] Corpus `korean hate speech` is already installed at C:\\Users\\kdp\\Korpora\\korean_hate_speech\\unlabeled\\unlabeled_comments_4.txt\n",
      "[Korpora] Corpus `korean hate speech` is already installed at C:\\Users\\kdp\\Korpora\\korean_hate_speech\\unlabeled\\unlabeled_comments_5.txt\n",
      "[Korpora] Corpus `korean hate speech` is already installed at C:\\Users\\kdp\\Korpora\\korean_hate_speech\\news_title\\unlabeled_comments.news_title_1.txt\n",
      "[Korpora] Corpus `korean hate speech` is already installed at C:\\Users\\kdp\\Korpora\\korean_hate_speech\\news_title\\unlabeled_comments.news_title_2.txt\n",
      "[Korpora] Corpus `korean hate speech` is already installed at C:\\Users\\kdp\\Korpora\\korean_hate_speech\\news_title\\unlabeled_comments.news_title_3.txt\n",
      "[Korpora] Corpus `korean hate speech` is already installed at C:\\Users\\kdp\\Korpora\\korean_hate_speech\\news_title\\unlabeled_comments.news_title_4.txt\n",
      "[Korpora] Corpus `korean hate speech` is already installed at C:\\Users\\kdp\\Korpora\\korean_hate_speech\\news_title\\unlabeled_comments.news_title_5.txt\n",
      "[Korpora] Corpus `korean hate speech` is already installed at C:\\Users\\kdp\\Korpora\\korean_hate_speech\\news_title\\dev.news_title.txt\n",
      "[Korpora] Corpus `korean hate speech` is already installed at C:\\Users\\kdp\\Korpora\\korean_hate_speech\\news_title\\test.news_title.txt\n",
      "[Korpora] Corpus `korean hate speech` is already installed at C:\\Users\\kdp\\Korpora\\korean_hate_speech\\news_title\\train.news_title.txt\n",
      "[Korpora] Corpus `korean hate speech` is already installed at C:\\Users\\kdp\\Korpora\\korean_hate_speech\\labeled\\dev.tsv\n",
      "[Korpora] Corpus `korean hate speech` is already installed at C:\\Users\\kdp\\Korpora\\korean_hate_speech\\labeled\\train.tsv\n",
      "[Korpora] Corpus `korean hate speech` is already installed at C:\\Users\\kdp\\Korpora\\korean_hate_speech\\test.no_label.tsv\n"
     ]
    }
   ],
   "source": [
    "# 데이터 로드\n",
    "corpus = Korpora.load(data_file)"
   ],
   "metadata": {
    "collapsed": false,
    "ExecuteTime": {
     "end_time": "2024-03-29T00:50:53.443961700Z",
     "start_time": "2024-03-29T00:50:49.491500900Z"
    }
   },
   "id": "cfdf7310e96779ec",
   "execution_count": 34
  },
  {
   "cell_type": "code",
   "outputs": [
    {
     "data": {
      "text/plain": "KoreanHateSpeechLabeledExample(text='(현재 호텔주인 심정) 아18 난 마른하늘에 날벼락맞고 호텔망하게생겼는데 누군 계속 추모받네....', title='\"밤새 조문 행렬…故 전미선, 동료들이 그리워하는 따뜻한 배우 [종합]\"', gender_bias='False', bias='others', hate='hate')"
     },
     "execution_count": 35,
     "metadata": {},
     "output_type": "execute_result"
    }
   ],
   "source": [
    "corpus.train[0] # 데이터 확인"
   ],
   "metadata": {
    "collapsed": false,
    "ExecuteTime": {
     "end_time": "2024-03-29T00:50:53.460987300Z",
     "start_time": "2024-03-29T00:50:53.449483400Z"
    }
   },
   "id": "d4f4de2bb41a3928",
   "execution_count": 35
  },
  {
   "cell_type": "code",
   "outputs": [
    {
     "name": "stdout",
     "output_type": "stream",
     "text": [
      "(현재 호텔주인 심정) 아18 난 마른하늘에 날벼락맞고 호텔망하게생겼는데 누군 계속 추모받네....\n"
     ]
    }
   ],
   "source": [
    "# 데이터 확인\n",
    "hateDS = corpus.train\n",
    "\n",
    "# 1개 데이터 정보 추출\n",
    "print(hateDS[0].text)"
   ],
   "metadata": {
    "collapsed": false,
    "ExecuteTime": {
     "end_time": "2024-03-29T00:50:53.510143500Z",
     "start_time": "2024-03-29T00:50:53.463301300Z"
    }
   },
   "id": "f940bda16b25a838",
   "execution_count": 36
  },
  {
   "cell_type": "code",
   "outputs": [
    {
     "data": {
      "text/plain": "{'text': '(현재 호텔주인 심정) 아18 난 마른하늘에 날벼락맞고 호텔망하게생겼는데 누군 계속 추모받네....',\n 'title': '\"밤새 조문 행렬…故 전미선, 동료들이 그리워하는 따뜻한 배우 [종합]\"',\n 'gender_bias': 'False',\n 'bias': 'others',\n 'hate': 'hate'}"
     },
     "execution_count": 37,
     "metadata": {},
     "output_type": "execute_result"
    }
   ],
   "source": [
    "hateDS[0].__dict__ # 볼 수 있는 속성들"
   ],
   "metadata": {
    "collapsed": false,
    "ExecuteTime": {
     "end_time": "2024-03-29T00:50:53.511376200Z",
     "start_time": "2024-03-29T00:50:53.480278Z"
    }
   },
   "id": "deb209269a5755e6",
   "execution_count": 37
  },
  {
   "cell_type": "code",
   "outputs": [],
   "source": [
    "hateDS = corpus.train # train\n",
    "hate_valDS = corpus.dev # val\n",
    "hate_testDS = corpus.test # test\n",
    "\n",
    "unlabeledDS = corpus.unlabeled # 라벨이 없음 -> 걍 predict할 때 사용하면 됨"
   ],
   "metadata": {
    "collapsed": false,
    "ExecuteTime": {
     "end_time": "2024-03-29T00:50:53.602638200Z",
     "start_time": "2024-03-29T00:50:53.593288400Z"
    }
   },
   "id": "9e4c9a85ffd0064b",
   "execution_count": 38
  },
  {
   "cell_type": "code",
   "outputs": [
    {
     "data": {
      "text/plain": "'\"[단독] 지드래곤♥이주연, 제주도 데이트…2018년 1호 커플 탄생\"'"
     },
     "execution_count": 39,
     "metadata": {},
     "output_type": "execute_result"
    }
   ],
   "source": [
    "unlabeledDS[0].text"
   ],
   "metadata": {
    "collapsed": false,
    "ExecuteTime": {
     "end_time": "2024-03-29T00:50:53.637580700Z",
     "start_time": "2024-03-29T00:50:53.604698400Z"
    }
   },
   "id": "6ca774b970c7676a",
   "execution_count": 39
  },
  {
   "cell_type": "markdown",
   "source": [
    "# 2. 데이터 전처리 \n",
    "- 주제에 따른 데이터 피쳐 & 라벨 선택 => 뉴스댓글 + 차별 종류\n",
    "- 형태소 분석기 결정"
   ],
   "metadata": {
    "collapsed": false
   },
   "id": "df0eeed9a844020"
  },
  {
   "cell_type": "code",
   "outputs": [],
   "source": [
    "# 피쳐 데이터 추출\n",
    "textData = corpus.get_all_texts()"
   ],
   "metadata": {
    "collapsed": false,
    "ExecuteTime": {
     "end_time": "2024-03-29T00:50:53.731159300Z",
     "start_time": "2024-03-29T00:50:53.712716700Z"
    }
   },
   "id": "177f13202affc8bf",
   "execution_count": 40
  },
  {
   "cell_type": "code",
   "outputs": [],
   "source": [
    "# 데이터 파일 저장\n",
    "with open(\"corpus.txt\", \"w\", encoding=\"utf-8\") as f:\n",
    "    for text in textData:\n",
    "        f.write(text + \"\\n\")"
   ],
   "metadata": {
    "collapsed": false,
    "ExecuteTime": {
     "end_time": "2024-03-29T00:58:08.287300500Z",
     "start_time": "2024-03-29T00:58:06.715127500Z"
    }
   },
   "id": "812153b1ea23f8ee",
   "execution_count": 41
  },
  {
   "cell_type": "code",
   "outputs": [],
   "source": [
    "# SentencePieceTrainer -> 토크나이저 모델 학습 진행\n",
    "from sentencepiece import SentencePieceTrainer\n",
    "'''\n",
    "매개변수\n",
    "input : 말뭉치 텍스트 파일의 경로\n",
    "model_prefix : 모델 파일 이름\n",
    "vocab_size : 어휘 사전 크기\n",
    "character_coverage : 말뭉치 내에 존재하는 글자 중 토크나이저가 다룰 수 있는 글자 비율\n",
    "...\n",
    "'''\n",
    "SentencePieceTrainer.train(\n",
    "    \"--input=corpus.txt \\\n",
    "    --model_prefix=text_bpe \\\n",
    "    --vocab_size=8000 \\\n",
    "    --model_type=bpe\"\n",
    ")\n",
    "\n",
    "# 결과로 text_bpe.model(학습이 된 모델), text_bpe.vocab(단어 사전) 생성 "
   ],
   "metadata": {
    "collapsed": false,
    "ExecuteTime": {
     "end_time": "2024-03-29T01:06:36.168488400Z",
     "start_time": "2024-03-29T01:06:36.158528600Z"
    }
   },
   "id": "4f9aec2cf7e0813b",
   "execution_count": 45
  },
  {
   "cell_type": "code",
   "outputs": [],
   "source": [
    "# 위에서 학습된 모델과 어휘 사전 파일을 활용해 바이트 페어 인코딩 수행\n",
    "from sentencepiece import SentencePieceProcessor\n",
    "\n",
    "tokenizer = SentencePieceProcessor()\n",
    "tokenizer.Load(\"text_bpe.model\") # 모델 로드\n",
    "\n",
    "sentence = \"안녕하세요, 토크나이저가 잘 학습되었군요!\"\n",
    "sentences = [\"이렇게 입력값을 리스트로 받아서\", \"쉽게 토크나이저를 사용할 수 있답니다\"]\n",
    "\n",
    "tokenized_sentence = tokenizer.encode_as_pieces(sentence)\n",
    "tokenized_sentences = tokenizer.encode_as_pieces(sentences)"
   ],
   "metadata": {
    "collapsed": false,
    "ExecuteTime": {
     "end_time": "2024-03-29T01:15:08.490258400Z",
     "start_time": "2024-03-29T01:15:08.465360Z"
    }
   },
   "id": "b3dc8f7f0b0b323a",
   "execution_count": 52
  },
  {
   "cell_type": "code",
   "outputs": [
    {
     "name": "stdout",
     "output_type": "stream",
     "text": [
      "단일 문장 토큰화 : ['▁안녕', '하세요', ',', '▁토크', '나이', '저', '가', '▁잘', '▁학', '습', '되', '었', '군', '요', '!']\n",
      "여러 문장 토큰화 : [['▁이렇게', '▁입', '력', '값', '을', '▁리', '스트', '로', '▁받아', '서'], ['▁', '쉽', '게', '▁토크', '나이', '저', '를', '▁사용', '할', '▁수', '▁있', '답', '니다']]\n",
      "단일 문장 정수 인코딩 : [4598, 1073, 6681, 3614, 2850, 6901, 6711, 290, 816, 7105, 7102, 6929, 7149, 6812, 6799]\n",
      "여러 문장 정수 인코딩 : [[1646, 116, 7000, 7541, 6924, 533, 314, 6709, 1561, 6726], [6677, 7525, 6806, 3614, 2850, 6901, 7124, 3689, 6886, 95, 146, 7195, 264]]\n",
      "정수 인코딩에서 문장 변환 : ['이렇게 입력값을 리스트로 받아서', '쉽게 토크나이저를 사용할 수 있답니다']\n",
      "하위 단어 토큰에서 문장 변환 : ['이렇게 입력값을 리스트로 받아서', '쉽게 토크나이저를 사용할 수 있답니다']\n"
     ]
    }
   ],
   "source": [
    "print(\"단일 문장 토큰화 :\", tokenized_sentence)\n",
    "print(\"여러 문장 토큰화 :\", tokenized_sentences)\n",
    "\n",
    "encoded_sentence = tokenizer.encode_as_ids(sentence)\n",
    "encoded_sentences = tokenizer.encode_as_ids(sentences)\n",
    "print(\"단일 문장 정수 인코딩 :\", encoded_sentence)\n",
    "print(\"여러 문장 정수 인코딩 :\", encoded_sentences)\n",
    "\n",
    "decode_ids = tokenizer.decode_ids(encoded_sentences)\n",
    "decode_pieces = tokenizer.decode_pieces(encoded_sentences)\n",
    "print(\"정수 인코딩에서 문장 변환 :\", decode_ids)\n",
    "print(\"하위 단어 토큰에서 문장 변환 :\", decode_pieces)"
   ],
   "metadata": {
    "collapsed": false,
    "ExecuteTime": {
     "end_time": "2024-03-29T01:15:08.631556300Z",
     "start_time": "2024-03-29T01:15:08.606153400Z"
    }
   },
   "id": "622f4c740b9e3275",
   "execution_count": 53
  },
  {
   "cell_type": "code",
   "outputs": [],
   "source": [],
   "metadata": {
    "collapsed": false,
    "ExecuteTime": {
     "end_time": "2024-03-29T01:14:26.315527200Z",
     "start_time": "2024-03-29T01:14:26.300254500Z"
    }
   },
   "id": "be0bbcbdfde5afb8",
   "execution_count": 51
  },
  {
   "cell_type": "code",
   "outputs": [],
   "source": [],
   "metadata": {
    "collapsed": false
   },
   "id": "e382bc91954170fe"
  }
 ],
 "metadata": {
  "kernelspec": {
   "display_name": "Python 3",
   "language": "python",
   "name": "python3"
  },
  "language_info": {
   "codemirror_mode": {
    "name": "ipython",
    "version": 2
   },
   "file_extension": ".py",
   "mimetype": "text/x-python",
   "name": "python",
   "nbconvert_exporter": "python",
   "pygments_lexer": "ipython2",
   "version": "2.7.6"
  }
 },
 "nbformat": 4,
 "nbformat_minor": 5
}
