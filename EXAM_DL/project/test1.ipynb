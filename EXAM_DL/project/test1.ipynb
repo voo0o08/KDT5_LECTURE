{
 "cells": [
  {
   "cell_type": "markdown",
   "source": [
    "# 프로젝트 소개 - 개인 : 퍼셉트론 수의 영향 알아보기\n",
    "\n",
    "Kaggle Fish Dataseset을 가지고 다양한 조건으로 최상의 분류모델 찾기\n",
    "- 데이터셋 : Fish Data\n",
    "\n",
    "- batch_size = 50\n",
    "- epoch = 30\n",
    "- 조기 종료 조건 : F1 기준 갱신 5번 이하\n",
    "- learning_rate = default\n",
    "- 최적화 함수 → Adam\n",
    "- 배치 정규화 → 각 레이어마다\n",
    "- 가중치 초기화 → He\n",
    "- train : validation = 6 : 1\n",
    "- test는 팀원 개인 글씨"
   ],
   "metadata": {
    "collapsed": false
   },
   "id": "bc4abfebdaf73b7"
  },
  {
   "cell_type": "markdown",
   "source": [
    "## 1. 모듈 로딩 "
   ],
   "metadata": {
    "collapsed": false
   },
   "id": "3dede4f77d934c96"
  },
  {
   "cell_type": "code",
   "outputs": [],
   "source": [
    "from PIL import Image\n",
    "import pandas as pd\n",
    "import numpy as np\n",
    "import matplotlib.pyplot as plt\n",
    "\n",
    "import torch # torch 기본 모듈로 텐서 기본 함수들 \n",
    "import torch.nn as nn # linear Regression 기능의 클래스 Linear\n",
    "import torch.nn.functional as F # 손실함수를 위함\n",
    "import torch.optim as optim # 최적화를 위함"
   ],
   "metadata": {
    "collapsed": false,
    "ExecuteTime": {
     "end_time": "2024-03-20T01:08:05.515969Z",
     "start_time": "2024-03-20T01:08:03.492626300Z"
    }
   },
   "id": "49327cb32df9d67",
   "execution_count": 1
  },
  {
   "cell_type": "code",
   "outputs": [],
   "source": [
    "seed = 2024\n",
    "\n",
    "np.random.seed(seed)\n",
    "torch.manual_seed(seed)\n",
    "torch.cuda.manual_seed_all(seed)\n"
   ],
   "metadata": {
    "collapsed": false,
    "ExecuteTime": {
     "end_time": "2024-03-20T01:08:05.530651600Z",
     "start_time": "2024-03-20T01:08:05.518114Z"
    }
   },
   "id": "3ab21d73b3a7dc0f",
   "execution_count": 2
  },
  {
   "cell_type": "markdown",
   "source": [
    "## 2. 데이터 준비"
   ],
   "metadata": {
    "collapsed": false
   },
   "id": "204c0958e8927867"
  },
  {
   "cell_type": "code",
   "outputs": [
    {
     "data": {
      "text/plain": "tensor([[1, 3, 1],\n        [1, 4, 1],\n        [3, 4, 2]])"
     },
     "execution_count": 3,
     "metadata": {},
     "output_type": "execute_result"
    }
   ],
   "source": [
    "torch.manual_seed(seed)\n",
    "torch.randint(1, 5, (3, 3))"
   ],
   "metadata": {
    "collapsed": false,
    "ExecuteTime": {
     "end_time": "2024-03-20T01:08:05.571804200Z",
     "start_time": "2024-03-20T01:08:05.532794600Z"
    }
   },
   "id": "6c8f58e91b99ea9",
   "execution_count": 3
  },
  {
   "cell_type": "code",
   "outputs": [
    {
     "data": {
      "text/plain": "['Black Sea Sprat',\n 'Gilt-Head Bream',\n 'Hourse Mackerel',\n 'Red Mullet',\n 'Red Sea Bream',\n 'Sea Bass',\n 'Shrimp',\n 'Striped Red Mullet',\n 'Trout']"
     },
     "execution_count": 4,
     "metadata": {},
     "output_type": "execute_result"
    }
   ],
   "source": [
    "# 지워도 됨\n",
    "import os\n",
    "\n",
    "dir_path = \"Fish_Dataset\"\n",
    "\n",
    "file_list = os.listdir(dir_path)\n",
    "file_list"
   ],
   "metadata": {
    "collapsed": false,
    "ExecuteTime": {
     "end_time": "2024-03-20T01:08:05.573978300Z",
     "start_time": "2024-03-20T01:08:05.547546500Z"
    }
   },
   "id": "6d6577dd161e5818",
   "execution_count": 4
  },
  {
   "cell_type": "code",
   "outputs": [],
   "source": [
    "feature = pd.read_pickle(\"feature2.pkl\")\n",
    "target = pd.read_pickle(\"target2.pkl\")"
   ],
   "metadata": {
    "collapsed": false,
    "ExecuteTime": {
     "end_time": "2024-03-20T01:08:05.608997900Z",
     "start_time": "2024-03-20T01:08:05.562371300Z"
    }
   },
   "id": "2df0c2681ad63af4",
   "execution_count": 5
  },
  {
   "cell_type": "code",
   "outputs": [
    {
     "name": "stdout",
     "output_type": "stream",
     "text": [
      "feare: (9000, 2655), 2D\n",
      "target: (9000, 1), 2D\n"
     ]
    }
   ],
   "source": [
    "# 데이터 피쳐와 타겟 개수 확인 \n",
    "print(f\"feare: {feature.shape}, {feature.ndim}D\")\n",
    "print(f\"target: {target.shape}, {target.ndim}D\")\n",
    "# feature 15000개"
   ],
   "metadata": {
    "collapsed": false,
    "ExecuteTime": {
     "end_time": "2024-03-20T01:08:05.611067900Z",
     "start_time": "2024-03-20T01:08:05.594168200Z"
    }
   },
   "id": "b37a8ab5af06cb75",
   "execution_count": 6
  },
  {
   "cell_type": "code",
   "outputs": [
    {
     "data": {
      "text/plain": "0\n0    2404\n1     251\nName: count, dtype: int64"
     },
     "execution_count": 7,
     "metadata": {},
     "output_type": "execute_result"
    }
   ],
   "source": [
    "feature.iloc[0,:].value_counts()"
   ],
   "metadata": {
    "collapsed": false,
    "ExecuteTime": {
     "end_time": "2024-03-20T01:08:05.646321300Z",
     "start_time": "2024-03-20T01:08:05.607985800Z"
    }
   },
   "id": "577aae8861f6e552",
   "execution_count": 7
  },
  {
   "cell_type": "code",
   "outputs": [
    {
     "data": {
      "text/plain": "0    1000\n1    1000\n2    1000\n3    1000\n4    1000\n5    1000\n6    1000\n7    1000\n8    1000\nName: count, dtype: int64"
     },
     "execution_count": 8,
     "metadata": {},
     "output_type": "execute_result"
    }
   ],
   "source": [
    "target.value_counts()"
   ],
   "metadata": {
    "collapsed": false,
    "ExecuteTime": {
     "end_time": "2024-03-20T01:08:05.649535700Z",
     "start_time": "2024-03-20T01:08:05.623864500Z"
    }
   },
   "id": "454d124b73ffe5b5",
   "execution_count": 8
  },
  {
   "cell_type": "code",
   "outputs": [],
   "source": [
    "target = target[0] # 타겟 1차원으로 만들기!!"
   ],
   "metadata": {
    "collapsed": false,
    "ExecuteTime": {
     "end_time": "2024-03-20T01:08:05.675197100Z",
     "start_time": "2024-03-20T01:08:05.638741300Z"
    }
   },
   "id": "bdba8f5a09871661",
   "execution_count": 9
  },
  {
   "cell_type": "markdown",
   "source": [
    "## 3. 데이터 가공 및 전처리\n",
    "- 결측치 없음\n",
    "- 이상치 없음\n",
    "- 중복값 없음 \n",
    "- 정규화 필요 없음\n",
    "- 타겟 -> one-hot encoding"
   ],
   "metadata": {
    "collapsed": false
   },
   "id": "aaa633661b885ea0"
  },
  {
   "cell_type": "code",
   "outputs": [],
   "source": [
    "# one-hot encoding : scatter_\n",
    "idx = torch.IntTensor(target.astype(\"int\")).type(torch.int64).unsqueeze(1)\n",
    "\n",
    "y_one_hot = torch.zeros(target.shape[0], len(target.unique())) # len(target.unique()) => 물고기 종류 9개\n",
    "y_one_hot = y_one_hot.scatter_(1, idx, 1).type(torch.int64) # 차원, 1.0이 들어갈 자리 인덱스, 채울 숫자"
   ],
   "metadata": {
    "collapsed": false,
    "ExecuteTime": {
     "end_time": "2024-03-20T01:08:05.676248400Z",
     "start_time": "2024-03-20T01:08:05.653659500Z"
    }
   },
   "id": "cad1d70c84f83144",
   "execution_count": 10
  },
  {
   "cell_type": "markdown",
   "source": [
    "## 4. 데이터 분할 및 데이터셋 준비\n",
    "- 텐서화 시키기\n",
    "- 데이터 셋 준비 : 훈련용 60000, 테스트용 10000\n",
    "- 학습 방법 : 지도 학습 - 이진 분류 (softmax->but cross_entropy가 다 갖고 있음)\n",
    "- 최적화 방법 : 경사하강법 기반의 방법 (Adam, SDG, )\n",
    "- 손실함수 : 이진분류 손실 계산 함수(cross_entropy)"
   ],
   "metadata": {
    "collapsed": false
   },
   "id": "605f27356c080728"
  },
  {
   "cell_type": "markdown",
   "source": [
    "### 4-1 데이터 분할"
   ],
   "metadata": {
    "collapsed": false
   },
   "id": "feceb8ba6b7662ff"
  },
  {
   "cell_type": "code",
   "outputs": [],
   "source": [
    "from torch.utils.data import Dataset, DataLoader, TensorDataset\n",
    "from sklearn.model_selection import train_test_split"
   ],
   "metadata": {
    "collapsed": false,
    "ExecuteTime": {
     "end_time": "2024-03-20T01:08:06.392994400Z",
     "start_time": "2024-03-20T01:08:05.669716700Z"
    }
   },
   "id": "6438f8184b13defe",
   "execution_count": 11
  },
  {
   "cell_type": "code",
   "outputs": [],
   "source": [
    "x_train, x_test, y_train, y_test = train_test_split(feature, y_one_hot, test_size=0.1, random_state=42, stratify=target)"
   ],
   "metadata": {
    "collapsed": false,
    "ExecuteTime": {
     "end_time": "2024-03-20T01:08:06.408122700Z",
     "start_time": "2024-03-20T01:08:06.395069Z"
    }
   },
   "id": "ecdce9c563b57f71",
   "execution_count": 12
  },
  {
   "cell_type": "code",
   "outputs": [],
   "source": [
    "x_val, x_test, y_val, y_test = train_test_split(x_test, y_test, test_size=0.1, random_state=42, stratify=y_test)"
   ],
   "metadata": {
    "collapsed": false,
    "ExecuteTime": {
     "end_time": "2024-03-20T01:08:06.435953400Z",
     "start_time": "2024-03-20T01:08:06.419922400Z"
    }
   },
   "id": "70e8ad17f29dd452",
   "execution_count": 13
  },
  {
   "cell_type": "code",
   "outputs": [
    {
     "name": "stdout",
     "output_type": "stream",
     "text": [
      "train data => (8100, 2655), torch.Size([8100, 9])\n",
      "valindation data => (810, 2655), torch.Size([810, 9])\n",
      "test data => (90, 2655), torch.Size([90, 9])\n"
     ]
    }
   ],
   "source": [
    "# 데이터 shape 확인\n",
    "print(f\"train data => {x_train.shape}, {y_train.shape}\")\n",
    "print(f\"valindation data => {x_val.shape}, {y_val.shape}\")\n",
    "print(f\"test data => {x_test.shape}, {y_test.shape}\")\n",
    "\n",
    "# 8100\n",
    "# 810\n",
    "# 90"
   ],
   "metadata": {
    "collapsed": false,
    "ExecuteTime": {
     "end_time": "2024-03-20T01:08:06.479334700Z",
     "start_time": "2024-03-20T01:08:06.439161800Z"
    }
   },
   "id": "20d6587f2d78c820",
   "execution_count": 14
  },
  {
   "cell_type": "markdown",
   "source": [
    "### 4-2 데이터 셋 생성"
   ],
   "metadata": {
    "collapsed": false
   },
   "id": "c8d5e8ad04227cbb"
  },
  {
   "cell_type": "code",
   "outputs": [],
   "source": [
    "# 사용자 정의 DataSet Class\n",
    "# 데이터의 텐서변환\n",
    "class DLDataset(Dataset): # torch.utils.data.Dataset을 부모로 두는 class 생성\n",
    "    # 초기화 함수\n",
    "    def __init__(self, x_data, y_data):\n",
    "        # print(y_data.dtype)\n",
    "        super().__init__()\n",
    "        \n",
    "        # x 데이터 => ndarray\n",
    "        if isinstance(x_data, torch.Tensor):\n",
    "            pass\n",
    "        else:\n",
    "            x_data = x_data.values if isinstance(x_data, pd.DataFrame) else x_data # 데이터 프레임이라면 valuse로 어레이 뽑아줘야함 \n",
    "            \n",
    "        # y 데이터 => ndarray\n",
    "        if isinstance(y_data, torch.Tensor):\n",
    "            pass\n",
    "        else:\n",
    "            y_data = y_data.values if isinstance(y_data, pd.DataFrame) else y_data \n",
    "        # ndarray에서 tensor로 변환 \n",
    "        \n",
    "        self.feature = torch.FloatTensor(x_data)\n",
    "        self.target = torch.LongTensor(y_data) \n",
    "        # print(\"[target & feature SHAPE]\", self.target.shape, self.target.ndim)\n",
    "    \n",
    "    # 데이터셋의 개수 체크 함수\n",
    "    def __len__(self):\n",
    "        return self.target.shape[0]\n",
    "    \n",
    "    # 특정 인덱스 데이터 + 라벨 반환 callback function \n",
    "    def __getitem__(self, index):\n",
    "        return self.feature[index], self.target[index] # 둘 다 튜플로 출동 "
   ],
   "metadata": {
    "collapsed": false,
    "ExecuteTime": {
     "end_time": "2024-03-20T01:08:06.481396900Z",
     "start_time": "2024-03-20T01:08:06.457387Z"
    }
   },
   "id": "592be0b8549d717f",
   "execution_count": 15
  },
  {
   "cell_type": "code",
   "outputs": [],
   "source": [
    "train_data = DLDataset(x_train, y_train) # numpy, numpy\n",
    "val_data = DLDataset(x_val, y_val) # numpy, numpy\n",
    "test_data = DLDataset(x_test, y_test) # numpy, numpy"
   ],
   "metadata": {
    "collapsed": false,
    "ExecuteTime": {
     "end_time": "2024-03-20T01:08:06.525060300Z",
     "start_time": "2024-03-20T01:08:06.470401900Z"
    }
   },
   "id": "8ec8cf6d9584e7cc",
   "execution_count": 16
  },
  {
   "cell_type": "code",
   "outputs": [],
   "source": [
    "# from torch.utils.data import random_split\n",
    "# \n",
    "# seed = torch.Generator().manual_seed(42)\n",
    "# trainDS, validDS = random_split(my_dataset, [60000, 10000], generator=seed) \n",
    "# \n",
    "# print(f\"trainDS => {len(trainDS)}개\\nvalidDS => {len(validDS)}개\")"
   ],
   "metadata": {
    "collapsed": false,
    "ExecuteTime": {
     "end_time": "2024-03-20T01:08:06.537882100Z",
     "start_time": "2024-03-20T01:08:06.513504600Z"
    }
   },
   "id": "b71ea88e4aabfe7a",
   "execution_count": 17
  },
  {
   "cell_type": "code",
   "outputs": [
    {
     "name": "stdout",
     "output_type": "stream",
     "text": [
      "[나눠진 배치 개수]\n",
      "trainDL => 162\n",
      "validDL => 17\n",
      "testDL => 2\n"
     ]
    }
   ],
   "source": [
    "# DataLoader 생성\n",
    "\n",
    "BATCH_SIZE = 50\n",
    "trainDL = DataLoader(train_data, batch_size=BATCH_SIZE, drop_last=False, shuffle=True)\n",
    "validDL = DataLoader(val_data, batch_size=BATCH_SIZE, drop_last=False, shuffle=True)\n",
    "testDL = DataLoader(test_data, batch_size=BATCH_SIZE, drop_last=False, shuffle=True) # false 해놓으면 쪼가리들 나중에 쓸 수 있음\n",
    "\n",
    "print(f\"[나눠진 배치 개수]\\ntrainDL => {len(trainDL)}\\nvalidDL => {len(validDL)}\\ntestDL => {len(testDL)}\")"
   ],
   "metadata": {
    "collapsed": false,
    "ExecuteTime": {
     "end_time": "2024-03-20T01:08:06.560796400Z",
     "start_time": "2024-03-20T01:08:06.532621500Z"
    }
   },
   "id": "dd7fa022fd067c14",
   "execution_count": 18
  },
  {
   "cell_type": "markdown",
   "source": [
    "## 5. 학습\n",
    "- 조기 종료 조건 넣기\n",
    "- 코드 좀 더 유연하게 수정하기\n",
    "- 배치 정규화 -> 각 레이어마다\n",
    "- 가중치 초기화 -> He"
   ],
   "metadata": {
    "collapsed": false
   },
   "id": "c001ccab9083d9c4"
  },
  {
   "cell_type": "markdown",
   "source": [
    "### 5-1 모델 생성"
   ],
   "metadata": {
    "collapsed": false
   },
   "id": "fbf9409f330af4de"
  },
  {
   "cell_type": "code",
   "outputs": [],
   "source": [
    "temp_feature, temp_label = next(iter(trainDL))"
   ],
   "metadata": {
    "collapsed": false,
    "ExecuteTime": {
     "end_time": "2024-03-20T01:08:06.573838600Z",
     "start_time": "2024-03-20T01:08:06.543267800Z"
    }
   },
   "id": "75dc2d7a28ab824f",
   "execution_count": 19
  },
  {
   "cell_type": "code",
   "outputs": [
    {
     "data": {
      "text/plain": "(2655, 9)"
     },
     "execution_count": 20,
     "metadata": {},
     "output_type": "execute_result"
    }
   ],
   "source": [
    "temp_feature.shape[1], temp_label.shape[1] # 각각의 1번 요소를 뽑으면 IN_DIM, OUT_DIM"
   ],
   "metadata": {
    "collapsed": false,
    "ExecuteTime": {
     "end_time": "2024-03-20T01:08:06.607851Z",
     "start_time": "2024-03-20T01:08:06.565086200Z"
    }
   },
   "id": "fb91b1d91a01ffde",
   "execution_count": 20
  },
  {
   "cell_type": "code",
   "outputs": [],
   "source": [
    "# MyModel 클래스 생성 : 내 미션은 퍼셉트론 수 영향 알아보기 \n",
    "class MyModel(nn.Module):\n",
    "    \n",
    "    # 모델 구성 요소 초기화 \n",
    "    def __init__(self, in_dim, out_dim, layer_num, perceptron_nums):\n",
    "        super().__init__()\n",
    "        self.layer_num = layer_num\n",
    "        self.in_dim = in_dim\n",
    "        self.out_dim = out_dim\n",
    "        \n",
    "        self.layers = nn.ModuleList()  # ModuleList에 layer 담기\n",
    "        idx = 0\n",
    "        # 은닉층과 활성화 함수 추가\n",
    "        for i in range(len(perceptron_nums)-2):\n",
    "            self.layers.append(nn.Linear(perceptron_nums[i], perceptron_nums[i+1]))  # 선형 레이어 추가\n",
    "            self.layers.append(nn.ReLU())  # ReLU 활성화 함수 추가\n",
    "            # in_dim = out_dim  # 다음 레이어의 입력 차원을 현재 출력 차원으로 설정\n",
    "            idx = i\n",
    "            \n",
    "        # 출력층 추가\n",
    "        self.layers.append(nn.Linear(perceptron_nums[idx+1], out_dim))\n",
    "        \n",
    "    def forward(self, x):\n",
    "        # 각 레이어를 차례로 통과시킴\n",
    "        for layer in self.layers:\n",
    "            x = layer(x)\n",
    "        return x"
   ],
   "metadata": {
    "collapsed": false,
    "ExecuteTime": {
     "end_time": "2024-03-20T01:08:06.611965900Z",
     "start_time": "2024-03-20T01:08:06.573838600Z"
    }
   },
   "id": "d5feee45f3b40431",
   "execution_count": 21
  },
  {
   "cell_type": "markdown",
   "source": [
    "### 5-2. 학습 함수, 예측 함수 생성, 실행디바이스, 모델, 최적화, 손실함수, 학습 횟수"
   ],
   "metadata": {
    "collapsed": false
   },
   "id": "a98a499769ff4e11"
  },
  {
   "cell_type": "code",
   "outputs": [],
   "source": [
    "# 실행 디바이스 설정\n",
    "DEVICE = \"cuda\" if torch.cuda.is_available() else \"cpu\" # GPU있으면 쓰고 없으면 cpu로"
   ],
   "metadata": {
    "collapsed": false,
    "ExecuteTime": {
     "end_time": "2024-03-20T01:08:06.620364500Z",
     "start_time": "2024-03-20T01:08:06.589771900Z"
    }
   },
   "id": "a0fea903041f0df8",
   "execution_count": 22
  },
  {
   "cell_type": "markdown",
   "source": [
    "# 모델 생성!!!!!!!!!!!!!!!!!!!!!"
   ],
   "metadata": {
    "collapsed": false
   },
   "id": "71e3a04c8a37a073"
  },
  {
   "cell_type": "code",
   "outputs": [],
   "source": [
    "# 모델 인스턴스 생성\n",
    "IN_DIM = temp_feature.shape[1] # 입력 피쳐 수\n",
    "OUT_DIM = temp_label.shape[1] # 출력 피쳐 수\n",
    "HIDDEN_NUM = 1 # 히든 레이어 개수 나는 0개!! 퍼셉트론 수 조절 하기  \n",
    "\n",
    "perceptron_nums = list(np.linspace(IN_DIM, OUT_DIM, HIDDEN_NUM+2, dtype=int))\n",
    "\n",
    "\n",
    "\n",
    "model = MyModel(IN_DIM, OUT_DIM, HIDDEN_NUM+2, perceptron_nums).to(DEVICE)"
   ],
   "metadata": {
    "collapsed": false,
    "ExecuteTime": {
     "end_time": "2024-03-20T01:08:06.653829400Z",
     "start_time": "2024-03-20T01:08:06.605738900Z"
    }
   },
   "id": "193f4984da8b9f47",
   "execution_count": 23
  },
  {
   "cell_type": "code",
   "outputs": [
    {
     "name": "stdout",
     "output_type": "stream",
     "text": [
      "Linear(in_features=2655, out_features=1332, bias=True) => nn.Linear T/F? True\n",
      "\n",
      "ReLU() => nn.Linear T/F? False\n",
      "\n",
      "Linear(in_features=1332, out_features=9, bias=True) => nn.Linear T/F? True\n"
     ]
    }
   ],
   "source": [
    "# 가중치 초기화\n",
    "for layer in model.layers:\n",
    "    print(f\"{layer} => nn.Linear T/F? {isinstance(layer, nn.Linear)}\")\n",
    "    print()\n",
    "    if isinstance(layer, nn.Linear) == True:\n",
    "        nn.init.xavier_uniform_(layer.weight)"
   ],
   "metadata": {
    "collapsed": false,
    "ExecuteTime": {
     "end_time": "2024-03-20T01:08:06.696349100Z",
     "start_time": "2024-03-20T01:08:06.649600500Z"
    }
   },
   "id": "f550e566545c48ba",
   "execution_count": 24
  },
  {
   "cell_type": "code",
   "outputs": [],
   "source": [
    "# 손실함수 인스턴스 생성\n",
    "LOSS_FN = nn.CrossEntropyLoss().to(DEVICE) # 다중분류니까\n",
    "\n",
    "# 최적화 인스턴스 생성\n",
    "OPTIMIZER = optim.Adam(model.parameters()) # lr = default 사용\n",
    "\n",
    "# 반복 횟수\n",
    "EPOCHS = 30"
   ],
   "metadata": {
    "collapsed": false,
    "ExecuteTime": {
     "end_time": "2024-03-20T01:08:07.418563200Z",
     "start_time": "2024-03-20T01:08:06.680692500Z"
    }
   },
   "id": "fd7b60980e158f96",
   "execution_count": 25
  },
  {
   "cell_type": "code",
   "outputs": [],
   "source": [
    "# 그래프 전용 함수 \n",
    "def plt_graph(loss_accuracy):\n",
    "    fig, ax1 = plt.subplots()\n",
    "    ax1.plot(loss_accuracy[0], label='loss', color=\"g\")\n",
    "    \n",
    "    ax2 = ax1.twinx()\n",
    "    ax2.plot(loss_accuracy[1],label='accuracy', color='r')\n",
    "    # plt.plot(loss_accuracy[0], label='loss')\n",
    "    # plt.plot(loss_accuracy[1], label='accuracy')\n",
    "    \n",
    "    ax1.legend(loc='upper left')\n",
    "    ax2.legend(loc='upper right')\n",
    "    \n",
    "    plt.xlabel(\"Epochs\")\n",
    "    plt.show()"
   ],
   "metadata": {
    "collapsed": false,
    "ExecuteTime": {
     "end_time": "2024-03-20T01:08:07.432364700Z",
     "start_time": "2024-03-20T01:08:07.422752600Z"
    }
   },
   "id": "e42247a704f1a9ab",
   "execution_count": 26
  },
  {
   "cell_type": "code",
   "outputs": [],
   "source": [
    "from sklearn.metrics import f1_score"
   ],
   "metadata": {
    "collapsed": false,
    "ExecuteTime": {
     "end_time": "2024-03-20T01:08:07.458383800Z",
     "start_time": "2024-03-20T01:08:07.433408100Z"
    }
   },
   "id": "d2328c600b5ebad4",
   "execution_count": 27
  },
  {
   "cell_type": "code",
   "outputs": [],
   "source": [
    "# 학습 진행 함수\n",
    "def training():\n",
    "    # 학습 모드 전환 함수 : dropout이나 batch normalization과 같은 레이어들이 학습할 때의 동작 모드\n",
    "    model.train()\n",
    "    \n",
    "    # 배치크기 만큼 학습 진행 및 저장 \n",
    "    train_loss = []\n",
    "    train_f1 = []\n",
    "    \n",
    "    for cnt, (feature, target) in enumerate(trainDL):\n",
    "\n",
    "        # 배치크기만큼의 학습 데이터 준비 \n",
    "        feature, target = feature.to(DEVICE), target.to(DEVICE)\n",
    "        target = target.squeeze().type(torch.float32)\n",
    "\n",
    "        # 학습 \n",
    "        pre_target = model(feature)\n",
    "        # print(f\"pre_target => {pre_target.shape}, {pre_target.ndim}D\")\n",
    "        # print(f\"target => {target.shape}, {target.ndim}D\")\n",
    "        \n",
    "        # 손실계산\n",
    "        loss = LOSS_FN(pre_target, target)\n",
    "        train_loss.append(loss.item())\n",
    "        \n",
    "        # W, b 업데이트\n",
    "        OPTIMIZER.zero_grad() # 초기화\n",
    "        loss.backward() \n",
    "        OPTIMIZER.step()\n",
    "        \n",
    "        # print(pre_target.max(dim=1).indices)\n",
    "        # print(target.max(dim=1).indices)\n",
    "        \n",
    "        f1 = f1_score(pre_target.max(dim=1).indices,target.max(dim=1).indices, average=\"macro\")\n",
    "                #(pre_target.max(dim=1).indices == target.max(dim=1).indices).sum() / len(pre_target))\n",
    "        # print(f\"acc => {acc}\")\n",
    "\n",
    "        train_f1.append(f1)\n",
    "        # 배치 단위 학습 진행 메시지 출력 \n",
    "        # print(f\"[train batch loss] => {loss}\")\n",
    "        \n",
    "    # 학습 진행 메시지 출력\n",
    "    # print(f\"[Train loss] ==> {loss}, [acc] ==> {acc}\")\n",
    "    \n",
    "    return np.mean(train_loss), np.mean(train_f1)"
   ],
   "metadata": {
    "collapsed": false,
    "ExecuteTime": {
     "end_time": "2024-03-20T01:08:07.464808500Z",
     "start_time": "2024-03-20T01:08:07.452088Z"
    }
   },
   "id": "6f7457cdfb4f1699",
   "execution_count": 28
  },
  {
   "cell_type": "code",
   "outputs": [],
   "source": [
    "# 검증 및 평가 진행 함수\n",
    "# 매개변수 dataLoader : 검증 또는 테스트 데이터 셋에 대한 Loader \n",
    "def testing():\n",
    "    # 추론 모드 : 레이어 비활성화, 순전파만!! 수행\n",
    "    model.eval()\n",
    "    \n",
    "    with torch.no_grad():\n",
    "        # 배치크기 만큼 학습 진행 및 저장 \n",
    "        val_loss = []\n",
    "        val_f1 = []\n",
    "        for cnt, (feature, target) in enumerate(validDL):\n",
    "            # print(cnt, feature, target)\n",
    "            # 배치크기만큼의 학습 데이터 준비 \n",
    "            feature, target = feature.to(DEVICE), target.to(DEVICE)\n",
    "            target = target.squeeze().type(torch.float32)\n",
    "        \n",
    "            # 학습 \n",
    "            pre_target = model(feature)\n",
    "            # print(f\"pre_target => {pre_target.shape}, {pre_target.ndim}D\")\n",
    "            # print(f\"target => {target.shape}, {target.ndim}D\")\n",
    "            \n",
    "            # 손실계산\n",
    "            loss = LOSS_FN(pre_target, target)\n",
    "            val_loss.append(loss.item())\n",
    "            \n",
    "            f1 = f1_score(pre_target.max(dim=1).indices,target.max(dim=1).indices, average=\"macro\")\n",
    "            \n",
    "            val_f1.append(f1)\n",
    "            \n",
    "    \n",
    "    # 학습 진행 메시지 출력\n",
    "    \n",
    "    # print(f\"acc => {acc}\") \n",
    "    # print(f\"[Valid loss] ==> {loss}, [acc] ==> {acc}\")\n",
    "    \n",
    "    return np.mean(val_loss), np.mean(val_f1)"
   ],
   "metadata": {
    "collapsed": false,
    "ExecuteTime": {
     "end_time": "2024-03-20T01:08:07.479939300Z",
     "start_time": "2024-03-20T01:08:07.469018200Z"
    }
   },
   "id": "2b9281e1a269be00",
   "execution_count": 29
  },
  {
   "cell_type": "code",
   "outputs": [
    {
     "name": "stdout",
     "output_type": "stream",
     "text": [
      "0 improve_cnt => 0\n",
      "Best valid => 0.5523\n",
      "1 improve_cnt => 0\n",
      "2 improve_cnt => 1\n",
      "Best valid => 0.6277\n",
      "3 improve_cnt => 0\n",
      "Best valid => 0.6458\n",
      "4 improve_cnt => 0\n",
      "Best valid => 0.648\n",
      "5 improve_cnt => 0\n",
      "Best valid => 0.6686\n",
      "6 improve_cnt => 0\n",
      "Best valid => 0.7046\n",
      "7 improve_cnt => 0\n",
      "Best valid => 0.7134\n",
      "8 improve_cnt => 0\n",
      "Best valid => 0.7192\n",
      "9 improve_cnt => 0\n",
      "10 improve_cnt => 1\n",
      "Best valid => 0.7358\n",
      "11 improve_cnt => 0\n",
      "Best valid => 0.7567\n",
      "12 improve_cnt => 0\n",
      "13 improve_cnt => 1\n",
      "14 improve_cnt => 2\n",
      "15 improve_cnt => 3\n",
      "16 improve_cnt => 4\n",
      "Early stopping at epoch 16\n"
     ]
    },
    {
     "data": {
      "text/plain": "<Figure size 640x480 with 2 Axes>",
      "image/png": "[encoded data removed]"
     },
     "metadata": {},
     "output_type": "display_data"
    },
    {
     "data": {
      "text/plain": "<Figure size 640x480 with 2 Axes>",
      "image/png": "[encoded data removed]"
     },
     "metadata": {},
     "output_type": "display_data"
    }
   ],
   "source": [
    "# 지정된 횟수 만큼 처음부터 ~ 끝까지 학습 및 검증 진행 \n",
    "# 목표 : 최적(Error 최소화)의 W, b를 가진 모델 완성 \n",
    "\n",
    "# from torch.optim.lr_scheduler import ReduceLROnPlateau\n",
    "best_valid_f1 = float('-inf')\n",
    "patience = 5\n",
    "improve_cnt = 0\n",
    "\n",
    "train_loss_f1 = [[],[]]\n",
    "val_loss_f1 = [[],[]]\n",
    "\n",
    "for eps in range(EPOCHS):\n",
    "    train_loss, train_f1 = training() # 학습\n",
    "    train_loss_f1[0].append(train_loss)\n",
    "    train_loss_f1[1].append(train_f1)\n",
    "    \n",
    "    valid_loss, val_f1 = testing() # 검증 \n",
    "    val_loss_f1[0].append(valid_loss)\n",
    "    val_loss_f1[1].append(val_f1)\n",
    "    \n",
    "    # print(f\"[{eps}/{EPOCHS}] \\nTRAIN {sum(train_loss)/len(train_loss)} \\nVALID : {sum(valid_loss)/len(valid_loss)}\\n\\n\")\n",
    "    print(eps, f\"improve_cnt => {improve_cnt}\")\n",
    "    \n",
    "    if val_f1 > best_valid_f1:\n",
    "        best_valid_f1 = round(val_f1, 4)\n",
    "        improve_cnt = 0\n",
    "        print(f\"Best valid => {best_valid_f1}\")\n",
    "    else:\n",
    "        improve_cnt += 1\n",
    "        if improve_cnt >= patience:\n",
    "            print(f\"Early stopping at epoch {eps}\")\n",
    "            break\n",
    "    \n",
    "            \n",
    "plt_graph(train_loss_f1)\n",
    "plt_graph(val_loss_f1)"
   ],
   "metadata": {
    "collapsed": false,
    "ExecuteTime": {
     "end_time": "2024-03-20T01:09:42.476716600Z",
     "start_time": "2024-03-20T01:08:07.482078800Z"
    }
   },
   "id": "d894ca6ccb37b241",
   "execution_count": 30
  },
  {
   "cell_type": "markdown",
   "source": [
    "# 예측 진행"
   ],
   "metadata": {
    "collapsed": false
   },
   "id": "2df89118b51e8d78"
  },
  {
   "cell_type": "code",
   "outputs": [],
   "source": [
    "def prediction():\n",
    "    # prediction에는 loss 필요없다\n",
    "    # 추론 모드 => 정규화, 경사하강법, 드랍아웃 등의 기능 비활성화\n",
    "    model.eval()\n",
    "    \n",
    "    with torch.no_grad():\n",
    "        # 배치크기 만큼 학습 진행 및 저장 \n",
    "        pred_acc = []\n",
    "        for cnt, (feature, target) in enumerate(testDL):\n",
    "            \n",
    "            feature, target = feature.to(DEVICE), target.to(DEVICE)\n",
    "            target = target.squeeze().type(torch.float32)\n",
    "        \n",
    "            # 학습 \n",
    "            pre_target = model(feature)\n",
    "            # print(f\"pre_target => {pre_target.shape}, {pre_target.ndim}D\")\n",
    "            # print(f\"target => {target.shape}, {target.ndim}D\")\n",
    "            \n",
    "            \n",
    "            acc = (pre_target.max(dim=1).indices == target.max(dim=1).indices).sum() / len(pre_target)\n",
    "            pred_acc.append(acc)\n",
    "            \n",
    "    return np.mean(pred_acc)"
   ],
   "metadata": {
    "collapsed": false,
    "ExecuteTime": {
     "end_time": "2024-03-20T01:09:42.500651400Z",
     "start_time": "2024-03-20T01:09:42.479715400Z"
    }
   },
   "id": "4c587c150fa58e63",
   "execution_count": 31
  },
  {
   "cell_type": "code",
   "outputs": [
    {
     "name": "stdout",
     "output_type": "stream",
     "text": [
      "predict accuracy => 0.6575\n"
     ]
    }
   ],
   "source": [
    "p_f1 = prediction()\n",
    "print(f\"predict accuracy => {p_f1:.4f}\")"
   ],
   "metadata": {
    "collapsed": false,
    "ExecuteTime": {
     "end_time": "2024-03-20T01:09:42.526980900Z",
     "start_time": "2024-03-20T01:09:42.495420200Z"
    }
   },
   "id": "7921dee4ac7468ba",
   "execution_count": 32
  },
  {
   "cell_type": "code",
   "outputs": [
    {
     "name": "stdout",
     "output_type": "stream",
     "text": [
      "[2655, 100, 9]\n",
      "predict f1_score => 0.6675\n",
      "[2655, 600, 9]\n",
      "predict f1_score => 0.7250\n",
      "[2655, 1100, 9]\n",
      "predict f1_score => 0.7225\n",
      "[2655, 1600, 9]\n",
      "predict f1_score => 0.5900\n",
      "[2655, 2100, 9]\n",
      "predict f1_score => 0.7125\n",
      "[2655, 2600, 9]\n",
      "predict f1_score => 0.7500\n",
      "[2655, 3100, 9]\n",
      "predict f1_score => 0.6550\n",
      "[2655, 3600, 9]\n",
      "predict f1_score => 0.6900\n"
     ]
    }
   ],
   "source": [
    "#######################퍼셉트론 개수 전용\n",
    "perceptron_list = [] # [[IN_DIM, 100, OUT_DIM], [IN_DIM, 200, OUT_DIM]]\n",
    "for i in range(100, 4000, 500):\n",
    "    temp = [IN_DIM, i, OUT_DIM]\n",
    "    perceptron_list.append(temp)\n",
    "#######################################\n",
    "\n",
    "perceptron_f1_list = [[], []]\n",
    "train_loss_f1_list = []\n",
    "val_loss_f1_list = []\n",
    "\n",
    "for perceptron_nums in perceptron_list:\n",
    "    model = MyModel(IN_DIM, OUT_DIM, HIDDEN_NUM+2, perceptron_nums).to(DEVICE)\n",
    "    \n",
    "    # 가중치 초기화\n",
    "    for layer in model.layers:\n",
    "        # print(f\"{layer} => nn.Linear T/F? {isinstance(layer, nn.Linear)}\")\n",
    "        # print()\n",
    "        if isinstance(layer, nn.Linear) == True:\n",
    "            nn.init.xavier_uniform_(layer.weight)\n",
    "            \n",
    "    # 손실함수 인스턴스 생성\n",
    "    LOSS_FN = nn.CrossEntropyLoss().to(DEVICE) # 다중분류니까\n",
    "    \n",
    "    # 최적화 인스턴스 생성\n",
    "    OPTIMIZER = optim.Adam(model.parameters()) # lr = default 사용\n",
    "    \n",
    "    # 반복 횟수\n",
    "    EPOCHS = 30\n",
    "    \n",
    "    best_valid_f1 = float('-inf')\n",
    "    patience = 5\n",
    "    improve_cnt = 0\n",
    "    \n",
    "    train_loss_f1 = [[],[]]\n",
    "    val_loss_f1 = [[],[]]\n",
    "    \n",
    "    for eps in range(EPOCHS):\n",
    "        train_loss, train_f1 = training() # 학습\n",
    "        train_loss_f1[0].append(train_loss)\n",
    "        train_loss_f1[1].append(train_f1)\n",
    "        \n",
    "        valid_loss, val_f1 = testing() # 검증 \n",
    "        val_loss_f1[0].append(valid_loss)\n",
    "        val_loss_f1[1].append(val_f1)\n",
    "        \n",
    "        # print(f\"[{eps}/{EPOCHS}] \\nTRAIN {sum(train_loss)/len(train_loss)} \\nVALID : {sum(valid_loss)/len(valid_loss)}\\n\\n\")\n",
    "        # print(eps, f\"improve_cnt => {improve_cnt}\")\n",
    "        \n",
    "        if val_f1 > best_valid_f1:\n",
    "            best_valid_f1 = round(val_f1, 4)\n",
    "            improve_cnt = 0\n",
    "            # print(f\"Best valid => {best_valid_f1}\")\n",
    "        else:\n",
    "            improve_cnt += 1\n",
    "            if improve_cnt >= patience:\n",
    "                # print(f\"Early stopping at epoch {eps}\")\n",
    "                break\n",
    "        \n",
    "    # plt_graph(train_loss_f1)\n",
    "    # plt_graph(val_loss_f1)\n",
    "    train_loss_f1_list.append(train_loss_f1)\n",
    "    val_loss_f1_list.append(val_loss_f1)\n",
    "    \n",
    "    p_f1 = prediction()\n",
    "    print(perceptron_nums)\n",
    "    print(f\"predict f1_score => {p_f1:.4f}\")\n",
    "    torch.save(model, f'../data/model/mymodel{perceptron_nums[1]}.pt')\n",
    "    perceptron_f1_list[0].append(perceptron_nums[1])\n",
    "    perceptron_f1_list[1].append(p_f1)"
   ],
   "metadata": {
    "collapsed": false,
    "ExecuteTime": {
     "end_time": "2024-03-20T02:30:27.966567500Z",
     "start_time": "2024-03-20T02:03:42.736692900Z"
    }
   },
   "id": "b34c1408ceec51bd",
   "execution_count": 40
  },
  {
   "cell_type": "markdown",
   "source": [
    "=> 단순히 퍼셉트론 수만 바꾸는 것은 의미가 없는 것 같음!! "
   ],
   "metadata": {
    "collapsed": false
   },
   "id": "a44d1bb791d5a37a"
  },
  {
   "cell_type": "code",
   "outputs": [],
   "source": [
    "# plt_graph(perceptron_f1_list)"
   ],
   "metadata": {
    "collapsed": false,
    "ExecuteTime": {
     "end_time": "2024-03-20T02:30:28.005842300Z",
     "start_time": "2024-03-20T02:30:27.961348300Z"
    }
   },
   "id": "df1dc07ccfe4f239",
   "execution_count": 41
  },
  {
   "cell_type": "code",
   "outputs": [
    {
     "data": {
      "text/plain": "<Figure size 640x480 with 1 Axes>",
      "image/png": "[encoded data removed]"
     },
     "metadata": {},
     "output_type": "display_data"
    }
   ],
   "source": [
    "fig, ax1 = plt.subplots()\n",
    "ax1.plot(perceptron_f1_list[0], perceptron_f1_list[1], label='loss', color=\"g\")\n",
    "\n",
    "ax1.scatter(perceptron_f1_list[0], perceptron_f1_list[1], color='r', label='data points')\n",
    "\n",
    "# plt.plot(loss_accuracy[0], label='loss')\n",
    "# plt.plot(loss_accuracy[1], label='accuracy')\n",
    "\n",
    "# ax1.legend(loc='upper left')\n",
    "# ax2.legend(loc='upper right')\n",
    "\n",
    "plt.ylabel(\"TEST_SET f1 score\")\n",
    "plt.xlabel(\"perceptron_num\")\n",
    "plt.grid()\n",
    "plt.show()"
   ],
   "metadata": {
    "collapsed": false,
    "ExecuteTime": {
     "end_time": "2024-03-20T02:55:33.267264Z",
     "start_time": "2024-03-20T02:55:32.881846600Z"
    }
   },
   "id": "522ea48c9fae87a6",
   "execution_count": 44
  },
  {
   "cell_type": "code",
   "outputs": [],
   "source": [],
   "metadata": {
    "collapsed": false
   },
   "id": "e64e5b1414e0156a"
  }
 ],
 "metadata": {
  "kernelspec": {
   "display_name": "Python 3",
   "language": "python",
   "name": "python3"
  },
  "language_info": {
   "codemirror_mode": {
    "name": "ipython",
    "version": 2
   },
   "file_extension": ".py",
   "mimetype": "text/x-python",
   "name": "python",
   "nbconvert_exporter": "python",
   "pygments_lexer": "ipython2",
   "version": "2.7.6"
  }
 },
 "nbformat": 4,
 "nbformat_minor": 5
}
