{
 "cells": [
  {
   "cell_type": "markdown",
   "source": [
    "# [Soynlp] 학습 기반 토크나이저\n",
    "- 품사 태깅, 단어 토큰화 등을 지원하는 단어 토크나이저\n",
    "- 비지도 학습으로 단어 토큰화 -> 데이터에 자주 등장하는 단어들을 단어로 분석\n",
    "- 내부적으로 단어 점수 표로 동작"
   ],
   "metadata": {
    "collapsed": false
   },
   "id": "42e2a94825c03e99"
  },
  {
   "cell_type": "code",
   "outputs": [],
   "source": [
    "from konlpy.tag import Okt"
   ],
   "metadata": {
    "collapsed": false,
    "ExecuteTime": {
     "end_time": "2024-04-01T00:20:57.871658300Z",
     "start_time": "2024-04-01T00:20:57.857044300Z"
    }
   },
   "id": "bc09969f9812ddd3",
   "execution_count": 2
  },
  {
   "cell_type": "code",
   "outputs": [
    {
     "name": "stdout",
     "output_type": "stream",
     "text": [
      "['에이', '비식스', '이대', '휘', '1월', '최애', '돌', '기부', '요정', '입니다', '.']\n",
      "['에이', '비식스', '이대', '휘', '1월', '최애', '돌', '기부', '요정', '이다', '.']\n",
      "['에이', '비식스', '이대', '휘', '1월', '최애', '돌', '기부', '요정', '입니다', '.']\n"
     ]
    }
   ],
   "source": [
    "tokenizer = Okt()\n",
    "\n",
    "print(tokenizer.morphs(\"에이비식스 이대휘 1월 최애돌 기부 요정 입니다.\"))\n",
    "\n",
    "# 형태소 분석 시 매개변수 stem, norm 둘 다 default는 False \n",
    "print(tokenizer.morphs(\"에이비식스 이대휘 1월 최애돌 기부 요정 입니다.\", stem = True)) # 어간\n",
    "print(tokenizer.morphs(\"에이비식스 이대휘 1월 최애돌 기부 요정 입니다.\", norm = True)) # 정규화 "
   ],
   "metadata": {
    "collapsed": false,
    "ExecuteTime": {
     "end_time": "2024-04-01T00:22:53.351743500Z",
     "start_time": "2024-04-01T00:22:53.287228400Z"
    }
   },
   "id": "991a4deea55ef04",
   "execution_count": 4
  },
  {
   "cell_type": "code",
   "outputs": [],
   "source": [
    "# [soynlp] 사용 -> 말뭉치 데이터셋 \n",
    "from urllib.request import urlretrieve\n",
    "import os"
   ],
   "metadata": {
    "collapsed": false,
    "ExecuteTime": {
     "end_time": "2024-04-01T00:25:12.100947400Z",
     "start_time": "2024-04-01T00:25:12.092527800Z"
    }
   },
   "id": "7e615c1e81e80f43",
   "execution_count": 5
  },
  {
   "cell_type": "code",
   "outputs": [],
   "source": [
    "filename = \"../data/text_data.txt\""
   ],
   "metadata": {
    "collapsed": false,
    "ExecuteTime": {
     "end_time": "2024-04-01T00:27:28.157332800Z",
     "start_time": "2024-04-01T00:27:28.143520900Z"
    }
   },
   "id": "e7b4e5b37a2b3324",
   "execution_count": 7
  },
  {
   "cell_type": "code",
   "outputs": [],
   "source": [
    "# 학습 데이터 처리\n",
    "from soynlp import DoublespaceLineCorpus # 한개로 통합된 문서 데이터를 분리하기 위함 \n",
    "from soynlp.word import WordExtractor # 단어 추출 "
   ],
   "metadata": {
    "collapsed": false,
    "ExecuteTime": {
     "end_time": "2024-04-01T00:27:29.475857400Z",
     "start_time": "2024-04-01T00:27:29.466439900Z"
    }
   },
   "id": "f677d43d56109dbb",
   "execution_count": 8
  },
  {
   "cell_type": "code",
   "outputs": [
    {
     "name": "stdout",
     "output_type": "stream",
     "text": [
      "훈련 데이터 문서 : 30091개\n"
     ]
    }
   ],
   "source": [
    "# 훈련 데이터 문서 분리\n",
    "corpus = DoublespaceLineCorpus(filename)\n",
    "print(f\"훈련 데이터 문서 : {len(corpus)}개\")"
   ],
   "metadata": {
    "collapsed": false,
    "ExecuteTime": {
     "end_time": "2024-04-01T00:28:09.184566800Z",
     "start_time": "2024-04-01T00:28:08.934967800Z"
    }
   },
   "id": "cd89daae6200bd73",
   "execution_count": 9
  },
  {
   "cell_type": "code",
   "outputs": [
    {
     "name": "stdout",
     "output_type": "stream",
     "text": [
      "training was done. used memory 1.083 Gb\n",
      "all cohesion probabilities was computed. # words = 223348\n",
      "all branching entropies was computed # words = 361598\n",
      "all accessor variety was computed # words = 361598\n"
     ]
    }
   ],
   "source": [
    "# SoyNLP 학습 진행\n",
    "word_extractor = WordExtractor()\n",
    "\n",
    "# 학습 진행하며 단어별 점수\n",
    "word_extractor.train(corpus) # 단어마다 점수표를 만듦\n",
    "\n",
    "# 단어별 점수표 추출\n",
    "word_score_table = word_extractor.extract()  # 위에서 만든 점수표 추출\n",
    "# print하면 컴퓨터 죽을 수도 있음 ㅠㅠ"
   ],
   "metadata": {
    "collapsed": false,
    "ExecuteTime": {
     "end_time": "2024-04-01T00:34:55.973197500Z",
     "start_time": "2024-04-01T00:34:06.977377Z"
    }
   },
   "id": "14e674ab89b43c8c",
   "execution_count": 10
  },
  {
   "cell_type": "code",
   "outputs": [
    {
     "name": "stdout",
     "output_type": "stream",
     "text": [
      "0 -> 맴\n",
      "1 -> 윳\n",
      "2 -> 며\n",
      "3 -> 코\n",
      "4 -> 펑\n",
      "5 -> 킬\n",
      "6 -> 맘\n",
      "7 -> 온\n",
      "8 -> 뒷\n",
      "9 -> 뿐\n",
      "10 -> 졸\n",
      "11 -> 앗\n",
      "12 -> 꺾\n",
      "13 -> 아\n",
      "14 -> 퇴\n",
      "15 -> 폄\n",
      "16 -> 성\n",
      "17 -> 밧\n",
      "18 -> 해\n",
      "19 -> 씻\n",
      "20 -> 낚\n",
      "21 -> 탄\n",
      "22 -> 솟\n",
      "23 -> 불\n",
      "24 -> 샐\n",
      "25 -> 깨\n",
      "26 -> 쳤\n",
      "27 -> 랩\n",
      "28 -> 샌\n",
      "29 -> 됨\n",
      "30 -> 핏\n"
     ]
    }
   ],
   "source": [
    "# 단어별 점수표 확인\n",
    "\n",
    "for idx, key in enumerate(word_score_table.keys()):\n",
    "    print(f\"{idx} -> {key}\")\n",
    "    if idx==30 : break"
   ],
   "metadata": {
    "collapsed": false,
    "ExecuteTime": {
     "end_time": "2024-04-01T00:35:00.159742500Z",
     "start_time": "2024-04-01T00:35:00.128560200Z"
    }
   },
   "id": "3fd19eb83597f4a8",
   "execution_count": 11
  },
  {
   "cell_type": "markdown",
   "source": [
    "# 응집확률 : 내부 문자열이 얼마나 응집하여 자주 등장하는지를 판단하는 척도\n",
    "- 원리 : 문자열을 문자 단위로 분리, 왼쪽부터 순서대로 문자를 추가 각 문자열이 주어졌을 때 그 다음 문자가 나올 확률을 계산 / 누적곱 한 값\n",
    "- 값이 높을 수록 : 전체 코퍼스에서 이 문자열 시퀀스 하나의 단어로 등장할 가능성 높음"
   ],
   "metadata": {
    "collapsed": false
   },
   "id": "8d9b17a0301de067"
  },
  {
   "cell_type": "code",
   "outputs": [
    {
     "data": {
      "text/plain": "0"
     },
     "execution_count": 14,
     "metadata": {},
     "output_type": "execute_result"
    }
   ],
   "source": [
    "word_score_table[\"바\"].cohesion_forward"
   ],
   "metadata": {
    "collapsed": false,
    "ExecuteTime": {
     "end_time": "2024-04-01T00:42:22.231268300Z",
     "start_time": "2024-04-01T00:42:22.201355Z"
    }
   },
   "id": "e1c44bea3bbad847",
   "execution_count": 14
  },
  {
   "cell_type": "code",
   "outputs": [
    {
     "data": {
      "text/plain": "0.06393648140409527"
     },
     "execution_count": 12,
     "metadata": {},
     "output_type": "execute_result"
    }
   ],
   "source": [
    "word_score_table[\"바다\"].cohesion_forward"
   ],
   "metadata": {
    "collapsed": false,
    "ExecuteTime": {
     "end_time": "2024-04-01T00:40:45.486463900Z",
     "start_time": "2024-04-01T00:40:45.453976800Z"
    }
   },
   "id": "b2e2e8814aaa3b9b",
   "execution_count": 12
  },
  {
   "cell_type": "code",
   "outputs": [
    {
     "data": {
      "text/plain": "0.11518621707955429"
     },
     "execution_count": 13,
     "metadata": {},
     "output_type": "execute_result"
    }
   ],
   "source": [
    "word_score_table[\"바다에\"].cohesion_forward # 바다보다 바다에로 등장할 확률이 높다는 뜻"
   ],
   "metadata": {
    "collapsed": false,
    "ExecuteTime": {
     "end_time": "2024-04-01T00:41:10.052631700Z",
     "start_time": "2024-04-01T00:41:10.021322500Z"
    }
   },
   "id": "1c07dc31028e3f11",
   "execution_count": 13
  },
  {
   "cell_type": "code",
   "outputs": [
    {
     "data": {
      "text/plain": "0.15551296569078008"
     },
     "execution_count": 15,
     "metadata": {},
     "output_type": "execute_result"
    }
   ],
   "source": [
    "word_score_table[\"바다에서\"].cohesion_forward"
   ],
   "metadata": {
    "collapsed": false,
    "ExecuteTime": {
     "end_time": "2024-04-01T00:42:51.524734900Z",
     "start_time": "2024-04-01T00:42:51.506836600Z"
    }
   },
   "id": "ed24d28aa0e9fe8",
   "execution_count": 15
  },
  {
   "cell_type": "markdown",
   "source": [
    "# soyNLP의 L tokenizer\n",
    "- 띄어쓰기 단위로 나눈 어절 토큰 : L토큰 + R토큰\n",
    "- 예 : 공원에 -> 공원+에 / 공부하는 -> 공부 + 하는\n",
    "- 분리 기준 : 점수가 가장 높은 L 토큰을 찾아내는 원리"
   ],
   "metadata": {
    "collapsed": false
   },
   "id": "ea0692a666b85c77"
  },
  {
   "cell_type": "code",
   "outputs": [
    {
     "data": {
      "text/plain": "[('국제사회', '와'), ('우리', '의'), ('노력', '들로'), ('범죄', '를'), ('척결', '하자')]"
     },
     "execution_count": 23,
     "metadata": {},
     "output_type": "execute_result"
    }
   ],
   "source": [
    "from soynlp.tokenizer import LTokenizer\n",
    "\n",
    "scores = {word:score.cohesion_forward for word, score in word_score_table.items()} # 딕셔너리 conprehension\n",
    "\n",
    "# 그냥 쪼개지 말고 점수가 높은 것 기준으로 L토큰을 찾아달라\n",
    "l_tokenizer = LTokenizer(scores=scores)\n",
    "l_tokenizer.tokenize(\"국제사회와 우리의 노력들로 범죄를 척결하자\", flatten=False)"
   ],
   "metadata": {
    "collapsed": false,
    "ExecuteTime": {
     "end_time": "2024-04-01T00:47:37.725404500Z",
     "start_time": "2024-04-01T00:47:37.671333500Z"
    }
   },
   "id": "a7ff84e85cc8625",
   "execution_count": 23
  },
  {
   "cell_type": "markdown",
   "source": [
    "# 최대 점수 토크나이저\n",
    "- 띄어쓰기가 되어있지 않은 문장에서 점수가 높은 글자 시퀀스를 순차적으로 찾아내는 토크나이저\n",
    "- 띄어쓰기가 되어있지 않은 문장을 넣어서 점수를 통해 토큰화 된 결과"
   ],
   "metadata": {
    "collapsed": false
   },
   "id": "917ba9b739b320ef"
  },
  {
   "cell_type": "code",
   "outputs": [
    {
     "data": {
      "text/plain": "['국제사회', '와', '우리', '의', '노력', '들로', '범죄', '를', '척결', '하자']"
     },
     "execution_count": 25,
     "metadata": {},
     "output_type": "execute_result"
    }
   ],
   "source": [
    "from soynlp.tokenizer import MaxScoreTokenizer\n",
    "\n",
    "maxscore_tokenizer = MaxScoreTokenizer(scores=scores)\n",
    "maxscore_tokenizer.tokenize(\"국제사회와우리의노력들로범죄를척결하자\")"
   ],
   "metadata": {
    "collapsed": false,
    "ExecuteTime": {
     "end_time": "2024-04-01T00:50:34.868207600Z",
     "start_time": "2024-04-01T00:50:34.860862300Z"
    }
   },
   "id": "af5db85cc56d68db",
   "execution_count": 25
  },
  {
   "cell_type": "markdown",
   "source": [
    "# soyNLP를 이용한 반복되는 문자 정제\n",
    "- ㅋㅋ, ㅎㅎ 등의 이모티콘의 경우 불필요하게 연속되는 경우 많음\n",
    "- ㅋㅋ, ㅋㅋㅋㅋㅋㅋ와 같은 경우를 모두 서로 다른 단어로 처리하는 것은 불필요\n",
    "- 반복되는 것은 하나로 정규화"
   ],
   "metadata": {
    "collapsed": false
   },
   "id": "833fd9a637a80dd1"
  },
  {
   "cell_type": "code",
   "outputs": [
    {
     "name": "stdout",
     "output_type": "stream",
     "text": [
      "!\"#$%&'()*+,-./:;<=>?@[\\]^_`{|}~\n",
      "ㅋㅋㅋ영화존잼쓰ㅠ\n",
      "ㅋㅋㅋ영화존잼쓰ㅠㅠ\n",
      "ㅋㅋ영화존잼쓰ㅠㅠ\n",
      "ㅋㅋ영화존잼쓰ㅠㅠ\n"
     ]
    }
   ],
   "source": [
    "from soynlp.normalizer import *\n",
    "import string\n",
    "print(string.punctuation)\n",
    "\n",
    "print(emoticon_normalize(\"악ㅋㅋㅋ이영화존잼쓰ㅠㅠㅠㅠㅠㅠ\", num_repeats=1))\n",
    "print(emoticon_normalize(\"악ㅋㅋㅋ이영화존잼쓰ㅠㅠㅠㅠㅠㅠ\", num_repeats=2))\n",
    "print(emoticon_normalize(\"악ㅋㅋㅋㅋㅋㅋㅋㅋㅋㅋ이영화존잼쓰ㅠㅠㅠㅠㅠㅠㅠㅠ\", num_repeats=2))\n",
    "print(emoticon_normalize(\"악ㅋㅋㅋㅋㅋㅋㅋㅋㅋㅋㅋㅋㅋㅋㅋㅋㅋㅋㅋㅋ이영화존잼쓰ㅠㅠㅠㅠㅠㅠㅠㅠㅠㅠㅠㅠㅠㅠㅠㅠㅠ\", num_repeats=2))"
   ],
   "metadata": {
    "collapsed": false,
    "ExecuteTime": {
     "end_time": "2024-04-01T01:24:56.870900100Z",
     "start_time": "2024-04-01T01:24:56.852007900Z"
    }
   },
   "id": "2ebfee79d93892eb",
   "execution_count": 31
  },
  {
   "cell_type": "code",
   "outputs": [
    {
     "name": "stdout",
     "output_type": "stream",
     "text": [
      "와하하핫\n",
      "와하하핫\n",
      "와하하핫\n"
     ]
    }
   ],
   "source": [
    "print(repeat_normalize(\"와하하하하하하하하하핫\", num_repeats=2))\n",
    "print(repeat_normalize(\"와하하하하하하핫\", num_repeats=2))\n",
    "print(repeat_normalize(\"와하하하하핫\", num_repeats=2))"
   ],
   "metadata": {
    "collapsed": false,
    "ExecuteTime": {
     "end_time": "2024-04-01T01:25:44.044168800Z",
     "start_time": "2024-04-01T01:25:44.003206100Z"
    }
   },
   "id": "efa6131d249f8b7b",
   "execution_count": 32
  },
  {
   "cell_type": "code",
   "outputs": [
    {
     "data": {
      "text/plain": "['은', '경이', '는', '사무실', '로', '갔습니다', '.']"
     },
     "execution_count": 37,
     "metadata": {},
     "output_type": "execute_result"
    }
   ],
   "source": [
    "from ckonlpy.tag import Twitter\n",
    "\n",
    "twitter = Twitter()\n",
    "twitter.morphs(\"은경이는 사무실로 갔습니다.\")"
   ],
   "metadata": {
    "collapsed": false,
    "ExecuteTime": {
     "end_time": "2024-04-01T01:31:17.449075200Z",
     "start_time": "2024-04-01T01:31:17.264487400Z"
    }
   },
   "id": "e7d8eed80dedecb2",
   "execution_count": 37
  },
  {
   "cell_type": "code",
   "outputs": [
    {
     "data": {
      "text/plain": "[('은', 'Noun'),\n ('경이', 'Noun'),\n ('는', 'Josa'),\n ('사무실', 'Noun'),\n ('로', 'Josa'),\n ('갔습니다', 'Verb'),\n ('.', 'Punctuation')]"
     },
     "execution_count": 39,
     "metadata": {},
     "output_type": "execute_result"
    }
   ],
   "source": [
    "twitter.pos(\"은경이는 사무실로 갔습니다.\")"
   ],
   "metadata": {
    "collapsed": false,
    "ExecuteTime": {
     "end_time": "2024-04-01T01:32:52.064483900Z",
     "start_time": "2024-04-01T01:32:52.026592300Z"
    }
   },
   "id": "34ed41fff538b045",
   "execution_count": 39
  },
  {
   "cell_type": "code",
   "outputs": [],
   "source": [
    "# 형태소 분석기에 사전 추가\n",
    "twitter.add_dictionary(\"은경이\", \"Noun\")"
   ],
   "metadata": {
    "collapsed": false,
    "ExecuteTime": {
     "end_time": "2024-04-01T01:32:52.373586100Z",
     "start_time": "2024-04-01T01:32:52.352779100Z"
    }
   },
   "id": "3cb2b1b561ff8bfe",
   "execution_count": 40
  },
  {
   "cell_type": "code",
   "outputs": [
    {
     "data": {
      "text/plain": "[('은경이', 'Noun'),\n ('는', 'Josa'),\n ('사무실', 'Noun'),\n ('로', 'Josa'),\n ('갔습니다', 'Verb'),\n ('.', 'Punctuation')]"
     },
     "execution_count": 41,
     "metadata": {},
     "output_type": "execute_result"
    }
   ],
   "source": [
    "twitter.pos(\"은경이는 사무실로 갔습니다.\")"
   ],
   "metadata": {
    "collapsed": false,
    "ExecuteTime": {
     "end_time": "2024-04-01T01:32:52.890582100Z",
     "start_time": "2024-04-01T01:32:52.865363100Z"
    }
   },
   "id": "5f4da2939a20022c",
   "execution_count": 41
  },
  {
   "cell_type": "code",
   "outputs": [],
   "source": [],
   "metadata": {
    "collapsed": false
   },
   "id": "d7eee02b7c1d0a71"
  }
 ],
 "metadata": {
  "kernelspec": {
   "display_name": "Python 3",
   "language": "python",
   "name": "python3"
  },
  "language_info": {
   "codemirror_mode": {
    "name": "ipython",
    "version": 2
   },
   "file_extension": ".py",
   "mimetype": "text/x-python",
   "name": "python",
   "nbconvert_exporter": "python",
   "pygments_lexer": "ipython2",
   "version": "2.7.6"
  }
 },
 "nbformat": 4,
 "nbformat_minor": 5
}
