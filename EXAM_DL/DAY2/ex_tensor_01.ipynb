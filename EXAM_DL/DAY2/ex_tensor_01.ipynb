{
 "cells": [
  {
   "cell_type": "markdown",
   "source": [
    "# 텐서(Tensor) 살펴보기\n",
    "- Pytorch에서 데이터 저장 자료형\n",
    "- 모델 입력(input), 출력(output) 데이터 형태"
   ],
   "metadata": {
    "collapsed": false
   },
   "id": "c3d3d857cf8aff6a"
  },
  {
   "cell_type": "markdown",
   "source": [
    "- 모듈로딩"
   ],
   "metadata": {
    "collapsed": false
   },
   "id": "8f2d8a3b8dca8a8a"
  },
  {
   "cell_type": "code",
   "outputs": [],
   "source": [
    "import torch"
   ],
   "metadata": {
    "collapsed": false,
    "ExecuteTime": {
     "end_time": "2024-03-12T00:41:08.971685700Z",
     "start_time": "2024-03-12T00:41:07.509002100Z"
    }
   },
   "id": "30b428aff763ddeb",
   "execution_count": 2
  },
  {
   "cell_type": "markdown",
   "source": [
    "- Tensor 속성 관련함수"
   ],
   "metadata": {
    "collapsed": false
   },
   "id": "c956ba73682b7338"
  },
  {
   "cell_type": "code",
   "outputs": [],
   "source": [
    "# 매개변수 : 텐서 인스턴스\n",
    "def print_attribute(tensor, name):\n",
    "    print(f\"[Tensor {name}]\\'s Attribute\")\n",
    "    print(f\" - tensor.shape: {tensor.shape}\")\n",
    "    print(f\" - tensor.ndim: {tensor.ndim}\")\n",
    "    print(f\" - tensor.dtype: {tensor.dtype}\")\n",
    "    print(f\" - tensor.device: {tensor.device}\")\n",
    "    print(f\" - tensor.requires_grad: {tensor.requires_grad}\")\n",
    "    print(f\" - tensor.data: {tensor.data}\")"
   ],
   "metadata": {
    "collapsed": false,
    "ExecuteTime": {
     "end_time": "2024-03-12T00:48:24.014180900Z",
     "start_time": "2024-03-12T00:48:24.000093300Z"
    }
   },
   "id": "43939a93ec961437",
   "execution_count": 4
  },
  {
   "cell_type": "markdown",
   "source": [
    "- Tensor 생성 (1) 특정 데이터 타입의 텐서 생성\n",
    "    * 타입별 텐서 클래스 생성자 활용\n",
    "    * ex) IntTensor(), FloatTensor(), BoolTensor()"
   ],
   "metadata": {
    "collapsed": false
   },
   "id": "ab8e1c7cc5b78f17"
  },
  {
   "cell_type": "code",
   "outputs": [],
   "source": [
    "# 정수 타입 텐서\n",
    "t1 = torch.IntTensor(10) # scalar\n",
    "t2 = torch.IntTensor([10, 20])\n",
    "t3 = torch.BoolTensor([1, 0, 3])\n",
    "t4 = torch.FloatTensor([10, 20])"
   ],
   "metadata": {
    "collapsed": false,
    "ExecuteTime": {
     "end_time": "2024-03-12T00:58:11.798630100Z",
     "start_time": "2024-03-12T00:58:11.776252100Z"
    }
   },
   "id": "e12a1181ae33e67e",
   "execution_count": 18
  },
  {
   "cell_type": "code",
   "outputs": [
    {
     "name": "stdout",
     "output_type": "stream",
     "text": [
      "[Tensor t1]'s Attribute\n",
      " - tensor.shape: torch.Size([10])\n",
      " - tensor.ndim: 1\n",
      " - tensor.dtype: torch.int32\n",
      " - tensor.device: cpu\n",
      " - tensor.requires_grad: False\n",
      " - tensor.data: tensor([0, 0, 0, 0, 0, 0, 0, 0, 0, 0], dtype=torch.int32)\n"
     ]
    }
   ],
   "source": [
    "print_attribute(t1, \"t1\")"
   ],
   "metadata": {
    "collapsed": false,
    "ExecuteTime": {
     "end_time": "2024-03-12T00:57:29.119359500Z",
     "start_time": "2024-03-12T00:57:29.115707500Z"
    }
   },
   "id": "c08f25a6520d01b0",
   "execution_count": 15
  },
  {
   "cell_type": "code",
   "outputs": [
    {
     "name": "stdout",
     "output_type": "stream",
     "text": [
      "[Tensor t2]'s Attribute\n",
      " - tensor.shape: torch.Size([2])\n",
      " - tensor.ndim: 1\n",
      " - tensor.dtype: torch.int32\n",
      " - tensor.device: cpu\n",
      " - tensor.requires_grad: False\n",
      " - tensor.data: tensor([10, 20], dtype=torch.int32)\n"
     ]
    }
   ],
   "source": [
    "print_attribute(t2, \"t2\")"
   ],
   "metadata": {
    "collapsed": false,
    "ExecuteTime": {
     "end_time": "2024-03-12T00:57:29.288253500Z",
     "start_time": "2024-03-12T00:57:29.274983300Z"
    }
   },
   "id": "aec387f5048ebb5a",
   "execution_count": 16
  },
  {
   "cell_type": "code",
   "outputs": [
    {
     "name": "stdout",
     "output_type": "stream",
     "text": [
      "[Tensor t3]'s Attribute\n",
      " - tensor.shape: torch.Size([3])\n",
      " - tensor.ndim: 1\n",
      " - tensor.dtype: torch.bool\n",
      " - tensor.device: cpu\n",
      " - tensor.requires_grad: False\n",
      " - tensor.data: tensor([ True, False,  True])\n"
     ]
    }
   ],
   "source": [
    "print_attribute(t3, \"t3\")"
   ],
   "metadata": {
    "collapsed": false,
    "ExecuteTime": {
     "end_time": "2024-03-12T00:57:38.013137600Z",
     "start_time": "2024-03-12T00:57:37.977267Z"
    }
   },
   "id": "7a7410101b7b493f",
   "execution_count": 17
  },
  {
   "cell_type": "code",
   "outputs": [
    {
     "name": "stdout",
     "output_type": "stream",
     "text": [
      "[Tensor t4]'s Attribute\n",
      " - tensor.shape: torch.Size([2])\n",
      " - tensor.ndim: 1\n",
      " - tensor.dtype: torch.float32\n",
      " - tensor.device: cpu\n",
      " - tensor.requires_grad: False\n",
      " - tensor.data: tensor([10., 20.])\n"
     ]
    }
   ],
   "source": [
    "print_attribute(t4, \"t4\")"
   ],
   "metadata": {
    "collapsed": false,
    "ExecuteTime": {
     "end_time": "2024-03-12T00:58:27.576816700Z",
     "start_time": "2024-03-12T00:58:27.546573400Z"
    }
   },
   "id": "f2759de3bc49f38d",
   "execution_count": 19
  },
  {
   "cell_type": "markdown",
   "source": [
    "- Tensor 생성(2) 원하는 값으로 텐서 생성, 데이터를 보고 type이 정해짐 => torch.tensor()"
   ],
   "metadata": {
    "collapsed": false
   },
   "id": "864168bf10dd6ff8"
  },
  {
   "cell_type": "code",
   "outputs": [
    {
     "name": "stdout",
     "output_type": "stream",
     "text": [
      "[Tensor t1]'s Attribute\n",
      " - tensor.shape: torch.Size([])\n",
      " - tensor.ndim: 0\n",
      " - tensor.dtype: torch.int64\n",
      " - tensor.device: cpu\n",
      " - tensor.requires_grad: False\n",
      " - tensor.data: 10\n"
     ]
    }
   ],
   "source": [
    "t1=torch.tensor(10) # scalar 데이터, int64\n",
    "print_attribute(t1, \"t1\") # scalar 데이터, int64"
   ],
   "metadata": {
    "collapsed": false,
    "ExecuteTime": {
     "end_time": "2024-03-12T01:21:35.824442800Z",
     "start_time": "2024-03-12T01:21:35.799104Z"
    }
   },
   "id": "38878b7598e38fd9",
   "execution_count": 20
  },
  {
   "cell_type": "code",
   "outputs": [
    {
     "name": "stdout",
     "output_type": "stream",
     "text": [
      "[Tensor t1]'s Attribute\n",
      " - tensor.shape: torch.Size([])\n",
      " - tensor.ndim: 0\n",
      " - tensor.dtype: torch.float32\n",
      " - tensor.device: cpu\n",
      " - tensor.requires_grad: False\n",
      " - tensor.data: 10.0\n"
     ]
    }
   ],
   "source": [
    "t1=torch.tensor(10.) \n",
    "print_attribute(t1, \"t1\")"
   ],
   "metadata": {
    "collapsed": false,
    "ExecuteTime": {
     "end_time": "2024-03-12T01:22:29.311062300Z",
     "start_time": "2024-03-12T01:22:29.284915600Z"
    }
   },
   "id": "57c3cfac7a2a815d",
   "execution_count": 21
  },
  {
   "cell_type": "code",
   "outputs": [
    {
     "name": "stdout",
     "output_type": "stream",
     "text": [
      "[Tensor t1]'s Attribute\n",
      " - tensor.shape: torch.Size([])\n",
      " - tensor.ndim: 0\n",
      " - tensor.dtype: torch.int32\n",
      " - tensor.device: cpu\n",
      " - tensor.requires_grad: False\n",
      " - tensor.data: 10\n"
     ]
    }
   ],
   "source": [
    "t1=torch.tensor(10, dtype=torch.int32) \n",
    "print_attribute(t1, \"t1\")"
   ],
   "metadata": {
    "collapsed": false,
    "ExecuteTime": {
     "end_time": "2024-03-12T01:24:05.379049200Z",
     "start_time": "2024-03-12T01:24:05.370060500Z"
    }
   },
   "id": "f0c22e7d4a71386",
   "execution_count": 23
  },
  {
   "cell_type": "code",
   "outputs": [
    {
     "name": "stdout",
     "output_type": "stream",
     "text": [
      "[Tensor t1]'s Attribute\n",
      " - tensor.shape: torch.Size([1, 3])\n",
      " - tensor.ndim: 2\n",
      " - tensor.dtype: torch.int8\n",
      " - tensor.device: cpu\n",
      " - tensor.requires_grad: False\n",
      " - tensor.data: tensor([[10,  3, 45]], dtype=torch.int8)\n"
     ]
    }
   ],
   "source": [
    "t1=torch.tensor([[10, 3, 45]], dtype=torch.int8) \n",
    "print_attribute(t1, \"t1\")"
   ],
   "metadata": {
    "collapsed": false,
    "ExecuteTime": {
     "end_time": "2024-03-12T01:27:37.032936700Z",
     "start_time": "2024-03-12T01:27:36.996464200Z"
    }
   },
   "id": "d5ce143be9a878f2",
   "execution_count": 24
  },
  {
   "cell_type": "code",
   "outputs": [],
   "source": [
    "######"
   ],
   "metadata": {
    "collapsed": false
   },
   "id": "b9746e7304896361"
  },
  {
   "cell_type": "code",
   "outputs": [
    {
     "data": {
      "text/plain": "tensor([0, 0], dtype=torch.int8)"
     },
     "execution_count": 31,
     "metadata": {},
     "output_type": "execute_result"
    }
   ],
   "source": [
    "torch.zeros(2,dtype=torch.int8)"
   ],
   "metadata": {
    "collapsed": false,
    "ExecuteTime": {
     "end_time": "2024-03-12T01:31:39.434987700Z",
     "start_time": "2024-03-12T01:31:39.420163600Z"
    }
   },
   "id": "959dffbaeca18a85",
   "execution_count": 31
  },
  {
   "cell_type": "code",
   "outputs": [
    {
     "data": {
      "text/plain": "tensor([[1, 1, 1, 1, 1],\n        [1, 1, 1, 1, 1]], dtype=torch.int8)"
     },
     "execution_count": 30,
     "metadata": {},
     "output_type": "execute_result"
    }
   ],
   "source": [
    "torch.ones(2,5,dtype=torch.int8)"
   ],
   "metadata": {
    "collapsed": false,
    "ExecuteTime": {
     "end_time": "2024-03-12T01:31:09.402722300Z",
     "start_time": "2024-03-12T01:31:09.394788100Z"
    }
   },
   "id": "79b172bb61e5e877",
   "execution_count": 30
  },
  {
   "cell_type": "code",
   "outputs": [
    {
     "data": {
      "text/plain": "tensor([[1., 0., 0.]])"
     },
     "execution_count": 29,
     "metadata": {},
     "output_type": "execute_result"
    }
   ],
   "source": [],
   "metadata": {
    "collapsed": false,
    "ExecuteTime": {
     "end_time": "2024-03-12T01:31:07.439073200Z",
     "start_time": "2024-03-12T01:31:07.408631900Z"
    }
   },
   "id": "436f6a6c7efb048c",
   "execution_count": 29
  },
  {
   "cell_type": "code",
   "outputs": [
    {
     "name": "stdout",
     "output_type": "stream",
     "text": [
      "tensor([[0, 0, 0, 0, 0],\n",
      "        [0, 0, 0, 0, 0]])\n"
     ]
    }
   ],
   "source": [
    "# 이미 존재하는 텐서와 동일한 shape으로 잡고 값 채우기 => zeros_like(), ones_like()\n",
    "img = torch.tensor([[1,2,3,4,5],[7,8,9,5,2]])\n",
    "print(torch.zeros_like(img))"
   ],
   "metadata": {
    "collapsed": false,
    "ExecuteTime": {
     "end_time": "2024-03-12T01:35:02.141938Z",
     "start_time": "2024-03-12T01:35:02.127772500Z"
    }
   },
   "id": "3d59c87b87543888",
   "execution_count": 32
  },
  {
   "cell_type": "code",
   "outputs": [
    {
     "name": "stdout",
     "output_type": "stream",
     "text": [
      "tensor([[1, 1, 1, 1, 1],\n",
      "        [1, 1, 1, 1, 1]])\n"
     ]
    }
   ],
   "source": [
    "print(torch.ones_like(img))"
   ],
   "metadata": {
    "collapsed": false,
    "ExecuteTime": {
     "end_time": "2024-03-12T01:35:38.624816700Z",
     "start_time": "2024-03-12T01:35:38.606231700Z"
    }
   },
   "id": "eb470c2f76496d70",
   "execution_count": 33
  },
  {
   "cell_type": "code",
   "outputs": [
    {
     "name": "stdout",
     "output_type": "stream",
     "text": [
      "tensor([[7, 7, 7, 7, 7],\n",
      "        [7, 7, 7, 7, 7]])\n"
     ]
    }
   ],
   "source": [
    "print(torch.full_like(img, 7)) "
   ],
   "metadata": {
    "collapsed": false,
    "ExecuteTime": {
     "end_time": "2024-03-12T01:36:26.460602200Z",
     "start_time": "2024-03-12T01:36:26.438712100Z"
    }
   },
   "id": "a2d92dcda6f952b7",
   "execution_count": 36
  },
  {
   "cell_type": "code",
   "outputs": [],
   "source": [
    "# 대각선 방향으로 1채우기 \n",
    "torch.full ( (2,),4 )\n",
    "\n",
    "torch.eye(1,3)"
   ],
   "metadata": {
    "collapsed": false
   },
   "id": "78bbd7dc11f930b4"
  },
  {
   "cell_type": "code",
   "outputs": [
    {
     "data": {
      "text/plain": "tensor([[1., 0.],\n        [0., 1.]])"
     },
     "execution_count": 37,
     "metadata": {},
     "output_type": "execute_result"
    }
   ],
   "source": [
    "torch.eye(2)"
   ],
   "metadata": {
    "collapsed": false,
    "ExecuteTime": {
     "end_time": "2024-03-12T01:38:03.555162100Z",
     "start_time": "2024-03-12T01:38:03.518475200Z"
    }
   },
   "id": "9f0cc3d6d842a331",
   "execution_count": 37
  },
  {
   "cell_type": "code",
   "outputs": [
    {
     "data": {
      "text/plain": "tensor([[1., 0., 0.],\n        [0., 1., 0.],\n        [0., 0., 1.],\n        [0., 0., 0.],\n        [0., 0., 0.]])"
     },
     "execution_count": 40,
     "metadata": {},
     "output_type": "execute_result"
    }
   ],
   "source": [
    "torch.eye(5,3)"
   ],
   "metadata": {
    "collapsed": false,
    "ExecuteTime": {
     "end_time": "2024-03-12T01:39:26.716092Z",
     "start_time": "2024-03-12T01:39:26.706587600Z"
    }
   },
   "id": "b64ce3ce9135ac7d",
   "execution_count": 40
  },
  {
   "cell_type": "code",
   "outputs": [
    {
     "data": {
      "text/plain": "<torch._C.Generator at 0x1cb72ad7a30>"
     },
     "execution_count": 41,
     "metadata": {},
     "output_type": "execute_result"
    }
   ],
   "source": [
    "# 임의의 값으로 채운 Tensor\n",
    "torch.manual_seed(12) # 랜덤 초기값 설정"
   ],
   "metadata": {
    "collapsed": false,
    "ExecuteTime": {
     "end_time": "2024-03-12T01:41:00.587233600Z",
     "start_time": "2024-03-12T01:41:00.573182500Z"
    }
   },
   "id": "a5631312afc033c7",
   "execution_count": 41
  },
  {
   "cell_type": "code",
   "outputs": [
    {
     "data": {
      "text/plain": "tensor([[0.6373, 0.2421, 0.7312],\n        [0.7224, 0.1992, 0.6948]])"
     },
     "execution_count": 43,
     "metadata": {},
     "output_type": "execute_result"
    }
   ],
   "source": [
    "torch.rand(2, 3)"
   ],
   "metadata": {
    "collapsed": false,
    "ExecuteTime": {
     "end_time": "2024-03-12T01:41:17.206022100Z",
     "start_time": "2024-03-12T01:41:17.192150500Z"
    }
   },
   "id": "105653fdad2f6fa2",
   "execution_count": 43
  },
  {
   "cell_type": "code",
   "outputs": [
    {
     "data": {
      "text/plain": "tensor([[1, 1, 1],\n        [0, 0, 0]])"
     },
     "execution_count": 50,
     "metadata": {},
     "output_type": "execute_result"
    }
   ],
   "source": [
    "torch.randint(low=0, high=2, size=(2,3))"
   ],
   "metadata": {
    "collapsed": false,
    "ExecuteTime": {
     "end_time": "2024-03-12T01:42:01.049169500Z",
     "start_time": "2024-03-12T01:42:01.015746Z"
    }
   },
   "id": "a8b381aa16acd723",
   "execution_count": 50
  },
  {
   "cell_type": "markdown",
   "source": [
    "- Tensor 생성 방법 (5) : Ndarray 객체 활용 => torch.from_numpy(), torch.as_tensor(), torch()"
   ],
   "metadata": {
    "collapsed": false
   },
   "id": "7fcc0f345785367a"
  },
  {
   "cell_type": "code",
   "outputs": [
    {
     "name": "stdout",
     "output_type": "stream",
     "text": [
      "[11 22 33] <class 'numpy.ndarray'>\n"
     ]
    }
   ],
   "source": [
    "# 데이터 생성\n",
    "\n",
    "import numpy as np\n",
    "\n",
    "data= np.array([11,22,33])\n",
    "print(data, type(data))"
   ],
   "metadata": {
    "collapsed": false,
    "ExecuteTime": {
     "end_time": "2024-03-12T01:50:23.833288100Z",
     "start_time": "2024-03-12T01:50:23.826067800Z"
    }
   },
   "id": "983124d699cf8baa",
   "execution_count": 63
  },
  {
   "cell_type": "code",
   "outputs": [
    {
     "data": {
      "text/plain": "tensor([11, 22, 33], dtype=torch.int32)"
     },
     "execution_count": 72,
     "metadata": {},
     "output_type": "execute_result"
    }
   ],
   "source": [
    "t1 = torch.from_numpy(data)\n",
    "t1"
   ],
   "metadata": {
    "collapsed": false,
    "ExecuteTime": {
     "end_time": "2024-03-12T01:51:02.987628900Z",
     "start_time": "2024-03-12T01:51:02.951752600Z"
    }
   },
   "id": "cfa22446060f3b23",
   "execution_count": 72
  },
  {
   "cell_type": "code",
   "outputs": [
    {
     "data": {
      "text/plain": "tensor([11, 22, 33], dtype=torch.int32)"
     },
     "execution_count": 70,
     "metadata": {},
     "output_type": "execute_result"
    }
   ],
   "source": [
    "t2 = torch.as_tensor(data)\n",
    "t2"
   ],
   "metadata": {
    "collapsed": false,
    "ExecuteTime": {
     "end_time": "2024-03-12T01:50:55.228706300Z",
     "start_time": "2024-03-12T01:50:55.217720600Z"
    }
   },
   "id": "7f2d90f2273a9b7",
   "execution_count": 70
  },
  {
   "cell_type": "code",
   "outputs": [
    {
     "data": {
      "text/plain": "tensor([11, 22, 33], dtype=torch.int32)"
     },
     "execution_count": 71,
     "metadata": {},
     "output_type": "execute_result"
    }
   ],
   "source": [
    "t3 = torch.tensor(data)\n",
    "t3"
   ],
   "metadata": {
    "collapsed": false,
    "ExecuteTime": {
     "end_time": "2024-03-12T01:51:00.340086700Z",
     "start_time": "2024-03-12T01:51:00.311857Z"
    }
   },
   "id": "fbbaed263e21c3b8",
   "execution_count": 71
  },
  {
   "cell_type": "code",
   "outputs": [
    {
     "name": "stdout",
     "output_type": "stream",
     "text": [
      "tensor([100,  22,  33], dtype=torch.int32) tensor([100,  22,  33], dtype=torch.int32) tensor([11, 22, 33], dtype=torch.int32)\n"
     ]
    }
   ],
   "source": [
    "data[0] = 100\n",
    "print(t1, t2, t3) # copy()인지 주소 공유인지 유의할 것 "
   ],
   "metadata": {
    "collapsed": false,
    "ExecuteTime": {
     "end_time": "2024-03-12T01:51:13.955584100Z",
     "start_time": "2024-03-12T01:51:13.919469200Z"
    }
   },
   "id": "392ac3598885e7da",
   "execution_count": 73
  },
  {
   "cell_type": "code",
   "outputs": [],
   "source": [],
   "metadata": {
    "collapsed": false
   },
   "id": "a5a50e8cec45ed2b"
  }
 ],
 "metadata": {
  "kernelspec": {
   "display_name": "Python 3",
   "language": "python",
   "name": "python3"
  },
  "language_info": {
   "codemirror_mode": {
    "name": "ipython",
    "version": 2
   },
   "file_extension": ".py",
   "mimetype": "text/x-python",
   "name": "python",
   "nbconvert_exporter": "python",
   "pygments_lexer": "ipython2",
   "version": "2.7.6"
  }
 },
 "nbformat": 4,
 "nbformat_minor": 5
}
