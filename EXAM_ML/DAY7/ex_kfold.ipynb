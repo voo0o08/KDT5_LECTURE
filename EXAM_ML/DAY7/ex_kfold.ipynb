{
 "cells": [
  {
   "cell_type": "markdown",
   "id": "be0db969-fcab-4af0-9b59-39cc9e12253c",
   "metadata": {},
   "source": [
    "# 교차 검증\n",
    "- 부족한 데이터 셋 및 특정 데이터에 과적합되는 문제 해결하기 위한 방안\n",
    "- 학습 데이터셋을 일정 크기의 데이터로 n개 분리 후 1/n은 검증, 나머지는 학습용으로 사용\n",
    "- 데이터 ㅈㄴ 많으면 안해도 됨!!! 제발!! "
   ]
  },
  {
   "cell_type": "markdown",
   "id": "ad061a5f-3226-4a16-b344-7043c36c47fe",
   "metadata": {},
   "source": [
    "## <hr>1. 모듈 로딩"
   ]
  },
  {
   "cell_type": "code",
   "execution_count": 3,
   "id": "eb8385c8-ee8d-44f6-bd9d-087d8bec0225",
   "metadata": {},
   "outputs": [
    {
     "name": "stdout",
     "output_type": "stream",
     "text": [
      "KFold(n_splits=2, random_state=None, shuffle=False)\n",
      "Fold 0:\n",
      "  Train: index=[2 3]\n",
      "  Test:  index=[0 1]\n",
      "Fold 1:\n",
      "  Train: index=[0 1]\n",
      "  Test:  index=[2 3]\n"
     ]
    }
   ],
   "source": [
    "import numpy as np\n",
    "from sklearn.model_selection import KFold\n",
    "X = np.array([[1, 2], [3, 4], [1, 2], [3, 4]])\n",
    "y = np.array([1, 2, 3, 4])\n",
    "\n",
    "# KFold 인스턴스 생성 => 데이터를 2개로 분할해주는 객체\n",
    "kf = KFold(n_splits=2)\n"
   ]
  },
  {
   "cell_type": "code",
   "execution_count": null,
   "id": "e1d6421c-03df-4020-9aa1-fd62e1a07a14",
   "metadata": {},
   "outputs": [],
   "source": [
    "# 데이터 분할\n",
    "datasets = kf.splits(X, y)\n",
    "\n",
    "for dataset in datasets:\n",
    "    print(dataset)"
   ]
  },
  {
   "cell_type": "code",
   "execution_count": null,
   "id": "ecdbdbd2-a808-4eae-abb0-6ebbee584dad",
   "metadata": {},
   "outputs": [],
   "source": [
    "\n",
    "for i, (train_index, test_index) in enumerate(kf.split(X)):\n",
    "    print(f\"Fold {i}:\")\n",
    "    print(f\"  Train: index={train_index}\")\n",
    "    print(f\"  Test:  index={test_index}\")"
   ]
  },
  {
   "cell_type": "code",
   "execution_count": 5,
   "id": "c6b678b6-5643-4aea-aa62-a9731719f9eb",
   "metadata": {},
   "outputs": [
    {
     "name": "stdout",
     "output_type": "stream",
     "text": [
      "<class 'pandas.core.frame.DataFrame'>\n",
      "RangeIndex: 56 entries, 0 to 55\n",
      "Data columns (total 4 columns):\n",
      " #   Column  Non-Null Count  Dtype  \n",
      "---  ------  --------------  -----  \n",
      " 0   Weight  56 non-null     float64\n",
      " 1   Length  56 non-null     float64\n",
      " 2   Height  56 non-null     float64\n",
      " 3   Width   56 non-null     float64\n",
      "dtypes: float64(4)\n",
      "memory usage: 1.9 KB\n"
     ]
    }
   ],
   "source": [
    "import pandas as pd\n",
    "\n",
    "perchDF = pd.read_csv(\"../data/perch3.csv\")\n",
    "perchDF.info()"
   ]
  },
  {
   "cell_type": "code",
   "execution_count": 25,
   "id": "681c4d64-39de-4ae5-979a-11a8a810d150",
   "metadata": {},
   "outputs": [
    {
     "name": "stdout",
     "output_type": "stream",
     "text": [
      "<generator object _BaseKFold.split at 0x000001902A086970>\n",
      "0 => (array([12, 13, 14, 15, 16, 17, 18, 19, 20, 21, 22, 23, 24, 25, 26, 27, 28,\n",
      "       29, 30, 31, 32, 33, 34, 35, 36, 37, 38, 39, 40, 41, 42, 43, 44, 45,\n",
      "       46, 47, 48, 49, 50, 51, 52, 53, 54, 55]), array([ 0,  1,  2,  3,  4,  5,  6,  7,  8,  9, 10, 11]))\n",
      "\n",
      "1 => (array([ 0,  1,  2,  3,  4,  5,  6,  7,  8,  9, 10, 11, 23, 24, 25, 26, 27,\n",
      "       28, 29, 30, 31, 32, 33, 34, 35, 36, 37, 38, 39, 40, 41, 42, 43, 44,\n",
      "       45, 46, 47, 48, 49, 50, 51, 52, 53, 54, 55]), array([12, 13, 14, 15, 16, 17, 18, 19, 20, 21, 22]))\n",
      "\n",
      "2 => (array([ 0,  1,  2,  3,  4,  5,  6,  7,  8,  9, 10, 11, 12, 13, 14, 15, 16,\n",
      "       17, 18, 19, 20, 21, 22, 34, 35, 36, 37, 38, 39, 40, 41, 42, 43, 44,\n",
      "       45, 46, 47, 48, 49, 50, 51, 52, 53, 54, 55]), array([23, 24, 25, 26, 27, 28, 29, 30, 31, 32, 33]))\n",
      "\n",
      "3 => (array([ 0,  1,  2,  3,  4,  5,  6,  7,  8,  9, 10, 11, 12, 13, 14, 15, 16,\n",
      "       17, 18, 19, 20, 21, 22, 23, 24, 25, 26, 27, 28, 29, 30, 31, 32, 33,\n",
      "       45, 46, 47, 48, 49, 50, 51, 52, 53, 54, 55]), array([34, 35, 36, 37, 38, 39, 40, 41, 42, 43, 44]))\n",
      "\n",
      "4 => (array([ 0,  1,  2,  3,  4,  5,  6,  7,  8,  9, 10, 11, 12, 13, 14, 15, 16,\n",
      "       17, 18, 19, 20, 21, 22, 23, 24, 25, 26, 27, 28, 29, 30, 31, 32, 33,\n",
      "       34, 35, 36, 37, 38, 39, 40, 41, 42, 43, 44]), array([45, 46, 47, 48, 49, 50, 51, 52, 53, 54, 55]))\n",
      "\n"
     ]
    }
   ],
   "source": [
    "# perchDF => 5등분\n",
    "fold_5 = KFold(n_splits=5)\n",
    "datasets = fold_5.split(perchDF)\n",
    "print(datasets)\n",
    "for idx, dataset in enumerate(datasets):\n",
    "    print(f\"{idx} => {dataset}\")\n",
    "    print() # 앞에 나오는 array가 train이고 뒤에 나오는 array가 test"
   ]
  },
  {
   "cell_type": "code",
   "execution_count": 28,
   "id": "739b8cc0-fabb-44aa-afa4-c866d6cb7f80",
   "metadata": {},
   "outputs": [],
   "source": [
    "# 비율 맞추는 것도 있음 "
   ]
  },
  {
   "cell_type": "code",
   "execution_count": 94,
   "id": "8552dad1-ec9a-4224-9399-5d0347c0815b",
   "metadata": {},
   "outputs": [
    {
     "name": "stdout",
     "output_type": "stream",
     "text": [
      "<class 'pandas.core.frame.DataFrame'>\n",
      "RangeIndex: 150 entries, 0 to 149\n",
      "Data columns (total 5 columns):\n",
      " #   Column        Non-Null Count  Dtype  \n",
      "---  ------        --------------  -----  \n",
      " 0   sepal.length  150 non-null    float64\n",
      " 1   sepal.width   150 non-null    float64\n",
      " 2   petal.length  150 non-null    float64\n",
      " 3   petal.width   150 non-null    float64\n",
      " 4   variety       150 non-null    object \n",
      "dtypes: float64(4), object(1)\n",
      "memory usage: 6.0+ KB\n"
     ]
    }
   ],
   "source": [
    "## 타겟이 분류인 경우\n",
    "irisDF = pd.read_csv(\"../data/iris.csv\")\n",
    "irisDF.info()"
   ]
  },
  {
   "cell_type": "code",
   "execution_count": 95,
   "id": "2ee34b34-a9d7-4ed9-932f-a8651b15147a",
   "metadata": {
    "scrolled": true
   },
   "outputs": [
    {
     "data": {
      "text/html": [
       "<div>\n",
       "<style scoped>\n",
       "    .dataframe tbody tr th:only-of-type {\n",
       "        vertical-align: middle;\n",
       "    }\n",
       "\n",
       "    .dataframe tbody tr th {\n",
       "        vertical-align: top;\n",
       "    }\n",
       "\n",
       "    .dataframe thead th {\n",
       "        text-align: right;\n",
       "    }\n",
       "</style>\n",
       "<table border=\"1\" class=\"dataframe\">\n",
       "  <thead>\n",
       "    <tr style=\"text-align: right;\">\n",
       "      <th></th>\n",
       "      <th>sepal.length</th>\n",
       "      <th>sepal.width</th>\n",
       "      <th>petal.length</th>\n",
       "      <th>petal.width</th>\n",
       "      <th>variety</th>\n",
       "    </tr>\n",
       "  </thead>\n",
       "  <tbody>\n",
       "    <tr>\n",
       "      <th>0</th>\n",
       "      <td>5.1</td>\n",
       "      <td>3.5</td>\n",
       "      <td>1.4</td>\n",
       "      <td>0.2</td>\n",
       "      <td>Setosa</td>\n",
       "    </tr>\n",
       "    <tr>\n",
       "      <th>1</th>\n",
       "      <td>4.9</td>\n",
       "      <td>3.0</td>\n",
       "      <td>1.4</td>\n",
       "      <td>0.2</td>\n",
       "      <td>Setosa</td>\n",
       "    </tr>\n",
       "    <tr>\n",
       "      <th>2</th>\n",
       "      <td>4.7</td>\n",
       "      <td>3.2</td>\n",
       "      <td>1.3</td>\n",
       "      <td>0.2</td>\n",
       "      <td>Setosa</td>\n",
       "    </tr>\n",
       "    <tr>\n",
       "      <th>3</th>\n",
       "      <td>4.6</td>\n",
       "      <td>3.1</td>\n",
       "      <td>1.5</td>\n",
       "      <td>0.2</td>\n",
       "      <td>Setosa</td>\n",
       "    </tr>\n",
       "    <tr>\n",
       "      <th>4</th>\n",
       "      <td>5.0</td>\n",
       "      <td>3.6</td>\n",
       "      <td>1.4</td>\n",
       "      <td>0.2</td>\n",
       "      <td>Setosa</td>\n",
       "    </tr>\n",
       "    <tr>\n",
       "      <th>...</th>\n",
       "      <td>...</td>\n",
       "      <td>...</td>\n",
       "      <td>...</td>\n",
       "      <td>...</td>\n",
       "      <td>...</td>\n",
       "    </tr>\n",
       "    <tr>\n",
       "      <th>145</th>\n",
       "      <td>6.7</td>\n",
       "      <td>3.0</td>\n",
       "      <td>5.2</td>\n",
       "      <td>2.3</td>\n",
       "      <td>Virginica</td>\n",
       "    </tr>\n",
       "    <tr>\n",
       "      <th>146</th>\n",
       "      <td>6.3</td>\n",
       "      <td>2.5</td>\n",
       "      <td>5.0</td>\n",
       "      <td>1.9</td>\n",
       "      <td>Virginica</td>\n",
       "    </tr>\n",
       "    <tr>\n",
       "      <th>147</th>\n",
       "      <td>6.5</td>\n",
       "      <td>3.0</td>\n",
       "      <td>5.2</td>\n",
       "      <td>2.0</td>\n",
       "      <td>Virginica</td>\n",
       "    </tr>\n",
       "    <tr>\n",
       "      <th>148</th>\n",
       "      <td>6.2</td>\n",
       "      <td>3.4</td>\n",
       "      <td>5.4</td>\n",
       "      <td>2.3</td>\n",
       "      <td>Virginica</td>\n",
       "    </tr>\n",
       "    <tr>\n",
       "      <th>149</th>\n",
       "      <td>5.9</td>\n",
       "      <td>3.0</td>\n",
       "      <td>5.1</td>\n",
       "      <td>1.8</td>\n",
       "      <td>Virginica</td>\n",
       "    </tr>\n",
       "  </tbody>\n",
       "</table>\n",
       "<p>150 rows × 5 columns</p>\n",
       "</div>"
      ],
      "text/plain": [
       "     sepal.length  sepal.width  petal.length  petal.width    variety\n",
       "0             5.1          3.5           1.4          0.2     Setosa\n",
       "1             4.9          3.0           1.4          0.2     Setosa\n",
       "2             4.7          3.2           1.3          0.2     Setosa\n",
       "3             4.6          3.1           1.5          0.2     Setosa\n",
       "4             5.0          3.6           1.4          0.2     Setosa\n",
       "..            ...          ...           ...          ...        ...\n",
       "145           6.7          3.0           5.2          2.3  Virginica\n",
       "146           6.3          2.5           5.0          1.9  Virginica\n",
       "147           6.5          3.0           5.2          2.0  Virginica\n",
       "148           6.2          3.4           5.4          2.3  Virginica\n",
       "149           5.9          3.0           5.1          1.8  Virginica\n",
       "\n",
       "[150 rows x 5 columns]"
      ]
     },
     "execution_count": 95,
     "metadata": {},
     "output_type": "execute_result"
    }
   ],
   "source": [
    "irisDF"
   ]
  },
  {
   "cell_type": "code",
   "execution_count": 104,
   "id": "cecfa5a3-2cf7-4a51-b390-61a57b6cd1ae",
   "metadata": {},
   "outputs": [],
   "source": [
    "k_fold = KFold(n_splits=5, shuffle=True)\n",
    "ret = k_fold.split(irisDF.iloc[:,:-1])"
   ]
  },
  {
   "cell_type": "code",
   "execution_count": 105,
   "id": "1de76134-b9dc-4522-a0a3-d31402fb7843",
   "metadata": {},
   "outputs": [],
   "source": [
    "# irisDF.iloc[train]"
   ]
  },
  {
   "cell_type": "code",
   "execution_count": 106,
   "id": "f45a13c6-22cd-44d3-9135-2302399fb29d",
   "metadata": {},
   "outputs": [],
   "source": [
    "from sklearn.linear_model import LogisticRegression"
   ]
  },
  {
   "cell_type": "code",
   "execution_count": 107,
   "id": "cf0f6f7a-6078-41ee-8f08-bc65322f49e5",
   "metadata": {
    "scrolled": true
   },
   "outputs": [],
   "source": [
    "train_score3 = []\n",
    "\n",
    "for p_name in [\"l1\", \"l2\", \"elasticnet\"]:\n",
    "    for idx, (train, test) in enumerate(ret):\n",
    "        # 학습용, 테스트용 인덱스 반환\n",
    "        train_idx = train.tolist()\n",
    "        test_idx = train.tolist()\n",
    "    \n",
    "        # 인덱스에 해당하는 데이터 셋 추출\n",
    "        trainDF = irisDF.iloc[train_idx]\n",
    "        testDF = irisDF.iloc[test_idx]\n",
    "    \n",
    "        # 피쳐 4개는 보내고 마지막은 남겨야함\n",
    "        X_train = trainDF[trainDF.columns[:-1]]\n",
    "        y_train = trainDF[trainDF.columns[-1]]\n",
    "    \n",
    "        X_test = testDF[testDF.columns[:-1]]\n",
    "        y_test = testDF[testDF.columns[-1]]\n",
    "    \n",
    "        # 분류 모델 학습 \n",
    "        log_model = LogisticRegression(max_iter=1000, solver=\"liblinear\", penalty=p_name)\n",
    "        log_model.fit(X_train, y_train)\n",
    "    \n",
    "        # 훈련 및 검증용 성능\n",
    "        train_score = log_model.score(X_train, y_train)\n",
    "        test_score = log_model.score(X_train, y_test)\n",
    "    \n",
    "        train_score3.append(train_score)\n",
    "\n",
    "        # 예측\n",
    "        y_pred = log_model.predict()"
   ]
  },
  {
   "cell_type": "code",
   "execution_count": 64,
   "id": "509f9a21-a99d-4594-8455-9514a843feec",
   "metadata": {},
   "outputs": [
    {
     "name": "stdout",
     "output_type": "stream",
     "text": [
      "============================== 0번 ==============================\n",
      "variety\n",
      "Setosa        42\n",
      "Virginica     41\n",
      "Versicolor    37\n",
      "Name: count, dtype: int64\n",
      "============================== 1번 ==============================\n",
      "variety\n",
      "Virginica     41\n",
      "Versicolor    40\n",
      "Setosa        39\n",
      "Name: count, dtype: int64\n",
      "============================== 2번 ==============================\n",
      "variety\n",
      "Versicolor    43\n",
      "Setosa        39\n",
      "Virginica     38\n",
      "Name: count, dtype: int64\n",
      "============================== 3번 ==============================\n",
      "variety\n",
      "Setosa        41\n",
      "Versicolor    40\n",
      "Virginica     39\n",
      "Name: count, dtype: int64\n",
      "============================== 4번 ==============================\n",
      "variety\n",
      "Virginica     41\n",
      "Versicolor    40\n",
      "Setosa        39\n",
      "Name: count, dtype: int64\n"
     ]
    }
   ],
   "source": [
    "'''\n",
    "# generate는 한 번 쓰면 못쓰요\n",
    "variety_ratio = []\n",
    "for idx, (train, test) in enumerate(ret):\n",
    "    # print(idx, train, test)\n",
    "    print(\"=\"*30, f\"{idx}번\", \"=\"*30)\n",
    "    variety_ratio.append(irisDF.iloc[train, -1].value_counts())\n",
    "    print(irisDF.iloc[train, -1].value_counts())\n",
    "'''"
   ]
  },
  {
   "cell_type": "code",
   "execution_count": 74,
   "id": "9ff4f5ea-ab80-434d-bbda-c77e811b67c1",
   "metadata": {},
   "outputs": [
    {
     "data": {
      "image/png": "[encoded data removed]",
      "text/plain": [
       "<Figure size 640x480 with 1 Axes>"
      ]
     },
     "metadata": {},
     "output_type": "display_data"
    }
   ],
   "source": [
    "import matplotlib.pyplot as plt\n",
    "\n",
    "for data in variety_ratio:\n",
    "    plt.plot(list(data))\n",
    "\n",
    "plt.show()"
   ]
  },
  {
   "cell_type": "code",
   "execution_count": 72,
   "id": "4844bb68-72c6-4511-a4e8-daf67ab08d2d",
   "metadata": {},
   "outputs": [
    {
     "data": {
      "text/plain": [
       "[42, 41, 37]"
      ]
     },
     "execution_count": 72,
     "metadata": {},
     "output_type": "execute_result"
    }
   ],
   "source": [
    "list(data)"
   ]
  },
  {
   "cell_type": "code",
   "execution_count": 109,
   "id": "66cb8747-0147-4f35-97c2-3b12ba81ce6e",
   "metadata": {},
   "outputs": [
    {
     "data": {
      "text/plain": [
       "1.5999999999999999"
      ]
     },
     "execution_count": 109,
     "metadata": {},
     "output_type": "execute_result"
    }
   ],
   "source": [
    "sum(train_score3)/3"
   ]
  },
  {
   "cell_type": "code",
   "execution_count": null,
   "id": "dc80f29e-fccc-47ad-998b-b9874b94652d",
   "metadata": {},
   "outputs": [],
   "source": []
  }
 ],
 "metadata": {
  "kernelspec": {
   "display_name": "Python 3 (ipykernel)",
   "language": "python",
   "name": "python3"
  },
  "language_info": {
   "codemirror_mode": {
    "name": "ipython",
    "version": 3
   },
   "file_extension": ".py",
   "mimetype": "text/x-python",
   "name": "python",
   "nbconvert_exporter": "python",
   "pygments_lexer": "ipython3",
   "version": "3.9.18"
  }
 },
 "nbformat": 4,
 "nbformat_minor": 5
}
