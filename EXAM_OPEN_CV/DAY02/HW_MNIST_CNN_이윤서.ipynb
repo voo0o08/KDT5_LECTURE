{
 "cells": [
  {
   "cell_type": "markdown",
   "source": [
    "# 2024/03/23 mnist num으로 CNN 모델 만들기"
   ],
   "metadata": {
    "collapsed": false
   },
   "id": "20880676205e5bff"
  },
  {
   "cell_type": "code",
   "outputs": [
    {
     "data": {
      "text/plain": "<torch._C.Generator at 0x251233005b0>"
     },
     "execution_count": 27,
     "metadata": {},
     "output_type": "execute_result"
    }
   ],
   "source": [
    "### ===> Module Import\n",
    "import numpy as np\n",
    "import matplotlib.pyplot as plt\n",
    "\n",
    "import torch\n",
    "import torch.nn as nn\n",
    "import torch.nn.functional as F\n",
    "from torchvision import transforms, datasets\n",
    "\n",
    "torch.manual_seed(42)"
   ],
   "metadata": {
    "collapsed": false,
    "ExecuteTime": {
     "end_time": "2024-03-23T11:10:41.709763700Z",
     "start_time": "2024-03-23T11:10:41.679242900Z"
    }
   },
   "id": "2baa9257c047eec3",
   "execution_count": 27
  },
  {
   "cell_type": "code",
   "outputs": [
    {
     "name": "stdout",
     "output_type": "stream",
     "text": [
      "Using PyTorch version: 2.2.0  Device: cpu\n"
     ]
    }
   ],
   "source": [
    "### ===> 딥러닝 모델을 설계할 때 활용하는 장비 확인\n",
    "if torch.cuda.is_available():\n",
    "    DEVICE = torch.device('cuda')\n",
    "else:\n",
    "    DEVICE = torch.device('cpu')\n",
    "    \n",
    "print('Using PyTorch version:', torch.__version__, ' Device:', DEVICE)"
   ],
   "metadata": {
    "collapsed": false,
    "ExecuteTime": {
     "end_time": "2024-03-23T09:51:30.144347900Z",
     "start_time": "2024-03-23T09:51:30.124181100Z"
    }
   },
   "id": "8fb028b0dc9f0b4e",
   "execution_count": 7
  },
  {
   "cell_type": "code",
   "outputs": [],
   "source": [
    "### ===>  데이터 추출 관련 변수\n",
    "BATCH_SIZE = 50\n",
    "EPOCHS = 10"
   ],
   "metadata": {
    "collapsed": false,
    "ExecuteTime": {
     "end_time": "2024-03-23T13:12:45.619103500Z",
     "start_time": "2024-03-23T13:12:45.547399Z"
    }
   },
   "id": "fb9e5e9b08df934a",
   "execution_count": 240
  },
  {
   "cell_type": "markdown",
   "source": [
    "transforms\n",
    "- Resize: 이미지의 크기를 조절합니다.\n",
    "- RandomResizedCrop: 이미지를 무작위로 자르고 크기를 조절합니다.\n",
    "- RandomHorizontalFlip: 이미지를 무작위로 수평으로 뒤집습니다.\n",
    "- RandomVerticalFlip: 이미지를 무작위로 수직으로 뒤집습니다.\n",
    "- ToTensor: 이미지를 텐서로 변환합니다.!!!!!!!!!!!!!!!!!!!!!!!\n",
    "- Normalize: 이미지를 정규화합니다.!!!!!!!!!!!!!!!!!!!!!!!!!!\n",
    "- ColorJitter: 이미지의 색상을 무작위로 조정합니다.\n",
    "- RandomRotation: 이미지를 무작위로 회전합니다.\n",
    "- RandomCrop: 이미지를 무작위로 자릅니다.\n",
    "- Grayscale: 이미지를 흑백으로 변환합니다.\n",
    "- RandomSizedCrop: 이미지를 무작위로 자르고 크기를 조절합니다."
   ],
   "metadata": {
    "collapsed": false
   },
   "id": "aace5d6383a8bfd7"
  },
  {
   "cell_type": "code",
   "outputs": [],
   "source": [
    "### ===> CIFAR10 데이터 다운로드 (Train set, Test set 분리하기)\n",
    "transform = transforms.Compose([transforms.ToTensor(), \n",
    "                                transforms.Lambda(lambda x: x/255.0)])\n",
    "\n",
    "train_dataset = datasets.MNIST(root = \"../data/MNIST_NUM\",\n",
    "                                  train = True,\n",
    "                                  download = True,\n",
    "                                  transform = transform)\n",
    "\n",
    "test_dataset = datasets.MNIST(root = \"../data/MNIST_NUM\",\n",
    "                                train = False,\n",
    "                                transform = transform)\n",
    "\n",
    "train_loader = torch.utils.data.DataLoader(dataset = train_dataset,\n",
    "                                            batch_size = BATCH_SIZE,\n",
    "                                            shuffle = True)\n",
    "\n",
    "test_loader = torch.utils.data.DataLoader(dataset = test_dataset,\n",
    "                                          batch_size = BATCH_SIZE,\n",
    "                                          shuffle = False)"
   ],
   "metadata": {
    "collapsed": false,
    "ExecuteTime": {
     "end_time": "2024-03-23T13:12:45.962472600Z",
     "start_time": "2024-03-23T13:12:45.899436800Z"
    }
   },
   "id": "e9896263b2d7a458",
   "execution_count": 241
  },
  {
   "cell_type": "markdown",
   "source": [
    "train_loader/255"
   ],
   "metadata": {
    "collapsed": false
   },
   "id": "577e9bd52522c8a3"
  },
  {
   "cell_type": "code",
   "outputs": [
    {
     "data": {
      "text/plain": "1200"
     },
     "execution_count": 242,
     "metadata": {},
     "output_type": "execute_result"
    }
   ],
   "source": [
    "len(train_loader)"
   ],
   "metadata": {
    "collapsed": false,
    "ExecuteTime": {
     "end_time": "2024-03-23T13:12:46.211939200Z",
     "start_time": "2024-03-23T13:12:46.181541100Z"
    }
   },
   "id": "15e7dff303cb5b7b",
   "execution_count": 242
  },
  {
   "cell_type": "code",
   "outputs": [
    {
     "name": "stdout",
     "output_type": "stream",
     "text": [
      "X_train: torch.Size([50, 1, 28, 28]) type: torch.FloatTensor\n",
      "y_train: torch.Size([50]) type: torch.LongTensor\n"
     ]
    }
   ],
   "source": [
    "# 데이터 확인하기\n",
    "\n",
    "for (X_train, y_train) in train_loader:\n",
    "    print('X_train:', X_train.size(), 'type:', X_train.type())\n",
    "    print('y_train:', y_train.size(), 'type:', y_train.type())\n",
    "    break # 한 배치만 알아봐도 되니까 멈추도록"
   ],
   "metadata": {
    "collapsed": false,
    "ExecuteTime": {
     "end_time": "2024-03-23T13:12:46.356845200Z",
     "start_time": "2024-03-23T13:12:46.322980200Z"
    }
   },
   "id": "e3d0be64cf9d85f8",
   "execution_count": 243
  },
  {
   "cell_type": "markdown",
   "source": [
    "32, 1, 28, 28 => 저차원부터 생각하면\n",
    "- __28__ row\n",
    "- __28__ col 인 __네모__ 가\n",
    "- 흑백이라서 __1__ channel로 __사진 하나__ 완성\n",
    "- 근데 배치가 __32__ 라서 사진이 32장 있는 것!"
   ],
   "metadata": {
    "collapsed": false
   },
   "id": "8beb9d7cca6f90ad"
  },
  {
   "cell_type": "code",
   "outputs": [
    {
     "data": {
      "text/plain": "torch.Size([1, 28, 28])"
     },
     "execution_count": 244,
     "metadata": {},
     "output_type": "execute_result"
    }
   ],
   "source": [
    "X_train[0].shape # 텐서가 담고 있는 것은 channel, \n",
    "\n",
    "# - img -> 세로, 가로, RGB \n",
    "# - 파이토치 모듈 -> RGB, 세로, 가로 순으로 배치\n",
    "\n",
    "# 즉 토치의 차원인덱스 기준 0, 1, 2를 사진으로 보고싶다면  \n",
    "# 배치를 1, 2, 0으로 바꿔야함"
   ],
   "metadata": {
    "collapsed": false,
    "ExecuteTime": {
     "end_time": "2024-03-23T13:12:46.646221300Z",
     "start_time": "2024-03-23T13:12:46.619362700Z"
    }
   },
   "id": "20ab15403a06e1d7",
   "execution_count": 244
  },
  {
   "cell_type": "code",
   "outputs": [
    {
     "data": {
      "text/plain": "<Figure size 500x100 with 5 Axes>",
      "image/png": "[encoded data removed]"
     },
     "metadata": {},
     "output_type": "display_data"
    }
   ],
   "source": [
    "# 짝끼리 잘 맞는지 보자\n",
    "pltsize = 1\n",
    "image_num = 5 # 사진 몇장 볼래\n",
    "plt.figure(figsize=(image_num * pltsize, pltsize))\n",
    "\n",
    "for i in range(image_num):\n",
    "    plt.subplot(1, image_num, i+1) # subplot index는 1부터!!\n",
    "    plt.axis(\"off\") # 눈금필요 없지예\n",
    "    plt.imshow(X_train[i].permute(1, 2, 0)) # .permute(1, 2)\n",
    "    plt.title('Class: ' + str(y_train[i].item())) # tensor라서 item 사용해야함 "
   ],
   "metadata": {
    "collapsed": false,
    "ExecuteTime": {
     "end_time": "2024-03-23T13:12:46.999738900Z",
     "start_time": "2024-03-23T13:12:46.783331600Z"
    }
   },
   "id": "c49c7a3b51206548",
   "execution_count": 245
  },
  {
   "cell_type": "markdown",
   "source": [
    "# class 분배가 고른지 확인, 데이터 전처리"
   ],
   "metadata": {
    "collapsed": false
   },
   "id": "82887c647c9d4fc3"
  },
  {
   "cell_type": "code",
   "outputs": [
    {
     "data": {
      "text/plain": "tensor([1, 4, 6, 6, 5, 4, 6, 6, 5, 7])"
     },
     "execution_count": 246,
     "metadata": {},
     "output_type": "execute_result"
    }
   ],
   "source": [
    "y_train.bincount() # 숫자의 순서대로 나오는 거임 0~9까지 \n",
    "# 배치마다 좀 불균형할 수도 shuffle 때문인가"
   ],
   "metadata": {
    "collapsed": false,
    "ExecuteTime": {
     "end_time": "2024-03-23T13:12:47.110995600Z",
     "start_time": "2024-03-23T13:12:47.069921100Z"
    }
   },
   "id": "8e4cfc996dec3306",
   "execution_count": 246
  },
  {
   "cell_type": "code",
   "outputs": [
    {
     "name": "stdout",
     "output_type": "stream",
     "text": [
      "y_train 분포:0\n",
      "tensor([5, 8, 6, 7, 3, 5, 7, 2, 2, 5])\n",
      "\n",
      "y_train 분포:1\n",
      "tensor([8, 8, 2, 5, 4, 4, 5, 6, 5, 3])\n",
      "\n",
      "y_train 분포:2\n",
      "tensor([ 8,  6,  7,  6,  2,  1,  3,  5, 10,  2])\n",
      "\n",
      "y_train 분포:3\n",
      "tensor([3, 3, 4, 5, 3, 6, 6, 5, 7, 8])\n",
      "\n",
      "y_train 분포:4\n",
      "tensor([5, 3, 7, 4, 5, 1, 8, 5, 6, 6])\n",
      "\n",
      "y_train 분포:5\n",
      "tensor([6, 9, 4, 6, 6, 6, 4, 3, 2, 4])\n",
      "\n",
      "y_train 분포:6\n",
      "tensor([7, 5, 1, 8, 2, 3, 5, 3, 9, 7])\n",
      "\n",
      "y_train 분포:7\n",
      "tensor([6, 8, 4, 8, 2, 6, 5, 3, 3, 5])\n",
      "\n",
      "y_train 분포:8\n",
      "tensor([3, 5, 7, 6, 6, 3, 4, 3, 8, 5])\n",
      "\n",
      "y_train 분포:9\n",
      "tensor([6, 9, 3, 7, 3, 5, 5, 2, 6, 4])\n",
      "\n",
      "y_train 분포:10\n",
      "tensor([7, 2, 5, 7, 7, 4, 3, 5, 4, 6])\n",
      "\n",
      "y_train 분포:11\n",
      "tensor([9, 1, 4, 7, 5, 1, 6, 5, 5, 7])\n",
      "\n",
      "y_train 분포:12\n",
      "tensor([ 7, 11,  3,  4,  2,  5,  5,  3,  6,  4])\n",
      "\n",
      "y_train 분포:13\n",
      "tensor([3, 3, 3, 9, 7, 6, 6, 5, 5, 3])\n",
      "\n",
      "y_train 분포:14\n",
      "tensor([6, 8, 3, 6, 4, 4, 6, 6, 3, 4])\n",
      "\n",
      "y_train 분포:15\n",
      "tensor([1, 5, 4, 9, 6, 3, 3, 8, 5, 6])\n",
      "\n",
      "y_train 분포:16\n",
      "tensor([6, 3, 7, 4, 9, 2, 6, 6, 4, 3])\n",
      "\n",
      "y_train 분포:17\n",
      "tensor([7, 8, 5, 7, 4, 7, 2, 4, 4, 2])\n",
      "\n",
      "y_train 분포:18\n",
      "tensor([6, 5, 6, 7, 7, 6, 3, 2, 3, 5])\n",
      "\n",
      "y_train 분포:19\n",
      "tensor([4, 3, 4, 5, 5, 4, 3, 5, 9, 8])\n",
      "\n",
      "y_train 분포:20\n",
      "tensor([7, 8, 2, 7, 4, 7, 3, 4, 2, 6])\n",
      "\n",
      "y_train 분포:21\n",
      "tensor([3, 6, 6, 5, 5, 9, 6, 4, 2, 4])\n"
     ]
    }
   ],
   "source": [
    "max = 20\n",
    "for cnt, (_, y_train) in enumerate(train_loader):\n",
    "    print(f'y_train 분포:{cnt}\\n{y_train.bincount()}\\n')\n",
    "    if max < cnt:\n",
    "        break"
   ],
   "metadata": {
    "collapsed": false,
    "ExecuteTime": {
     "end_time": "2024-03-23T13:12:47.354162Z",
     "start_time": "2024-03-23T13:12:47.220510Z"
    }
   },
   "id": "789fb52575dd6291",
   "execution_count": 247
  },
  {
   "cell_type": "markdown",
   "source": [
    "# 분포가 안맞지예... -> 배치에 최소한 1개씩은 있어야하지 않나...? ㅇㅅㅇ"
   ],
   "metadata": {
    "collapsed": false
   },
   "id": "1bfdda1ca44055c"
  },
  {
   "cell_type": "code",
   "outputs": [],
   "source": [
    "'''\n",
    "in_channel(int) : 입력 채널의 수, RGB의 경우 3, 현재는 1\n",
    "out_channel(int) : 출력 채널의 개수, 컨볼루션 필터 개수\n",
    "=> 1개의 필터는 무조건 3차원 \n",
    "'''\n",
    "class CNN(nn.Module):\n",
    "    def __init__(self):\n",
    "        super(CNN, self).__init__() # in rgb, 커널은 8개 준비고했고 사이즈는 3*3짜리얌\n",
    "        self.conv1 = nn.Conv2d(in_channels = 1, out_channels = 8, kernel_size = 3, padding = 1) # 커널이 8개면 결과도 8개 \n",
    "        self.conv2 = nn.Conv2d(in_channels = 8, out_channels = 16, kernel_size = 3, padding = 1)\n",
    "        # 풀링을 줘서 줄임\n",
    "        self.pool = nn.MaxPool2d(kernel_size = 2, stride = 2)\n",
    "        self.fc1 = nn.Linear(7*7*16, 64) # 곱한 결과가 784가 되도록?????\n",
    "        self.fc2 = nn.Linear(64, 32)\n",
    "        self.fc3 = nn.Linear(32, 10) # 마지막 출력은 라벨의 개수인 10개 \n",
    "        \n",
    "    def forward(self, x):\n",
    "        x = self.conv1(x) # 패딩이랑 커널사이즈 때문에 row, col의 크기는 변화 X => 28 28 8\n",
    "        x = F.relu(x)\n",
    "        x = self.pool(x) # pooling 때문에 반갈죽 => 14 14 8\n",
    "        x = self.conv2(x) # 14 14 16\n",
    "        x = F.relu(x)\n",
    "        x = self.pool(x) # pooling 또 반갈죽 => 7 7 16\n",
    "        \n",
    "        x = x.view(-1, 7*7*16)\n",
    "        x = self.fc1(x)\n",
    "        x = F.relu(x)\n",
    "        x = self.fc2(x)\n",
    "        x = F.relu(x)\n",
    "        x = self.fc3(x)\n",
    "        return x"
   ],
   "metadata": {
    "collapsed": false,
    "ExecuteTime": {
     "end_time": "2024-03-23T13:12:47.623853300Z",
     "start_time": "2024-03-23T13:12:47.602753300Z"
    }
   },
   "id": "30ee46faf2cd2487",
   "execution_count": 248
  },
  {
   "cell_type": "code",
   "outputs": [],
   "source": [
    "######################################################\n",
    "def make_weights_for_balanced_classes(y):\n",
    "    y_bins=np.bincount(y)\n",
    "    N=sum(y_bins)\n",
    "    # print(y_bins)\n",
    "\n",
    "    y_bins = y_bins.astype(float)/N\n",
    "    y_bins[y_bins == np.inf] = 0   \n",
    "    y_bins = 1-y_bins\n",
    "    \n",
    "    if len(y_bins) != 10:\n",
    "        pad = 10 - len(y_bins)\n",
    "        y_bins =np.hstack((y_bins, np.ones(pad)))\n",
    "    \n",
    "                               \n",
    "    return y_bins"
   ],
   "metadata": {
    "collapsed": false,
    "ExecuteTime": {
     "end_time": "2024-03-23T13:12:48.300763700Z",
     "start_time": "2024-03-23T13:12:48.286429400Z"
    }
   },
   "id": "e79f8d3800706e40",
   "execution_count": 249
  },
  {
   "cell_type": "code",
   "outputs": [
    {
     "data": {
      "text/plain": "array([2, 4, 6, 2, 6, 3, 3, 3, 2, 1, 0])"
     },
     "execution_count": 250,
     "metadata": {},
     "output_type": "execute_result"
    }
   ],
   "source": [
    "np.hstack(([2, 4, 6, 2, 6, 3, 3, 3, 2, 1], 0))"
   ],
   "metadata": {
    "collapsed": false,
    "ExecuteTime": {
     "end_time": "2024-03-23T13:12:48.445021800Z",
     "start_time": "2024-03-23T13:12:48.417463800Z"
    }
   },
   "id": "c7f948ad0b0286a0",
   "execution_count": 250
  },
  {
   "cell_type": "code",
   "outputs": [
    {
     "name": "stdout",
     "output_type": "stream",
     "text": [
      "tensor([3, 6, 6, 5, 5, 9, 6, 4, 2, 4])\n",
      "[0.94 0.88 0.88 0.9  0.9  0.82 0.88 0.92 0.96 0.92]\n"
     ]
    }
   ],
   "source": [
    "######################################################\n",
    "print(y_train.bincount())\n",
    "print(make_weights_for_balanced_classes(y_train)) # 개수가 적은 애한테 가중치를 마니마니?"
   ],
   "metadata": {
    "collapsed": false,
    "ExecuteTime": {
     "end_time": "2024-03-23T13:12:48.647518400Z",
     "start_time": "2024-03-23T13:12:48.613609200Z"
    }
   },
   "id": "80eda4d37a4eeac6",
   "execution_count": 251
  },
  {
   "cell_type": "code",
   "outputs": [
    {
     "name": "stdout",
     "output_type": "stream",
     "text": [
      "CNN(\n",
      "  (conv1): Conv2d(1, 8, kernel_size=(3, 3), stride=(1, 1), padding=(1, 1))\n",
      "  (conv2): Conv2d(8, 16, kernel_size=(3, 3), stride=(1, 1), padding=(1, 1))\n",
      "  (pool): MaxPool2d(kernel_size=2, stride=2, padding=0, dilation=1, ceil_mode=False)\n",
      "  (fc1): Linear(in_features=784, out_features=64, bias=True)\n",
      "  (fc2): Linear(in_features=64, out_features=32, bias=True)\n",
      "  (fc3): Linear(in_features=32, out_features=10, bias=True)\n",
      ")\n"
     ]
    }
   ],
   "source": [
    "### ===> Optimizer, Objective Function 설정\n",
    "model = CNN().to(DEVICE)\n",
    "\n",
    "optimizer = torch.optim.Adam(model.parameters(), lr = 0.001)\n",
    "\n",
    "criterion = nn.CrossEntropyLoss()\n",
    "\n",
    "print(model)"
   ],
   "metadata": {
    "collapsed": false,
    "ExecuteTime": {
     "end_time": "2024-03-23T13:12:48.938136600Z",
     "start_time": "2024-03-23T13:12:48.908374300Z"
    }
   },
   "id": "21ea1855cc018f90",
   "execution_count": 252
  },
  {
   "cell_type": "code",
   "outputs": [],
   "source": [
    "### ===> CNN 모델 학습을 진행하며 학습 데이터에 대한 모델 성능을 확인하는 함수 정의\n",
    "def train(epoch, model, train_loader, optimizer, log_interval):\n",
    "    model.train()\n",
    "    for batch_idx, (image, label) in enumerate(train_loader):\n",
    "        image = image.to(DEVICE)\n",
    "        label = label.to(DEVICE)\n",
    "        \n",
    "        # ######################################################\n",
    "        # weights = make_weights_for_balanced_classes(label)\n",
    "        # class_weights = torch.FloatTensor(weights)\n",
    "        # print(label)\n",
    "        # print(class_weights)\n",
    "        \n",
    "        optimizer.zero_grad()\n",
    "        output = model(image)\n",
    "        # criterion = nn.CrossEntropyLoss(weight=class_weights)\n",
    "        loss = criterion(output, label)\n",
    "        loss.backward()\n",
    "        optimizer.step()\n",
    "\n",
    "        if batch_idx % log_interval == 0:\n",
    "            print(f\"Train Epoch: {epoch} [{batch_idx}]\\tTrain Loss: {loss.item():.6f}\")"
   ],
   "metadata": {
    "collapsed": false,
    "ExecuteTime": {
     "end_time": "2024-03-23T13:12:49.128242200Z",
     "start_time": "2024-03-23T13:12:49.095894100Z"
    }
   },
   "id": "61c0b919effbee82",
   "execution_count": 253
  },
  {
   "cell_type": "code",
   "outputs": [],
   "source": [
    "### ===> 학습되는 과정 속에서 검증 데이터에 대한 모델 성능을 확인하는 함수 정의\n",
    "def evaluate(model, test_loader):\n",
    "    model.eval()\n",
    "    test_loss = 0\n",
    "    correct = 0\n",
    "\n",
    "    with torch.no_grad():\n",
    "        for image, label in test_loader:\n",
    "            image = image.to(DEVICE)\n",
    "            label = label.to(DEVICE)\n",
    "            \n",
    "            output = model(image)\n",
    "            test_loss += criterion(output, label).item()\n",
    "            prediction = output.max(1, keepdim = True)[1]\n",
    "            correct += prediction.eq(label.view_as(prediction)).sum().item()\n",
    "    \n",
    "    test_loss /= len(test_loader.dataset)\n",
    "    test_accuracy = 100. * correct / len(test_loader.dataset)\n",
    "    return test_loss, test_accuracy"
   ],
   "metadata": {
    "collapsed": false,
    "ExecuteTime": {
     "end_time": "2024-03-23T13:12:49.296587500Z",
     "start_time": "2024-03-23T13:12:49.271452300Z"
    }
   },
   "id": "1404117fe2294333",
   "execution_count": 254
  },
  {
   "cell_type": "markdown",
   "source": [
    "# 학습진행"
   ],
   "metadata": {
    "collapsed": false
   },
   "id": "befc3d774ef79844"
  },
  {
   "cell_type": "code",
   "outputs": [
    {
     "name": "stdout",
     "output_type": "stream",
     "text": [
      "Train Epoch: 1 [0]\tTrain Loss: 2.313880\n",
      "Train Epoch: 1 [200]\tTrain Loss: 2.302053\n",
      "Train Epoch: 1 [400]\tTrain Loss: 2.300368\n",
      "Train Epoch: 1 [600]\tTrain Loss: 2.312224\n",
      "Train Epoch: 1 [800]\tTrain Loss: 2.294971\n",
      "Train Epoch: 1 [1000]\tTrain Loss: 2.318285\n",
      "\n",
      "[EPOCH: 1], \tTest Loss: 0.0460, \tTest Accuracy: 11.35 % \n",
      "\n",
      "Train Epoch: 2 [0]\tTrain Loss: 2.305834\n",
      "Train Epoch: 2 [200]\tTrain Loss: 2.320568\n",
      "Train Epoch: 2 [400]\tTrain Loss: 2.304851\n",
      "Train Epoch: 2 [600]\tTrain Loss: 1.742979\n",
      "Train Epoch: 2 [800]\tTrain Loss: 0.983160\n",
      "Train Epoch: 2 [1000]\tTrain Loss: 0.923037\n",
      "\n",
      "[EPOCH: 2], \tTest Loss: 0.0151, \tTest Accuracy: 75.54 % \n",
      "\n",
      "Train Epoch: 3 [0]\tTrain Loss: 0.832959\n",
      "Train Epoch: 3 [200]\tTrain Loss: 0.667302\n",
      "Train Epoch: 3 [400]\tTrain Loss: 0.670909\n",
      "Train Epoch: 3 [600]\tTrain Loss: 0.609467\n",
      "Train Epoch: 3 [800]\tTrain Loss: 0.489177\n",
      "Train Epoch: 3 [1000]\tTrain Loss: 0.388585\n",
      "\n",
      "[EPOCH: 3], \tTest Loss: 0.0117, \tTest Accuracy: 81.47 % \n",
      "\n",
      "Train Epoch: 4 [0]\tTrain Loss: 0.535451\n",
      "Train Epoch: 4 [200]\tTrain Loss: 0.488778\n",
      "Train Epoch: 4 [400]\tTrain Loss: 0.428165\n",
      "Train Epoch: 4 [600]\tTrain Loss: 0.412280\n",
      "Train Epoch: 4 [800]\tTrain Loss: 0.407960\n",
      "Train Epoch: 4 [1000]\tTrain Loss: 0.334723\n",
      "\n",
      "[EPOCH: 4], \tTest Loss: 0.0088, \tTest Accuracy: 86.87 % \n",
      "\n",
      "Train Epoch: 5 [0]\tTrain Loss: 0.291809\n",
      "Train Epoch: 5 [200]\tTrain Loss: 0.262579\n",
      "Train Epoch: 5 [400]\tTrain Loss: 0.250749\n",
      "Train Epoch: 5 [600]\tTrain Loss: 0.315326\n",
      "Train Epoch: 5 [800]\tTrain Loss: 0.378121\n",
      "Train Epoch: 5 [1000]\tTrain Loss: 0.283242\n",
      "\n",
      "[EPOCH: 5], \tTest Loss: 0.0073, \tTest Accuracy: 89.02 % \n",
      "\n",
      "Train Epoch: 6 [0]\tTrain Loss: 0.386217\n",
      "Train Epoch: 6 [200]\tTrain Loss: 0.286577\n",
      "Train Epoch: 6 [400]\tTrain Loss: 0.342862\n",
      "Train Epoch: 6 [600]\tTrain Loss: 0.309000\n",
      "Train Epoch: 6 [800]\tTrain Loss: 0.472676\n",
      "Train Epoch: 6 [1000]\tTrain Loss: 0.381637\n",
      "\n",
      "[EPOCH: 6], \tTest Loss: 0.0061, \tTest Accuracy: 90.86 % \n",
      "\n",
      "Train Epoch: 7 [0]\tTrain Loss: 0.428601\n",
      "Train Epoch: 7 [200]\tTrain Loss: 0.188346\n",
      "Train Epoch: 7 [400]\tTrain Loss: 0.207274\n",
      "Train Epoch: 7 [600]\tTrain Loss: 0.303828\n",
      "Train Epoch: 7 [800]\tTrain Loss: 0.158283\n",
      "Train Epoch: 7 [1000]\tTrain Loss: 0.212264\n",
      "\n",
      "[EPOCH: 7], \tTest Loss: 0.0051, \tTest Accuracy: 92.22 % \n",
      "\n",
      "Train Epoch: 8 [0]\tTrain Loss: 0.238631\n",
      "Train Epoch: 8 [200]\tTrain Loss: 0.215339\n",
      "Train Epoch: 8 [400]\tTrain Loss: 0.339663\n",
      "Train Epoch: 8 [600]\tTrain Loss: 0.485618\n",
      "Train Epoch: 8 [800]\tTrain Loss: 0.343055\n",
      "Train Epoch: 8 [1000]\tTrain Loss: 0.153449\n",
      "\n",
      "[EPOCH: 8], \tTest Loss: 0.0045, \tTest Accuracy: 93.14 % \n",
      "\n",
      "Train Epoch: 9 [0]\tTrain Loss: 0.203655\n",
      "Train Epoch: 9 [200]\tTrain Loss: 0.217187\n",
      "Train Epoch: 9 [400]\tTrain Loss: 0.283576\n",
      "Train Epoch: 9 [600]\tTrain Loss: 0.115130\n",
      "Train Epoch: 9 [800]\tTrain Loss: 0.270028\n",
      "Train Epoch: 9 [1000]\tTrain Loss: 0.114516\n",
      "\n",
      "[EPOCH: 9], \tTest Loss: 0.0038, \tTest Accuracy: 94.23 % \n",
      "\n",
      "Train Epoch: 10 [0]\tTrain Loss: 0.216588\n",
      "Train Epoch: 10 [200]\tTrain Loss: 0.326938\n",
      "Train Epoch: 10 [400]\tTrain Loss: 0.062985\n",
      "Train Epoch: 10 [600]\tTrain Loss: 0.165471\n",
      "Train Epoch: 10 [800]\tTrain Loss: 0.062017\n",
      "Train Epoch: 10 [1000]\tTrain Loss: 0.120452\n",
      "\n",
      "[EPOCH: 10], \tTest Loss: 0.0037, \tTest Accuracy: 94.31 % \n"
     ]
    }
   ],
   "source": [
    "### ===> CNN 학습 실행하며 Train, Test set의 Loss 및 Test set Accuracy 확인\n",
    "for epoch in range(1, EPOCHS + 1):\n",
    "    \n",
    "    train(epoch, model, train_loader, optimizer, log_interval = 200)\n",
    "    test_loss, test_accuracy = evaluate(model, test_loader)\n",
    "    \n",
    "    print(f\"\\n[EPOCH: {epoch}], \\tTest Loss: {test_loss:.4f}, \\tTest Accuracy: {test_accuracy:.2f} % \\n\")"
   ],
   "metadata": {
    "collapsed": false,
    "ExecuteTime": {
     "end_time": "2024-03-23T13:19:44.806278500Z",
     "start_time": "2024-03-23T13:12:49.971113600Z"
    }
   },
   "id": "ea0f11adf2707e4b",
   "execution_count": 255
  },
  {
   "cell_type": "markdown",
   "source": [
    "# 예측\n",
    "\n",
    "\n"
   ],
   "metadata": {
    "collapsed": false
   },
   "id": "4005d789f496abbe"
  },
  {
   "cell_type": "code",
   "outputs": [],
   "source": [
    "import cv2\n",
    "import numpy as np"
   ],
   "metadata": {
    "collapsed": false,
    "ExecuteTime": {
     "end_time": "2024-03-23T13:19:44.808807800Z",
     "start_time": "2024-03-23T13:19:44.795189700Z"
    }
   },
   "id": "caf6f247fb9b7d3b",
   "execution_count": 256
  },
  {
   "cell_type": "code",
   "outputs": [],
   "source": [
    "def print_img(num):\n",
    "    my_num = cv2.imread(f'../data/my_num{num}.png', cv2.IMREAD_GRAYSCALE)\n",
    "    \n",
    "    my_num = cv2.resize(my_num, (28, 28))\n",
    "    \n",
    "    my_num = abs(my_num.astype(\"int\") - 255) # 이미지는 흰부분이 255라서 \n",
    "    \n",
    "    # cv2.imshow(\"my_num\", my_num.astype(np.uint8))\n",
    "    # cv2.waitKey(0)\n",
    "    # cv2.destroyAllWindows()\n",
    "    \n",
    "    \n",
    "    my_img = torch.FloatTensor(my_num/255)\n",
    "    return my_img"
   ],
   "metadata": {
    "collapsed": false,
    "ExecuteTime": {
     "end_time": "2024-03-23T13:19:44.882477800Z",
     "start_time": "2024-03-23T13:19:44.807504300Z"
    }
   },
   "id": "da7be4791fedfd86",
   "execution_count": 257
  },
  {
   "cell_type": "code",
   "outputs": [
    {
     "data": {
      "text/plain": "<Figure size 2000x200 with 10 Axes>",
      "image/png": "[encoded data removed]"
     },
     "metadata": {},
     "output_type": "display_data"
    }
   ],
   "source": [
    "image_num = 10\n",
    "pltsize = 2\n",
    "plt.figure(figsize=(image_num * pltsize, pltsize))\n",
    "\n",
    "for i in range(10):\n",
    "    my_img = print_img(i)\n",
    "    output = model(my_img.reshape(1, 28, 28))\n",
    "    result = output.argmax().item()\n",
    "    \n",
    "    \n",
    "    \n",
    "    plt.subplot(1, image_num, i+1) # subplot index는 1부터!!\n",
    "    plt.axis(\"off\") # 눈금필요 없지예\n",
    "    plt.imshow(my_img)\n",
    "    plt.title('Class: ' + str(result)) # tensor라서 item 사용해야함 \n",
    "    \n",
    "#     \n",
    "#     \n",
    "# for i in range(image_num):\n",
    "#     plt.subplot(1, image_num, i+1) # subplot index는 1부터!!\n",
    "#     plt.axis(\"off\") # 눈금필요 없지예\n",
    "#     plt.imshow(X_train[i].permute(1, 2, 0)) # .permute(1, 2)\n",
    "#     plt.title('Class: ' + str(y_train[i].item())) # tensor라서 item 사용해야함 "
   ],
   "metadata": {
    "collapsed": false,
    "ExecuteTime": {
     "end_time": "2024-03-23T13:19:46.293025900Z",
     "start_time": "2024-03-23T13:19:44.841209700Z"
    }
   },
   "id": "f63f47c3405239e3",
   "execution_count": 258
  },
  {
   "cell_type": "code",
   "outputs": [],
   "source": [
    "# ㅙ 나한테만 각박한데"
   ],
   "metadata": {
    "collapsed": false,
    "ExecuteTime": {
     "end_time": "2024-03-23T13:08:31.438444500Z",
     "start_time": "2024-03-23T13:08:31.435108900Z"
    }
   },
   "id": "d81ca5d1f54c4133",
   "execution_count": null
  },
  {
   "cell_type": "code",
   "outputs": [],
   "source": [],
   "metadata": {
    "collapsed": false,
    "ExecuteTime": {
     "start_time": "2024-03-23T13:07:15.488696500Z"
    }
   },
   "id": "477fd23d59411637",
   "execution_count": null
  },
  {
   "cell_type": "code",
   "outputs": [],
   "source": [],
   "metadata": {
    "collapsed": false,
    "ExecuteTime": {
     "start_time": "2024-03-23T13:07:15.489743500Z"
    }
   },
   "id": "4e61a3cc08cff5af",
   "execution_count": null
  },
  {
   "cell_type": "code",
   "outputs": [],
   "source": [],
   "metadata": {
    "collapsed": false,
    "ExecuteTime": {
     "start_time": "2024-03-23T09:49:36.868993100Z"
    }
   },
   "id": "f1ee5425a255fbd",
   "execution_count": null
  },
  {
   "cell_type": "code",
   "outputs": [],
   "source": [],
   "metadata": {
    "collapsed": false,
    "ExecuteTime": {
     "end_time": "2024-03-23T09:49:36.872236Z",
     "start_time": "2024-03-23T09:49:36.871235Z"
    }
   },
   "id": "e5ca48240bc38c36"
  }
 ],
 "metadata": {
  "kernelspec": {
   "display_name": "Python 3",
   "language": "python",
   "name": "python3"
  },
  "language_info": {
   "codemirror_mode": {
    "name": "ipython",
    "version": 2
   },
   "file_extension": ".py",
   "mimetype": "text/x-python",
   "name": "python",
   "nbconvert_exporter": "python",
   "pygments_lexer": "ipython2",
   "version": "2.7.6"
  }
 },
 "nbformat": 4,
 "nbformat_minor": 5
}
