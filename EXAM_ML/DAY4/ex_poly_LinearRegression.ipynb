{
 "cells": [
  {
   "cell_type": "markdown",
   "id": "3fe79949-5ffd-4229-aef6-7672a834d42b",
   "metadata": {},
   "source": [
    "# 목표 : 부족한 피쳐를 조합 생성 \n",
    "- 특성공학 => 피쳐 추출 / 선택 / 생성\n",
    "- 비선형의 데이터에 대한 피쳐 생성 => 곡선 형태의 회귀선 수식\n",
    "- module : sklearn.preprocessing 내에 포함\n",
    "- data : fish.csv\n",
    "- feature : perch의 Height, Length, Width\n",
    "- target : Perch의 Weight\n",
    "- 학습유형 : 지도학습 "
   ]
  },
  {
   "cell_type": "markdown",
   "id": "a47b4cd1-1377-415c-ab2d-58291bd3c0c2",
   "metadata": {},
   "source": [
    "## <hr>1. 전처리 피쳐 조합 생성 살펴보기"
   ]
  },
  {
   "cell_type": "code",
   "execution_count": 84,
   "id": "89a5af13-8bd9-4e6c-856d-e0f638b12e50",
   "metadata": {},
   "outputs": [],
   "source": [
    "# 모듈 로딩 \n",
    "from sklearn.preprocessing import PolynomialFeatures\n",
    "import numpy as np"
   ]
  },
  {
   "cell_type": "markdown",
   "id": "c38ef863-396d-454d-bb05-c132ed0b6d15",
   "metadata": {},
   "source": [
    ">>> import numpy as np\r\n",
    ">>> from sklearn.preprocessing import PolynomialFeatures\r\n",
    ">>> X = np.arange(6).reshape(3, 2)\r\n",
    ">>> X\r\n",
    "array([[0, 1],\r\n",
    "       [2, 3],\r\n",
    "       [4, 5]])\r\n",
    ">>> poly = PolynomialFeatures(2)\r\n",
    ">>> poly.fit_transform(X)\r\n",
    "array([[ 1.,  0.,  1.,  0.,  0.,  1.],\r\n",
    "       [ 1.,  2.,  3.,  4.,  6.,  9.],\r\n",
    "       [ 1.,  4.,  5., 16., 20., 25.]])\r\n",
    ">>> poly = PolynomialFeatures(interactio 교집합만 할 거라서 자기는 뺌 n_only=True)\r\n",
    ">>> poly.fit_transform(X)\r\n",
    "array([[ 1.,  0.,  1.,  0.],\r\n",
    "       [ 1.,  2.,  3.,  6.],\r\n",
    "       [ 1.,  4.,  5., 20.]])"
   ]
  },
  {
   "cell_type": "code",
   "execution_count": 12,
   "id": "3994e8d8-8fcc-4e21-85d8-2a1875bedc4c",
   "metadata": {},
   "outputs": [
    {
     "data": {
      "text/plain": [
       "array([[1., 2., 3., 4., 6., 9.]])"
      ]
     },
     "execution_count": 12,
     "metadata": {},
     "output_type": "execute_result"
    }
   ],
   "source": [
    "poly = PolynomialFeatures() # poly = 다항, degree = 2\n",
    "poly.fit([[2, 3]])\n",
    "poly.transform([[2, 3]])"
   ]
  },
  {
   "cell_type": "markdown",
   "id": "824a6157-c8bb-41ba-baf0-215e9784ffa3",
   "metadata": {},
   "source": [
    "- degree = 1  \n",
    "    - ex) $3x + 2$ -> $bias = 2$\n",
    "- degree = 2\n",
    "    - ex) $5x^2 + 9$ ->$bias = 9$\n",
    "    - ex) $x^2 + 2x$ -> $bias = 0$"
   ]
  },
  {
   "cell_type": "code",
   "execution_count": 13,
   "id": "c5f029ad-6959-4fb0-9047-a958d5ef9d9b",
   "metadata": {},
   "outputs": [],
   "source": [
    "# 인스턴스 생성\n",
    "poly = PolynomialFeatures(include_bias=False) # api 참고 https://scikit-learn.org/stable/modules/generated/sklearn.preprocessing.PolynomialFeatures.html#sklearn.preprocessing.PolynomialFeatures\n",
    "# bias = 0차항, 필요 없으면 False "
   ]
  },
  {
   "cell_type": "code",
   "execution_count": 14,
   "id": "9524572c-cb17-4f96-be4a-b9d98d3e1dc0",
   "metadata": {},
   "outputs": [
    {
     "data": {
      "text/html": [
       "<style>#sk-container-id-3 {color: black;}#sk-container-id-3 pre{padding: 0;}#sk-container-id-3 div.sk-toggleable {background-color: white;}#sk-container-id-3 label.sk-toggleable__label {cursor: pointer;display: block;width: 100%;margin-bottom: 0;padding: 0.3em;box-sizing: border-box;text-align: center;}#sk-container-id-3 label.sk-toggleable__label-arrow:before {content: \"▸\";float: left;margin-right: 0.25em;color: #696969;}#sk-container-id-3 label.sk-toggleable__label-arrow:hover:before {color: black;}#sk-container-id-3 div.sk-estimator:hover label.sk-toggleable__label-arrow:before {color: black;}#sk-container-id-3 div.sk-toggleable__content {max-height: 0;max-width: 0;overflow: hidden;text-align: left;background-color: #f0f8ff;}#sk-container-id-3 div.sk-toggleable__content pre {margin: 0.2em;color: black;border-radius: 0.25em;background-color: #f0f8ff;}#sk-container-id-3 input.sk-toggleable__control:checked~div.sk-toggleable__content {max-height: 200px;max-width: 100%;overflow: auto;}#sk-container-id-3 input.sk-toggleable__control:checked~label.sk-toggleable__label-arrow:before {content: \"▾\";}#sk-container-id-3 div.sk-estimator input.sk-toggleable__control:checked~label.sk-toggleable__label {background-color: #d4ebff;}#sk-container-id-3 div.sk-label input.sk-toggleable__control:checked~label.sk-toggleable__label {background-color: #d4ebff;}#sk-container-id-3 input.sk-hidden--visually {border: 0;clip: rect(1px 1px 1px 1px);clip: rect(1px, 1px, 1px, 1px);height: 1px;margin: -1px;overflow: hidden;padding: 0;position: absolute;width: 1px;}#sk-container-id-3 div.sk-estimator {font-family: monospace;background-color: #f0f8ff;border: 1px dotted black;border-radius: 0.25em;box-sizing: border-box;margin-bottom: 0.5em;}#sk-container-id-3 div.sk-estimator:hover {background-color: #d4ebff;}#sk-container-id-3 div.sk-parallel-item::after {content: \"\";width: 100%;border-bottom: 1px solid gray;flex-grow: 1;}#sk-container-id-3 div.sk-label:hover label.sk-toggleable__label {background-color: #d4ebff;}#sk-container-id-3 div.sk-serial::before {content: \"\";position: absolute;border-left: 1px solid gray;box-sizing: border-box;top: 0;bottom: 0;left: 50%;z-index: 0;}#sk-container-id-3 div.sk-serial {display: flex;flex-direction: column;align-items: center;background-color: white;padding-right: 0.2em;padding-left: 0.2em;position: relative;}#sk-container-id-3 div.sk-item {position: relative;z-index: 1;}#sk-container-id-3 div.sk-parallel {display: flex;align-items: stretch;justify-content: center;background-color: white;position: relative;}#sk-container-id-3 div.sk-item::before, #sk-container-id-3 div.sk-parallel-item::before {content: \"\";position: absolute;border-left: 1px solid gray;box-sizing: border-box;top: 0;bottom: 0;left: 50%;z-index: -1;}#sk-container-id-3 div.sk-parallel-item {display: flex;flex-direction: column;z-index: 1;position: relative;background-color: white;}#sk-container-id-3 div.sk-parallel-item:first-child::after {align-self: flex-end;width: 50%;}#sk-container-id-3 div.sk-parallel-item:last-child::after {align-self: flex-start;width: 50%;}#sk-container-id-3 div.sk-parallel-item:only-child::after {width: 0;}#sk-container-id-3 div.sk-dashed-wrapped {border: 1px dashed gray;margin: 0 0.4em 0.5em 0.4em;box-sizing: border-box;padding-bottom: 0.4em;background-color: white;}#sk-container-id-3 div.sk-label label {font-family: monospace;font-weight: bold;display: inline-block;line-height: 1.2em;}#sk-container-id-3 div.sk-label-container {text-align: center;}#sk-container-id-3 div.sk-container {/* jupyter's `normalize.less` sets `[hidden] { display: none; }` but bootstrap.min.css set `[hidden] { display: none !important; }` so we also need the `!important` here to be able to override the default hidden behavior on the sphinx rendered scikit-learn.org. See: https://github.com/scikit-learn/scikit-learn/issues/21755 */display: inline-block !important;position: relative;}#sk-container-id-3 div.sk-text-repr-fallback {display: none;}</style><div id=\"sk-container-id-3\" class=\"sk-top-container\"><div class=\"sk-text-repr-fallback\"><pre>PolynomialFeatures(include_bias=False)</pre><b>In a Jupyter environment, please rerun this cell to show the HTML representation or trust the notebook. <br />On GitHub, the HTML representation is unable to render, please try loading this page with nbviewer.org.</b></div><div class=\"sk-container\" hidden><div class=\"sk-item\"><div class=\"sk-estimator sk-toggleable\"><input class=\"sk-toggleable__control sk-hidden--visually\" id=\"sk-estimator-id-3\" type=\"checkbox\" checked><label for=\"sk-estimator-id-3\" class=\"sk-toggleable__label sk-toggleable__label-arrow\">PolynomialFeatures</label><div class=\"sk-toggleable__content\"><pre>PolynomialFeatures(include_bias=False)</pre></div></div></div></div></div>"
      ],
      "text/plain": [
       "PolynomialFeatures(include_bias=False)"
      ]
     },
     "execution_count": 14,
     "metadata": {},
     "output_type": "execute_result"
    }
   ],
   "source": [
    "poly.fit([[2, 3]])"
   ]
  },
  {
   "cell_type": "code",
   "execution_count": 15,
   "id": "17cf71d8-55bf-421b-8f9a-222e74503767",
   "metadata": {},
   "outputs": [
    {
     "data": {
      "text/plain": [
       "array([[2., 3., 4., 6., 9.]])"
      ]
     },
     "execution_count": 15,
     "metadata": {},
     "output_type": "execute_result"
    }
   ],
   "source": [
    "poly.transform([[2, 3]]) "
   ]
  },
  {
   "cell_type": "markdown",
   "id": "2dfb7312-3805-46ed-98e3-c513ae42f949",
   "metadata": {},
   "source": [
    "transform [$x_1$, $x_2$] -> [1, &nbsp;$x_1$,&nbsp; $x_2$, &nbsp;${x_1}^2$, &nbsp;$x_1x_2$, &nbsp;${x_2}^2$]"
   ]
  },
  {
   "cell_type": "code",
   "execution_count": 16,
   "id": "7dd4fe1a-013e-4885-9b87-02bfb562c29b",
   "metadata": {},
   "outputs": [
    {
     "data": {
      "text/plain": [
       "array([[  2.,   3.,   4.,   6.,   9.,   8.,  12.,  18.,  27.,  16.,  24.,\n",
       "         36.,  54.,  81.,  32.,  48.,  72., 108., 162., 243.]])"
      ]
     },
     "execution_count": 16,
     "metadata": {},
     "output_type": "execute_result"
    }
   ],
   "source": [
    "poly = PolynomialFeatures(include_bias=False, degree=5)\n",
    "poly.fit([[2, 3]])\n",
    "poly.transform([[2, 3]])"
   ]
  },
  {
   "cell_type": "code",
   "execution_count": 17,
   "id": "2c131451-e773-48da-8ee3-557370080296",
   "metadata": {},
   "outputs": [
    {
     "data": {
      "text/plain": [
       "array(['x0', 'x1', 'x0^2', 'x0 x1', 'x1^2', 'x0^3', 'x0^2 x1', 'x0 x1^2',\n",
       "       'x1^3', 'x0^4', 'x0^3 x1', 'x0^2 x1^2', 'x0 x1^3', 'x1^4', 'x0^5',\n",
       "       'x0^4 x1', 'x0^3 x1^2', 'x0^2 x1^3', 'x0 x1^4', 'x1^5'],\n",
       "      dtype=object)"
      ]
     },
     "execution_count": 17,
     "metadata": {},
     "output_type": "execute_result"
    }
   ],
   "source": [
    "poly.get_feature_names_out() # degree가 5"
   ]
  },
  {
   "cell_type": "markdown",
   "id": "8a41626c-c6fa-42b0-ad82-8670330e149e",
   "metadata": {},
   "source": [
    "## <hr>2. perch 데이터를 최대한 만족하는 회귀선을 찾기"
   ]
  },
  {
   "cell_type": "markdown",
   "id": "0bb13fb8-1e5b-453d-b5f7-8ac57f324e98",
   "metadata": {},
   "source": [
    "### 2-1. 모듈 로딩 및 데이터 준비"
   ]
  },
  {
   "cell_type": "code",
   "execution_count": 19,
   "id": "7848fbfe-1cc4-4b3a-8a7c-16cab4ef564d",
   "metadata": {},
   "outputs": [],
   "source": [
    "import pandas as pd\n",
    "import matplotlib.pyplot as plt"
   ]
  },
  {
   "cell_type": "code",
   "execution_count": 22,
   "id": "445cf0c5-3f0e-4f6d-b48d-2172c53b1726",
   "metadata": {},
   "outputs": [
    {
     "name": "stdout",
     "output_type": "stream",
     "text": [
      "<class 'pandas.core.frame.DataFrame'>\n",
      "RangeIndex: 159 entries, 0 to 158\n",
      "Data columns (total 6 columns):\n",
      " #   Column    Non-Null Count  Dtype  \n",
      "---  ------    --------------  -----  \n",
      " 0   Species   159 non-null    object \n",
      " 1   Weight    159 non-null    float64\n",
      " 2   Length    159 non-null    float64\n",
      " 3   Diagonal  159 non-null    float64\n",
      " 4   Height    159 non-null    float64\n",
      " 5   Width     159 non-null    float64\n",
      "dtypes: float64(5), object(1)\n",
      "memory usage: 7.6+ KB\n"
     ]
    }
   ],
   "source": [
    "file = \"../data/fish.csv\"\n",
    "dataDF = pd.read_csv(file)\n",
    "dataDF.info() # 기본 정보 확인"
   ]
  },
  {
   "cell_type": "code",
   "execution_count": 27,
   "id": "7929748d-8434-4e0f-9d78-3294d161ec0c",
   "metadata": {},
   "outputs": [],
   "source": [
    "dataDF.drop(\"Diagonal\", axis=\"columns\", inplace=True)"
   ]
  },
  {
   "cell_type": "code",
   "execution_count": 28,
   "id": "7d123117-56e2-45d6-8e58-609abeb9edf6",
   "metadata": {},
   "outputs": [],
   "source": [
    "perchDF = dataDF[dataDF.Species == \"Perch\"]"
   ]
  },
  {
   "cell_type": "code",
   "execution_count": 30,
   "id": "8a6389c2-5b7b-4fa5-863f-55bd0fe524dc",
   "metadata": {},
   "outputs": [],
   "source": [
    "perchDF = perchDF.drop(\"Species\", axis = \"columns\").copy()"
   ]
  },
  {
   "cell_type": "code",
   "execution_count": 31,
   "id": "2a3cd20a-40b2-4e0c-955f-c1973ba82ef9",
   "metadata": {},
   "outputs": [
    {
     "data": {
      "text/html": [
       "<div>\n",
       "<style scoped>\n",
       "    .dataframe tbody tr th:only-of-type {\n",
       "        vertical-align: middle;\n",
       "    }\n",
       "\n",
       "    .dataframe tbody tr th {\n",
       "        vertical-align: top;\n",
       "    }\n",
       "\n",
       "    .dataframe thead th {\n",
       "        text-align: right;\n",
       "    }\n",
       "</style>\n",
       "<table border=\"1\" class=\"dataframe\">\n",
       "  <thead>\n",
       "    <tr style=\"text-align: right;\">\n",
       "      <th></th>\n",
       "      <th>Weight</th>\n",
       "      <th>Length</th>\n",
       "      <th>Height</th>\n",
       "      <th>Width</th>\n",
       "    </tr>\n",
       "  </thead>\n",
       "  <tbody>\n",
       "    <tr>\n",
       "      <th>72</th>\n",
       "      <td>5.9</td>\n",
       "      <td>8.4</td>\n",
       "      <td>2.1120</td>\n",
       "      <td>1.4080</td>\n",
       "    </tr>\n",
       "    <tr>\n",
       "      <th>73</th>\n",
       "      <td>32.0</td>\n",
       "      <td>13.7</td>\n",
       "      <td>3.5280</td>\n",
       "      <td>1.9992</td>\n",
       "    </tr>\n",
       "    <tr>\n",
       "      <th>74</th>\n",
       "      <td>40.0</td>\n",
       "      <td>15.0</td>\n",
       "      <td>3.8240</td>\n",
       "      <td>2.4320</td>\n",
       "    </tr>\n",
       "    <tr>\n",
       "      <th>75</th>\n",
       "      <td>51.5</td>\n",
       "      <td>16.2</td>\n",
       "      <td>4.5924</td>\n",
       "      <td>2.6316</td>\n",
       "    </tr>\n",
       "    <tr>\n",
       "      <th>76</th>\n",
       "      <td>70.0</td>\n",
       "      <td>17.4</td>\n",
       "      <td>4.5880</td>\n",
       "      <td>2.9415</td>\n",
       "    </tr>\n",
       "  </tbody>\n",
       "</table>\n",
       "</div>"
      ],
      "text/plain": [
       "    Weight  Length  Height   Width\n",
       "72     5.9     8.4  2.1120  1.4080\n",
       "73    32.0    13.7  3.5280  1.9992\n",
       "74    40.0    15.0  3.8240  2.4320\n",
       "75    51.5    16.2  4.5924  2.6316\n",
       "76    70.0    17.4  4.5880  2.9415"
      ]
     },
     "execution_count": 31,
     "metadata": {},
     "output_type": "execute_result"
    }
   ],
   "source": [
    "perchDF.head() # KNN이 아니라서 인덱스 정리 필요없지만 해서 나쁠 거 X"
   ]
  },
  {
   "cell_type": "code",
   "execution_count": 32,
   "id": "e6bff761-2e70-4a10-a502-f76d6a84e2ae",
   "metadata": {},
   "outputs": [],
   "source": [
    "perchDF.reset_index(drop=True, inplace=True)"
   ]
  },
  {
   "cell_type": "code",
   "execution_count": 34,
   "id": "f94083db-ef48-4cb1-b415-cc0b4ad5c51b",
   "metadata": {},
   "outputs": [
    {
     "data": {
      "text/html": [
       "<div>\n",
       "<style scoped>\n",
       "    .dataframe tbody tr th:only-of-type {\n",
       "        vertical-align: middle;\n",
       "    }\n",
       "\n",
       "    .dataframe tbody tr th {\n",
       "        vertical-align: top;\n",
       "    }\n",
       "\n",
       "    .dataframe thead th {\n",
       "        text-align: right;\n",
       "    }\n",
       "</style>\n",
       "<table border=\"1\" class=\"dataframe\">\n",
       "  <thead>\n",
       "    <tr style=\"text-align: right;\">\n",
       "      <th></th>\n",
       "      <th>Weight</th>\n",
       "      <th>Length</th>\n",
       "      <th>Height</th>\n",
       "      <th>Width</th>\n",
       "    </tr>\n",
       "  </thead>\n",
       "  <tbody>\n",
       "    <tr>\n",
       "      <th>0</th>\n",
       "      <td>5.9</td>\n",
       "      <td>8.4</td>\n",
       "      <td>2.1120</td>\n",
       "      <td>1.4080</td>\n",
       "    </tr>\n",
       "    <tr>\n",
       "      <th>1</th>\n",
       "      <td>32.0</td>\n",
       "      <td>13.7</td>\n",
       "      <td>3.5280</td>\n",
       "      <td>1.9992</td>\n",
       "    </tr>\n",
       "    <tr>\n",
       "      <th>2</th>\n",
       "      <td>40.0</td>\n",
       "      <td>15.0</td>\n",
       "      <td>3.8240</td>\n",
       "      <td>2.4320</td>\n",
       "    </tr>\n",
       "    <tr>\n",
       "      <th>3</th>\n",
       "      <td>51.5</td>\n",
       "      <td>16.2</td>\n",
       "      <td>4.5924</td>\n",
       "      <td>2.6316</td>\n",
       "    </tr>\n",
       "    <tr>\n",
       "      <th>4</th>\n",
       "      <td>70.0</td>\n",
       "      <td>17.4</td>\n",
       "      <td>4.5880</td>\n",
       "      <td>2.9415</td>\n",
       "    </tr>\n",
       "  </tbody>\n",
       "</table>\n",
       "</div>"
      ],
      "text/plain": [
       "   Weight  Length  Height   Width\n",
       "0     5.9     8.4  2.1120  1.4080\n",
       "1    32.0    13.7  3.5280  1.9992\n",
       "2    40.0    15.0  3.8240  2.4320\n",
       "3    51.5    16.2  4.5924  2.6316\n",
       "4    70.0    17.4  4.5880  2.9415"
      ]
     },
     "execution_count": 34,
     "metadata": {},
     "output_type": "execute_result"
    }
   ],
   "source": [
    "perchDF.head()"
   ]
  },
  {
   "cell_type": "markdown",
   "id": "c5fd4316-00c1-4863-9374-48a62a4ad4e2",
   "metadata": {},
   "source": [
    "### 2-2. 데이터 확인\n",
    "- 학습 유형 결정을 위한 단계\n",
    "- 피쳐 스케일링 진행 여부 체크"
   ]
  },
  {
   "cell_type": "code",
   "execution_count": null,
   "id": "f2aa82e9-48ea-4e56-9b4b-f2ebb2bb479a",
   "metadata": {},
   "outputs": [],
   "source": [
    "#피처를 생각하지 않고 하나 해보기\n",
    "#전처리에서 피처를 만들어서 회귀 해보기\n",
    "#그래서 이 둘을 비교해보라"
   ]
  },
  {
   "cell_type": "markdown",
   "id": "6578889b-fcaa-4f55-bd64-37e5f9ad41d9",
   "metadata": {},
   "source": [
    "## 피처 생각 안 하기"
   ]
  },
  {
   "cell_type": "code",
   "execution_count": 107,
   "id": "8a82e9f0-a83f-484e-a016-c5ef86a724ca",
   "metadata": {},
   "outputs": [],
   "source": [
    "from sklearn.model_selection import train_test_split # train, test 분리 \n",
    "from sklearn.preprocessing import StandardScaler, MinMaxScaler, RobustScaler # 데이터 전처리"
   ]
  },
  {
   "cell_type": "code",
   "execution_count": 108,
   "id": "b66d425a-e978-45f5-b5e4-5ebb4d2e39fa",
   "metadata": {},
   "outputs": [
    {
     "data": {
      "text/html": [
       "<div>\n",
       "<style scoped>\n",
       "    .dataframe tbody tr th:only-of-type {\n",
       "        vertical-align: middle;\n",
       "    }\n",
       "\n",
       "    .dataframe tbody tr th {\n",
       "        vertical-align: top;\n",
       "    }\n",
       "\n",
       "    .dataframe thead th {\n",
       "        text-align: right;\n",
       "    }\n",
       "</style>\n",
       "<table border=\"1\" class=\"dataframe\">\n",
       "  <thead>\n",
       "    <tr style=\"text-align: right;\">\n",
       "      <th></th>\n",
       "      <th>Length</th>\n",
       "      <th>Height</th>\n",
       "      <th>Width</th>\n",
       "    </tr>\n",
       "  </thead>\n",
       "  <tbody>\n",
       "    <tr>\n",
       "      <th>0</th>\n",
       "      <td>8.4</td>\n",
       "      <td>2.112</td>\n",
       "      <td>1.4080</td>\n",
       "    </tr>\n",
       "    <tr>\n",
       "      <th>1</th>\n",
       "      <td>13.7</td>\n",
       "      <td>3.528</td>\n",
       "      <td>1.9992</td>\n",
       "    </tr>\n",
       "    <tr>\n",
       "      <th>2</th>\n",
       "      <td>15.0</td>\n",
       "      <td>3.824</td>\n",
       "      <td>2.4320</td>\n",
       "    </tr>\n",
       "  </tbody>\n",
       "</table>\n",
       "</div>"
      ],
      "text/plain": [
       "   Length  Height   Width\n",
       "0     8.4   2.112  1.4080\n",
       "1    13.7   3.528  1.9992\n",
       "2    15.0   3.824  2.4320"
      ]
     },
     "execution_count": 108,
     "metadata": {},
     "output_type": "execute_result"
    }
   ],
   "source": [
    "featureDF = perchDF.iloc[:,1:]\n",
    "featureDF.head(3)"
   ]
  },
  {
   "cell_type": "code",
   "execution_count": 109,
   "id": "f388b033-87e5-41cd-9b68-918d1ad41ede",
   "metadata": {},
   "outputs": [
    {
     "data": {
      "text/plain": [
       "0     5.9\n",
       "1    32.0\n",
       "2    40.0\n",
       "Name: Weight, dtype: float64"
      ]
     },
     "execution_count": 109,
     "metadata": {},
     "output_type": "execute_result"
    }
   ],
   "source": [
    "targetDF = perchDF.iloc[:,0]\n",
    "targetDF.head(3)"
   ]
  },
  {
   "cell_type": "code",
   "execution_count": 120,
   "id": "2b9a9c16-6182-4e62-8c18-be9fb581d1e8",
   "metadata": {},
   "outputs": [],
   "source": [
    "X_train, X_test, y_train, y_test = train_test_split(featureDF, targetDF, random_state=42)"
   ]
  },
  {
   "cell_type": "code",
   "execution_count": 134,
   "id": "05bc6983-4501-4e8e-917e-4665c3767b05",
   "metadata": {},
   "outputs": [
    {
     "data": {
      "text/html": [
       "<div>\n",
       "<style scoped>\n",
       "    .dataframe tbody tr th:only-of-type {\n",
       "        vertical-align: middle;\n",
       "    }\n",
       "\n",
       "    .dataframe tbody tr th {\n",
       "        vertical-align: top;\n",
       "    }\n",
       "\n",
       "    .dataframe thead th {\n",
       "        text-align: right;\n",
       "    }\n",
       "</style>\n",
       "<table border=\"1\" class=\"dataframe\">\n",
       "  <thead>\n",
       "    <tr style=\"text-align: right;\">\n",
       "      <th></th>\n",
       "      <th>0</th>\n",
       "      <th>1</th>\n",
       "      <th>2</th>\n",
       "      <th>3</th>\n",
       "      <th>4</th>\n",
       "      <th>5</th>\n",
       "      <th>6</th>\n",
       "      <th>7</th>\n",
       "      <th>8</th>\n",
       "      <th>9</th>\n",
       "    </tr>\n",
       "  </thead>\n",
       "  <tbody>\n",
       "    <tr>\n",
       "      <th>0</th>\n",
       "      <td>1.0</td>\n",
       "      <td>19.6</td>\n",
       "      <td>5.1376</td>\n",
       "      <td>3.0368</td>\n",
       "      <td>384.16</td>\n",
       "      <td>100.69696</td>\n",
       "      <td>59.52128</td>\n",
       "      <td>26.394934</td>\n",
       "      <td>15.601864</td>\n",
       "      <td>9.222154</td>\n",
       "    </tr>\n",
       "    <tr>\n",
       "      <th>1</th>\n",
       "      <td>1.0</td>\n",
       "      <td>22.0</td>\n",
       "      <td>5.8750</td>\n",
       "      <td>3.5250</td>\n",
       "      <td>484.00</td>\n",
       "      <td>129.25000</td>\n",
       "      <td>77.55000</td>\n",
       "      <td>34.515625</td>\n",
       "      <td>20.709375</td>\n",
       "      <td>12.425625</td>\n",
       "    </tr>\n",
       "    <tr>\n",
       "      <th>2</th>\n",
       "      <td>1.0</td>\n",
       "      <td>18.7</td>\n",
       "      <td>5.1992</td>\n",
       "      <td>3.1234</td>\n",
       "      <td>349.69</td>\n",
       "      <td>97.22504</td>\n",
       "      <td>58.40758</td>\n",
       "      <td>27.031681</td>\n",
       "      <td>16.239181</td>\n",
       "      <td>9.755628</td>\n",
       "    </tr>\n",
       "  </tbody>\n",
       "</table>\n",
       "</div>"
      ],
      "text/plain": [
       "     0     1       2       3       4          5         6          7  \\\n",
       "0  1.0  19.6  5.1376  3.0368  384.16  100.69696  59.52128  26.394934   \n",
       "1  1.0  22.0  5.8750  3.5250  484.00  129.25000  77.55000  34.515625   \n",
       "2  1.0  18.7  5.1992  3.1234  349.69   97.22504  58.40758  27.031681   \n",
       "\n",
       "           8          9  \n",
       "0  15.601864   9.222154  \n",
       "1  20.709375  12.425625  \n",
       "2  16.239181   9.755628  "
      ]
     },
     "execution_count": 134,
     "metadata": {},
     "output_type": "execute_result"
    }
   ],
   "source": [
    "poly = PolynomialFeatures() #################################################\n",
    "train_poly = pd.DataFrame(poly.fit_transform(X_train)) # fit_transfrom은 train data\n",
    "train_poly.head(3)"
   ]
  },
  {
   "cell_type": "code",
   "execution_count": 135,
   "id": "bce1f439-62ff-44d5-b60c-d0e4e051d624",
   "metadata": {},
   "outputs": [
    {
     "data": {
      "text/plain": [
       "array(['1', 'Length', 'Height', 'Width', 'Length^2', 'Length Height',\n",
       "       'Length Width', 'Height^2', 'Height Width', 'Width^2'],\n",
       "      dtype=object)"
      ]
     },
     "execution_count": 135,
     "metadata": {},
     "output_type": "execute_result"
    }
   ],
   "source": [
    "poly.get_feature_names_out()"
   ]
  },
  {
   "cell_type": "code",
   "execution_count": 139,
   "id": "f80dc824-beff-4777-ab27-e90cbf715f65",
   "metadata": {},
   "outputs": [
    {
     "name": "stdout",
     "output_type": "stream",
     "text": [
      "계수 => [   0.           34.70103684  -89.14285211 -182.75736564   -2.26779674\n",
      "    8.83367054    9.2847728    28.0361006  -121.24942255   95.06523826] \n",
      "절편 => 124.14242127301651\n"
     ]
    }
   ],
   "source": [
    "from sklearn.linear_model import LinearRegression\n",
    "lin_reg = LinearRegression()\n",
    "lin_reg.fit(train_poly, y_train)\n",
    "print(f\"계수 => {lin_reg.coef_} \\n절편 => {lin_reg.intercept_}\") "
   ]
  },
  {
   "cell_type": "code",
   "execution_count": 147,
   "id": "902f74b9-d68e-4ca1-a8b4-6898233cedb6",
   "metadata": {
    "scrolled": true
   },
   "outputs": [
    {
     "data": {
      "image/png": "[encoded data removed]",
      "text/plain": [
       "<Figure size 640x480 with 1 Axes>"
      ]
     },
     "metadata": {},
     "output_type": "display_data"
    },
    {
     "name": "stderr",
     "output_type": "stream",
     "text": [
      "C:\\Users\\kdp\\anaconda3\\envs\\EXAM_ML\\lib\\site-packages\\sklearn\\base.py:464: UserWarning: X does not have valid feature names, but PolynomialFeatures was fitted with feature names\n",
      "  warnings.warn(\n"
     ]
    },
    {
     "data": {
      "text/plain": [
       "[<matplotlib.lines.Line2D at 0x1ca75288b20>,\n",
       " <matplotlib.lines.Line2D at 0x1ca75288fd0>,\n",
       " <matplotlib.lines.Line2D at 0x1ca75288f10>]"
      ]
     },
     "execution_count": 147,
     "metadata": {},
     "output_type": "execute_result"
    },
    {
     "data": {
      "image/png": "[encoded data removed]",
      "text/plain": [
       "<Figure size 640x480 with 1 Axes>"
      ]
     },
     "metadata": {},
     "output_type": "display_data"
    }
   ],
   "source": [
    "plt.plot(X_test, y_test, \"b.\")\n",
    "plt.show()\n",
    "X_new = np.linspace(0, 40, 300).reshape(100, 3)\n",
    "X_new_poly = poly.transform(X_new)\n",
    "y_new = lin_reg.predict(X_new_poly)\n",
    "\n",
    "plt.plot(X_new, y_new, \"r-\")"
   ]
  },
  {
   "cell_type": "code",
   "execution_count": 78,
   "id": "414c1970-293e-4e12-8083-87f28d809be9",
   "metadata": {},
   "outputs": [
    {
     "data": {
      "text/plain": [
       "44.843744586858804"
      ]
     },
     "execution_count": 78,
     "metadata": {},
     "output_type": "execute_result"
    }
   ],
   "source": [
    "mean_squared_error(y_test, preds, squared=False)"
   ]
  },
  {
   "cell_type": "code",
   "execution_count": null,
   "id": "e4ba2e17-ebf0-4720-a380-c9b3dec0dca2",
   "metadata": {},
   "outputs": [],
   "source": []
  },
  {
   "cell_type": "code",
   "execution_count": null,
   "id": "d19a2e17-00bc-4fae-a621-45410a1e0d80",
   "metadata": {},
   "outputs": [],
   "source": []
  }
 ],
 "metadata": {
  "kernelspec": {
   "display_name": "Python 3 (ipykernel)",
   "language": "python",
   "name": "python3"
  },
  "language_info": {
   "codemirror_mode": {
    "name": "ipython",
    "version": 3
   },
   "file_extension": ".py",
   "mimetype": "text/x-python",
   "name": "python",
   "nbconvert_exporter": "python",
   "pygments_lexer": "ipython3",
   "version": "3.9.18"
  }
 },
 "nbformat": 4,
 "nbformat_minor": 5
}
