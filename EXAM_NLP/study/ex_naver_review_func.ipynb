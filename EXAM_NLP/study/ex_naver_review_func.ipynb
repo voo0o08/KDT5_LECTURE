{
 "cells": [
  {
   "cell_type": "markdown",
   "source": [
    "# Naver 리뷰 데이터 전처리 \n",
    "- train : https://raw.githubusercontent.com/e9t/nsmc/master/ratings_train.txt\n",
    "- test : https://raw.githubusercontent.com/e9t/nsmc/master/ratings_test.txt"
   ],
   "metadata": {
    "collapsed": false
   },
   "id": "a7911f3fae733919"
  },
  {
   "cell_type": "markdown",
   "source": [
    "# 데이터 준비"
   ],
   "metadata": {
    "collapsed": false
   },
   "id": "b7f1928cc3d22bdb"
  },
  {
   "cell_type": "code",
   "outputs": [
    {
     "name": "stdout",
     "output_type": "stream",
     "text": [
      "The autoreload extension is already loaded. To reload it, use:\n",
      "  %reload_ext autoreload\n"
     ]
    }
   ],
   "source": [
    "%load_ext autoreload\n",
    "%autoreload 2\n",
    "\n",
    "from NLP_preprocess import drop_row, regex_processing, clean_by_freq, clean_by_stopwords, clean_by_len, idx_encoder"
   ],
   "metadata": {
    "collapsed": false,
    "ExecuteTime": {
     "end_time": "2024-03-31T05:12:20.191726900Z",
     "start_time": "2024-03-31T05:12:20.152044400Z"
    }
   },
   "id": "8935ea6c80eaeefd",
   "execution_count": 90
  },
  {
   "cell_type": "code",
   "outputs": [
    {
     "data": {
      "text/plain": "('../data/ratings_test.txt', <http.client.HTTPMessage at 0x23cf5c0a5e0>)"
     },
     "execution_count": 79,
     "metadata": {},
     "output_type": "execute_result"
    }
   ],
   "source": [
    "# urllib -> urlopen -> urlretrieve\n",
    "from urllib.request import urlretrieve\n",
    "\n",
    "filename = \"../data/ratings_test.txt\"\n",
    "url = \"https://raw.githubusercontent.com/e9t/nsmc/master/ratings_test.txt\"\n",
    "\n",
    "ret = urlretrieve(url, filename)\n",
    "ret # 파일을 확인하면 html 파일임 "
   ],
   "metadata": {
    "collapsed": false,
    "ExecuteTime": {
     "end_time": "2024-03-31T05:09:46.957370300Z",
     "start_time": "2024-03-31T05:09:46.425333500Z"
    }
   },
   "id": "fb2bdc71c5539189",
   "execution_count": 79
  },
  {
   "cell_type": "code",
   "outputs": [
    {
     "data": {
      "text/plain": "                                            document  label\n0                                                굳 ㅋ      1\n1                               GDNTOPCLASSINTHECLUB      0\n2             뭐야 이 평점들은.... 나쁘진 않지만 10점 짜리는 더더욱 아니잖아      0\n3                   지루하지는 않은데 완전 막장임... 돈주고 보기에는....      0\n4  3D만 아니었어도 별 다섯 개 줬을텐데.. 왜 3D로 나와서 제 심기를 불편하게 하죠??      0",
      "text/html": "<div>\n<style scoped>\n    .dataframe tbody tr th:only-of-type {\n        vertical-align: middle;\n    }\n\n    .dataframe tbody tr th {\n        vertical-align: top;\n    }\n\n    .dataframe thead th {\n        text-align: right;\n    }\n</style>\n<table border=\"1\" class=\"dataframe\">\n  <thead>\n    <tr style=\"text-align: right;\">\n      <th></th>\n      <th>document</th>\n      <th>label</th>\n    </tr>\n  </thead>\n  <tbody>\n    <tr>\n      <th>0</th>\n      <td>굳 ㅋ</td>\n      <td>1</td>\n    </tr>\n    <tr>\n      <th>1</th>\n      <td>GDNTOPCLASSINTHECLUB</td>\n      <td>0</td>\n    </tr>\n    <tr>\n      <th>2</th>\n      <td>뭐야 이 평점들은.... 나쁘진 않지만 10점 짜리는 더더욱 아니잖아</td>\n      <td>0</td>\n    </tr>\n    <tr>\n      <th>3</th>\n      <td>지루하지는 않은데 완전 막장임... 돈주고 보기에는....</td>\n      <td>0</td>\n    </tr>\n    <tr>\n      <th>4</th>\n      <td>3D만 아니었어도 별 다섯 개 줬을텐데.. 왜 3D로 나와서 제 심기를 불편하게 하죠??</td>\n      <td>0</td>\n    </tr>\n  </tbody>\n</table>\n</div>"
     },
     "execution_count": 80,
     "metadata": {},
     "output_type": "execute_result"
    }
   ],
   "source": [
    "import pandas as pd\n",
    "reviewDF = pd.read_table(filename, usecols=[1, 2])\n",
    "reviewDF.head()"
   ],
   "metadata": {
    "collapsed": false,
    "ExecuteTime": {
     "end_time": "2024-03-31T05:09:47.084185700Z",
     "start_time": "2024-03-31T05:09:46.960705400Z"
    }
   },
   "id": "8d8fc497331ea240",
   "execution_count": 80
  },
  {
   "cell_type": "markdown",
   "source": [
    "# 2. 데이터 전처리 \n",
    "- 결측치, 중복 데이터\n",
    "- 분류이기 때문에 클래스 균형 맞는지 확인 \n",
    "- 텍스트 데이터 전처리 => 정제(불용어, 노이즈 제거), 토큰화, 2차 정제 => 단어사전 \n",
    "- 텍스트 데이터 인코딩\n",
    "- 텍스트 데이터 패딩"
   ],
   "metadata": {
    "collapsed": false
   },
   "id": "4ca503f04c2e33d2"
  },
  {
   "cell_type": "code",
   "outputs": [
    {
     "name": "stdout",
     "output_type": "stream",
     "text": [
      "<class 'pandas.core.frame.DataFrame'>\n",
      "RangeIndex: 49204 entries, 0 to 49203\n",
      "Data columns (total 2 columns):\n",
      " #   Column    Non-Null Count  Dtype \n",
      "---  ------    --------------  ----- \n",
      " 0   document  49204 non-null  object\n",
      " 1   label     49204 non-null  int64 \n",
      "dtypes: int64(1), object(1)\n",
      "memory usage: 768.9+ KB\n"
     ]
    }
   ],
   "source": [
    "testDF = drop_row(reviewDF)\n",
    "testDF.info()"
   ],
   "metadata": {
    "collapsed": false,
    "ExecuteTime": {
     "end_time": "2024-03-31T05:09:47.568571300Z",
     "start_time": "2024-03-31T05:09:47.484194900Z"
    }
   },
   "id": "c063ce70e2cce6ff",
   "execution_count": 81
  },
  {
   "cell_type": "code",
   "outputs": [
    {
     "data": {
      "text/plain": "label\n1    24734\n0    24470\nName: count, dtype: int64"
     },
     "execution_count": 82,
     "metadata": {},
     "output_type": "execute_result"
    }
   ],
   "source": [
    "# 클래스 균형 확인\n",
    "testDF[\"label\"].value_counts() # 이만하면 균형..."
   ],
   "metadata": {
    "collapsed": false,
    "ExecuteTime": {
     "end_time": "2024-03-31T05:09:47.858387Z",
     "start_time": "2024-03-31T05:09:47.809725Z"
    }
   },
   "id": "ddfaa7dd9a9a7dd",
   "execution_count": 82
  },
  {
   "cell_type": "code",
   "outputs": [],
   "source": [],
   "metadata": {
    "collapsed": false,
    "ExecuteTime": {
     "end_time": "2024-03-31T05:09:48.156361300Z",
     "start_time": "2024-03-31T05:09:48.114256500Z"
    }
   },
   "id": "f6a4e2eb844d75a9",
   "execution_count": 82
  },
  {
   "cell_type": "code",
   "outputs": [
    {
     "data": {
      "text/plain": "                                                document  label\n0                                                    굳 ㅋ      1\n1                                   GDNTOPCLASSINTHECLUB      0\n2                 뭐야 이 평점들은.... 나쁘진 않지만 10점 짜리는 더더욱 아니잖아      0\n3                       지루하지는 않은데 완전 막장임... 돈주고 보기에는....      0\n4      3D만 아니었어도 별 다섯 개 줬을텐데.. 왜 3D로 나와서 제 심기를 불편하게 하죠??      0\n...                                                  ...    ...\n49199          오랜만에 평점 로긴했네ㅋㅋ 킹왕짱 쌈뽕한 영화를 만났습니다 강렬하게 육쾌함      1\n49200       의지 박약들이나 하는거다 탈영은 일단 주인공 김대희 닮았고 이등병 찐따 OOOO      0\n49201                 그림도 좋고 완성도도 높았지만... 보는 내내 불안하게 만든다      0\n49202     절대 봐서는 안 될 영화.. 재미도 없고 기분만 잡치고.. 한 세트장에서 다 해먹네      0\n49203                                         마무리는 또 왜이래      0\n\n[49204 rows x 2 columns]",
      "text/html": "<div>\n<style scoped>\n    .dataframe tbody tr th:only-of-type {\n        vertical-align: middle;\n    }\n\n    .dataframe tbody tr th {\n        vertical-align: top;\n    }\n\n    .dataframe thead th {\n        text-align: right;\n    }\n</style>\n<table border=\"1\" class=\"dataframe\">\n  <thead>\n    <tr style=\"text-align: right;\">\n      <th></th>\n      <th>document</th>\n      <th>label</th>\n    </tr>\n  </thead>\n  <tbody>\n    <tr>\n      <th>0</th>\n      <td>굳 ㅋ</td>\n      <td>1</td>\n    </tr>\n    <tr>\n      <th>1</th>\n      <td>GDNTOPCLASSINTHECLUB</td>\n      <td>0</td>\n    </tr>\n    <tr>\n      <th>2</th>\n      <td>뭐야 이 평점들은.... 나쁘진 않지만 10점 짜리는 더더욱 아니잖아</td>\n      <td>0</td>\n    </tr>\n    <tr>\n      <th>3</th>\n      <td>지루하지는 않은데 완전 막장임... 돈주고 보기에는....</td>\n      <td>0</td>\n    </tr>\n    <tr>\n      <th>4</th>\n      <td>3D만 아니었어도 별 다섯 개 줬을텐데.. 왜 3D로 나와서 제 심기를 불편하게 하죠??</td>\n      <td>0</td>\n    </tr>\n    <tr>\n      <th>...</th>\n      <td>...</td>\n      <td>...</td>\n    </tr>\n    <tr>\n      <th>49199</th>\n      <td>오랜만에 평점 로긴했네ㅋㅋ 킹왕짱 쌈뽕한 영화를 만났습니다 강렬하게 육쾌함</td>\n      <td>1</td>\n    </tr>\n    <tr>\n      <th>49200</th>\n      <td>의지 박약들이나 하는거다 탈영은 일단 주인공 김대희 닮았고 이등병 찐따 OOOO</td>\n      <td>0</td>\n    </tr>\n    <tr>\n      <th>49201</th>\n      <td>그림도 좋고 완성도도 높았지만... 보는 내내 불안하게 만든다</td>\n      <td>0</td>\n    </tr>\n    <tr>\n      <th>49202</th>\n      <td>절대 봐서는 안 될 영화.. 재미도 없고 기분만 잡치고.. 한 세트장에서 다 해먹네</td>\n      <td>0</td>\n    </tr>\n    <tr>\n      <th>49203</th>\n      <td>마무리는 또 왜이래</td>\n      <td>0</td>\n    </tr>\n  </tbody>\n</table>\n<p>49204 rows × 2 columns</p>\n</div>"
     },
     "execution_count": 83,
     "metadata": {},
     "output_type": "execute_result"
    }
   ],
   "source": [
    "'''\n",
    "제거 대상\n",
    "-> 한글 빼고 다\n",
    "'''\n",
    "testDF"
   ],
   "metadata": {
    "collapsed": false,
    "ExecuteTime": {
     "end_time": "2024-03-31T05:09:48.427344800Z",
     "start_time": "2024-03-31T05:09:48.351761300Z"
    }
   },
   "id": "932611f13b625026",
   "execution_count": 83
  },
  {
   "cell_type": "code",
   "outputs": [],
   "source": [
    "# # 구두점 제거\n",
    "# import string, re\n",
    "# \n",
    "# punc = string.punctuation\n",
    "# \n",
    "# def remove_punctuation(text):\n",
    "#     # 정규 표현식을 사용하여 구두점 제거\n",
    "#     punctuation_pattern = '[' + re.escape(string.punctuation) + ']'\n",
    "#     text = re.sub(punctuation_pattern, '', text)\n",
    "#     return text\n",
    "# \n",
    "# # document 컬럼에 구두점 제거 함수 적용\n",
    "# documentDF['document'] = documentDF['document'].apply(remove_punctuation)\n",
    "# \n",
    "# # 결과 출력\n",
    "# print(documentDF)"
   ],
   "metadata": {
    "collapsed": false,
    "ExecuteTime": {
     "end_time": "2024-03-31T05:09:48.744168600Z",
     "start_time": "2024-03-31T05:09:48.714122800Z"
    }
   },
   "id": "4c010a57b840340c",
   "execution_count": 84
  },
  {
   "cell_type": "code",
   "outputs": [],
   "source": [
    "import string\n",
    "import re\n",
    "\n",
    "# stop_word = string.punctuation # 조사들 추가해야함\n",
    "hangule_pattern = \"[^ㄱ-ㅎㅏ-ㅣ가-힣 ]\" # 한글 및 공백만 남기기"
   ],
   "metadata": {
    "collapsed": false,
    "ExecuteTime": {
     "end_time": "2024-03-31T05:09:48.904044900Z",
     "start_time": "2024-03-31T05:09:48.868247100Z"
    }
   },
   "id": "4b12d2b12daa6c9e",
   "execution_count": 85
  },
  {
   "cell_type": "code",
   "outputs": [
    {
     "name": "stdout",
     "output_type": "stream",
     "text": [
      "공백발생! drop_row 필요\n",
      "공백발생! drop_row 필요\n",
      "공백발생! drop_row 필요\n",
      "공백발생! drop_row 필요\n",
      "공백발생! drop_row 필요\n",
      "공백발생! drop_row 필요\n",
      "공백발생! drop_row 필요\n",
      "공백발생! drop_row 필요\n",
      "공백발생! drop_row 필요\n",
      "공백발생! drop_row 필요\n",
      "공백발생! drop_row 필요\n",
      "공백발생! drop_row 필요\n",
      "공백발생! drop_row 필요\n",
      "공백발생! drop_row 필요\n",
      "공백발생! drop_row 필요\n",
      "공백발생! drop_row 필요\n",
      "공백발생! drop_row 필요\n",
      "공백발생! drop_row 필요\n",
      "공백발생! drop_row 필요\n",
      "공백발생! drop_row 필요\n",
      "공백발생! drop_row 필요\n",
      "공백발생! drop_row 필요\n",
      "공백발생! drop_row 필요\n",
      "공백발생! drop_row 필요\n",
      "공백발생! drop_row 필요\n",
      "공백발생! drop_row 필요\n",
      "공백발생! drop_row 필요\n",
      "공백발생! drop_row 필요\n",
      "공백발생! drop_row 필요\n",
      "공백발생! drop_row 필요\n",
      "공백발생! drop_row 필요\n",
      "공백발생! drop_row 필요\n",
      "공백발생! drop_row 필요\n",
      "공백발생! drop_row 필요\n",
      "공백발생! drop_row 필요\n",
      "공백발생! drop_row 필요\n",
      "공백발생! drop_row 필요\n",
      "공백발생! drop_row 필요\n",
      "공백발생! drop_row 필요\n",
      "공백발생! drop_row 필요\n",
      "공백발생! drop_row 필요\n",
      "공백발생! drop_row 필요\n",
      "공백발생! drop_row 필요\n",
      "공백발생! drop_row 필요\n",
      "공백발생! drop_row 필요\n",
      "공백발생! drop_row 필요\n",
      "공백발생! drop_row 필요\n",
      "공백발생! drop_row 필요\n",
      "공백발생! drop_row 필요\n",
      "공백발생! drop_row 필요\n",
      "공백발생! drop_row 필요\n",
      "공백발생! drop_row 필요\n",
      "공백발생! drop_row 필요\n",
      "공백발생! drop_row 필요\n",
      "공백발생! drop_row 필요\n",
      "공백발생! drop_row 필요\n",
      "공백발생! drop_row 필요\n",
      "공백발생! drop_row 필요\n",
      "공백발생! drop_row 필요\n",
      "공백발생! drop_row 필요\n",
      "공백발생! drop_row 필요\n",
      "공백발생! drop_row 필요\n",
      "공백발생! drop_row 필요\n",
      "공백발생! drop_row 필요\n",
      "공백발생! drop_row 필요\n",
      "공백발생! drop_row 필요\n",
      "공백발생! drop_row 필요\n",
      "공백발생! drop_row 필요\n",
      "공백발생! drop_row 필요\n",
      "공백발생! drop_row 필요\n",
      "공백발생! drop_row 필요\n",
      "공백발생! drop_row 필요\n",
      "공백발생! drop_row 필요\n",
      "공백발생! drop_row 필요\n",
      "공백발생! drop_row 필요\n",
      "공백발생! drop_row 필요\n",
      "공백발생! drop_row 필요\n",
      "공백발생! drop_row 필요\n",
      "공백발생! drop_row 필요\n",
      "공백발생! drop_row 필요\n",
      "공백발생! drop_row 필요\n",
      "공백발생! drop_row 필요\n",
      "공백발생! drop_row 필요\n",
      "공백발생! drop_row 필요\n",
      "공백발생! drop_row 필요\n",
      "공백발생! drop_row 필요\n",
      "공백발생! drop_row 필요\n",
      "공백발생! drop_row 필요\n",
      "공백발생! drop_row 필요\n",
      "공백발생! drop_row 필요\n",
      "공백발생! drop_row 필요\n",
      "공백발생! drop_row 필요\n",
      "공백발생! drop_row 필요\n",
      "공백발생! drop_row 필요\n",
      "공백발생! drop_row 필요\n",
      "공백발생! drop_row 필요\n",
      "공백발생! drop_row 필요\n",
      "공백발생! drop_row 필요\n",
      "공백발생! drop_row 필요\n",
      "공백발생! drop_row 필요\n",
      "공백발생! drop_row 필요\n",
      "공백발생! drop_row 필요\n",
      "공백발생! drop_row 필요\n",
      "공백발생! drop_row 필요\n",
      "공백발생! drop_row 필요\n",
      "공백발생! drop_row 필요\n",
      "공백발생! drop_row 필요\n",
      "공백발생! drop_row 필요\n",
      "공백발생! drop_row 필요\n",
      "공백발생! drop_row 필요\n",
      "공백발생! drop_row 필요\n",
      "공백발생! drop_row 필요\n",
      "공백발생! drop_row 필요\n",
      "공백발생! drop_row 필요\n",
      "공백발생! drop_row 필요\n",
      "공백발생! drop_row 필요\n",
      "공백발생! drop_row 필요\n",
      "공백발생! drop_row 필요\n",
      "공백발생! drop_row 필요\n",
      "공백발생! drop_row 필요\n",
      "공백발생! drop_row 필요\n",
      "공백발생! drop_row 필요\n",
      "공백발생! drop_row 필요\n",
      "공백발생! drop_row 필요\n",
      "공백발생! drop_row 필요\n",
      "공백발생! drop_row 필요\n",
      "공백발생! drop_row 필요\n",
      "공백발생! drop_row 필요\n",
      "공백발생! drop_row 필요\n",
      "공백발생! drop_row 필요\n",
      "공백발생! drop_row 필요\n",
      "공백발생! drop_row 필요\n",
      "공백발생! drop_row 필요\n",
      "공백발생! drop_row 필요\n",
      "공백발생! drop_row 필요\n",
      "공백발생! drop_row 필요\n",
      "공백발생! drop_row 필요\n",
      "공백발생! drop_row 필요\n",
      "공백발생! drop_row 필요\n",
      "공백발생! drop_row 필요\n",
      "공백발생! drop_row 필요\n",
      "공백발생! drop_row 필요\n",
      "공백발생! drop_row 필요\n",
      "공백발생! drop_row 필요\n",
      "공백발생! drop_row 필요\n",
      "공백발생! drop_row 필요\n",
      "공백발생! drop_row 필요\n",
      "공백발생! drop_row 필요\n",
      "공백발생! drop_row 필요\n",
      "공백발생! drop_row 필요\n",
      "공백발생! drop_row 필요\n",
      "공백발생! drop_row 필요\n",
      "공백발생! drop_row 필요\n",
      "공백발생! drop_row 필요\n",
      "공백발생! drop_row 필요\n",
      "공백발생! drop_row 필요\n",
      "공백발생! drop_row 필요\n",
      "공백발생! drop_row 필요\n",
      "공백발생! drop_row 필요\n",
      "공백발생! drop_row 필요\n",
      "공백발생! drop_row 필요\n",
      "공백발생! drop_row 필요\n",
      "공백발생! drop_row 필요\n",
      "공백발생! drop_row 필요\n",
      "공백발생! drop_row 필요\n",
      "공백발생! drop_row 필요\n",
      "공백발생! drop_row 필요\n",
      "공백발생! drop_row 필요\n",
      "공백발생! drop_row 필요\n",
      "공백발생! drop_row 필요\n"
     ]
    },
    {
     "data": {
      "text/plain": "                                         document  label\n0                                             굳 ㅋ      1\n1                                             NaN      0\n2                뭐야 이 평점들은 나쁘진 않지만 점 짜리는 더더욱 아니잖아      0\n3                       지루하지는 않은데 완전 막장임 돈주고 보기에는      0\n4       만 아니었어도 별 다섯 개 줬을텐데 왜 로 나와서 제 심기를 불편하게 하죠      0\n...                                           ...    ...\n49199   오랜만에 평점 로긴했네ㅋㅋ 킹왕짱 쌈뽕한 영화를 만났습니다 강렬하게 육쾌함      1\n49200    의지 박약들이나 하는거다 탈영은 일단 주인공 김대희 닮았고 이등병 찐따       0\n49201             그림도 좋고 완성도도 높았지만 보는 내내 불안하게 만든다      0\n49202  절대 봐서는 안 될 영화 재미도 없고 기분만 잡치고 한 세트장에서 다 해먹네      0\n49203                                  마무리는 또 왜이래      0\n\n[49204 rows x 2 columns]",
      "text/html": "<div>\n<style scoped>\n    .dataframe tbody tr th:only-of-type {\n        vertical-align: middle;\n    }\n\n    .dataframe tbody tr th {\n        vertical-align: top;\n    }\n\n    .dataframe thead th {\n        text-align: right;\n    }\n</style>\n<table border=\"1\" class=\"dataframe\">\n  <thead>\n    <tr style=\"text-align: right;\">\n      <th></th>\n      <th>document</th>\n      <th>label</th>\n    </tr>\n  </thead>\n  <tbody>\n    <tr>\n      <th>0</th>\n      <td>굳 ㅋ</td>\n      <td>1</td>\n    </tr>\n    <tr>\n      <th>1</th>\n      <td>NaN</td>\n      <td>0</td>\n    </tr>\n    <tr>\n      <th>2</th>\n      <td>뭐야 이 평점들은 나쁘진 않지만 점 짜리는 더더욱 아니잖아</td>\n      <td>0</td>\n    </tr>\n    <tr>\n      <th>3</th>\n      <td>지루하지는 않은데 완전 막장임 돈주고 보기에는</td>\n      <td>0</td>\n    </tr>\n    <tr>\n      <th>4</th>\n      <td>만 아니었어도 별 다섯 개 줬을텐데 왜 로 나와서 제 심기를 불편하게 하죠</td>\n      <td>0</td>\n    </tr>\n    <tr>\n      <th>...</th>\n      <td>...</td>\n      <td>...</td>\n    </tr>\n    <tr>\n      <th>49199</th>\n      <td>오랜만에 평점 로긴했네ㅋㅋ 킹왕짱 쌈뽕한 영화를 만났습니다 강렬하게 육쾌함</td>\n      <td>1</td>\n    </tr>\n    <tr>\n      <th>49200</th>\n      <td>의지 박약들이나 하는거다 탈영은 일단 주인공 김대희 닮았고 이등병 찐따</td>\n      <td>0</td>\n    </tr>\n    <tr>\n      <th>49201</th>\n      <td>그림도 좋고 완성도도 높았지만 보는 내내 불안하게 만든다</td>\n      <td>0</td>\n    </tr>\n    <tr>\n      <th>49202</th>\n      <td>절대 봐서는 안 될 영화 재미도 없고 기분만 잡치고 한 세트장에서 다 해먹네</td>\n      <td>0</td>\n    </tr>\n    <tr>\n      <th>49203</th>\n      <td>마무리는 또 왜이래</td>\n      <td>0</td>\n    </tr>\n  </tbody>\n</table>\n<p>49204 rows × 2 columns</p>\n</div>"
     },
     "execution_count": 86,
     "metadata": {},
     "output_type": "execute_result"
    }
   ],
   "source": [
    "testDF[\"document\"] = testDF[\"document\"].apply(lambda x: regex_processing(x, hangule_pattern))\n",
    "\n",
    "testDF"
   ],
   "metadata": {
    "collapsed": false,
    "ExecuteTime": {
     "end_time": "2024-03-31T05:09:49.602557900Z",
     "start_time": "2024-03-31T05:09:49.452813900Z"
    }
   },
   "id": "652befe280b7e23f",
   "execution_count": 86
  },
  {
   "cell_type": "code",
   "outputs": [
    {
     "name": "stdout",
     "output_type": "stream",
     "text": [
      "document    0\n",
      "label       0\n",
      "dtype: int64\n"
     ]
    },
    {
     "data": {
      "text/plain": "                                         document  label\n0                                             굳 ㅋ      1\n1                뭐야 이 평점들은 나쁘진 않지만 점 짜리는 더더욱 아니잖아      0\n2                       지루하지는 않은데 완전 막장임 돈주고 보기에는      0\n3       만 아니었어도 별 다섯 개 줬을텐데 왜 로 나와서 제 심기를 불편하게 하죠      0\n4                               음악이 주가 된 최고의 음악영화      1\n...                                           ...    ...\n48482   오랜만에 평점 로긴했네ㅋㅋ 킹왕짱 쌈뽕한 영화를 만났습니다 강렬하게 육쾌함      1\n48483    의지 박약들이나 하는거다 탈영은 일단 주인공 김대희 닮았고 이등병 찐따       0\n48484             그림도 좋고 완성도도 높았지만 보는 내내 불안하게 만든다      0\n48485  절대 봐서는 안 될 영화 재미도 없고 기분만 잡치고 한 세트장에서 다 해먹네      0\n48486                                  마무리는 또 왜이래      0\n\n[48487 rows x 2 columns]",
      "text/html": "<div>\n<style scoped>\n    .dataframe tbody tr th:only-of-type {\n        vertical-align: middle;\n    }\n\n    .dataframe tbody tr th {\n        vertical-align: top;\n    }\n\n    .dataframe thead th {\n        text-align: right;\n    }\n</style>\n<table border=\"1\" class=\"dataframe\">\n  <thead>\n    <tr style=\"text-align: right;\">\n      <th></th>\n      <th>document</th>\n      <th>label</th>\n    </tr>\n  </thead>\n  <tbody>\n    <tr>\n      <th>0</th>\n      <td>굳 ㅋ</td>\n      <td>1</td>\n    </tr>\n    <tr>\n      <th>1</th>\n      <td>뭐야 이 평점들은 나쁘진 않지만 점 짜리는 더더욱 아니잖아</td>\n      <td>0</td>\n    </tr>\n    <tr>\n      <th>2</th>\n      <td>지루하지는 않은데 완전 막장임 돈주고 보기에는</td>\n      <td>0</td>\n    </tr>\n    <tr>\n      <th>3</th>\n      <td>만 아니었어도 별 다섯 개 줬을텐데 왜 로 나와서 제 심기를 불편하게 하죠</td>\n      <td>0</td>\n    </tr>\n    <tr>\n      <th>4</th>\n      <td>음악이 주가 된 최고의 음악영화</td>\n      <td>1</td>\n    </tr>\n    <tr>\n      <th>...</th>\n      <td>...</td>\n      <td>...</td>\n    </tr>\n    <tr>\n      <th>48482</th>\n      <td>오랜만에 평점 로긴했네ㅋㅋ 킹왕짱 쌈뽕한 영화를 만났습니다 강렬하게 육쾌함</td>\n      <td>1</td>\n    </tr>\n    <tr>\n      <th>48483</th>\n      <td>의지 박약들이나 하는거다 탈영은 일단 주인공 김대희 닮았고 이등병 찐따</td>\n      <td>0</td>\n    </tr>\n    <tr>\n      <th>48484</th>\n      <td>그림도 좋고 완성도도 높았지만 보는 내내 불안하게 만든다</td>\n      <td>0</td>\n    </tr>\n    <tr>\n      <th>48485</th>\n      <td>절대 봐서는 안 될 영화 재미도 없고 기분만 잡치고 한 세트장에서 다 해먹네</td>\n      <td>0</td>\n    </tr>\n    <tr>\n      <th>48486</th>\n      <td>마무리는 또 왜이래</td>\n      <td>0</td>\n    </tr>\n  </tbody>\n</table>\n<p>48487 rows × 2 columns</p>\n</div>"
     },
     "execution_count": 92,
     "metadata": {},
     "output_type": "execute_result"
    }
   ],
   "source": [
    "testDF = drop_row(testDF)\n",
    "print(testDF.isnull().sum())\n",
    "testDF"
   ],
   "metadata": {
    "collapsed": false,
    "ExecuteTime": {
     "end_time": "2024-03-31T05:13:59.062812300Z",
     "start_time": "2024-03-31T05:13:58.972786300Z"
    }
   },
   "id": "9458f136defbb062",
   "execution_count": 92
  },
  {
   "cell_type": "code",
   "outputs": [
    {
     "name": "stdout",
     "output_type": "stream",
     "text": [
      "documentDF.shape: (48487, 1)\n",
      "targetSR.shape: (48487,)\n"
     ]
    }
   ],
   "source": [
    "# 피쳐와 레이블 분리\n",
    "documentDF = testDF[\"document\"].to_frame()\n",
    "labelSR = testDF[\"label\"]\n",
    "\n",
    "print(f\"documentDF.shape: {documentDF.shape}\")\n",
    "print(f\"targetSR.shape: {labelSR.shape}\")"
   ],
   "metadata": {
    "collapsed": false,
    "ExecuteTime": {
     "end_time": "2024-03-31T05:16:29.464372900Z",
     "start_time": "2024-03-31T05:16:29.414431Z"
    }
   },
   "id": "42b1a0867f9aad23",
   "execution_count": 93
  },
  {
   "cell_type": "markdown",
   "source": [
    "https://gist.githubusercontent.com/chulgil/d10b18575a73778da4bc83853385465c/raw/a1a451421097fa9a93179cb1f1f0dc392f1f9da9/stopwords.txt\n",
    "\n",
    "stopword 파일로 저장하기"
   ],
   "metadata": {
    "collapsed": false
   },
   "id": "8966ace52ec2e69b"
  },
  {
   "cell_type": "code",
   "outputs": [],
   "source": [
    "hangul_stopword = \"https://gist.githubusercontent.com/chulgil/d10b18575a73778da4bc83853385465c/raw/a1a451421097fa9a93179cb1f1f0dc392f1f9da9/stopwords.txt\""
   ],
   "metadata": {
    "collapsed": false,
    "ExecuteTime": {
     "end_time": "2024-03-29T07:11:13.726231100Z",
     "start_time": "2024-03-29T07:11:13.692986400Z"
    }
   },
   "id": "c936b36d6913c80d",
   "execution_count": 173
  },
  {
   "cell_type": "code",
   "outputs": [
    {
     "data": {
      "text/plain": "('../data/stop_word.txt', <http.client.HTTPMessage at 0x18c101feca0>)"
     },
     "execution_count": 174,
     "metadata": {},
     "output_type": "execute_result"
    }
   ],
   "source": [
    "urlretrieve(hangul_stopword, \"../data/stop_word.txt\")"
   ],
   "metadata": {
    "collapsed": false,
    "ExecuteTime": {
     "end_time": "2024-03-29T07:11:14.549770700Z",
     "start_time": "2024-03-29T07:11:14.383699Z"
    }
   },
   "id": "20372d8e4254efcf",
   "execution_count": 174
  },
  {
   "cell_type": "code",
   "outputs": [],
   "source": [
    "# 토큰 나누기\n",
    "# 오크, 키위, 뽀로로...\n",
    "from konlpy.tag import Okt\n",
    "\n",
    "# 형태소 분석기 인스턴스 생성\n",
    "Okt = Okt()\n",
    "\n",
    "# 문장 합치기 (반복문 / 파일에 다 쓰기 ... 뭐 아무렇게나 통으로 -> 왜? Okt가 str외에 다른 형태는 안받음)\n",
    "documentDF[\"tokened_document\"] = documentDF[\"document\"].apply(lambda x: Okt.morphs(x))\n",
    "\n",
    "# vocab = {}\n",
    "# for idx in range(documentDF.shape[0]):\n",
    "#     result = Komo.morphs(documentDF.iloc[idx][0])\n",
    "#     for word in result:\n",
    "#         if len(word) >= 2:\n",
    "#             if word in vocab.keys():\n",
    "#                 vocab[word] += 1\n",
    "#             else:\n",
    "#                 vocab[word] = 1\n",
    "# print(vocab)"
   ],
   "metadata": {
    "collapsed": false,
    "ExecuteTime": {
     "end_time": "2024-03-31T05:41:45.364019900Z",
     "start_time": "2024-03-31T05:40:16.395166Z"
    }
   },
   "id": "96ab0ab76cb11e88",
   "execution_count": 104
  },
  {
   "cell_type": "code",
   "outputs": [
    {
     "data": {
      "text/plain": "                                         document  \\\n0                                             굳 ㅋ   \n1                뭐야 이 평점들은 나쁘진 않지만 점 짜리는 더더욱 아니잖아   \n2                       지루하지는 않은데 완전 막장임 돈주고 보기에는   \n3       만 아니었어도 별 다섯 개 줬을텐데 왜 로 나와서 제 심기를 불편하게 하죠   \n4                               음악이 주가 된 최고의 음악영화   \n...                                           ...   \n48482   오랜만에 평점 로긴했네ㅋㅋ 킹왕짱 쌈뽕한 영화를 만났습니다 강렬하게 육쾌함   \n48483    의지 박약들이나 하는거다 탈영은 일단 주인공 김대희 닮았고 이등병 찐따    \n48484             그림도 좋고 완성도도 높았지만 보는 내내 불안하게 만든다   \n48485  절대 봐서는 안 될 영화 재미도 없고 기분만 잡치고 한 세트장에서 다 해먹네   \n48486                                  마무리는 또 왜이래   \n\n                                        tokened_document  \n0                                                 [굳, ㅋ]  \n1      [뭐, 야, 이, 평점, 들, 은, 나쁘진, 않지만, 점, 짜, 리, 는, 더, 더...  \n2                 [지루하지는, 않은데, 완전, 막장, 임, 돈, 주고, 보기, 에는]  \n3      [만, 아니었어도, 별, 다섯, 개, 줬을텐데, 왜, 로, 나와서, 제, 심기, 를...  \n4                          [음악, 이, 주가, 된, 최고, 의, 음악, 영화]  \n...                                                  ...  \n48482  [오랜, 만, 에, 평점, 로, 긴, 했네, ㅋㅋ, 킹왕짱, 쌈뽕, 한, 영화, 를...  \n48483  [의지, 박약, 들, 이나, 하는거다, 탈영, 은, 일단, 주인공, 김대희, 닮았고...  \n48484       [그림, 도, 좋고, 완성, 도도, 높았지만, 보는, 내내, 불안하게, 만든다]  \n48485  [절대, 봐, 서는, 안, 될, 영화, 재미, 도, 없고, 기분, 만, 잡, 치고,...  \n48486                                 [마무리, 는, 또, 왜, 이래]  \n\n[48487 rows x 2 columns]",
      "text/html": "<div>\n<style scoped>\n    .dataframe tbody tr th:only-of-type {\n        vertical-align: middle;\n    }\n\n    .dataframe tbody tr th {\n        vertical-align: top;\n    }\n\n    .dataframe thead th {\n        text-align: right;\n    }\n</style>\n<table border=\"1\" class=\"dataframe\">\n  <thead>\n    <tr style=\"text-align: right;\">\n      <th></th>\n      <th>document</th>\n      <th>tokened_document</th>\n    </tr>\n  </thead>\n  <tbody>\n    <tr>\n      <th>0</th>\n      <td>굳 ㅋ</td>\n      <td>[굳, ㅋ]</td>\n    </tr>\n    <tr>\n      <th>1</th>\n      <td>뭐야 이 평점들은 나쁘진 않지만 점 짜리는 더더욱 아니잖아</td>\n      <td>[뭐, 야, 이, 평점, 들, 은, 나쁘진, 않지만, 점, 짜, 리, 는, 더, 더...</td>\n    </tr>\n    <tr>\n      <th>2</th>\n      <td>지루하지는 않은데 완전 막장임 돈주고 보기에는</td>\n      <td>[지루하지는, 않은데, 완전, 막장, 임, 돈, 주고, 보기, 에는]</td>\n    </tr>\n    <tr>\n      <th>3</th>\n      <td>만 아니었어도 별 다섯 개 줬을텐데 왜 로 나와서 제 심기를 불편하게 하죠</td>\n      <td>[만, 아니었어도, 별, 다섯, 개, 줬을텐데, 왜, 로, 나와서, 제, 심기, 를...</td>\n    </tr>\n    <tr>\n      <th>4</th>\n      <td>음악이 주가 된 최고의 음악영화</td>\n      <td>[음악, 이, 주가, 된, 최고, 의, 음악, 영화]</td>\n    </tr>\n    <tr>\n      <th>...</th>\n      <td>...</td>\n      <td>...</td>\n    </tr>\n    <tr>\n      <th>48482</th>\n      <td>오랜만에 평점 로긴했네ㅋㅋ 킹왕짱 쌈뽕한 영화를 만났습니다 강렬하게 육쾌함</td>\n      <td>[오랜, 만, 에, 평점, 로, 긴, 했네, ㅋㅋ, 킹왕짱, 쌈뽕, 한, 영화, 를...</td>\n    </tr>\n    <tr>\n      <th>48483</th>\n      <td>의지 박약들이나 하는거다 탈영은 일단 주인공 김대희 닮았고 이등병 찐따</td>\n      <td>[의지, 박약, 들, 이나, 하는거다, 탈영, 은, 일단, 주인공, 김대희, 닮았고...</td>\n    </tr>\n    <tr>\n      <th>48484</th>\n      <td>그림도 좋고 완성도도 높았지만 보는 내내 불안하게 만든다</td>\n      <td>[그림, 도, 좋고, 완성, 도도, 높았지만, 보는, 내내, 불안하게, 만든다]</td>\n    </tr>\n    <tr>\n      <th>48485</th>\n      <td>절대 봐서는 안 될 영화 재미도 없고 기분만 잡치고 한 세트장에서 다 해먹네</td>\n      <td>[절대, 봐, 서는, 안, 될, 영화, 재미, 도, 없고, 기분, 만, 잡, 치고,...</td>\n    </tr>\n    <tr>\n      <th>48486</th>\n      <td>마무리는 또 왜이래</td>\n      <td>[마무리, 는, 또, 왜, 이래]</td>\n    </tr>\n  </tbody>\n</table>\n<p>48487 rows × 2 columns</p>\n</div>"
     },
     "execution_count": 116,
     "metadata": {},
     "output_type": "execute_result"
    }
   ],
   "source": [
    "documentDF"
   ],
   "metadata": {
    "collapsed": false,
    "ExecuteTime": {
     "end_time": "2024-03-31T05:52:45.771831100Z",
     "start_time": "2024-03-31T05:52:45.712666700Z"
    }
   },
   "id": "efdffe00b9f278bc",
   "execution_count": 116
  },
  {
   "cell_type": "code",
   "outputs": [
    {
     "name": "stdout",
     "output_type": "stream",
     "text": [
      "[('음악', 2), ('이', 1), ('주가', 1), ('된', 1), ('최고', 1), ('의', 1), ('영화', 1)]\n"
     ]
    }
   ],
   "source": [
    "from collections import Counter\n",
    "\n",
    "tokens = documentDF['tokened_document'][4]\n",
    "\n",
    "vocab = Counter(tokens)\n",
    "vocab = vocab.most_common()\n",
    "\n",
    "print(vocab)\n"
   ],
   "metadata": {
    "collapsed": false,
    "ExecuteTime": {
     "end_time": "2024-03-31T05:41:53.917598800Z",
     "start_time": "2024-03-31T05:41:53.860765700Z"
    }
   },
   "id": "be569d6b0f832e9e",
   "execution_count": 105
  },
  {
   "cell_type": "code",
   "outputs": [
    {
     "name": "stdout",
     "output_type": "stream",
     "text": [
      "{'음악': 1, '이': 2, '주가': 3, '된': 4, '최고': 5, '의': 6, '영화': 7}\n"
     ]
    }
   ],
   "source": [
    "# 정수 인코딩\n",
    "word_to_idx = {}\n",
    "i = 0\n",
    "\n",
    "for (word, frequency) in vocab:\n",
    "    i = i + 1\n",
    "    word_to_idx[word] = i\n",
    "\n",
    "print(word_to_idx)"
   ],
   "metadata": {
    "collapsed": false,
    "ExecuteTime": {
     "end_time": "2024-03-31T05:46:02.049324800Z",
     "start_time": "2024-03-31T05:46:01.995894700Z"
    }
   },
   "id": "f765bca0ce88cc3",
   "execution_count": 107
  },
  {
   "cell_type": "code",
   "outputs": [
    {
     "name": "stdout",
     "output_type": "stream",
     "text": [
      "[1, 2, 3, 4, 5, 6, 1, 7]\n"
     ]
    }
   ],
   "source": [
    "encoded_idx = []\n",
    "\n",
    "for token in tokens:\n",
    "    idx = word_to_idx[token]\n",
    "    encoded_idx.append(idx)\n",
    "\n",
    "print(encoded_idx)"
   ],
   "metadata": {
    "collapsed": false,
    "ExecuteTime": {
     "end_time": "2024-03-31T05:46:52.190099600Z",
     "start_time": "2024-03-31T05:46:52.152968100Z"
    }
   },
   "id": "7c6b51717f06d55c",
   "execution_count": 109
  },
  {
   "cell_type": "markdown",
   "source": [
    "## 전체 데이터에 대해서 토큰화하기"
   ],
   "metadata": {
    "collapsed": false
   },
   "id": "b3a74ca3a301af96"
  },
  {
   "cell_type": "code",
   "outputs": [],
   "source": [
    "tokens = sum(documentDF[\"tokened_document\"], [])"
   ],
   "metadata": {
    "collapsed": false,
    "ExecuteTime": {
     "end_time": "2024-03-31T06:35:19.060618500Z",
     "start_time": "2024-03-31T06:31:48.848706900Z"
    }
   },
   "id": "8b2910f2f96dd65b",
   "execution_count": 155
  },
  {
   "cell_type": "code",
   "outputs": [
    {
     "data": {
      "text/plain": "(list, 638532)"
     },
     "execution_count": 156,
     "metadata": {},
     "output_type": "execute_result"
    }
   ],
   "source": [
    "type(tokens), len(tokens)"
   ],
   "metadata": {
    "collapsed": false,
    "ExecuteTime": {
     "end_time": "2024-03-31T06:35:19.140537800Z",
     "start_time": "2024-03-31T06:35:19.066317100Z"
    }
   },
   "id": "af4dca241fe408a4",
   "execution_count": 156
  },
  {
   "cell_type": "code",
   "outputs": [
    {
     "data": {
      "text/plain": "(list, 582355)"
     },
     "execution_count": 157,
     "metadata": {},
     "output_type": "execute_result"
    }
   ],
   "source": [
    "# 등장 빈도가 3회 이하면 자르기\n",
    "tokens1 = clean_by_freq(tokens, 3)\n",
    "type(tokens1), len(tokens1)"
   ],
   "metadata": {
    "collapsed": false,
    "ExecuteTime": {
     "end_time": "2024-03-31T06:35:19.386864900Z",
     "start_time": "2024-03-31T06:35:19.143690400Z"
    }
   },
   "id": "e5bc9217aad0edfb",
   "execution_count": 157
  },
  {
   "cell_type": "code",
   "outputs": [
    {
     "data": {
      "text/plain": "(list, 368056)"
     },
     "execution_count": 161,
     "metadata": {},
     "output_type": "execute_result"
    }
   ],
   "source": [
    "# 길이가 1이면 자르기\n",
    "tokens1 = clean_by_len(tokens1, 1)\n",
    "type(tokens1), len(tokens1)"
   ],
   "metadata": {
    "collapsed": false,
    "ExecuteTime": {
     "end_time": "2024-03-31T06:36:45.079654100Z",
     "start_time": "2024-03-31T06:36:44.953036700Z"
    }
   },
   "id": "4da48835a5b9bc3",
   "execution_count": 161
  },
  {
   "cell_type": "code",
   "outputs": [
    {
     "data": {
      "text/plain": "(list, 341686)"
     },
     "execution_count": 164,
     "metadata": {},
     "output_type": "execute_result"
    }
   ],
   "source": [
    "tokens1 = clean_by_stopwords(tokens1) # 두번째 인자 안주면 그냥 default\n",
    "type(tokens1), len(tokens1)"
   ],
   "metadata": {
    "collapsed": false,
    "ExecuteTime": {
     "end_time": "2024-03-31T06:37:51.592986500Z",
     "start_time": "2024-03-31T06:37:51.511528700Z"
    }
   },
   "id": "88891f51f2794265",
   "execution_count": 164
  },
  {
   "cell_type": "markdown",
   "source": [
    "# 3. 데이터셋용 단어사전/어휘사전 생성\n",
    "- 최종 사용할 단어 수\n",
    "- 특별한 의미의 문자 추가 : \"<UNK>\", \"<PAD>\""
   ],
   "metadata": {
    "collapsed": false
   },
   "id": "94bfeecb1d81fd3c"
  },
  {
   "cell_type": "code",
   "outputs": [],
   "source": [
    "VOCAB_DICT = {\"<UNK>\":0,\n",
    "              \"<PAD>\":1}\n",
    "i = 2\n",
    "\n",
    "vocab = Counter(tokens1) \n",
    "vocab = vocab.most_common() # 정렬\n",
    "\n",
    "for (word, frequency) in vocab:\n",
    "    VOCAB_DICT[word] = i\n",
    "    i = i + 1"
   ],
   "metadata": {
    "collapsed": false,
    "ExecuteTime": {
     "end_time": "2024-03-31T06:38:11.305331600Z",
     "start_time": "2024-03-31T06:38:11.215009400Z"
    }
   },
   "id": "98f6838bf0fe97af",
   "execution_count": 165
  },
  {
   "cell_type": "code",
   "outputs": [
    {
     "data": {
      "text/plain": "{'<UNK>': 0,\n '<PAD>': 1,\n '영화': 2,\n '너무': 3,\n '정말': 4,\n '진짜': 5,\n '평점': 6,\n '연기': 7,\n '최고': 8,\n '생각': 9,\n '스토리': 10,\n '이다': 11,\n '사람': 12,\n '드라마': 13,\n '감동': 14,\n '하는': 15,\n '보고': 16,\n '하고': 17,\n '감독': 18,\n '배우': 19,\n 'ㅋㅋ': 20,\n '그냥': 21,\n '내용': 22,\n '재미': 23,\n '보다': 24,\n '없는': 25,\n '봤는데': 26,\n '쓰레기': 27,\n '사랑': 28,\n '작품': 29,\n '다시': 30,\n '없다': 31,\n '마지막': 32,\n 'ㅠㅠ': 33,\n '이건': 34,\n '같은': 35,\n '정도': 36,\n '있는': 37,\n '처음': 38,\n '좋은': 39,\n '완전': 40,\n '장면': 41,\n '주인공': 42,\n 'ㅋㅋㅋ': 43,\n '이렇게': 44,\n '액션': 45,\n '입니다': 46,\n '보는': 47,\n '최악': 48,\n '이야기': 49,\n '지금': 50,\n 'ㅡㅡ': 51,\n '연출': 52,\n '없고': 53,\n '느낌': 54,\n '봐도': 55,\n '인데': 56,\n '별로': 57,\n '재밌게': 58,\n '역시': 59,\n '많이': 60,\n '명작': 61,\n '이해': 62,\n '라고': 63,\n '때문': 64,\n '이영화': 65,\n '여자': 66,\n '해서': 67,\n '보면': 68,\n '보기': 69,\n '인생': 70,\n '이나': 71,\n '이고': 72,\n '수준': 73,\n '기억': 74,\n '마음': 75,\n '결말': 76,\n '아깝다': 77,\n 'ㅎㅎ': 78,\n '반전': 79,\n '한번': 80,\n '현실': 81,\n '매력': 82,\n '가슴': 83,\n '한다': 84,\n '소재': 85,\n '하게': 86,\n '없이': 87,\n '남자': 88,\n '한국': 89,\n '라는': 90,\n '인간': 91,\n '전개': 92,\n '되는': 93,\n '만든': 94,\n '눈물': 95,\n '추천': 96,\n '자체': 97,\n '봤다': 98,\n '모든': 99,\n '가장': 100,\n '음악': 101,\n '모습': 102,\n '않고': 103,\n '인가': 104,\n '합니다': 105,\n '하지': 106,\n '계속': 107,\n '코미디': 108,\n '캐릭터': 109,\n '인지': 110,\n '시리즈': 111,\n '실망': 112,\n '대한': 113,\n '에는': 114,\n '이제': 115,\n '원작': 116,\n '연기력': 117,\n '좋다': 118,\n '개봉': 119,\n '처럼': 120,\n '솔직히': 121,\n '표현': 122,\n '중간': 123,\n '뭔가': 124,\n '기대': 125,\n 'ㅋㅋㅋㅋ': 126,\n '진심': 127,\n '하면': 128,\n '이라': 129,\n '여운': 130,\n '이네': 131,\n '부분': 132,\n '공감': 133,\n '했다': 134,\n '일본': 135,\n '기분': 136,\n '였다': 137,\n 'ㅜㅜ': 138,\n '대박': 139,\n '많은': 140,\n '나오는': 141,\n '아주': 142,\n '전혀': 143,\n '보지': 144,\n '가족': 145,\n '근데': 146,\n '영상': 147,\n '이랑': 148,\n '그런': 149,\n '제목': 150,\n '이라는': 151,\n '내내': 152,\n '없음': 153,\n '아니라': 154,\n '아닌': 155,\n '봤습니다': 156,\n '좋고': 157,\n '대사': 158,\n '아니다': 159,\n '건지': 160,\n '했는데': 161,\n '아니고': 162,\n '공포': 163,\n '애니': 164,\n '극장': 165,\n '요즘': 166,\n '몰입': 167,\n '재밌다': 168,\n '재미있게': 169,\n '특히': 170,\n '밖에': 171,\n '하다': 172,\n '작가': 173,\n '긴장감': 174,\n '나름': 175,\n '점도': 176,\n '보면서': 177,\n '재미없다': 178,\n '이란': 179,\n '않는': 180,\n '에도': 181,\n '한테': 182,\n '않은': 183,\n '의미': 184,\n '노래': 185,\n '오랜': 186,\n '친구': 187,\n '이지': 188,\n '시작': 189,\n '이유': 190,\n '해도': 191,\n '만드는': 192,\n '개인': 193,\n '노잼': 194,\n '스릴러': 195,\n '보다가': 196,\n '당시': 197,\n '공포영화': 198,\n '아름다운': 199,\n '우리나라': 200,\n '아까운': 201,\n '뻔한': 202,\n '영화로': 203,\n '알바': 204,\n '제일': 205,\n '보게': 206,\n '된다': 207,\n '이라고': 208,\n '아직도': 209,\n '점수': 210,\n '년대': 211,\n '엄청': 212,\n '세상': 213,\n '있고': 214,\n '웃음': 215,\n '재밌어요': 216,\n '아무': 217,\n '좋아하는': 218,\n '보세요': 219,\n '막장': 220,\n '제대로': 221,\n '시나리오': 222,\n '보니': 223,\n '싶다': 224,\n '출연': 225,\n '초반': 226,\n '시대': 227,\n '관객': 228,\n '절대': 229,\n '미국': 230,\n '도대체': 231,\n '그렇게': 232,\n '봤어요': 233,\n '분위기': 234,\n '같아요': 235,\n '대해': 236,\n '설정': 237,\n '위해': 238,\n '인상': 239,\n '보는내내': 240,\n '사실': 241,\n '제발': 242,\n '나도': 243,\n '한국영': 244,\n '재밌음': 245,\n '마다': 246,\n '최고다': 247,\n '봤던': 248,\n '졸작': 249,\n '이딴': 250,\n '정신': 251,\n '주는': 252,\n '준다': 253,\n '어릴': 254,\n '장난': 255,\n '영화관': 256,\n '주고': 257,\n '니까': 258,\n '좋았다': 259,\n '가지': 260,\n '소리': 261,\n '지루하고': 262,\n '라면': 263,\n '더빙': 264,\n '남는': 265,\n '멋진': 266,\n '감정': 267,\n '후반': 268,\n '수작': 269,\n '안되는': 270,\n '엄마': 271,\n '추억': 272,\n '아무리': 273,\n '이야': 274,\n '갈수록': 275,\n '문제': 276,\n '옛날': 277,\n '이름': 278,\n '기도': 279,\n '개연': 280,\n '엔딩': 281,\n '봐서': 282,\n '킬링타임': 283,\n '좋아요': 284,\n '오늘': 285,\n '코믹': 286,\n '싶은': 287,\n '충격': 288,\n '평가': 289,\n '스릴': 290,\n '얘기': 291,\n '지루함': 292,\n '애니메이션': 293,\n '포스터': 294,\n '역사': 295,\n '전쟁': 296,\n '그것': 297,\n '모르겠다': 298,\n '얼굴': 299,\n '캐스팅': 300,\n '배경': 301,\n '다큐': 302,\n '지루한': 303,\n '구성': 304,\n '소름': 305,\n '상황': 306,\n '했던': 307,\n '후회': 308,\n '예술': 309,\n '괜찮은': 310,\n '아직': 311,\n '영화인': 312,\n '보단': 313,\n '머리': 314,\n '티비': 315,\n '분들': 316,\n '장르': 317,\n '걸작': 318,\n '했지만': 319,\n '만들어': 320,\n '대체': 321,\n '않는다': 322,\n '않다': 323,\n '다운': 324,\n '주연': 325,\n '이후': 326,\n '나온': 327,\n '시즌': 328,\n '하는데': 329,\n '건가': 330,\n '같은데': 331,\n 'ㅉㅉ': 332,\n '강추': 333,\n '만화': 334,\n '짜증': 335,\n '봤지만': 336,\n '비교': 337,\n '없었다': 338,\n '실화': 339,\n '집중': 340,\n '보는데': 341,\n '인물': 342,\n '마세요': 343,\n '그나마': 344,\n '시절': 345,\n '지루하다': 346,\n '없네': 347,\n '할수': 348,\n '웃기': 349,\n '몰입도': 350,\n '존나': 351,\n '억지': 352,\n '방송': 353,\n '재밌는': 354,\n '너무나': 355,\n '초딩': 356,\n '아들': 357,\n '봤음': 358,\n '편이': 359,\n '만점': 360,\n '같음': 361,\n '라도': 362,\n '주제': 363,\n '에요': 364,\n '목소리': 365,\n '네이버': 366,\n '매우': 367,\n '비디오': 368,\n '그대로': 369,\n '저런': 370,\n '이리': 371,\n '본다': 372,\n '나이': 373,\n '전체': 374,\n '였습니다': 375,\n '없어': 376,\n '하기': 377,\n '재미없음': 378,\n '나와서': 379,\n '로맨스': 380,\n '사회': 381,\n '나라': 382,\n '감성': 383,\n '굉장히': 384,\n '재밋': 385,\n '보다는': 386,\n '안보': 387,\n '아님': 388,\n '재밌고': 389,\n '가는': 390,\n '빨리': 391,\n '누가': 392,\n '년도': 393,\n '평론가': 394,\n '가치': 395,\n '없어서': 396,\n '상당히': 397,\n '예전': 398,\n '짜리': 399,\n '발연기': 400,\n '해야': 401,\n '같네요': 402,\n '질질': 403,\n '실제': 404,\n '만하': 405,\n '소설': 406,\n '삼류': 407,\n '어렸을': 408,\n '이하': 409,\n '하네요': 410,\n '보여주는': 411,\n '어설픈': 412,\n '여배우': 413,\n '년전': 414,\n '아버지': 415,\n '라서': 416,\n '아까': 417,\n '시청률': 418,\n '점주': 419,\n '좀비': 420,\n '어린': 421,\n '성룡': 422,\n '낭비': 423,\n '교훈': 424,\n '해주는': 425,\n '있지만': 426,\n '몇번': 427,\n '깊은': 428,\n '어른': 429,\n '간만': 430,\n '여서': 431,\n '극장판': 432,\n '여주': 433,\n '잔잔한': 434,\n '판타지': 435,\n '슬픈': 436,\n '상영': 437,\n '있어': 438,\n '난다': 439,\n '줄거리': 440,\n '버린': 441,\n '는데': 442,\n '으로도': 443,\n '아까워': 444,\n '각본': 445,\n '항상': 446,\n '에선': 447,\n '전달': 448,\n '이에요': 449,\n '미친': 450,\n '좋음': 451,\n '세계': 452,\n '재밌네요': 453,\n '중국': 454,\n '간다': 455,\n 'ㅎㅎㅎ': 456,\n '믿고': 457,\n '라니': 458,\n '요소': 459,\n '좋은데': 460,\n '그만': 461,\n '멜로': 462,\n '되고': 463,\n '치고': 464,\n '인거': 465,\n '점점': 466,\n '낫다': 467,\n '사건': 468,\n '말고': 469,\n '존재': 470,\n '대로': 471,\n '이라도': 472,\n '그런지': 473,\n '진정한': 474,\n '상상': 475,\n '흥행': 476,\n '재미있어요': 477,\n '선택': 478,\n '순간': 479,\n '새끼': 480,\n '볼때': 481,\n '그림': 482,\n '개그': 483,\n '재미있다': 484,\n '되어': 485,\n '대한민국': 486,\n '제작': 487,\n '만이': 488,\n '가서': 489,\n '화보': 490,\n '복수': 491,\n '따뜻한': 492,\n '여러': 493,\n '나쁜': 494,\n '하네': 495,\n '필요': 496,\n '에서도': 497,\n '거기': 498,\n 'ㅠㅠㅠ': 499,\n '환상': 500,\n '이라니': 501,\n '병맛': 502,\n '거지': 503,\n '연기자': 504,\n '더럽게': 505,\n '이냐': 506,\n '아빠': 507,\n '아쉽다': 508,\n '감상': 509,\n '스타': 510,\n 'ㄷㄷ': 511,\n '아닌가': 512,\n '잘만': 513,\n '있는데': 514,\n '역대': 515,\n '좋겠다': 516,\n '의도': 517,\n '화면': 518,\n '충분히': 519,\n '하며': 520,\n '성우': 521,\n '에서는': 522,\n '상미': 523,\n '대단한': 524,\n '프랑스': 525,\n '였음': 526,\n '스러운': 527,\n '그녀': 528,\n '봐야': 529,\n '있어서': 530,\n '어쩔': 531,\n '액션영화': 532,\n '되지': 533,\n '엉망': 534,\n '천재': 535,\n '좋았어요': 536,\n 'ㅋㅋㅋㅋㅋ': 537,\n '마무리': 538,\n '하는게': 539,\n '나온다': 540,\n '갑자기': 541,\n '스타일': 542,\n '훌륭한': 543,\n '학교': 544,\n '좋네요': 545,\n '참고': 546,\n '주의': 547,\n '없네요': 548,\n '영웅': 549,\n '원래': 550,\n '예고편': 551,\n '나오고': 552,\n '모르고': 553,\n '였어요': 554,\n '우연히': 555,\n '게임': 556,\n '엄청난': 557,\n '있게': 558,\n '완성': 559,\n '수가': 560,\n '바보': 561,\n '죽음': 562,\n '야할': 563,\n '에겐': 564,\n '더욱': 565,\n '안된다': 566,\n '한편': 567,\n '비해': 568,\n '해준': 569,\n '유치': 570,\n '그래픽': 571,\n '재미있는': 572,\n '알았는데': 573,\n '행동': 574,\n '재미없는': 575,\n '없을': 576,\n '완벽한': 577,\n '있음': 578,\n '화이팅': 579,\n '전편': 580,\n '자꾸': 581,\n '봤네요': 582,\n '꿀잼': 583,\n '어디서': 584,\n '대작': 585,\n '편집': 586,\n '했음': 587,\n '속편': 588,\n '하는지': 589,\n '그게': 590,\n '괜히': 591,\n '중반': 592,\n '같아': 593,\n '드는': 594,\n '무비': 595,\n '채널': 596,\n '보이': 597,\n '나옴': 598,\n '취향': 599,\n '기대하고': 600,\n '보는게': 601,\n '있을까': 602,\n '가끔': 603,\n '노출': 604,\n '먼저': 605,\n '자극': 606,\n '미화': 607,\n '재미없고': 608,\n '억지로': 609,\n '일까': 610,\n '경찰': 611,\n '새로운': 612,\n '나올': 613,\n '관심': 614,\n '흥미': 615,\n '댓글': 616,\n '알았다': 617,\n '진행': 618,\n '영환': 619,\n '화가': 620,\n '결혼': 621,\n '통해': 622,\n '했으면': 623,\n '심리': 624,\n '좋았습니다': 625,\n '메세지': 626,\n '한다는': 627,\n '오빠': 628,\n '이상한': 629,\n '리메이크': 630,\n '같습니다': 631,\n '제작비': 632,\n '만으로도': 633,\n '소녀': 634,\n '로는': 635,\n '예상': 636,\n '만들': 637,\n '힘든': 638,\n '비슷한': 639,\n '슬프다': 640,\n '전형': 641,\n '다가': 642,\n '타임': 643,\n '노력': 644,\n '화려한': 645,\n '좋았음': 646,\n '예산': 647,\n '전작': 648,\n '관람': 649,\n '표정': 650,\n '봤을': 651,\n '깊게': 652,\n '용도': 653,\n '높은': 654,\n '과정': 655,\n '메디': 656,\n '효과': 657,\n '아저씨': 658,\n '끝나고': 659,\n '유머': 660,\n '흥미진진': 661,\n '재미있고': 662,\n '먹고': 663,\n '보고나서': 664,\n '아쉬운': 665,\n '일이': 666,\n '맞는': 667,\n '재밌는데': 668,\n '오래': 669,\n '최근': 670,\n '진실': 671,\n '촬영': 672,\n '나왔으면': 673,\n '좋았고': 674,\n '재밌었다': 675,\n '형님': 676,\n '거리': 677,\n '느끼게': 678,\n '바람': 679,\n '무조건': 680,\n '되게': 681,\n '있었다': 682,\n '귀신': 683,\n '예요': 684,\n '지루': 685,\n '이런거': 686,\n '그리': 687,\n '보여준': 688,\n '재밌었음': 689,\n '너무나도': 690,\n '로맨틱': 691,\n '재미없어': 692,\n '리얼': 693,\n '반개': 694,\n '볼수': 695,\n '동화': 696,\n '만에': 697,\n '만들었다': 698,\n '지루하지': 699,\n '보고싶다': 700,\n '안됨': 701,\n '과거': 702,\n '그렇고': 703,\n '필요없는': 704,\n '다행': 705,\n '였는데': 706,\n '범인': 707,\n '프로그램': 708,\n '살인': 709,\n '유치하고': 710,\n '안나': 711,\n '안되고': 712,\n '케이블': 713,\n '서로': 714,\n '등장': 715,\n '이미': 716,\n '능력': 717,\n '않음': 718,\n '진부한': 719,\n '모르는': 720,\n '고생': 721,\n '만의': 722,\n '어린이': 723,\n '묘사': 724,\n '망작': 725,\n '조연': 726,\n '나서': 727,\n '싫다': 728,\n '않아': 729,\n '살다': 730,\n '낮은': 731,\n '아름답고': 732,\n '카메라': 733,\n '했을': 734,\n '사극': 735,\n '나를': 736,\n '든다': 737,\n '느낄': 738,\n '스케일': 739,\n '없지만': 740,\n '전설': 741,\n '있습니다': 742,\n '보시길': 743,\n '도저히': 744,\n '불륜': 745,\n '깊이': 746,\n '대안': 747,\n '이런게': 748,\n '재밌었어요': 749,\n '용이': 750,\n '나중': 751,\n '있을': 752,\n '감사합니다': 753,\n '이며': 754,\n '되었다': 755,\n '볼수록': 756,\n '로서': 757,\n '하는거': 758,\n '문화': 759,\n '독립영화': 760,\n '지루해': 761,\n '리뷰': 762,\n '아닌데': 763,\n '비극': 764,\n '역할': 765,\n '발견': 766,\n '잘못': 767,\n '섹스': 768,\n '볼거리': 769,\n '않게': 770,\n '설명': 771,\n '느껴지는': 772,\n '는걸': 773,\n '아닐까': 774,\n '인가요': 775,\n '굳이': 776,\n '같고': 777,\n '상상력': 778,\n '벌써': 779,\n '관계': 780,\n '상처': 781,\n '포장': 782,\n '현재': 783,\n '프로': 784,\n '그닥': 785,\n '남는다': 786,\n '청춘': 787,\n '감탄': 788,\n '자막': 789,\n '봤으면': 790,\n '빼고': 791,\n '있나': 792,\n '않나': 793,\n '보라': 794,\n '들어': 795,\n '홍보': 796,\n '스럽다': 797,\n '없나': 798,\n '받고': 799,\n '지도': 800,\n '눈빛': 801,\n '용서': 802,\n '고민': 803,\n '커플': 804,\n '확실히': 805,\n '대단하다': 806,\n '박수': 807,\n '아니지만': 808,\n '봤다가': 809,\n '인정': 810,\n '멋지다': 811,\n '힐링': 812,\n '실감': 813,\n '유쾌한': 814,\n '않았다': 815,\n '미소': 816,\n '있네요': 817,\n '메시지': 818,\n '수도': 819,\n '새벽': 820,\n '쩐다': 821,\n '같아서': 822,\n '있다는': 823,\n '뜬금': 824,\n '졸라': 825,\n '희망': 826,\n '미래': 827,\n '마라': 828,\n '웃김': 829,\n '풀어': 830,\n '보러': 831,\n '좋아하는데': 832,\n '성인': 833,\n '받아': 834,\n '사는': 835,\n '좋았는데': 836,\n '봅니다': 837,\n '보이는': 838,\n '할까': 839,\n '버리고': 840,\n '아픈': 841,\n '가볍게': 842,\n '흐름': 843,\n '아쉬움': 844,\n '인기': 845,\n '만들지': 846,\n '보고싶은': 847,\n '짜증나는': 848,\n '왠지': 849,\n '그럭저럭': 850,\n '범죄': 851,\n 'ㅅㅂ': 852,\n '보시': 853,\n '무협': 854,\n '아름답다': 855,\n '노답': 856,\n '주기': 857,\n '슬프고': 858,\n '서야': 859,\n '지난': 860,\n '독특한': 861,\n '생애': 862,\n '아오': 863,\n '괴물': 864,\n '부족': 865,\n '특유': 866,\n '정서': 867,\n '자유': 868,\n '성도': 869,\n '있으면': 870,\n '오버': 871,\n '버렸다': 872,\n '재밌습니다': 873,\n '종교': 874,\n '되네요': 875,\n '부족한': 876,\n '아침': 877,\n '개판': 878,\n '악당': 879,\n '편의': 880,\n '없는데': 881,\n '스럽게': 882,\n '사이': 883,\n '그렇다고': 884,\n '슬픔': 885,\n '진정': 886,\n '라지': 887,\n '평생': 888,\n '조폭': 889,\n '피해자': 890,\n '나와': 891,\n '남편': 892,\n '빠진': 893,\n '에서의': 894,\n '으로는': 895,\n '이쁘고': 896,\n '예쁜': 897,\n '유치한': 898,\n '하냐': 899,\n '필요없다': 900,\n '어색한': 901,\n '신선한': 902,\n '몸매': 903,\n '오락': 904,\n '보다도': 905,\n '방식': 906,\n '하다니': 907,\n '일상': 908,\n '결론': 909,\n '해피엔딩': 910,\n '짱짱': 911,\n '없지': 912,\n '끼리': 913,\n '어제': 914,\n '등장인물': 915,\n '넘치는': 916,\n '왜케': 917,\n '않을': 918,\n '지는': 919,\n '아는': 920,\n '만으로': 921,\n '덕분': 922,\n '하자': 923,\n '봤었는데': 924,\n '여성': 925,\n '군대': 926,\n '공부': 927,\n '웃긴': 928,\n '있다면': 929,\n '폭력': 930,\n '재미있음': 931,\n '어휴': 932,\n '연예인': 933,\n '시청자': 934,\n '그린': 935,\n '해라': 936,\n '런가': 937,\n '자연': 938,\n '개념': 939,\n '에게는': 940,\n '잼있게': 941,\n '본다면': 942,\n '차이': 943,\n '만들고': 944,\n '살짝': 945,\n '평범한': 946,\n '외국': 947,\n '동생': 948,\n '기대했는데': 949,\n '귀여운': 950,\n '뛰어난': 951,\n '하고자': 952,\n '학생': 953,\n 'ㅇㅇ': 954,\n '시선': 955,\n '재밌어': 956,\n '낮아서': 957,\n '들었다': 958,\n '만들어진': 959,\n '까지는': 960,\n '반성': 961,\n '나머지': 962,\n '국민': 963,\n '비추': 964,\n '남녀': 965,\n '어이없는': 966,\n '되서': 967,\n '의식': 968,\n '떠나서': 969,\n '허세': 970,\n '북한': 971,\n '있어요': 972,\n '시도': 973,\n '유발': 974,\n '세기': 975,\n '발전': 976,\n '펑펑': 977,\n '개도': 978,\n '대가': 979,\n '있지': 980,\n '가는줄': 981,\n '선생님': 982,\n '자식': 983,\n '무서운': 984,\n '보았다': 985,\n '나오네': 986,\n '평이': 987,\n '가고': 988,\n '대부분': 989,\n '극치': 990,\n '의문': 991,\n '그걸': 992,\n '연애': 993,\n '드립니다': 994,\n '크게': 995,\n '가진': 996,\n '까진': 997,\n '됩니다': 998,\n '왠만하면': 999,\n ...}"
     },
     "execution_count": 166,
     "metadata": {},
     "output_type": "execute_result"
    }
   ],
   "source": [
    "VOCAB_DICT"
   ],
   "metadata": {
    "collapsed": false,
    "ExecuteTime": {
     "end_time": "2024-03-31T06:38:12.088300800Z",
     "start_time": "2024-03-31T06:38:12.022157300Z"
    }
   },
   "id": "8d3543336c4c9654",
   "execution_count": 166
  },
  {
   "cell_type": "code",
   "outputs": [
    {
     "data": {
      "text/plain": "11539"
     },
     "execution_count": 167,
     "metadata": {},
     "output_type": "execute_result"
    }
   ],
   "source": [
    "len(vocab)"
   ],
   "metadata": {
    "collapsed": false,
    "ExecuteTime": {
     "end_time": "2024-03-31T06:40:06.188186Z",
     "start_time": "2024-03-31T06:40:06.135112900Z"
    }
   },
   "id": "c1871b36b17a3e92",
   "execution_count": 167
  },
  {
   "cell_type": "code",
   "outputs": [],
   "source": [
    "# 전처리 함수\n",
    "# 토큰화 함수 \n",
    "# <UNK> -> 0번\n",
    "# <PADDING> -> 1번\n",
    "# 길이보고 잘라내는 것까지 "
   ],
   "metadata": {
    "collapsed": false,
    "ExecuteTime": {
     "end_time": "2024-03-29T07:14:14.753472Z",
     "start_time": "2024-03-29T07:14:14.728028300Z"
    }
   },
   "id": "a46af97d5f3a7f62",
   "execution_count": 181
  },
  {
   "cell_type": "code",
   "outputs": [
    {
     "data": {
      "text/plain": "Index(['document', 'tokened_document'], dtype='object')"
     },
     "execution_count": 168,
     "metadata": {},
     "output_type": "execute_result"
    }
   ],
   "source": [
    "documentDF.columns"
   ],
   "metadata": {
    "collapsed": false,
    "ExecuteTime": {
     "end_time": "2024-03-31T06:45:54.287074400Z",
     "start_time": "2024-03-31T06:45:54.231140700Z"
    }
   },
   "id": "d6b9bffe3cd50be",
   "execution_count": 168
  },
  {
   "cell_type": "code",
   "outputs": [
    {
     "data": {
      "text/plain": "                                         document  \\\n0                                             굳 ㅋ   \n1                뭐야 이 평점들은 나쁘진 않지만 점 짜리는 더더욱 아니잖아   \n2                       지루하지는 않은데 완전 막장임 돈주고 보기에는   \n3       만 아니었어도 별 다섯 개 줬을텐데 왜 로 나와서 제 심기를 불편하게 하죠   \n4                               음악이 주가 된 최고의 음악영화   \n...                                           ...   \n48482   오랜만에 평점 로긴했네ㅋㅋ 킹왕짱 쌈뽕한 영화를 만났습니다 강렬하게 육쾌함   \n48483    의지 박약들이나 하는거다 탈영은 일단 주인공 김대희 닮았고 이등병 찐따    \n48484             그림도 좋고 완성도도 높았지만 보는 내내 불안하게 만든다   \n48485  절대 봐서는 안 될 영화 재미도 없고 기분만 잡치고 한 세트장에서 다 해먹네   \n48486                                  마무리는 또 왜이래   \n\n                                        tokened_document  \\\n0                                                 [굳, ㅋ]   \n1      [뭐, 야, 이, 평점, 들, 은, 나쁘진, 않지만, 점, 짜, 리, 는, 더, 더...   \n2                 [지루하지는, 않은데, 완전, 막장, 임, 돈, 주고, 보기, 에는]   \n3      [만, 아니었어도, 별, 다섯, 개, 줬을텐데, 왜, 로, 나와서, 제, 심기, 를...   \n4                          [음악, 이, 주가, 된, 최고, 의, 음악, 영화]   \n...                                                  ...   \n48482  [오랜, 만, 에, 평점, 로, 긴, 했네, ㅋㅋ, 킹왕짱, 쌈뽕, 한, 영화, 를...   \n48483  [의지, 박약, 들, 이나, 하는거다, 탈영, 은, 일단, 주인공, 김대희, 닮았고...   \n48484       [그림, 도, 좋고, 완성, 도도, 높았지만, 보는, 내내, 불안하게, 만든다]   \n48485  [절대, 봐, 서는, 안, 될, 영화, 재미, 도, 없고, 기분, 만, 잡, 치고,...   \n48486                                 [마무리, 는, 또, 왜, 이래]   \n\n                                          encoded_tokens  \n0                                                 [0, 0]  \n1      [0, 0, 0, 6, 0, 0, 3954, 1147, 0, 0, 0, 0, 0, ...  \n2              [9418, 2177, 40, 220, 0, 0, 257, 69, 114]  \n3      [0, 6959, 0, 0, 0, 0, 0, 0, 379, 0, 0, 0, 4630...  \n4                        [101, 0, 3078, 0, 8, 0, 101, 2]  \n...                                                  ...  \n48482  [186, 0, 0, 6, 0, 0, 1553, 20, 5625, 0, 0, 2, ...  \n48483  [2633, 0, 0, 71, 5486, 0, 0, 0, 42, 6241, 0, 0...  \n48484      [482, 0, 157, 559, 4351, 0, 47, 152, 0, 1001]  \n48485  [229, 0, 1133, 0, 0, 2, 23, 0, 53, 136, 0, 0, ...  \n48486                                  [538, 0, 0, 0, 0]  \n\n[48487 rows x 3 columns]",
      "text/html": "<div>\n<style scoped>\n    .dataframe tbody tr th:only-of-type {\n        vertical-align: middle;\n    }\n\n    .dataframe tbody tr th {\n        vertical-align: top;\n    }\n\n    .dataframe thead th {\n        text-align: right;\n    }\n</style>\n<table border=\"1\" class=\"dataframe\">\n  <thead>\n    <tr style=\"text-align: right;\">\n      <th></th>\n      <th>document</th>\n      <th>tokened_document</th>\n      <th>encoded_tokens</th>\n    </tr>\n  </thead>\n  <tbody>\n    <tr>\n      <th>0</th>\n      <td>굳 ㅋ</td>\n      <td>[굳, ㅋ]</td>\n      <td>[0, 0]</td>\n    </tr>\n    <tr>\n      <th>1</th>\n      <td>뭐야 이 평점들은 나쁘진 않지만 점 짜리는 더더욱 아니잖아</td>\n      <td>[뭐, 야, 이, 평점, 들, 은, 나쁘진, 않지만, 점, 짜, 리, 는, 더, 더...</td>\n      <td>[0, 0, 0, 6, 0, 0, 3954, 1147, 0, 0, 0, 0, 0, ...</td>\n    </tr>\n    <tr>\n      <th>2</th>\n      <td>지루하지는 않은데 완전 막장임 돈주고 보기에는</td>\n      <td>[지루하지는, 않은데, 완전, 막장, 임, 돈, 주고, 보기, 에는]</td>\n      <td>[9418, 2177, 40, 220, 0, 0, 257, 69, 114]</td>\n    </tr>\n    <tr>\n      <th>3</th>\n      <td>만 아니었어도 별 다섯 개 줬을텐데 왜 로 나와서 제 심기를 불편하게 하죠</td>\n      <td>[만, 아니었어도, 별, 다섯, 개, 줬을텐데, 왜, 로, 나와서, 제, 심기, 를...</td>\n      <td>[0, 6959, 0, 0, 0, 0, 0, 0, 379, 0, 0, 0, 4630...</td>\n    </tr>\n    <tr>\n      <th>4</th>\n      <td>음악이 주가 된 최고의 음악영화</td>\n      <td>[음악, 이, 주가, 된, 최고, 의, 음악, 영화]</td>\n      <td>[101, 0, 3078, 0, 8, 0, 101, 2]</td>\n    </tr>\n    <tr>\n      <th>...</th>\n      <td>...</td>\n      <td>...</td>\n      <td>...</td>\n    </tr>\n    <tr>\n      <th>48482</th>\n      <td>오랜만에 평점 로긴했네ㅋㅋ 킹왕짱 쌈뽕한 영화를 만났습니다 강렬하게 육쾌함</td>\n      <td>[오랜, 만, 에, 평점, 로, 긴, 했네, ㅋㅋ, 킹왕짱, 쌈뽕, 한, 영화, 를...</td>\n      <td>[186, 0, 0, 6, 0, 0, 1553, 20, 5625, 0, 0, 2, ...</td>\n    </tr>\n    <tr>\n      <th>48483</th>\n      <td>의지 박약들이나 하는거다 탈영은 일단 주인공 김대희 닮았고 이등병 찐따</td>\n      <td>[의지, 박약, 들, 이나, 하는거다, 탈영, 은, 일단, 주인공, 김대희, 닮았고...</td>\n      <td>[2633, 0, 0, 71, 5486, 0, 0, 0, 42, 6241, 0, 0...</td>\n    </tr>\n    <tr>\n      <th>48484</th>\n      <td>그림도 좋고 완성도도 높았지만 보는 내내 불안하게 만든다</td>\n      <td>[그림, 도, 좋고, 완성, 도도, 높았지만, 보는, 내내, 불안하게, 만든다]</td>\n      <td>[482, 0, 157, 559, 4351, 0, 47, 152, 0, 1001]</td>\n    </tr>\n    <tr>\n      <th>48485</th>\n      <td>절대 봐서는 안 될 영화 재미도 없고 기분만 잡치고 한 세트장에서 다 해먹네</td>\n      <td>[절대, 봐, 서는, 안, 될, 영화, 재미, 도, 없고, 기분, 만, 잡, 치고,...</td>\n      <td>[229, 0, 1133, 0, 0, 2, 23, 0, 53, 136, 0, 0, ...</td>\n    </tr>\n    <tr>\n      <th>48486</th>\n      <td>마무리는 또 왜이래</td>\n      <td>[마무리, 는, 또, 왜, 이래]</td>\n      <td>[538, 0, 0, 0, 0]</td>\n    </tr>\n  </tbody>\n</table>\n<p>48487 rows × 3 columns</p>\n</div>"
     },
     "execution_count": 173,
     "metadata": {},
     "output_type": "execute_result"
    }
   ],
   "source": [
    "# 데이터프레임으로 변환\n",
    "documentDF[\"encoded_tokens\"] = documentDF[\"tokened_document\"].apply(lambda x: idx_encoder(x, VOCAB_DICT))\n",
    "documentDF"
   ],
   "metadata": {
    "collapsed": false,
    "ExecuteTime": {
     "end_time": "2024-03-31T06:52:34.697602500Z",
     "start_time": "2024-03-31T06:52:34.470763700Z"
    }
   },
   "id": "4686b92f25d52f30",
   "execution_count": 173
  },
  {
   "cell_type": "code",
   "outputs": [
    {
     "data": {
      "text/plain": "[2, 0, 8, 9]"
     },
     "execution_count": 182,
     "metadata": {},
     "output_type": "execute_result"
    }
   ],
   "source": [
    "# 문장을 수치화 진행 -> 인코딩\n",
    "test = [\"영화\", \"우히힛\", \"최고\", \"생각\"]\n",
    "\n",
    "encoding = idx_encoder(test, VOCAB_DICT)\n",
    "encoding"
   ],
   "metadata": {
    "collapsed": false,
    "ExecuteTime": {
     "end_time": "2024-03-31T07:02:49.501614100Z",
     "start_time": "2024-03-31T07:02:49.452736500Z"
    }
   },
   "id": "8cf51f236006da38",
   "execution_count": 182
  },
  {
   "cell_type": "code",
   "outputs": [
    {
     "data": {
      "text/plain": "['영화', '<UNK>', '최고', '생각']"
     },
     "execution_count": 194,
     "metadata": {},
     "output_type": "execute_result"
    }
   ],
   "source": [
    "# 수치값을 문자열로 변환 -> 디코딩\n",
    "decoding = []\n",
    "keys = list(VOCAB_DICT.keys())\n",
    "\n",
    "for tt in encoding:\n",
    "    decoding.append(keys[tt])\n",
    "    \n",
    "decoding"
   ],
   "metadata": {
    "collapsed": false,
    "ExecuteTime": {
     "end_time": "2024-03-31T07:09:06.779646100Z",
     "start_time": "2024-03-31T07:09:06.723639500Z"
    }
   },
   "id": "ace4769d26a8831d",
   "execution_count": 194
  },
  {
   "cell_type": "code",
   "outputs": [],
   "source": [],
   "metadata": {
    "collapsed": false
   },
   "id": "9c072b9904a5a1cd"
  }
 ],
 "metadata": {
  "kernelspec": {
   "display_name": "Python 3",
   "language": "python",
   "name": "python3"
  },
  "language_info": {
   "codemirror_mode": {
    "name": "ipython",
    "version": 2
   },
   "file_extension": ".py",
   "mimetype": "text/x-python",
   "name": "python",
   "nbconvert_exporter": "python",
   "pygments_lexer": "ipython2",
   "version": "2.7.6"
  }
 },
 "nbformat": 4,
 "nbformat_minor": 5
}
