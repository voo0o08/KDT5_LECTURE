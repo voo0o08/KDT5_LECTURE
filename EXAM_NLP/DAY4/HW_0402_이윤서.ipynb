{
 "cells": [
  {
   "cell_type": "markdown",
   "source": [
    "# AG NEWS 모델 만들기\n",
    "- 한국어 어떻게 처리할지 생각하기\n",
    "\n",
    "-> https://tutorials.pytorch.kr/beginner/text_sentiment_ngrams_tutorial.html"
   ],
   "metadata": {
    "collapsed": false
   },
   "id": "c1692ad1cc6e6a82"
  },
  {
   "cell_type": "code",
   "outputs": [],
   "source": [
    "import torch\n",
    "from torchtext.datasets import AG_NEWS\n",
    "\n",
    "# data pipe타입 > iterator 타입 형변환\n",
    "train_iter = iter(AG_NEWS(split='train'))"
   ],
   "metadata": {
    "collapsed": false,
    "ExecuteTime": {
     "end_time": "2024-04-03T04:18:54.863572600Z",
     "start_time": "2024-04-03T04:18:54.818720Z"
    }
   },
   "id": "61c07798a77d1e13",
   "execution_count": 46
  },
  {
   "cell_type": "markdown",
   "source": [
    "반복자 왜? -> raw data에 접근하기 위해서 "
   ],
   "metadata": {
    "collapsed": false
   },
   "id": "d0aa46db522973f0"
  },
  {
   "cell_type": "code",
   "outputs": [
    {
     "data": {
      "text/plain": "(3,\n \"Wall St. Bears Claw Back Into the Black (Reuters) Reuters - Short-sellers, Wall Street's dwindling\\\\band of ultra-cynics, are seeing green again.\")"
     },
     "execution_count": 47,
     "metadata": {},
     "output_type": "execute_result"
    }
   ],
   "source": [
    "# 데이터 확인 => (label, text), label 1~4\n",
    "next(train_iter)"
   ],
   "metadata": {
    "collapsed": false,
    "ExecuteTime": {
     "end_time": "2024-04-03T04:18:54.924328600Z",
     "start_time": "2024-04-03T04:18:54.868771100Z"
    }
   },
   "id": "3ff2b50a7b37da87",
   "execution_count": 47
  },
  {
   "cell_type": "markdown",
   "source": [
    "# 2. 데이터 처리 파이프라인 준비\n",
    "- 어휘집 vocab, 단어 벡터word vector, 토크나이저 tokenizer\n",
    "- 가공되지 않은 문자열에 대한 데이터 처리 빌딩 블록\n",
    "- 일반적인 NLP 데이터 처리\n",
    "    - 첫번째 단계 : 가공되지 않은 학습 데이터셋으로 어휘집 생성\n",
    "        => 토큰 목록 또는 반복자 받는 내장 팩토리 함수(factory function): build_vocab_from_iterator\n",
    "    - 사용자는 어휘집에 추가할 특수 기호(special symbol) 전달 가능"
   ],
   "metadata": {
    "collapsed": false
   },
   "id": "4d29291c561931f7"
  },
  {
   "cell_type": "code",
   "outputs": [],
   "source": [
    "from torchtext.data.utils import get_tokenizer\n",
    "from torchtext.vocab import build_vocab_from_iterator\n",
    "\n",
    "# 특별문자토큰\n",
    "UNK = \"<UNK>\"\n",
    "PAD = \"<PAD>\"\n",
    "\n",
    "# 토커나이저 생성\n",
    "tokenizer = get_tokenizer(\"basic_english\")\n",
    "\n",
    "# 뉴스 학습 데이터 추출\n",
    "train_iter = AG_NEWS(split='train')"
   ],
   "metadata": {
    "collapsed": false,
    "ExecuteTime": {
     "end_time": "2024-04-03T04:18:54.956668Z",
     "start_time": "2024-04-03T04:18:54.924328600Z"
    }
   },
   "id": "f0c5b8f26e69be4e",
   "execution_count": 48
  },
  {
   "cell_type": "code",
   "outputs": [],
   "source": [
    "# 한글 ver\n",
    "from konlpy.tag import Okt\n",
    "\n",
    "# tokenizer = Okt()\n",
    "\n",
    "# 밑에서 yield tokenizer.morphs(text)"
   ],
   "metadata": {
    "collapsed": false,
    "ExecuteTime": {
     "end_time": "2024-04-03T04:18:54.959788900Z",
     "start_time": "2024-04-03T04:18:54.944227300Z"
    }
   },
   "id": "87e6474bb5bb7d74",
   "execution_count": 49
  },
  {
   "cell_type": "code",
   "outputs": [],
   "source": [
    "# 토큰 제너레이터 함수 : 데이터 추출하여 토큰화\n",
    "def yield_tokens(data_iter):\n",
    "    for _, text in data_iter:\n",
    "        # 라벨, 텍스트가 나옴 -> 텍스트만 토큰화하면 됨 \n",
    "        yield tokenizer(text)"
   ],
   "metadata": {
    "collapsed": false,
    "ExecuteTime": {
     "end_time": "2024-04-03T04:18:54.988045400Z",
     "start_time": "2024-04-03T04:18:54.960786800Z"
    }
   },
   "id": "f8bd4ae183520a37",
   "execution_count": 50
  },
  {
   "cell_type": "code",
   "outputs": [],
   "source": [
    "# 단어사전 생성\n",
    "vocab = build_vocab_from_iterator(yield_tokens(train_iter), specials=[\"<unk>\"])\n",
    "\n",
    "# unk 인덱스 0으로 설정\n",
    "vocab.set_default_index(vocab[\"<unk>\"])"
   ],
   "metadata": {
    "collapsed": false,
    "ExecuteTime": {
     "end_time": "2024-04-03T04:18:59.074508500Z",
     "start_time": "2024-04-03T04:18:54.976535200Z"
    }
   },
   "id": "123bebeba03b777c",
   "execution_count": 51
  },
  {
   "cell_type": "code",
   "outputs": [
    {
     "data": {
      "text/plain": "[0, 475, 21, 30, 5297]"
     },
     "execution_count": 52,
     "metadata": {},
     "output_type": "execute_result"
    }
   ],
   "source": [
    "vocab([\"<unk>\", \"here\", \"is\", \"an\", \"example\"])"
   ],
   "metadata": {
    "collapsed": false,
    "ExecuteTime": {
     "end_time": "2024-04-03T04:18:59.092270400Z",
     "start_time": "2024-04-03T04:18:59.077605Z"
    }
   },
   "id": "9ffbf1b25b36fe72",
   "execution_count": 52
  },
  {
   "cell_type": "code",
   "outputs": [],
   "source": [
    "# 텍스트 -> 정수 인코딩\n",
    "text_pipeline = lambda x: vocab(tokenizer(x)) # 다 쪼갠게 들어감\n",
    "\n",
    "# 레이블 -> 정수 인코딩\n",
    "label_pipeline = lambda x: int(x) -1 # 레이블=1~4를 0~3으로 만드는 것"
   ],
   "metadata": {
    "collapsed": false,
    "ExecuteTime": {
     "end_time": "2024-04-03T04:18:59.124167800Z",
     "start_time": "2024-04-03T04:18:59.093314400Z"
    }
   },
   "id": "3ea42ca819f168c0",
   "execution_count": 53
  },
  {
   "cell_type": "markdown",
   "source": [
    "# 3. 데이터 배치와 반복자 생성\n",
    "- torch.utils.data.DataLoader : getitem(), len() 구현한 맵 형태(map-style)\n",
    "- collate_fn(): DataLoader로부터 생성된 샘플 배치 함수\n",
    "    - 입력 : DataLoader에 배치 크가가 있는 배치 데이터"
   ],
   "metadata": {
    "collapsed": false
   },
   "id": "3e86bc3782820052"
  },
  {
   "cell_type": "code",
   "outputs": [],
   "source": [
    "from torch.utils.data import DataLoader\n",
    "\n",
    "device = torch.device(\"cuda\" if torch.cuda.is_available() else \"cpu\")\n",
    "\n",
    "# 배치 크기 만큼 데이터셋 반환 함수\n",
    "def collate_batch(batch):\n",
    "    # 배치크기 만큼의 라벨, 텍스트, 오프셋 값 저장 변수\n",
    "    label_list, text_list, offsets = [], [], [0] # offset은 글자마다 길이가 다르니까 해당 글자의 길이에 대한 정보를 주는 것\n",
    "    \n",
    "    # 1개씩 뉴스기사, 라벨 추출해서 저장\n",
    "    for (_label, _text) in batch:\n",
    "        # 라벨 인코딩 후 저장\n",
    "        label_list.append(label_pipeline(_label))\n",
    "        \n",
    "        # 텍스트 인코딩 후 저장\n",
    "        processed_text = torch.tensor(text_pipeline(_text), dtype=torch.int64)\n",
    "        text_list.append(processed_text)\n",
    "        \n",
    "        # 텍스트 offset 즉, 텍스트 크기/길이 저장 \n",
    "        offsets.append(processed_text.size(0))\n",
    "    \n",
    "    # 텐서화\n",
    "    label_list = torch.tensor(label_list, dtype=torch.int64)\n",
    "    offsets = torch.tensor(offsets[:-1]).cumsum(dim=0)\n",
    "    text_list = torch.cat(text_list)\n",
    "    \n",
    "    return label_list.to(device), text_list.to(device), offsets.to(device)"
   ],
   "metadata": {
    "collapsed": false,
    "ExecuteTime": {
     "end_time": "2024-04-03T04:18:59.125222600Z",
     "start_time": "2024-04-03T04:18:59.107103600Z"
    }
   },
   "id": "ce54707695a03486",
   "execution_count": 54
  },
  {
   "cell_type": "code",
   "outputs": [],
   "source": [
    "train_iter = AG_NEWS(split='train')\n",
    "dataloader = DataLoader(train_iter, \n",
    "                        batch_size=8,\n",
    "                        shuffle=False, \n",
    "                        collate_fn=collate_batch)"
   ],
   "metadata": {
    "collapsed": false,
    "ExecuteTime": {
     "end_time": "2024-04-03T04:18:59.214685500Z",
     "start_time": "2024-04-03T04:18:59.123169800Z"
    }
   },
   "id": "c121e6d0736db555",
   "execution_count": 55
  },
  {
   "cell_type": "code",
   "outputs": [
    {
     "name": "stdout",
     "output_type": "stream",
     "text": [
      "num_class : 4\n",
      "vocab_size : 95811\n"
     ]
    }
   ],
   "source": [
    "# 분류 클래스 수와 단어 사전 개수\n",
    "num_class = len(set([label for (label, text) in train_iter]))\n",
    "vocab_size = len(vocab)\n",
    "\n",
    "print(f\"num_class : {num_class}\\nvocab_size : {vocab_size}\")"
   ],
   "metadata": {
    "collapsed": false,
    "ExecuteTime": {
     "end_time": "2024-04-03T04:19:00.300344300Z",
     "start_time": "2024-04-03T04:18:59.217785Z"
    }
   },
   "id": "325d309702c17bcf",
   "execution_count": 56
  },
  {
   "cell_type": "code",
   "outputs": [
    {
     "data": {
      "text/plain": "torchtext.vocab.vocab.Vocab"
     },
     "execution_count": 57,
     "metadata": {},
     "output_type": "execute_result"
    }
   ],
   "source": [
    "type(vocab)"
   ],
   "metadata": {
    "collapsed": false,
    "ExecuteTime": {
     "end_time": "2024-04-03T04:19:00.310978800Z",
     "start_time": "2024-04-03T04:19:00.296419300Z"
    }
   },
   "id": "719c5d605d782a43",
   "execution_count": 57
  },
  {
   "cell_type": "code",
   "outputs": [
    {
     "name": "stdout",
     "output_type": "stream",
     "text": [
      "tensor([2, 2, 2, 2, 2, 2, 2, 2]) tensor([  431,   425,     1,  1605, 14838,   113,    66,     2,   848,    13,\n",
      "           27,    14,    27,    15, 50725,     3,   431,   374,    16,     9,\n",
      "        67507,     6, 52258,     3,    42,  4009,   783,   325,     1, 15874,\n",
      "         1072,   854,  1310,  4250,    13,    27,    14,    27,    15,   929,\n",
      "          797,   320, 15874,    98,     3, 27657,    28,     5,  4459,    11,\n",
      "          564, 52790,     8, 80617,  2125,     7,     2,   525,   241,     3,\n",
      "           28,  3890, 82814,  6574,    10,   206,   359,     6,     2,   126,\n",
      "            1,    58,     8,   347,  4582,   151,    16,   738,    13,    27,\n",
      "           14,    27,    15,  2384,   452,    92,  2059, 27360,     2,   347,\n",
      "            8,     2,   738,    11,   271,    42,   240, 51953,    38,     2,\n",
      "          294,   126,   112,    85,   220,     2,  7856,     6, 40066, 15380,\n",
      "            1,    70,  7376,    58,  1810,    29,   905,   537,  2846,    13,\n",
      "           27,    14,    27,    15,   838,    39,  4978,    58, 68871,    29,\n",
      "            2,   905,  2846,     7,   537,    70, 58874,   703,     5,   912,\n",
      "         2520,    93, 89171,     3,    30,    58,   293,    26,    10,   114,\n",
      "            1,    58,    92,  4379,     4,  3581,   145,     3,  7577,    23,\n",
      "        12282,     4,    36,   347,    13,   105,    14,   105,    15, 90056,\n",
      "           50,    58,    92,     3, 11312,  1732,     8, 13750,  9735,     3,\n",
      "         3593,     5,    23,   365, 12282,  3470,    94,   299,   167,     2,\n",
      "           36,   399,   545,     1,   151,   152,    43,     3,    45,   355,\n",
      "           71,  2280,    13,    27,    14,    27,    15,   151,   789,  1357,\n",
      "          280,    10, 70411,  4433,   355,  2280,    11,     2,    71,    19,\n",
      "           58,    92,  2301,   353,   468, 55934,   715,     3, 12933,     5,\n",
      "         1617,   738,    29,   179, 77320,    64,     1,    13,   846,     1,\n",
      "          371,    14,   756,  1207,   439,     7,   307,    85,    13,    31,\n",
      "           14,    31,    15,  1766,     6,     2,   407,    16,     9,   832,\n",
      "          756,   126,  2145,  1207,   439,    24,   468,   108,     1,   782,\n",
      "          139,     7,     2,   307,    85,     4,   468, 56748,     1,  8874,\n",
      "         6852,     3,     2,   797,    54,  3007,    26,    60,     1,  1355,\n",
      "         1236,   517, 13945,    38,  1416,    13,  2199,     1,   172,    14,\n",
      "         2199,     1,   172,    15,   832,   124,  5951,   113,     5,  2539,\n",
      "            7,  1232,     3,     8,    23,   571,    11,  2444,  1687,   439,\n",
      "           69,    85,     3,     2,   100,    26,    60,     3,  7126,     2,\n",
      "          347,    21,  2566,    29,     5, 26470,  3676,     1]) tensor([  0,  29,  71, 111, 151, 194, 242, 289])\n"
     ]
    }
   ],
   "source": [
    "for labels, texts, offsets in dataloader:\n",
    "    print(labels, texts, offsets) \n",
    "    break"
   ],
   "metadata": {
    "collapsed": false,
    "ExecuteTime": {
     "end_time": "2024-04-03T04:19:00.373937800Z",
     "start_time": "2024-04-03T04:19:00.313040800Z"
    }
   },
   "id": "24f2774435683d2f",
   "execution_count": 58
  },
  {
   "cell_type": "markdown",
   "source": [
    "# 모델 정의하기\n",
    "- nn.EmbeddingBag -> 레이어 / 분류를 위한 선형 레이어\n",
    "- nn.EmbeddingBag -> 모듈은 텍스의 길이를 오프셋으로 저장하고 있어 padding 필요 없음 "
   ],
   "metadata": {
    "collapsed": false
   },
   "id": "c9e278ad04c5cbba"
  },
  {
   "cell_type": "code",
   "outputs": [],
   "source": [
    "from torch import nn\n",
    "# 입력층 : EmbeddingBag Layer - 레이어와 분류 목적을 위한 선형 레이어, 텍스트의 길이는 offset\n",
    "# 은닉층 : Linear - 4개 클래스 분류\n",
    "\n",
    "class TextClassificationModel(nn.Module):\n",
    "\n",
    "    def __init__(self, vocab_size, embed_dim, num_class):\n",
    "        super().__init__()\n",
    "        self.embedding = nn.EmbeddingBag(vocab_size, embed_dim, sparse=False)\n",
    "        self.fc = nn.Linear(embed_dim, num_class)\n",
    "        \n",
    "        self.init_weights() # 가중치 초기화, 클래스 내의 함수 호출\n",
    "    \n",
    "    # 가중치 초기화\n",
    "    def init_weights(self):\n",
    "        initrange = 0.5\n",
    "        self.embedding.weight.data.uniform_(-initrange, initrange) # uniform : 균등분포, -0.5~0.5 범위로 \n",
    "        self.fc.weight.data.uniform_(-initrange, initrange)\n",
    "        self.fc.bias.data.zero_()\n",
    "    \n",
    "    # 순방향 학습 진행\n",
    "    def forward(self, text, offsets):\n",
    "        embedded = self.embedding(text, offsets)\n",
    "        return self.fc(embedded)"
   ],
   "metadata": {
    "collapsed": false,
    "ExecuteTime": {
     "end_time": "2024-04-03T04:19:00.408696Z",
     "start_time": "2024-04-03T04:19:00.378196Z"
    }
   },
   "id": "57ad1321bd1d7b8f",
   "execution_count": 59
  },
  {
   "cell_type": "markdown",
   "source": [
    "# 인스턴스 생성하기"
   ],
   "metadata": {
    "collapsed": false
   },
   "id": "fe159ca6bf802840"
  },
  {
   "cell_type": "code",
   "outputs": [],
   "source": [
    "# 학습 관련 하이퍼파라미터와 인스턴스\n",
    "# HIDDEN_SIZE = 3\n",
    "# EMBEDDING_DIM = 64\n",
    "# VOCAB_SIZE = len(vocab)\n",
    "# NUM_CLASS = len(set([label for label, _ in train_iter]))\n",
    "# EPOCHS = 10\n",
    "# LR = 5\n",
    "# BATCH_SIZE = 64\n",
    "#################################위에는 강사님 밑에는 예제 코드\n",
    "\n",
    "emsize = 64\n",
    "\n",
    "# vocab_size-> 95811, embed_dim -> 64, num_class -> 4\n",
    "model = TextClassificationModel(vocab_size, emsize, num_class).to(device)"
   ],
   "metadata": {
    "collapsed": false,
    "ExecuteTime": {
     "end_time": "2024-04-03T04:19:00.457331400Z",
     "start_time": "2024-04-03T04:19:00.395106200Z"
    }
   },
   "id": "757c58bb9f362fa",
   "execution_count": 60
  },
  {
   "cell_type": "markdown",
   "source": [
    "# 모델을 학습하고 결과를 평가하는 함수 정의하기"
   ],
   "metadata": {
    "collapsed": false
   },
   "id": "c1d4822f7d739d39"
  },
  {
   "cell_type": "code",
   "outputs": [],
   "source": [
    "import time\n",
    "\n",
    "def train(dataloader):\n",
    "    model.train()\n",
    "    \n",
    "    # 학습 평가 관련 변수들\n",
    "    total_acc, total_count = 0, 0\n",
    "    log_interval = 300\n",
    "    start_time = time.time()\n",
    "    \n",
    "    # 배치 학습 진행\n",
    "    for idx, (label, text, offsets) in enumerate(dataloader):\n",
    "        \n",
    "        label, text, offsets = label.to(device), text.to(device), offsets.to(device)\n",
    "        \n",
    "        # 학습 진행 \n",
    "        predicted_label = model(text, offsets)\n",
    "        \n",
    "        # 손실 계산 및 W, b업데이트 \n",
    "        optimizer.zero_grad()\n",
    "        loss = criterion(predicted_label, label)\n",
    "        loss.backward()\n",
    "        torch.nn.utils.clip_grad_norm_(model.parameters(), 0.1) # 기울기 폭주/소실 방지를 위해 양극단 컷 \n",
    "        optimizer.step()\n",
    "        \n",
    "        # 배치 학습 평가 \n",
    "        total_acc += (predicted_label.argmax(1) == label).sum().item()\n",
    "        total_count += label.size(0)\n",
    "        if idx % log_interval == 0 and idx > 0:\n",
    "            elapsed = time.time() - start_time\n",
    "            print('| epoch {:3d} | {:5d}/{:5d} batches '\n",
    "                  '| accuracy {:8.3f}'.format(epoch, idx, len(dataloader),\n",
    "                                              total_acc/total_count))\n",
    "            total_acc, total_count = 0, 0\n",
    "            start_time = time.time()\n",
    "\n",
    "def evaluate(dataloader):\n",
    "    model.eval()\n",
    "    total_acc, total_count = 0, 0\n",
    "\n",
    "    with torch.no_grad():\n",
    "        for idx, (label, text, offsets) in enumerate(dataloader):\n",
    "            predicted_label = model(text, offsets)\n",
    "            loss = criterion(predicted_label, label)\n",
    "            total_acc += (predicted_label.argmax(1) == label).sum().item()\n",
    "            total_count += label.size(0)\n",
    "    return total_acc/total_count"
   ],
   "metadata": {
    "collapsed": false,
    "ExecuteTime": {
     "end_time": "2024-04-03T04:19:00.552685100Z",
     "start_time": "2024-04-03T04:19:00.539090100Z"
    }
   },
   "id": "552c506d366ae760",
   "execution_count": 61
  },
  {
   "cell_type": "code",
   "outputs": [
    {
     "name": "stdout",
     "output_type": "stream",
     "text": [
      "| epoch   1 |   300/ 1782 batches | accuracy    0.601\n",
      "| epoch   1 |   600/ 1782 batches | accuracy    0.819\n",
      "| epoch   1 |   900/ 1782 batches | accuracy    0.856\n",
      "| epoch   1 |  1200/ 1782 batches | accuracy    0.871\n",
      "| epoch   1 |  1500/ 1782 batches | accuracy    0.880\n",
      "-----------------------------------------------------------\n",
      "| end of epoch   1 | time: 17.60s | valid accuracy    0.890 \n",
      "-----------------------------------------------------------\n",
      "| epoch   2 |   300/ 1782 batches | accuracy    0.898\n",
      "| epoch   2 |   600/ 1782 batches | accuracy    0.901\n",
      "| epoch   2 |   900/ 1782 batches | accuracy    0.900\n",
      "| epoch   2 |  1200/ 1782 batches | accuracy    0.903\n",
      "| epoch   2 |  1500/ 1782 batches | accuracy    0.903\n",
      "-----------------------------------------------------------\n",
      "| end of epoch   2 | time: 17.32s | valid accuracy    0.898 \n",
      "-----------------------------------------------------------\n",
      "| epoch   3 |   300/ 1782 batches | accuracy    0.915\n",
      "| epoch   3 |   600/ 1782 batches | accuracy    0.912\n",
      "| epoch   3 |   900/ 1782 batches | accuracy    0.915\n",
      "| epoch   3 |  1200/ 1782 batches | accuracy    0.913\n",
      "| epoch   3 |  1500/ 1782 batches | accuracy    0.915\n",
      "-----------------------------------------------------------\n",
      "| end of epoch   3 | time: 19.55s | valid accuracy    0.906 \n",
      "-----------------------------------------------------------\n",
      "| epoch   4 |   300/ 1782 batches | accuracy    0.925\n",
      "| epoch   4 |   600/ 1782 batches | accuracy    0.920\n",
      "| epoch   4 |   900/ 1782 batches | accuracy    0.921\n",
      "| epoch   4 |  1200/ 1782 batches | accuracy    0.922\n",
      "| epoch   4 |  1500/ 1782 batches | accuracy    0.921\n",
      "-----------------------------------------------------------\n",
      "| end of epoch   4 | time: 17.74s | valid accuracy    0.904 \n",
      "-----------------------------------------------------------\n",
      "| epoch   5 |   300/ 1782 batches | accuracy    0.937\n",
      "| epoch   5 |   600/ 1782 batches | accuracy    0.934\n",
      "| epoch   5 |   900/ 1782 batches | accuracy    0.936\n",
      "| epoch   5 |  1200/ 1782 batches | accuracy    0.937\n",
      "| epoch   5 |  1500/ 1782 batches | accuracy    0.940\n",
      "-----------------------------------------------------------\n",
      "| end of epoch   5 | time: 20.44s | valid accuracy    0.911 \n",
      "-----------------------------------------------------------\n",
      "| epoch   6 |   300/ 1782 batches | accuracy    0.938\n",
      "| epoch   6 |   600/ 1782 batches | accuracy    0.939\n",
      "| epoch   6 |   900/ 1782 batches | accuracy    0.938\n",
      "| epoch   6 |  1200/ 1782 batches | accuracy    0.939\n",
      "| epoch   6 |  1500/ 1782 batches | accuracy    0.938\n",
      "-----------------------------------------------------------\n",
      "| end of epoch   6 | time: 20.65s | valid accuracy    0.912 \n",
      "-----------------------------------------------------------\n",
      "| epoch   7 |   300/ 1782 batches | accuracy    0.941\n",
      "| epoch   7 |   600/ 1782 batches | accuracy    0.939\n",
      "| epoch   7 |   900/ 1782 batches | accuracy    0.940\n",
      "| epoch   7 |  1200/ 1782 batches | accuracy    0.938\n",
      "| epoch   7 |  1500/ 1782 batches | accuracy    0.936\n",
      "-----------------------------------------------------------\n",
      "| end of epoch   7 | time: 23.24s | valid accuracy    0.913 \n",
      "-----------------------------------------------------------\n",
      "| epoch   8 |   300/ 1782 batches | accuracy    0.939\n",
      "| epoch   8 |   600/ 1782 batches | accuracy    0.941\n",
      "| epoch   8 |   900/ 1782 batches | accuracy    0.940\n",
      "| epoch   8 |  1200/ 1782 batches | accuracy    0.941\n",
      "| epoch   8 |  1500/ 1782 batches | accuracy    0.940\n",
      "-----------------------------------------------------------\n",
      "| end of epoch   8 | time: 25.06s | valid accuracy    0.912 \n",
      "-----------------------------------------------------------\n",
      "| epoch   9 |   300/ 1782 batches | accuracy    0.944\n",
      "| epoch   9 |   600/ 1782 batches | accuracy    0.938\n",
      "| epoch   9 |   900/ 1782 batches | accuracy    0.942\n",
      "| epoch   9 |  1200/ 1782 batches | accuracy    0.944\n",
      "| epoch   9 |  1500/ 1782 batches | accuracy    0.939\n",
      "-----------------------------------------------------------\n",
      "| end of epoch   9 | time: 25.20s | valid accuracy    0.912 \n",
      "-----------------------------------------------------------\n",
      "| epoch  10 |   300/ 1782 batches | accuracy    0.941\n",
      "| epoch  10 |   600/ 1782 batches | accuracy    0.941\n",
      "| epoch  10 |   900/ 1782 batches | accuracy    0.941\n",
      "| epoch  10 |  1200/ 1782 batches | accuracy    0.943\n",
      "| epoch  10 |  1500/ 1782 batches | accuracy    0.941\n",
      "-----------------------------------------------------------\n",
      "| end of epoch  10 | time: 21.46s | valid accuracy    0.912 \n",
      "-----------------------------------------------------------\n"
     ]
    }
   ],
   "source": [
    "from torch.utils.data.dataset import random_split\n",
    "from torchtext.data.functional import to_map_style_dataset\n",
    "# 맵(map)처럼 인덱스/키로 데이터 샘플을 얻어옴\n",
    "\n",
    "# Hyperparameters\n",
    "EPOCHS = 10 # epoch\n",
    "LR = 5  # learning rate\n",
    "BATCH_SIZE = 64 # batch size for training\n",
    "\n",
    "criterion = torch.nn.CrossEntropyLoss()\n",
    "optimizer = torch.optim.SGD(model.parameters(), lr=LR) # 최적화 함수\n",
    "scheduler = torch.optim.lr_scheduler.StepLR(optimizer, 1.0, gamma=0.1) # 스케줄러\n",
    "total_accu = None\n",
    "train_iter, test_iter = AG_NEWS()\n",
    "train_dataset = to_map_style_dataset(train_iter)\n",
    "test_dataset = to_map_style_dataset(test_iter)\n",
    "num_train = int(len(train_dataset) * 0.95)\n",
    "\n",
    "# train set을 train과 validation으로 분리\n",
    "split_train_, split_valid_ = random_split(train_dataset, [num_train, len(train_dataset) - num_train])\n",
    "\n",
    "train_dataloader = DataLoader(split_train_, batch_size=BATCH_SIZE,\n",
    "                              shuffle=True, collate_fn=collate_batch)\n",
    "valid_dataloader = DataLoader(split_valid_, batch_size=BATCH_SIZE,\n",
    "                              shuffle=True, collate_fn=collate_batch)\n",
    "test_dataloader = DataLoader(test_dataset, batch_size=BATCH_SIZE,\n",
    "                             shuffle=True, collate_fn=collate_batch)\n",
    "\n",
    "for epoch in range(1, EPOCHS + 1):\n",
    "    epoch_start_time = time.time()\n",
    "    train(train_dataloader)\n",
    "    accu_val = evaluate(valid_dataloader)\n",
    "    if total_accu is not None and total_accu > accu_val:\n",
    "      scheduler.step()\n",
    "    else:\n",
    "       total_accu = accu_val\n",
    "    print('-' * 59)\n",
    "    print('| end of epoch {:3d} | time: {:5.2f}s | '\n",
    "          'valid accuracy {:8.3f} '.format(epoch,\n",
    "                                           time.time() - epoch_start_time,\n",
    "                                           accu_val))\n",
    "    print('-' * 59)"
   ],
   "metadata": {
    "collapsed": false,
    "ExecuteTime": {
     "end_time": "2024-04-03T04:22:30.626057200Z",
     "start_time": "2024-04-03T04:19:00.553768Z"
    }
   },
   "id": "4b84d4b91acaaa06",
   "execution_count": 62
  },
  {
   "cell_type": "code",
   "outputs": [
    {
     "name": "stdout",
     "output_type": "stream",
     "text": [
      "<class 'torchtext.data.functional.to_map_style_dataset.<locals>._MapStyleDataset'>\n",
      "\n",
      "(3, \"Wall St. Bears Claw Back Into the Black (Reuters) Reuters - Short-sellers, Wall Street's dwindling\\\\band of ultra-cynics, are seeing green again.\")\n"
     ]
    }
   ],
   "source": [
    "print(type(train_dataset))\n",
    "print()\n",
    "print(train_dataset[0])"
   ],
   "metadata": {
    "collapsed": false,
    "ExecuteTime": {
     "end_time": "2024-04-03T04:22:30.662471500Z",
     "start_time": "2024-04-03T04:22:30.631516Z"
    }
   },
   "id": "94cfabd818918f8f",
   "execution_count": 63
  },
  {
   "cell_type": "code",
   "outputs": [],
   "source": [
    "def predict(model, text, text_pipeline):\n",
    "    with torch.no_grad():\n",
    "        # 토큰화 > 정수 변환 > 텐서\n",
    "        text = torch.tensor(text_pipeline(text)) # text_pipeline = lambda x: vocab(tokenizer(x))\n",
    "        output = model(text, torch.tensor([0]))\n",
    "        return output.argmax(1).item() + 1 # 라벨이 1 2 3 4라서 "
   ],
   "metadata": {
    "collapsed": false,
    "ExecuteTime": {
     "end_time": "2024-04-03T04:22:30.663470300Z",
     "start_time": "2024-04-03T04:22:30.642969800Z"
    }
   },
   "id": "bf56327b89b459f5",
   "execution_count": 64
  },
  {
   "cell_type": "code",
   "outputs": [],
   "source": [],
   "metadata": {
    "collapsed": false,
    "ExecuteTime": {
     "end_time": "2024-04-03T04:22:30.689839600Z",
     "start_time": "2024-04-03T04:22:30.658102Z"
    }
   },
   "id": "67d392c106dc5523",
   "execution_count": 64
  }
 ],
 "metadata": {
  "kernelspec": {
   "display_name": "Python 3",
   "language": "python",
   "name": "python3"
  },
  "language_info": {
   "codemirror_mode": {
    "name": "ipython",
    "version": 2
   },
   "file_extension": ".py",
   "mimetype": "text/x-python",
   "name": "python",
   "nbconvert_exporter": "python",
   "pygments_lexer": "ipython2",
   "version": "2.7.6"
  }
 },
 "nbformat": 4,
 "nbformat_minor": 5
}
