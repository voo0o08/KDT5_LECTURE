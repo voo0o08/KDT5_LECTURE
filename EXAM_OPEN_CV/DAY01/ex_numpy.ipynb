{
 "cells": [
  {
   "cell_type": "code",
   "execution_count": 1,
   "id": "initial_id",
   "metadata": {
    "collapsed": true,
    "ExecuteTime": {
     "end_time": "2024-03-21T07:18:20.448343Z",
     "start_time": "2024-03-21T07:18:20.340128600Z"
    }
   },
   "outputs": [],
   "source": [
    "import numpy as np"
   ]
  },
  {
   "cell_type": "code",
   "outputs": [],
   "source": [
    "## ndarray 타입 데이터 생성"
   ],
   "metadata": {
    "collapsed": false,
    "ExecuteTime": {
     "end_time": "2024-03-21T07:18:29.139104900Z",
     "start_time": "2024-03-21T07:18:29.121808900Z"
    }
   },
   "id": "a7541441d95ae30d",
   "execution_count": 2
  },
  {
   "cell_type": "code",
   "outputs": [
    {
     "data": {
      "text/plain": "array([0., 0.])"
     },
     "execution_count": 4,
     "metadata": {},
     "output_type": "execute_result"
    }
   ],
   "source": [
    "## 0으로 채워진 ndarray 객체 생성 => zeros()\n",
    "np.zeros(2) # C-style => 행 단위"
   ],
   "metadata": {
    "collapsed": false,
    "ExecuteTime": {
     "end_time": "2024-03-21T07:19:40.630457200Z",
     "start_time": "2024-03-21T07:19:40.620369200Z"
    }
   },
   "id": "818325b94a3d03fd",
   "execution_count": 4
  },
  {
   "cell_type": "code",
   "outputs": [
    {
     "data": {
      "text/plain": "array([[0, 0, 0],\n       [0, 0, 0]], dtype=int8)"
     },
     "execution_count": 5,
     "metadata": {},
     "output_type": "execute_result"
    }
   ],
   "source": [
    "np.zeros((2,3), dtype=np.int8)"
   ],
   "metadata": {
    "collapsed": false,
    "ExecuteTime": {
     "end_time": "2024-03-21T07:20:12.636270700Z",
     "start_time": "2024-03-21T07:20:12.612170500Z"
    }
   },
   "id": "f7d58ac4de846580",
   "execution_count": 5
  },
  {
   "cell_type": "code",
   "outputs": [
    {
     "data": {
      "text/plain": "(array([1., 1., 1., 1., 1., 1., 1., 1., 1., 1.]),\n array([1, 1, 1, 1, 1, 1, 1, 1, 1, 1]),\n array([[ True,  True,  True,  True,  True],\n        [ True,  True,  True,  True,  True]]))"
     },
     "execution_count": 10,
     "metadata": {},
     "output_type": "execute_result"
    }
   ],
   "source": [
    "# 1로 채워진 ndarray 객체 생성 => ones()\n",
    "np.ones(10), np.ones(10, dtype=np.int32), np.ones((2,5), dtype=bool) # 아무것도 지정안하면 float64, bool은 np.bool_ 로 써도 됨"
   ],
   "metadata": {
    "collapsed": false,
    "ExecuteTime": {
     "end_time": "2024-03-21T07:22:43.539576900Z",
     "start_time": "2024-03-21T07:22:43.515209100Z"
    }
   },
   "id": "fa2cbfd33b3cabf0",
   "execution_count": 10
  },
  {
   "cell_type": "code",
   "outputs": [
    {
     "data": {
      "text/plain": "array([[4, 4, 1, 4, 3],\n       [3, 1, 2, 3, 2],\n       [2, 1, 2, 1, 1]])"
     },
     "execution_count": 11,
     "metadata": {},
     "output_type": "execute_result"
    }
   ],
   "source": [
    " # 랜덤 데이터로 ndarray객체 생성 => random\n",
    "np.random.randint(1, 5, (3, 5)) # [row, high), size, type"
   ],
   "metadata": {
    "collapsed": false,
    "ExecuteTime": {
     "end_time": "2024-03-21T07:23:34.437295400Z",
     "start_time": "2024-03-21T07:23:34.418414100Z"
    }
   },
   "id": "cb2b1bce92595b8d",
   "execution_count": 11
  },
  {
   "cell_type": "code",
   "outputs": [
    {
     "data": {
      "text/plain": "array([[0.42447909, 0.83814168],\n       [0.65722522, 0.15305469]])"
     },
     "execution_count": 15,
     "metadata": {},
     "output_type": "execute_result"
    }
   ],
   "source": [
    "# 0 <= 범위 < 1\n",
    "np.random.rand(2, 2)"
   ],
   "metadata": {
    "collapsed": false,
    "ExecuteTime": {
     "end_time": "2024-03-21T07:24:58.664496100Z",
     "start_time": "2024-03-21T07:24:58.643060400Z"
    }
   },
   "id": "31e5ec307b88adcc",
   "execution_count": 15
  },
  {
   "cell_type": "code",
   "outputs": [
    {
     "data": {
      "text/plain": "(array([[0.3571753 , 0.57777017],\n        [0.13038452, 0.65177627]]),\n array([[[0.61174926, 0.59122215, 0.14325104],\n         [0.2209125 , 0.53022704, 0.8540824 ]]]))"
     },
     "execution_count": 17,
     "metadata": {},
     "output_type": "execute_result"
    }
   ],
   "source": [
    "# 정규 분포를 따르는 즁\n",
    "np.random.rand(2, 2), np.random.rand(1, 2, 3)"
   ],
   "metadata": {
    "collapsed": false,
    "ExecuteTime": {
     "end_time": "2024-03-21T07:25:55.075085100Z",
     "start_time": "2024-03-21T07:25:55.063460500Z"
    }
   },
   "id": "cd8b595c02a3d11b",
   "execution_count": 17
  },
  {
   "cell_type": "code",
   "outputs": [
    {
     "data": {
      "text/plain": "array([ 0.05056171,  0.49995133, -0.99590893,  0.69359851, -0.41830152])"
     },
     "execution_count": 19,
     "metadata": {},
     "output_type": "execute_result"
    }
   ],
   "source": [
    "# 랜덤 고정\n",
    "np.random.seed(4)\n",
    "\n",
    "np.random.randn(5)"
   ],
   "metadata": {
    "collapsed": false,
    "ExecuteTime": {
     "end_time": "2024-03-21T07:26:49.789234900Z",
     "start_time": "2024-03-21T07:26:49.776629400Z"
    }
   },
   "id": "b002a00f90450d58",
   "execution_count": 19
  },
  {
   "cell_type": "code",
   "outputs": [
    {
     "name": "stdout",
     "output_type": "stream",
     "text": [
      "[ 0.39429521  1.98495133  0.02693565  0.35880669 -1.61454139  0.82448138\n",
      "  0.26043704  1.37718202 -1.37307059 -0.00993354]\n",
      "[ 0.02693565  1.98495133  0.82448138 -0.00993354 -1.37307059  0.35880669\n",
      " -1.61454139  0.26043704  0.39429521  1.37718202]\n"
     ]
    }
   ],
   "source": [
    "data = np.random.randn(10)\n",
    "print(data)\n",
    "\n",
    "np.random.shuffle(data) # 원본이 섞임\n",
    "print(data)"
   ],
   "metadata": {
    "collapsed": false,
    "ExecuteTime": {
     "end_time": "2024-03-21T07:29:12.578470900Z",
     "start_time": "2024-03-21T07:29:12.567866700Z"
    }
   },
   "id": "d31b32c168ca1b9d",
   "execution_count": 22
  },
  {
   "cell_type": "code",
   "outputs": [
    {
     "data": {
      "text/plain": "(2.2295438040208917,\n 1.9849513285299654,\n -1.6145413873732943,\n 0.22295438040208918)"
     },
     "execution_count": 25,
     "metadata": {},
     "output_type": "execute_result"
    }
   ],
   "source": [
    "data.sum(), data.max(), data.min(), data.mean()"
   ],
   "metadata": {
    "collapsed": false,
    "ExecuteTime": {
     "end_time": "2024-03-21T07:31:09.822964100Z",
     "start_time": "2024-03-21T07:31:09.803738300Z"
    }
   },
   "id": "2e72389cb7cc4ce6",
   "execution_count": 25
  },
  {
   "cell_type": "code",
   "outputs": [
    {
     "data": {
      "text/plain": "(1, 6)"
     },
     "execution_count": 28,
     "metadata": {},
     "output_type": "execute_result"
    }
   ],
   "source": [
    "data.argmax(), data.argmin()"
   ],
   "metadata": {
    "collapsed": false,
    "ExecuteTime": {
     "end_time": "2024-03-21T07:31:37.541848900Z",
     "start_time": "2024-03-21T07:31:37.526913400Z"
    }
   },
   "id": "3396379b2b574185",
   "execution_count": 28
  },
  {
   "cell_type": "code",
   "outputs": [
    {
     "data": {
      "text/plain": "array([1. , 1.8, 2.6, 3.4, 4.2, 5. , 5.8, 6.6, 7.4, 8.2])"
     },
     "execution_count": 32,
     "metadata": {},
     "output_type": "execute_result"
    }
   ],
   "source": [
    "np.linspace(1, 9, num=10, endpoint=False)"
   ],
   "metadata": {
    "collapsed": false,
    "ExecuteTime": {
     "end_time": "2024-03-21T07:46:28.257641800Z",
     "start_time": "2024-03-21T07:46:28.249205200Z"
    }
   },
   "id": "b2cec6c2f2a88b90",
   "execution_count": 32
  },
  {
   "cell_type": "code",
   "outputs": [
    {
     "data": {
      "text/plain": "array([1.00000000e+01, 6.30957344e+01, 3.98107171e+02, 2.51188643e+03,\n       1.58489319e+04, 1.00000000e+05, 6.30957344e+05, 3.98107171e+06,\n       2.51188643e+07, 1.58489319e+08])"
     },
     "execution_count": 34,
     "metadata": {},
     "output_type": "execute_result"
    }
   ],
   "source": [
    "a = np.logspace(1, 9, num=10, endpoint=False)\n",
    "a"
   ],
   "metadata": {
    "collapsed": false,
    "ExecuteTime": {
     "end_time": "2024-03-21T07:48:34.043658Z",
     "start_time": "2024-03-21T07:48:34.020549400Z"
    }
   },
   "id": "b113788454ab400",
   "execution_count": 34
  },
  {
   "cell_type": "code",
   "outputs": [],
   "source": [
    "b = a.ravel()\n",
    "b[0] = 200"
   ],
   "metadata": {
    "collapsed": false,
    "ExecuteTime": {
     "end_time": "2024-03-21T07:49:10.392569400Z",
     "start_time": "2024-03-21T07:49:10.368341700Z"
    }
   },
   "id": "2db4aefd3f9485ad",
   "execution_count": 38
  },
  {
   "cell_type": "code",
   "outputs": [
    {
     "data": {
      "text/plain": "array([2.00000000e+02, 6.30957344e+01, 3.98107171e+02, 2.51188643e+03,\n       1.58489319e+04, 1.00000000e+05, 6.30957344e+05, 3.98107171e+06,\n       2.51188643e+07, 1.58489319e+08])"
     },
     "execution_count": 39,
     "metadata": {},
     "output_type": "execute_result"
    }
   ],
   "source": [
    "a"
   ],
   "metadata": {
    "collapsed": false,
    "ExecuteTime": {
     "end_time": "2024-03-21T07:49:10.584210800Z",
     "start_time": "2024-03-21T07:49:10.578787100Z"
    }
   },
   "id": "21e7b0263614da6a",
   "execution_count": 39
  },
  {
   "cell_type": "code",
   "outputs": [],
   "source": [],
   "metadata": {
    "collapsed": false
   },
   "id": "e26aca522cce89b2"
  }
 ],
 "metadata": {
  "kernelspec": {
   "display_name": "Python 3",
   "language": "python",
   "name": "python3"
  },
  "language_info": {
   "codemirror_mode": {
    "name": "ipython",
    "version": 2
   },
   "file_extension": ".py",
   "mimetype": "text/x-python",
   "name": "python",
   "nbconvert_exporter": "python",
   "pygments_lexer": "ipython2",
   "version": "2.7.6"
  }
 },
 "nbformat": 4,
 "nbformat_minor": 5
}
