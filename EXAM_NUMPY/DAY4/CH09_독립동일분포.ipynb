{
 "cells": [
  {
   "cell_type": "code",
   "execution_count": 2,
   "id": "55c1008a-ce1d-4d32-84f5-8d2d7555a6a8",
   "metadata": {},
   "outputs": [],
   "source": [
    "import numpy as np\n",
    "import matplotlib.pyplot as plt\n",
    "from scipy import stats\n",
    "import koreanize_matplotlib\n",
    "\n",
    "np.random.seed(0)\n",
    "%precision 3\n",
    "%matplotlib inline"
   ]
  },
  {
   "cell_type": "code",
   "execution_count": 4,
   "id": "781e0f4c-db0c-44be-a0bc-7e71db542b22",
   "metadata": {},
   "outputs": [],
   "source": [
    "# 5.2절에서 이산형 확률변수를 다룰 때 사용한 함수 준비 \n",
    "linestyles = ['-', '--', ':', '-.']\n",
    "\n",
    "def E(XY, g):\n",
    "    x_set, y_set, f_XY = XY\n",
    "    return np.sum([g(x_i, y_j) * f_XY(x_i, y_j)\n",
    "                   for x_i in x_set for y_j in y_set])\n",
    "\n",
    "def Cov(XY):\n",
    "    x_set, y_set, f_XY = XY\n",
    "    mean_X = E(XY, lambda x, y: x)\n",
    "    mean_Y = E(XY, lambda x, y: y)\n",
    "    return np.sum([(x_i-mean_X) * (y_j-mean_Y) * f_XY(x_i, y_j)\n",
    "                    for x_i in x_set for y_j in y_set])\n",
    "\n",
    "def f_X(x):\n",
    "    return np.sum([f_XY(x, y_k) for y_k in y_set])\n",
    "\n",
    "def f_Y(y):\n",
    "    return np.sum([f_XY(x_k, y) for x_k in x_set])"
   ]
  },
  {
   "cell_type": "markdown",
   "id": "eec565cb-b25c-4b88-9a4e-1dcac50ab15f",
   "metadata": {},
   "source": [
    "# 9.1 확률변수의 독립성\n",
    ": 2개 이상의 확률변수가 서로 영향을 끼치지 않으며 관계가 없음을 나타내는 개념  \n",
    ">n개의 확률변수 $X_1, X_2, ..., X_n$이 다음을 만족할 때,  $X_1, X_2, ..., X_n$을 서로 독립이라고 함\n",
    ">  \n",
    ">$f_{X_1, X_2, ..., X_n}(x_1, x_2, ..., x_n) = f_{X_1}(x_1)f_{X_2}(x_2)...f_{X_n}(x_n)$\n",
    ">\n",
    ">함수 $f$가 이산형이면 확률함수, 연속형이면 밀도함수를 나타냄"
   ]
  },
  {
   "cell_type": "markdown",
   "id": "95e76f78-dbc9-41ad-bbd0-8e1299a8e931",
   "metadata": {},
   "source": [
    "## 9.1.2 독립성과 무상관성\n",
    ": 공분산이나 상관계수가 0일 때 = 무상관 -> 두 확률변수 사이에 선형관계가 없음!!\n",
    "-> 독립성이 무상관성보다 더 더 더 더 강한 개념\n",
    "- 독립 -> 무상관 O\n",
    "- 무상관 -> 반드시 독립X"
   ]
  },
  {
   "cell_type": "code",
   "execution_count": 5,
   "id": "d6ed9411-be8d-4db7-8897-ff62d64a12e9",
   "metadata": {},
   "outputs": [],
   "source": [
    "x_set = np.array([1, 2, 3, 4, 5, 6])\n",
    "y_set = np.array([1, 2, 3, 4, 5, 6])\n",
    "\n",
    "def f_XY(x, y):\n",
    "    if x in x_set and y in y_set:\n",
    "        return x * y / 441\n",
    "    else:\n",
    "        return 0\n",
    "    \n",
    "XY = [x_set, y_set, f_XY]"
   ]
  },
  {
   "cell_type": "code",
   "execution_count": 6,
   "id": "3f8540e2-8ee2-4961-a9aa-6846faa609b9",
   "metadata": {},
   "outputs": [
    {
     "data": {
      "text/plain": [
       "-0.000"
      ]
     },
     "execution_count": 6,
     "metadata": {},
     "output_type": "execute_result"
    }
   ],
   "source": [
    "Cov(XY)"
   ]
  },
  {
   "cell_type": "code",
   "execution_count": 7,
   "id": "7678d750-492d-46b3-9c30-d1a181f72911",
   "metadata": {},
   "outputs": [],
   "source": [
    "x_set = np.array([0, 1])\n",
    "y_set = np.array([-1, 0, 1])\n",
    "\n",
    "def f_XY(x, y):\n",
    "    if (x, y) in [(0, 0), (1, 1), (1, -1)]:\n",
    "        return 1 / 3\n",
    "    else:\n",
    "        return 0\n",
    "    \n",
    "XY = [x_set, y_set, f_XY]"
   ]
  },
  {
   "cell_type": "code",
   "execution_count": 8,
   "id": "b35cba02-3075-4b08-a07d-cbf761491081",
   "metadata": {},
   "outputs": [
    {
     "data": {
      "text/plain": [
       "0.000"
      ]
     },
     "execution_count": 8,
     "metadata": {},
     "output_type": "execute_result"
    }
   ],
   "source": [
    "Cov(XY)"
   ]
  },
  {
   "cell_type": "code",
   "execution_count": 9,
   "id": "1ed4db54-f31d-46f8-903b-fc5f8dcdd6ae",
   "metadata": {},
   "outputs": [
    {
     "data": {
      "text/plain": [
       "(0.111, 0.333)"
      ]
     },
     "execution_count": 9,
     "metadata": {},
     "output_type": "execute_result"
    }
   ],
   "source": [
    "f_X(0) * f_Y(0), f_XY(0, 0)"
   ]
  },
  {
   "cell_type": "markdown",
   "id": "b28017a0-5790-481f-baaf-8ceb6e432353",
   "metadata": {},
   "source": [
    "# 9.2 합의 분포\n",
    ": 해당 절에서 다루는 합의 분포는 서로 독립이고 동일한 확률분포를 따르는 확률변수 $X_1, X_2, ..., X_n$의 합 $\\sum_{i=1}^{n}X_i = X_1 + X_2 + ... + X_n$이 따르는 확률분포를 의미"
   ]
  },
  {
   "cell_type": "markdown",
   "id": "f233a9f2-b49d-4a1f-88ac-3f9974a4cf43",
   "metadata": {},
   "source": [
    "__확률변수 합의 기댓값__  \n",
    ">확률변수 $X_1, X_2, ..., X_n$에 관해서\n",
    ">\n",
    ">$E(X_1 + X_2 + ... + X_n) = E(X_1) + E(X_2) + .. + E(X_n)$\n",
    ">\n",
    ">이 성립(독립 아니어도 OK)"
   ]
  },
  {
   "cell_type": "markdown",
   "id": "626e2348-f27c-41c1-ac20-d6b0ee2d179e",
   "metadata": {},
   "source": [
    "__확률변수 합의 분산__  \n",
    ">확률변수 $X_1, X_2, ..., X_n$이 서로 __독립__ 이라면\n",
    ">\n",
    ">$V(X_1 + X_2 + ... + X_n) = V(X_1) + V(X_2) + .. + V(X_n)$\n",
    ">\n",
    ">이 성립(독립!!!!필수)"
   ]
  },
  {
   "cell_type": "markdown",
   "id": "ee323e08-2c01-4c42-9cd5-4ddb8d0f0db6",
   "metadata": {},
   "source": [
    "## 9.2.1 정규분포의 합의 분포\n",
    "서로 독립인 두 확률변수 $X \\sim N(1,2)$와 $Y\\sim N(2,3)$  \n",
    "위의 공식을 활용하면, \n",
    "- 기댓값 : 1 + 2 = __3__\n",
    "- 분산 : 2 + 3 = __5__"
   ]
  },
  {
   "cell_type": "code",
   "execution_count": 10,
   "id": "3a02e1d3-ff44-4751-ad92-0af6b5bc502c",
   "metadata": {},
   "outputs": [
    {
     "data": {
      "text/plain": [
       "(3.003, 4.996)"
      ]
     },
     "execution_count": 10,
     "metadata": {},
     "output_type": "execute_result"
    }
   ],
   "source": [
    "rv1 = stats.norm(1, np.sqrt(2))\n",
    "rv2 = stats.norm(2, np.sqrt(3))\n",
    "\n",
    "sample_size = int(1e6)\n",
    "X_sample = rv1.rvs(sample_size)\n",
    "Y_sample = rv2.rvs(sample_size)\n",
    "\n",
    "sum_sample = X_sample + Y_sample\n",
    "\n",
    "np.mean(sum_sample), np.var(sum_sample) # 공식대로는 3, 5가 나와야함 "
   ]
  },
  {
   "cell_type": "markdown",
   "id": "efe5c3cf-9c51-401e-9a88-4c4819bd8362",
   "metadata": {},
   "source": [
    "-> 표본 크기를 키우면 이론값에 수렴하게 됨!!  \n",
    "- 재생성 : 동일한 분포를 따르는 2개의 독립인 확률변수에 대해서, 그 합도 동일한 확률분포가 되는 성질(모든 확률분포가 그런 것은 x)"
   ]
  },
  {
   "cell_type": "code",
   "execution_count": 12,
   "id": "c18fae9c-a955-4bc0-ae94-bf7133b5a9ed",
   "metadata": {},
   "outputs": [
    {
     "data": {
      "image/png": "[encoded data removed]",
      "text/plain": [
       "<Figure size 1000x600 with 1 Axes>"
      ]
     },
     "metadata": {},
     "output_type": "display_data"
    }
   ],
   "source": [
    "fig = plt.figure(figsize=(10, 6))\n",
    "ax = fig.add_subplot(111)\n",
    "\n",
    "rv = stats.norm(3, np.sqrt(5))\n",
    "xs = np.linspace(rv.isf(0.995), rv.isf(0.005), 100)\n",
    "\n",
    "ax.hist(sum_sample, bins=100, density=True,\n",
    "        alpha=0.5, label='N(1, 2) + N(2, 3)')\n",
    "ax.plot(xs, rv.pdf(xs), label='N(3, 5)', color='gray')\n",
    "ax.plot(xs, rv1.pdf(xs), label='N(1, 2)', ls='--', color='gray')\n",
    "ax.plot(xs, rv2.pdf(xs), label='N(2, 3)', ls=':', color='gray' )\n",
    "\n",
    "ax.legend()\n",
    "ax.set_xlim(rv.isf(0.995), rv.isf(0.005))\n",
    "plt.title(\"정규분포의 합\")\n",
    "plt.show()"
   ]
  },
  {
   "cell_type": "code",
   "execution_count": null,
   "id": "6740e771-ba17-4990-b074-030898fcf4bd",
   "metadata": {},
   "outputs": [],
   "source": []
  },
  {
   "cell_type": "markdown",
   "id": "a3460fc4-cc08-4b0d-98a5-6747b823c55d",
   "metadata": {},
   "source": [
    "# 9.3 표본평균의 분포"
   ]
  },
  {
   "cell_type": "code",
   "execution_count": null,
   "id": "8973f4bf-6feb-4855-bac5-3a9d216c371f",
   "metadata": {},
   "outputs": [],
   "source": []
  },
  {
   "cell_type": "code",
   "execution_count": null,
   "id": "6b2dc86a-c6e2-4f12-8efd-b9c49b29efb0",
   "metadata": {},
   "outputs": [],
   "source": []
  },
  {
   "cell_type": "code",
   "execution_count": null,
   "id": "fd655e02-9b7f-49ca-a187-7152456c36ce",
   "metadata": {},
   "outputs": [],
   "source": []
  },
  {
   "cell_type": "code",
   "execution_count": null,
   "id": "fb291a43-3921-4d3e-b32e-136516c713d7",
   "metadata": {},
   "outputs": [],
   "source": []
  },
  {
   "cell_type": "code",
   "execution_count": null,
   "id": "5df07d6b-4fc9-4ca5-b203-35db41711536",
   "metadata": {},
   "outputs": [],
   "source": []
  },
  {
   "cell_type": "code",
   "execution_count": null,
   "id": "7b2fd7c9-d995-494f-bb17-09006264f663",
   "metadata": {},
   "outputs": [],
   "source": []
  },
  {
   "cell_type": "code",
   "execution_count": null,
   "id": "8c295ae9-5c3c-487a-9102-82340a56e95f",
   "metadata": {},
   "outputs": [],
   "source": []
  },
  {
   "cell_type": "code",
   "execution_count": null,
   "id": "15c5b919-c540-4e5d-b36d-bddd3e85d107",
   "metadata": {},
   "outputs": [],
   "source": []
  },
  {
   "cell_type": "code",
   "execution_count": null,
   "id": "5e00b2db-c16a-4b01-890d-032a9fa789a7",
   "metadata": {},
   "outputs": [],
   "source": []
  },
  {
   "cell_type": "code",
   "execution_count": null,
   "id": "0405d954-5317-424c-8bf8-656d68515df8",
   "metadata": {},
   "outputs": [],
   "source": []
  },
  {
   "cell_type": "code",
   "execution_count": null,
   "id": "4c3cb0a7-6703-41db-b68c-71409e96a24d",
   "metadata": {},
   "outputs": [],
   "source": []
  },
  {
   "cell_type": "code",
   "execution_count": null,
   "id": "088f5e4f-3d47-424a-82f4-00b1f82e52c9",
   "metadata": {},
   "outputs": [],
   "source": []
  },
  {
   "cell_type": "code",
   "execution_count": null,
   "id": "90a0aabf-54aa-4635-a0e8-2460d9962b21",
   "metadata": {},
   "outputs": [],
   "source": []
  },
  {
   "cell_type": "code",
   "execution_count": null,
   "id": "609ea9fb-6578-4af3-9505-f1624f48aa87",
   "metadata": {},
   "outputs": [],
   "source": []
  },
  {
   "cell_type": "code",
   "execution_count": null,
   "id": "0894d73a-a7b8-45d5-b0b5-ca5c91bba0b1",
   "metadata": {},
   "outputs": [],
   "source": []
  },
  {
   "cell_type": "code",
   "execution_count": null,
   "id": "4980d928-df10-4718-b88b-b0a2da6a6107",
   "metadata": {},
   "outputs": [],
   "source": []
  },
  {
   "cell_type": "code",
   "execution_count": null,
   "id": "ad2cb655-3ed2-4ed2-9cc0-c63ddb8774e0",
   "metadata": {},
   "outputs": [],
   "source": []
  }
 ],
 "metadata": {
  "kernelspec": {
   "display_name": "Python 3 (ipykernel)",
   "language": "python",
   "name": "python3"
  },
  "language_info": {
   "codemirror_mode": {
    "name": "ipython",
    "version": 3
   },
   "file_extension": ".py",
   "mimetype": "text/x-python",
   "name": "python",
   "nbconvert_exporter": "python",
   "pygments_lexer": "ipython3",
   "version": "3.9.18"
  }
 },
 "nbformat": 4,
 "nbformat_minor": 5
}
