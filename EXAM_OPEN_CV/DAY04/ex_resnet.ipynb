{
 "cells": [
  {
   "cell_type": "code",
   "execution_count": 2,
   "id": "initial_id",
   "metadata": {
    "collapsed": true,
    "ExecuteTime": {
     "end_time": "2024-03-26T04:07:06.332283500Z",
     "start_time": "2024-03-26T04:07:06.327290700Z"
    }
   },
   "outputs": [],
   "source": [
    "import torch\n",
    "import torch.nn as nn\n",
    "import torch.optim as optim\n",
    "from torch.utils.data import DataLoader\n",
    "\n",
    "# 이미지 데이터셋, 전처리, 전이학습 모듈\n",
    "from torchvision.datasets import ImageFolder\n",
    "import torchvision.transforms as transforms\n",
    "from torchvision.models import resnet18, ResNet18_Weights\n",
    "\n",
    "from torchinfo import summary\n",
    "from torchmetrics.functional.classification import multiclass_accuracy"
   ]
  },
  {
   "cell_type": "code",
   "outputs": [
    {
     "name": "stdout",
     "output_type": "stream",
     "text": [
      "['cats', 'dogs']\n",
      "[0, 0, 0, 0, 0, 0, 0, 0, 0, 0, 0, 0, 0, 0, 0, 0, 0, 0, 0, 0, 0, 0, 0, 0, 0, 0, 0, 0, 0, 0, 0, 0, 0, 0, 0, 0, 0, 0, 0, 0, 0, 0, 0, 0, 0, 0, 0, 0, 0, 0, 0, 0, 0, 0, 0, 0, 0, 0, 0, 0, 0, 0, 0, 0, 0, 0, 0, 0, 0, 0, 1, 1, 1, 1, 1, 1, 1, 1, 1, 1, 1, 1, 1, 1, 1, 1, 1, 1, 1, 1, 1, 1, 1, 1, 1, 1, 1, 1, 1, 1, 1, 1, 1, 1, 1, 1, 1, 1, 1, 1, 1, 1, 1, 1, 1, 1, 1, 1, 1, 1, 1, 1, 1, 1, 1, 1, 1, 1, 1, 1, 1, 1, 1, 1, 1, 1, 1, 1, 1, 1]\n",
      "[('../data/img/test\\\\cats\\\\cat_1.jpg', 0), ('../data/img/test\\\\cats\\\\cat_106.jpg', 0), ('../data/img/test\\\\cats\\\\cat_109.jpg', 0), ('../data/img/test\\\\cats\\\\cat_113.jpg', 0), ('../data/img/test\\\\cats\\\\cat_114.jpg', 0), ('../data/img/test\\\\cats\\\\cat_116.jpg', 0), ('../data/img/test\\\\cats\\\\cat_118.jpg', 0), ('../data/img/test\\\\cats\\\\cat_119.jpg', 0), ('../data/img/test\\\\cats\\\\cat_124.jpg', 0), ('../data/img/test\\\\cats\\\\cat_140.jpg', 0), ('../data/img/test\\\\cats\\\\cat_147.jpg', 0), ('../data/img/test\\\\cats\\\\cat_156.jpg', 0), ('../data/img/test\\\\cats\\\\cat_158.jpg', 0), ('../data/img/test\\\\cats\\\\cat_162.jpg', 0), ('../data/img/test\\\\cats\\\\cat_18.jpg', 0), ('../data/img/test\\\\cats\\\\cat_190.jpg', 0), ('../data/img/test\\\\cats\\\\cat_203.jpg', 0), ('../data/img/test\\\\cats\\\\cat_223.jpg', 0), ('../data/img/test\\\\cats\\\\cat_234.jpg', 0), ('../data/img/test\\\\cats\\\\cat_244.jpg', 0), ('../data/img/test\\\\cats\\\\cat_251.jpg', 0), ('../data/img/test\\\\cats\\\\cat_255.jpg', 0), ('../data/img/test\\\\cats\\\\cat_268.jpg', 0), ('../data/img/test\\\\cats\\\\cat_279.jpg', 0), ('../data/img/test\\\\cats\\\\cat_281.jpg', 0), ('../data/img/test\\\\cats\\\\cat_290.jpg', 0), ('../data/img/test\\\\cats\\\\cat_306.jpg', 0), ('../data/img/test\\\\cats\\\\cat_313.jpg', 0), ('../data/img/test\\\\cats\\\\cat_332.jpg', 0), ('../data/img/test\\\\cats\\\\cat_341.jpg', 0), ('../data/img/test\\\\cats\\\\cat_342.jpg', 0), ('../data/img/test\\\\cats\\\\cat_355.jpg', 0), ('../data/img/test\\\\cats\\\\cat_358.jpg', 0), ('../data/img/test\\\\cats\\\\cat_371.jpg', 0), ('../data/img/test\\\\cats\\\\cat_375.jpg', 0), ('../data/img/test\\\\cats\\\\cat_384.jpg', 0), ('../data/img/test\\\\cats\\\\cat_395.jpg', 0), ('../data/img/test\\\\cats\\\\cat_417.jpg', 0), ('../data/img/test\\\\cats\\\\cat_418.jpg', 0), ('../data/img/test\\\\cats\\\\cat_422.jpg', 0), ('../data/img/test\\\\cats\\\\cat_430.jpg', 0), ('../data/img/test\\\\cats\\\\cat_433.jpg', 0), ('../data/img/test\\\\cats\\\\cat_446.jpg', 0), ('../data/img/test\\\\cats\\\\cat_464.jpg', 0), ('../data/img/test\\\\cats\\\\cat_468.jpg', 0), ('../data/img/test\\\\cats\\\\cat_473.jpg', 0), ('../data/img/test\\\\cats\\\\cat_496.jpg', 0), ('../data/img/test\\\\cats\\\\cat_5.jpg', 0), ('../data/img/test\\\\cats\\\\cat_504.jpg', 0), ('../data/img/test\\\\cats\\\\cat_520.jpg', 0), ('../data/img/test\\\\cats\\\\cat_523.jpg', 0), ('../data/img/test\\\\cats\\\\cat_525.jpg', 0), ('../data/img/test\\\\cats\\\\cat_528.jpg', 0), ('../data/img/test\\\\cats\\\\cat_538.jpg', 0), ('../data/img/test\\\\cats\\\\cat_542.jpg', 0), ('../data/img/test\\\\cats\\\\cat_545.jpg', 0), ('../data/img/test\\\\cats\\\\cat_551.jpg', 0), ('../data/img/test\\\\cats\\\\cat_56.jpg', 0), ('../data/img/test\\\\cats\\\\cat_564.jpg', 0), ('../data/img/test\\\\cats\\\\cat_574.jpg', 0), ('../data/img/test\\\\cats\\\\cat_575.jpg', 0), ('../data/img/test\\\\cats\\\\cat_583.jpg', 0), ('../data/img/test\\\\cats\\\\cat_585.jpg', 0), ('../data/img/test\\\\cats\\\\cat_586.jpg', 0), ('../data/img/test\\\\cats\\\\cat_587.jpg', 0), ('../data/img/test\\\\cats\\\\cat_595.jpg', 0), ('../data/img/test\\\\cats\\\\cat_60.jpg', 0), ('../data/img/test\\\\cats\\\\cat_88.jpg', 0), ('../data/img/test\\\\cats\\\\cat_94.jpg', 0), ('../data/img/test\\\\cats\\\\cat_96.jpg', 0), ('../data/img/test\\\\dogs\\\\dog_114.jpg', 1), ('../data/img/test\\\\dogs\\\\dog_123.jpg', 1), ('../data/img/test\\\\dogs\\\\dog_124.jpg', 1), ('../data/img/test\\\\dogs\\\\dog_130.jpg', 1), ('../data/img/test\\\\dogs\\\\dog_141.jpg', 1), ('../data/img/test\\\\dogs\\\\dog_142.jpg', 1), ('../data/img/test\\\\dogs\\\\dog_147.jpg', 1), ('../data/img/test\\\\dogs\\\\dog_150.jpg', 1), ('../data/img/test\\\\dogs\\\\dog_155.jpg', 1), ('../data/img/test\\\\dogs\\\\dog_159.jpg', 1), ('../data/img/test\\\\dogs\\\\dog_168.jpg', 1), ('../data/img/test\\\\dogs\\\\dog_173.jpg', 1), ('../data/img/test\\\\dogs\\\\dog_177.jpg', 1), ('../data/img/test\\\\dogs\\\\dog_181.jpg', 1), ('../data/img/test\\\\dogs\\\\dog_191.jpg', 1), ('../data/img/test\\\\dogs\\\\dog_194.jpg', 1), ('../data/img/test\\\\dogs\\\\dog_196.jpg', 1), ('../data/img/test\\\\dogs\\\\dog_197.jpg', 1), ('../data/img/test\\\\dogs\\\\dog_211.jpg', 1), ('../data/img/test\\\\dogs\\\\dog_213.jpg', 1), ('../data/img/test\\\\dogs\\\\dog_219.jpg', 1), ('../data/img/test\\\\dogs\\\\dog_227.jpg', 1), ('../data/img/test\\\\dogs\\\\dog_229.jpg', 1), ('../data/img/test\\\\dogs\\\\dog_236.jpg', 1), ('../data/img/test\\\\dogs\\\\dog_237.jpg', 1), ('../data/img/test\\\\dogs\\\\dog_240.jpg', 1), ('../data/img/test\\\\dogs\\\\dog_244.jpg', 1), ('../data/img/test\\\\dogs\\\\dog_258.jpg', 1), ('../data/img/test\\\\dogs\\\\dog_28.jpg', 1), ('../data/img/test\\\\dogs\\\\dog_283.jpg', 1), ('../data/img/test\\\\dogs\\\\dog_302.jpg', 1), ('../data/img/test\\\\dogs\\\\dog_303.jpg', 1), ('../data/img/test\\\\dogs\\\\dog_313.jpg', 1), ('../data/img/test\\\\dogs\\\\dog_327.jpg', 1), ('../data/img/test\\\\dogs\\\\dog_344.jpg', 1), ('../data/img/test\\\\dogs\\\\dog_354.jpg', 1), ('../data/img/test\\\\dogs\\\\dog_355.jpg', 1), ('../data/img/test\\\\dogs\\\\dog_360.jpg', 1), ('../data/img/test\\\\dogs\\\\dog_364.jpg', 1), ('../data/img/test\\\\dogs\\\\dog_369.jpg', 1), ('../data/img/test\\\\dogs\\\\dog_377.jpg', 1), ('../data/img/test\\\\dogs\\\\dog_380.jpg', 1), ('../data/img/test\\\\dogs\\\\dog_398.jpg', 1), ('../data/img/test\\\\dogs\\\\dog_415.jpg', 1), ('../data/img/test\\\\dogs\\\\dog_421.jpg', 1), ('../data/img/test\\\\dogs\\\\dog_43.jpg', 1), ('../data/img/test\\\\dogs\\\\dog_44.jpg', 1), ('../data/img/test\\\\dogs\\\\dog_442.jpg', 1), ('../data/img/test\\\\dogs\\\\dog_443.jpg', 1), ('../data/img/test\\\\dogs\\\\dog_461.jpg', 1), ('../data/img/test\\\\dogs\\\\dog_462.jpg', 1), ('../data/img/test\\\\dogs\\\\dog_464.jpg', 1), ('../data/img/test\\\\dogs\\\\dog_472.jpg', 1), ('../data/img/test\\\\dogs\\\\dog_476.jpg', 1), ('../data/img/test\\\\dogs\\\\dog_482.jpg', 1), ('../data/img/test\\\\dogs\\\\dog_517.jpg', 1), ('../data/img/test\\\\dogs\\\\dog_518.jpg', 1), ('../data/img/test\\\\dogs\\\\dog_519.jpg', 1), ('../data/img/test\\\\dogs\\\\dog_520.jpg', 1), ('../data/img/test\\\\dogs\\\\dog_521.jpg', 1), ('../data/img/test\\\\dogs\\\\dog_522.jpg', 1), ('../data/img/test\\\\dogs\\\\dog_528.jpg', 1), ('../data/img/test\\\\dogs\\\\dog_534.jpg', 1), ('../data/img/test\\\\dogs\\\\dog_536.jpg', 1), ('../data/img/test\\\\dogs\\\\dog_551.jpg', 1), ('../data/img/test\\\\dogs\\\\dog_563.jpg', 1), ('../data/img/test\\\\dogs\\\\dog_59.jpg', 1), ('../data/img/test\\\\dogs\\\\dog_68.jpg', 1), ('../data/img/test\\\\dogs\\\\dog_75.jpg', 1), ('../data/img/test\\\\dogs\\\\dog_89.jpg', 1)]\n"
     ]
    }
   ],
   "source": [
    "# 데이터 준비\n",
    "img_dir = \"../data/img/test\"\n",
    "preprocessing = transforms.Compose(transforms=[\n",
    "    transforms.Resize(256, interpolation=transforms.InterpolationMode.BILINEAR), \n",
    "    transforms.CenterCrop(224), \n",
    "    transforms.ToTensor(), \n",
    "    transforms.Normalize(mean=[0.485, 0.456, 0.406], std=[0.229, 0.224, 0.225])\n",
    "    ])\n",
    "\n",
    "# 이미지 데이터셋 생성\n",
    "imgDS = ImageFolder(root=img_dir, transform=preprocessing)\n",
    "print(imgDS.classes, imgDS.targets, imgDS.imgs, sep=\"\\n\")"
   ],
   "metadata": {
    "collapsed": false,
    "ExecuteTime": {
     "end_time": "2024-03-26T04:16:47.204648Z",
     "start_time": "2024-03-26T04:16:47.191445700Z"
    }
   },
   "id": "bce8a8c807b1ca80",
   "execution_count": 8
  },
  {
   "cell_type": "code",
   "outputs": [
    {
     "name": "stdout",
     "output_type": "stream",
     "text": [
      "torch.Size([3, 3, 224, 224]) tensor([0, 0, 0])\n",
      "torch.Size([3, 3, 224, 224]) tensor([0, 1, 0])\n",
      "torch.Size([3, 3, 224, 224]) tensor([0, 1, 0])\n",
      "torch.Size([3, 3, 224, 224]) tensor([0, 1, 1])\n",
      "torch.Size([3, 3, 224, 224]) tensor([1, 1, 0])\n",
      "torch.Size([3, 3, 224, 224]) tensor([1, 1, 0])\n",
      "torch.Size([3, 3, 224, 224]) tensor([1, 1, 0])\n",
      "torch.Size([3, 3, 224, 224]) tensor([0, 0, 0])\n",
      "torch.Size([3, 3, 224, 224]) tensor([1, 0, 0])\n",
      "torch.Size([3, 3, 224, 224]) tensor([1, 0, 1])\n",
      "torch.Size([3, 3, 224, 224]) tensor([0, 0, 1])\n",
      "torch.Size([3, 3, 224, 224]) tensor([1, 0, 0])\n",
      "torch.Size([3, 3, 224, 224]) tensor([0, 0, 0])\n",
      "torch.Size([3, 3, 224, 224]) tensor([1, 1, 1])\n",
      "torch.Size([3, 3, 224, 224]) tensor([0, 1, 1])\n",
      "torch.Size([3, 3, 224, 224]) tensor([0, 1, 0])\n",
      "torch.Size([3, 3, 224, 224]) tensor([0, 0, 1])\n",
      "torch.Size([3, 3, 224, 224]) tensor([0, 0, 1])\n",
      "torch.Size([3, 3, 224, 224]) tensor([1, 1, 0])\n",
      "torch.Size([3, 3, 224, 224]) tensor([1, 0, 1])\n",
      "torch.Size([3, 3, 224, 224]) tensor([1, 0, 1])\n",
      "torch.Size([3, 3, 224, 224]) tensor([1, 0, 1])\n",
      "torch.Size([3, 3, 224, 224]) tensor([1, 1, 1])\n",
      "torch.Size([3, 3, 224, 224]) tensor([1, 1, 0])\n",
      "torch.Size([3, 3, 224, 224]) tensor([1, 1, 0])\n",
      "torch.Size([3, 3, 224, 224]) tensor([0, 0, 0])\n",
      "torch.Size([3, 3, 224, 224]) tensor([0, 1, 0])\n",
      "torch.Size([3, 3, 224, 224]) tensor([1, 0, 1])\n",
      "torch.Size([3, 3, 224, 224]) tensor([1, 0, 1])\n",
      "torch.Size([3, 3, 224, 224]) tensor([1, 0, 0])\n",
      "torch.Size([3, 3, 224, 224]) tensor([1, 1, 0])\n",
      "torch.Size([3, 3, 224, 224]) tensor([1, 1, 1])\n",
      "torch.Size([3, 3, 224, 224]) tensor([1, 0, 1])\n",
      "torch.Size([3, 3, 224, 224]) tensor([1, 0, 0])\n",
      "torch.Size([3, 3, 224, 224]) tensor([1, 0, 1])\n",
      "torch.Size([3, 3, 224, 224]) tensor([0, 1, 1])\n",
      "torch.Size([3, 3, 224, 224]) tensor([1, 1, 1])\n",
      "torch.Size([3, 3, 224, 224]) tensor([0, 0, 0])\n",
      "torch.Size([3, 3, 224, 224]) tensor([0, 1, 0])\n",
      "torch.Size([3, 3, 224, 224]) tensor([1, 1, 1])\n",
      "torch.Size([3, 3, 224, 224]) tensor([0, 0, 0])\n",
      "torch.Size([3, 3, 224, 224]) tensor([1, 0, 0])\n",
      "torch.Size([3, 3, 224, 224]) tensor([1, 0, 0])\n",
      "torch.Size([3, 3, 224, 224]) tensor([1, 1, 0])\n",
      "torch.Size([3, 3, 224, 224]) tensor([1, 1, 0])\n",
      "torch.Size([3, 3, 224, 224]) tensor([0, 0, 1])\n"
     ]
    }
   ],
   "source": [
    "imgDL = DataLoader(imgDS, batch_size=3, shuffle=True, drop_last=True)\n",
    "for (img, label) in imgDL:\n",
    "    print(img.shape, label)"
   ],
   "metadata": {
    "collapsed": false,
    "ExecuteTime": {
     "end_time": "2024-03-26T04:16:49.181901300Z",
     "start_time": "2024-03-26T04:16:47.386334300Z"
    }
   },
   "id": "ef197ca8502f3634",
   "execution_count": 9
  },
  {
   "cell_type": "code",
   "outputs": [],
   "source": [
    "### 모델 설계 및 설정\n",
    "\n",
    "# 사전 학습된 모델 인스턴스 생성\n",
    "res_model = resnet18(weights = ResNet18_Weights.DEFAULT)\n",
    "\n",
    "# 전결합층 변경\n",
    "# in_features : FeatureMap에서 받은 피쳐 수\n",
    "# out_features : out_features : 출력/분류 클래스 수\n",
    "res_model.fc = nn.Linear(in_features=512, out_features=2)"
   ],
   "metadata": {
    "collapsed": false,
    "ExecuteTime": {
     "end_time": "2024-03-26T04:23:25.542743800Z",
     "start_time": "2024-03-26T04:23:25.402896400Z"
    }
   },
   "id": "41591df4a3623b6b",
   "execution_count": 11
  },
  {
   "cell_type": "code",
   "outputs": [
    {
     "data": {
      "text/plain": "==========================================================================================\nLayer (type:depth-idx)                   Output Shape              Param #\n==========================================================================================\nResNet                                   [3, 2]                    --\n├─Conv2d: 1-1                            [3, 64, 112, 112]         9,408\n├─BatchNorm2d: 1-2                       [3, 64, 112, 112]         128\n├─ReLU: 1-3                              [3, 64, 112, 112]         --\n├─MaxPool2d: 1-4                         [3, 64, 56, 56]           --\n├─Sequential: 1-5                        [3, 64, 56, 56]           --\n│    └─BasicBlock: 2-1                   [3, 64, 56, 56]           --\n│    │    └─Conv2d: 3-1                  [3, 64, 56, 56]           36,864\n│    │    └─BatchNorm2d: 3-2             [3, 64, 56, 56]           128\n│    │    └─ReLU: 3-3                    [3, 64, 56, 56]           --\n│    │    └─Conv2d: 3-4                  [3, 64, 56, 56]           36,864\n│    │    └─BatchNorm2d: 3-5             [3, 64, 56, 56]           128\n│    │    └─ReLU: 3-6                    [3, 64, 56, 56]           --\n│    └─BasicBlock: 2-2                   [3, 64, 56, 56]           --\n│    │    └─Conv2d: 3-7                  [3, 64, 56, 56]           36,864\n│    │    └─BatchNorm2d: 3-8             [3, 64, 56, 56]           128\n│    │    └─ReLU: 3-9                    [3, 64, 56, 56]           --\n│    │    └─Conv2d: 3-10                 [3, 64, 56, 56]           36,864\n│    │    └─BatchNorm2d: 3-11            [3, 64, 56, 56]           128\n│    │    └─ReLU: 3-12                   [3, 64, 56, 56]           --\n├─Sequential: 1-6                        [3, 128, 28, 28]          --\n│    └─BasicBlock: 2-3                   [3, 128, 28, 28]          --\n│    │    └─Conv2d: 3-13                 [3, 128, 28, 28]          73,728\n│    │    └─BatchNorm2d: 3-14            [3, 128, 28, 28]          256\n│    │    └─ReLU: 3-15                   [3, 128, 28, 28]          --\n│    │    └─Conv2d: 3-16                 [3, 128, 28, 28]          147,456\n│    │    └─BatchNorm2d: 3-17            [3, 128, 28, 28]          256\n│    │    └─Sequential: 3-18             [3, 128, 28, 28]          8,448\n│    │    └─ReLU: 3-19                   [3, 128, 28, 28]          --\n│    └─BasicBlock: 2-4                   [3, 128, 28, 28]          --\n│    │    └─Conv2d: 3-20                 [3, 128, 28, 28]          147,456\n│    │    └─BatchNorm2d: 3-21            [3, 128, 28, 28]          256\n│    │    └─ReLU: 3-22                   [3, 128, 28, 28]          --\n│    │    └─Conv2d: 3-23                 [3, 128, 28, 28]          147,456\n│    │    └─BatchNorm2d: 3-24            [3, 128, 28, 28]          256\n│    │    └─ReLU: 3-25                   [3, 128, 28, 28]          --\n├─Sequential: 1-7                        [3, 256, 14, 14]          --\n│    └─BasicBlock: 2-5                   [3, 256, 14, 14]          --\n│    │    └─Conv2d: 3-26                 [3, 256, 14, 14]          294,912\n│    │    └─BatchNorm2d: 3-27            [3, 256, 14, 14]          512\n│    │    └─ReLU: 3-28                   [3, 256, 14, 14]          --\n│    │    └─Conv2d: 3-29                 [3, 256, 14, 14]          589,824\n│    │    └─BatchNorm2d: 3-30            [3, 256, 14, 14]          512\n│    │    └─Sequential: 3-31             [3, 256, 14, 14]          33,280\n│    │    └─ReLU: 3-32                   [3, 256, 14, 14]          --\n│    └─BasicBlock: 2-6                   [3, 256, 14, 14]          --\n│    │    └─Conv2d: 3-33                 [3, 256, 14, 14]          589,824\n│    │    └─BatchNorm2d: 3-34            [3, 256, 14, 14]          512\n│    │    └─ReLU: 3-35                   [3, 256, 14, 14]          --\n│    │    └─Conv2d: 3-36                 [3, 256, 14, 14]          589,824\n│    │    └─BatchNorm2d: 3-37            [3, 256, 14, 14]          512\n│    │    └─ReLU: 3-38                   [3, 256, 14, 14]          --\n├─Sequential: 1-8                        [3, 512, 7, 7]            --\n│    └─BasicBlock: 2-7                   [3, 512, 7, 7]            --\n│    │    └─Conv2d: 3-39                 [3, 512, 7, 7]            1,179,648\n│    │    └─BatchNorm2d: 3-40            [3, 512, 7, 7]            1,024\n│    │    └─ReLU: 3-41                   [3, 512, 7, 7]            --\n│    │    └─Conv2d: 3-42                 [3, 512, 7, 7]            2,359,296\n│    │    └─BatchNorm2d: 3-43            [3, 512, 7, 7]            1,024\n│    │    └─Sequential: 3-44             [3, 512, 7, 7]            132,096\n│    │    └─ReLU: 3-45                   [3, 512, 7, 7]            --\n│    └─BasicBlock: 2-8                   [3, 512, 7, 7]            --\n│    │    └─Conv2d: 3-46                 [3, 512, 7, 7]            2,359,296\n│    │    └─BatchNorm2d: 3-47            [3, 512, 7, 7]            1,024\n│    │    └─ReLU: 3-48                   [3, 512, 7, 7]            --\n│    │    └─Conv2d: 3-49                 [3, 512, 7, 7]            2,359,296\n│    │    └─BatchNorm2d: 3-50            [3, 512, 7, 7]            1,024\n│    │    └─ReLU: 3-51                   [3, 512, 7, 7]            --\n├─AdaptiveAvgPool2d: 1-9                 [3, 512, 1, 1]            --\n├─Linear: 1-10                           [3, 2]                    1,026\n==========================================================================================\nTotal params: 11,177,538\nTrainable params: 11,177,538\nNon-trainable params: 0\nTotal mult-adds (G): 5.44\n==========================================================================================\nInput size (MB): 1.81\nForward/backward pass size (MB): 119.22\nParams size (MB): 44.71\nEstimated Total Size (MB): 165.73\n=========================================================================================="
     },
     "execution_count": 12,
     "metadata": {},
     "output_type": "execute_result"
    }
   ],
   "source": [
    "summary(res_model, input_size=(3, 3, 224, 224))"
   ],
   "metadata": {
    "collapsed": false,
    "ExecuteTime": {
     "end_time": "2024-03-26T04:23:58.659449900Z",
     "start_time": "2024-03-26T04:23:58.554572800Z"
    }
   },
   "id": "12d49f4e211df20f",
   "execution_count": 12
  },
  {
   "cell_type": "code",
   "outputs": [
    {
     "name": "stdout",
     "output_type": "stream",
     "text": [
      "conv1.weight True   ====>   False\n",
      "bn1.weight True   ====>   False\n",
      "bn1.bias True   ====>   False\n",
      "layer1.0.conv1.weight True   ====>   False\n",
      "layer1.0.bn1.weight True   ====>   False\n",
      "layer1.0.bn1.bias True   ====>   False\n",
      "layer1.0.conv2.weight True   ====>   False\n",
      "layer1.0.bn2.weight True   ====>   False\n",
      "layer1.0.bn2.bias True   ====>   False\n",
      "layer1.1.conv1.weight True   ====>   False\n",
      "layer1.1.bn1.weight True   ====>   False\n",
      "layer1.1.bn1.bias True   ====>   False\n",
      "layer1.1.conv2.weight True   ====>   False\n",
      "layer1.1.bn2.weight True   ====>   False\n",
      "layer1.1.bn2.bias True   ====>   False\n",
      "layer2.0.conv1.weight True   ====>   False\n",
      "layer2.0.bn1.weight True   ====>   False\n",
      "layer2.0.bn1.bias True   ====>   False\n",
      "layer2.0.conv2.weight True   ====>   False\n",
      "layer2.0.bn2.weight True   ====>   False\n",
      "layer2.0.bn2.bias True   ====>   False\n",
      "layer2.0.downsample.0.weight True   ====>   False\n",
      "layer2.0.downsample.1.weight True   ====>   False\n",
      "layer2.0.downsample.1.bias True   ====>   False\n",
      "layer2.1.conv1.weight True   ====>   False\n",
      "layer2.1.bn1.weight True   ====>   False\n",
      "layer2.1.bn1.bias True   ====>   False\n",
      "layer2.1.conv2.weight True   ====>   False\n",
      "layer2.1.bn2.weight True   ====>   False\n",
      "layer2.1.bn2.bias True   ====>   False\n",
      "layer3.0.conv1.weight True   ====>   False\n",
      "layer3.0.bn1.weight True   ====>   False\n",
      "layer3.0.bn1.bias True   ====>   False\n",
      "layer3.0.conv2.weight True   ====>   False\n",
      "layer3.0.bn2.weight True   ====>   False\n",
      "layer3.0.bn2.bias True   ====>   False\n",
      "layer3.0.downsample.0.weight True   ====>   False\n",
      "layer3.0.downsample.1.weight True   ====>   False\n",
      "layer3.0.downsample.1.bias True   ====>   False\n",
      "layer3.1.conv1.weight True   ====>   False\n",
      "layer3.1.bn1.weight True   ====>   False\n",
      "layer3.1.bn1.bias True   ====>   False\n",
      "layer3.1.conv2.weight True   ====>   False\n",
      "layer3.1.bn2.weight True   ====>   False\n",
      "layer3.1.bn2.bias True   ====>   False\n",
      "layer4.0.conv1.weight True   ====>   False\n",
      "layer4.0.bn1.weight True   ====>   False\n",
      "layer4.0.bn1.bias True   ====>   False\n",
      "layer4.0.conv2.weight True   ====>   False\n",
      "layer4.0.bn2.weight True   ====>   False\n",
      "layer4.0.bn2.bias True   ====>   False\n",
      "layer4.0.downsample.0.weight True   ====>   False\n",
      "layer4.0.downsample.1.weight True   ====>   False\n",
      "layer4.0.downsample.1.bias True   ====>   False\n",
      "layer4.1.conv1.weight True   ====>   False\n",
      "layer4.1.bn1.weight True   ====>   False\n",
      "layer4.1.bn1.bias True   ====>   False\n",
      "layer4.1.conv2.weight True   ====>   False\n",
      "layer4.1.bn2.weight True   ====>   False\n",
      "layer4.1.bn2.bias True   ====>   False\n",
      "fc.weight True   ====>   False\n",
      "fc.bias True   ====>   False\n",
      "conv1.weight False   ====>   True\n",
      "bn1.weight False   ====>   True\n",
      "bn1.bias False   ====>   True\n",
      "layer1.0.conv1.weight False   ====>   True\n",
      "layer1.0.bn1.weight False   ====>   True\n",
      "layer1.0.bn1.bias False   ====>   True\n",
      "layer1.0.conv2.weight False   ====>   True\n",
      "layer1.0.bn2.weight False   ====>   True\n",
      "layer1.0.bn2.bias False   ====>   True\n",
      "layer1.1.conv1.weight False   ====>   True\n",
      "layer1.1.bn1.weight False   ====>   True\n",
      "layer1.1.bn1.bias False   ====>   True\n",
      "layer1.1.conv2.weight False   ====>   True\n",
      "layer1.1.bn2.weight False   ====>   True\n",
      "layer1.1.bn2.bias False   ====>   True\n",
      "layer2.0.conv1.weight False   ====>   True\n",
      "layer2.0.bn1.weight False   ====>   True\n",
      "layer2.0.bn1.bias False   ====>   True\n",
      "layer2.0.conv2.weight False   ====>   True\n",
      "layer2.0.bn2.weight False   ====>   True\n",
      "layer2.0.bn2.bias False   ====>   True\n",
      "layer2.0.downsample.0.weight False   ====>   True\n",
      "layer2.0.downsample.1.weight False   ====>   True\n",
      "layer2.0.downsample.1.bias False   ====>   True\n",
      "layer2.1.conv1.weight False   ====>   True\n",
      "layer2.1.bn1.weight False   ====>   True\n",
      "layer2.1.bn1.bias False   ====>   True\n",
      "layer2.1.conv2.weight False   ====>   True\n",
      "layer2.1.bn2.weight False   ====>   True\n",
      "layer2.1.bn2.bias False   ====>   True\n",
      "layer3.0.conv1.weight False   ====>   True\n",
      "layer3.0.bn1.weight False   ====>   True\n",
      "layer3.0.bn1.bias False   ====>   True\n",
      "layer3.0.conv2.weight False   ====>   True\n",
      "layer3.0.bn2.weight False   ====>   True\n",
      "layer3.0.bn2.bias False   ====>   True\n",
      "layer3.0.downsample.0.weight False   ====>   True\n",
      "layer3.0.downsample.1.weight False   ====>   True\n",
      "layer3.0.downsample.1.bias False   ====>   True\n",
      "layer3.1.conv1.weight False   ====>   True\n",
      "layer3.1.bn1.weight False   ====>   True\n",
      "layer3.1.bn1.bias False   ====>   True\n",
      "layer3.1.conv2.weight False   ====>   True\n",
      "layer3.1.bn2.weight False   ====>   True\n",
      "layer3.1.bn2.bias False   ====>   True\n",
      "layer4.0.conv1.weight False   ====>   True\n",
      "layer4.0.bn1.weight False   ====>   True\n",
      "layer4.0.bn1.bias False   ====>   True\n",
      "layer4.0.conv2.weight False   ====>   True\n",
      "layer4.0.bn2.weight False   ====>   True\n",
      "layer4.0.bn2.bias False   ====>   True\n",
      "layer4.0.downsample.0.weight False   ====>   True\n",
      "layer4.0.downsample.1.weight False   ====>   True\n",
      "layer4.0.downsample.1.bias False   ====>   True\n",
      "layer4.1.conv1.weight False   ====>   True\n",
      "layer4.1.bn1.weight False   ====>   True\n",
      "layer4.1.bn1.bias False   ====>   True\n",
      "layer4.1.conv2.weight False   ====>   True\n",
      "layer4.1.bn2.weight False   ====>   True\n",
      "layer4.1.bn2.bias False   ====>   True\n",
      "fc.weight False   ====>   True\n",
      "fc.bias False   ====>   True\n"
     ]
    }
   ],
   "source": [
    "# Resnet18 Feature Module 파라미터 requires_grad = True => False로 비활성화\n",
    "for name, param in res_model.named_parameters():\n",
    "    print(name, param.requires_grad, end=\"   ====>   \")\n",
    "    param.requires_grad = False\n",
    "    print(param.requires_grad)\n",
    "    \n",
    "# Resnet18 Full Connected Module 파라미터 requires_grad = False -> True로 활성화\n",
    "for name, param in res_model.named_parameters():\n",
    "    print(name, param.requires_grad, end=\"   ====>   \")\n",
    "    param.requires_grad = True\n",
    "    print(param.requires_grad)"
   ],
   "metadata": {
    "collapsed": false,
    "ExecuteTime": {
     "end_time": "2024-03-26T04:29:05.425302200Z",
     "start_time": "2024-03-26T04:29:05.401369800Z"
    }
   },
   "id": "3fda17a8d6f9b505",
   "execution_count": 14
  },
  {
   "cell_type": "code",
   "outputs": [],
   "source": [
    "# 학습 준비\n",
    "optimizer = optim.Adam(res_model.fc.parameters()) # fc(전결합층)만 줘야함!!\n",
    "loss_fn = nn.CrossEntropyLoss() # 손실함수 정의\n",
    "EPOCHS = 3"
   ],
   "metadata": {
    "collapsed": false,
    "ExecuteTime": {
     "end_time": "2024-03-26T04:29:51.898639300Z",
     "start_time": "2024-03-26T04:29:50.996426Z"
    }
   },
   "id": "b08c99d47a1cf839",
   "execution_count": 15
  },
  {
   "cell_type": "code",
   "outputs": [],
   "source": [
    "# 초기화 시킬 가중치 받아서 클래스로 만들어도 됨 \n",
    "# 가중치를 None주고 내 데이터로 학습 시켜도 됨(추가 학습)"
   ],
   "metadata": {
    "collapsed": false
   },
   "id": "b6cccd71ba7e51d1"
  }
 ],
 "metadata": {
  "kernelspec": {
   "display_name": "Python 3",
   "language": "python",
   "name": "python3"
  },
  "language_info": {
   "codemirror_mode": {
    "name": "ipython",
    "version": 2
   },
   "file_extension": ".py",
   "mimetype": "text/x-python",
   "name": "python",
   "nbconvert_exporter": "python",
   "pygments_lexer": "ipython2",
   "version": "2.7.6"
  }
 },
 "nbformat": 4,
 "nbformat_minor": 5
}
