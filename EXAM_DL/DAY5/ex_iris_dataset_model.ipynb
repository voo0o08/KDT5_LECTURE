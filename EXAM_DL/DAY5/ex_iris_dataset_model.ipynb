{
 "cells": [
  {
   "cell_type": "markdown",
   "source": [
    "# Dataset & DataLoader 살펴보기\n",
    "- Pytorch에서 배치크기만 데이터를 조절하기 위한 메커니즴\n",
    "- Dataset : 사용 데이터를 기반으로 사용자 정의 클래스 작성 \n",
    "- DataLoader : 지정된 Datase에서 지정된 배치사이즈 만큼 피쳐와 타겟을 추출하여 전달"
   ],
   "metadata": {
    "collapsed": false
   },
   "id": "159a1aca15f780e8"
  },
  {
   "cell_type": "code",
   "outputs": [],
   "source": [
    "# 모듈 로딩\n",
    "import torch\n",
    "import torch.nn as nn\n",
    "from torch.utils.data import Dataset, DataLoader, TensorDataset\n",
    "\n",
    "import numpy as np\n",
    "import pandas as pd"
   ],
   "metadata": {
    "collapsed": false,
    "ExecuteTime": {
     "end_time": "2024-03-15T06:50:31.548398200Z",
     "start_time": "2024-03-15T06:50:31.197425Z"
    }
   },
   "id": "df5cee2620a73417",
   "execution_count": 7
  },
  {
   "cell_type": "code",
   "outputs": [
    {
     "name": "stdout",
     "output_type": "stream",
     "text": [
      "x_data => torch.Size([5, 3]) 2D\n",
      "y_data => torch.Size([5, 1]) 2D\n"
     ]
    }
   ],
   "source": [
    "# 데이터 준비\n",
    "x_data = torch.IntTensor([[10, 20, 30],[20, 30, 40],[30, 40, 50],[40, 50, 60], [50, 60, 70]])\n",
    "y_data = torch.IntTensor([[20], [30], [40], [50], [60]])\n",
    "\n",
    "#  행 길이는 꼭 맞춰줘야함!! \n",
    "\n",
    "print(f\"x_data => {x_data.shape} {x_data.ndim}D\")\n",
    "print(f\"y_data => {y_data.shape} {y_data.ndim}D\")"
   ],
   "metadata": {
    "collapsed": false,
    "ExecuteTime": {
     "end_time": "2024-03-15T06:50:31.560145400Z",
     "start_time": "2024-03-15T06:50:31.534205100Z"
    }
   },
   "id": "1cbdbaa832542298",
   "execution_count": 8
  },
  {
   "cell_type": "markdown",
   "source": [
    "# 2. 데이터셋 생성 "
   ],
   "metadata": {
    "collapsed": false
   },
   "id": "7b04d84c2080f8c1"
  },
  {
   "cell_type": "markdown",
   "source": [
    "## 2-1 TensorDataset 활용 : Dataset의 sub_class "
   ],
   "metadata": {
    "collapsed": false
   },
   "id": "ae4e738794179135"
  },
  {
   "cell_type": "code",
   "outputs": [],
   "source": [
    "# tensorDataset 클래스 로딩\n",
    "from torch.utils.data import TensorDataset"
   ],
   "metadata": {
    "collapsed": false,
    "ExecuteTime": {
     "end_time": "2024-03-15T06:50:31.600414900Z",
     "start_time": "2024-03-15T06:50:31.547341Z"
    }
   },
   "id": "3938ddaa19cd75cc",
   "execution_count": 9
  },
  {
   "cell_type": "code",
   "outputs": [
    {
     "data": {
      "text/plain": "<torch.utils.data.dataset.TensorDataset at 0x1b755dd1190>"
     },
     "execution_count": 10,
     "metadata": {},
     "output_type": "execute_result"
    }
   ],
   "source": [
    "dataset = TensorDataset(x_data, y_data)\n",
    "dataset "
   ],
   "metadata": {
    "collapsed": false,
    "ExecuteTime": {
     "end_time": "2024-03-15T06:50:31.618382900Z",
     "start_time": "2024-03-15T06:50:31.563380100Z"
    }
   },
   "id": "5ec706a96ef634e4",
   "execution_count": 10
  },
  {
   "cell_type": "code",
   "outputs": [
    {
     "data": {
      "text/plain": "(tensor([[10, 20, 30],\n         [20, 30, 40],\n         [30, 40, 50],\n         [40, 50, 60],\n         [50, 60, 70]], dtype=torch.int32),\n tensor([[20],\n         [30],\n         [40],\n         [50],\n         [60]], dtype=torch.int32))"
     },
     "execution_count": 11,
     "metadata": {},
     "output_type": "execute_result"
    }
   ],
   "source": [
    "dataset.tensors"
   ],
   "metadata": {
    "collapsed": false,
    "ExecuteTime": {
     "end_time": "2024-03-15T06:50:31.619412800Z",
     "start_time": "2024-03-15T06:50:31.578369200Z"
    }
   },
   "id": "cbf6f47af071981c",
   "execution_count": 11
  },
  {
   "cell_type": "code",
   "outputs": [
    {
     "data": {
      "text/plain": "(tensor([10, 20, 30], dtype=torch.int32), tensor([20], dtype=torch.int32))"
     },
     "execution_count": 12,
     "metadata": {},
     "output_type": "execute_result"
    }
   ],
   "source": [
    "# __getitem__() 메서드 호출 \n",
    "dataset[0] # x와 y의 첫번 째 요소들을 뽑아줌 "
   ],
   "metadata": {
    "collapsed": false,
    "ExecuteTime": {
     "end_time": "2024-03-15T06:50:31.668739200Z",
     "start_time": "2024-03-15T06:50:31.592044700Z"
    }
   },
   "id": "f4d8f4feb85d6766",
   "execution_count": 12
  },
  {
   "cell_type": "code",
   "outputs": [
    {
     "data": {
      "text/plain": "5"
     },
     "execution_count": 13,
     "metadata": {},
     "output_type": "execute_result"
    }
   ],
   "source": [
    "len(dataset)"
   ],
   "metadata": {
    "collapsed": false,
    "ExecuteTime": {
     "end_time": "2024-03-15T06:50:31.690927600Z",
     "start_time": "2024-03-15T06:50:31.608828700Z"
    }
   },
   "id": "9121ed80d4e441fc",
   "execution_count": 13
  },
  {
   "cell_type": "markdown",
   "source": [
    "## 2-2 사용자 정의 데이터셋 생성"
   ],
   "metadata": {
    "collapsed": false
   },
   "id": "8d80ea5cc7d19f1a"
  },
  {
   "cell_type": "code",
   "outputs": [
    {
     "data": {
      "text/plain": "     sepal.length  sepal.width  petal.length  petal.width    variety\n0             5.1          3.5           1.4          0.2     Setosa\n1             4.9          3.0           1.4          0.2     Setosa\n2             4.7          3.2           1.3          0.2     Setosa\n3             4.6          3.1           1.5          0.2     Setosa\n4             5.0          3.6           1.4          0.2     Setosa\n..            ...          ...           ...          ...        ...\n145           6.7          3.0           5.2          2.3  Virginica\n146           6.3          2.5           5.0          1.9  Virginica\n147           6.5          3.0           5.2          2.0  Virginica\n148           6.2          3.4           5.4          2.3  Virginica\n149           5.9          3.0           5.1          1.8  Virginica\n\n[150 rows x 5 columns]",
      "text/html": "<div>\n<style scoped>\n    .dataframe tbody tr th:only-of-type {\n        vertical-align: middle;\n    }\n\n    .dataframe tbody tr th {\n        vertical-align: top;\n    }\n\n    .dataframe thead th {\n        text-align: right;\n    }\n</style>\n<table border=\"1\" class=\"dataframe\">\n  <thead>\n    <tr style=\"text-align: right;\">\n      <th></th>\n      <th>sepal.length</th>\n      <th>sepal.width</th>\n      <th>petal.length</th>\n      <th>petal.width</th>\n      <th>variety</th>\n    </tr>\n  </thead>\n  <tbody>\n    <tr>\n      <th>0</th>\n      <td>5.1</td>\n      <td>3.5</td>\n      <td>1.4</td>\n      <td>0.2</td>\n      <td>Setosa</td>\n    </tr>\n    <tr>\n      <th>1</th>\n      <td>4.9</td>\n      <td>3.0</td>\n      <td>1.4</td>\n      <td>0.2</td>\n      <td>Setosa</td>\n    </tr>\n    <tr>\n      <th>2</th>\n      <td>4.7</td>\n      <td>3.2</td>\n      <td>1.3</td>\n      <td>0.2</td>\n      <td>Setosa</td>\n    </tr>\n    <tr>\n      <th>3</th>\n      <td>4.6</td>\n      <td>3.1</td>\n      <td>1.5</td>\n      <td>0.2</td>\n      <td>Setosa</td>\n    </tr>\n    <tr>\n      <th>4</th>\n      <td>5.0</td>\n      <td>3.6</td>\n      <td>1.4</td>\n      <td>0.2</td>\n      <td>Setosa</td>\n    </tr>\n    <tr>\n      <th>...</th>\n      <td>...</td>\n      <td>...</td>\n      <td>...</td>\n      <td>...</td>\n      <td>...</td>\n    </tr>\n    <tr>\n      <th>145</th>\n      <td>6.7</td>\n      <td>3.0</td>\n      <td>5.2</td>\n      <td>2.3</td>\n      <td>Virginica</td>\n    </tr>\n    <tr>\n      <th>146</th>\n      <td>6.3</td>\n      <td>2.5</td>\n      <td>5.0</td>\n      <td>1.9</td>\n      <td>Virginica</td>\n    </tr>\n    <tr>\n      <th>147</th>\n      <td>6.5</td>\n      <td>3.0</td>\n      <td>5.2</td>\n      <td>2.0</td>\n      <td>Virginica</td>\n    </tr>\n    <tr>\n      <th>148</th>\n      <td>6.2</td>\n      <td>3.4</td>\n      <td>5.4</td>\n      <td>2.3</td>\n      <td>Virginica</td>\n    </tr>\n    <tr>\n      <th>149</th>\n      <td>5.9</td>\n      <td>3.0</td>\n      <td>5.1</td>\n      <td>1.8</td>\n      <td>Virginica</td>\n    </tr>\n  </tbody>\n</table>\n<p>150 rows × 5 columns</p>\n</div>"
     },
     "execution_count": 14,
     "metadata": {},
     "output_type": "execute_result"
    }
   ],
   "source": [
    "### data 준비\n",
    "file = \"../../EXAM_ML/data/iris.csv\"\n",
    "\n",
    "irisDF = pd.read_csv(file)\n",
    "irisDF"
   ],
   "metadata": {
    "collapsed": false,
    "ExecuteTime": {
     "end_time": "2024-03-15T06:50:31.743752Z",
     "start_time": "2024-03-15T06:50:31.622550200Z"
    }
   },
   "id": "f80fcc672dc413fd",
   "execution_count": 14
  },
  {
   "cell_type": "code",
   "outputs": [
    {
     "data": {
      "text/plain": "array([[5.1, 3.5, 1.4, 0.2],\n       [4.9, 3. , 1.4, 0.2],\n       [4.7, 3.2, 1.3, 0.2],\n       [4.6, 3.1, 1.5, 0.2],\n       [5. , 3.6, 1.4, 0.2],\n       [5.4, 3.9, 1.7, 0.4],\n       [4.6, 3.4, 1.4, 0.3],\n       [5. , 3.4, 1.5, 0.2],\n       [4.4, 2.9, 1.4, 0.2],\n       [4.9, 3.1, 1.5, 0.1],\n       [5.4, 3.7, 1.5, 0.2],\n       [4.8, 3.4, 1.6, 0.2],\n       [4.8, 3. , 1.4, 0.1],\n       [4.3, 3. , 1.1, 0.1],\n       [5.8, 4. , 1.2, 0.2],\n       [5.7, 4.4, 1.5, 0.4],\n       [5.4, 3.9, 1.3, 0.4],\n       [5.1, 3.5, 1.4, 0.3],\n       [5.7, 3.8, 1.7, 0.3],\n       [5.1, 3.8, 1.5, 0.3],\n       [5.4, 3.4, 1.7, 0.2],\n       [5.1, 3.7, 1.5, 0.4],\n       [4.6, 3.6, 1. , 0.2],\n       [5.1, 3.3, 1.7, 0.5],\n       [4.8, 3.4, 1.9, 0.2],\n       [5. , 3. , 1.6, 0.2],\n       [5. , 3.4, 1.6, 0.4],\n       [5.2, 3.5, 1.5, 0.2],\n       [5.2, 3.4, 1.4, 0.2],\n       [4.7, 3.2, 1.6, 0.2],\n       [4.8, 3.1, 1.6, 0.2],\n       [5.4, 3.4, 1.5, 0.4],\n       [5.2, 4.1, 1.5, 0.1],\n       [5.5, 4.2, 1.4, 0.2],\n       [4.9, 3.1, 1.5, 0.2],\n       [5. , 3.2, 1.2, 0.2],\n       [5.5, 3.5, 1.3, 0.2],\n       [4.9, 3.6, 1.4, 0.1],\n       [4.4, 3. , 1.3, 0.2],\n       [5.1, 3.4, 1.5, 0.2],\n       [5. , 3.5, 1.3, 0.3],\n       [4.5, 2.3, 1.3, 0.3],\n       [4.4, 3.2, 1.3, 0.2],\n       [5. , 3.5, 1.6, 0.6],\n       [5.1, 3.8, 1.9, 0.4],\n       [4.8, 3. , 1.4, 0.3],\n       [5.1, 3.8, 1.6, 0.2],\n       [4.6, 3.2, 1.4, 0.2],\n       [5.3, 3.7, 1.5, 0.2],\n       [5. , 3.3, 1.4, 0.2],\n       [7. , 3.2, 4.7, 1.4],\n       [6.4, 3.2, 4.5, 1.5],\n       [6.9, 3.1, 4.9, 1.5],\n       [5.5, 2.3, 4. , 1.3],\n       [6.5, 2.8, 4.6, 1.5],\n       [5.7, 2.8, 4.5, 1.3],\n       [6.3, 3.3, 4.7, 1.6],\n       [4.9, 2.4, 3.3, 1. ],\n       [6.6, 2.9, 4.6, 1.3],\n       [5.2, 2.7, 3.9, 1.4],\n       [5. , 2. , 3.5, 1. ],\n       [5.9, 3. , 4.2, 1.5],\n       [6. , 2.2, 4. , 1. ],\n       [6.1, 2.9, 4.7, 1.4],\n       [5.6, 2.9, 3.6, 1.3],\n       [6.7, 3.1, 4.4, 1.4],\n       [5.6, 3. , 4.5, 1.5],\n       [5.8, 2.7, 4.1, 1. ],\n       [6.2, 2.2, 4.5, 1.5],\n       [5.6, 2.5, 3.9, 1.1],\n       [5.9, 3.2, 4.8, 1.8],\n       [6.1, 2.8, 4. , 1.3],\n       [6.3, 2.5, 4.9, 1.5],\n       [6.1, 2.8, 4.7, 1.2],\n       [6.4, 2.9, 4.3, 1.3],\n       [6.6, 3. , 4.4, 1.4],\n       [6.8, 2.8, 4.8, 1.4],\n       [6.7, 3. , 5. , 1.7],\n       [6. , 2.9, 4.5, 1.5],\n       [5.7, 2.6, 3.5, 1. ],\n       [5.5, 2.4, 3.8, 1.1],\n       [5.5, 2.4, 3.7, 1. ],\n       [5.8, 2.7, 3.9, 1.2],\n       [6. , 2.7, 5.1, 1.6],\n       [5.4, 3. , 4.5, 1.5],\n       [6. , 3.4, 4.5, 1.6],\n       [6.7, 3.1, 4.7, 1.5],\n       [6.3, 2.3, 4.4, 1.3],\n       [5.6, 3. , 4.1, 1.3],\n       [5.5, 2.5, 4. , 1.3],\n       [5.5, 2.6, 4.4, 1.2],\n       [6.1, 3. , 4.6, 1.4],\n       [5.8, 2.6, 4. , 1.2],\n       [5. , 2.3, 3.3, 1. ],\n       [5.6, 2.7, 4.2, 1.3],\n       [5.7, 3. , 4.2, 1.2],\n       [5.7, 2.9, 4.2, 1.3],\n       [6.2, 2.9, 4.3, 1.3],\n       [5.1, 2.5, 3. , 1.1],\n       [5.7, 2.8, 4.1, 1.3],\n       [6.3, 3.3, 6. , 2.5],\n       [5.8, 2.7, 5.1, 1.9],\n       [7.1, 3. , 5.9, 2.1],\n       [6.3, 2.9, 5.6, 1.8],\n       [6.5, 3. , 5.8, 2.2],\n       [7.6, 3. , 6.6, 2.1],\n       [4.9, 2.5, 4.5, 1.7],\n       [7.3, 2.9, 6.3, 1.8],\n       [6.7, 2.5, 5.8, 1.8],\n       [7.2, 3.6, 6.1, 2.5],\n       [6.5, 3.2, 5.1, 2. ],\n       [6.4, 2.7, 5.3, 1.9],\n       [6.8, 3. , 5.5, 2.1],\n       [5.7, 2.5, 5. , 2. ],\n       [5.8, 2.8, 5.1, 2.4],\n       [6.4, 3.2, 5.3, 2.3],\n       [6.5, 3. , 5.5, 1.8],\n       [7.7, 3.8, 6.7, 2.2],\n       [7.7, 2.6, 6.9, 2.3],\n       [6. , 2.2, 5. , 1.5],\n       [6.9, 3.2, 5.7, 2.3],\n       [5.6, 2.8, 4.9, 2. ],\n       [7.7, 2.8, 6.7, 2. ],\n       [6.3, 2.7, 4.9, 1.8],\n       [6.7, 3.3, 5.7, 2.1],\n       [7.2, 3.2, 6. , 1.8],\n       [6.2, 2.8, 4.8, 1.8],\n       [6.1, 3. , 4.9, 1.8],\n       [6.4, 2.8, 5.6, 2.1],\n       [7.2, 3. , 5.8, 1.6],\n       [7.4, 2.8, 6.1, 1.9],\n       [7.9, 3.8, 6.4, 2. ],\n       [6.4, 2.8, 5.6, 2.2],\n       [6.3, 2.8, 5.1, 1.5],\n       [6.1, 2.6, 5.6, 1.4],\n       [7.7, 3. , 6.1, 2.3],\n       [6.3, 3.4, 5.6, 2.4],\n       [6.4, 3.1, 5.5, 1.8],\n       [6. , 3. , 4.8, 1.8],\n       [6.9, 3.1, 5.4, 2.1],\n       [6.7, 3.1, 5.6, 2.4],\n       [6.9, 3.1, 5.1, 2.3],\n       [5.8, 2.7, 5.1, 1.9],\n       [6.8, 3.2, 5.9, 2.3],\n       [6.7, 3.3, 5.7, 2.5],\n       [6.7, 3. , 5.2, 2.3],\n       [6.3, 2.5, 5. , 1.9],\n       [6.5, 3. , 5.2, 2. ],\n       [6.2, 3.4, 5.4, 2.3],\n       [5.9, 3. , 5.1, 1.8]])"
     },
     "execution_count": 15,
     "metadata": {},
     "output_type": "execute_result"
    }
   ],
   "source": [
    "# 넘파이로도 한번 열어보자\n",
    "irisNP = np.loadtxt(file, delimiter=\",\" ,skiprows=1, usecols=[0, 1, 2, 3])\n",
    "irisNP"
   ],
   "metadata": {
    "collapsed": false,
    "ExecuteTime": {
     "end_time": "2024-03-15T06:50:31.745853100Z",
     "start_time": "2024-03-15T06:50:31.651954600Z"
    }
   },
   "id": "8c86d39fc8c6ad20",
   "execution_count": 15
  },
  {
   "cell_type": "code",
   "outputs": [
    {
     "data": {
      "text/plain": "('DataFrame', 'ndarray')"
     },
     "execution_count": 16,
     "metadata": {},
     "output_type": "execute_result"
    }
   ],
   "source": [
    "irisDF.__class__.__name__, irisNP.__class__.__name__"
   ],
   "metadata": {
    "collapsed": false,
    "ExecuteTime": {
     "end_time": "2024-03-15T06:50:31.775827600Z",
     "start_time": "2024-03-15T06:50:31.667689900Z"
    }
   },
   "id": "5d63e4b0b95e7579",
   "execution_count": 16
  },
  {
   "cell_type": "code",
   "outputs": [
    {
     "data": {
      "text/plain": "(True, True, True)"
     },
     "execution_count": 17,
     "metadata": {},
     "output_type": "execute_result"
    }
   ],
   "source": [
    "isinstance(irisDF, pd.DataFrame), isinstance(irisNP, np.ndarray), isinstance([1, 2], list)"
   ],
   "metadata": {
    "collapsed": false,
    "ExecuteTime": {
     "end_time": "2024-03-15T06:50:31.779422800Z",
     "start_time": "2024-03-15T06:50:31.683549700Z"
    }
   },
   "id": "4f279d148e66edae",
   "execution_count": 17
  },
  {
   "cell_type": "code",
   "outputs": [],
   "source": [
    "# 사용자 정의 DataSet Class\n",
    "# Dataset = 부모 \n",
    "# DLDataset = 자식\n",
    "# 데이터의 텐서변환\n",
    "class DLDataset(Dataset):\n",
    "    \n",
    "    # 초기화 함수\n",
    "    def __init__(self, x_data, y_data):\n",
    "        super().__init__()\n",
    "        # x, y 데이터 => ndarray\n",
    "        x_data = x_data.values if isinstance(x_data, pd.DataFrame) else x_data # 데이터 프레임이라면 valuse로 어레이 뽑아줘야함 \n",
    "        y_data = y_data.values if isinstance(y_data, pd.DataFrame) else y_data \n",
    "        \n",
    "        # ndarray => tensor \n",
    "        self.feature = torch.FloatTensor(x_data)\n",
    "        self.target = torch.LongTensor(y_data) # 아까 라벨 인코더로 int가 됐응께 고쳐야제 ... \n",
    "        print(\"[target & feature SHAPE]\", self.target.shape, self.target.ndim)\n",
    "        \n",
    "    # 데이터셋의 개수 체크 함수\n",
    "    def __len__(self):\n",
    "        return self.target.shape[0]\n",
    "    \n",
    "    # 특정 인덱스 데이터 + 라벨 반환 callback function \n",
    "    def __getitem__(self, index):\n",
    "        return self.feature[index], self.target[index] # 둘 다 튜플로 출동 "
   ],
   "metadata": {
    "collapsed": false,
    "ExecuteTime": {
     "end_time": "2024-03-15T06:50:31.790969300Z",
     "start_time": "2024-03-15T06:50:31.699655500Z"
    }
   },
   "id": "c0f6b9aa22565553",
   "execution_count": 18
  },
  {
   "cell_type": "markdown",
   "source": [
    "## 2-2 데이터셋 인스턴스  생성"
   ],
   "metadata": {
    "collapsed": false
   },
   "id": "8b92545802b43c2f"
  },
  {
   "cell_type": "code",
   "outputs": [
    {
     "name": "stdout",
     "output_type": "stream",
     "text": [
      "featureDF => (150, 4), 2D\n",
      "targetDF => (150,), 1D\n",
      "targetDF => (150, 1), 2D\n"
     ]
    }
   ],
   "source": [
    "# feature와 label 분리 \n",
    "featureDF = irisDF[irisDF.columns[:-1]]\n",
    "targetNP = irisDF[irisDF.columns[-1]]\n",
    "\n",
    "from sklearn.preprocessing import LabelEncoder # object 타입 타겟 => int 타입 타겟 변환 \n",
    "\n",
    "print(f\"featureDF => {featureDF.shape}, {featureDF.ndim}D\")\n",
    "print(f\"targetDF => {targetNP.shape}, {targetNP.ndim}D\")\n",
    "\n",
    "targetNP = LabelEncoder().fit_transform(targetNP).reshape(-1, 1)\n",
    "print(f\"targetDF => {targetNP.shape}, {targetNP.ndim}D\")"
   ],
   "metadata": {
    "collapsed": false,
    "ExecuteTime": {
     "end_time": "2024-03-15T06:50:32.413103600Z",
     "start_time": "2024-03-15T06:50:31.714314700Z"
    }
   },
   "id": "fe67943963153244",
   "execution_count": 19
  },
  {
   "cell_type": "code",
   "outputs": [
    {
     "name": "stdout",
     "output_type": "stream",
     "text": [
      "[target & feature SHAPE] torch.Size([150, 1]) 2\n"
     ]
    }
   ],
   "source": [
    "# 데이터 셋 생성 \n",
    "my_dataset = DLDataset(featureDF, targetNP) # DF, numpy"
   ],
   "metadata": {
    "collapsed": false,
    "ExecuteTime": {
     "end_time": "2024-03-15T06:50:32.443325200Z",
     "start_time": "2024-03-15T06:50:32.416283700Z"
    }
   },
   "id": "37b57fbb8aa62d77",
   "execution_count": 20
  },
  {
   "cell_type": "code",
   "outputs": [
    {
     "data": {
      "text/plain": "((tensor([5.1000, 3.5000, 1.4000, 0.2000]), tensor([0])),\n sepal.length    5.1\n sepal.width     3.5\n petal.length    1.4\n petal.width     0.2\n Name: 0, dtype: float64,\n array([0]))"
     },
     "execution_count": 21,
     "metadata": {},
     "output_type": "execute_result"
    }
   ],
   "source": [
    "my_dataset[0], featureDF.iloc[0], targetNP[0]"
   ],
   "metadata": {
    "collapsed": false,
    "ExecuteTime": {
     "end_time": "2024-03-15T06:50:32.446163100Z",
     "start_time": "2024-03-15T06:50:32.428629600Z"
    }
   },
   "id": "de97e763c0d0ec7e",
   "execution_count": 21
  },
  {
   "cell_type": "code",
   "outputs": [
    {
     "name": "stdout",
     "output_type": "stream",
     "text": [
      "[target & feature SHAPE] torch.Size([150, 1]) 2\n"
     ]
    }
   ],
   "source": [
    "# 데이터 셋 생성 \n",
    "my_dataset2 = DLDataset(irisNP, targetNP) # numpy, numpy"
   ],
   "metadata": {
    "collapsed": false,
    "ExecuteTime": {
     "end_time": "2024-03-15T06:50:32.497703700Z",
     "start_time": "2024-03-15T06:50:32.441222400Z"
    }
   },
   "id": "78e98075be8271a0",
   "execution_count": 22
  },
  {
   "cell_type": "markdown",
   "source": [
    "## 2-3 학습용, 검증용, 테스트용 Dataset"
   ],
   "metadata": {
    "collapsed": false
   },
   "id": "fdd2ce47f777be9f"
  },
  {
   "cell_type": "code",
   "outputs": [
    {
     "name": "stdout",
     "output_type": "stream",
     "text": [
      "trainDS => 105개, validDS => 15개, testDS => 30개\n"
     ]
    }
   ],
   "source": [
    "### => 파이토치\n",
    "from torch.utils.data import random_split\n",
    "\n",
    "# 데이터 비율 정하기 \n",
    "seed = torch.Generator().manual_seed(42)\n",
    "trainDS, validDS, testDS = random_split(my_dataset2, [0.7, 0.1, 0.2], generator=seed) # 개수로 주던가 비율로 주던가\n",
    "\n",
    "print(f\"trainDS => {len(trainDS)}개, validDS => {len(validDS)}개, testDS => {len(testDS)}개\")"
   ],
   "metadata": {
    "collapsed": false,
    "ExecuteTime": {
     "end_time": "2024-03-15T06:50:32.499840100Z",
     "start_time": "2024-03-15T06:50:32.457702600Z"
    }
   },
   "id": "3865d518d44b664e",
   "execution_count": 23
  },
  {
   "cell_type": "code",
   "outputs": [
    {
     "name": "stdout",
     "output_type": "stream",
     "text": [
      "Subset 속성 => [42, 95, 30, 64, 52, 35, 130, 40, 82, 17, 108, 94, 68, 97, 117, 127, 41, 44, 57, 140, 149, 32, 23, 102, 16, 113, 71, 18, 67, 66, 0, 25, 101, 112, 91, 3, 59, 116, 86, 84, 106, 142, 43, 39, 26, 98, 93, 20, 87, 19, 120, 114, 7, 63, 76, 89, 36, 45, 37, 56, 58, 122, 51, 145, 24, 21, 105, 62, 15, 11, 48, 133, 88, 50, 6, 134, 111, 8, 49, 75, 69, 124, 4, 147, 80, 100, 99, 141, 47, 107, 13, 109, 129, 28, 38, 53, 121, 5, 55, 31, 73, 74, 54, 29, 12]\n",
      "dataset => <__main__.DLDataset object at 0x000001B75859FB50>\n"
     ]
    }
   ],
   "source": [
    "print(f\"Subset 속성 => {trainDS.indices}\\ndataset => {trainDS.dataset}\")"
   ],
   "metadata": {
    "collapsed": false,
    "ExecuteTime": {
     "end_time": "2024-03-15T06:50:32.500851200Z",
     "start_time": "2024-03-15T06:50:32.473494700Z"
    }
   },
   "id": "eed2d744643fff2",
   "execution_count": 24
  },
  {
   "cell_type": "markdown",
   "source": [
    "전체 데이터 셋 => 학습DS, 테스터DS, 검증DF\n",
    "속성 : index가 저장되어 있음 "
   ],
   "metadata": {
    "collapsed": false
   },
   "id": "84a47c17f0b84503"
  },
  {
   "cell_type": "markdown",
   "source": [
    "## DataLoader 생성 : 학습용, 검증용, 테스트용\n"
   ],
   "metadata": {
    "collapsed": false
   },
   "id": "5405fd306c37b577"
  },
  {
   "cell_type": "code",
   "outputs": [
    {
     "data": {
      "text/plain": "(21, 3, 6)"
     },
     "execution_count": 25,
     "metadata": {},
     "output_type": "execute_result"
    }
   ],
   "source": [
    "# DataLoader 생성\n",
    "# drop_last 매개변수 : 배치사이즈로 데이터셋 분리 후 남는 데이터 처리 방법 설정 (default = False) True하면 걍 버리는 거임(valid로 쓸 데이터 없는 경우 버린 걸 사용하는 경우가 있음 )\n",
    "batch_size = 5\n",
    "trainDL = DataLoader(trainDS, batch_size=batch_size)\n",
    "validDL = DataLoader(validDS, batch_size=batch_size)\n",
    "testDL = DataLoader(testDS, batch_size=batch_size)\n",
    "\n",
    "len(trainDL), len(validDL), len(testDL) # 배치사이즈 만큼 나눠진 수가 나오는 거임 즉, 1에포크 당 반복을 몇번하는지 알 수 있는 것 "
   ],
   "metadata": {
    "collapsed": false,
    "ExecuteTime": {
     "end_time": "2024-03-15T06:50:32.569588Z",
     "start_time": "2024-03-15T06:50:32.490327500Z"
    }
   },
   "id": "5f25c32ed5593818",
   "execution_count": 25
  },
  {
   "cell_type": "code",
   "outputs": [
    {
     "name": "stdout",
     "output_type": "stream",
     "text": [
      "Batch_size : 5\n",
      "trainDS => 105개, validDS => 15개, testDS => 30개\n",
      "trainDL => 21개, validDL => 3개, testDL => 6개\n"
     ]
    }
   ],
   "source": [
    "# Epoch당 반복 단위\n",
    "print(f\"Batch_size : {batch_size}\")\n",
    "print(f\"trainDS => {len(trainDS)}개, validDS => {len(validDS)}개, testDS => {len(testDS)}개\")\n",
    "print(f\"trainDL => {len(trainDL)}개, validDL => {len(validDL)}개, testDL => {len(testDL)}개\")"
   ],
   "metadata": {
    "collapsed": false,
    "ExecuteTime": {
     "end_time": "2024-03-15T06:50:32.585728500Z",
     "start_time": "2024-03-15T06:50:32.502852200Z"
    }
   },
   "id": "b35da5aec131397d",
   "execution_count": 26
  },
  {
   "cell_type": "code",
   "outputs": [
    {
     "name": "stdout",
     "output_type": "stream",
     "text": [
      "[0] feature torch.Size([5, 4])\n",
      "[1] feature torch.Size([5, 4])\n",
      "[2] feature torch.Size([5, 4])\n",
      "[3] feature torch.Size([5, 4])\n",
      "[4] feature torch.Size([5, 4])\n",
      "[5] feature torch.Size([5, 4])\n",
      "[6] feature torch.Size([5, 4])\n",
      "[7] feature torch.Size([5, 4])\n",
      "[8] feature torch.Size([5, 4])\n",
      "[9] feature torch.Size([5, 4])\n",
      "[10] feature torch.Size([5, 4])\n",
      "[11] feature torch.Size([5, 4])\n",
      "[12] feature torch.Size([5, 4])\n",
      "[13] feature torch.Size([5, 4])\n",
      "[14] feature torch.Size([5, 4])\n",
      "[15] feature torch.Size([5, 4])\n",
      "[16] feature torch.Size([5, 4])\n",
      "[17] feature torch.Size([5, 4])\n",
      "[18] feature torch.Size([5, 4])\n",
      "[19] feature torch.Size([5, 4])\n",
      "[20] feature torch.Size([5, 4])\n"
     ]
    }
   ],
   "source": [
    "# DataLoader 생성\n",
    "for _, (feature, target) in enumerate(trainDL):\n",
    "    print(f\"[{_}] feature {feature.shape}\")\n",
    "    ## 로더에서 가지고 온 데이터 만큼 학습 진행 \n",
    "    ## 학습 후에는 검증도 할 것! "
   ],
   "metadata": {
    "collapsed": false,
    "ExecuteTime": {
     "end_time": "2024-03-15T06:50:32.587783800Z",
     "start_time": "2024-03-15T06:50:32.518580100Z"
    }
   },
   "id": "16381f0b819b5762",
   "execution_count": 27
  },
  {
   "cell_type": "code",
   "outputs": [
    {
     "data": {
      "text/plain": "<torch.utils.data.dataloader.DataLoader at 0x1b7585d3a90>"
     },
     "execution_count": 28,
     "metadata": {},
     "output_type": "execute_result"
    }
   ],
   "source": [
    "trainDL"
   ],
   "metadata": {
    "collapsed": false,
    "ExecuteTime": {
     "end_time": "2024-03-15T06:50:32.636857600Z",
     "start_time": "2024-03-15T06:50:32.533628300Z"
    }
   },
   "id": "9b3a2750abae243d",
   "execution_count": 28
  },
  {
   "cell_type": "markdown",
   "source": [
    "## 4. Model 클래스 정의 : 입출력 feature 수, 층 수, 은닉층의 노드 수 \n",
    "    * 입력층 : 입력 <= 피쳐 개수, iris 4개\n",
    "    * 은닉층 : 마음대로 알아서 잘 \n",
    "    * 출력층 : 출력 <= 분류 = 타겟 클래스 수만큼 / 회귀 = 무조건 1개 "
   ],
   "metadata": {
    "collapsed": false
   },
   "id": "a0ce48159e2a1265"
  },
  {
   "cell_type": "code",
   "outputs": [],
   "source": [
    "import pandas\n",
    "import numpy as np\n",
    "\n",
    "import torch\n",
    "import torch.nn as nn # linear Regression 기능의 클래스 Linear\n",
    "import torch.nn.functional as F # 손실함수를 위함\n",
    "import torch.optim as optim # 최적화를 위함"
   ],
   "metadata": {
    "collapsed": false,
    "ExecuteTime": {
     "end_time": "2024-03-15T06:50:32.637915100Z",
     "start_time": "2024-03-15T06:50:32.549433300Z"
    }
   },
   "id": "98470b0a3af35a9a",
   "execution_count": 29
  },
  {
   "cell_type": "code",
   "outputs": [],
   "source": [
    "class CModel(nn.Module):\n",
    "    # 구성요소 정의 함수\n",
    "    def __init__(self, in_dim, out_dim):\n",
    "        super().__init__()\n",
    "        self.input_layer = nn.Linear(in_dim, 100)\n",
    "        self.relu = nn.ReLU() # 활성화 함수 \n",
    "        self.hidden_layer = nn.Linear(100, 27)\n",
    "        self.output_layer = nn.Linear(27, out_dim)\n",
    "        \n",
    "    # 순방향 학습 진행 함수 \n",
    "    def forward(self, x):\n",
    "        x = self.input_layer(x) # W1x1 + W2x2... WnXn + b 반환 -> 이렇 게 생긴 거 100개 반환\n",
    "        x = self.relu(x) # 결과 100개 반환\n",
    "        x = self.hidden_layer(x) # W1x1 + W2x2... WnXn + b 반환 -> 이렇 게 생긴 거 27개 반환\n",
    "        x = self.relu(x)\n",
    "        x = self.output_layer(x)\n",
    "        return x"
   ],
   "metadata": {
    "collapsed": false,
    "ExecuteTime": {
     "end_time": "2024-03-15T06:50:32.656925100Z",
     "start_time": "2024-03-15T06:50:32.567482500Z"
    }
   },
   "id": "101adc73321c6526",
   "execution_count": 30
  },
  {
   "cell_type": "markdown",
   "source": [
    "# 5. 학습 준비 : 실행디바이스, 모델, 최적화, 손실함수, 학습 횟수, 학습 함수, 예측 함수"
   ],
   "metadata": {
    "collapsed": false
   },
   "id": "2a0a4f95530489f0"
  },
  {
   "cell_type": "code",
   "outputs": [],
   "source": [
    "# 실행 디바이스 설정\n",
    "DEVICE = \"cuda\" if torch.cuda.is_available() else \"cpu\" # GPU있으면 쓰고 없으면 cpu로 \n",
    "\n",
    "# 학습 횟수\n",
    "EPOCHS = 50"
   ],
   "metadata": {
    "collapsed": false,
    "ExecuteTime": {
     "end_time": "2024-03-15T06:50:32.673020600Z",
     "start_time": "2024-03-15T06:50:32.577955900Z"
    }
   },
   "id": "f67b13ba62e9ec9",
   "execution_count": 31
  },
  {
   "cell_type": "code",
   "outputs": [],
   "source": [
    "# 모델 인스턴스\n",
    "IN, OUT = my_dataset2.feature.shape[1], len(my_dataset2.target.unique())\n",
    "model = CModel(IN, OUT).to(DEVICE) # 어디다가 할 건지? ㅇㅅㅇ"
   ],
   "metadata": {
    "collapsed": false,
    "ExecuteTime": {
     "end_time": "2024-03-15T06:50:32.674022Z",
     "start_time": "2024-03-15T06:50:32.594120Z"
    }
   },
   "id": "213b335e19caec",
   "execution_count": 32
  },
  {
   "cell_type": "code",
   "outputs": [
    {
     "data": {
      "text/plain": "(4, 3)"
     },
     "execution_count": 33,
     "metadata": {},
     "output_type": "execute_result"
    }
   ],
   "source": [
    "my_dataset2.feature.shape[1], len(my_dataset2.target.unique())"
   ],
   "metadata": {
    "collapsed": false,
    "ExecuteTime": {
     "end_time": "2024-03-15T06:50:32.708572800Z",
     "start_time": "2024-03-15T06:50:32.607770Z"
    }
   },
   "id": "453b43782ab07754",
   "execution_count": 33
  },
  {
   "cell_type": "code",
   "outputs": [],
   "source": [
    "# 손실함수 인스턴스 \n",
    "LOSS_FN = nn.CrossEntropyLoss().to(DEVICE) # 다중분류니까\n",
    "\n",
    "# 최적화 인스턴스\n",
    "OPTIMIZER = optim.Adam(model.parameters())"
   ],
   "metadata": {
    "collapsed": false,
    "ExecuteTime": {
     "end_time": "2024-03-15T06:50:33.545517800Z",
     "start_time": "2024-03-15T06:50:32.623210700Z"
    }
   },
   "id": "9d15c73eeda46623",
   "execution_count": 34
  },
  {
   "cell_type": "markdown",
   "source": [
    "- 학습 및 검증관련 함수 정의 "
   ],
   "metadata": {
    "collapsed": false
   },
   "id": "31e4d48ad672cb76"
  },
  {
   "cell_type": "code",
   "outputs": [],
   "source": [
    "import torchmetrics.functional as metrics\n",
    "\n",
    "# preds = torch.randn(10, 5).softmax(dim=-1)\n",
    "# target = torch.randint(5, (10,))\n",
    "\n",
    "# acc = metrics.accuracy( preds, target, task=\"multiclass\", num_classes=3)\n",
    "# print(f'ACC : {acc}')\n"
   ],
   "metadata": {
    "collapsed": false,
    "ExecuteTime": {
     "end_time": "2024-03-15T06:50:33.557060200Z",
     "start_time": "2024-03-15T06:50:33.534681Z"
    }
   },
   "id": "2f794cedf9a50816",
   "execution_count": 35
  },
  {
   "cell_type": "markdown",
   "source": [],
   "metadata": {
    "collapsed": false
   },
   "id": "10a029145005d2de"
  },
  {
   "cell_type": "code",
   "outputs": [],
   "source": [
    "# 학습 진행함수\n",
    "def training():\n",
    "    # 학습 모드 => 정규화 , 경사 하강법, drop out 등의 기능 활성화\n",
    "    model.train()\n",
    "    \n",
    "    # 배치크기 만큼 학습 진행 및 저장 \n",
    "    train_loss = []\n",
    "    for cnt, (feature, target) in enumerate(trainDL):\n",
    "        # print(cnt, feature, target)\n",
    "        # 배치크기만큼의 학습 데이터 준비 \n",
    "        feature, target = feature.to(DEVICE), target.to(DEVICE)\n",
    "        target = target.squeeze()\n",
    "    \n",
    "        # 학습 \n",
    "        pre_target = model(feature)\n",
    "        # print(f\"pre_target => {pre_target.shape}, {pre_target.ndim}D\")\n",
    "        # print(f\"target => {target.shape}, {target.ndim}D\")\n",
    "        \n",
    "        # 손실계산\n",
    "        loss = LOSS_FN(pre_target, target)\n",
    "        train_loss.append(loss)\n",
    "        \n",
    "        # W, b 업데이트\n",
    "        OPTIMIZER.zero_grad() # 초기화\n",
    "        loss.backward() \n",
    "        OPTIMIZER.step()\n",
    "        \n",
    "        acc = metrics.accuracy(pre_target, target, task=\"multiclass\", num_classes=3)\n",
    "        # print(f\"acc => {acc}\")\n",
    "        \n",
    "        # 배치 단위 학습 진행 메시지 출력 \n",
    "        # print(f\"[train batch loss] => {loss}\")\n",
    "        \n",
    "    # 학습 진행 메시지 출력\n",
    "    print(f\"[Train loss] ==> {loss}, [acc] ==> {acc}\")\n",
    "    \n",
    "    return train_loss "
   ],
   "metadata": {
    "collapsed": false,
    "ExecuteTime": {
     "end_time": "2024-03-15T07:54:18.625539700Z",
     "start_time": "2024-03-15T07:54:18.616090900Z"
    }
   },
   "id": "5c09e32c9ebda897",
   "execution_count": 64
  },
  {
   "cell_type": "code",
   "outputs": [],
   "source": [
    "# 검증 및 평가 진행 함수\n",
    "# 매개변수 dataLoader : 검증 또는 테스트 데이터 셋에 대한 Loader \n",
    "def testing():\n",
    "    # 추론 모드 => 정규화, 경사하강법, 드랍아웃 등의 기능 비활성화\n",
    "    model.eval()\n",
    "    \n",
    "    with torch.no_grad():\n",
    "        # 배치크기 만큼 학습 진행 및 저장 \n",
    "        val_loss = []\n",
    "        for cnt, (feature, target) in enumerate(validDL):\n",
    "            # print(cnt, feature, target)\n",
    "            # 배치크기만큼의 학습 데이터 준비 \n",
    "            feature, target = feature.to(DEVICE), target.to(DEVICE)\n",
    "            target = target.squeeze()\n",
    "        \n",
    "            # 학습 \n",
    "            pre_target = model(feature)\n",
    "            # print(f\"pre_target => {pre_target.shape}, {pre_target.ndim}D\")\n",
    "            # print(f\"target => {target.shape}, {target.ndim}D\")\n",
    "            \n",
    "            # 손실계산\n",
    "            loss = LOSS_FN(pre_target, target)\n",
    "            val_loss.append(loss)\n",
    "            \n",
    "            \n",
    "    # 학습 진행 메시지 출력\n",
    "    acc = metrics.accuracy(pre_target, target, task=\"multiclass\", num_classes=3)\n",
    "    # print(f\"acc => {acc}\") \n",
    "    print(f\"[Valid loss] ==> {loss}, [acc] ==> {acc}\")\n",
    "    \n",
    "    return val_loss "
   ],
   "metadata": {
    "collapsed": false,
    "ExecuteTime": {
     "end_time": "2024-03-15T07:59:59.401985100Z",
     "start_time": "2024-03-15T07:59:59.380013700Z"
    }
   },
   "id": "6fe57b9dceabe4f2",
   "execution_count": 71
  },
  {
   "cell_type": "code",
   "outputs": [],
   "source": [
    "# 예측\n",
    "def predict():\n",
    "    pass "
   ],
   "metadata": {
    "collapsed": false,
    "ExecuteTime": {
     "end_time": "2024-03-15T07:59:59.741203100Z",
     "start_time": "2024-03-15T07:59:59.711899200Z"
    }
   },
   "id": "992782eb09d51214",
   "execution_count": 72
  },
  {
   "cell_type": "markdown",
   "source": [
    "# 6. 학습 진행"
   ],
   "metadata": {
    "collapsed": false
   },
   "id": "814114e35019695e"
  },
  {
   "cell_type": "code",
   "outputs": [
    {
     "name": "stdout",
     "output_type": "stream",
     "text": [
      "[Train loss] ==> 0.0, [acc] ==> 1.0\n",
      "[Valid loss] ==> 0.00015366410661954433, [acc] ==> 1.0\n",
      "[0/50] \n",
      "TRAIN 1.3691817912331317e-05 \n",
      "VALID : 5.1221370085841045e-05\n",
      "\n",
      "\n",
      "[Train loss] ==> 0.0, [acc] ==> 1.0\n",
      "[Valid loss] ==> 0.00015247261035256088, [acc] ==> 1.0\n",
      "[1/50] \n",
      "TRAIN 1.3532930097426288e-05 \n",
      "VALID : 5.082420466351323e-05\n",
      "\n",
      "\n",
      "[Train loss] ==> 0.0, [acc] ==> 1.0\n",
      "[Valid loss] ==> 0.00015132878615986556, [acc] ==> 1.0\n",
      "[2/50] \n",
      "TRAIN 1.337517642241437e-05 \n",
      "VALID : 5.044292993261479e-05\n",
      "\n",
      "\n",
      "[Train loss] ==> 0.0, [acc] ==> 1.0\n",
      "[Valid loss] ==> 0.00015016112593002617, [acc] ==> 1.0\n",
      "[3/50] \n",
      "TRAIN 1.3219690117693972e-05 \n",
      "VALID : 5.005370985600166e-05\n",
      "\n",
      "\n",
      "[Train loss] ==> 0.0, [acc] ==> 1.0\n",
      "[Valid loss] ==> 0.0001490649301558733, [acc] ==> 1.0\n",
      "[4/50] \n",
      "TRAIN 1.3061936442682054e-05 \n",
      "VALID : 4.968831126461737e-05\n",
      "\n",
      "\n",
      "[Train loss] ==> 0.0, [acc] ==> 1.0\n",
      "[Valid loss] ==> 0.00014794492744840682, [acc] ==> 1.0\n",
      "[5/50] \n",
      "TRAIN 1.2907583368360065e-05 \n",
      "VALID : 4.9314974603476e-05\n",
      "\n",
      "\n",
      "[Train loss] ==> 0.0, [acc] ==> 1.0\n",
      "[Valid loss] ==> 0.00014684873167425394, [acc] ==> 1.0\n",
      "[6/50] \n",
      "TRAIN 1.275777231057873e-05 \n",
      "VALID : 4.894957601209171e-05\n",
      "\n",
      "\n",
      "[Train loss] ==> 0.0, [acc] ==> 1.0\n",
      "[Valid loss] ==> 0.00014575253590010107, [acc] ==> 1.0\n",
      "[7/50] \n",
      "TRAIN 1.2610229532583617e-05 \n",
      "VALID : 4.858417742070742e-05\n",
      "\n",
      "[Train loss] ==> 0.0, [acc] ==> 1.0\n",
      "[Valid loss] ==> 0.00014465635467786342, [acc] ==> 1.0\n",
      "[8/50] \n",
      "TRAIN 1.2466091902751941e-05 \n",
      "VALID : 4.821878610528074e-05\n",
      "\n",
      "\n",
      "[Train loss] ==> 0.0, [acc] ==> 1.0\n",
      "[Valid loss] ==> 0.00014356015890371054, [acc] ==> 1.0\n",
      "[9/50] \n",
      "TRAIN 1.2319682355155237e-05 \n",
      "VALID : 4.785338751389645e-05\n",
      "\n",
      "\n",
      "[Train loss] ==> 0.0, [acc] ==> 1.0\n",
      "[Valid loss] ==> 0.0001424877846147865, [acc] ==> 1.0\n",
      "[10/50] \n",
      "TRAIN 1.217667795572197e-05 \n",
      "VALID : 4.749592699226923e-05\n",
      "\n",
      "\n",
      "[Train loss] ==> 0.0, [acc] ==> 1.0\n",
      "[Valid loss] ==> 0.00014143924636300653, [acc] ==> 1.0\n",
      "[11/50] \n",
      "TRAIN 1.20336717372993e-05 \n",
      "VALID : 4.714641545433551e-05\n",
      "\n",
      "\n",
      "[Train loss] ==> 0.0, [acc] ==> 1.0\n",
      "[Valid loss] ==> 0.0001403668720740825, [acc] ==> 1.0\n",
      "[12/50] \n",
      "TRAIN 1.189407157653477e-05 \n",
      "VALID : 4.67889585706871e-05\n",
      "\n",
      "\n",
      "[Train loss] ==> 0.0, [acc] ==> 1.0\n",
      "[Valid loss] ==> 0.00013934216985944659, [acc] ==> 1.0\n",
      "[13/50] \n",
      "TRAIN 1.175673878606176e-05 \n",
      "VALID : 4.644738874048926e-05\n",
      "\n",
      "\n",
      "[Train loss] ==> 0.0, [acc] ==> 1.0\n",
      "[Valid loss] ==> 0.0001382936316076666, [acc] ==> 1.0\n",
      "[14/50] \n",
      "TRAIN 1.1619407814578153e-05 \n",
      "VALID : 4.609787720255554e-05\n",
      "\n",
      "\n",
      "[Train loss] ==> 0.0, [acc] ==> 1.0\n",
      "[Valid loss] ==> 0.0001372927363263443, [acc] ==> 1.0\n",
      "[15/50] \n",
      "TRAIN 1.148548017226858e-05 \n",
      "VALID : 4.576424544211477e-05\n",
      "\n",
      "[Train loss] ==> 0.0, [acc] ==> 1.0\n",
      "[Valid loss] ==> 0.000136291841045022, [acc] ==> 1.0\n",
      "[16/50] \n",
      "TRAIN 1.1352686669852119e-05 \n",
      "VALID : 4.5430613681674004e-05\n",
      "\n",
      "\n",
      "[Train loss] ==> 0.0, [acc] ==> 1.0\n",
      "[Valid loss] ==> 0.00013524330279324204, [acc] ==> 1.0\n",
      "[17/50] \n",
      "TRAIN 1.1217623978154734e-05 \n",
      "VALID : 4.508110214374028e-05\n",
      "\n",
      "\n",
      "[Train loss] ==> 0.0, [acc] ==> 1.0\n",
      "[Valid loss] ==> 0.00013426622899714857, [acc] ==> 1.0\n",
      "[18/50] \n",
      "TRAIN 1.1088234714407008e-05 \n",
      "VALID : 4.475540845305659e-05\n",
      "\n",
      "\n",
      "[Train loss] ==> 0.0, [acc] ==> 1.0\n",
      "[Valid loss] ==> 0.00013326533371582627, [acc] ==> 1.0\n",
      "[19/50] \n",
      "TRAIN 1.0957711310766172e-05 \n",
      "VALID : 4.442177669261582e-05\n",
      "\n",
      "\n",
      "[Train loss] ==> 0.0, [acc] ==> 1.0\n",
      "[Valid loss] ==> 0.00013228824536781758, [acc] ==> 1.0\n",
      "[20/50] \n",
      "TRAIN 1.083059123629937e-05 \n",
      "VALID : 4.409608300193213e-05\n",
      "\n",
      "\n",
      "[Train loss] ==> 0.0, [acc] ==> 1.0\n",
      "[Valid loss] ==> 0.00013135882909409702, [acc] ==> 1.0\n",
      "[21/50] \n",
      "TRAIN 1.0704605301725678e-05 \n",
      "VALID : 4.3786276364699006e-05\n",
      "\n",
      "\n",
      "[Train loss] ==> 0.0, [acc] ==> 1.0\n",
      "[Valid loss] ==> 0.00013035794836468995, [acc] ==> 1.0\n",
      "[22/50] \n",
      "TRAIN 1.0580890375422314e-05 \n",
      "VALID : 4.3452648242237046e-05\n",
      "\n",
      "\n",
      "[Train loss] ==> 0.0, [acc] ==> 1.0\n",
      "[Valid loss] ==> 0.00012942851753905416, [acc] ==> 1.0\n",
      "[23/50] \n",
      "TRAIN 1.0457173630129546e-05 \n",
      "VALID : 4.3142837967025116e-05\n",
      "\n",
      "[Train loss] ==> 0.0, [acc] ==> 1.0\n",
      "[Valid loss] ==> 0.00012847527978010476, [acc] ==> 1.0\n",
      "[24/50] \n",
      "TRAIN 1.0335727893107105e-05 \n",
      "VALID : 4.282509326003492e-05\n",
      "\n",
      "\n",
      "[Train loss] ==> 0.0, [acc] ==> 1.0\n",
      "[Valid loss] ==> 0.0001275458635063842, [acc] ==> 1.0\n",
      "[25/50] \n",
      "TRAIN 1.0216551345365588e-05 \n",
      "VALID : 4.2515286622801796e-05\n",
      "\n",
      "\n",
      "[Train loss] ==> 0.0, [acc] ==> 1.0\n",
      "[Valid loss] ==> 0.0001265211176360026, [acc] ==> 1.0\n",
      "[26/50] \n",
      "TRAIN 1.0099643986904994e-05 \n",
      "VALID : 4.2173705878667533e-05\n",
      "\n",
      "\n",
      "[Train loss] ==> 0.0, [acc] ==> 1.0\n",
      "[Valid loss] ==> 0.0001256155373994261, [acc] ==> 1.0\n",
      "[27/50] \n",
      "TRAIN 9.980467439163476e-06 \n",
      "VALID : 4.18718445871491e-05\n",
      "\n",
      "\n",
      "[Train loss] ==> 0.0, [acc] ==> 1.0\n",
      "[Valid loss] ==> 0.0001246861065737903, [acc] ==> 1.0\n",
      "[28/50] \n",
      "TRAIN 9.864693311101291e-06 \n",
      "VALID : 4.156203431193717e-05\n",
      "\n",
      "\n",
      "[Train loss] ==> 0.0, [acc] ==> 1.0\n",
      "[Valid loss] ==> 0.00012382815475575626, [acc] ==> 1.0\n",
      "[29/50] \n",
      "TRAIN 9.750056051416323e-06 \n",
      "VALID : 4.127605279791169e-05\n",
      "\n",
      "\n",
      "[Train loss] ==> 0.0, [acc] ==> 1.0\n",
      "[Valid loss] ==> 0.00012292255996726453, [acc] ==> 1.0\n",
      "[30/50] \n",
      "TRAIN 9.635417882236652e-06 \n",
      "VALID : 4.097418786841445e-05\n",
      "\n",
      "\n",
      "[Train loss] ==> 0.0, [acc] ==> 1.0\n",
      "[Valid loss] ==> 0.00012204078666400164, [acc] ==> 1.0\n",
      "[31/50] \n",
      "TRAIN 9.52531900111353e-06 \n",
      "VALID : 4.068026100867428e-05\n",
      "\n",
      "\n",
      "[Train loss] ==> 0.0, [acc] ==> 1.0\n",
      "[Valid loss] ==> 0.00012115902791265398, [acc] ==> 1.0\n",
      "[32/50] \n",
      "TRAIN 9.412949111720081e-06 \n",
      "VALID : 4.0386341424891725e-05\n",
      "\n",
      "[Train loss] ==> 0.0, [acc] ==> 1.0\n",
      "[Valid loss] ==> 0.00012027726188534871, [acc] ==> 1.0\n",
      "[33/50] \n",
      "TRAIN 9.305119419877883e-06 \n",
      "VALID : 4.009242184110917e-05\n",
      "\n",
      "\n",
      "[Train loss] ==> 0.0, [acc] ==> 1.0\n",
      "[Valid loss] ==> 0.00011941930279135704, [acc] ==> 1.0\n",
      "[34/50] \n",
      "TRAIN 9.197290637530386e-06 \n",
      "VALID : 3.980643305112608e-05\n",
      "\n",
      "\n",
      "[Train loss] ==> 0.0, [acc] ==> 1.0\n",
      "[Valid loss] ==> 0.00011853753676405177, [acc] ==> 1.0\n",
      "[35/50] \n",
      "TRAIN 9.090595995076e-06 \n",
      "VALID : 3.9512513467343524e-05\n",
      "\n",
      "\n",
      "[Train loss] ==> 0.0, [acc] ==> 1.0\n",
      "[Valid loss] ==> 0.00011765576346078888, [acc] ==> 1.0\n",
      "[36/50] \n",
      "TRAIN 8.983901352621615e-06 \n",
      "VALID : 3.9218586607603356e-05\n",
      "\n",
      "\n",
      "[Train loss] ==> 0.0, [acc] ==> 1.0\n",
      "[Valid loss] ==> 0.00011682164767989889, [acc] ==> 1.0\n",
      "[37/50] \n",
      "TRAIN 8.880610039341263e-06 \n",
      "VALID : 3.8940550439292565e-05\n",
      "\n",
      "\n",
      "[Train loss] ==> 0.0, [acc] ==> 1.0\n",
      "[Valid loss] ==> 0.00011601134610828012, [acc] ==> 1.0\n",
      "[38/50] \n",
      "TRAIN 8.776184586167801e-06 \n",
      "VALID : 3.867044870276004e-05\n",
      "\n",
      "\n",
      "[Train loss] ==> 0.0, [acc] ==> 1.0\n",
      "[Valid loss] ==> 0.00011517723032739013, [acc] ==> 1.0\n",
      "[39/50] \n",
      "TRAIN 8.674028322275262e-06 \n",
      "VALID : 3.839240889647044e-05\n",
      "\n",
      "\n",
      "[Train loss] ==> 0.0, [acc] ==> 1.0\n",
      "[Valid loss] ==> 0.00011434310727054253, [acc] ==> 1.0\n",
      "[40/50] \n",
      "TRAIN 8.573008017265238e-06 \n",
      "VALID : 3.8114369090180844e-05\n",
      "\n",
      "[Train loss] ==> 0.0, [acc] ==> 1.0\n",
      "[Valid loss] ==> 0.0001134851627284661, [acc] ==> 1.0\n",
      "[41/50] \n",
      "TRAIN 8.473121852148324e-06 \n",
      "VALID : 3.7828387576155365e-05\n",
      "\n",
      "\n",
      "[Train loss] ==> 0.0, [acc] ==> 1.0\n",
      "[Valid loss] ==> 0.0001127463547163643, [acc] ==> 1.0\n",
      "[42/50] \n",
      "TRAIN 8.374370736419223e-06 \n",
      "VALID : 3.75821182387881e-05\n",
      "\n",
      "\n",
      "[Train loss] ==> 0.0, [acc] ==> 1.0\n",
      "[Valid loss] ==> 0.0001119122389354743, [acc] ==> 1.0\n",
      "[43/50] \n",
      "TRAIN 8.277889719465747e-06 \n",
      "VALID : 3.73040784324985e-05\n",
      "\n",
      "\n",
      "[Train loss] ==> 0.0, [acc] ==> 1.0\n",
      "[Valid loss] ==> 0.0001111257734009996, [acc] ==> 1.0\n",
      "[44/50] \n",
      "TRAIN 8.18140779301757e-06 \n",
      "VALID : 3.704192567965947e-05\n",
      "\n",
      "\n",
      "[Train loss] ==> 0.0, [acc] ==> 1.0\n",
      "[Valid loss] ==> 0.00011031546455342323, [acc] ==> 1.0\n",
      "[45/50] \n",
      "TRAIN 8.08719687483972e-06 \n",
      "VALID : 3.677182030514814e-05\n",
      "\n",
      "\n",
      "[Train loss] ==> 0.0, [acc] ==> 1.0\n",
      "[Valid loss] ==> 0.00010957666381727904, [acc] ==> 1.0\n",
      "[46/50] \n",
      "TRAIN 7.99412009655498e-06 \n",
      "VALID : 3.652555460575968e-05\n",
      "\n",
      "\n",
      "[Train loss] ==> 0.0, [acc] ==> 1.0\n",
      "[Valid loss] ==> 0.00010874254076043144, [acc] ==> 1.0\n",
      "[47/50] \n",
      "TRAIN 7.899907359387726e-06 \n",
      "VALID : 3.624751479947008e-05\n",
      "\n",
      "\n",
      "[Train loss] ==> 0.0, [acc] ==> 1.0\n",
      "[Valid loss] ==> 0.00010802755423355848, [acc] ==> 1.0\n",
      "[48/50] \n",
      "TRAIN 7.80909977038391e-06 \n",
      "VALID : 3.600918353185989e-05\n",
      "\n",
      "\n",
      "[Train loss] ==> 0.0, [acc] ==> 1.0\n",
      "[Valid loss] ==> 0.00010724108142312616, [acc] ==> 1.0\n",
      "[49/50] \n",
      "TRAIN 7.719428140262607e-06 \n",
      "VALID : 3.5747027141042054e-05\n"
     ]
    }
   ],
   "source": [
    "# 지정된 횟수 만큼 처음부터 ~ 끝까지 학습 및 검증 진행 \n",
    "# 목표 : 최적(Error 최소화)의 W, b를 가진 모델 완성 \n",
    "\n",
    "# from torch.optim.lr_scheduler import ReduceLROnPlateau\n",
    "best_valid_loss = float('inf')\n",
    "patience=5\n",
    "imporve_cnt = 0\n",
    "\n",
    "\n",
    "for eps in range(EPOCHS):\n",
    "    train_loss = training() # 학습\n",
    "    # testing() # 검증\n",
    "    \n",
    "    valid_loss = testing() # 검증 \n",
    "    \n",
    "    print(f\"[{eps}/{EPOCHS}] \\nTRAIN {sum(train_loss)/len(train_loss)} \\nVALID : {sum(valid_loss)/len(valid_loss)}\\n\\n\")\n",
    "    \n",
    "    avg_valid_loss = np.mean(valid_loss)\n",
    "    \n",
    "    if avg_valid_loss < best_valid_loss:\n",
    "        best_valid_loss = avg_valid_loss\n",
    "        imporve_cnt = 0\n",
    "    else:\n",
    "        imporve_cnt += 1\n",
    "        if imporve_cnt > patience:\n",
    "            print(f\"Early stopping at epoch {eps}\")\n",
    "            break\n",
    "        \n",
    "    "
   ],
   "metadata": {
    "collapsed": false,
    "ExecuteTime": {
     "end_time": "2024-03-15T08:29:19.052147800Z",
     "start_time": "2024-03-15T08:29:17.647567900Z"
    }
   },
   "id": "d0b91570f51678d2",
   "execution_count": 75
  },
  {
   "cell_type": "markdown",
   "source": [
    "# 7. 테스트 진행"
   ],
   "metadata": {
    "collapsed": false
   },
   "id": "fd920a5ae31a648b"
  },
  {
   "cell_type": "code",
   "outputs": [],
   "source": [],
   "metadata": {
    "collapsed": false,
    "ExecuteTime": {
     "end_time": "2024-03-15T07:47:53.072192Z",
     "start_time": "2024-03-15T07:47:53.034332500Z"
    }
   },
   "id": "635c45096576ec85",
   "execution_count": 53
  },
  {
   "cell_type": "code",
   "outputs": [],
   "source": [],
   "metadata": {
    "collapsed": false,
    "ExecuteTime": {
     "end_time": "2024-03-15T07:47:53.074281300Z",
     "start_time": "2024-03-15T07:47:53.049941Z"
    }
   },
   "id": "7875129992c10d10",
   "execution_count": 53
  },
  {
   "cell_type": "code",
   "outputs": [],
   "source": [],
   "metadata": {
    "collapsed": false,
    "ExecuteTime": {
     "end_time": "2024-03-15T06:50:35.181416900Z",
     "start_time": "2024-03-15T06:50:35.159294600Z"
    }
   },
   "id": "4f1ae435310beb45",
   "execution_count": 39
  },
  {
   "cell_type": "code",
   "outputs": [],
   "source": [],
   "metadata": {
    "collapsed": false,
    "ExecuteTime": {
     "end_time": "2024-03-15T06:50:35.197558800Z",
     "start_time": "2024-03-15T06:50:35.175313700Z"
    }
   },
   "id": "570d17c2a646b121",
   "execution_count": 39
  },
  {
   "cell_type": "code",
   "outputs": [],
   "source": [],
   "metadata": {
    "collapsed": false,
    "ExecuteTime": {
     "end_time": "2024-03-15T06:50:35.217614100Z",
     "start_time": "2024-03-15T06:50:35.190864300Z"
    }
   },
   "id": "8cf198f549c9d7e4",
   "execution_count": 39
  },
  {
   "cell_type": "code",
   "outputs": [],
   "source": [],
   "metadata": {
    "collapsed": false,
    "ExecuteTime": {
     "end_time": "2024-03-15T06:50:35.220729300Z",
     "start_time": "2024-03-15T06:50:35.204961300Z"
    }
   },
   "id": "4c76f4d4b0177014",
   "execution_count": 39
  },
  {
   "cell_type": "code",
   "outputs": [],
   "source": [],
   "metadata": {
    "collapsed": false,
    "ExecuteTime": {
     "end_time": "2024-03-15T06:50:35.235304100Z",
     "start_time": "2024-03-15T06:50:35.222795800Z"
    }
   },
   "id": "338d5428592662fa",
   "execution_count": 39
  },
  {
   "cell_type": "code",
   "outputs": [],
   "source": [],
   "metadata": {
    "collapsed": false,
    "ExecuteTime": {
     "end_time": "2024-03-15T06:50:35.262845400Z",
     "start_time": "2024-03-15T06:50:35.235304100Z"
    }
   },
   "id": "5cc763be05bc79dc",
   "execution_count": 39
  },
  {
   "cell_type": "code",
   "outputs": [],
   "source": [],
   "metadata": {
    "collapsed": false,
    "ExecuteTime": {
     "end_time": "2024-03-15T06:50:35.278472400Z",
     "start_time": "2024-03-15T06:50:35.251968300Z"
    }
   },
   "id": "6b3e86c0b1470bee",
   "execution_count": 39
  },
  {
   "cell_type": "code",
   "outputs": [],
   "source": [
    "# # SoftMax 회귀 모델 클래스 생성\n",
    "# class irisModel(nn.Module):\n",
    "#     def __init__(self, in_, out_):\n",
    "#         super(irisModel, self).__init__() # 부모 클래스 호로롥\n",
    "#         self.layers = nn.Sequential( \n",
    "#             nn.Linear(in_, 256),\n",
    "#             nn.ReLU(),\n",
    "#             nn.Linear(256, 128),\n",
    "#             nn.ReLU(),\n",
    "#             nn.Linear(128, 64),\n",
    "#             nn.ReLU(),\n",
    "#             nn.Linear(64, out_)\n",
    "#         )\n",
    "#         \n",
    "#     def forward(self, x): # 순전파 학습\n",
    "#         x = self.layers(x)\n",
    "#         return x # 소프트맥스는 loss fuction안에 "
   ],
   "metadata": {
    "collapsed": false,
    "ExecuteTime": {
     "end_time": "2024-03-15T06:50:35.283756700Z",
     "start_time": "2024-03-15T06:50:35.266997500Z"
    }
   },
   "id": "2fbbbdf2f36f0798",
   "execution_count": 40
  },
  {
   "cell_type": "code",
   "outputs": [],
   "source": [
    "# # 모델 인스턴스 생성\n",
    "# model = irisModel(4, 3)\n",
    "# \n",
    "# \n",
    "# # 최적화 함수 정의 \n",
    "# optimizer = optim.Adam(model.parameters(), lr=0.01)"
   ],
   "metadata": {
    "collapsed": false,
    "ExecuteTime": {
     "end_time": "2024-03-15T06:50:35.316202400Z",
     "start_time": "2024-03-15T06:50:35.281614600Z"
    }
   },
   "id": "7fd7e2167a9b2f77",
   "execution_count": 41
  },
  {
   "cell_type": "code",
   "outputs": [],
   "source": [
    "# # 학습 수행 \n",
    "# loss_accuracy = [[], []]\n",
    "# EPOCHS = 100\n",
    "# \n",
    "# for _, (feature, target) in enumerate(trainDL):\n",
    "#     # feature = feature.float()\n",
    "#     # target = target.float()\n",
    "#     # target = target.squeeze()     \n",
    "#     pre_y = model(feature.float())\n",
    "#     \n",
    "#     # 오차 (손실) 계산\n",
    "#     loss = F.cross_entropy(pre_y, target)\n",
    "#     loss_accuracy[0].append(loss.item())\n",
    "#     \n",
    "#     # W, b 업데이트\n",
    "#     optimizer.zero_grad()\n",
    "#     loss.backward()\n",
    "#     optimizer.step()\n",
    "#     \n",
    "#     # 정확도 계산\n",
    "#     train_accuracy = (pre_y.argmax(dim=1)  == feature.argmax(dim=1)).sum() / feature.shape[0]\n",
    "#     loss_accuracy[1].append(train_accuracy)\n",
    "# \n",
    "#     print(f\"[{_+1}/{_}] Loss: {loss.item():.4f}, Accuracy: {train_accuracy:.4f}\")"
   ],
   "metadata": {
    "collapsed": false,
    "ExecuteTime": {
     "end_time": "2024-03-15T06:50:35.318313100Z",
     "start_time": "2024-03-15T06:50:35.298330900Z"
    }
   },
   "id": "66c368a6d800bda3",
   "execution_count": 42
  }
 ],
 "metadata": {
  "kernelspec": {
   "display_name": "Python 3",
   "language": "python",
   "name": "python3"
  },
  "language_info": {
   "codemirror_mode": {
    "name": "ipython",
    "version": 2
   },
   "file_extension": ".py",
   "mimetype": "text/x-python",
   "name": "python",
   "nbconvert_exporter": "python",
   "pygments_lexer": "ipython2",
   "version": "2.7.6"
  }
 },
 "nbformat": 4,
 "nbformat_minor": 5
}
