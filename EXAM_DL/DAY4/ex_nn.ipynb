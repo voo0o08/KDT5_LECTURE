{
 "cells": [
  {
   "cell_type": "markdown",
   "source": [
    "# 인공 신경망 모델 클래스 만들기\n",
    "- 부모 클래스 : nn.Module 상속 받음 \n",
    "- 필수 오버라이딩 메서드 : _ _init_ _(), forward()"
   ],
   "metadata": {
    "collapsed": false
   },
   "id": "545052a49ba67189"
  },
  {
   "cell_type": "markdown",
   "source": [
    "## 1 모듈 로딩"
   ],
   "metadata": {
    "collapsed": false
   },
   "id": "2e1e40942dc005bf"
  },
  {
   "cell_type": "code",
   "outputs": [],
   "source": [
    "import torch\n",
    "import torch.nn as nn"
   ],
   "metadata": {
    "collapsed": false,
    "ExecuteTime": {
     "end_time": "2024-03-14T08:25:19.641976Z",
     "start_time": "2024-03-14T08:25:18.291801200Z"
    }
   },
   "id": "9733a0300700b27f",
   "execution_count": 1
  },
  {
   "cell_type": "code",
   "outputs": [],
   "source": [
    "# 로지스틱 회귀 모델 클래스 생성 \n",
    "# Linear + sigmoid\n",
    "class LogicLinear(nn.Module):\n",
    "    # 모델 구조 설정\n",
    "    def __init__(self, in_, out_): # 층(Layer) 생성\n",
    "        super().__init__() # 부모\n",
    "        self.layer1 = nn.Linear(in_, 10) # in개 받아서 10개를 내 놓음\n",
    "        self.sigmoid1 = nn.Sigmoid()\n",
    "        self.layer2 = nn.Linear(10, out_) \n",
    "        self.sigmoid2 = nn.Sigmoid()\n",
    "        \n",
    "    # 순방향 학습진행 콜백 함수\n",
    "    def forward(self, x): # 순전파 학습 \n",
    "        y = self.layer1(x)\n",
    "        z = self.sigmoid(y)\n",
    "        y = self.layer2(z)\n",
    "        z = self.sigmoid2(y)\n",
    "        return z"
   ],
   "metadata": {
    "collapsed": false,
    "ExecuteTime": {
     "end_time": "2024-03-14T08:41:48.974462100Z",
     "start_time": "2024-03-14T08:41:48.962980200Z"
    }
   },
   "id": "aba657eb332fd61c",
   "execution_count": 21
  },
  {
   "cell_type": "code",
   "outputs": [
    {
     "name": "stdout",
     "output_type": "stream",
     "text": [
      "====== 모델 구조 확인 ======\n",
      " LogicLinear(\n",
      "  (layer1): Linear(in_features=10, out_features=10, bias=True)\n",
      "  (sigmoid1): Sigmoid()\n",
      "  (layer2): Linear(in_features=10, out_features=3, bias=True)\n",
      "  (sigmoid2): Sigmoid()\n",
      ")\n"
     ]
    }
   ],
   "source": [
    "# 모델 인스턴스 생성 \n",
    "l1 = LogicLinear(10, 3)\n",
    "print(f\"====== 모델 구조 확인 ======\\n {l1}\")"
   ],
   "metadata": {
    "collapsed": false,
    "ExecuteTime": {
     "end_time": "2024-03-14T08:41:49.151199Z",
     "start_time": "2024-03-14T08:41:49.126281800Z"
    }
   },
   "id": "10fd10827d313135",
   "execution_count": 22
  },
  {
   "cell_type": "code",
   "outputs": [
    {
     "name": "stdout",
     "output_type": "stream",
     "text": [
      "모델구성 w, b ======\n",
      "Parameter containing:\n",
      "tensor([[ 0.2920, -0.2056, -0.3652, -0.4567],\n",
      "        [ 0.3676,  0.2554,  0.0674, -0.2936],\n",
      "        [-0.4273, -0.3791, -0.4951,  0.3379],\n",
      "        [-0.1535, -0.3372,  0.3916, -0.3613],\n",
      "        [ 0.4267, -0.4245,  0.2558,  0.4539],\n",
      "        [-0.3521, -0.1357, -0.2247,  0.2397],\n",
      "        [-0.0635,  0.2827, -0.0514,  0.3147],\n",
      "        [ 0.4492,  0.0621,  0.3826, -0.1314],\n",
      "        [-0.0459,  0.2734,  0.2838, -0.4054],\n",
      "        [ 0.2853,  0.3221, -0.0448, -0.1897]], requires_grad=True)\n",
      "Parameter containing:\n",
      "tensor([ 0.2469, -0.0732,  0.0263, -0.3689, -0.0566,  0.0078, -0.4997,  0.1733,\n",
      "        -0.2767,  0.2207], requires_grad=True)\n",
      "Parameter containing:\n",
      "tensor([[ 0.2895, -0.1073, -0.1318, -0.1073,  0.0857,  0.0545,  0.0398,  0.2893,\n",
      "         -0.2863,  0.2360]], requires_grad=True)\n",
      "Parameter containing:\n",
      "tensor([-0.2280], requires_grad=True)\n"
     ]
    }
   ],
   "source": [
    "print(f\"모델구성 w, b ======\")\n",
    "for param in l1.parameters(): print(param)\n",
    "    "
   ],
   "metadata": {
    "collapsed": false,
    "ExecuteTime": {
     "end_time": "2024-03-14T08:39:15.340612700Z",
     "start_time": "2024-03-14T08:39:15.332167900Z"
    }
   },
   "id": "9787b1b8ca8b4f9c",
   "execution_count": 19
  },
  {
   "cell_type": "code",
   "outputs": [],
   "source": [],
   "metadata": {
    "collapsed": false
   },
   "id": "18d14693c2f03a96"
  }
 ],
 "metadata": {
  "kernelspec": {
   "display_name": "Python 3",
   "language": "python",
   "name": "python3"
  },
  "language_info": {
   "codemirror_mode": {
    "name": "ipython",
    "version": 2
   },
   "file_extension": ".py",
   "mimetype": "text/x-python",
   "name": "python",
   "nbconvert_exporter": "python",
   "pygments_lexer": "ipython2",
   "version": "2.7.6"
  }
 },
 "nbformat": 4,
 "nbformat_minor": 5
}
