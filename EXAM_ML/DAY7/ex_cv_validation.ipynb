{
 "cells": [
  {
   "cell_type": "markdown",
   "id": "53102297-02ba-49b7-acb3-c3af2c12751b",
   "metadata": {},
   "source": [
    "# 교차 검증 단순화\n",
    "- scikit-learn의 model_selection 모듈 내에 모델 검증 관련 기능 활용\n",
    "- 교차 검증 데이터 기반, 검증 결과 처리"
   ]
  },
  {
   "cell_type": "markdown",
   "id": "7334d883-01ac-4765-843e-b7c04edaa582",
   "metadata": {},
   "source": [
    "## <hr> 모듈 로딩 및 데이터 준비"
   ]
  },
  {
   "cell_type": "code",
   "execution_count": 1,
   "id": "362a19eb-2cd9-4e23-9733-eceb186fadf7",
   "metadata": {},
   "outputs": [],
   "source": [
    "import pandas as pd\n",
    "import numpy as np"
   ]
  },
  {
   "cell_type": "code",
   "execution_count": 2,
   "id": "f30773be-5f84-4495-9a99-6ba323f6f93f",
   "metadata": {},
   "outputs": [],
   "source": [
    "# 생선 데이터 준비 -> 회귀\n",
    "fishDF = pd.read_csv(\"../data/fish.csv\")\n",
    "\n",
    "# 붓꽃 데이터 준비 -> 분류\n",
    "irisDF = pd.read_csv(\"../data/iris.csv\")"
   ]
  },
  {
   "cell_type": "code",
   "execution_count": 3,
   "id": "4c603077-81b8-4f03-bb39-a1b435d0dfdf",
   "metadata": {},
   "outputs": [
    {
     "data": {
      "text/html": [
       "<div>\n",
       "<style scoped>\n",
       "    .dataframe tbody tr th:only-of-type {\n",
       "        vertical-align: middle;\n",
       "    }\n",
       "\n",
       "    .dataframe tbody tr th {\n",
       "        vertical-align: top;\n",
       "    }\n",
       "\n",
       "    .dataframe thead th {\n",
       "        text-align: right;\n",
       "    }\n",
       "</style>\n",
       "<table border=\"1\" class=\"dataframe\">\n",
       "  <thead>\n",
       "    <tr style=\"text-align: right;\">\n",
       "      <th></th>\n",
       "      <th>Species</th>\n",
       "      <th>Weight</th>\n",
       "      <th>Length</th>\n",
       "      <th>Diagonal</th>\n",
       "      <th>Height</th>\n",
       "      <th>Width</th>\n",
       "    </tr>\n",
       "  </thead>\n",
       "  <tbody>\n",
       "    <tr>\n",
       "      <th>0</th>\n",
       "      <td>Bream</td>\n",
       "      <td>242.0</td>\n",
       "      <td>25.4</td>\n",
       "      <td>30.0</td>\n",
       "      <td>11.5200</td>\n",
       "      <td>4.0200</td>\n",
       "    </tr>\n",
       "    <tr>\n",
       "      <th>1</th>\n",
       "      <td>Bream</td>\n",
       "      <td>290.0</td>\n",
       "      <td>26.3</td>\n",
       "      <td>31.2</td>\n",
       "      <td>12.4800</td>\n",
       "      <td>4.3056</td>\n",
       "    </tr>\n",
       "    <tr>\n",
       "      <th>2</th>\n",
       "      <td>Bream</td>\n",
       "      <td>340.0</td>\n",
       "      <td>26.5</td>\n",
       "      <td>31.1</td>\n",
       "      <td>12.3778</td>\n",
       "      <td>4.6961</td>\n",
       "    </tr>\n",
       "    <tr>\n",
       "      <th>3</th>\n",
       "      <td>Bream</td>\n",
       "      <td>363.0</td>\n",
       "      <td>29.0</td>\n",
       "      <td>33.5</td>\n",
       "      <td>12.7300</td>\n",
       "      <td>4.4555</td>\n",
       "    </tr>\n",
       "    <tr>\n",
       "      <th>4</th>\n",
       "      <td>Bream</td>\n",
       "      <td>430.0</td>\n",
       "      <td>29.0</td>\n",
       "      <td>34.0</td>\n",
       "      <td>12.4440</td>\n",
       "      <td>5.1340</td>\n",
       "    </tr>\n",
       "  </tbody>\n",
       "</table>\n",
       "</div>"
      ],
      "text/plain": [
       "  Species  Weight  Length  Diagonal   Height   Width\n",
       "0   Bream   242.0    25.4      30.0  11.5200  4.0200\n",
       "1   Bream   290.0    26.3      31.2  12.4800  4.3056\n",
       "2   Bream   340.0    26.5      31.1  12.3778  4.6961\n",
       "3   Bream   363.0    29.0      33.5  12.7300  4.4555\n",
       "4   Bream   430.0    29.0      34.0  12.4440  5.1340"
      ]
     },
     "execution_count": 3,
     "metadata": {},
     "output_type": "execute_result"
    }
   ],
   "source": [
    "fishDF.head() # 회귀로 볼거임 무게가 타겟"
   ]
  },
  {
   "cell_type": "code",
   "execution_count": 4,
   "id": "c2f5e76c-0231-480e-a892-bb4ae16ed916",
   "metadata": {},
   "outputs": [
    {
     "data": {
      "text/html": [
       "<div>\n",
       "<style scoped>\n",
       "    .dataframe tbody tr th:only-of-type {\n",
       "        vertical-align: middle;\n",
       "    }\n",
       "\n",
       "    .dataframe tbody tr th {\n",
       "        vertical-align: top;\n",
       "    }\n",
       "\n",
       "    .dataframe thead th {\n",
       "        text-align: right;\n",
       "    }\n",
       "</style>\n",
       "<table border=\"1\" class=\"dataframe\">\n",
       "  <thead>\n",
       "    <tr style=\"text-align: right;\">\n",
       "      <th></th>\n",
       "      <th>sepal.length</th>\n",
       "      <th>sepal.width</th>\n",
       "      <th>petal.length</th>\n",
       "      <th>petal.width</th>\n",
       "      <th>variety</th>\n",
       "    </tr>\n",
       "  </thead>\n",
       "  <tbody>\n",
       "    <tr>\n",
       "      <th>0</th>\n",
       "      <td>5.1</td>\n",
       "      <td>3.5</td>\n",
       "      <td>1.4</td>\n",
       "      <td>0.2</td>\n",
       "      <td>Setosa</td>\n",
       "    </tr>\n",
       "    <tr>\n",
       "      <th>1</th>\n",
       "      <td>4.9</td>\n",
       "      <td>3.0</td>\n",
       "      <td>1.4</td>\n",
       "      <td>0.2</td>\n",
       "      <td>Setosa</td>\n",
       "    </tr>\n",
       "    <tr>\n",
       "      <th>2</th>\n",
       "      <td>4.7</td>\n",
       "      <td>3.2</td>\n",
       "      <td>1.3</td>\n",
       "      <td>0.2</td>\n",
       "      <td>Setosa</td>\n",
       "    </tr>\n",
       "    <tr>\n",
       "      <th>3</th>\n",
       "      <td>4.6</td>\n",
       "      <td>3.1</td>\n",
       "      <td>1.5</td>\n",
       "      <td>0.2</td>\n",
       "      <td>Setosa</td>\n",
       "    </tr>\n",
       "    <tr>\n",
       "      <th>4</th>\n",
       "      <td>5.0</td>\n",
       "      <td>3.6</td>\n",
       "      <td>1.4</td>\n",
       "      <td>0.2</td>\n",
       "      <td>Setosa</td>\n",
       "    </tr>\n",
       "  </tbody>\n",
       "</table>\n",
       "</div>"
      ],
      "text/plain": [
       "   sepal.length  sepal.width  petal.length  petal.width variety\n",
       "0           5.1          3.5           1.4          0.2  Setosa\n",
       "1           4.9          3.0           1.4          0.2  Setosa\n",
       "2           4.7          3.2           1.3          0.2  Setosa\n",
       "3           4.6          3.1           1.5          0.2  Setosa\n",
       "4           5.0          3.6           1.4          0.2  Setosa"
      ]
     },
     "execution_count": 4,
     "metadata": {},
     "output_type": "execute_result"
    }
   ],
   "source": [
    "irisDF.head() # 분류"
   ]
  },
  {
   "cell_type": "markdown",
   "id": "2fd97267-9050-4bbc-89db-d5e0fb85942b",
   "metadata": {},
   "source": [
    "## <hr>2. 데이터 준비 => 피쳐 & 타겟 분리"
   ]
  },
  {
   "cell_type": "code",
   "execution_count": 6,
   "id": "af5fe099-9409-4fe1-9e2a-2977dab11086",
   "metadata": {},
   "outputs": [],
   "source": [
    "# 타겟 : Weight\n",
    "# feature : Length\tDiagonal\tHeight\tWidth\n",
    "\n",
    "fish_targetSR = fishDF.iloc[:,1]\n",
    "fish_featureSDF = fishDF.iloc[:,2:]"
   ]
  },
  {
   "cell_type": "code",
   "execution_count": 9,
   "id": "f40c26c0-b295-4160-8831-544183b1a8a2",
   "metadata": {},
   "outputs": [
    {
     "data": {
      "text/plain": [
       "(0    242.0\n",
       " 1    290.0\n",
       " Name: Weight, dtype: float64,\n",
       "    Length  Diagonal  Height   Width\n",
       " 0    25.4      30.0   11.52  4.0200\n",
       " 1    26.3      31.2   12.48  4.3056)"
      ]
     },
     "execution_count": 9,
     "metadata": {},
     "output_type": "execute_result"
    }
   ],
   "source": [
    "fish_targetSR.head(2), fish_featureSDF.head(2)"
   ]
  },
  {
   "cell_type": "code",
   "execution_count": 7,
   "id": "b27a4415-c111-4752-b0ae-719dfe33ab70",
   "metadata": {},
   "outputs": [],
   "source": [
    "# iris도 나누기\n",
    "\n",
    "iris_targetSR = irisDF.iloc[:,-1]\n",
    "iris_featureSDF = irisDF.iloc[:,:-1]"
   ]
  },
  {
   "cell_type": "code",
   "execution_count": 8,
   "id": "dfdea3e2-88f0-4752-8d33-abf4d0fca8e4",
   "metadata": {},
   "outputs": [
    {
     "data": {
      "text/plain": [
       "(0    Setosa\n",
       " 1    Setosa\n",
       " Name: variety, dtype: object,\n",
       "    sepal.length  sepal.width  petal.length  petal.width\n",
       " 0           5.1          3.5           1.4          0.2\n",
       " 1           4.9          3.0           1.4          0.2)"
      ]
     },
     "execution_count": 8,
     "metadata": {},
     "output_type": "execute_result"
    }
   ],
   "source": [
    "iris_targetSR.head(2), iris_featureSDF.head(2)"
   ]
  },
  {
   "cell_type": "markdown",
   "id": "734ae681-2c85-43c7-a5b5-e27a91054e27",
   "metadata": {},
   "source": [
    "## <hr>3. 데이터 전처리\n",
    "- feature scaling"
   ]
  },
  {
   "cell_type": "code",
   "execution_count": 17,
   "id": "37c30c09-bcb2-4bf4-8fbb-c06f78b0baf2",
   "metadata": {},
   "outputs": [],
   "source": [
    "# 학습용 테스트용 분리 \n",
    "from sklearn.model_selection import train_test_split\n",
    "# 생선 데이터\n",
    "fish_X_train, fish_X_test, fish_y_train, fish_y_test = train_test_split(fish_featureSDF,\n",
    "                                                                         fish_targetSR,\n",
    "                                                                        test_size=0.2,\n",
    "                                                                         random_state = 5)\n",
    "\n",
    "# 붓꽃 데이터\n",
    "iris_X_train, iris_X_test, iris_y_train, iris_y_test = train_test_split(iris_featureSDF,\n",
    "                                                                        iris_targetSR,\n",
    "                                                                        test_size=0.2,\n",
    "                                                                        stratify=iris_targetSR,\n",
    "                                                                         random_state = 5)"
   ]
  },
  {
   "cell_type": "code",
   "execution_count": 19,
   "id": "1218e3af-970d-4a15-aff9-e285ee17adc5",
   "metadata": {},
   "outputs": [],
   "source": [
    "from sklearn.preprocessing import StandardScaler\n",
    "\n",
    "# 물고기 스케일링\n",
    "fish_Scaler = StandardScaler()\n",
    "fish_Scaler.fit(fish_X_train)\n",
    "\n",
    "scaled_fish_X_train = fish_Scaler.transform(fish_X_train)\n",
    "scaled_fish_X_test = fish_Scaler.transform(fish_X_test)\n",
    "\n",
    "# 붓꽃 스케일링\n",
    "iris_Scaler = StandardScaler()\n",
    "iris_Scaler.fit(iris_X_train)\n",
    "\n",
    "scaled_iris_X_train = iris_Scaler.transform(iris_X_train)\n",
    "scaled_iris_X_test = iris_Scaler.transform(iris_X_test)"
   ]
  },
  {
   "cell_type": "markdown",
   "id": "338f1e00-fc04-438f-bff5-78b687550d5a",
   "metadata": {},
   "source": [
    "## <hr> 4. 학습 "
   ]
  },
  {
   "cell_type": "markdown",
   "id": "c74d7e29-ac85-4177-9165-f4ec93fd0814",
   "metadata": {},
   "source": [
    "### 4-1 생선 무게 예측 모델"
   ]
  },
  {
   "cell_type": "code",
   "execution_count": 21,
   "id": "e9da3f8f-9a9c-4c02-ad8d-2d102eade745",
   "metadata": {},
   "outputs": [],
   "source": [
    "# 모듈 로딩\n",
    "from sklearn.linear_model import LinearRegression, Ridge, Lasso\n",
    "from sklearn.model_selection import cross_validate, cross_val_score, cross_val_predict\n",
    "# 다 보고 싶으면 validate"
   ]
  },
  {
   "cell_type": "code",
   "execution_count": 22,
   "id": "3f0351b3-3861-4dd8-a15a-4ba7485cab7a",
   "metadata": {},
   "outputs": [],
   "source": [
    "# 교차 검증으로 학습 진행\n",
    "# 준비 : 모델 인스턴스, 학습용 피쳐 데이터, 학습용 라벨 데이터 \n",
    "\n",
    "lr_model = LinearRegression()"
   ]
  },
  {
   "cell_type": "code",
   "execution_count": 33,
   "id": "108f1a2f-9f55-4b60-bfe3-5a9ab50e0994",
   "metadata": {},
   "outputs": [
    {
     "name": "stdout",
     "output_type": "stream",
     "text": [
      "{'fit_time': array([0.00099826, 0.00099993, 0.00099993, 0.        , 0.00107145]), 'score_time': array([0.00199986, 0.        , 0.        , 0.0010004 , 0.00094247]), 'estimator': [LinearRegression(), LinearRegression(), LinearRegression(), LinearRegression(), LinearRegression()], 'test_r2': array([0.92104683, 0.84385378, 0.88592423, 0.64671954, 0.79031905]), 'train_r2': array([0.87426416, 0.88779401, 0.88061108, 0.90297504, 0.89833592]), 'test_neg_mean_squared_error': array([ -8767.84902315, -17815.75093903, -12344.87825138, -22006.47049028,\n",
      "       -39450.52608702]), 'train_neg_mean_squared_error': array([-16078.44783606, -13972.57866943, -15268.42472495, -13223.98109532,\n",
      "       -10586.01039978])}\n"
     ]
    }
   ],
   "source": [
    "# 학습/검증에 대한 평가 모든 결과에 대한 처리\n",
    "result = cross_validate(lr_model, \n",
    "                        scaled_fish_X_train, \n",
    "                        fish_y_train, \n",
    "                        scoring=(\"r2\", \"neg_mean_squared_error\"),\n",
    "                        return_train_score=True,\n",
    "                       return_estimator=True)\n",
    "\n",
    "print(result)\n",
    "\n",
    "# 회귀니까 score는 r2"
   ]
  },
  {
   "cell_type": "code",
   "execution_count": 36,
   "id": "53b15153-7162-4fb0-84b8-01896a3b7654",
   "metadata": {},
   "outputs": [
    {
     "data": {
      "text/html": [
       "<div>\n",
       "<style scoped>\n",
       "    .dataframe tbody tr th:only-of-type {\n",
       "        vertical-align: middle;\n",
       "    }\n",
       "\n",
       "    .dataframe tbody tr th {\n",
       "        vertical-align: top;\n",
       "    }\n",
       "\n",
       "    .dataframe thead th {\n",
       "        text-align: right;\n",
       "    }\n",
       "</style>\n",
       "<table border=\"1\" class=\"dataframe\">\n",
       "  <thead>\n",
       "    <tr style=\"text-align: right;\">\n",
       "      <th></th>\n",
       "      <th>fit_time</th>\n",
       "      <th>score_time</th>\n",
       "      <th>estimator</th>\n",
       "      <th>test_r2</th>\n",
       "      <th>train_r2</th>\n",
       "      <th>test_neg_mean_squared_error</th>\n",
       "      <th>train_neg_mean_squared_error</th>\n",
       "    </tr>\n",
       "  </thead>\n",
       "  <tbody>\n",
       "    <tr>\n",
       "      <th>0</th>\n",
       "      <td>0.000998</td>\n",
       "      <td>0.002000</td>\n",
       "      <td>LinearRegression()</td>\n",
       "      <td>0.921047</td>\n",
       "      <td>0.874264</td>\n",
       "      <td>-8767.849023</td>\n",
       "      <td>-16078.447836</td>\n",
       "    </tr>\n",
       "    <tr>\n",
       "      <th>1</th>\n",
       "      <td>0.001000</td>\n",
       "      <td>0.000000</td>\n",
       "      <td>LinearRegression()</td>\n",
       "      <td>0.843854</td>\n",
       "      <td>0.887794</td>\n",
       "      <td>-17815.750939</td>\n",
       "      <td>-13972.578669</td>\n",
       "    </tr>\n",
       "    <tr>\n",
       "      <th>2</th>\n",
       "      <td>0.001000</td>\n",
       "      <td>0.000000</td>\n",
       "      <td>LinearRegression()</td>\n",
       "      <td>0.885924</td>\n",
       "      <td>0.880611</td>\n",
       "      <td>-12344.878251</td>\n",
       "      <td>-15268.424725</td>\n",
       "    </tr>\n",
       "    <tr>\n",
       "      <th>3</th>\n",
       "      <td>0.000000</td>\n",
       "      <td>0.001000</td>\n",
       "      <td>LinearRegression()</td>\n",
       "      <td>0.646720</td>\n",
       "      <td>0.902975</td>\n",
       "      <td>-22006.470490</td>\n",
       "      <td>-13223.981095</td>\n",
       "    </tr>\n",
       "    <tr>\n",
       "      <th>4</th>\n",
       "      <td>0.001071</td>\n",
       "      <td>0.000942</td>\n",
       "      <td>LinearRegression()</td>\n",
       "      <td>0.790319</td>\n",
       "      <td>0.898336</td>\n",
       "      <td>-39450.526087</td>\n",
       "      <td>-10586.010400</td>\n",
       "    </tr>\n",
       "  </tbody>\n",
       "</table>\n",
       "</div>"
      ],
      "text/plain": [
       "   fit_time  score_time           estimator   test_r2  train_r2  \\\n",
       "0  0.000998    0.002000  LinearRegression()  0.921047  0.874264   \n",
       "1  0.001000    0.000000  LinearRegression()  0.843854  0.887794   \n",
       "2  0.001000    0.000000  LinearRegression()  0.885924  0.880611   \n",
       "3  0.000000    0.001000  LinearRegression()  0.646720  0.902975   \n",
       "4  0.001071    0.000942  LinearRegression()  0.790319  0.898336   \n",
       "\n",
       "   test_neg_mean_squared_error  train_neg_mean_squared_error  \n",
       "0                 -8767.849023                 -16078.447836  \n",
       "1                -17815.750939                 -13972.578669  \n",
       "2                -12344.878251                 -15268.424725  \n",
       "3                -22006.470490                 -13223.981095  \n",
       "4                -39450.526087                 -10586.010400  "
      ]
     },
     "execution_count": 36,
     "metadata": {},
     "output_type": "execute_result"
    }
   ],
   "source": [
    "resultDF = pd.DataFrame(result)\n",
    "resultDF"
   ]
  },
  {
   "cell_type": "markdown",
   "id": "c2a342a2-c682-45d9-9d27-fd4778b1461d",
   "metadata": {},
   "source": [
    "index는 cv개수"
   ]
  },
  {
   "cell_type": "code",
   "execution_count": 35,
   "id": "6f6e5782-d876-412c-bfcb-d3eeede636b0",
   "metadata": {},
   "outputs": [
    {
     "data": {
      "text/plain": [
       "(array([ 373.98470744, -159.77931033,   90.53431501,   50.22123874]),\n",
       " 408.52250924970195)"
      ]
     },
     "execution_count": 35,
     "metadata": {},
     "output_type": "execute_result"
    }
   ],
   "source": [
    "best_model = resultDF.iloc[0][\"estimator\"]\n",
    "best_model.coef_, best_model.intercept_"
   ]
  },
  {
   "cell_type": "code",
   "execution_count": 38,
   "id": "8c0202f8-dc02-4083-b2a0-cd8434d6a8a0",
   "metadata": {},
   "outputs": [
    {
     "data": {
      "text/plain": [
       "array([0.92104683, 0.84385378, 0.88592423, 0.64671954, 0.79031905])"
      ]
     },
     "execution_count": 38,
     "metadata": {},
     "output_type": "execute_result"
    }
   ],
   "source": [
    "### CV에 score만 추출\n",
    "cross_val_score(lr_model, scaled_fish_X_train, fish_y_train)"
   ]
  },
  {
   "cell_type": "code",
   "execution_count": null,
   "id": "8c836764-2dc7-42e8-8858-c020b80d45ad",
   "metadata": {},
   "outputs": [],
   "source": [
    "## CV에 predict만 추출\n",
    "cross_val_predict(lr_model, scaled_fish_X_train, fish_y_train)"
   ]
  },
  {
   "cell_type": "markdown",
   "id": "4b2b64a3-6282-4f6b-8a81-21a5c74d8206",
   "metadata": {},
   "source": [
    "이젠 나도 잘 모르겠다\n",
    "\n",
    "C는 값이 클수록 규제가 약함 <-> 알파랑 반대되는 개념 \n",
    "커널은 차원? 다른 방식?으로 바라보는 것"
   ]
  },
  {
   "cell_type": "markdown",
   "id": "0db9194b-02d3-40e6-966e-9d8af8ac33b7",
   "metadata": {},
   "source": [
    "# 교차검증과 튜닝까지 한번에 진행\n",
    "- 단점 : 시간이 오래 걸림"
   ]
  },
  {
   "cell_type": "code",
   "execution_count": 39,
   "id": "056b962d-9378-442d-b48c-bea379261c94",
   "metadata": {},
   "outputs": [],
   "source": [
    "from sklearn.model_selection import GridSearchCV, RandomizedSearchCV"
   ]
  },
  {
   "cell_type": "code",
   "execution_count": 40,
   "id": "68e86a1e-3751-40a2-8626-dee046e1dbfa",
   "metadata": {},
   "outputs": [],
   "source": [
    "from sklearn.linear_model import LogisticRegression"
   ]
  },
  {
   "cell_type": "code",
   "execution_count": 47,
   "id": "65269bbf-74f1-45f8-9f6d-077f843d5bd7",
   "metadata": {},
   "outputs": [],
   "source": [
    "est = LogisticRegression(max_iter=10000,solver=\"liblinear\")\n",
    "params = {\"penalty\" : ['l1', 'l2'],\n",
    "         }"
   ]
  },
  {
   "cell_type": "code",
   "execution_count": 48,
   "id": "71474792-c402-4eb1-8acd-9665f0600c5b",
   "metadata": {},
   "outputs": [
    {
     "data": {
      "text/html": [
       "<style>#sk-container-id-6 {color: black;}#sk-container-id-6 pre{padding: 0;}#sk-container-id-6 div.sk-toggleable {background-color: white;}#sk-container-id-6 label.sk-toggleable__label {cursor: pointer;display: block;width: 100%;margin-bottom: 0;padding: 0.3em;box-sizing: border-box;text-align: center;}#sk-container-id-6 label.sk-toggleable__label-arrow:before {content: \"▸\";float: left;margin-right: 0.25em;color: #696969;}#sk-container-id-6 label.sk-toggleable__label-arrow:hover:before {color: black;}#sk-container-id-6 div.sk-estimator:hover label.sk-toggleable__label-arrow:before {color: black;}#sk-container-id-6 div.sk-toggleable__content {max-height: 0;max-width: 0;overflow: hidden;text-align: left;background-color: #f0f8ff;}#sk-container-id-6 div.sk-toggleable__content pre {margin: 0.2em;color: black;border-radius: 0.25em;background-color: #f0f8ff;}#sk-container-id-6 input.sk-toggleable__control:checked~div.sk-toggleable__content {max-height: 200px;max-width: 100%;overflow: auto;}#sk-container-id-6 input.sk-toggleable__control:checked~label.sk-toggleable__label-arrow:before {content: \"▾\";}#sk-container-id-6 div.sk-estimator input.sk-toggleable__control:checked~label.sk-toggleable__label {background-color: #d4ebff;}#sk-container-id-6 div.sk-label input.sk-toggleable__control:checked~label.sk-toggleable__label {background-color: #d4ebff;}#sk-container-id-6 input.sk-hidden--visually {border: 0;clip: rect(1px 1px 1px 1px);clip: rect(1px, 1px, 1px, 1px);height: 1px;margin: -1px;overflow: hidden;padding: 0;position: absolute;width: 1px;}#sk-container-id-6 div.sk-estimator {font-family: monospace;background-color: #f0f8ff;border: 1px dotted black;border-radius: 0.25em;box-sizing: border-box;margin-bottom: 0.5em;}#sk-container-id-6 div.sk-estimator:hover {background-color: #d4ebff;}#sk-container-id-6 div.sk-parallel-item::after {content: \"\";width: 100%;border-bottom: 1px solid gray;flex-grow: 1;}#sk-container-id-6 div.sk-label:hover label.sk-toggleable__label {background-color: #d4ebff;}#sk-container-id-6 div.sk-serial::before {content: \"\";position: absolute;border-left: 1px solid gray;box-sizing: border-box;top: 0;bottom: 0;left: 50%;z-index: 0;}#sk-container-id-6 div.sk-serial {display: flex;flex-direction: column;align-items: center;background-color: white;padding-right: 0.2em;padding-left: 0.2em;position: relative;}#sk-container-id-6 div.sk-item {position: relative;z-index: 1;}#sk-container-id-6 div.sk-parallel {display: flex;align-items: stretch;justify-content: center;background-color: white;position: relative;}#sk-container-id-6 div.sk-item::before, #sk-container-id-6 div.sk-parallel-item::before {content: \"\";position: absolute;border-left: 1px solid gray;box-sizing: border-box;top: 0;bottom: 0;left: 50%;z-index: -1;}#sk-container-id-6 div.sk-parallel-item {display: flex;flex-direction: column;z-index: 1;position: relative;background-color: white;}#sk-container-id-6 div.sk-parallel-item:first-child::after {align-self: flex-end;width: 50%;}#sk-container-id-6 div.sk-parallel-item:last-child::after {align-self: flex-start;width: 50%;}#sk-container-id-6 div.sk-parallel-item:only-child::after {width: 0;}#sk-container-id-6 div.sk-dashed-wrapped {border: 1px dashed gray;margin: 0 0.4em 0.5em 0.4em;box-sizing: border-box;padding-bottom: 0.4em;background-color: white;}#sk-container-id-6 div.sk-label label {font-family: monospace;font-weight: bold;display: inline-block;line-height: 1.2em;}#sk-container-id-6 div.sk-label-container {text-align: center;}#sk-container-id-6 div.sk-container {/* jupyter's `normalize.less` sets `[hidden] { display: none; }` but bootstrap.min.css set `[hidden] { display: none !important; }` so we also need the `!important` here to be able to override the default hidden behavior on the sphinx rendered scikit-learn.org. See: https://github.com/scikit-learn/scikit-learn/issues/21755 */display: inline-block !important;position: relative;}#sk-container-id-6 div.sk-text-repr-fallback {display: none;}</style><div id=\"sk-container-id-6\" class=\"sk-top-container\"><div class=\"sk-text-repr-fallback\"><pre>GridSearchCV(estimator=LogisticRegression(max_iter=10000, solver=&#x27;liblinear&#x27;),\n",
       "             param_grid={&#x27;penalty&#x27;: [&#x27;l1&#x27;, &#x27;l2&#x27;]}, return_train_score=True)</pre><b>In a Jupyter environment, please rerun this cell to show the HTML representation or trust the notebook. <br />On GitHub, the HTML representation is unable to render, please try loading this page with nbviewer.org.</b></div><div class=\"sk-container\" hidden><div class=\"sk-item sk-dashed-wrapped\"><div class=\"sk-label-container\"><div class=\"sk-label sk-toggleable\"><input class=\"sk-toggleable__control sk-hidden--visually\" id=\"sk-estimator-id-12\" type=\"checkbox\" ><label for=\"sk-estimator-id-12\" class=\"sk-toggleable__label sk-toggleable__label-arrow\">GridSearchCV</label><div class=\"sk-toggleable__content\"><pre>GridSearchCV(estimator=LogisticRegression(max_iter=10000, solver=&#x27;liblinear&#x27;),\n",
       "             param_grid={&#x27;penalty&#x27;: [&#x27;l1&#x27;, &#x27;l2&#x27;]}, return_train_score=True)</pre></div></div></div><div class=\"sk-parallel\"><div class=\"sk-parallel-item\"><div class=\"sk-item\"><div class=\"sk-label-container\"><div class=\"sk-label sk-toggleable\"><input class=\"sk-toggleable__control sk-hidden--visually\" id=\"sk-estimator-id-13\" type=\"checkbox\" ><label for=\"sk-estimator-id-13\" class=\"sk-toggleable__label sk-toggleable__label-arrow\">estimator: LogisticRegression</label><div class=\"sk-toggleable__content\"><pre>LogisticRegression(max_iter=10000, solver=&#x27;liblinear&#x27;)</pre></div></div></div><div class=\"sk-serial\"><div class=\"sk-item\"><div class=\"sk-estimator sk-toggleable\"><input class=\"sk-toggleable__control sk-hidden--visually\" id=\"sk-estimator-id-14\" type=\"checkbox\" ><label for=\"sk-estimator-id-14\" class=\"sk-toggleable__label sk-toggleable__label-arrow\">LogisticRegression</label><div class=\"sk-toggleable__content\"><pre>LogisticRegression(max_iter=10000, solver=&#x27;liblinear&#x27;)</pre></div></div></div></div></div></div></div></div></div></div>"
      ],
      "text/plain": [
       "GridSearchCV(estimator=LogisticRegression(max_iter=10000, solver='liblinear'),\n",
       "             param_grid={'penalty': ['l1', 'l2']}, return_train_score=True)"
      ]
     },
     "execution_count": 48,
     "metadata": {},
     "output_type": "execute_result"
    }
   ],
   "source": [
    "gscv = GridSearchCV(est, param_grid=params, return_train_score=True)\n",
    "\n",
    "gscv.fit(scaled_iris_X_train, iris_y_train)"
   ]
  },
  {
   "cell_type": "code",
   "execution_count": 51,
   "id": "2e6036d9-024d-40b0-a547-6d4f5117fe82",
   "metadata": {},
   "outputs": [],
   "source": [
    "cv_resultDF = pd.DataFrame(gscv.cv_results_)"
   ]
  },
  {
   "cell_type": "code",
   "execution_count": 53,
   "id": "2e1a2171-400f-41de-b5f8-e1b6282fdc59",
   "metadata": {},
   "outputs": [
    {
     "data": {
      "text/html": [
       "<div>\n",
       "<style scoped>\n",
       "    .dataframe tbody tr th:only-of-type {\n",
       "        vertical-align: middle;\n",
       "    }\n",
       "\n",
       "    .dataframe tbody tr th {\n",
       "        vertical-align: top;\n",
       "    }\n",
       "\n",
       "    .dataframe thead th {\n",
       "        text-align: right;\n",
       "    }\n",
       "</style>\n",
       "<table border=\"1\" class=\"dataframe\">\n",
       "  <thead>\n",
       "    <tr style=\"text-align: right;\">\n",
       "      <th></th>\n",
       "      <th>mean_fit_time</th>\n",
       "      <th>std_fit_time</th>\n",
       "      <th>mean_score_time</th>\n",
       "      <th>std_score_time</th>\n",
       "      <th>param_penalty</th>\n",
       "      <th>params</th>\n",
       "      <th>split0_test_score</th>\n",
       "      <th>split1_test_score</th>\n",
       "      <th>split2_test_score</th>\n",
       "      <th>split3_test_score</th>\n",
       "      <th>...</th>\n",
       "      <th>mean_test_score</th>\n",
       "      <th>std_test_score</th>\n",
       "      <th>rank_test_score</th>\n",
       "      <th>split0_train_score</th>\n",
       "      <th>split1_train_score</th>\n",
       "      <th>split2_train_score</th>\n",
       "      <th>split3_train_score</th>\n",
       "      <th>split4_train_score</th>\n",
       "      <th>mean_train_score</th>\n",
       "      <th>std_train_score</th>\n",
       "    </tr>\n",
       "  </thead>\n",
       "  <tbody>\n",
       "    <tr>\n",
       "      <th>0</th>\n",
       "      <td>0.001051</td>\n",
       "      <td>0.000080</td>\n",
       "      <td>0.000200</td>\n",
       "      <td>0.000401</td>\n",
       "      <td>l1</td>\n",
       "      <td>{'penalty': 'l1'}</td>\n",
       "      <td>0.875</td>\n",
       "      <td>1.000000</td>\n",
       "      <td>0.958333</td>\n",
       "      <td>0.958333</td>\n",
       "      <td>...</td>\n",
       "      <td>0.941667</td>\n",
       "      <td>0.042492</td>\n",
       "      <td>1</td>\n",
       "      <td>0.93750</td>\n",
       "      <td>0.927083</td>\n",
       "      <td>0.937500</td>\n",
       "      <td>0.947917</td>\n",
       "      <td>0.93750</td>\n",
       "      <td>0.937500</td>\n",
       "      <td>0.006588</td>\n",
       "    </tr>\n",
       "    <tr>\n",
       "      <th>1</th>\n",
       "      <td>0.000808</td>\n",
       "      <td>0.000404</td>\n",
       "      <td>0.000328</td>\n",
       "      <td>0.000417</td>\n",
       "      <td>l2</td>\n",
       "      <td>{'penalty': 'l2'}</td>\n",
       "      <td>0.875</td>\n",
       "      <td>0.958333</td>\n",
       "      <td>0.958333</td>\n",
       "      <td>0.958333</td>\n",
       "      <td>...</td>\n",
       "      <td>0.916667</td>\n",
       "      <td>0.052705</td>\n",
       "      <td>2</td>\n",
       "      <td>0.90625</td>\n",
       "      <td>0.916667</td>\n",
       "      <td>0.916667</td>\n",
       "      <td>0.927083</td>\n",
       "      <td>0.90625</td>\n",
       "      <td>0.914583</td>\n",
       "      <td>0.007795</td>\n",
       "    </tr>\n",
       "  </tbody>\n",
       "</table>\n",
       "<p>2 rows × 21 columns</p>\n",
       "</div>"
      ],
      "text/plain": [
       "   mean_fit_time  std_fit_time  mean_score_time  std_score_time param_penalty  \\\n",
       "0       0.001051      0.000080         0.000200        0.000401            l1   \n",
       "1       0.000808      0.000404         0.000328        0.000417            l2   \n",
       "\n",
       "              params  split0_test_score  split1_test_score  split2_test_score  \\\n",
       "0  {'penalty': 'l1'}              0.875           1.000000           0.958333   \n",
       "1  {'penalty': 'l2'}              0.875           0.958333           0.958333   \n",
       "\n",
       "   split3_test_score  ...  mean_test_score  std_test_score  rank_test_score  \\\n",
       "0           0.958333  ...         0.941667        0.042492                1   \n",
       "1           0.958333  ...         0.916667        0.052705                2   \n",
       "\n",
       "   split0_train_score  split1_train_score  split2_train_score  \\\n",
       "0             0.93750            0.927083            0.937500   \n",
       "1             0.90625            0.916667            0.916667   \n",
       "\n",
       "   split3_train_score  split4_train_score  mean_train_score  std_train_score  \n",
       "0            0.947917             0.93750          0.937500         0.006588  \n",
       "1            0.927083             0.90625          0.914583         0.007795  \n",
       "\n",
       "[2 rows x 21 columns]"
      ]
     },
     "execution_count": 53,
     "metadata": {},
     "output_type": "execute_result"
    }
   ],
   "source": [
    "cv_resultDF"
   ]
  },
  {
   "cell_type": "code",
   "execution_count": 54,
   "id": "0a89f916-f9c4-436b-b436-d2ebe02b9218",
   "metadata": {},
   "outputs": [
    {
     "data": {
      "text/plain": [
       "{'penalty': 'l1'}"
      ]
     },
     "execution_count": 54,
     "metadata": {},
     "output_type": "execute_result"
    }
   ],
   "source": [
    "gscv.best_params_ # penalty가 l1일 때 최고 "
   ]
  },
  {
   "cell_type": "code",
   "execution_count": 55,
   "id": "3bcfd55c-f90a-4bf9-b73d-c27644c821fa",
   "metadata": {},
   "outputs": [
    {
     "data": {
      "text/plain": [
       "0.9416666666666668"
      ]
     },
     "execution_count": 55,
     "metadata": {},
     "output_type": "execute_result"
    }
   ],
   "source": [
    "gscv.best_score_"
   ]
  },
  {
   "cell_type": "code",
   "execution_count": 56,
   "id": "cbb0da8d-6f58-4a41-8b10-14437392a37f",
   "metadata": {},
   "outputs": [],
   "source": [
    "best_model=gscv.best_estimator_"
   ]
  },
  {
   "cell_type": "markdown",
   "id": "6154ce27-e5be-4722-acd2-b92074ec0d8f",
   "metadata": {},
   "source": [
    "# 데이터에 적합한 모델 찾기"
   ]
  },
  {
   "cell_type": "code",
   "execution_count": 57,
   "id": "fd8ba395-4fb5-466e-bb6d-2eefb48e9a28",
   "metadata": {},
   "outputs": [],
   "source": [
    "from sklearn.utils.discovery import all_estimators"
   ]
  },
  {
   "cell_type": "code",
   "execution_count": 64,
   "id": "7fcca00e-a538-45d5-86ef-fcb494d0c7b1",
   "metadata": {},
   "outputs": [
    {
     "name": "stdout",
     "output_type": "stream",
     "text": [
      "AdaBoostClassifier()\n",
      "BaggingClassifier()\n",
      "BernoulliNB()\n",
      "CalibratedClassifierCV()\n",
      "Negative values in data passed to CategoricalNB (input X)\n",
      "__init__() missing 1 required positional argument: 'base_estimator'\n",
      "Negative values in data passed to ComplementNB (input X)\n",
      "DecisionTreeClassifier()\n",
      "DummyClassifier()\n",
      "ExtraTreeClassifier()\n",
      "ExtraTreesClassifier()\n",
      "GaussianNB()\n",
      "GaussianProcessClassifier()\n",
      "GradientBoostingClassifier()\n",
      "HistGradientBoostingClassifier()\n",
      "KNeighborsClassifier()\n",
      "LabelPropagation()\n",
      "LabelSpreading()\n",
      "LinearDiscriminantAnalysis()\n",
      "LinearSVC()\n",
      "LogisticRegression()\n",
      "LogisticRegressionCV()\n"
     ]
    },
    {
     "name": "stderr",
     "output_type": "stream",
     "text": [
      "C:\\Users\\kdp\\anaconda3\\envs\\EXAM_ML\\lib\\site-packages\\sklearn\\svm\\_classes.py:32: FutureWarning: The default value of `dual` will change from `True` to `'auto'` in 1.5. Set the value of `dual` explicitly to suppress the warning.\n",
      "  warnings.warn(\n"
     ]
    },
    {
     "name": "stdout",
     "output_type": "stream",
     "text": [
      "MLPClassifier()\n",
      "__init__() missing 1 required positional argument: 'estimator'\n",
      "Negative values in data passed to MultinomialNB (input X)\n",
      "NearestCentroid()\n",
      "NuSVC()\n",
      "__init__() missing 1 required positional argument: 'estimator'\n",
      "__init__() missing 1 required positional argument: 'estimator'\n",
      "__init__() missing 1 required positional argument: 'estimator'\n",
      "PassiveAggressiveClassifier()\n",
      "Perceptron()\n",
      "QuadraticDiscriminantAnalysis()\n",
      "RadiusNeighborsClassifier()\n",
      "RandomForestClassifier()\n",
      "RidgeClassifier()\n",
      "RidgeClassifierCV()\n",
      "SGDClassifier()\n",
      "SVC()\n",
      "__init__() missing 1 required positional argument: 'estimators'\n",
      "__init__() missing 1 required positional argument: 'estimators'\n"
     ]
    },
    {
     "name": "stderr",
     "output_type": "stream",
     "text": [
      "C:\\Users\\kdp\\anaconda3\\envs\\EXAM_ML\\lib\\site-packages\\sklearn\\neural_network\\_multilayer_perceptron.py:691: ConvergenceWarning: Stochastic Optimizer: Maximum iterations (200) reached and the optimization hasn't converged yet.\n",
      "  warnings.warn(\n"
     ]
    }
   ],
   "source": [
    "models=all_estimators(\"classifier\")\n",
    "\n",
    "for model_name, model in models:\n",
    "    try:\n",
    "        print(model().fit(scaled_iris_X_train, iris_y_train))\n",
    "    except Exception as e:\n",
    "        print(e)"
   ]
  },
  {
   "cell_type": "code",
   "execution_count": null,
   "id": "a60c51c8-3b32-47a8-904a-0ea6963a4686",
   "metadata": {},
   "outputs": [],
   "source": [
    "# 예외처리는 니 알아서 해보소...."
   ]
  }
 ],
 "metadata": {
  "kernelspec": {
   "display_name": "Python 3 (ipykernel)",
   "language": "python",
   "name": "python3"
  },
  "language_info": {
   "codemirror_mode": {
    "name": "ipython",
    "version": 3
   },
   "file_extension": ".py",
   "mimetype": "text/x-python",
   "name": "python",
   "nbconvert_exporter": "python",
   "pygments_lexer": "ipython3",
   "version": "3.9.18"
  }
 },
 "nbformat": 4,
 "nbformat_minor": 5
}
