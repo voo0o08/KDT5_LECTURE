{
 "cells": [
  {
   "cell_type": "code",
   "execution_count": 31,
   "id": "initial_id",
   "metadata": {
    "collapsed": true,
    "ExecuteTime": {
     "end_time": "2024-03-19T02:06:37.894383500Z",
     "start_time": "2024-03-19T02:06:37.877474400Z"
    }
   },
   "outputs": [],
   "source": [
    "import torch\n",
    "import torch.nn as nn\n",
    "\n",
    "class Net(nn.Module):\n",
    "    \n",
    "    # 모델의 구성 요소 생성 및 구조 설정\n",
    "    def __init__(self):\n",
    "        super(Net, self).__init__()\n",
    "        \n",
    "        self.input = nn.Linear(8, 4)\n",
    "        self.fc2 = nn.Linear(4, 2)\n",
    "        self.fc3 = nn.Linear(2, 1)\n",
    "        \n",
    "    # 순방향 학습 진행 함수\n",
    "    def forward(self, x):\n",
    "        return self.fc3(self.fc2(self.fc1(x)))"
   ]
  },
  {
   "cell_type": "code",
   "outputs": [],
   "source": [
    "import torch\n",
    "import torch.nn as nn\n",
    "import torchviz\n",
    "from torchinfo import summary\n",
    "\n",
    "\n",
    "class Net(nn.Module):\n",
    "    \n",
    "    # 모델의 구성 요소 생성 및 구조 설정\n",
    "    def __init__(self):\n",
    "        super(Net, self).__init__()\n",
    "        \n",
    "        self.input = nn.Linear(8, 4)\n",
    "        self.layer2 = nn.Linear(4, 2)\n",
    "        self.dropout = nn.Dropout(0.5)\n",
    "        self.layer3 = nn.Linear(2, 1)\n",
    "        \n",
    "    # 순방향 학습 진행 함수\n",
    "    def forward(self, x):\n",
    "        return self.layer3(self.dropout(self.layer2(self.input(x))))"
   ],
   "metadata": {
    "collapsed": false,
    "ExecuteTime": {
     "end_time": "2024-03-19T02:35:45.204375500Z",
     "start_time": "2024-03-19T02:35:45.188546Z"
    }
   },
   "id": "a0aae931785274ca",
   "execution_count": 45
  },
  {
   "cell_type": "code",
   "outputs": [
    {
     "name": "stdout",
     "output_type": "stream",
     "text": [
      "Net(\n",
      "  (input): Linear(in_features=8, out_features=4, bias=True)\n",
      "  (layer2): Linear(in_features=4, out_features=2, bias=True)\n",
      "  (dropout): Dropout(p=0.5, inplace=False)\n",
      "  (layer3): Linear(in_features=2, out_features=1, bias=True)\n",
      ")\n"
     ]
    },
    {
     "data": {
      "text/plain": "=================================================================\nLayer (type:depth-idx)                   Param #\n=================================================================\nNet                                      --\n├─Linear: 1-1                            36\n├─Linear: 1-2                            10\n├─Dropout: 1-3                           --\n├─Linear: 1-4                            3\n=================================================================\nTotal params: 49\nTrainable params: 49\nNon-trainable params: 0\n================================================================="
     },
     "execution_count": 46,
     "metadata": {},
     "output_type": "execute_result"
    }
   ],
   "source": [
    "# 모델 인스턴스 생성\n",
    "model = Net()\n",
    "\n",
    "print(model)\n",
    "\n",
    "summary(model)"
   ],
   "metadata": {
    "collapsed": false,
    "ExecuteTime": {
     "end_time": "2024-03-19T02:35:45.389065400Z",
     "start_time": "2024-03-19T02:35:45.361861900Z"
    }
   },
   "id": "72a128ae27cea7f6",
   "execution_count": 46
  },
  {
   "cell_type": "code",
   "outputs": [
    {
     "data": {
      "text/plain": "Linear(in_features=8, out_features=4, bias=True)"
     },
     "execution_count": 47,
     "metadata": {},
     "output_type": "execute_result"
    }
   ],
   "source": [
    "model.modules\n",
    "model.input"
   ],
   "metadata": {
    "collapsed": false,
    "ExecuteTime": {
     "end_time": "2024-03-19T02:35:47.662714Z",
     "start_time": "2024-03-19T02:35:47.657370800Z"
    }
   },
   "id": "1a14bfa797cce17",
   "execution_count": 47
  },
  {
   "cell_type": "code",
   "outputs": [
    {
     "data": {
      "text/plain": "(Parameter containing:\n tensor([[ 0.0025, -0.2335,  0.2672, -0.2603,  0.0776,  0.3455, -0.2869, -0.3216],\n         [-0.2821, -0.0591, -0.0734, -0.0423,  0.0483,  0.1500,  0.1090,  0.1834],\n         [-0.1777,  0.3236,  0.1739,  0.1905,  0.1567,  0.0574, -0.1045, -0.1545],\n         [-0.0388,  0.0572,  0.1784,  0.2839, -0.0143, -0.1727,  0.2968, -0.2785]],\n        requires_grad=True),\n Parameter containing:\n tensor([0.1584, 0.4379], requires_grad=True))"
     },
     "execution_count": 48,
     "metadata": {},
     "output_type": "execute_result"
    }
   ],
   "source": [
    "model.input.weight, model.layer2.bias"
   ],
   "metadata": {
    "collapsed": false,
    "ExecuteTime": {
     "end_time": "2024-03-19T02:35:47.865955900Z",
     "start_time": "2024-03-19T02:35:47.848967500Z"
    }
   },
   "id": "84fd1e375bed8bca",
   "execution_count": 48
  },
  {
   "cell_type": "code",
   "outputs": [
    {
     "data": {
      "text/plain": "<generator object Module.parameters at 0x00000267DC76D820>"
     },
     "execution_count": 49,
     "metadata": {},
     "output_type": "execute_result"
    }
   ],
   "source": [
    "# 모델 인스턴스 속성 확인\n",
    "model.parameters()"
   ],
   "metadata": {
    "collapsed": false,
    "ExecuteTime": {
     "end_time": "2024-03-19T02:35:48.017040400Z",
     "start_time": "2024-03-19T02:35:48.010649Z"
    }
   },
   "id": "1f14b6a40ff9165a",
   "execution_count": 49
  },
  {
   "cell_type": "code",
   "outputs": [
    {
     "name": "stdout",
     "output_type": "stream",
     "text": [
      "Parameter containing:\n",
      "tensor([[ 0.0025, -0.2335,  0.2672, -0.2603,  0.0776,  0.3455, -0.2869, -0.3216],\n",
      "        [-0.2821, -0.0591, -0.0734, -0.0423,  0.0483,  0.1500,  0.1090,  0.1834],\n",
      "        [-0.1777,  0.3236,  0.1739,  0.1905,  0.1567,  0.0574, -0.1045, -0.1545],\n",
      "        [-0.0388,  0.0572,  0.1784,  0.2839, -0.0143, -0.1727,  0.2968, -0.2785]],\n",
      "       requires_grad=True)\n",
      "\n",
      "Parameter containing:\n",
      "tensor([0.0265, 0.2323, 0.0547, 0.1674], requires_grad=True)\n",
      "\n",
      "Parameter containing:\n",
      "tensor([[ 0.3770, -0.4838,  0.3449, -0.1876],\n",
      "        [-0.1572, -0.4683,  0.0078,  0.3092]], requires_grad=True)\n",
      "\n",
      "Parameter containing:\n",
      "tensor([0.1584, 0.4379], requires_grad=True)\n",
      "\n",
      "Parameter containing:\n",
      "tensor([[-0.1217,  0.3319]], requires_grad=True)\n",
      "\n",
      "Parameter containing:\n",
      "tensor([-0.0752], requires_grad=True)\n"
     ]
    }
   ],
   "source": [
    "for param in model.parameters():\n",
    "    print(param, end=\"\\n\\n\") # 초기화 전"
   ],
   "metadata": {
    "collapsed": false,
    "ExecuteTime": {
     "end_time": "2024-03-19T02:35:48.364898Z",
     "start_time": "2024-03-19T02:35:48.358534400Z"
    }
   },
   "id": "d51edcf998a08a9d",
   "execution_count": 50
  },
  {
   "cell_type": "code",
   "outputs": [
    {
     "name": "stdout",
     "output_type": "stream",
     "text": [
      "('input.weight', Parameter containing:\n",
      "tensor([[ 0.0025, -0.2335,  0.2672, -0.2603,  0.0776,  0.3455, -0.2869, -0.3216],\n",
      "        [-0.2821, -0.0591, -0.0734, -0.0423,  0.0483,  0.1500,  0.1090,  0.1834],\n",
      "        [-0.1777,  0.3236,  0.1739,  0.1905,  0.1567,  0.0574, -0.1045, -0.1545],\n",
      "        [-0.0388,  0.0572,  0.1784,  0.2839, -0.0143, -0.1727,  0.2968, -0.2785]],\n",
      "       requires_grad=True))\n",
      "\n",
      "('input.bias', Parameter containing:\n",
      "tensor([0.0265, 0.2323, 0.0547, 0.1674], requires_grad=True))\n",
      "\n",
      "('layer2.weight', Parameter containing:\n",
      "tensor([[ 0.3770, -0.4838,  0.3449, -0.1876],\n",
      "        [-0.1572, -0.4683,  0.0078,  0.3092]], requires_grad=True))\n",
      "\n",
      "('layer2.bias', Parameter containing:\n",
      "tensor([0.1584, 0.4379], requires_grad=True))\n",
      "\n",
      "('layer3.weight', Parameter containing:\n",
      "tensor([[-0.1217,  0.3319]], requires_grad=True))\n",
      "\n",
      "('layer3.bias', Parameter containing:\n",
      "tensor([-0.0752], requires_grad=True))\n"
     ]
    }
   ],
   "source": [
    "# 모델의 각 층별 w, b 텐서 정보 확인 \n",
    "for param in model.named_parameters():\n",
    "    print(param, end=\"\\n\\n\")"
   ],
   "metadata": {
    "collapsed": false,
    "ExecuteTime": {
     "end_time": "2024-03-19T02:35:48.536068500Z",
     "start_time": "2024-03-19T02:35:48.517219700Z"
    }
   },
   "id": "3853807ecf6bc6b3",
   "execution_count": 51
  },
  {
   "cell_type": "markdown",
   "source": [
    "# Layer에 가중치 설정 xavier_uniform_"
   ],
   "metadata": {
    "collapsed": false
   },
   "id": "dacf349a17a444a6"
  },
  {
   "cell_type": "code",
   "outputs": [
    {
     "data": {
      "text/plain": "Parameter containing:\ntensor([[ 0.6615, -0.3484, -0.6576,  0.5226, -0.1742,  0.6987,  0.0679, -0.4854],\n        [ 0.1127, -0.3136, -0.3664,  0.2048, -0.2669, -0.5822, -0.3865, -0.1401],\n        [ 0.5586, -0.2985,  0.6064,  0.1034, -0.6728,  0.2198, -0.4171, -0.2996],\n        [-0.0101, -0.0021, -0.3988, -0.6555, -0.6657,  0.3560,  0.6085, -0.3568]],\n       requires_grad=True)"
     },
     "execution_count": 52,
     "metadata": {},
     "output_type": "execute_result"
    }
   ],
   "source": [
    "# 세비어 알고리즘의 가중치 초기화\n",
    "nn.init.xavier_uniform_(model.input.weight)"
   ],
   "metadata": {
    "collapsed": false,
    "ExecuteTime": {
     "end_time": "2024-03-19T02:35:48.864255800Z",
     "start_time": "2024-03-19T02:35:48.845356800Z"
    }
   },
   "id": "ebb38572058f6e7e",
   "execution_count": 52
  },
  {
   "cell_type": "code",
   "outputs": [
    {
     "data": {
      "text/plain": "Parameter containing:\ntensor([[-0.6916, -0.4593, -0.1840, -0.1828],\n        [-0.8356,  0.0716,  0.2428,  0.2269]], requires_grad=True)"
     },
     "execution_count": 53,
     "metadata": {},
     "output_type": "execute_result"
    }
   ],
   "source": [
    "# 헤 알고리즘의 가중치 초기화\n",
    "nn.init.kaiming_normal_(model.layer2.weight)"
   ],
   "metadata": {
    "collapsed": false,
    "ExecuteTime": {
     "end_time": "2024-03-19T02:35:49.030822Z",
     "start_time": "2024-03-19T02:35:49.012271500Z"
    }
   },
   "id": "8d1612bb5192188d",
   "execution_count": 53
  },
  {
   "cell_type": "code",
   "outputs": [
    {
     "name": "stdout",
     "output_type": "stream",
     "text": [
      "Linear(in_features=8, out_features=4, bias=True)\n",
      "\n",
      "Linear(in_features=4, out_features=2, bias=True)\n",
      "\n",
      "Dropout(p=0.5, inplace=False)\n",
      "\n",
      "Linear(in_features=2, out_features=1, bias=True)\n",
      "\n",
      "('input', Linear(in_features=8, out_features=4, bias=True))\n",
      "\n",
      "('layer2', Linear(in_features=4, out_features=2, bias=True))\n",
      "\n",
      "('dropout', Dropout(p=0.5, inplace=False))\n",
      "\n",
      "('layer3', Linear(in_features=2, out_features=1, bias=True))\n"
     ]
    }
   ],
   "source": [
    "# 모델 구성 모든 Layer 가져오기\n",
    "for child in model.children():\n",
    "    print(child, end=\"\\n\\n\")\n",
    "    \n",
    "for child in model.named_children():\n",
    "    print(child, end=\"\\n\\n\")"
   ],
   "metadata": {
    "collapsed": false,
    "ExecuteTime": {
     "end_time": "2024-03-19T02:35:49.207595800Z",
     "start_time": "2024-03-19T02:35:49.195033500Z"
    }
   },
   "id": "90f2f282f6304274",
   "execution_count": 54
  },
  {
   "cell_type": "code",
   "outputs": [],
   "source": [
    "torch.save(model, '../data/model/mymodel.pt')"
   ],
   "metadata": {
    "collapsed": false,
    "ExecuteTime": {
     "end_time": "2024-03-19T04:09:00.274758200Z",
     "start_time": "2024-03-19T04:09:00.258879Z"
    }
   },
   "id": "72ecb0b0e4020eb2",
   "execution_count": 55
  },
  {
   "cell_type": "code",
   "outputs": [
    {
     "data": {
      "text/plain": "Net(\n  (input): Linear(in_features=8, out_features=4, bias=True)\n  (layer2): Linear(in_features=4, out_features=2, bias=True)\n  (dropout): Dropout(p=0.5, inplace=False)\n  (layer3): Linear(in_features=2, out_features=1, bias=True)\n)"
     },
     "execution_count": 56,
     "metadata": {},
     "output_type": "execute_result"
    }
   ],
   "source": [
    "mymodel = torch.load('../data/model/mymodel.pt')\n",
    "mymodel"
   ],
   "metadata": {
    "collapsed": false,
    "ExecuteTime": {
     "end_time": "2024-03-19T04:09:19.700823100Z",
     "start_time": "2024-03-19T04:09:19.668039700Z"
    }
   },
   "id": "38b9cad9430706ae",
   "execution_count": 56
  },
  {
   "cell_type": "code",
   "outputs": [],
   "source": [
    "a = 2"
   ],
   "metadata": {
    "collapsed": false,
    "ExecuteTime": {
     "end_time": "2024-03-20T04:51:01.937125700Z",
     "start_time": "2024-03-20T04:51:01.925747600Z"
    }
   },
   "id": "cfcf0a906ec2a099",
   "execution_count": 1
  },
  {
   "cell_type": "code",
   "outputs": [],
   "source": [],
   "metadata": {
    "collapsed": false
   },
   "id": "636bf044cf14adc0"
  }
 ],
 "metadata": {
  "kernelspec": {
   "display_name": "Python 3",
   "language": "python",
   "name": "python3"
  },
  "language_info": {
   "codemirror_mode": {
    "name": "ipython",
    "version": 2
   },
   "file_extension": ".py",
   "mimetype": "text/x-python",
   "name": "python",
   "nbconvert_exporter": "python",
   "pygments_lexer": "ipython2",
   "version": "2.7.6"
  }
 },
 "nbformat": 4,
 "nbformat_minor": 5
}
