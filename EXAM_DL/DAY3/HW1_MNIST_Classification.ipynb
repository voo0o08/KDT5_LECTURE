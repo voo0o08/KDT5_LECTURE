{
 "cells": [
  {
   "cell_type": "markdown",
   "source": [
    "# MNIST-fashion으로 다중 분류하기"
   ],
   "metadata": {
    "collapsed": false
   },
   "id": "9e5c1176fb130272"
  },
  {
   "cell_type": "code",
   "outputs": [],
   "source": [
    "import torch\n",
    "import torch.nn as nn\n",
    "import torch.nn.functional as F\n",
    "import torch.optim as optim"
   ],
   "metadata": {
    "collapsed": false,
    "ExecuteTime": {
     "end_time": "2024-03-14T06:02:05.514060500Z",
     "start_time": "2024-03-14T06:02:04.173903300Z"
    }
   },
   "id": "e9c8b3af4058e08d",
   "execution_count": 1
  },
  {
   "cell_type": "code",
   "outputs": [
    {
     "name": "stderr",
     "output_type": "stream",
     "text": [
      "C:\\Users\\kdp\\anaconda3\\envs\\Torch_PY38\\lib\\site-packages\\sklearn\\datasets\\_openml.py:1002: FutureWarning: The default value of `parser` will change from `'liac-arff'` to `'auto'` in 1.4. You can set `parser='auto'` to silence this warning. Therefore, an `ImportError` will be raised from 1.4 if the dataset is dense and pandas is not installed. Note that the pandas parser may return different data types. See the Notes Section in fetch_openml's API doc for details.\n",
      "  warn(\n"
     ]
    }
   ],
   "source": [
    "import pandas as pd\n",
    "from sklearn.datasets import fetch_openml\n",
    "\n",
    "mnist = fetch_openml(\"Fashion-MNIST\", as_frame = False)\n",
    "# MNIST 데이터는 이미지라서 데이터 프레임으로 할 필요 X"
   ],
   "metadata": {
    "collapsed": false,
    "ExecuteTime": {
     "end_time": "2024-03-14T06:02:24.144280Z",
     "start_time": "2024-03-14T06:02:05.513052800Z"
    }
   },
   "id": "d0a7a583e87f7a77",
   "execution_count": 2
  },
  {
   "cell_type": "code",
   "outputs": [],
   "source": [
    "data = mnist[\"data\"] / 255 # 전처리\n",
    "target = mnist[\"target\"]"
   ],
   "metadata": {
    "collapsed": false,
    "ExecuteTime": {
     "end_time": "2024-03-14T06:17:07.995259700Z",
     "start_time": "2024-03-14T06:17:07.863174300Z"
    }
   },
   "id": "302d4f19ee55a1fd",
   "execution_count": 38
  },
  {
   "cell_type": "markdown",
   "source": [
    "# Deep Learning?"
   ],
   "metadata": {
    "collapsed": false
   },
   "id": "5080215da67fbcb1"
  },
  {
   "cell_type": "code",
   "outputs": [
    {
     "data": {
      "text/plain": "dtype('float64')"
     },
     "execution_count": 39,
     "metadata": {},
     "output_type": "execute_result"
    }
   ],
   "source": [
    "data[:60000,:].dtype"
   ],
   "metadata": {
    "collapsed": false,
    "ExecuteTime": {
     "end_time": "2024-03-14T06:17:08.562373Z",
     "start_time": "2024-03-14T06:17:08.534808700Z"
    }
   },
   "id": "df195a0ba1d0fe48",
   "execution_count": 39
  },
  {
   "cell_type": "code",
   "outputs": [
    {
     "data": {
      "text/plain": "array([9, 0, 0, ..., 3, 0, 5], dtype=object)"
     },
     "execution_count": 40,
     "metadata": {},
     "output_type": "execute_result"
    }
   ],
   "source": [
    "target[:60000]"
   ],
   "metadata": {
    "collapsed": false,
    "ExecuteTime": {
     "end_time": "2024-03-14T06:17:08.825753500Z",
     "start_time": "2024-03-14T06:17:08.804065200Z"
    }
   },
   "id": "ebeb6a4a8ef73c0c",
   "execution_count": 40
  },
  {
   "cell_type": "code",
   "outputs": [],
   "source": [
    "target[:60000] = target[:60000].astype(int)"
   ],
   "metadata": {
    "collapsed": false,
    "ExecuteTime": {
     "end_time": "2024-03-14T06:17:09.035464600Z",
     "start_time": "2024-03-14T06:17:09.013608600Z"
    }
   },
   "id": "d2896dfded4020f9",
   "execution_count": 41
  },
  {
   "cell_type": "code",
   "outputs": [],
   "source": [
    "train_X = torch.tensor(data[:60000,:].astype(\"float32\"))\n",
    "test_X = torch.tensor(data[60000:,:].astype(\"float32\"))\n",
    "train_y = torch.tensor(target[:60000].astype(\"int64\"))\n",
    "test_y = torch.tensor(target[60000:].astype(\"int64\"))"
   ],
   "metadata": {
    "collapsed": false,
    "ExecuteTime": {
     "end_time": "2024-03-14T06:17:09.387328Z",
     "start_time": "2024-03-14T06:17:09.266233900Z"
    }
   },
   "id": "a57ff0bfc3ec2704",
   "execution_count": 42
  },
  {
   "cell_type": "code",
   "outputs": [
    {
     "name": "stdout",
     "output_type": "stream",
     "text": [
      "torch.Size([60000, 784]) torch.FloatTensor\n",
      "torch.Size([60000]) torch.LongTensor\n",
      "torch.Size([10000, 784]) torch.FloatTensor\n",
      "torch.Size([10000]) torch.LongTensor\n"
     ]
    }
   ],
   "source": [
    "print(train_X.shape, train_X.type())\n",
    "print(train_y.shape, train_y.type())\n",
    "print(test_X.shape, test_X.type())\n",
    "print(test_y.shape, test_y.type())"
   ],
   "metadata": {
    "collapsed": false,
    "ExecuteTime": {
     "end_time": "2024-03-14T06:17:11.515517500Z",
     "start_time": "2024-03-14T06:17:11.505175Z"
    }
   },
   "id": "6a9bd591652ead0d",
   "execution_count": 43
  },
  {
   "cell_type": "code",
   "outputs": [],
   "source": [
    "train_y = train_y.unsqueeze(-1)\n",
    "test_y = test_y.unsqueeze(-1)"
   ],
   "metadata": {
    "collapsed": false,
    "ExecuteTime": {
     "end_time": "2024-03-14T06:17:18.566186100Z",
     "start_time": "2024-03-14T06:17:18.558831100Z"
    }
   },
   "id": "d12d6775a2764c4e",
   "execution_count": 44
  },
  {
   "cell_type": "code",
   "outputs": [],
   "source": [
    "# 가중치와 편향 선언\n",
    "# W = torch.zeros((784, 1), requires_grad=True) # 가중치는 feature개수만큼 \n",
    "# b = torch.zeros(1, requires_grad=True)"
   ],
   "metadata": {
    "collapsed": false,
    "ExecuteTime": {
     "end_time": "2024-03-14T06:17:26.043269200Z",
     "start_time": "2024-03-14T06:17:26.023436Z"
    }
   },
   "id": "abaf79ed9b602a0c",
   "execution_count": 45
  },
  {
   "cell_type": "code",
   "outputs": [],
   "source": [
    "# 모델 설계\n",
    "# Sequential : 순서대로 진행되어야 하는 모듈을 묶음으로 관리 -> 파이프라인같은 건감...?ㅇㅅㅇ\n",
    "\n",
    "model = nn.Sequential(\n",
    "   nn.Linear(784, 10), # input_dim = 28*28, output_dim = 1\n",
    "   nn.Softmax(dim=1)     # 다중은 softmax\n",
    ") \n",
    "\n",
    "# 경사하강법으로 업데이트 해야하는 W, b는 모델 인스턴스에서 가지고 있음\n",
    "optimizer = optim.SGD(model.parameters(), lr=1) # "
   ],
   "metadata": {
    "collapsed": false,
    "ExecuteTime": {
     "end_time": "2024-03-14T06:03:22.662946900Z",
     "start_time": "2024-03-14T06:03:22.652371100Z"
    }
   },
   "id": "10c2a11d6248decf",
   "execution_count": 27
  },
  {
   "cell_type": "code",
   "outputs": [
    {
     "data": {
      "text/plain": "tensor([[0., 0., 0.,  ..., 0., 0., 1.],\n        [1., 0., 0.,  ..., 0., 0., 0.],\n        [1., 0., 0.,  ..., 0., 0., 0.],\n        ...,\n        [0., 0., 0.,  ..., 0., 0., 0.],\n        [1., 0., 0.,  ..., 0., 0., 0.],\n        [0., 0., 0.,  ..., 0., 0., 0.]])"
     },
     "execution_count": 28,
     "metadata": {},
     "output_type": "execute_result"
    }
   ],
   "source": [
    "y_one_hot = torch.zeros(60000,10)\n",
    "y_one_hot.scatter_(1, train_y, 1)"
   ],
   "metadata": {
    "collapsed": false,
    "ExecuteTime": {
     "end_time": "2024-03-14T06:03:22.819849600Z",
     "start_time": "2024-03-14T06:03:22.799995300Z"
    }
   },
   "id": "fd56358630176379",
   "execution_count": 28
  },
  {
   "cell_type": "code",
   "outputs": [],
   "source": [
    "# 학습\n",
    "\n",
    "def training():\n",
    "    nb_epochs = 100\n",
    "    for epoch in range(nb_epochs+1):\n",
    "        \n",
    "        hypothesis = model(train_X) # y_predict \n",
    "        print(hypothesis.shape)\n",
    "        # print(hypothesis.shape)\n",
    "        # 다중 -> y_one_hot encoding\n",
    "\n",
    "        cost = F.cross_entropy(hypothesis, y_one_hot)\n",
    "        # (y_one_hot * -torch.log(hypothesis)).sum(dim=1).mean()\n",
    "        # F.binary_cross_entropy(hypothesis, train_y)\n",
    "        \n",
    "        optimizer.zero_grad()\n",
    "        cost.backward()\n",
    "        optimizer.step()\n",
    "\n",
    "        # 20번마다 로그 출력\n",
    "        if epoch % 10 == 0:\n",
    "            prediction = hypothesis >= torch.FloatTensor([0.5])     # 예측값이 0.5를 넘으면 True로 간주\n",
    "            correct_prediction = prediction.float() == y_one_hot      # 실제값과 일치하는 경우만 True로 간주\n",
    "            accuracy = correct_prediction.sum().item() / len(correct_prediction) # 정확도를 계산\n",
    " \n",
    "            print(f'Epoch {epoch:4d}/{nb_epochs} Cost: {cost.item():.6f} ') # Accuracy {accuracy * 100:2.2f}%"
   ],
   "metadata": {
    "collapsed": false,
    "ExecuteTime": {
     "end_time": "2024-03-14T06:04:14.216119500Z",
     "start_time": "2024-03-14T06:04:14.191574700Z"
    }
   },
   "id": "5e2ebc514b3161a7",
   "execution_count": 31
  },
  {
   "cell_type": "code",
   "outputs": [
    {
     "name": "stdout",
     "output_type": "stream",
     "text": [
      "torch.Size([60000, 10])\n",
      "Epoch    0/100 Cost: 1.742513 \n",
      "torch.Size([60000, 10])\n",
      "torch.Size([60000, 10])\n",
      "torch.Size([60000, 10])\n",
      "torch.Size([60000, 10])\n",
      "torch.Size([60000, 10])\n",
      "torch.Size([60000, 10])\n",
      "torch.Size([60000, 10])\n",
      "torch.Size([60000, 10])\n",
      "torch.Size([60000, 10])\n",
      "torch.Size([60000, 10])\n",
      "Epoch   10/100 Cost: 1.737213 \n",
      "torch.Size([60000, 10])\n",
      "torch.Size([60000, 10])\n",
      "torch.Size([60000, 10])\n",
      "torch.Size([60000, 10])\n",
      "torch.Size([60000, 10])\n",
      "torch.Size([60000, 10])\n",
      "torch.Size([60000, 10])\n",
      "torch.Size([60000, 10])\n",
      "torch.Size([60000, 10])\n",
      "torch.Size([60000, 10])\n",
      "Epoch   20/100 Cost: 1.732727 \n",
      "torch.Size([60000, 10])\n",
      "torch.Size([60000, 10])\n",
      "torch.Size([60000, 10])\n",
      "torch.Size([60000, 10])\n",
      "torch.Size([60000, 10])\n",
      "torch.Size([60000, 10])\n",
      "torch.Size([60000, 10])\n",
      "torch.Size([60000, 10])\n",
      "torch.Size([60000, 10])\n",
      "torch.Size([60000, 10])\n",
      "Epoch   30/100 Cost: 1.728848 \n",
      "torch.Size([60000, 10])\n",
      "torch.Size([60000, 10])\n",
      "torch.Size([60000, 10])\n",
      "torch.Size([60000, 10])\n",
      "torch.Size([60000, 10])\n",
      "torch.Size([60000, 10])\n",
      "torch.Size([60000, 10])\n",
      "torch.Size([60000, 10])\n",
      "torch.Size([60000, 10])\n",
      "torch.Size([60000, 10])\n",
      "Epoch   40/100 Cost: 1.725441 \n",
      "torch.Size([60000, 10])\n",
      "torch.Size([60000, 10])\n",
      "torch.Size([60000, 10])\n",
      "torch.Size([60000, 10])\n",
      "torch.Size([60000, 10])\n",
      "torch.Size([60000, 10])\n",
      "torch.Size([60000, 10])\n",
      "torch.Size([60000, 10])\n",
      "torch.Size([60000, 10])\n",
      "torch.Size([60000, 10])\n",
      "Epoch   50/100 Cost: 1.722409 \n",
      "torch.Size([60000, 10])\n",
      "torch.Size([60000, 10])\n",
      "torch.Size([60000, 10])\n",
      "torch.Size([60000, 10])\n",
      "torch.Size([60000, 10])\n",
      "torch.Size([60000, 10])\n",
      "torch.Size([60000, 10])\n",
      "torch.Size([60000, 10])\n",
      "torch.Size([60000, 10])\n",
      "torch.Size([60000, 10])\n",
      "Epoch   60/100 Cost: 1.719683 \n",
      "torch.Size([60000, 10])\n",
      "torch.Size([60000, 10])\n",
      "torch.Size([60000, 10])\n",
      "torch.Size([60000, 10])\n",
      "torch.Size([60000, 10])\n",
      "torch.Size([60000, 10])\n",
      "torch.Size([60000, 10])\n",
      "torch.Size([60000, 10])\n",
      "torch.Size([60000, 10])\n",
      "torch.Size([60000, 10])\n",
      "Epoch   70/100 Cost: 1.717211 \n",
      "torch.Size([60000, 10])\n",
      "torch.Size([60000, 10])\n",
      "torch.Size([60000, 10])\n",
      "torch.Size([60000, 10])\n",
      "torch.Size([60000, 10])\n",
      "torch.Size([60000, 10])\n",
      "torch.Size([60000, 10])\n",
      "torch.Size([60000, 10])\n",
      "torch.Size([60000, 10])\n",
      "torch.Size([60000, 10])\n",
      "Epoch   80/100 Cost: 1.714954 \n",
      "torch.Size([60000, 10])\n",
      "torch.Size([60000, 10])\n",
      "torch.Size([60000, 10])\n",
      "torch.Size([60000, 10])\n",
      "torch.Size([60000, 10])\n",
      "torch.Size([60000, 10])\n",
      "torch.Size([60000, 10])\n",
      "torch.Size([60000, 10])\n",
      "torch.Size([60000, 10])\n",
      "torch.Size([60000, 10])\n",
      "Epoch   90/100 Cost: 1.712879 \n",
      "torch.Size([60000, 10])\n",
      "torch.Size([60000, 10])\n",
      "torch.Size([60000, 10])\n",
      "torch.Size([60000, 10])\n",
      "torch.Size([60000, 10])\n",
      "torch.Size([60000, 10])\n",
      "torch.Size([60000, 10])\n",
      "torch.Size([60000, 10])\n",
      "torch.Size([60000, 10])\n",
      "torch.Size([60000, 10])\n",
      "Epoch  100/100 Cost: 1.710963 \n"
     ]
    }
   ],
   "source": [
    "training()"
   ],
   "metadata": {
    "collapsed": false,
    "ExecuteTime": {
     "end_time": "2024-03-14T06:04:20.629352Z",
     "start_time": "2024-03-14T06:04:14.295994700Z"
    }
   },
   "id": "3766ceb08a06d7",
   "execution_count": 32
  },
  {
   "cell_type": "code",
   "outputs": [
    {
     "name": "stdout",
     "output_type": "stream",
     "text": [
      "[Parameter containing:\n",
      "tensor([[ 0.0184, -0.0146, -0.0139,  ..., -0.0471, -0.0198,  0.0254],\n",
      "        [ 0.0103,  0.0006, -0.0238,  ..., -0.0177,  0.0064,  0.0339],\n",
      "        [-0.0183,  0.0262, -0.0139,  ...,  0.0072,  0.0026, -0.0122],\n",
      "        ...,\n",
      "        [-0.0202,  0.0322, -0.0332,  ..., -0.0092, -0.0339,  0.0300],\n",
      "        [-0.0172,  0.0002,  0.0303,  ...,  0.0219, -0.0294,  0.0021],\n",
      "        [ 0.0233,  0.0181,  0.0270,  ...,  0.0070,  0.0089, -0.0266]],\n",
      "       requires_grad=True), Parameter containing:\n",
      "tensor([ 0.0569,  0.0309,  0.0142, -0.0071, -0.2064,  0.4995, -0.0209,  0.0517,\n",
      "        -0.1417, -0.2126], requires_grad=True)]\n"
     ]
    }
   ],
   "source": [
    "print(list(model.parameters()))"
   ],
   "metadata": {
    "collapsed": false,
    "ExecuteTime": {
     "end_time": "2024-03-14T06:02:32.178441100Z",
     "start_time": "2024-03-14T06:02:32.158043800Z"
    }
   },
   "id": "691e0ffae5b7c145",
   "execution_count": 15
  },
  {
   "cell_type": "markdown",
   "source": [
    "# ML"
   ],
   "metadata": {
    "collapsed": false
   },
   "id": "39ddf4d81035e0e8"
  },
  {
   "cell_type": "code",
   "outputs": [],
   "source": [
    "train_X = data[:60000,:]\n",
    "test_X = data[60000:,:]\n",
    "train_y = target[:60000].astype(\"int64\")\n",
    "test_y = target[60000:].astype(\"int64\")"
   ],
   "metadata": {
    "collapsed": false,
    "ExecuteTime": {
     "end_time": "2024-03-14T06:15:11.396041800Z",
     "start_time": "2024-03-14T06:15:11.375783200Z"
    }
   },
   "id": "db1550c9d3d8073b",
   "execution_count": 33
  },
  {
   "cell_type": "code",
   "outputs": [
    {
     "data": {
      "text/plain": "LogisticRegression(max_iter=2000)",
      "text/html": "<style>#sk-container-id-1 {color: black;}#sk-container-id-1 pre{padding: 0;}#sk-container-id-1 div.sk-toggleable {background-color: white;}#sk-container-id-1 label.sk-toggleable__label {cursor: pointer;display: block;width: 100%;margin-bottom: 0;padding: 0.3em;box-sizing: border-box;text-align: center;}#sk-container-id-1 label.sk-toggleable__label-arrow:before {content: \"▸\";float: left;margin-right: 0.25em;color: #696969;}#sk-container-id-1 label.sk-toggleable__label-arrow:hover:before {color: black;}#sk-container-id-1 div.sk-estimator:hover label.sk-toggleable__label-arrow:before {color: black;}#sk-container-id-1 div.sk-toggleable__content {max-height: 0;max-width: 0;overflow: hidden;text-align: left;background-color: #f0f8ff;}#sk-container-id-1 div.sk-toggleable__content pre {margin: 0.2em;color: black;border-radius: 0.25em;background-color: #f0f8ff;}#sk-container-id-1 input.sk-toggleable__control:checked~div.sk-toggleable__content {max-height: 200px;max-width: 100%;overflow: auto;}#sk-container-id-1 input.sk-toggleable__control:checked~label.sk-toggleable__label-arrow:before {content: \"▾\";}#sk-container-id-1 div.sk-estimator input.sk-toggleable__control:checked~label.sk-toggleable__label {background-color: #d4ebff;}#sk-container-id-1 div.sk-label input.sk-toggleable__control:checked~label.sk-toggleable__label {background-color: #d4ebff;}#sk-container-id-1 input.sk-hidden--visually {border: 0;clip: rect(1px 1px 1px 1px);clip: rect(1px, 1px, 1px, 1px);height: 1px;margin: -1px;overflow: hidden;padding: 0;position: absolute;width: 1px;}#sk-container-id-1 div.sk-estimator {font-family: monospace;background-color: #f0f8ff;border: 1px dotted black;border-radius: 0.25em;box-sizing: border-box;margin-bottom: 0.5em;}#sk-container-id-1 div.sk-estimator:hover {background-color: #d4ebff;}#sk-container-id-1 div.sk-parallel-item::after {content: \"\";width: 100%;border-bottom: 1px solid gray;flex-grow: 1;}#sk-container-id-1 div.sk-label:hover label.sk-toggleable__label {background-color: #d4ebff;}#sk-container-id-1 div.sk-serial::before {content: \"\";position: absolute;border-left: 1px solid gray;box-sizing: border-box;top: 0;bottom: 0;left: 50%;z-index: 0;}#sk-container-id-1 div.sk-serial {display: flex;flex-direction: column;align-items: center;background-color: white;padding-right: 0.2em;padding-left: 0.2em;position: relative;}#sk-container-id-1 div.sk-item {position: relative;z-index: 1;}#sk-container-id-1 div.sk-parallel {display: flex;align-items: stretch;justify-content: center;background-color: white;position: relative;}#sk-container-id-1 div.sk-item::before, #sk-container-id-1 div.sk-parallel-item::before {content: \"\";position: absolute;border-left: 1px solid gray;box-sizing: border-box;top: 0;bottom: 0;left: 50%;z-index: -1;}#sk-container-id-1 div.sk-parallel-item {display: flex;flex-direction: column;z-index: 1;position: relative;background-color: white;}#sk-container-id-1 div.sk-parallel-item:first-child::after {align-self: flex-end;width: 50%;}#sk-container-id-1 div.sk-parallel-item:last-child::after {align-self: flex-start;width: 50%;}#sk-container-id-1 div.sk-parallel-item:only-child::after {width: 0;}#sk-container-id-1 div.sk-dashed-wrapped {border: 1px dashed gray;margin: 0 0.4em 0.5em 0.4em;box-sizing: border-box;padding-bottom: 0.4em;background-color: white;}#sk-container-id-1 div.sk-label label {font-family: monospace;font-weight: bold;display: inline-block;line-height: 1.2em;}#sk-container-id-1 div.sk-label-container {text-align: center;}#sk-container-id-1 div.sk-container {/* jupyter's `normalize.less` sets `[hidden] { display: none; }` but bootstrap.min.css set `[hidden] { display: none !important; }` so we also need the `!important` here to be able to override the default hidden behavior on the sphinx rendered scikit-learn.org. See: https://github.com/scikit-learn/scikit-learn/issues/21755 */display: inline-block !important;position: relative;}#sk-container-id-1 div.sk-text-repr-fallback {display: none;}</style><div id=\"sk-container-id-1\" class=\"sk-top-container\"><div class=\"sk-text-repr-fallback\"><pre>LogisticRegression(max_iter=2000)</pre><b>In a Jupyter environment, please rerun this cell to show the HTML representation or trust the notebook. <br />On GitHub, the HTML representation is unable to render, please try loading this page with nbviewer.org.</b></div><div class=\"sk-container\" hidden><div class=\"sk-item\"><div class=\"sk-estimator sk-toggleable\"><input class=\"sk-toggleable__control sk-hidden--visually\" id=\"sk-estimator-id-1\" type=\"checkbox\" checked><label for=\"sk-estimator-id-1\" class=\"sk-toggleable__label sk-toggleable__label-arrow\">LogisticRegression</label><div class=\"sk-toggleable__content\"><pre>LogisticRegression(max_iter=2000)</pre></div></div></div></div></div>"
     },
     "execution_count": 34,
     "metadata": {},
     "output_type": "execute_result"
    }
   ],
   "source": [
    "# test train 분리는 이미 위에서 완료\n",
    "# 다중 분류!! sklearn은 default ovr이라서 따로 뭐 할 거X\n",
    "from sklearn.linear_model import LogisticRegression \n",
    "LR_model = LogisticRegression(max_iter=2000)\n",
    "\n",
    "LR_model.fit(train_X, train_y)"
   ],
   "metadata": {
    "collapsed": false,
    "ExecuteTime": {
     "end_time": "2024-03-14T06:16:51.912004300Z",
     "start_time": "2024-03-14T06:15:11.651307700Z"
    }
   },
   "id": "fde07881cc56f41d",
   "execution_count": 34
  },
  {
   "cell_type": "code",
   "outputs": [
    {
     "data": {
      "text/plain": "0.8810666666666667"
     },
     "execution_count": 35,
     "metadata": {},
     "output_type": "execute_result"
    }
   ],
   "source": [
    "LR_model.score(train_X, train_y)"
   ],
   "metadata": {
    "collapsed": false,
    "ExecuteTime": {
     "end_time": "2024-03-14T06:16:52.053477700Z",
     "start_time": "2024-03-14T06:16:51.906707100Z"
    }
   },
   "id": "ae179eb26e8538ca",
   "execution_count": 35
  },
  {
   "cell_type": "code",
   "outputs": [
    {
     "data": {
      "text/plain": "0.8442"
     },
     "execution_count": 36,
     "metadata": {},
     "output_type": "execute_result"
    }
   ],
   "source": [
    "LR_model.score(test_X, test_y)"
   ],
   "metadata": {
    "collapsed": false,
    "ExecuteTime": {
     "end_time": "2024-03-14T06:16:52.096147500Z",
     "start_time": "2024-03-14T06:16:52.043627200Z"
    }
   },
   "id": "8d9f5c5c5b22901f",
   "execution_count": 36
  },
  {
   "cell_type": "code",
   "outputs": [
    {
     "name": "stdout",
     "output_type": "stream",
     "text": [
      "              precision    recall  f1-score   support\n",
      "\n",
      "           0       0.80      0.81      0.80      1000\n",
      "           1       0.97      0.96      0.96      1000\n",
      "           2       0.73      0.74      0.73      1000\n",
      "           3       0.83      0.86      0.85      1000\n",
      "           4       0.74      0.76      0.75      1000\n",
      "           5       0.94      0.92      0.93      1000\n",
      "           6       0.63      0.57      0.60      1000\n",
      "           7       0.91      0.94      0.92      1000\n",
      "           8       0.93      0.94      0.93      1000\n",
      "           9       0.95      0.95      0.95      1000\n",
      "\n",
      "    accuracy                           0.84     10000\n",
      "   macro avg       0.84      0.84      0.84     10000\n",
      "weighted avg       0.84      0.84      0.84     10000\n"
     ]
    }
   ],
   "source": [
    "from sklearn.metrics import classification_report\n",
    "\n",
    "y_pred = LR_model.predict(test_X)\n",
    "print(classification_report(test_y, y_pred))"
   ],
   "metadata": {
    "collapsed": false,
    "ExecuteTime": {
     "end_time": "2024-03-14T06:16:52.160947600Z",
     "start_time": "2024-03-14T06:16:52.090830500Z"
    }
   },
   "id": "a9037ebd3f694ef",
   "execution_count": 37
  },
  {
   "cell_type": "code",
   "outputs": [],
   "source": [],
   "metadata": {
    "collapsed": false,
    "ExecuteTime": {
     "start_time": "2024-03-14T06:03:07.375686500Z"
    }
   },
   "id": "e51735f79e0e873c"
  }
 ],
 "metadata": {
  "kernelspec": {
   "display_name": "Python 3",
   "language": "python",
   "name": "python3"
  },
  "language_info": {
   "codemirror_mode": {
    "name": "ipython",
    "version": 2
   },
   "file_extension": ".py",
   "mimetype": "text/x-python",
   "name": "python",
   "nbconvert_exporter": "python",
   "pygments_lexer": "ipython2",
   "version": "2.7.6"
  }
 },
 "nbformat": 4,
 "nbformat_minor": 5
}
