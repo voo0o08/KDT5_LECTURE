{
 "cells": [
  {
   "cell_type": "code",
   "execution_count": 1,
   "id": "edc129f0-a74f-4ff0-8b4c-3a7022cab352",
   "metadata": {},
   "outputs": [],
   "source": [
    "import numpy as np\n",
    "import matplotlib.pyplot as plt\n",
    "from scipy import stats\n",
    "\n",
    "%precision 3\n",
    "%matplotlib inline"
   ]
  },
  {
   "cell_type": "code",
   "execution_count": 2,
   "id": "dda9b7b4-b719-4e1b-90e3-0dbfa1d6afc6",
   "metadata": {},
   "outputs": [],
   "source": [
    "# 그래프 선의 종류\n",
    "linestyles = ['-', '--', ':']\n",
    "\n",
    "def E(X, g=lambda x: x):\n",
    "    x_set, f = X\n",
    "    return np.sum([g(x_k) * f(x_k) for x_k in x_set])\n",
    "\n",
    "def V(X, g=lambda x: x):\n",
    "    x_set, f = X\n",
    "    mean = E(X, g)\n",
    "    return np.sum([(g(x_k)-mean)**2 * f(x_k) for x_k in x_set])\n",
    "\n",
    "def check_prob(X):\n",
    "    x_set, f = X\n",
    "    prob = np.array([f(x_k) for x_k in x_set])\n",
    "    assert np.all(prob >= 0), 'minus probability'\n",
    "    prob_sum = np.round(np.sum(prob), 6)\n",
    "    assert prob_sum == 1, f'sum of probability{prob_sum}'\n",
    "    print(f'expected value {E(X):.4}')\n",
    "    print(f'variance {(V(X)):.4}')\n",
    "\n",
    "def plot_prob(X):\n",
    "    x_set, f = X\n",
    "    prob = np.array([f(x_k) for x_k in x_set])\n",
    "    \n",
    "    fig = plt.figure(figsize=(10, 6))\n",
    "    ax = fig.add_subplot(111)\n",
    "    ax.bar(x_set, prob, label='prob')\n",
    "    ax.vlines(E(X), 0, 1, label='mean')\n",
    "    ax.set_xticks(np.append(x_set, E(X)))\n",
    "    ax.set_ylim(0, prob.max()*1.2)\n",
    "    ax.legend()\n",
    "    \n",
    "    plt.show()"
   ]
  },
  {
   "cell_type": "code",
   "execution_count": 3,
   "id": "acb1c356-435a-41d5-b5c7-806b19d4c196",
   "metadata": {},
   "outputs": [],
   "source": [
    "def Bern(p):\n",
    "    x_set = np.array([0, 1])\n",
    "    def f(x):\n",
    "        if x in x_set:\n",
    "            return p**x*(1-p)**(1-x)\n",
    "        else:\n",
    "            return 0\n",
    "    return x_set, f"
   ]
  },
  {
   "cell_type": "code",
   "execution_count": 4,
   "id": "36a797cd-6d23-4f79-a0b1-7b20266802ce",
   "metadata": {},
   "outputs": [],
   "source": [
    "p = 0.3\n",
    "X = Bern(p)"
   ]
  },
  {
   "cell_type": "code",
   "execution_count": 5,
   "id": "c61c5cdb-14d5-404a-9a49-101d60b2d43e",
   "metadata": {},
   "outputs": [
    {
     "name": "stdout",
     "output_type": "stream",
     "text": [
      "expected value 0.3\n",
      "variance 0.21\n"
     ]
    }
   ],
   "source": [
    "check_prob(X)"
   ]
  },
  {
   "cell_type": "code",
   "execution_count": 6,
   "id": "c78f7264-5e84-4b84-a46e-494b46a26af1",
   "metadata": {},
   "outputs": [
    {
     "data": {
      "image/png": "[encoded data removed]",
      "text/plain": [
       "<Figure size 1000x600 with 1 Axes>"
      ]
     },
     "metadata": {},
     "output_type": "display_data"
    }
   ],
   "source": [
    "plot_prob(X)"
   ]
  }
 ],
 "metadata": {
  "kernelspec": {
   "display_name": "Python 3 (ipykernel)",
   "language": "python",
   "name": "python3"
  },
  "language_info": {
   "codemirror_mode": {
    "name": "ipython",
    "version": 3
   },
   "file_extension": ".py",
   "mimetype": "text/x-python",
   "name": "python",
   "nbconvert_exporter": "python",
   "pygments_lexer": "ipython3",
   "version": "3.9.18"
  }
 },
 "nbformat": 4,
 "nbformat_minor": 5
}
