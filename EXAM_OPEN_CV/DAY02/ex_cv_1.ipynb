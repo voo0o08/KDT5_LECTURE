{
 "cells": [
  {
   "cell_type": "markdown",
   "source": [
    "# 기본적인 이미지 다루기"
   ],
   "metadata": {
    "collapsed": false
   },
   "id": "85ac1a499ac4ba68"
  },
  {
   "cell_type": "code",
   "outputs": [],
   "source": [
    "# 모듈로딩\n",
    "import cv2\n",
    "import numpy as np"
   ],
   "metadata": {
    "collapsed": false,
    "ExecuteTime": {
     "end_time": "2024-03-22T01:23:15.960945400Z",
     "start_time": "2024-03-22T01:23:15.813697Z"
    }
   },
   "id": "92b99e0afdc34dcc",
   "execution_count": 2
  },
  {
   "cell_type": "markdown",
   "source": [
    "## 이미지 데이터 로딩\n",
    "- 컬러/회색 이미지 변환로딩 가능"
   ],
   "metadata": {
    "collapsed": false
   },
   "id": "21bc9f5301983ee2"
  },
  {
   "cell_type": "code",
   "outputs": [],
   "source": [
    "file = \"../data/img/img3.png\""
   ],
   "metadata": {
    "collapsed": false,
    "ExecuteTime": {
     "end_time": "2024-03-22T01:25:01.379822900Z",
     "start_time": "2024-03-22T01:25:01.360767300Z"
    }
   },
   "id": "c84a78b12326f6eb",
   "execution_count": 9
  },
  {
   "cell_type": "code",
   "outputs": [],
   "source": [
    "# 컬러 이미지 로딩 color가 default \n",
    "img_rgb = cv2.imread(file, cv2.IMREAD_COLOR)\n",
    "\n",
    "# 회색 이미지 로딩\n",
    "img_gray = cv2.imread(file, cv2.IMREAD_GRAYSCALE)"
   ],
   "metadata": {
    "collapsed": false,
    "ExecuteTime": {
     "end_time": "2024-03-22T01:25:01.609275600Z",
     "start_time": "2024-03-22T01:25:01.582852400Z"
    }
   },
   "id": "eac79efbbd59b1f0",
   "execution_count": 10
  },
  {
   "cell_type": "code",
   "outputs": [
    {
     "name": "stdout",
     "output_type": "stream",
     "text": [
      "[Color Image]\n",
      "SHAPE: (511, 568, 3) --- DIM : 3차원\n",
      "DTYPE: uint8 --- SIZE : 870744바이트\n"
     ]
    }
   ],
   "source": [
    "# 이미지 데이터 정보 확인 \n",
    "print(f\"[Color Image]\")\n",
    "print(f\"SHAPE: {img_rgb.shape} --- DIM : {img_rgb.ndim}차원\")\n",
    "print(f\"DTYPE: {img_rgb.dtype} --- SIZE : {img_rgb.size}바이트\")"
   ],
   "metadata": {
    "collapsed": false,
    "ExecuteTime": {
     "end_time": "2024-03-22T01:25:01.795262600Z",
     "start_time": "2024-03-22T01:25:01.769588600Z"
    }
   },
   "id": "7084776c3283b1ab",
   "execution_count": 11
  },
  {
   "cell_type": "code",
   "outputs": [
    {
     "name": "stdout",
     "output_type": "stream",
     "text": [
      "[Color Image]\n",
      "SHAPE: (511, 568) --- DIM : 2차원\n",
      "DTYPE: uint8 --- SIZE : 290248바이트\n"
     ]
    }
   ],
   "source": [
    "# 이미지 데이터 정보 확인 \n",
    "print(f\"[Color Image]\")\n",
    "print(f\"SHAPE: {img_gray.shape} --- DIM : {img_gray.ndim}차원\")\n",
    "print(f\"DTYPE: {img_gray.dtype} --- SIZE : {img_gray.size}바이트\")"
   ],
   "metadata": {
    "collapsed": false,
    "ExecuteTime": {
     "end_time": "2024-03-22T01:25:01.966911700Z",
     "start_time": "2024-03-22T01:25:01.949893400Z"
    }
   },
   "id": "c2c4c08475b2bf37",
   "execution_count": 12
  },
  {
   "cell_type": "code",
   "outputs": [],
   "source": [
    "# 이미지 창 띄우기\n",
    "cv2.imshow(\"[COLOR]\", img_rgb)\n",
    "\n",
    "# 이미지 창 제어\n",
    "cv2.waitKey() # ms단위로 입력 0이 default(무한대기)\n",
    "\n",
    "# 이미지 창 닫기\n",
    "cv2.destroyAllWindows()"
   ],
   "metadata": {
    "collapsed": false,
    "ExecuteTime": {
     "end_time": "2024-03-22T01:31:26.321259300Z",
     "start_time": "2024-03-22T01:28:39.877158300Z"
    }
   },
   "id": "83ee5c8a83c2f805",
   "execution_count": 17
  },
  {
   "cell_type": "code",
   "outputs": [
    {
     "name": "stdout",
     "output_type": "stream",
     "text": [
      "key => 27 - 0x1b\n"
     ]
    }
   ],
   "source": [
    "if img_rgb is not None:\n",
    "    cv2.imshow(\"[COLOR]\", img_rgb)\n",
    "    while True:\n",
    "        key=cv2.waitKey() # 키 입력 대기 \n",
    "        print(f\"key => {key} - {hex(key)}\") # 입력 키 출력\n",
    "        \n",
    "        if key == 27: # ESC키 일때 화면 종료\n",
    "            cv2.destroyAllWindows()\n",
    "            break\n",
    "else:\n",
    "    print(\"No image file!!\")"
   ],
   "metadata": {
    "collapsed": false,
    "ExecuteTime": {
     "end_time": "2024-03-22T01:57:19.327295700Z",
     "start_time": "2024-03-22T01:57:17.567671300Z"
    }
   },
   "id": "c53c0fa8a7fba064",
   "execution_count": 20
  },
  {
   "cell_type": "markdown",
   "source": [
    "## 이미지 저장"
   ],
   "metadata": {
    "collapsed": false
   },
   "id": "ca213e8e387f0d4"
  },
  {
   "cell_type": "code",
   "outputs": [],
   "source": [
    "img_gray = cv2.imread(file, cv2.IMREAD_GRAYSCALE) # 흑백이미지\n",
    "save_filename='../data/img/gray_cat.jpg'\n",
    "gray_file = cv2.imwrite(save_filename, img_gray) # 이미지 저장 "
   ],
   "metadata": {
    "collapsed": false,
    "ExecuteTime": {
     "end_time": "2024-03-22T01:59:21.162244400Z",
     "start_time": "2024-03-22T01:59:21.138290500Z"
    }
   },
   "id": "bc0aee7c8e06c7f5",
   "execution_count": 21
  },
  {
   "cell_type": "markdown",
   "source": [
    "## 이미지 데이터 채널 분리"
   ],
   "metadata": {
    "collapsed": false
   },
   "id": "f258d4d529e77f4e"
  },
  {
   "cell_type": "code",
   "outputs": [],
   "source": [
    "# 시차줘서 닫기(그냥)\n",
    "import time\n",
    "b, g, r = cv2.split(img_rgb)\n",
    "\n",
    "cv2.imshow(\"[blue]\", b)\n",
    "\n",
    "cv2.imshow(\"[green]\", g)\n",
    "\n",
    "cv2.imshow(\"[red]\", r)\n",
    "cv2.waitKey()\n",
    "\n",
    "t = 1.5\n",
    "time.sleep(t)\n",
    "cv2.destroyWindow(\"[blue]\")\n",
    "time.sleep(t)\n",
    "cv2.destroyWindow(\"[green]\")\n",
    "time.sleep(t)\n",
    "cv2.destroyWindow(\"[red]\")"
   ],
   "metadata": {
    "collapsed": false,
    "ExecuteTime": {
     "end_time": "2024-03-22T02:04:50.261008600Z",
     "start_time": "2024-03-22T02:04:43.453263900Z"
    }
   },
   "id": "5442f3cf1063910f",
   "execution_count": 25
  },
  {
   "cell_type": "markdown",
   "source": [
    "## 이미지 채널 병합"
   ],
   "metadata": {
    "collapsed": false
   },
   "id": "155f292d08e0bd62"
  },
  {
   "cell_type": "code",
   "outputs": [],
   "source": [
    "# 채널 순서 변경\n",
    "img_rgb = cv2.merge((r, g, b))\n",
    "\n",
    "cv2.imshow(\"RGB IMAGE\", img_rgb)\n",
    "\n",
    "cv2.waitKey()\n",
    "cv2.destroyAllWindows()"
   ],
   "metadata": {
    "collapsed": false,
    "ExecuteTime": {
     "end_time": "2024-03-22T02:16:43.062603400Z",
     "start_time": "2024-03-22T02:16:41.767761100Z"
    }
   },
   "id": "75b02ff8d436edf6",
   "execution_count": 28
  },
  {
   "cell_type": "markdown",
   "source": [
    "## 이미지 색 공간 변환"
   ],
   "metadata": {
    "collapsed": false
   },
   "id": "f07be17bece8181c"
  },
  {
   "cell_type": "code",
   "outputs": [],
   "source": [
    "src_hsv = cv2.cvtColor(img_rgb, cv2.COLOR_BGR2HSV)\n",
    "\n",
    "cv2.imshow(\"src_hsv IMAGE\", src_hsv)\n",
    "\n",
    "# cv2.waitKey()\n",
    "if cv2.waitKey() or cv2.getWindowProperty(\"src_hsv\", cv2.WND_PROP_VISIBLE) < 1:\n",
    "    cv2.destroyAllWindows()"
   ],
   "metadata": {
    "collapsed": false,
    "ExecuteTime": {
     "end_time": "2024-03-22T04:08:43.802157Z",
     "start_time": "2024-03-22T04:08:42.547874800Z"
    }
   },
   "id": "76d4980ac508b87b",
   "execution_count": 31
  },
  {
   "cell_type": "markdown",
   "source": [
    "## 이미지 크기 변경"
   ],
   "metadata": {
    "collapsed": false
   },
   "id": "f5c9a38be712e9a3"
  },
  {
   "cell_type": "code",
   "outputs": [],
   "source": [
    "down_img = cv2.resize(img_rgb, dsize=None, fx=2, fy=2, interpolation=cv2.INTER_AREA)\n",
    "\n",
    "cv2.imshow(\"down_img IMAGE\", down_img)\n",
    "if cv2.waitKey() or cv2.getWindowProperty(\"src_hsv\", cv2.WND_PROP_VISIBLE) < 1:\n",
    "    cv2.destroyAllWindows()"
   ],
   "metadata": {
    "collapsed": false,
    "ExecuteTime": {
     "end_time": "2024-03-22T04:12:39.337852400Z",
     "start_time": "2024-03-22T04:12:34.417056200Z"
    }
   },
   "id": "4263e513b319561c",
   "execution_count": 33
  },
  {
   "cell_type": "markdown",
   "source": [
    "## 도화지에 그림그리기"
   ],
   "metadata": {
    "collapsed": false
   },
   "id": "dd2223edde4072e2"
  },
  {
   "cell_type": "code",
   "outputs": [
    {
     "data": {
      "text/plain": "True"
     },
     "execution_count": 85,
     "metadata": {},
     "output_type": "execute_result"
    }
   ],
   "source": [
    "img = np.full((800, 800, 3), 255, dtype=np.uint8)\n",
    "cv2.imwrite(\"../data/img/white_paper.jpg\", img)"
   ],
   "metadata": {
    "collapsed": false,
    "ExecuteTime": {
     "end_time": "2024-03-22T04:56:37.685245500Z",
     "start_time": "2024-03-22T04:56:37.671345600Z"
    }
   },
   "id": "4cd72f3a1de98e9f",
   "execution_count": 85
  },
  {
   "cell_type": "code",
   "outputs": [],
   "source": [
    "img = cv2.imread(\"../data/img/white_paper.jpg\", cv2.IMREAD_COLOR)\n",
    "\n",
    "cv2.imshow('lines', img)\n",
    "cv2.waitKey(0)\n",
    "cv2.destroyAllWindows()"
   ],
   "metadata": {
    "collapsed": false,
    "ExecuteTime": {
     "end_time": "2024-03-22T04:56:43.992339500Z",
     "start_time": "2024-03-22T04:56:39.539275Z"
    }
   },
   "id": "fdd986bc80229068",
   "execution_count": 86
  },
  {
   "cell_type": "code",
   "outputs": [],
   "source": [
    "# 이미지 데이터에 그림 그리기 \n",
    "\n",
    "cv2.line(img, (10, 10), (70, 70), (255, 0, 0))# strat, end, color\n",
    "\n",
    "cv2.line(img, (50, 50), (150, 50), (255,0,0))   # 파란색 1픽셀 선\n",
    "cv2.line(img, (200, 50), (300, 50), (0,255,0))  # 초록색 1픽셀 선\n",
    "cv2.line(img, (350, 50), (450, 50), (0,0,255))  # 빨간색 1픽셀 선\n",
    "\n",
    "# 하늘색(파랑+초록) 10픽셀 선      \n",
    "cv2.line(img, (100, 100), (400, 100), (255,255,0), 10)          \n",
    "# 분홍(파랑+빨강) 10픽셀 선      \n",
    "cv2.line(img, (100, 150), (400, 150), (255,0,255), 10)          \n",
    "# 노랑(초록+빨강) 10픽셀 선      \n",
    "cv2.line(img, (100, 200), (400, 200), (0,255,255), 10)          \n",
    "# 회색(파랑+초록+빨강) 10픽셀 선  \n",
    "cv2.line(img, (100, 250), (400, 250), (200,200,200), 10)        \n",
    "# 검정 10픽셀 선    \n",
    "cv2.line(img, (100, 300), (400, 300), (0,0,0), 10)                    \n",
    "\n",
    "# 4연결 선\n",
    "cv2.line(img, (100, 350), (400, 400), (0,0,255), 20, cv2.LINE_4)   \n",
    "# 8연결 선\n",
    "cv2.line(img, (100, 400), (400, 450), (0,0,255), 20, cv2.LINE_8)    \n",
    "# 안티에일리어싱 선 \n",
    "cv2.line(img, (100, 450), (400, 500), (0,0,255), 20, cv2.LINE_AA)   \n",
    "# 이미지 전체에 대각선 \n",
    "cv2.line(img, (0,0), (500,500), (0,0,255))                      \n",
    "cv2.imshow('lines', img)\n",
    "cv2.waitKey(0)\n",
    "cv2.destroyAllWindows()"
   ],
   "metadata": {
    "collapsed": false,
    "ExecuteTime": {
     "end_time": "2024-03-22T04:56:46.977689100Z",
     "start_time": "2024-03-22T04:56:45.354830400Z"
    }
   },
   "id": "c36de265defd5365",
   "execution_count": 87
  },
  {
   "cell_type": "code",
   "outputs": [],
   "source": [
    "white = np.full((800, 800),255, dtype=np.uint8)\n",
    "cv2.imshow(\"white\",white)\n",
    "cv2.waitKey()\n",
    "cv2.destroyAllWindows()"
   ],
   "metadata": {
    "collapsed": false,
    "ExecuteTime": {
     "end_time": "2024-03-22T04:19:00.483138900Z",
     "start_time": "2024-03-22T04:18:57.471437200Z"
    }
   },
   "id": "a96f21a9c90dc549",
   "execution_count": 45
  },
  {
   "cell_type": "markdown",
   "source": [
    "## 글씨 그리기 cv2.putText()"
   ],
   "metadata": {
    "collapsed": false
   },
   "id": "b49fa44304b37e85"
  },
  {
   "cell_type": "code",
   "outputs": [],
   "source": [
    "img = cv2.imread(\"../data/img/white_paper.jpg\", cv2.IMREAD_COLOR)\n",
    "\n",
    "# sans-serif small\n",
    "cv2.putText(img, \"Plain\", (50, 30), cv2.FONT_HERSHEY_PLAIN, 1, (0, 0,0))            \n",
    "# sans-serif normal\n",
    "cv2.putText(img, \"Simplex\", (50, 70), cv2.FONT_HERSHEY_SIMPLEX, 1, (0, 0,0))        \n",
    "# sans-serif bold\n",
    "cv2.putText(img, \"Duplex\", (50, 110), cv2.FONT_HERSHEY_DUPLEX, 1, (0, 0,0))         \n",
    "# sans-serif normall X2  ---①\n",
    "cv2.putText(img, \"Simplex\", (200, 110), cv2.FONT_HERSHEY_SIMPLEX, 2, (0,0,250)) \n",
    "\n",
    "# serif small\n",
    "cv2.putText(img, \"Complex Small\", (50, 180), cv2.FONT_HERSHEY_COMPLEX_SMALL, \\\n",
    "            1, (0, 0,0))   \n",
    "# serif normal\n",
    "cv2.putText(img, \"Complex\", (50, 220), cv2.FONT_HERSHEY_COMPLEX, 1, (0, 0,0))\n",
    "# serif bold\n",
    "cv2.putText(img, \"Triplex\", (50, 260), cv2.FONT_HERSHEY_TRIPLEX, 1, (0, 0,0))               \n",
    "# serif normal X2  ---②\n",
    "cv2.putText(img, \"Complex\", (200, 260), cv2.FONT_HERSHEY_TRIPLEX, 2, (0,0,255))               \n",
    "# hand-wringing sans-serif\n",
    "cv2.putText(img, \"Script Simplex\", (50, 330), cv2.FONT_HERSHEY_SCRIPT_SIMPLEX, \\\n",
    "            1, (0, 0,0)) \n",
    "# hand-wringing serif\n",
    "cv2.putText(img, \"Script Complex\", (50, 370), cv2.FONT_HERSHEY_SCRIPT_COMPLEX, \\\n",
    "            1, (0, 0,0)) \n",
    "\n",
    "# sans-serif + italic ---③\n",
    "cv2.putText(img, \"Plain Italic\", (50, 430), \\\n",
    "            cv2.FONT_HERSHEY_PLAIN | cv2.FONT_ITALIC, 1, (0, 0,0)) \n",
    "# sarif + italic\n",
    "cv2.putText(img, \"Complex Italic\", (50, 470), \\\n",
    "            cv2.FONT_HERSHEY_COMPLEX | cv2.FONT_ITALIC, 1, (0, 0,0)) \n",
    "\n",
    "cv2.imshow('draw text', img)\n",
    "cv2.waitKey()\n",
    "cv2.destroyAllWindows()"
   ],
   "metadata": {
    "collapsed": false,
    "ExecuteTime": {
     "end_time": "2024-03-22T04:57:04.458545800Z",
     "start_time": "2024-03-22T04:57:00.806827300Z"
    }
   },
   "id": "45102b92208782db",
   "execution_count": 89
  },
  {
   "cell_type": "markdown",
   "source": [
    "## 얼굴 인식"
   ],
   "metadata": {
    "collapsed": false
   },
   "id": "c0fe545c394b037e"
  },
  {
   "cell_type": "code",
   "outputs": [
    {
     "name": "stdout",
     "output_type": "stream",
     "text": [
      "**face_datections RESULT\n",
      "[[355 135  60  60]\n",
      " [159 196  68  68]\n",
      " [478 172  95  95]]\n"
     ]
    }
   ],
   "source": [
    "# 이미지 파일 및 정면 얼굴 인식 모델 경로\n",
    "frontalface_model = \"../data/haarcascades/haarcascade_frontalface_default.xml\"\n",
    "img_file = \"../data/img/girls.jpg\"\n",
    "\n",
    "\n",
    "\n",
    "\n",
    "\n",
    "# 정면 얼굴 인식 모델 로딩\n",
    "face_detector = cv2.CascadeClassifier(frontalface_model)\n",
    "\n",
    "# 이미지 데이터 로딩\n",
    "imgNP = cv2.imread(img_file)\n",
    "\n",
    "# imgNP = cv2.resize(imgNP, dsize=None, fx=0.2, fy=0.2, interpolation=cv2.INTER_AREA)\n",
    "\n",
    "\n",
    "\n",
    "# 이미지에서 정면 얼굴 인식 ==> [return] 인식된 얼굴 수 만큼 위치정보 (x, y, w, h) 반환\n",
    "face_detections = face_detector.detectMultiScale(imgNP)\n",
    "print(f\"**face_datections RESULT\\n{face_detections}\")\n",
    "\n",
    "# 인식된 정면 얼굴 ROI 표시\n",
    "for (x, y, w, h) in face_detections:\n",
    "    cv2.rectangle(imgNP, (x, y), (x + w, y + h), (0, 255, 0), 2)\n",
    "\n",
    "# 화면 출력\n",
    "cv2.imshow('img', imgNP)\n",
    "cv2.waitKey()\n",
    "cv2.destroyAllWindows()"
   ],
   "metadata": {
    "collapsed": false,
    "ExecuteTime": {
     "end_time": "2024-03-22T05:51:14.819355900Z",
     "start_time": "2024-03-22T05:50:21.273209900Z"
    }
   },
   "id": "784f6b2b10e526af",
   "execution_count": 101
  },
  {
   "cell_type": "code",
   "outputs": [],
   "source": [
    "# 1. 영상용\n",
    "# \n",
    "# frontalface_model = '../data/haarcascades/haarcascade_frontalface_alt.xml'\n",
    "# video_file = '../data/video/1234.mp4'\n",
    "# \n",
    "# face_detector = cv2.CascadeClassifier(frontalface_model)\n",
    "# camera = cv2.VideoCapture(video_file)\n",
    "# \n",
    "# if not camera.isOpened():\n",
    "#     print(\"비디오 파일을 열 수 없습니다.\")\n",
    "#     exit()\n",
    "# \n",
    "# while True:\n",
    "#     # 비디오 프레임 읽기\n",
    "#     ret, frame = camera.read()\n",
    "# \n",
    "#     if not ret:\n",
    "#         print(\"비디오 프레임을 읽을 수 없습니다.\")\n",
    "#         break\n",
    "# \n",
    "#     # 얼굴 검출\n",
    "#     face_detections = face_detector.detectMultiScale(frame)\n",
    "# \n",
    "#     # 검출된 얼굴에 사각형 그리기\n",
    "#     for (x, y, w, h) in face_detections:\n",
    "#         cv2.rectangle(frame, (x, y), (x+w, y+h), (0, 255, 0), 2)\n",
    "# \n",
    "#     # 프레임 화면에 표시\n",
    "#     cv2.imshow('Face Detection', frame) \n",
    "# \n",
    "#     # 'q' 키를 누르면 종료\n",
    "#     if cv2.waitKey(1) & 0xFF == ord('q'):\n",
    "#         break\n",
    "# \n",
    "# # 리소스 해제\n",
    "# camera.release()\n",
    "# cv2.destroyAllWindows()\n",
    "# \n",
    "# \n",
    "# 2. cctv 웹캠용\n",
    "# \n",
    "# import cv2\n",
    "# import time\n",
    "# import sys\n",
    "# import numpy as np\n",
    "# \n",
    "# frontalface_model = '../data/haarcascades/haarcascade_frontalface_alt.xml'\n",
    "# video_file = '../data/video/1234.mp4'\n",
    "# \n",
    "# face_detector = cv2.CascadeClassifier(frontalface_model)\n",
    "# camera = cv2.VideoCapture(0)\n",
    "# \n",
    "# if not camera.isOpened():\n",
    "#     print(\"비디오 파일을 열 수 없습니다.\")\n",
    "#     exit()\n",
    "# \n",
    "# while True:\n",
    "#     # 비디오 프레임 읽기\n",
    "#     ret, frame = camera.read()\n",
    "# \n",
    "#     if not ret:\n",
    "#         print(\"비디오 프레임을 읽을 수 없습니다.\")\n",
    "#         break\n",
    "# \n",
    "#     # 얼굴 검출\n",
    "#     face_detections = face_detector.detectMultiScale(frame)\n",
    "#     \n",
    "#     # 검출된 얼굴에 사각형 그리기\n",
    "#     for (x, y, w, h) in face_detections:\n",
    "#         cv2.rectangle(frame, (x, y), (x+w, y+h), (0, 255, 0), 2)\n",
    "# \n",
    "#     # 프레임 화면에 표시\n",
    "#     cv2.imshow('Face Detection', frame) \n",
    "# \n",
    "#     # 'q' 키를 누르면 종료\n",
    "#     if cv2.waitKey(1) & 0xFF == ord('q'):\n",
    "#         break\n",
    "# \n",
    "# # 리소스 해제\n",
    "# camera.release()\n",
    "# cv2.destroyAllWindows()"
   ],
   "metadata": {
    "collapsed": false
   },
   "id": "cc8398a7f4e1553b"
  },
  {
   "cell_type": "code",
   "outputs": [],
   "source": [],
   "metadata": {
    "collapsed": false
   },
   "id": "a7dfc13cddb7ee05"
  }
 ],
 "metadata": {
  "kernelspec": {
   "display_name": "Python 3",
   "language": "python",
   "name": "python3"
  },
  "language_info": {
   "codemirror_mode": {
    "name": "ipython",
    "version": 2
   },
   "file_extension": ".py",
   "mimetype": "text/x-python",
   "name": "python",
   "nbconvert_exporter": "python",
   "pygments_lexer": "ipython2",
   "version": "2.7.6"
  }
 },
 "nbformat": 4,
 "nbformat_minor": 5
}
