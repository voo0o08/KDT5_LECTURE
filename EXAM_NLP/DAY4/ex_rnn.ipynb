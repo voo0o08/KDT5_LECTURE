{
 "cells": [
  {
   "cell_type": "markdown",
   "source": [
    "# 순환 신경망 RNN"
   ],
   "metadata": {
    "collapsed": false
   },
   "id": "e4f3618ce1d0ee9e"
  },
  {
   "cell_type": "code",
   "outputs": [],
   "source": [
    "import torch\n",
    "import torch.nn as nn"
   ],
   "metadata": {
    "collapsed": false,
    "ExecuteTime": {
     "end_time": "2024-04-03T01:24:50.233177200Z",
     "start_time": "2024-04-03T01:24:50.226868300Z"
    }
   },
   "id": "17fe5ba524012f74",
   "execution_count": 30
  },
  {
   "cell_type": "code",
   "outputs": [],
   "source": [
    "HIDDEN_SIZE = 3\n",
    "NUM_LAYERS = 1\n",
    "SEQ_LENTH = 3\n",
    "BATCH_SIZE = 1\n",
    "\n",
    "# 데이터 및 초기 Hidden State\n",
    "input = torch.randn(BATCH_SIZE, SEQ_LENTH, 10)  # 배치 크기, 시퀀스 길이:해당 문장을 구성하는 단어 수, 피쳐 길이(1개 단어를 표현하는 수 one-hot 후))\n",
    "\n",
    "h0 = torch.randn(NUM_LAYERS, BATCH_SIZE, HIDDEN_SIZE)  # hidden state 초기값 -> 제공 안하면 torch.zeros로 들어감 (방향*층수, 배치크기, hidden state개수=셀 개수)\n",
    "\n",
    "# RNN 인스턴스 생성\n",
    "rnn = nn.RNN(10, HIDDEN_SIZE, NUM_LAYERS, batch_first=True) # input, hidden=cell 개수, num_layer\n",
    "\n",
    "output, hn = rnn(input, h0)"
   ],
   "metadata": {
    "collapsed": false,
    "ExecuteTime": {
     "end_time": "2024-04-03T01:56:12.767151300Z",
     "start_time": "2024-04-03T01:56:12.745956300Z"
    }
   },
   "id": "62a4d6001995a744",
   "execution_count": 41
  },
  {
   "cell_type": "code",
   "outputs": [
    {
     "name": "stdout",
     "output_type": "stream",
     "text": [
      "[INPUT DATA]\n",
      "-SHAPE : torch.Size([1, 3, 10]) DIM : 3D\n"
     ]
    }
   ],
   "source": [
    "print(f\"[INPUT DATA]\\n-SHAPE : {input.shape} DIM : {input.ndim}D\")\n",
    "# 배치가 1개 -> 문장이 1개"
   ],
   "metadata": {
    "collapsed": false,
    "ExecuteTime": {
     "end_time": "2024-04-03T01:56:13.010706100Z",
     "start_time": "2024-04-03T01:56:13.001363700Z"
    }
   },
   "id": "b1a048fd0829449e",
   "execution_count": 42
  },
  {
   "cell_type": "code",
   "outputs": [
    {
     "name": "stdout",
     "output_type": "stream",
     "text": [
      "[RNN PARAMETERS]\n",
      "----[weight_ih_l0]\n",
      "Parameter containing:\n",
      "tensor([[-0.4745, -0.0973, -0.5195, -0.3652, -0.2667,  0.0309,  0.1693,  0.1111,\n",
      "          0.3216, -0.5168],\n",
      "        [-0.1803,  0.1574, -0.4064,  0.0099,  0.3016, -0.5134, -0.3699,  0.2536,\n",
      "          0.3252,  0.5760],\n",
      "        [-0.4069, -0.4135,  0.3075,  0.0937,  0.2654, -0.3276, -0.0601,  0.3248,\n",
      "         -0.4292, -0.3811]], requires_grad=True)\n",
      "\n",
      "----[weight_hh_l0]\n",
      "Parameter containing:\n",
      "tensor([[-0.4324,  0.0920,  0.3752],\n",
      "        [-0.0171, -0.3920, -0.4386],\n",
      "        [ 0.4894,  0.0947, -0.1288]], requires_grad=True)\n",
      "\n",
      "----[bias_ih_l0]\n",
      "Parameter containing:\n",
      "tensor([-0.5692, -0.0719, -0.5189], requires_grad=True)\n",
      "\n",
      "----[bias_hh_l0]\n",
      "Parameter containing:\n",
      "tensor([-0.1442,  0.1495, -0.5733], requires_grad=True)\n"
     ]
    }
   ],
   "source": [
    "print(f\"[RNN PARAMETERS]\")\n",
    "for name, param in rnn.named_parameters():\n",
    "    print(f\"----[{name}]\\n{param}\\n\")"
   ],
   "metadata": {
    "collapsed": false,
    "ExecuteTime": {
     "end_time": "2024-04-03T01:56:13.298570900Z",
     "start_time": "2024-04-03T01:56:13.282987900Z"
    }
   },
   "id": "1f01eaf21bcacf1b",
   "execution_count": 43
  },
  {
   "cell_type": "code",
   "outputs": [
    {
     "name": "stdout",
     "output_type": "stream",
     "text": [
      "[RNN출력 -> OUTPUT DATA]\n",
      "-SHAPE : torch.Size([1, 3, 3]) DIM : 3D\n",
      "tensor([[[-0.5402, -0.1434, -0.9953],\n",
      "         [-0.8550, -0.1930, -0.9980],\n",
      "         [-0.9138,  0.8181, -0.9940]]], grad_fn=<TransposeBackward1>)\n"
     ]
    }
   ],
   "source": [
    "print(f\"[RNN출력 -> OUTPUT DATA]\\n-SHAPE : {output.shape} DIM : {output.ndim}D\")\n",
    "print(output)"
   ],
   "metadata": {
    "collapsed": false,
    "ExecuteTime": {
     "end_time": "2024-04-03T01:56:13.605136100Z",
     "start_time": "2024-04-03T01:56:13.586250200Z"
    }
   },
   "id": "3ea38a4036f27572",
   "execution_count": 44
  },
  {
   "cell_type": "code",
   "outputs": [
    {
     "name": "stdout",
     "output_type": "stream",
     "text": [
      "[RNN출력 -> hn]\n",
      "-SHAPE : torch.Size([1, 1, 3]) DIM : 3D\n",
      "tensor([[[-0.9138,  0.8181, -0.9940]]], grad_fn=<StackBackward0>)\n"
     ]
    }
   ],
   "source": [
    "print(f\"[RNN출력 -> hn]\\n-SHAPE : {hn.shape} DIM : {hn.ndim}D\")\n",
    "print(hn)"
   ],
   "metadata": {
    "collapsed": false,
    "ExecuteTime": {
     "end_time": "2024-04-03T01:56:14.552983500Z",
     "start_time": "2024-04-03T01:56:14.536239100Z"
    }
   },
   "id": "522a75fe0ec0faaa",
   "execution_count": 45
  },
  {
   "cell_type": "code",
   "outputs": [],
   "source": [
    "print(f\"[INPUT DATA]\\n\")"
   ],
   "metadata": {
    "collapsed": false
   },
   "id": "911c958729860711"
  },
  {
   "cell_type": "code",
   "outputs": [],
   "source": [],
   "metadata": {
    "collapsed": false
   },
   "id": "305b6ee7b96b0cbd"
  },
  {
   "cell_type": "code",
   "outputs": [],
   "source": [
    "# 설계 : 다층 RNN, 층2 개\n",
    "# INPUT \n",
    "\n",
    "\n",
    "# 입력 초기 텐서들 2개\n",
    "input = torch.randn(5, 3, 10) # 배치사이즈(밑에랑 다름)\n",
    "# 히든은 하나의 시퀀스(하나의 문장)을 처리해줌 \n",
    "h0 = torch.randn(2, 3, 5) # 층, 배치사이즈, hidden cell개수 \n",
    "\n",
    "# RNN 인스턴스 \n",
    "rnn = nn.RNN(10, 5, 2)\n",
    "\n",
    "# 출력 텐서들 2개 \n",
    "output, hn = rnn(input, h0)"
   ],
   "metadata": {
    "collapsed": false,
    "ExecuteTime": {
     "end_time": "2024-04-02T02:08:20.742800500Z",
     "start_time": "2024-04-02T02:08:20.719022400Z"
    }
   },
   "id": "b730707b8b27399d",
   "execution_count": 21
  },
  {
   "cell_type": "code",
   "outputs": [
    {
     "name": "stdout",
     "output_type": "stream",
     "text": [
      "[rnn.all_weights] -> 2개\n",
      "[[Parameter containing:\n",
      "tensor([[ 0.3230,  0.0695,  0.2154,  0.4093, -0.2263,  0.3250, -0.2830, -0.3851,\n",
      "         -0.1899,  0.0726],\n",
      "        [ 0.3045, -0.4366, -0.2707, -0.3662, -0.2816, -0.1723, -0.2647,  0.2753,\n",
      "         -0.1683,  0.4455],\n",
      "        [ 0.4298,  0.1221,  0.3256, -0.0833, -0.3290,  0.2737, -0.0981, -0.3912,\n",
      "         -0.0087,  0.1682],\n",
      "        [-0.0978,  0.1643, -0.3634, -0.1227,  0.0235,  0.4260, -0.0850, -0.3110,\n",
      "          0.3248, -0.4418],\n",
      "        [ 0.0425,  0.4019, -0.1553,  0.3977, -0.1561,  0.3709,  0.0896, -0.0458,\n",
      "         -0.0169,  0.3543]], requires_grad=True), Parameter containing:\n",
      "tensor([[-0.3223,  0.0904,  0.3714, -0.3122, -0.1659],\n",
      "        [ 0.1328, -0.1728,  0.0997, -0.1190,  0.4165],\n",
      "        [ 0.1912, -0.3648, -0.2988,  0.4372, -0.1169],\n",
      "        [ 0.0087, -0.3861, -0.4397,  0.1675,  0.0838],\n",
      "        [-0.3168,  0.1315, -0.1222,  0.1831,  0.3506]], requires_grad=True), Parameter containing:\n",
      "tensor([-0.3555,  0.4199, -0.3645,  0.3180, -0.3702], requires_grad=True), Parameter containing:\n",
      "tensor([-0.2358,  0.1158, -0.2022,  0.2609,  0.1635], requires_grad=True)], [Parameter containing:\n",
      "tensor([[-0.0086, -0.0224, -0.1958, -0.2820,  0.0401],\n",
      "        [ 0.1516,  0.1047, -0.2615, -0.0941,  0.1767],\n",
      "        [-0.2922,  0.2278,  0.2024,  0.1699,  0.1785],\n",
      "        [-0.4396,  0.1913,  0.1984, -0.2512,  0.0746],\n",
      "        [-0.3315,  0.3089, -0.2243,  0.0826,  0.4160]], requires_grad=True), Parameter containing:\n",
      "tensor([[ 0.2335, -0.2889, -0.2740, -0.2920, -0.1546],\n",
      "        [ 0.0243, -0.0761,  0.1688, -0.1549,  0.3817],\n",
      "        [-0.2138,  0.2844,  0.0254, -0.2124, -0.3712],\n",
      "        [ 0.0975,  0.0343,  0.3273,  0.2339, -0.1389],\n",
      "        [-0.0899,  0.3606,  0.2529, -0.2908,  0.4187]], requires_grad=True), Parameter containing:\n",
      "tensor([ 0.1955,  0.1363, -0.4067,  0.3681, -0.0408], requires_grad=True), Parameter containing:\n",
      "tensor([-0.2091,  0.3451, -0.0890, -0.0083,  0.2620], requires_grad=True)]]\n"
     ]
    }
   ],
   "source": [
    "# rnn 모델의 속성 출력\n",
    "print(f\"[rnn.all_weights] -> {len(rnn.all_weights)}개\")\n",
    "print(rnn.all_weights)"
   ],
   "metadata": {
    "collapsed": false,
    "ExecuteTime": {
     "end_time": "2024-04-02T02:08:21.121850Z",
     "start_time": "2024-04-02T02:08:21.097878500Z"
    }
   },
   "id": "9b0fda7a7ca3d7cd",
   "execution_count": 22
  },
  {
   "cell_type": "code",
   "outputs": [
    {
     "data": {
      "text/plain": "=================================================================\nLayer (type:depth-idx)                   Param #\n=================================================================\nRNN                                      145\n=================================================================\nTotal params: 145\nTrainable params: 145\nNon-trainable params: 0\n================================================================="
     },
     "execution_count": 23,
     "metadata": {},
     "output_type": "execute_result"
    }
   ],
   "source": [
    "from torchinfo import summary\n",
    "summary(rnn)"
   ],
   "metadata": {
    "collapsed": false,
    "ExecuteTime": {
     "end_time": "2024-04-02T02:08:21.601964700Z",
     "start_time": "2024-04-02T02:08:21.591231500Z"
    }
   },
   "id": "3486237efb3caaae",
   "execution_count": 23
  },
  {
   "cell_type": "code",
   "outputs": [
    {
     "name": "stdout",
     "output_type": "stream",
     "text": [
      "========= weight_ih_l0 =========\n",
      "Parameter containing:\n",
      "tensor([[-0.6397, -0.4127, -0.3385, -0.6102, -0.3638, -0.4705, -0.1107,  0.0832,\n",
      "          0.3810,  0.1067],\n",
      "        [-0.0336,  0.6527,  0.4086,  0.4771, -0.3456, -0.2514, -0.1332,  0.0316,\n",
      "         -0.3220,  0.0135]], requires_grad=True)\n",
      "\n",
      "\n",
      "========= weight_hh_l0 =========\n",
      "Parameter containing:\n",
      "tensor([[ 0.4483,  0.1457],\n",
      "        [-0.5374,  0.6021]], requires_grad=True)\n",
      "\n",
      "\n",
      "========= bias_ih_l0 =========\n",
      "Parameter containing:\n",
      "tensor([-0.0171, -0.0370], requires_grad=True)\n",
      "\n",
      "\n",
      "========= bias_hh_l0 =========\n",
      "Parameter containing:\n",
      "tensor([-0.4291, -0.3305], requires_grad=True)\n"
     ]
    }
   ],
   "source": [
    "for name, param in rnn.named_parameters():\n",
    "    print(\"=========\",name, \"=========\")\n",
    "    print(param)\n",
    "    print()\n",
    "    print()"
   ],
   "metadata": {
    "collapsed": false,
    "ExecuteTime": {
     "end_time": "2024-04-02T02:00:06.535526700Z",
     "start_time": "2024-04-02T02:00:06.512405200Z"
    }
   },
   "id": "9d0bbef2eaa2b0a7",
   "execution_count": 17
  },
  {
   "cell_type": "code",
   "outputs": [
    {
     "data": {
      "text/plain": "(torch.Size([5, 3, 5]), 3)"
     },
     "execution_count": 27,
     "metadata": {},
     "output_type": "execute_result"
    }
   ],
   "source": [
    "# RNN의 출력 텐서 output\n",
    "output.shape, output.ndim\n",
    "\n",
    "# 배치 사이즈 5\n",
    "# 각각의 문장이 몇 개의 시퀀스(단어)로 이루어져 있는지 3"
   ],
   "metadata": {
    "collapsed": false,
    "ExecuteTime": {
     "end_time": "2024-04-02T04:23:21.172208900Z",
     "start_time": "2024-04-02T04:23:21.163728700Z"
    }
   },
   "id": "903c7cff85a6ef99",
   "execution_count": 27
  },
  {
   "cell_type": "code",
   "outputs": [],
   "source": [],
   "metadata": {
    "collapsed": false,
    "ExecuteTime": {
     "end_time": "2024-04-02T04:36:11.239955100Z",
     "start_time": "2024-04-02T04:36:11.233416500Z"
    }
   },
   "id": "ed3b3ca0d5ec0c9b",
   "execution_count": 29
  }
 ],
 "metadata": {
  "kernelspec": {
   "display_name": "Python 3",
   "language": "python",
   "name": "python3"
  },
  "language_info": {
   "codemirror_mode": {
    "name": "ipython",
    "version": 2
   },
   "file_extension": ".py",
   "mimetype": "text/x-python",
   "name": "python",
   "nbconvert_exporter": "python",
   "pygments_lexer": "ipython2",
   "version": "2.7.6"
  }
 },
 "nbformat": 4,
 "nbformat_minor": 5
}
