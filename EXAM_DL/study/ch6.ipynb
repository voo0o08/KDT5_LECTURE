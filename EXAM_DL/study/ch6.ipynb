{
 "cells": [
  {
   "cell_type": "code",
   "execution_count": 1,
   "id": "initial_id",
   "metadata": {
    "collapsed": true,
    "ExecuteTime": {
     "end_time": "2024-03-17T05:36:50.068517Z",
     "start_time": "2024-03-17T05:36:48.439367800Z"
    }
   },
   "outputs": [],
   "source": [
    "%matplotlib inline\n",
    "import numpy as np\n",
    "import torch\n",
    "import torch.optim as optim\n",
    "\n",
    "torch.set_printoptions(edgeitems=2, linewidth=75)"
   ]
  },
  {
   "cell_type": "markdown",
   "source": [
    "## 6.2.1 forward 대신 _ _ call _ _ 사용하기"
   ],
   "metadata": {
    "collapsed": false
   },
   "id": "c42cbf9df5c75f62"
  },
  {
   "cell_type": "code",
   "outputs": [],
   "source": [
    "t_c = [0.5,  14.0, 15.0, 28.0, 11.0,  8.0,  3.0, -4.0,  6.0, 13.0, 21.0]\n",
    "t_u = [35.7, 55.9, 58.2, 81.9, 56.3, 48.9, 33.9, 21.8, 48.4, 60.4, 68.4]\n",
    "t_c = torch.tensor(t_c).unsqueeze(1) # <1>\n",
    "t_u = torch.tensor(t_u).unsqueeze(1) # <1>\n",
    "\n",
    "t_u.shape"
   ],
   "metadata": {
    "collapsed": false
   },
   "id": "7ba2be06fe7ec24f"
  },
  {
   "cell_type": "code",
   "outputs": [
    {
     "data": {
      "text/plain": "(tensor([ 8,  0,  9,  3,  4,  7,  1,  5, 10]), tensor([2, 6]))"
     },
     "execution_count": 5,
     "metadata": {},
     "output_type": "execute_result"
    }
   ],
   "source": [
    "n_samples = t_u.shape[0]\n",
    "n_val = int(0.2 * n_samples)\n",
    "\n",
    "shuffled_indices = torch.randperm(n_samples)\n",
    "\n",
    "train_indices = shuffled_indices[:-n_val]\n",
    "val_indices = shuffled_indices[-n_val:]\n",
    "\n",
    "train_indices, val_indices"
   ],
   "metadata": {
    "collapsed": false,
    "ExecuteTime": {
     "end_time": "2024-03-17T05:40:36.041808500Z",
     "start_time": "2024-03-17T05:40:36.021853300Z"
    }
   },
   "id": "4c1a2b3fae992cf0",
   "execution_count": 5
  },
  {
   "cell_type": "code",
   "outputs": [],
   "source": [
    "t_u_train = t_u[train_indices]\n",
    "t_c_train = t_c[train_indices]\n",
    "\n",
    "t_u_val = t_u[val_indices]\n",
    "t_c_val = t_c[val_indices]\n",
    "\n",
    "t_un_train = 0.1 * t_u_train\n",
    "t_un_val = 0.1 * t_u_val"
   ],
   "metadata": {
    "collapsed": false,
    "ExecuteTime": {
     "end_time": "2024-03-17T05:40:49.942136200Z",
     "start_time": "2024-03-17T05:40:49.932180500Z"
    }
   },
   "id": "30be6fbb8f6dae80",
   "execution_count": 6
  },
  {
   "cell_type": "markdown",
   "source": [
    "## 6.2.2 다시 선형 모델로\n",
    ": nn.Linear는 3개의 인자를 받음 \n",
    "- 입력 피처 수\n",
    "- 출력 피처 수\n",
    "- 모델이 편향값을 포함하는지 default = True"
   ],
   "metadata": {
    "collapsed": false
   },
   "id": "842a946458305246"
  },
  {
   "cell_type": "code",
   "outputs": [
    {
     "data": {
      "text/plain": "tensor([[-1.1837],\n        [-0.8704]], grad_fn=<AddmmBackward0>)"
     },
     "execution_count": 8,
     "metadata": {},
     "output_type": "execute_result"
    }
   ],
   "source": [
    "import torch.nn as nn\n",
    "\n",
    "linear_model = nn.Linear(1, 1) # 인스턴스화하여 함수처럼 사용 가능 \n",
    "linear_model(t_un_val)"
   ],
   "metadata": {
    "collapsed": false,
    "ExecuteTime": {
     "end_time": "2024-03-17T05:43:51.921300300Z",
     "start_time": "2024-03-17T05:43:51.907508800Z"
    }
   },
   "id": "88ace9ae13b12225",
   "execution_count": 8
  },
  {
   "cell_type": "code",
   "outputs": [
    {
     "data": {
      "text/plain": "Parameter containing:\ntensor([[-0.1289]], requires_grad=True)"
     },
     "execution_count": 9,
     "metadata": {},
     "output_type": "execute_result"
    }
   ],
   "source": [
    "linear_model.weight"
   ],
   "metadata": {
    "collapsed": false,
    "ExecuteTime": {
     "end_time": "2024-03-17T05:44:59.412111700Z",
     "start_time": "2024-03-17T05:44:59.395195400Z"
    }
   },
   "id": "5bc880fd04143a83",
   "execution_count": 9
  },
  {
   "cell_type": "code",
   "outputs": [
    {
     "data": {
      "text/plain": "Parameter containing:\ntensor([-0.4333], requires_grad=True)"
     },
     "execution_count": 10,
     "metadata": {},
     "output_type": "execute_result"
    }
   ],
   "source": [
    "linear_model.bias"
   ],
   "metadata": {
    "collapsed": false,
    "ExecuteTime": {
     "end_time": "2024-03-17T05:45:07.623774700Z",
     "start_time": "2024-03-17T05:45:07.599551400Z"
    }
   },
   "id": "bce991424f087e52",
   "execution_count": 10
  },
  {
   "cell_type": "code",
   "outputs": [
    {
     "data": {
      "text/plain": "tensor([-0.8786], grad_fn=<ViewBackward0>)"
     },
     "execution_count": 26,
     "metadata": {},
     "output_type": "execute_result"
    }
   ],
   "source": [
    "x = torch.ones(1)\n",
    "linear_model(x)"
   ],
   "metadata": {
    "collapsed": false,
    "ExecuteTime": {
     "end_time": "2024-03-17T06:03:51.705678100Z",
     "start_time": "2024-03-17T06:03:51.675234700Z"
    }
   },
   "id": "36efa222313f558a",
   "execution_count": 26
  },
  {
   "cell_type": "code",
   "outputs": [
    {
     "data": {
      "text/plain": "tensor([[-0.8786],\n        [-0.8786],\n        [-0.8786],\n        [-0.8786],\n        [-0.8786],\n        [-0.8786],\n        [-0.8786],\n        [-0.8786],\n        [-0.8786],\n        [-0.8786]], grad_fn=<AddmmBackward0>)"
     },
     "execution_count": 27,
     "metadata": {},
     "output_type": "execute_result"
    }
   ],
   "source": [
    "# 배치 입력 만들기\n",
    "x = torch.ones(10, 1)\n",
    "linear_model(x)"
   ],
   "metadata": {
    "collapsed": false,
    "ExecuteTime": {
     "end_time": "2024-03-17T06:03:54.667971Z",
     "start_time": "2024-03-17T06:03:54.656225600Z"
    }
   },
   "id": "4b9259303d8042a5",
   "execution_count": 27
  },
  {
   "cell_type": "markdown",
   "source": [
    "# 배치 최적화\n",
    "- 연산량을 충분히 크게 만들어 준비한 자원을 최댛나 활용하기 위함"
   ],
   "metadata": {
    "collapsed": false
   },
   "id": "10613df87a6b19fa"
  },
  {
   "cell_type": "code",
   "outputs": [],
   "source": [
    "t_c = [0.5,  14.0, 15.0, 28.0, 11.0,  8.0,  3.0, -4.0,  6.0, 13.0, 21.0]\n",
    "t_u = [35.7, 55.9, 58.2, 81.9, 56.3, 48.9, 33.9, 21.8, 48.4, 60.4, 68.4]\n",
    "t_c = torch.tensor(t_c)\n",
    "t_u = torch.tensor(t_u)"
   ],
   "metadata": {
    "collapsed": false,
    "ExecuteTime": {
     "end_time": "2024-03-17T06:04:03.489960500Z",
     "start_time": "2024-03-17T06:04:03.477434800Z"
    }
   },
   "id": "e5ddc55440dd67d2",
   "execution_count": 28
  },
  {
   "cell_type": "code",
   "outputs": [
    {
     "data": {
      "text/plain": "(tensor([ 0.5000, 14.0000, 15.0000, 28.0000, 11.0000,  8.0000,  3.0000,\n         -4.0000,  6.0000, 13.0000, 21.0000]),\n torch.Size([11]))"
     },
     "execution_count": 29,
     "metadata": {},
     "output_type": "execute_result"
    }
   ],
   "source": [
    "t_c, t_c.shape"
   ],
   "metadata": {
    "collapsed": false,
    "ExecuteTime": {
     "end_time": "2024-03-17T06:04:03.666475100Z",
     "start_time": "2024-03-17T06:04:03.657034200Z"
    }
   },
   "id": "7277ccc451bc61c2",
   "execution_count": 29
  },
  {
   "cell_type": "code",
   "outputs": [
    {
     "data": {
      "text/plain": "(tensor([35.7000, 55.9000, 58.2000, 81.9000, 56.3000, 48.9000, 33.9000,\n         21.8000, 48.4000, 60.4000, 68.4000]),\n torch.Size([11]))"
     },
     "execution_count": 30,
     "metadata": {},
     "output_type": "execute_result"
    }
   ],
   "source": [
    "t_u, t_u.shape"
   ],
   "metadata": {
    "collapsed": false,
    "ExecuteTime": {
     "end_time": "2024-03-17T06:04:03.985040900Z",
     "start_time": "2024-03-17T06:04:03.975491100Z"
    }
   },
   "id": "e7dedba7f8c11278",
   "execution_count": 30
  },
  {
   "cell_type": "code",
   "outputs": [
    {
     "data": {
      "text/plain": "torch.Size([11, 1])"
     },
     "execution_count": 31,
     "metadata": {},
     "output_type": "execute_result"
    }
   ],
   "source": [
    "t_c = t_c.unsqueeze(1) # 1번 축 차원 추가\n",
    "t_u = t_u.unsqueeze(1) # 1번 축 차원 추가\n",
    "\n",
    "t_u.shape"
   ],
   "metadata": {
    "collapsed": false,
    "ExecuteTime": {
     "end_time": "2024-03-17T06:04:04.143320700Z",
     "start_time": "2024-03-17T06:04:04.126061500Z"
    }
   },
   "id": "937992c5adcdc2c4",
   "execution_count": 31
  },
  {
   "cell_type": "code",
   "outputs": [],
   "source": [
    "linear_model = nn.Linear(1, 1)\n",
    "optimizer = optim.SGD(\n",
    "    linear_model.parameters(), lr=0.01\n",
    ")"
   ],
   "metadata": {
    "collapsed": false,
    "ExecuteTime": {
     "end_time": "2024-03-17T06:04:04.325822600Z",
     "start_time": "2024-03-17T06:04:04.308411400Z"
    }
   },
   "id": "521be2aaa6c73223",
   "execution_count": 32
  },
  {
   "cell_type": "code",
   "outputs": [
    {
     "data": {
      "text/plain": "[Parameter containing:\n tensor([[0.3348]], requires_grad=True),\n Parameter containing:\n tensor([0.4058], requires_grad=True)]"
     },
     "execution_count": 33,
     "metadata": {},
     "output_type": "execute_result"
    }
   ],
   "source": [
    "list(linear_model.parameters())"
   ],
   "metadata": {
    "collapsed": false,
    "ExecuteTime": {
     "end_time": "2024-03-17T06:04:04.497516800Z",
     "start_time": "2024-03-17T06:04:04.467011300Z"
    }
   },
   "id": "4332553461e49ff9",
   "execution_count": 33
  },
  {
   "cell_type": "code",
   "outputs": [],
   "source": [
    "def training_loop(n_epochs, optimizer, model, loss_fn, t_u_train, t_u_val,\n",
    "                  t_c_train, t_c_val):\n",
    "    for epoch in range(1, n_epochs + 1):\n",
    "        t_p_train = model(t_u_train) # <1>\n",
    "        loss_train = loss_fn(t_p_train, t_c_train)\n",
    "\n",
    "        t_p_val = model(t_u_val) # <1>\n",
    "        loss_val = loss_fn(t_p_val, t_c_val)\n",
    "        \n",
    "        optimizer.zero_grad()\n",
    "        loss_train.backward() # <2>\n",
    "        optimizer.step()\n",
    "\n",
    "        if epoch == 1 or epoch % 1000 == 0:\n",
    "            print(f\"Epoch {epoch}, Training loss {loss_train.item():.4f},\"\n",
    "                  f\" Validation loss {loss_val.item():.4f}\")"
   ],
   "metadata": {
    "collapsed": false,
    "ExecuteTime": {
     "end_time": "2024-03-17T06:04:04.678006800Z",
     "start_time": "2024-03-17T06:04:04.656069800Z"
    }
   },
   "id": "5b0965d48ded68e5",
   "execution_count": 34
  },
  {
   "cell_type": "code",
   "outputs": [
    {
     "name": "stdout",
     "output_type": "stream",
     "text": [
      "Epoch 1, Training loss 348.5883, Validation loss 213.8441\n",
      "Epoch 1000, Training loss 3.8586, Validation loss 1.7329\n",
      "Epoch 2000, Training loss 2.8136, Validation loss 3.9626\n",
      "Epoch 3000, Training loss 2.7800, Validation loss 4.5136\n",
      "\n",
      "Parameter containing:\n",
      "tensor([[5.4907]], requires_grad=True)\n",
      "Parameter containing:\n",
      "tensor([-18.3005], requires_grad=True)\n"
     ]
    }
   ],
   "source": [
    "def loss_fn(t_p, t_c):\n",
    "    squared_diffs = (t_p - t_c)**2\n",
    "    return squared_diffs.mean()\n",
    "\n",
    "linear_model = nn.Linear(1, 1) # <1>\n",
    "optimizer = optim.SGD(linear_model.parameters(), lr=1e-2)\n",
    "\n",
    "training_loop(\n",
    "    n_epochs = 3000, \n",
    "    optimizer = optimizer,\n",
    "    model = linear_model,\n",
    "    loss_fn = loss_fn,\n",
    "    t_u_train = t_un_train,\n",
    "    t_u_val = t_un_val, \n",
    "    t_c_train = t_c_train,\n",
    "    t_c_val = t_c_val)\n",
    "\n",
    "print()\n",
    "print(linear_model.weight)\n",
    "print(linear_model.bias)"
   ],
   "metadata": {
    "collapsed": false,
    "ExecuteTime": {
     "end_time": "2024-03-17T06:04:12.457175500Z",
     "start_time": "2024-03-17T06:04:11.332528Z"
    }
   },
   "id": "60366df6a1124e31",
   "execution_count": 35
  },
  {
   "cell_type": "code",
   "outputs": [
    {
     "name": "stdout",
     "output_type": "stream",
     "text": [
      "Epoch 1, Training loss 243.8095, Validation loss 147.7178\n",
      "Epoch 1000, Training loss 3.7076, Validation loss 1.8727\n",
      "Epoch 2000, Training loss 2.8088, Validation loss 4.0095\n",
      "Epoch 3000, Training loss 2.7798, Validation loss 4.5227\n",
      "\n",
      "Parameter containing:\n",
      "tensor([[5.4921]], requires_grad=True)\n",
      "Parameter containing:\n",
      "tensor([-18.3086], requires_grad=True)\n"
     ]
    }
   ],
   "source": [
    "linear_model = nn.Linear(1, 1)\n",
    "optimizer = optim.SGD(linear_model.parameters(), lr=1e-2)\n",
    "\n",
    "training_loop(\n",
    "    n_epochs = 3000, \n",
    "    optimizer = optimizer,\n",
    "    model = linear_model,\n",
    "    loss_fn = nn.MSELoss(), \n",
    "    t_u_train = t_un_train,\n",
    "    t_u_val = t_un_val, \n",
    "    t_c_train = t_c_train,\n",
    "    t_c_val = t_c_val)\n",
    "\n",
    "print()\n",
    "print(linear_model.weight)\n",
    "print(linear_model.bias)"
   ],
   "metadata": {
    "collapsed": false,
    "ExecuteTime": {
     "end_time": "2024-03-17T06:04:46.445861400Z",
     "start_time": "2024-03-17T06:04:45.319435300Z"
    }
   },
   "id": "a2feff89ef953878",
   "execution_count": 36
  },
  {
   "cell_type": "code",
   "outputs": [],
   "source": [],
   "metadata": {
    "collapsed": false
   },
   "id": "6b304b50a3a9adbc"
  }
 ],
 "metadata": {
  "kernelspec": {
   "display_name": "Python 3",
   "language": "python",
   "name": "python3"
  },
  "language_info": {
   "codemirror_mode": {
    "name": "ipython",
    "version": 2
   },
   "file_extension": ".py",
   "mimetype": "text/x-python",
   "name": "python",
   "nbconvert_exporter": "python",
   "pygments_lexer": "ipython2",
   "version": "2.7.6"
  }
 },
 "nbformat": 4,
 "nbformat_minor": 5
}
