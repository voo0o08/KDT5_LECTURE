{
 "cells": [
  {
   "cell_type": "markdown",
   "id": "c44e3af8-c58b-40de-a1ab-561d45920c6d",
   "metadata": {},
   "source": [
    "MNIST 데이터셋을 분류한다\n",
    "\n",
    "Logistic, SGD 사용\n",
    "score로 과대적합 과소적합 확인하고 -> 성능 리포트 뽑기 -> predict\n",
    "\n",
    "분류하고 확인을 위한 데이터를 그림판으로 그려서 predict에 넣어본다"
   ]
  },
  {
   "cell_type": "code",
   "execution_count": 1,
   "id": "17d23f48-a939-4597-83d9-dad67740f287",
   "metadata": {},
   "outputs": [],
   "source": [
    "import numpy as np"
   ]
  },
  {
   "cell_type": "code",
   "execution_count": 2,
   "id": "f98117e0-9fc5-4ec3-acf5-6beb52c1413a",
   "metadata": {},
   "outputs": [
    {
     "name": "stderr",
     "output_type": "stream",
     "text": [
      "C:\\Users\\kdp\\anaconda3\\envs\\EXAM_ML\\lib\\site-packages\\sklearn\\datasets\\_openml.py:1002: FutureWarning: The default value of `parser` will change from `'liac-arff'` to `'auto'` in 1.4. You can set `parser='auto'` to silence this warning. Therefore, an `ImportError` will be raised from 1.4 if the dataset is dense and pandas is not installed. Note that the pandas parser may return different data types. See the Notes Section in fetch_openml's API doc for details.\n",
      "  warn(\n"
     ]
    }
   ],
   "source": [
    "import pandas as pd\n",
    "from sklearn.datasets import fetch_openml\n",
    "\n",
    "mnist = fetch_openml(\"mnist_784\", as_frame = False)\n",
    "# MNIST 데이터는 이미지라서 데이터 프레임으로 할 필요 X"
   ]
  },
  {
   "cell_type": "code",
   "execution_count": 3,
   "id": "6c272206-3456-479a-8255-e58e4e6c42a4",
   "metadata": {},
   "outputs": [
    {
     "data": {
      "text/plain": [
       "sklearn.utils._bunch.Bunch"
      ]
     },
     "execution_count": 3,
     "metadata": {},
     "output_type": "execute_result"
    }
   ],
   "source": [
    "type(mnist)"
   ]
  },
  {
   "cell_type": "markdown",
   "id": "4de1633f-88df-4654-83c3-ed5de9dc95cd",
   "metadata": {},
   "source": [
    "bunch 객체의 속성\n",
    "- DESCR : 데이터셋 설명\n",
    "- data : 입력 데이터, 일반적으로 2D numpy 배열\n",
    "- target : 레이블, 일반적으로 1D numpy 배열"
   ]
  },
  {
   "cell_type": "code",
   "execution_count": 4,
   "id": "6b9918a7-1135-493b-8aaf-3952f020d20c",
   "metadata": {},
   "outputs": [
    {
     "data": {
      "text/plain": [
       "array([[0., 0., 0., ..., 0., 0., 0.],\n",
       "       [0., 0., 0., ..., 0., 0., 0.],\n",
       "       [0., 0., 0., ..., 0., 0., 0.],\n",
       "       ...,\n",
       "       [0., 0., 0., ..., 0., 0., 0.],\n",
       "       [0., 0., 0., ..., 0., 0., 0.],\n",
       "       [0., 0., 0., ..., 0., 0., 0.]])"
      ]
     },
     "execution_count": 4,
     "metadata": {},
     "output_type": "execute_result"
    }
   ],
   "source": [
    "X = mnist.data\n",
    "X # 이미지들이 우르르르 들어가 있는 것"
   ]
  },
  {
   "cell_type": "code",
   "execution_count": 5,
   "id": "ef1d0a2a-4905-4721-9023-3472fbe8da16",
   "metadata": {},
   "outputs": [
    {
     "data": {
      "text/plain": [
       "array(['5', '0', '4', ..., '4', '5', '6'], dtype=object)"
      ]
     },
     "execution_count": 5,
     "metadata": {},
     "output_type": "execute_result"
    }
   ],
   "source": [
    "y = mnist.target\n",
    "y"
   ]
  },
  {
   "cell_type": "code",
   "execution_count": 6,
   "id": "4e357621-bb91-42cb-86af-d19bbdb253d6",
   "metadata": {},
   "outputs": [
    {
     "data": {
      "text/plain": [
       "'\\nimport cv2\\ncv2.imshow(\"test_image\", X[0].reshape(28, 28))\\ncv2.waitKey(0)\\ncv2.destroyAllWindows()\\n'"
      ]
     },
     "execution_count": 6,
     "metadata": {},
     "output_type": "execute_result"
    }
   ],
   "source": [
    "'''\n",
    "import cv2\n",
    "cv2.imshow(\"test_image\", X[0].reshape(28, 28))\n",
    "cv2.waitKey(0)\n",
    "cv2.destroyAllWindows()\n",
    "'''"
   ]
  },
  {
   "cell_type": "code",
   "execution_count": 7,
   "id": "6e0713cf-442d-4bf6-8bb8-28dba7c2fc76",
   "metadata": {},
   "outputs": [
    {
     "data": {
      "image/png": "[encoded data removed]",
      "text/plain": [
       "<Figure size 640x480 with 1 Axes>"
      ]
     },
     "metadata": {},
     "output_type": "display_data"
    }
   ],
   "source": [
    "import matplotlib.pyplot as plt\n",
    "\n",
    "def plot_digit(image_data):\n",
    "    image = image_data.reshape(28, 28)\n",
    "    plt.imshow(image, cmap=\"binary\")\n",
    "    plt.axis(\"off\")\n",
    "\n",
    "some_digit = X[5]\n",
    "plot_digit(some_digit)\n",
    "plt.show()"
   ]
  },
  {
   "cell_type": "code",
   "execution_count": 8,
   "id": "b2fee795-ce1e-4ba0-9bf1-36ca5c6c2605",
   "metadata": {},
   "outputs": [
    {
     "data": {
      "text/plain": [
       "'2'"
      ]
     },
     "execution_count": 8,
     "metadata": {},
     "output_type": "execute_result"
    }
   ],
   "source": [
    "y[5]"
   ]
  },
  {
   "cell_type": "code",
   "execution_count": 29,
   "id": "54dad645-d24a-4dea-8fa2-c5ee41773aa3",
   "metadata": {},
   "outputs": [],
   "source": [
    "# 내가 그린 데이터도 확인하기 \n",
    "import cv2\n",
    "my_num = cv2.imread(\"../data/my_num.png\", cv2.IMREAD_GRAYSCALE)\n",
    "cv2.imshow(\"my_num\", my_num)\n",
    "cv2.waitKey(0)\n",
    "cv2.destroyAllWindows()\n",
    "my_num = cv2.resize(my_num, (28, 28))\n",
    "\n",
    "my_num = my_num.ravel()\n",
    "my_num = abs(my_num.astype(\"int\") - 255) # 이미지는 흰부분이 255라서 "
   ]
  },
  {
   "cell_type": "code",
   "execution_count": 10,
   "id": "52987800-18fc-4771-a850-13f231c55505",
   "metadata": {},
   "outputs": [],
   "source": [
    "# MNIST 데이터는 이미 train과 test를 일정 구간으로 나누어 둔 데이터\n",
    "X_train = X[:60000]\n",
    "X_test = X[60000:]\n",
    "y_train = y[:60000]\n",
    "y_test = y[60000:]"
   ]
  },
  {
   "cell_type": "markdown",
   "id": "0c5134e8-4bcf-49ed-a46d-e794ddcd1102",
   "metadata": {},
   "source": [
    "# SGDClassifier : partial_fit으로 하기"
   ]
  },
  {
   "cell_type": "code",
   "execution_count": 11,
   "id": "89cf16bb-7613-4269-ab30-2d00fee86e5d",
   "metadata": {},
   "outputs": [],
   "source": [
    "from sklearn.linear_model import SGDClassifier \n",
    "# 확률적 경사하강법, \n",
    "# -한 번에 하나씩 훈련 샘플 독립적 처리 가능\n",
    "# -온라인 학습에 적합"
   ]
  },
  {
   "cell_type": "code",
   "execution_count": 12,
   "id": "b15ad7d9-0024-44a4-9a66-b5452dbfe553",
   "metadata": {},
   "outputs": [
    {
     "data": {
      "text/plain": [
       "['1', '9', '6', '8', '3', '0', '4', '2', '5', '7']"
      ]
     },
     "execution_count": 12,
     "metadata": {},
     "output_type": "execute_result"
    }
   ],
   "source": [
    "list(set(y_train))"
   ]
  },
  {
   "cell_type": "code",
   "execution_count": 13,
   "id": "427e24fa-a7b6-441e-b0bb-e1aae5c3a616",
   "metadata": {},
   "outputs": [],
   "source": [
    "sgd_model = SGDClassifier(loss = \"log_loss\")"
   ]
  },
  {
   "cell_type": "code",
   "execution_count": 14,
   "id": "052cc9f9-bd6e-43a2-ba49-a296aa43e04a",
   "metadata": {
    "scrolled": true
   },
   "outputs": [],
   "source": [
    "train_score_list = []\n",
    "test_score_list = []\n",
    "for n in range(1, 60):\n",
    "    sgd_model.partial_fit(X_train, y_train, classes=list(set(y_train)))\n",
    "    train_score = sgd_model.score(X_train, y_train)\n",
    "    test_score = sgd_model.score(X_test, y_test)\n",
    "    train_score_list.append(train_score)\n",
    "    test_score_list.append(test_score)\n",
    "    # print(f\"[{n}번 학습] [기본 SGD] 학습 점수 : {train_score2}, 테스트 점수 : {test_score2}\")\n",
    "    if train_score > 0.89 and  test_score > 0.89:\n",
    "        break"
   ]
  },
  {
   "cell_type": "code",
   "execution_count": 15,
   "id": "24fd21d7-2abf-4fc5-a91e-01d00a79efd5",
   "metadata": {},
   "outputs": [
    {
     "data": {
      "image/png": "[encoded data removed]",
      "text/plain": [
       "<Figure size 640x480 with 1 Axes>"
      ]
     },
     "metadata": {},
     "output_type": "display_data"
    }
   ],
   "source": [
    "# 시각화 \n",
    "import matplotlib.pyplot as plt\n",
    "plt.plot(train_score_list, \"b-\", label = \"Train\")\n",
    "plt.plot(test_score_list,\"r-\", label = \"Test\")\n",
    "plt.legend()\n",
    "plt.show()"
   ]
  },
  {
   "cell_type": "code",
   "execution_count": 16,
   "id": "2b24a34a-7248-4896-9e69-4f1206bfd009",
   "metadata": {},
   "outputs": [
    {
     "name": "stdout",
     "output_type": "stream",
     "text": [
      "train_score : 0.8914333333333333, test_score : 0.8923\n"
     ]
    }
   ],
   "source": [
    "print(f\"train_score : {train_score}, test_score : {test_score}\")"
   ]
  },
  {
   "cell_type": "code",
   "execution_count": 17,
   "id": "b2473256-a555-456c-99a9-291be5ff5083",
   "metadata": {},
   "outputs": [],
   "source": [
    "sgd_pred = sgd_model.predict(X_test) # 학습 시킬 때 2차원이었으니까 []감싸주기"
   ]
  },
  {
   "cell_type": "code",
   "execution_count": 18,
   "id": "99a689cd-ee3e-4add-a47a-af37bed7b100",
   "metadata": {},
   "outputs": [
    {
     "name": "stdout",
     "output_type": "stream",
     "text": [
      "              precision    recall  f1-score   support\n",
      "\n",
      "           0       0.97      0.95      0.96       980\n",
      "           1       0.98      0.95      0.97      1135\n",
      "           2       0.89      0.89      0.89      1032\n",
      "           3       0.81      0.91      0.86      1010\n",
      "           4       0.92      0.90      0.91       982\n",
      "           5       0.90      0.74      0.82       892\n",
      "           6       0.93      0.93      0.93       958\n",
      "           7       0.93      0.89      0.91      1028\n",
      "           8       0.73      0.88      0.80       974\n",
      "           9       0.90      0.85      0.87      1009\n",
      "\n",
      "    accuracy                           0.89     10000\n",
      "   macro avg       0.90      0.89      0.89     10000\n",
      "weighted avg       0.90      0.89      0.89     10000\n",
      "\n"
     ]
    }
   ],
   "source": [
    "from sklearn.metrics import accuracy_score, classification_report, f1_score, recall_score, precision_score\n",
    "print(classification_report(y_test, sgd_pred))"
   ]
  },
  {
   "cell_type": "code",
   "execution_count": 30,
   "id": "69eb68e8-400f-4540-9c59-8a31ee3cec13",
   "metadata": {},
   "outputs": [
    {
     "data": {
      "text/plain": [
       "array(['2'], dtype='<U1')"
      ]
     },
     "execution_count": 30,
     "metadata": {},
     "output_type": "execute_result"
    }
   ],
   "source": [
    "sgd_model.predict([my_num])"
   ]
  },
  {
   "cell_type": "code",
   "execution_count": 31,
   "id": "f49348b3-3075-438f-83c7-1814156ddc99",
   "metadata": {},
   "outputs": [
    {
     "data": {
      "image/png": "[encoded data removed]",
      "text/plain": [
       "<Figure size 640x480 with 1 Axes>"
      ]
     },
     "metadata": {},
     "output_type": "display_data"
    }
   ],
   "source": [
    "plot_digit(my_num)\n",
    "plt.show()"
   ]
  },
  {
   "cell_type": "markdown",
   "id": "f2a6cf5c-e4db-4331-a0bf-277ef35d1438",
   "metadata": {},
   "source": [
    "# LogisticRegression"
   ]
  },
  {
   "cell_type": "code",
   "execution_count": 21,
   "id": "a1f470f8-6546-4451-8216-4ee0f3d75c89",
   "metadata": {},
   "outputs": [],
   "source": [
    "from sklearn.linear_model import LogisticRegression"
   ]
  },
  {
   "cell_type": "code",
   "execution_count": 22,
   "id": "8a2ab03a-5869-4cfc-9b0d-acaf0b34db3e",
   "metadata": {},
   "outputs": [
    {
     "name": "stderr",
     "output_type": "stream",
     "text": [
      "C:\\Users\\kdp\\anaconda3\\envs\\EXAM_ML\\lib\\site-packages\\sklearn\\linear_model\\_logistic.py:460: ConvergenceWarning: lbfgs failed to converge (status=1):\n",
      "STOP: TOTAL NO. of ITERATIONS REACHED LIMIT.\n",
      "\n",
      "Increase the number of iterations (max_iter) or scale the data as shown in:\n",
      "    https://scikit-learn.org/stable/modules/preprocessing.html\n",
      "Please also refer to the documentation for alternative solver options:\n",
      "    https://scikit-learn.org/stable/modules/linear_model.html#logistic-regression\n",
      "  n_iter_i = _check_optimize_result(\n"
     ]
    },
    {
     "data": {
      "text/html": [
       "<style>#sk-container-id-1 {color: black;}#sk-container-id-1 pre{padding: 0;}#sk-container-id-1 div.sk-toggleable {background-color: white;}#sk-container-id-1 label.sk-toggleable__label {cursor: pointer;display: block;width: 100%;margin-bottom: 0;padding: 0.3em;box-sizing: border-box;text-align: center;}#sk-container-id-1 label.sk-toggleable__label-arrow:before {content: \"▸\";float: left;margin-right: 0.25em;color: #696969;}#sk-container-id-1 label.sk-toggleable__label-arrow:hover:before {color: black;}#sk-container-id-1 div.sk-estimator:hover label.sk-toggleable__label-arrow:before {color: black;}#sk-container-id-1 div.sk-toggleable__content {max-height: 0;max-width: 0;overflow: hidden;text-align: left;background-color: #f0f8ff;}#sk-container-id-1 div.sk-toggleable__content pre {margin: 0.2em;color: black;border-radius: 0.25em;background-color: #f0f8ff;}#sk-container-id-1 input.sk-toggleable__control:checked~div.sk-toggleable__content {max-height: 200px;max-width: 100%;overflow: auto;}#sk-container-id-1 input.sk-toggleable__control:checked~label.sk-toggleable__label-arrow:before {content: \"▾\";}#sk-container-id-1 div.sk-estimator input.sk-toggleable__control:checked~label.sk-toggleable__label {background-color: #d4ebff;}#sk-container-id-1 div.sk-label input.sk-toggleable__control:checked~label.sk-toggleable__label {background-color: #d4ebff;}#sk-container-id-1 input.sk-hidden--visually {border: 0;clip: rect(1px 1px 1px 1px);clip: rect(1px, 1px, 1px, 1px);height: 1px;margin: -1px;overflow: hidden;padding: 0;position: absolute;width: 1px;}#sk-container-id-1 div.sk-estimator {font-family: monospace;background-color: #f0f8ff;border: 1px dotted black;border-radius: 0.25em;box-sizing: border-box;margin-bottom: 0.5em;}#sk-container-id-1 div.sk-estimator:hover {background-color: #d4ebff;}#sk-container-id-1 div.sk-parallel-item::after {content: \"\";width: 100%;border-bottom: 1px solid gray;flex-grow: 1;}#sk-container-id-1 div.sk-label:hover label.sk-toggleable__label {background-color: #d4ebff;}#sk-container-id-1 div.sk-serial::before {content: \"\";position: absolute;border-left: 1px solid gray;box-sizing: border-box;top: 0;bottom: 0;left: 50%;z-index: 0;}#sk-container-id-1 div.sk-serial {display: flex;flex-direction: column;align-items: center;background-color: white;padding-right: 0.2em;padding-left: 0.2em;position: relative;}#sk-container-id-1 div.sk-item {position: relative;z-index: 1;}#sk-container-id-1 div.sk-parallel {display: flex;align-items: stretch;justify-content: center;background-color: white;position: relative;}#sk-container-id-1 div.sk-item::before, #sk-container-id-1 div.sk-parallel-item::before {content: \"\";position: absolute;border-left: 1px solid gray;box-sizing: border-box;top: 0;bottom: 0;left: 50%;z-index: -1;}#sk-container-id-1 div.sk-parallel-item {display: flex;flex-direction: column;z-index: 1;position: relative;background-color: white;}#sk-container-id-1 div.sk-parallel-item:first-child::after {align-self: flex-end;width: 50%;}#sk-container-id-1 div.sk-parallel-item:last-child::after {align-self: flex-start;width: 50%;}#sk-container-id-1 div.sk-parallel-item:only-child::after {width: 0;}#sk-container-id-1 div.sk-dashed-wrapped {border: 1px dashed gray;margin: 0 0.4em 0.5em 0.4em;box-sizing: border-box;padding-bottom: 0.4em;background-color: white;}#sk-container-id-1 div.sk-label label {font-family: monospace;font-weight: bold;display: inline-block;line-height: 1.2em;}#sk-container-id-1 div.sk-label-container {text-align: center;}#sk-container-id-1 div.sk-container {/* jupyter's `normalize.less` sets `[hidden] { display: none; }` but bootstrap.min.css set `[hidden] { display: none !important; }` so we also need the `!important` here to be able to override the default hidden behavior on the sphinx rendered scikit-learn.org. See: https://github.com/scikit-learn/scikit-learn/issues/21755 */display: inline-block !important;position: relative;}#sk-container-id-1 div.sk-text-repr-fallback {display: none;}</style><div id=\"sk-container-id-1\" class=\"sk-top-container\"><div class=\"sk-text-repr-fallback\"><pre>LogisticRegression(max_iter=3000, random_state=42)</pre><b>In a Jupyter environment, please rerun this cell to show the HTML representation or trust the notebook. <br />On GitHub, the HTML representation is unable to render, please try loading this page with nbviewer.org.</b></div><div class=\"sk-container\" hidden><div class=\"sk-item\"><div class=\"sk-estimator sk-toggleable\"><input class=\"sk-toggleable__control sk-hidden--visually\" id=\"sk-estimator-id-1\" type=\"checkbox\" checked><label for=\"sk-estimator-id-1\" class=\"sk-toggleable__label sk-toggleable__label-arrow\">LogisticRegression</label><div class=\"sk-toggleable__content\"><pre>LogisticRegression(max_iter=3000, random_state=42)</pre></div></div></div></div></div>"
      ],
      "text/plain": [
       "LogisticRegression(max_iter=3000, random_state=42)"
      ]
     },
     "execution_count": 22,
     "metadata": {},
     "output_type": "execute_result"
    }
   ],
   "source": [
    "LR_model = LogisticRegression(random_state=42, max_iter=3000)\n",
    "LR_model.fit(X_train, y_train)"
   ]
  },
  {
   "cell_type": "code",
   "execution_count": 26,
   "id": "274760db-8a13-4ca6-bb8b-3f089a8b9d3f",
   "metadata": {},
   "outputs": [],
   "source": [
    "LR_train_score = LR_model.score(X_train, y_train)\n",
    "LR_test_score = LR_model.score(X_test, y_test)"
   ]
  },
  {
   "cell_type": "code",
   "execution_count": 27,
   "id": "421e3b94-02d1-4509-a1cd-46140fcb36f9",
   "metadata": {},
   "outputs": [
    {
     "name": "stdout",
     "output_type": "stream",
     "text": [
      "train_score : 0.94305, test_score : 0.919\n"
     ]
    }
   ],
   "source": [
    "print(f\"train_score : {LR_train_score}, test_score : {LR_test_score}\")"
   ]
  },
  {
   "cell_type": "code",
   "execution_count": 32,
   "id": "39b99998-43fc-4fec-bae2-e89d71e1057c",
   "metadata": {},
   "outputs": [
    {
     "data": {
      "text/plain": [
       "array(['2'], dtype=object)"
      ]
     },
     "execution_count": 32,
     "metadata": {},
     "output_type": "execute_result"
    }
   ],
   "source": [
    "LR_model.predict([my_num])"
   ]
  },
  {
   "cell_type": "code",
   "execution_count": null,
   "id": "e1cb6ba2-fadc-43e1-bab8-abc0396b5d2d",
   "metadata": {},
   "outputs": [],
   "source": []
  }
 ],
 "metadata": {
  "kernelspec": {
   "display_name": "Python 3 (ipykernel)",
   "language": "python",
   "name": "python3"
  },
  "language_info": {
   "codemirror_mode": {
    "name": "ipython",
    "version": 3
   },
   "file_extension": ".py",
   "mimetype": "text/x-python",
   "name": "python",
   "nbconvert_exporter": "python",
   "pygments_lexer": "ipython3",
   "version": "3.9.18"
  }
 },
 "nbformat": 4,
 "nbformat_minor": 5
}
