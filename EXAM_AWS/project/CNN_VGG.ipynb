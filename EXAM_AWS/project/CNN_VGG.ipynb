{
 "cells": [
  {
   "cell_type": "markdown",
   "id": "35b0beaa710e4036",
   "metadata": {
    "collapsed": false
   },
   "source": [
    "# 다중 분류 지화 \n",
    "- 프로젝트에 사용된 파일"
   ]
  },
  {
   "cell_type": "code",
   "execution_count": 40,
   "id": "9194ba7419847ba8",
   "metadata": {
    "ExecuteTime": {
     "end_time": "2024-04-04T12:13:00.144601400Z",
     "start_time": "2024-04-04T12:13:00.045768600Z"
    },
    "collapsed": false
   },
   "outputs": [],
   "source": [
    "# 모듈 로딩\n",
    "import pandas as pd\n",
    "import numpy as np\n",
    "\n",
    "from PIL import Image\n",
    "import torchvision.transforms as transforms\n",
    "from torch.utils.data import Dataset, DataLoader, random_split\n",
    "\n",
    "\n",
    "import torch\n",
    "import torch.nn as nn\n",
    "import torch.nn.functional as F\n",
    "import torch.optim as optim\n",
    "import torch.nn.init as init\n",
    "import matplotlib.pyplot as plt"
   ]
  },
  {
   "cell_type": "markdown",
   "id": "2e665d5a2538f343",
   "metadata": {
    "collapsed": false
   },
   "source": [
    "# 데이터 불러오기"
   ]
  },
  {
   "cell_type": "code",
   "execution_count": 41,
   "id": "56ee1fd646844f7b",
   "metadata": {
    "ExecuteTime": {
     "end_time": "2024-04-04T12:13:00.166742400Z",
     "start_time": "2024-04-04T12:13:00.149624100Z"
    },
    "collapsed": false
   },
   "outputs": [],
   "source": [
    "from torchvision.datasets import ImageFolder \n",
    "\n",
    "train_root = \"./data/asl_dataset\" # 해당 경로 내에 있는 파일명이 곧 label이 되는 것\n",
    "\n",
    "mean = [0.485, 0.456, 0.406]\n",
    "std = [0.229, 0.224, 0.225]\n",
    "\n",
    "preprocessing = transforms.Compose([\n",
    "    transforms.Resize((100, 100), interpolation=transforms.InterpolationMode.BILINEAR), # 1. resize\n",
    "    # transforms.CenterCrop(224), # 2. 중앙크롭\n",
    "    transforms.ToTensor(),  # 3. 값의 크기를 0~1로\n",
    "    transforms.Normalize(mean=mean, std=std) # 4. normalized\n",
    "])\n",
    "\n",
    "imgDS = ImageFolder(root=train_root, transform=preprocessing)"
   ]
  },
  {
   "cell_type": "code",
   "execution_count": 42,
   "id": "8aa94dba639469bb",
   "metadata": {
    "ExecuteTime": {
     "end_time": "2024-04-04T12:13:00.217507300Z",
     "start_time": "2024-04-04T12:13:00.175609400Z"
    },
    "collapsed": false
   },
   "outputs": [
    {
     "data": {
      "text/plain": [
       "('./data/asl_dataset\\\\z\\\\hand5_z_dif_seg_5_cropped.jpeg', 35)"
      ]
     },
     "execution_count": 42,
     "metadata": {},
     "output_type": "execute_result"
    }
   ],
   "source": [
    "imgDS.samples[-1]"
   ]
  },
  {
   "cell_type": "markdown",
   "id": "bca4528fe0e93b19",
   "metadata": {
    "collapsed": false
   },
   "source": [
    "## 데이터 셋이 잘 읽혔는지 확인"
   ]
  },
  {
   "cell_type": "code",
   "execution_count": 43,
   "id": "60dc1e7f",
   "metadata": {},
   "outputs": [
    {
     "name": "stdout",
     "output_type": "stream",
     "text": [
      "class 개수 => 36\n",
      "['0', '1', '2', '3', '4', '5', '6', '7', '8', '9', 'a', 'b', 'c', 'd', 'e', 'f', 'g', 'h', 'i', 'j', 'k', 'l', 'm', 'n', 'o', 'p', 'q', 'r', 's', 't', 'u', 'v', 'w', 'x', 'y', 'z']\n"
     ]
    }
   ],
   "source": [
    "class_num = len(imgDS.classes)\n",
    "\n",
    "print(\"class 개수 =>\",class_num)\n",
    "print(imgDS.classes)"
   ]
  },
  {
   "cell_type": "code",
   "execution_count": 44,
   "id": "a01dbb37",
   "metadata": {},
   "outputs": [
    {
     "name": "stdout",
     "output_type": "stream",
     "text": [
      "{0: '0', 1: '1', 2: '2', 3: '3', 4: '4', 5: '5', 6: '6', 7: '7', 8: '8', 9: '9', 10: 'a', 11: 'b', 12: 'c', 13: 'd', 14: 'e', 15: 'f', 16: 'g', 17: 'h', 18: 'i', 19: 'j', 20: 'k', 21: 'l', 22: 'm', 23: 'n', 24: 'o', 25: 'p', 26: 'q', 27: 'r', 28: 's', 29: 't', 30: 'u', 31: 'v', 32: 'w', 33: 'x', 34: 'y', 35: 'z'}\n"
     ]
    }
   ],
   "source": [
    "import pickle\n",
    "\n",
    "# class_to_idx 딕셔너리를 가져옵니다.\n",
    "class_to_idx = imgDS.class_to_idx\n",
    "idx_to_class = {v: k for k, v in class_to_idx.items()} # key value위치 바꿈 \n",
    "\n",
    "# class_to_idx 딕셔너리를 파일로 저장합니다.\n",
    "with open('class_to_idx.pickle', 'wb') as handle:\n",
    "    pickle.dump(idx_to_class, handle, protocol=pickle.HIGHEST_PROTOCOL)\n",
    "\n",
    "# 저장된 class_to_idx 딕셔너리를 불러옵니다.\n",
    "with open('class_to_idx.pickle', 'rb') as handle:\n",
    "    loaded_class_to_idx = pickle.load(handle)\n",
    "\n",
    "print(loaded_class_to_idx)"
   ]
  },
  {
   "cell_type": "code",
   "execution_count": 45,
   "id": "10c0973e",
   "metadata": {},
   "outputs": [
    {
     "data": {
      "text/plain": [
       "(['0',\n",
       "  '1',\n",
       "  '2',\n",
       "  '3',\n",
       "  '4',\n",
       "  '5',\n",
       "  '6',\n",
       "  '7',\n",
       "  '8',\n",
       "  '9',\n",
       "  'a',\n",
       "  'b',\n",
       "  'c',\n",
       "  'd',\n",
       "  'e',\n",
       "  'f',\n",
       "  'g',\n",
       "  'h',\n",
       "  'i',\n",
       "  'j',\n",
       "  'k',\n",
       "  'l',\n",
       "  'm',\n",
       "  'n',\n",
       "  'o',\n",
       "  'p',\n",
       "  'q',\n",
       "  'r',\n",
       "  's',\n",
       "  't',\n",
       "  'u',\n",
       "  'v',\n",
       "  'w',\n",
       "  'x',\n",
       "  'y',\n",
       "  'z'],\n",
       " {'0': 0,\n",
       "  '1': 1,\n",
       "  '2': 2,\n",
       "  '3': 3,\n",
       "  '4': 4,\n",
       "  '5': 5,\n",
       "  '6': 6,\n",
       "  '7': 7,\n",
       "  '8': 8,\n",
       "  '9': 9,\n",
       "  'a': 10,\n",
       "  'b': 11,\n",
       "  'c': 12,\n",
       "  'd': 13,\n",
       "  'e': 14,\n",
       "  'f': 15,\n",
       "  'g': 16,\n",
       "  'h': 17,\n",
       "  'i': 18,\n",
       "  'j': 19,\n",
       "  'k': 20,\n",
       "  'l': 21,\n",
       "  'm': 22,\n",
       "  'n': 23,\n",
       "  'o': 24,\n",
       "  'p': 25,\n",
       "  'q': 26,\n",
       "  'r': 27,\n",
       "  's': 28,\n",
       "  't': 29,\n",
       "  'u': 30,\n",
       "  'v': 31,\n",
       "  'w': 32,\n",
       "  'x': 33,\n",
       "  'y': 34,\n",
       "  'z': 35})"
      ]
     },
     "execution_count": 45,
     "metadata": {},
     "output_type": "execute_result"
    }
   ],
   "source": [
    "imgDS.classes, imgDS.class_to_idx"
   ]
  },
  {
   "cell_type": "code",
   "execution_count": 46,
   "id": "5c2c4158",
   "metadata": {},
   "outputs": [],
   "source": [
    "from sklearn.model_selection import train_test_split\n",
    "\n",
    "# 이미지 데이터와 레이블을 가져옴\n",
    "images = [img for img, _ in imgDS]\n",
    "labels = [label for _, label in imgDS]\n",
    "\n",
    "# Stratified sampling을 사용하여 train, validation, test 세트로 분할\n",
    "train_images, val_images, train_labels, val_labels = train_test_split(images, labels, test_size=0.1, stratify=labels)\n",
    "# val_images, test_images, val_labels, test_labels = train_test_split(valtest_images, valtest_labels, test_size=0.5, stratify=valtest_labels)"
   ]
  },
  {
   "cell_type": "code",
   "execution_count": 47,
   "id": "4f433776",
   "metadata": {},
   "outputs": [],
   "source": [
    "# split 결과 비율 확인 \n",
    "# print(np.unique(np.array(train_labels),  return_counts=True))\n",
    "# print(np.unique(np.array(val_labels),  return_counts=True))\n",
    "# print(np.unique(np.array(test_labels),  return_counts=True))"
   ]
  },
  {
   "cell_type": "code",
   "execution_count": 48,
   "id": "83c26c12",
   "metadata": {},
   "outputs": [],
   "source": [
    "class CustomDataset(Dataset): \n",
    "  def __init__(self, data, label):\n",
    "      self.data = data\n",
    "      self.label = torch.LongTensor(label)\n",
    "\n",
    "  def __len__(self):\n",
    "      return len(self.data)\n",
    "  \n",
    "  def __getitem__(self, idx): \n",
    "      x = self.data[idx]\n",
    "      y = self.label[idx]\n",
    "      return x, y"
   ]
  },
  {
   "cell_type": "code",
   "execution_count": 49,
   "id": "43e410d8",
   "metadata": {},
   "outputs": [
    {
     "data": {
      "text/plain": [
       "(2515, 252)"
      ]
     },
     "execution_count": 49,
     "metadata": {},
     "output_type": "execute_result"
    }
   ],
   "source": [
    "len(images), len(val_images)"
   ]
  },
  {
   "cell_type": "code",
   "execution_count": 50,
   "id": "e345d4e1",
   "metadata": {},
   "outputs": [],
   "source": [
    "# # 데이터셋 생성\n",
    "# train_dataset = CustomDataset(images, labels)\n",
    "val_dataset = CustomDataset(val_images, val_labels)\n",
    "# # test_dataset = CustomDataset(test_images, test_labels)\n",
    "\n",
    "# DataLoader 생성\n",
    "train_loader = DataLoader(imgDS, batch_size=len(images), shuffle=True) #일단 배치없이 가?\n",
    "val_loader = DataLoader(val_dataset, batch_size=len(val_images), shuffle=True)\n",
    "# test_loader = DataLoader(test_dataset, batch_size=40)"
   ]
  },
  {
   "cell_type": "code",
   "execution_count": 51,
   "id": "c3ae2dc0",
   "metadata": {},
   "outputs": [
    {
     "name": "stdout",
     "output_type": "stream",
     "text": [
      "Batch 0\n",
      "Data shape: torch.Size([2515, 3, 100, 100])\n",
      "Labels: tensor([70, 70, 70, 70, 70, 70, 70, 70, 70, 70, 70, 70, 70, 70, 70, 70, 70, 70,\n",
      "        70, 70, 70, 70, 70, 70, 70, 70, 70, 70, 70, 65, 70, 70, 70, 70, 70, 70])\n",
      "\n"
     ]
    }
   ],
   "source": [
    "for batch_idx, (data, labels) in enumerate(train_loader):\n",
    "    print('Batch', batch_idx)\n",
    "    print('Data shape:', data.shape)\n",
    "    print('Labels:', torch.bincount(labels))\n",
    "    print()"
   ]
  },
  {
   "cell_type": "code",
   "execution_count": 52,
   "id": "c1ac365d",
   "metadata": {},
   "outputs": [
    {
     "name": "stdout",
     "output_type": "stream",
     "text": [
      "Batch 0\n",
      "Data shape: torch.Size([252, 3, 100, 100])\n",
      "Labels: tensor([7, 7, 7, 7, 7, 7, 7, 7, 7, 7, 7, 7, 7, 7, 7, 7, 7, 7, 7, 7, 7, 7, 7, 7,\n",
      "        7, 7, 7, 7, 7, 7, 7, 7, 7, 7, 7, 7])\n",
      "\n"
     ]
    }
   ],
   "source": [
    "for batch_idx, (data, labels) in enumerate(val_loader):\n",
    "    print('Batch', batch_idx)\n",
    "    print('Data shape:', data.shape)\n",
    "    print('Labels:', torch.bincount(labels))\n",
    "    print()"
   ]
  },
  {
   "cell_type": "markdown",
   "id": "c597ce825f4d8c60",
   "metadata": {
    "collapsed": false
   },
   "source": [
    "# 전이학습 VGG model 불러오기"
   ]
  },
  {
   "cell_type": "code",
   "execution_count": 53,
   "id": "f343160eda89d149",
   "metadata": {
    "ExecuteTime": {
     "end_time": "2024-04-04T12:13:00.489330300Z",
     "start_time": "2024-04-04T12:13:00.461047900Z"
    },
    "collapsed": false
   },
   "outputs": [
    {
     "name": "stdout",
     "output_type": "stream",
     "text": [
      "Using PyTorch version: 2.2.2  Device: cpu\n"
     ]
    }
   ],
   "source": [
    "### ===> 딥러닝 모델을 설계할 때 활용하는 장비 확인\n",
    "if torch.cuda.is_available():\n",
    "    DEVICE = torch.device('cuda')\n",
    "else:\n",
    "    DEVICE = torch.device('cpu')\n",
    "    \n",
    "print('Using PyTorch version:', torch.__version__, ' Device:', DEVICE)"
   ]
  },
  {
   "cell_type": "code",
   "execution_count": 54,
   "id": "b15a9b47ccfd2140",
   "metadata": {
    "ExecuteTime": {
     "end_time": "2024-04-04T12:13:01.657985900Z",
     "start_time": "2024-04-04T12:13:00.493541700Z"
    },
    "collapsed": false
   },
   "outputs": [
    {
     "name": "stderr",
     "output_type": "stream",
     "text": [
      "c:\\Users\\kdp\\anaconda3\\envs\\TORCH_NLP38\\lib\\site-packages\\torchvision\\models\\_utils.py:208: UserWarning: The parameter 'pretrained' is deprecated since 0.13 and may be removed in the future, please use 'weights' instead.\n",
      "  warnings.warn(\n",
      "c:\\Users\\kdp\\anaconda3\\envs\\TORCH_NLP38\\lib\\site-packages\\torchvision\\models\\_utils.py:223: UserWarning: Arguments other than a weight enum or `None` for 'weights' are deprecated since 0.13 and may be removed in the future. The current behavior is equivalent to passing `weights=VGG16_Weights.IMAGENET1K_V1`. You can also use `weights=VGG16_Weights.DEFAULT` to get the most up-to-date weights.\n",
      "  warnings.warn(msg)\n"
     ]
    }
   ],
   "source": [
    "# 사전 학습된 모델 로딩\n",
    "import torchvision.models as models # 다양한모델패키지\n",
    "model = models.vgg16(pretrained=True)\n",
    "\n",
    "# 사전 훈련된 모델의 파라미터 학습 유무 설정 함수\n",
    "def set_parameter_requires_grad(model, feature_extract = True):\n",
    "    if feature_extract:\n",
    "        for param in model.parameters():\n",
    "            param.requires_grad = False # 학습하는 것을 방지\n",
    "\n",
    "set_parameter_requires_grad(model) # 함수 호출"
   ]
  },
  {
   "cell_type": "code",
   "execution_count": 55,
   "id": "314cb3aab41e2842",
   "metadata": {
    "ExecuteTime": {
     "end_time": "2024-04-04T12:13:01.708166300Z",
     "start_time": "2024-04-04T12:13:01.665713900Z"
    },
    "collapsed": false
   },
   "outputs": [
    {
     "name": "stdout",
     "output_type": "stream",
     "text": [
      "genreClassifier(\n",
      "  (features): Sequential(\n",
      "    (0): Conv2d(3, 64, kernel_size=(3, 3), stride=(1, 1), padding=(1, 1))\n",
      "    (1): ReLU(inplace=True)\n",
      "    (2): Conv2d(64, 64, kernel_size=(3, 3), stride=(1, 1), padding=(1, 1))\n",
      "    (3): ReLU(inplace=True)\n",
      "    (4): MaxPool2d(kernel_size=2, stride=2, padding=0, dilation=1, ceil_mode=False)\n",
      "    (5): Conv2d(64, 128, kernel_size=(3, 3), stride=(1, 1), padding=(1, 1))\n",
      "    (6): ReLU(inplace=True)\n",
      "    (7): Conv2d(128, 128, kernel_size=(3, 3), stride=(1, 1), padding=(1, 1))\n",
      "    (8): ReLU(inplace=True)\n",
      "    (9): MaxPool2d(kernel_size=2, stride=2, padding=0, dilation=1, ceil_mode=False)\n",
      "    (10): Conv2d(128, 256, kernel_size=(3, 3), stride=(1, 1), padding=(1, 1))\n",
      "    (11): ReLU(inplace=True)\n",
      "    (12): Conv2d(256, 256, kernel_size=(3, 3), stride=(1, 1), padding=(1, 1))\n",
      "    (13): ReLU(inplace=True)\n",
      "    (14): Conv2d(256, 256, kernel_size=(3, 3), stride=(1, 1), padding=(1, 1))\n",
      "    (15): ReLU(inplace=True)\n",
      "    (16): MaxPool2d(kernel_size=2, stride=2, padding=0, dilation=1, ceil_mode=False)\n",
      "    (17): Conv2d(256, 512, kernel_size=(3, 3), stride=(1, 1), padding=(1, 1))\n",
      "    (18): ReLU(inplace=True)\n",
      "    (19): Conv2d(512, 512, kernel_size=(3, 3), stride=(1, 1), padding=(1, 1))\n",
      "    (20): ReLU(inplace=True)\n",
      "    (21): Conv2d(512, 512, kernel_size=(3, 3), stride=(1, 1), padding=(1, 1))\n",
      "    (22): ReLU(inplace=True)\n",
      "    (23): MaxPool2d(kernel_size=2, stride=2, padding=0, dilation=1, ceil_mode=False)\n",
      "    (24): Conv2d(512, 512, kernel_size=(3, 3), stride=(1, 1), padding=(1, 1))\n",
      "    (25): ReLU(inplace=True)\n",
      "    (26): Conv2d(512, 512, kernel_size=(3, 3), stride=(1, 1), padding=(1, 1))\n",
      "    (27): ReLU(inplace=True)\n",
      "    (28): Conv2d(512, 512, kernel_size=(3, 3), stride=(1, 1), padding=(1, 1))\n",
      "    (29): ReLU(inplace=True)\n",
      "    (30): MaxPool2d(kernel_size=2, stride=2, padding=0, dilation=1, ceil_mode=False)\n",
      "  )\n",
      "  (fc): Sequential(\n",
      "    (0): Linear(in_features=4608, out_features=4096, bias=True)\n",
      "    (1): ReLU()\n",
      "    (2): Dropout(p=0.5, inplace=False)\n",
      "    (3): Linear(in_features=4096, out_features=36, bias=True)\n",
      "  )\n",
      ")\n"
     ]
    }
   ],
   "source": [
    "# 분류기 부분을 이진 분류기로 수정하는 클래스 정의\n",
    "class genreClassifier(nn.Module):\n",
    "    def __init__(self):\n",
    "        super(genreClassifier, self).__init__()\n",
    "        # VGG16의 특성 추출기 부분만 가져오기\n",
    "        self.features = model.features\n",
    "        # VGG16의 특성 추출기의 출력 크기 계산\n",
    "        self.num_features = 512 * 3 * 3  # VGG16은 입력 이미지를 224x224 크기로 처리하므로, 50x50으로 하면 위 공식에 따라 1x1로 출력됩니다.\n",
    "        \n",
    "        # 이진 분류를 위한 새로운 fully connected layer 정의\n",
    "        self.fc = nn.Sequential(\n",
    "            nn.Linear(self.num_features, 4096),  # 특성 추출기의 출력 크기를 입력으로 받음\n",
    "            nn.ReLU(),\n",
    "            nn.Dropout(0.5),\n",
    "            nn.Linear(4096, class_num),  # class_num 클래스 개수를 의미 \n",
    "            # nn.Sigmoid()  # 이진 분류를 위한 시그모이드 활성화 함수\n",
    "        )\n",
    "\n",
    "    def forward(self, x):\n",
    "        x = self.features(x)\n",
    "        x = x.view(x.size(0), -1)  # flatten\n",
    "        x = self.fc(x)\n",
    "        return x\n",
    "\n",
    "# 모델 생성\n",
    "model = genreClassifier()\n",
    "\n",
    "# 특성 추출기 부분의 파라미터를 고정시킴\n",
    "set_parameter_requires_grad(model)\n",
    "\n",
    "# 모델 구조 확인\n",
    "print(model)"
   ]
  },
  {
   "cell_type": "code",
   "execution_count": 56,
   "id": "fffa1a3d26ecf411",
   "metadata": {
    "ExecuteTime": {
     "end_time": "2024-04-04T12:13:01.710342900Z",
     "start_time": "2024-04-04T12:13:01.690922300Z"
    },
    "collapsed": false
   },
   "outputs": [],
   "source": [
    "for param in model.fc.parameters(): # 완전연결층은학습\n",
    "    param.requires_grad = True"
   ]
  },
  {
   "cell_type": "markdown",
   "id": "24d3416a54cb0d5",
   "metadata": {
    "collapsed": false
   },
   "source": [
    "위 코드에서 BinaryClassifier 클래스는 VGG16의 특성 추출기 부분을 가져와서 이진 분류를 위한 새로운 fully connected layer를 추가하여 이진 분류기로 만듭니다. set_parameter_requires_grad 함수를 사용하여 특성 추출기 부분의 파라미터를 고정시킵니다. 이렇게 하면 특성 추출기 부분은 사전 훈련된 가중치를 고정시키고, 분류기 부분만 새로 훈련됩니다."
   ]
  },
  {
   "cell_type": "code",
   "execution_count": 57,
   "id": "84b984fb1fcbda88",
   "metadata": {
    "ExecuteTime": {
     "end_time": "2024-04-04T12:13:01.729493800Z",
     "start_time": "2024-04-04T12:13:01.706067900Z"
    },
    "collapsed": false
   },
   "outputs": [],
   "source": [
    "# model.__dict__"
   ]
  },
  {
   "cell_type": "code",
   "execution_count": 58,
   "id": "6de9a22f5a594f21",
   "metadata": {
    "ExecuteTime": {
     "end_time": "2024-04-04T12:13:01.774928500Z",
     "start_time": "2024-04-04T12:13:01.723090500Z"
    },
    "collapsed": false
   },
   "outputs": [
    {
     "name": "stdout",
     "output_type": "stream",
     "text": [
      "genreClassifier(\n",
      "  (features): Sequential(\n",
      "    (0): Conv2d(3, 64, kernel_size=(3, 3), stride=(1, 1), padding=(1, 1))\n",
      "    (1): ReLU(inplace=True)\n",
      "    (2): Conv2d(64, 64, kernel_size=(3, 3), stride=(1, 1), padding=(1, 1))\n",
      "    (3): ReLU(inplace=True)\n",
      "    (4): MaxPool2d(kernel_size=2, stride=2, padding=0, dilation=1, ceil_mode=False)\n",
      "    (5): Conv2d(64, 128, kernel_size=(3, 3), stride=(1, 1), padding=(1, 1))\n",
      "    (6): ReLU(inplace=True)\n",
      "    (7): Conv2d(128, 128, kernel_size=(3, 3), stride=(1, 1), padding=(1, 1))\n",
      "    (8): ReLU(inplace=True)\n",
      "    (9): MaxPool2d(kernel_size=2, stride=2, padding=0, dilation=1, ceil_mode=False)\n",
      "    (10): Conv2d(128, 256, kernel_size=(3, 3), stride=(1, 1), padding=(1, 1))\n",
      "    (11): ReLU(inplace=True)\n",
      "    (12): Conv2d(256, 256, kernel_size=(3, 3), stride=(1, 1), padding=(1, 1))\n",
      "    (13): ReLU(inplace=True)\n",
      "    (14): Conv2d(256, 256, kernel_size=(3, 3), stride=(1, 1), padding=(1, 1))\n",
      "    (15): ReLU(inplace=True)\n",
      "    (16): MaxPool2d(kernel_size=2, stride=2, padding=0, dilation=1, ceil_mode=False)\n",
      "    (17): Conv2d(256, 512, kernel_size=(3, 3), stride=(1, 1), padding=(1, 1))\n",
      "    (18): ReLU(inplace=True)\n",
      "    (19): Conv2d(512, 512, kernel_size=(3, 3), stride=(1, 1), padding=(1, 1))\n",
      "    (20): ReLU(inplace=True)\n",
      "    (21): Conv2d(512, 512, kernel_size=(3, 3), stride=(1, 1), padding=(1, 1))\n",
      "    (22): ReLU(inplace=True)\n",
      "    (23): MaxPool2d(kernel_size=2, stride=2, padding=0, dilation=1, ceil_mode=False)\n",
      "    (24): Conv2d(512, 512, kernel_size=(3, 3), stride=(1, 1), padding=(1, 1))\n",
      "    (25): ReLU(inplace=True)\n",
      "    (26): Conv2d(512, 512, kernel_size=(3, 3), stride=(1, 1), padding=(1, 1))\n",
      "    (27): ReLU(inplace=True)\n",
      "    (28): Conv2d(512, 512, kernel_size=(3, 3), stride=(1, 1), padding=(1, 1))\n",
      "    (29): ReLU(inplace=True)\n",
      "    (30): MaxPool2d(kernel_size=2, stride=2, padding=0, dilation=1, ceil_mode=False)\n",
      "  )\n",
      "  (fc): Sequential(\n",
      "    (0): Linear(in_features=4608, out_features=4096, bias=True)\n",
      "    (1): ReLU()\n",
      "    (2): Dropout(p=0.5, inplace=False)\n",
      "    (3): Linear(in_features=4096, out_features=36, bias=True)\n",
      "  )\n",
      ")\n"
     ]
    }
   ],
   "source": [
    "\n",
    "#################\n",
    "optimizer = torch.optim.Adam(model.fc.parameters()) # fc인 것이 중요!!\n",
    "criterion = nn.CrossEntropyLoss() # 손실 함수 정의\n",
    "print(model)"
   ]
  },
  {
   "cell_type": "code",
   "execution_count": 59,
   "id": "173cc961d1fe0c37",
   "metadata": {
    "ExecuteTime": {
     "end_time": "2024-04-04T12:13:01.775977500Z",
     "start_time": "2024-04-04T12:13:01.738094300Z"
    },
    "collapsed": false
   },
   "outputs": [],
   "source": [
    "scheduler = optim.lr_scheduler.MultiStepLR(optimizer, milestones=[2, 3, 4, 8, 13, 18, 25, 30], gamma=0.5)\n",
    "# scheduler = optim.lr_scheduler.MultiStepLR(optimizer, milestones=[2, 6, 8, 13, 18, 25, 30], gamma=0.5)"
   ]
  },
  {
   "cell_type": "code",
   "execution_count": 60,
   "id": "25468dd7",
   "metadata": {},
   "outputs": [
    {
     "data": {
      "text/plain": [
       "[0.001]"
      ]
     },
     "execution_count": 60,
     "metadata": {},
     "output_type": "execute_result"
    }
   ],
   "source": [
    "scheduler.get_last_lr()"
   ]
  },
  {
   "cell_type": "code",
   "execution_count": 61,
   "id": "e400e8558bcb281f",
   "metadata": {
    "ExecuteTime": {
     "end_time": "2024-04-04T12:13:01.795815800Z",
     "start_time": "2024-04-04T12:13:01.757538600Z"
    },
    "collapsed": false
   },
   "outputs": [],
   "source": [
    "# CNN 모델 학습 진행 함수\n",
    "def train(epoch, model, train_loader, optimizer, log_interval):\n",
    "    model.train()\n",
    "    total_loss = 0\n",
    "    correct = 0\n",
    "    \n",
    "    for batch_idx, (image, label) in enumerate(train_loader):\n",
    "        image = image.to(DEVICE)\n",
    "        label = label.to(DEVICE)\n",
    "        # label = label.unsqueeze(dim=1).dtype(torch.)\n",
    "        \n",
    "        optimizer.zero_grad()\n",
    "        output = model(image)\n",
    "        # print(output)\n",
    "        # print(\"=======================\")\n",
    "        # print(label)\n",
    "        loss = criterion(output, label)\n",
    "        loss.backward()\n",
    "        optimizer.step()\n",
    "        \n",
    "        total_loss += criterion(output, label).item()\n",
    "        \n",
    "        prediction = output.max(1, keepdim = True)[1]\n",
    "        correct += prediction.eq(label.view_as(prediction)).sum().item()\n",
    "        \n",
    "        if batch_idx % log_interval == 0:\n",
    "            print(f\"Train Epoch: {epoch} [{batch_idx}]\\tTrain Loss: {loss.item():.6f}\")\n",
    "            \n",
    "    total_loss /= len(train_loader.dataset) # 평균 손실 \n",
    "    train_accuracy = 100. * correct / len(train_loader.dataset)\n",
    "    return total_loss, train_accuracy\n",
    "    "
   ]
  },
  {
   "cell_type": "code",
   "execution_count": 62,
   "id": "f25346fb72290982",
   "metadata": {
    "ExecuteTime": {
     "end_time": "2024-04-04T12:13:01.814761800Z",
     "start_time": "2024-04-04T12:13:01.787973100Z"
    },
    "collapsed": false
   },
   "outputs": [],
   "source": [
    "### 검증 validation 진행 함수 \n",
    "def evaluate(model, val_loader):\n",
    "    model.eval()\n",
    "    test_loss = 0\n",
    "    correct = 0\n",
    "\n",
    "    with torch.no_grad():\n",
    "        for image, label in val_loader:\n",
    "            image = image.to(DEVICE)\n",
    "            label = label.to(DEVICE)\n",
    "            # label = label.float()\n",
    "            output = model(image)\n",
    "            test_loss += criterion(output, label).item()\n",
    "            # print(output.max(1, keepdim = True))\n",
    "            prediction = output.max(1, keepdim = True)[1]\n",
    "            correct += prediction.eq(label.view_as(prediction)).sum().item()\n",
    "\n",
    "    test_loss /= len(val_loader.dataset) # 평균 손실 \n",
    "    test_accuracy = 100. * correct / len(val_loader.dataset)\n",
    "    return test_loss, test_accuracy"
   ]
  },
  {
   "cell_type": "markdown",
   "id": "1900cdf2f3ffc0a1",
   "metadata": {
    "collapsed": false
   },
   "source": [
    "# 학습 진행"
   ]
  },
  {
   "cell_type": "code",
   "execution_count": 63,
   "id": "a699bfc38a1f98c2",
   "metadata": {
    "ExecuteTime": {
     "end_time": "2024-04-04T12:13:18.199055800Z",
     "start_time": "2024-04-04T12:13:01.804711200Z"
    },
    "collapsed": false
   },
   "outputs": [
    {
     "name": "stdout",
     "output_type": "stream",
     "text": [
      "Train Epoch: 1 [0]\tTrain Loss: 3.607399\n",
      "\n",
      "[EPOCH: 1], \tTest Loss: 0.0072, \tTest Accuracy: 59.52 % \n",
      "\n",
      "Train Epoch: 2 [0]\tTrain Loss: 1.839648\n",
      "\n",
      "[EPOCH: 2], \tTest Loss: 0.0050, \tTest Accuracy: 72.22 % \n",
      "\n",
      "Train Epoch: 3 [0]\tTrain Loss: 1.283561\n",
      "\n",
      "[EPOCH: 3], \tTest Loss: 0.0033, \tTest Accuracy: 80.16 % \n",
      "\n",
      "Train Epoch: 4 [0]\tTrain Loss: 0.863675\n",
      "\n",
      "[EPOCH: 4], \tTest Loss: 0.0025, \tTest Accuracy: 88.49 % \n",
      "\n",
      "Train Epoch: 5 [0]\tTrain Loss: 0.667043\n",
      "\n",
      "[EPOCH: 5], \tTest Loss: 0.0022, \tTest Accuracy: 89.68 % \n",
      "\n",
      "Train Epoch: 6 [0]\tTrain Loss: 0.603868\n",
      "\n",
      "[EPOCH: 6], \tTest Loss: 0.0020, \tTest Accuracy: 89.29 % \n",
      "\n",
      "Train Epoch: 7 [0]\tTrain Loss: 0.534325\n",
      "\n",
      "[EPOCH: 7], \tTest Loss: 0.0019, \tTest Accuracy: 90.08 % \n",
      "\n",
      "Train Epoch: 8 [0]\tTrain Loss: 0.508620\n",
      "\n",
      "[EPOCH: 8], \tTest Loss: 0.0018, \tTest Accuracy: 91.27 % \n",
      "\n",
      "Train Epoch: 9 [0]\tTrain Loss: 0.473820\n",
      "\n",
      "[EPOCH: 9], \tTest Loss: 0.0017, \tTest Accuracy: 91.27 % \n",
      "\n",
      "Train Epoch: 10 [0]\tTrain Loss: 0.453752\n",
      "\n",
      "[EPOCH: 10], \tTest Loss: 0.0017, \tTest Accuracy: 92.06 % \n",
      "\n",
      "Train Epoch: 11 [0]\tTrain Loss: 0.441032\n",
      "\n",
      "[EPOCH: 11], \tTest Loss: 0.0016, \tTest Accuracy: 92.86 % \n",
      "\n",
      "Train Epoch: 12 [0]\tTrain Loss: 0.426355\n",
      "\n",
      "[EPOCH: 12], \tTest Loss: 0.0016, \tTest Accuracy: 93.25 % \n",
      "\n",
      "Train Epoch: 13 [0]\tTrain Loss: 0.407679\n",
      "\n",
      "[EPOCH: 13], \tTest Loss: 0.0015, \tTest Accuracy: 92.86 % \n",
      "\n",
      "Train Epoch: 14 [0]\tTrain Loss: 0.393799\n",
      "\n",
      "[EPOCH: 14], \tTest Loss: 0.0015, \tTest Accuracy: 92.86 % \n",
      "\n",
      "Train Epoch: 15 [0]\tTrain Loss: 0.390030\n",
      "\n",
      "[EPOCH: 15], \tTest Loss: 0.0015, \tTest Accuracy: 93.65 % \n",
      "\n",
      "Train Epoch: 16 [0]\tTrain Loss: 0.382039\n",
      "\n",
      "[EPOCH: 16], \tTest Loss: 0.0015, \tTest Accuracy: 93.65 % \n",
      "\n",
      "Train Epoch: 17 [0]\tTrain Loss: 0.369479\n",
      "\n",
      "[EPOCH: 17], \tTest Loss: 0.0014, \tTest Accuracy: 94.05 % \n",
      "\n",
      "Train Epoch: 18 [0]\tTrain Loss: 0.366174\n",
      "\n",
      "[EPOCH: 18], \tTest Loss: 0.0014, \tTest Accuracy: 94.05 % \n",
      "\n",
      "Train Epoch: 19 [0]\tTrain Loss: 0.365455\n",
      "\n",
      "[EPOCH: 19], \tTest Loss: 0.0014, \tTest Accuracy: 93.65 % \n",
      "\n",
      "Train Epoch: 20 [0]\tTrain Loss: 0.361293\n",
      "\n",
      "[EPOCH: 20], \tTest Loss: 0.0014, \tTest Accuracy: 93.65 % \n",
      "\n",
      "Train Epoch: 21 [0]\tTrain Loss: 0.354436\n",
      "\n",
      "[EPOCH: 21], \tTest Loss: 0.0014, \tTest Accuracy: 94.05 % \n",
      "\n",
      "Train Epoch: 22 [0]\tTrain Loss: 0.351901\n",
      "\n",
      "[EPOCH: 22], \tTest Loss: 0.0013, \tTest Accuracy: 94.05 % \n",
      "\n",
      "Train Epoch: 23 [0]\tTrain Loss: 0.347436\n",
      "\n",
      "[EPOCH: 23], \tTest Loss: 0.0013, \tTest Accuracy: 94.44 % \n",
      "\n",
      "Train Epoch: 24 [0]\tTrain Loss: 0.349272\n",
      "\n",
      "[EPOCH: 24], \tTest Loss: 0.0013, \tTest Accuracy: 94.44 % \n",
      "\n",
      "Train Epoch: 25 [0]\tTrain Loss: 0.346616\n",
      "\n",
      "[EPOCH: 25], \tTest Loss: 0.0013, \tTest Accuracy: 94.84 % \n",
      "\n",
      "Train Epoch: 26 [0]\tTrain Loss: 0.335632\n",
      "\n",
      "[EPOCH: 26], \tTest Loss: 0.0013, \tTest Accuracy: 94.84 % \n",
      "\n",
      "Train Epoch: 27 [0]\tTrain Loss: 0.336414\n",
      "\n",
      "[EPOCH: 27], \tTest Loss: 0.0013, \tTest Accuracy: 94.84 % \n",
      "\n",
      "Train Epoch: 28 [0]\tTrain Loss: 0.334893\n",
      "\n",
      "[EPOCH: 28], \tTest Loss: 0.0013, \tTest Accuracy: 94.84 % \n",
      "\n",
      "Train Epoch: 29 [0]\tTrain Loss: 0.341186\n",
      "\n",
      "[EPOCH: 29], \tTest Loss: 0.0013, \tTest Accuracy: 94.84 % \n",
      "\n",
      "Train Epoch: 30 [0]\tTrain Loss: 0.337328\n",
      "\n",
      "[EPOCH: 30], \tTest Loss: 0.0013, \tTest Accuracy: 94.84 % \n",
      "\n"
     ]
    }
   ],
   "source": [
    "# CNN 학습\n",
    "EPOCHS = 30\n",
    "\n",
    "# 최고 성능 모델의 가중치 저장\n",
    "best_model_weights = None\n",
    "best_test_loss = np.inf\n",
    "patience = 10  # 조기 종료를 위한 참을성 값 설정\n",
    "counter = 0  # 성능이 향상되지 않는 epoch 카운터\n",
    "\n",
    "train_loss_acc = [[],[]]\n",
    "val_loss_acc = [[],[]]\n",
    "\n",
    "for epoch in range(1, EPOCHS + 1):\n",
    "    \n",
    "    train_loss, train_acc = train(epoch, model, train_loader, optimizer, log_interval=1)\n",
    "    train_loss_acc[0].append(train_loss)\n",
    "    train_loss_acc[1].append(train_acc)\n",
    "    \n",
    "    \n",
    "    test_loss, test_accuracy = evaluate(model, val_loader)\n",
    "    print(f\"\\n[EPOCH: {epoch}], \\tTest Loss: {test_loss:.4f}, \\tTest Accuracy: {test_accuracy:.2f} % \\n\")\n",
    "    val_loss_acc[0].append(test_loss)\n",
    "    val_loss_acc[1].append(test_accuracy)\n",
    "    \n",
    "    # 조기 종료 검사\n",
    "    if test_loss < best_test_loss:\n",
    "        best_test_loss = test_loss\n",
    "        best_model_weights = model.state_dict()  # 최고 성능 모델의 가중치 저장\n",
    "        counter = 0  # 카운터 초기화\n",
    "    else:\n",
    "        counter += 1  # 성능이 향상되지 않음\n",
    "        \n",
    "        if counter >= patience:\n",
    "            print(\"조기 종료: 검증 손실이 이전에 관측된 최적의 손실보다 높아짐\")\n",
    "            break\n",
    "    scheduler.step() # 스케줄러 \n",
    "            \n",
    "# 최고 성능 모델의 가중치로 모델을 업데이트\n",
    "if best_model_weights is not None:\n",
    "    model.load_state_dict(best_model_weights)"
   ]
  },
  {
   "cell_type": "code",
   "execution_count": 64,
   "id": "c39e32162de1a334",
   "metadata": {
    "ExecuteTime": {
     "end_time": "2024-04-04T12:13:18.534335400Z",
     "start_time": "2024-04-04T12:13:18.211555800Z"
    },
    "collapsed": false
   },
   "outputs": [
    {
     "data": {
      "image/png": "[encoded data removed]",
      "text/plain": [
       "<Figure size 1000x500 with 1 Axes>"
      ]
     },
     "metadata": {},
     "output_type": "display_data"
    },
    {
     "data": {
      "image/png": "[encoded data removed]",
      "text/plain": [
       "<Figure size 1000x500 with 1 Axes>"
      ]
     },
     "metadata": {},
     "output_type": "display_data"
    }
   ],
   "source": [
    "from matplotlib import pyplot as plt\n",
    "# Loss 그래프 그리기\n",
    "plt.figure(figsize=(10, 5))\n",
    "plt.plot(train_loss_acc[0], label='Train Loss')\n",
    "plt.plot(val_loss_acc[0], label='Val Loss')\n",
    "plt.xlabel('Epoch')\n",
    "plt.ylabel('Loss')\n",
    "plt.title('Loss')\n",
    "plt.grid()\n",
    "plt.legend()\n",
    "plt.show()\n",
    "\n",
    "# Accuracy 그래프 그리기\n",
    "plt.figure(figsize=(10, 5))\n",
    "plt.plot(train_loss_acc[1], label='Train Accuracy')\n",
    "plt.plot(val_loss_acc[1], label='Val Accuracy')\n",
    "plt.xlabel('Epoch')\n",
    "plt.ylabel('Accuracy')\n",
    "plt.title('Accuracy')\n",
    "plt.legend()\n",
    "plt.grid()\n",
    "plt.show()"
   ]
  },
  {
   "cell_type": "markdown",
   "id": "d1c74de496c90340",
   "metadata": {
    "collapsed": false
   },
   "source": [
    "# test data predict"
   ]
  },
  {
   "cell_type": "code",
   "execution_count": 65,
   "id": "b919dcec44235c18",
   "metadata": {
    "ExecuteTime": {
     "end_time": "2024-04-04T12:13:18.725274400Z",
     "start_time": "2024-04-04T12:13:18.528922300Z"
    },
    "collapsed": false
   },
   "outputs": [
    {
     "name": "stdout",
     "output_type": "stream",
     "text": [
      "torch.Size([252, 3, 100, 100])\n"
     ]
    },
    {
     "data": {
      "text/plain": [
       "94.84126984126983"
      ]
     },
     "execution_count": 65,
     "metadata": {},
     "output_type": "execute_result"
    }
   ],
   "source": [
    "def predict(model, val_loader):\n",
    "    model.eval()\n",
    "    correct = 0\n",
    "\n",
    "    with torch.no_grad():\n",
    "        for image, label in val_loader:\n",
    "            print(image.shape)\n",
    "            image = image.to(DEVICE)\n",
    "            label = label.to(DEVICE)\n",
    "            label = label.float()\n",
    "            output = model(image)\n",
    "    \n",
    "            # print(output.max(1, keepdim = True))\n",
    "            # prediction = output.round()  # 이진 분류에서는 반올림하여 0 또는 1로 변환\n",
    "            prediction = output.max(1, keepdim = True)[1]\n",
    "            # print(prediction)\n",
    "            correct += prediction.eq(label.view_as(prediction)).sum().item()\n",
    "    \n",
    "    test_accuracy = 100. * correct / len(val_loader.dataset)\n",
    "    # print(prediction)\n",
    "    return test_accuracy\n",
    "\n",
    "predict(model, val_loader)"
   ]
  },
  {
   "cell_type": "code",
   "execution_count": 66,
   "id": "84d4a6239ba3c9c7",
   "metadata": {
    "ExecuteTime": {
     "end_time": "2024-04-05T04:45:40.980878100Z",
     "start_time": "2024-04-05T04:45:40.720104100Z"
    },
    "collapsed": false
   },
   "outputs": [],
   "source": [
    "# torch.save(model.state_dict(), 'hand_model.pth')"
   ]
  },
  {
   "cell_type": "code",
   "execution_count": 80,
   "id": "42176a7feb3b07a2",
   "metadata": {
    "ExecuteTime": {
     "end_time": "2024-04-04T12:13:18.759629500Z",
     "start_time": "2024-04-04T12:13:18.744592600Z"
    },
    "collapsed": false
   },
   "outputs": [
    {
     "name": "stdout",
     "output_type": "stream",
     "text": [
      "torch.Size([1, 3, 100, 100])\n",
      "31\n"
     ]
    }
   ],
   "source": [
    "# 테스트 \n",
    "from torchvision.datasets import ImageFolder\n",
    "from PIL import Image\n",
    "\n",
    "# image = Image.open('screen_shot.png')\n",
    "image = Image.open('test.png').convert('RGB')\n",
    "\n",
    "# 전처리 단계 정의\n",
    "mean = [0.485, 0.456, 0.406]\n",
    "std = [0.229, 0.224, 0.225]\n",
    "preprocessing = transforms.Compose([\n",
    "    transforms.Resize((100, 100), interpolation=transforms.InterpolationMode.BILINEAR),\n",
    "    transforms.ToTensor(),\n",
    "    transforms.Normalize(mean=mean, std=std)\n",
    "])\n",
    "\n",
    "# 이미지 전처리 적용\n",
    "processed_image = preprocessing(image)\n",
    "processed_image = processed_image.unsqueeze(0)\n",
    "print(processed_image.shape)\n",
    "\n",
    "output = model(processed_image)\n",
    "prediction = output.max(1, keepdim = True)[1] \n",
    "print(prediction.item())"
   ]
  },
  {
   "cell_type": "code",
   "execution_count": null,
   "id": "bcabecfa",
   "metadata": {},
   "outputs": [],
   "source": []
  }
 ],
 "metadata": {
  "kernelspec": {
   "display_name": "Python 3",
   "language": "python",
   "name": "python3"
  },
  "language_info": {
   "codemirror_mode": {
    "name": "ipython",
    "version": 3
   },
   "file_extension": ".py",
   "mimetype": "text/x-python",
   "name": "python",
   "nbconvert_exporter": "python",
   "pygments_lexer": "ipython3",
   "version": "3.8.19"
  }
 },
 "nbformat": 4,
 "nbformat_minor": 5
}
