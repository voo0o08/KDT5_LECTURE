{
 "cells": [
  {
   "cell_type": "markdown",
   "source": [
    "### one-hot encoding version\n",
    "- sigmoid() : y = wx+b 결과물 전달 => 반환 : 0.0~1.0 사이 값으로 변환 \n",
    "- softmax() : y = wx+b 여러 개 전달 => 반환 : 여러 개의 결과값의 합이 1.0이 되도록 변환 "
   ],
   "metadata": {
    "collapsed": false
   },
   "id": "70f6381d7ecefe09"
  },
  {
   "cell_type": "code",
   "outputs": [],
   "source": [
    "# 모듈 로딩 \n",
    "import torch # torch 기본 모듈로 텐서 기본 함수들 \n",
    "import torch.nn.functional as F # pytorch 인공 신경망 관련 함수들 "
   ],
   "metadata": {
    "collapsed": false,
    "ExecuteTime": {
     "end_time": "2024-03-14T12:11:20.025454300Z",
     "start_time": "2024-03-14T12:11:20.016857800Z"
    }
   },
   "id": "4dbdd994ec9f3055",
   "execution_count": 210
  },
  {
   "cell_type": "code",
   "outputs": [],
   "source": [
    "# output.max(dim=1)[1][0].item() # argmax는 값은 없고 인덱스만 있음"
   ],
   "metadata": {
    "collapsed": false,
    "ExecuteTime": {
     "end_time": "2024-03-14T12:11:20.517646500Z",
     "start_time": "2024-03-14T12:11:20.501785300Z"
    }
   },
   "id": "566a46494ce08730",
   "execution_count": 211
  },
  {
   "cell_type": "markdown",
   "source": [
    "# 이미지 데이터 - 이진분류 모델\n",
    "- 데이터셋 : fashion mnist\n",
    "- 피쳐개수 : 28X28 784개\n",
    "- 타겟 개수 : 0~9 티셔츠, 바지, 풀오버 ..."
   ],
   "metadata": {
    "collapsed": false
   },
   "id": "bc4abfebdaf73b7"
  },
  {
   "cell_type": "markdown",
   "source": [
    "## 모듈 로딩 "
   ],
   "metadata": {
    "collapsed": false
   },
   "id": "3dede4f77d934c96"
  },
  {
   "cell_type": "code",
   "outputs": [],
   "source": [
    "from sklearn.datasets import fetch_openml\n",
    "import pandas\n",
    "import numpy as np\n",
    "\n",
    "import torch\n",
    "import torch.nn as nn # linear Regression 기능의 클래스 Linear\n",
    "import torch.nn.functional as F # 손실함수를 위함\n",
    "import torch.optim as optim # 최적화를 위함"
   ],
   "metadata": {
    "collapsed": false,
    "ExecuteTime": {
     "end_time": "2024-03-14T12:11:21.730696300Z",
     "start_time": "2024-03-14T12:11:21.716450400Z"
    }
   },
   "id": "49327cb32df9d67",
   "execution_count": 212
  },
  {
   "cell_type": "markdown",
   "source": [
    "## 데이터 준비"
   ],
   "metadata": {
    "collapsed": false
   },
   "id": "204c0958e8927867"
  },
  {
   "cell_type": "code",
   "outputs": [],
   "source": [
    "\n",
    "fashion_db = 'fashion-mnist'\n",
    "\n",
    "fashion_data = fetch_openml(name = fashion_db, parser='auto')"
   ],
   "metadata": {
    "collapsed": false,
    "ExecuteTime": {
     "end_time": "2024-03-14T12:11:26.008161200Z",
     "start_time": "2024-03-14T12:11:22.081945700Z"
    }
   },
   "id": "8cc44141ccd94324",
   "execution_count": 213
  },
  {
   "cell_type": "code",
   "outputs": [],
   "source": [
    "### 데이터 확인 \n",
    "feature = fashion_data['data']\n",
    "target = fashion_data['target']"
   ],
   "metadata": {
    "collapsed": false,
    "ExecuteTime": {
     "end_time": "2024-03-14T12:11:26.018697500Z",
     "start_time": "2024-03-14T12:11:26.005060400Z"
    }
   },
   "id": "4f4c2e153968395a",
   "execution_count": 214
  },
  {
   "cell_type": "code",
   "outputs": [
    {
     "name": "stdout",
     "output_type": "stream",
     "text": [
      "feares: (70000, 784), 2D\n",
      "target: (70000,), 1D\n"
     ]
    }
   ],
   "source": [
    "# 데이터 피쳐와 타겟 개수 확인 \n",
    "print(f\"feares: {feature.shape}, {feature.ndim}D\")\n",
    "print(f\"target: {target.shape}, {target.ndim}D\")"
   ],
   "metadata": {
    "collapsed": false,
    "ExecuteTime": {
     "end_time": "2024-03-14T12:11:26.046215200Z",
     "start_time": "2024-03-14T12:11:26.018697500Z"
    }
   },
   "id": "b37a8ab5af06cb75",
   "execution_count": 215
  },
  {
   "cell_type": "code",
   "outputs": [
    {
     "name": "stdout",
     "output_type": "stream",
     "text": [
      "feature => ['pixel1', 'pixel2', 'pixel3', 'pixel4', 'pixel5', 'pixel6', 'pixel7', 'pixel8', 'pixel9', 'pixel10', 'pixel11', 'pixel12', 'pixel13', 'pixel14', 'pixel15', 'pixel16', 'pixel17', 'pixel18', 'pixel19', 'pixel20', 'pixel21', 'pixel22', 'pixel23', 'pixel24', 'pixel25', 'pixel26', 'pixel27', 'pixel28', 'pixel29', 'pixel30', 'pixel31', 'pixel32', 'pixel33', 'pixel34', 'pixel35', 'pixel36', 'pixel37', 'pixel38', 'pixel39', 'pixel40', 'pixel41', 'pixel42', 'pixel43', 'pixel44', 'pixel45', 'pixel46', 'pixel47', 'pixel48', 'pixel49', 'pixel50', 'pixel51', 'pixel52', 'pixel53', 'pixel54', 'pixel55', 'pixel56', 'pixel57', 'pixel58', 'pixel59', 'pixel60', 'pixel61', 'pixel62', 'pixel63', 'pixel64', 'pixel65', 'pixel66', 'pixel67', 'pixel68', 'pixel69', 'pixel70', 'pixel71', 'pixel72', 'pixel73', 'pixel74', 'pixel75', 'pixel76', 'pixel77', 'pixel78', 'pixel79', 'pixel80', 'pixel81', 'pixel82', 'pixel83', 'pixel84', 'pixel85', 'pixel86', 'pixel87', 'pixel88', 'pixel89', 'pixel90', 'pixel91', 'pixel92', 'pixel93', 'pixel94', 'pixel95', 'pixel96', 'pixel97', 'pixel98', 'pixel99', 'pixel100', 'pixel101', 'pixel102', 'pixel103', 'pixel104', 'pixel105', 'pixel106', 'pixel107', 'pixel108', 'pixel109', 'pixel110', 'pixel111', 'pixel112', 'pixel113', 'pixel114', 'pixel115', 'pixel116', 'pixel117', 'pixel118', 'pixel119', 'pixel120', 'pixel121', 'pixel122', 'pixel123', 'pixel124', 'pixel125', 'pixel126', 'pixel127', 'pixel128', 'pixel129', 'pixel130', 'pixel131', 'pixel132', 'pixel133', 'pixel134', 'pixel135', 'pixel136', 'pixel137', 'pixel138', 'pixel139', 'pixel140', 'pixel141', 'pixel142', 'pixel143', 'pixel144', 'pixel145', 'pixel146', 'pixel147', 'pixel148', 'pixel149', 'pixel150', 'pixel151', 'pixel152', 'pixel153', 'pixel154', 'pixel155', 'pixel156', 'pixel157', 'pixel158', 'pixel159', 'pixel160', 'pixel161', 'pixel162', 'pixel163', 'pixel164', 'pixel165', 'pixel166', 'pixel167', 'pixel168', 'pixel169', 'pixel170', 'pixel171', 'pixel172', 'pixel173', 'pixel174', 'pixel175', 'pixel176', 'pixel177', 'pixel178', 'pixel179', 'pixel180', 'pixel181', 'pixel182', 'pixel183', 'pixel184', 'pixel185', 'pixel186', 'pixel187', 'pixel188', 'pixel189', 'pixel190', 'pixel191', 'pixel192', 'pixel193', 'pixel194', 'pixel195', 'pixel196', 'pixel197', 'pixel198', 'pixel199', 'pixel200', 'pixel201', 'pixel202', 'pixel203', 'pixel204', 'pixel205', 'pixel206', 'pixel207', 'pixel208', 'pixel209', 'pixel210', 'pixel211', 'pixel212', 'pixel213', 'pixel214', 'pixel215', 'pixel216', 'pixel217', 'pixel218', 'pixel219', 'pixel220', 'pixel221', 'pixel222', 'pixel223', 'pixel224', 'pixel225', 'pixel226', 'pixel227', 'pixel228', 'pixel229', 'pixel230', 'pixel231', 'pixel232', 'pixel233', 'pixel234', 'pixel235', 'pixel236', 'pixel237', 'pixel238', 'pixel239', 'pixel240', 'pixel241', 'pixel242', 'pixel243', 'pixel244', 'pixel245', 'pixel246', 'pixel247', 'pixel248', 'pixel249', 'pixel250', 'pixel251', 'pixel252', 'pixel253', 'pixel254', 'pixel255', 'pixel256', 'pixel257', 'pixel258', 'pixel259', 'pixel260', 'pixel261', 'pixel262', 'pixel263', 'pixel264', 'pixel265', 'pixel266', 'pixel267', 'pixel268', 'pixel269', 'pixel270', 'pixel271', 'pixel272', 'pixel273', 'pixel274', 'pixel275', 'pixel276', 'pixel277', 'pixel278', 'pixel279', 'pixel280', 'pixel281', 'pixel282', 'pixel283', 'pixel284', 'pixel285', 'pixel286', 'pixel287', 'pixel288', 'pixel289', 'pixel290', 'pixel291', 'pixel292', 'pixel293', 'pixel294', 'pixel295', 'pixel296', 'pixel297', 'pixel298', 'pixel299', 'pixel300', 'pixel301', 'pixel302', 'pixel303', 'pixel304', 'pixel305', 'pixel306', 'pixel307', 'pixel308', 'pixel309', 'pixel310', 'pixel311', 'pixel312', 'pixel313', 'pixel314', 'pixel315', 'pixel316', 'pixel317', 'pixel318', 'pixel319', 'pixel320', 'pixel321', 'pixel322', 'pixel323', 'pixel324', 'pixel325', 'pixel326', 'pixel327', 'pixel328', 'pixel329', 'pixel330', 'pixel331', 'pixel332', 'pixel333', 'pixel334', 'pixel335', 'pixel336', 'pixel337', 'pixel338', 'pixel339', 'pixel340', 'pixel341', 'pixel342', 'pixel343', 'pixel344', 'pixel345', 'pixel346', 'pixel347', 'pixel348', 'pixel349', 'pixel350', 'pixel351', 'pixel352', 'pixel353', 'pixel354', 'pixel355', 'pixel356', 'pixel357', 'pixel358', 'pixel359', 'pixel360', 'pixel361', 'pixel362', 'pixel363', 'pixel364', 'pixel365', 'pixel366', 'pixel367', 'pixel368', 'pixel369', 'pixel370', 'pixel371', 'pixel372', 'pixel373', 'pixel374', 'pixel375', 'pixel376', 'pixel377', 'pixel378', 'pixel379', 'pixel380', 'pixel381', 'pixel382', 'pixel383', 'pixel384', 'pixel385', 'pixel386', 'pixel387', 'pixel388', 'pixel389', 'pixel390', 'pixel391', 'pixel392', 'pixel393', 'pixel394', 'pixel395', 'pixel396', 'pixel397', 'pixel398', 'pixel399', 'pixel400', 'pixel401', 'pixel402', 'pixel403', 'pixel404', 'pixel405', 'pixel406', 'pixel407', 'pixel408', 'pixel409', 'pixel410', 'pixel411', 'pixel412', 'pixel413', 'pixel414', 'pixel415', 'pixel416', 'pixel417', 'pixel418', 'pixel419', 'pixel420', 'pixel421', 'pixel422', 'pixel423', 'pixel424', 'pixel425', 'pixel426', 'pixel427', 'pixel428', 'pixel429', 'pixel430', 'pixel431', 'pixel432', 'pixel433', 'pixel434', 'pixel435', 'pixel436', 'pixel437', 'pixel438', 'pixel439', 'pixel440', 'pixel441', 'pixel442', 'pixel443', 'pixel444', 'pixel445', 'pixel446', 'pixel447', 'pixel448', 'pixel449', 'pixel450', 'pixel451', 'pixel452', 'pixel453', 'pixel454', 'pixel455', 'pixel456', 'pixel457', 'pixel458', 'pixel459', 'pixel460', 'pixel461', 'pixel462', 'pixel463', 'pixel464', 'pixel465', 'pixel466', 'pixel467', 'pixel468', 'pixel469', 'pixel470', 'pixel471', 'pixel472', 'pixel473', 'pixel474', 'pixel475', 'pixel476', 'pixel477', 'pixel478', 'pixel479', 'pixel480', 'pixel481', 'pixel482', 'pixel483', 'pixel484', 'pixel485', 'pixel486', 'pixel487', 'pixel488', 'pixel489', 'pixel490', 'pixel491', 'pixel492', 'pixel493', 'pixel494', 'pixel495', 'pixel496', 'pixel497', 'pixel498', 'pixel499', 'pixel500', 'pixel501', 'pixel502', 'pixel503', 'pixel504', 'pixel505', 'pixel506', 'pixel507', 'pixel508', 'pixel509', 'pixel510', 'pixel511', 'pixel512', 'pixel513', 'pixel514', 'pixel515', 'pixel516', 'pixel517', 'pixel518', 'pixel519', 'pixel520', 'pixel521', 'pixel522', 'pixel523', 'pixel524', 'pixel525', 'pixel526', 'pixel527', 'pixel528', 'pixel529', 'pixel530', 'pixel531', 'pixel532', 'pixel533', 'pixel534', 'pixel535', 'pixel536', 'pixel537', 'pixel538', 'pixel539', 'pixel540', 'pixel541', 'pixel542', 'pixel543', 'pixel544', 'pixel545', 'pixel546', 'pixel547', 'pixel548', 'pixel549', 'pixel550', 'pixel551', 'pixel552', 'pixel553', 'pixel554', 'pixel555', 'pixel556', 'pixel557', 'pixel558', 'pixel559', 'pixel560', 'pixel561', 'pixel562', 'pixel563', 'pixel564', 'pixel565', 'pixel566', 'pixel567', 'pixel568', 'pixel569', 'pixel570', 'pixel571', 'pixel572', 'pixel573', 'pixel574', 'pixel575', 'pixel576', 'pixel577', 'pixel578', 'pixel579', 'pixel580', 'pixel581', 'pixel582', 'pixel583', 'pixel584', 'pixel585', 'pixel586', 'pixel587', 'pixel588', 'pixel589', 'pixel590', 'pixel591', 'pixel592', 'pixel593', 'pixel594', 'pixel595', 'pixel596', 'pixel597', 'pixel598', 'pixel599', 'pixel600', 'pixel601', 'pixel602', 'pixel603', 'pixel604', 'pixel605', 'pixel606', 'pixel607', 'pixel608', 'pixel609', 'pixel610', 'pixel611', 'pixel612', 'pixel613', 'pixel614', 'pixel615', 'pixel616', 'pixel617', 'pixel618', 'pixel619', 'pixel620', 'pixel621', 'pixel622', 'pixel623', 'pixel624', 'pixel625', 'pixel626', 'pixel627', 'pixel628', 'pixel629', 'pixel630', 'pixel631', 'pixel632', 'pixel633', 'pixel634', 'pixel635', 'pixel636', 'pixel637', 'pixel638', 'pixel639', 'pixel640', 'pixel641', 'pixel642', 'pixel643', 'pixel644', 'pixel645', 'pixel646', 'pixel647', 'pixel648', 'pixel649', 'pixel650', 'pixel651', 'pixel652', 'pixel653', 'pixel654', 'pixel655', 'pixel656', 'pixel657', 'pixel658', 'pixel659', 'pixel660', 'pixel661', 'pixel662', 'pixel663', 'pixel664', 'pixel665', 'pixel666', 'pixel667', 'pixel668', 'pixel669', 'pixel670', 'pixel671', 'pixel672', 'pixel673', 'pixel674', 'pixel675', 'pixel676', 'pixel677', 'pixel678', 'pixel679', 'pixel680', 'pixel681', 'pixel682', 'pixel683', 'pixel684', 'pixel685', 'pixel686', 'pixel687', 'pixel688', 'pixel689', 'pixel690', 'pixel691', 'pixel692', 'pixel693', 'pixel694', 'pixel695', 'pixel696', 'pixel697', 'pixel698', 'pixel699', 'pixel700', 'pixel701', 'pixel702', 'pixel703', 'pixel704', 'pixel705', 'pixel706', 'pixel707', 'pixel708', 'pixel709', 'pixel710', 'pixel711', 'pixel712', 'pixel713', 'pixel714', 'pixel715', 'pixel716', 'pixel717', 'pixel718', 'pixel719', 'pixel720', 'pixel721', 'pixel722', 'pixel723', 'pixel724', 'pixel725', 'pixel726', 'pixel727', 'pixel728', 'pixel729', 'pixel730', 'pixel731', 'pixel732', 'pixel733', 'pixel734', 'pixel735', 'pixel736', 'pixel737', 'pixel738', 'pixel739', 'pixel740', 'pixel741', 'pixel742', 'pixel743', 'pixel744', 'pixel745', 'pixel746', 'pixel747', 'pixel748', 'pixel749', 'pixel750', 'pixel751', 'pixel752', 'pixel753', 'pixel754', 'pixel755', 'pixel756', 'pixel757', 'pixel758', 'pixel759', 'pixel760', 'pixel761', 'pixel762', 'pixel763', 'pixel764', 'pixel765', 'pixel766', 'pixel767', 'pixel768', 'pixel769', 'pixel770', 'pixel771', 'pixel772', 'pixel773', 'pixel774', 'pixel775', 'pixel776', 'pixel777', 'pixel778', 'pixel779', 'pixel780', 'pixel781', 'pixel782', 'pixel783', 'pixel784']\n",
      "target name => ['class']\n",
      "categories => None\n",
      "categories => ['9', '0', '3', '2', '7', '5', '1', '6', '4', '8']\n",
      "Categories (10, object): ['0', '1', '2', '3', ..., '6', '7', '8', '9']\n"
     ]
    }
   ],
   "source": [
    "# 분류 확인\n",
    "print(f\"feature => {fashion_data['feature_names']}\")\n",
    "print(f\"target name => {fashion_data['target_names']}\")\n",
    "print(f\"categories => {fashion_data['categories']}\")\n",
    "# 받아올 때 numpy로 받아오면 category로 고유값 확인 가능 \n",
    "# dataframe은 카테고리 무조건 None뜸\n",
    "print(f\"categories => {target.unique()}\")"
   ],
   "metadata": {
    "collapsed": false,
    "ExecuteTime": {
     "end_time": "2024-03-14T12:11:26.048252900Z",
     "start_time": "2024-03-14T12:11:26.033455100Z"
    }
   },
   "id": "19ebd2a1169e2f21",
   "execution_count": 216
  },
  {
   "cell_type": "markdown",
   "source": [
    "## 2. 데이터 가공 및 전처리\n",
    "- 결측치 없음\n",
    "- 이상치 없음\n",
    "- 중복값 없음 \n",
    "- 다중 분류 => 다중 분류\n",
    "- 이미지 크기 맞추기 : 여기서는 필요 없음 28, 28, 1(흑백)\n",
    "- 정규화 : 피쳐 정규화 / 타겟 정규화"
   ],
   "metadata": {
    "collapsed": false
   },
   "id": "aaa633661b885ea0"
  },
  {
   "cell_type": "code",
   "outputs": [
    {
     "data": {
      "text/plain": "       pixel1  pixel2  pixel3  pixel4  pixel5    pixel6  pixel7  pixel8  \\\n0         0.0     0.0     0.0     0.0     0.0  0.000000     0.0     0.0   \n1         0.0     0.0     0.0     0.0     0.0  0.003922     0.0     0.0   \n2         0.0     0.0     0.0     0.0     0.0  0.000000     0.0     0.0   \n3         0.0     0.0     0.0     0.0     0.0  0.000000     0.0     0.0   \n4         0.0     0.0     0.0     0.0     0.0  0.000000     0.0     0.0   \n...       ...     ...     ...     ...     ...       ...     ...     ...   \n69995     0.0     0.0     0.0     0.0     0.0  0.000000     0.0     0.0   \n69996     0.0     0.0     0.0     0.0     0.0  0.000000     0.0     0.0   \n69997     0.0     0.0     0.0     0.0     0.0  0.000000     0.0     0.0   \n69998     0.0     0.0     0.0     0.0     0.0  0.000000     0.0     0.0   \n69999     0.0     0.0     0.0     0.0     0.0  0.000000     0.0     0.0   \n\n         pixel9   pixel10  ...  pixel775  pixel776  pixel777  pixel778  \\\n0      0.000000  0.000000  ...  0.000000  0.000000  0.000000  0.000000   \n1      0.000000  0.000000  ...  0.466667  0.447059  0.509804  0.298039   \n2      0.000000  0.086275  ...  0.000000  0.000000  0.003922  0.000000   \n3      0.129412  0.376471  ...  0.000000  0.000000  0.000000  0.000000   \n4      0.000000  0.000000  ...  0.000000  0.000000  0.000000  0.000000   \n...         ...       ...  ...       ...       ...       ...       ...   \n69995  0.000000  0.000000  ...  0.000000  0.000000  0.000000  0.000000   \n69996  0.000000  0.121569  ...  0.000000  0.000000  0.000000  0.000000   \n69997  0.000000  0.000000  ...  0.105882  0.000000  0.000000  0.000000   \n69998  0.000000  0.000000  ...  0.000000  0.000000  0.000000  0.000000   \n69999  0.000000  0.000000  ...  0.000000  0.000000  0.000000  0.000000   \n\n       pixel779  pixel780  pixel781  pixel782  pixel783  pixel784  \n0           0.0       0.0       0.0       0.0       0.0       0.0  \n1           0.0       0.0       0.0       0.0       0.0       0.0  \n2           0.0       0.0       0.0       0.0       0.0       0.0  \n3           0.0       0.0       0.0       0.0       0.0       0.0  \n4           0.0       0.0       0.0       0.0       0.0       0.0  \n...         ...       ...       ...       ...       ...       ...  \n69995       0.0       0.0       0.0       0.0       0.0       0.0  \n69996       0.0       0.0       0.0       0.0       0.0       0.0  \n69997       0.0       0.0       0.0       0.0       0.0       0.0  \n69998       0.0       0.0       0.0       0.0       0.0       0.0  \n69999       0.0       0.0       0.0       0.0       0.0       0.0  \n\n[70000 rows x 784 columns]",
      "text/html": "<div>\n<style scoped>\n    .dataframe tbody tr th:only-of-type {\n        vertical-align: middle;\n    }\n\n    .dataframe tbody tr th {\n        vertical-align: top;\n    }\n\n    .dataframe thead th {\n        text-align: right;\n    }\n</style>\n<table border=\"1\" class=\"dataframe\">\n  <thead>\n    <tr style=\"text-align: right;\">\n      <th></th>\n      <th>pixel1</th>\n      <th>pixel2</th>\n      <th>pixel3</th>\n      <th>pixel4</th>\n      <th>pixel5</th>\n      <th>pixel6</th>\n      <th>pixel7</th>\n      <th>pixel8</th>\n      <th>pixel9</th>\n      <th>pixel10</th>\n      <th>...</th>\n      <th>pixel775</th>\n      <th>pixel776</th>\n      <th>pixel777</th>\n      <th>pixel778</th>\n      <th>pixel779</th>\n      <th>pixel780</th>\n      <th>pixel781</th>\n      <th>pixel782</th>\n      <th>pixel783</th>\n      <th>pixel784</th>\n    </tr>\n  </thead>\n  <tbody>\n    <tr>\n      <th>0</th>\n      <td>0.0</td>\n      <td>0.0</td>\n      <td>0.0</td>\n      <td>0.0</td>\n      <td>0.0</td>\n      <td>0.000000</td>\n      <td>0.0</td>\n      <td>0.0</td>\n      <td>0.000000</td>\n      <td>0.000000</td>\n      <td>...</td>\n      <td>0.000000</td>\n      <td>0.000000</td>\n      <td>0.000000</td>\n      <td>0.000000</td>\n      <td>0.0</td>\n      <td>0.0</td>\n      <td>0.0</td>\n      <td>0.0</td>\n      <td>0.0</td>\n      <td>0.0</td>\n    </tr>\n    <tr>\n      <th>1</th>\n      <td>0.0</td>\n      <td>0.0</td>\n      <td>0.0</td>\n      <td>0.0</td>\n      <td>0.0</td>\n      <td>0.003922</td>\n      <td>0.0</td>\n      <td>0.0</td>\n      <td>0.000000</td>\n      <td>0.000000</td>\n      <td>...</td>\n      <td>0.466667</td>\n      <td>0.447059</td>\n      <td>0.509804</td>\n      <td>0.298039</td>\n      <td>0.0</td>\n      <td>0.0</td>\n      <td>0.0</td>\n      <td>0.0</td>\n      <td>0.0</td>\n      <td>0.0</td>\n    </tr>\n    <tr>\n      <th>2</th>\n      <td>0.0</td>\n      <td>0.0</td>\n      <td>0.0</td>\n      <td>0.0</td>\n      <td>0.0</td>\n      <td>0.000000</td>\n      <td>0.0</td>\n      <td>0.0</td>\n      <td>0.000000</td>\n      <td>0.086275</td>\n      <td>...</td>\n      <td>0.000000</td>\n      <td>0.000000</td>\n      <td>0.003922</td>\n      <td>0.000000</td>\n      <td>0.0</td>\n      <td>0.0</td>\n      <td>0.0</td>\n      <td>0.0</td>\n      <td>0.0</td>\n      <td>0.0</td>\n    </tr>\n    <tr>\n      <th>3</th>\n      <td>0.0</td>\n      <td>0.0</td>\n      <td>0.0</td>\n      <td>0.0</td>\n      <td>0.0</td>\n      <td>0.000000</td>\n      <td>0.0</td>\n      <td>0.0</td>\n      <td>0.129412</td>\n      <td>0.376471</td>\n      <td>...</td>\n      <td>0.000000</td>\n      <td>0.000000</td>\n      <td>0.000000</td>\n      <td>0.000000</td>\n      <td>0.0</td>\n      <td>0.0</td>\n      <td>0.0</td>\n      <td>0.0</td>\n      <td>0.0</td>\n      <td>0.0</td>\n    </tr>\n    <tr>\n      <th>4</th>\n      <td>0.0</td>\n      <td>0.0</td>\n      <td>0.0</td>\n      <td>0.0</td>\n      <td>0.0</td>\n      <td>0.000000</td>\n      <td>0.0</td>\n      <td>0.0</td>\n      <td>0.000000</td>\n      <td>0.000000</td>\n      <td>...</td>\n      <td>0.000000</td>\n      <td>0.000000</td>\n      <td>0.000000</td>\n      <td>0.000000</td>\n      <td>0.0</td>\n      <td>0.0</td>\n      <td>0.0</td>\n      <td>0.0</td>\n      <td>0.0</td>\n      <td>0.0</td>\n    </tr>\n    <tr>\n      <th>...</th>\n      <td>...</td>\n      <td>...</td>\n      <td>...</td>\n      <td>...</td>\n      <td>...</td>\n      <td>...</td>\n      <td>...</td>\n      <td>...</td>\n      <td>...</td>\n      <td>...</td>\n      <td>...</td>\n      <td>...</td>\n      <td>...</td>\n      <td>...</td>\n      <td>...</td>\n      <td>...</td>\n      <td>...</td>\n      <td>...</td>\n      <td>...</td>\n      <td>...</td>\n      <td>...</td>\n    </tr>\n    <tr>\n      <th>69995</th>\n      <td>0.0</td>\n      <td>0.0</td>\n      <td>0.0</td>\n      <td>0.0</td>\n      <td>0.0</td>\n      <td>0.000000</td>\n      <td>0.0</td>\n      <td>0.0</td>\n      <td>0.000000</td>\n      <td>0.000000</td>\n      <td>...</td>\n      <td>0.000000</td>\n      <td>0.000000</td>\n      <td>0.000000</td>\n      <td>0.000000</td>\n      <td>0.0</td>\n      <td>0.0</td>\n      <td>0.0</td>\n      <td>0.0</td>\n      <td>0.0</td>\n      <td>0.0</td>\n    </tr>\n    <tr>\n      <th>69996</th>\n      <td>0.0</td>\n      <td>0.0</td>\n      <td>0.0</td>\n      <td>0.0</td>\n      <td>0.0</td>\n      <td>0.000000</td>\n      <td>0.0</td>\n      <td>0.0</td>\n      <td>0.000000</td>\n      <td>0.121569</td>\n      <td>...</td>\n      <td>0.000000</td>\n      <td>0.000000</td>\n      <td>0.000000</td>\n      <td>0.000000</td>\n      <td>0.0</td>\n      <td>0.0</td>\n      <td>0.0</td>\n      <td>0.0</td>\n      <td>0.0</td>\n      <td>0.0</td>\n    </tr>\n    <tr>\n      <th>69997</th>\n      <td>0.0</td>\n      <td>0.0</td>\n      <td>0.0</td>\n      <td>0.0</td>\n      <td>0.0</td>\n      <td>0.000000</td>\n      <td>0.0</td>\n      <td>0.0</td>\n      <td>0.000000</td>\n      <td>0.000000</td>\n      <td>...</td>\n      <td>0.105882</td>\n      <td>0.000000</td>\n      <td>0.000000</td>\n      <td>0.000000</td>\n      <td>0.0</td>\n      <td>0.0</td>\n      <td>0.0</td>\n      <td>0.0</td>\n      <td>0.0</td>\n      <td>0.0</td>\n    </tr>\n    <tr>\n      <th>69998</th>\n      <td>0.0</td>\n      <td>0.0</td>\n      <td>0.0</td>\n      <td>0.0</td>\n      <td>0.0</td>\n      <td>0.000000</td>\n      <td>0.0</td>\n      <td>0.0</td>\n      <td>0.000000</td>\n      <td>0.000000</td>\n      <td>...</td>\n      <td>0.000000</td>\n      <td>0.000000</td>\n      <td>0.000000</td>\n      <td>0.000000</td>\n      <td>0.0</td>\n      <td>0.0</td>\n      <td>0.0</td>\n      <td>0.0</td>\n      <td>0.0</td>\n      <td>0.0</td>\n    </tr>\n    <tr>\n      <th>69999</th>\n      <td>0.0</td>\n      <td>0.0</td>\n      <td>0.0</td>\n      <td>0.0</td>\n      <td>0.0</td>\n      <td>0.000000</td>\n      <td>0.0</td>\n      <td>0.0</td>\n      <td>0.000000</td>\n      <td>0.000000</td>\n      <td>...</td>\n      <td>0.000000</td>\n      <td>0.000000</td>\n      <td>0.000000</td>\n      <td>0.000000</td>\n      <td>0.0</td>\n      <td>0.0</td>\n      <td>0.0</td>\n      <td>0.0</td>\n      <td>0.0</td>\n      <td>0.0</td>\n    </tr>\n  </tbody>\n</table>\n<p>70000 rows × 784 columns</p>\n</div>"
     },
     "execution_count": 217,
     "metadata": {},
     "output_type": "execute_result"
    }
   ],
   "source": [
    "# 피쳐 : 784개 색상값 즉, 0~255 범위의 값\n",
    "norm_feature = feature/255\n",
    "norm_feature"
   ],
   "metadata": {
    "collapsed": false,
    "ExecuteTime": {
     "end_time": "2024-03-14T12:11:26.123892900Z",
     "start_time": "2024-03-14T12:11:26.049313900Z"
    }
   },
   "id": "d8e882e26a823e47",
   "execution_count": 217
  },
  {
   "cell_type": "code",
   "outputs": [
    {
     "data": {
      "text/plain": "           0      1      2      3      4      5      6      7      8      9\n0      False  False  False  False  False  False  False  False  False   True\n1       True  False  False  False  False  False  False  False  False  False\n2       True  False  False  False  False  False  False  False  False  False\n3      False  False  False   True  False  False  False  False  False  False\n4       True  False  False  False  False  False  False  False  False  False\n...      ...    ...    ...    ...    ...    ...    ...    ...    ...    ...\n69995  False  False  False  False  False  False  False  False  False   True\n69996  False   True  False  False  False  False  False  False  False  False\n69997  False  False  False  False  False  False  False  False   True  False\n69998  False   True  False  False  False  False  False  False  False  False\n69999  False  False  False  False  False   True  False  False  False  False\n\n[70000 rows x 10 columns]",
      "text/html": "<div>\n<style scoped>\n    .dataframe tbody tr th:only-of-type {\n        vertical-align: middle;\n    }\n\n    .dataframe tbody tr th {\n        vertical-align: top;\n    }\n\n    .dataframe thead th {\n        text-align: right;\n    }\n</style>\n<table border=\"1\" class=\"dataframe\">\n  <thead>\n    <tr style=\"text-align: right;\">\n      <th></th>\n      <th>0</th>\n      <th>1</th>\n      <th>2</th>\n      <th>3</th>\n      <th>4</th>\n      <th>5</th>\n      <th>6</th>\n      <th>7</th>\n      <th>8</th>\n      <th>9</th>\n    </tr>\n  </thead>\n  <tbody>\n    <tr>\n      <th>0</th>\n      <td>False</td>\n      <td>False</td>\n      <td>False</td>\n      <td>False</td>\n      <td>False</td>\n      <td>False</td>\n      <td>False</td>\n      <td>False</td>\n      <td>False</td>\n      <td>True</td>\n    </tr>\n    <tr>\n      <th>1</th>\n      <td>True</td>\n      <td>False</td>\n      <td>False</td>\n      <td>False</td>\n      <td>False</td>\n      <td>False</td>\n      <td>False</td>\n      <td>False</td>\n      <td>False</td>\n      <td>False</td>\n    </tr>\n    <tr>\n      <th>2</th>\n      <td>True</td>\n      <td>False</td>\n      <td>False</td>\n      <td>False</td>\n      <td>False</td>\n      <td>False</td>\n      <td>False</td>\n      <td>False</td>\n      <td>False</td>\n      <td>False</td>\n    </tr>\n    <tr>\n      <th>3</th>\n      <td>False</td>\n      <td>False</td>\n      <td>False</td>\n      <td>True</td>\n      <td>False</td>\n      <td>False</td>\n      <td>False</td>\n      <td>False</td>\n      <td>False</td>\n      <td>False</td>\n    </tr>\n    <tr>\n      <th>4</th>\n      <td>True</td>\n      <td>False</td>\n      <td>False</td>\n      <td>False</td>\n      <td>False</td>\n      <td>False</td>\n      <td>False</td>\n      <td>False</td>\n      <td>False</td>\n      <td>False</td>\n    </tr>\n    <tr>\n      <th>...</th>\n      <td>...</td>\n      <td>...</td>\n      <td>...</td>\n      <td>...</td>\n      <td>...</td>\n      <td>...</td>\n      <td>...</td>\n      <td>...</td>\n      <td>...</td>\n      <td>...</td>\n    </tr>\n    <tr>\n      <th>69995</th>\n      <td>False</td>\n      <td>False</td>\n      <td>False</td>\n      <td>False</td>\n      <td>False</td>\n      <td>False</td>\n      <td>False</td>\n      <td>False</td>\n      <td>False</td>\n      <td>True</td>\n    </tr>\n    <tr>\n      <th>69996</th>\n      <td>False</td>\n      <td>True</td>\n      <td>False</td>\n      <td>False</td>\n      <td>False</td>\n      <td>False</td>\n      <td>False</td>\n      <td>False</td>\n      <td>False</td>\n      <td>False</td>\n    </tr>\n    <tr>\n      <th>69997</th>\n      <td>False</td>\n      <td>False</td>\n      <td>False</td>\n      <td>False</td>\n      <td>False</td>\n      <td>False</td>\n      <td>False</td>\n      <td>False</td>\n      <td>True</td>\n      <td>False</td>\n    </tr>\n    <tr>\n      <th>69998</th>\n      <td>False</td>\n      <td>True</td>\n      <td>False</td>\n      <td>False</td>\n      <td>False</td>\n      <td>False</td>\n      <td>False</td>\n      <td>False</td>\n      <td>False</td>\n      <td>False</td>\n    </tr>\n    <tr>\n      <th>69999</th>\n      <td>False</td>\n      <td>False</td>\n      <td>False</td>\n      <td>False</td>\n      <td>False</td>\n      <td>True</td>\n      <td>False</td>\n      <td>False</td>\n      <td>False</td>\n      <td>False</td>\n    </tr>\n  </tbody>\n</table>\n<p>70000 rows × 10 columns</p>\n</div>"
     },
     "execution_count": 218,
     "metadata": {},
     "output_type": "execute_result"
    }
   ],
   "source": [
    "# [2-2] 정규화 : One-Hot 인코딩으로 변환\n",
    "import pandas as pd\n",
    "pd.get_dummies(target)"
   ],
   "metadata": {
    "collapsed": false,
    "ExecuteTime": {
     "end_time": "2024-03-14T12:11:26.147918500Z",
     "start_time": "2024-03-14T12:11:26.124973700Z"
    }
   },
   "id": "c7f5d4f70ba8d01a",
   "execution_count": 218
  },
  {
   "cell_type": "code",
   "outputs": [],
   "source": [
    "# one-hot 2\n",
    "from sklearn.preprocessing import OneHotEncoder"
   ],
   "metadata": {
    "collapsed": false,
    "ExecuteTime": {
     "end_time": "2024-03-14T12:11:26.185709200Z",
     "start_time": "2024-03-14T12:11:26.139641200Z"
    }
   },
   "id": "5b8ddd3638ef091b",
   "execution_count": 219
  },
  {
   "cell_type": "code",
   "outputs": [],
   "source": [
    "targetDF = target.to_frame()"
   ],
   "metadata": {
    "collapsed": false,
    "ExecuteTime": {
     "end_time": "2024-03-14T12:11:26.213880Z",
     "start_time": "2024-03-14T12:11:26.157318700Z"
    }
   },
   "id": "f2f2813c52c067f9",
   "execution_count": 220
  },
  {
   "cell_type": "code",
   "outputs": [
    {
     "data": {
      "text/plain": "array([[0., 0., 0., ..., 0., 0., 1.],\n       [1., 0., 0., ..., 0., 0., 0.],\n       [1., 0., 0., ..., 0., 0., 0.],\n       ...,\n       [0., 0., 0., ..., 0., 1., 0.],\n       [0., 1., 0., ..., 0., 0., 0.],\n       [0., 0., 0., ..., 0., 0., 0.]])"
     },
     "execution_count": 221,
     "metadata": {},
     "output_type": "execute_result"
    }
   ],
   "source": [
    "# parse_output=False : ndarray 타입으로 반환\n",
    "ohEncoder = OneHotEncoder(sparse_output=False)\n",
    "norm_target = ohEncoder.fit_transform(targetDF) # one-hot encoder 안에는 꼭 2차원 \n",
    "# 라벨 인코딩은 정수로 바꿔줌 \n",
    "norm_target"
   ],
   "metadata": {
    "collapsed": false,
    "ExecuteTime": {
     "end_time": "2024-03-14T12:11:26.215990200Z",
     "start_time": "2024-03-14T12:11:26.172070900Z"
    }
   },
   "id": "813b4c3665d9bc78",
   "execution_count": 221
  },
  {
   "cell_type": "code",
   "outputs": [
    {
     "data": {
      "text/plain": "((70000, 10), 2)"
     },
     "execution_count": 222,
     "metadata": {},
     "output_type": "execute_result"
    }
   ],
   "source": [
    "norm_target.shape, norm_target.ndim"
   ],
   "metadata": {
    "collapsed": false,
    "ExecuteTime": {
     "end_time": "2024-03-14T12:11:26.245335500Z",
     "start_time": "2024-03-14T12:11:26.201378300Z"
    }
   },
   "id": "d0cffae3700d50ad",
   "execution_count": 222
  },
  {
   "cell_type": "markdown",
   "source": [
    "- 텐서화 시키기\n",
    "- 데이터 셋 준비 : 훈련용 60000, 테스트용 10000\n",
    "- 학습 방법 : 지도 학습 - 이진 분류 (softmax->but cross_entropy가 다 갖고 있음)\n",
    "- 최적화 방법 : 경사하강법 기반의 방법 (Adam, SDG, )\n",
    "- 손실함수 : 이진분류 손실 계산 함수(cross_entropy)"
   ],
   "metadata": {
    "collapsed": false
   },
   "id": "605f27356c080728"
  },
  {
   "cell_type": "code",
   "outputs": [],
   "source": [
    "### 데이터셋 준비\n",
    "limit = 60000\n",
    "\n",
    "train = norm_feature.iloc[:limit]\n",
    "test = norm_feature.iloc[limit:]"
   ],
   "metadata": {
    "collapsed": false,
    "ExecuteTime": {
     "end_time": "2024-03-14T12:11:26.328273100Z",
     "start_time": "2024-03-14T12:11:26.218141500Z"
    }
   },
   "id": "2387a57346ff979d",
   "execution_count": 223
  },
  {
   "cell_type": "code",
   "outputs": [],
   "source": [
    "train_y = norm_target[:limit]\n",
    "test_y = norm_target[limit:]"
   ],
   "metadata": {
    "collapsed": false,
    "ExecuteTime": {
     "end_time": "2024-03-14T12:11:26.330336600Z",
     "start_time": "2024-03-14T12:11:26.248400400Z"
    }
   },
   "id": "486e54e22321b2dc",
   "execution_count": 224
  },
  {
   "cell_type": "code",
   "outputs": [
    {
     "data": {
      "text/plain": "numpy.ndarray"
     },
     "execution_count": 225,
     "metadata": {},
     "output_type": "execute_result"
    }
   ],
   "source": [
    "type(test_y)"
   ],
   "metadata": {
    "collapsed": false,
    "ExecuteTime": {
     "end_time": "2024-03-14T12:11:26.331357Z",
     "start_time": "2024-03-14T12:11:26.265487800Z"
    }
   },
   "id": "cc4baccb9d13ba0e",
   "execution_count": 225
  },
  {
   "cell_type": "code",
   "outputs": [
    {
     "name": "stdout",
     "output_type": "stream",
     "text": [
      "train: (60000, 784), 2D\n",
      "train_y: (60000, 10), 2D\n"
     ]
    }
   ],
   "source": [
    "print(f\"train: {train.shape}, {train.ndim}D\")\n",
    "print(f\"train_y: {train_y.shape}, {train_y.ndim}D\")\n"
   ],
   "metadata": {
    "collapsed": false,
    "ExecuteTime": {
     "end_time": "2024-03-14T12:11:26.332381500Z",
     "start_time": "2024-03-14T12:11:26.281348100Z"
    }
   },
   "id": "d9fd6b70fdb01078",
   "execution_count": 226
  },
  {
   "cell_type": "code",
   "outputs": [],
   "source": [
    "X_train = torch.FloatTensor(train.values) \n",
    "X_test = torch.FloatTensor(test.values)\n",
    "y_train= torch.FloatTensor(train_y)\n",
    "y_test = torch.FloatTensor(test_y)"
   ],
   "metadata": {
    "collapsed": false,
    "ExecuteTime": {
     "end_time": "2024-03-15T00:17:42.958708800Z",
     "start_time": "2024-03-15T00:17:42.737143400Z"
    }
   },
   "id": "fad17b765834f010",
   "execution_count": 295
  },
  {
   "cell_type": "code",
   "outputs": [
    {
     "name": "stdout",
     "output_type": "stream",
     "text": [
      "X_train: torch.Size([60000, 784]), 2D\n",
      "y_train: torch.Size([60000, 10]), 2D\n",
      "X_test: torch.Size([10000, 784]), 2D\n",
      "y_test: torch.Size([10000, 10]), 2D\n"
     ]
    }
   ],
   "source": [
    "print(f\"X_train: {X_train.shape}, {X_train.ndim}D\")\n",
    "print(f\"y_train: {y_train.shape}, {y_train.ndim}D\")\n",
    "print(f\"X_test: {X_test.shape}, {X_test.ndim}D\")\n",
    "print(f\"y_test: {y_test.shape}, {y_test.ndim}D\")"
   ],
   "metadata": {
    "collapsed": false,
    "ExecuteTime": {
     "end_time": "2024-03-15T00:17:44.825880500Z",
     "start_time": "2024-03-15T00:17:44.809046300Z"
    }
   },
   "id": "72d6b421388ade2b",
   "execution_count": 296
  },
  {
   "cell_type": "code",
   "outputs": [
    {
     "data": {
      "text/plain": "Linear(in_features=784, out_features=10, bias=True)"
     },
     "execution_count": 297,
     "metadata": {},
     "output_type": "execute_result"
    }
   ],
   "source": [
    "# 학습 인스턴스 생성\n",
    "in_, out_ = X_train.shape[1], y_train.shape[1] # 784, 1 -> 원핫 한 걸로 했으면 784, 2\n",
    "model = nn.Linear(in_, out_) # 어제했던 required grad를 얘가 다 해줌 \n",
    "model"
   ],
   "metadata": {
    "collapsed": false,
    "ExecuteTime": {
     "end_time": "2024-03-15T00:17:47.629703400Z",
     "start_time": "2024-03-15T00:17:47.612901500Z"
    }
   },
   "id": "4e7f7e90a7d26ab6",
   "execution_count": 297
  },
  {
   "cell_type": "markdown",
   "source": [
    "위에 걸 보고 W를 만드는 것!! "
   ],
   "metadata": {
    "collapsed": false
   },
   "id": "ea75c32fa633f229"
  },
  {
   "cell_type": "code",
   "outputs": [],
   "source": [
    "# # parameters는 generator니까 print하고 싶으면 반복문 써야함 \n",
    "# for param in model.parameters():\n",
    "#     print(param)"
   ],
   "metadata": {
    "collapsed": false,
    "ExecuteTime": {
     "end_time": "2024-03-15T00:17:48.644093700Z",
     "start_time": "2024-03-15T00:17:48.635500500Z"
    }
   },
   "id": "4db17d753fee4143",
   "execution_count": 298
  },
  {
   "cell_type": "code",
   "outputs": [],
   "source": [
    "# 최적화 인스턴스 생성\n",
    "optimizer = optim.Adam(model.parameters()) # model.parameters -> W1, W2, W3...와 bias가 담겨 있음 "
   ],
   "metadata": {
    "collapsed": false,
    "ExecuteTime": {
     "end_time": "2024-03-15T00:17:49.265728800Z",
     "start_time": "2024-03-15T00:17:49.247887400Z"
    }
   },
   "id": "eb051c9c46bfd8f5",
   "execution_count": 299
  },
  {
   "cell_type": "code",
   "outputs": [],
   "source": [
    "# 학습 횟수 => 샘플 처음부터 끝까지 읽는 것 기준으로 횟수 지정\n",
    "EPOCHS = 150"
   ],
   "metadata": {
    "collapsed": false,
    "ExecuteTime": {
     "end_time": "2024-03-14T12:11:42.290410100Z",
     "start_time": "2024-03-14T12:11:42.265287500Z"
    }
   },
   "id": "c8fc8bf9af320835",
   "execution_count": 239
  },
  {
   "cell_type": "markdown",
   "source": [
    "# 4 학습\n",
    "- 반복 횟수 만큼 학습 진행 "
   ],
   "metadata": {
    "collapsed": false
   },
   "id": "caa4de126921623d"
  },
  {
   "cell_type": "code",
   "outputs": [
    {
     "name": "stdout",
     "output_type": "stream",
     "text": [
      "예측값 pre_y => torch.Size([60000, 10])\n",
      "[0] Loss => 0.49178993701934814\n",
      "예측값 pre_y => torch.Size([60000, 10])\n",
      "[1] Loss => 0.49123692512512207\n",
      "예측값 pre_y => torch.Size([60000, 10])\n",
      "[2] Loss => 0.4906885325908661\n",
      "예측값 pre_y => torch.Size([60000, 10])\n",
      "[3] Loss => 0.4901447594165802\n",
      "예측값 pre_y => torch.Size([60000, 10])\n",
      "[4] Loss => 0.48960554599761963\n",
      "예측값 pre_y => torch.Size([60000, 10])\n",
      "[5] Loss => 0.4890708327293396\n",
      "예측값 pre_y => torch.Size([60000, 10])\n",
      "[6] Loss => 0.4885404407978058\n",
      "예측값 pre_y => torch.Size([60000, 10])\n",
      "[7] Loss => 0.4880145192146301\n",
      "예측값 pre_y => torch.Size([60000, 10])\n",
      "[8] Loss => 0.4874928295612335\n",
      "예측값 pre_y => torch.Size([60000, 10])\n",
      "[9] Loss => 0.48697546124458313\n",
      "예측값 pre_y => torch.Size([60000, 10])\n",
      "[10] Loss => 0.48646223545074463\n",
      "예측값 pre_y => torch.Size([60000, 10])\n",
      "[11] Loss => 0.485953152179718\n",
      "예측값 pre_y => torch.Size([60000, 10])\n",
      "[12] Loss => 0.4854481518268585\n",
      "예측값 pre_y => torch.Size([60000, 10])\n",
      "[13] Loss => 0.48494723439216614\n",
      "예측값 pre_y => torch.Size([60000, 10])\n",
      "[14] Loss => 0.48445025086402893\n",
      "예측값 pre_y => torch.Size([60000, 10])\n",
      "[15] Loss => 0.4839572310447693\n",
      "예측값 pre_y => torch.Size([60000, 10])\n",
      "[16] Loss => 0.48346802592277527\n",
      "예측값 pre_y => torch.Size([60000, 10])\n",
      "[17] Loss => 0.4829827547073364\n",
      "예측값 pre_y => torch.Size([60000, 10])\n",
      "[18] Loss => 0.48250123858451843\n",
      "예측값 pre_y => torch.Size([60000, 10])\n",
      "[19] Loss => 0.4820234179496765\n",
      "예측값 pre_y => torch.Size([60000, 10])\n",
      "[20] Loss => 0.48154935240745544\n",
      "예측값 pre_y => torch.Size([60000, 10])\n",
      "[21] Loss => 0.4810788929462433\n",
      "예측값 pre_y => torch.Size([60000, 10])\n",
      "[22] Loss => 0.48061197996139526\n",
      "예측값 pre_y => torch.Size([60000, 10])\n",
      "[23] Loss => 0.4801487326622009\n",
      "예측값 pre_y => torch.Size([60000, 10])\n",
      "[24] Loss => 0.47968897223472595\n",
      "예측값 pre_y => torch.Size([60000, 10])\n",
      "[25] Loss => 0.47923263907432556\n",
      "예측값 pre_y => torch.Size([60000, 10])\n",
      "[26] Loss => 0.47877976298332214\n",
      "예측값 pre_y => torch.Size([60000, 10])\n",
      "[27] Loss => 0.4783303141593933\n",
      "예측값 pre_y => torch.Size([60000, 10])\n",
      "[28] Loss => 0.4778841733932495\n",
      "예측값 pre_y => torch.Size([60000, 10])\n",
      "[29] Loss => 0.47744134068489075\n",
      "예측값 pre_y => torch.Size([60000, 10])\n",
      "[30] Loss => 0.47700175642967224\n",
      "예측값 pre_y => torch.Size([60000, 10])\n",
      "[31] Loss => 0.476565420627594\n",
      "예측값 pre_y => torch.Size([60000, 10])\n",
      "[32] Loss => 0.4761323034763336\n",
      "예측값 pre_y => torch.Size([60000, 10])\n",
      "[33] Loss => 0.47570231556892395\n",
      "예측값 pre_y => torch.Size([60000, 10])\n",
      "[34] Loss => 0.4752754271030426\n",
      "예측값 pre_y => torch.Size([60000, 10])\n",
      "[35] Loss => 0.47485166788101196\n",
      "예측값 pre_y => torch.Size([60000, 10])\n",
      "[36] Loss => 0.4744309186935425\n",
      "예측값 pre_y => torch.Size([60000, 10])\n",
      "[37] Loss => 0.47401317954063416\n",
      "예측값 pre_y => torch.Size([60000, 10])\n",
      "[38] Loss => 0.4735983908176422\n",
      "예측값 pre_y => torch.Size([60000, 10])\n",
      "[39] Loss => 0.47318658232688904\n",
      "예측값 pre_y => torch.Size([60000, 10])\n",
      "[40] Loss => 0.47277766466140747\n",
      "예측값 pre_y => torch.Size([60000, 10])\n",
      "[41] Loss => 0.4723716080188751\n",
      "예측값 pre_y => torch.Size([60000, 10])\n",
      "[42] Loss => 0.471968412399292\n",
      "예측값 pre_y => torch.Size([60000, 10])\n",
      "[43] Loss => 0.4715680480003357\n",
      "예측값 pre_y => torch.Size([60000, 10])\n",
      "[44] Loss => 0.47117045521736145\n",
      "예측값 pre_y => torch.Size([60000, 10])\n",
      "[45] Loss => 0.4707755446434021\n",
      "예측값 pre_y => torch.Size([60000, 10])\n",
      "[46] Loss => 0.4703834354877472\n",
      "예측값 pre_y => torch.Size([60000, 10])\n",
      "[47] Loss => 0.4699939489364624\n",
      "예측값 pre_y => torch.Size([60000, 10])\n",
      "[48] Loss => 0.4696071147918701\n",
      "예측값 pre_y => torch.Size([60000, 10])\n",
      "[49] Loss => 0.4692229926586151\n",
      "예측값 pre_y => torch.Size([60000, 10])\n",
      "[50] Loss => 0.4688413441181183\n",
      "예측값 pre_y => torch.Size([60000, 10])\n",
      "[51] Loss => 0.46846237778663635\n",
      "예측값 pre_y => torch.Size([60000, 10])\n",
      "[52] Loss => 0.4680858850479126\n",
      "예측값 pre_y => torch.Size([60000, 10])\n",
      "[53] Loss => 0.4677119255065918\n",
      "예측값 pre_y => torch.Size([60000, 10])\n",
      "[54] Loss => 0.4673404395580292\n",
      "예측값 pre_y => torch.Size([60000, 10])\n",
      "[55] Loss => 0.46697139739990234\n",
      "예측값 pre_y => torch.Size([60000, 10])\n",
      "[56] Loss => 0.4666048288345337\n",
      "예측값 pre_y => torch.Size([60000, 10])\n",
      "[57] Loss => 0.46624061465263367\n",
      "예측값 pre_y => torch.Size([60000, 10])\n",
      "[58] Loss => 0.46587884426116943\n",
      "예측값 pre_y => torch.Size([60000, 10])\n",
      "[59] Loss => 0.46551939845085144\n",
      "예측값 pre_y => torch.Size([60000, 10])\n",
      "[60] Loss => 0.4651622772216797\n",
      "예측값 pre_y => torch.Size([60000, 10])\n",
      "[61] Loss => 0.4648074507713318\n",
      "예측값 pre_y => torch.Size([60000, 10])\n",
      "[62] Loss => 0.46445491909980774\n",
      "예측값 pre_y => torch.Size([60000, 10])\n",
      "[63] Loss => 0.46410468220710754\n",
      "예측값 pre_y => torch.Size([60000, 10])\n",
      "[64] Loss => 0.46375662088394165\n",
      "예측값 pre_y => torch.Size([60000, 10])\n",
      "[65] Loss => 0.46341079473495483\n",
      "예측값 pre_y => torch.Size([60000, 10])\n",
      "[66] Loss => 0.4630671441555023\n",
      "예측값 pre_y => torch.Size([60000, 10])\n",
      "[67] Loss => 0.4627256691455841\n",
      "예측값 pre_y => torch.Size([60000, 10])\n",
      "[68] Loss => 0.4623863697052002\n",
      "예측값 pre_y => torch.Size([60000, 10])\n",
      "[69] Loss => 0.4620491564273834\n",
      "예측값 pre_y => torch.Size([60000, 10])\n",
      "[70] Loss => 0.4617139995098114\n",
      "예측값 pre_y => torch.Size([60000, 10])\n",
      "[71] Loss => 0.4613809883594513\n",
      "예측값 pre_y => torch.Size([60000, 10])\n",
      "[72] Loss => 0.46105000376701355\n",
      "예측값 pre_y => torch.Size([60000, 10])\n",
      "[73] Loss => 0.46072107553482056\n",
      "예측값 pre_y => torch.Size([60000, 10])\n",
      "[74] Loss => 0.46039414405822754\n",
      "예측값 pre_y => torch.Size([60000, 10])\n",
      "[75] Loss => 0.4600692093372345\n",
      "예측값 pre_y => torch.Size([60000, 10])\n",
      "[76] Loss => 0.45974621176719666\n",
      "예측값 pre_y => torch.Size([60000, 10])\n",
      "[77] Loss => 0.4594252407550812\n",
      "예측값 pre_y => torch.Size([60000, 10])\n",
      "[78] Loss => 0.4591061472892761\n",
      "예측값 pre_y => torch.Size([60000, 10])\n",
      "[79] Loss => 0.45878899097442627\n",
      "예측값 pre_y => torch.Size([60000, 10])\n",
      "[80] Loss => 0.4584737718105316\n",
      "예측값 pre_y => torch.Size([60000, 10])\n",
      "[81] Loss => 0.4581603407859802\n",
      "예측값 pre_y => torch.Size([60000, 10])\n",
      "[82] Loss => 0.45784884691238403\n",
      "예측값 pre_y => torch.Size([60000, 10])\n",
      "[83] Loss => 0.4575392007827759\n",
      "예측값 pre_y => torch.Size([60000, 10])\n",
      "[84] Loss => 0.4572313129901886\n",
      "예측값 pre_y => torch.Size([60000, 10])\n",
      "[85] Loss => 0.45692530274391174\n",
      "예측값 pre_y => torch.Size([60000, 10])\n",
      "[86] Loss => 0.4566210210323334\n",
      "예측값 pre_y => torch.Size([60000, 10])\n",
      "[87] Loss => 0.45631855726242065\n",
      "예측값 pre_y => torch.Size([60000, 10])\n",
      "[88] Loss => 0.4560178518295288\n",
      "예측값 pre_y => torch.Size([60000, 10])\n",
      "[89] Loss => 0.45571884512901306\n",
      "예측값 pre_y => torch.Size([60000, 10])\n",
      "[90] Loss => 0.4554215371608734\n",
      "예측값 pre_y => torch.Size([60000, 10])\n",
      "[91] Loss => 0.455126017332077\n",
      "예측값 pre_y => torch.Size([60000, 10])\n",
      "[92] Loss => 0.45483216643333435\n",
      "예측값 pre_y => torch.Size([60000, 10])\n",
      "[93] Loss => 0.454539954662323\n",
      "예측값 pre_y => torch.Size([60000, 10])\n",
      "[94] Loss => 0.45424941182136536\n",
      "예측값 pre_y => torch.Size([60000, 10])\n",
      "[95] Loss => 0.45396050810813904\n",
      "예측값 pre_y => torch.Size([60000, 10])\n",
      "[96] Loss => 0.45367321372032166\n",
      "예측값 pre_y => torch.Size([60000, 10])\n",
      "[97] Loss => 0.4533875584602356\n",
      "예측값 pre_y => torch.Size([60000, 10])\n",
      "[98] Loss => 0.45310351252555847\n",
      "예측값 pre_y => torch.Size([60000, 10])\n",
      "[99] Loss => 0.4528209865093231\n",
      "예측값 pre_y => torch.Size([60000, 10])\n",
      "[100] Loss => 0.4525400698184967\n",
      "예측값 pre_y => torch.Size([60000, 10])\n",
      "[101] Loss => 0.45226073265075684\n",
      "예측값 pre_y => torch.Size([60000, 10])\n",
      "[102] Loss => 0.45198291540145874\n",
      "예측값 pre_y => torch.Size([60000, 10])\n",
      "[103] Loss => 0.45170658826828003\n",
      "예측값 pre_y => torch.Size([60000, 10])\n",
      "[104] Loss => 0.4514318108558655\n",
      "예측값 pre_y => torch.Size([60000, 10])\n",
      "[105] Loss => 0.45115846395492554\n",
      "예측값 pre_y => torch.Size([60000, 10])\n",
      "[106] Loss => 0.45088666677474976\n",
      "예측값 pre_y => torch.Size([60000, 10])\n",
      "[107] Loss => 0.45061632990837097\n",
      "예측값 pre_y => torch.Size([60000, 10])\n",
      "[108] Loss => 0.4503474235534668\n",
      "예측값 pre_y => torch.Size([60000, 10])\n",
      "[109] Loss => 0.450080007314682\n",
      "예측값 pre_y => torch.Size([60000, 10])\n",
      "[110] Loss => 0.44981396198272705\n",
      "예측값 pre_y => torch.Size([60000, 10])\n",
      "[111] Loss => 0.4495493471622467\n",
      "예측값 pre_y => torch.Size([60000, 10])\n",
      "[112] Loss => 0.44928616285324097\n",
      "예측값 pre_y => torch.Size([60000, 10])\n",
      "[113] Loss => 0.44902440905570984\n",
      "예측값 pre_y => torch.Size([60000, 10])\n",
      "[114] Loss => 0.44876396656036377\n",
      "예측값 pre_y => torch.Size([60000, 10])\n",
      "[115] Loss => 0.4485049545764923\n",
      "예측값 pre_y => torch.Size([60000, 10])\n",
      "[116] Loss => 0.4482472240924835\n",
      "예측값 pre_y => torch.Size([60000, 10])\n",
      "[117] Loss => 0.44799089431762695\n",
      "예측값 pre_y => torch.Size([60000, 10])\n",
      "[118] Loss => 0.44773587584495544\n",
      "예측값 pre_y => torch.Size([60000, 10])\n",
      "[119] Loss => 0.447482168674469\n",
      "예측값 pre_y => torch.Size([60000, 10])\n",
      "[120] Loss => 0.4472297430038452\n",
      "예측값 pre_y => torch.Size([60000, 10])\n",
      "[121] Loss => 0.44697871804237366\n",
      "예측값 pre_y => torch.Size([60000, 10])\n",
      "[122] Loss => 0.44672891497612\n",
      "예측값 pre_y => torch.Size([60000, 10])\n",
      "[123] Loss => 0.44648033380508423\n",
      "예측값 pre_y => torch.Size([60000, 10])\n",
      "[124] Loss => 0.4462330937385559\n",
      "예측값 pre_y => torch.Size([60000, 10])\n",
      "[125] Loss => 0.4459870755672455\n",
      "예측값 pre_y => torch.Size([60000, 10])\n",
      "[126] Loss => 0.44574233889579773\n",
      "예측값 pre_y => torch.Size([60000, 10])\n",
      "[127] Loss => 0.44549882411956787\n",
      "예측값 pre_y => torch.Size([60000, 10])\n",
      "[128] Loss => 0.44525647163391113\n",
      "예측값 pre_y => torch.Size([60000, 10])\n",
      "[129] Loss => 0.44501543045043945\n",
      "예측값 pre_y => torch.Size([60000, 10])\n",
      "[130] Loss => 0.4447754919528961\n",
      "예측값 pre_y => torch.Size([60000, 10])\n",
      "[131] Loss => 0.44453683495521545\n",
      "예측값 pre_y => torch.Size([60000, 10])\n",
      "[132] Loss => 0.44429928064346313\n",
      "예측값 pre_y => torch.Size([60000, 10])\n",
      "[133] Loss => 0.4440629482269287\n",
      "예측값 pre_y => torch.Size([60000, 10])\n",
      "[134] Loss => 0.4438277781009674\n",
      "예측값 pre_y => torch.Size([60000, 10])\n",
      "[135] Loss => 0.4435937702655792\n",
      "예측값 pre_y => torch.Size([60000, 10])\n",
      "[136] Loss => 0.4433608651161194\n",
      "예측값 pre_y => torch.Size([60000, 10])\n",
      "[137] Loss => 0.44312912225723267\n",
      "예측값 pre_y => torch.Size([60000, 10])\n",
      "[138] Loss => 0.4428985118865967\n",
      "예측값 pre_y => torch.Size([60000, 10])\n",
      "[139] Loss => 0.44266900420188904\n",
      "예측값 pre_y => torch.Size([60000, 10])\n",
      "[140] Loss => 0.44244056940078735\n",
      "예측값 pre_y => torch.Size([60000, 10])\n",
      "[141] Loss => 0.4422132670879364\n",
      "예측값 pre_y => torch.Size([60000, 10])\n",
      "[142] Loss => 0.4419870376586914\n",
      "예측값 pre_y => torch.Size([60000, 10])\n",
      "[143] Loss => 0.44176191091537476\n",
      "예측값 pre_y => torch.Size([60000, 10])\n",
      "[144] Loss => 0.44153788685798645\n",
      "예측값 pre_y => torch.Size([60000, 10])\n",
      "[145] Loss => 0.44131484627723694\n",
      "예측값 pre_y => torch.Size([60000, 10])\n",
      "[146] Loss => 0.44109290838241577\n",
      "예측값 pre_y => torch.Size([60000, 10])\n",
      "[147] Loss => 0.44087204337120056\n",
      "예측값 pre_y => torch.Size([60000, 10])\n",
      "[148] Loss => 0.44065219163894653\n",
      "예측값 pre_y => torch.Size([60000, 10])\n",
      "[149] Loss => 0.4404333233833313\n"
     ]
    }
   ],
   "source": [
    "loss_accuracy=[[], []]\n",
    "\n",
    "for ep in range(EPOCHS):\n",
    "    # 학습\n",
    "    pre_y = model(X_train) # 여기서는 1인지 0인지가 나오는 것이 아니고 W0 + W1x1.. 이 계산의 결과가 나오는 것 \n",
    "    print(f\"예측값 pre_y => {pre_y.shape}\")\n",
    "    \n",
    "    # 분류값 변환\n",
    "    # pre_y2 = F.sigmoid(pre_y) \n",
    "    # print(f\"분류값 pre_y2 => {pre_y2}\")\n",
    "    '''\n",
    "    다중한다고 cross entropy를 사용하면 알아서 softmax 포함하고 있음 -> 그래서 해당 코드에서 분류값 변환 부분이 필요가 없는 것 \n",
    "    binary는 그렇지가 않아서 sigmoid 따로 해주는 것 \n",
    "    '''\n",
    "    \n",
    "    # 오차 cost function 계산\n",
    "    loss = F.cross_entropy(pre_y, y_train)\n",
    "    loss_accuracy[0].append(loss.item())\n",
    "    #  loss_list.append(loss.item())\n",
    "    print(f\"[{ep}] Loss => {loss}\")\n",
    "    \n",
    "    # W, b 업데이트\n",
    "    optimizer.zero_grad() # \n",
    "    loss.backward() # 손실함수 계산 값으로 미분 진행 W, b 계산\n",
    "    optimizer.step() # backward에서 계산 W, b 업데이트\n",
    "    \n",
    "    # 정확도 계산 => 예측값을 0과 1로 변환 => 정답과 비교 \n",
    "    train_accuracy = (pre_y.argmax(dim=1)  == y_train.argmax(dim=1)).sum() / y_train.shape[0]\n",
    "    loss_accuracy[1].append(train_accuracy.item())"
   ],
   "metadata": {
    "collapsed": false,
    "ExecuteTime": {
     "end_time": "2024-03-14T12:17:06.632859300Z",
     "start_time": "2024-03-14T12:16:58.813095200Z"
    }
   },
   "id": "db873ab8e1588b7a",
   "execution_count": 245
  },
  {
   "cell_type": "code",
   "outputs": [
    {
     "data": {
      "text/plain": "tensor([9, 0, 0,  ..., 3, 0, 5])"
     },
     "execution_count": 246,
     "metadata": {},
     "output_type": "execute_result"
    }
   ],
   "source": [
    "y_train.argmax(dim=1) "
   ],
   "metadata": {
    "collapsed": false,
    "ExecuteTime": {
     "end_time": "2024-03-14T12:17:06.662438300Z",
     "start_time": "2024-03-14T12:17:06.637976100Z"
    }
   },
   "id": "479738cd58442ecf",
   "execution_count": 246
  },
  {
   "cell_type": "code",
   "outputs": [
    {
     "data": {
      "text/plain": "tensor([9, 0, 0,  ..., 3, 0, 5])"
     },
     "execution_count": 247,
     "metadata": {},
     "output_type": "execute_result"
    }
   ],
   "source": [
    "y_train.argmax(dim=1) \n",
    "# 이거 두 개가 같은지 봐야함 \n",
    "pre_y.argmax(dim=1) "
   ],
   "metadata": {
    "collapsed": false,
    "ExecuteTime": {
     "end_time": "2024-03-14T12:17:06.664577200Z",
     "start_time": "2024-03-14T12:17:06.651760Z"
    }
   },
   "id": "79fdeb46ee35dad3",
   "execution_count": 247
  },
  {
   "cell_type": "markdown",
   "source": [
    "# 손실과 정확도 시각화"
   ],
   "metadata": {
    "collapsed": false
   },
   "id": "c08e993528c6ab08"
  },
  {
   "cell_type": "code",
   "outputs": [
    {
     "data": {
      "text/plain": "<Figure size 640x480 with 2 Axes>",
      "image/png": "[encoded data removed]"
     },
     "metadata": {},
     "output_type": "display_data"
    }
   ],
   "source": [
    "import matplotlib.pyplot as plt\n",
    "\n",
    "fig, ax1 = plt.subplots()\n",
    "ax1.plot(loss_accuracy[0], label='loss', color=\"g\")\n",
    "\n",
    "ax2 = ax1.twinx()\n",
    "ax2.plot(loss_accuracy[1],label='accuracy', color='r')\n",
    "# plt.plot(loss_accuracy[0], label='loss')\n",
    "# plt.plot(loss_accuracy[1], label='accuracy')\n",
    "\n",
    "ax1.legend(loc='upper left')\n",
    "ax2.legend(loc='upper right')\n",
    "\n",
    "plt.xlabel(\"Epochs\")\n",
    "plt.show()"
   ],
   "metadata": {
    "collapsed": false,
    "ExecuteTime": {
     "end_time": "2024-03-14T12:17:06.864355200Z",
     "start_time": "2024-03-14T12:17:06.693802600Z"
    }
   },
   "id": "b46397421840ee0a",
   "execution_count": 248
  },
  {
   "cell_type": "markdown",
   "source": [
    "# 오늘 배운 거 \n",
    "- Class로 모델 직접 만들기"
   ],
   "metadata": {
    "collapsed": false
   },
   "id": "aa4b42ccefbc828b"
  },
  {
   "cell_type": "code",
   "outputs": [],
   "source": [
    "# SoftMax 회귀 모델 클래스 생성\n",
    "class MyModel(nn.Module):\n",
    "    def __init__(self, in_, out_): # Layer 생성 \n",
    "        super(MyModel, self).__init__() # 상속\n",
    "        # nn.Sequential을 사용하여 레이어들을 조합\n",
    "        self.layers = nn.Sequential( \n",
    "            nn.Linear(in_, 256),\n",
    "            nn.ReLU(),\n",
    "            nn.Linear(256, 128),\n",
    "            nn.ReLU(),\n",
    "            nn.Linear(128, 64),\n",
    "            nn.ReLU(),\n",
    "            nn.Linear(64, out_)\n",
    "        )\n",
    "        \n",
    "    def forward(self, x): # 순전파 학습 \n",
    "        # nn.Sequential로 정의한 레이어들의 순전파 동작이 자동으로 수행 \n",
    "        x = self.layers(x)\n",
    "        return x # F.softmax(x, dim=1)"
   ],
   "metadata": {
    "collapsed": false,
    "ExecuteTime": {
     "end_time": "2024-03-15T00:40:34.535590200Z",
     "start_time": "2024-03-15T00:40:34.513755100Z"
    }
   },
   "id": "edc6fe4937beea03",
   "execution_count": 313
  },
  {
   "cell_type": "code",
   "outputs": [
    {
     "name": "stdout",
     "output_type": "stream",
     "text": [
      "====== 모델 구조 확인 ======\n",
      " MyModel(\n",
      "  (layers): Sequential(\n",
      "    (0): Linear(in_features=784, out_features=256, bias=True)\n",
      "    (1): ReLU()\n",
      "    (2): Linear(in_features=256, out_features=128, bias=True)\n",
      "    (3): ReLU()\n",
      "    (4): Linear(in_features=128, out_features=64, bias=True)\n",
      "    (5): ReLU()\n",
      "    (6): Linear(in_features=64, out_features=10, bias=True)\n",
      "  )\n",
      ")\n"
     ]
    }
   ],
   "source": [
    "# 모델 인스턴스 생성 \n",
    "model = MyModel(784, 10)\n",
    "print(f\"====== 모델 구조 확인 ======\\n {model}\")"
   ],
   "metadata": {
    "collapsed": false,
    "ExecuteTime": {
     "end_time": "2024-03-15T00:40:34.921447900Z",
     "start_time": "2024-03-15T00:40:34.905521900Z"
    }
   },
   "id": "113e5ae19998077f",
   "execution_count": 314
  },
  {
   "cell_type": "code",
   "outputs": [
    {
     "name": "stdout",
     "output_type": "stream",
     "text": [
      "[1/100] Loss: 2.3026, Accuracy: 0.0972\n",
      "[2/100] Loss: 2.2315, Accuracy: 0.1533\n",
      "[3/100] Loss: 2.0945, Accuracy: 0.1392\n",
      "[4/100] Loss: 2.1400, Accuracy: 0.2616\n",
      "[5/100] Loss: 1.6223, Accuracy: 0.4176\n",
      "[6/100] Loss: 1.5114, Accuracy: 0.3943\n",
      "[7/100] Loss: 1.3109, Accuracy: 0.4536\n",
      "[8/100] Loss: 1.1604, Accuracy: 0.5077\n",
      "[9/100] Loss: 1.0112, Accuracy: 0.6197\n",
      "[10/100] Loss: 1.0329, Accuracy: 0.5783\n",
      "[11/100] Loss: 0.9385, Accuracy: 0.5898\n",
      "[12/100] Loss: 0.9049, Accuracy: 0.6046\n",
      "[13/100] Loss: 0.9116, Accuracy: 0.6600\n",
      "[14/100] Loss: 0.8585, Accuracy: 0.6377\n",
      "[15/100] Loss: 0.8062, Accuracy: 0.7000\n",
      "[16/100] Loss: 0.8131, Accuracy: 0.6804\n",
      "[17/100] Loss: 0.7780, Accuracy: 0.6818\n",
      "[18/100] Loss: 0.7288, Accuracy: 0.7261\n",
      "[19/100] Loss: 0.7128, Accuracy: 0.7420\n",
      "[20/100] Loss: 0.7027, Accuracy: 0.7306\n",
      "[21/100] Loss: 0.6869, Accuracy: 0.7328\n",
      "[22/100] Loss: 0.6568, Accuracy: 0.7584\n",
      "[23/100] Loss: 0.6405, Accuracy: 0.7660\n",
      "[24/100] Loss: 0.6238, Accuracy: 0.7701\n",
      "[25/100] Loss: 0.6116, Accuracy: 0.7709\n",
      "[26/100] Loss: 0.6085, Accuracy: 0.7694\n",
      "[27/100] Loss: 0.5925, Accuracy: 0.7742\n",
      "[28/100] Loss: 0.5711, Accuracy: 0.7854\n",
      "[29/100] Loss: 0.5628, Accuracy: 0.7912\n",
      "[30/100] Loss: 0.5562, Accuracy: 0.7973\n",
      "[31/100] Loss: 0.5463, Accuracy: 0.7977\n",
      "[32/100] Loss: 0.5370, Accuracy: 0.7957\n",
      "[33/100] Loss: 0.5262, Accuracy: 0.8027\n",
      "[34/100] Loss: 0.5187, Accuracy: 0.8121\n",
      "[35/100] Loss: 0.5125, Accuracy: 0.8134\n",
      "[36/100] Loss: 0.5047, Accuracy: 0.8180\n",
      "[37/100] Loss: 0.4981, Accuracy: 0.8203\n",
      "[38/100] Loss: 0.4907, Accuracy: 0.8225\n",
      "[39/100] Loss: 0.4836, Accuracy: 0.8295\n",
      "[40/100] Loss: 0.4773, Accuracy: 0.8288\n",
      "[41/100] Loss: 0.4715, Accuracy: 0.8313\n",
      "[42/100] Loss: 0.4652, Accuracy: 0.8338\n",
      "[43/100] Loss: 0.4585, Accuracy: 0.8359\n",
      "[44/100] Loss: 0.4549, Accuracy: 0.8378\n",
      "[45/100] Loss: 0.4509, Accuracy: 0.8363\n",
      "[46/100] Loss: 0.4508, Accuracy: 0.8377\n",
      "[47/100] Loss: 0.4555, Accuracy: 0.8328\n",
      "[48/100] Loss: 0.4666, Accuracy: 0.8277\n",
      "[49/100] Loss: 0.4635, Accuracy: 0.8323\n",
      "[50/100] Loss: 0.4255, Accuracy: 0.8476\n",
      "[51/100] Loss: 0.4501, Accuracy: 0.8363\n",
      "[52/100] Loss: 0.4296, Accuracy: 0.8451\n",
      "[53/100] Loss: 0.4307, Accuracy: 0.8435\n",
      "[54/100] Loss: 0.4222, Accuracy: 0.8479\n",
      "[55/100] Loss: 0.4157, Accuracy: 0.8506\n",
      "[56/100] Loss: 0.4127, Accuracy: 0.8508\n",
      "[57/100] Loss: 0.4076, Accuracy: 0.8542\n",
      "[58/100] Loss: 0.4017, Accuracy: 0.8556\n",
      "[59/100] Loss: 0.3979, Accuracy: 0.8577\n",
      "[60/100] Loss: 0.3926, Accuracy: 0.8588\n",
      "[61/100] Loss: 0.3890, Accuracy: 0.8601\n",
      "[62/100] Loss: 0.3843, Accuracy: 0.8614\n",
      "[63/100] Loss: 0.3822, Accuracy: 0.8633\n",
      "[64/100] Loss: 0.3764, Accuracy: 0.8642\n",
      "[65/100] Loss: 0.3743, Accuracy: 0.8656\n",
      "[66/100] Loss: 0.3720, Accuracy: 0.8652\n",
      "[67/100] Loss: 0.3750, Accuracy: 0.8653\n",
      "[68/100] Loss: 0.3877, Accuracy: 0.8544\n",
      "[69/100] Loss: 0.4390, Accuracy: 0.8464\n",
      "[70/100] Loss: 0.3809, Accuracy: 0.8596\n",
      "[71/100] Loss: 0.3841, Accuracy: 0.8588\n",
      "[72/100] Loss: 0.3963, Accuracy: 0.8578\n",
      "[73/100] Loss: 0.3688, Accuracy: 0.8678\n",
      "[74/100] Loss: 0.3936, Accuracy: 0.8513\n",
      "[75/100] Loss: 0.3578, Accuracy: 0.8724\n",
      "[76/100] Loss: 0.3797, Accuracy: 0.8613\n",
      "[77/100] Loss: 0.3519, Accuracy: 0.8737\n",
      "[78/100] Loss: 0.3655, Accuracy: 0.8647\n",
      "[79/100] Loss: 0.3507, Accuracy: 0.8729\n",
      "[80/100] Loss: 0.3525, Accuracy: 0.8736\n",
      "[81/100] Loss: 0.3499, Accuracy: 0.8740\n",
      "[82/100] Loss: 0.3429, Accuracy: 0.8748\n",
      "[83/100] Loss: 0.3439, Accuracy: 0.8740\n",
      "[84/100] Loss: 0.3380, Accuracy: 0.8778\n",
      "[85/100] Loss: 0.3370, Accuracy: 0.8774\n",
      "[86/100] Loss: 0.3344, Accuracy: 0.8777\n",
      "[87/100] Loss: 0.3305, Accuracy: 0.8797\n",
      "[88/100] Loss: 0.3281, Accuracy: 0.8808\n",
      "[89/100] Loss: 0.3275, Accuracy: 0.8797\n",
      "[90/100] Loss: 0.3236, Accuracy: 0.8817\n",
      "[91/100] Loss: 0.3212, Accuracy: 0.8832\n",
      "[92/100] Loss: 0.3210, Accuracy: 0.8821\n",
      "[93/100] Loss: 0.3162, Accuracy: 0.8841\n",
      "[94/100] Loss: 0.3163, Accuracy: 0.8842\n",
      "[95/100] Loss: 0.3123, Accuracy: 0.8848\n",
      "[96/100] Loss: 0.3117, Accuracy: 0.8862\n",
      "[97/100] Loss: 0.3094, Accuracy: 0.8870\n",
      "[98/100] Loss: 0.3074, Accuracy: 0.8870\n",
      "[99/100] Loss: 0.3049, Accuracy: 0.8885\n",
      "[100/100] Loss: 0.3040, Accuracy: 0.8896\n"
     ]
    }
   ],
   "source": [
    "# 모델 초기화\n",
    "model = MyModel(784, 10)\n",
    "\n",
    "# 최적화 함수 정의\n",
    "optimizer = optim.Adam(model.parameters(), lr=0.01)\n",
    "\n",
    "\n",
    "# 학습 수행\n",
    "loss_accuracy = [[], []]\n",
    "EPOCHS = 100\n",
    "\n",
    "for ep in range(EPOCHS):\n",
    "    # 학습\n",
    "    pre_y = model(X_train)  # 모델로부터 예측값 계산\n",
    "    \n",
    "    # 오차 (손실) 계산\n",
    "    loss = F.cross_entropy(pre_y, y_train)\n",
    "    loss_accuracy[0].append(loss.item())\n",
    "    \n",
    "    # W, b 업데이트\n",
    "    optimizer.zero_grad()\n",
    "    loss.backward()\n",
    "    optimizer.step()\n",
    "    \n",
    "    # 정확도 계산\n",
    "    train_accuracy = (pre_y.argmax(dim=1)  == y_train.argmax(dim=1)).sum() / y_train.shape[0]\n",
    "    loss_accuracy[1].append(train_accuracy)\n",
    "\n",
    "    print(f\"[{ep+1}/{EPOCHS}] Loss: {loss.item():.4f}, Accuracy: {train_accuracy:.4f}\")"
   ],
   "metadata": {
    "collapsed": false,
    "ExecuteTime": {
     "end_time": "2024-03-15T00:41:12.173724100Z",
     "start_time": "2024-03-15T00:40:35.330342800Z"
    }
   },
   "id": "877d119f7680c95c",
   "execution_count": 315
  },
  {
   "cell_type": "code",
   "outputs": [
    {
     "data": {
      "text/plain": "<Figure size 640x480 with 2 Axes>",
      "image/png": "[encoded data removed]"
     },
     "metadata": {},
     "output_type": "display_data"
    }
   ],
   "source": [
    "import matplotlib.pyplot as plt\n",
    "\n",
    "fig, ax1 = plt.subplots()\n",
    "ax1.plot(loss_accuracy[0], label='loss', color=\"g\")\n",
    "\n",
    "ax2 = ax1.twinx()\n",
    "ax2.plot(loss_accuracy[1],label='accuracy', color='r')\n",
    "# plt.plot(loss_accuracy[0], label='loss')\n",
    "# plt.plot(loss_accuracy[1], label='accuracy')\n",
    "\n",
    "ax1.legend(loc='upper left')\n",
    "ax2.legend(loc='upper right')\n",
    "\n",
    "plt.xlabel(\"Epochs\")\n",
    "plt.show()"
   ],
   "metadata": {
    "collapsed": false,
    "ExecuteTime": {
     "end_time": "2024-03-15T00:41:14.891780900Z",
     "start_time": "2024-03-15T00:41:14.720399Z"
    }
   },
   "id": "8ca2831451cf44d2",
   "execution_count": 316
  },
  {
   "cell_type": "code",
   "outputs": [],
   "source": [
    " "
   ],
   "metadata": {
    "collapsed": false
   },
   "id": "5875857ca77c7e7"
  }
 ],
 "metadata": {
  "kernelspec": {
   "display_name": "Python 3",
   "language": "python",
   "name": "python3"
  },
  "language_info": {
   "codemirror_mode": {
    "name": "ipython",
    "version": 2
   },
   "file_extension": ".py",
   "mimetype": "text/x-python",
   "name": "python",
   "nbconvert_exporter": "python",
   "pygments_lexer": "ipython2",
   "version": "2.7.6"
  }
 },
 "nbformat": 4,
 "nbformat_minor": 5
}
