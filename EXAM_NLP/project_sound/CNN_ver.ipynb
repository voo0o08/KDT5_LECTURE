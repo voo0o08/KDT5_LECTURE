{
 "cells": [
  {
   "cell_type": "markdown",
   "source": [
    "# dance - ballade 분류(VGG Ver)\n",
    "- 프로젝트에 사용된 파일"
   ],
   "metadata": {
    "collapsed": false
   },
   "id": "35b0beaa710e4036"
  },
  {
   "cell_type": "code",
   "outputs": [],
   "source": [
    "# 모듈 로딩\n",
    "import pandas as pd\n",
    "import numpy as np\n",
    "\n",
    "from PIL import Image\n",
    "import torchvision.transforms as transforms\n",
    "from torch.utils.data import DataLoader, WeightedRandomSampler\n",
    "\n",
    "\n",
    "import torch\n",
    "import torch.nn as nn\n",
    "import torch.nn.functional as F\n",
    "import torch.optim as optim\n",
    "import torch.nn.init as init\n",
    "import matplotlib.pyplot as plt"
   ],
   "metadata": {
    "collapsed": false,
    "ExecuteTime": {
     "end_time": "2024-04-04T12:13:00.144601400Z",
     "start_time": "2024-04-04T12:13:00.045768600Z"
    }
   },
   "id": "9194ba7419847ba8",
   "execution_count": 151
  },
  {
   "cell_type": "markdown",
   "source": [
    "# 데이터 불러오기"
   ],
   "metadata": {
    "collapsed": false
   },
   "id": "2e665d5a2538f343"
  },
  {
   "cell_type": "code",
   "outputs": [],
   "source": [
    "from torchvision.datasets import ImageFolder \n",
    "\n",
    "train_root = \"./data/train\" # 해당 경로 내에 있는 파일명이 곧 label이 되는 것\n",
    "# val_root = \"../data/project_img/validation\"\n",
    "test_root = \"./data/test\"\n",
    "\n",
    "mean = [0.485, 0.456, 0.406]\n",
    "std = [0.229, 0.224, 0.225]\n",
    "\n",
    "preprocessing = transforms.Compose([\n",
    "    transforms.Resize((50, 50), interpolation=transforms.InterpolationMode.BILINEAR), # 1. resize\n",
    "    # transforms.CenterCrop(224), # 2. 중앙크롭\n",
    "    transforms.ToTensor(),  # 3. 값의 크기를 0~1로\n",
    "    transforms.Normalize(mean=mean, std=std) # 4. normalized\n",
    "])\n",
    "\n",
    "trainDS = ImageFolder(root=train_root, transform=preprocessing)\n",
    "# valDS = ImageFolder(root=val_root, transform=preprocessing)\n",
    "testDS = ImageFolder(root=test_root, transform=preprocessing)"
   ],
   "metadata": {
    "collapsed": false,
    "ExecuteTime": {
     "end_time": "2024-04-04T12:13:00.166742400Z",
     "start_time": "2024-04-04T12:13:00.149624100Z"
    }
   },
   "id": "56ee1fd646844f7b",
   "execution_count": 152
  },
  {
   "cell_type": "code",
   "outputs": [
    {
     "data": {
      "text/plain": "[('./data/train\\\\ballade\\\\balad1.png', 0),\n ('./data/train\\\\ballade\\\\balad10.png', 0),\n ('./data/train\\\\ballade\\\\balad100.png', 0),\n ('./data/train\\\\ballade\\\\balad11.png', 0),\n ('./data/train\\\\ballade\\\\balad12.png', 0),\n ('./data/train\\\\ballade\\\\balad13.png', 0),\n ('./data/train\\\\ballade\\\\balad14.png', 0),\n ('./data/train\\\\ballade\\\\balad15.png', 0),\n ('./data/train\\\\ballade\\\\balad16.png', 0),\n ('./data/train\\\\ballade\\\\balad17.png', 0),\n ('./data/train\\\\ballade\\\\balad18.png', 0),\n ('./data/train\\\\ballade\\\\balad2.png', 0),\n ('./data/train\\\\ballade\\\\balad20.png', 0),\n ('./data/train\\\\ballade\\\\balad21.png', 0),\n ('./data/train\\\\ballade\\\\balad22.png', 0),\n ('./data/train\\\\ballade\\\\balad23.png', 0),\n ('./data/train\\\\ballade\\\\balad25.png', 0),\n ('./data/train\\\\ballade\\\\balad26.png', 0),\n ('./data/train\\\\ballade\\\\balad28.png', 0),\n ('./data/train\\\\ballade\\\\balad29.png', 0),\n ('./data/train\\\\ballade\\\\balad3.png', 0),\n ('./data/train\\\\ballade\\\\balad30.png', 0),\n ('./data/train\\\\ballade\\\\balad32.png', 0),\n ('./data/train\\\\ballade\\\\balad33.png', 0),\n ('./data/train\\\\ballade\\\\balad34.png', 0),\n ('./data/train\\\\ballade\\\\balad36.png', 0),\n ('./data/train\\\\ballade\\\\balad37.png', 0),\n ('./data/train\\\\ballade\\\\balad39.png', 0),\n ('./data/train\\\\ballade\\\\balad4.png', 0),\n ('./data/train\\\\ballade\\\\balad40.png', 0),\n ('./data/train\\\\ballade\\\\balad41.png', 0),\n ('./data/train\\\\ballade\\\\balad42.png', 0),\n ('./data/train\\\\ballade\\\\balad44.png', 0),\n ('./data/train\\\\ballade\\\\balad46.png', 0),\n ('./data/train\\\\ballade\\\\balad47.png', 0),\n ('./data/train\\\\ballade\\\\balad48.png', 0),\n ('./data/train\\\\ballade\\\\balad49.png', 0),\n ('./data/train\\\\ballade\\\\balad5.png', 0),\n ('./data/train\\\\ballade\\\\balad50.png', 0),\n ('./data/train\\\\ballade\\\\balad53.png', 0),\n ('./data/train\\\\ballade\\\\balad54.png', 0),\n ('./data/train\\\\ballade\\\\balad55.png', 0),\n ('./data/train\\\\ballade\\\\balad56.png', 0),\n ('./data/train\\\\ballade\\\\balad57.png', 0),\n ('./data/train\\\\ballade\\\\balad58.png', 0),\n ('./data/train\\\\ballade\\\\balad6.png', 0),\n ('./data/train\\\\ballade\\\\balad61.png', 0),\n ('./data/train\\\\ballade\\\\balad62.png', 0),\n ('./data/train\\\\ballade\\\\balad63.png', 0),\n ('./data/train\\\\ballade\\\\balad64.png', 0),\n ('./data/train\\\\ballade\\\\balad65.png', 0),\n ('./data/train\\\\ballade\\\\balad67.png', 0),\n ('./data/train\\\\ballade\\\\balad69.png', 0),\n ('./data/train\\\\ballade\\\\balad7.png', 0),\n ('./data/train\\\\ballade\\\\balad70.png', 0),\n ('./data/train\\\\ballade\\\\balad71.png', 0),\n ('./data/train\\\\ballade\\\\balad72.png', 0),\n ('./data/train\\\\ballade\\\\balad74.png', 0),\n ('./data/train\\\\ballade\\\\balad75.png', 0),\n ('./data/train\\\\ballade\\\\balad77.png', 0),\n ('./data/train\\\\ballade\\\\balad78.png', 0),\n ('./data/train\\\\ballade\\\\balad79.png', 0),\n ('./data/train\\\\ballade\\\\balad8.png', 0),\n ('./data/train\\\\ballade\\\\balad81.png', 0),\n ('./data/train\\\\ballade\\\\balad82.png', 0),\n ('./data/train\\\\ballade\\\\balad83.png', 0),\n ('./data/train\\\\ballade\\\\balad85.png', 0),\n ('./data/train\\\\ballade\\\\balad86.png', 0),\n ('./data/train\\\\ballade\\\\balad88.png', 0),\n ('./data/train\\\\ballade\\\\balad89.png', 0),\n ('./data/train\\\\ballade\\\\balad9.png', 0),\n ('./data/train\\\\ballade\\\\balad90.png', 0),\n ('./data/train\\\\ballade\\\\balad91.png', 0),\n ('./data/train\\\\ballade\\\\balad93.png', 0),\n ('./data/train\\\\ballade\\\\balad94.png', 0),\n ('./data/train\\\\ballade\\\\balad95.png', 0),\n ('./data/train\\\\ballade\\\\balad96.png', 0),\n ('./data/train\\\\ballade\\\\balad97.png', 0),\n ('./data/train\\\\ballade\\\\balad98.png', 0),\n ('./data/train\\\\ballade\\\\balad99.png', 0),\n ('./data/train\\\\dance\\\\dance10.png', 1),\n ('./data/train\\\\dance\\\\dance100.png', 1),\n ('./data/train\\\\dance\\\\dance11.png', 1),\n ('./data/train\\\\dance\\\\dance12.png', 1),\n ('./data/train\\\\dance\\\\dance13.png', 1),\n ('./data/train\\\\dance\\\\dance15.png', 1),\n ('./data/train\\\\dance\\\\dance16.png', 1),\n ('./data/train\\\\dance\\\\dance17.png', 1),\n ('./data/train\\\\dance\\\\dance19.png', 1),\n ('./data/train\\\\dance\\\\dance2.png', 1),\n ('./data/train\\\\dance\\\\dance20.png', 1),\n ('./data/train\\\\dance\\\\dance22.png', 1),\n ('./data/train\\\\dance\\\\dance23.png', 1),\n ('./data/train\\\\dance\\\\dance24.png', 1),\n ('./data/train\\\\dance\\\\dance25.png', 1),\n ('./data/train\\\\dance\\\\dance26.png', 1),\n ('./data/train\\\\dance\\\\dance27.png', 1),\n ('./data/train\\\\dance\\\\dance3.png', 1),\n ('./data/train\\\\dance\\\\dance31.png', 1),\n ('./data/train\\\\dance\\\\dance34.png', 1),\n ('./data/train\\\\dance\\\\dance36.png', 1),\n ('./data/train\\\\dance\\\\dance37.png', 1),\n ('./data/train\\\\dance\\\\dance38.png', 1),\n ('./data/train\\\\dance\\\\dance39.png', 1),\n ('./data/train\\\\dance\\\\dance4.png', 1),\n ('./data/train\\\\dance\\\\dance40.png', 1),\n ('./data/train\\\\dance\\\\dance41.png', 1),\n ('./data/train\\\\dance\\\\dance43.png', 1),\n ('./data/train\\\\dance\\\\dance44.png', 1),\n ('./data/train\\\\dance\\\\dance45.png', 1),\n ('./data/train\\\\dance\\\\dance46.png', 1),\n ('./data/train\\\\dance\\\\dance47.png', 1),\n ('./data/train\\\\dance\\\\dance48.png', 1),\n ('./data/train\\\\dance\\\\dance5.png', 1),\n ('./data/train\\\\dance\\\\dance50.png', 1),\n ('./data/train\\\\dance\\\\dance51.png', 1),\n ('./data/train\\\\dance\\\\dance52.png', 1),\n ('./data/train\\\\dance\\\\dance53.png', 1),\n ('./data/train\\\\dance\\\\dance54.png', 1),\n ('./data/train\\\\dance\\\\dance55.png', 1),\n ('./data/train\\\\dance\\\\dance57.png', 1),\n ('./data/train\\\\dance\\\\dance58.png', 1),\n ('./data/train\\\\dance\\\\dance59.png', 1),\n ('./data/train\\\\dance\\\\dance6.png', 1),\n ('./data/train\\\\dance\\\\dance60.png', 1),\n ('./data/train\\\\dance\\\\dance61.png', 1),\n ('./data/train\\\\dance\\\\dance62.png', 1),\n ('./data/train\\\\dance\\\\dance64.png', 1),\n ('./data/train\\\\dance\\\\dance65.png', 1),\n ('./data/train\\\\dance\\\\dance66.png', 1),\n ('./data/train\\\\dance\\\\dance67.png', 1),\n ('./data/train\\\\dance\\\\dance68.png', 1),\n ('./data/train\\\\dance\\\\dance69.png', 1),\n ('./data/train\\\\dance\\\\dance71.png', 1),\n ('./data/train\\\\dance\\\\dance72.png', 1),\n ('./data/train\\\\dance\\\\dance73.png', 1),\n ('./data/train\\\\dance\\\\dance74.png', 1),\n ('./data/train\\\\dance\\\\dance75.png', 1),\n ('./data/train\\\\dance\\\\dance76.png', 1),\n ('./data/train\\\\dance\\\\dance78.png', 1),\n ('./data/train\\\\dance\\\\dance79.png', 1),\n ('./data/train\\\\dance\\\\dance8.png', 1),\n ('./data/train\\\\dance\\\\dance80.png', 1),\n ('./data/train\\\\dance\\\\dance81.png', 1),\n ('./data/train\\\\dance\\\\dance82.png', 1),\n ('./data/train\\\\dance\\\\dance83.png', 1),\n ('./data/train\\\\dance\\\\dance85.png', 1),\n ('./data/train\\\\dance\\\\dance86.png', 1),\n ('./data/train\\\\dance\\\\dance87.png', 1),\n ('./data/train\\\\dance\\\\dance88.png', 1),\n ('./data/train\\\\dance\\\\dance89.png', 1),\n ('./data/train\\\\dance\\\\dance9.png', 1),\n ('./data/train\\\\dance\\\\dance90.png', 1),\n ('./data/train\\\\dance\\\\dance92.png', 1),\n ('./data/train\\\\dance\\\\dance93.png', 1),\n ('./data/train\\\\dance\\\\dance94.png', 1),\n ('./data/train\\\\dance\\\\dance95.png', 1),\n ('./data/train\\\\dance\\\\dance96.png', 1),\n ('./data/train\\\\dance\\\\dance97.png', 1),\n ('./data/train\\\\dance\\\\dance99.png', 1)]"
     },
     "execution_count": 153,
     "metadata": {},
     "output_type": "execute_result"
    }
   ],
   "source": [
    "trainDS.samples"
   ],
   "metadata": {
    "collapsed": false,
    "ExecuteTime": {
     "end_time": "2024-04-04T12:13:00.217507300Z",
     "start_time": "2024-04-04T12:13:00.175609400Z"
    }
   },
   "id": "8aa94dba639469bb",
   "execution_count": 153
  },
  {
   "cell_type": "markdown",
   "source": [
    "## 데이터 셋이 잘 읽혔는지 확인"
   ],
   "metadata": {
    "collapsed": false
   },
   "id": "bca4528fe0e93b19"
  },
  {
   "cell_type": "code",
   "outputs": [
    {
     "data": {
      "text/plain": "(['ballade', 'dance'], {'ballade': 0, 'dance': 1})"
     },
     "execution_count": 154,
     "metadata": {},
     "output_type": "execute_result"
    }
   ],
   "source": [
    "trainDS.classes, trainDS.class_to_idx"
   ],
   "metadata": {
    "collapsed": false,
    "ExecuteTime": {
     "end_time": "2024-04-04T12:13:00.218852Z",
     "start_time": "2024-04-04T12:13:00.196924300Z"
    }
   },
   "id": "bc9729a8211af0cc",
   "execution_count": 154
  },
  {
   "cell_type": "code",
   "outputs": [],
   "source": [
    "# valDS.classes, valDS.class_to_idx"
   ],
   "metadata": {
    "collapsed": false,
    "ExecuteTime": {
     "end_time": "2024-04-04T12:13:00.284392400Z",
     "start_time": "2024-04-04T12:13:00.211094800Z"
    }
   },
   "id": "fe102052011e9fe9",
   "execution_count": 155
  },
  {
   "cell_type": "code",
   "outputs": [
    {
     "data": {
      "text/plain": "(['ballade', 'dance'], {'ballade': 0, 'dance': 1})"
     },
     "execution_count": 156,
     "metadata": {},
     "output_type": "execute_result"
    }
   ],
   "source": [
    "testDS.classes, testDS.class_to_idx"
   ],
   "metadata": {
    "collapsed": false,
    "ExecuteTime": {
     "end_time": "2024-04-04T12:13:00.286596800Z",
     "start_time": "2024-04-04T12:13:00.230056800Z"
    }
   },
   "id": "57df3703ffeabc57",
   "execution_count": 156
  },
  {
   "cell_type": "code",
   "outputs": [
    {
     "data": {
      "text/plain": "(160, 20)"
     },
     "execution_count": 157,
     "metadata": {},
     "output_type": "execute_result"
    }
   ],
   "source": [
    "# 비율 확인\n",
    "len(trainDS), len(testDS)"
   ],
   "metadata": {
    "collapsed": false,
    "ExecuteTime": {
     "end_time": "2024-04-04T12:13:00.289034700Z",
     "start_time": "2024-04-04T12:13:00.242501800Z"
    }
   },
   "id": "85e25d525831aadb",
   "execution_count": 157
  },
  {
   "cell_type": "code",
   "outputs": [
    {
     "data": {
      "text/plain": "tensor([[[1.4269, 1.6495, 1.6495,  ..., 1.6495, 1.6495, 1.5982],\n         [1.4440, 1.6667, 1.6667,  ..., 1.6667, 1.6667, 1.6153],\n         [1.4269, 1.6495, 1.6324,  ..., 1.6495, 1.6667, 1.6324],\n         ...,\n         [1.4612, 1.7009, 1.7009,  ..., 1.4098, 1.2728, 1.2214],\n         [1.1872, 1.4269, 1.4098,  ..., 0.6392, 0.2796, 0.1426],\n         [1.1700, 1.4098, 1.3927,  ..., 0.6221, 0.2624, 0.1254]],\n\n        [[1.5357, 1.7983, 1.7983,  ..., 1.7983, 1.7983, 1.7808],\n         [1.5532, 1.8158, 1.8158,  ..., 1.8158, 1.8158, 1.7983],\n         [1.5532, 1.8158, 1.8158,  ..., 1.8158, 1.8158, 1.8158],\n         ...,\n         [1.4307, 1.7108, 1.6933,  ..., 1.4482, 1.2381, 1.1155],\n         [1.5182, 1.7808, 1.7633,  ..., 1.3256, 1.0105, 0.8880],\n         [1.5007, 1.7633, 1.7458,  ..., 1.3081, 0.9930, 0.8704]],\n\n        [[1.7163, 1.9951, 2.0125,  ..., 1.9951, 1.9951, 2.0300],\n         [1.7337, 2.0125, 2.0300,  ..., 2.0125, 2.0125, 2.0474],\n         [1.7337, 2.0300, 2.0648,  ..., 2.0300, 2.0300, 2.0300],\n         ...,\n         [1.6291, 1.9254, 1.9080,  ..., 1.9428, 1.8557, 1.7337],\n         [2.0125, 2.2740, 2.2914,  ..., 2.6226, 2.6051, 2.5703],\n         [1.9951, 2.2566, 2.2740,  ..., 2.6051, 2.5877, 2.5529]]])"
     },
     "execution_count": 158,
     "metadata": {},
     "output_type": "execute_result"
    }
   ],
   "source": [
    "trainDS[0][0]"
   ],
   "metadata": {
    "collapsed": false,
    "ExecuteTime": {
     "end_time": "2024-04-04T12:13:00.363094100Z",
     "start_time": "2024-04-04T12:13:00.291476100Z"
    }
   },
   "id": "61d8a022288c4db3",
   "execution_count": 158
  },
  {
   "cell_type": "code",
   "outputs": [],
   "source": [
    "# def make_weights(labels, nclasses):\n",
    "#     labels = np.array(labels)   # where, unique 함수를 사용하기 위해 numpy로 변환한다.\n",
    "#     weight_list = []   # 가중치를 저장하는 배열을 생성한다.\n",
    "#  \n",
    "#     for cls in range(nclasses):\n",
    "#         idx = np.where(labels == cls)[0]\n",
    "#         count = len(idx)    #각 클래스 데이터 수 카운트 \n",
    "#         weight = 1/count    \n",
    "#         weights = [weight] * count    #라벨이 뽑힐 가중치를 1/count로 동일하게 전체 라벨에 할당 \n",
    "#         weight_list += weights\n",
    "#  \n",
    "#     return weight_list\n"
   ],
   "metadata": {
    "collapsed": false,
    "ExecuteTime": {
     "end_time": "2024-04-04T12:13:00.384645Z",
     "start_time": "2024-04-04T12:13:00.351275900Z"
    }
   },
   "id": "cbb1702bbd732a70",
   "execution_count": 159
  },
  {
   "cell_type": "code",
   "outputs": [],
   "source": [
    "# sampler -> 각 배치의 분포를 맞추기 위함 \n",
    "# weights = make_weights(imgDS.targets, len(imgDS.classes))\n",
    "weights = torch.ones(len(trainDS.targets), dtype=torch.float)\n",
    "# print(weights)\n",
    "sampler = WeightedRandomSampler(weights, len(weights))\n",
    "\n",
    "train_DL = DataLoader(trainDS, batch_size=20, sampler=sampler)\n",
    "\n",
    "\n",
    "test_DL = DataLoader(testDS, batch_size=20) # 걍 통으로 레쭈꼬\n",
    "\n",
    "# max = 10\n",
    "# for cnt, (_, label) in enumerate(train_DL):\n",
    "#     print(f'batch별 target 분포\\n{label.bincount()}\\n')\n",
    "#     if cnt > max:\n",
    "#         break"
   ],
   "metadata": {
    "collapsed": false,
    "ExecuteTime": {
     "end_time": "2024-04-04T12:13:00.427000300Z",
     "start_time": "2024-04-04T12:13:00.374021500Z"
    }
   },
   "id": "9d6debbd99eead3a",
   "execution_count": 160
  },
  {
   "cell_type": "code",
   "outputs": [],
   "source": [
    "# max = 10\n",
    "# for cnt, (_, label) in enumerate(val_DL):\n",
    "#     print(f'batch별 target 분포\\n{label.bincount()}\\n')\n",
    "#     if cnt > max:\n",
    "#         break"
   ],
   "metadata": {
    "collapsed": false,
    "ExecuteTime": {
     "end_time": "2024-04-04T12:13:00.432299700Z",
     "start_time": "2024-04-04T12:13:00.405112800Z"
    }
   },
   "id": "5ba577f82fb7b486",
   "execution_count": 161
  },
  {
   "cell_type": "code",
   "outputs": [
    {
     "data": {
      "text/plain": "(8, 1)"
     },
     "execution_count": 162,
     "metadata": {},
     "output_type": "execute_result"
    }
   ],
   "source": [
    "len(train_DL), len(test_DL) # 배치 개수"
   ],
   "metadata": {
    "collapsed": false,
    "ExecuteTime": {
     "end_time": "2024-04-04T12:13:00.471718900Z",
     "start_time": "2024-04-04T12:13:00.434490700Z"
    }
   },
   "id": "6117f2ba111ec92c",
   "execution_count": 162
  },
  {
   "cell_type": "markdown",
   "source": [
    "# 전이학습 VGG model 불러오기"
   ],
   "metadata": {
    "collapsed": false
   },
   "id": "c597ce825f4d8c60"
  },
  {
   "cell_type": "code",
   "outputs": [
    {
     "name": "stdout",
     "output_type": "stream",
     "text": [
      "Using PyTorch version: 2.2.2  Device: cpu\n"
     ]
    }
   ],
   "source": [
    "### ===> 딥러닝 모델을 설계할 때 활용하는 장비 확인\n",
    "if torch.cuda.is_available():\n",
    "    DEVICE = torch.device('cuda')\n",
    "else:\n",
    "    DEVICE = torch.device('cpu')\n",
    "    \n",
    "print('Using PyTorch version:', torch.__version__, ' Device:', DEVICE)"
   ],
   "metadata": {
    "collapsed": false,
    "ExecuteTime": {
     "end_time": "2024-04-04T12:13:00.489330300Z",
     "start_time": "2024-04-04T12:13:00.461047900Z"
    }
   },
   "id": "f343160eda89d149",
   "execution_count": 163
  },
  {
   "cell_type": "code",
   "outputs": [],
   "source": [
    "# 사전 학습된 모델 로딩\n",
    "import torchvision.models as models # 다양한모델패키지\n",
    "model = models.vgg16(pretrained=True)\n",
    "\n",
    "# 사전 훈련된 모델의 파라미터 학습 유무 설정 함수\n",
    "def set_parameter_requires_grad(model, feature_extract = True):\n",
    "    if feature_extract:\n",
    "        for param in model.parameters():\n",
    "            param.requires_grad = False # 학습하는 것을 방지\n",
    "\n",
    "set_parameter_requires_grad(model) # 함수 호출"
   ],
   "metadata": {
    "collapsed": false,
    "ExecuteTime": {
     "end_time": "2024-04-04T12:13:01.657985900Z",
     "start_time": "2024-04-04T12:13:00.493541700Z"
    }
   },
   "id": "b15a9b47ccfd2140",
   "execution_count": 164
  },
  {
   "cell_type": "code",
   "outputs": [
    {
     "name": "stdout",
     "output_type": "stream",
     "text": [
      "BinaryClassifier(\n",
      "  (features): Sequential(\n",
      "    (0): Conv2d(3, 64, kernel_size=(3, 3), stride=(1, 1), padding=(1, 1))\n",
      "    (1): ReLU(inplace=True)\n",
      "    (2): Conv2d(64, 64, kernel_size=(3, 3), stride=(1, 1), padding=(1, 1))\n",
      "    (3): ReLU(inplace=True)\n",
      "    (4): MaxPool2d(kernel_size=2, stride=2, padding=0, dilation=1, ceil_mode=False)\n",
      "    (5): Conv2d(64, 128, kernel_size=(3, 3), stride=(1, 1), padding=(1, 1))\n",
      "    (6): ReLU(inplace=True)\n",
      "    (7): Conv2d(128, 128, kernel_size=(3, 3), stride=(1, 1), padding=(1, 1))\n",
      "    (8): ReLU(inplace=True)\n",
      "    (9): MaxPool2d(kernel_size=2, stride=2, padding=0, dilation=1, ceil_mode=False)\n",
      "    (10): Conv2d(128, 256, kernel_size=(3, 3), stride=(1, 1), padding=(1, 1))\n",
      "    (11): ReLU(inplace=True)\n",
      "    (12): Conv2d(256, 256, kernel_size=(3, 3), stride=(1, 1), padding=(1, 1))\n",
      "    (13): ReLU(inplace=True)\n",
      "    (14): Conv2d(256, 256, kernel_size=(3, 3), stride=(1, 1), padding=(1, 1))\n",
      "    (15): ReLU(inplace=True)\n",
      "    (16): MaxPool2d(kernel_size=2, stride=2, padding=0, dilation=1, ceil_mode=False)\n",
      "    (17): Conv2d(256, 512, kernel_size=(3, 3), stride=(1, 1), padding=(1, 1))\n",
      "    (18): ReLU(inplace=True)\n",
      "    (19): Conv2d(512, 512, kernel_size=(3, 3), stride=(1, 1), padding=(1, 1))\n",
      "    (20): ReLU(inplace=True)\n",
      "    (21): Conv2d(512, 512, kernel_size=(3, 3), stride=(1, 1), padding=(1, 1))\n",
      "    (22): ReLU(inplace=True)\n",
      "    (23): MaxPool2d(kernel_size=2, stride=2, padding=0, dilation=1, ceil_mode=False)\n",
      "    (24): Conv2d(512, 512, kernel_size=(3, 3), stride=(1, 1), padding=(1, 1))\n",
      "    (25): ReLU(inplace=True)\n",
      "    (26): Conv2d(512, 512, kernel_size=(3, 3), stride=(1, 1), padding=(1, 1))\n",
      "    (27): ReLU(inplace=True)\n",
      "    (28): Conv2d(512, 512, kernel_size=(3, 3), stride=(1, 1), padding=(1, 1))\n",
      "    (29): ReLU(inplace=True)\n",
      "    (30): MaxPool2d(kernel_size=2, stride=2, padding=0, dilation=1, ceil_mode=False)\n",
      "  )\n",
      "  (fc): Sequential(\n",
      "    (0): Linear(in_features=512, out_features=4096, bias=True)\n",
      "    (1): ReLU()\n",
      "    (2): Dropout(p=0.5, inplace=False)\n",
      "    (3): Linear(in_features=4096, out_features=1, bias=True)\n",
      "    (4): Sigmoid()\n",
      "  )\n",
      ")\n"
     ]
    }
   ],
   "source": [
    "# 분류기 부분을 이진 분류기로 수정하는 클래스 정의\n",
    "class BinaryClassifier(nn.Module):\n",
    "    def __init__(self):\n",
    "        super(BinaryClassifier, self).__init__()\n",
    "        # VGG16의 특성 추출기 부분만 가져오기\n",
    "        self.features = model.features\n",
    "        # VGG16의 특성 추출기의 출력 크기 계산\n",
    "        self.num_features = 512 * 1 * 1  # VGG16은 입력 이미지를 224x224 크기로 처리하므로, 50x50으로 하면 위 공식에 따라 1x1로 출력됩니다.\n",
    "        \n",
    "        # 이진 분류를 위한 새로운 fully connected layer 정의\n",
    "        self.fc = nn.Sequential(\n",
    "            nn.Linear(self.num_features, 4096),  # 특성 추출기의 출력 크기를 입력으로 받음\n",
    "            nn.ReLU(),\n",
    "            nn.Dropout(0.5),\n",
    "            nn.Linear(4096, 1),  # 이진 분류를 위한 출력 뉴런 수\n",
    "            nn.Sigmoid()  # 이진 분류를 위한 시그모이드 활성화 함수\n",
    "        )\n",
    "\n",
    "    def forward(self, x):\n",
    "        x = self.features(x)\n",
    "        x = x.view(x.size(0), -1)  # flatten\n",
    "        x = self.fc(x)\n",
    "        return x\n",
    "\n",
    "# 모델 생성\n",
    "model = BinaryClassifier()\n",
    "\n",
    "# 특성 추출기 부분의 파라미터를 고정시킴\n",
    "set_parameter_requires_grad(model)\n",
    "\n",
    "# 모델 구조 확인\n",
    "print(model)"
   ],
   "metadata": {
    "collapsed": false,
    "ExecuteTime": {
     "end_time": "2024-04-04T12:13:01.708166300Z",
     "start_time": "2024-04-04T12:13:01.665713900Z"
    }
   },
   "id": "314cb3aab41e2842",
   "execution_count": 165
  },
  {
   "cell_type": "code",
   "outputs": [],
   "source": [
    "for param in model.fc.parameters(): # 완전연결층은학습\n",
    "    param.requires_grad = True"
   ],
   "metadata": {
    "collapsed": false,
    "ExecuteTime": {
     "end_time": "2024-04-04T12:13:01.710342900Z",
     "start_time": "2024-04-04T12:13:01.690922300Z"
    }
   },
   "id": "fffa1a3d26ecf411",
   "execution_count": 166
  },
  {
   "cell_type": "markdown",
   "source": [
    "위 코드에서 BinaryClassifier 클래스는 VGG16의 특성 추출기 부분을 가져와서 이진 분류를 위한 새로운 fully connected layer를 추가하여 이진 분류기로 만듭니다. set_parameter_requires_grad 함수를 사용하여 특성 추출기 부분의 파라미터를 고정시킵니다. 이렇게 하면 특성 추출기 부분은 사전 훈련된 가중치를 고정시키고, 분류기 부분만 새로 훈련됩니다."
   ],
   "metadata": {
    "collapsed": false
   },
   "id": "24d3416a54cb0d5"
  },
  {
   "cell_type": "code",
   "outputs": [
    {
     "data": {
      "text/plain": "{'training': True,\n '_parameters': OrderedDict(),\n '_buffers': OrderedDict(),\n '_non_persistent_buffers_set': set(),\n '_backward_pre_hooks': OrderedDict(),\n '_backward_hooks': OrderedDict(),\n '_is_full_backward_hook': None,\n '_forward_hooks': OrderedDict(),\n '_forward_hooks_with_kwargs': OrderedDict(),\n '_forward_hooks_always_called': OrderedDict(),\n '_forward_pre_hooks': OrderedDict(),\n '_forward_pre_hooks_with_kwargs': OrderedDict(),\n '_state_dict_hooks': OrderedDict(),\n '_state_dict_pre_hooks': OrderedDict(),\n '_load_state_dict_pre_hooks': OrderedDict(),\n '_load_state_dict_post_hooks': OrderedDict(),\n '_modules': OrderedDict([('features',\n               Sequential(\n                 (0): Conv2d(3, 64, kernel_size=(3, 3), stride=(1, 1), padding=(1, 1))\n                 (1): ReLU(inplace=True)\n                 (2): Conv2d(64, 64, kernel_size=(3, 3), stride=(1, 1), padding=(1, 1))\n                 (3): ReLU(inplace=True)\n                 (4): MaxPool2d(kernel_size=2, stride=2, padding=0, dilation=1, ceil_mode=False)\n                 (5): Conv2d(64, 128, kernel_size=(3, 3), stride=(1, 1), padding=(1, 1))\n                 (6): ReLU(inplace=True)\n                 (7): Conv2d(128, 128, kernel_size=(3, 3), stride=(1, 1), padding=(1, 1))\n                 (8): ReLU(inplace=True)\n                 (9): MaxPool2d(kernel_size=2, stride=2, padding=0, dilation=1, ceil_mode=False)\n                 (10): Conv2d(128, 256, kernel_size=(3, 3), stride=(1, 1), padding=(1, 1))\n                 (11): ReLU(inplace=True)\n                 (12): Conv2d(256, 256, kernel_size=(3, 3), stride=(1, 1), padding=(1, 1))\n                 (13): ReLU(inplace=True)\n                 (14): Conv2d(256, 256, kernel_size=(3, 3), stride=(1, 1), padding=(1, 1))\n                 (15): ReLU(inplace=True)\n                 (16): MaxPool2d(kernel_size=2, stride=2, padding=0, dilation=1, ceil_mode=False)\n                 (17): Conv2d(256, 512, kernel_size=(3, 3), stride=(1, 1), padding=(1, 1))\n                 (18): ReLU(inplace=True)\n                 (19): Conv2d(512, 512, kernel_size=(3, 3), stride=(1, 1), padding=(1, 1))\n                 (20): ReLU(inplace=True)\n                 (21): Conv2d(512, 512, kernel_size=(3, 3), stride=(1, 1), padding=(1, 1))\n                 (22): ReLU(inplace=True)\n                 (23): MaxPool2d(kernel_size=2, stride=2, padding=0, dilation=1, ceil_mode=False)\n                 (24): Conv2d(512, 512, kernel_size=(3, 3), stride=(1, 1), padding=(1, 1))\n                 (25): ReLU(inplace=True)\n                 (26): Conv2d(512, 512, kernel_size=(3, 3), stride=(1, 1), padding=(1, 1))\n                 (27): ReLU(inplace=True)\n                 (28): Conv2d(512, 512, kernel_size=(3, 3), stride=(1, 1), padding=(1, 1))\n                 (29): ReLU(inplace=True)\n                 (30): MaxPool2d(kernel_size=2, stride=2, padding=0, dilation=1, ceil_mode=False)\n               )),\n              ('fc',\n               Sequential(\n                 (0): Linear(in_features=512, out_features=4096, bias=True)\n                 (1): ReLU()\n                 (2): Dropout(p=0.5, inplace=False)\n                 (3): Linear(in_features=4096, out_features=1, bias=True)\n                 (4): Sigmoid()\n               ))]),\n 'num_features': 512}"
     },
     "execution_count": 167,
     "metadata": {},
     "output_type": "execute_result"
    }
   ],
   "source": [
    "model.__dict__"
   ],
   "metadata": {
    "collapsed": false,
    "ExecuteTime": {
     "end_time": "2024-04-04T12:13:01.729493800Z",
     "start_time": "2024-04-04T12:13:01.706067900Z"
    }
   },
   "id": "84b984fb1fcbda88",
   "execution_count": 167
  },
  {
   "cell_type": "code",
   "outputs": [
    {
     "name": "stdout",
     "output_type": "stream",
     "text": [
      "BinaryClassifier(\n",
      "  (features): Sequential(\n",
      "    (0): Conv2d(3, 64, kernel_size=(3, 3), stride=(1, 1), padding=(1, 1))\n",
      "    (1): ReLU(inplace=True)\n",
      "    (2): Conv2d(64, 64, kernel_size=(3, 3), stride=(1, 1), padding=(1, 1))\n",
      "    (3): ReLU(inplace=True)\n",
      "    (4): MaxPool2d(kernel_size=2, stride=2, padding=0, dilation=1, ceil_mode=False)\n",
      "    (5): Conv2d(64, 128, kernel_size=(3, 3), stride=(1, 1), padding=(1, 1))\n",
      "    (6): ReLU(inplace=True)\n",
      "    (7): Conv2d(128, 128, kernel_size=(3, 3), stride=(1, 1), padding=(1, 1))\n",
      "    (8): ReLU(inplace=True)\n",
      "    (9): MaxPool2d(kernel_size=2, stride=2, padding=0, dilation=1, ceil_mode=False)\n",
      "    (10): Conv2d(128, 256, kernel_size=(3, 3), stride=(1, 1), padding=(1, 1))\n",
      "    (11): ReLU(inplace=True)\n",
      "    (12): Conv2d(256, 256, kernel_size=(3, 3), stride=(1, 1), padding=(1, 1))\n",
      "    (13): ReLU(inplace=True)\n",
      "    (14): Conv2d(256, 256, kernel_size=(3, 3), stride=(1, 1), padding=(1, 1))\n",
      "    (15): ReLU(inplace=True)\n",
      "    (16): MaxPool2d(kernel_size=2, stride=2, padding=0, dilation=1, ceil_mode=False)\n",
      "    (17): Conv2d(256, 512, kernel_size=(3, 3), stride=(1, 1), padding=(1, 1))\n",
      "    (18): ReLU(inplace=True)\n",
      "    (19): Conv2d(512, 512, kernel_size=(3, 3), stride=(1, 1), padding=(1, 1))\n",
      "    (20): ReLU(inplace=True)\n",
      "    (21): Conv2d(512, 512, kernel_size=(3, 3), stride=(1, 1), padding=(1, 1))\n",
      "    (22): ReLU(inplace=True)\n",
      "    (23): MaxPool2d(kernel_size=2, stride=2, padding=0, dilation=1, ceil_mode=False)\n",
      "    (24): Conv2d(512, 512, kernel_size=(3, 3), stride=(1, 1), padding=(1, 1))\n",
      "    (25): ReLU(inplace=True)\n",
      "    (26): Conv2d(512, 512, kernel_size=(3, 3), stride=(1, 1), padding=(1, 1))\n",
      "    (27): ReLU(inplace=True)\n",
      "    (28): Conv2d(512, 512, kernel_size=(3, 3), stride=(1, 1), padding=(1, 1))\n",
      "    (29): ReLU(inplace=True)\n",
      "    (30): MaxPool2d(kernel_size=2, stride=2, padding=0, dilation=1, ceil_mode=False)\n",
      "  )\n",
      "  (fc): Sequential(\n",
      "    (0): Linear(in_features=512, out_features=4096, bias=True)\n",
      "    (1): ReLU()\n",
      "    (2): Dropout(p=0.5, inplace=False)\n",
      "    (3): Linear(in_features=4096, out_features=1, bias=True)\n",
      "    (4): Sigmoid()\n",
      "  )\n",
      ")\n"
     ]
    }
   ],
   "source": [
    "\n",
    "#################\n",
    "optimizer = torch.optim.Adam(model.fc.parameters()) # fc인 것이 중요!!\n",
    "criterion = nn.BCELoss() # 손실 함수 정의\n",
    "print(model)"
   ],
   "metadata": {
    "collapsed": false,
    "ExecuteTime": {
     "end_time": "2024-04-04T12:13:01.774928500Z",
     "start_time": "2024-04-04T12:13:01.723090500Z"
    }
   },
   "id": "6de9a22f5a594f21",
   "execution_count": 168
  },
  {
   "cell_type": "code",
   "outputs": [],
   "source": [
    "scheduler = optim.lr_scheduler.MultiStepLR(optimizer, milestones=[2, 3, 4, 8, 13, 18, 25, 30], gamma=0.5)\n",
    "# scheduler = optim.lr_scheduler.MultiStepLR(optimizer, milestones=[2, 6, 8, 13, 18, 25, 30], gamma=0.5)"
   ],
   "metadata": {
    "collapsed": false,
    "ExecuteTime": {
     "end_time": "2024-04-04T12:13:01.775977500Z",
     "start_time": "2024-04-04T12:13:01.738094300Z"
    }
   },
   "id": "173cc961d1fe0c37",
   "execution_count": 169
  },
  {
   "cell_type": "code",
   "outputs": [],
   "source": [
    "# CNN 모델 학습 진행 함수\n",
    "def train(epoch, model, train_loader, optimizer, log_interval):\n",
    "    model.train()\n",
    "    total_loss = 0\n",
    "    correct = 0\n",
    "    \n",
    "    for batch_idx, (image, label) in enumerate(train_loader):\n",
    "        image = image.to(DEVICE)\n",
    "        label = label.to(DEVICE)\n",
    "        # label = label.unsqueeze(dim=1).dtype(torch.)\n",
    "        \n",
    "        optimizer.zero_grad()\n",
    "        output = model(image)\n",
    "        label = label.float()\n",
    "        \n",
    "        loss = criterion(output, label.unsqueeze(dim = 1))\n",
    "        loss.backward()\n",
    "        optimizer.step()\n",
    "        \n",
    "        \n",
    "        total_loss += criterion(output, label.unsqueeze(dim = 1)).item()\n",
    "        prediction = output.round()\n",
    "        correct += prediction.eq(label.view_as(prediction)).sum().item()\n",
    "        \n",
    "        if batch_idx % log_interval == 0:\n",
    "            print(f\"Train Epoch: {epoch} [{batch_idx}]\\tTrain Loss: {loss.item():.6f}\")\n",
    "            \n",
    "    total_loss /= len(train_loader.dataset) # 평균 손실 \n",
    "    train_accuracy = 100. * correct / len(train_loader.dataset)\n",
    "    return total_loss, train_accuracy\n",
    "    "
   ],
   "metadata": {
    "collapsed": false,
    "ExecuteTime": {
     "end_time": "2024-04-04T12:13:01.795815800Z",
     "start_time": "2024-04-04T12:13:01.757538600Z"
    }
   },
   "id": "e400e8558bcb281f",
   "execution_count": 170
  },
  {
   "cell_type": "code",
   "outputs": [
    {
     "data": {
      "text/plain": "{'training': True,\n '_parameters': OrderedDict(),\n '_buffers': OrderedDict(),\n '_non_persistent_buffers_set': set(),\n '_backward_pre_hooks': OrderedDict(),\n '_backward_hooks': OrderedDict(),\n '_is_full_backward_hook': None,\n '_forward_hooks': OrderedDict(),\n '_forward_hooks_with_kwargs': OrderedDict(),\n '_forward_hooks_always_called': OrderedDict(),\n '_forward_pre_hooks': OrderedDict(),\n '_forward_pre_hooks_with_kwargs': OrderedDict(),\n '_state_dict_hooks': OrderedDict(),\n '_state_dict_pre_hooks': OrderedDict(),\n '_load_state_dict_pre_hooks': OrderedDict(),\n '_load_state_dict_post_hooks': OrderedDict(),\n '_modules': OrderedDict([('features',\n               Sequential(\n                 (0): Conv2d(3, 64, kernel_size=(3, 3), stride=(1, 1), padding=(1, 1))\n                 (1): ReLU(inplace=True)\n                 (2): Conv2d(64, 64, kernel_size=(3, 3), stride=(1, 1), padding=(1, 1))\n                 (3): ReLU(inplace=True)\n                 (4): MaxPool2d(kernel_size=2, stride=2, padding=0, dilation=1, ceil_mode=False)\n                 (5): Conv2d(64, 128, kernel_size=(3, 3), stride=(1, 1), padding=(1, 1))\n                 (6): ReLU(inplace=True)\n                 (7): Conv2d(128, 128, kernel_size=(3, 3), stride=(1, 1), padding=(1, 1))\n                 (8): ReLU(inplace=True)\n                 (9): MaxPool2d(kernel_size=2, stride=2, padding=0, dilation=1, ceil_mode=False)\n                 (10): Conv2d(128, 256, kernel_size=(3, 3), stride=(1, 1), padding=(1, 1))\n                 (11): ReLU(inplace=True)\n                 (12): Conv2d(256, 256, kernel_size=(3, 3), stride=(1, 1), padding=(1, 1))\n                 (13): ReLU(inplace=True)\n                 (14): Conv2d(256, 256, kernel_size=(3, 3), stride=(1, 1), padding=(1, 1))\n                 (15): ReLU(inplace=True)\n                 (16): MaxPool2d(kernel_size=2, stride=2, padding=0, dilation=1, ceil_mode=False)\n                 (17): Conv2d(256, 512, kernel_size=(3, 3), stride=(1, 1), padding=(1, 1))\n                 (18): ReLU(inplace=True)\n                 (19): Conv2d(512, 512, kernel_size=(3, 3), stride=(1, 1), padding=(1, 1))\n                 (20): ReLU(inplace=True)\n                 (21): Conv2d(512, 512, kernel_size=(3, 3), stride=(1, 1), padding=(1, 1))\n                 (22): ReLU(inplace=True)\n                 (23): MaxPool2d(kernel_size=2, stride=2, padding=0, dilation=1, ceil_mode=False)\n                 (24): Conv2d(512, 512, kernel_size=(3, 3), stride=(1, 1), padding=(1, 1))\n                 (25): ReLU(inplace=True)\n                 (26): Conv2d(512, 512, kernel_size=(3, 3), stride=(1, 1), padding=(1, 1))\n                 (27): ReLU(inplace=True)\n                 (28): Conv2d(512, 512, kernel_size=(3, 3), stride=(1, 1), padding=(1, 1))\n                 (29): ReLU(inplace=True)\n                 (30): MaxPool2d(kernel_size=2, stride=2, padding=0, dilation=1, ceil_mode=False)\n               )),\n              ('fc',\n               Sequential(\n                 (0): Linear(in_features=512, out_features=4096, bias=True)\n                 (1): ReLU()\n                 (2): Dropout(p=0.5, inplace=False)\n                 (3): Linear(in_features=4096, out_features=1, bias=True)\n                 (4): Sigmoid()\n               ))]),\n 'num_features': 512}"
     },
     "execution_count": 171,
     "metadata": {},
     "output_type": "execute_result"
    }
   ],
   "source": [
    "model.__dict__"
   ],
   "metadata": {
    "collapsed": false,
    "ExecuteTime": {
     "end_time": "2024-04-04T12:13:01.799261400Z",
     "start_time": "2024-04-04T12:13:01.770288700Z"
    }
   },
   "id": "15d6b98726d29f84",
   "execution_count": 171
  },
  {
   "cell_type": "code",
   "outputs": [],
   "source": [
    "### 검증 validation 진행 함수 \n",
    "def evaluate(model, val_loader):\n",
    "    model.eval()\n",
    "    test_loss = 0\n",
    "    correct = 0\n",
    "\n",
    "    with torch.no_grad():\n",
    "        for image, label in val_loader:\n",
    "            image = image.to(DEVICE)\n",
    "            label = label.to(DEVICE)\n",
    "            label = label.float()\n",
    "            output = model(image)\n",
    "            test_loss += criterion(output, label.unsqueeze(dim = 1)).item()\n",
    "            # print(output.max(1, keepdim = True))\n",
    "            prediction = output.round()  # 이진 분류에서는 반올림하여 0 또는 1로 변환\n",
    "            # print(label)\n",
    "            # print(prediction)\n",
    "            # print(prediction.eq(label.view_as(prediction)).sum().item())\n",
    "            # print()\n",
    "            correct += prediction.eq(label.view_as(prediction)).sum().item()\n",
    "\n",
    "    test_loss /= len(val_loader.dataset) # 평균 손실 \n",
    "    test_accuracy = 100. * correct / len(val_loader.dataset)\n",
    "    return test_loss, test_accuracy"
   ],
   "metadata": {
    "collapsed": false,
    "ExecuteTime": {
     "end_time": "2024-04-04T12:13:01.814761800Z",
     "start_time": "2024-04-04T12:13:01.787973100Z"
    }
   },
   "id": "f25346fb72290982",
   "execution_count": 172
  },
  {
   "cell_type": "markdown",
   "source": [
    "# 학습 진행"
   ],
   "metadata": {
    "collapsed": false
   },
   "id": "1900cdf2f3ffc0a1"
  },
  {
   "cell_type": "code",
   "outputs": [
    {
     "name": "stdout",
     "output_type": "stream",
     "text": [
      "Train Epoch: 1 [0]\tTrain Loss: 0.659953\n",
      "Train Epoch: 1 [1]\tTrain Loss: 0.545444\n",
      "Train Epoch: 1 [2]\tTrain Loss: 0.957186\n",
      "Train Epoch: 1 [3]\tTrain Loss: 0.561924\n",
      "Train Epoch: 1 [4]\tTrain Loss: 0.505919\n",
      "Train Epoch: 1 [5]\tTrain Loss: 0.553139\n",
      "Train Epoch: 1 [6]\tTrain Loss: 0.473474\n",
      "Train Epoch: 1 [7]\tTrain Loss: 0.457681\n",
      "\n",
      "[EPOCH: 1], \tTest Loss: 0.0194, \tTest Accuracy: 95.00 % \n",
      "\n",
      "Train Epoch: 2 [0]\tTrain Loss: 0.368905\n",
      "Train Epoch: 2 [1]\tTrain Loss: 0.358337\n",
      "Train Epoch: 2 [2]\tTrain Loss: 0.400055\n",
      "Train Epoch: 2 [3]\tTrain Loss: 0.364355\n",
      "Train Epoch: 2 [4]\tTrain Loss: 0.386518\n",
      "Train Epoch: 2 [5]\tTrain Loss: 0.471307\n",
      "Train Epoch: 2 [6]\tTrain Loss: 0.324702\n",
      "Train Epoch: 2 [7]\tTrain Loss: 0.389730\n",
      "\n",
      "[EPOCH: 2], \tTest Loss: 0.0129, \tTest Accuracy: 85.00 % \n",
      "Train Epoch: 3 [0]\tTrain Loss: 0.291592\n",
      "Train Epoch: 3 [1]\tTrain Loss: 0.184328\n",
      "Train Epoch: 3 [2]\tTrain Loss: 0.173178\n",
      "Train Epoch: 3 [3]\tTrain Loss: 0.371702\n",
      "Train Epoch: 3 [4]\tTrain Loss: 0.249330\n",
      "Train Epoch: 3 [5]\tTrain Loss: 0.320762\n",
      "Train Epoch: 3 [6]\tTrain Loss: 0.398399\n",
      "Train Epoch: 3 [7]\tTrain Loss: 0.204085\n",
      "\n",
      "[EPOCH: 3], \tTest Loss: 0.0109, \tTest Accuracy: 90.00 % \n",
      "\n",
      "Train Epoch: 4 [0]\tTrain Loss: 0.214374\n",
      "Train Epoch: 4 [1]\tTrain Loss: 0.269226\n",
      "Train Epoch: 4 [2]\tTrain Loss: 0.219405\n",
      "Train Epoch: 4 [3]\tTrain Loss: 0.203198\n",
      "Train Epoch: 4 [4]\tTrain Loss: 0.273201\n",
      "Train Epoch: 4 [5]\tTrain Loss: 0.157228\n",
      "Train Epoch: 4 [6]\tTrain Loss: 0.232259\n",
      "Train Epoch: 4 [7]\tTrain Loss: 0.222153\n",
      "\n",
      "[EPOCH: 4], \tTest Loss: 0.0099, \tTest Accuracy: 95.00 % \n",
      "Train Epoch: 5 [0]\tTrain Loss: 0.134586\n",
      "Train Epoch: 5 [1]\tTrain Loss: 0.100369\n",
      "Train Epoch: 5 [2]\tTrain Loss: 0.205016\n",
      "Train Epoch: 5 [3]\tTrain Loss: 0.213135\n",
      "Train Epoch: 5 [4]\tTrain Loss: 0.146316\n",
      "Train Epoch: 5 [5]\tTrain Loss: 0.176639\n",
      "Train Epoch: 5 [6]\tTrain Loss: 0.253709\n",
      "Train Epoch: 5 [7]\tTrain Loss: 0.387039\n",
      "\n",
      "[EPOCH: 5], \tTest Loss: 0.0097, \tTest Accuracy: 95.00 % \n",
      "Train Epoch: 6 [0]\tTrain Loss: 0.373887\n",
      "Train Epoch: 6 [1]\tTrain Loss: 0.361809\n",
      "Train Epoch: 6 [2]\tTrain Loss: 0.211761\n",
      "Train Epoch: 6 [3]\tTrain Loss: 0.164845\n",
      "Train Epoch: 6 [4]\tTrain Loss: 0.301379\n",
      "Train Epoch: 6 [5]\tTrain Loss: 0.163770\n",
      "Train Epoch: 6 [6]\tTrain Loss: 0.233986\n",
      "Train Epoch: 6 [7]\tTrain Loss: 0.263154\n",
      "\n",
      "[EPOCH: 6], \tTest Loss: 0.0100, \tTest Accuracy: 90.00 % \n",
      "Train Epoch: 7 [0]\tTrain Loss: 0.121549\n",
      "Train Epoch: 7 [1]\tTrain Loss: 0.232480\n",
      "Train Epoch: 7 [2]\tTrain Loss: 0.471028\n",
      "Train Epoch: 7 [3]\tTrain Loss: 0.135896\n",
      "Train Epoch: 7 [4]\tTrain Loss: 0.498274\n",
      "Train Epoch: 7 [5]\tTrain Loss: 0.231802\n",
      "Train Epoch: 7 [6]\tTrain Loss: 0.303413\n",
      "Train Epoch: 7 [7]\tTrain Loss: 0.355225\n",
      "\n",
      "[EPOCH: 7], \tTest Loss: 0.0095, \tTest Accuracy: 95.00 % \n",
      "\n",
      "Train Epoch: 8 [0]\tTrain Loss: 0.184062\n",
      "Train Epoch: 8 [1]\tTrain Loss: 0.085001\n",
      "Train Epoch: 8 [2]\tTrain Loss: 0.091855\n",
      "Train Epoch: 8 [3]\tTrain Loss: 0.227601\n",
      "Train Epoch: 8 [4]\tTrain Loss: 0.296305\n",
      "Train Epoch: 8 [5]\tTrain Loss: 0.197830\n",
      "Train Epoch: 8 [6]\tTrain Loss: 0.212711\n",
      "Train Epoch: 8 [7]\tTrain Loss: 0.372595\n",
      "\n",
      "[EPOCH: 8], \tTest Loss: 0.0090, \tTest Accuracy: 95.00 % \n",
      "Train Epoch: 9 [0]\tTrain Loss: 0.300754\n",
      "Train Epoch: 9 [1]\tTrain Loss: 0.081418\n",
      "Train Epoch: 9 [2]\tTrain Loss: 0.289821\n",
      "Train Epoch: 9 [3]\tTrain Loss: 0.161126\n",
      "Train Epoch: 9 [4]\tTrain Loss: 0.165577\n",
      "Train Epoch: 9 [5]\tTrain Loss: 0.183742\n",
      "Train Epoch: 9 [6]\tTrain Loss: 0.185915\n",
      "Train Epoch: 9 [7]\tTrain Loss: 0.227319\n",
      "\n",
      "[EPOCH: 9], \tTest Loss: 0.0089, \tTest Accuracy: 95.00 % \n",
      "\n",
      "Train Epoch: 10 [0]\tTrain Loss: 0.139680\n",
      "Train Epoch: 10 [1]\tTrain Loss: 0.142797\n",
      "Train Epoch: 10 [2]\tTrain Loss: 0.204765\n",
      "Train Epoch: 10 [3]\tTrain Loss: 0.130527\n",
      "Train Epoch: 10 [4]\tTrain Loss: 0.110230\n",
      "Train Epoch: 10 [5]\tTrain Loss: 0.248554\n",
      "Train Epoch: 10 [6]\tTrain Loss: 0.198030\n",
      "Train Epoch: 10 [7]\tTrain Loss: 0.279016\n",
      "\n",
      "[EPOCH: 10], \tTest Loss: 0.0087, \tTest Accuracy: 100.00 % \n"
     ]
    }
   ],
   "source": [
    "# CNN 학습\n",
    "EPOCHS = 10\n",
    "\n",
    "# 최고 성능 모델의 가중치 저장\n",
    "best_model_weights = None\n",
    "best_test_loss = np.inf\n",
    "patience = 10  # 조기 종료를 위한 참을성 값 설정\n",
    "counter = 0  # 성능이 향상되지 않는 epoch 카운터\n",
    "\n",
    "train_loss_acc = [[],[]]\n",
    "val_loss_acc = [[],[]]\n",
    "\n",
    "for epoch in range(1, EPOCHS + 1):\n",
    "    \n",
    "    train_loss, train_acc = train(epoch, model, train_DL, optimizer, log_interval=1)\n",
    "    train_loss_acc[0].append(train_loss)\n",
    "    train_loss_acc[1].append(train_acc)\n",
    "    \n",
    "    \n",
    "    test_loss, test_accuracy = evaluate(model, test_DL)\n",
    "    print(f\"\\n[EPOCH: {epoch}], \\tTest Loss: {test_loss:.4f}, \\tTest Accuracy: {test_accuracy:.2f} % \\n\")\n",
    "    val_loss_acc[0].append(test_loss)\n",
    "    val_loss_acc[1].append(test_accuracy)\n",
    "    \n",
    "    # 조기 종료 검사\n",
    "    if test_loss < best_test_loss:\n",
    "        best_test_loss = test_loss\n",
    "        best_model_weights = model.state_dict()  # 최고 성능 모델의 가중치 저장\n",
    "        counter = 0  # 카운터 초기화\n",
    "    else:\n",
    "        counter += 1  # 성능이 향상되지 않음\n",
    "        \n",
    "        if counter >= patience:\n",
    "            print(\"조기 종료: 검증 손실이 이전에 관측된 최적의 손실보다 높아짐\")\n",
    "            break\n",
    "    scheduler.step() # 스케줄러 \n",
    "            \n",
    "# 최고 성능 모델의 가중치로 모델을 업데이트\n",
    "if best_model_weights is not None:\n",
    "    model.load_state_dict(best_model_weights)"
   ],
   "metadata": {
    "collapsed": false,
    "ExecuteTime": {
     "end_time": "2024-04-04T12:13:18.199055800Z",
     "start_time": "2024-04-04T12:13:01.804711200Z"
    }
   },
   "id": "a699bfc38a1f98c2",
   "execution_count": 173
  },
  {
   "cell_type": "code",
   "outputs": [
    {
     "data": {
      "text/plain": "<Figure size 1000x500 with 1 Axes>",
      "image/png": "[encoded data removed]"
     },
     "metadata": {},
     "output_type": "display_data"
    },
    {
     "data": {
      "text/plain": "<Figure size 1000x500 with 1 Axes>",
      "image/png": "[encoded data removed]"
     },
     "metadata": {},
     "output_type": "display_data"
    }
   ],
   "source": [
    "from matplotlib import pyplot as plt\n",
    "# Loss 그래프 그리기\n",
    "plt.figure(figsize=(10, 5))\n",
    "plt.plot(train_loss_acc[0], label='Train Loss')\n",
    "plt.plot(val_loss_acc[0], label='Val Loss')\n",
    "plt.xlabel('Epoch')\n",
    "plt.ylabel('Loss')\n",
    "plt.title('Loss')\n",
    "plt.grid()\n",
    "plt.legend()\n",
    "plt.show()\n",
    "\n",
    "# Accuracy 그래프 그리기\n",
    "plt.figure(figsize=(10, 5))\n",
    "plt.plot(train_loss_acc[1], label='Train Accuracy')\n",
    "plt.plot(val_loss_acc[1], label='Val Accuracy')\n",
    "plt.xlabel('Epoch')\n",
    "plt.ylabel('Accuracy')\n",
    "plt.title('Accuracy')\n",
    "plt.legend()\n",
    "plt.grid()\n",
    "plt.show()"
   ],
   "metadata": {
    "collapsed": false,
    "ExecuteTime": {
     "end_time": "2024-04-04T12:13:18.534335400Z",
     "start_time": "2024-04-04T12:13:18.211555800Z"
    }
   },
   "id": "c39e32162de1a334",
   "execution_count": 174
  },
  {
   "cell_type": "markdown",
   "source": [
    "# test data predict"
   ],
   "metadata": {
    "collapsed": false
   },
   "id": "d1c74de496c90340"
  },
  {
   "cell_type": "code",
   "outputs": [
    {
     "data": {
      "text/plain": "100.0"
     },
     "execution_count": 175,
     "metadata": {},
     "output_type": "execute_result"
    }
   ],
   "source": [
    "def predict(model, val_loader):\n",
    "    model.eval()\n",
    "    correct = 0\n",
    "\n",
    "    with torch.no_grad():\n",
    "        for image, label in val_loader:\n",
    "            image = image.to(DEVICE)\n",
    "            label = label.to(DEVICE)\n",
    "            label = label.float()\n",
    "            output = model(image)\n",
    "            # print(output.max(1, keepdim = True))\n",
    "            prediction = output.round()  # 이진 분류에서는 반올림하여 0 또는 1로 변환\n",
    "            \n",
    "            correct += prediction.eq(label.view_as(prediction)).sum().item()\n",
    "    \n",
    "    test_accuracy = 100. * correct / len(val_loader.dataset)\n",
    "    return test_accuracy\n",
    "\n",
    "predict(model, test_DL)"
   ],
   "metadata": {
    "collapsed": false,
    "ExecuteTime": {
     "end_time": "2024-04-04T12:13:18.725274400Z",
     "start_time": "2024-04-04T12:13:18.528922300Z"
    }
   },
   "id": "b919dcec44235c18",
   "execution_count": 175
  },
  {
   "cell_type": "code",
   "outputs": [],
   "source": [
    "torch.save(model.state_dict(), 'model_VGG16.pth')"
   ],
   "metadata": {
    "collapsed": false,
    "ExecuteTime": {
     "end_time": "2024-04-05T04:45:40.980878100Z",
     "start_time": "2024-04-05T04:45:40.720104100Z"
    }
   },
   "id": "84d4a6239ba3c9c7",
   "execution_count": 178
  },
  {
   "cell_type": "code",
   "outputs": [],
   "source": [],
   "metadata": {
    "collapsed": false,
    "ExecuteTime": {
     "end_time": "2024-04-04T12:13:18.759629500Z",
     "start_time": "2024-04-04T12:13:18.744592600Z"
    }
   },
   "id": "42176a7feb3b07a2",
   "execution_count": 176
  }
 ],
 "metadata": {
  "kernelspec": {
   "display_name": "Python 3",
   "language": "python",
   "name": "python3"
  },
  "language_info": {
   "codemirror_mode": {
    "name": "ipython",
    "version": 2
   },
   "file_extension": ".py",
   "mimetype": "text/x-python",
   "name": "python",
   "nbconvert_exporter": "python",
   "pygments_lexer": "ipython2",
   "version": "2.7.6"
  }
 },
 "nbformat": 4,
 "nbformat_minor": 5
}
