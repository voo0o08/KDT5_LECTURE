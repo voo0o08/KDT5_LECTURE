{
 "cells": [
  {
   "cell_type": "code",
   "execution_count": null,
   "metadata": {},
   "outputs": [],
   "source": [
    "class StockDS(Dataset):\n",
    "  \n",
    "\n",
    "def __init__ ()-> 시작 종가 정규화 np.max 사용 \n",
    "\t self.data = self.csvDF.iloc[:, 1:4].values\n",
    "  self.data = self.data / np.max(self.data)\n",
    "\n",
    "  # 종가 데이터 정규화 \n",
    "  self.label = self.csvDF[\"Close\".values]\n",
    "\tself.label = self.label/np.max*(self.label)\n",
    " \n",
    "def __len__(self):\n",
    "\treturn len(self.data) -30 # 30개가 안되면 그 다음엔 예측할 값이 없어!! \n",
    "\n",
    "def __getitem__(self, i):\n",
    "\tdata = self.data[i:i+30]\n",
    "\tlabel = self.label[i+30]\n",
    " \n",
    "----------------------------------\n",
    " input 3\n",
    " hidden size 8\n",
    " num layer 5\n",
    " batch first True\n",
    " \n",
    " self.fc1 = nn.Linear(240, 60)"
   ]
  }
 ],
 "metadata": {
  "language_info": {
   "name": "python"
  }
 },
 "nbformat": 4,
 "nbformat_minor": 2
}
