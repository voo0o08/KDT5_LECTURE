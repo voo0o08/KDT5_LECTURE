{
 "cells": [
  {
   "cell_type": "markdown",
   "source": [
    "# 데이터 로딩 및 텐서 변환"
   ],
   "metadata": {
    "collapsed": false
   },
   "id": "b440d7fd26274c4f"
  },
  {
   "cell_type": "code",
   "outputs": [],
   "source": [
    "# 모듈로딩\n",
    "import pandas as pd\n",
    "import torch # Pytorch 텐서 기본 함수 관련 모듈\n",
    "import imageio.v2 as imageio # 이미지 데이터 관련 모듈"
   ],
   "metadata": {
    "collapsed": false,
    "ExecuteTime": {
     "end_time": "2024-03-13T05:01:31.195394100Z",
     "start_time": "2024-03-13T05:01:31.188991500Z"
    }
   },
   "id": "19cff715b0470f47",
   "execution_count": 8
  },
  {
   "cell_type": "code",
   "outputs": [],
   "source": [
    "# image data loading\n",
    "filename = \"../data/test.jpg\""
   ],
   "metadata": {
    "collapsed": false,
    "ExecuteTime": {
     "end_time": "2024-03-13T05:01:32.146596700Z",
     "start_time": "2024-03-13T05:01:32.134721200Z"
    }
   },
   "id": "196f1d9d2779ebc3",
   "execution_count": 9
  },
  {
   "cell_type": "code",
   "outputs": [
    {
     "name": "stdout",
     "output_type": "stream",
     "text": [
      "(3024, 4032, 3) 3\n"
     ]
    }
   ],
   "source": [
    "img_data = imageio.imread(filename) \n",
    "print(img_data.shape, img_data.ndim)"
   ],
   "metadata": {
    "collapsed": false,
    "ExecuteTime": {
     "end_time": "2024-03-13T05:01:32.497661400Z",
     "start_time": "2024-03-13T05:01:32.330049Z"
    }
   },
   "id": "69d11bed65751d30",
   "execution_count": 10
  },
  {
   "cell_type": "code",
   "outputs": [],
   "source": [
    "# ndarray => tensor 반환 \n",
    "img_t1 = torch.tensor(img_data) # 복사\n",
    "img_t2 = torch.from_numpy(img_data) # 공유\n",
    "img_t3 = torch.as_tensor(img_data) # 공유"
   ],
   "metadata": {
    "collapsed": false,
    "ExecuteTime": {
     "end_time": "2024-03-13T05:02:55.826925600Z",
     "start_time": "2024-03-13T05:02:55.800735800Z"
    }
   },
   "id": "e26bcded95dc5682",
   "execution_count": 13
  },
  {
   "cell_type": "code",
   "outputs": [
    {
     "name": "stdout",
     "output_type": "stream",
     "text": [
      "torch.Size([3024, 4032, 3]) 3\n"
     ]
    }
   ],
   "source": [
    "print(img_t1.shape, img_t1.ndim)"
   ],
   "metadata": {
    "collapsed": false,
    "ExecuteTime": {
     "end_time": "2024-03-13T05:02:56.602399700Z",
     "start_time": "2024-03-13T05:02:56.585449600Z"
    }
   },
   "id": "ba5033cbfb743b6b",
   "execution_count": 14
  },
  {
   "cell_type": "code",
   "outputs": [
    {
     "data": {
      "text/plain": "torch.Size([3, 3024, 4032])"
     },
     "execution_count": 15,
     "metadata": {},
     "output_type": "execute_result"
    }
   ],
   "source": [
    "# 행, 열, 채널 => 채널, 행, 열\n",
    "img_t1.permute(2, 0, 1).shape"
   ],
   "metadata": {
    "collapsed": false,
    "ExecuteTime": {
     "end_time": "2024-03-13T05:03:00.380973800Z",
     "start_time": "2024-03-13T05:03:00.369603900Z"
    }
   },
   "id": "efa9baf3de08e3e",
   "execution_count": 15
  },
  {
   "cell_type": "code",
   "outputs": [],
   "source": [],
   "metadata": {
    "collapsed": false
   },
   "id": "33e864b149ab5d39"
  }
 ],
 "metadata": {
  "kernelspec": {
   "display_name": "Python 3",
   "language": "python",
   "name": "python3"
  },
  "language_info": {
   "codemirror_mode": {
    "name": "ipython",
    "version": 2
   },
   "file_extension": ".py",
   "mimetype": "text/x-python",
   "name": "python",
   "nbconvert_exporter": "python",
   "pygments_lexer": "ipython2",
   "version": "2.7.6"
  }
 },
 "nbformat": 4,
 "nbformat_minor": 5
}
