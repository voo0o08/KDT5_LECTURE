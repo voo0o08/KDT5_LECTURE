{
 "cells": [
  {
   "cell_type": "code",
   "execution_count": 1,
   "id": "1306d9ed-2844-4e36-b4d1-b141da33225d",
   "metadata": {},
   "outputs": [],
   "source": [
    "import re"
   ]
  },
  {
   "cell_type": "code",
   "execution_count": 2,
   "id": "aaed67f7-c704-4a67-9fab-1f83784acc4d",
   "metadata": {},
   "outputs": [
    {
     "name": "stdout",
     "output_type": "stream",
     "text": [
      "None\n",
      "<re.Match object; span=(7, 12), match='apple'>\n"
     ]
    }
   ],
   "source": [
    "# compile() 사용 안함\n",
    "m = re.match(\"[a-z]\", \"Python\")\n",
    "print(m)\n",
    "print(re.search(\"apple\", \"I like apple!\"))"
   ]
  },
  {
   "cell_type": "code",
   "execution_count": 3,
   "id": "d1579a67-8724-4b31-afea-d60b6cf24c00",
   "metadata": {},
   "outputs": [
    {
     "name": "stdout",
     "output_type": "stream",
     "text": [
      "<re.Match object; span=(0, 6), match='python'>\n",
      "<re.Match object; span=(2, 6), match='like'>\n"
     ]
    }
   ],
   "source": [
    "# compile() 사용\n",
    "p = re.compile(\"[a-z]+\")\n",
    "m = p.match(\"python\")\n",
    "print(m)\n",
    "print(p.search(\"I like apple 123\"))"
   ]
  },
  {
   "cell_type": "code",
   "execution_count": 4,
   "id": "f1c51ca6-6dd4-4e54-876f-d77c74a16671",
   "metadata": {},
   "outputs": [
    {
     "data": {
      "text/plain": [
       "<re.Match object; span=(0, 2), match='py'>"
      ]
     },
     "execution_count": 4,
     "metadata": {},
     "output_type": "execute_result"
    }
   ],
   "source": [
    "m = re.match(\"[a-z]+\", \"py썬\") # 소문자가 1개 이상\n",
    "m"
   ]
  },
  {
   "cell_type": "code",
   "execution_count": 7,
   "id": "1a8f9f17-dfff-4969-922a-f9f3150191da",
   "metadata": {},
   "outputs": [
    {
     "name": "stdout",
     "output_type": "stream",
     "text": [
      "None\n"
     ]
    }
   ],
   "source": [
    "m = re.match(\"[a-z]+\", \"PYthon\") # 소문자가 1개 이상\n",
    "print(m)"
   ]
  },
  {
   "cell_type": "code",
   "execution_count": 8,
   "id": "87fde1c6-56b8-4e6f-b59d-a641581c8b40",
   "metadata": {},
   "outputs": [
    {
     "name": "stdout",
     "output_type": "stream",
     "text": [
      "<re.Match object; span=(0, 5), match='regex'>\n",
      "None\n",
      "<re.Match object; span=(0, 10), match='regexpytho'>\n",
      "None\n",
      "<re.Match object; span=(0, 5), match='regex'>\n",
      "<re.Match object; span=(0, 11), match='regexpython'>\n"
     ]
    }
   ],
   "source": [
    "print(re.match('[a-z]+',\t'regex python'))\n",
    "print(re.match('[a-z]+',\t' regexpython'))\n",
    "\n",
    "print(re.match('[a-z]+',\t'regexpythoN'))\n",
    "print(re.match('[a-z]+$',\t'regexpythoN')) # 문자열의 마지막 부분 검사\n",
    "\n",
    "print(re.match('[a-z]+',\t'regexPython'))\n",
    "print(re.match('[a-z]+$',\t'regexpython'))"
   ]
  },
  {
   "cell_type": "markdown",
   "id": "fdc98b32-8a9c-4e8f-8899-67d9d19f39b1",
   "metadata": {},
   "source": [
    "# Match 객체  \n",
    "- group(\\[group1]) \r",
    "-  groups()- \n",
    " groupdict(- \r\n",
    " sta\\rt([group- )\r\n",
    " \\end([grou- ])\r\n",
    " s작, 끝)에 해당하는 튜플을 반환"
   ]
  },
  {
   "cell_type": "code",
   "execution_count": 11,
   "id": "0051a974-99ce-4434-91db-f0b96782c5ec",
   "metadata": {},
   "outputs": [
    {
     "name": "stdout",
     "output_type": "stream",
     "text": [
      "02-123-4567\n",
      "None\n",
      "None\n"
     ]
    }
   ],
   "source": [
    "# 전화번호 분석\n",
    "tel_checker = re.compile(\"^(\\d{2,3})-(\\d{3,4})-(\\d{4})$\")\n",
    "print(tel_checker.match('02-123-4567').group())\n",
    "print(tel_checker.match('053-950-45678'))\n",
    "print(tel_checker.match('053950-4567'))"
   ]
  },
  {
   "cell_type": "markdown",
   "id": "aac124c2-bd68-444c-a3e4-860af306abcd",
   "metadata": {},
   "source": [
    "{n, m} : n개에서 m개까지   \n",
    "$ : 문자열의 종료  \n",
    "\\d : digit, 0~9를 의미"
   ]
  },
  {
   "cell_type": "markdown",
   "id": "1a01a040-7d72-493b-b550-5b07393ac257",
   "metadata": {
    "jp-MarkdownHeadingCollapsed": true
   },
   "source": [
    "# Match 메소드 예제\n",
    "- groups() : 매칭 결과를 튜플로 출력\n",
    "- group() : 매칭된 전체 문자열 반환\n",
    "- group(index) : 해당 인덱스에 매칭된 문자열 반환 / index = 0이면 전체 리턴"
   ]
  },
  {
   "cell_type": "code",
   "execution_count": 12,
   "id": "8c7428e9-42cc-4e16-90b3-71fecc38f6d7",
   "metadata": {},
   "outputs": [
    {
     "name": "stdout",
     "output_type": "stream",
     "text": [
      "m.groups() : ('02', '123', '4567')\n",
      "m.group() : 02-123-4567\n",
      "m.group(0) : 02-123-4567\n",
      "m.group(1) : 02\n",
      "m.group(2, 3) : ('123', '4567')\n",
      "start():\t 0\n",
      "end():\t 11\n"
     ]
    }
   ],
   "source": [
    "tel_checker = re.compile(\"^(\\d{2,3})-(\\d{3,4})-(\\d{4})$\")\n",
    "m = tel_checker.match(\"02-123-4567\")\n",
    "\n",
    "print(\"m.groups() :\", m.groups())\n",
    "print(\"m.group() :\", m.group())\n",
    "print(\"m.group(0) :\", m.group(0))\n",
    "print(\"m.group(1) :\", m.group(1))\n",
    "print(\"m.group(2, 3) :\", m.group(2, 3))\n",
    "print('start():\t',\tm.start())\t#\t매칭된 문자열의 시작 인덱스\n",
    "print('end():\t',\tm.end())\t#\t매칭된 문자열의 마지막 인덱스+1"
   ]
  },
  {
   "cell_type": "markdown",
   "id": "c96fd217-f799-45d5-ac9e-593ce3204bab",
   "metadata": {},
   "source": [
    "## 휴대전화번호 \n",
    "- 휴대전화번호 구성 : '사업자ㅡ번호(3자리)-국번(3,4자리)-전화번호(4자리)'\n",
    "- (?:0|1|[6-9])\t의미\n",
    "  - ?:\t뒤에 따라 나오는 숫자(0|1|6|7|8|9)를 하나의 그룹으로 합침"
   ]
  },
  {
   "cell_type": "code",
   "execution_count": 16,
   "id": "1175c3d4-df0a-4c04-a5f5-06d4d14e6119",
   "metadata": {},
   "outputs": [
    {
     "name": "stdout",
     "output_type": "stream",
     "text": [
      "<re.Match object; span=(0, 12), match='010-123-4567'>\n",
      "<re.Match object; span=(0, 13), match='019-1234-5678'>\n",
      "None\n",
      "None\n"
     ]
    }
   ],
   "source": [
    "cell_phone = re.compile(\"^(01(?:0|1|[6-9]))-(\\d{3,4})-(\\d{4})$\")\n",
    "\n",
    "print(cell_phone.match(\"010-123-4567\"))\n",
    "print(cell_phone.match('019-1234-5678'))\n",
    "print(cell_phone.match('001-123-4567'))\n",
    "print(cell_phone.match('010-1234567'))"
   ]
  },
  {
   "cell_type": "markdown",
   "id": "f32a68fe-4bcc-44b9-a970-2ebc0b009297",
   "metadata": {
    "jp-MarkdownHeadingCollapsed": true
   },
   "source": [
    "# 전방 탐색(lookahead)\n",
    "- 전방 긍정 탐색 : 패턴과 일치하는 문자열을 만나면 패턴 앞의 문자열 반환 (?=)\n",
    "- 전방 부정 탐색 : 패턴과 일치하지 않는 문자열을 만나면 패턴 앞의 문자열 반환 (?!)  \n"
   ]
  },
  {
   "cell_type": "code",
   "execution_count": 20,
   "id": "3809f82d-baf5-435c-bf66-b3a043bbe4ba",
   "metadata": {},
   "outputs": [
    {
     "name": "stdout",
     "output_type": "stream",
     "text": [
      "1000\n",
      "<re.Match object; span=(0, 11), match='2023-01-26 '>\n",
      "<re.Match object; span=(9, 13), match='5678'>\n"
     ]
    }
   ],
   "source": [
    "# 전방 긍정 탐색\n",
    "lookahead1 = re.search(\".+(?=won)\", \"1000won\")\n",
    "if lookahead1 != None:\n",
    "    print(lookahead1.group())\n",
    "else:\n",
    "    print(\"None\")\n",
    "lookahead2 = re.search(\".+(?=am)\", \"2023-01-26 am 10:00:01\")\n",
    "print(lookahead2)\n",
    "\n",
    "# 전방 부정 탐 색\n",
    "lookahead3 = re.search(\"\\d{4}(?!-)\", \"010-1234-5678\")\n",
    "print(lookahead3)"
   ]
  },
  {
   "cell_type": "markdown",
   "id": "b33dc131-51d9-4477-857e-89590b7e05ab",
   "metadata": {},
   "source": [
    ".은 임의의 아무 문자 one or more"
   ]
  },
  {
   "cell_type": "markdown",
   "id": "b151c7ac-88cf-40fd-9892-fc1f62fccdf5",
   "metadata": {},
   "source": [
    "# 후방 탐색(lookbehind)\n",
    "- 후방 긍정 탐색 : 패턴과 일치하는 문자열을 만나면 패턴 뒤의 문자열 반환: (?<=)\n",
    "- 후방 부정 탐색 : 패턴과 일치하지 않는 문자열을 만나면 패턴 뒤의 문자열 반환:(?<!) "
   ]
  },
  {
   "cell_type": "code",
   "execution_count": 26,
   "id": "f8b2e1a1-328a-4a1f-9c05-a010d84376e0",
   "metadata": {},
   "outputs": [
    {
     "name": "stdout",
     "output_type": "stream",
     "text": [
      "<re.Match object; span=(13, 22), match='\\t11:10:01'>\n",
      "<re.Match object; span=(4, 8), match=' $51'>\n",
      "<re.Match object; span=(2, 5), match='300'>\n"
     ]
    }
   ],
   "source": [
    "#\t후방 긍정 탐색 ('am'\t다음에 문자가 1개 이상 있으면,\t해당 문자열 리턴)\n",
    "lookbehind1\t=\tre.search('(?<=am).+',\t'2023-01-26\tam\t11:10:01')\n",
    "print(lookbehind1)\n",
    "lookbehind2\t=\tre.search(\"(?<=:).+\", 'USD: $51')\n",
    "print(lookbehind2)\n",
    "#\t후방 부정 탐색('\\b':\t공백)\n",
    "#\t공백 다음에 $기호가 없고 숫자가 1개 이상이고 공백이 있는 경우\n",
    "lookbehind4\t=\tre.search(r'\\b(?<!\\$)\\d+\\b',\t'I 300 paid $30 500 for 100 apples.')\n",
    "print(lookbehind4)"
   ]
  },
  {
   "cell_type": "raw",
   "id": "d90e394f-0295-4e04-a389-d31a7db590b2",
   "metadata": {},
   "source": [
    "r\"패턴\" : 컴파일 할 정규식이 순수 문자열임을 알림 역슬래시를 이용"
   ]
  },
  {
   "cell_type": "markdown",
   "id": "a45e379d-6caf-4546-8850-cb91d0a6a986",
   "metadata": {},
   "source": [
    "# 정규 표현식과 BeautifulSoup 1"
   ]
  },
  {
   "cell_type": "code",
   "execution_count": 28,
   "id": "f28605b7-e14a-4daf-8fd9-105ca95cf969",
   "metadata": {},
   "outputs": [],
   "source": [
    "from\turllib.request\timport\turlopen\t\n",
    "from\tbs4\timport\tBeautifulSoup\t\n",
    "import\tre\t"
   ]
  },
  {
   "cell_type": "code",
   "execution_count": 29,
   "id": "6e717fd6-25b1-435e-ae5a-29443d8502e4",
   "metadata": {},
   "outputs": [],
   "source": [
    "html\t=\turlopen('http://www.pythonscraping.com/pages/page3.html')\n",
    "soup\t=\tBeautifulSoup(html,\t'html.parser')"
   ]
  },
  {
   "cell_type": "code",
   "execution_count": 31,
   "id": "93055ff8-f815-41ed-8031-54530b6ffada",
   "metadata": {},
   "outputs": [
    {
     "name": "stdout",
     "output_type": "stream",
     "text": [
      "<img src=\"../img/gifts/img1.jpg\"/> -> ['src'] 속성:../img/gifts/img1.jpg\n",
      "<img src=\"../img/gifts/img2.jpg\"/> -> ['src'] 속성:../img/gifts/img2.jpg\n",
      "<img src=\"../img/gifts/img3.jpg\"/> -> ['src'] 속성:../img/gifts/img3.jpg\n",
      "<img src=\"../img/gifts/img4.jpg\"/> -> ['src'] 속성:../img/gifts/img4.jpg\n",
      "<img src=\"../img/gifts/img6.jpg\"/> -> ['src'] 속성:../img/gifts/img6.jpg\n"
     ]
    }
   ],
   "source": [
    "#\t정규식:\t('img.*\\.jpg'):\timg\t다음에 임의의 한 문자가 0회 이상\n",
    "#\t-\timg.jpg,\timg1.jpg,\timga.jpg\t등\n",
    "img_tag = re.compile(\"/img/gifts/img.*.jpg\")\n",
    "images = soup.find_all(\"img\", {\"src\": img_tag})\n",
    "\n",
    "for image in images:\n",
    "    print(image, end=\" -> ['src'] 속성:\")\n",
    "    print(image[\"src\"])"
   ]
  },
  {
   "cell_type": "markdown",
   "id": "301fe0f4-5ddd-42c9-9fd7-33872f4aac6a",
   "metadata": {},
   "source": [
    "# 정규 표현식과 BeautifulSoup 2\n",
    "- 대소문자 구분없이 특정 단어 검 색\n",
    "    - \"[T|t]{1}he prince\" : T 또는 t가 1회"
   ]
  },
  {
   "cell_type": "code",
   "execution_count": 32,
   "id": "c03724da-b78f-41e6-8d98-7d68e8b52579",
   "metadata": {},
   "outputs": [
    {
     "name": "stdout",
     "output_type": "stream",
     "text": [
      "the prince count:  7\n",
      "[T|t]{1}he prince: 11\n"
     ]
    },
    {
     "name": "stderr",
     "output_type": "stream",
     "text": [
      "C:\\Users\\kdp\\AppData\\Local\\Temp\\ipykernel_16640\\2253741976.py:4: DeprecationWarning: The 'text' argument to find()-type methods is deprecated. Use 'string' instead.\n",
      "  princeList = bs.find_all(text=\"the prince\")\n",
      "C:\\Users\\kdp\\AppData\\Local\\Temp\\ipykernel_16640\\2253741976.py:7: DeprecationWarning: The 'text' argument to find()-type methods is deprecated. Use 'string' instead.\n",
      "  prince_list = bs.find_all(text=re.compile(\"[T|t]{1}he prince\"))\n"
     ]
    }
   ],
   "source": [
    "html\t=\turlopen('http://www.pythonscraping.com/pages/warandpeace.html')\n",
    "bs\t=\tBeautifulSoup(html,\t'html.parser')\n",
    "\n",
    "princeList = bs.find_all(text=\"the prince\")\n",
    "print(\"the prince count: \", len(princeList))\n",
    "\n",
    "prince_list = bs.find_all(text=re.compile(\"[T|t]{1}he prince\"))\n",
    "print(\"[T|t]{1}he prince:\", len(prince_list))"
   ]
  },
  {
   "cell_type": "code",
   "execution_count": null,
   "id": "0713c696-daf0-4325-8003-8b0622a907a5",
   "metadata": {},
   "outputs": [],
   "source": []
  },
  {
   "cell_type": "code",
   "execution_count": null,
   "id": "83816f51-6e6a-42be-b691-4e601205128a",
   "metadata": {},
   "outputs": [],
   "source": []
  },
  {
   "cell_type": "code",
   "execution_count": null,
   "id": "82f40366-01f7-405b-9cde-f156681c3e3c",
   "metadata": {},
   "outputs": [],
   "source": []
  },
  {
   "cell_type": "code",
   "execution_count": null,
   "id": "3f6481b3-1e68-42a1-93ed-dcf8dbdedbe2",
   "metadata": {},
   "outputs": [],
   "source": []
  },
  {
   "cell_type": "code",
   "execution_count": null,
   "id": "66ffc000-fa7b-4546-943f-74de9144080c",
   "metadata": {},
   "outputs": [],
   "source": []
  },
  {
   "cell_type": "code",
   "execution_count": null,
   "id": "85231bbb-e29f-4bc1-8104-23e0a34d5de2",
   "metadata": {},
   "outputs": [],
   "source": []
  },
  {
   "cell_type": "code",
   "execution_count": null,
   "id": "983fb254-4f8b-4df5-bb88-bcd81bbddcfd",
   "metadata": {},
   "outputs": [],
   "source": []
  },
  {
   "cell_type": "code",
   "execution_count": null,
   "id": "6216db16-0d7b-46bb-b74a-baaa3cf2f922",
   "metadata": {},
   "outputs": [],
   "source": []
  }
 ],
 "metadata": {
  "kernelspec": {
   "display_name": "Python 3 (ipykernel)",
   "language": "python",
   "name": "python3"
  },
  "language_info": {
   "codemirror_mode": {
    "name": "ipython",
    "version": 3
   },
   "file_extension": ".py",
   "mimetype": "text/x-python",
   "name": "python",
   "nbconvert_exporter": "python",
   "pygments_lexer": "ipython3",
   "version": "3.8.18"
  }
 },
 "nbformat": 4,
 "nbformat_minor": 5
}
