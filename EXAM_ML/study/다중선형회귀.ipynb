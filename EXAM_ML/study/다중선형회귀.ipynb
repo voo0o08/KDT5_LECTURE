{
 "cells": [
  {
   "cell_type": "code",
   "execution_count": 1,
   "id": "1ca60e9d-b0d4-41d5-9435-770f6c3e03e1",
   "metadata": {},
   "outputs": [],
   "source": [
    "import  pandas as pd\n",
    "from sklearn.model_selection import train_test_split\n",
    "from sklearn.linear_model import LinearRegression\n",
    "from sklearn.metrics import mean_squared_error"
   ]
  },
  {
   "cell_type": "code",
   "execution_count": null,
   "id": "ae669b64-5740-4a94-bd67-37292610f6d8",
   "metadata": {},
   "outputs": [],
   "source": []
  }
 ],
 "metadata": {
  "kernelspec": {
   "display_name": "Python 3 (ipykernel)",
   "language": "python",
   "name": "python3"
  },
  "language_info": {
   "codemirror_mode": {
    "name": "ipython",
    "version": 3
   },
   "file_extension": ".py",
   "mimetype": "text/x-python",
   "name": "python",
   "nbconvert_exporter": "python",
   "pygments_lexer": "ipython3",
   "version": "3.9.18"
  }
 },
 "nbformat": 4,
 "nbformat_minor": 5
}
