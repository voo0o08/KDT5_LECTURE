{
 "cells": [
  {
   "cell_type": "markdown",
   "source": [
    "# 과제\n",
    "MNIST FASHION => 클래스 만들어서 해보기"
   ],
   "metadata": {
    "collapsed": false
   },
   "id": "70f6381d7ecefe09"
  },
  {
   "cell_type": "markdown",
   "source": [
    "# 이미지 데이터 - 다중 분류\n",
    "- 데이터셋 : fashion mnist\n",
    "- 피쳐개수 : 28X28 784개\n",
    "- 타겟 개수 : 0~9 티셔츠, 바지, 풀오버 ..."
   ],
   "metadata": {
    "collapsed": false
   },
   "id": "bc4abfebdaf73b7"
  },
  {
   "cell_type": "markdown",
   "source": [
    "## 모듈 로딩 "
   ],
   "metadata": {
    "collapsed": false
   },
   "id": "3dede4f77d934c96"
  },
  {
   "cell_type": "code",
   "outputs": [],
   "source": [
    "from sklearn.datasets import fetch_openml\n",
    "import pandas as pd\n",
    "import numpy as np\n",
    "import matplotlib.pyplot as plt\n",
    "\n",
    "import torch # torch 기본 모듈로 텐서 기본 함수들 \n",
    "import torch.nn as nn # linear Regression 기능의 클래스 Linear\n",
    "import torch.nn.functional as F # 손실함수를 위함\n",
    "import torch.optim as optim # 최적화를 위함"
   ],
   "metadata": {
    "collapsed": false,
    "ExecuteTime": {
     "end_time": "2024-03-17T08:14:05.899813300Z",
     "start_time": "2024-03-17T08:14:05.881723900Z"
    }
   },
   "id": "49327cb32df9d67",
   "execution_count": 233
  },
  {
   "cell_type": "markdown",
   "source": [
    "## 데이터 준비"
   ],
   "metadata": {
    "collapsed": false
   },
   "id": "204c0958e8927867"
  },
  {
   "cell_type": "code",
   "outputs": [],
   "source": [
    "fashion_db = 'fashion-mnist'\n",
    "\n",
    "fashion_data = fetch_openml(name = fashion_db, parser='auto')"
   ],
   "metadata": {
    "collapsed": false,
    "ExecuteTime": {
     "end_time": "2024-03-17T06:14:21.309841900Z",
     "start_time": "2024-03-17T06:14:17.837048900Z"
    }
   },
   "id": "8cc44141ccd94324",
   "execution_count": 33
  },
  {
   "cell_type": "code",
   "outputs": [],
   "source": [
    "### 데이터 확인 \n",
    "feature = fashion_data['data']\n",
    "target = fashion_data['target']"
   ],
   "metadata": {
    "collapsed": false,
    "ExecuteTime": {
     "end_time": "2024-03-17T07:17:31.216255Z",
     "start_time": "2024-03-17T07:17:31.192251900Z"
    }
   },
   "id": "4f4c2e153968395a",
   "execution_count": 111
  },
  {
   "cell_type": "code",
   "outputs": [
    {
     "name": "stdout",
     "output_type": "stream",
     "text": [
      "feares: (70000, 784), 2D\n",
      "target: (70000,), 1D\n"
     ]
    }
   ],
   "source": [
    "# 데이터 피쳐와 타겟 개수 확인 \n",
    "print(f\"feares: {feature.shape}, {feature.ndim}D\")\n",
    "print(f\"target: {target.shape}, {target.ndim}D\")"
   ],
   "metadata": {
    "collapsed": false,
    "ExecuteTime": {
     "end_time": "2024-03-17T07:17:31.424802100Z",
     "start_time": "2024-03-17T07:17:31.397369200Z"
    }
   },
   "id": "b37a8ab5af06cb75",
   "execution_count": 112
  },
  {
   "cell_type": "markdown",
   "source": [
    "## 2. 데이터 가공 및 전처리\n",
    "- 결측치 없음\n",
    "- 이상치 없음\n",
    "- 중복값 없음 \n",
    "- 다중 분류 => 다중 분류\n",
    "- 이미지 크기 맞추기 : 여기서는 필요 없음 28, 28, 1(흑백)\n",
    "- 정규화 : 피쳐 정규화 / 타겟 정규화"
   ],
   "metadata": {
    "collapsed": false
   },
   "id": "aaa633661b885ea0"
  },
  {
   "cell_type": "code",
   "outputs": [
    {
     "data": {
      "text/plain": "       pixel1  pixel2  pixel3  pixel4  pixel5    pixel6  pixel7  pixel8  \\\n0         0.0     0.0     0.0     0.0     0.0  0.000000     0.0     0.0   \n1         0.0     0.0     0.0     0.0     0.0  0.003922     0.0     0.0   \n2         0.0     0.0     0.0     0.0     0.0  0.000000     0.0     0.0   \n3         0.0     0.0     0.0     0.0     0.0  0.000000     0.0     0.0   \n4         0.0     0.0     0.0     0.0     0.0  0.000000     0.0     0.0   \n...       ...     ...     ...     ...     ...       ...     ...     ...   \n69995     0.0     0.0     0.0     0.0     0.0  0.000000     0.0     0.0   \n69996     0.0     0.0     0.0     0.0     0.0  0.000000     0.0     0.0   \n69997     0.0     0.0     0.0     0.0     0.0  0.000000     0.0     0.0   \n69998     0.0     0.0     0.0     0.0     0.0  0.000000     0.0     0.0   \n69999     0.0     0.0     0.0     0.0     0.0  0.000000     0.0     0.0   \n\n         pixel9   pixel10  ...  pixel775  pixel776  pixel777  pixel778  \\\n0      0.000000  0.000000  ...  0.000000  0.000000  0.000000  0.000000   \n1      0.000000  0.000000  ...  0.466667  0.447059  0.509804  0.298039   \n2      0.000000  0.086275  ...  0.000000  0.000000  0.003922  0.000000   \n3      0.129412  0.376471  ...  0.000000  0.000000  0.000000  0.000000   \n4      0.000000  0.000000  ...  0.000000  0.000000  0.000000  0.000000   \n...         ...       ...  ...       ...       ...       ...       ...   \n69995  0.000000  0.000000  ...  0.000000  0.000000  0.000000  0.000000   \n69996  0.000000  0.121569  ...  0.000000  0.000000  0.000000  0.000000   \n69997  0.000000  0.000000  ...  0.105882  0.000000  0.000000  0.000000   \n69998  0.000000  0.000000  ...  0.000000  0.000000  0.000000  0.000000   \n69999  0.000000  0.000000  ...  0.000000  0.000000  0.000000  0.000000   \n\n       pixel779  pixel780  pixel781  pixel782  pixel783  pixel784  \n0           0.0       0.0       0.0       0.0       0.0       0.0  \n1           0.0       0.0       0.0       0.0       0.0       0.0  \n2           0.0       0.0       0.0       0.0       0.0       0.0  \n3           0.0       0.0       0.0       0.0       0.0       0.0  \n4           0.0       0.0       0.0       0.0       0.0       0.0  \n...         ...       ...       ...       ...       ...       ...  \n69995       0.0       0.0       0.0       0.0       0.0       0.0  \n69996       0.0       0.0       0.0       0.0       0.0       0.0  \n69997       0.0       0.0       0.0       0.0       0.0       0.0  \n69998       0.0       0.0       0.0       0.0       0.0       0.0  \n69999       0.0       0.0       0.0       0.0       0.0       0.0  \n\n[70000 rows x 784 columns]",
      "text/html": "<div>\n<style scoped>\n    .dataframe tbody tr th:only-of-type {\n        vertical-align: middle;\n    }\n\n    .dataframe tbody tr th {\n        vertical-align: top;\n    }\n\n    .dataframe thead th {\n        text-align: right;\n    }\n</style>\n<table border=\"1\" class=\"dataframe\">\n  <thead>\n    <tr style=\"text-align: right;\">\n      <th></th>\n      <th>pixel1</th>\n      <th>pixel2</th>\n      <th>pixel3</th>\n      <th>pixel4</th>\n      <th>pixel5</th>\n      <th>pixel6</th>\n      <th>pixel7</th>\n      <th>pixel8</th>\n      <th>pixel9</th>\n      <th>pixel10</th>\n      <th>...</th>\n      <th>pixel775</th>\n      <th>pixel776</th>\n      <th>pixel777</th>\n      <th>pixel778</th>\n      <th>pixel779</th>\n      <th>pixel780</th>\n      <th>pixel781</th>\n      <th>pixel782</th>\n      <th>pixel783</th>\n      <th>pixel784</th>\n    </tr>\n  </thead>\n  <tbody>\n    <tr>\n      <th>0</th>\n      <td>0.0</td>\n      <td>0.0</td>\n      <td>0.0</td>\n      <td>0.0</td>\n      <td>0.0</td>\n      <td>0.000000</td>\n      <td>0.0</td>\n      <td>0.0</td>\n      <td>0.000000</td>\n      <td>0.000000</td>\n      <td>...</td>\n      <td>0.000000</td>\n      <td>0.000000</td>\n      <td>0.000000</td>\n      <td>0.000000</td>\n      <td>0.0</td>\n      <td>0.0</td>\n      <td>0.0</td>\n      <td>0.0</td>\n      <td>0.0</td>\n      <td>0.0</td>\n    </tr>\n    <tr>\n      <th>1</th>\n      <td>0.0</td>\n      <td>0.0</td>\n      <td>0.0</td>\n      <td>0.0</td>\n      <td>0.0</td>\n      <td>0.003922</td>\n      <td>0.0</td>\n      <td>0.0</td>\n      <td>0.000000</td>\n      <td>0.000000</td>\n      <td>...</td>\n      <td>0.466667</td>\n      <td>0.447059</td>\n      <td>0.509804</td>\n      <td>0.298039</td>\n      <td>0.0</td>\n      <td>0.0</td>\n      <td>0.0</td>\n      <td>0.0</td>\n      <td>0.0</td>\n      <td>0.0</td>\n    </tr>\n    <tr>\n      <th>2</th>\n      <td>0.0</td>\n      <td>0.0</td>\n      <td>0.0</td>\n      <td>0.0</td>\n      <td>0.0</td>\n      <td>0.000000</td>\n      <td>0.0</td>\n      <td>0.0</td>\n      <td>0.000000</td>\n      <td>0.086275</td>\n      <td>...</td>\n      <td>0.000000</td>\n      <td>0.000000</td>\n      <td>0.003922</td>\n      <td>0.000000</td>\n      <td>0.0</td>\n      <td>0.0</td>\n      <td>0.0</td>\n      <td>0.0</td>\n      <td>0.0</td>\n      <td>0.0</td>\n    </tr>\n    <tr>\n      <th>3</th>\n      <td>0.0</td>\n      <td>0.0</td>\n      <td>0.0</td>\n      <td>0.0</td>\n      <td>0.0</td>\n      <td>0.000000</td>\n      <td>0.0</td>\n      <td>0.0</td>\n      <td>0.129412</td>\n      <td>0.376471</td>\n      <td>...</td>\n      <td>0.000000</td>\n      <td>0.000000</td>\n      <td>0.000000</td>\n      <td>0.000000</td>\n      <td>0.0</td>\n      <td>0.0</td>\n      <td>0.0</td>\n      <td>0.0</td>\n      <td>0.0</td>\n      <td>0.0</td>\n    </tr>\n    <tr>\n      <th>4</th>\n      <td>0.0</td>\n      <td>0.0</td>\n      <td>0.0</td>\n      <td>0.0</td>\n      <td>0.0</td>\n      <td>0.000000</td>\n      <td>0.0</td>\n      <td>0.0</td>\n      <td>0.000000</td>\n      <td>0.000000</td>\n      <td>...</td>\n      <td>0.000000</td>\n      <td>0.000000</td>\n      <td>0.000000</td>\n      <td>0.000000</td>\n      <td>0.0</td>\n      <td>0.0</td>\n      <td>0.0</td>\n      <td>0.0</td>\n      <td>0.0</td>\n      <td>0.0</td>\n    </tr>\n    <tr>\n      <th>...</th>\n      <td>...</td>\n      <td>...</td>\n      <td>...</td>\n      <td>...</td>\n      <td>...</td>\n      <td>...</td>\n      <td>...</td>\n      <td>...</td>\n      <td>...</td>\n      <td>...</td>\n      <td>...</td>\n      <td>...</td>\n      <td>...</td>\n      <td>...</td>\n      <td>...</td>\n      <td>...</td>\n      <td>...</td>\n      <td>...</td>\n      <td>...</td>\n      <td>...</td>\n      <td>...</td>\n    </tr>\n    <tr>\n      <th>69995</th>\n      <td>0.0</td>\n      <td>0.0</td>\n      <td>0.0</td>\n      <td>0.0</td>\n      <td>0.0</td>\n      <td>0.000000</td>\n      <td>0.0</td>\n      <td>0.0</td>\n      <td>0.000000</td>\n      <td>0.000000</td>\n      <td>...</td>\n      <td>0.000000</td>\n      <td>0.000000</td>\n      <td>0.000000</td>\n      <td>0.000000</td>\n      <td>0.0</td>\n      <td>0.0</td>\n      <td>0.0</td>\n      <td>0.0</td>\n      <td>0.0</td>\n      <td>0.0</td>\n    </tr>\n    <tr>\n      <th>69996</th>\n      <td>0.0</td>\n      <td>0.0</td>\n      <td>0.0</td>\n      <td>0.0</td>\n      <td>0.0</td>\n      <td>0.000000</td>\n      <td>0.0</td>\n      <td>0.0</td>\n      <td>0.000000</td>\n      <td>0.121569</td>\n      <td>...</td>\n      <td>0.000000</td>\n      <td>0.000000</td>\n      <td>0.000000</td>\n      <td>0.000000</td>\n      <td>0.0</td>\n      <td>0.0</td>\n      <td>0.0</td>\n      <td>0.0</td>\n      <td>0.0</td>\n      <td>0.0</td>\n    </tr>\n    <tr>\n      <th>69997</th>\n      <td>0.0</td>\n      <td>0.0</td>\n      <td>0.0</td>\n      <td>0.0</td>\n      <td>0.0</td>\n      <td>0.000000</td>\n      <td>0.0</td>\n      <td>0.0</td>\n      <td>0.000000</td>\n      <td>0.000000</td>\n      <td>...</td>\n      <td>0.105882</td>\n      <td>0.000000</td>\n      <td>0.000000</td>\n      <td>0.000000</td>\n      <td>0.0</td>\n      <td>0.0</td>\n      <td>0.0</td>\n      <td>0.0</td>\n      <td>0.0</td>\n      <td>0.0</td>\n    </tr>\n    <tr>\n      <th>69998</th>\n      <td>0.0</td>\n      <td>0.0</td>\n      <td>0.0</td>\n      <td>0.0</td>\n      <td>0.0</td>\n      <td>0.000000</td>\n      <td>0.0</td>\n      <td>0.0</td>\n      <td>0.000000</td>\n      <td>0.000000</td>\n      <td>...</td>\n      <td>0.000000</td>\n      <td>0.000000</td>\n      <td>0.000000</td>\n      <td>0.000000</td>\n      <td>0.0</td>\n      <td>0.0</td>\n      <td>0.0</td>\n      <td>0.0</td>\n      <td>0.0</td>\n      <td>0.0</td>\n    </tr>\n    <tr>\n      <th>69999</th>\n      <td>0.0</td>\n      <td>0.0</td>\n      <td>0.0</td>\n      <td>0.0</td>\n      <td>0.0</td>\n      <td>0.000000</td>\n      <td>0.0</td>\n      <td>0.0</td>\n      <td>0.000000</td>\n      <td>0.000000</td>\n      <td>...</td>\n      <td>0.000000</td>\n      <td>0.000000</td>\n      <td>0.000000</td>\n      <td>0.000000</td>\n      <td>0.0</td>\n      <td>0.0</td>\n      <td>0.0</td>\n      <td>0.0</td>\n      <td>0.0</td>\n      <td>0.0</td>\n    </tr>\n  </tbody>\n</table>\n<p>70000 rows × 784 columns</p>\n</div>"
     },
     "execution_count": 113,
     "metadata": {},
     "output_type": "execute_result"
    }
   ],
   "source": [
    "# 피쳐 : 784개 색상값 즉, 0~255 범위의 값\n",
    "norm_feature = feature/255\n",
    "norm_feature"
   ],
   "metadata": {
    "collapsed": false,
    "ExecuteTime": {
     "end_time": "2024-03-17T07:17:31.815681900Z",
     "start_time": "2024-03-17T07:17:31.735667400Z"
    }
   },
   "id": "d8e882e26a823e47",
   "execution_count": 113
  },
  {
   "cell_type": "code",
   "outputs": [],
   "source": [
    "# 타겟이 서로 관련성이 없으니 One-Hot 인코딩으로 변환\n",
    "# one-hot ver1\n",
    "# import pandas as pd\n",
    "# pd.get_dummies(target)"
   ],
   "metadata": {
    "collapsed": false
   },
   "id": "c7f5d4f70ba8d01a",
   "execution_count": 114
  },
  {
   "cell_type": "code",
   "outputs": [],
   "source": [
    "# one-hot ver2\n",
    "# from sklearn.preprocessing import OneHotEncoder\n",
    "# \n",
    "# targetDF = target.to_frame()\n",
    "# \n",
    "# # parse_output=False : ndarray 타입으로 반환\n",
    "# ohEncoder = OneHotEncoder(sparse_output=False)\n",
    "# norm_target = ohEncoder.fit_transform(targetDF) # one-hot encoder 안에는 꼭 2차원 \n",
    "# # 라벨 인코딩은 정수로 바꿔줌 \n",
    "# norm_target"
   ],
   "metadata": {
    "collapsed": false,
    "ExecuteTime": {
     "end_time": "2024-03-17T07:17:32.255843300Z",
     "start_time": "2024-03-17T07:17:32.200009200Z"
    }
   },
   "id": "5b8ddd3638ef091b",
   "execution_count": 115
  },
  {
   "cell_type": "code",
   "outputs": [
    {
     "data": {
      "text/plain": "tensor([[0., 0., 0.,  ..., 0., 0., 1.],\n        [1., 0., 0.,  ..., 0., 0., 0.],\n        [1., 0., 0.,  ..., 0., 0., 0.],\n        ...,\n        [0., 0., 0.,  ..., 0., 1., 0.],\n        [0., 1., 0.,  ..., 0., 0., 0.],\n        [0., 0., 0.,  ..., 0., 0., 0.]])"
     },
     "execution_count": 116,
     "metadata": {},
     "output_type": "execute_result"
    }
   ],
   "source": [
    "# one-hot ver3 -> scatter_사용하기\n",
    "idx = torch.IntTensor(target.astype(\"int\")).type(torch.int64).unsqueeze(1)\n",
    "\n",
    "y_one_hot = torch.zeros(target.shape[0],10)\n",
    "y_one_hot.scatter_(1, idx, 1) # 차원, 1.0이 들어갈 자리 인덱스, 채울 숫자"
   ],
   "metadata": {
    "collapsed": false,
    "ExecuteTime": {
     "end_time": "2024-03-17T07:17:32.894609700Z",
     "start_time": "2024-03-17T07:17:32.846523900Z"
    }
   },
   "id": "cad1d70c84f83144",
   "execution_count": 116
  },
  {
   "cell_type": "markdown",
   "source": [
    "## 데이터 셋 준비\n",
    "- 텐서화 시키기\n",
    "- 데이터 셋 준비 : 훈련용 60000, 테스트용 10000\n",
    "- 학습 방법 : 지도 학습 - 이진 분류 (softmax->but cross_entropy가 다 갖고 있음)\n",
    "- 최적화 방법 : 경사하강법 기반의 방법 (Adam, SDG, )\n",
    "- 손실함수 : 이진분류 손실 계산 함수(cross_entropy)"
   ],
   "metadata": {
    "collapsed": false
   },
   "id": "605f27356c080728"
  },
  {
   "cell_type": "code",
   "outputs": [],
   "source": [
    "from torch.utils.data import Dataset, DataLoader, TensorDataset"
   ],
   "metadata": {
    "collapsed": false,
    "ExecuteTime": {
     "end_time": "2024-03-17T07:22:22.708296500Z",
     "start_time": "2024-03-17T07:22:22.683662500Z"
    }
   },
   "id": "6438f8184b13defe",
   "execution_count": 128
  },
  {
   "cell_type": "code",
   "outputs": [],
   "source": [
    "# 사용자 정의 DataSet Class\n",
    "# Dataset = 부모 \n",
    "# DLDataset = 자식\n",
    "# 데이터의 텐서변환\n",
    "class DLDataset(Dataset):\n",
    "    # 초기화 함수\n",
    "    def __init__(self, x_data, y_data):\n",
    "        super().__init__()\n",
    "        # x, y 데이터 => ndarray\n",
    "        x_data = x_data.values if isinstance(x_data, pd.DataFrame) else x_data # 데이터 프레임이라면 valuse로 어레이 뽑아줘야함 \n",
    "        y_data = y_data.values if isinstance(y_data, pd.DataFrame) else y_data \n",
    "\n",
    "        # ndarray => tensor \n",
    "        self.feature = torch.FloatTensor(x_data)\n",
    "        self.target = torch.LongTensor(y_data) \n",
    "        print(\"[target & feature SHAPE]\", self.target.shape, self.target.ndim)\n",
    "\n",
    "    # 데이터셋의 개수 체크 함수\n",
    "    def __len__(self):\n",
    "        return self.target.shape[0]\n",
    "\n",
    "    # 특정 인덱스 데이터 + 라벨 반환 callback function \n",
    "    def __getitem__(self, index):\n",
    "        return self.feature[index], self.target[index] # 둘 다 튜플로 출동 "
   ],
   "metadata": {
    "collapsed": false,
    "ExecuteTime": {
     "end_time": "2024-03-17T07:38:09.100059300Z",
     "start_time": "2024-03-17T07:38:09.082128200Z"
    }
   },
   "id": "592be0b8549d717f",
   "execution_count": 155
  },
  {
   "cell_type": "code",
   "outputs": [],
   "source": [
    "featureNP = norm_feature.values"
   ],
   "metadata": {
    "collapsed": false,
    "ExecuteTime": {
     "end_time": "2024-03-17T07:42:55.354013400Z",
     "start_time": "2024-03-17T07:42:55.336168800Z"
    }
   },
   "id": "30c5fa421d8004f4",
   "execution_count": 163
  },
  {
   "cell_type": "code",
   "outputs": [],
   "source": [
    "targetNP = y_one_hot.numpy()"
   ],
   "metadata": {
    "collapsed": false,
    "ExecuteTime": {
     "end_time": "2024-03-17T07:41:49.262191400Z",
     "start_time": "2024-03-17T07:41:49.232761200Z"
    }
   },
   "id": "d7b599b623bbf51f",
   "execution_count": 159
  },
  {
   "cell_type": "code",
   "outputs": [
    {
     "name": "stdout",
     "output_type": "stream",
     "text": [
      "[target & feature SHAPE] torch.Size([70000, 10]) 2\n"
     ]
    }
   ],
   "source": [
    "my_dataset = DLDataset(featureNP, targetNP) # numpy, numpy"
   ],
   "metadata": {
    "collapsed": false,
    "ExecuteTime": {
     "end_time": "2024-03-17T07:43:08.558798300Z",
     "start_time": "2024-03-17T07:43:08.505389Z"
    }
   },
   "id": "8ec8cf6d9584e7cc",
   "execution_count": 164
  },
  {
   "cell_type": "markdown",
   "source": [
    "## 데이터 나누기 -> train, validation, test"
   ],
   "metadata": {
    "collapsed": false
   },
   "id": "778dc3083436cf25"
  },
  {
   "cell_type": "code",
   "outputs": [
    {
     "name": "stdout",
     "output_type": "stream",
     "text": [
      "trainDS => 49000개, validDS => 7000개, testDS => 14000개\n"
     ]
    }
   ],
   "source": [
    "from torch.utils.data import random_split\n",
    "\n",
    "# 데이터 비율 정하기 \n",
    "seed = torch.Generator().manual_seed(42)\n",
    "trainDS, validDS, testDS = random_split(my_dataset, [0.7, 0.1, 0.2], generator=seed) # 개수로 주던가 비율로 주던가\n",
    "\n",
    "print(f\"trainDS => {len(trainDS)}개, validDS => {len(validDS)}개, testDS => {len(testDS)}개\")"
   ],
   "metadata": {
    "collapsed": false,
    "ExecuteTime": {
     "end_time": "2024-03-17T07:44:36.523073Z",
     "start_time": "2024-03-17T07:44:36.492320400Z"
    }
   },
   "id": "b71ea88e4aabfe7a",
   "execution_count": 168
  },
  {
   "cell_type": "code",
   "outputs": [
    {
     "data": {
      "text/plain": "(490, 70, 140)"
     },
     "execution_count": 270,
     "metadata": {},
     "output_type": "execute_result"
    }
   ],
   "source": [
    "# DataLoader 생성\n",
    "# drop_last 매개변수 : 배치사이즈로 데이터셋 분리 후 남는 데이터 처리 방법 설정 (default = False) True하면 걍 버리는 거임(valid로 쓸 데이터 없는 경우 버린 걸 사용하는 경우가 있음 )\n",
    "batch_size = 100\n",
    "trainDL = DataLoader(trainDS, batch_size=batch_size)\n",
    "validDL = DataLoader(validDS, batch_size=batch_size)\n",
    "testDL = DataLoader(testDS, batch_size=batch_size)\n",
    "\n",
    "len(trainDL), len(validDL), len(testDL) # 배치사이즈 만큼 나눠진 수가 나오는 거임 즉, 1에포크 당 반복을 몇번하는지 알 수 있는 것 "
   ],
   "metadata": {
    "collapsed": false,
    "ExecuteTime": {
     "end_time": "2024-03-17T08:38:04.631035300Z",
     "start_time": "2024-03-17T08:38:04.579225700Z"
    }
   },
   "id": "dd7fa022fd067c14",
   "execution_count": 270
  },
  {
   "cell_type": "markdown",
   "source": [
    "# 4 학습\n",
    "- 반복 횟수 만큼 학습 진행 "
   ],
   "metadata": {
    "collapsed": false
   },
   "id": "7d3fdbf45fb8c034"
  },
  {
   "cell_type": "code",
   "outputs": [],
   "source": [
    "# SoftMax 회귀 모델 클래스 생성\n",
    "class MyModel(nn.Module):\n",
    "    def __init__(self, in_, out_): # Layer 생성 \n",
    "        super().__init__() # 상속\n",
    "        # nn.Sequential을 사용하여 레이어들을 조합\n",
    "        self.layers = nn.Sequential( \n",
    "            nn.Linear(in_, 256),\n",
    "            nn.ReLU(),\n",
    "            nn.Linear(256, 128),\n",
    "            nn.ReLU(),\n",
    "            nn.Linear(128, 64),\n",
    "            nn.ReLU(),\n",
    "            nn.Linear(64, out_)\n",
    "        )\n",
    "        \n",
    "    def forward(self, x): # 순전파 학습 \n",
    "        # nn.Sequential로 정의한 레이어들의 순전파 동작이 자동으로 수행 \n",
    "        x = self.layers(x)\n",
    "        return x # F.softmax(x, dim=1)"
   ],
   "metadata": {
    "collapsed": false,
    "ExecuteTime": {
     "end_time": "2024-03-17T08:38:04.990646200Z",
     "start_time": "2024-03-17T08:38:04.963108600Z"
    }
   },
   "id": "edc6fe4937beea03",
   "execution_count": 271
  },
  {
   "cell_type": "markdown",
   "source": [
    "# 5. 학습 준비 : 실행디바이스, 모델, 최적화, 손실함수, 학습 횟수, 학습 함수, 예측 함수"
   ],
   "metadata": {
    "collapsed": false
   },
   "id": "a98a499769ff4e11"
  },
  {
   "cell_type": "code",
   "outputs": [],
   "source": [
    "# 실행 디바이스 설정\n",
    "DEVICE = \"cuda\" if torch.cuda.is_available() else \"cpu\" # GPU있으면 쓰고 없으면 cpu로"
   ],
   "metadata": {
    "collapsed": false,
    "ExecuteTime": {
     "end_time": "2024-03-17T08:55:24.347508Z",
     "start_time": "2024-03-17T08:55:24.336531600Z"
    }
   },
   "id": "a0fea903041f0df8",
   "execution_count": 287
  },
  {
   "cell_type": "code",
   "outputs": [],
   "source": [
    "# 모델 인스턴스 생성\n",
    "IN, OUT = 784, 10  \n",
    "\n",
    "model = MyModel(IN, OUT).to(DEVICE)"
   ],
   "metadata": {
    "collapsed": false,
    "ExecuteTime": {
     "end_time": "2024-03-17T08:57:37.854455500Z",
     "start_time": "2024-03-17T08:57:37.821893400Z"
    }
   },
   "id": "193f4984da8b9f47",
   "execution_count": 295
  },
  {
   "cell_type": "code",
   "outputs": [],
   "source": [
    "# 손실함수 인스턴스 생성\n",
    "LOSS_FN = nn.CrossEntropyLoss().to(DEVICE) # 다중분류니까\n",
    "\n",
    "# 최적화 인스턴스 생성\n",
    "OPTIMIZER = optim.Adam(model.parameters(), lr=0.01)\n",
    "\n",
    "# 반복 횟수\n",
    "EPOCHS = 50"
   ],
   "metadata": {
    "collapsed": false,
    "ExecuteTime": {
     "end_time": "2024-03-17T08:57:38.009366Z",
     "start_time": "2024-03-17T08:57:37.976563800Z"
    }
   },
   "id": "fd7b60980e158f96",
   "execution_count": 296
  },
  {
   "cell_type": "code",
   "outputs": [],
   "source": [
    "import torchmetrics.functional as metrics"
   ],
   "metadata": {
    "collapsed": false,
    "ExecuteTime": {
     "end_time": "2024-03-17T08:57:38.159777Z",
     "start_time": "2024-03-17T08:57:38.124437200Z"
    }
   },
   "id": "19b40a097afb8ec9",
   "execution_count": 297
  },
  {
   "cell_type": "code",
   "outputs": [],
   "source": [
    "def plt_graph(loss_accuracy):\n",
    "    fig, ax1 = plt.subplots()\n",
    "    ax1.plot(loss_accuracy[0], label='loss', color=\"g\")\n",
    "    \n",
    "    ax2 = ax1.twinx()\n",
    "    ax2.plot(loss_accuracy[1],label='accuracy', color='r')\n",
    "    # plt.plot(loss_accuracy[0], label='loss')\n",
    "    # plt.plot(loss_accuracy[1], label='accuracy')\n",
    "    \n",
    "    ax1.legend(loc='upper left')\n",
    "    ax2.legend(loc='upper right')\n",
    "    \n",
    "    plt.xlabel(\"Epochs\")\n",
    "    plt.show()"
   ],
   "metadata": {
    "collapsed": false,
    "ExecuteTime": {
     "end_time": "2024-03-17T08:57:38.309346500Z",
     "start_time": "2024-03-17T08:57:38.289010500Z"
    }
   },
   "id": "e42247a704f1a9ab",
   "execution_count": 298
  },
  {
   "cell_type": "code",
   "outputs": [],
   "source": [
    "# 학습 진행 함수\n",
    "def training():\n",
    "    # 학습 모드 => 정규화 , 경사 하강법, drop out 등의 기능 활성화\n",
    "    model.train()\n",
    "    \n",
    "    # 배치크기 만큼 학습 진행 및 저장 \n",
    "    train_loss = []\n",
    "    train_acc = []\n",
    "    \n",
    "    for cnt, (feature, target) in enumerate(trainDL):\n",
    "\n",
    "        # print(cnt, feature, target)\n",
    "        # 배치크기만큼의 학습 데이터 준비 \n",
    "        feature, target = feature.to(DEVICE), target.to(DEVICE)\n",
    "        target = target.squeeze().type(torch.float32)\n",
    "\n",
    "        # 학습 \n",
    "        pre_target = model(feature)\n",
    "        # print(f\"pre_target => {pre_target.shape}, {pre_target.ndim}D\")\n",
    "        # print(f\"target => {target.shape}, {target.ndim}D\")\n",
    "        \n",
    "        # 손실계산\n",
    "        loss = LOSS_FN(pre_target, target)\n",
    "        train_loss.append(loss.item())\n",
    "        \n",
    "        # W, b 업데이트\n",
    "        OPTIMIZER.zero_grad() # 초기화\n",
    "        loss.backward() \n",
    "        OPTIMIZER.step()\n",
    "        \n",
    "        acc = (pre_target.max(dim=1).indices == target.max(dim=1).indices).sum() / len(pre_target)\n",
    "        # print(f\"acc => {acc}\")\n",
    "        train_acc.append(acc)\n",
    "        # 배치 단위 학습 진행 메시지 출력 \n",
    "        # print(f\"[train batch loss] => {loss}\")\n",
    "        \n",
    "    # 학습 진행 메시지 출력\n",
    "    # print(f\"[Train loss] ==> {loss}, [acc] ==> {acc}\")\n",
    "    \n",
    "    return np.mean(train_loss), np.mean(train_acc)"
   ],
   "metadata": {
    "collapsed": false,
    "ExecuteTime": {
     "end_time": "2024-03-17T08:57:38.440740300Z",
     "start_time": "2024-03-17T08:57:38.432137800Z"
    }
   },
   "id": "6f7457cdfb4f1699",
   "execution_count": 299
  },
  {
   "cell_type": "code",
   "outputs": [],
   "source": [
    "# 검증 및 평가 진행 함수\n",
    "# 매개변수 dataLoader : 검증 또는 테스트 데이터 셋에 대한 Loader \n",
    "def testing():\n",
    "    # 추론 모드 => 정규화, 경사하강법, 드랍아웃 등의 기능 비활성화\n",
    "    model.eval()\n",
    "    \n",
    "    with torch.no_grad():\n",
    "        # 배치크기 만큼 학습 진행 및 저장 \n",
    "        val_loss = []\n",
    "        val_acc = []\n",
    "        for cnt, (feature, target) in enumerate(validDL):\n",
    "            # print(cnt, feature, target)\n",
    "            # 배치크기만큼의 학습 데이터 준비 \n",
    "            feature, target = feature.to(DEVICE), target.to(DEVICE)\n",
    "            target = target.squeeze().type(torch.float32)\n",
    "        \n",
    "            # 학습 \n",
    "            pre_target = model(feature)\n",
    "            # print(f\"pre_target => {pre_target.shape}, {pre_target.ndim}D\")\n",
    "            # print(f\"target => {target.shape}, {target.ndim}D\")\n",
    "            \n",
    "            # 손실계산\n",
    "            loss = LOSS_FN(pre_target, target)\n",
    "            val_loss.append(loss.item())\n",
    "            \n",
    "            acc = (pre_target.max(dim=1).indices == target.max(dim=1).indices).sum() / len(pre_target)\n",
    "            val_acc.append(acc)\n",
    "            \n",
    "    \n",
    "    # 학습 진행 메시지 출력\n",
    "    \n",
    "    # print(f\"acc => {acc}\") \n",
    "    # print(f\"[Valid loss] ==> {loss}, [acc] ==> {acc}\")\n",
    "    \n",
    "    return np.mean(val_loss), np.mean(val_acc)"
   ],
   "metadata": {
    "collapsed": false,
    "ExecuteTime": {
     "end_time": "2024-03-17T08:57:38.614641200Z",
     "start_time": "2024-03-17T08:57:38.596887900Z"
    }
   },
   "id": "2b9281e1a269be00",
   "execution_count": 300
  },
  {
   "cell_type": "code",
   "outputs": [
    {
     "name": "stdout",
     "output_type": "stream",
     "text": [
      "0\n",
      "1\n",
      "2\n",
      "3\n",
      "4\n",
      "5\n",
      "6\n",
      "7\n",
      "8\n",
      "9\n",
      "10\n",
      "11\n",
      "12\n",
      "13\n",
      "14\n",
      "Early stopping at epoch 14\n"
     ]
    },
    {
     "data": {
      "text/plain": "<Figure size 640x480 with 2 Axes>",
      "image/png": "[encoded data removed]"
     },
     "metadata": {},
     "output_type": "display_data"
    },
    {
     "data": {
      "text/plain": "<Figure size 640x480 with 2 Axes>",
      "image/png": "[encoded data removed]"
     },
     "metadata": {},
     "output_type": "display_data"
    }
   ],
   "source": [
    "# 지정된 횟수 만큼 처음부터 ~ 끝까지 학습 및 검증 진행 \n",
    "# 목표 : 최적(Error 최소화)의 W, b를 가진 모델 완성 \n",
    "\n",
    "# from torch.optim.lr_scheduler import ReduceLROnPlateau\n",
    "best_valid_loss = float('inf')\n",
    "patience = 8\n",
    "imporve_cnt = 0\n",
    "\n",
    "train_loss_acc = [[],[]]\n",
    "val_loss_acc = [[],[]]\n",
    "\n",
    "for eps in range(EPOCHS):\n",
    "    train_loss, train_acc = training() # 학습\n",
    "    train_loss_acc[0].append(train_loss)\n",
    "    train_loss_acc[1].append(train_acc)\n",
    "    \n",
    "    valid_loss, val_acc = testing() # 검증 \n",
    "    val_loss_acc[0].append(valid_loss)\n",
    "    val_loss_acc[1].append(val_acc)\n",
    "    \n",
    "    # print(f\"[{eps}/{EPOCHS}] \\nTRAIN {sum(train_loss)/len(train_loss)} \\nVALID : {sum(valid_loss)/len(valid_loss)}\\n\\n\")\n",
    "    print(eps)\n",
    "    \n",
    "    if valid_loss < best_valid_loss:\n",
    "        best_valid_loss = valid_loss\n",
    "        imporve_cnt = 0\n",
    "    else:\n",
    "        imporve_cnt += 1\n",
    "        if imporve_cnt > patience:\n",
    "            print(f\"Early stopping at epoch {eps}\")\n",
    "            break\n",
    "    \n",
    "            \n",
    "plt_graph(train_loss_acc)\n",
    "plt_graph(val_loss_acc)"
   ],
   "metadata": {
    "collapsed": false,
    "ExecuteTime": {
     "end_time": "2024-03-17T08:59:26.306694900Z",
     "start_time": "2024-03-17T08:57:38.782619500Z"
    }
   },
   "id": "d894ca6ccb37b241",
   "execution_count": 301
  },
  {
   "cell_type": "markdown",
   "source": [
    "# predict 진행"
   ],
   "metadata": {
    "collapsed": false
   },
   "id": "2df89118b51e8d78"
  },
  {
   "cell_type": "code",
   "outputs": [],
   "source": [
    "def prediction():\n",
    "    # prediction에는 loss 필요읎다... ㅖ..!!\n",
    "    # 추론 모드 => 정규화, 경사하강법, 드랍아웃 등의 기능 비활성화\n",
    "    model.eval()\n",
    "    \n",
    "    with torch.no_grad():\n",
    "        # 배치크기 만큼 학습 진행 및 저장 \n",
    "        val_loss = []\n",
    "        val_acc = []\n",
    "        for cnt, (feature, target) in enumerate(testDL):\n",
    "            \n",
    "            feature, target = feature.to(DEVICE), target.to(DEVICE)\n",
    "            target = target.squeeze().type(torch.float32)\n",
    "        \n",
    "            # 학습 \n",
    "            pre_target = model(feature)\n",
    "            # print(f\"pre_target => {pre_target.shape}, {pre_target.ndim}D\")\n",
    "            # print(f\"target => {target.shape}, {target.ndim}D\")\n",
    "            \n",
    "            # 손실계산\n",
    "            loss = LOSS_FN(pre_target, target) # 집에 가라... ㅠ\n",
    "            val_loss.append(loss.item())\n",
    "            \n",
    "            acc = (pre_target.max(dim=1).indices == target.max(dim=1).indices).sum() / len(pre_target)\n",
    "            val_acc.append(acc)\n",
    "            \n",
    "    return np.mean(val_loss), np.mean(val_acc)"
   ],
   "metadata": {
    "collapsed": false,
    "ExecuteTime": {
     "end_time": "2024-03-17T08:59:26.342912100Z",
     "start_time": "2024-03-17T08:59:26.300487800Z"
    }
   },
   "id": "4c587c150fa58e63",
   "execution_count": 302
  },
  {
   "cell_type": "code",
   "outputs": [
    {
     "name": "stdout",
     "output_type": "stream",
     "text": [
      "predict loss => 0.4178, predict accuracy => 0.8627\n"
     ]
    }
   ],
   "source": [
    "p_loss, p_acc = prediction()\n",
    "print(f\"predict loss => {p_loss:.4f}, predict accuracy => {p_acc:.4f}\")"
   ],
   "metadata": {
    "collapsed": false,
    "ExecuteTime": {
     "end_time": "2024-03-17T08:59:26.778443700Z",
     "start_time": "2024-03-17T08:59:26.323534100Z"
    }
   },
   "id": "7921dee4ac7468ba",
   "execution_count": 303
  }
 ],
 "metadata": {
  "kernelspec": {
   "display_name": "Python 3",
   "language": "python",
   "name": "python3"
  },
  "language_info": {
   "codemirror_mode": {
    "name": "ipython",
    "version": 2
   },
   "file_extension": ".py",
   "mimetype": "text/x-python",
   "name": "python",
   "nbconvert_exporter": "python",
   "pygments_lexer": "ipython2",
   "version": "2.7.6"
  }
 },
 "nbformat": 4,
 "nbformat_minor": 5
}
