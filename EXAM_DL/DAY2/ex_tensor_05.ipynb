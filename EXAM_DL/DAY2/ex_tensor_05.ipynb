{
 "cells": [
  {
   "cell_type": "markdown",
   "source": [
    "# 텐서 연결 & 결합"
   ],
   "metadata": {
    "collapsed": false
   },
   "id": "446d8743d5b8336c"
  },
  {
   "cell_type": "code",
   "outputs": [],
   "source": [
    "# 모듈 로딩\n",
    "import torch"
   ],
   "metadata": {
    "collapsed": false,
    "ExecuteTime": {
     "end_time": "2024-03-12T06:03:20.102848900Z",
     "start_time": "2024-03-12T06:03:18.679765800Z"
    }
   },
   "id": "ea203151fa912e1b",
   "execution_count": 3
  },
  {
   "cell_type": "code",
   "outputs": [],
   "source": [
    "# 텐서 데이터 생성\n",
    "torch.manual_seed(12)\n",
    "\n",
    "# rand -> 임의의 0 <= <1 실수\n",
    "X = torch.rand(2, 10)\n",
    "\n",
    "# randint -> 임의의 정수 최소, 최대+1, 차원\n",
    "y = torch.randint(0, 2, (10, )) \n",
    "y2 = torch.randint(0, 2, (2, 10))"
   ],
   "metadata": {
    "collapsed": false,
    "ExecuteTime": {
     "end_time": "2024-03-12T06:13:38.554709800Z",
     "start_time": "2024-03-12T06:13:38.530604700Z"
    }
   },
   "id": "61460f4ee506375",
   "execution_count": 30
  },
  {
   "cell_type": "code",
   "outputs": [
    {
     "name": "stdout",
     "output_type": "stream",
     "text": [
      "x => torch.Size([2, 10]), 2D\n",
      "y => torch.Size([10]), 1D\n",
      "y2 => torch.Size([2, 10]), 2D\n"
     ]
    }
   ],
   "source": [
    "print(f\"x => {X.shape}, {X.ndim}D\")\n",
    "print(f\"y => {y.shape}, {y.ndim}D\")\n",
    "print(f\"y2 => {y2.shape}, {y2.ndim}D\") "
   ],
   "metadata": {
    "collapsed": false,
    "ExecuteTime": {
     "end_time": "2024-03-12T06:13:38.692758600Z",
     "start_time": "2024-03-12T06:13:38.680446Z"
    }
   },
   "id": "b6bbcabdc603d57d",
   "execution_count": 31
  },
  {
   "cell_type": "code",
   "outputs": [
    {
     "data": {
      "text/plain": "tensor([[0.4657, 0.2328, 0.4527, 0.5871, 0.4086, 0.1272, 0.6373, 0.2421, 0.7312,\n         0.7224, 1.0000, 1.0000, 0.0000, 1.0000, 1.0000, 0.0000, 0.0000, 0.0000,\n         0.0000, 0.0000],\n        [0.1992, 0.6948, 0.5830, 0.6318, 0.5559, 0.1262, 0.9790, 0.8443, 0.1256,\n         0.4456, 0.0000, 0.0000, 1.0000, 1.0000, 1.0000, 1.0000, 0.0000, 0.0000,\n         0.0000, 0.0000]])"
     },
     "execution_count": 29,
     "metadata": {},
     "output_type": "execute_result"
    }
   ],
   "source": [
    "# tensor 연결 cat([텐서1, 텐서2, 텐서3...])\n",
    "torch.cat((X, y2), dim = 1)"
   ],
   "metadata": {
    "collapsed": false,
    "ExecuteTime": {
     "end_time": "2024-03-12T06:11:47.532375700Z",
     "start_time": "2024-03-12T06:11:47.520301800Z"
    }
   },
   "id": "6e1917d9e06fea45",
   "execution_count": 29
  },
  {
   "cell_type": "code",
   "outputs": [
    {
     "name": "stdout",
     "output_type": "stream",
     "text": [
      "y2 => torch.Size([4, 10]), 2D\n"
     ]
    }
   ],
   "source": [
    "xy1 = torch.cat([X, y2], dim=0)\n",
    "print(f\"y2 => {xy1.shape}, {xy1.ndim}D\") "
   ],
   "metadata": {
    "collapsed": false,
    "ExecuteTime": {
     "end_time": "2024-03-12T06:18:21.578246800Z",
     "start_time": "2024-03-12T06:18:21.567711600Z"
    }
   },
   "id": "4302e7002fd8db24",
   "execution_count": 33
  },
  {
   "cell_type": "code",
   "outputs": [
    {
     "data": {
      "text/plain": "tensor([[0.4657, 0.2328, 0.4527, 0.5871, 0.4086, 0.1272, 0.6373, 0.2421, 0.7312,\n         0.7224],\n        [0.1992, 0.6948, 0.5830, 0.6318, 0.5559, 0.1262, 0.9790, 0.8443, 0.1256,\n         0.4456],\n        [1.0000, 1.0000, 0.0000, 1.0000, 1.0000, 0.0000, 0.0000, 0.0000, 0.0000,\n         0.0000],\n        [0.0000, 0.0000, 1.0000, 1.0000, 1.0000, 1.0000, 0.0000, 0.0000, 0.0000,\n         0.0000]])"
     },
     "execution_count": 36,
     "metadata": {},
     "output_type": "execute_result"
    }
   ],
   "source": [
    "xy1"
   ],
   "metadata": {
    "collapsed": false,
    "ExecuteTime": {
     "end_time": "2024-03-12T06:19:59.847625900Z",
     "start_time": "2024-03-12T06:19:59.792746Z"
    }
   },
   "id": "68259f5c4596e8f4",
   "execution_count": 36
  },
  {
   "cell_type": "code",
   "outputs": [
    {
     "data": {
      "text/plain": "torch.return_types.max(\nvalues=tensor([1.0000, 1.0000, 1.0000, 1.0000, 1.0000, 1.0000, 0.9790, 0.8443, 0.7312,\n        0.7224]),\nindices=tensor([2, 2, 3, 2, 2, 3, 1, 1, 0, 0]))"
     },
     "execution_count": 34,
     "metadata": {},
     "output_type": "execute_result"
    }
   ],
   "source": [
    "xy1.max(dim=0) # 여기서는 0이 열!! "
   ],
   "metadata": {
    "collapsed": false,
    "ExecuteTime": {
     "end_time": "2024-03-12T06:18:35.912149900Z",
     "start_time": "2024-03-12T06:18:35.880707900Z"
    }
   },
   "id": "25ad124d00a9a88e",
   "execution_count": 34
  },
  {
   "cell_type": "code",
   "outputs": [
    {
     "data": {
      "text/plain": "torch.return_types.max(\nvalues=tensor([0.7312, 0.9790, 1.0000, 1.0000]),\nindices=tensor([8, 6, 0, 2]))"
     },
     "execution_count": 35,
     "metadata": {},
     "output_type": "execute_result"
    }
   ],
   "source": [
    "max_val = xy1.max(dim=1)[0]\n",
    "max_idx = xy1.max(dim=1)[1]\n",
    "xy1.max(dim=1) # indices는 인덱스 값"
   ],
   "metadata": {
    "collapsed": false,
    "ExecuteTime": {
     "end_time": "2024-03-12T06:18:45.953439100Z",
     "start_time": "2024-03-12T06:18:45.902631400Z"
    }
   },
   "id": "81dee816de26c420",
   "execution_count": 35
  },
  {
   "cell_type": "code",
   "outputs": [
    {
     "data": {
      "text/plain": "    a   b   c\n0  10  20  30\n1  11  22  33",
      "text/html": "<div>\n<style scoped>\n    .dataframe tbody tr th:only-of-type {\n        vertical-align: middle;\n    }\n\n    .dataframe tbody tr th {\n        vertical-align: top;\n    }\n\n    .dataframe thead th {\n        text-align: right;\n    }\n</style>\n<table border=\"1\" class=\"dataframe\">\n  <thead>\n    <tr style=\"text-align: right;\">\n      <th></th>\n      <th>a</th>\n      <th>b</th>\n      <th>c</th>\n    </tr>\n  </thead>\n  <tbody>\n    <tr>\n      <th>0</th>\n      <td>10</td>\n      <td>20</td>\n      <td>30</td>\n    </tr>\n    <tr>\n      <th>1</th>\n      <td>11</td>\n      <td>22</td>\n      <td>33</td>\n    </tr>\n  </tbody>\n</table>\n</div>"
     },
     "execution_count": 39,
     "metadata": {},
     "output_type": "execute_result"
    }
   ],
   "source": [
    "import pandas as pd\n",
    "\n",
    "data = pd.DataFrame({\"a\" : [10, 11], \"b\" : [20, 22], \"c\" : [30, 33]})\n",
    "data"
   ],
   "metadata": {
    "collapsed": false,
    "ExecuteTime": {
     "end_time": "2024-03-12T06:29:06.875551100Z",
     "start_time": "2024-03-12T06:29:06.861303300Z"
    }
   },
   "id": "c477e04efd51fae7",
   "execution_count": 39
  },
  {
   "cell_type": "code",
   "outputs": [
    {
     "data": {
      "text/plain": "a    11\nb    22\nc    33\ndtype: int64"
     },
     "execution_count": 40,
     "metadata": {},
     "output_type": "execute_result"
    }
   ],
   "source": [
    "data.max() "
   ],
   "metadata": {
    "collapsed": false,
    "ExecuteTime": {
     "end_time": "2024-03-12T06:29:07.058375800Z",
     "start_time": "2024-03-12T06:29:07.011198700Z"
    }
   },
   "id": "7b998ef797bfdb3e",
   "execution_count": 40
  },
  {
   "cell_type": "code",
   "outputs": [
    {
     "data": {
      "text/plain": "a    11\nb    22\nc    33\ndtype: int64"
     },
     "execution_count": 42,
     "metadata": {},
     "output_type": "execute_result"
    }
   ],
   "source": [
    "data.max(axis = 0) # 집계 함수는 0 1 반대로 생각해야함"
   ],
   "metadata": {
    "collapsed": false,
    "ExecuteTime": {
     "end_time": "2024-03-12T06:29:23.899354200Z",
     "start_time": "2024-03-12T06:29:23.877232500Z"
    }
   },
   "id": "e583dc65c8e14feb",
   "execution_count": 42
  },
  {
   "cell_type": "code",
   "outputs": [
    {
     "data": {
      "text/plain": "0    30\n1    33\ndtype: int64"
     },
     "execution_count": 43,
     "metadata": {},
     "output_type": "execute_result"
    }
   ],
   "source": [
    "data.max(axis=1)"
   ],
   "metadata": {
    "collapsed": false,
    "ExecuteTime": {
     "end_time": "2024-03-12T06:29:49.459086100Z",
     "start_time": "2024-03-12T06:29:49.425163800Z"
    }
   },
   "id": "12c595e6b0b4babf",
   "execution_count": 43
  },
  {
   "cell_type": "code",
   "outputs": [],
   "source": [],
   "metadata": {
    "collapsed": false
   },
   "id": "e5599748aa35d1a3"
  }
 ],
 "metadata": {
  "kernelspec": {
   "display_name": "Python 3",
   "language": "python",
   "name": "python3"
  },
  "language_info": {
   "codemirror_mode": {
    "name": "ipython",
    "version": 2
   },
   "file_extension": ".py",
   "mimetype": "text/x-python",
   "name": "python",
   "nbconvert_exporter": "python",
   "pygments_lexer": "ipython2",
   "version": "2.7.6"
  }
 },
 "nbformat": 4,
 "nbformat_minor": 5
}
