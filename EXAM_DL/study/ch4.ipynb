{
 "cells": [
  {
   "cell_type": "code",
   "execution_count": 1,
   "id": "initial_id",
   "metadata": {
    "collapsed": true,
    "ExecuteTime": {
     "end_time": "2024-03-15T10:49:26.544625900Z",
     "start_time": "2024-03-15T10:49:26.395536900Z"
    }
   },
   "outputs": [],
   "source": [
    "import imageio"
   ]
  },
  {
   "cell_type": "code",
   "outputs": [
    {
     "name": "stderr",
     "output_type": "stream",
     "text": [
      "C:\\Users\\kdp\\AppData\\Local\\Temp\\ipykernel_2484\\2088838937.py:1: DeprecationWarning: Starting with ImageIO v3 the behavior of this function will switch to that of iio.v3.imread. To keep the current behavior (and make this warning disappear) use `import imageio.v2 as imageio` or call `imageio.v2.imread` directly.\n",
      "  img_arr = imageio.imread('../data/test.jpg')\n"
     ]
    },
    {
     "data": {
      "text/plain": "(3024, 4032, 3)"
     },
     "execution_count": 3,
     "metadata": {},
     "output_type": "execute_result"
    }
   ],
   "source": [
    "img_arr = imageio.imread('../data/test.jpg')\n",
    "img_arr.shape"
   ],
   "metadata": {
    "collapsed": false,
    "ExecuteTime": {
     "end_time": "2024-03-15T10:50:33.665203900Z",
     "start_time": "2024-03-15T10:50:33.506184200Z"
    }
   },
   "id": "29d443250a2b7526",
   "execution_count": 3
  },
  {
   "cell_type": "markdown",
   "source": [
    "- (3024, 4032, 3) -> 세로, 가로, RGB\n",
    "- 파이토치 모듈에서는 RGB, 세로, 가로 순으로 배치되어야 함"
   ],
   "metadata": {
    "collapsed": false
   },
   "id": "3bae84e0645d9b51"
  },
  {
   "cell_type": "code",
   "outputs": [],
   "source": [
    "# 텐서에서 채널 순서 바꾸기 즉\n",
    "import torch\n",
    "img = torch.from_numpy(img_arr)\n",
    "out = img.permute(2, 0, 1) # 채널 순서 바꾸기 "
   ],
   "metadata": {
    "collapsed": false,
    "ExecuteTime": {
     "end_time": "2024-03-15T10:58:20.973443900Z",
     "start_time": "2024-03-15T10:58:19.580355900Z"
    }
   },
   "id": "50becb94e9694b68",
   "execution_count": 4
  },
  {
   "cell_type": "code",
   "outputs": [
    {
     "data": {
      "text/plain": "torch.Size([3, 3024, 4032])"
     },
     "execution_count": 5,
     "metadata": {},
     "output_type": "execute_result"
    }
   ],
   "source": [
    "out.shape"
   ],
   "metadata": {
    "collapsed": false,
    "ExecuteTime": {
     "end_time": "2024-03-15T11:01:04.440389400Z",
     "start_time": "2024-03-15T11:01:04.430691200Z"
    }
   },
   "id": "87303e704d8f86e3",
   "execution_count": 5
  },
  {
   "cell_type": "code",
   "outputs": [],
   "source": [
    "batch_size = 3 # 사진이 3장이라고 가정하고 N X C X H X W 텐서\n",
    "batch = torch.zeros(batch_size, 3, 3024, 4032, dtype=torch.uint8)"
   ],
   "metadata": {
    "collapsed": false,
    "ExecuteTime": {
     "end_time": "2024-03-15T11:12:24.227519900Z",
     "start_time": "2024-03-15T11:12:24.176684200Z"
    }
   },
   "id": "ba6d23957eb146cf",
   "execution_count": 8
  },
  {
   "cell_type": "code",
   "outputs": [],
   "source": [
    "# 이미지 정규화 \n",
    "batch = batch.float()\n",
    "batch /= 255"
   ],
   "metadata": {
    "collapsed": false,
    "ExecuteTime": {
     "end_time": "2024-03-15T11:12:24.395201900Z",
     "start_time": "2024-03-15T11:12:24.314158600Z"
    }
   },
   "id": "bf9a28c5c6c06100",
   "execution_count": 9
  },
  {
   "cell_type": "code",
   "outputs": [
    {
     "data": {
      "text/plain": "tensor([[[[0., 0., 0.,  ..., 0., 0., 0.],\n          [0., 0., 0.,  ..., 0., 0., 0.],\n          [0., 0., 0.,  ..., 0., 0., 0.],\n          ...,\n          [0., 0., 0.,  ..., 0., 0., 0.],\n          [0., 0., 0.,  ..., 0., 0., 0.],\n          [0., 0., 0.,  ..., 0., 0., 0.]],\n\n         [[0., 0., 0.,  ..., 0., 0., 0.],\n          [0., 0., 0.,  ..., 0., 0., 0.],\n          [0., 0., 0.,  ..., 0., 0., 0.],\n          ...,\n          [0., 0., 0.,  ..., 0., 0., 0.],\n          [0., 0., 0.,  ..., 0., 0., 0.],\n          [0., 0., 0.,  ..., 0., 0., 0.]],\n\n         [[0., 0., 0.,  ..., 0., 0., 0.],\n          [0., 0., 0.,  ..., 0., 0., 0.],\n          [0., 0., 0.,  ..., 0., 0., 0.],\n          ...,\n          [0., 0., 0.,  ..., 0., 0., 0.],\n          [0., 0., 0.,  ..., 0., 0., 0.],\n          [0., 0., 0.,  ..., 0., 0., 0.]]],\n\n\n        [[[0., 0., 0.,  ..., 0., 0., 0.],\n          [0., 0., 0.,  ..., 0., 0., 0.],\n          [0., 0., 0.,  ..., 0., 0., 0.],\n          ...,\n          [0., 0., 0.,  ..., 0., 0., 0.],\n          [0., 0., 0.,  ..., 0., 0., 0.],\n          [0., 0., 0.,  ..., 0., 0., 0.]],\n\n         [[0., 0., 0.,  ..., 0., 0., 0.],\n          [0., 0., 0.,  ..., 0., 0., 0.],\n          [0., 0., 0.,  ..., 0., 0., 0.],\n          ...,\n          [0., 0., 0.,  ..., 0., 0., 0.],\n          [0., 0., 0.,  ..., 0., 0., 0.],\n          [0., 0., 0.,  ..., 0., 0., 0.]],\n\n         [[0., 0., 0.,  ..., 0., 0., 0.],\n          [0., 0., 0.,  ..., 0., 0., 0.],\n          [0., 0., 0.,  ..., 0., 0., 0.],\n          ...,\n          [0., 0., 0.,  ..., 0., 0., 0.],\n          [0., 0., 0.,  ..., 0., 0., 0.],\n          [0., 0., 0.,  ..., 0., 0., 0.]]],\n\n\n        [[[0., 0., 0.,  ..., 0., 0., 0.],\n          [0., 0., 0.,  ..., 0., 0., 0.],\n          [0., 0., 0.,  ..., 0., 0., 0.],\n          ...,\n          [0., 0., 0.,  ..., 0., 0., 0.],\n          [0., 0., 0.,  ..., 0., 0., 0.],\n          [0., 0., 0.,  ..., 0., 0., 0.]],\n\n         [[0., 0., 0.,  ..., 0., 0., 0.],\n          [0., 0., 0.,  ..., 0., 0., 0.],\n          [0., 0., 0.,  ..., 0., 0., 0.],\n          ...,\n          [0., 0., 0.,  ..., 0., 0., 0.],\n          [0., 0., 0.,  ..., 0., 0., 0.],\n          [0., 0., 0.,  ..., 0., 0., 0.]],\n\n         [[0., 0., 0.,  ..., 0., 0., 0.],\n          [0., 0., 0.,  ..., 0., 0., 0.],\n          [0., 0., 0.,  ..., 0., 0., 0.],\n          ...,\n          [0., 0., 0.,  ..., 0., 0., 0.],\n          [0., 0., 0.,  ..., 0., 0., 0.],\n          [0., 0., 0.,  ..., 0., 0., 0.]]]])"
     },
     "execution_count": 10,
     "metadata": {},
     "output_type": "execute_result"
    }
   ],
   "source": [
    "n_chnnels = batch.shape[1] #batch.shape[1] = 3 => 채널 수(RGB) \n",
    "\n",
    "for c in range(n_chnnels):\n",
    "    mean = torch.mean(batch[:, c])\n",
    "    std = torch.std(batch[:, c])\n",
    "    batch[:, c] = (batch[:, c] - mean) / std\n",
    "\n",
    "# 실제 작업할 때는 미리 모든 훈련 데이터에 대한 평균과 표준편차를 계산해서 사전에 계산"
   ],
   "metadata": {
    "collapsed": false,
    "ExecuteTime": {
     "end_time": "2024-03-15T11:12:30.511780Z",
     "start_time": "2024-03-15T11:12:30.480796100Z"
    }
   },
   "id": "66c7da612cdae607",
   "execution_count": 10
  },
  {
   "cell_type": "code",
   "outputs": [
    {
     "data": {
      "text/plain": "3"
     },
     "execution_count": 11,
     "metadata": {},
     "output_type": "execute_result"
    }
   ],
   "source": [
    "batch.shape[1]"
   ],
   "metadata": {
    "collapsed": false,
    "ExecuteTime": {
     "end_time": "2024-03-15T11:14:54.266419700Z",
     "start_time": "2024-03-15T11:14:54.253108400Z"
    }
   },
   "id": "f97a3303e9ba62e4",
   "execution_count": 11
  },
  {
   "cell_type": "markdown",
   "source": [
    "## 4.3.1 실세계 데이터셋 이용하기"
   ],
   "metadata": {
    "collapsed": false
   },
   "id": "824a90b12b48d8a7"
  },
  {
   "cell_type": "code",
   "outputs": [],
   "source": [
    "import csv\n",
    "import numpy as np\n",
    "\n",
    "wine_path = \"../data/winequality-white.csv\"\n",
    "wine_numpy = np.loadtxt(wine_path, delimiter=\";\", skiprows=1, dtype=np.float32) # 32 비트 부동소수점 "
   ],
   "metadata": {
    "collapsed": false,
    "ExecuteTime": {
     "end_time": "2024-03-15T11:27:48.827868600Z",
     "start_time": "2024-03-15T11:27:48.797668800Z"
    }
   },
   "id": "9ae7a55a45473820",
   "execution_count": 14
  },
  {
   "cell_type": "code",
   "outputs": [
    {
     "data": {
      "text/plain": "array([[ 7.  ,  0.27,  0.36, ...,  0.45,  8.8 ,  6.  ],\n       [ 6.3 ,  0.3 ,  0.34, ...,  0.49,  9.5 ,  6.  ],\n       [ 8.1 ,  0.28,  0.4 , ...,  0.44, 10.1 ,  6.  ],\n       ...,\n       [ 6.5 ,  0.24,  0.19, ...,  0.46,  9.4 ,  6.  ],\n       [ 5.5 ,  0.29,  0.3 , ...,  0.38, 12.8 ,  7.  ],\n       [ 6.  ,  0.21,  0.38, ...,  0.32, 11.8 ,  6.  ]], dtype=float32)"
     },
     "execution_count": 16,
     "metadata": {},
     "output_type": "execute_result"
    }
   ],
   "source": [
    "wine_numpy"
   ],
   "metadata": {
    "collapsed": false,
    "ExecuteTime": {
     "end_time": "2024-03-15T11:27:56.684004200Z",
     "start_time": "2024-03-15T11:27:56.670291800Z"
    }
   },
   "id": "457b0b59a61732ec",
   "execution_count": 16
  },
  {
   "cell_type": "code",
   "outputs": [],
   "source": [
    "col_list = next(csv.reader(open(wine_path), delimiter=\";\"))"
   ],
   "metadata": {
    "collapsed": false,
    "ExecuteTime": {
     "end_time": "2024-03-15T11:28:57.548189900Z",
     "start_time": "2024-03-15T11:28:57.537020700Z"
    }
   },
   "id": "54483ee9d7db1425",
   "execution_count": 17
  },
  {
   "cell_type": "code",
   "outputs": [
    {
     "data": {
      "text/plain": "((4898, 12),\n ['fixed acidity',\n  'volatile acidity',\n  'citric acid',\n  'residual sugar',\n  'chlorides',\n  'free sulfur dioxide',\n  'total sulfur dioxide',\n  'density',\n  'pH',\n  'sulphates',\n  'alcohol',\n  'quality'])"
     },
     "execution_count": 18,
     "metadata": {},
     "output_type": "execute_result"
    }
   ],
   "source": [
    "wine_numpy.shape, col_list"
   ],
   "metadata": {
    "collapsed": false,
    "ExecuteTime": {
     "end_time": "2024-03-15T11:31:11.886215400Z",
     "start_time": "2024-03-15T11:31:11.845756Z"
    }
   },
   "id": "74fe335d657201da",
   "execution_count": 18
  },
  {
   "cell_type": "code",
   "outputs": [],
   "source": [
    "wineq = torch.from_numpy(wine_numpy)"
   ],
   "metadata": {
    "collapsed": false,
    "ExecuteTime": {
     "end_time": "2024-03-15T11:31:54.022720100Z",
     "start_time": "2024-03-15T11:31:54.015922100Z"
    }
   },
   "id": "38759af5da5ecfe0",
   "execution_count": 20
  },
  {
   "cell_type": "code",
   "outputs": [
    {
     "data": {
      "text/plain": "(torch.Size([4898, 12]), torch.float32)"
     },
     "execution_count": 21,
     "metadata": {},
     "output_type": "execute_result"
    }
   ],
   "source": [
    "wineq.shape, wineq.dtype"
   ],
   "metadata": {
    "collapsed": false,
    "ExecuteTime": {
     "end_time": "2024-03-15T11:32:13.007931100Z",
     "start_time": "2024-03-15T11:32:12.982704600Z"
    }
   },
   "id": "71a5e79b8577c9a2",
   "execution_count": 21
  },
  {
   "cell_type": "code",
   "outputs": [
    {
     "data": {
      "text/plain": "(tensor([[ 7.0000,  0.2700,  0.3600,  ...,  3.0000,  0.4500,  8.8000],\n         [ 6.3000,  0.3000,  0.3400,  ...,  3.3000,  0.4900,  9.5000],\n         [ 8.1000,  0.2800,  0.4000,  ...,  3.2600,  0.4400, 10.1000],\n         ...,\n         [ 6.5000,  0.2400,  0.1900,  ...,  2.9900,  0.4600,  9.4000],\n         [ 5.5000,  0.2900,  0.3000,  ...,  3.3400,  0.3800, 12.8000],\n         [ 6.0000,  0.2100,  0.3800,  ...,  3.2600,  0.3200, 11.8000]]),\n torch.Size([4898, 11]))"
     },
     "execution_count": 22,
     "metadata": {},
     "output_type": "execute_result"
    }
   ],
   "source": [
    "data = wineq[:, :-1] # 마지막 col을 제외하고 모두 선택\n",
    "data, data.shape"
   ],
   "metadata": {
    "collapsed": false,
    "ExecuteTime": {
     "end_time": "2024-03-15T11:35:45.306834500Z",
     "start_time": "2024-03-15T11:35:45.275246500Z"
    }
   },
   "id": "62a96d85650586ee",
   "execution_count": 22
  },
  {
   "cell_type": "code",
   "outputs": [
    {
     "data": {
      "text/plain": "(tensor([6., 6., 6.,  ..., 6., 7., 6.]), torch.Size([4898]))"
     },
     "execution_count": 23,
     "metadata": {},
     "output_type": "execute_result"
    }
   ],
   "source": [
    "target = wineq[:, -1] # 타겟 데이터 \n",
    "target, target.shape"
   ],
   "metadata": {
    "collapsed": false,
    "ExecuteTime": {
     "end_time": "2024-03-15T11:36:24.733808100Z",
     "start_time": "2024-03-15T11:36:24.705775600Z"
    }
   },
   "id": "f7a1c39ec4822e26",
   "execution_count": 23
  },
  {
   "cell_type": "code",
   "outputs": [
    {
     "data": {
      "text/plain": "tensor([6, 6, 6,  ..., 6, 7, 6])"
     },
     "execution_count": 25,
     "metadata": {},
     "output_type": "execute_result"
    }
   ],
   "source": [
    "# target텐서 전치 방법1 -> 그냥 정수로 처리하기\n",
    "target = wineq[:,-1].long()\n",
    "target"
   ],
   "metadata": {
    "collapsed": false,
    "ExecuteTime": {
     "end_time": "2024-03-15T11:38:33.012486500Z",
     "start_time": "2024-03-15T11:38:32.996065300Z"
    }
   },
   "id": "9287b98d3e7446f2",
   "execution_count": 25
  },
  {
   "cell_type": "code",
   "outputs": [
    {
     "data": {
      "text/plain": "tensor([[0., 0., 0.,  ..., 0., 0., 0.],\n        [0., 0., 0.,  ..., 0., 0., 0.],\n        [0., 0., 0.,  ..., 0., 0., 0.],\n        ...,\n        [0., 0., 0.,  ..., 0., 0., 0.],\n        [0., 0., 0.,  ..., 1., 0., 0.],\n        [0., 0., 0.,  ..., 0., 0., 0.]])"
     },
     "execution_count": 26,
     "metadata": {},
     "output_type": "execute_result"
    }
   ],
   "source": [
    "# 방법2 원핫 인코딩\n",
    "target_onehot = torch.zeros(target.shape[0], 10) # 행=4898, 열=1~10 등급\n",
    "\n",
    "target_onehot.scatter_(1, target.unsqueeze(1), 1.0)"
   ],
   "metadata": {
    "collapsed": false,
    "ExecuteTime": {
     "end_time": "2024-03-15T11:44:28.970368900Z",
     "start_time": "2024-03-15T11:44:28.947760400Z"
    }
   },
   "id": "3a38fcc9aa8309f6",
   "execution_count": 26
  },
  {
   "cell_type": "markdown",
   "source": [
    "<hr>"
   ],
   "metadata": {
    "collapsed": false
   },
   "id": "e99521b2bf0c4769"
  },
  {
   "cell_type": "code",
   "outputs": [
    {
     "name": "stdout",
     "output_type": "stream",
     "text": [
      "tensor([9, 2, 3, 8, 5])\n"
     ]
    }
   ],
   "source": [
    "# 원본 텐서 생성\n",
    "tensor = torch.tensor([1, 2, 3, 4, 5])\n",
    "\n",
    "# 업데이트할 위치(인덱스)\n",
    "indices = torch.tensor([0, 3])\n",
    "\n",
    "# 업데이트할 값\n",
    "values = torch.tensor([9, 8])\n",
    "\n",
    "# scatter_ 메서드를 사용하여 인덱스에 해당하는 위치에 값 업데이트\n",
    "tensor.scatter_(0, indices, values)\n",
    "\n",
    "print(tensor)"
   ],
   "metadata": {
    "collapsed": false,
    "ExecuteTime": {
     "end_time": "2024-03-15T11:52:31.281832800Z",
     "start_time": "2024-03-15T11:52:31.263417Z"
    }
   },
   "id": "e6846ba10464d0b6",
   "execution_count": 28
  },
  {
   "cell_type": "markdown",
   "source": [
    "<hr>"
   ],
   "metadata": {
    "collapsed": false
   },
   "id": "b49cb3686b2a5f4b"
  },
  {
   "cell_type": "code",
   "outputs": [
    {
     "data": {
      "text/plain": "tensor([6.8548e+00, 2.7824e-01, 3.3419e-01, 6.3914e+00, 4.5772e-02, 3.5308e+01,\n        1.3836e+02, 9.9403e-01, 3.1883e+00, 4.8985e-01, 1.0514e+01])"
     },
     "execution_count": 29,
     "metadata": {},
     "output_type": "execute_result"
    }
   ],
   "source": [
    "# 평균\n",
    "data_mean = torch.mean(data, dim=0)\n",
    "data_mean"
   ],
   "metadata": {
    "collapsed": false,
    "ExecuteTime": {
     "end_time": "2024-03-15T12:11:52.041784500Z",
     "start_time": "2024-03-15T12:11:52.016709800Z"
    }
   },
   "id": "7137ce544c6e72a6",
   "execution_count": 29
  },
  {
   "cell_type": "code",
   "outputs": [
    {
     "data": {
      "text/plain": "tensor([7.1211e-01, 1.0160e-02, 1.4646e-02, 2.5726e+01, 4.7733e-04, 2.8924e+02,\n        1.8061e+03, 8.9455e-06, 2.2801e-02, 1.3025e-02, 1.5144e+00])"
     },
     "execution_count": 31,
     "metadata": {},
     "output_type": "execute_result"
    }
   ],
   "source": [
    "# 표준 편차\n",
    "data_var = torch.var(data, dim=0)\n",
    "data_var"
   ],
   "metadata": {
    "collapsed": false,
    "ExecuteTime": {
     "end_time": "2024-03-15T12:12:57.912144300Z",
     "start_time": "2024-03-15T12:12:57.900218100Z"
    }
   },
   "id": "a2f1bb3fb5418c13",
   "execution_count": 31
  },
  {
   "cell_type": "code",
   "outputs": [
    {
     "data": {
      "text/plain": "tensor([[ 1.7208e-01, -8.1761e-02,  2.1326e-01,  ..., -1.2468e+00,\n         -3.4915e-01, -1.3930e+00],\n        [-6.5743e-01,  2.1587e-01,  4.7996e-02,  ...,  7.3995e-01,\n          1.3422e-03, -8.2419e-01],\n        [ 1.4756e+00,  1.7450e-02,  5.4378e-01,  ...,  4.7505e-01,\n         -4.3677e-01, -3.3663e-01],\n        ...,\n        [-4.2043e-01, -3.7940e-01, -1.1915e+00,  ..., -1.3130e+00,\n         -2.6153e-01, -9.0545e-01],\n        [-1.6054e+00,  1.1666e-01, -2.8253e-01,  ...,  1.0049e+00,\n         -9.6251e-01,  1.8574e+00],\n        [-1.0129e+00, -6.7703e-01,  3.7852e-01,  ...,  4.7505e-01,\n         -1.4882e+00,  1.0448e+00]])"
     },
     "execution_count": 32,
     "metadata": {},
     "output_type": "execute_result"
    }
   ],
   "source": [
    "data_norm = (data - data_mean) / torch.sqrt(data_var)\n",
    "data_norm # dim=0 차원 0에 대해 축소 연산이 수행 됨 "
   ],
   "metadata": {
    "collapsed": false,
    "ExecuteTime": {
     "end_time": "2024-03-15T12:20:48.867413600Z",
     "start_time": "2024-03-15T12:20:48.839418900Z"
    }
   },
   "id": "247179fee716ae1d",
   "execution_count": 32
  },
  {
   "cell_type": "code",
   "outputs": [
    {
     "data": {
      "text/plain": "torch.Size([4898])"
     },
     "execution_count": 34,
     "metadata": {},
     "output_type": "execute_result"
    }
   ],
   "source": [
    "# 임계값을 찾기 => 3 이하인 열\n",
    "bad_indexes = target <= 3\n",
    "bad_indexes.shape"
   ],
   "metadata": {
    "collapsed": false,
    "ExecuteTime": {
     "end_time": "2024-03-15T12:31:36.805582Z",
     "start_time": "2024-03-15T12:31:36.783542500Z"
    }
   },
   "id": "81be0ef425861322",
   "execution_count": 34
  },
  {
   "cell_type": "code",
   "outputs": [
    {
     "data": {
      "text/plain": "torch.Size([20, 11])"
     },
     "execution_count": 35,
     "metadata": {},
     "output_type": "execute_result"
    }
   ],
   "source": [
    "bad_data = data[bad_indexes]\n",
    "bad_data.shape"
   ],
   "metadata": {
    "collapsed": false,
    "ExecuteTime": {
     "end_time": "2024-03-15T12:33:09.888627600Z",
     "start_time": "2024-03-15T12:33:09.849510100Z"
    }
   },
   "id": "2b1dfacca8811692",
   "execution_count": 35
  },
  {
   "cell_type": "code",
   "outputs": [],
   "source": [
    "bad_data = data[target <= 3]\n",
    "mid_data = data[(target > 3) & (target < 7)]\n",
    "good_data = data[target >= 7]"
   ],
   "metadata": {
    "collapsed": false,
    "ExecuteTime": {
     "end_time": "2024-03-15T12:34:45.209051900Z",
     "start_time": "2024-03-15T12:34:45.185239800Z"
    }
   },
   "id": "8926f14466247c99",
   "execution_count": 36
  },
  {
   "cell_type": "code",
   "outputs": [],
   "source": [
    "bad_mean = torch.mean(bad_data, dim=0)\n",
    "mid_mean = torch.mean(mid_data, dim=0)\n",
    "good_mean = torch.mean(good_data, dim=0)"
   ],
   "metadata": {
    "collapsed": false,
    "ExecuteTime": {
     "end_time": "2024-03-15T12:38:54.696414600Z",
     "start_time": "2024-03-15T12:38:54.677513100Z"
    }
   },
   "id": "592093a5c2177f5f",
   "execution_count": 37
  },
  {
   "cell_type": "code",
   "outputs": [
    {
     "name": "stdout",
     "output_type": "stream",
     "text": [
      " 0 fixed acidity          7.60   6.89   6.73\n",
      " 1 volatile acidity       0.33   0.28   0.27\n",
      " 2 citric acid            0.34   0.34   0.33\n",
      " 3 residual sugar         6.39   6.71   5.26\n",
      " 4 chlorides              0.05   0.05   0.04\n",
      " 5 free sulfur dioxide   53.33  35.42  34.55\n",
      " 6 total sulfur dioxide 170.60 141.83 125.25\n",
      " 7 density                0.99   0.99   0.99\n",
      " 8 pH                     3.19   3.18   3.22\n",
      " 9 sulphates              0.47   0.49   0.50\n",
      "10 alcohol               10.34  10.26  11.42\n"
     ]
    }
   ],
   "source": [
    "for i, args in enumerate(zip(col_list, bad_mean, mid_mean, good_mean)):\n",
    "    print(\"{:2} {:20} {:6.2f} {:6.2f} {:6.2f}\".format(i, *args))"
   ],
   "metadata": {
    "collapsed": false,
    "ExecuteTime": {
     "end_time": "2024-03-15T12:40:46.485540300Z",
     "start_time": "2024-03-15T12:40:46.443919500Z"
    }
   },
   "id": "c1055ffa7253c1e1",
   "execution_count": 38
  },
  {
   "cell_type": "code",
   "outputs": [
    {
     "data": {
      "text/plain": "(torch.Size([4898]), torch.bool, tensor(2727))"
     },
     "execution_count": 39,
     "metadata": {},
     "output_type": "execute_result"
    }
   ],
   "source": [
    "total_sulfur_threshold = 141.83\n",
    "total_sulfur_data = data[:, 6]\n",
    "predicted_indexes = torch.lt(total_sulfur_data, total_sulfur_threshold)\n",
    "\n",
    "predicted_indexes.shape, predicted_indexes.dtype, predicted_indexes.sum()"
   ],
   "metadata": {
    "collapsed": false,
    "ExecuteTime": {
     "end_time": "2024-03-15T12:43:51.351712200Z",
     "start_time": "2024-03-15T12:43:51.329218500Z"
    }
   },
   "id": "9d163445556c9196",
   "execution_count": 39
  },
  {
   "cell_type": "code",
   "outputs": [
    {
     "data": {
      "text/plain": "(torch.Size([4898]), torch.bool, tensor(3258))"
     },
     "execution_count": 40,
     "metadata": {},
     "output_type": "execute_result"
    }
   ],
   "source": [
    "actual_indexes = target > 5\n",
    "\n",
    "actual_indexes.shape, actual_indexes.dtype, actual_indexes.sum()"
   ],
   "metadata": {
    "collapsed": false,
    "ExecuteTime": {
     "end_time": "2024-03-15T12:44:45.843682Z",
     "start_time": "2024-03-15T12:44:45.804191100Z"
    }
   },
   "id": "f4c34956dd78e8cb",
   "execution_count": 40
  },
  {
   "cell_type": "code",
   "outputs": [],
   "source": [
    "n_matches = torch.sum(actual_indexes & predicted_indexes).item()\n",
    "n_predicted = torch.sum(actual_indexes)"
   ],
   "metadata": {
    "collapsed": false
   },
   "id": "723854651c2afeb6"
  }
 ],
 "metadata": {
  "kernelspec": {
   "display_name": "Python 3",
   "language": "python",
   "name": "python3"
  },
  "language_info": {
   "codemirror_mode": {
    "name": "ipython",
    "version": 2
   },
   "file_extension": ".py",
   "mimetype": "text/x-python",
   "name": "python",
   "nbconvert_exporter": "python",
   "pygments_lexer": "ipython2",
   "version": "2.7.6"
  }
 },
 "nbformat": 4,
 "nbformat_minor": 5
}
