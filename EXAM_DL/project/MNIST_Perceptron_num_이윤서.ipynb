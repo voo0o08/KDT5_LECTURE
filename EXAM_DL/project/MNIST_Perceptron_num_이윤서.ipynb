{
 "cells": [
  {
   "cell_type": "markdown",
   "source": [
    "# 프로젝트 소개 - 개인 : 퍼셉트론 수의 영향 알아보기\n",
    "\n",
    "MNIST fashion data를 가지고 다양한 조건으로 최상의 분류모델 찾기\n",
    "- 데이터셋 : fashion mnist\n",
    "- 피쳐개수 : 28X28 784개\n",
    "\n",
    "- batch_size = 50\n",
    "- epoch = 30\n",
    "- 조기 종료 조건 : F1 기준 갱신 5번 이하\n",
    "- learning_rate = default\n",
    "- 최적화 함수 → Adam\n",
    "- 배치 정규화 → 각 레이어마다\n",
    "- 가중치 초기화 → He\n",
    "- train : validation = 6 : 1\n",
    "- test는 팀원 개인 글씨"
   ],
   "metadata": {
    "collapsed": false
   },
   "id": "bc4abfebdaf73b7"
  },
  {
   "cell_type": "markdown",
   "source": [
    "## 1. 모듈 로딩 "
   ],
   "metadata": {
    "collapsed": false
   },
   "id": "3dede4f77d934c96"
  },
  {
   "cell_type": "code",
   "outputs": [],
   "source": [
    "from sklearn.datasets import fetch_openml\n",
    "import pandas as pd\n",
    "import numpy as np\n",
    "import matplotlib.pyplot as plt\n",
    "\n",
    "import torch # torch 기본 모듈로 텐서 기본 함수들 \n",
    "import torch.nn as nn # linear Regression 기능의 클래스 Linear\n",
    "import torch.nn.functional as F # 손실함수를 위함\n",
    "import torch.optim as optim # 최적화를 위함"
   ],
   "metadata": {
    "collapsed": false,
    "ExecuteTime": {
     "end_time": "2024-03-19T05:47:26.898722200Z",
     "start_time": "2024-03-19T05:47:23.376527500Z"
    }
   },
   "id": "49327cb32df9d67",
   "execution_count": 1
  },
  {
   "cell_type": "markdown",
   "source": [
    "## 2. 데이터 준비"
   ],
   "metadata": {
    "collapsed": false
   },
   "id": "204c0958e8927867"
  },
  {
   "cell_type": "code",
   "outputs": [],
   "source": [
    "fashion_db = 'fashion-mnist'\n",
    "\n",
    "fashion_data = fetch_openml(name = fashion_db, parser='auto')"
   ],
   "metadata": {
    "collapsed": false,
    "ExecuteTime": {
     "end_time": "2024-03-19T05:48:40.832880600Z",
     "start_time": "2024-03-19T05:48:37.272226600Z"
    }
   },
   "id": "8cc44141ccd94324",
   "execution_count": 2
  },
  {
   "cell_type": "code",
   "outputs": [],
   "source": [
    "# 데이터 확인 \n",
    "feature = fashion_data['data']\n",
    "target = fashion_data['target']"
   ],
   "metadata": {
    "collapsed": false,
    "ExecuteTime": {
     "end_time": "2024-03-19T05:57:03.817032800Z",
     "start_time": "2024-03-19T05:57:03.799938500Z"
    }
   },
   "id": "4f4c2e153968395a",
   "execution_count": 27
  },
  {
   "cell_type": "code",
   "outputs": [
    {
     "name": "stdout",
     "output_type": "stream",
     "text": [
      "feares: (70000, 784), 2D\n",
      "target: (70000,), 1D\n"
     ]
    }
   ],
   "source": [
    "# 데이터 피쳐와 타겟 개수 확인 \n",
    "print(f\"feares: {feature.shape}, {feature.ndim}D\")\n",
    "print(f\"target: {target.shape}, {target.ndim}D\")"
   ],
   "metadata": {
    "collapsed": false,
    "ExecuteTime": {
     "end_time": "2024-03-19T05:57:04.083025800Z",
     "start_time": "2024-03-19T05:57:04.057737Z"
    }
   },
   "id": "b37a8ab5af06cb75",
   "execution_count": 28
  },
  {
   "cell_type": "markdown",
   "source": [
    "## 3. 데이터 가공 및 전처리\n",
    "- 결측치 없음\n",
    "- 이상치 없음\n",
    "- 중복값 없음 \n",
    "- 정규화 : 피쳐 정규화 / 타겟 정규화"
   ],
   "metadata": {
    "collapsed": false
   },
   "id": "aaa633661b885ea0"
  },
  {
   "cell_type": "code",
   "outputs": [
    {
     "data": {
      "text/plain": "       pixel1  pixel2  pixel3  pixel4  pixel5    pixel6  pixel7  pixel8  \\\n0         0.0     0.0     0.0     0.0     0.0  0.000000     0.0     0.0   \n1         0.0     0.0     0.0     0.0     0.0  0.003922     0.0     0.0   \n2         0.0     0.0     0.0     0.0     0.0  0.000000     0.0     0.0   \n3         0.0     0.0     0.0     0.0     0.0  0.000000     0.0     0.0   \n4         0.0     0.0     0.0     0.0     0.0  0.000000     0.0     0.0   \n...       ...     ...     ...     ...     ...       ...     ...     ...   \n69995     0.0     0.0     0.0     0.0     0.0  0.000000     0.0     0.0   \n69996     0.0     0.0     0.0     0.0     0.0  0.000000     0.0     0.0   \n69997     0.0     0.0     0.0     0.0     0.0  0.000000     0.0     0.0   \n69998     0.0     0.0     0.0     0.0     0.0  0.000000     0.0     0.0   \n69999     0.0     0.0     0.0     0.0     0.0  0.000000     0.0     0.0   \n\n         pixel9   pixel10  ...  pixel775  pixel776  pixel777  pixel778  \\\n0      0.000000  0.000000  ...  0.000000  0.000000  0.000000  0.000000   \n1      0.000000  0.000000  ...  0.466667  0.447059  0.509804  0.298039   \n2      0.000000  0.086275  ...  0.000000  0.000000  0.003922  0.000000   \n3      0.129412  0.376471  ...  0.000000  0.000000  0.000000  0.000000   \n4      0.000000  0.000000  ...  0.000000  0.000000  0.000000  0.000000   \n...         ...       ...  ...       ...       ...       ...       ...   \n69995  0.000000  0.000000  ...  0.000000  0.000000  0.000000  0.000000   \n69996  0.000000  0.121569  ...  0.000000  0.000000  0.000000  0.000000   \n69997  0.000000  0.000000  ...  0.105882  0.000000  0.000000  0.000000   \n69998  0.000000  0.000000  ...  0.000000  0.000000  0.000000  0.000000   \n69999  0.000000  0.000000  ...  0.000000  0.000000  0.000000  0.000000   \n\n       pixel779  pixel780  pixel781  pixel782  pixel783  pixel784  \n0           0.0       0.0       0.0       0.0       0.0       0.0  \n1           0.0       0.0       0.0       0.0       0.0       0.0  \n2           0.0       0.0       0.0       0.0       0.0       0.0  \n3           0.0       0.0       0.0       0.0       0.0       0.0  \n4           0.0       0.0       0.0       0.0       0.0       0.0  \n...         ...       ...       ...       ...       ...       ...  \n69995       0.0       0.0       0.0       0.0       0.0       0.0  \n69996       0.0       0.0       0.0       0.0       0.0       0.0  \n69997       0.0       0.0       0.0       0.0       0.0       0.0  \n69998       0.0       0.0       0.0       0.0       0.0       0.0  \n69999       0.0       0.0       0.0       0.0       0.0       0.0  \n\n[70000 rows x 784 columns]",
      "text/html": "<div>\n<style scoped>\n    .dataframe tbody tr th:only-of-type {\n        vertical-align: middle;\n    }\n\n    .dataframe tbody tr th {\n        vertical-align: top;\n    }\n\n    .dataframe thead th {\n        text-align: right;\n    }\n</style>\n<table border=\"1\" class=\"dataframe\">\n  <thead>\n    <tr style=\"text-align: right;\">\n      <th></th>\n      <th>pixel1</th>\n      <th>pixel2</th>\n      <th>pixel3</th>\n      <th>pixel4</th>\n      <th>pixel5</th>\n      <th>pixel6</th>\n      <th>pixel7</th>\n      <th>pixel8</th>\n      <th>pixel9</th>\n      <th>pixel10</th>\n      <th>...</th>\n      <th>pixel775</th>\n      <th>pixel776</th>\n      <th>pixel777</th>\n      <th>pixel778</th>\n      <th>pixel779</th>\n      <th>pixel780</th>\n      <th>pixel781</th>\n      <th>pixel782</th>\n      <th>pixel783</th>\n      <th>pixel784</th>\n    </tr>\n  </thead>\n  <tbody>\n    <tr>\n      <th>0</th>\n      <td>0.0</td>\n      <td>0.0</td>\n      <td>0.0</td>\n      <td>0.0</td>\n      <td>0.0</td>\n      <td>0.000000</td>\n      <td>0.0</td>\n      <td>0.0</td>\n      <td>0.000000</td>\n      <td>0.000000</td>\n      <td>...</td>\n      <td>0.000000</td>\n      <td>0.000000</td>\n      <td>0.000000</td>\n      <td>0.000000</td>\n      <td>0.0</td>\n      <td>0.0</td>\n      <td>0.0</td>\n      <td>0.0</td>\n      <td>0.0</td>\n      <td>0.0</td>\n    </tr>\n    <tr>\n      <th>1</th>\n      <td>0.0</td>\n      <td>0.0</td>\n      <td>0.0</td>\n      <td>0.0</td>\n      <td>0.0</td>\n      <td>0.003922</td>\n      <td>0.0</td>\n      <td>0.0</td>\n      <td>0.000000</td>\n      <td>0.000000</td>\n      <td>...</td>\n      <td>0.466667</td>\n      <td>0.447059</td>\n      <td>0.509804</td>\n      <td>0.298039</td>\n      <td>0.0</td>\n      <td>0.0</td>\n      <td>0.0</td>\n      <td>0.0</td>\n      <td>0.0</td>\n      <td>0.0</td>\n    </tr>\n    <tr>\n      <th>2</th>\n      <td>0.0</td>\n      <td>0.0</td>\n      <td>0.0</td>\n      <td>0.0</td>\n      <td>0.0</td>\n      <td>0.000000</td>\n      <td>0.0</td>\n      <td>0.0</td>\n      <td>0.000000</td>\n      <td>0.086275</td>\n      <td>...</td>\n      <td>0.000000</td>\n      <td>0.000000</td>\n      <td>0.003922</td>\n      <td>0.000000</td>\n      <td>0.0</td>\n      <td>0.0</td>\n      <td>0.0</td>\n      <td>0.0</td>\n      <td>0.0</td>\n      <td>0.0</td>\n    </tr>\n    <tr>\n      <th>3</th>\n      <td>0.0</td>\n      <td>0.0</td>\n      <td>0.0</td>\n      <td>0.0</td>\n      <td>0.0</td>\n      <td>0.000000</td>\n      <td>0.0</td>\n      <td>0.0</td>\n      <td>0.129412</td>\n      <td>0.376471</td>\n      <td>...</td>\n      <td>0.000000</td>\n      <td>0.000000</td>\n      <td>0.000000</td>\n      <td>0.000000</td>\n      <td>0.0</td>\n      <td>0.0</td>\n      <td>0.0</td>\n      <td>0.0</td>\n      <td>0.0</td>\n      <td>0.0</td>\n    </tr>\n    <tr>\n      <th>4</th>\n      <td>0.0</td>\n      <td>0.0</td>\n      <td>0.0</td>\n      <td>0.0</td>\n      <td>0.0</td>\n      <td>0.000000</td>\n      <td>0.0</td>\n      <td>0.0</td>\n      <td>0.000000</td>\n      <td>0.000000</td>\n      <td>...</td>\n      <td>0.000000</td>\n      <td>0.000000</td>\n      <td>0.000000</td>\n      <td>0.000000</td>\n      <td>0.0</td>\n      <td>0.0</td>\n      <td>0.0</td>\n      <td>0.0</td>\n      <td>0.0</td>\n      <td>0.0</td>\n    </tr>\n    <tr>\n      <th>...</th>\n      <td>...</td>\n      <td>...</td>\n      <td>...</td>\n      <td>...</td>\n      <td>...</td>\n      <td>...</td>\n      <td>...</td>\n      <td>...</td>\n      <td>...</td>\n      <td>...</td>\n      <td>...</td>\n      <td>...</td>\n      <td>...</td>\n      <td>...</td>\n      <td>...</td>\n      <td>...</td>\n      <td>...</td>\n      <td>...</td>\n      <td>...</td>\n      <td>...</td>\n      <td>...</td>\n    </tr>\n    <tr>\n      <th>69995</th>\n      <td>0.0</td>\n      <td>0.0</td>\n      <td>0.0</td>\n      <td>0.0</td>\n      <td>0.0</td>\n      <td>0.000000</td>\n      <td>0.0</td>\n      <td>0.0</td>\n      <td>0.000000</td>\n      <td>0.000000</td>\n      <td>...</td>\n      <td>0.000000</td>\n      <td>0.000000</td>\n      <td>0.000000</td>\n      <td>0.000000</td>\n      <td>0.0</td>\n      <td>0.0</td>\n      <td>0.0</td>\n      <td>0.0</td>\n      <td>0.0</td>\n      <td>0.0</td>\n    </tr>\n    <tr>\n      <th>69996</th>\n      <td>0.0</td>\n      <td>0.0</td>\n      <td>0.0</td>\n      <td>0.0</td>\n      <td>0.0</td>\n      <td>0.000000</td>\n      <td>0.0</td>\n      <td>0.0</td>\n      <td>0.000000</td>\n      <td>0.121569</td>\n      <td>...</td>\n      <td>0.000000</td>\n      <td>0.000000</td>\n      <td>0.000000</td>\n      <td>0.000000</td>\n      <td>0.0</td>\n      <td>0.0</td>\n      <td>0.0</td>\n      <td>0.0</td>\n      <td>0.0</td>\n      <td>0.0</td>\n    </tr>\n    <tr>\n      <th>69997</th>\n      <td>0.0</td>\n      <td>0.0</td>\n      <td>0.0</td>\n      <td>0.0</td>\n      <td>0.0</td>\n      <td>0.000000</td>\n      <td>0.0</td>\n      <td>0.0</td>\n      <td>0.000000</td>\n      <td>0.000000</td>\n      <td>...</td>\n      <td>0.105882</td>\n      <td>0.000000</td>\n      <td>0.000000</td>\n      <td>0.000000</td>\n      <td>0.0</td>\n      <td>0.0</td>\n      <td>0.0</td>\n      <td>0.0</td>\n      <td>0.0</td>\n      <td>0.0</td>\n    </tr>\n    <tr>\n      <th>69998</th>\n      <td>0.0</td>\n      <td>0.0</td>\n      <td>0.0</td>\n      <td>0.0</td>\n      <td>0.0</td>\n      <td>0.000000</td>\n      <td>0.0</td>\n      <td>0.0</td>\n      <td>0.000000</td>\n      <td>0.000000</td>\n      <td>...</td>\n      <td>0.000000</td>\n      <td>0.000000</td>\n      <td>0.000000</td>\n      <td>0.000000</td>\n      <td>0.0</td>\n      <td>0.0</td>\n      <td>0.0</td>\n      <td>0.0</td>\n      <td>0.0</td>\n      <td>0.0</td>\n    </tr>\n    <tr>\n      <th>69999</th>\n      <td>0.0</td>\n      <td>0.0</td>\n      <td>0.0</td>\n      <td>0.0</td>\n      <td>0.0</td>\n      <td>0.000000</td>\n      <td>0.0</td>\n      <td>0.0</td>\n      <td>0.000000</td>\n      <td>0.000000</td>\n      <td>...</td>\n      <td>0.000000</td>\n      <td>0.000000</td>\n      <td>0.000000</td>\n      <td>0.000000</td>\n      <td>0.0</td>\n      <td>0.0</td>\n      <td>0.0</td>\n      <td>0.0</td>\n      <td>0.0</td>\n      <td>0.0</td>\n    </tr>\n  </tbody>\n</table>\n<p>70000 rows × 784 columns</p>\n</div>"
     },
     "execution_count": 29,
     "metadata": {},
     "output_type": "execute_result"
    }
   ],
   "source": [
    "# 이미지 데이터 정규화\n",
    "norm_feature = feature/255\n",
    "norm_feature"
   ],
   "metadata": {
    "collapsed": false,
    "ExecuteTime": {
     "end_time": "2024-03-19T05:57:07.467411600Z",
     "start_time": "2024-03-19T05:57:07.386501500Z"
    }
   },
   "id": "d8e882e26a823e47",
   "execution_count": 29
  },
  {
   "cell_type": "code",
   "outputs": [],
   "source": [
    "# 타겟이 서로 관련성이 없으니 One-Hot 인코딩으로 변환\n",
    "# one-hot ver1\n",
    "# import pandas as pd\n",
    "# pd.get_dummies(target)"
   ],
   "metadata": {
    "collapsed": false,
    "ExecuteTime": {
     "end_time": "2024-03-19T05:57:08.325998500Z",
     "start_time": "2024-03-19T05:57:08.317317100Z"
    }
   },
   "id": "c7f5d4f70ba8d01a",
   "execution_count": 30
  },
  {
   "cell_type": "code",
   "outputs": [],
   "source": [
    "# one-hot ver2\n",
    "# from sklearn.preprocessing import OneHotEncoder\n",
    "# \n",
    "# targetDF = target.to_frame()\n",
    "# \n",
    "# # parse_output=False : ndarray 타입으로 반환\n",
    "# ohEncoder = OneHotEncoder(sparse_output=False)\n",
    "# norm_target = ohEncoder.fit_transform(targetDF) # one-hot encoder 안에는 꼭 2차원 \n",
    "# # 라벨 인코딩은 정수로 바꿔줌 \n",
    "# norm_target"
   ],
   "metadata": {
    "collapsed": false,
    "ExecuteTime": {
     "end_time": "2024-03-19T05:57:08.347270200Z",
     "start_time": "2024-03-19T05:57:08.328997500Z"
    }
   },
   "id": "5b8ddd3638ef091b",
   "execution_count": 31
  },
  {
   "cell_type": "code",
   "outputs": [],
   "source": [
    "# one-hot encoding : scatter_\n",
    "idx = torch.IntTensor(target.astype(\"int\")).type(torch.int64).unsqueeze(1)\n",
    "\n",
    "y_one_hot = torch.zeros(target.shape[0],10)\n",
    "y_one_hot = y_one_hot.scatter_(1, idx, 1).type(torch.int64) # 차원, 1.0이 들어갈 자리 인덱스, 채울 숫자"
   ],
   "metadata": {
    "collapsed": false,
    "ExecuteTime": {
     "end_time": "2024-03-19T06:27:05.144150600Z",
     "start_time": "2024-03-19T06:27:05.093485600Z"
    }
   },
   "id": "cad1d70c84f83144",
   "execution_count": 97
  },
  {
   "cell_type": "markdown",
   "source": [
    "## 4. 데이터 셋 준비\n",
    "- 텐서화 시키기\n",
    "- 데이터 셋 준비 : 훈련용 60000, 테스트용 10000\n",
    "- 학습 방법 : 지도 학습 - 이진 분류 (softmax->but cross_entropy가 다 갖고 있음)\n",
    "- 최적화 방법 : 경사하강법 기반의 방법 (Adam, SDG, )\n",
    "- 손실함수 : 이진분류 손실 계산 함수(cross_entropy)"
   ],
   "metadata": {
    "collapsed": false
   },
   "id": "605f27356c080728"
  },
  {
   "cell_type": "code",
   "outputs": [],
   "source": [
    "from torch.utils.data import Dataset, DataLoader, TensorDataset"
   ],
   "metadata": {
    "collapsed": false,
    "ExecuteTime": {
     "end_time": "2024-03-19T06:24:45.631415800Z",
     "start_time": "2024-03-19T06:24:45.614117700Z"
    }
   },
   "id": "6438f8184b13defe",
   "execution_count": 83
  },
  {
   "cell_type": "code",
   "outputs": [],
   "source": [
    "# 사용자 정의 DataSet Class\n",
    "# 데이터의 텐서변환\n",
    "class DLDataset(Dataset): # torch.utils.data.Dataset을 부모로 두는 class 생성\n",
    "    # 초기화 함수\n",
    "    def __init__(self, x_data, y_data):\n",
    "        # print(y_data.dtype)\n",
    "        super().__init__()\n",
    "        \n",
    "        # x 데이터 => ndarray\n",
    "        if isinstance(x_data, torch.Tensor):\n",
    "            pass\n",
    "        else:\n",
    "            x_data = x_data.values if isinstance(x_data, pd.DataFrame) else x_data # 데이터 프레임이라면 valuse로 어레이 뽑아줘야함 \n",
    "            \n",
    "        # y 데이터 => ndarray\n",
    "        if isinstance(y_data, torch.Tensor):\n",
    "            pass\n",
    "        else:\n",
    "            y_data = y_data.values if isinstance(y_data, pd.DataFrame) else y_data \n",
    "        # ndarray에서 tensor로 변환 \n",
    "        \n",
    "        self.feature = torch.FloatTensor(x_data)\n",
    "        self.target = torch.LongTensor(y_data) \n",
    "        # print(\"[target & feature SHAPE]\", self.target.shape, self.target.ndim)\n",
    "    \n",
    "    # 데이터셋의 개수 체크 함수\n",
    "    def __len__(self):\n",
    "        return self.target.shape[0]\n",
    "    \n",
    "    # 특정 인덱스 데이터 + 라벨 반환 callback function \n",
    "    def __getitem__(self, index):\n",
    "        return self.feature[index], self.target[index] # 둘 다 튜플로 출동 "
   ],
   "metadata": {
    "collapsed": false,
    "ExecuteTime": {
     "end_time": "2024-03-19T06:28:23.622406800Z",
     "start_time": "2024-03-19T06:28:23.607811Z"
    }
   },
   "id": "592be0b8549d717f",
   "execution_count": 101
  },
  {
   "cell_type": "code",
   "outputs": [],
   "source": [
    "# featureNP = norm_feature.values"
   ],
   "metadata": {
    "collapsed": false,
    "ExecuteTime": {
     "end_time": "2024-03-19T06:28:25.017272700Z",
     "start_time": "2024-03-19T06:28:24.999588200Z"
    }
   },
   "id": "30c5fa421d8004f4",
   "execution_count": 102
  },
  {
   "cell_type": "code",
   "outputs": [],
   "source": [
    "# targetNP = y_one_hot.numpy()"
   ],
   "metadata": {
    "collapsed": false,
    "ExecuteTime": {
     "end_time": "2024-03-19T06:28:25.172138400Z",
     "start_time": "2024-03-19T06:28:25.163617900Z"
    }
   },
   "id": "d7b599b623bbf51f",
   "execution_count": 103
  },
  {
   "cell_type": "code",
   "outputs": [],
   "source": [
    "my_dataset = DLDataset(norm_feature, y_one_hot) # numpy, numpy"
   ],
   "metadata": {
    "collapsed": false,
    "ExecuteTime": {
     "end_time": "2024-03-19T06:42:19.471992600Z",
     "start_time": "2024-03-19T06:42:19.421082400Z"
    }
   },
   "id": "8ec8cf6d9584e7cc",
   "execution_count": 118
  },
  {
   "cell_type": "markdown",
   "source": [
    "## 5. 데이터 나누기 -> train : validation = 6 : 1\n",
    "- test data는 직접 그린 그림으로 사용"
   ],
   "metadata": {
    "collapsed": false
   },
   "id": "778dc3083436cf25"
  },
  {
   "cell_type": "code",
   "outputs": [
    {
     "name": "stdout",
     "output_type": "stream",
     "text": [
      "trainDS => 60000개\n",
      "validDS => 10000개\n"
     ]
    }
   ],
   "source": [
    "from torch.utils.data import random_split\n",
    "\n",
    "seed = torch.Generator().manual_seed(42)\n",
    "trainDS, validDS = random_split(my_dataset, [60000, 10000], generator=seed) \n",
    "\n",
    "print(f\"trainDS => {len(trainDS)}개\\nvalidDS => {len(validDS)}개\")"
   ],
   "metadata": {
    "collapsed": false,
    "ExecuteTime": {
     "end_time": "2024-03-19T06:43:08.811391800Z",
     "start_time": "2024-03-19T06:43:08.795283400Z"
    }
   },
   "id": "b71ea88e4aabfe7a",
   "execution_count": 120
  },
  {
   "cell_type": "code",
   "outputs": [
    {
     "name": "stdout",
     "output_type": "stream",
     "text": [
      "나눠진 배치 개수\n",
      "trainDL => 1200\n",
      "validDL => 200\n"
     ]
    }
   ],
   "source": [
    "# DataLoader 생성\n",
    "BATCH_SIZE = 50\n",
    "trainDL = DataLoader(trainDS, batch_size=BATCH_SIZE, drop_last=False)\n",
    "validDL = DataLoader(validDS, batch_size=BATCH_SIZE, drop_last=False)\n",
    "\n",
    "print(f\"나눠진 배치 개수\\ntrainDL => {len(trainDL)}\\nvalidDL => {len(validDL)}\") # -> 배치가 50이라서 남는 데이터는 없음 "
   ],
   "metadata": {
    "collapsed": false,
    "ExecuteTime": {
     "end_time": "2024-03-19T06:46:53.055241300Z",
     "start_time": "2024-03-19T06:46:53.040386100Z"
    }
   },
   "id": "dd7fa022fd067c14",
   "execution_count": 122
  },
  {
   "cell_type": "markdown",
   "source": [
    "## 6. 학습\n",
    "- 조기 종료 조건 넣기\n",
    "- 코드 좀 더 유연하게 수정하기\n",
    "- 배치 정규화 -> 각 레이어마다\n",
    "- 가중치 초기화 -> He"
   ],
   "metadata": {
    "collapsed": false
   },
   "id": "c001ccab9083d9c4"
  },
  {
   "cell_type": "markdown",
   "source": [
    "### 6-1 모델 생성"
   ],
   "metadata": {
    "collapsed": false
   },
   "id": "fbf9409f330af4de"
  },
  {
   "cell_type": "code",
   "outputs": [],
   "source": [
    "temp_feature, temp_label = next(iter(trainDL))"
   ],
   "metadata": {
    "collapsed": false,
    "ExecuteTime": {
     "end_time": "2024-03-19T06:57:47.740420600Z",
     "start_time": "2024-03-19T06:57:47.709584800Z"
    }
   },
   "id": "75dc2d7a28ab824f",
   "execution_count": 129
  },
  {
   "cell_type": "code",
   "outputs": [
    {
     "data": {
      "text/plain": "(784, 10)"
     },
     "execution_count": 132,
     "metadata": {},
     "output_type": "execute_result"
    }
   ],
   "source": [
    "temp_feature.shape[1], temp_label.shape[1] # 각각의 1번 요소를 뽑으면 IN_DIM, OUT_DIM"
   ],
   "metadata": {
    "collapsed": false,
    "ExecuteTime": {
     "end_time": "2024-03-19T07:00:06.892115600Z",
     "start_time": "2024-03-19T07:00:06.849841200Z"
    }
   },
   "id": "fb91b1d91a01ffde",
   "execution_count": 132
  },
  {
   "cell_type": "code",
   "outputs": [],
   "source": [
    "# MyModel 클래스 생성 : 내 미션은 퍼셉트론 수 영향 알아보기 \n",
    "class MyModel(nn.Module):\n",
    "    \n",
    "    # 모델 구성 요소 초기화 \n",
    "    def __init__(self, in_dim, out_dim, layer_num):\n",
    "        super().__init__()\n",
    "        self.layer_num = layer_num\n",
    "        self.in_dim = in_dim\n",
    "        self.out_dim = out_dim\n",
    "        \n",
    "        self.layers = nn.ModuleList()  # ModuleList에 layer 담기\n",
    "        \n",
    "        # 은닉층과 활성화 함수 추가\n",
    "        for i in range(self.layer_num):\n",
    "            self.layers.append(nn.Linear(in_dim, out_dim))  # 선형 레이어 추가\n",
    "            self.layers.append(nn.ReLU())  # ReLU 활성화 함수 추가\n",
    "            in_dim = out_dim  # 다음 레이어의 입력 차원을 현재 출력 차원으로 설정\n",
    "            \n",
    "        # 출력층 추가\n",
    "        self.layers.append(nn.Linear(out_dim, out_dim))\n",
    "        \n",
    "    def forward(self, x):\n",
    "        # 각 레이어를 차례로 통과시킴\n",
    "        for layer in self.layers:\n",
    "            x = layer(x)\n",
    "        return x"
   ],
   "metadata": {
    "collapsed": false,
    "ExecuteTime": {
     "end_time": "2024-03-19T07:05:40.394155300Z",
     "start_time": "2024-03-19T07:05:40.384627100Z"
    }
   },
   "id": "d5feee45f3b40431",
   "execution_count": 135
  },
  {
   "cell_type": "markdown",
   "source": [
    "### 6-2. 학습 함수, 예측 함수 생성, 실행디바이스, 모델, 최적화, 손실함수, 학습 횟수"
   ],
   "metadata": {
    "collapsed": false
   },
   "id": "a98a499769ff4e11"
  },
  {
   "cell_type": "code",
   "outputs": [],
   "source": [
    "# 실행 디바이스 설정\n",
    "DEVICE = \"cuda\" if torch.cuda.is_available() else \"cpu\" # GPU있으면 쓰고 없으면 cpu로"
   ],
   "metadata": {
    "collapsed": false,
    "ExecuteTime": {
     "end_time": "2024-03-19T07:21:44.812615500Z",
     "start_time": "2024-03-19T07:21:44.787637600Z"
    }
   },
   "id": "a0fea903041f0df8",
   "execution_count": 139
  },
  {
   "cell_type": "code",
   "outputs": [],
   "source": [
    "# 모델 인스턴스 생성\n",
    "IN_DIM = temp_feature.shape[1] # 입력 피쳐 수\n",
    "OUT_DIM = temp_label.shape[1] # 출력 피쳐 수\n",
    "HIDDEN_NUM = 0 # 히든 레이어 개수 나는 0개!! 퍼셉트론 수 조절 하기  \n",
    "\n",
    "model = MyModel(IN_DIM, OUT_DIM, HIDDEN_NUM+2).to(DEVICE)"
   ],
   "metadata": {
    "collapsed": false,
    "ExecuteTime": {
     "end_time": "2024-03-19T07:21:44.985269700Z",
     "start_time": "2024-03-19T07:21:44.974669500Z"
    }
   },
   "id": "193f4984da8b9f47",
   "execution_count": 140
  },
  {
   "cell_type": "code",
   "outputs": [],
   "source": [
    "perceptron_nums = np.linspace(IN_DIM, OUT_DIM, HIDDEN_NUM+2, dtype=int)"
   ],
   "metadata": {
    "collapsed": false,
    "ExecuteTime": {
     "end_time": "2024-03-19T07:21:45.154639600Z",
     "start_time": "2024-03-19T07:21:45.145072500Z"
    }
   },
   "id": "d5a162a8d8bba4a",
   "execution_count": 141
  },
  {
   "cell_type": "code",
   "outputs": [],
   "source": [
    "# 손실함수 인스턴스 생성\n",
    "LOSS_FN = nn.CrossEntropyLoss().to(DEVICE) # 다중분류니까\n",
    "\n",
    "# 최적화 인스턴스 생성\n",
    "OPTIMIZER = optim.Adam(model.parameters()) # lr = default 사용\n",
    "\n",
    "# 반복 횟수\n",
    "EPOCHS = 30"
   ],
   "metadata": {
    "collapsed": false,
    "ExecuteTime": {
     "end_time": "2024-03-19T07:21:45.327215900Z",
     "start_time": "2024-03-19T07:21:45.300876900Z"
    }
   },
   "id": "fd7b60980e158f96",
   "execution_count": 142
  },
  {
   "cell_type": "code",
   "outputs": [],
   "source": [
    "import torchmetrics.functional as metrics"
   ],
   "metadata": {
    "collapsed": false,
    "ExecuteTime": {
     "end_time": "2024-03-19T07:21:45.519295Z",
     "start_time": "2024-03-19T07:21:45.488607500Z"
    }
   },
   "id": "19b40a097afb8ec9",
   "execution_count": 143
  },
  {
   "cell_type": "code",
   "outputs": [],
   "source": [
    "# 그래프 전용 함수 \n",
    "def plt_graph(loss_accuracy):\n",
    "    fig, ax1 = plt.subplots()\n",
    "    ax1.plot(loss_accuracy[0], label='loss', color=\"g\")\n",
    "    \n",
    "    ax2 = ax1.twinx()\n",
    "    ax2.plot(loss_accuracy[1],label='accuracy', color='r')\n",
    "    # plt.plot(loss_accuracy[0], label='loss')\n",
    "    # plt.plot(loss_accuracy[1], label='accuracy')\n",
    "    \n",
    "    ax1.legend(loc='upper left')\n",
    "    ax2.legend(loc='upper right')\n",
    "    \n",
    "    plt.xlabel(\"Epochs\")\n",
    "    plt.show()"
   ],
   "metadata": {
    "collapsed": false,
    "ExecuteTime": {
     "end_time": "2024-03-19T07:21:45.781281500Z",
     "start_time": "2024-03-19T07:21:45.772547500Z"
    }
   },
   "id": "e42247a704f1a9ab",
   "execution_count": 144
  },
  {
   "cell_type": "code",
   "outputs": [],
   "source": [
    "# 학습 진행 함수\n",
    "def training():\n",
    "    # 학습 모드 전환 함수 : dropout이나 batch normalization과 같은 레이어들이 학습할 때의 동작 모드\n",
    "    model.train()\n",
    "    \n",
    "    # 배치크기 만큼 학습 진행 및 저장 \n",
    "    train_loss = []\n",
    "    train_acc = []\n",
    "    \n",
    "    for cnt, (feature, target) in enumerate(trainDL):\n",
    "\n",
    "        # 배치크기만큼의 학습 데이터 준비 \n",
    "        feature, target = feature.to(DEVICE), target.to(DEVICE)\n",
    "        target = target.squeeze().type(torch.float32)\n",
    "\n",
    "        # 학습 \n",
    "        pre_target = model(feature)\n",
    "        # print(f\"pre_target => {pre_target.shape}, {pre_target.ndim}D\")\n",
    "        # print(f\"target => {target.shape}, {target.ndim}D\")\n",
    "        \n",
    "        # 손실계산\n",
    "        loss = LOSS_FN(pre_target, target)\n",
    "        train_loss.append(loss.item())\n",
    "        \n",
    "        # W, b 업데이트\n",
    "        OPTIMIZER.zero_grad() # 초기화\n",
    "        loss.backward() \n",
    "        OPTIMIZER.step()\n",
    "        \n",
    "        acc = (pre_target.max(dim=1).indices == target.max(dim=1).indices).sum() / len(pre_target)\n",
    "        # print(f\"acc => {acc}\")\n",
    "        train_acc.append(acc)\n",
    "        # 배치 단위 학습 진행 메시지 출력 \n",
    "        # print(f\"[train batch loss] => {loss}\")\n",
    "        \n",
    "    # 학습 진행 메시지 출력\n",
    "    # print(f\"[Train loss] ==> {loss}, [acc] ==> {acc}\")\n",
    "    \n",
    "    return np.mean(train_loss), np.mean(train_acc)"
   ],
   "metadata": {
    "collapsed": false,
    "ExecuteTime": {
     "end_time": "2024-03-19T07:21:46.226857600Z",
     "start_time": "2024-03-19T07:21:46.206080Z"
    }
   },
   "id": "6f7457cdfb4f1699",
   "execution_count": 145
  },
  {
   "cell_type": "code",
   "outputs": [],
   "source": [
    "# 검증 및 평가 진행 함수\n",
    "# 매개변수 dataLoader : 검증 또는 테스트 데이터 셋에 대한 Loader \n",
    "def testing():\n",
    "    # 추론 모드 : 레이어 비활성화, 순전파만!! 수행\n",
    "    model.eval()\n",
    "    \n",
    "    with torch.no_grad():\n",
    "        # 배치크기 만큼 학습 진행 및 저장 \n",
    "        val_loss = []\n",
    "        val_acc = []\n",
    "        for cnt, (feature, target) in enumerate(validDL):\n",
    "            # print(cnt, feature, target)\n",
    "            # 배치크기만큼의 학습 데이터 준비 \n",
    "            feature, target = feature.to(DEVICE), target.to(DEVICE)\n",
    "            target = target.squeeze().type(torch.float32)\n",
    "        \n",
    "            # 학습 \n",
    "            pre_target = model(feature)\n",
    "            # print(f\"pre_target => {pre_target.shape}, {pre_target.ndim}D\")\n",
    "            # print(f\"target => {target.shape}, {target.ndim}D\")\n",
    "            \n",
    "            # 손실계산\n",
    "            loss = LOSS_FN(pre_target, target)\n",
    "            val_loss.append(loss.item())\n",
    "            \n",
    "            acc = (pre_target.max(dim=1).indices == target.max(dim=1).indices).sum() / len(pre_target)\n",
    "            val_acc.append(acc)\n",
    "            \n",
    "    \n",
    "    # 학습 진행 메시지 출력\n",
    "    \n",
    "    # print(f\"acc => {acc}\") \n",
    "    # print(f\"[Valid loss] ==> {loss}, [acc] ==> {acc}\")\n",
    "    \n",
    "    return np.mean(val_loss), np.mean(val_acc)"
   ],
   "metadata": {
    "collapsed": false,
    "ExecuteTime": {
     "end_time": "2024-03-19T07:21:46.391847Z",
     "start_time": "2024-03-19T07:21:46.372700100Z"
    }
   },
   "id": "2b9281e1a269be00",
   "execution_count": 146
  },
  {
   "cell_type": "code",
   "outputs": [
    {
     "name": "stdout",
     "output_type": "stream",
     "text": [
      "0\n",
      "1\n",
      "2\n",
      "3\n",
      "4\n",
      "5\n",
      "6\n",
      "7\n",
      "8\n",
      "9\n",
      "10\n",
      "11\n",
      "12\n",
      "13\n",
      "14\n",
      "15\n",
      "16\n",
      "17\n",
      "18\n",
      "19\n",
      "20\n",
      "21\n",
      "22\n",
      "23\n",
      "24\n",
      "25\n",
      "26\n",
      "27\n",
      "28\n",
      "29\n"
     ]
    },
    {
     "data": {
      "text/plain": "<Figure size 640x480 with 2 Axes>",
      "image/png": "[encoded data removed]"
     },
     "metadata": {},
     "output_type": "display_data"
    },
    {
     "data": {
      "text/plain": "<Figure size 640x480 with 2 Axes>",
      "image/png": "[encoded data removed]"
     },
     "metadata": {},
     "output_type": "display_data"
    }
   ],
   "source": [
    "# 지정된 횟수 만큼 처음부터 ~ 끝까지 학습 및 검증 진행 \n",
    "# 목표 : 최적(Error 최소화)의 W, b를 가진 모델 완성 \n",
    "\n",
    "# from torch.optim.lr_scheduler import ReduceLROnPlateau\n",
    "best_valid_loss = float('inf')\n",
    "patience = 8\n",
    "imporve_cnt = 0\n",
    "\n",
    "train_loss_acc = [[],[]]\n",
    "val_loss_acc = [[],[]]\n",
    "\n",
    "for eps in range(EPOCHS):\n",
    "    train_loss, train_acc = training() # 학습\n",
    "    train_loss_acc[0].append(train_loss)\n",
    "    train_loss_acc[1].append(train_acc)\n",
    "    \n",
    "    valid_loss, val_acc = testing() # 검증 \n",
    "    val_loss_acc[0].append(valid_loss)\n",
    "    val_loss_acc[1].append(val_acc)\n",
    "    \n",
    "    # print(f\"[{eps}/{EPOCHS}] \\nTRAIN {sum(train_loss)/len(train_loss)} \\nVALID : {sum(valid_loss)/len(valid_loss)}\\n\\n\")\n",
    "    print(eps)\n",
    "    \n",
    "    if valid_loss < best_valid_loss:\n",
    "        best_valid_loss = valid_loss\n",
    "        imporve_cnt = 0\n",
    "    else:\n",
    "        imporve_cnt += 1\n",
    "        if imporve_cnt > patience:\n",
    "            print(f\"Early stopping at epoch {eps}\")\n",
    "            break\n",
    "    \n",
    "            \n",
    "plt_graph(train_loss_acc)\n",
    "plt_graph(val_loss_acc)"
   ],
   "metadata": {
    "collapsed": false,
    "ExecuteTime": {
     "end_time": "2024-03-19T07:23:22.511088Z",
     "start_time": "2024-03-19T07:21:46.746452600Z"
    }
   },
   "id": "d894ca6ccb37b241",
   "execution_count": 147
  },
  {
   "cell_type": "markdown",
   "source": [
    "# predict 진행"
   ],
   "metadata": {
    "collapsed": false
   },
   "id": "2df89118b51e8d78"
  },
  {
   "cell_type": "code",
   "outputs": [],
   "source": [
    "def prediction():\n",
    "    # prediction에는 loss 필요없다\n",
    "    # 추론 모드 => 정규화, 경사하강법, 드랍아웃 등의 기능 비활성화\n",
    "    model.eval()\n",
    "    \n",
    "    with torch.no_grad():\n",
    "        # 배치크기 만큼 학습 진행 및 저장 \n",
    "        pred_acc = []\n",
    "        for cnt, (feature, target) in enumerate(testDL):\n",
    "            \n",
    "            feature, target = feature.to(DEVICE), target.to(DEVICE)\n",
    "            target = target.squeeze().type(torch.float32)\n",
    "        \n",
    "            # 학습 \n",
    "            pre_target = model(feature)\n",
    "            # print(f\"pre_target => {pre_target.shape}, {pre_target.ndim}D\")\n",
    "            # print(f\"target => {target.shape}, {target.ndim}D\")\n",
    "            \n",
    "            \n",
    "            acc = (pre_target.max(dim=1).indices == target.max(dim=1).indices).sum() / len(pre_target)\n",
    "            pred_acc.append(acc)\n",
    "            \n",
    "    return np.mean(pred_acc)"
   ],
   "metadata": {
    "collapsed": false,
    "ExecuteTime": {
     "end_time": "2024-03-19T07:23:22.551061800Z",
     "start_time": "2024-03-19T07:23:22.506838200Z"
    }
   },
   "id": "4c587c150fa58e63",
   "execution_count": 148
  },
  {
   "cell_type": "code",
   "outputs": [
    {
     "name": "stdout",
     "output_type": "stream",
     "text": [
      "predict loss => 0.3953, predict accuracy => 0.8619\n"
     ]
    }
   ],
   "source": [
    "p_loss, p_acc = prediction()\n",
    "print(f\"predict loss => {p_loss:.4f}, predict accuracy => {p_acc:.4f}\")"
   ],
   "metadata": {
    "collapsed": false,
    "ExecuteTime": {
     "end_time": "2024-03-19T07:23:23.834366100Z",
     "start_time": "2024-03-19T07:23:22.518075300Z"
    }
   },
   "id": "7921dee4ac7468ba",
   "execution_count": 149
  },
  {
   "cell_type": "code",
   "outputs": [],
   "source": [],
   "metadata": {
    "collapsed": false
   },
   "id": "b34c1408ceec51bd"
  }
 ],
 "metadata": {
  "kernelspec": {
   "display_name": "Python 3",
   "language": "python",
   "name": "python3"
  },
  "language_info": {
   "codemirror_mode": {
    "name": "ipython",
    "version": 2
   },
   "file_extension": ".py",
   "mimetype": "text/x-python",
   "name": "python",
   "nbconvert_exporter": "python",
   "pygments_lexer": "ipython2",
   "version": "2.7.6"
  }
 },
 "nbformat": 4,
 "nbformat_minor": 5
}
