{
 "cells": [
  {
   "cell_type": "markdown",
   "source": [
    "# token화\n",
    "- 문장을 의미있는 최소 단위로 나누는 것\n",
    "- 최소 단위 => 단어, 글자, 문장"
   ],
   "metadata": {
    "collapsed": false
   },
   "id": "56354719838c3de2"
  },
  {
   "cell_type": "markdown",
   "source": [
    "# 1. 자모 단위 토큰화 : 자음과 모음으로 토큰화\n",
    "- 추가 라이브러리 설치 : pip install jamo"
   ],
   "metadata": {
    "collapsed": false
   },
   "id": "39dc5140ce408987"
  },
  {
   "cell_type": "code",
   "outputs": [
    {
     "data": {
      "text/plain": "'좋은 날'"
     },
     "execution_count": 7,
     "metadata": {},
     "output_type": "execute_result"
    }
   ],
   "source": [
    "import jamo # 모듈 로딩\n",
    "\n",
    "# 완성형 단어를 조합형으로 변환\n",
    "msg=\"좋은 날\"\n",
    "result1 = jamo.h2j(msg) \n",
    "result1"
   ],
   "metadata": {
    "collapsed": false,
    "ExecuteTime": {
     "end_time": "2024-03-28T06:03:04.839769300Z",
     "start_time": "2024-03-28T06:03:04.817733300Z"
    }
   },
   "id": "e20358f2772a575e",
   "execution_count": 7
  },
  {
   "cell_type": "code",
   "outputs": [
    {
     "data": {
      "text/plain": "'ㅈㅗㅎㅇㅡㄴ ㄴㅏㄹ'"
     },
     "execution_count": 8,
     "metadata": {},
     "output_type": "execute_result"
    }
   ],
   "source": [
    "# 조합형을 자모 형태로 변환 -> OOV를 줄일 수 있음... 이게 뭔 의미가 있나...\n",
    "result2 = jamo.j2hcj(result1) # 왠지 모르겠지만 msg 직접 넣으면  효과 X \n",
    "result2"
   ],
   "metadata": {
    "collapsed": false,
    "ExecuteTime": {
     "end_time": "2024-03-28T06:03:05.485659Z",
     "start_time": "2024-03-28T06:03:05.468772400Z"
    }
   },
   "id": "ebfa9f8e02d5d7c5",
   "execution_count": 8
  },
  {
   "cell_type": "code",
   "outputs": [
    {
     "data": {
      "text/plain": "'2.2.0'"
     },
     "execution_count": 10,
     "metadata": {},
     "output_type": "execute_result"
    }
   ],
   "source": [
    "import torch\n",
    "\n",
    "torch.__version__"
   ],
   "metadata": {
    "collapsed": false,
    "ExecuteTime": {
     "end_time": "2024-03-28T06:25:04.508485500Z",
     "start_time": "2024-03-28T06:25:02.830037Z"
    }
   },
   "id": "84e5e66ef710d1bb",
   "execution_count": 10
  },
  {
   "cell_type": "markdown",
   "source": [
    "# 2. 다양한 한국어 형태소 분석기"
   ],
   "metadata": {
    "collapsed": false
   },
   "id": "de33dc277182c92"
  },
  {
   "cell_type": "code",
   "outputs": [],
   "source": [
    "import konlpy # 메캅은 이제 윈도우 지원 안함"
   ],
   "metadata": {
    "collapsed": false,
    "ExecuteTime": {
     "end_time": "2024-03-28T06:43:51.716052300Z",
     "start_time": "2024-03-28T06:43:51.701311300Z"
    }
   },
   "id": "d1a43e1f34896533",
   "execution_count": 11
  },
  {
   "cell_type": "code",
   "outputs": [],
   "source": [
    "# KoNlpy의 Okt 형태소 분석기\n",
    "from konlpy.tag import Okt  \n",
    "\n",
    "# 인스턴스 생성\n",
    "okt = Okt()\n",
    "\n",
    "# 분석 문장\n",
    "msg = \"하... 제발 첫사랑 이야기 좀 해주세요... 그리고 저녁 메뉴도 추천해주세요. 오늘 저녁에 실증랩에서 PC 성능 테스트를 진행할 예정입니다.\"\n",
    "\n",
    "# 명사, 형태소, 문장, 품사 분석\n",
    "print(f\"[명사] => {okt.nouns(msg)}\", end=\"\\n\\n\")\n",
    "print(f\"[형태소] => {okt.morphs(msg)}\", end=\"\\n\\n\")\n",
    "print(f\"[구문] => {okt.phrases(msg)}\", end=\"\\n\\n\")\n",
    "print(f\"[품사] => {okt.pos(msg)}\", end=\"\\n\\n\")"
   ],
   "metadata": {
    "collapsed": false,
    "ExecuteTime": {
     "end_time": "2024-03-28T06:49:48.303138800Z",
     "start_time": "2024-03-28T06:49:48.259783300Z"
    }
   },
   "id": "807783c2d040fb86",
   "execution_count": 15
  },
  {
   "cell_type": "code",
   "outputs": [
    {
     "name": "stdout",
     "output_type": "stream",
     "text": [
      "[명사] => ['하', '첫사랑', '이야기', '주세', '저녁', '메뉴', '추천', '오늘', '실증', '실증랩', '랩', '성능', '테스트', '진행', '예정']\n",
      "\n",
      "[형태소] => ['하', '...', '제발', '첫사랑', '이야기', '좀', '하', '어', '주세', '요', '...', '그리고', '저녁', '메뉴', '도', '추천', '하', '어', '주', '세요', '.', '오늘', '저녁', '에', '실증', '랩', '에서', 'PC', '성능', '테스트', '를', '진행', '하', 'ㄹ', '예정', '이', 'ㅂ니다', '.']\n",
      "\n",
      "[품사] => [('하', 'NNB'), ('...', 'SE'), ('제발', 'MAG'), ('첫사랑', 'NNG'), ('이야기', 'NNG'), ('좀', 'MAG'), ('하', 'VV'), ('어', 'ECS'), ('주세', 'NNG'), ('요', 'JX'), ('...', 'SE'), ('그리고', 'MAC'), ('저녁', 'NNG'), ('메뉴', 'NNG'), ('도', 'JX'), ('추천', 'NNG'), ('하', 'XSV'), ('어', 'ECS'), ('주', 'VXV'), ('세요', 'EFN'), ('.', 'SF'), ('오늘', 'NNG'), ('저녁', 'NNG'), ('에', 'JKM'), ('실증', 'NNG'), ('랩', 'NNG'), ('에서', 'JKM'), ('PC', 'OL'), ('성능', 'NNG'), ('테스트', 'NNG'), ('를', 'JKO'), ('진행', 'NNG'), ('하', 'XSV'), ('ㄹ', 'ETD'), ('예정', 'NNG'), ('이', 'VCP'), ('ㅂ니다', 'EFN'), ('.', 'SF')]\n"
     ]
    }
   ],
   "source": [
    "from konlpy.tag import Kkma\n",
    "\n",
    "# 인스턴스 생성\n",
    "okt = Kkma()\n",
    "\n",
    "# 분석 문장\n",
    "msg = \"하... 제발 첫사랑 이야기 좀 해주세요... 그리고 저녁 메뉴도 추천해주세요. 오늘 저녁에 실증랩에서 PC 성능 테스트를 진행할 예정입니다.\"\n",
    "\n",
    "# 명사, 형태소, 문장, 품사 분석\n",
    "print(f\"[명사] => {okt.nouns(msg)}\", end=\"\\n\\n\")\n",
    "print(f\"[형태소] => {okt.morphs(msg)}\", end=\"\\n\\n\")\n",
    "# print(f\"[구문] => {okt.phrases(msg)}\", end=\"\\n\\n\")\n",
    "print(f\"[품사] => {okt.pos(msg)}\", end=\"\\n\\n\")"
   ],
   "metadata": {
    "collapsed": false,
    "ExecuteTime": {
     "end_time": "2024-03-28T06:53:19.843705900Z",
     "start_time": "2024-03-28T06:53:19.736213Z"
    }
   },
   "id": "1c5ea8d40c2b2404",
   "execution_count": 23
  },
  {
   "cell_type": "code",
   "outputs": [
    {
     "name": "stdout",
     "output_type": "stream",
     "text": [
      "[명사] => ['하', '첫사랑', '이야기', '주세', '저녁', '메뉴', '추천', '오늘', '실증', '실증랩', '랩', '성능', '테스트', '진행', '예정']\n",
      "\n",
      "[형태소] => ['하', '...', '제발', '첫사랑', '이야기', '좀', '하', '어', '주세', '요', '...', '그리고', '저녁', '메뉴', '도', '추천', '하', '어', '주', '세요', '.', '오늘', '저녁', '에', '실증', '랩', '에서', 'PC', '성능', '테스트', '를', '진행', '하', 'ㄹ', '예정', '이', 'ㅂ니다', '.']\n",
      "\n",
      "[품사] => [('하', 'NNB'), ('...', 'SE'), ('제발', 'MAG'), ('첫사랑', 'NNG'), ('이야기', 'NNG'), ('좀', 'MAG'), ('하', 'VV'), ('어', 'ECS'), ('주세', 'NNG'), ('요', 'JX'), ('...', 'SE'), ('그리고', 'MAC'), ('저녁', 'NNG'), ('메뉴', 'NNG'), ('도', 'JX'), ('추천', 'NNG'), ('하', 'XSV'), ('어', 'ECS'), ('주', 'VXV'), ('세요', 'EFN'), ('.', 'SF'), ('오늘', 'NNG'), ('저녁', 'NNG'), ('에', 'JKM'), ('실증', 'NNG'), ('랩', 'NNG'), ('에서', 'JKM'), ('PC', 'OL'), ('성능', 'NNG'), ('테스트', 'NNG'), ('를', 'JKO'), ('진행', 'NNG'), ('하', 'XSV'), ('ㄹ', 'ETD'), ('예정', 'NNG'), ('이', 'VCP'), ('ㅂ니다', 'EFN'), ('.', 'SF')]\n"
     ]
    }
   ],
   "source": [
    "from konlpy.tag import Hannanum\n",
    "\n",
    "# 인스턴스 생성\n",
    "okt = Kkma()\n",
    "\n",
    "# 분석 문장\n",
    "msg = \"하... 제발 첫사랑 이야기 좀 해주세요... 그리고 저녁 메뉴도 추천해주세요. 오늘 저녁에 실증랩에서 PC 성능 테스트를 진행할 예정입니다.\"\n",
    "\n",
    "# 명사, 형태소, 문장, 품사 분석\n",
    "print(f\"[명사] => {okt.nouns(msg)}\", end=\"\\n\\n\")\n",
    "print(f\"[형태소] => {okt.morphs(msg)}\", end=\"\\n\\n\")\n",
    "# print(f\"[구문] => {okt.phrases(msg)}\", end=\"\\n\\n\")\n",
    "print(f\"[품사] => {okt.pos(msg)}\", end=\"\\n\\n\")"
   ],
   "metadata": {
    "collapsed": false,
    "ExecuteTime": {
     "end_time": "2024-03-28T06:55:00.095976400Z",
     "start_time": "2024-03-28T06:54:59.793397500Z"
    }
   },
   "id": "4e5a5e0b2de0be8c",
   "execution_count": 24
  },
  {
   "cell_type": "code",
   "outputs": [
    {
     "name": "stdout",
     "output_type": "stream",
     "text": [
      "[명사] => ['하', '첫사랑', '이야기', '주세', '저녁', '메뉴', '추천', '오늘', '실증', '실증랩', '랩', '성능', '테스트', '진행', '예정']\n",
      "\n",
      "[형태소] => ['하', '...', '제발', '첫사랑', '이야기', '좀', '하', '어', '주세', '요', '...', '그리고', '저녁', '메뉴', '도', '추천', '하', '어', '주', '세요', '.', '오늘', '저녁', '에', '실증', '랩', '에서', 'PC', '성능', '테스트', '를', '진행', '하', 'ㄹ', '예정', '이', 'ㅂ니다', '.']\n",
      "\n",
      "[품사] => [('하', 'NNB'), ('...', 'SE'), ('제발', 'MAG'), ('첫사랑', 'NNG'), ('이야기', 'NNG'), ('좀', 'MAG'), ('하', 'VV'), ('어', 'ECS'), ('주세', 'NNG'), ('요', 'JX'), ('...', 'SE'), ('그리고', 'MAC'), ('저녁', 'NNG'), ('메뉴', 'NNG'), ('도', 'JX'), ('추천', 'NNG'), ('하', 'XSV'), ('어', 'ECS'), ('주', 'VXV'), ('세요', 'EFN'), ('.', 'SF'), ('오늘', 'NNG'), ('저녁', 'NNG'), ('에', 'JKM'), ('실증', 'NNG'), ('랩', 'NNG'), ('에서', 'JKM'), ('PC', 'OL'), ('성능', 'NNG'), ('테스트', 'NNG'), ('를', 'JKO'), ('진행', 'NNG'), ('하', 'XSV'), ('ㄹ', 'ETD'), ('예정', 'NNG'), ('이', 'VCP'), ('ㅂ니다', 'EFN'), ('.', 'SF')]\n"
     ]
    }
   ],
   "source": [
    "from konlpy.tag import Komoran\n",
    "\n",
    "# 인스턴스 생성\n",
    "okt = Kkma()\n",
    "\n",
    "# 분석 문장\n",
    "msg = \"하... 제발 첫사랑 이야기 좀 해주세요... 그리고 저녁 메뉴도 추천해주세요. 오늘 저녁에 실증랩에서 PC 성능 테스트를 진행할 예정입니다.\"\n",
    "\n",
    "# 명사, 형태소, 문장, 품사 분석\n",
    "print(f\"[명사] => {okt.nouns(msg)}\", end=\"\\n\\n\")\n",
    "print(f\"[형태소] => {okt.morphs(msg)}\", end=\"\\n\\n\")\n",
    "# print(f\"[구문] => {okt.phrases(msg)}\", end=\"\\n\\n\")\n",
    "print(f\"[품사] => {okt.pos(msg)}\", end=\"\\n\\n\")"
   ],
   "metadata": {
    "collapsed": false,
    "ExecuteTime": {
     "end_time": "2024-03-28T06:56:20.734299900Z",
     "start_time": "2024-03-28T06:56:20.680162400Z"
    }
   },
   "id": "b67924ad4e7a3ec1",
   "execution_count": 27
  },
  {
   "cell_type": "markdown",
   "source": [
    "# NLTK\n",
    "- 한글 미지원!"
   ],
   "metadata": {
    "collapsed": false
   },
   "id": "7fcca4b280f884e1"
  },
  {
   "cell_type": "code",
   "outputs": [
    {
     "name": "stdout",
     "output_type": "stream",
     "text": [
      "[단어 단위] ['Happy', 'New', 'Year', '!', 'Merry', 'Christmas']\n",
      "[문장 단위] ['Happy New Year!', 'Merry Christmas']\n"
     ]
    }
   ],
   "source": [
    "# 형태소 분석\n",
    "from nltk import tokenize, RegexpTokenizer\n",
    "\n",
    "msg = \"Happy New Year! Merry Christmas\"\n",
    "\n",
    "# 단어 단위 형태소\n",
    "result1 = tokenize.word_tokenize(msg)\n",
    "\n",
    "# 문장 단위 형태소\n",
    "result2 = tokenize.sent_tokenize(msg)\n",
    "\n",
    "print(f\"[단어 단위] {result1}\")\n",
    "print(f\"[문장 단위] {result2}\")"
   ],
   "metadata": {
    "collapsed": false,
    "ExecuteTime": {
     "end_time": "2024-03-28T07:06:43.191701500Z",
     "start_time": "2024-03-28T07:06:43.161294900Z"
    }
   },
   "id": "bc12851ba935e6e3",
   "execution_count": 29
  },
  {
   "cell_type": "code",
   "outputs": [
    {
     "data": {
      "text/plain": "['Happy', 'New', 'Year', '!', 'Merry', 'Christmas']"
     },
     "execution_count": 31,
     "metadata": {},
     "output_type": "execute_result"
    }
   ],
   "source": [
    "punctokenize = tokenize.WordPunctTokenizer() # 대문자는 클래스 -> 인스턴스를 생성해야 사용할 수 있음 \n",
    "\n",
    "punctokenize.tokenize(msg)"
   ],
   "metadata": {
    "collapsed": false,
    "ExecuteTime": {
     "end_time": "2024-03-28T07:08:50.358759600Z",
     "start_time": "2024-03-28T07:08:50.311965900Z"
    }
   },
   "id": "31a8803d4c4fad33",
   "execution_count": 31
  },
  {
   "cell_type": "code",
   "outputs": [
    {
     "data": {
      "text/plain": "'!\"#$%&\\'()*+,-./:;<=>?@[\\\\]^_`{|}~'"
     },
     "execution_count": 33,
     "metadata": {},
     "output_type": "execute_result"
    }
   ],
   "source": [
    "# 파이썬에 string module도 있음\n",
    "import string\n",
    "\n",
    "string.punctuation # 파이썬 모듈에서 제공하는 구두점 "
   ],
   "metadata": {
    "collapsed": false,
    "ExecuteTime": {
     "end_time": "2024-03-28T07:10:07.789946Z",
     "start_time": "2024-03-28T07:10:07.763835500Z"
    }
   },
   "id": "f151c55c3fa1000c",
   "execution_count": 33
  },
  {
   "cell_type": "code",
   "outputs": [],
   "source": [
    "# 내가 제거하고 싶은 게 더 있다면 +연산자로 넣으면 됨 "
   ],
   "metadata": {
    "collapsed": false
   },
   "id": "861cde58033206d2"
  }
 ],
 "metadata": {
  "kernelspec": {
   "display_name": "Python 3",
   "language": "python",
   "name": "python3"
  },
  "language_info": {
   "codemirror_mode": {
    "name": "ipython",
    "version": 2
   },
   "file_extension": ".py",
   "mimetype": "text/x-python",
   "name": "python",
   "nbconvert_exporter": "python",
   "pygments_lexer": "ipython2",
   "version": "2.7.6"
  }
 },
 "nbformat": 4,
 "nbformat_minor": 5
}
