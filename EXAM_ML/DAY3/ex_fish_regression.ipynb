{
 "cells": [
  {
   "cell_type": "markdown",
   "id": "964e6e76-b4c5-4808-bbfa-7f61ad3fbc9a",
   "metadata": {},
   "source": [
    "# 목표 : 무게에 따른 길이를 예측해주는 모델 \n",
    "- 데이터 : fish.csv\n",
    "- 피쳐 : 무게\n",
    "- label, target : 길이"
   ]
  },
  {
   "cell_type": "code",
   "execution_count": 52,
   "id": "f3aecb23-4cd7-4172-b8a9-8ee43f4312ca",
   "metadata": {},
   "outputs": [],
   "source": [
    "import pandas as pd\n",
    "import matplotlib.pyplot as plt\n",
    "import seaborn as sns\n",
    "from sklearn.preprocessing import StandardScaler, MinMaxScaler\n",
    "import numpy as np"
   ]
  },
  {
   "cell_type": "code",
   "execution_count": 18,
   "id": "d320fd11-95d0-4dde-8940-9d19f8bd1108",
   "metadata": {
    "scrolled": true
   },
   "outputs": [
    {
     "data": {
      "text/html": [
       "<div>\n",
       "<style scoped>\n",
       "    .dataframe tbody tr th:only-of-type {\n",
       "        vertical-align: middle;\n",
       "    }\n",
       "\n",
       "    .dataframe tbody tr th {\n",
       "        vertical-align: top;\n",
       "    }\n",
       "\n",
       "    .dataframe thead th {\n",
       "        text-align: right;\n",
       "    }\n",
       "</style>\n",
       "<table border=\"1\" class=\"dataframe\">\n",
       "  <thead>\n",
       "    <tr style=\"text-align: right;\">\n",
       "      <th></th>\n",
       "      <th>Species</th>\n",
       "      <th>Weight</th>\n",
       "      <th>Length</th>\n",
       "    </tr>\n",
       "  </thead>\n",
       "  <tbody>\n",
       "    <tr>\n",
       "      <th>0</th>\n",
       "      <td>Perch</td>\n",
       "      <td>5.9</td>\n",
       "      <td>8.4</td>\n",
       "    </tr>\n",
       "    <tr>\n",
       "      <th>1</th>\n",
       "      <td>Perch</td>\n",
       "      <td>32.0</td>\n",
       "      <td>13.7</td>\n",
       "    </tr>\n",
       "    <tr>\n",
       "      <th>2</th>\n",
       "      <td>Perch</td>\n",
       "      <td>40.0</td>\n",
       "      <td>15.0</td>\n",
       "    </tr>\n",
       "    <tr>\n",
       "      <th>3</th>\n",
       "      <td>Perch</td>\n",
       "      <td>51.5</td>\n",
       "      <td>16.2</td>\n",
       "    </tr>\n",
       "    <tr>\n",
       "      <th>4</th>\n",
       "      <td>Perch</td>\n",
       "      <td>70.0</td>\n",
       "      <td>17.4</td>\n",
       "    </tr>\n",
       "    <tr>\n",
       "      <th>5</th>\n",
       "      <td>Perch</td>\n",
       "      <td>100.0</td>\n",
       "      <td>18.0</td>\n",
       "    </tr>\n",
       "    <tr>\n",
       "      <th>6</th>\n",
       "      <td>Perch</td>\n",
       "      <td>78.0</td>\n",
       "      <td>18.7</td>\n",
       "    </tr>\n",
       "    <tr>\n",
       "      <th>7</th>\n",
       "      <td>Perch</td>\n",
       "      <td>80.0</td>\n",
       "      <td>19.0</td>\n",
       "    </tr>\n",
       "    <tr>\n",
       "      <th>8</th>\n",
       "      <td>Perch</td>\n",
       "      <td>85.0</td>\n",
       "      <td>19.6</td>\n",
       "    </tr>\n",
       "    <tr>\n",
       "      <th>9</th>\n",
       "      <td>Perch</td>\n",
       "      <td>85.0</td>\n",
       "      <td>20.0</td>\n",
       "    </tr>\n",
       "    <tr>\n",
       "      <th>10</th>\n",
       "      <td>Perch</td>\n",
       "      <td>110.0</td>\n",
       "      <td>21.0</td>\n",
       "    </tr>\n",
       "    <tr>\n",
       "      <th>11</th>\n",
       "      <td>Perch</td>\n",
       "      <td>115.0</td>\n",
       "      <td>21.0</td>\n",
       "    </tr>\n",
       "    <tr>\n",
       "      <th>12</th>\n",
       "      <td>Perch</td>\n",
       "      <td>125.0</td>\n",
       "      <td>21.0</td>\n",
       "    </tr>\n",
       "    <tr>\n",
       "      <th>13</th>\n",
       "      <td>Perch</td>\n",
       "      <td>130.0</td>\n",
       "      <td>21.3</td>\n",
       "    </tr>\n",
       "    <tr>\n",
       "      <th>14</th>\n",
       "      <td>Perch</td>\n",
       "      <td>120.0</td>\n",
       "      <td>22.0</td>\n",
       "    </tr>\n",
       "    <tr>\n",
       "      <th>15</th>\n",
       "      <td>Perch</td>\n",
       "      <td>120.0</td>\n",
       "      <td>22.0</td>\n",
       "    </tr>\n",
       "    <tr>\n",
       "      <th>16</th>\n",
       "      <td>Perch</td>\n",
       "      <td>130.0</td>\n",
       "      <td>22.0</td>\n",
       "    </tr>\n",
       "    <tr>\n",
       "      <th>17</th>\n",
       "      <td>Perch</td>\n",
       "      <td>135.0</td>\n",
       "      <td>22.0</td>\n",
       "    </tr>\n",
       "    <tr>\n",
       "      <th>18</th>\n",
       "      <td>Perch</td>\n",
       "      <td>110.0</td>\n",
       "      <td>22.0</td>\n",
       "    </tr>\n",
       "    <tr>\n",
       "      <th>19</th>\n",
       "      <td>Perch</td>\n",
       "      <td>130.0</td>\n",
       "      <td>22.5</td>\n",
       "    </tr>\n",
       "    <tr>\n",
       "      <th>20</th>\n",
       "      <td>Perch</td>\n",
       "      <td>150.0</td>\n",
       "      <td>22.5</td>\n",
       "    </tr>\n",
       "    <tr>\n",
       "      <th>21</th>\n",
       "      <td>Perch</td>\n",
       "      <td>145.0</td>\n",
       "      <td>22.7</td>\n",
       "    </tr>\n",
       "    <tr>\n",
       "      <th>22</th>\n",
       "      <td>Perch</td>\n",
       "      <td>150.0</td>\n",
       "      <td>23.0</td>\n",
       "    </tr>\n",
       "    <tr>\n",
       "      <th>23</th>\n",
       "      <td>Perch</td>\n",
       "      <td>170.0</td>\n",
       "      <td>23.5</td>\n",
       "    </tr>\n",
       "    <tr>\n",
       "      <th>24</th>\n",
       "      <td>Perch</td>\n",
       "      <td>225.0</td>\n",
       "      <td>24.0</td>\n",
       "    </tr>\n",
       "    <tr>\n",
       "      <th>25</th>\n",
       "      <td>Perch</td>\n",
       "      <td>145.0</td>\n",
       "      <td>24.0</td>\n",
       "    </tr>\n",
       "    <tr>\n",
       "      <th>26</th>\n",
       "      <td>Perch</td>\n",
       "      <td>188.0</td>\n",
       "      <td>24.6</td>\n",
       "    </tr>\n",
       "    <tr>\n",
       "      <th>27</th>\n",
       "      <td>Perch</td>\n",
       "      <td>180.0</td>\n",
       "      <td>25.0</td>\n",
       "    </tr>\n",
       "    <tr>\n",
       "      <th>28</th>\n",
       "      <td>Perch</td>\n",
       "      <td>197.0</td>\n",
       "      <td>25.6</td>\n",
       "    </tr>\n",
       "    <tr>\n",
       "      <th>29</th>\n",
       "      <td>Perch</td>\n",
       "      <td>218.0</td>\n",
       "      <td>26.5</td>\n",
       "    </tr>\n",
       "    <tr>\n",
       "      <th>30</th>\n",
       "      <td>Perch</td>\n",
       "      <td>300.0</td>\n",
       "      <td>27.3</td>\n",
       "    </tr>\n",
       "    <tr>\n",
       "      <th>31</th>\n",
       "      <td>Perch</td>\n",
       "      <td>260.0</td>\n",
       "      <td>27.5</td>\n",
       "    </tr>\n",
       "    <tr>\n",
       "      <th>32</th>\n",
       "      <td>Perch</td>\n",
       "      <td>265.0</td>\n",
       "      <td>27.5</td>\n",
       "    </tr>\n",
       "    <tr>\n",
       "      <th>33</th>\n",
       "      <td>Perch</td>\n",
       "      <td>250.0</td>\n",
       "      <td>27.5</td>\n",
       "    </tr>\n",
       "    <tr>\n",
       "      <th>34</th>\n",
       "      <td>Perch</td>\n",
       "      <td>250.0</td>\n",
       "      <td>28.0</td>\n",
       "    </tr>\n",
       "    <tr>\n",
       "      <th>35</th>\n",
       "      <td>Perch</td>\n",
       "      <td>300.0</td>\n",
       "      <td>28.7</td>\n",
       "    </tr>\n",
       "    <tr>\n",
       "      <th>36</th>\n",
       "      <td>Perch</td>\n",
       "      <td>320.0</td>\n",
       "      <td>30.0</td>\n",
       "    </tr>\n",
       "    <tr>\n",
       "      <th>37</th>\n",
       "      <td>Perch</td>\n",
       "      <td>514.0</td>\n",
       "      <td>32.8</td>\n",
       "    </tr>\n",
       "    <tr>\n",
       "      <th>38</th>\n",
       "      <td>Perch</td>\n",
       "      <td>556.0</td>\n",
       "      <td>34.5</td>\n",
       "    </tr>\n",
       "    <tr>\n",
       "      <th>39</th>\n",
       "      <td>Perch</td>\n",
       "      <td>840.0</td>\n",
       "      <td>35.0</td>\n",
       "    </tr>\n",
       "    <tr>\n",
       "      <th>40</th>\n",
       "      <td>Perch</td>\n",
       "      <td>685.0</td>\n",
       "      <td>36.5</td>\n",
       "    </tr>\n",
       "    <tr>\n",
       "      <th>41</th>\n",
       "      <td>Perch</td>\n",
       "      <td>700.0</td>\n",
       "      <td>36.0</td>\n",
       "    </tr>\n",
       "    <tr>\n",
       "      <th>42</th>\n",
       "      <td>Perch</td>\n",
       "      <td>700.0</td>\n",
       "      <td>37.0</td>\n",
       "    </tr>\n",
       "    <tr>\n",
       "      <th>43</th>\n",
       "      <td>Perch</td>\n",
       "      <td>690.0</td>\n",
       "      <td>37.0</td>\n",
       "    </tr>\n",
       "    <tr>\n",
       "      <th>44</th>\n",
       "      <td>Perch</td>\n",
       "      <td>900.0</td>\n",
       "      <td>39.0</td>\n",
       "    </tr>\n",
       "    <tr>\n",
       "      <th>45</th>\n",
       "      <td>Perch</td>\n",
       "      <td>650.0</td>\n",
       "      <td>39.0</td>\n",
       "    </tr>\n",
       "    <tr>\n",
       "      <th>46</th>\n",
       "      <td>Perch</td>\n",
       "      <td>820.0</td>\n",
       "      <td>39.0</td>\n",
       "    </tr>\n",
       "    <tr>\n",
       "      <th>47</th>\n",
       "      <td>Perch</td>\n",
       "      <td>850.0</td>\n",
       "      <td>40.0</td>\n",
       "    </tr>\n",
       "    <tr>\n",
       "      <th>48</th>\n",
       "      <td>Perch</td>\n",
       "      <td>900.0</td>\n",
       "      <td>40.0</td>\n",
       "    </tr>\n",
       "    <tr>\n",
       "      <th>49</th>\n",
       "      <td>Perch</td>\n",
       "      <td>1015.0</td>\n",
       "      <td>40.0</td>\n",
       "    </tr>\n",
       "    <tr>\n",
       "      <th>50</th>\n",
       "      <td>Perch</td>\n",
       "      <td>820.0</td>\n",
       "      <td>40.0</td>\n",
       "    </tr>\n",
       "    <tr>\n",
       "      <th>51</th>\n",
       "      <td>Perch</td>\n",
       "      <td>1100.0</td>\n",
       "      <td>42.0</td>\n",
       "    </tr>\n",
       "    <tr>\n",
       "      <th>52</th>\n",
       "      <td>Perch</td>\n",
       "      <td>1000.0</td>\n",
       "      <td>43.0</td>\n",
       "    </tr>\n",
       "    <tr>\n",
       "      <th>53</th>\n",
       "      <td>Perch</td>\n",
       "      <td>1100.0</td>\n",
       "      <td>43.0</td>\n",
       "    </tr>\n",
       "    <tr>\n",
       "      <th>54</th>\n",
       "      <td>Perch</td>\n",
       "      <td>1000.0</td>\n",
       "      <td>43.5</td>\n",
       "    </tr>\n",
       "    <tr>\n",
       "      <th>55</th>\n",
       "      <td>Perch</td>\n",
       "      <td>1000.0</td>\n",
       "      <td>44.0</td>\n",
       "    </tr>\n",
       "  </tbody>\n",
       "</table>\n",
       "</div>"
      ],
      "text/plain": [
       "   Species  Weight  Length\n",
       "0    Perch     5.9     8.4\n",
       "1    Perch    32.0    13.7\n",
       "2    Perch    40.0    15.0\n",
       "3    Perch    51.5    16.2\n",
       "4    Perch    70.0    17.4\n",
       "5    Perch   100.0    18.0\n",
       "6    Perch    78.0    18.7\n",
       "7    Perch    80.0    19.0\n",
       "8    Perch    85.0    19.6\n",
       "9    Perch    85.0    20.0\n",
       "10   Perch   110.0    21.0\n",
       "11   Perch   115.0    21.0\n",
       "12   Perch   125.0    21.0\n",
       "13   Perch   130.0    21.3\n",
       "14   Perch   120.0    22.0\n",
       "15   Perch   120.0    22.0\n",
       "16   Perch   130.0    22.0\n",
       "17   Perch   135.0    22.0\n",
       "18   Perch   110.0    22.0\n",
       "19   Perch   130.0    22.5\n",
       "20   Perch   150.0    22.5\n",
       "21   Perch   145.0    22.7\n",
       "22   Perch   150.0    23.0\n",
       "23   Perch   170.0    23.5\n",
       "24   Perch   225.0    24.0\n",
       "25   Perch   145.0    24.0\n",
       "26   Perch   188.0    24.6\n",
       "27   Perch   180.0    25.0\n",
       "28   Perch   197.0    25.6\n",
       "29   Perch   218.0    26.5\n",
       "30   Perch   300.0    27.3\n",
       "31   Perch   260.0    27.5\n",
       "32   Perch   265.0    27.5\n",
       "33   Perch   250.0    27.5\n",
       "34   Perch   250.0    28.0\n",
       "35   Perch   300.0    28.7\n",
       "36   Perch   320.0    30.0\n",
       "37   Perch   514.0    32.8\n",
       "38   Perch   556.0    34.5\n",
       "39   Perch   840.0    35.0\n",
       "40   Perch   685.0    36.5\n",
       "41   Perch   700.0    36.0\n",
       "42   Perch   700.0    37.0\n",
       "43   Perch   690.0    37.0\n",
       "44   Perch   900.0    39.0\n",
       "45   Perch   650.0    39.0\n",
       "46   Perch   820.0    39.0\n",
       "47   Perch   850.0    40.0\n",
       "48   Perch   900.0    40.0\n",
       "49   Perch  1015.0    40.0\n",
       "50   Perch   820.0    40.0\n",
       "51   Perch  1100.0    42.0\n",
       "52   Perch  1000.0    43.0\n",
       "53   Perch  1100.0    43.0\n",
       "54   Perch  1000.0    43.5\n",
       "55   Perch  1000.0    44.0"
      ]
     },
     "execution_count": 18,
     "metadata": {},
     "output_type": "execute_result"
    }
   ],
   "source": [
    "data_file = \"../data/fish.csv\"\n",
    "fishDF = pd.read_csv(data_file, usecols=[0, 1, 2]) \n",
    "perchDF = fishDF[fishDF[\"Species\"] == \"Perch\"] # 학습에 사용할 perch 행만 추출 \n",
    "perchDF.reset_index(drop=True, inplace=True) # 인덱스 정리 \n",
    "perchDF"
   ]
  },
  {
   "cell_type": "code",
   "execution_count": 19,
   "id": "1792621a-4cbc-4cf1-8bf3-8a03754f2b20",
   "metadata": {},
   "outputs": [
    {
     "name": "stdout",
     "output_type": "stream",
     "text": [
      "<class 'pandas.core.frame.DataFrame'>\n",
      "RangeIndex: 56 entries, 0 to 55\n",
      "Data columns (total 3 columns):\n",
      " #   Column   Non-Null Count  Dtype  \n",
      "---  ------   --------------  -----  \n",
      " 0   Species  56 non-null     object \n",
      " 1   Weight   56 non-null     float64\n",
      " 2   Length   56 non-null     float64\n",
      "dtypes: float64(2), object(1)\n",
      "memory usage: 1.4+ KB\n"
     ]
    }
   ],
   "source": [
    "# 추출된 데이터 기본 정보 확인 \n",
    "perchDF.info()"
   ]
  },
  {
   "cell_type": "code",
   "execution_count": 20,
   "id": "a2c4071d-0d39-4355-9987-00b8b9ec9072",
   "metadata": {},
   "outputs": [
    {
     "data": {
      "text/html": [
       "<div>\n",
       "<style scoped>\n",
       "    .dataframe tbody tr th:only-of-type {\n",
       "        vertical-align: middle;\n",
       "    }\n",
       "\n",
       "    .dataframe tbody tr th {\n",
       "        vertical-align: top;\n",
       "    }\n",
       "\n",
       "    .dataframe thead th {\n",
       "        text-align: right;\n",
       "    }\n",
       "</style>\n",
       "<table border=\"1\" class=\"dataframe\">\n",
       "  <thead>\n",
       "    <tr style=\"text-align: right;\">\n",
       "      <th></th>\n",
       "      <th>Weight</th>\n",
       "      <th>Length</th>\n",
       "    </tr>\n",
       "  </thead>\n",
       "  <tbody>\n",
       "    <tr>\n",
       "      <th>count</th>\n",
       "      <td>56.000000</td>\n",
       "      <td>56.000000</td>\n",
       "    </tr>\n",
       "    <tr>\n",
       "      <th>mean</th>\n",
       "      <td>382.239286</td>\n",
       "      <td>27.892857</td>\n",
       "    </tr>\n",
       "    <tr>\n",
       "      <th>std</th>\n",
       "      <td>347.617717</td>\n",
       "      <td>9.021668</td>\n",
       "    </tr>\n",
       "    <tr>\n",
       "      <th>min</th>\n",
       "      <td>5.900000</td>\n",
       "      <td>8.400000</td>\n",
       "    </tr>\n",
       "    <tr>\n",
       "      <th>25%</th>\n",
       "      <td>120.000000</td>\n",
       "      <td>21.825000</td>\n",
       "    </tr>\n",
       "    <tr>\n",
       "      <th>50%</th>\n",
       "      <td>207.500000</td>\n",
       "      <td>25.300000</td>\n",
       "    </tr>\n",
       "    <tr>\n",
       "      <th>75%</th>\n",
       "      <td>692.500000</td>\n",
       "      <td>36.625000</td>\n",
       "    </tr>\n",
       "    <tr>\n",
       "      <th>max</th>\n",
       "      <td>1100.000000</td>\n",
       "      <td>44.000000</td>\n",
       "    </tr>\n",
       "  </tbody>\n",
       "</table>\n",
       "</div>"
      ],
      "text/plain": [
       "            Weight     Length\n",
       "count    56.000000  56.000000\n",
       "mean    382.239286  27.892857\n",
       "std     347.617717   9.021668\n",
       "min       5.900000   8.400000\n",
       "25%     120.000000  21.825000\n",
       "50%     207.500000  25.300000\n",
       "75%     692.500000  36.625000\n",
       "max    1100.000000  44.000000"
      ]
     },
     "execution_count": 20,
     "metadata": {},
     "output_type": "execute_result"
    }
   ],
   "source": [
    "# 수치 컬럼의 데이터 정보 확인 \n",
    "perchDF.describe()"
   ]
  },
  {
   "cell_type": "markdown",
   "id": "298f3215-4529-4095-bb9f-ea98b85dc86c",
   "metadata": {},
   "source": [
    "## <hr>3. 데이터 전처리\n",
    "- 결측치, 이상치, 중복값 처리\n",
    "- 데이터 분포, 컬럼 분포, 최빈값, 고유값 "
   ]
  },
  {
   "cell_type": "markdown",
   "id": "4d495258-54f3-4df0-a533-86250fdd061b",
   "metadata": {},
   "source": [
    "### 3-1. 데이터 분포"
   ]
  },
  {
   "cell_type": "code",
   "execution_count": 22,
   "id": "25d519d3-5cc5-4a6f-8fa1-bf2d8a89a6cf",
   "metadata": {},
   "outputs": [
    {
     "data": {
      "image/png": "[encoded data removed]",
      "text/plain": [
       "<Figure size 640x480 with 1 Axes>"
      ]
     },
     "metadata": {},
     "output_type": "display_data"
    }
   ],
   "source": [
    "# 무게와 길이에 대한 시각화 \n",
    "plt.plot(perchDF.Weight, perchDF.Length, \"go\")\n",
    "plt.xlabel(\"Weight\")\n",
    "plt.ylabel(\"Length\")\n",
    "plt.title(\"Weight & Length\")\n",
    "plt.show()"
   ]
  },
  {
   "cell_type": "code",
   "execution_count": 24,
   "id": "eb68662d-cf32-4b18-b7f1-bfd08056c3e2",
   "metadata": {},
   "outputs": [
    {
     "data": {
      "text/html": [
       "<div>\n",
       "<style scoped>\n",
       "    .dataframe tbody tr th:only-of-type {\n",
       "        vertical-align: middle;\n",
       "    }\n",
       "\n",
       "    .dataframe tbody tr th {\n",
       "        vertical-align: top;\n",
       "    }\n",
       "\n",
       "    .dataframe thead th {\n",
       "        text-align: right;\n",
       "    }\n",
       "</style>\n",
       "<table border=\"1\" class=\"dataframe\">\n",
       "  <thead>\n",
       "    <tr style=\"text-align: right;\">\n",
       "      <th></th>\n",
       "      <th>Weight</th>\n",
       "      <th>Length</th>\n",
       "    </tr>\n",
       "  </thead>\n",
       "  <tbody>\n",
       "    <tr>\n",
       "      <th>Weight</th>\n",
       "      <td>1.000000</td>\n",
       "      <td>0.958656</td>\n",
       "    </tr>\n",
       "    <tr>\n",
       "      <th>Length</th>\n",
       "      <td>0.958656</td>\n",
       "      <td>1.000000</td>\n",
       "    </tr>\n",
       "  </tbody>\n",
       "</table>\n",
       "</div>"
      ],
      "text/plain": [
       "          Weight    Length\n",
       "Weight  1.000000  0.958656\n",
       "Length  0.958656  1.000000"
      ]
     },
     "execution_count": 24,
     "metadata": {},
     "output_type": "execute_result"
    }
   ],
   "source": [
    "perchDF.corr(numeric_only=True) # 상관관계 있음! "
   ]
  },
  {
   "cell_type": "markdown",
   "id": "ea13186c-02b6-4e29-92ff-42351b113704",
   "metadata": {},
   "source": [
    "> [분석 결과] 무게에 따른 길이는 비례관계  \n",
    "> -> 무게를 주면 어떤 공식에 의해 길이가 나와야한다."
   ]
  },
  {
   "cell_type": "code",
   "execution_count": 25,
   "id": "2262aa7a-14fc-4947-8fb4-0261a2035b20",
   "metadata": {},
   "outputs": [
    {
     "data": {
      "text/html": [
       "<div>\n",
       "<style scoped>\n",
       "    .dataframe tbody tr th:only-of-type {\n",
       "        vertical-align: middle;\n",
       "    }\n",
       "\n",
       "    .dataframe tbody tr th {\n",
       "        vertical-align: top;\n",
       "    }\n",
       "\n",
       "    .dataframe thead th {\n",
       "        text-align: right;\n",
       "    }\n",
       "</style>\n",
       "<table border=\"1\" class=\"dataframe\">\n",
       "  <thead>\n",
       "    <tr style=\"text-align: right;\">\n",
       "      <th></th>\n",
       "      <th>Species</th>\n",
       "      <th>Weight</th>\n",
       "      <th>Length</th>\n",
       "    </tr>\n",
       "  </thead>\n",
       "  <tbody>\n",
       "    <tr>\n",
       "      <th>0</th>\n",
       "      <td>Perch</td>\n",
       "      <td>5.9</td>\n",
       "      <td>8.4</td>\n",
       "    </tr>\n",
       "    <tr>\n",
       "      <th>1</th>\n",
       "      <td>Perch</td>\n",
       "      <td>32.0</td>\n",
       "      <td>13.7</td>\n",
       "    </tr>\n",
       "  </tbody>\n",
       "</table>\n",
       "</div>"
      ],
      "text/plain": [
       "  Species  Weight  Length\n",
       "0   Perch     5.9     8.4\n",
       "1   Perch    32.0    13.7"
      ]
     },
     "execution_count": 25,
     "metadata": {},
     "output_type": "execute_result"
    }
   ],
   "source": [
    "# 무게 + 연산 ==> 길이 \n",
    "perchDF.iloc[:2]"
   ]
  },
  {
   "cell_type": "code",
   "execution_count": 48,
   "id": "dc3bf95d-6607-4925-9e89-2ee178cedc08",
   "metadata": {},
   "outputs": [],
   "source": [
    "model = (perchDF.Weight*0.03) + 12\n",
    "# model = (perchDF.Weight*1/5) + 7 # 1/5 = 가중치, 7 = bias "
   ]
  },
  {
   "cell_type": "code",
   "execution_count": 49,
   "id": "256d748e-e49d-41a7-8742-97caf2cc584e",
   "metadata": {},
   "outputs": [
    {
     "data": {
      "text/plain": [
       "274.692"
      ]
     },
     "execution_count": 49,
     "metadata": {},
     "output_type": "execute_result"
    }
   ],
   "source": [
    "(model - perchDF.Length).abs().sum()"
   ]
  },
  {
   "cell_type": "markdown",
   "id": "b6b96b2b-a57c-40a7-b287-cce2c849c5ed",
   "metadata": {},
   "source": [
    "## <hr>4. 학습 진행 \n",
    "- 학습 방법 : 지도 학습 + 회귀(예측) => 선형회귀 LinearRegression"
   ]
  },
  {
   "cell_type": "code",
   "execution_count": 53,
   "id": "fe1968c6-96fa-4dd6-aef2-e09d4450c6e9",
   "metadata": {},
   "outputs": [],
   "source": [
    "# 모델 인스턴스 생성 \n",
    "from sklearn.linear_model import LinearRegression\n",
    "model = LinearRegression()"
   ]
  },
  {
   "cell_type": "code",
   "execution_count": 55,
   "id": "bc508277-8573-4844-916e-4b1f14b04137",
   "metadata": {},
   "outputs": [
    {
     "data": {
      "text/html": [
       "<style>#sk-container-id-1 {color: black;}#sk-container-id-1 pre{padding: 0;}#sk-container-id-1 div.sk-toggleable {background-color: white;}#sk-container-id-1 label.sk-toggleable__label {cursor: pointer;display: block;width: 100%;margin-bottom: 0;padding: 0.3em;box-sizing: border-box;text-align: center;}#sk-container-id-1 label.sk-toggleable__label-arrow:before {content: \"▸\";float: left;margin-right: 0.25em;color: #696969;}#sk-container-id-1 label.sk-toggleable__label-arrow:hover:before {color: black;}#sk-container-id-1 div.sk-estimator:hover label.sk-toggleable__label-arrow:before {color: black;}#sk-container-id-1 div.sk-toggleable__content {max-height: 0;max-width: 0;overflow: hidden;text-align: left;background-color: #f0f8ff;}#sk-container-id-1 div.sk-toggleable__content pre {margin: 0.2em;color: black;border-radius: 0.25em;background-color: #f0f8ff;}#sk-container-id-1 input.sk-toggleable__control:checked~div.sk-toggleable__content {max-height: 200px;max-width: 100%;overflow: auto;}#sk-container-id-1 input.sk-toggleable__control:checked~label.sk-toggleable__label-arrow:before {content: \"▾\";}#sk-container-id-1 div.sk-estimator input.sk-toggleable__control:checked~label.sk-toggleable__label {background-color: #d4ebff;}#sk-container-id-1 div.sk-label input.sk-toggleable__control:checked~label.sk-toggleable__label {background-color: #d4ebff;}#sk-container-id-1 input.sk-hidden--visually {border: 0;clip: rect(1px 1px 1px 1px);clip: rect(1px, 1px, 1px, 1px);height: 1px;margin: -1px;overflow: hidden;padding: 0;position: absolute;width: 1px;}#sk-container-id-1 div.sk-estimator {font-family: monospace;background-color: #f0f8ff;border: 1px dotted black;border-radius: 0.25em;box-sizing: border-box;margin-bottom: 0.5em;}#sk-container-id-1 div.sk-estimator:hover {background-color: #d4ebff;}#sk-container-id-1 div.sk-parallel-item::after {content: \"\";width: 100%;border-bottom: 1px solid gray;flex-grow: 1;}#sk-container-id-1 div.sk-label:hover label.sk-toggleable__label {background-color: #d4ebff;}#sk-container-id-1 div.sk-serial::before {content: \"\";position: absolute;border-left: 1px solid gray;box-sizing: border-box;top: 0;bottom: 0;left: 50%;z-index: 0;}#sk-container-id-1 div.sk-serial {display: flex;flex-direction: column;align-items: center;background-color: white;padding-right: 0.2em;padding-left: 0.2em;position: relative;}#sk-container-id-1 div.sk-item {position: relative;z-index: 1;}#sk-container-id-1 div.sk-parallel {display: flex;align-items: stretch;justify-content: center;background-color: white;position: relative;}#sk-container-id-1 div.sk-item::before, #sk-container-id-1 div.sk-parallel-item::before {content: \"\";position: absolute;border-left: 1px solid gray;box-sizing: border-box;top: 0;bottom: 0;left: 50%;z-index: -1;}#sk-container-id-1 div.sk-parallel-item {display: flex;flex-direction: column;z-index: 1;position: relative;background-color: white;}#sk-container-id-1 div.sk-parallel-item:first-child::after {align-self: flex-end;width: 50%;}#sk-container-id-1 div.sk-parallel-item:last-child::after {align-self: flex-start;width: 50%;}#sk-container-id-1 div.sk-parallel-item:only-child::after {width: 0;}#sk-container-id-1 div.sk-dashed-wrapped {border: 1px dashed gray;margin: 0 0.4em 0.5em 0.4em;box-sizing: border-box;padding-bottom: 0.4em;background-color: white;}#sk-container-id-1 div.sk-label label {font-family: monospace;font-weight: bold;display: inline-block;line-height: 1.2em;}#sk-container-id-1 div.sk-label-container {text-align: center;}#sk-container-id-1 div.sk-container {/* jupyter's `normalize.less` sets `[hidden] { display: none; }` but bootstrap.min.css set `[hidden] { display: none !important; }` so we also need the `!important` here to be able to override the default hidden behavior on the sphinx rendered scikit-learn.org. See: https://github.com/scikit-learn/scikit-learn/issues/21755 */display: inline-block !important;position: relative;}#sk-container-id-1 div.sk-text-repr-fallback {display: none;}</style><div id=\"sk-container-id-1\" class=\"sk-top-container\"><div class=\"sk-text-repr-fallback\"><pre>LinearRegression()</pre><b>In a Jupyter environment, please rerun this cell to show the HTML representation or trust the notebook. <br />On GitHub, the HTML representation is unable to render, please try loading this page with nbviewer.org.</b></div><div class=\"sk-container\" hidden><div class=\"sk-item\"><div class=\"sk-estimator sk-toggleable\"><input class=\"sk-toggleable__control sk-hidden--visually\" id=\"sk-estimator-id-1\" type=\"checkbox\" checked><label for=\"sk-estimator-id-1\" class=\"sk-toggleable__label sk-toggleable__label-arrow\">LinearRegression</label><div class=\"sk-toggleable__content\"><pre>LinearRegression()</pre></div></div></div></div></div>"
      ],
      "text/plain": [
       "LinearRegression()"
      ]
     },
     "execution_count": 55,
     "metadata": {},
     "output_type": "execute_result"
    }
   ],
   "source": [
    "model.fit(perchDF[[\"Weight\"]], perchDF[\"Length\"])"
   ]
  },
  {
   "cell_type": "code",
   "execution_count": 56,
   "id": "e7e8d733-480b-4553-a28e-0d6809ac7133",
   "metadata": {},
   "outputs": [
    {
     "name": "stdout",
     "output_type": "stream",
     "text": [
      "피처에 할당되는 가중치 계수 : [0.02487985]\n",
      "수식에 사용되는 절편 계수 : 18.382802913636723\n"
     ]
    }
   ],
   "source": [
    "# 학습 후 속성 확인\n",
    "print(f\"피처에 할당되는 가중치 계수 : {model.coef_}\") # 계수\n",
    "print(f\"수식에 사용되는 절편 계수 : {model.intercept_}\") # 절편 "
   ]
  },
  {
   "cell_type": "code",
   "execution_count": 57,
   "id": "a190ab12-97be-41ee-9800-3e366b74639f",
   "metadata": {
    "scrolled": true
   },
   "outputs": [
    {
     "data": {
      "text/plain": [
       "0     18.529594\n",
       "1     19.178958\n",
       "2     19.377997\n",
       "3     19.664115\n",
       "4     20.124392\n",
       "5     20.870787\n",
       "6     20.323431\n",
       "7     20.373191\n",
       "8     20.497590\n",
       "9     20.497590\n",
       "10    21.119586\n",
       "11    21.243985\n",
       "12    21.492784\n",
       "13    21.617183\n",
       "14    21.368384\n",
       "15    21.368384\n",
       "16    21.617183\n",
       "17    21.741582\n",
       "18    21.119586\n",
       "19    21.617183\n",
       "20    22.114780\n",
       "21    21.990380\n",
       "22    22.114780\n",
       "23    22.612377\n",
       "24    23.980768\n",
       "25    21.990380\n",
       "26    23.060214\n",
       "27    22.861175\n",
       "28    23.284132\n",
       "29    23.806609\n",
       "30    25.846756\n",
       "31    24.851563\n",
       "32    24.975962\n",
       "33    24.602764\n",
       "34    24.602764\n",
       "35    25.846756\n",
       "36    26.344353\n",
       "37    31.171043\n",
       "38    32.215997\n",
       "39    39.281873\n",
       "40    35.425497\n",
       "41    35.798695\n",
       "42    35.798695\n",
       "43    35.549896\n",
       "44    40.774664\n",
       "45    34.554702\n",
       "46    38.784276\n",
       "47    39.530671\n",
       "48    40.774664\n",
       "49    43.635846\n",
       "50    38.784276\n",
       "51    45.750633\n",
       "52    43.262648\n",
       "53    45.750633\n",
       "54    43.262648\n",
       "55    43.262648\n",
       "Name: Weight, dtype: float64"
      ]
     },
     "execution_count": 57,
     "metadata": {},
     "output_type": "execute_result"
    }
   ],
   "source": [
    "perchDF.Weight * model.coef_  + model.intercept_"
   ]
  },
  {
   "cell_type": "markdown",
   "id": "acc2ac4d-6b8e-426e-9391-bb23ec6ec9c1",
   "metadata": {},
   "source": [
    "perchDF[\"Weight\"] 랑 perchDF[[\"Weight\"]]는 다름^^"
   ]
  },
  {
   "cell_type": "code",
   "execution_count": 69,
   "id": "fba4a679-1aa4-437d-94f7-8052d2806f20",
   "metadata": {},
   "outputs": [
    {
     "data": {
      "text/plain": [
       "(56, 1)"
      ]
     },
     "execution_count": 69,
     "metadata": {},
     "output_type": "execute_result"
    }
   ],
   "source": [
    "perchDF[[\"Weight\"]].shape"
   ]
  },
  {
   "cell_type": "code",
   "execution_count": 70,
   "id": "9c06927c-9993-4f8c-9ee9-412970226ea1",
   "metadata": {},
   "outputs": [
    {
     "data": {
      "text/plain": [
       "(56,)"
      ]
     },
     "execution_count": 70,
     "metadata": {},
     "output_type": "execute_result"
    }
   ],
   "source": [
    "perchDF[\"Weight\"].shape"
   ]
  },
  {
   "cell_type": "markdown",
   "id": "5e3cc300-d8f4-4832-a6c5-fc986fd4ac06",
   "metadata": {},
   "source": [
    "## <hr>5. 테스트"
   ]
  },
  {
   "cell_type": "code",
   "execution_count": 64,
   "id": "5f08acf2-7d88-4179-930b-fe5ce10fe508",
   "metadata": {},
   "outputs": [
    {
     "data": {
      "text/plain": [
       "0.919021073244782"
      ]
     },
     "execution_count": 64,
     "metadata": {},
     "output_type": "execute_result"
    }
   ],
   "source": [
    "# 결정계수 R2 즉, 얼마나 정답에 가깝게 근사하게 결과를 예측했는지를 나타내는 계수값 \n",
    "# 범위 : 0.0 ~ 1.0 \n",
    "# 1.0에 가까울수록 잘 만들어진 모델(적합한 수식)\n",
    "model.score(perchDF[[\"Weight\"]], perchDF.Length)"
   ]
  },
  {
   "cell_type": "code",
   "execution_count": 73,
   "id": "d9b26bc3-3aad-471c-a41a-648ef20ea733",
   "metadata": {},
   "outputs": [
    {
     "data": {
      "text/plain": [
       "array([18.5, 19.2, 19.4, 19.7, 20.1, 20.9, 20.3, 20.4, 20.5, 20.5, 21.1,\n",
       "       21.2, 21.5, 21.6, 21.4, 21.4, 21.6, 21.7, 21.1, 21.6, 22.1, 22. ,\n",
       "       22.1, 22.6, 24. , 22. , 23.1, 22.9, 23.3, 23.8, 25.8, 24.9, 25. ,\n",
       "       24.6, 24.6, 25.8, 26.3, 31.2, 32.2, 39.3, 35.4, 35.8, 35.8, 35.5,\n",
       "       40.8, 34.6, 38.8, 39.5, 40.8, 43.6, 38.8, 45.8, 43.3, 45.8, 43.3,\n",
       "       43.3])"
      ]
     },
     "execution_count": 73,
     "metadata": {},
     "output_type": "execute_result"
    }
   ],
   "source": [
    "y_pre = model.predict(perchDF[[\"Weight\"]])\n",
    "y_pre = np.round(y_pre, 1)\n",
    "y_pre"
   ]
  },
  {
   "cell_type": "code",
   "execution_count": 74,
   "id": "925ab34c-aaed-48dd-a7b9-5c9709e798b5",
   "metadata": {
    "scrolled": true
   },
   "outputs": [
    {
     "data": {
      "text/plain": [
       "0     10.1\n",
       "1      5.5\n",
       "2      4.4\n",
       "3      3.5\n",
       "4      2.7\n",
       "5      2.9\n",
       "6      1.6\n",
       "7      1.4\n",
       "8      0.9\n",
       "9      0.5\n",
       "10     0.1\n",
       "11     0.2\n",
       "12     0.5\n",
       "13     0.3\n",
       "14    -0.6\n",
       "15    -0.6\n",
       "16    -0.4\n",
       "17    -0.3\n",
       "18    -0.9\n",
       "19    -0.9\n",
       "20    -0.4\n",
       "21    -0.7\n",
       "22    -0.9\n",
       "23    -0.9\n",
       "24     0.0\n",
       "25    -2.0\n",
       "26    -1.5\n",
       "27    -2.1\n",
       "28    -2.3\n",
       "29    -2.7\n",
       "30    -1.5\n",
       "31    -2.6\n",
       "32    -2.5\n",
       "33    -2.9\n",
       "34    -3.4\n",
       "35    -2.9\n",
       "36    -3.7\n",
       "37    -1.6\n",
       "38    -2.3\n",
       "39     4.3\n",
       "40    -1.1\n",
       "41    -0.2\n",
       "42    -1.2\n",
       "43    -1.5\n",
       "44     1.8\n",
       "45    -4.4\n",
       "46    -0.2\n",
       "47    -0.5\n",
       "48     0.8\n",
       "49     3.6\n",
       "50    -1.2\n",
       "51     3.8\n",
       "52     0.3\n",
       "53     2.8\n",
       "54    -0.2\n",
       "55    -0.7\n",
       "Name: Length, dtype: float64"
      ]
     },
     "execution_count": 74,
     "metadata": {},
     "output_type": "execute_result"
    }
   ],
   "source": [
    "# 오차계산 => 예측값 - 정답\n",
    "errorSR = y_pre - perchDF.Length\n",
    "errorSR"
   ]
  },
  {
   "cell_type": "code",
   "execution_count": 76,
   "id": "0ab8aa94-6742-4dd5-bb8e-32477b6e83b3",
   "metadata": {},
   "outputs": [
    {
     "data": {
      "text/plain": [
       "1"
      ]
     },
     "execution_count": 76,
     "metadata": {},
     "output_type": "execute_result"
    }
   ],
   "source": [
    "errorSR[y_pre - perchDF.Length == 0.0].count()"
   ]
  },
  {
   "cell_type": "code",
   "execution_count": 75,
   "id": "49b7dbdb-f874-4e69-9a6f-6c64bfe944d0",
   "metadata": {},
   "outputs": [
    {
     "data": {
      "text/plain": [
       "6.483571428571426"
      ]
     },
     "execution_count": 75,
     "metadata": {},
     "output_type": "execute_result"
    }
   ],
   "source": [
    "(errorSR**2).sum()/errorSR.shape[0]"
   ]
  },
  {
   "cell_type": "code",
   "execution_count": 71,
   "id": "2143e8d7-b803-43e8-aee5-b5ad41c49dfb",
   "metadata": {},
   "outputs": [
    {
     "data": {
      "text/plain": [
       "1"
      ]
     },
     "execution_count": 71,
     "metadata": {},
     "output_type": "execute_result"
    }
   ],
   "source": [
    "(np.round(y_pre, 1) == perchDF.Length).sum()"
   ]
  },
  {
   "cell_type": "code",
   "execution_count": null,
   "id": "b031f8a3-9334-4ae0-a7ce-3eb6012722ff",
   "metadata": {},
   "outputs": [],
   "source": []
  },
  {
   "cell_type": "markdown",
   "id": "2e9125a0-c459-4293-9b1c-9584ac8517ee",
   "metadata": {},
   "source": [
    "> 오차를 계산해주는 함수 -> 비용/손실 함수(Cost/Loss Function)"
   ]
  },
  {
   "cell_type": "markdown",
   "id": "c061f984-46ee-45cb-8f08-8db32cbcb893",
   "metadata": {},
   "source": [
    "## 6. 성능평가 <hr>\n",
    "- 결정계수 값 : 1.0에 가까울 수록 좋음\n",
    "- 오차평균 값 : 낮을 수록 좋음\n",
    "- 활용 모듈 : sklearn.metrics"
   ]
  },
  {
   "cell_type": "code",
   "execution_count": 81,
   "id": "25052044-941b-4ba2-b0a3-166ed63890ea",
   "metadata": {},
   "outputs": [],
   "source": [
    "from sklearn.metrics import mean_squared_error, mean_absolute_error, r2_score # 모델을 만든 후 성능 평가를 위한 기능 "
   ]
  },
  {
   "cell_type": "code",
   "execution_count": 82,
   "id": "3f2c3363-8200-4df0-9958-ab532f45b8f1",
   "metadata": {},
   "outputs": [
    {
     "data": {
      "text/plain": [
       "0.918891577369194"
      ]
     },
     "execution_count": 82,
     "metadata": {},
     "output_type": "execute_result"
    }
   ],
   "source": [
    "# 결정 계수 값 \n",
    "r2_score(perchDF.Length, y_pre)"
   ]
  },
  {
   "cell_type": "code",
   "execution_count": 79,
   "id": "edac5a13-3d85-4bb1-bddb-04fffaeaf5b8",
   "metadata": {},
   "outputs": [
    {
     "data": {
      "text/plain": [
       "1.8535714285714282"
      ]
     },
     "execution_count": 79,
     "metadata": {},
     "output_type": "execute_result"
    }
   ],
   "source": [
    "# 평균제곱 오차\n",
    "mean_absolute_error(perchDF.Length, y_pre)"
   ]
  },
  {
   "cell_type": "code",
   "execution_count": 84,
   "id": "cddb2d0d-2cd1-498b-9b46-dff42b2cd55a",
   "metadata": {},
   "outputs": [
    {
     "name": "stdout",
     "output_type": "stream",
     "text": [
      "1.3.0\n"
     ]
    }
   ],
   "source": [
    "import sklearn\n",
    "print(sklearn.__version__) # version 확인 "
   ]
  },
  {
   "cell_type": "code",
   "execution_count": 85,
   "id": "0615974c-da54-4842-a40f-d0629c1e176d",
   "metadata": {},
   "outputs": [
    {
     "data": {
      "text/plain": [
       "2.5462858104642194"
      ]
     },
     "execution_count": 85,
     "metadata": {},
     "output_type": "execute_result"
    }
   ],
   "source": [
    "# 루트 평균 제곱 오차 : RMSE => 1.4 ver에 추가 \n",
    "mean_squared_error(perchDF.Length, y_pre, squared=False)"
   ]
  },
  {
   "cell_type": "code",
   "execution_count": null,
   "id": "307caa7a-5208-4a61-8a72-2535c189980a",
   "metadata": {},
   "outputs": [],
   "source": []
  }
 ],
 "metadata": {
  "kernelspec": {
   "display_name": "Python 3 (ipykernel)",
   "language": "python",
   "name": "python3"
  },
  "language_info": {
   "codemirror_mode": {
    "name": "ipython",
    "version": 3
   },
   "file_extension": ".py",
   "mimetype": "text/x-python",
   "name": "python",
   "nbconvert_exporter": "python",
   "pygments_lexer": "ipython3",
   "version": "3.9.18"
  }
 },
 "nbformat": 4,
 "nbformat_minor": 5
}
