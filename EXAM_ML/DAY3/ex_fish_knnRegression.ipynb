{
 "cells": [
  {
   "cell_type": "markdown",
   "id": "a19c4184-1896-4dcd-935f-ece18338b6d5",
   "metadata": {},
   "source": [
    "# 목표 : 무게에 따른 길이를 예측해주는 모델\n",
    "- 데이터 : fish\n",
    "- 피처 : 무게\n",
    "- 라벨 : 길이\n",
    "- 학습방법 : 지도학습 + 예측 => KNN기반의  회귀\n",
    "- 학습/테스트 7:3으로"
   ]
  },
  {
   "cell_type": "code",
   "execution_count": 2,
   "id": "2b0c39b0-1e1c-4515-8868-274aef83b321",
   "metadata": {},
   "outputs": [],
   "source": [
    "import pandas as pd\n",
    "import matplotlib.pyplot as plt\n",
    "import seaborn as sns\n",
    "from sklearn.preprocessing import StandardScaler, MinMaxScaler\n",
    "import numpy as np"
   ]
  },
  {
   "cell_type": "code",
   "execution_count": 60,
   "id": "4ff77595-8943-4e1a-888f-b66a73d5535c",
   "metadata": {
    "scrolled": true
   },
   "outputs": [
    {
     "data": {
      "text/html": [
       "<div>\n",
       "<style scoped>\n",
       "    .dataframe tbody tr th:only-of-type {\n",
       "        vertical-align: middle;\n",
       "    }\n",
       "\n",
       "    .dataframe tbody tr th {\n",
       "        vertical-align: top;\n",
       "    }\n",
       "\n",
       "    .dataframe thead th {\n",
       "        text-align: right;\n",
       "    }\n",
       "</style>\n",
       "<table border=\"1\" class=\"dataframe\">\n",
       "  <thead>\n",
       "    <tr style=\"text-align: right;\">\n",
       "      <th></th>\n",
       "      <th>Species</th>\n",
       "      <th>Weight</th>\n",
       "      <th>Length</th>\n",
       "    </tr>\n",
       "  </thead>\n",
       "  <tbody>\n",
       "    <tr>\n",
       "      <th>0</th>\n",
       "      <td>Bream</td>\n",
       "      <td>242.0</td>\n",
       "      <td>25.4</td>\n",
       "    </tr>\n",
       "    <tr>\n",
       "      <th>1</th>\n",
       "      <td>Bream</td>\n",
       "      <td>290.0</td>\n",
       "      <td>26.3</td>\n",
       "    </tr>\n",
       "    <tr>\n",
       "      <th>2</th>\n",
       "      <td>Bream</td>\n",
       "      <td>340.0</td>\n",
       "      <td>26.5</td>\n",
       "    </tr>\n",
       "    <tr>\n",
       "      <th>3</th>\n",
       "      <td>Bream</td>\n",
       "      <td>363.0</td>\n",
       "      <td>29.0</td>\n",
       "    </tr>\n",
       "    <tr>\n",
       "      <th>4</th>\n",
       "      <td>Bream</td>\n",
       "      <td>430.0</td>\n",
       "      <td>29.0</td>\n",
       "    </tr>\n",
       "    <tr>\n",
       "      <th>...</th>\n",
       "      <td>...</td>\n",
       "      <td>...</td>\n",
       "      <td>...</td>\n",
       "    </tr>\n",
       "    <tr>\n",
       "      <th>154</th>\n",
       "      <td>Smelt</td>\n",
       "      <td>12.2</td>\n",
       "      <td>12.2</td>\n",
       "    </tr>\n",
       "    <tr>\n",
       "      <th>155</th>\n",
       "      <td>Smelt</td>\n",
       "      <td>13.4</td>\n",
       "      <td>12.4</td>\n",
       "    </tr>\n",
       "    <tr>\n",
       "      <th>156</th>\n",
       "      <td>Smelt</td>\n",
       "      <td>12.2</td>\n",
       "      <td>13.0</td>\n",
       "    </tr>\n",
       "    <tr>\n",
       "      <th>157</th>\n",
       "      <td>Smelt</td>\n",
       "      <td>19.7</td>\n",
       "      <td>14.3</td>\n",
       "    </tr>\n",
       "    <tr>\n",
       "      <th>158</th>\n",
       "      <td>Smelt</td>\n",
       "      <td>19.9</td>\n",
       "      <td>15.0</td>\n",
       "    </tr>\n",
       "  </tbody>\n",
       "</table>\n",
       "<p>159 rows × 3 columns</p>\n",
       "</div>"
      ],
      "text/plain": [
       "    Species  Weight  Length\n",
       "0     Bream   242.0    25.4\n",
       "1     Bream   290.0    26.3\n",
       "2     Bream   340.0    26.5\n",
       "3     Bream   363.0    29.0\n",
       "4     Bream   430.0    29.0\n",
       "..      ...     ...     ...\n",
       "154   Smelt    12.2    12.2\n",
       "155   Smelt    13.4    12.4\n",
       "156   Smelt    12.2    13.0\n",
       "157   Smelt    19.7    14.3\n",
       "158   Smelt    19.9    15.0\n",
       "\n",
       "[159 rows x 3 columns]"
      ]
     },
     "execution_count": 60,
     "metadata": {},
     "output_type": "execute_result"
    }
   ],
   "source": [
    "data_file = \"../data/fish.csv\"\n",
    "perchDF = pd.read_csv(data_file, usecols=[0, 1, 2]) \n",
    "\n",
    "perchDF"
   ]
  },
  {
   "cell_type": "code",
   "execution_count": 61,
   "id": "fcf49cce-a571-4e2f-be5a-e32dee7656f0",
   "metadata": {},
   "outputs": [],
   "source": [
    "from sklearn.model_selection import train_test_split\n",
    "\n",
    "featureDF = perchDF[[\"Weight\"]]\n",
    "targetSR = perchDF[\"Length\"]"
   ]
  },
  {
   "cell_type": "code",
   "execution_count": 95,
   "id": "1de0484b-5674-44a6-887f-b071d5cbb9d9",
   "metadata": {},
   "outputs": [],
   "source": [
    "X_train, X_test, Y_train, Y_test = train_test_split(featureDF, targetSR, test_size=0.3, random_state=10)"
   ]
  },
  {
   "cell_type": "code",
   "execution_count": 96,
   "id": "912b1f6c-7345-4a84-95ee-29ffdbce2e7e",
   "metadata": {},
   "outputs": [],
   "source": [
    "# 모델 인스턴스 생성 \n",
    "from sklearn.neighbors import KNeighborsRegressor"
   ]
  },
  {
   "cell_type": "code",
   "execution_count": 97,
   "id": "7ad818d8-e581-4e36-adf8-6733241e0208",
   "metadata": {},
   "outputs": [],
   "source": [
    "# 최상의 K찾기\n",
    "# 모델 성능 좌우하는 매개변수 : 하이퍼파라미터\n",
    "# KNN의 하이퍼파라미터 : n_neighbors -> 1 ~ 전체 데이터 수\n",
    "max_k = X_train.shape[0]\n",
    "test_scoreList = []\n",
    "train_scoreList = []\n",
    "for k in range(1,max_k+1):\n",
    "    \n",
    "    model =  KNeighborsRegressor(n_neighbors=k)\n",
    "    model.fit(X_train, Y_train)\n",
    "    \n",
    "    test_scoreList.append(model.score(X_train, Y_train))\n",
    "    train_scoreList.append(model.score(X_test, Y_test))"
   ]
  },
  {
   "cell_type": "code",
   "execution_count": 98,
   "id": "6e1ba1eb-15d6-405f-afa1-b8b5c5e5a438",
   "metadata": {},
   "outputs": [
    {
     "data": {
      "image/png": "[encoded data removed]",
      "text/plain": [
       "<Figure size 640x480 with 1 Axes>"
      ]
     },
     "metadata": {},
     "output_type": "display_data"
    }
   ],
   "source": [
    "# K 갯수에  따른 학습용/테스트용 점수 시각화\n",
    "plt.plot(train_scoreList, \"b--\", label = \"Train Score\")\n",
    "plt.plot(test_scoreList, \"r-\", label = \"Test Score\")\n",
    "plt.title(\"K & Score\")\n",
    "plt.xlabel(\"K\")\n",
    "plt.ylabel(\"Score\")\n",
    "plt.legend()\n",
    "plt.grid()\n",
    "plt.show()"
   ]
  },
  {
   "cell_type": "code",
   "execution_count": 99,
   "id": "0e75ca60-02ec-46e7-ba53-2fb98533f3ca",
   "metadata": {},
   "outputs": [],
   "source": [
    "model = KNeighborsRegressor(n_neighbors=10)"
   ]
  },
  {
   "cell_type": "code",
   "execution_count": 100,
   "id": "d0b08d91-cd7a-450f-83af-2f63ca25793f",
   "metadata": {},
   "outputs": [
    {
     "data": {
      "text/html": [
       "<style>#sk-container-id-6 {color: black;}#sk-container-id-6 pre{padding: 0;}#sk-container-id-6 div.sk-toggleable {background-color: white;}#sk-container-id-6 label.sk-toggleable__label {cursor: pointer;display: block;width: 100%;margin-bottom: 0;padding: 0.3em;box-sizing: border-box;text-align: center;}#sk-container-id-6 label.sk-toggleable__label-arrow:before {content: \"▸\";float: left;margin-right: 0.25em;color: #696969;}#sk-container-id-6 label.sk-toggleable__label-arrow:hover:before {color: black;}#sk-container-id-6 div.sk-estimator:hover label.sk-toggleable__label-arrow:before {color: black;}#sk-container-id-6 div.sk-toggleable__content {max-height: 0;max-width: 0;overflow: hidden;text-align: left;background-color: #f0f8ff;}#sk-container-id-6 div.sk-toggleable__content pre {margin: 0.2em;color: black;border-radius: 0.25em;background-color: #f0f8ff;}#sk-container-id-6 input.sk-toggleable__control:checked~div.sk-toggleable__content {max-height: 200px;max-width: 100%;overflow: auto;}#sk-container-id-6 input.sk-toggleable__control:checked~label.sk-toggleable__label-arrow:before {content: \"▾\";}#sk-container-id-6 div.sk-estimator input.sk-toggleable__control:checked~label.sk-toggleable__label {background-color: #d4ebff;}#sk-container-id-6 div.sk-label input.sk-toggleable__control:checked~label.sk-toggleable__label {background-color: #d4ebff;}#sk-container-id-6 input.sk-hidden--visually {border: 0;clip: rect(1px 1px 1px 1px);clip: rect(1px, 1px, 1px, 1px);height: 1px;margin: -1px;overflow: hidden;padding: 0;position: absolute;width: 1px;}#sk-container-id-6 div.sk-estimator {font-family: monospace;background-color: #f0f8ff;border: 1px dotted black;border-radius: 0.25em;box-sizing: border-box;margin-bottom: 0.5em;}#sk-container-id-6 div.sk-estimator:hover {background-color: #d4ebff;}#sk-container-id-6 div.sk-parallel-item::after {content: \"\";width: 100%;border-bottom: 1px solid gray;flex-grow: 1;}#sk-container-id-6 div.sk-label:hover label.sk-toggleable__label {background-color: #d4ebff;}#sk-container-id-6 div.sk-serial::before {content: \"\";position: absolute;border-left: 1px solid gray;box-sizing: border-box;top: 0;bottom: 0;left: 50%;z-index: 0;}#sk-container-id-6 div.sk-serial {display: flex;flex-direction: column;align-items: center;background-color: white;padding-right: 0.2em;padding-left: 0.2em;position: relative;}#sk-container-id-6 div.sk-item {position: relative;z-index: 1;}#sk-container-id-6 div.sk-parallel {display: flex;align-items: stretch;justify-content: center;background-color: white;position: relative;}#sk-container-id-6 div.sk-item::before, #sk-container-id-6 div.sk-parallel-item::before {content: \"\";position: absolute;border-left: 1px solid gray;box-sizing: border-box;top: 0;bottom: 0;left: 50%;z-index: -1;}#sk-container-id-6 div.sk-parallel-item {display: flex;flex-direction: column;z-index: 1;position: relative;background-color: white;}#sk-container-id-6 div.sk-parallel-item:first-child::after {align-self: flex-end;width: 50%;}#sk-container-id-6 div.sk-parallel-item:last-child::after {align-self: flex-start;width: 50%;}#sk-container-id-6 div.sk-parallel-item:only-child::after {width: 0;}#sk-container-id-6 div.sk-dashed-wrapped {border: 1px dashed gray;margin: 0 0.4em 0.5em 0.4em;box-sizing: border-box;padding-bottom: 0.4em;background-color: white;}#sk-container-id-6 div.sk-label label {font-family: monospace;font-weight: bold;display: inline-block;line-height: 1.2em;}#sk-container-id-6 div.sk-label-container {text-align: center;}#sk-container-id-6 div.sk-container {/* jupyter's `normalize.less` sets `[hidden] { display: none; }` but bootstrap.min.css set `[hidden] { display: none !important; }` so we also need the `!important` here to be able to override the default hidden behavior on the sphinx rendered scikit-learn.org. See: https://github.com/scikit-learn/scikit-learn/issues/21755 */display: inline-block !important;position: relative;}#sk-container-id-6 div.sk-text-repr-fallback {display: none;}</style><div id=\"sk-container-id-6\" class=\"sk-top-container\"><div class=\"sk-text-repr-fallback\"><pre>KNeighborsRegressor(n_neighbors=10)</pre><b>In a Jupyter environment, please rerun this cell to show the HTML representation or trust the notebook. <br />On GitHub, the HTML representation is unable to render, please try loading this page with nbviewer.org.</b></div><div class=\"sk-container\" hidden><div class=\"sk-item\"><div class=\"sk-estimator sk-toggleable\"><input class=\"sk-toggleable__control sk-hidden--visually\" id=\"sk-estimator-id-6\" type=\"checkbox\" checked><label for=\"sk-estimator-id-6\" class=\"sk-toggleable__label sk-toggleable__label-arrow\">KNeighborsRegressor</label><div class=\"sk-toggleable__content\"><pre>KNeighborsRegressor(n_neighbors=10)</pre></div></div></div></div></div>"
      ],
      "text/plain": [
       "KNeighborsRegressor(n_neighbors=10)"
      ]
     },
     "execution_count": 100,
     "metadata": {},
     "output_type": "execute_result"
    }
   ],
   "source": [
    "model.fit(X_train, Y_train)"
   ]
  },
  {
   "cell_type": "code",
   "execution_count": 101,
   "id": "8f625033-1f30-461d-94c2-d85737f9911e",
   "metadata": {},
   "outputs": [
    {
     "data": {
      "text/plain": [
       "1"
      ]
     },
     "execution_count": 101,
     "metadata": {},
     "output_type": "execute_result"
    }
   ],
   "source": [
    "model.n_features_in_"
   ]
  },
  {
   "cell_type": "code",
   "execution_count": 102,
   "id": "a6c12fe0-46f5-4821-88c6-cf8a871169f7",
   "metadata": {},
   "outputs": [],
   "source": [
    "# 학습 후 속성 확인\n",
    "# print(f\"피처에 할당되는 가중치 계수 : {model.coef_}\") # 계수\n",
    "# print(f\"수식에 사용되는 절편 계수 : {model.intercept_}\") # 절편 "
   ]
  },
  {
   "cell_type": "code",
   "execution_count": 103,
   "id": "91a3d3e6-3254-4228-85e4-c8b2db89f025",
   "metadata": {},
   "outputs": [
    {
     "data": {
      "image/png": "[encoded data removed]",
      "text/plain": [
       "<Figure size 640x480 with 1 Axes>"
      ]
     },
     "metadata": {},
     "output_type": "display_data"
    }
   ],
   "source": [
    "# 무게와 길이에 대한 시각화 \n",
    "plt.plot(perchDF.Weight, perchDF.Length, \"go\")\n",
    "plt.xlabel(\"Weight\")\n",
    "plt.ylabel(\"Length\")\n",
    "plt.title(\"Weight & Length\")\n",
    "# x = np.arange(0, 1000)     \n",
    "# y = x*model.coef_ + model.intercept_          \n",
    "# plt.plot(x, y)\n",
    "plt.show()"
   ]
  },
  {
   "cell_type": "markdown",
   "id": "05c28f6b-7526-4fc7-959f-f489abd01953",
   "metadata": {},
   "source": [
    "## 테스트"
   ]
  },
  {
   "cell_type": "code",
   "execution_count": 104,
   "id": "8e1a9c88-193a-4861-86db-fc887426a8ff",
   "metadata": {},
   "outputs": [],
   "source": [
    "# 결정계수 R2 즉, 얼마나 정답에 가깝게 근사하게 결과를 예측했는지를 나타내는 계수값 \n",
    "# 범위 : 0.0 ~ 1.0 \n",
    "# 1.0에 가까울수록 잘 만들어진 모델(적합한 수식)\n",
    "train_score = model.score(X_train, Y_train)\n",
    "test_score = model.score(X_test, Y_test)"
   ]
  },
  {
   "cell_type": "code",
   "execution_count": 105,
   "id": "081b2f89-6586-4c54-ab05-836d655d26cd",
   "metadata": {},
   "outputs": [
    {
     "name": "stdout",
     "output_type": "stream",
     "text": [
      "train_score : 0.8859108285111817, test_score : 0.8712592386983775\n"
     ]
    }
   ],
   "source": [
    "print(f\"train_score : {train_score}, test_score : {test_score}\")"
   ]
  },
  {
   "cell_type": "code",
   "execution_count": 106,
   "id": "d988720f-c2ff-4d4e-8323-f68f0fe7d133",
   "metadata": {},
   "outputs": [
    {
     "data": {
      "text/plain": [
       "array([14.6, 21.5, 22.5, 35.4, 30.3, 23.2, 24.5, 32.5, 35.4, 28.2, 24.5,\n",
       "       19.2, 21.5, 36.2, 19.2, 11.8, 25.5, 29. , 23.2, 23.4, 35. , 22. ,\n",
       "       12.2, 30.3, 35.8, 22.2, 21. , 28.2, 32.5, 12.4, 21.5, 28.2, 41. ,\n",
       "       22.5, 22. , 31.1, 37.1, 33.5, 28.2, 12.4, 12.4, 41. , 38.6, 41. ,\n",
       "       27.5, 29. , 30.3, 20.8])"
      ]
     },
     "execution_count": 106,
     "metadata": {},
     "output_type": "execute_result"
    }
   ],
   "source": [
    "y_pre = model.predict(X_test)\n",
    "y_pre = np.round(y_pre, 1)\n",
    "y_pre"
   ]
  },
  {
   "cell_type": "code",
   "execution_count": 107,
   "id": "a061c6cb-fa42-4b88-8813-8c602972e48e",
   "metadata": {
    "scrolled": true
   },
   "outputs": [
    {
     "data": {
      "text/plain": [
       "35      0.5\n",
       "85      0.2\n",
       "47      0.0\n",
       "24      0.4\n",
       "129    -3.7\n",
       "95     -0.3\n",
       "128    -7.8\n",
       "10      1.5\n",
       "58      4.4\n",
       "104     0.7\n",
       "69      1.5\n",
       "63      1.5\n",
       "39      1.5\n",
       "20      2.2\n",
       "38     -0.6\n",
       "151     0.0\n",
       "101    -1.0\n",
       "1       2.7\n",
       "67      2.5\n",
       "99     -1.6\n",
       "19      1.5\n",
       "97     -2.0\n",
       "157    -2.1\n",
       "102     3.0\n",
       "21      1.8\n",
       "43      0.2\n",
       "83      0.0\n",
       "56      1.7\n",
       "134   -10.0\n",
       "147     1.8\n",
       "87     -0.5\n",
       "70      3.2\n",
       "124    -2.0\n",
       "49     -0.9\n",
       "68      0.5\n",
       "2       4.6\n",
       "59      0.7\n",
       "137   -11.5\n",
       "55      2.2\n",
       "152     0.6\n",
       "72      4.0\n",
       "127    -3.0\n",
       "118    -0.4\n",
       "60      1.0\n",
       "103     0.0\n",
       "52      3.0\n",
       "130    -4.7\n",
       "82     -0.2\n",
       "Name: Length, dtype: float64"
      ]
     },
     "execution_count": 107,
     "metadata": {},
     "output_type": "execute_result"
    }
   ],
   "source": [
    "# 오차계산 => 예측값 - 정답\n",
    "errorSR = y_pre - Y_test\n",
    "errorSR"
   ]
  },
  {
   "cell_type": "code",
   "execution_count": 108,
   "id": "0284ef86-51a3-40b5-8e0f-9761b85a3f73",
   "metadata": {},
   "outputs": [
    {
     "data": {
      "text/plain": [
       "4"
      ]
     },
     "execution_count": 108,
     "metadata": {},
     "output_type": "execute_result"
    }
   ],
   "source": [
    "# 맞는 거 몇개 인지 보자요 -> 분류가 아니라 정확하게 맞을 필요 x \n",
    "errorSR[y_pre - Y_test == 0.0].count()"
   ]
  },
  {
   "cell_type": "markdown",
   "id": "3b3084dd-8533-4bd4-a53e-2634eb2dc3ee",
   "metadata": {},
   "source": [
    "## 성능 평가"
   ]
  },
  {
   "cell_type": "code",
   "execution_count": 109,
   "id": "b155abe5-a203-435c-8ec4-0b7418394f67",
   "metadata": {},
   "outputs": [],
   "source": [
    "from sklearn.metrics import mean_absolute_error, mean_squared_error,r2_score # 모델을 만든 후 성능 평가를 위한 기능 "
   ]
  },
  {
   "cell_type": "code",
   "execution_count": 110,
   "id": "0ec71d13-c7ca-4df6-8e25-9f0bd747b3cb",
   "metadata": {},
   "outputs": [
    {
     "data": {
      "text/plain": [
       "0.8709939346788143"
      ]
     },
     "execution_count": 110,
     "metadata": {},
     "output_type": "execute_result"
    }
   ],
   "source": [
    "# 결정 계수 값 1일수록 good\n",
    "r2_score(Y_test, y_pre)"
   ]
  },
  {
   "cell_type": "code",
   "execution_count": 111,
   "id": "9c3d32a6-f8b9-44c7-830c-4def471b945c",
   "metadata": {},
   "outputs": [
    {
     "data": {
      "text/plain": [
       "2.11875"
      ]
     },
     "execution_count": 111,
     "metadata": {},
     "output_type": "execute_result"
    }
   ],
   "source": [
    "# 평균제곱 오차\n",
    "mean_absolute_error(Y_test, y_pre)"
   ]
  },
  {
   "cell_type": "markdown",
   "id": "c7625ea0-6d50-4b80-8492-8141251d596c",
   "metadata": {},
   "source": [
    "- 제대로 만들어진 모델인지 확인하는 과정\n",
    "> 훈련용 데이터에 대한 점수\n",
    "> 테스트용 데이터에 대한 점수\n",
    "> 훈련점수와 테스트점수 비교\n",
    "> - 훈련점수 >> 테스트 점수 : 과대 적합\n",
    "> - 훈련점수 $ \\cong $ 테스트 점수 : 최적 적합\n",
    "> - 훈련점수 ▼, 테스트 점수 ▼ : 과소 적합"
   ]
  },
  {
   "cell_type": "code",
   "execution_count": null,
   "id": "fbc16873-bae7-4e50-a4c9-ebd8c28ce6a5",
   "metadata": {},
   "outputs": [],
   "source": []
  },
  {
   "cell_type": "code",
   "execution_count": null,
   "id": "83e85271-0702-4ba7-948b-972417a7f4f7",
   "metadata": {},
   "outputs": [],
   "source": []
  },
  {
   "cell_type": "code",
   "execution_count": null,
   "id": "8c1d6d92-016f-4d2f-9619-df0eec239d47",
   "metadata": {},
   "outputs": [],
   "source": []
  },
  {
   "cell_type": "code",
   "execution_count": null,
   "id": "a718c1e4-31b9-4454-9d11-aa135861e2e4",
   "metadata": {},
   "outputs": [],
   "source": []
  }
 ],
 "metadata": {
  "kernelspec": {
   "display_name": "Python 3 (ipykernel)",
   "language": "python",
   "name": "python3"
  },
  "language_info": {
   "codemirror_mode": {
    "name": "ipython",
    "version": 3
   },
   "file_extension": ".py",
   "mimetype": "text/x-python",
   "name": "python",
   "nbconvert_exporter": "python",
   "pygments_lexer": "ipython3",
   "version": "3.9.18"
  }
 },
 "nbformat": 4,
 "nbformat_minor": 5
}
