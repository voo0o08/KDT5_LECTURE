{
 "cells": [
  {
   "cell_type": "markdown",
   "source": [
    "# 과제 : 전처리 함수 만들기 "
   ],
   "metadata": {
    "collapsed": false
   },
   "id": "d0e1e75c49db0e08"
  },
  {
   "cell_type": "code",
   "outputs": [],
   "source": [
    "from text import TEXT"
   ],
   "metadata": {
    "collapsed": false,
    "ExecuteTime": {
     "end_time": "2024-03-30T10:26:53.880073600Z",
     "start_time": "2024-03-30T10:26:53.859668700Z"
    }
   },
   "id": "7b52b7c7a2b336ab",
   "execution_count": 1
  },
  {
   "cell_type": "code",
   "outputs": [
    {
     "name": "stdout",
     "output_type": "stream",
     "text": [
      "After reading the comments for this movie, I am not sure whether I should be angry, sad or sickened. Seeing comments typical of people who a)know absolutely nothing about the military or b)who base everything they think they know on movies like this or on CNN reports about Abu-Gharib makes me wonder about the state of intellectual stimulation in the world. At the time I type this the number of people in the US military: 1.4 million on Active Duty with another almost 900,000 in the Guard and Reserves for a total of roughly 2.3 million. The number of people indicted for abuses at at Abu-Gharib: Currently less than 20 That makes the total of people indicted .00083% of the total military. Even if you indict every single military member that ever stepped in to Abu-Gharib, you would not come close to making that a whole number.  The flaws in this movie would take YEARS to cover. I understand that it's supposed to be sarcastic, but in reality, the writer and director are trying to make commentary about the state of the military without an enemy to fight. In reality, the US military has been at its busiest when there are not conflicts going on. The military is the first called for disaster relief and humanitarian aid missions. When the tsunami hit Indonesia, devestating the region, the US military was the first on the scene. When the chaos of the situation overwhelmed the local governments, it was military leadership who looked at their people, the same people this movie mocks, and said make it happen. Within hours, food aid was reaching isolated villages. Within days, airfields were built, cargo aircraft started landing and a food distribution system was up and running. Hours and days, not weeks and months. Yes there are unscrupulous people in the US military. But then, there are in every walk of life, every occupation. But to see people on this website decide that 2.3 million men and women are all criminal, with nothing on their minds but thoughts of destruction or mayhem is an absolute disservice to the things that they do every day. One person on this website even went so far as to say that military members are in it for personal gain. Wow! Entry level personnel make just under $8.00 an hour assuming a 40 hour work week. Of course, many work much more than 40 hours a week and those in harm's way typically put in 16-18 hour days for months on end. That makes the pay well under minimum wage. So much for personal gain. I beg you, please make yourself familiar with the world around you. Go to a nearby base, get a visitor pass and meet some of the men and women you are so quick to disparage. You would be surprised. The military no longer accepts people in lieu of prison time. They require a minimum of a GED and prefer a high school diploma. The middle ranks are expected to get a minimum of undergraduate degrees and the upper ranks are encouraged to get advanced degrees.\n"
     ]
    }
   ],
   "source": [
    "corpus = TEXT\n",
    "print(corpus)"
   ],
   "metadata": {
    "collapsed": false,
    "ExecuteTime": {
     "end_time": "2024-03-30T10:27:04.102797200Z",
     "start_time": "2024-03-30T10:27:04.093390700Z"
    }
   },
   "id": "61477af51f44a377",
   "execution_count": 2
  },
  {
   "cell_type": "markdown",
   "source": [
    "# 길이가 2 이하인 단어 찾기"
   ],
   "metadata": {
    "collapsed": false
   },
   "id": "40fb10a3a7663471"
  },
  {
   "cell_type": "code",
   "outputs": [],
   "source": [
    "from collections import Counter\n",
    "'''\n",
    "리스트 -> 리스트 내의 요소들이 몇개인지\n",
    "문자열 -> 한글자 한글자가 몇 개인지\n",
    "'''"
   ],
   "metadata": {
    "collapsed": false,
    "ExecuteTime": {
     "end_time": "2024-03-30T10:27:28.526247800Z",
     "start_time": "2024-03-30T10:27:28.518532100Z"
    }
   },
   "id": "f94eb434c5733a0c",
   "execution_count": 3
  },
  {
   "cell_type": "code",
   "outputs": [
    {
     "name": "stdout",
     "output_type": "stream",
     "text": [
      "가장 많이 나온 단어 : [('the', 30), ('.', 28), (',', 21), ('of', 15), ('and', 14), ('to', 13), ('a', 12), ('military', 12), ('in', 12), ('people', 9)]\n"
     ]
    }
   ],
   "source": [
    "# 모듈 로딩\n",
    "from nltk.tokenize import word_tokenize\n",
    "\n",
    "# 전체 단어 토큰 리스트\n",
    "tokenized_words = word_tokenize(corpus)\n",
    "\n",
    "# 파이썬 Counter 모듈로 빈도수 카운트 -> 단어사전 완성!\n",
    "vocab = Counter(tokenized_words)\n",
    "\n",
    "print(f\"가장 많이 나온 단어 : {vocab.most_common(10)}\")"
   ],
   "metadata": {
    "collapsed": false,
    "ExecuteTime": {
     "end_time": "2024-03-30T10:33:08.164550700Z",
     "start_time": "2024-03-30T10:33:08.142781700Z"
    }
   },
   "id": "50387c640de01698",
   "execution_count": 6
  },
  {
   "cell_type": "code",
   "outputs": [
    {
     "name": "stdout",
     "output_type": "stream",
     "text": [
      "빈도수가 2 이하인 단어 수: 234\n",
      "빈도수 3 이상인 토큰 수: 306\n"
     ]
    }
   ],
   "source": [
    "# 빈도수가 2이하인 단어 리스트 추출\n",
    "uncommon_words = [key for key, val in vocab.items() if val <= 2]\n",
    "\n",
    "print('빈도수가 2 이하인 단어 수:', len(uncommon_words))\n",
    "\n",
    "# 빈도수가 2이하인 단어들 제거\n",
    "cleaned_by_freq = [word for word in tokenized_words if word not in uncommon_words]\n",
    "\n",
    "\n",
    "print('빈도수 3 이상인 토큰 수:', len(cleaned_by_freq))"
   ],
   "metadata": {
    "collapsed": false,
    "ExecuteTime": {
     "end_time": "2024-03-30T10:35:44.800980100Z",
     "start_time": "2024-03-30T10:35:44.787897700Z"
    }
   },
   "id": "8ebec7e6ffb61607",
   "execution_count": 8
  },
  {
   "cell_type": "markdown",
   "source": [
    "# 길이가 짧은 단어"
   ],
   "metadata": {
    "collapsed": false
   },
   "id": "35834ebc355d660f"
  },
  {
   "cell_type": "code",
   "outputs": [],
   "source": [
    "# 길이가 2이하인 단어 제거\n",
    "cleaned_by_freq_len = []\n",
    "\n",
    "n = 2\n",
    "for word in cleaned_by_freq:\n",
    "    if len(word) > n:\n",
    "        cleaned_by_freq_len.append(word)"
   ],
   "metadata": {
    "collapsed": false,
    "ExecuteTime": {
     "end_time": "2024-03-30T10:38:04.380429700Z",
     "start_time": "2024-03-30T10:38:04.368646600Z"
    }
   },
   "id": "def9cb3a08fa8046",
   "execution_count": 9
  },
  {
   "cell_type": "code",
   "outputs": [
    {
     "name": "stdout",
     "output_type": "stream",
     "text": [
      "정제 전: ['the', 'for', 'this', 'movie', ',', 'I', 'not', 'I', 'be', ',']\n",
      "정제 후: ['the', 'for', 'this', 'movie', 'not', 'people', 'who', 'about', 'the', 'military']\n"
     ]
    }
   ],
   "source": [
    "# 정제 결과 확인\n",
    "print('정제 전:', cleaned_by_freq[:10])\n",
    "print('정제 후:', cleaned_by_freq_len[:10])"
   ],
   "metadata": {
    "collapsed": false,
    "ExecuteTime": {
     "end_time": "2024-03-30T10:38:10.026280100Z",
     "start_time": "2024-03-30T10:38:10.010918900Z"
    }
   },
   "id": "dab74195987af7aa",
   "execution_count": 10
  },
  {
   "cell_type": "code",
   "outputs": [],
   "source": [],
   "metadata": {
    "collapsed": false
   },
   "id": "1d7745a18cf18787"
  }
 ],
 "metadata": {
  "kernelspec": {
   "display_name": "Python 3",
   "language": "python",
   "name": "python3"
  },
  "language_info": {
   "codemirror_mode": {
    "name": "ipython",
    "version": 2
   },
   "file_extension": ".py",
   "mimetype": "text/x-python",
   "name": "python",
   "nbconvert_exporter": "python",
   "pygments_lexer": "ipython2",
   "version": "2.7.6"
  }
 },
 "nbformat": 4,
 "nbformat_minor": 5
}
