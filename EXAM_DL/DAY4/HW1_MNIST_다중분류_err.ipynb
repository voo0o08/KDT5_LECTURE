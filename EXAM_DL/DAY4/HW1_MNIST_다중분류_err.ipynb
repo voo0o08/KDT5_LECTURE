{
 "cells": [
  {
   "cell_type": "markdown",
   "source": [
    "### one-hot encoding version\n",
    "- 시긔모이드로 해서 에러가 나야하는데 안남 머신러닝할 때 ovr 자동으로 되듯이 그런 느낌인듯\n",
    "- sigmoid() : y = wx+b 결과물 전달 => 반환 : 0.0~1.0 사이 값으로 변환 \n",
    "- softmax() : y = wx+b 여러 개 전달 => 반환 : 여러 개의 결과값의 합이 1.0이 되도록 변환 "
   ],
   "metadata": {
    "collapsed": false
   },
   "id": "70f6381d7ecefe09"
  },
  {
   "cell_type": "code",
   "outputs": [],
   "source": [
    "# 모듈 로딩 \n",
    "import torch # torch 기본 모듈로 텐서 기본 함수들 \n",
    "import torch.nn.functional as F # pytorch 인공 신경망 관련 함수들 "
   ],
   "metadata": {
    "collapsed": false,
    "ExecuteTime": {
     "end_time": "2024-03-14T10:50:38.768267400Z",
     "start_time": "2024-03-14T10:50:37.484232700Z"
    }
   },
   "id": "4dbdd994ec9f3055",
   "execution_count": 1
  },
  {
   "cell_type": "code",
   "outputs": [
    {
     "data": {
      "text/plain": "1"
     },
     "execution_count": 6,
     "metadata": {},
     "output_type": "execute_result"
    }
   ],
   "source": [
    "# output.max(dim=1)[1][0].item() # argmax는 값은 없고 인덱스만 있음"
   ],
   "metadata": {
    "collapsed": false,
    "ExecuteTime": {
     "end_time": "2024-03-14T05:37:29.287298Z",
     "start_time": "2024-03-14T05:37:29.259084400Z"
    }
   },
   "id": "566a46494ce08730",
   "execution_count": 6
  },
  {
   "cell_type": "markdown",
   "source": [
    "# 이미지 데이터 - 이진분류 모델\n",
    "- 데이터셋 : fashion mnist\n",
    "- 피쳐개수 : 28X28 784개\n",
    "- 타겟 개수 : 0~9 티셔츠, 바지, 풀오버 ..."
   ],
   "metadata": {
    "collapsed": false
   },
   "id": "bc4abfebdaf73b7"
  },
  {
   "cell_type": "markdown",
   "source": [
    "## 모듈 로딩 "
   ],
   "metadata": {
    "collapsed": false
   },
   "id": "3dede4f77d934c96"
  },
  {
   "cell_type": "code",
   "outputs": [],
   "source": [
    "from sklearn.datasets import fetch_openml\n",
    "import pandas\n",
    "import numpy as np\n",
    "\n",
    "import torch\n",
    "import torch.nn as nn # linear Regression 기능의 클래스 Linear\n",
    "import torch.nn.functional as F # 손실함수를 위함\n",
    "import torch.optim as optim # 최적화를 위함"
   ],
   "metadata": {
    "collapsed": false,
    "ExecuteTime": {
     "end_time": "2024-03-14T10:51:47.572500400Z",
     "start_time": "2024-03-14T10:51:46.477036200Z"
    }
   },
   "id": "49327cb32df9d67",
   "execution_count": 2
  },
  {
   "cell_type": "markdown",
   "source": [
    "## 데이터 준비"
   ],
   "metadata": {
    "collapsed": false
   },
   "id": "204c0958e8927867"
  },
  {
   "cell_type": "code",
   "outputs": [],
   "source": [
    "fashion_db = 'fashion-mnist'\n",
    "\n",
    "fashion_data = fetch_openml(name = fashion_db, parser='auto')"
   ],
   "metadata": {
    "collapsed": false,
    "ExecuteTime": {
     "end_time": "2024-03-14T10:53:40.468023900Z",
     "start_time": "2024-03-14T10:53:36.306813100Z"
    }
   },
   "id": "8cc44141ccd94324",
   "execution_count": 8
  },
  {
   "cell_type": "code",
   "outputs": [],
   "source": [
    "### 데이터 확인 \n",
    "feature = fashion_data['data']\n",
    "target = fashion_data['target']"
   ],
   "metadata": {
    "collapsed": false,
    "ExecuteTime": {
     "end_time": "2024-03-14T10:53:40.527006900Z",
     "start_time": "2024-03-14T10:53:40.471117500Z"
    }
   },
   "id": "4f4c2e153968395a",
   "execution_count": 9
  },
  {
   "cell_type": "code",
   "outputs": [
    {
     "name": "stdout",
     "output_type": "stream",
     "text": [
      "feares: (70000, 784), 2D\n",
      "target: (70000,), 1D\n"
     ]
    }
   ],
   "source": [
    "# 데이터 피쳐와 타겟 개수 확인 \n",
    "print(f\"feares: {feature.shape}, {feature.ndim}D\")\n",
    "print(f\"target: {target.shape}, {target.ndim}D\")"
   ],
   "metadata": {
    "collapsed": false,
    "ExecuteTime": {
     "end_time": "2024-03-14T10:53:40.544716300Z",
     "start_time": "2024-03-14T10:53:40.517139200Z"
    }
   },
   "id": "b37a8ab5af06cb75",
   "execution_count": 10
  },
  {
   "cell_type": "code",
   "outputs": [
    {
     "name": "stdout",
     "output_type": "stream",
     "text": [
      "feature => ['pixel1', 'pixel2', 'pixel3', 'pixel4', 'pixel5', 'pixel6', 'pixel7', 'pixel8', 'pixel9', 'pixel10', 'pixel11', 'pixel12', 'pixel13', 'pixel14', 'pixel15', 'pixel16', 'pixel17', 'pixel18', 'pixel19', 'pixel20', 'pixel21', 'pixel22', 'pixel23', 'pixel24', 'pixel25', 'pixel26', 'pixel27', 'pixel28', 'pixel29', 'pixel30', 'pixel31', 'pixel32', 'pixel33', 'pixel34', 'pixel35', 'pixel36', 'pixel37', 'pixel38', 'pixel39', 'pixel40', 'pixel41', 'pixel42', 'pixel43', 'pixel44', 'pixel45', 'pixel46', 'pixel47', 'pixel48', 'pixel49', 'pixel50', 'pixel51', 'pixel52', 'pixel53', 'pixel54', 'pixel55', 'pixel56', 'pixel57', 'pixel58', 'pixel59', 'pixel60', 'pixel61', 'pixel62', 'pixel63', 'pixel64', 'pixel65', 'pixel66', 'pixel67', 'pixel68', 'pixel69', 'pixel70', 'pixel71', 'pixel72', 'pixel73', 'pixel74', 'pixel75', 'pixel76', 'pixel77', 'pixel78', 'pixel79', 'pixel80', 'pixel81', 'pixel82', 'pixel83', 'pixel84', 'pixel85', 'pixel86', 'pixel87', 'pixel88', 'pixel89', 'pixel90', 'pixel91', 'pixel92', 'pixel93', 'pixel94', 'pixel95', 'pixel96', 'pixel97', 'pixel98', 'pixel99', 'pixel100', 'pixel101', 'pixel102', 'pixel103', 'pixel104', 'pixel105', 'pixel106', 'pixel107', 'pixel108', 'pixel109', 'pixel110', 'pixel111', 'pixel112', 'pixel113', 'pixel114', 'pixel115', 'pixel116', 'pixel117', 'pixel118', 'pixel119', 'pixel120', 'pixel121', 'pixel122', 'pixel123', 'pixel124', 'pixel125', 'pixel126', 'pixel127', 'pixel128', 'pixel129', 'pixel130', 'pixel131', 'pixel132', 'pixel133', 'pixel134', 'pixel135', 'pixel136', 'pixel137', 'pixel138', 'pixel139', 'pixel140', 'pixel141', 'pixel142', 'pixel143', 'pixel144', 'pixel145', 'pixel146', 'pixel147', 'pixel148', 'pixel149', 'pixel150', 'pixel151', 'pixel152', 'pixel153', 'pixel154', 'pixel155', 'pixel156', 'pixel157', 'pixel158', 'pixel159', 'pixel160', 'pixel161', 'pixel162', 'pixel163', 'pixel164', 'pixel165', 'pixel166', 'pixel167', 'pixel168', 'pixel169', 'pixel170', 'pixel171', 'pixel172', 'pixel173', 'pixel174', 'pixel175', 'pixel176', 'pixel177', 'pixel178', 'pixel179', 'pixel180', 'pixel181', 'pixel182', 'pixel183', 'pixel184', 'pixel185', 'pixel186', 'pixel187', 'pixel188', 'pixel189', 'pixel190', 'pixel191', 'pixel192', 'pixel193', 'pixel194', 'pixel195', 'pixel196', 'pixel197', 'pixel198', 'pixel199', 'pixel200', 'pixel201', 'pixel202', 'pixel203', 'pixel204', 'pixel205', 'pixel206', 'pixel207', 'pixel208', 'pixel209', 'pixel210', 'pixel211', 'pixel212', 'pixel213', 'pixel214', 'pixel215', 'pixel216', 'pixel217', 'pixel218', 'pixel219', 'pixel220', 'pixel221', 'pixel222', 'pixel223', 'pixel224', 'pixel225', 'pixel226', 'pixel227', 'pixel228', 'pixel229', 'pixel230', 'pixel231', 'pixel232', 'pixel233', 'pixel234', 'pixel235', 'pixel236', 'pixel237', 'pixel238', 'pixel239', 'pixel240', 'pixel241', 'pixel242', 'pixel243', 'pixel244', 'pixel245', 'pixel246', 'pixel247', 'pixel248', 'pixel249', 'pixel250', 'pixel251', 'pixel252', 'pixel253', 'pixel254', 'pixel255', 'pixel256', 'pixel257', 'pixel258', 'pixel259', 'pixel260', 'pixel261', 'pixel262', 'pixel263', 'pixel264', 'pixel265', 'pixel266', 'pixel267', 'pixel268', 'pixel269', 'pixel270', 'pixel271', 'pixel272', 'pixel273', 'pixel274', 'pixel275', 'pixel276', 'pixel277', 'pixel278', 'pixel279', 'pixel280', 'pixel281', 'pixel282', 'pixel283', 'pixel284', 'pixel285', 'pixel286', 'pixel287', 'pixel288', 'pixel289', 'pixel290', 'pixel291', 'pixel292', 'pixel293', 'pixel294', 'pixel295', 'pixel296', 'pixel297', 'pixel298', 'pixel299', 'pixel300', 'pixel301', 'pixel302', 'pixel303', 'pixel304', 'pixel305', 'pixel306', 'pixel307', 'pixel308', 'pixel309', 'pixel310', 'pixel311', 'pixel312', 'pixel313', 'pixel314', 'pixel315', 'pixel316', 'pixel317', 'pixel318', 'pixel319', 'pixel320', 'pixel321', 'pixel322', 'pixel323', 'pixel324', 'pixel325', 'pixel326', 'pixel327', 'pixel328', 'pixel329', 'pixel330', 'pixel331', 'pixel332', 'pixel333', 'pixel334', 'pixel335', 'pixel336', 'pixel337', 'pixel338', 'pixel339', 'pixel340', 'pixel341', 'pixel342', 'pixel343', 'pixel344', 'pixel345', 'pixel346', 'pixel347', 'pixel348', 'pixel349', 'pixel350', 'pixel351', 'pixel352', 'pixel353', 'pixel354', 'pixel355', 'pixel356', 'pixel357', 'pixel358', 'pixel359', 'pixel360', 'pixel361', 'pixel362', 'pixel363', 'pixel364', 'pixel365', 'pixel366', 'pixel367', 'pixel368', 'pixel369', 'pixel370', 'pixel371', 'pixel372', 'pixel373', 'pixel374', 'pixel375', 'pixel376', 'pixel377', 'pixel378', 'pixel379', 'pixel380', 'pixel381', 'pixel382', 'pixel383', 'pixel384', 'pixel385', 'pixel386', 'pixel387', 'pixel388', 'pixel389', 'pixel390', 'pixel391', 'pixel392', 'pixel393', 'pixel394', 'pixel395', 'pixel396', 'pixel397', 'pixel398', 'pixel399', 'pixel400', 'pixel401', 'pixel402', 'pixel403', 'pixel404', 'pixel405', 'pixel406', 'pixel407', 'pixel408', 'pixel409', 'pixel410', 'pixel411', 'pixel412', 'pixel413', 'pixel414', 'pixel415', 'pixel416', 'pixel417', 'pixel418', 'pixel419', 'pixel420', 'pixel421', 'pixel422', 'pixel423', 'pixel424', 'pixel425', 'pixel426', 'pixel427', 'pixel428', 'pixel429', 'pixel430', 'pixel431', 'pixel432', 'pixel433', 'pixel434', 'pixel435', 'pixel436', 'pixel437', 'pixel438', 'pixel439', 'pixel440', 'pixel441', 'pixel442', 'pixel443', 'pixel444', 'pixel445', 'pixel446', 'pixel447', 'pixel448', 'pixel449', 'pixel450', 'pixel451', 'pixel452', 'pixel453', 'pixel454', 'pixel455', 'pixel456', 'pixel457', 'pixel458', 'pixel459', 'pixel460', 'pixel461', 'pixel462', 'pixel463', 'pixel464', 'pixel465', 'pixel466', 'pixel467', 'pixel468', 'pixel469', 'pixel470', 'pixel471', 'pixel472', 'pixel473', 'pixel474', 'pixel475', 'pixel476', 'pixel477', 'pixel478', 'pixel479', 'pixel480', 'pixel481', 'pixel482', 'pixel483', 'pixel484', 'pixel485', 'pixel486', 'pixel487', 'pixel488', 'pixel489', 'pixel490', 'pixel491', 'pixel492', 'pixel493', 'pixel494', 'pixel495', 'pixel496', 'pixel497', 'pixel498', 'pixel499', 'pixel500', 'pixel501', 'pixel502', 'pixel503', 'pixel504', 'pixel505', 'pixel506', 'pixel507', 'pixel508', 'pixel509', 'pixel510', 'pixel511', 'pixel512', 'pixel513', 'pixel514', 'pixel515', 'pixel516', 'pixel517', 'pixel518', 'pixel519', 'pixel520', 'pixel521', 'pixel522', 'pixel523', 'pixel524', 'pixel525', 'pixel526', 'pixel527', 'pixel528', 'pixel529', 'pixel530', 'pixel531', 'pixel532', 'pixel533', 'pixel534', 'pixel535', 'pixel536', 'pixel537', 'pixel538', 'pixel539', 'pixel540', 'pixel541', 'pixel542', 'pixel543', 'pixel544', 'pixel545', 'pixel546', 'pixel547', 'pixel548', 'pixel549', 'pixel550', 'pixel551', 'pixel552', 'pixel553', 'pixel554', 'pixel555', 'pixel556', 'pixel557', 'pixel558', 'pixel559', 'pixel560', 'pixel561', 'pixel562', 'pixel563', 'pixel564', 'pixel565', 'pixel566', 'pixel567', 'pixel568', 'pixel569', 'pixel570', 'pixel571', 'pixel572', 'pixel573', 'pixel574', 'pixel575', 'pixel576', 'pixel577', 'pixel578', 'pixel579', 'pixel580', 'pixel581', 'pixel582', 'pixel583', 'pixel584', 'pixel585', 'pixel586', 'pixel587', 'pixel588', 'pixel589', 'pixel590', 'pixel591', 'pixel592', 'pixel593', 'pixel594', 'pixel595', 'pixel596', 'pixel597', 'pixel598', 'pixel599', 'pixel600', 'pixel601', 'pixel602', 'pixel603', 'pixel604', 'pixel605', 'pixel606', 'pixel607', 'pixel608', 'pixel609', 'pixel610', 'pixel611', 'pixel612', 'pixel613', 'pixel614', 'pixel615', 'pixel616', 'pixel617', 'pixel618', 'pixel619', 'pixel620', 'pixel621', 'pixel622', 'pixel623', 'pixel624', 'pixel625', 'pixel626', 'pixel627', 'pixel628', 'pixel629', 'pixel630', 'pixel631', 'pixel632', 'pixel633', 'pixel634', 'pixel635', 'pixel636', 'pixel637', 'pixel638', 'pixel639', 'pixel640', 'pixel641', 'pixel642', 'pixel643', 'pixel644', 'pixel645', 'pixel646', 'pixel647', 'pixel648', 'pixel649', 'pixel650', 'pixel651', 'pixel652', 'pixel653', 'pixel654', 'pixel655', 'pixel656', 'pixel657', 'pixel658', 'pixel659', 'pixel660', 'pixel661', 'pixel662', 'pixel663', 'pixel664', 'pixel665', 'pixel666', 'pixel667', 'pixel668', 'pixel669', 'pixel670', 'pixel671', 'pixel672', 'pixel673', 'pixel674', 'pixel675', 'pixel676', 'pixel677', 'pixel678', 'pixel679', 'pixel680', 'pixel681', 'pixel682', 'pixel683', 'pixel684', 'pixel685', 'pixel686', 'pixel687', 'pixel688', 'pixel689', 'pixel690', 'pixel691', 'pixel692', 'pixel693', 'pixel694', 'pixel695', 'pixel696', 'pixel697', 'pixel698', 'pixel699', 'pixel700', 'pixel701', 'pixel702', 'pixel703', 'pixel704', 'pixel705', 'pixel706', 'pixel707', 'pixel708', 'pixel709', 'pixel710', 'pixel711', 'pixel712', 'pixel713', 'pixel714', 'pixel715', 'pixel716', 'pixel717', 'pixel718', 'pixel719', 'pixel720', 'pixel721', 'pixel722', 'pixel723', 'pixel724', 'pixel725', 'pixel726', 'pixel727', 'pixel728', 'pixel729', 'pixel730', 'pixel731', 'pixel732', 'pixel733', 'pixel734', 'pixel735', 'pixel736', 'pixel737', 'pixel738', 'pixel739', 'pixel740', 'pixel741', 'pixel742', 'pixel743', 'pixel744', 'pixel745', 'pixel746', 'pixel747', 'pixel748', 'pixel749', 'pixel750', 'pixel751', 'pixel752', 'pixel753', 'pixel754', 'pixel755', 'pixel756', 'pixel757', 'pixel758', 'pixel759', 'pixel760', 'pixel761', 'pixel762', 'pixel763', 'pixel764', 'pixel765', 'pixel766', 'pixel767', 'pixel768', 'pixel769', 'pixel770', 'pixel771', 'pixel772', 'pixel773', 'pixel774', 'pixel775', 'pixel776', 'pixel777', 'pixel778', 'pixel779', 'pixel780', 'pixel781', 'pixel782', 'pixel783', 'pixel784']\n",
      "target name => ['class']\n",
      "categories => None\n",
      "categories => ['9', '0', '3', '2', '7', '5', '1', '6', '4', '8']\n",
      "Categories (10, object): ['0', '1', '2', '3', ..., '6', '7', '8', '9']\n"
     ]
    }
   ],
   "source": [
    "# 분류 확인\n",
    "print(f\"feature => {fashion_data['feature_names']}\")\n",
    "print(f\"target name => {fashion_data['target_names']}\")\n",
    "print(f\"categories => {fashion_data['categories']}\")\n",
    "# 받아올 때 numpy로 받아오면 category로 고유값 확인 가능 \n",
    "# dataframe은 카테고리 무조건 None뜸\n",
    "print(f\"categories => {target.unique()}\")"
   ],
   "metadata": {
    "collapsed": false,
    "ExecuteTime": {
     "end_time": "2024-03-14T10:53:40.563328300Z",
     "start_time": "2024-03-14T10:53:40.532140900Z"
    }
   },
   "id": "19ebd2a1169e2f21",
   "execution_count": 11
  },
  {
   "cell_type": "markdown",
   "source": [
    "## 2. 데이터 가공 및 전처리\n",
    "- 결측치 없음\n",
    "- 이상치 없음\n",
    "- 중복값 없음 \n",
    "- 다중 분류 => 다중 분류\n",
    "- 이미지 크기 맞추기 : 여기서는 필요 없음 28, 28, 1(흑백)\n",
    "- 정규화 : 피쳐 정규화 / 타겟 정규화"
   ],
   "metadata": {
    "collapsed": false
   },
   "id": "aaa633661b885ea0"
  },
  {
   "cell_type": "code",
   "outputs": [
    {
     "data": {
      "text/plain": "       pixel1  pixel2  pixel3  pixel4  pixel5    pixel6  pixel7  pixel8  \\\n0         0.0     0.0     0.0     0.0     0.0  0.000000     0.0     0.0   \n1         0.0     0.0     0.0     0.0     0.0  0.003922     0.0     0.0   \n2         0.0     0.0     0.0     0.0     0.0  0.000000     0.0     0.0   \n3         0.0     0.0     0.0     0.0     0.0  0.000000     0.0     0.0   \n4         0.0     0.0     0.0     0.0     0.0  0.000000     0.0     0.0   \n...       ...     ...     ...     ...     ...       ...     ...     ...   \n69995     0.0     0.0     0.0     0.0     0.0  0.000000     0.0     0.0   \n69996     0.0     0.0     0.0     0.0     0.0  0.000000     0.0     0.0   \n69997     0.0     0.0     0.0     0.0     0.0  0.000000     0.0     0.0   \n69998     0.0     0.0     0.0     0.0     0.0  0.000000     0.0     0.0   \n69999     0.0     0.0     0.0     0.0     0.0  0.000000     0.0     0.0   \n\n         pixel9   pixel10  ...  pixel775  pixel776  pixel777  pixel778  \\\n0      0.000000  0.000000  ...  0.000000  0.000000  0.000000  0.000000   \n1      0.000000  0.000000  ...  0.466667  0.447059  0.509804  0.298039   \n2      0.000000  0.086275  ...  0.000000  0.000000  0.003922  0.000000   \n3      0.129412  0.376471  ...  0.000000  0.000000  0.000000  0.000000   \n4      0.000000  0.000000  ...  0.000000  0.000000  0.000000  0.000000   \n...         ...       ...  ...       ...       ...       ...       ...   \n69995  0.000000  0.000000  ...  0.000000  0.000000  0.000000  0.000000   \n69996  0.000000  0.121569  ...  0.000000  0.000000  0.000000  0.000000   \n69997  0.000000  0.000000  ...  0.105882  0.000000  0.000000  0.000000   \n69998  0.000000  0.000000  ...  0.000000  0.000000  0.000000  0.000000   \n69999  0.000000  0.000000  ...  0.000000  0.000000  0.000000  0.000000   \n\n       pixel779  pixel780  pixel781  pixel782  pixel783  pixel784  \n0           0.0       0.0       0.0       0.0       0.0       0.0  \n1           0.0       0.0       0.0       0.0       0.0       0.0  \n2           0.0       0.0       0.0       0.0       0.0       0.0  \n3           0.0       0.0       0.0       0.0       0.0       0.0  \n4           0.0       0.0       0.0       0.0       0.0       0.0  \n...         ...       ...       ...       ...       ...       ...  \n69995       0.0       0.0       0.0       0.0       0.0       0.0  \n69996       0.0       0.0       0.0       0.0       0.0       0.0  \n69997       0.0       0.0       0.0       0.0       0.0       0.0  \n69998       0.0       0.0       0.0       0.0       0.0       0.0  \n69999       0.0       0.0       0.0       0.0       0.0       0.0  \n\n[70000 rows x 784 columns]",
      "text/html": "<div>\n<style scoped>\n    .dataframe tbody tr th:only-of-type {\n        vertical-align: middle;\n    }\n\n    .dataframe tbody tr th {\n        vertical-align: top;\n    }\n\n    .dataframe thead th {\n        text-align: right;\n    }\n</style>\n<table border=\"1\" class=\"dataframe\">\n  <thead>\n    <tr style=\"text-align: right;\">\n      <th></th>\n      <th>pixel1</th>\n      <th>pixel2</th>\n      <th>pixel3</th>\n      <th>pixel4</th>\n      <th>pixel5</th>\n      <th>pixel6</th>\n      <th>pixel7</th>\n      <th>pixel8</th>\n      <th>pixel9</th>\n      <th>pixel10</th>\n      <th>...</th>\n      <th>pixel775</th>\n      <th>pixel776</th>\n      <th>pixel777</th>\n      <th>pixel778</th>\n      <th>pixel779</th>\n      <th>pixel780</th>\n      <th>pixel781</th>\n      <th>pixel782</th>\n      <th>pixel783</th>\n      <th>pixel784</th>\n    </tr>\n  </thead>\n  <tbody>\n    <tr>\n      <th>0</th>\n      <td>0.0</td>\n      <td>0.0</td>\n      <td>0.0</td>\n      <td>0.0</td>\n      <td>0.0</td>\n      <td>0.000000</td>\n      <td>0.0</td>\n      <td>0.0</td>\n      <td>0.000000</td>\n      <td>0.000000</td>\n      <td>...</td>\n      <td>0.000000</td>\n      <td>0.000000</td>\n      <td>0.000000</td>\n      <td>0.000000</td>\n      <td>0.0</td>\n      <td>0.0</td>\n      <td>0.0</td>\n      <td>0.0</td>\n      <td>0.0</td>\n      <td>0.0</td>\n    </tr>\n    <tr>\n      <th>1</th>\n      <td>0.0</td>\n      <td>0.0</td>\n      <td>0.0</td>\n      <td>0.0</td>\n      <td>0.0</td>\n      <td>0.003922</td>\n      <td>0.0</td>\n      <td>0.0</td>\n      <td>0.000000</td>\n      <td>0.000000</td>\n      <td>...</td>\n      <td>0.466667</td>\n      <td>0.447059</td>\n      <td>0.509804</td>\n      <td>0.298039</td>\n      <td>0.0</td>\n      <td>0.0</td>\n      <td>0.0</td>\n      <td>0.0</td>\n      <td>0.0</td>\n      <td>0.0</td>\n    </tr>\n    <tr>\n      <th>2</th>\n      <td>0.0</td>\n      <td>0.0</td>\n      <td>0.0</td>\n      <td>0.0</td>\n      <td>0.0</td>\n      <td>0.000000</td>\n      <td>0.0</td>\n      <td>0.0</td>\n      <td>0.000000</td>\n      <td>0.086275</td>\n      <td>...</td>\n      <td>0.000000</td>\n      <td>0.000000</td>\n      <td>0.003922</td>\n      <td>0.000000</td>\n      <td>0.0</td>\n      <td>0.0</td>\n      <td>0.0</td>\n      <td>0.0</td>\n      <td>0.0</td>\n      <td>0.0</td>\n    </tr>\n    <tr>\n      <th>3</th>\n      <td>0.0</td>\n      <td>0.0</td>\n      <td>0.0</td>\n      <td>0.0</td>\n      <td>0.0</td>\n      <td>0.000000</td>\n      <td>0.0</td>\n      <td>0.0</td>\n      <td>0.129412</td>\n      <td>0.376471</td>\n      <td>...</td>\n      <td>0.000000</td>\n      <td>0.000000</td>\n      <td>0.000000</td>\n      <td>0.000000</td>\n      <td>0.0</td>\n      <td>0.0</td>\n      <td>0.0</td>\n      <td>0.0</td>\n      <td>0.0</td>\n      <td>0.0</td>\n    </tr>\n    <tr>\n      <th>4</th>\n      <td>0.0</td>\n      <td>0.0</td>\n      <td>0.0</td>\n      <td>0.0</td>\n      <td>0.0</td>\n      <td>0.000000</td>\n      <td>0.0</td>\n      <td>0.0</td>\n      <td>0.000000</td>\n      <td>0.000000</td>\n      <td>...</td>\n      <td>0.000000</td>\n      <td>0.000000</td>\n      <td>0.000000</td>\n      <td>0.000000</td>\n      <td>0.0</td>\n      <td>0.0</td>\n      <td>0.0</td>\n      <td>0.0</td>\n      <td>0.0</td>\n      <td>0.0</td>\n    </tr>\n    <tr>\n      <th>...</th>\n      <td>...</td>\n      <td>...</td>\n      <td>...</td>\n      <td>...</td>\n      <td>...</td>\n      <td>...</td>\n      <td>...</td>\n      <td>...</td>\n      <td>...</td>\n      <td>...</td>\n      <td>...</td>\n      <td>...</td>\n      <td>...</td>\n      <td>...</td>\n      <td>...</td>\n      <td>...</td>\n      <td>...</td>\n      <td>...</td>\n      <td>...</td>\n      <td>...</td>\n      <td>...</td>\n    </tr>\n    <tr>\n      <th>69995</th>\n      <td>0.0</td>\n      <td>0.0</td>\n      <td>0.0</td>\n      <td>0.0</td>\n      <td>0.0</td>\n      <td>0.000000</td>\n      <td>0.0</td>\n      <td>0.0</td>\n      <td>0.000000</td>\n      <td>0.000000</td>\n      <td>...</td>\n      <td>0.000000</td>\n      <td>0.000000</td>\n      <td>0.000000</td>\n      <td>0.000000</td>\n      <td>0.0</td>\n      <td>0.0</td>\n      <td>0.0</td>\n      <td>0.0</td>\n      <td>0.0</td>\n      <td>0.0</td>\n    </tr>\n    <tr>\n      <th>69996</th>\n      <td>0.0</td>\n      <td>0.0</td>\n      <td>0.0</td>\n      <td>0.0</td>\n      <td>0.0</td>\n      <td>0.000000</td>\n      <td>0.0</td>\n      <td>0.0</td>\n      <td>0.000000</td>\n      <td>0.121569</td>\n      <td>...</td>\n      <td>0.000000</td>\n      <td>0.000000</td>\n      <td>0.000000</td>\n      <td>0.000000</td>\n      <td>0.0</td>\n      <td>0.0</td>\n      <td>0.0</td>\n      <td>0.0</td>\n      <td>0.0</td>\n      <td>0.0</td>\n    </tr>\n    <tr>\n      <th>69997</th>\n      <td>0.0</td>\n      <td>0.0</td>\n      <td>0.0</td>\n      <td>0.0</td>\n      <td>0.0</td>\n      <td>0.000000</td>\n      <td>0.0</td>\n      <td>0.0</td>\n      <td>0.000000</td>\n      <td>0.000000</td>\n      <td>...</td>\n      <td>0.105882</td>\n      <td>0.000000</td>\n      <td>0.000000</td>\n      <td>0.000000</td>\n      <td>0.0</td>\n      <td>0.0</td>\n      <td>0.0</td>\n      <td>0.0</td>\n      <td>0.0</td>\n      <td>0.0</td>\n    </tr>\n    <tr>\n      <th>69998</th>\n      <td>0.0</td>\n      <td>0.0</td>\n      <td>0.0</td>\n      <td>0.0</td>\n      <td>0.0</td>\n      <td>0.000000</td>\n      <td>0.0</td>\n      <td>0.0</td>\n      <td>0.000000</td>\n      <td>0.000000</td>\n      <td>...</td>\n      <td>0.000000</td>\n      <td>0.000000</td>\n      <td>0.000000</td>\n      <td>0.000000</td>\n      <td>0.0</td>\n      <td>0.0</td>\n      <td>0.0</td>\n      <td>0.0</td>\n      <td>0.0</td>\n      <td>0.0</td>\n    </tr>\n    <tr>\n      <th>69999</th>\n      <td>0.0</td>\n      <td>0.0</td>\n      <td>0.0</td>\n      <td>0.0</td>\n      <td>0.0</td>\n      <td>0.000000</td>\n      <td>0.0</td>\n      <td>0.0</td>\n      <td>0.000000</td>\n      <td>0.000000</td>\n      <td>...</td>\n      <td>0.000000</td>\n      <td>0.000000</td>\n      <td>0.000000</td>\n      <td>0.000000</td>\n      <td>0.0</td>\n      <td>0.0</td>\n      <td>0.0</td>\n      <td>0.0</td>\n      <td>0.0</td>\n      <td>0.0</td>\n    </tr>\n  </tbody>\n</table>\n<p>70000 rows × 784 columns</p>\n</div>"
     },
     "execution_count": 12,
     "metadata": {},
     "output_type": "execute_result"
    }
   ],
   "source": [
    "# 피쳐 : 784개 색상값 즉, 0~255 범위의 값\n",
    "norm_feature = feature/255\n",
    "norm_feature"
   ],
   "metadata": {
    "collapsed": false,
    "ExecuteTime": {
     "end_time": "2024-03-14T10:53:41.234829700Z",
     "start_time": "2024-03-14T10:53:41.161919100Z"
    }
   },
   "id": "d8e882e26a823e47",
   "execution_count": 12
  },
  {
   "cell_type": "code",
   "outputs": [
    {
     "data": {
      "text/plain": "           0      1      2      3      4      5      6      7      8      9\n0      False  False  False  False  False  False  False  False  False   True\n1       True  False  False  False  False  False  False  False  False  False\n2       True  False  False  False  False  False  False  False  False  False\n3      False  False  False   True  False  False  False  False  False  False\n4       True  False  False  False  False  False  False  False  False  False\n...      ...    ...    ...    ...    ...    ...    ...    ...    ...    ...\n69995  False  False  False  False  False  False  False  False  False   True\n69996  False   True  False  False  False  False  False  False  False  False\n69997  False  False  False  False  False  False  False  False   True  False\n69998  False   True  False  False  False  False  False  False  False  False\n69999  False  False  False  False  False   True  False  False  False  False\n\n[70000 rows x 10 columns]",
      "text/html": "<div>\n<style scoped>\n    .dataframe tbody tr th:only-of-type {\n        vertical-align: middle;\n    }\n\n    .dataframe tbody tr th {\n        vertical-align: top;\n    }\n\n    .dataframe thead th {\n        text-align: right;\n    }\n</style>\n<table border=\"1\" class=\"dataframe\">\n  <thead>\n    <tr style=\"text-align: right;\">\n      <th></th>\n      <th>0</th>\n      <th>1</th>\n      <th>2</th>\n      <th>3</th>\n      <th>4</th>\n      <th>5</th>\n      <th>6</th>\n      <th>7</th>\n      <th>8</th>\n      <th>9</th>\n    </tr>\n  </thead>\n  <tbody>\n    <tr>\n      <th>0</th>\n      <td>False</td>\n      <td>False</td>\n      <td>False</td>\n      <td>False</td>\n      <td>False</td>\n      <td>False</td>\n      <td>False</td>\n      <td>False</td>\n      <td>False</td>\n      <td>True</td>\n    </tr>\n    <tr>\n      <th>1</th>\n      <td>True</td>\n      <td>False</td>\n      <td>False</td>\n      <td>False</td>\n      <td>False</td>\n      <td>False</td>\n      <td>False</td>\n      <td>False</td>\n      <td>False</td>\n      <td>False</td>\n    </tr>\n    <tr>\n      <th>2</th>\n      <td>True</td>\n      <td>False</td>\n      <td>False</td>\n      <td>False</td>\n      <td>False</td>\n      <td>False</td>\n      <td>False</td>\n      <td>False</td>\n      <td>False</td>\n      <td>False</td>\n    </tr>\n    <tr>\n      <th>3</th>\n      <td>False</td>\n      <td>False</td>\n      <td>False</td>\n      <td>True</td>\n      <td>False</td>\n      <td>False</td>\n      <td>False</td>\n      <td>False</td>\n      <td>False</td>\n      <td>False</td>\n    </tr>\n    <tr>\n      <th>4</th>\n      <td>True</td>\n      <td>False</td>\n      <td>False</td>\n      <td>False</td>\n      <td>False</td>\n      <td>False</td>\n      <td>False</td>\n      <td>False</td>\n      <td>False</td>\n      <td>False</td>\n    </tr>\n    <tr>\n      <th>...</th>\n      <td>...</td>\n      <td>...</td>\n      <td>...</td>\n      <td>...</td>\n      <td>...</td>\n      <td>...</td>\n      <td>...</td>\n      <td>...</td>\n      <td>...</td>\n      <td>...</td>\n    </tr>\n    <tr>\n      <th>69995</th>\n      <td>False</td>\n      <td>False</td>\n      <td>False</td>\n      <td>False</td>\n      <td>False</td>\n      <td>False</td>\n      <td>False</td>\n      <td>False</td>\n      <td>False</td>\n      <td>True</td>\n    </tr>\n    <tr>\n      <th>69996</th>\n      <td>False</td>\n      <td>True</td>\n      <td>False</td>\n      <td>False</td>\n      <td>False</td>\n      <td>False</td>\n      <td>False</td>\n      <td>False</td>\n      <td>False</td>\n      <td>False</td>\n    </tr>\n    <tr>\n      <th>69997</th>\n      <td>False</td>\n      <td>False</td>\n      <td>False</td>\n      <td>False</td>\n      <td>False</td>\n      <td>False</td>\n      <td>False</td>\n      <td>False</td>\n      <td>True</td>\n      <td>False</td>\n    </tr>\n    <tr>\n      <th>69998</th>\n      <td>False</td>\n      <td>True</td>\n      <td>False</td>\n      <td>False</td>\n      <td>False</td>\n      <td>False</td>\n      <td>False</td>\n      <td>False</td>\n      <td>False</td>\n      <td>False</td>\n    </tr>\n    <tr>\n      <th>69999</th>\n      <td>False</td>\n      <td>False</td>\n      <td>False</td>\n      <td>False</td>\n      <td>False</td>\n      <td>True</td>\n      <td>False</td>\n      <td>False</td>\n      <td>False</td>\n      <td>False</td>\n    </tr>\n  </tbody>\n</table>\n<p>70000 rows × 10 columns</p>\n</div>"
     },
     "execution_count": 13,
     "metadata": {},
     "output_type": "execute_result"
    }
   ],
   "source": [
    "# [2-2] 정규화 : One-Hot 인코딩으로 변환\n",
    "import pandas as pd\n",
    "pd.get_dummies(target)"
   ],
   "metadata": {
    "collapsed": false,
    "ExecuteTime": {
     "end_time": "2024-03-14T10:53:53.710715500Z",
     "start_time": "2024-03-14T10:53:53.674657700Z"
    }
   },
   "id": "c7f5d4f70ba8d01a",
   "execution_count": 13
  },
  {
   "cell_type": "code",
   "outputs": [],
   "source": [
    "# one-hot 2\n",
    "from sklearn.preprocessing import OneHotEncoder"
   ],
   "metadata": {
    "collapsed": false,
    "ExecuteTime": {
     "end_time": "2024-03-14T10:54:01.207074Z",
     "start_time": "2024-03-14T10:54:01.196200800Z"
    }
   },
   "id": "5b8ddd3638ef091b",
   "execution_count": 14
  },
  {
   "cell_type": "code",
   "outputs": [],
   "source": [
    "targetDF = target.to_frame()"
   ],
   "metadata": {
    "collapsed": false,
    "ExecuteTime": {
     "end_time": "2024-03-14T10:54:51.270606500Z",
     "start_time": "2024-03-14T10:54:51.241284100Z"
    }
   },
   "id": "f2f2813c52c067f9",
   "execution_count": 17
  },
  {
   "cell_type": "code",
   "outputs": [
    {
     "data": {
      "text/plain": "array([[0., 0., 0., ..., 0., 0., 1.],\n       [1., 0., 0., ..., 0., 0., 0.],\n       [1., 0., 0., ..., 0., 0., 0.],\n       ...,\n       [0., 0., 0., ..., 0., 1., 0.],\n       [0., 1., 0., ..., 0., 0., 0.],\n       [0., 0., 0., ..., 0., 0., 0.]])"
     },
     "execution_count": 19,
     "metadata": {},
     "output_type": "execute_result"
    }
   ],
   "source": [
    "# parse_output=False : ndarray 타입으로 반환\n",
    "ohEncoder = OneHotEncoder(sparse_output=False)\n",
    "norm_target = ohEncoder.fit_transform(targetDF) # one-hot encoder 안에는 꼭 2차원 \n",
    "# 라벨 인코딩은 정수로 바꿔줌 \n",
    "norm_target"
   ],
   "metadata": {
    "collapsed": false,
    "ExecuteTime": {
     "end_time": "2024-03-14T10:55:22.600746Z",
     "start_time": "2024-03-14T10:55:22.552241400Z"
    }
   },
   "id": "813b4c3665d9bc78",
   "execution_count": 19
  },
  {
   "cell_type": "code",
   "outputs": [
    {
     "data": {
      "text/plain": "((70000, 10), 2)"
     },
     "execution_count": 20,
     "metadata": {},
     "output_type": "execute_result"
    }
   ],
   "source": [
    "norm_target.shape, norm_target.ndim"
   ],
   "metadata": {
    "collapsed": false,
    "ExecuteTime": {
     "end_time": "2024-03-14T10:55:31.638432400Z",
     "start_time": "2024-03-14T10:55:31.621724900Z"
    }
   },
   "id": "d0cffae3700d50ad",
   "execution_count": 20
  },
  {
   "cell_type": "markdown",
   "source": [
    "- 텐서화 시키기\n",
    "- 데이터 셋 준비 : 훈련용 60000, 테스트용 10000\n",
    "- 학습 방법 : 지도 학습 - 이진 분류 (softmax->but cross_entropy가 다 갖고 있음)\n",
    "- 최적화 방법 : 경사하강법 기반의 방법 (Adam, SDG, )\n",
    "- 손실함수 : 이진분류 손실 계산 함수(cross_entropy)"
   ],
   "metadata": {
    "collapsed": false
   },
   "id": "605f27356c080728"
  },
  {
   "cell_type": "code",
   "outputs": [],
   "source": [
    "### 데이터셋 준비\n",
    "limit = 60000\n",
    "\n",
    "train = norm_feature.iloc[:limit]\n",
    "test = norm_feature.iloc[limit:]"
   ],
   "metadata": {
    "collapsed": false,
    "ExecuteTime": {
     "end_time": "2024-03-14T10:56:52.222836Z",
     "start_time": "2024-03-14T10:56:52.202756300Z"
    }
   },
   "id": "2387a57346ff979d",
   "execution_count": 21
  },
  {
   "cell_type": "code",
   "outputs": [],
   "source": [
    "train_y = norm_target[:limit]\n",
    "test_y = norm_target[limit:]"
   ],
   "metadata": {
    "collapsed": false,
    "ExecuteTime": {
     "end_time": "2024-03-14T10:57:16.636065300Z",
     "start_time": "2024-03-14T10:57:16.610275500Z"
    }
   },
   "id": "486e54e22321b2dc",
   "execution_count": 22
  },
  {
   "cell_type": "code",
   "outputs": [
    {
     "data": {
      "text/plain": "numpy.ndarray"
     },
     "execution_count": 23,
     "metadata": {},
     "output_type": "execute_result"
    }
   ],
   "source": [
    "type(test_y)"
   ],
   "metadata": {
    "collapsed": false,
    "ExecuteTime": {
     "end_time": "2024-03-14T10:57:17.808773600Z",
     "start_time": "2024-03-14T10:57:17.798132500Z"
    }
   },
   "id": "cc4baccb9d13ba0e",
   "execution_count": 23
  },
  {
   "cell_type": "code",
   "outputs": [
    {
     "name": "stdout",
     "output_type": "stream",
     "text": [
      "train: (60000, 784), 2D\n",
      "train_y: (60000, 10), 2D\n"
     ]
    }
   ],
   "source": [
    "print(f\"train: {train.shape}, {train.ndim}D\")\n",
    "print(f\"train_y: {train_y.shape}, {train_y.ndim}D\")\n"
   ],
   "metadata": {
    "collapsed": false,
    "ExecuteTime": {
     "end_time": "2024-03-14T10:57:19.445849800Z",
     "start_time": "2024-03-14T10:57:19.415984100Z"
    }
   },
   "id": "d9fd6b70fdb01078",
   "execution_count": 24
  },
  {
   "cell_type": "code",
   "outputs": [],
   "source": [
    "X_train = torch.FloatTensor(train.values) \n",
    "X_test = torch.FloatTensor(test.values)\n",
    "y_train= torch.FloatTensor(train_y)\n",
    "y_test = torch.FloatTensor(test_y)"
   ],
   "metadata": {
    "collapsed": false,
    "ExecuteTime": {
     "end_time": "2024-03-14T10:57:24.421236200Z",
     "start_time": "2024-03-14T10:57:24.376792800Z"
    }
   },
   "id": "fad17b765834f010",
   "execution_count": 25
  },
  {
   "cell_type": "code",
   "outputs": [
    {
     "name": "stdout",
     "output_type": "stream",
     "text": [
      "X_train: torch.Size([60000, 784]), 2D\n",
      "y_train: torch.Size([60000, 10]), 2D\n",
      "X_test: torch.Size([10000, 784]), 2D\n",
      "y_test: torch.Size([10000, 10]), 2D\n"
     ]
    }
   ],
   "source": [
    "print(f\"X_train: {X_train.shape}, {X_train.ndim}D\")\n",
    "print(f\"y_train: {y_train.shape}, {y_train.ndim}D\")\n",
    "print(f\"X_test: {X_test.shape}, {X_test.ndim}D\")\n",
    "print(f\"y_test: {y_test.shape}, {y_test.ndim}D\")"
   ],
   "metadata": {
    "collapsed": false,
    "ExecuteTime": {
     "end_time": "2024-03-14T10:57:24.763534400Z",
     "start_time": "2024-03-14T10:57:24.744710200Z"
    }
   },
   "id": "72d6b421388ade2b",
   "execution_count": 26
  },
  {
   "cell_type": "code",
   "outputs": [
    {
     "data": {
      "text/plain": "Linear(in_features=784, out_features=10, bias=True)"
     },
     "execution_count": 46,
     "metadata": {},
     "output_type": "execute_result"
    }
   ],
   "source": [
    "# 학습 인스턴스 생성\n",
    "in_, out_ = X_train.shape[1], y_train.shape[1] # 784, 1 -> 원핫 한 걸로 했으면 784, 2\n",
    "model = nn.Linear(in_, out_) # 어제했던 required grad를 얘가 다 해줌 \n",
    "model"
   ],
   "metadata": {
    "collapsed": false,
    "ExecuteTime": {
     "end_time": "2024-03-14T11:02:01.699960Z",
     "start_time": "2024-03-14T11:02:01.685980700Z"
    }
   },
   "id": "4e7f7e90a7d26ab6",
   "execution_count": 46
  },
  {
   "cell_type": "markdown",
   "source": [
    "위에 걸 보고 W를 만드는 것!! "
   ],
   "metadata": {
    "collapsed": false
   },
   "id": "ea75c32fa633f229"
  },
  {
   "cell_type": "code",
   "outputs": [
    {
     "name": "stdout",
     "output_type": "stream",
     "text": [
      "Parameter containing:\n",
      "tensor([[-0.0263,  0.0121,  0.0306,  ...,  0.0302, -0.0110, -0.0224],\n",
      "        [-0.0154,  0.0239,  0.0329,  ...,  0.0280,  0.0102,  0.0215],\n",
      "        [ 0.0090, -0.0061, -0.0125,  ...,  0.0013,  0.0094, -0.0226],\n",
      "        ...,\n",
      "        [-0.0044,  0.0221,  0.0317,  ..., -0.0145,  0.0179, -0.0221],\n",
      "        [ 0.0216, -0.0142, -0.0116,  ...,  0.0206, -0.0042, -0.0213],\n",
      "        [ 0.0292, -0.0095, -0.0047,  ..., -0.0278, -0.0244,  0.0122]],\n",
      "       requires_grad=True)\n",
      "Parameter containing:\n",
      "tensor([ 0.0331,  0.0210, -0.0039,  0.0301,  0.0206, -0.0165, -0.0069,  0.0203,\n",
      "         0.0318,  0.0337], requires_grad=True)\n"
     ]
    }
   ],
   "source": [
    "# parameters는 generator니까 print하고 싶으면 반복문 써야함 \n",
    "for param in model.parameters():\n",
    "    print(param)"
   ],
   "metadata": {
    "collapsed": false,
    "ExecuteTime": {
     "end_time": "2024-03-14T11:02:02.481334100Z",
     "start_time": "2024-03-14T11:02:02.473953200Z"
    }
   },
   "id": "4db17d753fee4143",
   "execution_count": 47
  },
  {
   "cell_type": "code",
   "outputs": [],
   "source": [
    "# 최적화 인스턴스 생성\n",
    "optimizer = optim.Adam(model.parameters()) # model.parameters -> W1, W2, W3...와 bias가 담겨 있음 "
   ],
   "metadata": {
    "collapsed": false,
    "ExecuteTime": {
     "end_time": "2024-03-14T11:02:02.690463900Z",
     "start_time": "2024-03-14T11:02:02.661768400Z"
    }
   },
   "id": "eb051c9c46bfd8f5",
   "execution_count": 48
  },
  {
   "cell_type": "code",
   "outputs": [],
   "source": [
    "# 학습 횟수 => 샘플 처음부터 끝까지 읽는 것 기준으로 횟수 지정\n",
    "EPOCHS = 150"
   ],
   "metadata": {
    "collapsed": false,
    "ExecuteTime": {
     "end_time": "2024-03-14T11:02:02.846775800Z",
     "start_time": "2024-03-14T11:02:02.823593500Z"
    }
   },
   "id": "c8fc8bf9af320835",
   "execution_count": 49
  },
  {
   "cell_type": "markdown",
   "source": [
    "# 4 학습\n",
    "- 반복 횟수 만큼 학습 진행 "
   ],
   "metadata": {
    "collapsed": false
   },
   "id": "caa4de126921623d"
  },
  {
   "cell_type": "code",
   "outputs": [
    {
     "name": "stdout",
     "output_type": "stream",
     "text": [
      "예측값 pre_y => torch.Size([60000, 10])\n",
      "[0] Loss => 0.6951761245727539\n",
      "예측값 pre_y => torch.Size([60000, 10])\n",
      "[1] Loss => 0.6129885911941528\n",
      "예측값 pre_y => torch.Size([60000, 10])\n",
      "[2] Loss => 0.545708179473877\n",
      "예측값 pre_y => torch.Size([60000, 10])\n",
      "[3] Loss => 0.49234718084335327\n",
      "예측값 pre_y => torch.Size([60000, 10])\n",
      "[4] Loss => 0.45124462246894836\n",
      "예측값 pre_y => torch.Size([60000, 10])\n",
      "[5] Loss => 0.42038410902023315\n",
      "예측값 pre_y => torch.Size([60000, 10])\n",
      "[6] Loss => 0.3976997435092926\n",
      "예측값 pre_y => torch.Size([60000, 10])\n",
      "[7] Loss => 0.3812932074069977\n",
      "예측값 pre_y => torch.Size([60000, 10])\n",
      "[8] Loss => 0.3695462644100189\n",
      "예측값 pre_y => torch.Size([60000, 10])\n",
      "[9] Loss => 0.3611501157283783\n",
      "예측값 pre_y => torch.Size([60000, 10])\n",
      "[10] Loss => 0.3550848066806793\n",
      "예측값 pre_y => torch.Size([60000, 10])\n",
      "[11] Loss => 0.35057711601257324\n",
      "예측값 pre_y => torch.Size([60000, 10])\n",
      "[12] Loss => 0.34705352783203125\n",
      "예측값 pre_y => torch.Size([60000, 10])\n",
      "[13] Loss => 0.3440968692302704\n",
      "예측값 pre_y => torch.Size([60000, 10])\n",
      "[14] Loss => 0.3414101302623749\n",
      "예측값 pre_y => torch.Size([60000, 10])\n",
      "[15] Loss => 0.3387874662876129\n",
      "예측값 pre_y => torch.Size([60000, 10])\n",
      "[16] Loss => 0.3360917568206787\n",
      "예측값 pre_y => torch.Size([60000, 10])\n",
      "[17] Loss => 0.3332374095916748\n",
      "예측값 pre_y => torch.Size([60000, 10])\n",
      "[18] Loss => 0.3301776647567749\n",
      "예측값 pre_y => torch.Size([60000, 10])\n",
      "[19] Loss => 0.3268945813179016\n",
      "예측값 pre_y => torch.Size([60000, 10])\n",
      "[20] Loss => 0.32339197397232056\n",
      "예측값 pre_y => torch.Size([60000, 10])\n",
      "[21] Loss => 0.3196897506713867\n",
      "예측값 pre_y => torch.Size([60000, 10])\n",
      "[22] Loss => 0.3158192038536072\n",
      "예측값 pre_y => torch.Size([60000, 10])\n",
      "[23] Loss => 0.3118201494216919\n",
      "예측값 pre_y => torch.Size([60000, 10])\n",
      "[24] Loss => 0.3077377676963806\n",
      "예측값 pre_y => torch.Size([60000, 10])\n",
      "[25] Loss => 0.30361995100975037\n",
      "예측값 pre_y => torch.Size([60000, 10])\n",
      "[26] Loss => 0.2995152771472931\n",
      "예측값 pre_y => torch.Size([60000, 10])\n",
      "[27] Loss => 0.29547083377838135\n",
      "예측값 pre_y => torch.Size([60000, 10])\n",
      "[28] Loss => 0.29152995347976685\n",
      "예측값 pre_y => torch.Size([60000, 10])\n",
      "[29] Loss => 0.2877303659915924\n",
      "예측값 pre_y => torch.Size([60000, 10])\n",
      "[30] Loss => 0.28410229086875916\n",
      "예측값 pre_y => torch.Size([60000, 10])\n",
      "[31] Loss => 0.28066709637641907\n",
      "예측값 pre_y => torch.Size([60000, 10])\n",
      "[32] Loss => 0.2774359881877899\n",
      "예측값 pre_y => torch.Size([60000, 10])\n",
      "[33] Loss => 0.2744100093841553\n",
      "예측값 pre_y => torch.Size([60000, 10])\n",
      "[34] Loss => 0.2715802490711212\n",
      "예측값 pre_y => torch.Size([60000, 10])\n",
      "[35] Loss => 0.2689296007156372\n",
      "예측값 pre_y => torch.Size([60000, 10])\n",
      "[36] Loss => 0.26643452048301697\n",
      "예측값 pre_y => torch.Size([60000, 10])\n",
      "[37] Loss => 0.264068067073822\n",
      "예측값 pre_y => torch.Size([60000, 10])\n",
      "[38] Loss => 0.261802613735199\n",
      "예측값 pre_y => torch.Size([60000, 10])\n",
      "[39] Loss => 0.259612500667572\n",
      "예측값 pre_y => torch.Size([60000, 10])\n",
      "[40] Loss => 0.25747647881507874\n",
      "예측값 pre_y => torch.Size([60000, 10])\n",
      "[41] Loss => 0.2553788125514984\n",
      "예측값 pre_y => torch.Size([60000, 10])\n",
      "[42] Loss => 0.25330984592437744\n",
      "예측값 pre_y => torch.Size([60000, 10])\n",
      "[43] Loss => 0.2512657344341278\n",
      "예측값 pre_y => torch.Size([60000, 10])\n",
      "[44] Loss => 0.24924740195274353\n",
      "예측값 pre_y => torch.Size([60000, 10])\n",
      "[45] Loss => 0.24725927412509918\n",
      "예측값 pre_y => torch.Size([60000, 10])\n",
      "[46] Loss => 0.2453078180551529\n",
      "예측값 pre_y => torch.Size([60000, 10])\n",
      "[47] Loss => 0.24340009689331055\n",
      "예측값 pre_y => torch.Size([60000, 10])\n",
      "[48] Loss => 0.2415425032377243\n",
      "예측값 pre_y => torch.Size([60000, 10])\n",
      "[49] Loss => 0.2397400587797165\n",
      "예측값 pre_y => torch.Size([60000, 10])\n",
      "[50] Loss => 0.23799589276313782\n",
      "예측값 pre_y => torch.Size([60000, 10])\n",
      "[51] Loss => 0.23631098866462708\n",
      "예측값 pre_y => torch.Size([60000, 10])\n",
      "[52] Loss => 0.2346845269203186\n",
      "예측값 pre_y => torch.Size([60000, 10])\n",
      "[53] Loss => 0.23311395943164825\n",
      "예측값 pre_y => torch.Size([60000, 10])\n",
      "[54] Loss => 0.23159557580947876\n",
      "예측값 pre_y => torch.Size([60000, 10])\n",
      "[55] Loss => 0.23012499511241913\n",
      "예측값 pre_y => torch.Size([60000, 10])\n",
      "[56] Loss => 0.22869759798049927\n",
      "예측값 pre_y => torch.Size([60000, 10])\n",
      "[57] Loss => 0.22730888426303864\n",
      "예측값 pre_y => torch.Size([60000, 10])\n",
      "[58] Loss => 0.22595494985580444\n",
      "예측값 pre_y => torch.Size([60000, 10])\n",
      "[59] Loss => 0.2246323972940445\n",
      "예측값 pre_y => torch.Size([60000, 10])\n",
      "[60] Loss => 0.22333869338035583\n",
      "예측값 pre_y => torch.Size([60000, 10])\n",
      "[61] Loss => 0.2220720797777176\n",
      "예측값 pre_y => torch.Size([60000, 10])\n",
      "[62] Loss => 0.22083134949207306\n",
      "예측값 pre_y => torch.Size([60000, 10])\n",
      "[63] Loss => 0.2196158915758133\n",
      "예측값 pre_y => torch.Size([60000, 10])\n",
      "[64] Loss => 0.218425452709198\n",
      "예측값 pre_y => torch.Size([60000, 10])\n",
      "[65] Loss => 0.21725992858409882\n",
      "예측값 pre_y => torch.Size([60000, 10])\n",
      "[66] Loss => 0.2161191999912262\n",
      "예측값 pre_y => torch.Size([60000, 10])\n",
      "[67] Loss => 0.21500317752361298\n",
      "예측값 pre_y => torch.Size([60000, 10])\n",
      "[68] Loss => 0.2139115333557129\n",
      "예측값 pre_y => torch.Size([60000, 10])\n",
      "[69] Loss => 0.21284380555152893\n",
      "예측값 pre_y => torch.Size([60000, 10])\n",
      "[70] Loss => 0.21179930865764618\n",
      "예측값 pre_y => torch.Size([60000, 10])\n",
      "[71] Loss => 0.21077734231948853\n",
      "예측값 pre_y => torch.Size([60000, 10])\n",
      "[72] Loss => 0.20977705717086792\n",
      "예측값 pre_y => torch.Size([60000, 10])\n",
      "[73] Loss => 0.20879755914211273\n",
      "예측값 pre_y => torch.Size([60000, 10])\n",
      "[74] Loss => 0.20783811807632446\n",
      "예측값 pre_y => torch.Size([60000, 10])\n",
      "[75] Loss => 0.2068980187177658\n",
      "예측값 pre_y => torch.Size([60000, 10])\n",
      "[76] Loss => 0.20597662031650543\n",
      "예측값 pre_y => torch.Size([60000, 10])\n",
      "[77] Loss => 0.20507343113422394\n",
      "예측값 pre_y => torch.Size([60000, 10])\n",
      "[78] Loss => 0.20418791472911835\n",
      "예측값 pre_y => torch.Size([60000, 10])\n",
      "[79] Loss => 0.20331971347332\n",
      "예측값 pre_y => torch.Size([60000, 10])\n",
      "[80] Loss => 0.2024683803319931\n",
      "예측값 pre_y => torch.Size([60000, 10])\n",
      "[81] Loss => 0.20163355767726898\n",
      "예측값 pre_y => torch.Size([60000, 10])\n",
      "[82] Loss => 0.20081473886966705\n",
      "예측값 pre_y => torch.Size([60000, 10])\n",
      "[83] Loss => 0.20001152157783508\n",
      "예측값 pre_y => torch.Size([60000, 10])\n",
      "[84] Loss => 0.1992233395576477\n",
      "예측값 pre_y => torch.Size([60000, 10])\n",
      "[85] Loss => 0.1984497457742691\n",
      "예측값 pre_y => torch.Size([60000, 10])\n",
      "[86] Loss => 0.1976901739835739\n",
      "예측값 pre_y => torch.Size([60000, 10])\n",
      "[87] Loss => 0.19694411754608154\n",
      "예측값 pre_y => torch.Size([60000, 10])\n",
      "[88] Loss => 0.19621111452579498\n",
      "예측값 pre_y => torch.Size([60000, 10])\n",
      "[89] Loss => 0.1954907327890396\n",
      "예측값 pre_y => torch.Size([60000, 10])\n",
      "[90] Loss => 0.19478249549865723\n",
      "예측값 pre_y => torch.Size([60000, 10])\n",
      "[91] Loss => 0.19408607482910156\n",
      "예측값 pre_y => torch.Size([60000, 10])\n",
      "[92] Loss => 0.19340114295482635\n",
      "예측값 pre_y => torch.Size([60000, 10])\n",
      "[93] Loss => 0.19272737205028534\n",
      "예측값 pre_y => torch.Size([60000, 10])\n",
      "[94] Loss => 0.19206444919109344\n",
      "예측값 pre_y => torch.Size([60000, 10])\n",
      "[95] Loss => 0.19141215085983276\n",
      "예측값 pre_y => torch.Size([60000, 10])\n",
      "[96] Loss => 0.19077016413211823\n",
      "예측값 pre_y => torch.Size([60000, 10])\n",
      "[97] Loss => 0.19013825058937073\n",
      "예측값 pre_y => torch.Size([60000, 10])\n",
      "[98] Loss => 0.18951614201068878\n",
      "예측값 pre_y => torch.Size([60000, 10])\n",
      "[99] Loss => 0.1889035403728485\n",
      "예측값 pre_y => torch.Size([60000, 10])\n",
      "[100] Loss => 0.18830019235610962\n",
      "예측값 pre_y => torch.Size([60000, 10])\n",
      "[101] Loss => 0.187705859541893\n",
      "예측값 pre_y => torch.Size([60000, 10])\n",
      "[102] Loss => 0.18712027370929718\n",
      "예측값 pre_y => torch.Size([60000, 10])\n",
      "[103] Loss => 0.18654318153858185\n",
      "예측값 pre_y => torch.Size([60000, 10])\n",
      "[104] Loss => 0.1859743446111679\n",
      "예측값 pre_y => torch.Size([60000, 10])\n",
      "[105] Loss => 0.18541356921195984\n",
      "예측값 pre_y => torch.Size([60000, 10])\n",
      "[106] Loss => 0.1848606914281845\n",
      "예측값 pre_y => torch.Size([60000, 10])\n",
      "[107] Loss => 0.18431547284126282\n",
      "예측값 pre_y => torch.Size([60000, 10])\n",
      "[108] Loss => 0.18377774953842163\n",
      "예측값 pre_y => torch.Size([60000, 10])\n",
      "[109] Loss => 0.183247372508049\n",
      "예측값 pre_y => torch.Size([60000, 10])\n",
      "[110] Loss => 0.18272414803504944\n",
      "예측값 pre_y => torch.Size([60000, 10])\n",
      "[111] Loss => 0.18220794200897217\n",
      "예측값 pre_y => torch.Size([60000, 10])\n",
      "[112] Loss => 0.1816985309123993\n",
      "예측값 pre_y => torch.Size([60000, 10])\n",
      "[113] Loss => 0.18119582533836365\n",
      "예측값 pre_y => torch.Size([60000, 10])\n",
      "[114] Loss => 0.18069960176944733\n",
      "예측값 pre_y => torch.Size([60000, 10])\n",
      "[115] Loss => 0.18020975589752197\n",
      "예측값 pre_y => torch.Size([60000, 10])\n",
      "[116] Loss => 0.17972604930400848\n",
      "예측값 pre_y => torch.Size([60000, 10])\n",
      "[117] Loss => 0.1792483925819397\n",
      "예측값 pre_y => torch.Size([60000, 10])\n",
      "[118] Loss => 0.17877662181854248\n",
      "예측값 pre_y => torch.Size([60000, 10])\n",
      "[119] Loss => 0.1783106029033661\n",
      "예측값 pre_y => torch.Size([60000, 10])\n",
      "[120] Loss => 0.17785020172595978\n",
      "예측값 pre_y => torch.Size([60000, 10])\n",
      "[121] Loss => 0.17739532887935638\n",
      "예측값 pre_y => torch.Size([60000, 10])\n",
      "[122] Loss => 0.17694580554962158\n",
      "예측값 pre_y => torch.Size([60000, 10])\n",
      "[123] Loss => 0.1765015721321106\n",
      "예측값 pre_y => torch.Size([60000, 10])\n",
      "[124] Loss => 0.17606249451637268\n",
      "예측값 pre_y => torch.Size([60000, 10])\n",
      "[125] Loss => 0.17562849819660187\n",
      "예측값 pre_y => torch.Size([60000, 10])\n",
      "[126] Loss => 0.1751994490623474\n",
      "예측값 pre_y => torch.Size([60000, 10])\n",
      "[127] Loss => 0.17477525770664215\n",
      "예측값 pre_y => torch.Size([60000, 10])\n",
      "[128] Loss => 0.17435583472251892\n",
      "예측값 pre_y => torch.Size([60000, 10])\n",
      "[129] Loss => 0.17394104599952698\n",
      "예측값 pre_y => torch.Size([60000, 10])\n",
      "[130] Loss => 0.17353080213069916\n",
      "예측값 pre_y => torch.Size([60000, 10])\n",
      "[131] Loss => 0.17312505841255188\n",
      "예측값 pre_y => torch.Size([60000, 10])\n",
      "[132] Loss => 0.1727236807346344\n",
      "예측값 pre_y => torch.Size([60000, 10])\n",
      "[133] Loss => 0.17232659459114075\n",
      "예측값 pre_y => torch.Size([60000, 10])\n",
      "[134] Loss => 0.17193369567394257\n",
      "예측값 pre_y => torch.Size([60000, 10])\n",
      "[135] Loss => 0.17154495418071747\n",
      "예측값 pre_y => torch.Size([60000, 10])\n",
      "[136] Loss => 0.17116022109985352\n",
      "예측값 pre_y => torch.Size([60000, 10])\n",
      "[137] Loss => 0.17077946662902832\n",
      "예측값 pre_y => torch.Size([60000, 10])\n",
      "[138] Loss => 0.17040260136127472\n",
      "예측값 pre_y => torch.Size([60000, 10])\n",
      "[139] Loss => 0.17002956569194794\n",
      "예측값 pre_y => torch.Size([60000, 10])\n",
      "[140] Loss => 0.169660285115242\n",
      "예측값 pre_y => torch.Size([60000, 10])\n",
      "[141] Loss => 0.16929468512535095\n",
      "예측값 pre_y => torch.Size([60000, 10])\n",
      "[142] Loss => 0.16893270611763\n",
      "예측값 pre_y => torch.Size([60000, 10])\n",
      "[143] Loss => 0.16857430338859558\n",
      "예측값 pre_y => torch.Size([60000, 10])\n",
      "[144] Loss => 0.16821937263011932\n",
      "예측값 pre_y => torch.Size([60000, 10])\n",
      "[145] Loss => 0.16786786913871765\n",
      "예측값 pre_y => torch.Size([60000, 10])\n",
      "[146] Loss => 0.1675197333097458\n",
      "예측값 pre_y => torch.Size([60000, 10])\n",
      "[147] Loss => 0.16717489063739777\n",
      "예측값 pre_y => torch.Size([60000, 10])\n",
      "[148] Loss => 0.1668333262205124\n",
      "예측값 pre_y => torch.Size([60000, 10])\n",
      "[149] Loss => 0.1664949357509613\n"
     ]
    }
   ],
   "source": [
    "loss_accuracy=[[], []]\n",
    "\n",
    "for ep in range(EPOCHS):\n",
    "    # 학습\n",
    "    pre_y = model(X_train) # 여기서는 1인지 0인지가 나오는 것이 아니고 W0 + W1x1.. 이 계산의 결과가 나오는 것 \n",
    "    print(f\"예측값 pre_y => {pre_y.shape}\")\n",
    "    \n",
    "    # 분류값 변환\n",
    "    pre_y2 = F.sigmoid(pre_y) \n",
    "    # print(f\"분류값 pre_y2 => {pre_y2}\")\n",
    "    '''\n",
    "    다중한다고 cross entropy를 사용하면 알아서 softmax 포함하고 있음 -> 그래서 해당 코드에서 분류값 변환 부분이 필요가 없는 것 \n",
    "    binary는 그렇지가 않아서 sigmoid 따로 해주는 것 \n",
    "    '''\n",
    "    \n",
    "    # 오차 cost function 계산\n",
    "    loss = F.binary_cross_entropy(pre_y2, y_train)\n",
    "    loss_accuracy[0].append(loss.item())\n",
    "    #  loss_list.append(loss.item())\n",
    "    print(f\"[{ep}] Loss => {loss}\")\n",
    "    \n",
    "    # W, b 업데이트\n",
    "    optimizer.zero_grad() # \n",
    "    loss.backward() # 손실함수 계산 값으로 미분 진행 W, b 계산\n",
    "    optimizer.step() # backward에서 계산 W, b 업데이트\n",
    "    \n",
    "    # 정확도 계산 => 예측값을 0과 1로 변환 => 정답과 비교 \n",
    "    train_accuracy = (y_train == (pre_y2 >= 0.5)).sum() / y_train.shape[0]\n",
    "    loss_accuracy[1].append(train_accuracy.item())"
   ],
   "metadata": {
    "collapsed": false,
    "ExecuteTime": {
     "end_time": "2024-03-14T11:02:09.475769400Z",
     "start_time": "2024-03-14T11:02:03.916811300Z"
    }
   },
   "id": "db873ab8e1588b7a",
   "execution_count": 50
  },
  {
   "cell_type": "code",
   "outputs": [
    {
     "data": {
      "text/plain": "tensor(9.3985)"
     },
     "execution_count": 51,
     "metadata": {},
     "output_type": "execute_result"
    }
   ],
   "source": [
    "(y_train == (pre_y2 >= 0.5)).sum() / y_train.shape[0]"
   ],
   "metadata": {
    "collapsed": false,
    "ExecuteTime": {
     "end_time": "2024-03-14T11:02:09.506470Z",
     "start_time": "2024-03-14T11:02:09.478356200Z"
    }
   },
   "id": "479738cd58442ecf",
   "execution_count": 51
  },
  {
   "cell_type": "code",
   "outputs": [
    {
     "data": {
      "text/plain": "tensor([9, 0, 1,  ..., 3, 0, 5])"
     },
     "execution_count": 52,
     "metadata": {},
     "output_type": "execute_result"
    }
   ],
   "source": [
    "y_train.argmax(dim=1) \n",
    "# 이거 두 개가 같은지 봐야함 \n",
    "pre_y2.argmax(dim=1) "
   ],
   "metadata": {
    "collapsed": false,
    "ExecuteTime": {
     "end_time": "2024-03-14T11:02:09.508503700Z",
     "start_time": "2024-03-14T11:02:09.492259400Z"
    }
   },
   "id": "79fdeb46ee35dad3",
   "execution_count": 52
  },
  {
   "cell_type": "markdown",
   "source": [
    "# 손실과 정확도 시각화"
   ],
   "metadata": {
    "collapsed": false
   },
   "id": "c08e993528c6ab08"
  },
  {
   "cell_type": "code",
   "outputs": [
    {
     "data": {
      "text/plain": "<Figure size 640x480 with 2 Axes>",
      "image/png": "[encoded data removed]"
     },
     "metadata": {},
     "output_type": "display_data"
    }
   ],
   "source": [
    "import matplotlib.pyplot as plt\n",
    "\n",
    "fig, ax1 = plt.subplots()\n",
    "ax1.plot(loss_accuracy[0], label='loss', color=\"g\")\n",
    "\n",
    "ax2 = ax1.twinx()\n",
    "ax2.plot(loss_accuracy[1],label='accuracy', color='r')\n",
    "# plt.plot(loss_accuracy[0], label='loss')\n",
    "# plt.plot(loss_accuracy[1], label='accuracy')\n",
    "\n",
    "ax1.legend(loc='upper left')\n",
    "ax2.legend(loc='upper right')\n",
    "\n",
    "plt.xlabel(\"Epochs\")\n",
    "plt.show()"
   ],
   "metadata": {
    "collapsed": false,
    "ExecuteTime": {
     "end_time": "2024-03-14T11:02:09.719999400Z",
     "start_time": "2024-03-14T11:02:09.519571Z"
    }
   },
   "id": "b46397421840ee0a",
   "execution_count": 53
  },
  {
   "cell_type": "code",
   "outputs": [],
   "source": [],
   "metadata": {
    "collapsed": false
   },
   "id": "a7f3fe8c0c8f9ad6"
  }
 ],
 "metadata": {
  "kernelspec": {
   "display_name": "Python 3",
   "language": "python",
   "name": "python3"
  },
  "language_info": {
   "codemirror_mode": {
    "name": "ipython",
    "version": 2
   },
   "file_extension": ".py",
   "mimetype": "text/x-python",
   "name": "python",
   "nbconvert_exporter": "python",
   "pygments_lexer": "ipython2",
   "version": "2.7.6"
  }
 },
 "nbformat": 4,
 "nbformat_minor": 5
}
