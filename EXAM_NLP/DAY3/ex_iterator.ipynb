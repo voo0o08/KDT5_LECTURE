{
 "cells": [
  {
   "cell_type": "markdown",
   "source": [
    "# [iter 살펴보기]\n",
    "- iterable : for ~ in으로 요소 제어 가능한 자료형, List, Tuple, str, ..., __iter\\__()메소드 가진 자료형\n",
    "- iterator : iter() 함수로 생성, next()메서드를 내장하고 있는 자료형"
   ],
   "metadata": {
    "collapsed": false
   },
   "id": "feda7175c318fedd"
  },
  {
   "cell_type": "code",
   "outputs": [
    {
     "data": {
      "text/plain": "<list_iterator at 0x1bb6cadf8b0>"
     },
     "execution_count": 2,
     "metadata": {},
     "output_type": "execute_result"
    }
   ],
   "source": [
    "a = [10, 20]\n",
    "\n",
    "a.__iter__()\n",
    "# a.__next__() next는 안갖고 있음"
   ],
   "metadata": {
    "collapsed": false,
    "ExecuteTime": {
     "end_time": "2024-04-01T04:44:43.604480900Z",
     "start_time": "2024-04-01T04:44:43.595970300Z"
    }
   },
   "id": "317428d950eecae3",
   "execution_count": 2
  },
  {
   "cell_type": "code",
   "outputs": [
    {
     "name": "stdout",
     "output_type": "stream",
     "text": [
      "[type] -> <class 'list_iterator'>\n"
     ]
    },
    {
     "data": {
      "text/plain": "10"
     },
     "execution_count": 4,
     "metadata": {},
     "output_type": "execute_result"
    }
   ],
   "source": [
    "# iter(데이터) : iterator 인스턴스 생성\n",
    "b = iter(a)\n",
    "print(f\"[type] -> {type(b)}\")\n",
    "b.__next__()"
   ],
   "metadata": {
    "collapsed": false,
    "ExecuteTime": {
     "end_time": "2024-04-01T04:45:30.200331900Z",
     "start_time": "2024-04-01T04:45:30.191565500Z"
    }
   },
   "id": "61bac9854c3b2f8",
   "execution_count": 4
  },
  {
   "cell_type": "code",
   "outputs": [
    {
     "data": {
      "text/plain": "20"
     },
     "execution_count": 5,
     "metadata": {},
     "output_type": "execute_result"
    }
   ],
   "source": [
    "b.__next__()"
   ],
   "metadata": {
    "collapsed": false,
    "ExecuteTime": {
     "end_time": "2024-04-01T04:45:35.059159100Z",
     "start_time": "2024-04-01T04:45:35.035696500Z"
    }
   },
   "id": "64d147293ba20dc7",
   "execution_count": 5
  },
  {
   "cell_type": "code",
   "outputs": [
    {
     "ename": "StopIteration",
     "evalue": "",
     "output_type": "error",
     "traceback": [
      "\u001B[1;31m---------------------------------------------------------------------------\u001B[0m",
      "\u001B[1;31mStopIteration\u001B[0m                             Traceback (most recent call last)",
      "Cell \u001B[1;32mIn[6], line 1\u001B[0m\n\u001B[1;32m----> 1\u001B[0m \u001B[43mb\u001B[49m\u001B[38;5;241;43m.\u001B[39;49m\u001B[38;5;21;43m__next__\u001B[39;49m\u001B[43m(\u001B[49m\u001B[43m)\u001B[49m\n",
      "\u001B[1;31mStopIteration\u001B[0m: "
     ]
    }
   ],
   "source": [
    "b.__next__() # 더없어예... StopIteration 발생 "
   ],
   "metadata": {
    "collapsed": false,
    "ExecuteTime": {
     "end_time": "2024-04-01T04:45:39.068393500Z",
     "start_time": "2024-04-01T04:45:38.557289300Z"
    }
   },
   "id": "3c3dc99ba756f47a",
   "execution_count": 6
  },
  {
   "cell_type": "markdown",
   "source": [
    "class 내에 __iter\\__ O __next\\__O iterator\n",
    "class 내에 __iter\\__O __next\\__X iterable\n",
    "\n",
    "\n",
    "return이 아니라 yield면 generator"
   ],
   "metadata": {
    "collapsed": false
   },
   "id": "e46b849deda25cb1"
  },
  {
   "cell_type": "markdown",
   "source": [
    "# [제너레이터] 함수\n",
    "- 형식 : def 함수명() : yield 반환값 \n",
    "- 코드 실행 후 결과를 반환\n",
    "- 실행 된 상태정보 유지 => 다시 호출되면 이전 실행 정보를 바탕으로 동작\n",
    "- 장점 : 메모리 효율 -> 대량일 때 효율적 -> 현재 실행되는 만큼만 메모리 사용"
   ],
   "metadata": {
    "collapsed": false
   },
   "id": "1c83e170ed23bbe9"
  },
  {
   "cell_type": "code",
   "outputs": [],
   "source": [
    " def make_value():\n",
    "    data = [10, 20, 30, 40]\n",
    "    return 10 * data"
   ],
   "metadata": {
    "collapsed": false,
    "ExecuteTime": {
     "end_time": "2024-04-01T05:39:40.317125100Z",
     "start_time": "2024-04-01T05:39:40.312139300Z"
    }
   },
   "id": "5dee362bb2e341b0",
   "execution_count": 14
  },
  {
   "cell_type": "code",
   "outputs": [
    {
     "data": {
      "text/plain": "function"
     },
     "execution_count": 15,
     "metadata": {},
     "output_type": "execute_result"
    }
   ],
   "source": [
    "type(make_value)"
   ],
   "metadata": {
    "collapsed": false,
    "ExecuteTime": {
     "end_time": "2024-04-01T05:39:40.458472400Z",
     "start_time": "2024-04-01T05:39:40.448506300Z"
    }
   },
   "id": "8427fad8bb1de57c",
   "execution_count": 15
  },
  {
   "cell_type": "code",
   "outputs": [
    {
     "data": {
      "text/plain": "(function, <generator object make_value2 at 0x000001BB6E6DA2E0>)"
     },
     "execution_count": 18,
     "metadata": {},
     "output_type": "execute_result"
    }
   ],
   "source": [
    "def make_value2():\n",
    "    data = [10, 20, 30, 40]\n",
    "    yield data * 3\n",
    "    \n",
    "type(make_value2), make_value2()"
   ],
   "metadata": {
    "collapsed": false,
    "ExecuteTime": {
     "end_time": "2024-04-01T05:41:54.984916500Z",
     "start_time": "2024-04-01T05:41:54.971958400Z"
    }
   },
   "id": "316b78843897c56d",
   "execution_count": 18
  },
  {
   "cell_type": "code",
   "outputs": [
    {
     "name": "stdout",
     "output_type": "stream",
     "text": [
      "<class 'generator'>\n"
     ]
    }
   ],
   "source": [
    "m2 = make_value2()\n",
    "print(type(m2))"
   ],
   "metadata": {
    "collapsed": false,
    "ExecuteTime": {
     "end_time": "2024-04-01T05:51:49.178414900Z",
     "start_time": "2024-04-01T05:51:49.165700400Z"
    }
   },
   "id": "a776c8a5b6334c5d",
   "execution_count": 28
  },
  {
   "cell_type": "code",
   "outputs": [],
   "source": [
    "# 여러 개의 데이터 처리하는 함수\n",
    "def many_data():\n",
    "    for n in range(50):\n",
    "        print(n)\n",
    "        \n",
    "# 여러 개의 데이터 처리하는 제너레이터\n",
    "def many_data2():\n",
    "    for n in range(50):\n",
    "        yield print(n)"
   ],
   "metadata": {
    "collapsed": false,
    "ExecuteTime": {
     "end_time": "2024-04-01T05:53:37.091590300Z",
     "start_time": "2024-04-01T05:53:37.073955500Z"
    }
   },
   "id": "1ab1d8515129eb0a",
   "execution_count": 29
  },
  {
   "cell_type": "code",
   "outputs": [
    {
     "name": "stdout",
     "output_type": "stream",
     "text": [
      "0\n",
      "1\n",
      "2\n",
      "3\n",
      "4\n",
      "5\n",
      "6\n",
      "7\n",
      "8\n",
      "9\n",
      "10\n",
      "11\n",
      "12\n",
      "13\n",
      "14\n",
      "15\n",
      "16\n",
      "17\n",
      "18\n",
      "19\n",
      "20\n",
      "21\n",
      "22\n",
      "23\n",
      "24\n",
      "25\n",
      "26\n",
      "27\n",
      "28\n",
      "29\n",
      "30\n",
      "31\n",
      "32\n",
      "33\n",
      "34\n",
      "35\n",
      "36\n",
      "37\n",
      "38\n",
      "39\n",
      "40\n",
      "41\n",
      "42\n",
      "43\n",
      "44\n",
      "45\n",
      "46\n",
      "47\n",
      "48\n",
      "49\n"
     ]
    }
   ],
   "source": [
    "many_data() # 일반함수"
   ],
   "metadata": {
    "collapsed": false,
    "ExecuteTime": {
     "end_time": "2024-04-01T05:53:58.663415100Z",
     "start_time": "2024-04-01T05:53:58.658175300Z"
    }
   },
   "id": "88658270e80815a6",
   "execution_count": 31
  },
  {
   "cell_type": "code",
   "outputs": [
    {
     "name": "stdout",
     "output_type": "stream",
     "text": [
      "0\n",
      "1\n",
      "2\n",
      "3\n",
      "4\n",
      "5\n",
      "6\n",
      "7\n",
      "8\n",
      "9\n",
      "10\n",
      "11\n",
      "12\n",
      "13\n",
      "14\n",
      "15\n",
      "16\n",
      "17\n",
      "18\n",
      "19\n",
      "20\n",
      "21\n",
      "22\n",
      "23\n",
      "24\n",
      "25\n",
      "26\n",
      "27\n",
      "28\n",
      "29\n",
      "30\n",
      "31\n",
      "32\n",
      "33\n",
      "34\n",
      "35\n",
      "36\n",
      "37\n",
      "38\n",
      "39\n",
      "40\n",
      "41\n",
      "42\n",
      "43\n",
      "44\n",
      "45\n",
      "46\n",
      "47\n",
      "48\n",
      "49\n"
     ]
    }
   ],
   "source": [
    "# 제너레이터\n",
    "md2 = many_data2()\n",
    "for _ in md2:\n",
    "    _ # for문 안쓰면 매번 next를 써서 불러야함 "
   ],
   "metadata": {
    "collapsed": false,
    "ExecuteTime": {
     "end_time": "2024-04-01T05:54:25.682001200Z",
     "start_time": "2024-04-01T05:54:25.653046700Z"
    }
   },
   "id": "571b53a3856fa50c",
   "execution_count": 32
  },
  {
   "cell_type": "code",
   "outputs": [
    {
     "name": "stdout",
     "output_type": "stream",
     "text": [
      "<class 'generator'>\n"
     ]
    },
    {
     "data": {
      "text/plain": "(0, 1, 4)"
     },
     "execution_count": 34,
     "metadata": {},
     "output_type": "execute_result"
    }
   ],
   "source": [
    "# List comprehension\n",
    "a = [value for value in range(100)]\n",
    "\n",
    "# Dictionary comprehension\n",
    "d = {k:k*5 for k in range(100)}\n",
    "\n",
    "# Generator comprehension\n",
    "squere_gen = (num ** 2 for num in range(5)) # tuplt아니고! \n",
    "print(type(squere_gen))\n",
    "next(squere_gen), next(squere_gen), next(squere_gen)"
   ],
   "metadata": {
    "collapsed": false,
    "ExecuteTime": {
     "end_time": "2024-04-01T06:02:04.085199100Z",
     "start_time": "2024-04-01T06:02:04.045169Z"
    }
   },
   "id": "42bb90d1c1bcd472",
   "execution_count": 34
  },
  {
   "cell_type": "code",
   "outputs": [],
   "source": [],
   "metadata": {
    "collapsed": false
   },
   "id": "9957f7dabf6bf6a6"
  },
  {
   "cell_type": "code",
   "outputs": [],
   "source": [],
   "metadata": {
    "collapsed": false
   },
   "id": "3eaf63c8c1c87247"
  },
  {
   "cell_type": "code",
   "outputs": [],
   "source": [],
   "metadata": {
    "collapsed": false
   },
   "id": "7812c711225931fb"
  },
  {
   "cell_type": "code",
   "outputs": [],
   "source": [],
   "metadata": {
    "collapsed": false
   },
   "id": "948dc4e8ad9ddccb"
  },
  {
   "cell_type": "markdown",
   "source": [
    "# ------------------------------------"
   ],
   "metadata": {
    "collapsed": false
   },
   "id": "fdb797f79a7919b9"
  },
  {
   "cell_type": "code",
   "outputs": [
    {
     "data": {
      "text/plain": "(15, 5)"
     },
     "execution_count": 25,
     "metadata": {},
     "output_type": "execute_result"
    }
   ],
   "source": [
    "class A:\n",
    "    # 연산자 오버라이딩 필요\n",
    "    \n",
    "    def __init__(self, data):\n",
    "        self.data = data\n",
    "        \n",
    "    def __add__(self, other):\n",
    "        # 연산자 오버라이딩 이게 없으면 +는 안먹음\n",
    "        return self.data + other.data\n",
    "    \n",
    "    # A 인스턴스 끼리 뺄셈 연산자\n",
    "    def __sub__(self, other):\n",
    "        return self.data - other.data\n",
    "    \n",
    "    # next 함수 호출 시 호출되는 메서드 \n",
    "    def __next__(self):\n",
    "        return self.data*10\n",
    "\n",
    "a1, a2 = A(10), A(5)\n",
    "\n",
    "a1 + a2, a1 - a2"
   ],
   "metadata": {
    "collapsed": false,
    "ExecuteTime": {
     "end_time": "2024-04-01T05:48:27.533661200Z",
     "start_time": "2024-04-01T05:48:27.514853Z"
    }
   },
   "id": "48eeab74c7df7740",
   "execution_count": 25
  },
  {
   "cell_type": "code",
   "outputs": [
    {
     "data": {
      "text/plain": "100"
     },
     "execution_count": 26,
     "metadata": {},
     "output_type": "execute_result"
    }
   ],
   "source": [
    "a1.__next__()"
   ],
   "metadata": {
    "collapsed": false,
    "ExecuteTime": {
     "end_time": "2024-04-01T05:48:48.449256700Z",
     "start_time": "2024-04-01T05:48:48.426362800Z"
    }
   },
   "id": "76f7b55e69d36901",
   "execution_count": 26
  },
  {
   "cell_type": "code",
   "outputs": [
    {
     "data": {
      "text/plain": "(15, 5)"
     },
     "execution_count": 27,
     "metadata": {},
     "output_type": "execute_result"
    }
   ],
   "source": [
    "a1 + a2, a1 - a2"
   ],
   "metadata": {
    "collapsed": false,
    "ExecuteTime": {
     "end_time": "2024-04-01T05:48:52.786099600Z",
     "start_time": "2024-04-01T05:48:52.756154100Z"
    }
   },
   "id": "1b8b8327f3f39e8f",
   "execution_count": 27
  },
  {
   "cell_type": "markdown",
   "source": [
    "# ------------------------------------"
   ],
   "metadata": {
    "collapsed": false
   },
   "id": "d1ae170fe3f43806"
  },
  {
   "cell_type": "code",
   "outputs": [],
   "source": [
    "m2=make_value2()\n",
    "next(m2)"
   ],
   "metadata": {
    "collapsed": false
   },
   "id": "afcd3c665760c076"
  }
 ],
 "metadata": {
  "kernelspec": {
   "display_name": "Python 3",
   "language": "python",
   "name": "python3"
  },
  "language_info": {
   "codemirror_mode": {
    "name": "ipython",
    "version": 2
   },
   "file_extension": ".py",
   "mimetype": "text/x-python",
   "name": "python",
   "nbconvert_exporter": "python",
   "pygments_lexer": "ipython2",
   "version": "2.7.6"
  }
 },
 "nbformat": 4,
 "nbformat_minor": 5
}
