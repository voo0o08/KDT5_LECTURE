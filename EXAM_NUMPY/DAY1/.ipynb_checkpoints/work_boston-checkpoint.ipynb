{
 "cells": [
  {
   "cell_type": "markdown",
   "id": "ab09edf4-78ca-43a2-b87c-6cbe9e628439",
   "metadata": {},
   "source": [
    "# boston 추택 가격 데이터 분석"
   ]
  },
  {
   "cell_type": "code",
   "execution_count": 17,
   "id": "5f3050fc-5d00-4ce5-b1f0-8cacc80f42d5",
   "metadata": {},
   "outputs": [
    {
     "data": {
      "text/plain": [
       "'%.3f'"
      ]
     },
     "execution_count": 17,
     "metadata": {},
     "output_type": "execute_result"
    }
   ],
   "source": [
    "%precision 3"
   ]
  },
  {
   "cell_type": "code",
   "execution_count": 18,
   "id": "7e14753c-4738-4fbc-8056-ebff6fb0951f",
   "metadata": {},
   "outputs": [],
   "source": [
    "import pandas as pd\n",
    "import numpy as np"
   ]
  },
  {
   "cell_type": "code",
   "execution_count": 14,
   "id": "8d0496a0-d8d4-4835-b126-b90aaddcf2e5",
   "metadata": {},
   "outputs": [
    {
     "data": {
      "text/html": [
       "<div>\n",
       "<style scoped>\n",
       "    .dataframe tbody tr th:only-of-type {\n",
       "        vertical-align: middle;\n",
       "    }\n",
       "\n",
       "    .dataframe tbody tr th {\n",
       "        vertical-align: top;\n",
       "    }\n",
       "\n",
       "    .dataframe thead th {\n",
       "        text-align: right;\n",
       "    }\n",
       "</style>\n",
       "<table border=\"1\" class=\"dataframe\">\n",
       "  <thead>\n",
       "    <tr style=\"text-align: right;\">\n",
       "      <th></th>\n",
       "      <th>CRIM</th>\n",
       "      <th>ZN</th>\n",
       "      <th>INDUS</th>\n",
       "      <th>CHAS</th>\n",
       "      <th>NOX</th>\n",
       "      <th>RM</th>\n",
       "      <th>AGE</th>\n",
       "      <th>DIS</th>\n",
       "      <th>RAD</th>\n",
       "      <th>TAX</th>\n",
       "      <th>PTRATIO</th>\n",
       "      <th>B</th>\n",
       "      <th>LSTAT</th>\n",
       "      <th>MEDV</th>\n",
       "    </tr>\n",
       "  </thead>\n",
       "  <tbody>\n",
       "    <tr>\n",
       "      <th>0</th>\n",
       "      <td>0.00632</td>\n",
       "      <td>18.0</td>\n",
       "      <td>2.31</td>\n",
       "      <td>0</td>\n",
       "      <td>0.538</td>\n",
       "      <td>6.575</td>\n",
       "      <td>65.2</td>\n",
       "      <td>4.0900</td>\n",
       "      <td>1</td>\n",
       "      <td>296.0</td>\n",
       "      <td>15.3</td>\n",
       "      <td>396.90</td>\n",
       "      <td>4.98</td>\n",
       "      <td>24.0</td>\n",
       "    </tr>\n",
       "    <tr>\n",
       "      <th>1</th>\n",
       "      <td>0.02731</td>\n",
       "      <td>0.0</td>\n",
       "      <td>7.07</td>\n",
       "      <td>0</td>\n",
       "      <td>0.469</td>\n",
       "      <td>6.421</td>\n",
       "      <td>78.9</td>\n",
       "      <td>4.9671</td>\n",
       "      <td>2</td>\n",
       "      <td>242.0</td>\n",
       "      <td>17.8</td>\n",
       "      <td>396.90</td>\n",
       "      <td>9.14</td>\n",
       "      <td>21.6</td>\n",
       "    </tr>\n",
       "    <tr>\n",
       "      <th>2</th>\n",
       "      <td>0.02729</td>\n",
       "      <td>0.0</td>\n",
       "      <td>7.07</td>\n",
       "      <td>0</td>\n",
       "      <td>0.469</td>\n",
       "      <td>7.185</td>\n",
       "      <td>61.1</td>\n",
       "      <td>4.9671</td>\n",
       "      <td>2</td>\n",
       "      <td>242.0</td>\n",
       "      <td>17.8</td>\n",
       "      <td>392.83</td>\n",
       "      <td>4.03</td>\n",
       "      <td>34.7</td>\n",
       "    </tr>\n",
       "    <tr>\n",
       "      <th>3</th>\n",
       "      <td>0.03237</td>\n",
       "      <td>0.0</td>\n",
       "      <td>2.18</td>\n",
       "      <td>0</td>\n",
       "      <td>0.458</td>\n",
       "      <td>6.998</td>\n",
       "      <td>45.8</td>\n",
       "      <td>6.0622</td>\n",
       "      <td>3</td>\n",
       "      <td>222.0</td>\n",
       "      <td>18.7</td>\n",
       "      <td>394.63</td>\n",
       "      <td>2.94</td>\n",
       "      <td>33.4</td>\n",
       "    </tr>\n",
       "    <tr>\n",
       "      <th>4</th>\n",
       "      <td>0.06905</td>\n",
       "      <td>0.0</td>\n",
       "      <td>2.18</td>\n",
       "      <td>0</td>\n",
       "      <td>0.458</td>\n",
       "      <td>7.147</td>\n",
       "      <td>54.2</td>\n",
       "      <td>6.0622</td>\n",
       "      <td>3</td>\n",
       "      <td>222.0</td>\n",
       "      <td>18.7</td>\n",
       "      <td>396.90</td>\n",
       "      <td>5.33</td>\n",
       "      <td>36.2</td>\n",
       "    </tr>\n",
       "    <tr>\n",
       "      <th>...</th>\n",
       "      <td>...</td>\n",
       "      <td>...</td>\n",
       "      <td>...</td>\n",
       "      <td>...</td>\n",
       "      <td>...</td>\n",
       "      <td>...</td>\n",
       "      <td>...</td>\n",
       "      <td>...</td>\n",
       "      <td>...</td>\n",
       "      <td>...</td>\n",
       "      <td>...</td>\n",
       "      <td>...</td>\n",
       "      <td>...</td>\n",
       "      <td>...</td>\n",
       "    </tr>\n",
       "    <tr>\n",
       "      <th>501</th>\n",
       "      <td>0.06263</td>\n",
       "      <td>0.0</td>\n",
       "      <td>11.93</td>\n",
       "      <td>0</td>\n",
       "      <td>0.573</td>\n",
       "      <td>6.593</td>\n",
       "      <td>69.1</td>\n",
       "      <td>2.4786</td>\n",
       "      <td>1</td>\n",
       "      <td>273.0</td>\n",
       "      <td>21.0</td>\n",
       "      <td>391.99</td>\n",
       "      <td>9.67</td>\n",
       "      <td>22.4</td>\n",
       "    </tr>\n",
       "    <tr>\n",
       "      <th>502</th>\n",
       "      <td>0.04527</td>\n",
       "      <td>0.0</td>\n",
       "      <td>11.93</td>\n",
       "      <td>0</td>\n",
       "      <td>0.573</td>\n",
       "      <td>6.120</td>\n",
       "      <td>76.7</td>\n",
       "      <td>2.2875</td>\n",
       "      <td>1</td>\n",
       "      <td>273.0</td>\n",
       "      <td>21.0</td>\n",
       "      <td>396.90</td>\n",
       "      <td>9.08</td>\n",
       "      <td>20.6</td>\n",
       "    </tr>\n",
       "    <tr>\n",
       "      <th>503</th>\n",
       "      <td>0.06076</td>\n",
       "      <td>0.0</td>\n",
       "      <td>11.93</td>\n",
       "      <td>0</td>\n",
       "      <td>0.573</td>\n",
       "      <td>6.976</td>\n",
       "      <td>91.0</td>\n",
       "      <td>2.1675</td>\n",
       "      <td>1</td>\n",
       "      <td>273.0</td>\n",
       "      <td>21.0</td>\n",
       "      <td>396.90</td>\n",
       "      <td>5.64</td>\n",
       "      <td>23.9</td>\n",
       "    </tr>\n",
       "    <tr>\n",
       "      <th>504</th>\n",
       "      <td>0.10959</td>\n",
       "      <td>0.0</td>\n",
       "      <td>11.93</td>\n",
       "      <td>0</td>\n",
       "      <td>0.573</td>\n",
       "      <td>6.794</td>\n",
       "      <td>89.3</td>\n",
       "      <td>2.3889</td>\n",
       "      <td>1</td>\n",
       "      <td>273.0</td>\n",
       "      <td>21.0</td>\n",
       "      <td>393.45</td>\n",
       "      <td>6.48</td>\n",
       "      <td>22.0</td>\n",
       "    </tr>\n",
       "    <tr>\n",
       "      <th>505</th>\n",
       "      <td>0.04741</td>\n",
       "      <td>0.0</td>\n",
       "      <td>11.93</td>\n",
       "      <td>0</td>\n",
       "      <td>0.573</td>\n",
       "      <td>6.030</td>\n",
       "      <td>80.8</td>\n",
       "      <td>2.5050</td>\n",
       "      <td>1</td>\n",
       "      <td>273.0</td>\n",
       "      <td>21.0</td>\n",
       "      <td>396.90</td>\n",
       "      <td>7.88</td>\n",
       "      <td>11.9</td>\n",
       "    </tr>\n",
       "  </tbody>\n",
       "</table>\n",
       "<p>506 rows × 14 columns</p>\n",
       "</div>"
      ],
      "text/plain": [
       "        CRIM    ZN  INDUS  CHAS    NOX     RM   AGE     DIS  RAD    TAX  \\\n",
       "0    0.00632  18.0   2.31     0  0.538  6.575  65.2  4.0900    1  296.0   \n",
       "1    0.02731   0.0   7.07     0  0.469  6.421  78.9  4.9671    2  242.0   \n",
       "2    0.02729   0.0   7.07     0  0.469  7.185  61.1  4.9671    2  242.0   \n",
       "3    0.03237   0.0   2.18     0  0.458  6.998  45.8  6.0622    3  222.0   \n",
       "4    0.06905   0.0   2.18     0  0.458  7.147  54.2  6.0622    3  222.0   \n",
       "..       ...   ...    ...   ...    ...    ...   ...     ...  ...    ...   \n",
       "501  0.06263   0.0  11.93     0  0.573  6.593  69.1  2.4786    1  273.0   \n",
       "502  0.04527   0.0  11.93     0  0.573  6.120  76.7  2.2875    1  273.0   \n",
       "503  0.06076   0.0  11.93     0  0.573  6.976  91.0  2.1675    1  273.0   \n",
       "504  0.10959   0.0  11.93     0  0.573  6.794  89.3  2.3889    1  273.0   \n",
       "505  0.04741   0.0  11.93     0  0.573  6.030  80.8  2.5050    1  273.0   \n",
       "\n",
       "     PTRATIO       B  LSTAT  MEDV  \n",
       "0       15.3  396.90   4.98  24.0  \n",
       "1       17.8  396.90   9.14  21.6  \n",
       "2       17.8  392.83   4.03  34.7  \n",
       "3       18.7  394.63   2.94  33.4  \n",
       "4       18.7  396.90   5.33  36.2  \n",
       "..       ...     ...    ...   ...  \n",
       "501     21.0  391.99   9.67  22.4  \n",
       "502     21.0  396.90   9.08  20.6  \n",
       "503     21.0  396.90   5.64  23.9  \n",
       "504     21.0  393.45   6.48  22.0  \n",
       "505     21.0  396.90   7.88  11.9  \n",
       "\n",
       "[506 rows x 14 columns]"
      ]
     },
     "execution_count": 14,
     "metadata": {},
     "output_type": "execute_result"
    }
   ],
   "source": [
    "DF = pd.read_csv(\"boston.csv\", encoding=\"CP949\", index_col = False) \n",
    "DF"
   ]
  },
  {
   "cell_type": "markdown",
   "id": "cd754f04-c96f-47da-9eba-b7a168d3ef9b",
   "metadata": {},
   "source": [
    "*주목해야할 column은 MEDV(단위 1000$)*"
   ]
  },
  {
   "cell_type": "code",
   "execution_count": 27,
   "id": "ffb1e057-18fd-4659-9a30-6f67cab0268d",
   "metadata": {
    "scrolled": true
   },
   "outputs": [
    {
     "data": {
      "text/plain": [
       "0      24000.0\n",
       "1      21600.0\n",
       "2      34700.0\n",
       "3      33400.0\n",
       "4      36200.0\n",
       "        ...   \n",
       "501    22400.0\n",
       "502    20600.0\n",
       "503    23900.0\n",
       "504    22000.0\n",
       "505    11900.0\n",
       "Name: MEDV, Length: 506, dtype: float64"
      ]
     },
     "execution_count": 27,
     "metadata": {},
     "output_type": "execute_result"
    }
   ],
   "source": [
    "price = DF[\"MEDV\"]*1000\n",
    "price # dtype : SR"
   ]
  },
  {
   "cell_type": "markdown",
   "id": "fd4e63a7-df74-4094-84d8-a251ab4295e5",
   "metadata": {},
   "source": [
    "## 1.주택 가격의 평균"
   ]
  },
  {
   "cell_type": "code",
   "execution_count": 29,
   "id": "a524f4e3-5771-400c-ab47-c02215108d34",
   "metadata": {},
   "outputs": [
    {
     "data": {
      "text/plain": [
       "22532.806"
      ]
     },
     "execution_count": 29,
     "metadata": {},
     "output_type": "execute_result"
    }
   ],
   "source": [
    "np.mean(price)"
   ]
  },
  {
   "cell_type": "markdown",
   "id": "dcc42a2d-7d84-4e4a-8e47-8a677130c781",
   "metadata": {},
   "source": [
    "## 2.주택 가격의 중앙값"
   ]
  },
  {
   "cell_type": "code",
   "execution_count": 30,
   "id": "36b60d6b-12a7-4654-986f-caba7c988668",
   "metadata": {},
   "outputs": [
    {
     "data": {
      "text/plain": [
       "21200.000"
      ]
     },
     "execution_count": 30,
     "metadata": {},
     "output_type": "execute_result"
    }
   ],
   "source": [
    "np.median(price)"
   ]
  },
  {
   "cell_type": "markdown",
   "id": "0b713b75-ee33-4237-b782-675db242b108",
   "metadata": {},
   "source": [
    "## 3. 주택 가격의 표준 편차"
   ]
  },
  {
   "cell_type": "code",
   "execution_count": 32,
   "id": "b4a8222d-b192-4bb6-b5b1-c4b66f36ca55",
   "metadata": {},
   "outputs": [
    {
     "data": {
      "text/plain": [
       "9188.012"
      ]
     },
     "execution_count": 32,
     "metadata": {},
     "output_type": "execute_result"
    }
   ],
   "source": [
    "np.std(price)"
   ]
  },
  {
   "cell_type": "markdown",
   "id": "36f0211a-bffb-4220-a17f-105465efe3c9",
   "metadata": {},
   "source": [
    "## 4. 주택 가격의 최대값"
   ]
  },
  {
   "cell_type": "code",
   "execution_count": 33,
   "id": "a656745d-72c0-4b23-a7c2-c80b4f591afb",
   "metadata": {},
   "outputs": [
    {
     "data": {
      "text/plain": [
       "50000.000"
      ]
     },
     "execution_count": 33,
     "metadata": {},
     "output_type": "execute_result"
    }
   ],
   "source": [
    "np.max(price)"
   ]
  },
  {
   "cell_type": "markdown",
   "id": "9cafa036-d6a0-476c-a6fc-073153a15291",
   "metadata": {},
   "source": [
    "## 5. 주택 가격의 최소값"
   ]
  },
  {
   "cell_type": "code",
   "execution_count": 35,
   "id": "2daf954b-df2d-4c70-aac6-0cac9c2b89eb",
   "metadata": {},
   "outputs": [
    {
     "data": {
      "text/plain": [
       "5000.000"
      ]
     },
     "execution_count": 35,
     "metadata": {},
     "output_type": "execute_result"
    }
   ],
   "source": [
    "np.min(price)"
   ]
  },
  {
   "cell_type": "markdown",
   "id": "35440c6b-c706-44ad-b26d-ad8618819059",
   "metadata": {},
   "source": [
    "## 6. 주택 가격의 최빈값"
   ]
  },
  {
   "cell_type": "code",
   "execution_count": 49,
   "id": "1f52169e-d5be-4507-89e2-a393d6642d09",
   "metadata": {},
   "outputs": [
    {
     "data": {
      "text/plain": [
       "50000.0    16\n",
       "Name: MEDV, dtype: int64"
      ]
     },
     "execution_count": 49,
     "metadata": {},
     "output_type": "execute_result"
    }
   ],
   "source": [
    "price.value_counts().head(1)"
   ]
  },
  {
   "cell_type": "code",
   "execution_count": 46,
   "id": "96e2d765-e4f9-4adf-a315-ad3747fb2587",
   "metadata": {},
   "outputs": [
    {
     "name": "stdout",
     "output_type": "stream",
     "text": [
      " mode : 50000.0\n"
     ]
    },
    {
     "name": "stderr",
     "output_type": "stream",
     "text": [
      "C:\\Users\\kdp\\AppData\\Local\\Temp\\ipykernel_12392\\2164318676.py:3: FutureWarning: Unlike other reduction functions (e.g. `skew`, `kurtosis`), the default behavior of `mode` typically preserves the axis it acts along. In SciPy 1.11.0, this behavior will change: the default value of `keepdims` will become False, the `axis` over which the statistic is taken will be eliminated, and the value None will no longer be accepted. Set `keepdims` to True or False to avoid this warning.\n",
      "  mode = stats.mode(price)[0]\n"
     ]
    }
   ],
   "source": [
    "# ver2 \n",
    "from scipy import stats\n",
    "mode = stats.mode(price)[0]\n",
    "print(f' mode : {mode[0]}') # mode : 4"
   ]
  },
  {
   "cell_type": "markdown",
   "id": "b0beead0-5cc5-41e7-9cb5-b26e94d63cc3",
   "metadata": {},
   "source": [
    "## 7. 주택 가격의 분포를 시각화 하시오"
   ]
  },
  {
   "cell_type": "code",
   "execution_count": 51,
   "id": "6d0e4c85-e302-4703-aabf-e9d9b2ebf979",
   "metadata": {},
   "outputs": [],
   "source": [
    "# Matplotlib의 pyplot 모듈을 plt라는 이름으로 임포트\n",
    "import matplotlib.pyplot as plt\n",
    "import numpy as np\n",
    "import koreanize_matplotlib\n",
    "\n",
    "# 그래프가 notebook 위에 표시\n",
    "%matplotlib inline"
   ]
  },
  {
   "cell_type": "code",
   "execution_count": 70,
   "id": "30e1d504-0e78-4515-81dc-a78719466939",
   "metadata": {},
   "outputs": [
    {
     "data": {
      "image/png": "[encoded data removed]",
      "text/plain": [
       "<Figure size 1000x600 with 1 Axes>"
      ]
     },
     "metadata": {},
     "output_type": "display_data"
    }
   ],
   "source": [
    "# 캔버스를 생성\n",
    "# figsize로 가로・세로 크기를 지정\n",
    "fig = plt.figure(figsize=(10, 6))\n",
    "# 켄버스 위에 그래프를 그리기 위한 영역을 지정\n",
    "# 인수는 영역을 1×1개 지정、하나의 영역에 그린다는 것을 의미\n",
    "ax = fig.add_subplot(111)\n",
    "\n",
    "# 계급수를 13으로 하여 히스토그램을 그림\n",
    "freq, a, _ = ax.hist(price, bins=50, range=(5000, 50000))\n",
    "# X축에 레이블 부여\n",
    "ax.set_xlabel('가격 [$]')\n",
    "# Y축에 레이블 부여\n",
    "ax.set_ylabel('개수')\n",
    "# X축을 0, 10, 20, ..., 100 눈금으로 구분\n",
    "ax.set_xticks(np.linspace(5000, 50000, 11))\n",
    "# Y축을 0, 1, 2, ...의 눈금으로 구분\n",
    "# ax.set_yticks(np.arange(0, freq.max()+1))\n",
    "ax.set_title(\"주택 가격 분포 [단위 : $]\")\n",
    "# 그래프 표시\n",
    "plt.show()"
   ]
  }
 ],
 "metadata": {
  "kernelspec": {
   "display_name": "Python 3 (ipykernel)",
   "language": "python",
   "name": "python3"
  },
  "language_info": {
   "codemirror_mode": {
    "name": "ipython",
    "version": 3
   },
   "file_extension": ".py",
   "mimetype": "text/x-python",
   "name": "python",
   "nbconvert_exporter": "python",
   "pygments_lexer": "ipython3",
   "version": "3.8.18"
  }
 },
 "nbformat": 4,
 "nbformat_minor": 5
}
