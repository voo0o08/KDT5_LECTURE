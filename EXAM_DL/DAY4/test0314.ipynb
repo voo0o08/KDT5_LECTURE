{
 "cells": [
  {
   "cell_type": "markdown",
   "metadata": {},
   "source": [
    "#### [ 미니 테스트  2024-03-14 ]<hr>"
   ]
  },
  {
   "cell_type": "markdown",
   "metadata": {},
   "source": [
    "[1] 지도학습에 대한 설명과 종류에 대해서 간략하게 설명해 주세요.\n",
    ": 지도학습이란 라벨을 주고 학습을 시키는 것으로, 특정한 값을 예측하는 회귀와 클래스를 예측해주는 분류가 있다."
   ]
  },
  {
   "cell_type": "markdown",
   "metadata": {},
   "source": [
    "[2] 지도학습의 학습 프로세스를 간략하게 설명해 주세요.\n",
    "- 전처리\n",
    "- test train 분할\n",
    "- 학습\n",
    "- 예측"
   ]
  },
  {
   "cell_type": "markdown",
   "metadata": {},
   "source": [
    "[3] 선형회귀 대해 간략하게 설명해주세요.  \n",
    "    - 개념 : featrue*가중치와 bias로 이루어진 식을 통해 값을 예측 \n",
    "    - 조건 : ?  \n",
    "    - 동작원리  \n",
    "    - 선형식 : $a_0+a_1w_1+a_2w_2$...\n",
    "    - 오차/잔차 계산 방법   : MSE"
   ]
  },
  {
   "cell_type": "markdown",
   "metadata": {},
   "source": [
    " "
   ]
  },
  {
   "cell_type": "markdown",
   "metadata": {},
   "source": [
    "[4] 로지스틱회귀 대해 간략하게 설명해주세요.  \n",
    "   - 개념 : 0과 1사이의 값을 출력 threshold 기준으로 이진분류\n",
    "   - 조건 : 분류 문제\n",
    "   - 동작원리 :  0과 1사이의 값을 출력 threshold 기준으로 이진분류\n",
    "   - 선형식  \n",
    "   - 오차/잔차 계산 방법 : accuracy"
   ]
  },
  {
   "cell_type": "markdown",
   "metadata": {},
   "source": [
    " "
   ]
  },
  {
   "cell_type": "markdown",
   "metadata": {},
   "source": [
    "[5] Fashion MNIST 데이터셋에서 10개 카테고리 중 하나를 선택해서 2진 분류로 구현해 주세요.  \n",
    "- 데이터셋 : scikit-learn의 datasets 사용\n",
    "    - from sklearn.datasets import fetch_openml \n",
    "    - db_name = 'Fashion-MNIST'\n",
    "    - fashion_data = fetch_openml(name=db_name, parser='auto')"
   ]
  },
  {
   "cell_type": "code",
   "execution_count": 37,
   "metadata": {
    "ExecuteTime": {
     "end_time": "2024-03-14T00:38:15.033185300Z",
     "start_time": "2024-03-14T00:38:11.555525100Z"
    }
   },
   "outputs": [],
   "source": [
    "from sklearn.datasets import fetch_openml\n",
    "db_name = 'Fashion-MNIST'\n",
    "fashion_data = fetch_openml(name=db_name, parser='auto', as_frame = False)"
   ]
  },
  {
   "cell_type": "code",
   "execution_count": 65,
   "metadata": {
    "ExecuteTime": {
     "end_time": "2024-03-14T00:44:23.867948800Z",
     "start_time": "2024-03-14T00:44:23.749253500Z"
    }
   },
   "outputs": [
    {
     "data": {
      "text/plain": "array([[0., 0., 0., ..., 0., 0., 0.],\n       [0., 0., 0., ..., 0., 0., 0.],\n       [0., 0., 0., ..., 0., 0., 0.],\n       ...,\n       [0., 0., 0., ..., 0., 0., 0.],\n       [0., 0., 0., ..., 0., 0., 0.],\n       [0., 0., 0., ..., 0., 0., 0.]])"
     },
     "execution_count": 65,
     "metadata": {},
     "output_type": "execute_result"
    }
   ],
   "source": [
    "dataDF = fashion_data[\"data\"] / 255\n",
    "dataDF"
   ]
  },
  {
   "cell_type": "code",
   "outputs": [
    {
     "data": {
      "text/plain": "array([9, 0, 0, ..., 8, 1, 5])"
     },
     "execution_count": 66,
     "metadata": {},
     "output_type": "execute_result"
    }
   ],
   "source": [
    "targetSR = fashion_data[\"target\"].astype(\"int\")\n",
    "targetSR"
   ],
   "metadata": {
    "collapsed": false,
    "ExecuteTime": {
     "end_time": "2024-03-14T00:44:26.334437500Z",
     "start_time": "2024-03-14T00:44:26.305091Z"
    }
   },
   "execution_count": 66
  },
  {
   "cell_type": "code",
   "outputs": [],
   "source": [
    "# 2진 분류니까 9번만 뽑자!\n",
    "# idx = targetSR[targetSR != 9].index # 인덱스 뽑기 "
   ],
   "metadata": {
    "collapsed": false,
    "ExecuteTime": {
     "end_time": "2024-03-14T00:44:26.728524700Z",
     "start_time": "2024-03-14T00:44:26.709866600Z"
    }
   },
   "execution_count": 67
  },
  {
   "cell_type": "code",
   "outputs": [],
   "source": [
    "# y = targetSR.drop(idx).reset_index(drop=True)"
   ],
   "metadata": {
    "collapsed": false,
    "ExecuteTime": {
     "end_time": "2024-03-14T00:44:27.264234200Z",
     "start_time": "2024-03-14T00:44:27.244381600Z"
    }
   },
   "execution_count": 68
  },
  {
   "cell_type": "code",
   "outputs": [],
   "source": [
    "# X = dataDF.drop(idx).reset_index(drop=True)"
   ],
   "metadata": {
    "collapsed": false,
    "ExecuteTime": {
     "end_time": "2024-03-14T00:44:27.488018Z",
     "start_time": "2024-03-14T00:44:27.478665Z"
    }
   },
   "execution_count": 69
  },
  {
   "cell_type": "code",
   "outputs": [],
   "source": [
    "y = targetSR == 9"
   ],
   "metadata": {
    "collapsed": false,
    "ExecuteTime": {
     "end_time": "2024-03-14T00:44:28.177516100Z",
     "start_time": "2024-03-14T00:44:28.168169200Z"
    }
   },
   "execution_count": 70
  },
  {
   "cell_type": "code",
   "outputs": [],
   "source": [
    "X = dataDF"
   ],
   "metadata": {
    "collapsed": false,
    "ExecuteTime": {
     "end_time": "2024-03-14T00:44:28.349966500Z",
     "start_time": "2024-03-14T00:44:28.339487500Z"
    }
   },
   "execution_count": 71
  },
  {
   "cell_type": "code",
   "outputs": [],
   "source": [
    "import torch\n",
    "import torch.nn as nn\n",
    "import torch.nn.functional as F\n",
    "import torch.optim as optim"
   ],
   "metadata": {
    "collapsed": false,
    "ExecuteTime": {
     "end_time": "2024-03-14T00:44:28.532970Z",
     "start_time": "2024-03-14T00:44:28.523664500Z"
    }
   },
   "execution_count": 72
  },
  {
   "cell_type": "code",
   "outputs": [],
   "source": [
    "train_X = torch.tensor(X[:60000,:].astype(\"float32\"))\n",
    "test_X = torch.tensor(X[60000:,:].astype(\"float32\"))\n",
    "train_y = torch.tensor(y[:60000].astype(\"float32\"))\n",
    "test_y = torch.tensor(y[60000:].astype(\"float32\"))"
   ],
   "metadata": {
    "collapsed": false,
    "ExecuteTime": {
     "end_time": "2024-03-14T00:52:36.071732700Z",
     "start_time": "2024-03-14T00:52:35.076987700Z"
    }
   },
   "execution_count": 97
  },
  {
   "cell_type": "code",
   "outputs": [],
   "source": [
    "train_y = train_y.unsqueeze(-1)\n",
    "test_y = test_y.unsqueeze(-1)"
   ],
   "metadata": {
    "collapsed": false,
    "ExecuteTime": {
     "end_time": "2024-03-14T00:52:36.088424300Z",
     "start_time": "2024-03-14T00:52:36.074824900Z"
    }
   },
   "execution_count": 98
  },
  {
   "cell_type": "code",
   "outputs": [],
   "source": [
    "# 모델 설계\n",
    "model = nn.Sequential(\n",
    "    nn.Linear(784, 1),\n",
    "    nn.Sigmoid()\n",
    ")\n",
    "\n",
    "optmizer = optim.SGD(model.parameters(), lr=0.1)"
   ],
   "metadata": {
    "collapsed": false,
    "ExecuteTime": {
     "end_time": "2024-03-14T00:52:36.110150400Z",
     "start_time": "2024-03-14T00:52:36.090525700Z"
    }
   },
   "execution_count": 99
  },
  {
   "cell_type": "code",
   "outputs": [],
   "source": [
    "def training():\n",
    "    nb_epochs = 1000\n",
    "    for epoch in range(nb_epochs+1):\n",
    "        \n",
    "        hypothesis = model(train_X)\n",
    "        \n",
    "        cost = F.binary_cross_entropy(hypothesis, train_y)\n",
    "        \n",
    "        optmizer.zero_grad()\n",
    "        cost.backward()\n",
    "        optmizer.step()\n",
    "        \n",
    "        # 20번마다 로그 출력\n",
    "        if epoch % 10 == 0:\n",
    "            prediction = hypothesis >= torch.FloatTensor([0.5])     # 예측값이 0.5를 넘으면 True로 간주\n",
    "            correct_prediction = prediction.float() == train_y      # 실제값과 일치하는 경우만 True로 간주\n",
    "            accuracy = correct_prediction.sum().item() / len(correct_prediction) # 정확도를 계산\n",
    " \n",
    "            print(f'Epoch {epoch:4d}/{nb_epochs} Cost: {cost.item():.6f} Accuracy {accuracy * 100:2.2f}%')"
   ],
   "metadata": {
    "collapsed": false,
    "ExecuteTime": {
     "end_time": "2024-03-14T00:52:36.837832Z",
     "start_time": "2024-03-14T00:52:36.811731200Z"
    }
   },
   "execution_count": 100
  },
  {
   "cell_type": "code",
   "outputs": [
    {
     "name": "stdout",
     "output_type": "stream",
     "text": [
      "Epoch    0/1000 Cost: 0.718906 Accuracy 33.97%\n",
      "Epoch   10/1000 Cost: 0.206643 Accuracy 91.70%\n",
      "Epoch   20/1000 Cost: 0.165900 Accuracy 93.97%\n",
      "Epoch   30/1000 Cost: 0.147209 Accuracy 94.38%\n",
      "Epoch   40/1000 Cost: 0.135982 Accuracy 94.67%\n",
      "Epoch   50/1000 Cost: 0.128124 Accuracy 94.83%\n",
      "Epoch   60/1000 Cost: 0.122102 Accuracy 95.06%\n",
      "Epoch   70/1000 Cost: 0.117220 Accuracy 95.27%\n",
      "Epoch   80/1000 Cost: 0.113119 Accuracy 95.48%\n",
      "Epoch   90/1000 Cost: 0.109589 Accuracy 95.68%\n",
      "Epoch  100/1000 Cost: 0.106500 Accuracy 95.84%\n",
      "Epoch  110/1000 Cost: 0.103763 Accuracy 96.01%\n",
      "Epoch  120/1000 Cost: 0.101315 Accuracy 96.18%\n",
      "Epoch  130/1000 Cost: 0.099108 Accuracy 96.33%\n",
      "Epoch  140/1000 Cost: 0.097106 Accuracy 96.46%\n",
      "Epoch  150/1000 Cost: 0.095279 Accuracy 96.56%\n",
      "Epoch  160/1000 Cost: 0.093604 Accuracy 96.66%\n",
      "Epoch  170/1000 Cost: 0.092061 Accuracy 96.75%\n",
      "Epoch  180/1000 Cost: 0.090635 Accuracy 96.81%\n",
      "Epoch  190/1000 Cost: 0.089311 Accuracy 96.87%\n",
      "Epoch  200/1000 Cost: 0.088078 Accuracy 96.92%\n",
      "Epoch  210/1000 Cost: 0.086926 Accuracy 96.97%\n",
      "Epoch  220/1000 Cost: 0.085847 Accuracy 97.02%\n",
      "Epoch  230/1000 Cost: 0.084833 Accuracy 97.05%\n",
      "Epoch  240/1000 Cost: 0.083878 Accuracy 97.09%\n",
      "Epoch  250/1000 Cost: 0.082976 Accuracy 97.13%\n",
      "Epoch  260/1000 Cost: 0.082122 Accuracy 97.15%\n",
      "Epoch  270/1000 Cost: 0.081313 Accuracy 97.18%\n",
      "Epoch  280/1000 Cost: 0.080544 Accuracy 97.21%\n",
      "Epoch  290/1000 Cost: 0.079812 Accuracy 97.25%\n",
      "Epoch  300/1000 Cost: 0.079114 Accuracy 97.28%\n",
      "Epoch  310/1000 Cost: 0.078447 Accuracy 97.30%\n",
      "Epoch  320/1000 Cost: 0.077810 Accuracy 97.32%\n",
      "Epoch  330/1000 Cost: 0.077198 Accuracy 97.34%\n",
      "Epoch  340/1000 Cost: 0.076612 Accuracy 97.36%\n",
      "Epoch  350/1000 Cost: 0.076049 Accuracy 97.38%\n",
      "Epoch  360/1000 Cost: 0.075507 Accuracy 97.40%\n",
      "Epoch  370/1000 Cost: 0.074986 Accuracy 97.43%\n",
      "Epoch  380/1000 Cost: 0.074483 Accuracy 97.44%\n",
      "Epoch  390/1000 Cost: 0.073997 Accuracy 97.46%\n",
      "Epoch  400/1000 Cost: 0.073528 Accuracy 97.47%\n",
      "Epoch  410/1000 Cost: 0.073075 Accuracy 97.48%\n",
      "Epoch  420/1000 Cost: 0.072636 Accuracy 97.49%\n",
      "Epoch  430/1000 Cost: 0.072211 Accuracy 97.50%\n",
      "Epoch  440/1000 Cost: 0.071799 Accuracy 97.52%\n",
      "Epoch  450/1000 Cost: 0.071399 Accuracy 97.53%\n",
      "Epoch  460/1000 Cost: 0.071011 Accuracy 97.54%\n",
      "Epoch  470/1000 Cost: 0.070634 Accuracy 97.55%\n",
      "Epoch  480/1000 Cost: 0.070267 Accuracy 97.56%\n",
      "Epoch  490/1000 Cost: 0.069910 Accuracy 97.58%\n",
      "Epoch  500/1000 Cost: 0.069563 Accuracy 97.58%\n",
      "Epoch  510/1000 Cost: 0.069224 Accuracy 97.59%\n",
      "Epoch  520/1000 Cost: 0.068894 Accuracy 97.61%\n",
      "Epoch  530/1000 Cost: 0.068573 Accuracy 97.62%\n",
      "Epoch  540/1000 Cost: 0.068259 Accuracy 97.64%\n",
      "Epoch  550/1000 Cost: 0.067952 Accuracy 97.65%\n",
      "Epoch  560/1000 Cost: 0.067653 Accuracy 97.65%\n",
      "Epoch  570/1000 Cost: 0.067360 Accuracy 97.66%\n",
      "Epoch  580/1000 Cost: 0.067074 Accuracy 97.67%\n",
      "Epoch  590/1000 Cost: 0.066794 Accuracy 97.69%\n",
      "Epoch  600/1000 Cost: 0.066520 Accuracy 97.69%\n",
      "Epoch  610/1000 Cost: 0.066252 Accuracy 97.70%\n",
      "Epoch  620/1000 Cost: 0.065989 Accuracy 97.71%\n",
      "Epoch  630/1000 Cost: 0.065732 Accuracy 97.72%\n",
      "Epoch  640/1000 Cost: 0.065480 Accuracy 97.72%\n",
      "Epoch  650/1000 Cost: 0.065233 Accuracy 97.72%\n",
      "Epoch  660/1000 Cost: 0.064990 Accuracy 97.73%\n",
      "Epoch  670/1000 Cost: 0.064753 Accuracy 97.73%\n",
      "Epoch  680/1000 Cost: 0.064519 Accuracy 97.75%\n",
      "Epoch  690/1000 Cost: 0.064290 Accuracy 97.75%\n",
      "Epoch  700/1000 Cost: 0.064065 Accuracy 97.76%\n",
      "Epoch  710/1000 Cost: 0.063844 Accuracy 97.77%\n",
      "Epoch  720/1000 Cost: 0.063627 Accuracy 97.78%\n",
      "Epoch  730/1000 Cost: 0.063414 Accuracy 97.79%\n",
      "Epoch  740/1000 Cost: 0.063204 Accuracy 97.80%\n",
      "Epoch  750/1000 Cost: 0.062998 Accuracy 97.81%\n",
      "Epoch  760/1000 Cost: 0.062795 Accuracy 97.82%\n",
      "Epoch  770/1000 Cost: 0.062595 Accuracy 97.82%\n",
      "Epoch  780/1000 Cost: 0.062399 Accuracy 97.83%\n",
      "Epoch  790/1000 Cost: 0.062206 Accuracy 97.84%\n",
      "Epoch  800/1000 Cost: 0.062015 Accuracy 97.85%\n",
      "Epoch  810/1000 Cost: 0.061828 Accuracy 97.86%\n",
      "Epoch  820/1000 Cost: 0.061644 Accuracy 97.87%\n",
      "Epoch  830/1000 Cost: 0.061462 Accuracy 97.88%\n",
      "Epoch  840/1000 Cost: 0.061283 Accuracy 97.87%\n",
      "Epoch  850/1000 Cost: 0.061106 Accuracy 97.88%\n",
      "Epoch  860/1000 Cost: 0.060932 Accuracy 97.89%\n",
      "Epoch  870/1000 Cost: 0.060761 Accuracy 97.89%\n",
      "Epoch  880/1000 Cost: 0.060592 Accuracy 97.89%\n",
      "Epoch  890/1000 Cost: 0.060425 Accuracy 97.90%\n",
      "Epoch  900/1000 Cost: 0.060261 Accuracy 97.91%\n",
      "Epoch  910/1000 Cost: 0.060099 Accuracy 97.91%\n",
      "Epoch  920/1000 Cost: 0.059939 Accuracy 97.91%\n",
      "Epoch  930/1000 Cost: 0.059781 Accuracy 97.91%\n",
      "Epoch  940/1000 Cost: 0.059625 Accuracy 97.92%\n",
      "Epoch  950/1000 Cost: 0.059471 Accuracy 97.93%\n",
      "Epoch  960/1000 Cost: 0.059319 Accuracy 97.94%\n",
      "Epoch  970/1000 Cost: 0.059169 Accuracy 97.95%\n",
      "Epoch  980/1000 Cost: 0.059021 Accuracy 97.95%\n",
      "Epoch  990/1000 Cost: 0.058875 Accuracy 97.95%\n",
      "Epoch 1000/1000 Cost: 0.058731 Accuracy 97.96%\n"
     ]
    }
   ],
   "source": [
    "training()"
   ],
   "metadata": {
    "collapsed": false,
    "ExecuteTime": {
     "end_time": "2024-03-14T00:52:50.556447700Z",
     "start_time": "2024-03-14T00:52:37.223168100Z"
    }
   },
   "execution_count": 101
  },
  {
   "cell_type": "code",
   "outputs": [],
   "source": [],
   "metadata": {
    "collapsed": false,
    "ExecuteTime": {
     "start_time": "2024-03-14T00:49:24.612086800Z"
    }
   },
   "execution_count": null
  },
  {
   "cell_type": "code",
   "outputs": [],
   "source": [],
   "metadata": {
    "collapsed": false
   }
  }
 ],
 "metadata": {
  "kernelspec": {
   "display_name": "TORCH_PY38",
   "language": "python",
   "name": "python3"
  },
  "language_info": {
   "codemirror_mode": {
    "name": "ipython",
    "version": 3
   },
   "file_extension": ".py",
   "mimetype": "text/x-python",
   "name": "python",
   "nbconvert_exporter": "python",
   "pygments_lexer": "ipython3",
   "version": "3.8.18"
  }
 },
 "nbformat": 4,
 "nbformat_minor": 2
}
