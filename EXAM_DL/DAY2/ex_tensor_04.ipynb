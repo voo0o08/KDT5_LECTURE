{
 "cells": [
  {
   "cell_type": "markdown",
   "source": [
    "# Tensor shape 변경\n",
    "- reshape() \n",
    "- view()\n",
    "\n",
    "-> 원소 개수가 유지됨, 기존 텐서 공유(원본 바꾸면 이것도 바뀐다!!)"
   ],
   "metadata": {
    "collapsed": false
   },
   "id": "e320b031280ab31"
  },
  {
   "cell_type": "code",
   "outputs": [],
   "source": [
    "# 모듈 로딩\n",
    "import torch"
   ],
   "metadata": {
    "collapsed": false,
    "ExecuteTime": {
     "end_time": "2024-03-12T04:30:20.963703800Z",
     "start_time": "2024-03-12T04:30:19.702176200Z"
    }
   },
   "id": "7e23cea13ad40f17",
   "execution_count": 1
  },
  {
   "cell_type": "code",
   "outputs": [
    {
     "name": "stdout",
     "output_type": "stream",
     "text": [
      "torch.Size([2, 3]) 2\n"
     ]
    }
   ],
   "source": [
    "# 텐서 데이터 생성\n",
    "t1 = torch.tensor([[1, 2, 3], [4, 5, 6]])\n",
    "print(t1.shape, t1.ndim)"
   ],
   "metadata": {
    "collapsed": false,
    "ExecuteTime": {
     "end_time": "2024-03-12T08:16:46.657077500Z",
     "start_time": "2024-03-12T08:16:46.639247900Z"
    }
   },
   "id": "79d8194829371b24",
   "execution_count": 103
  },
  {
   "cell_type": "code",
   "outputs": [
    {
     "data": {
      "text/plain": "tensor([[1, 2],\n        [3, 4],\n        [5, 6]])"
     },
     "execution_count": 104,
     "metadata": {},
     "output_type": "execute_result"
    }
   ],
   "source": [
    "# 2행 3열을 3행 2열 형태로 변경 : 원소 개수는 동일하게 6개 \n",
    "t1.view(3, 2)"
   ],
   "metadata": {
    "collapsed": false,
    "ExecuteTime": {
     "end_time": "2024-03-12T08:16:47.918731700Z",
     "start_time": "2024-03-12T08:16:47.901178Z"
    }
   },
   "id": "89e9ee092992e074",
   "execution_count": 104
  },
  {
   "cell_type": "code",
   "outputs": [
    {
     "data": {
      "text/plain": "tensor([[1],\n        [2],\n        [3],\n        [4],\n        [5],\n        [6]])"
     },
     "execution_count": 105,
     "metadata": {},
     "output_type": "execute_result"
    }
   ],
   "source": [
    "t1.view(6,1)"
   ],
   "metadata": {
    "collapsed": false,
    "ExecuteTime": {
     "end_time": "2024-03-12T08:16:58.057456500Z",
     "start_time": "2024-03-12T08:16:58.028996200Z"
    }
   },
   "id": "f3d4532eb888cb76",
   "execution_count": 105
  },
  {
   "cell_type": "code",
   "outputs": [
    {
     "data": {
      "text/plain": "torch.Size([6])"
     },
     "execution_count": 110,
     "metadata": {},
     "output_type": "execute_result"
    }
   ],
   "source": [
    "t1.view(-1) # -1은 알아서 지정"
   ],
   "metadata": {
    "collapsed": false,
    "ExecuteTime": {
     "end_time": "2024-03-12T08:17:54.717534100Z",
     "start_time": "2024-03-12T08:17:54.684881Z"
    }
   },
   "id": "9fda85c5a681e3cc",
   "execution_count": 110
  },
  {
   "cell_type": "code",
   "outputs": [
    {
     "data": {
      "text/plain": "torch.Size([6, 1])"
     },
     "execution_count": 111,
     "metadata": {},
     "output_type": "execute_result"
    }
   ],
   "source": [
    "t1.view(-1,1)"
   ],
   "metadata": {
    "collapsed": false,
    "ExecuteTime": {
     "end_time": "2024-03-12T08:18:08.933617400Z",
     "start_time": "2024-03-12T08:18:08.907696100Z"
    }
   },
   "id": "63548899b5d0bb85",
   "execution_count": 111
  },
  {
   "cell_type": "code",
   "outputs": [],
   "source": [
    "def print_info(m, name):\n",
    "    print(f\"====={name} 정보=====\\nshpae => {m.shape}\\n데이터 연속? {m.is_contiguous()}\\n주소지 => {m.data_ptr()}\\n데이터 => \\n{m.storage()}\\n데이터 stride => {m.stride()}\") \n",
    "    print()\n",
    "    # is_contiquous 메모리가 연속되어 있나요? 라는 뜻\n",
    "    # row 읽고 다음 row읽고 다음 row"
   ],
   "metadata": {
    "collapsed": false,
    "ExecuteTime": {
     "end_time": "2024-03-12T08:42:52.154531700Z",
     "start_time": "2024-03-12T08:42:52.125117100Z"
    }
   },
   "id": "81498ebbc04fe2e9",
   "execution_count": 147
  },
  {
   "cell_type": "markdown",
   "source": [
    "- 전치 : 행 <-> 열 변경"
   ],
   "metadata": {
    "collapsed": false
   },
   "id": "1a7b2344c429477b"
  },
  {
   "cell_type": "code",
   "outputs": [
    {
     "name": "stdout",
     "output_type": "stream",
     "text": [
      "=====t 정보=====\n",
      "shpae => torch.Size([2, 3])\n",
      "데이터 연속? True\n",
      "주소지 => 4076687334720\n",
      "데이터 => \n",
      " 1\n",
      " 2\n",
      " 3\n",
      " 4\n",
      " 5\n",
      " 6\n",
      "[torch.storage.TypedStorage(dtype=torch.int64, device=cpu) of size 6]\n",
      "데이터 stride => (3, 1)\n",
      "\n",
      "=====t2 정보=====\n",
      "shpae => torch.Size([3, 2])\n",
      "데이터 연속? False\n",
      "주소지 => 4076687334720\n",
      "데이터 => \n",
      " 1\n",
      " 2\n",
      " 3\n",
      " 4\n",
      " 5\n",
      " 6\n",
      "[torch.storage.TypedStorage(dtype=torch.int64, device=cpu) of size 6]\n",
      "데이터 stride => (1, 3)\n",
      "\n",
      "=====t3 정보=====\n",
      "shpae => torch.Size([3, 2])\n",
      "데이터 연속? True\n",
      "주소지 => 4076687334720\n",
      "데이터 => \n",
      " 1\n",
      " 2\n",
      " 3\n",
      " 4\n",
      " 5\n",
      " 6\n",
      "[torch.storage.TypedStorage(dtype=torch.int64, device=cpu) of size 6]\n",
      "데이터 stride => (2, 1)\n"
     ]
    },
    {
     "data": {
      "text/plain": "(tensor([[1, 2, 3],\n         [4, 5, 6]]),\n tensor([[1, 4],\n         [2, 5],\n         [3, 6]]),\n tensor([[1, 2],\n         [3, 4],\n         [5, 6]]))"
     },
     "execution_count": 149,
     "metadata": {},
     "output_type": "execute_result"
    }
   ],
   "source": [
    "print_info(t1, \"t\")\n",
    "\n",
    "t2 = t1.T\n",
    "print_info(t2, \"t2\")\n",
    "\n",
    "t3 = t1.reshape(3, 2)\n",
    "print_info(t3, \"t3\")\n",
    "\n",
    "t1, t2, t3"
   ],
   "metadata": {
    "collapsed": false,
    "ExecuteTime": {
     "end_time": "2024-03-12T08:43:04.231373800Z",
     "start_time": "2024-03-12T08:43:04.201886500Z"
    }
   },
   "id": "11722a1b5b970729",
   "execution_count": 149
  },
  {
   "cell_type": "code",
   "outputs": [
    {
     "name": "stdout",
     "output_type": "stream",
     "text": [
      "=====t 정보=====\n",
      "shpae => torch.Size([2, 3])\n",
      "데이터 연속? True\n",
      "주소지 => 4076687334720\n",
      "데이터 =>  1\n",
      " 2\n",
      " 3\n",
      " 4\n",
      " 5\n",
      " 6\n",
      "[torch.storage.TypedStorage(dtype=torch.int64, device=cpu) of size 6]\n",
      "데이터 stride => (3, 1)\n",
      "=====t2 정보=====\n",
      "shpae => torch.Size([3, 2])\n",
      "데이터 연속? True\n",
      "주소지 => 4076687334720\n",
      "데이터 =>  1\n",
      " 2\n",
      " 3\n",
      " 4\n",
      " 5\n",
      " 6\n",
      "[torch.storage.TypedStorage(dtype=torch.int64, device=cpu) of size 6]\n",
      "데이터 stride => (2, 1)\n",
      "=====t3 정보=====\n",
      "shpae => torch.Size([3, 2])\n",
      "데이터 연속? True\n",
      "주소지 => 4076687334720\n",
      "데이터 =>  1\n",
      " 2\n",
      " 3\n",
      " 4\n",
      " 5\n",
      " 6\n",
      "[torch.storage.TypedStorage(dtype=torch.int64, device=cpu) of size 6]\n",
      "데이터 stride => (2, 1)\n"
     ]
    },
    {
     "data": {
      "text/plain": "(tensor([[1, 2, 3],\n         [4, 5, 6]]),\n tensor([[1, 2],\n         [3, 4],\n         [5, 6]]),\n tensor([[1, 2],\n         [3, 4],\n         [5, 6]]))"
     },
     "execution_count": 144,
     "metadata": {},
     "output_type": "execute_result"
    }
   ],
   "source": [
    "print_info(t1, \"t\")\n",
    "\n",
    "t2 = t1.view(3, 2)\n",
    "print_info(t2, \"t2\")\n",
    "\n",
    "t3 = t1.reshape(3, 2)\n",
    "print_info(t3, \"t3\")\n",
    "\n",
    "t1, t2 ,t3"
   ],
   "metadata": {
    "collapsed": false,
    "ExecuteTime": {
     "end_time": "2024-03-12T08:42:00.104348800Z",
     "start_time": "2024-03-12T08:42:00.071206300Z"
    }
   },
   "id": "1ccc166e2b3d8af9",
   "execution_count": 144
  },
  {
   "cell_type": "code",
   "outputs": [],
   "source": [
    "\n",
    "print_info(t1, \"t\")\n",
    "\n",
    "t2 = t1.view(3, 2)\n",
    "print_info(t2, \"t2\")\n",
    "\n",
    "t3 = t1.reshape(3, 2)\n",
    "print_info(t3, \"t3\")"
   ],
   "metadata": {
    "collapsed": false
   },
   "id": "13455883beb1f311"
  },
  {
   "cell_type": "code",
   "outputs": [
    {
     "name": "stdout",
     "output_type": "stream",
     "text": [
      "=====t2 정보=====\n",
      "shpae => torch.Size([3, 2])\n",
      "데이터 연속? False\n",
      "주소지 => 4076687334720\n",
      "데이터 => \n",
      " 1\n",
      " 2\n",
      " 3\n",
      " 4\n",
      " 5\n",
      " 6\n",
      "[torch.storage.TypedStorage(dtype=torch.int64, device=cpu) of size 6]\n",
      "데이터 stride => (1, 3)\n"
     ]
    },
    {
     "data": {
      "text/plain": "tensor([[1, 4],\n        [2, 5],\n        [3, 6]])"
     },
     "execution_count": 158,
     "metadata": {},
     "output_type": "execute_result"
    }
   ],
   "source": [
    "t2 = t1.T # 문제 생성!!\n",
    "print_info(t2, \"t2\")\n",
    "t2"
   ],
   "metadata": {
    "collapsed": false,
    "ExecuteTime": {
     "end_time": "2024-03-12T08:47:19.759684600Z",
     "start_time": "2024-03-12T08:47:19.728108100Z"
    }
   },
   "id": "15cd964ac178a596",
   "execution_count": 158
  },
  {
   "cell_type": "code",
   "outputs": [
    {
     "name": "stdout",
     "output_type": "stream",
     "text": [
      "=====t3 정보=====\n",
      "shpae => torch.Size([1, 6])\n",
      "데이터 연속? True\n",
      "주소지 => 4076687334208\n",
      "데이터 => \n",
      " 1\n",
      " 4\n",
      " 2\n",
      " 5\n",
      " 3\n",
      " 6\n",
      "[torch.storage.TypedStorage(dtype=torch.int64, device=cpu) of size 6]\n",
      "데이터 stride => (6, 1)\n"
     ]
    },
    {
     "data": {
      "text/plain": "tensor([[1, 4, 2, 5, 3, 6]])"
     },
     "execution_count": 159,
     "metadata": {},
     "output_type": "execute_result"
    }
   ],
   "source": [
    "t3 = t2.reshape(-1, 6) # 안맞으면 새로 팜\n",
    "print_info(t3, \"t3\")\n",
    "t3"
   ],
   "metadata": {
    "collapsed": false,
    "ExecuteTime": {
     "end_time": "2024-03-12T08:47:43.948874100Z",
     "start_time": "2024-03-12T08:47:43.907500800Z"
    }
   },
   "id": "8469d0fa7e4a1543",
   "execution_count": 159
  },
  {
   "cell_type": "code",
   "outputs": [
    {
     "ename": "RuntimeError",
     "evalue": "view size is not compatible with input tensor's size and stride (at least one dimension spans across two contiguous subspaces). Use .reshape(...) instead.",
     "output_type": "error",
     "traceback": [
      "\u001B[1;31m---------------------------------------------------------------------------\u001B[0m",
      "\u001B[1;31mRuntimeError\u001B[0m                              Traceback (most recent call last)",
      "Cell \u001B[1;32mIn[152], line 1\u001B[0m\n\u001B[1;32m----> 1\u001B[0m \u001B[43mt2\u001B[49m\u001B[38;5;241;43m.\u001B[39;49m\u001B[43mview\u001B[49m\u001B[43m(\u001B[49m\u001B[38;5;241;43m-\u001B[39;49m\u001B[38;5;241;43m1\u001B[39;49m\u001B[43m,\u001B[49m\u001B[43m \u001B[49m\u001B[38;5;241;43m6\u001B[39;49m\u001B[43m)\u001B[49m\n",
      "\u001B[1;31mRuntimeError\u001B[0m: view size is not compatible with input tensor's size and stride (at least one dimension spans across two contiguous subspaces). Use .reshape(...) instead."
     ]
    }
   ],
   "source": [
    "t2.view(-1, 6)"
   ],
   "metadata": {
    "collapsed": false,
    "ExecuteTime": {
     "end_time": "2024-03-12T08:45:21.339589900Z",
     "start_time": "2024-03-12T08:45:21.243682200Z"
    }
   },
   "id": "f5c318f09dce7055",
   "execution_count": 152
  },
  {
   "cell_type": "code",
   "outputs": [
    {
     "data": {
      "text/plain": "tensor([[1, 2, 3, 4, 5, 6]])"
     },
     "execution_count": 45,
     "metadata": {},
     "output_type": "execute_result"
    }
   ],
   "source": [
    "t1.view(-1, 6)"
   ],
   "metadata": {
    "collapsed": false,
    "ExecuteTime": {
     "end_time": "2024-03-12T05:06:58.001417100Z",
     "start_time": "2024-03-12T05:06:57.986011500Z"
    }
   },
   "id": "e9825b9e308d416a",
   "execution_count": 45
  },
  {
   "cell_type": "markdown",
   "source": [
    "# Tensor 데이터의 메모리 저장 즉 메타 데이터 \n",
    "- 현재 저장 형태, 검색 방향 정보, 시작 정보"
   ],
   "metadata": {
    "collapsed": false
   },
   "id": "1b31e567487add8c"
  },
  {
   "cell_type": "code",
   "outputs": [
    {
     "name": "stdout",
     "output_type": "stream",
     "text": [
      "torch.Size([2, 3]) 2\n",
      "t1.storage() => \n",
      " 1\n",
      " 2\n",
      " 3\n",
      " 4\n",
      " 5\n",
      " 6\n",
      "[torch.storage.TypedStorage(dtype=torch.int64, device=cpu) of size 6]\n",
      "t1.storage_offset() => 0\n",
      "t1.stride() => (3, 1)\n",
      "t1.is_contiguous() => True\n"
     ]
    }
   ],
   "source": [
    "t1 = torch.tensor([[1, 2, 3], [4, 5, 6]])\n",
    "print(t1.shape, t1.ndim)\n",
    "print(f\"t1.storage() => \\n{t1.storage()}\") # 메모리에 어떤 순서로 저장되어 있는지 알 수 있음 \n",
    "print(f\"t1.storage_offset() => {t1.storage_offset()}\")\n",
    "print(f\"t1.stride() => {t1.stride()}\") # 다음 줄로 갈 때 몇 번가야하는지 \n",
    "print(f\"t1.is_contiguous() => {t1.is_contiguous()}\") # 연속되어 있음(t1.storage에서 확인할 수 있음)"
   ],
   "metadata": {
    "collapsed": false,
    "ExecuteTime": {
     "end_time": "2024-03-12T05:00:05.838518500Z",
     "start_time": "2024-03-12T05:00:05.829138500Z"
    }
   },
   "id": "7b2bc624f0fbef39",
   "execution_count": 32
  },
  {
   "cell_type": "code",
   "outputs": [
    {
     "name": "stdout",
     "output_type": "stream",
     "text": [
      "torch.Size([2, 3]) 2\n",
      "t1.storage() => \n",
      " 1\n",
      " 2\n",
      " 3\n",
      " 4\n",
      " 5\n",
      " 6\n",
      "[torch.storage.TypedStorage(dtype=torch.int64, device=cpu) of size 6]\n",
      "t1.storage_offset() => 0\n",
      "t1.stride() => (3, 1)\n",
      "t1.is_contiguous() => True\n"
     ]
    }
   ],
   "source": [
    "t2 = t1.view(-1, 2) # 행과 열을 안바꾼 상태\n",
    "print(t1.shape, t1.ndim)\n",
    "print(f\"t1.storage() => \\n{t1.storage()}\") # 메모리에 어떤 순서로 저장되어 있는지 알 수 있음 \n",
    "print(f\"t1.storage_offset() => {t1.storage_offset()}\")\n",
    "print(f\"t1.stride() => {t1.stride()}\") # 다음 줄로 갈 때 몇 번가야하는지 \n",
    "print(f\"t1.is_contiguous() => {t1.is_contiguous()}\") # 연속되어 있음(t1.storage에서 확인할 수 있음)"
   ],
   "metadata": {
    "collapsed": false,
    "ExecuteTime": {
     "end_time": "2024-03-12T05:00:37.224908100Z",
     "start_time": "2024-03-12T05:00:37.175200300Z"
    }
   },
   "id": "929ac6627e1a4e20",
   "execution_count": 33
  },
  {
   "cell_type": "code",
   "outputs": [],
   "source": [],
   "metadata": {
    "collapsed": false,
    "ExecuteTime": {
     "end_time": "2024-03-12T05:18:35.132527200Z",
     "start_time": "2024-03-12T05:18:35.126826800Z"
    }
   },
   "id": "7bdf6ad10fca0669",
   "execution_count": 46
  },
  {
   "cell_type": "markdown",
   "source": [
    "reshape은 copy\n",
    "T하면 주소지는 공유 / stride가 바뀜 공유가 힘들엉\n",
    "view는 원본 공유"
   ],
   "metadata": {
    "collapsed": false
   },
   "id": "77e93ae1a75f5154"
  },
  {
   "cell_type": "markdown",
   "source": [
    "# 차원 제거 / 추가\n",
    "- tensor.squeeze() : 텐서에서 차원찍었을 때 1인 것 제거 -> [] 한겹 벗기는 거\n",
    "- tensor.unsqueeze(dim) : 텐서에 차원 1인 것 추가"
   ],
   "metadata": {
    "collapsed": false
   },
   "id": "a3469fd63f14a7e0"
  },
  {
   "cell_type": "code",
   "outputs": [],
   "source": [
    "# 데이터 생성\n",
    "t1 = torch.tensor([[1, 2], [4, 5]])\n",
    "t2 = torch.tensor([[1, 2, 3, 4]])\n",
    "t3 = torch.tensor([[[1, 2, 3, 4]]])\n",
    "t4 = torch.tensor([[1], [2], [3], [4]])"
   ],
   "metadata": {
    "collapsed": false,
    "ExecuteTime": {
     "end_time": "2024-03-12T05:43:06.954167800Z",
     "start_time": "2024-03-12T05:43:06.943407500Z"
    }
   },
   "id": "f77a69c3cee244ec",
   "execution_count": 61
  },
  {
   "cell_type": "code",
   "outputs": [
    {
     "name": "stdout",
     "output_type": "stream",
     "text": [
      "t1.shape => torch.Size([2, 2]), t1.dim => 2D, 주소 => 4076687458880\n",
      "t2.shape => torch.Size([1, 4]), t2.dim => 2D, 주소 => 4076687459008\n",
      "t3.shape => torch.Size([1, 1, 4]), t2.dim => 3D, 주소 => 4076687459072\n",
      "t4.shape => torch.Size([4, 1]), t2.dim => 2D, 주소 => 4076687459200\n"
     ]
    }
   ],
   "source": [
    "print(f\"t1.shape => {t1.shape}, t1.dim => {t1.ndim}D, 주소 => {t1.data_ptr()}\")\n",
    "print(f\"t2.shape => {t2.shape}, t2.dim => {t2.ndim}D, 주소 => {t2.data_ptr()}\")\n",
    "print(f\"t3.shape => {t3.shape}, t2.dim => {t3.ndim}D, 주소 => {t3.data_ptr()}\")\n",
    "print(f\"t4.shape => {t4.shape}, t2.dim => {t4.ndim}D, 주소 => {t4.data_ptr()}\")"
   ],
   "metadata": {
    "collapsed": false,
    "ExecuteTime": {
     "end_time": "2024-03-12T05:51:20.283708100Z",
     "start_time": "2024-03-12T05:51:20.258455100Z"
    }
   },
   "id": "6b168489fdec4e07",
   "execution_count": 69
  },
  {
   "cell_type": "code",
   "outputs": [
    {
     "name": "stdout",
     "output_type": "stream",
     "text": [
      "t1 차원 축소 => torch.Size([2, 2]), t1.dim => 2D, 주소 => 4076687458880\n",
      "t2 차원 축소 => torch.Size([4]), t2.dim => 1D, 주소 => 4076687459008\n",
      "t3 차원 축소 => torch.Size([1, 4]), t2.dim => 2D, 주소 => 4076687459072\n",
      "t4 차원 축소 => torch.Size([4]), t2.dim => 1D, 주소 => 4076687459200\n"
     ]
    }
   ],
   "source": [
    "t11 = t1.squeeze()\n",
    "t22 = t2.squeeze()\n",
    "t33 = t3.squeeze(dim=0)  # 1, 1, 4 였을 때 0번이 1이면 \n",
    "t44 = t4.squeeze()\n",
    "print(f\"t1 차원 축소 => {t11.shape}, t1.dim => {t11.ndim}D, 주소 => {t11.data_ptr()}\")\n",
    "print(f\"t2 차원 축소 => {t22.shape}, t2.dim => {t22.ndim}D, 주소 => {t22.data_ptr()}\")\n",
    "print(f\"t3 차원 축소 => {t33.shape}, t2.dim => {t33.ndim}D, 주소 => {t33.data_ptr()}\")\n",
    "print(f\"t4 차원 축소 => {t44.shape}, t2.dim => {t44.ndim}D, 주소 => {t44.data_ptr()}\")"
   ],
   "metadata": {
    "collapsed": false,
    "ExecuteTime": {
     "end_time": "2024-03-12T05:54:12.660119100Z",
     "start_time": "2024-03-12T05:54:12.639940Z"
    }
   },
   "id": "d38492b71b90d79a",
   "execution_count": 70
  },
  {
   "cell_type": "code",
   "outputs": [
    {
     "name": "stdout",
     "output_type": "stream",
     "text": [
      "t1 정보 => torch.Size([2, 2]), t1.dim => tensor([[1, 2],\n",
      "        [4, 5]])D, 4076687458880\n"
     ]
    },
    {
     "data": {
      "text/plain": "tensor([[1, 2],\n        [4, 5]])"
     },
     "execution_count": 77,
     "metadata": {},
     "output_type": "execute_result"
    }
   ],
   "source": [
    "# 원소 / 요소 수 변경 없이 차원 1 증가 시키기 => torch.unsqueeze()\n",
    "print(f\"t1 정보 => {t1.shape}, t1.dim => {t1}D, {t1.data_ptr()}\")\n",
    "t1"
   ],
   "metadata": {
    "collapsed": false,
    "ExecuteTime": {
     "end_time": "2024-03-12T05:57:45.987935300Z",
     "start_time": "2024-03-12T05:57:45.972450Z"
    }
   },
   "id": "3930558e14c2fa5c",
   "execution_count": 77
  },
  {
   "cell_type": "code",
   "outputs": [
    {
     "name": "stdout",
     "output_type": "stream",
     "text": [
      "t1 차원 추가 => torch.Size([1, 2, 2]), 3D => 4076687458880\n",
      "t1 차원 추가 => torch.Size([2, 2, 1]), 3D => 4076687458880\n"
     ]
    }
   ],
   "source": [
    "t11 = t1.unsqueeze(dim=0)\n",
    "t22 = t1.unsqueeze(dim=-1)\n",
    "\n",
    "print(f\"t1 차원 추가 => {t11.shape}, {t11.ndim}D => {t11.data_ptr()}\")\n",
    "print(f\"t1 차원 추가 => {t22.shape}, {t22.ndim}D => {t22.data_ptr()}\")"
   ],
   "metadata": {
    "collapsed": false,
    "ExecuteTime": {
     "end_time": "2024-03-12T05:58:56.493861800Z",
     "start_time": "2024-03-12T05:58:56.478380300Z"
    }
   },
   "id": "4e16c1f9a44c9d3a",
   "execution_count": 82
  },
  {
   "cell_type": "markdown",
   "source": [
    "# Tensor 차원 / 형태 변경"
   ],
   "metadata": {
    "collapsed": false
   },
   "id": "d366701f5f982d84"
  },
  {
   "cell_type": "code",
   "outputs": [
    {
     "name": "stdout",
     "output_type": "stream",
     "text": [
      "t1 => torch.Size([1, 3, 2]), 3D\n"
     ]
    }
   ],
   "source": [
    "t1 = torch.tensor([[[1, 2], [11, 22], [44, 55]]])\n",
    "\n",
    "print(f\"t1 => {t1.shape}, {t1.ndim}D\") # [1, 3, 2] -> 0번, 1번, 2번"
   ],
   "metadata": {
    "collapsed": false,
    "ExecuteTime": {
     "end_time": "2024-03-12T06:40:14.295620400Z",
     "start_time": "2024-03-12T06:40:14.257822Z"
    }
   },
   "id": "49a0fdeb710ee13f",
   "execution_count": 92
  },
  {
   "cell_type": "code",
   "outputs": [
    {
     "name": "stdout",
     "output_type": "stream",
     "text": [
      "t11 => torch.Size([2, 3, 1]), 3D\n"
     ]
    }
   ],
   "source": [
    "# 2개의 차원을 변경하는 메서드\n",
    "t11 = t1.transpose(0, 2) # 2개씩만 가능 \n",
    "print(f\"t11 => {t11.shape}, {t11.ndim}D\")"
   ],
   "metadata": {
    "collapsed": false,
    "ExecuteTime": {
     "end_time": "2024-03-12T06:40:17.884620100Z",
     "start_time": "2024-03-12T06:40:17.850657300Z"
    }
   },
   "id": "2e242ed00466d5dd",
   "execution_count": 94
  },
  {
   "cell_type": "code",
   "outputs": [
    {
     "data": {
      "text/plain": "tensor([[[ 1,  2],\n         [11, 22],\n         [44, 55]]])"
     },
     "execution_count": 100,
     "metadata": {},
     "output_type": "execute_result"
    }
   ],
   "source": [
    "t1"
   ],
   "metadata": {
    "collapsed": false,
    "ExecuteTime": {
     "end_time": "2024-03-12T06:42:52.459372800Z",
     "start_time": "2024-03-12T06:42:52.425474200Z"
    }
   },
   "id": "1a87a5307062d131",
   "execution_count": 100
  },
  {
   "cell_type": "code",
   "outputs": [
    {
     "data": {
      "text/plain": "tensor([[[ 1],\n         [11],\n         [44]],\n\n        [[ 2],\n         [22],\n         [55]]])"
     },
     "execution_count": 95,
     "metadata": {},
     "output_type": "execute_result"
    }
   ],
   "source": [
    "t11"
   ],
   "metadata": {
    "collapsed": false,
    "ExecuteTime": {
     "end_time": "2024-03-12T06:40:25.715156600Z",
     "start_time": "2024-03-12T06:40:25.674846400Z"
    }
   },
   "id": "ba109c0b7c16b589",
   "execution_count": 95
  },
  {
   "cell_type": "code",
   "outputs": [
    {
     "name": "stdout",
     "output_type": "stream",
     "text": [
      "t22 => torch.Size([3, 2, 1]), 3\n"
     ]
    }
   ],
   "source": [
    "# 모든 차원을 변경하는 메서드\n",
    "t22 = t1.permute(1, 2, 0)\n",
    "print(f\"t22 => {t22.shape}, {t22.ndim}\")"
   ],
   "metadata": {
    "collapsed": false,
    "ExecuteTime": {
     "end_time": "2024-03-12T06:41:39.459087500Z",
     "start_time": "2024-03-12T06:41:39.422244600Z"
    }
   },
   "id": "ffae48f2ee2f1d34",
   "execution_count": 97
  },
  {
   "cell_type": "code",
   "outputs": [
    {
     "name": "stdout",
     "output_type": "stream",
     "text": [
      "4076687335168, 4076687335168, 4076687335168\n"
     ]
    }
   ],
   "source": [
    "print(f\"{t1.data_ptr()}, {t22.data_ptr()}, {t11.data_ptr()}\") # 데이터 참조 위치는 같음 -> 마찬가지로 meta data가 바뀌는 것 "
   ],
   "metadata": {
    "collapsed": false,
    "ExecuteTime": {
     "end_time": "2024-03-12T06:43:56.104534400Z",
     "start_time": "2024-03-12T06:43:56.065536100Z"
    }
   },
   "id": "91c74ad8b0f90400",
   "execution_count": 102
  },
  {
   "cell_type": "markdown",
   "source": [
    "92p none\n",
    "과제 : [03-12 과제]\n",
    "(1) Tensor 생성, 형태 변형, 속성 정보\n",
    "(2) 인공지능 관련 수학\n",
    "[참고]https://thebook.io/080246/0099/\n",
    "** 빅분기 시험 4주 남았습니다.\n",
    "미리 계획 세우시고 준비하셔요~"
   ],
   "metadata": {
    "collapsed": false
   },
   "id": "41c1eba79d880f1b"
  }
 ],
 "metadata": {
  "kernelspec": {
   "display_name": "Python 3",
   "language": "python",
   "name": "python3"
  },
  "language_info": {
   "codemirror_mode": {
    "name": "ipython",
    "version": 2
   },
   "file_extension": ".py",
   "mimetype": "text/x-python",
   "name": "python",
   "nbconvert_exporter": "python",
   "pygments_lexer": "ipython2",
   "version": "2.7.6"
  }
 },
 "nbformat": 4,
 "nbformat_minor": 5
}
