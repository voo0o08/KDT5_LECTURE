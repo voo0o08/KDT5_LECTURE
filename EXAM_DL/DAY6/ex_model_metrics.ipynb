{
 "cells": [
  {
   "cell_type": "markdown",
   "source": [
    "# 모델 성능평가 지표 살펴보기 => 다중분류\n",
    "- scikit-learn의 metrics\n",
    "- pytorch의 torchmetrics\n",
    "- 직접 평가 함수 생성"
   ],
   "metadata": {
    "collapsed": false
   },
   "id": "a63a16d0b8d1a69a"
  },
  {
   "cell_type": "markdown",
   "source": [
    "- 모듈로딩 및 데이터 준비"
   ],
   "metadata": {
    "collapsed": false
   },
   "id": "69e2ebf977477f2a"
  },
  {
   "cell_type": "code",
   "outputs": [],
   "source": [
    "# 모듈 로딩\n",
    "import torch\n",
    "import torchmetrics.functional.classification as torch_metrics\n",
    "import sklearn.metrics as sk_metrics\n",
    "import numpy as np\n",
    "from sklearn.model_selection import StratifiedKFold"
   ],
   "metadata": {
    "collapsed": false,
    "ExecuteTime": {
     "end_time": "2024-03-18T00:23:31.499623800Z",
     "start_time": "2024-03-18T00:23:31.473222200Z"
    }
   },
   "id": "3e1c356e5685846e",
   "execution_count": 4
  },
  {
   "cell_type": "code",
   "outputs": [],
   "source": [
    "# 임의의 데이터 준비 : 다중분류 0, 1, 2\n",
    "target = torch.tensor([2, 1, 0, 0])\n",
    "preds = torch.tensor([2, 1, 0, 1])"
   ],
   "metadata": {
    "collapsed": false,
    "ExecuteTime": {
     "end_time": "2024-03-18T01:23:07.091181100Z",
     "start_time": "2024-03-18T01:23:07.072299Z"
    }
   },
   "id": "7563d43bb6d7b40d",
   "execution_count": 25
  },
  {
   "cell_type": "markdown",
   "source": [
    "- 성능 평가 [1] torch_metrics\n"
   ],
   "metadata": {
    "collapsed": false
   },
   "id": "d0ef49b0c923a693"
  },
  {
   "cell_type": "code",
   "outputs": [
    {
     "name": "stdout",
     "output_type": "stream",
     "text": [
      "[confusion matrix]\n",
      "tensor([[1, 1, 0],\n",
      "        [0, 1, 0],\n",
      "        [0, 0, 1]])\n"
     ]
    }
   ],
   "source": [
    "# 혼돈행렬(confusion matrix)\n",
    "con = torch_metrics.confusion_matrix(preds, target, task=\"multiclass\", num_classes=3)\n",
    "print(f\"[confusion matrix]\\n{con}\")"
   ],
   "metadata": {
    "collapsed": false,
    "ExecuteTime": {
     "end_time": "2024-03-18T01:23:07.395100Z",
     "start_time": "2024-03-18T01:23:07.382288300Z"
    }
   },
   "id": "cdedbff1a464c64",
   "execution_count": 26
  },
  {
   "cell_type": "code",
   "outputs": [
    {
     "name": "stdout",
     "output_type": "stream",
     "text": [
      "[Target] ==> tensor([2, 1, 0, 0])\n",
      "[Prediction] ==> tensor([2, 1, 0, 1])\n",
      "[pre] : 0.75\n",
      "[recall] : 0.75\n",
      "[f1] : 0.75\n",
      "[accuracy] : 0.75\n"
     ]
    }
   ],
   "source": [
    "# micro 경우 즉, 균형 데이터 셋\n",
    "pre = torch_metrics.precision(preds, target, task='multiclass', num_classes=3, average='micro')\n",
    "recall = torch_metrics.recall(preds, target, task='multiclass', num_classes=3, average='micro')\n",
    "f1 = torch_metrics.f1_score(preds, target, task='multiclass', num_classes=3, average='micro')\n",
    "accuracy = torch_metrics.accuracy(preds, target, task='multiclass', num_classes=3, average='micro')\n",
    "torch_metrics.multiclass_accuracy(preds, target, num_classes=3, average='micro')\n",
    "\n",
    "print(f\"[Target] ==> {target}\")\n",
    "print(f\"[Prediction] ==> {preds}\")\n",
    "print(f\"[pre] : {pre}\\n[recall] : {recall}\\n[f1] : {f1}\\n[accuracy] : {accuracy}\")"
   ],
   "metadata": {
    "collapsed": false,
    "ExecuteTime": {
     "end_time": "2024-03-18T01:23:07.556303200Z",
     "start_time": "2024-03-18T01:23:07.540647800Z"
    }
   },
   "id": "b789bb4720737dc0",
   "execution_count": 27
  },
  {
   "cell_type": "code",
   "outputs": [
    {
     "name": "stdout",
     "output_type": "stream",
     "text": [
      "[Target] ==> tensor([2, 1, 0, 0])\n",
      "[Prediction] ==> tensor([2, 1, 0, 1])\n",
      "[pre] : 0.8333333730697632\n",
      "[recall] : 0.8333333730697632\n",
      "[f1] : 0.7777777910232544\n",
      "[accuracy] : 0.8333333730697632\n"
     ]
    }
   ],
   "source": [
    "# macro 경우 즉, 균형 데이터 셋\n",
    "pre = torch_metrics.precision(preds, target, task='multiclass', num_classes=3, average='macro')\n",
    "recall = torch_metrics.recall(preds, target, task='multiclass', num_classes=3, average='macro')\n",
    "f1 = torch_metrics.f1_score(preds, target, task='multiclass', num_classes=3, average='macro')\n",
    "accuracy = torch_metrics.accuracy(preds, target, task='multiclass', num_classes=3, average='macro')\n",
    "torch_metrics.multiclass_accuracy(preds, target, num_classes=3, average='macro')\n",
    "\n",
    "print(f\"[Target] ==> {target}\")\n",
    "print(f\"[Prediction] ==> {preds}\")\n",
    "print(f\"[pre] : {pre}\\n[recall] : {recall}\\n[f1] : {f1}\\n[accuracy] : {accuracy}\")"
   ],
   "metadata": {
    "collapsed": false,
    "ExecuteTime": {
     "end_time": "2024-03-18T01:23:07.707438300Z",
     "start_time": "2024-03-18T01:23:07.692659Z"
    }
   },
   "id": "9b0a8682d199015b",
   "execution_count": 28
  },
  {
   "cell_type": "code",
   "outputs": [],
   "source": [
    "# 성능평가 2\n",
    "# tensor => numpy\n",
    "target = np.array(target)\n",
    "preds = preds.numpy()"
   ],
   "metadata": {
    "collapsed": false,
    "ExecuteTime": {
     "end_time": "2024-03-18T01:23:08.017515500Z",
     "start_time": "2024-03-18T01:23:08.010053800Z"
    }
   },
   "id": "dee73b5f3628f4aa",
   "execution_count": 29
  },
  {
   "cell_type": "code",
   "outputs": [
    {
     "name": "stdout",
     "output_type": "stream",
     "text": [
      "[[1 1 0]\n",
      " [0 1 0]\n",
      " [0 0 1]]\n"
     ]
    },
    {
     "data": {
      "text/plain": "<Figure size 640x480 with 2 Axes>",
      "image/png": "[encoded data removed]"
     },
     "metadata": {},
     "output_type": "display_data"
    }
   ],
   "source": [
    "import matplotlib.pyplot as plt\n",
    "\n",
    "con = sk_metrics.confusion_matrix(target, preds)\n",
    "print(con)\n",
    "con_Display = sk_metrics.ConfusionMatrixDisplay(con)\n",
    "con_Display.plot()\n",
    "plt.show()"
   ],
   "metadata": {
    "collapsed": false,
    "ExecuteTime": {
     "end_time": "2024-03-18T01:23:08.310864600Z",
     "start_time": "2024-03-18T01:23:08.180338100Z"
    }
   },
   "id": "7acb6e4b413449ae",
   "execution_count": 30
  },
  {
   "cell_type": "code",
   "outputs": [
    {
     "name": "stdout",
     "output_type": "stream",
     "text": [
      "[Target] ==> [2 1 0 0]\n",
      "[Prediction] ==> [2 1 0 1]\n",
      "[pre] : 0.8333333333333334\n",
      "[recall] : 0.8333333333333334\n",
      "[f1] : 0.7777777777777777\n",
      "[accuracy] : 0.75\n"
     ]
    }
   ],
   "source": [
    "# 다중 분류 성능 분석 출력\n",
    "pre = sk_metrics.precision_score(preds, target, average='macro')\n",
    "recall = sk_metrics.recall_score(preds, target, average='macro')\n",
    "f1 = sk_metrics.f1_score(preds, target, average='macro')\n",
    "\n",
    "accuracy = sk_metrics.accuracy_score(preds, target)\n",
    "# sk_metrics.multiclass_accuracy(preds, target, num_classes=3, average='macro')\n",
    "\n",
    "print(f\"[Target] ==> {target}\")\n",
    "print(f\"[Prediction] ==> {preds}\")\n",
    "print(f\"[pre] : {pre}\\n[recall] : {recall}\\n[f1] : {f1}\\n[accuracy] : {accuracy}\")"
   ],
   "metadata": {
    "collapsed": false,
    "ExecuteTime": {
     "end_time": "2024-03-18T01:23:08.382491500Z",
     "start_time": "2024-03-18T01:23:08.373609100Z"
    }
   },
   "id": "1a9e9cd80a5badb2",
   "execution_count": 31
  },
  {
   "cell_type": "code",
   "outputs": [],
   "source": [],
   "metadata": {
    "collapsed": false,
    "ExecuteTime": {
     "end_time": "2024-03-18T01:23:08.523755400Z",
     "start_time": "2024-03-18T01:23:08.513945700Z"
    }
   },
   "id": "28595270b871cf21",
   "execution_count": 31
  },
  {
   "cell_type": "code",
   "outputs": [],
   "source": [],
   "metadata": {
    "collapsed": false,
    "ExecuteTime": {
     "end_time": "2024-03-18T01:23:08.730077600Z",
     "start_time": "2024-03-18T01:23:08.699525900Z"
    }
   },
   "id": "cea339fac48f86fa",
   "execution_count": 31
  },
  {
   "cell_type": "code",
   "outputs": [],
   "source": [],
   "metadata": {
    "collapsed": false,
    "ExecuteTime": {
     "end_time": "2024-03-18T01:23:08.890158400Z",
     "start_time": "2024-03-18T01:23:08.874366900Z"
    }
   },
   "id": "f15ad30cfc70acbd",
   "execution_count": 31
  },
  {
   "cell_type": "code",
   "outputs": [],
   "source": [],
   "metadata": {
    "collapsed": false
   },
   "id": "4e94bfdc86c9fdf7"
  }
 ],
 "metadata": {
  "kernelspec": {
   "display_name": "Python 3",
   "language": "python",
   "name": "python3"
  },
  "language_info": {
   "codemirror_mode": {
    "name": "ipython",
    "version": 2
   },
   "file_extension": ".py",
   "mimetype": "text/x-python",
   "name": "python",
   "nbconvert_exporter": "python",
   "pygments_lexer": "ipython2",
   "version": "2.7.6"
  }
 },
 "nbformat": 4,
 "nbformat_minor": 5
}
