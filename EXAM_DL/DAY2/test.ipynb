{
 "cells": [
  {
   "cell_type": "code",
   "execution_count": 2,
   "id": "initial_id",
   "metadata": {
    "collapsed": true,
    "ExecuteTime": {
     "end_time": "2024-03-13T00:14:57.141869900Z",
     "start_time": "2024-03-13T00:14:55.845824400Z"
    }
   },
   "outputs": [],
   "source": [
    "import torch"
   ]
  },
  {
   "cell_type": "markdown",
   "source": [
    "1. 화면 상에서 Pytorch 데이터를 저장하는 단위는 __tensor__ 입니다.  \n",
    "2. n차원 연산 가능\n",
    "3. int(부호 있음), uint(부호 없음)"
   ],
   "metadata": {
    "collapsed": false
   },
   "id": "b42893618b4ae5e8"
  },
  {
   "cell_type": "code",
   "outputs": [
    {
     "data": {
      "text/plain": "tensor([ True,  True,  True,  True, False,  True, False])"
     },
     "execution_count": 7,
     "metadata": {},
     "output_type": "execute_result"
    }
   ],
   "source": [
    "# 4.Pytorch에 논리형 데이터로 저장 후 속성을 출력하는 코드를 작성하세요. \n",
    "\n",
    "data = torch.tensor([10, -5, 1.4, 7, 0, -1, 0], dtype=bool)\n",
    "data"
   ],
   "metadata": {
    "collapsed": false,
    "ExecuteTime": {
     "end_time": "2024-03-13T00:17:34.739812600Z",
     "start_time": "2024-03-13T00:17:34.719207900Z"
    }
   },
   "id": "c52ab976ea5cf333",
   "execution_count": 7
  },
  {
   "cell_type": "code",
   "outputs": [
    {
     "name": "stdout",
     "output_type": "stream",
     "text": [
      "tensor([[0.],\n",
      "        [0.],\n",
      "        [0.],\n",
      "        [0.],\n",
      "        [0.],\n",
      "        [0.],\n",
      "        [0.],\n",
      "        [0.],\n",
      "        [0.],\n",
      "        [0.]])\n",
      "2 D\n"
     ]
    }
   ],
   "source": [
    "# 5. 10개의 0데이터를 2차원으로 저장하는 코드\n",
    "\n",
    "data5 = torch.zeros(10,1)\n",
    "print(data5)\n",
    "print(data5.ndim, \"D\")"
   ],
   "metadata": {
    "collapsed": false,
    "ExecuteTime": {
     "end_time": "2024-03-13T00:22:13.302016100Z",
     "start_time": "2024-03-13T00:22:13.295351700Z"
    }
   },
   "id": "4c3f7d6927684ec6",
   "execution_count": 21
  },
  {
   "cell_type": "code",
   "outputs": [
    {
     "data": {
      "text/plain": "tensor([[1., 0., 0., 0., 0.],\n        [0., 1., 0., 0., 0.],\n        [0., 0., 1., 0., 0.],\n        [0., 0., 0., 1., 0.],\n        [0., 0., 0., 0., 1.]])"
     },
     "execution_count": 14,
     "metadata": {},
     "output_type": "execute_result"
    }
   ],
   "source": [
    "# 6. 5개의 1데이터가 대각선으로 저장되는 2차원 저장 코드\n",
    "data = torch.eye(5)\n",
    "data"
   ],
   "metadata": {
    "collapsed": false,
    "ExecuteTime": {
     "end_time": "2024-03-13T00:20:50.635493200Z",
     "start_time": "2024-03-13T00:20:50.619665400Z"
    }
   },
   "id": "380cec25556f35e0",
   "execution_count": 14
  },
  {
   "cell_type": "code",
   "outputs": [
    {
     "data": {
      "text/plain": "tensor([[3.],\n        [3.],\n        [3.],\n        [3.],\n        [3.],\n        [3.],\n        [3.],\n        [3.],\n        [3.],\n        [3.]])"
     },
     "execution_count": 22,
     "metadata": {},
     "output_type": "execute_result"
    }
   ],
   "source": [
    "# 7. 5번에서 저장된 형태와 동일하지만 값이 3이 저장된 코드를 작성하세요.\n",
    "data7 = torch.full_like(data5, 3)\n",
    "data7"
   ],
   "metadata": {
    "collapsed": false,
    "ExecuteTime": {
     "end_time": "2024-03-13T00:22:28.438986500Z",
     "start_time": "2024-03-13T00:22:28.424916300Z"
    }
   },
   "id": "6c2640dc88f50db2",
   "execution_count": 22
  },
  {
   "cell_type": "code",
   "outputs": [
    {
     "data": {
      "text/plain": "(tensor([ 1.,  8., 15., 22., 29., 36., 43., 50., 57., 64., 71., 78., 85., 92.,\n         99.]),\n torch.float32)"
     },
     "execution_count": 77,
     "metadata": {},
     "output_type": "execute_result"
    }
   ],
   "source": [
    "# 8. ndarray데이터를 Pytorch에 저장하는 코드를 작성하세요.(dtype = float32)\n",
    "import numpy as np\n",
    "array1 = np.arange(1, 101, 7)\n",
    "data8 = torch.as_tensor(array1, dtype=torch.float32)\n",
    "# data8 = torch.from_numpy(array1) # from_numpy는 dtype은 못 받음\n",
    "data8, data8.dtype"
   ],
   "metadata": {
    "collapsed": false,
    "ExecuteTime": {
     "end_time": "2024-03-13T01:13:25.648564700Z",
     "start_time": "2024-03-13T01:13:25.626319100Z"
    }
   },
   "id": "fb63455ae24ad9ee",
   "execution_count": 77
  },
  {
   "cell_type": "code",
   "outputs": [],
   "source": [
    "# 9. 아래 조건에 맞는 데이터를 Pytorch에 저장하는 코드를 작성하세요. \n",
    "img_name = \"flower.jpg\"\n",
    "img = torch.randint(1, 255, (80, 120)) # 이미지는 가로, 세로 \n",
    "img.type(torch.int8)\n",
    "torch.save(img, img_name)"
   ],
   "metadata": {
    "collapsed": false,
    "ExecuteTime": {
     "end_time": "2024-03-13T01:15:13.051805800Z",
     "start_time": "2024-03-13T01:15:13.037226300Z"
    }
   },
   "id": "7e62159996ef2917",
   "execution_count": 78
  },
  {
   "cell_type": "code",
   "outputs": [
    {
     "data": {
      "text/plain": "(tensor([ 1,  2,  3,  4,  5,  6,  7,  8,  9, 10]), 1, torch.Size([10]))"
     },
     "execution_count": 86,
     "metadata": {},
     "output_type": "execute_result"
    }
   ],
   "source": [
    "# 10. 아래 조건에 맞도록 코드를 작성하세요. \n",
    "# 10 - 1) 1D로 저장 임의의 정수 10개\n",
    "data10_1 = torch.tensor(range(1, 11))\n",
    "data10_1, data10_1.ndim, data10_1.shape"
   ],
   "metadata": {
    "collapsed": false,
    "ExecuteTime": {
     "end_time": "2024-03-13T01:23:59.833085400Z",
     "start_time": "2024-03-13T01:23:59.811917600Z"
    }
   },
   "id": "eefd74f3484f640e",
   "execution_count": 86
  },
  {
   "cell_type": "code",
   "outputs": [
    {
     "data": {
      "text/plain": "tensor([[[ 1,  2,  3,  4,  5,  6,  7,  8,  9, 10]]])"
     },
     "execution_count": 54,
     "metadata": {},
     "output_type": "execute_result"
    }
   ],
   "source": [
    "# 10 - 2) 저장된 데이터를 요소 수 변경 없이 3D로 변환\n",
    "data10_2 = torch.unsqueeze(data10_1, dim=0)\n",
    "data10_2 = torch.unsqueeze(data10_2, dim=0)\n",
    "data10_2"
   ],
   "metadata": {
    "collapsed": false,
    "ExecuteTime": {
     "end_time": "2024-03-13T00:32:50.889647600Z",
     "start_time": "2024-03-13T00:32:50.876034600Z"
    }
   },
   "id": "e527d92dc167b419",
   "execution_count": 54
  },
  {
   "cell_type": "code",
   "outputs": [
    {
     "data": {
      "text/plain": "tensor([[[ 1,  2,  3,  4,  5,  6,  7,  8,  9, 10]]])"
     },
     "execution_count": 83,
     "metadata": {},
     "output_type": "execute_result"
    }
   ],
   "source": [
    "# 10 - 3) 2에 저장된 데이터의 2개 차원 변경한 3D로 변환\n",
    "data10_2.transpose(1, 0)"
   ],
   "metadata": {
    "collapsed": false,
    "ExecuteTime": {
     "end_time": "2024-03-13T01:22:30.209916900Z",
     "start_time": "2024-03-13T01:22:30.194178900Z"
    }
   },
   "id": "37b412cb0611e8f5",
   "execution_count": 83
  },
  {
   "cell_type": "code",
   "outputs": [
    {
     "data": {
      "text/plain": "tensor([[[ 1],\n         [ 2],\n         [ 3],\n         [ 4],\n         [ 5],\n         [ 6],\n         [ 7],\n         [ 8],\n         [ 9],\n         [10]]])"
     },
     "execution_count": 87,
     "metadata": {},
     "output_type": "execute_result"
    }
   ],
   "source": [
    "# 10 - 4) 2에 저장된 데이터의 3개 차원 모두 변경한 3D로 변환\n",
    "data10_2.permute(1, 2, 0)"
   ],
   "metadata": {
    "collapsed": false,
    "ExecuteTime": {
     "end_time": "2024-03-13T01:25:21.896583700Z",
     "start_time": "2024-03-13T01:25:21.886099200Z"
    }
   },
   "id": "ae629301e486dfd2",
   "execution_count": 87
  },
  {
   "cell_type": "code",
   "outputs": [
    {
     "data": {
      "text/plain": "0     99\n1    100\n2     80\ndtype: int64"
     },
     "execution_count": 90,
     "metadata": {},
     "output_type": "execute_result"
    }
   ],
   "source": [
    "# 11. 아래 조건에 맞도록 코드를 작성하세요.\n",
    "import pandas as pd\n",
    "# (1) 데이터 저장\n",
    "data = pd.DataFrame({\"국어\" : [90, 70, 80], \"영어\" : [70, 100, 80], \"수학\" : [99, 88, 77]})\n",
    "\n",
    "# (2) 과목별 합계 평균 최고점\n",
    "data.sum(axis = 1)\n",
    "data.mean(axis = 1)\n",
    "data.max(axis = 1)"
   ],
   "metadata": {
    "collapsed": false,
    "ExecuteTime": {
     "end_time": "2024-03-13T01:30:38.964096400Z",
     "start_time": "2024-03-13T01:30:38.937094100Z"
    }
   },
   "id": "c55b3be21f0db58c",
   "execution_count": 90
  },
  {
   "cell_type": "code",
   "outputs": [
    {
     "data": {
      "text/plain": "국어     90\n영어    100\n수학     99\ndtype: int64"
     },
     "execution_count": 91,
     "metadata": {},
     "output_type": "execute_result"
    }
   ],
   "source": [
    "# (3) 한 사람의 과목 합계 평균 최고점\n",
    "data.sum(axis = 0)\n",
    "data.mean(axis = 0)\n",
    "data.max(axis = 0)"
   ],
   "metadata": {
    "collapsed": false,
    "ExecuteTime": {
     "end_time": "2024-03-13T01:30:39.099943300Z",
     "start_time": "2024-03-13T01:30:39.077208900Z"
    }
   },
   "id": "84b71af65b3f0d56",
   "execution_count": 91
  },
  {
   "cell_type": "code",
   "outputs": [],
   "source": [
    "# 12. 아래 조건에 맞도록 코드를 작성하세요. \n",
    "# 1. 데이터 저장\n",
    "data2 = torch.tensor([[0.5], [0.2], [0.7]])\n",
    "data1 = torch.tensor(data.values, dtype=data2.dtype)\n",
    "\n",
    "# 2.사칙연산\n"
   ],
   "metadata": {
    "collapsed": false,
    "ExecuteTime": {
     "end_time": "2024-03-13T01:36:24.846357700Z",
     "start_time": "2024-03-13T01:36:24.835853900Z"
    }
   },
   "id": "f978fa01bb874d8f",
   "execution_count": 103
  },
  {
   "cell_type": "code",
   "outputs": [
    {
     "data": {
      "text/plain": "tensor([[128.3000],\n        [116.6000],\n        [109.9000]])"
     },
     "execution_count": 94,
     "metadata": {},
     "output_type": "execute_result"
    }
   ],
   "source": [
    "# 3.행렬곱셈\n",
    "data1.matmul(data2)"
   ],
   "metadata": {
    "collapsed": false,
    "ExecuteTime": {
     "end_time": "2024-03-13T01:31:55.983621900Z",
     "start_time": "2024-03-13T01:31:55.968792100Z"
    }
   },
   "id": "1396867e8ea0ad0e",
   "execution_count": 94
  },
  {
   "cell_type": "code",
   "outputs": [
    {
     "name": "stdout",
     "output_type": "stream",
     "text": [
      "=========== + 연산 결과 ===========\n",
      "tensor([[ 90.5000,  70.5000,  99.5000],\n",
      "        [ 70.2000, 100.2000,  88.2000],\n",
      "        [ 80.7000,  80.7000,  77.7000]])\n",
      "\n",
      "=========== - 연산 결과 ===========\n",
      "tensor([[89.5000, 69.5000, 98.5000],\n",
      "        [69.8000, 99.8000, 87.8000],\n",
      "        [79.3000, 79.3000, 76.3000]])\n",
      "\n",
      "=========== / 연산 결과 ===========\n",
      "tensor([[180.0000, 140.0000, 198.0000],\n",
      "        [350.0000, 500.0000, 440.0000],\n",
      "        [114.2857, 114.2857, 110.0000]])\n",
      "\n",
      "=========== * 연산 결과 ===========\n",
      "tensor([[45.0000, 35.0000, 49.5000],\n",
      "        [14.0000, 20.0000, 17.6000],\n",
      "        [56.0000, 56.0000, 53.9000]])\n"
     ]
    }
   ],
   "source": [
    "test = [\"+\", \"-\", \"/\", \"*\"]\n",
    "\n",
    "for t in test:\n",
    "    print(f\"=========== {t} 연산 결과 ===========\")\n",
    "    temp = f\"data1{t}data2\"\n",
    "    print(eval(temp))\n",
    "    print()"
   ],
   "metadata": {
    "collapsed": false,
    "ExecuteTime": {
     "end_time": "2024-03-13T01:49:15.705295900Z",
     "start_time": "2024-03-13T01:49:15.688581400Z"
    }
   },
   "id": "f83d8ba801e0f88b",
   "execution_count": 108
  },
  {
   "cell_type": "code",
   "outputs": [],
   "source": [],
   "metadata": {
    "collapsed": false
   },
   "id": "bb85ace6b95437a9"
  }
 ],
 "metadata": {
  "kernelspec": {
   "display_name": "Python 3",
   "language": "python",
   "name": "python3"
  },
  "language_info": {
   "codemirror_mode": {
    "name": "ipython",
    "version": 2
   },
   "file_extension": ".py",
   "mimetype": "text/x-python",
   "name": "python",
   "nbconvert_exporter": "python",
   "pygments_lexer": "ipython2",
   "version": "2.7.6"
  }
 },
 "nbformat": 4,
 "nbformat_minor": 5
}
