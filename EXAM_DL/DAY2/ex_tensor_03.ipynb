{
 "cells": [
  {
   "cell_type": "code",
   "execution_count": null,
   "id": "initial_id",
   "metadata": {
    "collapsed": true
   },
   "outputs": [],
   "source": []
  },
  {
   "cell_type": "markdown",
   "source": [
    "# 행렬 곱셈\n",
    "- 피쳐와 가중치 연산에 활용\n",
    "- tensor.matmul()\n"
   ],
   "metadata": {
    "collapsed": false
   },
   "id": "9ba9926152a1f3ec"
  },
  {
   "cell_type": "code",
   "outputs": [],
   "source": [
    "# 모듈 로딩\n",
    "import torch"
   ],
   "metadata": {
    "collapsed": false,
    "ExecuteTime": {
     "end_time": "2024-03-12T04:14:59.299372300Z",
     "start_time": "2024-03-12T04:14:57.841822700Z"
    }
   },
   "id": "5cfc06f762dbd683",
   "execution_count": 1
  },
  {
   "cell_type": "code",
   "outputs": [],
   "source": [
    "data = torch.tensor([[1, 2],[3, 4]])\n",
    "w = torch.tensor([7])"
   ],
   "metadata": {
    "collapsed": false,
    "ExecuteTime": {
     "end_time": "2024-03-12T04:15:38.189320500Z",
     "start_time": "2024-03-12T04:15:38.169164100Z"
    }
   },
   "id": "eb299753eedaf89e",
   "execution_count": 2
  },
  {
   "cell_type": "code",
   "outputs": [
    {
     "name": "stdout",
     "output_type": "stream",
     "text": [
      "data shape: torch.Size([2, 2])\n",
      "w type: torch.Size([1])\n"
     ]
    }
   ],
   "source": [
    "print(f\"data shape: {data.shape}\")\n",
    "print(f\"w type: {w.shape}\")"
   ],
   "metadata": {
    "collapsed": false,
    "ExecuteTime": {
     "end_time": "2024-03-12T04:16:15.172405100Z",
     "start_time": "2024-03-12T04:16:15.159784700Z"
    }
   },
   "id": "7d062ae84c83983c",
   "execution_count": 6
  },
  {
   "cell_type": "code",
   "outputs": [
    {
     "ename": "RuntimeError",
     "evalue": "size mismatch, got input (2), mat (2x2), vec (1)",
     "output_type": "error",
     "traceback": [
      "\u001B[1;31m---------------------------------------------------------------------------\u001B[0m",
      "\u001B[1;31mRuntimeError\u001B[0m                              Traceback (most recent call last)",
      "Cell \u001B[1;32mIn[7], line 2\u001B[0m\n\u001B[0;32m      1\u001B[0m \u001B[38;5;66;03m# 원소단위 곱셈 => 인덱스 1:1 대응\u001B[39;00m\n\u001B[1;32m----> 2\u001B[0m \u001B[38;5;28mprint\u001B[39m(\u001B[38;5;124mf\u001B[39m\u001B[38;5;124m\"\u001B[39m\u001B[38;5;124mdata.matmul(W) : \u001B[39m\u001B[38;5;132;01m{\u001B[39;00mdata\u001B[38;5;241m.\u001B[39mmatmul(w)\u001B[38;5;132;01m}\u001B[39;00m\u001B[38;5;124m\"\u001B[39m)\n",
      "\u001B[1;31mRuntimeError\u001B[0m: size mismatch, got input (2), mat (2x2), vec (1)"
     ]
    }
   ],
   "source": [
    "# 원소단위 곱셈 => 인덱스 1:1 대응 => 행 열 X 행 열\n",
    "print(f\"data.matmul(W) : {data.matmul(w)}\")"
   ],
   "metadata": {
    "collapsed": false,
    "ExecuteTime": {
     "end_time": "2024-03-12T04:17:19.612033300Z",
     "start_time": "2024-03-12T04:17:18.824374200Z"
    }
   },
   "id": "88822c9b9ef8129",
   "execution_count": 7
  },
  {
   "cell_type": "code",
   "outputs": [
    {
     "name": "stdout",
     "output_type": "stream",
     "text": [
      "w2 type: torch.Size([2])\n",
      "data.matmul(W) : tensor([23, 53])\n"
     ]
    }
   ],
   "source": [
    "w2 = torch.tensor([7, 8]) # SR 처럼 col개념으로 생각해야함 \n",
    "print(f\"w2 type: {w2.shape}\")\n",
    "print(f\"data.matmul(W) : {data.matmul(w2)}\")"
   ],
   "metadata": {
    "collapsed": false,
    "ExecuteTime": {
     "end_time": "2024-03-12T04:27:48.456248500Z",
     "start_time": "2024-03-12T04:27:48.446395700Z"
    }
   },
   "id": "750da02f7d37cdc8",
   "execution_count": 14
  },
  {
   "cell_type": "code",
   "outputs": [
    {
     "name": "stdout",
     "output_type": "stream",
     "text": [
      "w2 type: torch.Size([2, 1])\n",
      "data.matmul(W) : tensor([[23],\n",
      "        [53]])\n"
     ]
    }
   ],
   "source": [
    "w2 = torch.tensor([[7], [8]])\n",
    "print(f\"w2 type: {w2.shape}\")\n",
    "print(f\"data.matmul(W) : {data.matmul(w2)}\")\n",
    "print(f\"data.matmul(W) : {data.matmul(w2)}\")"
   ],
   "metadata": {
    "collapsed": false,
    "ExecuteTime": {
     "end_time": "2024-03-12T04:19:32.935274500Z",
     "start_time": "2024-03-12T04:19:32.913199Z"
    }
   },
   "id": "9b74401a2161b9b5",
   "execution_count": 12
  },
  {
   "cell_type": "code",
   "outputs": [],
   "source": [],
   "metadata": {
    "collapsed": false
   },
   "id": "ed4dda50ad55d105"
  }
 ],
 "metadata": {
  "kernelspec": {
   "display_name": "Python 3",
   "language": "python",
   "name": "python3"
  },
  "language_info": {
   "codemirror_mode": {
    "name": "ipython",
    "version": 2
   },
   "file_extension": ".py",
   "mimetype": "text/x-python",
   "name": "python",
   "nbconvert_exporter": "python",
   "pygments_lexer": "ipython2",
   "version": "2.7.6"
  }
 },
 "nbformat": 4,
 "nbformat_minor": 5
}
