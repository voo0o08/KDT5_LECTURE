{
 "cells": [
  {
   "cell_type": "code",
   "execution_count": 6,
   "id": "initial_id",
   "metadata": {
    "collapsed": true,
    "ExecuteTime": {
     "end_time": "2024-03-25T05:14:08.322121500Z",
     "start_time": "2024-03-25T05:14:08.309985900Z"
    }
   },
   "outputs": [],
   "source": [
    "import numpy as np\n",
    "import pandas as pd\n",
    "\n",
    "import torch"
   ]
  },
  {
   "cell_type": "code",
   "outputs": [
    {
     "data": {
      "text/plain": "   sepal.length  sepal.width  petal.length  petal.width variety\n0           5.1          3.5           1.4          0.2  Setosa\n1           4.9          3.0           1.4          0.2  Setosa\n2           4.7          3.2           1.3          0.2  Setosa\n3           4.6          3.1           1.5          0.2  Setosa\n4           5.0          3.6           1.4          0.2  Setosa",
      "text/html": "<div>\n<style scoped>\n    .dataframe tbody tr th:only-of-type {\n        vertical-align: middle;\n    }\n\n    .dataframe tbody tr th {\n        vertical-align: top;\n    }\n\n    .dataframe thead th {\n        text-align: right;\n    }\n</style>\n<table border=\"1\" class=\"dataframe\">\n  <thead>\n    <tr style=\"text-align: right;\">\n      <th></th>\n      <th>sepal.length</th>\n      <th>sepal.width</th>\n      <th>petal.length</th>\n      <th>petal.width</th>\n      <th>variety</th>\n    </tr>\n  </thead>\n  <tbody>\n    <tr>\n      <th>0</th>\n      <td>5.1</td>\n      <td>3.5</td>\n      <td>1.4</td>\n      <td>0.2</td>\n      <td>Setosa</td>\n    </tr>\n    <tr>\n      <th>1</th>\n      <td>4.9</td>\n      <td>3.0</td>\n      <td>1.4</td>\n      <td>0.2</td>\n      <td>Setosa</td>\n    </tr>\n    <tr>\n      <th>2</th>\n      <td>4.7</td>\n      <td>3.2</td>\n      <td>1.3</td>\n      <td>0.2</td>\n      <td>Setosa</td>\n    </tr>\n    <tr>\n      <th>3</th>\n      <td>4.6</td>\n      <td>3.1</td>\n      <td>1.5</td>\n      <td>0.2</td>\n      <td>Setosa</td>\n    </tr>\n    <tr>\n      <th>4</th>\n      <td>5.0</td>\n      <td>3.6</td>\n      <td>1.4</td>\n      <td>0.2</td>\n      <td>Setosa</td>\n    </tr>\n  </tbody>\n</table>\n</div>"
     },
     "execution_count": 4,
     "metadata": {},
     "output_type": "execute_result"
    }
   ],
   "source": [
    "irisDF = pd.read_csv(\"../data/iris.csv\")\n",
    "irisDF.head()"
   ],
   "metadata": {
    "collapsed": false,
    "ExecuteTime": {
     "end_time": "2024-03-25T05:11:22.569028700Z",
     "start_time": "2024-03-25T05:11:22.537743100Z"
    }
   },
   "id": "94763556b0f55b48",
   "execution_count": 4
  },
  {
   "cell_type": "code",
   "outputs": [],
   "source": [
    "X = irisDF.iloc[:, :-1]\n",
    "Y = irisDF.iloc[:, -1]"
   ],
   "metadata": {
    "collapsed": false,
    "ExecuteTime": {
     "end_time": "2024-03-25T05:29:03.601592200Z",
     "start_time": "2024-03-25T05:29:03.581547Z"
    }
   },
   "id": "7b3311709be2903a",
   "execution_count": 29
  },
  {
   "cell_type": "code",
   "outputs": [],
   "source": [
    "from torch.utils.data import Dataset, DataLoader\n",
    "from sklearn.preprocessing import OneHotEncoder, LabelEncoder\n",
    "\n",
    "# OneHotEncoder(sparse_output=True)"
   ],
   "metadata": {
    "collapsed": false,
    "ExecuteTime": {
     "end_time": "2024-03-25T05:29:03.723053800Z",
     "start_time": "2024-03-25T05:29:03.713089200Z"
    }
   },
   "id": "57846947af496280",
   "execution_count": 30
  },
  {
   "cell_type": "code",
   "outputs": [],
   "source": [
    "# Y = pd.DataFrame(irisDF.iloc[:, -1])\n",
    "# OH = OneHotEncoder(sparse_output=False)\n",
    "# onehot_y = OH.fit_transform(Y)\n",
    "# onehot_y"
   ],
   "metadata": {
    "collapsed": false,
    "ExecuteTime": {
     "end_time": "2024-03-25T05:29:03.864991900Z",
     "start_time": "2024-03-25T05:29:03.856361900Z"
    }
   },
   "id": "fbd067047c994460",
   "execution_count": 31
  },
  {
   "cell_type": "code",
   "outputs": [
    {
     "data": {
      "text/plain": "array([0, 0, 0, 0, 0, 0, 0, 0, 0, 0, 0, 0, 0, 0, 0, 0, 0, 0, 0, 0, 0, 0,\n       0, 0, 0, 0, 0, 0, 0, 0, 0, 0, 0, 0, 0, 0, 0, 0, 0, 0, 0, 0, 0, 0,\n       0, 0, 0, 0, 0, 0, 1, 1, 1, 1, 1, 1, 1, 1, 1, 1, 1, 1, 1, 1, 1, 1,\n       1, 1, 1, 1, 1, 1, 1, 1, 1, 1, 1, 1, 1, 1, 1, 1, 1, 1, 1, 1, 1, 1,\n       1, 1, 1, 1, 1, 1, 1, 1, 1, 1, 1, 1, 2, 2, 2, 2, 2, 2, 2, 2, 2, 2,\n       2, 2, 2, 2, 2, 2, 2, 2, 2, 2, 2, 2, 2, 2, 2, 2, 2, 2, 2, 2, 2, 2,\n       2, 2, 2, 2, 2, 2, 2, 2, 2, 2, 2, 2, 2, 2, 2, 2, 2, 2])"
     },
     "execution_count": 32,
     "metadata": {},
     "output_type": "execute_result"
    }
   ],
   "source": [
    "Label = LabelEncoder()\n",
    "Y = Label.fit_transform(Y)\n",
    "Y"
   ],
   "metadata": {
    "collapsed": false,
    "ExecuteTime": {
     "end_time": "2024-03-25T05:29:04.002942600Z",
     "start_time": "2024-03-25T05:29:03.991745700Z"
    }
   },
   "id": "9e5173993654576",
   "execution_count": 32
  },
  {
   "cell_type": "code",
   "outputs": [],
   "source": [
    "# 사용자 정의 DataSet Class\n",
    "class irisDataset(Dataset): # torch.utils.data.Dataset을 부모로 두고 있음\n",
    "    # 초기화 함수\n",
    "    def __init__(self, x_data, y_data):\n",
    "        super().__init__() # 부모 클래스 \n",
    "        \n",
    "        # x 데이터 => ndarray\n",
    "        if isinstance(x_data, torch.Tensor):\n",
    "            # 이미 텐서라면 형변환\n",
    "            self.feature =  x_data.type(torch.FloatTensor)\n",
    "        else:\n",
    "            x_data = x_data.values if isinstance(x_data, pd.DataFrame) else x_data # 데이터 프레임이라면 valuse로 어레이 뽑아줘야함 \n",
    "            self.feature = torch.FloatTensor(x_data)\n",
    "            \n",
    "        # y 데이터 => ndarray\n",
    "        if isinstance(y_data, torch.Tensor):\n",
    "            self.target = y_data.type(torch.LongTensor)\n",
    "        else:\n",
    "            y_data = y_data.values if isinstance(y_data, pd.DataFrame) else y_data \n",
    "            self.target = torch.LongTensor(y_data) \n",
    "        \n",
    "        # 부가적인 것들(필수 X)\n",
    "        self.classes = torch.unique(self.target).tolist()\n",
    "        self.nclasses = len(self.classes)\n",
    "        self.len = len(self.feature)\n",
    "        \n",
    "    # 데이터셋의 개수 체크 함수\n",
    "    def __len__(self):\n",
    "        return self.target.shape[0]\n",
    "    \n",
    "    # 특정 인덱스 데이터 + 라벨 반환 callback function \n",
    "    def __getitem__(self, index):\n",
    "        return self.feature[index], self.target[index] # 둘 다 튜플로 출동 "
   ],
   "metadata": {
    "collapsed": false,
    "ExecuteTime": {
     "end_time": "2024-03-25T05:32:44.570643800Z",
     "start_time": "2024-03-25T05:32:44.545146100Z"
    }
   },
   "id": "c1e2ff993af40e1d",
   "execution_count": 44
  },
  {
   "cell_type": "code",
   "outputs": [],
   "source": [
    "irisDS = irisDataset(X, Y)"
   ],
   "metadata": {
    "collapsed": false,
    "ExecuteTime": {
     "end_time": "2024-03-25T05:42:57.447925500Z",
     "start_time": "2024-03-25T05:42:57.429734300Z"
    }
   },
   "id": "ad76f5f494ac74c1",
   "execution_count": 52
  },
  {
   "cell_type": "code",
   "outputs": [],
   "source": [
    "# 강사님 코드\n",
    "class CustomDataset(Dataset):\n",
    "    def __init__(self, x_data, y_data) -> None:\n",
    "        super().__init__()\n",
    "        self.x = torch.FloatTensor(x_data)\n",
    "        self.y = torch.LongTensor(y_data)\n",
    "        self.classes = np.unique(self.y).tolist()\n",
    "        self.nclasses = len(self.classes)\n",
    "        self.len = len(self.x_data)\n",
    "        \n",
    "    def __len__(self):\n",
    "        return self.len\n",
    "    \n",
    "    def __getitem__(self, index) -> tuple:\n",
    "        return self.x[index], self.y[index]"
   ],
   "metadata": {
    "collapsed": false,
    "ExecuteTime": {
     "end_time": "2024-03-25T05:42:58.016134200Z",
     "start_time": "2024-03-25T05:42:58.002010900Z"
    }
   },
   "id": "c2cd44cf7a906b75",
   "execution_count": 53
  },
  {
   "cell_type": "code",
   "outputs": [
    {
     "name": "stdout",
     "output_type": "stream",
     "text": [
      "irisDF.y => torch.float32, torch.Size([150, 4]), 2\n",
      "irisDF.y => torch.int64, torch.Size([150]), 1\n",
      "irisDF.len => 150\n",
      "irisDF.classes => [0, 1, 2]\n"
     ]
    }
   ],
   "source": [
    "print(f\"irisDF.y => {irisDS.feature.dtype}, {irisDS.feature.shape}, {irisDS.feature.ndim}\") # dtype, shape, ndim float32, 154, 2\n",
    "print(f\"irisDF.y => {irisDS.target.dtype}, {irisDS.target.shape}, {irisDS.target.ndim}\") # int64, 150, 1\n",
    "print(f\"irisDF.len => {irisDS.len}\")\n",
    "print(f\"irisDF.classes => {irisDS.classes}\")"
   ],
   "metadata": {
    "collapsed": false,
    "ExecuteTime": {
     "end_time": "2024-03-25T05:47:45.255391500Z",
     "start_time": "2024-03-25T05:47:45.245403800Z"
    }
   },
   "id": "3c277ea1dcd04db",
   "execution_count": 63
  },
  {
   "cell_type": "markdown",
   "source": [
    "# DataLoader\n",
    "- 에포크 : 처음부터 끝까지 학습하는 횟수\n",
    "- 배치크기 : 전체 데이터를 작은 단위로 나눈 크기 2의 제곱수 크기\n",
    "- 이터레이션 : 에포크, 배치크기로 계산한 반복 횟수 W, b 업데이트 횟수\n",
    "- Dataset에서 데이터가 나오는 것이 아닌 __인덱스__ 가 나옴(샘플러)\n",
    "- DataLoader(dataset, batch_size, shuffle, sampler, batch_sampler, num_worker..."
   ],
   "metadata": {
    "collapsed": false
   },
   "id": "d2fd21317c822478"
  },
  {
   "cell_type": "code",
   "outputs": [],
   "source": [
    "# 로딩된 데이터 확인 함수\n",
    "def print_batch_data(loader, epochs, batch_size=1, shuffle=False, drop_last=False, sampler=None) -> None:\n",
    "    print(f\"[설정값] Batch size: {batch_size}, shuffle: {shuffle}, drop_last: {drop_last}, sampler: {sampler}\")  \n",
    "    \n",
    "    # print(f\"[loader] {loader}\")\n",
    "    \n",
    "    for ep in range(epochs):\n",
    "        print(f\"[{ep} EPOCH] ===== batch : {len(loader)}개\")\n",
    "        for (feature, label) in loader:\n",
    "            print(feature.shape, label.shape, label)"
   ],
   "metadata": {
    "collapsed": false,
    "ExecuteTime": {
     "end_time": "2024-03-25T05:53:43.306261600Z",
     "start_time": "2024-03-25T05:53:43.292509300Z"
    }
   },
   "id": "e5616a62ccfcd89d",
   "execution_count": 76
  },
  {
   "cell_type": "code",
   "outputs": [
    {
     "name": "stdout",
     "output_type": "stream",
     "text": [
      "[설정값] Batch size: 1, shuffle: False, drop_last: False, sampler: None\n",
      "[0 EPOCH] ===== batch : 150개\n",
      "torch.Size([1, 4]) torch.Size([1]) tensor([0])\n",
      "torch.Size([1, 4]) torch.Size([1]) tensor([0])\n",
      "torch.Size([1, 4]) torch.Size([1]) tensor([0])\n",
      "torch.Size([1, 4]) torch.Size([1]) tensor([0])\n",
      "torch.Size([1, 4]) torch.Size([1]) tensor([0])\n",
      "torch.Size([1, 4]) torch.Size([1]) tensor([0])\n",
      "torch.Size([1, 4]) torch.Size([1]) tensor([0])\n",
      "torch.Size([1, 4]) torch.Size([1]) tensor([0])\n",
      "torch.Size([1, 4]) torch.Size([1]) tensor([0])\n",
      "torch.Size([1, 4]) torch.Size([1]) tensor([0])\n",
      "torch.Size([1, 4]) torch.Size([1]) tensor([0])\n",
      "torch.Size([1, 4]) torch.Size([1]) tensor([0])\n",
      "torch.Size([1, 4]) torch.Size([1]) tensor([0])\n",
      "torch.Size([1, 4]) torch.Size([1]) tensor([0])\n",
      "torch.Size([1, 4]) torch.Size([1]) tensor([0])\n",
      "torch.Size([1, 4]) torch.Size([1]) tensor([0])\n",
      "torch.Size([1, 4]) torch.Size([1]) tensor([0])\n",
      "torch.Size([1, 4]) torch.Size([1]) tensor([0])\n",
      "torch.Size([1, 4]) torch.Size([1]) tensor([0])\n",
      "torch.Size([1, 4]) torch.Size([1]) tensor([0])\n",
      "torch.Size([1, 4]) torch.Size([1]) tensor([0])\n",
      "torch.Size([1, 4]) torch.Size([1]) tensor([0])\n",
      "torch.Size([1, 4]) torch.Size([1]) tensor([0])\n",
      "torch.Size([1, 4]) torch.Size([1]) tensor([0])\n",
      "torch.Size([1, 4]) torch.Size([1]) tensor([0])\n",
      "torch.Size([1, 4]) torch.Size([1]) tensor([0])\n",
      "torch.Size([1, 4]) torch.Size([1]) tensor([0])\n",
      "torch.Size([1, 4]) torch.Size([1]) tensor([0])\n",
      "torch.Size([1, 4]) torch.Size([1]) tensor([0])\n",
      "torch.Size([1, 4]) torch.Size([1]) tensor([0])\n",
      "torch.Size([1, 4]) torch.Size([1]) tensor([0])\n",
      "torch.Size([1, 4]) torch.Size([1]) tensor([0])\n",
      "torch.Size([1, 4]) torch.Size([1]) tensor([0])\n",
      "torch.Size([1, 4]) torch.Size([1]) tensor([0])\n",
      "torch.Size([1, 4]) torch.Size([1]) tensor([0])\n",
      "torch.Size([1, 4]) torch.Size([1]) tensor([0])\n",
      "torch.Size([1, 4]) torch.Size([1]) tensor([0])\n",
      "torch.Size([1, 4]) torch.Size([1]) tensor([0])\n",
      "torch.Size([1, 4]) torch.Size([1]) tensor([0])\n",
      "torch.Size([1, 4]) torch.Size([1]) tensor([0])\n",
      "torch.Size([1, 4]) torch.Size([1]) tensor([0])\n",
      "torch.Size([1, 4]) torch.Size([1]) tensor([0])\n",
      "torch.Size([1, 4]) torch.Size([1]) tensor([0])\n",
      "torch.Size([1, 4]) torch.Size([1]) tensor([0])\n",
      "torch.Size([1, 4]) torch.Size([1]) tensor([0])\n",
      "torch.Size([1, 4]) torch.Size([1]) tensor([0])\n",
      "torch.Size([1, 4]) torch.Size([1]) tensor([0])\n",
      "torch.Size([1, 4]) torch.Size([1]) tensor([0])\n",
      "torch.Size([1, 4]) torch.Size([1]) tensor([0])\n",
      "torch.Size([1, 4]) torch.Size([1]) tensor([0])\n",
      "torch.Size([1, 4]) torch.Size([1]) tensor([1])\n",
      "torch.Size([1, 4]) torch.Size([1]) tensor([1])\n",
      "torch.Size([1, 4]) torch.Size([1]) tensor([1])\n",
      "torch.Size([1, 4]) torch.Size([1]) tensor([1])\n",
      "torch.Size([1, 4]) torch.Size([1]) tensor([1])\n",
      "torch.Size([1, 4]) torch.Size([1]) tensor([1])\n",
      "torch.Size([1, 4]) torch.Size([1]) tensor([1])\n",
      "torch.Size([1, 4]) torch.Size([1]) tensor([1])\n",
      "torch.Size([1, 4]) torch.Size([1]) tensor([1])\n",
      "torch.Size([1, 4]) torch.Size([1]) tensor([1])\n",
      "torch.Size([1, 4]) torch.Size([1]) tensor([1])\n",
      "torch.Size([1, 4]) torch.Size([1]) tensor([1])\n",
      "torch.Size([1, 4]) torch.Size([1]) tensor([1])\n",
      "torch.Size([1, 4]) torch.Size([1]) tensor([1])\n",
      "torch.Size([1, 4]) torch.Size([1]) tensor([1])\n",
      "torch.Size([1, 4]) torch.Size([1]) tensor([1])\n",
      "torch.Size([1, 4]) torch.Size([1]) tensor([1])\n",
      "torch.Size([1, 4]) torch.Size([1]) tensor([1])\n",
      "torch.Size([1, 4]) torch.Size([1]) tensor([1])\n",
      "torch.Size([1, 4]) torch.Size([1]) tensor([1])\n",
      "torch.Size([1, 4]) torch.Size([1]) tensor([1])\n",
      "torch.Size([1, 4]) torch.Size([1]) tensor([1])\n",
      "torch.Size([1, 4]) torch.Size([1]) tensor([1])\n",
      "torch.Size([1, 4]) torch.Size([1]) tensor([1])\n",
      "torch.Size([1, 4]) torch.Size([1]) tensor([1])\n",
      "torch.Size([1, 4]) torch.Size([1]) tensor([1])\n",
      "torch.Size([1, 4]) torch.Size([1]) tensor([1])\n",
      "torch.Size([1, 4]) torch.Size([1]) tensor([1])\n",
      "torch.Size([1, 4]) torch.Size([1]) tensor([1])\n",
      "torch.Size([1, 4]) torch.Size([1]) tensor([1])\n",
      "torch.Size([1, 4]) torch.Size([1]) tensor([1])\n",
      "torch.Size([1, 4]) torch.Size([1]) tensor([1])\n",
      "torch.Size([1, 4]) torch.Size([1]) tensor([1])\n",
      "torch.Size([1, 4]) torch.Size([1]) tensor([1])\n",
      "torch.Size([1, 4]) torch.Size([1]) tensor([1])\n",
      "torch.Size([1, 4]) torch.Size([1]) tensor([1])\n",
      "torch.Size([1, 4]) torch.Size([1]) tensor([1])\n",
      "torch.Size([1, 4]) torch.Size([1]) tensor([1])\n",
      "torch.Size([1, 4]) torch.Size([1]) tensor([1])\n",
      "torch.Size([1, 4]) torch.Size([1]) tensor([1])\n",
      "torch.Size([1, 4]) torch.Size([1]) tensor([1])\n",
      "torch.Size([1, 4]) torch.Size([1]) tensor([1])\n",
      "torch.Size([1, 4]) torch.Size([1]) tensor([1])\n",
      "torch.Size([1, 4]) torch.Size([1]) tensor([1])\n",
      "torch.Size([1, 4]) torch.Size([1]) tensor([1])\n",
      "torch.Size([1, 4]) torch.Size([1]) tensor([1])\n",
      "torch.Size([1, 4]) torch.Size([1]) tensor([1])\n",
      "torch.Size([1, 4]) torch.Size([1]) tensor([1])\n",
      "torch.Size([1, 4]) torch.Size([1]) tensor([1])\n",
      "torch.Size([1, 4]) torch.Size([1]) tensor([1])\n",
      "torch.Size([1, 4]) torch.Size([1]) tensor([2])\n",
      "torch.Size([1, 4]) torch.Size([1]) tensor([2])\n",
      "torch.Size([1, 4]) torch.Size([1]) tensor([2])\n",
      "torch.Size([1, 4]) torch.Size([1]) tensor([2])\n",
      "torch.Size([1, 4]) torch.Size([1]) tensor([2])\n",
      "torch.Size([1, 4]) torch.Size([1]) tensor([2])\n",
      "torch.Size([1, 4]) torch.Size([1]) tensor([2])\n",
      "torch.Size([1, 4]) torch.Size([1]) tensor([2])\n",
      "torch.Size([1, 4]) torch.Size([1]) tensor([2])\n",
      "torch.Size([1, 4]) torch.Size([1]) tensor([2])\n",
      "torch.Size([1, 4]) torch.Size([1]) tensor([2])\n",
      "torch.Size([1, 4]) torch.Size([1]) tensor([2])\n",
      "torch.Size([1, 4]) torch.Size([1]) tensor([2])\n",
      "torch.Size([1, 4]) torch.Size([1]) tensor([2])\n",
      "torch.Size([1, 4]) torch.Size([1]) tensor([2])\n",
      "torch.Size([1, 4]) torch.Size([1]) tensor([2])\n",
      "torch.Size([1, 4]) torch.Size([1]) tensor([2])\n",
      "torch.Size([1, 4]) torch.Size([1]) tensor([2])\n",
      "torch.Size([1, 4]) torch.Size([1]) tensor([2])\n",
      "torch.Size([1, 4]) torch.Size([1]) tensor([2])\n",
      "torch.Size([1, 4]) torch.Size([1]) tensor([2])\n",
      "torch.Size([1, 4]) torch.Size([1]) tensor([2])\n",
      "torch.Size([1, 4]) torch.Size([1]) tensor([2])\n",
      "torch.Size([1, 4]) torch.Size([1]) tensor([2])\n",
      "torch.Size([1, 4]) torch.Size([1]) tensor([2])\n",
      "torch.Size([1, 4]) torch.Size([1]) tensor([2])\n",
      "torch.Size([1, 4]) torch.Size([1]) tensor([2])\n",
      "torch.Size([1, 4]) torch.Size([1]) tensor([2])\n",
      "torch.Size([1, 4]) torch.Size([1]) tensor([2])\n",
      "torch.Size([1, 4]) torch.Size([1]) tensor([2])\n",
      "torch.Size([1, 4]) torch.Size([1]) tensor([2])\n",
      "torch.Size([1, 4]) torch.Size([1]) tensor([2])\n",
      "torch.Size([1, 4]) torch.Size([1]) tensor([2])\n",
      "torch.Size([1, 4]) torch.Size([1]) tensor([2])\n",
      "torch.Size([1, 4]) torch.Size([1]) tensor([2])\n",
      "torch.Size([1, 4]) torch.Size([1]) tensor([2])\n",
      "torch.Size([1, 4]) torch.Size([1]) tensor([2])\n",
      "torch.Size([1, 4]) torch.Size([1]) tensor([2])\n",
      "torch.Size([1, 4]) torch.Size([1]) tensor([2])\n",
      "torch.Size([1, 4]) torch.Size([1]) tensor([2])\n",
      "torch.Size([1, 4]) torch.Size([1]) tensor([2])\n",
      "torch.Size([1, 4]) torch.Size([1]) tensor([2])\n",
      "torch.Size([1, 4]) torch.Size([1]) tensor([2])\n",
      "torch.Size([1, 4]) torch.Size([1]) tensor([2])\n",
      "torch.Size([1, 4]) torch.Size([1]) tensor([2])\n",
      "torch.Size([1, 4]) torch.Size([1]) tensor([2])\n",
      "torch.Size([1, 4]) torch.Size([1]) tensor([2])\n",
      "torch.Size([1, 4]) torch.Size([1]) tensor([2])\n",
      "torch.Size([1, 4]) torch.Size([1]) tensor([2])\n",
      "torch.Size([1, 4]) torch.Size([1]) tensor([2])\n",
      "[1 EPOCH] ===== batch : 150개\n",
      "torch.Size([1, 4]) torch.Size([1]) tensor([0])\n",
      "torch.Size([1, 4]) torch.Size([1]) tensor([0])\n",
      "torch.Size([1, 4]) torch.Size([1]) tensor([0])\n",
      "torch.Size([1, 4]) torch.Size([1]) tensor([0])\n",
      "torch.Size([1, 4]) torch.Size([1]) tensor([0])\n",
      "torch.Size([1, 4]) torch.Size([1]) tensor([0])\n",
      "torch.Size([1, 4]) torch.Size([1]) tensor([0])\n",
      "torch.Size([1, 4]) torch.Size([1]) tensor([0])\n",
      "torch.Size([1, 4]) torch.Size([1]) tensor([0])\n",
      "torch.Size([1, 4]) torch.Size([1]) tensor([0])\n",
      "torch.Size([1, 4]) torch.Size([1]) tensor([0])\n",
      "torch.Size([1, 4]) torch.Size([1]) tensor([0])\n",
      "torch.Size([1, 4]) torch.Size([1]) tensor([0])\n",
      "torch.Size([1, 4]) torch.Size([1]) tensor([0])\n",
      "torch.Size([1, 4]) torch.Size([1]) tensor([0])\n",
      "torch.Size([1, 4]) torch.Size([1]) tensor([0])\n",
      "torch.Size([1, 4]) torch.Size([1]) tensor([0])\n",
      "torch.Size([1, 4]) torch.Size([1]) tensor([0])\n",
      "torch.Size([1, 4]) torch.Size([1]) tensor([0])\n",
      "torch.Size([1, 4]) torch.Size([1]) tensor([0])\n",
      "torch.Size([1, 4]) torch.Size([1]) tensor([0])\n",
      "torch.Size([1, 4]) torch.Size([1]) tensor([0])\n",
      "torch.Size([1, 4]) torch.Size([1]) tensor([0])\n",
      "torch.Size([1, 4]) torch.Size([1]) tensor([0])\n",
      "torch.Size([1, 4]) torch.Size([1]) tensor([0])\n",
      "torch.Size([1, 4]) torch.Size([1]) tensor([0])\n",
      "torch.Size([1, 4]) torch.Size([1]) tensor([0])\n",
      "torch.Size([1, 4]) torch.Size([1]) tensor([0])\n",
      "torch.Size([1, 4]) torch.Size([1]) tensor([0])\n",
      "torch.Size([1, 4]) torch.Size([1]) tensor([0])\n",
      "torch.Size([1, 4]) torch.Size([1]) tensor([0])\n",
      "torch.Size([1, 4]) torch.Size([1]) tensor([0])\n",
      "torch.Size([1, 4]) torch.Size([1]) tensor([0])\n",
      "torch.Size([1, 4]) torch.Size([1]) tensor([0])\n",
      "torch.Size([1, 4]) torch.Size([1]) tensor([0])\n",
      "torch.Size([1, 4]) torch.Size([1]) tensor([0])\n",
      "torch.Size([1, 4]) torch.Size([1]) tensor([0])\n",
      "torch.Size([1, 4]) torch.Size([1]) tensor([0])\n",
      "torch.Size([1, 4]) torch.Size([1]) tensor([0])\n",
      "torch.Size([1, 4]) torch.Size([1]) tensor([0])\n",
      "torch.Size([1, 4]) torch.Size([1]) tensor([0])\n",
      "torch.Size([1, 4]) torch.Size([1]) tensor([0])\n",
      "torch.Size([1, 4]) torch.Size([1]) tensor([0])\n",
      "torch.Size([1, 4]) torch.Size([1]) tensor([0])\n",
      "torch.Size([1, 4]) torch.Size([1]) tensor([0])\n",
      "torch.Size([1, 4]) torch.Size([1]) tensor([0])\n",
      "torch.Size([1, 4]) torch.Size([1]) tensor([0])\n",
      "torch.Size([1, 4]) torch.Size([1]) tensor([0])\n",
      "torch.Size([1, 4]) torch.Size([1]) tensor([0])\n",
      "torch.Size([1, 4]) torch.Size([1]) tensor([0])\n",
      "torch.Size([1, 4]) torch.Size([1]) tensor([1])\n",
      "torch.Size([1, 4]) torch.Size([1]) tensor([1])\n",
      "torch.Size([1, 4]) torch.Size([1]) tensor([1])\n",
      "torch.Size([1, 4]) torch.Size([1]) tensor([1])\n",
      "torch.Size([1, 4]) torch.Size([1]) tensor([1])\n",
      "torch.Size([1, 4]) torch.Size([1]) tensor([1])\n",
      "torch.Size([1, 4]) torch.Size([1]) tensor([1])\n",
      "torch.Size([1, 4]) torch.Size([1]) tensor([1])\n",
      "torch.Size([1, 4]) torch.Size([1]) tensor([1])\n",
      "torch.Size([1, 4]) torch.Size([1]) tensor([1])\n",
      "torch.Size([1, 4]) torch.Size([1]) tensor([1])\n",
      "torch.Size([1, 4]) torch.Size([1]) tensor([1])\n",
      "torch.Size([1, 4]) torch.Size([1]) tensor([1])\n",
      "torch.Size([1, 4]) torch.Size([1]) tensor([1])\n",
      "torch.Size([1, 4]) torch.Size([1]) tensor([1])\n",
      "torch.Size([1, 4]) torch.Size([1]) tensor([1])\n",
      "torch.Size([1, 4]) torch.Size([1]) tensor([1])\n",
      "torch.Size([1, 4]) torch.Size([1]) tensor([1])\n",
      "torch.Size([1, 4]) torch.Size([1]) tensor([1])\n",
      "torch.Size([1, 4]) torch.Size([1]) tensor([1])\n",
      "torch.Size([1, 4]) torch.Size([1]) tensor([1])\n",
      "torch.Size([1, 4]) torch.Size([1]) tensor([1])\n",
      "torch.Size([1, 4]) torch.Size([1]) tensor([1])\n",
      "torch.Size([1, 4]) torch.Size([1]) tensor([1])\n",
      "torch.Size([1, 4]) torch.Size([1]) tensor([1])\n",
      "torch.Size([1, 4]) torch.Size([1]) tensor([1])\n",
      "torch.Size([1, 4]) torch.Size([1]) tensor([1])\n",
      "torch.Size([1, 4]) torch.Size([1]) tensor([1])\n",
      "torch.Size([1, 4]) torch.Size([1]) tensor([1])\n",
      "torch.Size([1, 4]) torch.Size([1]) tensor([1])\n",
      "torch.Size([1, 4]) torch.Size([1]) tensor([1])\n",
      "torch.Size([1, 4]) torch.Size([1]) tensor([1])\n",
      "torch.Size([1, 4]) torch.Size([1]) tensor([1])\n",
      "torch.Size([1, 4]) torch.Size([1]) tensor([1])\n",
      "torch.Size([1, 4]) torch.Size([1]) tensor([1])\n",
      "torch.Size([1, 4]) torch.Size([1]) tensor([1])\n",
      "torch.Size([1, 4]) torch.Size([1]) tensor([1])\n",
      "torch.Size([1, 4]) torch.Size([1]) tensor([1])\n",
      "torch.Size([1, 4]) torch.Size([1]) tensor([1])\n",
      "torch.Size([1, 4]) torch.Size([1]) tensor([1])\n",
      "torch.Size([1, 4]) torch.Size([1]) tensor([1])\n",
      "torch.Size([1, 4]) torch.Size([1]) tensor([1])\n",
      "torch.Size([1, 4]) torch.Size([1]) tensor([1])\n",
      "torch.Size([1, 4]) torch.Size([1]) tensor([1])\n",
      "torch.Size([1, 4]) torch.Size([1]) tensor([1])\n",
      "torch.Size([1, 4]) torch.Size([1]) tensor([1])\n",
      "torch.Size([1, 4]) torch.Size([1]) tensor([1])\n",
      "torch.Size([1, 4]) torch.Size([1]) tensor([1])\n",
      "torch.Size([1, 4]) torch.Size([1]) tensor([1])\n",
      "torch.Size([1, 4]) torch.Size([1]) tensor([1])\n",
      "torch.Size([1, 4]) torch.Size([1]) tensor([2])\n",
      "torch.Size([1, 4]) torch.Size([1]) tensor([2])\n",
      "torch.Size([1, 4]) torch.Size([1]) tensor([2])\n",
      "torch.Size([1, 4]) torch.Size([1]) tensor([2])\n",
      "torch.Size([1, 4]) torch.Size([1]) tensor([2])\n",
      "torch.Size([1, 4]) torch.Size([1]) tensor([2])\n",
      "torch.Size([1, 4]) torch.Size([1]) tensor([2])\n",
      "torch.Size([1, 4]) torch.Size([1]) tensor([2])\n",
      "torch.Size([1, 4]) torch.Size([1]) tensor([2])\n",
      "torch.Size([1, 4]) torch.Size([1]) tensor([2])\n",
      "torch.Size([1, 4]) torch.Size([1]) tensor([2])\n",
      "torch.Size([1, 4]) torch.Size([1]) tensor([2])\n",
      "torch.Size([1, 4]) torch.Size([1]) tensor([2])\n",
      "torch.Size([1, 4]) torch.Size([1]) tensor([2])\n",
      "torch.Size([1, 4]) torch.Size([1]) tensor([2])\n",
      "torch.Size([1, 4]) torch.Size([1]) tensor([2])\n",
      "torch.Size([1, 4]) torch.Size([1]) tensor([2])\n",
      "torch.Size([1, 4]) torch.Size([1]) tensor([2])\n",
      "torch.Size([1, 4]) torch.Size([1]) tensor([2])\n",
      "torch.Size([1, 4]) torch.Size([1]) tensor([2])\n",
      "torch.Size([1, 4]) torch.Size([1]) tensor([2])\n",
      "torch.Size([1, 4]) torch.Size([1]) tensor([2])\n",
      "torch.Size([1, 4]) torch.Size([1]) tensor([2])\n",
      "torch.Size([1, 4]) torch.Size([1]) tensor([2])\n",
      "torch.Size([1, 4]) torch.Size([1]) tensor([2])\n",
      "torch.Size([1, 4]) torch.Size([1]) tensor([2])\n",
      "torch.Size([1, 4]) torch.Size([1]) tensor([2])\n",
      "torch.Size([1, 4]) torch.Size([1]) tensor([2])\n",
      "torch.Size([1, 4]) torch.Size([1]) tensor([2])\n",
      "torch.Size([1, 4]) torch.Size([1]) tensor([2])\n",
      "torch.Size([1, 4]) torch.Size([1]) tensor([2])\n",
      "torch.Size([1, 4]) torch.Size([1]) tensor([2])\n",
      "torch.Size([1, 4]) torch.Size([1]) tensor([2])\n",
      "torch.Size([1, 4]) torch.Size([1]) tensor([2])\n",
      "torch.Size([1, 4]) torch.Size([1]) tensor([2])\n",
      "torch.Size([1, 4]) torch.Size([1]) tensor([2])\n",
      "torch.Size([1, 4]) torch.Size([1]) tensor([2])\n",
      "torch.Size([1, 4]) torch.Size([1]) tensor([2])\n",
      "torch.Size([1, 4]) torch.Size([1]) tensor([2])\n",
      "torch.Size([1, 4]) torch.Size([1]) tensor([2])\n",
      "torch.Size([1, 4]) torch.Size([1]) tensor([2])\n",
      "torch.Size([1, 4]) torch.Size([1]) tensor([2])\n",
      "torch.Size([1, 4]) torch.Size([1]) tensor([2])\n",
      "torch.Size([1, 4]) torch.Size([1]) tensor([2])\n",
      "torch.Size([1, 4]) torch.Size([1]) tensor([2])\n",
      "torch.Size([1, 4]) torch.Size([1]) tensor([2])\n",
      "torch.Size([1, 4]) torch.Size([1]) tensor([2])\n",
      "torch.Size([1, 4]) torch.Size([1]) tensor([2])\n",
      "torch.Size([1, 4]) torch.Size([1]) tensor([2])\n",
      "torch.Size([1, 4]) torch.Size([1]) tensor([2])\n"
     ]
    }
   ],
   "source": [
    "# [기본사용] batch_size=1, suffle=False, drop_last=False, sampler=None\n",
    "\n",
    "loader = DataLoader(irisDS)\n",
    "print_batch_data(loader=loader, epochs=2)"
   ],
   "metadata": {
    "collapsed": false,
    "ExecuteTime": {
     "end_time": "2024-03-25T05:53:43.518442Z",
     "start_time": "2024-03-25T05:53:43.462400700Z"
    }
   },
   "id": "d0c07a3401bed46a",
   "execution_count": 77
  },
  {
   "cell_type": "code",
   "outputs": [
    {
     "name": "stdout",
     "output_type": "stream",
     "text": [
      "[설정값] Batch size: 22, shuffle: False, drop_last: False, sampler: None\n",
      "[0 EPOCH] ===== batch : 7개\n",
      "torch.Size([22, 4]) torch.Size([22]) tensor([0, 0, 0, 0, 0, 0, 0, 0, 0, 0, 0, 0, 0, 0, 0, 0, 0, 0, 0, 0, 0, 0])\n",
      "torch.Size([22, 4]) torch.Size([22]) tensor([0, 0, 0, 0, 0, 0, 0, 0, 0, 0, 0, 0, 0, 0, 0, 0, 0, 0, 0, 0, 0, 0])\n",
      "torch.Size([22, 4]) torch.Size([22]) tensor([0, 0, 0, 0, 0, 0, 1, 1, 1, 1, 1, 1, 1, 1, 1, 1, 1, 1, 1, 1, 1, 1])\n",
      "torch.Size([22, 4]) torch.Size([22]) tensor([1, 1, 1, 1, 1, 1, 1, 1, 1, 1, 1, 1, 1, 1, 1, 1, 1, 1, 1, 1, 1, 1])\n",
      "torch.Size([22, 4]) torch.Size([22]) tensor([1, 1, 1, 1, 1, 1, 1, 1, 1, 1, 1, 1, 2, 2, 2, 2, 2, 2, 2, 2, 2, 2])\n",
      "torch.Size([22, 4]) torch.Size([22]) tensor([2, 2, 2, 2, 2, 2, 2, 2, 2, 2, 2, 2, 2, 2, 2, 2, 2, 2, 2, 2, 2, 2])\n",
      "torch.Size([18, 4]) torch.Size([18]) tensor([2, 2, 2, 2, 2, 2, 2, 2, 2, 2, 2, 2, 2, 2, 2, 2, 2, 2])\n",
      "[1 EPOCH] ===== batch : 7개\n",
      "torch.Size([22, 4]) torch.Size([22]) tensor([0, 0, 0, 0, 0, 0, 0, 0, 0, 0, 0, 0, 0, 0, 0, 0, 0, 0, 0, 0, 0, 0])\n",
      "torch.Size([22, 4]) torch.Size([22]) tensor([0, 0, 0, 0, 0, 0, 0, 0, 0, 0, 0, 0, 0, 0, 0, 0, 0, 0, 0, 0, 0, 0])\n",
      "torch.Size([22, 4]) torch.Size([22]) tensor([0, 0, 0, 0, 0, 0, 1, 1, 1, 1, 1, 1, 1, 1, 1, 1, 1, 1, 1, 1, 1, 1])\n",
      "torch.Size([22, 4]) torch.Size([22]) tensor([1, 1, 1, 1, 1, 1, 1, 1, 1, 1, 1, 1, 1, 1, 1, 1, 1, 1, 1, 1, 1, 1])\n",
      "torch.Size([22, 4]) torch.Size([22]) tensor([1, 1, 1, 1, 1, 1, 1, 1, 1, 1, 1, 1, 2, 2, 2, 2, 2, 2, 2, 2, 2, 2])\n",
      "torch.Size([22, 4]) torch.Size([22]) tensor([2, 2, 2, 2, 2, 2, 2, 2, 2, 2, 2, 2, 2, 2, 2, 2, 2, 2, 2, 2, 2, 2])\n",
      "torch.Size([18, 4]) torch.Size([18]) tensor([2, 2, 2, 2, 2, 2, 2, 2, 2, 2, 2, 2, 2, 2, 2, 2, 2, 2])\n"
     ]
    }
   ],
   "source": [
    "# batch_size = 22로 설정\n",
    "\n",
    "loader = DataLoader(irisDS, batch_size=22)\n",
    "print_batch_data(loader=loader, epochs=2, batch_size=22)\n",
    "# 마지막은 모자랍"
   ],
   "metadata": {
    "collapsed": false,
    "ExecuteTime": {
     "end_time": "2024-03-25T05:53:43.625446800Z",
     "start_time": "2024-03-25T05:53:43.596437700Z"
    }
   },
   "id": "667212c795888cd8",
   "execution_count": 78
  },
  {
   "cell_type": "code",
   "outputs": [
    {
     "name": "stdout",
     "output_type": "stream",
     "text": [
      "[설정값] Batch size: 22, shuffle: True, drop_last: True, sampler: None\n",
      "[0 EPOCH] ===== batch : 6개\n",
      "torch.Size([22, 4]) torch.Size([22]) tensor([0, 1, 1, 1, 2, 0, 2, 0, 1, 1, 0, 2, 2, 0, 1, 0, 2, 0, 2, 1, 0, 2])\n",
      "torch.Size([22, 4]) torch.Size([22]) tensor([2, 0, 2, 2, 2, 2, 1, 2, 2, 0, 0, 0, 0, 1, 0, 2, 2, 2, 0, 0, 1, 1])\n",
      "torch.Size([22, 4]) torch.Size([22]) tensor([1, 1, 0, 0, 0, 0, 0, 0, 0, 1, 0, 1, 0, 2, 1, 1, 1, 0, 2, 1, 0, 2])\n",
      "torch.Size([22, 4]) torch.Size([22]) tensor([2, 1, 1, 1, 1, 0, 1, 2, 2, 2, 1, 1, 2, 0, 0, 0, 0, 2, 1, 1, 2, 1])\n",
      "torch.Size([22, 4]) torch.Size([22]) tensor([0, 2, 0, 1, 1, 0, 0, 0, 1, 0, 0, 2, 2, 2, 2, 0, 2, 2, 0, 2, 1, 2])\n",
      "torch.Size([22, 4]) torch.Size([22]) tensor([1, 2, 2, 0, 1, 0, 0, 0, 1, 1, 2, 2, 0, 1, 1, 1, 1, 2, 2, 2, 2, 0])\n",
      "[1 EPOCH] ===== batch : 6개\n",
      "torch.Size([22, 4]) torch.Size([22]) tensor([0, 1, 1, 2, 1, 2, 1, 2, 2, 2, 0, 1, 2, 1, 0, 2, 2, 1, 1, 2, 1, 0])\n",
      "torch.Size([22, 4]) torch.Size([22]) tensor([2, 1, 2, 2, 1, 0, 2, 2, 0, 1, 1, 0, 1, 2, 0, 1, 0, 0, 0, 0, 2, 1])\n",
      "torch.Size([22, 4]) torch.Size([22]) tensor([0, 2, 2, 1, 0, 1, 1, 1, 2, 1, 2, 0, 2, 2, 0, 1, 2, 1, 0, 2, 1, 2])\n",
      "torch.Size([22, 4]) torch.Size([22]) tensor([0, 0, 2, 1, 0, 1, 2, 2, 0, 1, 1, 2, 0, 2, 2, 2, 0, 0, 2, 0, 0, 0])\n",
      "torch.Size([22, 4]) torch.Size([22]) tensor([2, 0, 1, 0, 0, 2, 2, 1, 0, 2, 1, 2, 0, 1, 0, 0, 0, 2, 1, 0, 1, 2])\n",
      "torch.Size([22, 4]) torch.Size([22]) tensor([1, 0, 0, 0, 1, 0, 1, 2, 0, 1, 2, 2, 1, 0, 1, 1, 1, 0, 2, 2, 1, 0])\n"
     ]
    }
   ],
   "source": [
    "# batch_size = 22로 설정 drop_last = True, shuffle = True\n",
    "\n",
    "loader = DataLoader(irisDS, shuffle=True, batch_size=22, drop_last=True)\n",
    "print_batch_data(loader=loader, epochs=2, batch_size=22, drop_last=True, shuffle=True) # 셔플은 에포크 단위로 \n",
    "# 위에서는 모자란 상태로 진행했다면 지금은 그냥 날림 -> 6개 됨"
   ],
   "metadata": {
    "collapsed": false,
    "ExecuteTime": {
     "end_time": "2024-03-25T05:53:43.773557900Z",
     "start_time": "2024-03-25T05:53:43.740146600Z"
    }
   },
   "id": "c0c8938c144ca24f",
   "execution_count": 79
  },
  {
   "cell_type": "code",
   "outputs": [],
   "source": [
    "# https://pytorch.org/docs/stable/_modules/torch/utils/data/sampler.html#Sampler"
   ],
   "metadata": {
    "collapsed": false,
    "ExecuteTime": {
     "end_time": "2024-03-25T05:53:43.892886900Z",
     "start_time": "2024-03-25T05:53:43.867044300Z"
    }
   },
   "id": "52ac82d160b08cc4",
   "execution_count": 79
  },
  {
   "cell_type": "code",
   "outputs": [],
   "source": [
    "# class WeightedRandomSampler"
   ],
   "metadata": {
    "collapsed": false
   },
   "id": "eb61c606aca907fd"
  }
 ],
 "metadata": {
  "kernelspec": {
   "display_name": "Python 3",
   "language": "python",
   "name": "python3"
  },
  "language_info": {
   "codemirror_mode": {
    "name": "ipython",
    "version": 2
   },
   "file_extension": ".py",
   "mimetype": "text/x-python",
   "name": "python",
   "nbconvert_exporter": "python",
   "pygments_lexer": "ipython2",
   "version": "2.7.6"
  }
 },
 "nbformat": 4,
 "nbformat_minor": 5
}
