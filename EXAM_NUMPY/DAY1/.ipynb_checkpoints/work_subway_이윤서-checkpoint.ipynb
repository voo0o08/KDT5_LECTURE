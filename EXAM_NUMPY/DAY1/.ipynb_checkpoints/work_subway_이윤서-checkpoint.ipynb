{
 "cells": [
  {
   "cell_type": "code",
   "execution_count": 1,
   "id": "2a2ce214-3113-440f-ab7f-a57fb7055506",
   "metadata": {},
   "outputs": [],
   "source": [
    "import pandas as pd"
   ]
  },
  {
   "cell_type": "markdown",
   "id": "87872285-4158-47b1-9d46-afc2d01088c7",
   "metadata": {},
   "source": [
    "데이터 : 서울시의 2022년 승객수 데이터, 기준은 __승차__ 총승객수 설정함"
   ]
  },
  {
   "cell_type": "code",
   "execution_count": 2,
   "id": "8d0496a0-d8d4-4835-b126-b90aaddcf2e5",
   "metadata": {},
   "outputs": [
    {
     "data": {
      "text/html": [
       "<div>\n",
       "<style scoped>\n",
       "    .dataframe tbody tr th:only-of-type {\n",
       "        vertical-align: middle;\n",
       "    }\n",
       "\n",
       "    .dataframe tbody tr th {\n",
       "        vertical-align: top;\n",
       "    }\n",
       "\n",
       "    .dataframe thead th {\n",
       "        text-align: right;\n",
       "    }\n",
       "</style>\n",
       "<table border=\"1\" class=\"dataframe\">\n",
       "  <thead>\n",
       "    <tr style=\"text-align: right;\">\n",
       "      <th></th>\n",
       "      <th>사용일자</th>\n",
       "      <th>노선명</th>\n",
       "      <th>역명</th>\n",
       "      <th>승차총승객수</th>\n",
       "      <th>하차총승객수</th>\n",
       "      <th>등록일자</th>\n",
       "    </tr>\n",
       "  </thead>\n",
       "  <tbody>\n",
       "    <tr>\n",
       "      <th>0</th>\n",
       "      <td>20220101</td>\n",
       "      <td>3호선</td>\n",
       "      <td>수서</td>\n",
       "      <td>7370</td>\n",
       "      <td>7076</td>\n",
       "      <td>20220104</td>\n",
       "    </tr>\n",
       "    <tr>\n",
       "      <th>1</th>\n",
       "      <td>20220101</td>\n",
       "      <td>3호선</td>\n",
       "      <td>학여울</td>\n",
       "      <td>461</td>\n",
       "      <td>473</td>\n",
       "      <td>20220104</td>\n",
       "    </tr>\n",
       "    <tr>\n",
       "      <th>2</th>\n",
       "      <td>20220101</td>\n",
       "      <td>3호선</td>\n",
       "      <td>대청</td>\n",
       "      <td>3224</td>\n",
       "      <td>2903</td>\n",
       "      <td>20220104</td>\n",
       "    </tr>\n",
       "    <tr>\n",
       "      <th>3</th>\n",
       "      <td>20220101</td>\n",
       "      <td>3호선</td>\n",
       "      <td>일원</td>\n",
       "      <td>3321</td>\n",
       "      <td>2803</td>\n",
       "      <td>20220104</td>\n",
       "    </tr>\n",
       "    <tr>\n",
       "      <th>4</th>\n",
       "      <td>20220101</td>\n",
       "      <td>경원선</td>\n",
       "      <td>창동</td>\n",
       "      <td>1</td>\n",
       "      <td>0</td>\n",
       "      <td>20220104</td>\n",
       "    </tr>\n",
       "    <tr>\n",
       "      <th>...</th>\n",
       "      <td>...</td>\n",
       "      <td>...</td>\n",
       "      <td>...</td>\n",
       "      <td>...</td>\n",
       "      <td>...</td>\n",
       "      <td>...</td>\n",
       "    </tr>\n",
       "    <tr>\n",
       "      <th>219740</th>\n",
       "      <td>20221231</td>\n",
       "      <td>4호선</td>\n",
       "      <td>신용산</td>\n",
       "      <td>11025</td>\n",
       "      <td>12099</td>\n",
       "      <td>20230103</td>\n",
       "    </tr>\n",
       "    <tr>\n",
       "      <th>219741</th>\n",
       "      <td>20221231</td>\n",
       "      <td>경부선</td>\n",
       "      <td>석수</td>\n",
       "      <td>5643</td>\n",
       "      <td>5147</td>\n",
       "      <td>20230103</td>\n",
       "    </tr>\n",
       "    <tr>\n",
       "      <th>219742</th>\n",
       "      <td>20221231</td>\n",
       "      <td>경부선</td>\n",
       "      <td>금천구청</td>\n",
       "      <td>7519</td>\n",
       "      <td>7426</td>\n",
       "      <td>20230103</td>\n",
       "    </tr>\n",
       "    <tr>\n",
       "      <th>219743</th>\n",
       "      <td>20221231</td>\n",
       "      <td>경부선</td>\n",
       "      <td>가산디지털단지</td>\n",
       "      <td>5579</td>\n",
       "      <td>7299</td>\n",
       "      <td>20230103</td>\n",
       "    </tr>\n",
       "    <tr>\n",
       "      <th>219744</th>\n",
       "      <td>20221231</td>\n",
       "      <td>경부선</td>\n",
       "      <td>구로</td>\n",
       "      <td>11318</td>\n",
       "      <td>12080</td>\n",
       "      <td>20230103</td>\n",
       "    </tr>\n",
       "  </tbody>\n",
       "</table>\n",
       "<p>219745 rows × 6 columns</p>\n",
       "</div>"
      ],
      "text/plain": [
       "            사용일자  노선명       역명  승차총승객수  하차총승객수      등록일자\n",
       "0       20220101  3호선       수서    7370    7076  20220104\n",
       "1       20220101  3호선      학여울     461     473  20220104\n",
       "2       20220101  3호선       대청    3224    2903  20220104\n",
       "3       20220101  3호선       일원    3321    2803  20220104\n",
       "4       20220101  경원선       창동       1       0  20220104\n",
       "...          ...  ...      ...     ...     ...       ...\n",
       "219740  20221231  4호선      신용산   11025   12099  20230103\n",
       "219741  20221231  경부선       석수    5643    5147  20230103\n",
       "219742  20221231  경부선     금천구청    7519    7426  20230103\n",
       "219743  20221231  경부선  가산디지털단지    5579    7299  20230103\n",
       "219744  20221231  경부선       구로   11318   12080  20230103\n",
       "\n",
       "[219745 rows x 6 columns]"
      ]
     },
     "execution_count": 2,
     "metadata": {},
     "output_type": "execute_result"
    }
   ],
   "source": [
    "DF = pd.read_csv(\"CARD_SUBWAY_MONTH_2022.csv\", encoding=\"CP949\", index_col = False) \n",
    "# False 안하면 사용일자 value들이 index로 잡힘\n",
    "DF"
   ]
  },
  {
   "cell_type": "code",
   "execution_count": 3,
   "id": "ffb1e057-18fd-4659-9a30-6f67cab0268d",
   "metadata": {
    "scrolled": true
   },
   "outputs": [
    {
     "data": {
      "text/html": [
       "<div>\n",
       "<style scoped>\n",
       "    .dataframe tbody tr th:only-of-type {\n",
       "        vertical-align: middle;\n",
       "    }\n",
       "\n",
       "    .dataframe tbody tr th {\n",
       "        vertical-align: top;\n",
       "    }\n",
       "\n",
       "    .dataframe thead th {\n",
       "        text-align: right;\n",
       "    }\n",
       "</style>\n",
       "<table border=\"1\" class=\"dataframe\">\n",
       "  <thead>\n",
       "    <tr style=\"text-align: right;\">\n",
       "      <th></th>\n",
       "      <th>역명</th>\n",
       "      <th>승차총승객수</th>\n",
       "      <th>하차총승객수</th>\n",
       "    </tr>\n",
       "  </thead>\n",
       "  <tbody>\n",
       "    <tr>\n",
       "      <th>0</th>\n",
       "      <td>수서</td>\n",
       "      <td>7370</td>\n",
       "      <td>7076</td>\n",
       "    </tr>\n",
       "    <tr>\n",
       "      <th>1</th>\n",
       "      <td>학여울</td>\n",
       "      <td>461</td>\n",
       "      <td>473</td>\n",
       "    </tr>\n",
       "    <tr>\n",
       "      <th>2</th>\n",
       "      <td>대청</td>\n",
       "      <td>3224</td>\n",
       "      <td>2903</td>\n",
       "    </tr>\n",
       "    <tr>\n",
       "      <th>3</th>\n",
       "      <td>일원</td>\n",
       "      <td>3321</td>\n",
       "      <td>2803</td>\n",
       "    </tr>\n",
       "    <tr>\n",
       "      <th>4</th>\n",
       "      <td>창동</td>\n",
       "      <td>1</td>\n",
       "      <td>0</td>\n",
       "    </tr>\n",
       "    <tr>\n",
       "      <th>...</th>\n",
       "      <td>...</td>\n",
       "      <td>...</td>\n",
       "      <td>...</td>\n",
       "    </tr>\n",
       "    <tr>\n",
       "      <th>219740</th>\n",
       "      <td>신용산</td>\n",
       "      <td>11025</td>\n",
       "      <td>12099</td>\n",
       "    </tr>\n",
       "    <tr>\n",
       "      <th>219741</th>\n",
       "      <td>석수</td>\n",
       "      <td>5643</td>\n",
       "      <td>5147</td>\n",
       "    </tr>\n",
       "    <tr>\n",
       "      <th>219742</th>\n",
       "      <td>금천구청</td>\n",
       "      <td>7519</td>\n",
       "      <td>7426</td>\n",
       "    </tr>\n",
       "    <tr>\n",
       "      <th>219743</th>\n",
       "      <td>가산디지털단지</td>\n",
       "      <td>5579</td>\n",
       "      <td>7299</td>\n",
       "    </tr>\n",
       "    <tr>\n",
       "      <th>219744</th>\n",
       "      <td>구로</td>\n",
       "      <td>11318</td>\n",
       "      <td>12080</td>\n",
       "    </tr>\n",
       "  </tbody>\n",
       "</table>\n",
       "<p>219745 rows × 3 columns</p>\n",
       "</div>"
      ],
      "text/plain": [
       "             역명  승차총승객수  하차총승객수\n",
       "0            수서    7370    7076\n",
       "1           학여울     461     473\n",
       "2            대청    3224    2903\n",
       "3            일원    3321    2803\n",
       "4            창동       1       0\n",
       "...         ...     ...     ...\n",
       "219740      신용산   11025   12099\n",
       "219741       석수    5643    5147\n",
       "219742     금천구청    7519    7426\n",
       "219743  가산디지털단지    5579    7299\n",
       "219744       구로   11318   12080\n",
       "\n",
       "[219745 rows x 3 columns]"
      ]
     },
     "execution_count": 3,
     "metadata": {},
     "output_type": "execute_result"
    }
   ],
   "source": [
    "DF = DF.drop([\"사용일자\", \"노선명\", \"등록일자\"], axis=1) # 불필요한 col 제거\n",
    "DF"
   ]
  },
  {
   "cell_type": "markdown",
   "id": "fd4e63a7-df74-4094-84d8-a251ab4295e5",
   "metadata": {},
   "source": [
    "# 1. 각 지하철 역별 평균 이용객수"
   ]
  },
  {
   "cell_type": "code",
   "execution_count": 4,
   "id": "a524f4e3-5771-400c-ab47-c02215108d34",
   "metadata": {},
   "outputs": [
    {
     "data": {
      "text/html": [
       "<div>\n",
       "<style scoped>\n",
       "    .dataframe tbody tr th:only-of-type {\n",
       "        vertical-align: middle;\n",
       "    }\n",
       "\n",
       "    .dataframe tbody tr th {\n",
       "        vertical-align: top;\n",
       "    }\n",
       "\n",
       "    .dataframe thead th {\n",
       "        text-align: right;\n",
       "    }\n",
       "</style>\n",
       "<table border=\"1\" class=\"dataframe\">\n",
       "  <thead>\n",
       "    <tr style=\"text-align: right;\">\n",
       "      <th></th>\n",
       "      <th>승차총승객수</th>\n",
       "      <th>하차총승객수</th>\n",
       "    </tr>\n",
       "    <tr>\n",
       "      <th>역명</th>\n",
       "      <th></th>\n",
       "      <th></th>\n",
       "    </tr>\n",
       "  </thead>\n",
       "  <tbody>\n",
       "    <tr>\n",
       "      <th>4.19민주묘지</th>\n",
       "      <td>3092.063014</td>\n",
       "      <td>2916.430137</td>\n",
       "    </tr>\n",
       "    <tr>\n",
       "      <th>가능</th>\n",
       "      <td>6155.139726</td>\n",
       "      <td>5891.709589</td>\n",
       "    </tr>\n",
       "    <tr>\n",
       "      <th>가락시장</th>\n",
       "      <td>7328.176712</td>\n",
       "      <td>7643.024658</td>\n",
       "    </tr>\n",
       "    <tr>\n",
       "      <th>가산디지털단지</th>\n",
       "      <td>25051.253425</td>\n",
       "      <td>26193.217808</td>\n",
       "    </tr>\n",
       "    <tr>\n",
       "      <th>가양</th>\n",
       "      <td>18684.052055</td>\n",
       "      <td>18126.961644</td>\n",
       "    </tr>\n",
       "    <tr>\n",
       "      <th>...</th>\n",
       "      <td>...</td>\n",
       "      <td>...</td>\n",
       "    </tr>\n",
       "    <tr>\n",
       "      <th>회기</th>\n",
       "      <td>23727.701370</td>\n",
       "      <td>22899.827397</td>\n",
       "    </tr>\n",
       "    <tr>\n",
       "      <th>회룡</th>\n",
       "      <td>11530.824658</td>\n",
       "      <td>11404.904110</td>\n",
       "    </tr>\n",
       "    <tr>\n",
       "      <th>회현(남대문시장)</th>\n",
       "      <td>21749.413699</td>\n",
       "      <td>22686.336986</td>\n",
       "    </tr>\n",
       "    <tr>\n",
       "      <th>효창공원앞</th>\n",
       "      <td>4539.669863</td>\n",
       "      <td>4420.032877</td>\n",
       "    </tr>\n",
       "    <tr>\n",
       "      <th>흑석(중앙대입구)</th>\n",
       "      <td>7911.495890</td>\n",
       "      <td>8084.452055</td>\n",
       "    </tr>\n",
       "  </tbody>\n",
       "</table>\n",
       "<p>530 rows × 2 columns</p>\n",
       "</div>"
      ],
      "text/plain": [
       "                 승차총승객수        하차총승객수\n",
       "역명                                   \n",
       "4.19민주묘지    3092.063014   2916.430137\n",
       "가능          6155.139726   5891.709589\n",
       "가락시장        7328.176712   7643.024658\n",
       "가산디지털단지    25051.253425  26193.217808\n",
       "가양         18684.052055  18126.961644\n",
       "...                 ...           ...\n",
       "회기         23727.701370  22899.827397\n",
       "회룡         11530.824658  11404.904110\n",
       "회현(남대문시장)  21749.413699  22686.336986\n",
       "효창공원앞       4539.669863   4420.032877\n",
       "흑석(중앙대입구)   7911.495890   8084.452055\n",
       "\n",
       "[530 rows x 2 columns]"
      ]
     },
     "execution_count": 4,
     "metadata": {},
     "output_type": "execute_result"
    }
   ],
   "source": [
    "DF.groupby(\"역명\").mean()"
   ]
  },
  {
   "cell_type": "markdown",
   "id": "dcc42a2d-7d84-4e4a-8e47-8a677130c781",
   "metadata": {},
   "source": [
    "# 2.각 지하철 역별 이용객수의 표준 편차"
   ]
  },
  {
   "cell_type": "code",
   "execution_count": 33,
   "id": "36b60d6b-12a7-4654-986f-caba7c988668",
   "metadata": {},
   "outputs": [
    {
     "data": {
      "text/html": [
       "<div>\n",
       "<style scoped>\n",
       "    .dataframe tbody tr th:only-of-type {\n",
       "        vertical-align: middle;\n",
       "    }\n",
       "\n",
       "    .dataframe tbody tr th {\n",
       "        vertical-align: top;\n",
       "    }\n",
       "\n",
       "    .dataframe thead th {\n",
       "        text-align: right;\n",
       "    }\n",
       "</style>\n",
       "<table border=\"1\" class=\"dataframe\">\n",
       "  <thead>\n",
       "    <tr style=\"text-align: right;\">\n",
       "      <th></th>\n",
       "      <th>승차총승객수</th>\n",
       "      <th>하차총승객수</th>\n",
       "    </tr>\n",
       "    <tr>\n",
       "      <th>역명</th>\n",
       "      <th></th>\n",
       "      <th></th>\n",
       "    </tr>\n",
       "  </thead>\n",
       "  <tbody>\n",
       "    <tr>\n",
       "      <th>4.19민주묘지</th>\n",
       "      <td>904.788072</td>\n",
       "      <td>953.688798</td>\n",
       "    </tr>\n",
       "    <tr>\n",
       "      <th>가능</th>\n",
       "      <td>1337.236308</td>\n",
       "      <td>1303.864408</td>\n",
       "    </tr>\n",
       "    <tr>\n",
       "      <th>가락시장</th>\n",
       "      <td>2229.052877</td>\n",
       "      <td>2188.382860</td>\n",
       "    </tr>\n",
       "    <tr>\n",
       "      <th>가산디지털단지</th>\n",
       "      <td>16277.238298</td>\n",
       "      <td>15770.354985</td>\n",
       "    </tr>\n",
       "    <tr>\n",
       "      <th>가양</th>\n",
       "      <td>4958.538314</td>\n",
       "      <td>4841.355218</td>\n",
       "    </tr>\n",
       "    <tr>\n",
       "      <th>...</th>\n",
       "      <td>...</td>\n",
       "      <td>...</td>\n",
       "    </tr>\n",
       "    <tr>\n",
       "      <th>회기</th>\n",
       "      <td>5312.219837</td>\n",
       "      <td>4959.183112</td>\n",
       "    </tr>\n",
       "    <tr>\n",
       "      <th>회룡</th>\n",
       "      <td>2479.220298</td>\n",
       "      <td>2439.667619</td>\n",
       "    </tr>\n",
       "    <tr>\n",
       "      <th>회현(남대문시장)</th>\n",
       "      <td>6633.408654</td>\n",
       "      <td>6982.421302</td>\n",
       "    </tr>\n",
       "    <tr>\n",
       "      <th>효창공원앞</th>\n",
       "      <td>2343.341592</td>\n",
       "      <td>2004.443350</td>\n",
       "    </tr>\n",
       "    <tr>\n",
       "      <th>흑석(중앙대입구)</th>\n",
       "      <td>2462.231460</td>\n",
       "      <td>2498.771973</td>\n",
       "    </tr>\n",
       "  </tbody>\n",
       "</table>\n",
       "<p>530 rows × 2 columns</p>\n",
       "</div>"
      ],
      "text/plain": [
       "                 승차총승객수        하차총승객수\n",
       "역명                                   \n",
       "4.19민주묘지     904.788072    953.688798\n",
       "가능          1337.236308   1303.864408\n",
       "가락시장        2229.052877   2188.382860\n",
       "가산디지털단지    16277.238298  15770.354985\n",
       "가양          4958.538314   4841.355218\n",
       "...                 ...           ...\n",
       "회기          5312.219837   4959.183112\n",
       "회룡          2479.220298   2439.667619\n",
       "회현(남대문시장)   6633.408654   6982.421302\n",
       "효창공원앞       2343.341592   2004.443350\n",
       "흑석(중앙대입구)   2462.231460   2498.771973\n",
       "\n",
       "[530 rows x 2 columns]"
      ]
     },
     "execution_count": 33,
     "metadata": {},
     "output_type": "execute_result"
    }
   ],
   "source": [
    "DF.groupby(\"역명\").std()"
   ]
  },
  {
   "cell_type": "markdown",
   "id": "0b713b75-ee33-4237-b782-675db242b108",
   "metadata": {},
   "source": [
    "# 3. 가장 많은 이용객이 있는 역의 이용객 수"
   ]
  },
  {
   "cell_type": "code",
   "execution_count": 82,
   "id": "b4a8222d-b192-4bb6-b5b1-c4b66f36ca55",
   "metadata": {},
   "outputs": [
    {
     "data": {
      "text/plain": [
       "122543"
      ]
     },
     "execution_count": 82,
     "metadata": {},
     "output_type": "execute_result"
    }
   ],
   "source": [
    "DF.sort_values(by = [\"승차총승객수\"], ascending=False).head(1).iloc[0,1]"
   ]
  },
  {
   "cell_type": "markdown",
   "id": "36f0211a-bffb-4220-a17f-105465efe3c9",
   "metadata": {},
   "source": [
    "# 4. 가장 적은 이용객이 있는 역의 이용객 수"
   ]
  },
  {
   "cell_type": "code",
   "execution_count": 83,
   "id": "a656745d-72c0-4b23-a7c2-c80b4f591afb",
   "metadata": {},
   "outputs": [
    {
     "data": {
      "text/plain": [
       "1"
      ]
     },
     "execution_count": 83,
     "metadata": {},
     "output_type": "execute_result"
    }
   ],
   "source": [
    "DF.sort_values(by = [\"승차총승객수\"], ascending=True).head(1).iloc[0,1]"
   ]
  },
  {
   "cell_type": "markdown",
   "id": "9cafa036-d6a0-476c-a6fc-073153a15291",
   "metadata": {},
   "source": [
    "# 5. 이용객 수가 가장 많은 역의 이름"
   ]
  },
  {
   "cell_type": "code",
   "execution_count": 84,
   "id": "2daf954b-df2d-4c70-aac6-0cac9c2b89eb",
   "metadata": {},
   "outputs": [
    {
     "data": {
      "text/plain": [
       "'잠실(송파구청)'"
      ]
     },
     "execution_count": 84,
     "metadata": {},
     "output_type": "execute_result"
    }
   ],
   "source": [
    "DF.sort_values(by = [\"승차총승객수\"], ascending=False).head(1).iloc[0,0]"
   ]
  },
  {
   "cell_type": "markdown",
   "id": "35440c6b-c706-44ad-b26d-ad8618819059",
   "metadata": {},
   "source": [
    "# 6. 이용객 수가 가장 적은 역의 이름"
   ]
  },
  {
   "cell_type": "code",
   "execution_count": 86,
   "id": "3d710aa7-e28b-49b3-8ec5-f0cfb22e7a86",
   "metadata": {},
   "outputs": [
    {
     "data": {
      "text/plain": [
       "'충무로'"
      ]
     },
     "execution_count": 86,
     "metadata": {},
     "output_type": "execute_result"
    }
   ],
   "source": [
    "DF.sort_values(by = [\"승차총승객수\"], ascending=True).head(1).iloc[0,0]"
   ]
  },
  {
   "cell_type": "markdown",
   "id": "b0beead0-5cc5-41e7-9cb5-b26e94d63cc3",
   "metadata": {},
   "source": [
    "# 7. 이용객 수의 분포를 히스토그램으로 시각화하세요."
   ]
  },
  {
   "cell_type": "code",
   "execution_count": 5,
   "id": "6d0e4c85-e302-4703-aabf-e9d9b2ebf979",
   "metadata": {},
   "outputs": [],
   "source": [
    "# Matplotlib의 pyplot 모듈을 plt라는 이름으로 임포트\n",
    "import matplotlib.pyplot as plt\n",
    "import numpy as np\n",
    "import koreanize_matplotlib\n",
    "\n",
    "# 그래프가 notebook 위에 표시\n",
    "%matplotlib inline"
   ]
  },
  {
   "cell_type": "code",
   "execution_count": 21,
   "id": "30e1d504-0e78-4515-81dc-a78719466939",
   "metadata": {},
   "outputs": [
    {
     "data": {
      "image/png": "[encoded data removed]",
      "text/plain": [
       "<Figure size 1000x600 with 1 Axes>"
      ]
     },
     "metadata": {},
     "output_type": "display_data"
    }
   ],
   "source": [
    "# 캔버스를 생성\n",
    "# figsize로 가로・세로 크기를 지정\n",
    "fig = plt.figure(figsize=(10, 6))\n",
    "# 켄버스 위에 그래프를 그리기 위한 영역을 지정\n",
    "# 인수는 영역을 1×1개 지정、하나의 영역에 그린다는 것을 의미\n",
    "ax = fig.add_subplot(111)\n",
    "\n",
    "# 계급수를 13으로 하여 히스토그램을 그림\n",
    "freq, _, _ = ax.hist(DF.groupby(\"역명\").mean()[\"승차총승객수\"], bins=20, range=(0, 75000))\n",
    "# X축에 레이블 부여\n",
    "ax.set_xlabel('승객 수')\n",
    "# Y축에 레이블 부여\n",
    "ax.set_ylabel('역 개수')\n",
    "# X축을 0, 10, 20, ..., 100 눈금으로 구분\n",
    "ax.set_xticks(np.linspace(0, 75000, 10+1))\n",
    "# Y축을 0, 1, 2, ...의 눈금으로 구분\n",
    "# ax.set_yticks(np.arange(0, freq.max()+1))\n",
    "ax.set_title(\"일기준 이용객 수 분포 히스토그램\")\n",
    "# 그래프 표시\n",
    "plt.show()"
   ]
  },
  {
   "cell_type": "code",
   "execution_count": 16,
   "id": "8472817e-d4e6-4384-9c70-ac34eb2eb8fd",
   "metadata": {},
   "outputs": [
    {
     "data": {
      "text/html": [
       "<div>\n",
       "<style scoped>\n",
       "    .dataframe tbody tr th:only-of-type {\n",
       "        vertical-align: middle;\n",
       "    }\n",
       "\n",
       "    .dataframe tbody tr th {\n",
       "        vertical-align: top;\n",
       "    }\n",
       "\n",
       "    .dataframe thead th {\n",
       "        text-align: right;\n",
       "    }\n",
       "</style>\n",
       "<table border=\"1\" class=\"dataframe\">\n",
       "  <thead>\n",
       "    <tr style=\"text-align: right;\">\n",
       "      <th></th>\n",
       "      <th>승차총승객수</th>\n",
       "      <th>하차총승객수</th>\n",
       "    </tr>\n",
       "    <tr>\n",
       "      <th>역명</th>\n",
       "      <th></th>\n",
       "      <th></th>\n",
       "    </tr>\n",
       "  </thead>\n",
       "  <tbody>\n",
       "    <tr>\n",
       "      <th>신림</th>\n",
       "      <td>34790.307033</td>\n",
       "      <td>33778.463122</td>\n",
       "    </tr>\n",
       "    <tr>\n",
       "      <th>을지로입구</th>\n",
       "      <td>35698.449315</td>\n",
       "      <td>36332.243836</td>\n",
       "    </tr>\n",
       "    <tr>\n",
       "      <th>용산</th>\n",
       "      <td>35982.452055</td>\n",
       "      <td>36369.709589</td>\n",
       "    </tr>\n",
       "    <tr>\n",
       "      <th>영등포</th>\n",
       "      <td>38019.835616</td>\n",
       "      <td>39025.389041</td>\n",
       "    </tr>\n",
       "    <tr>\n",
       "      <th>잠실(송파구청)</th>\n",
       "      <td>41227.127397</td>\n",
       "      <td>41819.486301</td>\n",
       "    </tr>\n",
       "    <tr>\n",
       "      <th>역삼</th>\n",
       "      <td>41749.720548</td>\n",
       "      <td>46849.586301</td>\n",
       "    </tr>\n",
       "    <tr>\n",
       "      <th>서울대입구(관악구청)</th>\n",
       "      <td>42764.202740</td>\n",
       "      <td>41845.646575</td>\n",
       "    </tr>\n",
       "    <tr>\n",
       "      <th>삼성(무역센터)</th>\n",
       "      <td>46045.909589</td>\n",
       "      <td>46240.441096</td>\n",
       "    </tr>\n",
       "    <tr>\n",
       "      <th>구로디지털단지</th>\n",
       "      <td>50550.232877</td>\n",
       "      <td>50327.731507</td>\n",
       "    </tr>\n",
       "    <tr>\n",
       "      <th>강남</th>\n",
       "      <td>71628.309589</td>\n",
       "      <td>70192.649315</td>\n",
       "    </tr>\n",
       "  </tbody>\n",
       "</table>\n",
       "</div>"
      ],
      "text/plain": [
       "                   승차총승객수        하차총승객수\n",
       "역명                                     \n",
       "신림           34790.307033  33778.463122\n",
       "을지로입구        35698.449315  36332.243836\n",
       "용산           35982.452055  36369.709589\n",
       "영등포          38019.835616  39025.389041\n",
       "잠실(송파구청)     41227.127397  41819.486301\n",
       "역삼           41749.720548  46849.586301\n",
       "서울대입구(관악구청)  42764.202740  41845.646575\n",
       "삼성(무역센터)     46045.909589  46240.441096\n",
       "구로디지털단지      50550.232877  50327.731507\n",
       "강남           71628.309589  70192.649315"
      ]
     },
     "execution_count": 16,
     "metadata": {},
     "output_type": "execute_result"
    }
   ],
   "source": [
    "group_df.sort_values(\"승차총승객수\").tail(10)"
   ]
  },
  {
   "cell_type": "markdown",
   "id": "646f8ec8-d408-492d-9e3e-4e866b58ef1e",
   "metadata": {},
   "source": [
    "잠실이 13만 명이나 다녀갔던 날은 코로나 이후 첫 벚꽃축제가 열린 4월 9일... 좀 예외적인 날이었다..."
   ]
  }
 ],
 "metadata": {
  "kernelspec": {
   "display_name": "Python 3 (ipykernel)",
   "language": "python",
   "name": "python3"
  },
  "language_info": {
   "codemirror_mode": {
    "name": "ipython",
    "version": 3
   },
   "file_extension": ".py",
   "mimetype": "text/x-python",
   "name": "python",
   "nbconvert_exporter": "python",
   "pygments_lexer": "ipython3",
   "version": "3.8.18"
  }
 },
 "nbformat": 4,
 "nbformat_minor": 5
}
