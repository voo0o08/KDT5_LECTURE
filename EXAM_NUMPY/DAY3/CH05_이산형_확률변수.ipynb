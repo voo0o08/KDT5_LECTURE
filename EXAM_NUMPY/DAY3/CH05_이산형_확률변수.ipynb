{
 "cells": [
  {
   "cell_type": "code",
   "execution_count": 1,
   "id": "84dbf43b-42e6-4a1b-8bb9-bd2fac54da3f",
   "metadata": {},
   "outputs": [],
   "source": [
    "import numpy as np\n",
    "import matplotlib.pyplot as plt\n",
    "\n",
    "%precision 3\n",
    "%matplotlib inline"
   ]
  },
  {
   "cell_type": "markdown",
   "id": "2cc151cd-7ff8-492b-98eb-154c520be7a9",
   "metadata": {},
   "source": [
    "# 5.1 1차원 이산형 확률변수"
   ]
  },
  {
   "cell_type": "code",
   "execution_count": 2,
   "id": "e213060f-fd54-451a-8aa6-10cd9e3ca07c",
   "metadata": {},
   "outputs": [],
   "source": [
    "x_set = np.array([1, 2, 3, 4, 5, 6])"
   ]
  },
  {
   "cell_type": "code",
   "execution_count": 3,
   "id": "c0846ca7-1d50-4c79-bf28-0abf049e33bf",
   "metadata": {},
   "outputs": [],
   "source": [
    "def f(x):\n",
    "\tif x in x_set:\n",
    "\t\treturn x/21\n",
    "\telse:\n",
    "\t\treturn 0"
   ]
  },
  {
   "cell_type": "code",
   "execution_count": 5,
   "id": "6fd457a0-dea7-441e-9169-3cd2fa6a3141",
   "metadata": {},
   "outputs": [],
   "source": [
    "X = [x_set, f]"
   ]
  },
  {
   "cell_type": "code",
   "execution_count": 7,
   "id": "6466700c-4f4e-4ae2-9136-2bcc9433d39a",
   "metadata": {},
   "outputs": [
    {
     "data": {
      "text/plain": [
       "{1: 0.048, 2: 0.095, 3: 0.143, 4: 0.190, 5: 0.238, 6: 0.286}"
      ]
     },
     "execution_count": 7,
     "metadata": {},
     "output_type": "execute_result"
    }
   ],
   "source": [
    "# 확률 p_k를 구한다\n",
    "prob = np.array([f(x_k) for x_k in x_set])\n",
    "\n",
    "# x_k와 p_k의 대응을 dictionary로 표시\n",
    "dict(zip(x_set, prob)) # x1:y1, x2:y2... 으로 묶는 거임 "
   ]
  },
  {
   "cell_type": "code",
   "execution_count": 8,
   "id": "e44485ad-4fc6-490a-b484-3670812ba8bf",
   "metadata": {},
   "outputs": [
    {
     "data": {
      "image/png": "[encoded data removed]",
      "text/plain": [
       "<Figure size 1000x600 with 1 Axes>"
      ]
     },
     "metadata": {},
     "output_type": "display_data"
    }
   ],
   "source": [
    "fig = plt.figure(figsize=(10, 6))\n",
    "ax = fig.add_subplot(111)\n",
    "ax.bar(x_set, prob)\n",
    "ax.set_xlabel(\"val\")\n",
    "ax.set_ylabel(\"brobability\")\n",
    "\n",
    "plt.show()"
   ]
  },
  {
   "cell_type": "code",
   "execution_count": 13,
   "id": "5e0d8d8f-0985-4bbc-ad1d-01df7d5a5d27",
   "metadata": {},
   "outputs": [],
   "source": [
    "def F(x):\n",
    "\treturn np.sum([f(x_k) for x_k in x_set if x_k <= x])"
   ]
  },
  {
   "cell_type": "code",
   "execution_count": 14,
   "id": "fe533fbc-f6c2-4a02-9902-181722ee1d41",
   "metadata": {},
   "outputs": [
    {
     "data": {
      "text/plain": [
       "0.286"
      ]
     },
     "execution_count": 14,
     "metadata": {},
     "output_type": "execute_result"
    }
   ],
   "source": [
    "F(3)"
   ]
  },
  {
   "cell_type": "code",
   "execution_count": 15,
   "id": "d9fee8b1-e0b3-4391-8a69-8576c25e25b8",
   "metadata": {},
   "outputs": [],
   "source": [
    "def E(X, g=lambda x:x):\n",
    "    x_set, f = X\n",
    "    return np.sum([g(x_k) * f(x_k) for x_k in x_set])"
   ]
  },
  {
   "cell_type": "code",
   "execution_count": 16,
   "id": "1fdb1dfa-3d37-4a6e-863f-3ecd35adc63f",
   "metadata": {},
   "outputs": [
    {
     "data": {
      "text/plain": [
       "4.333"
      ]
     },
     "execution_count": 16,
     "metadata": {},
     "output_type": "execute_result"
    }
   ],
   "source": [
    "E(X)"
   ]
  },
  {
   "cell_type": "code",
   "execution_count": 17,
   "id": "7d4cbf1c-bcbd-43a6-850c-4e6cb13de281",
   "metadata": {},
   "outputs": [
    {
     "data": {
      "text/plain": [
       "11.667"
      ]
     },
     "execution_count": 17,
     "metadata": {},
     "output_type": "execute_result"
    }
   ],
   "source": [
    "def E(X, g=lambda x:x):\n",
    "    x_set, f = X\n",
    "    return np.sum([g(x_k) * f(x_k) for x_k in x_set])\n",
    "E(X, g=lambda x: 2*x+3)"
   ]
  },
  {
   "cell_type": "code",
   "execution_count": 18,
   "id": "2ab8622b-1322-4f70-9ce6-a5f1516a8fef",
   "metadata": {},
   "outputs": [
    {
     "data": {
      "text/plain": [
       "2.222"
      ]
     },
     "execution_count": 18,
     "metadata": {},
     "output_type": "execute_result"
    }
   ],
   "source": [
    "mean = E(X)\n",
    "np.sum([(x_k-mean)**2 * f(x_k) for x_k in x_set])"
   ]
  },
  {
   "cell_type": "code",
   "execution_count": null,
   "id": "c11066a8-a164-4603-ab6b-1df29e43ec5a",
   "metadata": {},
   "outputs": [],
   "source": []
  },
  {
   "cell_type": "code",
   "execution_count": null,
   "id": "883c96ba-9f96-4656-8cbd-cb125334c0da",
   "metadata": {},
   "outputs": [],
   "source": []
  },
  {
   "cell_type": "code",
   "execution_count": null,
   "id": "bceb109e-91ee-4e38-a834-36a4b1e0074f",
   "metadata": {},
   "outputs": [],
   "source": []
  },
  {
   "cell_type": "markdown",
   "id": "54ec13fd-ad9f-4ae6-9169-bceb00f9a8ba",
   "metadata": {},
   "source": [
    "# 5.2 2차원 이산형 확률변수"
   ]
  },
  {
   "cell_type": "markdown",
   "id": "24ea7b6c-9554-4bed-acf9-77ea25f3d042",
   "metadata": {},
   "source": [
    "- 확률변수는 변수가 취할 수 있는 값과 그 값이 나오는 확률에 의해 정의됨\n",
    "- 확률변수 $X$ 가 취할 수 있는 값에 대한 집합을 {$x1, x2, ....$} 으로,   \n",
    "- 확률변수 $X$ 가 $x_k$ 라는 값을 취하는 확률을    \n",
    "  $P(X = x_k) = p_k$ &nbsp;&nbsp;&nbsp;&nbsp; $(k = 1, 2, ...)$ &nbsp;&nbsp;로 정의할 수 있으며, 이때 확률은 변수가 취할 수 있는 값 $x$ 를 인수로 하는 함수로 볼 수 있음\n",
    "- $f(x) = P(X = x)$ 로 하는 함수 $f(x)$ 를 확률질량함수 또는 확률함수 라고 함"
   ]
  },
  {
   "cell_type": "code",
   "execution_count": null,
   "id": "fe1bbde2-662c-40ee-a915-7c04abad1133",
   "metadata": {},
   "outputs": [],
   "source": []
  },
  {
   "cell_type": "code",
   "execution_count": null,
   "id": "cc0dbcf4-2566-4c8d-8932-98360416187a",
   "metadata": {},
   "outputs": [],
   "source": []
  },
  {
   "cell_type": "code",
   "execution_count": null,
   "id": "267add8e-e526-4fb0-a422-65aab92761c1",
   "metadata": {},
   "outputs": [],
   "source": []
  },
  {
   "cell_type": "code",
   "execution_count": null,
   "id": "85ba6d0a-3f4e-46b8-9ac3-67d97e2b4920",
   "metadata": {},
   "outputs": [],
   "source": []
  },
  {
   "cell_type": "code",
   "execution_count": null,
   "id": "04d1f86c-1c6b-4b4e-bb18-6ae33b1bf1a4",
   "metadata": {},
   "outputs": [],
   "source": []
  },
  {
   "cell_type": "code",
   "execution_count": null,
   "id": "a3a71fcd-690e-432e-a2ec-0dae7fe204d7",
   "metadata": {},
   "outputs": [],
   "source": []
  }
 ],
 "metadata": {
  "kernelspec": {
   "display_name": "Python 3 (ipykernel)",
   "language": "python",
   "name": "python3"
  },
  "language_info": {
   "codemirror_mode": {
    "name": "ipython",
    "version": 3
   },
   "file_extension": ".py",
   "mimetype": "text/x-python",
   "name": "python",
   "nbconvert_exporter": "python",
   "pygments_lexer": "ipython3",
   "version": "3.9.18"
  }
 },
 "nbformat": 4,
 "nbformat_minor": 5
}
