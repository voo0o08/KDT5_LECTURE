{
 "cells": [
  {
   "cell_type": "markdown",
   "source": [
    "# 이미지 로데이터 파일에서 데이터추출"
   ],
   "metadata": {
    "collapsed": false
   },
   "id": "d75d6644dee274a4"
  },
  {
   "cell_type": "code",
   "outputs": [],
   "source": [
    "# 1. 파일 입출력 방식\n",
    "# with open() as ~ \n",
    "\n",
    "file_path = '../data/MNIST/t10k-images-idx3-ubyte.gz'"
   ],
   "metadata": {
    "collapsed": false,
    "ExecuteTime": {
     "end_time": "2024-03-21T01:41:44.904874100Z",
     "start_time": "2024-03-21T01:41:44.901656800Z"
    }
   },
   "id": "5d71e1ce25ca5a41",
   "execution_count": 5
  },
  {
   "cell_type": "code",
   "outputs": [],
   "source": [
    "# 파일 읽을 때 고려사항 => mode = br(byte read)\n",
    "with open(file_path, mode='br') as f:\n",
    "    all_data = f.read()"
   ],
   "metadata": {
    "collapsed": false,
    "ExecuteTime": {
     "end_time": "2024-03-21T01:41:45.104254900Z",
     "start_time": "2024-03-21T01:41:45.099914100Z"
    }
   },
   "id": "a75a71dc272e4f71",
   "execution_count": 6
  },
  {
   "cell_type": "code",
   "outputs": [
    {
     "data": {
      "text/plain": "(bytes, 1648877)"
     },
     "execution_count": 9,
     "metadata": {},
     "output_type": "execute_result"
    }
   ],
   "source": [
    "type(all_data), len(all_data)"
   ],
   "metadata": {
    "collapsed": false,
    "ExecuteTime": {
     "end_time": "2024-03-21T01:42:20.842582400Z",
     "start_time": "2024-03-21T01:42:20.823349200Z"
    }
   },
   "id": "41b97d5a8bdfe524",
   "execution_count": 9
  },
  {
   "cell_type": "code",
   "outputs": [
    {
     "data": {
      "text/plain": "b'\\x1f\\x8b\\x08\\x08\\xad\\xa6\\xcc4\\x00\\x03'"
     },
     "execution_count": 11,
     "metadata": {},
     "output_type": "execute_result"
    }
   ],
   "source": [
    "all_data[:10] # 앞에 붙어 있는 b는 byte라는 뜻"
   ],
   "metadata": {
    "collapsed": false,
    "ExecuteTime": {
     "end_time": "2024-03-21T01:42:39.124881100Z",
     "start_time": "2024-03-21T01:42:39.038364800Z"
    }
   },
   "id": "5c75deea82a63a47",
   "execution_count": 11
  },
  {
   "cell_type": "code",
   "outputs": [
    {
     "name": "stdout",
     "output_type": "stream",
     "text": [
      "b'\\x1f\\x8b\\x08\\x08'\n",
      "b'\\xad\\xa6\\xcc4'\n",
      "b'\\x00\\x03t1'\n",
      "b'0k-i'\n"
     ]
    }
   ],
   "source": [
    "with open(file_path, mode='br') as f:\n",
    "    \n",
    "    magec_code = f.read(4)\n",
    "    print(magec_code)\n",
    "    \n",
    "    data_length = f.read(4)\n",
    "    print(data_length)\n",
    "    \n",
    "    row = f.read(4)\n",
    "    print(row)\n",
    "    \n",
    "    col = f.read(4)\n",
    "    print(col)"
   ],
   "metadata": {
    "collapsed": false,
    "ExecuteTime": {
     "end_time": "2024-03-21T01:50:25.854489100Z",
     "start_time": "2024-03-21T01:50:25.816362600Z"
    }
   },
   "id": "be4ce14fcce8eb0c",
   "execution_count": 15
  },
  {
   "cell_type": "code",
   "outputs": [
    {
     "name": "stdout",
     "output_type": "stream",
     "text": [
      "b'\\x00\\x03t1' 00037431\n"
     ]
    }
   ],
   "source": [
    "# 바이트 ==> 알아보는 문자로 \n",
    "print(row, row.hex()) # => 2진수 to 10진수"
   ],
   "metadata": {
    "collapsed": false,
    "ExecuteTime": {
     "end_time": "2024-03-21T01:57:57.382752300Z",
     "start_time": "2024-03-21T01:57:57.371138800Z"
    }
   },
   "id": "81f18a97e8f810d3",
   "execution_count": 17
  },
  {
   "cell_type": "code",
   "outputs": [],
   "source": [
    "# struct는 00037431이거를 00/03/74/31 format에 맞게 바꿔줌 "
   ],
   "metadata": {
    "collapsed": false
   },
   "id": "d3b6520bbf5c3f60"
  },
  {
   "cell_type": "markdown",
   "source": [
    "# 2. 파이썬의 바이트 데이터 변환 모듈 활용 => [struct](https://docs.python.org/ko/3/library/struct.html) 활용"
   ],
   "metadata": {
    "collapsed": false
   },
   "id": "7f7be8b1d84483ce"
  },
  {
   "cell_type": "code",
   "outputs": [],
   "source": [
    "# 모듈로딩\n",
    "import struct\n",
    "\n",
    "import pandas as pd\n",
    "import numpy as np"
   ],
   "metadata": {
    "collapsed": false,
    "ExecuteTime": {
     "end_time": "2024-03-21T05:28:45.159763300Z",
     "start_time": "2024-03-21T05:28:45.136390800Z"
    }
   },
   "id": "6f25542ae657da5b",
   "execution_count": 77
  },
  {
   "cell_type": "code",
   "outputs": [],
   "source": [
    "# 데이터 추출 및 저장 관련 변수\n",
    "# 학습용 : train.csv\n",
    "# 테스트용 : test.csv\n",
    "# 위치 : ../data/\n",
    "\n",
    "save_dir = '../data/'\n",
    "data_dir = '../data/MNIST/'\n",
    "train_file = data_dir + 'train.csv'\n",
    "test_file = data_dir + 'test.csv'\n",
    "\n",
    "save_file = '../data/MNIST/mnist.csv'"
   ],
   "metadata": {
    "collapsed": false,
    "ExecuteTime": {
     "end_time": "2024-03-21T05:28:58.113494200Z",
     "start_time": "2024-03-21T05:28:58.081365600Z"
    }
   },
   "id": "eadf25c24a464c45",
   "execution_count": 78
  },
  {
   "cell_type": "code",
   "outputs": [],
   "source": [
    "### 사용자 정의 함수 \n",
    "'''\n",
    "기능 : raw data 파일을 읽어서 csv파일로 저장\n",
    "함수명 : to_csv\n",
    "매개 변수 : 파일이름, 데이터수\n",
    "반환값 : 파일 생성 여부 T/F\n",
    "'''\n",
    "import os, struct\n",
    "\n",
    "DEBUG = True\n",
    "\n",
    "# name에는 train인지 test(t10k)인지만 들어가도록\n",
    "def to_csv(name, maxdata): \n",
    "    # 레이블 파일과 이미지 파일 열기\n",
    "    lbl_f = open(data_dir+name+\"-labels.idx1-ubyte\", \"rb\")\n",
    "    img_f = open(data_dir+name+\"-images.idx3-ubyte\", \"rb\")\n",
    "                 \n",
    "    # csv 파일 생성\n",
    "    csv_f = open(data_dir+name+\".csv\", \"w\", encoding=\"utf-8\")\n",
    "    \n",
    "    # 헤더정보읽기\n",
    "    mag, lbl_count = struct.unpack(\">II\", lbl_f.read(8)) # 매직코드+ 레이블갯수\n",
    "    mag, img_count = struct.unpack(\">II\", img_f.read(8)) # 매직코드+ 이미지갯수\n",
    "    rows, cols = struct.unpack(\">II\", img_f.read(8)) # 행, 열갯수\n",
    "    pixels = rows * cols\n",
    "    \n",
    "    if DEBUG:\n",
    "        print('lbl_count {}, img_count {}'.format(lbl_count, img_count))\n",
    "        print('rows {}, cols {}'.format(rows, cols))\n",
    "        \n",
    "    # [2] 이미지 데이터를 읽고 csv로 저장\n",
    "    # 라벨, 데이터, 데이터, 데이터, 데이터 ...\n",
    "    for idx in range(lbl_count):\n",
    "        if idx > maxdata: break\n",
    "        \n",
    "        # 숫자이미지 데이터가 의미하는 숫자값 읽기\n",
    "        # 튜플타임 리턴 -> 1개 데이터 (value,)\n",
    "        label = struct.unpack(\"B\", lbl_f.read(1))[0]\n",
    "        # B => unsigned char, 정수, 표준크기 =1\n",
    "        # if DEBUG: print('label => {}'.format(label))\n",
    "        \n",
    "        ##################################\n",
    "        # 이미지 데이터 읽기\n",
    "        bdata = img_f.read(pixels)\n",
    "        sdata = list(map(lambda n: str(n), bdata)) # 문자열로 변환\n",
    "        # print('sdata => {}'.format(sdata))\n",
    "        \n",
    "        # CSV 파일에 쓰기\n",
    "        csv_f.write(str(label)+\",\") # 숫자 라벨 쓰기\n",
    "        csv_f.write(\",\".join(sdata)+\"\\n\") # 리스트 이미지 데이터 -> 문자열 변환 쓰기 두줄 띄어서 저장\n",
    "        ##################################\n",
    "        \n",
    "    csv_f.close()\n",
    "    lbl_f.close()\n",
    "    img_f.close()\n",
    "    # 생성된 파일 존재 여부 확인 후 반환 \n",
    "    return os.path.exists(data_dir + f'{name}.csv') # return T/F"
   ],
   "metadata": {
    "collapsed": false,
    "ExecuteTime": {
     "end_time": "2024-03-21T05:34:42.514324800Z",
     "start_time": "2024-03-21T05:34:42.498274700Z"
    }
   },
   "id": "6dcf4e07b2e0b66e",
   "execution_count": 83
  },
  {
   "cell_type": "code",
   "outputs": [
    {
     "name": "stdout",
     "output_type": "stream",
     "text": [
      "lbl_count 60000, img_count 60000\n",
      "rows 28, cols 28\n"
     ]
    },
    {
     "data": {
      "text/plain": "True"
     },
     "execution_count": 84,
     "metadata": {},
     "output_type": "execute_result"
    }
   ],
   "source": [
    "# 학습용 데이터 파일 생성 \n",
    "to_csv(\"train\", 10000)"
   ],
   "metadata": {
    "collapsed": false,
    "ExecuteTime": {
     "end_time": "2024-03-21T05:34:45.283268700Z",
     "start_time": "2024-03-21T05:34:43.437409600Z"
    }
   },
   "id": "3c71a5daf34fcbf0",
   "execution_count": 84
  },
  {
   "cell_type": "code",
   "outputs": [
    {
     "name": "stdout",
     "output_type": "stream",
     "text": [
      "lbl_count 10000, img_count 10000\n",
      "rows 28, cols 28\n"
     ]
    },
    {
     "data": {
      "text/plain": "True"
     },
     "execution_count": 85,
     "metadata": {},
     "output_type": "execute_result"
    }
   ],
   "source": [
    "# 테스트용 데이터 파일 생성\n",
    "to_csv(\"t10k\", 1000)"
   ],
   "metadata": {
    "collapsed": false,
    "ExecuteTime": {
     "end_time": "2024-03-21T05:34:45.466123900Z",
     "start_time": "2024-03-21T05:34:45.280316400Z"
    }
   },
   "id": "f3f689b7a03a8075",
   "execution_count": 85
  },
  {
   "cell_type": "markdown",
   "source": [
    "# 3 이미지 데이터 로딩 후 시각화"
   ],
   "metadata": {
    "collapsed": false
   },
   "id": "6682364be963d51b"
  },
  {
   "cell_type": "markdown",
   "source": [
    "## 3-1 이미지 데이터 로딩 csv => DataFrame 또는 Numpy"
   ],
   "metadata": {
    "collapsed": false
   },
   "id": "d0c913f32c18abac"
  },
  {
   "cell_type": "code",
   "outputs": [
    {
     "name": "stdout",
     "output_type": "stream",
     "text": [
      "<class 'pandas.core.frame.DataFrame'>\n",
      "RangeIndex: 10001 entries, 0 to 10000\n",
      "Columns: 785 entries, 0 to 784\n",
      "dtypes: int64(785)\n",
      "memory usage: 59.9 MB\n"
     ]
    }
   ],
   "source": [
    "trainDF = pd.read_csv(train_file, header=None)\n",
    "trainDF.info()"
   ],
   "metadata": {
    "collapsed": false,
    "ExecuteTime": {
     "end_time": "2024-03-21T05:34:47.435634500Z",
     "start_time": "2024-03-21T05:34:47.076569400Z"
    }
   },
   "id": "4beb2b6505c1429e",
   "execution_count": 86
  },
  {
   "cell_type": "code",
   "outputs": [
    {
     "name": "stdout",
     "output_type": "stream",
     "text": [
      "<class 'pandas.core.frame.DataFrame'>\n",
      "RangeIndex: 10001 entries, 0 to 10000\n",
      "Columns: 785 entries, 0 to 784\n",
      "dtypes: int64(785)\n",
      "memory usage: 59.9 MB\n"
     ]
    }
   ],
   "source": [
    "trainDF = pd.read_csv(train_file, header=None)\n",
    "trainDF.info() # Columns: 785 entries, 0 to 784"
   ],
   "metadata": {
    "collapsed": false,
    "ExecuteTime": {
     "end_time": "2024-03-21T05:34:56.505570600Z",
     "start_time": "2024-03-21T05:34:56.114268700Z"
    }
   },
   "id": "458165650b76eaa6",
   "execution_count": 87
  },
  {
   "cell_type": "code",
   "outputs": [
    {
     "data": {
      "text/plain": "   0    1    2    3    4    5    6    7    8    9    ...  775  776  777  778  \\\n0    5    0    0    0    0    0    0    0    0    0  ...    0    0    0    0   \n1    0    0    0    0    0    0    0    0    0    0  ...    0    0    0    0   \n\n   779  780  781  782  783  784  \n0    0    0    0    0    0    0  \n1    0    0    0    0    0    0  \n\n[2 rows x 785 columns]",
      "text/html": "<div>\n<style scoped>\n    .dataframe tbody tr th:only-of-type {\n        vertical-align: middle;\n    }\n\n    .dataframe tbody tr th {\n        vertical-align: top;\n    }\n\n    .dataframe thead th {\n        text-align: right;\n    }\n</style>\n<table border=\"1\" class=\"dataframe\">\n  <thead>\n    <tr style=\"text-align: right;\">\n      <th></th>\n      <th>0</th>\n      <th>1</th>\n      <th>2</th>\n      <th>3</th>\n      <th>4</th>\n      <th>5</th>\n      <th>6</th>\n      <th>7</th>\n      <th>8</th>\n      <th>9</th>\n      <th>...</th>\n      <th>775</th>\n      <th>776</th>\n      <th>777</th>\n      <th>778</th>\n      <th>779</th>\n      <th>780</th>\n      <th>781</th>\n      <th>782</th>\n      <th>783</th>\n      <th>784</th>\n    </tr>\n  </thead>\n  <tbody>\n    <tr>\n      <th>0</th>\n      <td>5</td>\n      <td>0</td>\n      <td>0</td>\n      <td>0</td>\n      <td>0</td>\n      <td>0</td>\n      <td>0</td>\n      <td>0</td>\n      <td>0</td>\n      <td>0</td>\n      <td>...</td>\n      <td>0</td>\n      <td>0</td>\n      <td>0</td>\n      <td>0</td>\n      <td>0</td>\n      <td>0</td>\n      <td>0</td>\n      <td>0</td>\n      <td>0</td>\n      <td>0</td>\n    </tr>\n    <tr>\n      <th>1</th>\n      <td>0</td>\n      <td>0</td>\n      <td>0</td>\n      <td>0</td>\n      <td>0</td>\n      <td>0</td>\n      <td>0</td>\n      <td>0</td>\n      <td>0</td>\n      <td>0</td>\n      <td>...</td>\n      <td>0</td>\n      <td>0</td>\n      <td>0</td>\n      <td>0</td>\n      <td>0</td>\n      <td>0</td>\n      <td>0</td>\n      <td>0</td>\n      <td>0</td>\n      <td>0</td>\n    </tr>\n  </tbody>\n</table>\n<p>2 rows × 785 columns</p>\n</div>"
     },
     "execution_count": 88,
     "metadata": {},
     "output_type": "execute_result"
    }
   ],
   "source": [
    "trainDF.head(2)"
   ],
   "metadata": {
    "collapsed": false,
    "ExecuteTime": {
     "end_time": "2024-03-21T05:34:57.167178200Z",
     "start_time": "2024-03-21T05:34:57.126844100Z"
    }
   },
   "id": "2bd914a031b91914",
   "execution_count": 88
  },
  {
   "cell_type": "code",
   "outputs": [
    {
     "data": {
      "text/plain": "((10001,),\n (10001, 784),\n    1    2    3    4    5    6    7    8    9    10   ...  775  776  777  778  \\\n 0    0    0    0    0    0    0    0    0    0    0  ...    0    0    0    0   \n 1    0    0    0    0    0    0    0    0    0    0  ...    0    0    0    0   \n 2    0    0    0    0    0    0    0    0    0    0  ...    0    0    0    0   \n \n    779  780  781  782  783  784  \n 0    0    0    0    0    0    0  \n 1    0    0    0    0    0    0  \n 2    0    0    0    0    0    0  \n \n [3 rows x 784 columns])"
     },
     "execution_count": 89,
     "metadata": {},
     "output_type": "execute_result"
    }
   ],
   "source": [
    "## 3-2 데이터 시각화\n",
    "labels = trainDF[0]\n",
    "img_data = trainDF.iloc[:, 1:]\n",
    "\n",
    "labels.shape, img_data.shape, img_data[:3]"
   ],
   "metadata": {
    "collapsed": false,
    "ExecuteTime": {
     "end_time": "2024-03-21T05:34:59.619019500Z",
     "start_time": "2024-03-21T05:34:59.594819500Z"
    }
   },
   "id": "142a48b30cddd76f",
   "execution_count": 89
  },
  {
   "cell_type": "code",
   "outputs": [
    {
     "data": {
      "text/plain": "(numpy.ndarray, (784,), 1)"
     },
     "execution_count": 90,
     "metadata": {},
     "output_type": "execute_result"
    }
   ],
   "source": [
    "# 이미지 데이터 => 2차원 이미지 데이터 변환 \n",
    "raw_img = img_data.iloc[0].values\n",
    "\n",
    "type(raw_img), raw_img.shape, raw_img.ndim"
   ],
   "metadata": {
    "collapsed": false,
    "ExecuteTime": {
     "end_time": "2024-03-21T05:34:59.929472700Z",
     "start_time": "2024-03-21T05:34:59.903963200Z"
    }
   },
   "id": "1b4723859f388235",
   "execution_count": 90
  },
  {
   "cell_type": "code",
   "outputs": [
    {
     "data": {
      "text/plain": "(numpy.ndarray, (28, 28), 2)"
     },
     "execution_count": 91,
     "metadata": {},
     "output_type": "execute_result"
    }
   ],
   "source": [
    "raw_img = raw_img.reshape(28, -1)\n",
    "\n",
    "type(raw_img), raw_img.shape, raw_img.ndim # 2D로 바뀜 "
   ],
   "metadata": {
    "collapsed": false,
    "ExecuteTime": {
     "end_time": "2024-03-21T05:35:00.587973700Z",
     "start_time": "2024-03-21T05:35:00.553024200Z"
    }
   },
   "id": "b932f701f6ea6ff2",
   "execution_count": 91
  },
  {
   "cell_type": "code",
   "outputs": [
    {
     "data": {
      "text/plain": "<Figure size 640x480 with 1 Axes>",
      "image/png": "[encoded data removed]"
     },
     "metadata": {},
     "output_type": "display_data"
    }
   ],
   "source": [
    "import matplotlib.pyplot as plt\n",
    "# 시각화 \n",
    "plt.title(f\"[IMAGE LABEL] => {labels[0]}\", fontsize=25)\n",
    "plt.imshow(raw_img, cmap=\"gray\")\n",
    "plt.axis(\"off\")\n",
    "plt.show()"
   ],
   "metadata": {
    "collapsed": false,
    "ExecuteTime": {
     "end_time": "2024-03-21T05:35:00.924819400Z",
     "start_time": "2024-03-21T05:35:00.866113900Z"
    }
   },
   "id": "ace7f80f7de422b8",
   "execution_count": 92
  },
  {
   "cell_type": "code",
   "outputs": [],
   "source": [],
   "metadata": {
    "collapsed": false
   },
   "id": "fc5c984343b03d8b"
  }
 ],
 "metadata": {
  "kernelspec": {
   "display_name": "Python 3",
   "language": "python",
   "name": "python3"
  },
  "language_info": {
   "codemirror_mode": {
    "name": "ipython",
    "version": 2
   },
   "file_extension": ".py",
   "mimetype": "text/x-python",
   "name": "python",
   "nbconvert_exporter": "python",
   "pygments_lexer": "ipython2",
   "version": "2.7.6"
  }
 },
 "nbformat": 4,
 "nbformat_minor": 5
}
