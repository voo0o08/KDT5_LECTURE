{
 "cells": [
  {
   "cell_type": "code",
   "execution_count": 1,
   "id": "initial_id",
   "metadata": {
    "collapsed": true,
    "ExecuteTime": {
     "end_time": "2024-03-18T07:44:14.419526500Z",
     "start_time": "2024-03-18T07:44:12.633114900Z"
    }
   },
   "outputs": [],
   "source": [
    "import torch\n",
    "import torch.nn.functional as F\n",
    "import torch.nn as nn"
   ]
  },
  {
   "cell_type": "code",
   "outputs": [],
   "source": [
    "class M(nn.Module):\n",
    "    \n",
    "    def __init__(self, in_dim, out_dim):\n",
    "        self.layer1=nn.Linear(in_dim, 40)\n",
    "        self.layer2=nn.Linear(40, out_dim)\n",
    "        self.relu = nn.ReLU()\n",
    "        \n",
    "    def forward(self, x):\n",
    "        x = self.layer1(x)\n",
    "        x = self.relu()\n",
    "        return self.layer1(x)"
   ],
   "metadata": {
    "collapsed": false
   },
   "id": "d44b906bfce23fc9"
  },
  {
   "cell_type": "code",
   "outputs": [],
   "source": [
    "m1 = M(10, 20)"
   ],
   "metadata": {
    "collapsed": false
   },
   "id": "a2e351ecef66a7b9"
  },
  {
   "cell_type": "code",
   "outputs": [],
   "source": [
    "m1.modules"
   ],
   "metadata": {
    "collapsed": false
   },
   "id": "1ca25fcd51011b0d"
  },
  {
   "cell_type": "code",
   "outputs": [],
   "source": [
    "m1.parameters"
   ],
   "metadata": {
    "collapsed": false
   },
   "id": "9d71e8909e181ba6"
  },
  {
   "cell_type": "code",
   "outputs": [],
   "source": [
    "for para in m1.parameters():\n",
    "    print(para.shape)"
   ],
   "metadata": {
    "collapsed": false
   },
   "id": "e763edc89824298d"
  },
  {
   "cell_type": "code",
   "outputs": [],
   "source": [
    "class MyModule(nn.Module):\n",
    "    def __init__(self, in_dim, out_dim, in_node, out_node, n_nodes=[100, 50], n_hidden=2):\n",
    "        super().__init__()\n",
    "        self.input = nn.Linear(in_dim, n_nodes[0])\n",
    "        self.linears = nn.ModuleList([nn.Linear(10, 10) for i in range(10)])\n",
    "        self.outLayer = nn.Linear(n_nodes[-1], out_dim)"
   ],
   "metadata": {
    "collapsed": false
   },
   "id": "eebd0f698c2cab9a"
  },
  {
   "cell_type": "code",
   "outputs": [],
   "source": [],
   "metadata": {
    "collapsed": false
   },
   "id": "993b68f0c2c09fd0"
  }
 ],
 "metadata": {
  "kernelspec": {
   "display_name": "Python 3",
   "language": "python",
   "name": "python3"
  },
  "language_info": {
   "codemirror_mode": {
    "name": "ipython",
    "version": 2
   },
   "file_extension": ".py",
   "mimetype": "text/x-python",
   "name": "python",
   "nbconvert_exporter": "python",
   "pygments_lexer": "ipython2",
   "version": "2.7.6"
  }
 },
 "nbformat": 4,
 "nbformat_minor": 5
}
