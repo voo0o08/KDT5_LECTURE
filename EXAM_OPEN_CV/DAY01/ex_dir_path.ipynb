{
 "cells": [
  {
   "cell_type": "markdown",
   "source": [
    "### 폴더 및 파일 다루기"
   ],
   "metadata": {
    "collapsed": false
   },
   "id": "9ab876e5c5b5b7e8"
  },
  {
   "cell_type": "code",
   "outputs": [],
   "source": [
    "## 모듈 로딩\n",
    "import os"
   ],
   "metadata": {
    "collapsed": false,
    "ExecuteTime": {
     "end_time": "2024-03-21T05:51:02.658087100Z",
     "start_time": "2024-03-21T05:51:02.652754Z"
    }
   },
   "id": "b777582fdaca0e6b",
   "execution_count": 1
  },
  {
   "cell_type": "code",
   "outputs": [
    {
     "data": {
      "text/plain": "True"
     },
     "execution_count": 3,
     "metadata": {},
     "output_type": "execute_result"
    }
   ],
   "source": [
    "## 특정 폴더 내의 모든 데이터 리스트 가져오기\n",
    "my_folder = \"../data/\"\n",
    "\n",
    "# 해당 폴더 또는 파일이 존재하는지 검사 => return = T/F \n",
    "os.path.exists(my_folder)"
   ],
   "metadata": {
    "collapsed": false,
    "ExecuteTime": {
     "end_time": "2024-03-21T05:52:07.073055400Z",
     "start_time": "2024-03-21T05:52:07.052561300Z"
    }
   },
   "id": "96394f82f19c900",
   "execution_count": 3
  },
  {
   "cell_type": "code",
   "outputs": [
    {
     "name": "stdout",
     "output_type": "stream",
     "text": [
      "MNIST => True\n",
      "['t10k-images.idx3-ubyte', 't10k-labels.idx1-ubyte', 't10k.csv', 'test1.csv', 'train-images.idx3-ubyte', 'train-labels.idx1-ubyte', 'train.csv', 'train1.csv']\n",
      "test_img.jpg => False\n",
      "test_memo.txt => False\n"
     ]
    }
   ],
   "source": [
    "# 폴더 내 모든 파일, 폴더 리스트 반환\n",
    "datalist = os.listdir(my_folder)\n",
    "\n",
    "for data_name in datalist:\n",
    "    # 폴더 여부 체크 => os.isdir(경로)\n",
    "    print(data_name, \"=>\",os.path.isdir(data_name))\n",
    "    # 폴더라면 폴더 아래 데이터 리스트 출력 \n",
    "    if os.path.isdir(data_name):\n",
    "        print(os.listdir(data_name))"
   ],
   "metadata": {
    "collapsed": false,
    "ExecuteTime": {
     "end_time": "2024-03-21T05:57:39.181460Z",
     "start_time": "2024-03-21T05:57:39.164573600Z"
    }
   },
   "id": "1d31aa4b93258ca",
   "execution_count": 13
  },
  {
   "cell_type": "code",
   "outputs": [
    {
     "name": "stdout",
     "output_type": "stream",
     "text": [
      "[MNIST]\n",
      "------ t10k-images.idx3-ubyte\n",
      "------ t10k-labels.idx1-ubyte\n",
      "------ t10k.csv\n",
      "------ test1.csv\n",
      "------ train-images.idx3-ubyte\n",
      "------ train-labels.idx1-ubyte\n",
      "------ train.csv\n",
      "------ train1.csv\n",
      "\n",
      "test_img.jpg\n",
      "\n",
      "test_memo.txt\n"
     ]
    }
   ],
   "source": [
    "# 폴더 내 모든 파일, 폴더 리스트 반환\n",
    "datalist = os.listdir(my_folder)\n",
    "\n",
    "for data_name in datalist:\n",
    "    # 폴더 여부 체크 후 폴더일 경우\n",
    "    if os.path.isdir(data_name) == True:\n",
    "        print(f\"[{data_name}]\")\n",
    "        for i in os.listdir(data_name):\n",
    "            print(\"------\", i)\n",
    "    else:\n",
    "        print()\n",
    "        print(data_name)"
   ],
   "metadata": {
    "collapsed": false,
    "ExecuteTime": {
     "end_time": "2024-03-21T06:10:02.984385100Z",
     "start_time": "2024-03-21T06:10:02.966964900Z"
    }
   },
   "id": "ada2db987eebcbc6",
   "execution_count": 20
  },
  {
   "cell_type": "code",
   "outputs": [
    {
     "name": "stdout",
     "output_type": "stream",
     "text": [
      "test_img.jpg\n"
     ]
    }
   ],
   "source": [
    "# 원하는 데이터 파일 즉 확장자를 지정해서 해당 파일만 가져오기 => jpg 파일 \n",
    "def find_name(name):    \n",
    "    for data_name in datalist:\n",
    "        temp_list = data_name.split(\".\")\n",
    "        if temp_list[-1] == name:\n",
    "            print(data_name)\n",
    "            \n",
    "find_name(\"jpg\")"
   ],
   "metadata": {
    "collapsed": false,
    "ExecuteTime": {
     "end_time": "2024-03-21T06:26:25.972736900Z",
     "start_time": "2024-03-21T06:26:25.960848900Z"
    }
   },
   "id": "211130faf7efd0dc",
   "execution_count": 25
  },
  {
   "cell_type": "code",
   "outputs": [
    {
     "name": "stdout",
     "output_type": "stream",
     "text": [
      "4.9.0\n"
     ]
    }
   ],
   "source": [
    "import cv2\n",
    "\n",
    "print(cv2.__version__)"
   ],
   "metadata": {
    "collapsed": false,
    "ExecuteTime": {
     "end_time": "2024-03-21T07:12:22.112711700Z",
     "start_time": "2024-03-21T07:12:22.104849600Z"
    }
   },
   "id": "bda6b31774be39f9",
   "execution_count": 29
  },
  {
   "cell_type": "code",
   "outputs": [],
   "source": [],
   "metadata": {
    "collapsed": false
   },
   "id": "3d04db8e1926999a"
  }
 ],
 "metadata": {
  "kernelspec": {
   "display_name": "Python 3",
   "language": "python",
   "name": "python3"
  },
  "language_info": {
   "codemirror_mode": {
    "name": "ipython",
    "version": 2
   },
   "file_extension": ".py",
   "mimetype": "text/x-python",
   "name": "python",
   "nbconvert_exporter": "python",
   "pygments_lexer": "ipython2",
   "version": "2.7.6"
  }
 },
 "nbformat": 4,
 "nbformat_minor": 5
}
