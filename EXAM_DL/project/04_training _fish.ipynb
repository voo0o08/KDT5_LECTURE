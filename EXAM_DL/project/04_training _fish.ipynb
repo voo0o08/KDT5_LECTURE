{
 "cells": [
  {
   "cell_type": "code",
   "execution_count": 21,
   "metadata": {
    "ExecuteTime": {
     "end_time": "2024-03-19T12:21:18.133859200Z",
     "start_time": "2024-03-19T12:21:17.828699300Z"
    }
   },
   "outputs": [],
   "source": [
    "import matplotlib.pyplot as plt\n",
    "import torch\n",
    "import torch.nn as nn\n",
    "import torch.nn.functional as F\n",
    "import torch.optim as optim\n",
    "import pandas as pd\n",
    "import numpy as np\n",
    "from sklearn.model_selection import train_test_split\n",
    "# https://www.kaggle.com/datasets/crowww/a-large-scale-fish-dataset"
   ]
  },
  {
   "cell_type": "code",
   "execution_count": 2,
   "metadata": {
    "ExecuteTime": {
     "end_time": "2024-03-19T12:16:31.357611700Z",
     "start_time": "2024-03-19T12:16:31.299921900Z"
    }
   },
   "outputs": [],
   "source": [
    "from PIL import Image\n",
    "import numpy as np\n",
    "import os\n",
    "\n"
   ]
  },
  {
   "cell_type": "code",
   "execution_count": 3,
   "metadata": {
    "ExecuteTime": {
     "end_time": "2024-03-19T12:16:43.420835Z",
     "start_time": "2024-03-19T12:16:32.597312400Z"
    }
   },
   "outputs": [
    {
     "name": "stdout",
     "output_type": "stream",
     "text": [
      "(1000, 2655) (1000,)\n",
      "(2000, 2655) (2000,)\n",
      "(3000, 2655) (3000,)\n",
      "(4000, 2655) (4000,)\n",
      "(5000, 2655) (5000,)\n",
      "(6000, 2655) (6000,)\n",
      "(7000, 2655) (7000,)\n",
      "(8000, 2655) (8000,)\n",
      "(9000, 2655) (9000,)\n"
     ]
    }
   ],
   "source": [
    "# Black Sea Sprat: 0\n",
    "# Gilt-Head Bream: 1\n",
    "# Hourse Mackerel: 2\n",
    "# Red Mullet: 3\n",
    "# Red Sea Bream: 4\n",
    "# Sea Bass: 5\n",
    "# Shrimp: 6\n",
    "# Striped Red Mullet: 7\n",
    "# Trout: 8\n",
    "# 각 특성에 맞도록, 1000개의 데이터를 만들어보자\n",
    "import os\n",
    "from PIL import Image\n",
    "import numpy as np\n",
    "\n",
    "fish_list=[\"Black Sea Sprat\", \"Gilt-Head Bream\", \"Hourse Mackerel\", \"Red Mullet\", \"Red Sea Bream\", \"Sea Bass\", \"Shrimp\", \"Striped Red Mullet\", \"Trout\"]\n",
    "\n",
    "feature = np.array([])\n",
    "target = np.array([])\n",
    "\n",
    "for j, v in enumerate(fish_list):\n",
    "    directory = f\"Fish_Dataset/{v}\"\n",
    "    extension = \".png\"\n",
    "    num_images = 1000\n",
    "    images = []\n",
    "    for i in range(1, num_images + 1):\n",
    "        filename = os.path.join(directory, f\"{i:05}\"+extension)\n",
    "        img = Image.open(filename)\n",
    "        img_resized = img.resize((59, 45))  # 이미지 크기를 100x100으로 조정\n",
    "        img_array = np.array(img_resized)\n",
    "        images.append(img_array)\n",
    "\n",
    "    images_array = np.array(images)\n",
    "\n",
    "    target_sub = np.array([j for _ in range(1000)])  # 해당 물고기에 대한 라벨 생성\n",
    "    feature_sub = images_array.reshape(1000, -1)\n",
    "\n",
    "    if j >= 1:\n",
    "        feature = np.concatenate((feature, feature_sub), axis=0)\n",
    "        target = np.concatenate((target, target_sub), axis=0)\n",
    "    else:\n",
    "        feature = feature_sub\n",
    "        target = target_sub\n",
    "\n",
    "    print(feature.shape, target.shape)\n"
   ]
  },
  {
   "cell_type": "markdown",
   "source": [],
   "metadata": {
    "collapsed": false
   }
  },
  {
   "cell_type": "code",
   "outputs": [
    {
     "data": {
      "text/plain": "<matplotlib.image.AxesImage at 0x29ae13f1d30>"
     },
     "execution_count": 23,
     "metadata": {},
     "output_type": "execute_result"
    },
    {
     "data": {
      "text/plain": "<Figure size 640x480 with 1 Axes>",
      "image/png": "[encoded data removed]"
     },
     "metadata": {},
     "output_type": "display_data"
    }
   ],
   "source": [
    "plt.imshow(feature.iloc[0].values.reshape(45, -1))"
   ],
   "metadata": {
    "collapsed": false,
    "ExecuteTime": {
     "end_time": "2024-03-19T12:21:59.730149800Z",
     "start_time": "2024-03-19T12:21:59.553199100Z"
    }
   },
   "execution_count": 23
  },
  {
   "cell_type": "code",
   "execution_count": 4,
   "metadata": {
    "ExecuteTime": {
     "end_time": "2024-03-19T12:16:43.486745Z",
     "start_time": "2024-03-19T12:16:43.415010400Z"
    }
   },
   "outputs": [],
   "source": [
    "pd.DataFrame(feature.astype(\"int8\")).to_pickle(\"feature2.pkl\")\n",
    "pd.DataFrame(target.astype(\"int8\")).to_pickle(\"target2.pkl\")"
   ]
  },
  {
   "cell_type": "code",
   "execution_count": 5,
   "metadata": {
    "ExecuteTime": {
     "end_time": "2024-03-19T12:16:43.509792600Z",
     "start_time": "2024-03-19T12:16:43.462076100Z"
    }
   },
   "outputs": [],
   "source": [
    "feature = pd.read_pickle(\"feature2.pkl\")\n",
    "target = pd.read_pickle(\"target2.pkl\")"
   ]
  },
  {
   "cell_type": "code",
   "execution_count": 6,
   "metadata": {
    "ExecuteTime": {
     "end_time": "2024-03-19T12:16:43.577404500Z",
     "start_time": "2024-03-19T12:16:43.533113500Z"
    }
   },
   "outputs": [],
   "source": [
    "x_train, x_test, y_train, y_test = train_test_split(feature, target, test_size=0.1, random_state=42, stratify=target)"
   ]
  },
  {
   "cell_type": "code",
   "execution_count": 7,
   "metadata": {
    "ExecuteTime": {
     "end_time": "2024-03-19T12:16:43.591178200Z",
     "start_time": "2024-03-19T12:16:43.572031600Z"
    }
   },
   "outputs": [
    {
     "data": {
      "text/plain": "(8100, 2655)"
     },
     "execution_count": 7,
     "metadata": {},
     "output_type": "execute_result"
    }
   ],
   "source": [
    "x_train.shape"
   ]
  },
  {
   "cell_type": "code",
   "execution_count": 144,
   "metadata": {},
   "outputs": [],
   "source": [
    "x_train = torch.tensor(x_train.values, dtype=torch.float32)\n",
    "y_train = torch.tensor(y_train.values, dtype=torch.long)\n",
    "x_test = torch.tensor(x_test.values, dtype=torch.float32)\n",
    "y_test = torch.tensor(y_test.values, dtype=torch.long)"
   ]
  },
  {
   "cell_type": "code",
   "execution_count": 145,
   "metadata": {},
   "outputs": [],
   "source": [
    "# 데이터셋 생성\n",
    "import torch.utils.data.dataloader as dataloader\n",
    "import torch.utils.data.dataset as dataset\n",
    "\n",
    "class MyDataset(dataset.Dataset):\n",
    "    def __init__(self, x, y):\n",
    "        self.x = x\n",
    "        self.y = y\n",
    "    def __len__(self):\n",
    "        return len(self.x)\n",
    "    def __getitem__(self, idx):\n",
    "        return self.x[idx], self.y[idx]"
   ]
  },
  {
   "cell_type": "code",
   "execution_count": 146,
   "metadata": {},
   "outputs": [],
   "source": [
    "dataset_train = MyDataset(x_train, y_train)\n",
    "dataset_test = MyDataset(x_test, y_test)"
   ]
  },
  {
   "cell_type": "code",
   "execution_count": 147,
   "metadata": {},
   "outputs": [
    {
     "data": {
      "text/plain": [
       "torch.Size([8100, 15000])"
      ]
     },
     "execution_count": 147,
     "metadata": {},
     "output_type": "execute_result"
    }
   ],
   "source": [
    "x_train.shape"
   ]
  },
  {
   "cell_type": "code",
   "execution_count": 148,
   "metadata": {},
   "outputs": [],
   "source": [
    "class model(nn.Module): # 가중치 초기화 \n",
    "    def __init__(self):\n",
    "        super(model, self).__init__()\n",
    "        self.fc1 = nn.Linear(15000, 4000)\n",
    "        self.fc2 = nn.Linear(4000, 9)\n",
    "    def forward(self, x):\n",
    "        x = F.relu(self.fc1(x))\n",
    "        x = self.fc2(x)\n",
    "        return x"
   ]
  },
  {
   "cell_type": "code",
   "execution_count": 149,
   "metadata": {},
   "outputs": [],
   "source": [
    "model2 = model()\n",
    "optimizer = optim.Adam(model2.parameters(), lr=0.01)\n",
    "criterion = nn.CrossEntropyLoss()\n",
    "\n",
    "train_loader = dataloader.DataLoader(dataset_train, batch_size=100, shuffle=True)\n",
    "test_loader = dataloader.DataLoader(dataset_test, batch_size=100, shuffle=False)"
   ]
  },
  {
   "cell_type": "code",
   "execution_count": 151,
   "metadata": {},
   "outputs": [],
   "source": [
    "from torchmetrics.functional.classification import accuracy, f1_score\n",
    "model2.train()\n",
    "\n",
    "for epoch in range(15):\n",
    "    \n",
    "    for x,y in train_loader:\n",
    "        output = model2(x)\n",
    "        loss = criterion(output, y.squeeze())\n",
    "        \n",
    "        optimizer.zero_grad()\n",
    "        loss.backward()\n",
    "        optimizer.step()\n",
    "        \n",
    "        with torch.no_grad():\n",
    "            pass\n",
    "        \n",
    "    print(f\"================================={epoch}=================================\")\n",
    "    output = model2(x_train)\n",
    "    acc = accuracy(output, y_train.squeeze(), task=\"multiclass\", num_classes=9, average=\"macro\")\n",
    "    f1 = f1_score(output, y_train.squeeze(), task=\"multiclass\", num_classes=9, average=\"macro\")\n",
    "    print(f\"acc : {acc}, f1 : {f1}\")\n",
    "    \n",
    "    \n",
    "    output = model2(x_test)\n",
    "    print(f\"=================================test score=================================\")\n",
    "    print(accuracy(output, y_test.squeeze(), task=\"multiclass\", num_classes=9, average=\"macro\"))\n",
    "    print(f1_score(output, y_test.squeeze(), task=\"multiclass\", num_classes=9, average=\"macro\"))\n",
    "\n",
    "    if np.abs(f1-1) < 0.000001:\n",
    "        print(\"발동!\")\n",
    "        torch.save(model2,\"./model.pth\")\n",
    "        break"
   ]
  },
  {
   "cell_type": "code",
   "execution_count": null,
   "metadata": {},
   "outputs": [
    {
     "name": "stdout",
     "output_type": "stream",
     "text": [
      "=================================test score=================================\n",
      "tensor(0.9774)\n",
      "tensor(0.9775)\n"
     ]
    }
   ],
   "source": [
    "model2=torch.load(\"./model.pth\")\n",
    "model2.eval()\n",
    "\n",
    "\n",
    "output = model2(x_test)\n",
    "print(f\"=================================test score=================================\")\n",
    "print(accuracy(output, y_test, task=\"multiclass\", num_classes=10, average=\"macro\"))\n",
    "print(f1_score(output, y_test, task=\"multiclass\", num_classes=10, average=\"macro\"))"
   ]
  },
  {
   "cell_type": "code",
   "execution_count": null,
   "metadata": {},
   "outputs": [],
   "source": []
  }
 ],
 "metadata": {
  "kernelspec": {
   "display_name": "Torch_PY38",
   "language": "python",
   "name": "python3"
  },
  "language_info": {
   "codemirror_mode": {
    "name": "ipython",
    "version": 3
   },
   "file_extension": ".py",
   "mimetype": "text/x-python",
   "name": "python",
   "nbconvert_exporter": "python",
   "pygments_lexer": "ipython3",
   "version": "3.8.18"
  }
 },
 "nbformat": 4,
 "nbformat_minor": 2
}
