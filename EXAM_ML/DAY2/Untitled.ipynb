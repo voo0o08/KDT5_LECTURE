{
 "cells": [
  {
   "cell_type": "markdown",
   "id": "e52ecdb7-98ac-4ad1-8887-a8676da3dca1",
   "metadata": {},
   "source": [
    "### 표본추출 / 샘플링\n",
    "- 전체 데이터에서 일부 데이터를 추출\n",
    "- pandas.DataFrame.sample()메서드\n",
    "- 복원 : 뽑은 거 다시 넣음\n",
    "- 비복원 : 뽑고 버림 "
   ]
  },
  {
   "cell_type": "code",
   "execution_count": 2,
   "id": "fd80dafa-cdd9-4473-bf5d-c603610a6a6c",
   "metadata": {},
   "outputs": [],
   "source": [
    "import pandas as pd"
   ]
  },
  {
   "cell_type": "code",
   "execution_count": 5,
   "id": "f7c47e01-366e-4eb9-8106-153018d8e8d5",
   "metadata": {},
   "outputs": [
    {
     "data": {
      "text/html": [
       "<div>\n",
       "<style scoped>\n",
       "    .dataframe tbody tr th:only-of-type {\n",
       "        vertical-align: middle;\n",
       "    }\n",
       "\n",
       "    .dataframe tbody tr th {\n",
       "        vertical-align: top;\n",
       "    }\n",
       "\n",
       "    .dataframe thead th {\n",
       "        text-align: right;\n",
       "    }\n",
       "</style>\n",
       "<table border=\"1\" class=\"dataframe\">\n",
       "  <thead>\n",
       "    <tr style=\"text-align: right;\">\n",
       "      <th></th>\n",
       "      <th>kor</th>\n",
       "      <th>math</th>\n",
       "      <th>eng</th>\n",
       "    </tr>\n",
       "  </thead>\n",
       "  <tbody>\n",
       "    <tr>\n",
       "      <th>0</th>\n",
       "      <td>10</td>\n",
       "      <td>11</td>\n",
       "      <td>111</td>\n",
       "    </tr>\n",
       "    <tr>\n",
       "      <th>1</th>\n",
       "      <td>20</td>\n",
       "      <td>22</td>\n",
       "      <td>222</td>\n",
       "    </tr>\n",
       "    <tr>\n",
       "      <th>2</th>\n",
       "      <td>30</td>\n",
       "      <td>33</td>\n",
       "      <td>333</td>\n",
       "    </tr>\n",
       "  </tbody>\n",
       "</table>\n",
       "</div>"
      ],
      "text/plain": [
       "   kor  math  eng\n",
       "0   10    11  111\n",
       "1   20    22  222\n",
       "2   30    33  333"
      ]
     },
     "execution_count": 5,
     "metadata": {},
     "output_type": "execute_result"
    }
   ],
   "source": [
    "# 임의의 데이터 생성 \n",
    "dataDF = pd.DataFrame({\"kor\":[10, 20, 30],\n",
    "                      \"math\":[11, 22, 33],\n",
    "                      \"eng\":[111, 222, 333]})\n",
    "dataDF"
   ]
  },
  {
   "cell_type": "code",
   "execution_count": 9,
   "id": "c6f4149d-4eb2-4820-877a-8c912d62f3c0",
   "metadata": {},
   "outputs": [
    {
     "name": "stdout",
     "output_type": "stream",
     "text": [
      "1번\n",
      "   kor  math  eng\n",
      "2   30    33  333\n",
      "1   20    22  222\n",
      "0   10    11  111\n",
      "2번\n",
      "   kor  math  eng\n",
      "1   20    22  222\n",
      "0   10    11  111\n",
      "2   30    33  333\n",
      "3번\n",
      "   kor  math  eng\n",
      "0   10    11  111\n",
      "1   20    22  222\n",
      "2   30    33  333\n",
      "4번\n",
      "   kor  math  eng\n",
      "0   10    11  111\n",
      "1   20    22  222\n",
      "2   30    33  333\n",
      "5번\n",
      "   kor  math  eng\n",
      "2   30    33  333\n",
      "0   10    11  111\n",
      "1   20    22  222\n"
     ]
    }
   ],
   "source": [
    "# 1개의 샘플/표본 데이터 추출 : default -> 비복원(replace=False), row(axis=0)\n",
    "for cnt in range(1, 6):\n",
    "    print(f\"{cnt}번\")\n",
    "    print(dataDF.sample(n=3))"
   ]
  },
  {
   "cell_type": "code",
   "execution_count": 11,
   "id": "5fb1c311-4857-42ce-855d-495840c65ce5",
   "metadata": {
    "scrolled": true
   },
   "outputs": [
    {
     "name": "stdout",
     "output_type": "stream",
     "text": [
      "1번\n",
      "   kor  math  eng\n",
      "1   20    22  222\n",
      "0   10    11  111\n",
      "0   10    11  111\n",
      "2번\n",
      "   kor  math  eng\n",
      "0   10    11  111\n",
      "1   20    22  222\n",
      "2   30    33  333\n",
      "3번\n",
      "   kor  math  eng\n",
      "0   10    11  111\n",
      "1   20    22  222\n",
      "1   20    22  222\n",
      "4번\n",
      "   kor  math  eng\n",
      "0   10    11  111\n",
      "2   30    33  333\n",
      "1   20    22  222\n",
      "5번\n",
      "   kor  math  eng\n",
      "1   20    22  222\n",
      "2   30    33  333\n",
      "1   20    22  222\n"
     ]
    }
   ],
   "source": [
    "for cnt in range(1, 6):\n",
    "    print(f\"{cnt}번\")\n",
    "    print(dataDF.sample(n=3, replace=True)) # 복원 추출 "
   ]
  },
  {
   "cell_type": "code",
   "execution_count": null,
   "id": "516d78f9-ef9a-44cd-8842-a3d1c91a97c1",
   "metadata": {},
   "outputs": [],
   "source": []
  }
 ],
 "metadata": {
  "kernelspec": {
   "display_name": "Python 3 (ipykernel)",
   "language": "python",
   "name": "python3"
  },
  "language_info": {
   "codemirror_mode": {
    "name": "ipython",
    "version": 3
   },
   "file_extension": ".py",
   "mimetype": "text/x-python",
   "name": "python",
   "nbconvert_exporter": "python",
   "pygments_lexer": "ipython3",
   "version": "3.9.18"
  }
 },
 "nbformat": 4,
 "nbformat_minor": 5
}
