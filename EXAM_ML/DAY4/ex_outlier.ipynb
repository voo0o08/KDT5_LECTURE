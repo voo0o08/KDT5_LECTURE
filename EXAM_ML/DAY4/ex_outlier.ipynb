{
 "cells": [
  {
   "cell_type": "markdown",
   "id": "676d36f9-3956-4bb9-8e77-73020e8ac8e9",
   "metadata": {},
   "source": [
    "# 이상치 데이터 처리 \n",
    "- 피처/특성에 데이터 값의 범위를 벗어나는 데이터를 의미\n",
    "- 종류 : 잘못입력된 경우, 자연으로 생성된 데이터\n",
    "    - 잘못 입력된 데이터 : 입력시 오타 => 제거 또는 대체 \n",
    "    - 자연 생성 데이터 : 연봉, 키, 몸무게, 나이 => 분리해서 전용 모델 / 식별용 피처\n",
    "- 탐지\n",
    "    - 시각화 확인\n",
    "    - 데이터의 분포 확인 : Z-Score / IQR(Turkey Fences)\n",
    "- 처리\n",
    "    - 삭제 / 대체 / 분리 모델 / 파생변수 추가 "
   ]
  },
  {
   "cell_type": "markdown",
   "id": "c5a42d56-3a8e-4d82-a61e-266e74444c7f",
   "metadata": {},
   "source": [
    "## <hr>1. 모듈 로딩 및 데이터 처리 "
   ]
  },
  {
   "cell_type": "code",
   "execution_count": 23,
   "id": "449e166e-4c67-4ca0-96ec-6969c81c0b84",
   "metadata": {},
   "outputs": [],
   "source": [
    "import pandas as pd\n",
    "import matplotlib.pyplot as plt"
   ]
  },
  {
   "cell_type": "code",
   "execution_count": 24,
   "id": "94a41db5-0fe6-482b-bea1-27ea1c4a087f",
   "metadata": {},
   "outputs": [
    {
     "name": "stdout",
     "output_type": "stream",
     "text": [
      "<class 'pandas.core.frame.DataFrame'>\n",
      "RangeIndex: 10 entries, 0 to 9\n",
      "Data columns (total 1 columns):\n",
      " #   Column  Non-Null Count  Dtype\n",
      "---  ------  --------------  -----\n",
      " 0   num     10 non-null     int64\n",
      "dtypes: int64(1)\n",
      "memory usage: 208.0 bytes\n"
     ]
    }
   ],
   "source": [
    "# 임의의 데이터 \n",
    "dataDF = pd.DataFrame({\"num\" : [1, 4, 3, 2, 4, 5, -14, 2, 1, 15]})\n",
    "dataDF.info()"
   ]
  },
  {
   "cell_type": "markdown",
   "id": "b62ddda8-5805-4038-a649-81d71647945a",
   "metadata": {},
   "source": [
    "## 2. 데이터 전처리"
   ]
  },
  {
   "cell_type": "markdown",
   "id": "11fe6489-da68-4b59-a179-2cc46bdcee10",
   "metadata": {},
   "source": [
    "### 2-1. 데이터 확인 "
   ]
  },
  {
   "cell_type": "code",
   "execution_count": 25,
   "id": "8e29044c-8477-4b19-8a38-4f01f31c6955",
   "metadata": {},
   "outputs": [
    {
     "data": {
      "image/png": "[encoded data removed]",
      "text/plain": [
       "<Figure size 640x480 with 1 Axes>"
      ]
     },
     "metadata": {},
     "output_type": "display_data"
    }
   ],
   "source": [
    "# 시각화로 데이터 분포 확인\n",
    "plt.plot(dataDF, \"bo\")\n",
    "plt.title(\"data distribution\")\n",
    "plt.grid()\n",
    "plt.show()"
   ]
  },
  {
   "cell_type": "code",
   "execution_count": 26,
   "id": "4e88979b-99ab-4ee7-b4aa-c82b59124c68",
   "metadata": {},
   "outputs": [
    {
     "data": {
      "image/png": "[encoded data removed]",
      "text/plain": [
       "<Figure size 640x480 with 1 Axes>"
      ]
     },
     "metadata": {},
     "output_type": "display_data"
    }
   ],
   "source": [
    "plt.hist(dataDF) #dafault bins = 10\n",
    "plt.show()"
   ]
  },
  {
   "cell_type": "markdown",
   "id": "ea2a68fc-3392-4435-a5dd-5fdc81d7ad99",
   "metadata": {},
   "source": [
    "### 2-2. 불필요 데이터 체크 => 결측치, 이상치"
   ]
  },
  {
   "cell_type": "code",
   "execution_count": 27,
   "id": "dd7e7633-0abf-414d-b506-91dde9da754d",
   "metadata": {},
   "outputs": [
    {
     "data": {
      "text/plain": [
       "num    0\n",
       "dtype: int64"
      ]
     },
     "execution_count": 27,
     "metadata": {},
     "output_type": "execute_result"
    }
   ],
   "source": [
    "# 결측치 \n",
    "dataDF.isnull().sum()"
   ]
  },
  {
   "cell_type": "markdown",
   "id": "fe1b5637-f2f4-4c77-a855-3e350ed71db2",
   "metadata": {},
   "source": [
    "#### 이상치 탐지 - 방법1) 평균과 편차를 이용한 탐지 Z-Score  \n",
    "z-score = 데이터 - 평균 / 표준편차"
   ]
  },
  {
   "cell_type": "code",
   "execution_count": 28,
   "id": "5bd7d088-e634-432c-b5e3-1901dcab8daa",
   "metadata": {},
   "outputs": [],
   "source": [
    "mean_value = dataDF.mean()\n",
    "std_value = dataDF.std()\n",
    "z_data = (dataDF - mean_value) / std_value"
   ]
  },
  {
   "cell_type": "code",
   "execution_count": 29,
   "id": "f24127bd-381c-4614-a46f-3d97399070d6",
   "metadata": {},
   "outputs": [
    {
     "data": {
      "text/html": [
       "<div>\n",
       "<style scoped>\n",
       "    .dataframe tbody tr th:only-of-type {\n",
       "        vertical-align: middle;\n",
       "    }\n",
       "\n",
       "    .dataframe tbody tr th {\n",
       "        vertical-align: top;\n",
       "    }\n",
       "\n",
       "    .dataframe thead th {\n",
       "        text-align: right;\n",
       "    }\n",
       "</style>\n",
       "<table border=\"1\" class=\"dataframe\">\n",
       "  <thead>\n",
       "    <tr style=\"text-align: right;\">\n",
       "      <th></th>\n",
       "      <th>num</th>\n",
       "    </tr>\n",
       "  </thead>\n",
       "  <tbody>\n",
       "    <tr>\n",
       "      <th>0</th>\n",
       "      <td>-0.185065</td>\n",
       "    </tr>\n",
       "    <tr>\n",
       "      <th>1</th>\n",
       "      <td>0.242008</td>\n",
       "    </tr>\n",
       "    <tr>\n",
       "      <th>2</th>\n",
       "      <td>0.099650</td>\n",
       "    </tr>\n",
       "    <tr>\n",
       "      <th>3</th>\n",
       "      <td>-0.042707</td>\n",
       "    </tr>\n",
       "    <tr>\n",
       "      <th>4</th>\n",
       "      <td>0.242008</td>\n",
       "    </tr>\n",
       "    <tr>\n",
       "      <th>5</th>\n",
       "      <td>0.384366</td>\n",
       "    </tr>\n",
       "    <tr>\n",
       "      <th>6</th>\n",
       "      <td>-2.320430</td>\n",
       "    </tr>\n",
       "    <tr>\n",
       "      <th>7</th>\n",
       "      <td>-0.042707</td>\n",
       "    </tr>\n",
       "    <tr>\n",
       "      <th>8</th>\n",
       "      <td>-0.185065</td>\n",
       "    </tr>\n",
       "    <tr>\n",
       "      <th>9</th>\n",
       "      <td>1.807942</td>\n",
       "    </tr>\n",
       "  </tbody>\n",
       "</table>\n",
       "</div>"
      ],
      "text/plain": [
       "        num\n",
       "0 -0.185065\n",
       "1  0.242008\n",
       "2  0.099650\n",
       "3 -0.042707\n",
       "4  0.242008\n",
       "5  0.384366\n",
       "6 -2.320430\n",
       "7 -0.042707\n",
       "8 -0.185065\n",
       "9  1.807942"
      ]
     },
     "execution_count": 29,
     "metadata": {},
     "output_type": "execute_result"
    }
   ],
   "source": [
    "z_data"
   ]
  },
  {
   "cell_type": "code",
   "execution_count": 30,
   "id": "7c59560e-7481-4b4b-a399-f43d2bc799d7",
   "metadata": {},
   "outputs": [],
   "source": [
    "# 양 끝단 제거를 위한 기준값  => 1.0\n",
    "threshold = 1.0\n",
    "mask = z_data.abs() > threshold # boolean mask "
   ]
  },
  {
   "cell_type": "code",
   "execution_count": 31,
   "id": "8c77c4c8-63a3-41e5-b60a-b2ced5493e92",
   "metadata": {},
   "outputs": [
    {
     "data": {
      "text/html": [
       "<div>\n",
       "<style scoped>\n",
       "    .dataframe tbody tr th:only-of-type {\n",
       "        vertical-align: middle;\n",
       "    }\n",
       "\n",
       "    .dataframe tbody tr th {\n",
       "        vertical-align: top;\n",
       "    }\n",
       "\n",
       "    .dataframe thead th {\n",
       "        text-align: right;\n",
       "    }\n",
       "</style>\n",
       "<table border=\"1\" class=\"dataframe\">\n",
       "  <thead>\n",
       "    <tr style=\"text-align: right;\">\n",
       "      <th></th>\n",
       "      <th>num</th>\n",
       "    </tr>\n",
       "  </thead>\n",
       "  <tbody>\n",
       "    <tr>\n",
       "      <th>0</th>\n",
       "      <td>1.0</td>\n",
       "    </tr>\n",
       "    <tr>\n",
       "      <th>1</th>\n",
       "      <td>4.0</td>\n",
       "    </tr>\n",
       "    <tr>\n",
       "      <th>2</th>\n",
       "      <td>3.0</td>\n",
       "    </tr>\n",
       "    <tr>\n",
       "      <th>3</th>\n",
       "      <td>2.0</td>\n",
       "    </tr>\n",
       "    <tr>\n",
       "      <th>4</th>\n",
       "      <td>4.0</td>\n",
       "    </tr>\n",
       "    <tr>\n",
       "      <th>5</th>\n",
       "      <td>5.0</td>\n",
       "    </tr>\n",
       "    <tr>\n",
       "      <th>6</th>\n",
       "      <td>NaN</td>\n",
       "    </tr>\n",
       "    <tr>\n",
       "      <th>7</th>\n",
       "      <td>2.0</td>\n",
       "    </tr>\n",
       "    <tr>\n",
       "      <th>8</th>\n",
       "      <td>1.0</td>\n",
       "    </tr>\n",
       "    <tr>\n",
       "      <th>9</th>\n",
       "      <td>NaN</td>\n",
       "    </tr>\n",
       "  </tbody>\n",
       "</table>\n",
       "</div>"
      ],
      "text/plain": [
       "   num\n",
       "0  1.0\n",
       "1  4.0\n",
       "2  3.0\n",
       "3  2.0\n",
       "4  4.0\n",
       "5  5.0\n",
       "6  NaN\n",
       "7  2.0\n",
       "8  1.0\n",
       "9  NaN"
      ]
     },
     "execution_count": 31,
     "metadata": {},
     "output_type": "execute_result"
    }
   ],
   "source": [
    "dataDF[~mask]"
   ]
  },
  {
   "cell_type": "code",
   "execution_count": 32,
   "id": "acd8fb77-3aa1-40d4-aabe-813d8d602641",
   "metadata": {},
   "outputs": [],
   "source": [
    "dataDF[~mask].dropna(inplace=True)"
   ]
  },
  {
   "cell_type": "code",
   "execution_count": 33,
   "id": "1aeafe22-6fd6-439c-9421-0017daa1f45c",
   "metadata": {},
   "outputs": [
    {
     "data": {
      "text/html": [
       "<div>\n",
       "<style scoped>\n",
       "    .dataframe tbody tr th:only-of-type {\n",
       "        vertical-align: middle;\n",
       "    }\n",
       "\n",
       "    .dataframe tbody tr th {\n",
       "        vertical-align: top;\n",
       "    }\n",
       "\n",
       "    .dataframe thead th {\n",
       "        text-align: right;\n",
       "    }\n",
       "</style>\n",
       "<table border=\"1\" class=\"dataframe\">\n",
       "  <thead>\n",
       "    <tr style=\"text-align: right;\">\n",
       "      <th></th>\n",
       "      <th>num</th>\n",
       "    </tr>\n",
       "  </thead>\n",
       "  <tbody>\n",
       "    <tr>\n",
       "      <th>0</th>\n",
       "      <td>1</td>\n",
       "    </tr>\n",
       "    <tr>\n",
       "      <th>1</th>\n",
       "      <td>4</td>\n",
       "    </tr>\n",
       "    <tr>\n",
       "      <th>2</th>\n",
       "      <td>3</td>\n",
       "    </tr>\n",
       "    <tr>\n",
       "      <th>3</th>\n",
       "      <td>2</td>\n",
       "    </tr>\n",
       "    <tr>\n",
       "      <th>4</th>\n",
       "      <td>4</td>\n",
       "    </tr>\n",
       "    <tr>\n",
       "      <th>5</th>\n",
       "      <td>5</td>\n",
       "    </tr>\n",
       "    <tr>\n",
       "      <th>6</th>\n",
       "      <td>-14</td>\n",
       "    </tr>\n",
       "    <tr>\n",
       "      <th>7</th>\n",
       "      <td>2</td>\n",
       "    </tr>\n",
       "    <tr>\n",
       "      <th>8</th>\n",
       "      <td>1</td>\n",
       "    </tr>\n",
       "    <tr>\n",
       "      <th>9</th>\n",
       "      <td>15</td>\n",
       "    </tr>\n",
       "  </tbody>\n",
       "</table>\n",
       "</div>"
      ],
      "text/plain": [
       "   num\n",
       "0    1\n",
       "1    4\n",
       "2    3\n",
       "3    2\n",
       "4    4\n",
       "5    5\n",
       "6  -14\n",
       "7    2\n",
       "8    1\n",
       "9   15"
      ]
     },
     "execution_count": 33,
     "metadata": {},
     "output_type": "execute_result"
    }
   ],
   "source": [
    "dataDF"
   ]
  },
  {
   "cell_type": "markdown",
   "id": "f8461188-ceb1-43b6-9914-4abf74cdc73e",
   "metadata": {},
   "source": [
    "#### 이상치 탐지 - 방법2) 데이터를 4등분해서 가운데 데이터를 기준으로 이상치 탐지 "
   ]
  },
  {
   "cell_type": "code",
   "execution_count": 34,
   "id": "8379dd36-bcda-45a1-ad1e-e47a8916a67a",
   "metadata": {},
   "outputs": [
    {
     "name": "stdout",
     "output_type": "stream",
     "text": [
      "q1:num    1.25\n",
      "Name: 0.25, dtype: float64\n",
      "q3num    4.0\n",
      "Name: 0.75, dtype: float64\n",
      "IQR:num    2.75\n",
      "dtype: float64\n",
      "lower : num   -2.875\n",
      "dtype: float64\n",
      "upper : num    8.125\n",
      "dtype: float64\n"
     ]
    }
   ],
   "source": [
    "q1 = dataDF.quantile(0.25)\n",
    "q3 = dataDF.quantile(0.75)\n",
    "iqr = q3-q1\n",
    "\n",
    "# 이상치로 판단할 기준되는 값\n",
    "lower = q1-(iqr*1.5)\n",
    "upper = q3+(iqr*1.5)\n",
    "\n",
    "print(f\"q1:{q1}\\nq3{q3}\\nIQR:{iqr}\")\n",
    "print(f\"lower : {lower}\\nupper : {upper}\")"
   ]
  },
  {
   "cell_type": "code",
   "execution_count": 35,
   "id": "18cc96fd-4a78-4775-98d3-0de8904bceaf",
   "metadata": {},
   "outputs": [
    {
     "data": {
      "image/png": "[encoded data removed]",
      "text/plain": [
       "<Figure size 640x480 with 1 Axes>"
      ]
     },
     "metadata": {},
     "output_type": "display_data"
    }
   ],
   "source": [
    "bp_obj = plt.boxplot(dataDF)\n",
    "plt.grid()\n",
    "plt.show()"
   ]
  },
  {
   "cell_type": "code",
   "execution_count": 36,
   "id": "309208ea-ab90-4282-91bb-9136a3ae9907",
   "metadata": {},
   "outputs": [
    {
     "data": {
      "text/plain": [
       "{'whiskers': [<matplotlib.lines.Line2D at 0x23659264280>,\n",
       "  <matplotlib.lines.Line2D at 0x23659264520>],\n",
       " 'caps': [<matplotlib.lines.Line2D at 0x236592647c0>,\n",
       "  <matplotlib.lines.Line2D at 0x23659264a00>],\n",
       " 'boxes': [<matplotlib.lines.Line2D at 0x23659264100>],\n",
       " 'medians': [<matplotlib.lines.Line2D at 0x23659264cd0>],\n",
       " 'fliers': [<matplotlib.lines.Line2D at 0x23659264f70>],\n",
       " 'means': []}"
      ]
     },
     "execution_count": 36,
     "metadata": {},
     "output_type": "execute_result"
    }
   ],
   "source": [
    "bp_obj # https://matplotlib.org/stable/api/_as_gen/matplotlib.pyplot.boxplot.html"
   ]
  },
  {
   "cell_type": "code",
   "execution_count": 37,
   "id": "c0c4d9e0-9653-4184-aa84-8f5a319e596c",
   "metadata": {},
   "outputs": [
    {
     "data": {
      "text/plain": [
       "<matplotlib.lines.Line2D at 0x23659264280>"
      ]
     },
     "execution_count": 37,
     "metadata": {},
     "output_type": "execute_result"
    }
   ],
   "source": [
    "bp_obj[\"whiskers\"][0] # bp_obj[\"whiskers\"] => list라서 "
   ]
  },
  {
   "cell_type": "markdown",
   "id": "b82049d2-f700-4ec7-b14a-162443c58b59",
   "metadata": {},
   "source": [
    "라인2D get_xdata / get_ydata"
   ]
  },
  {
   "cell_type": "code",
   "execution_count": 38,
   "id": "4f5291ec-8afc-4228-964c-55b6a193c1d2",
   "metadata": {},
   "outputs": [
    {
     "data": {
      "text/plain": [
       "(array([1.25, 1.  ]), array([4., 5.]))"
      ]
     },
     "execution_count": 38,
     "metadata": {},
     "output_type": "execute_result"
    }
   ],
   "source": [
    "# 1qr, 최저치, 3qr, 최대치\n",
    "bp_obj['whiskers'][0].get_ydata(), bp_obj['whiskers'][1].get_ydata()"
   ]
  },
  {
   "cell_type": "code",
   "execution_count": 39,
   "id": "de056e3e-7591-4e1b-88bf-df05ff2678c1",
   "metadata": {},
   "outputs": [
    {
     "data": {
      "text/plain": [
       "array([1.25, 1.  ])"
      ]
     },
     "execution_count": 39,
     "metadata": {},
     "output_type": "execute_result"
    }
   ],
   "source": [
    "bp_obj[\"whiskers\"][0].get_ydata() # 3사분위"
   ]
  },
  {
   "cell_type": "code",
   "execution_count": 40,
   "id": "cc2d98d7-6ca1-46e8-81bd-2385211602df",
   "metadata": {},
   "outputs": [
    {
     "data": {
      "text/plain": [
       "array([1.25, 1.25, 4.  , 4.  , 1.25])"
      ]
     },
     "execution_count": 40,
     "metadata": {},
     "output_type": "execute_result"
    }
   ],
   "source": [
    "bp_obj[\"boxes\"][0].get_ydata()"
   ]
  },
  {
   "cell_type": "code",
   "execution_count": 41,
   "id": "3fcf83e6-e52e-4a51-9801-645c10dc22b5",
   "metadata": {},
   "outputs": [
    {
     "data": {
      "text/plain": [
       "(     num\n",
       " 0  False\n",
       " 1  False\n",
       " 2  False\n",
       " 3  False\n",
       " 4  False\n",
       " 5  False\n",
       " 6   True\n",
       " 7  False\n",
       " 8  False\n",
       " 9  False,\n",
       "      num\n",
       " 0  False\n",
       " 1  False\n",
       " 2  False\n",
       " 3  False\n",
       " 4  False\n",
       " 5  False\n",
       " 6  False\n",
       " 7  False\n",
       " 8  False\n",
       " 9   True)"
      ]
     },
     "execution_count": 41,
     "metadata": {},
     "output_type": "execute_result"
    }
   ],
   "source": [
    "dataDF<lower, dataDF>upper"
   ]
  },
  {
   "cell_type": "code",
   "execution_count": null,
   "id": "9758eb2d-405b-43b9-9e23-e39821c2637b",
   "metadata": {},
   "outputs": [],
   "source": []
  },
  {
   "cell_type": "code",
   "execution_count": null,
   "id": "f701c67c-11ac-490e-b31d-94b619f482bf",
   "metadata": {},
   "outputs": [],
   "source": []
  }
 ],
 "metadata": {
  "kernelspec": {
   "display_name": "Python 3 (ipykernel)",
   "language": "python",
   "name": "python3"
  },
  "language_info": {
   "codemirror_mode": {
    "name": "ipython",
    "version": 3
   },
   "file_extension": ".py",
   "mimetype": "text/x-python",
   "name": "python",
   "nbconvert_exporter": "python",
   "pygments_lexer": "ipython3",
   "version": "3.9.18"
  }
 },
 "nbformat": 4,
 "nbformat_minor": 5
}
