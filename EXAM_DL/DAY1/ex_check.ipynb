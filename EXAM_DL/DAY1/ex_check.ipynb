{
 "cells": [
  {
   "cell_type": "code",
   "execution_count": 1,
   "id": "initial_id",
   "metadata": {
    "collapsed": true,
    "ExecuteTime": {
     "end_time": "2024-03-11T00:49:09.702543700Z",
     "start_time": "2024-03-11T00:49:04.885881800Z"
    }
   },
   "outputs": [
    {
     "name": "stdout",
     "output_type": "stream",
     "text": [
      "pandas version: 2.0.3\n",
      "seaborn version: 0.12.2\n",
      "matplotlib version: 3.7.2\n",
      "sklearn version: 1.3.0\n",
      "torch version: 2.2.0\n"
     ]
    }
   ],
   "source": [
    "# 모듈 로딩 및 버전 체크\n",
    "import pandas as pd\n",
    "import seaborn as sns\n",
    "import matplotlib as mt\n",
    "import sklearn as sk\n",
    "import torch\n",
    "\n",
    "print(f'pandas version: {pd.__version__}')\n",
    "print(f'seaborn version: {sns.__version__}')\n",
    "print(f'matplotlib version: {mt.__version__}')\n",
    "print(f'sklearn version: {sk.__version__}')\n",
    "print(f'torch version: {torch.__version__}')"
   ]
  },
  {
   "cell_type": "code",
   "outputs": [
    {
     "name": "stdout",
     "output_type": "stream",
     "text": [
      "GPU => False\n"
     ]
    }
   ],
   "source": [
    "# 해당 pc에 GPU 여부\n",
    "print(f\"GPU => {torch.cuda.is_available()}\")"
   ],
   "metadata": {
    "collapsed": false,
    "ExecuteTime": {
     "end_time": "2024-03-11T00:49:53.608552500Z",
     "start_time": "2024-03-11T00:49:53.579135500Z"
    }
   },
   "id": "ef40383cac7be78e",
   "execution_count": 3
  },
  {
   "cell_type": "code",
   "outputs": [],
   "source": [
    "# 저장 및 실행 Device 설정 \n",
    "DEVICE = \"gpu\" if torch.cuda.is_available() else \"cpu\" # GPU가 없으면 CPU로 잡는 거임 "
   ],
   "metadata": {
    "collapsed": false
   },
   "id": "30249ad7a08ad511"
  }
 ],
 "metadata": {
  "kernelspec": {
   "display_name": "Python 3",
   "language": "python",
   "name": "python3"
  },
  "language_info": {
   "codemirror_mode": {
    "name": "ipython",
    "version": 2
   },
   "file_extension": ".py",
   "mimetype": "text/x-python",
   "name": "python",
   "nbconvert_exporter": "python",
   "pygments_lexer": "ipython2",
   "version": "2.7.6"
  }
 },
 "nbformat": 4,
 "nbformat_minor": 5
}
