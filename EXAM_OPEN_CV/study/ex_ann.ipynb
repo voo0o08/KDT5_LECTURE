{
 "cells": [
  {
   "cell_type": "markdown",
   "source": [
    "###  인공신경망 모델 살펴보기\n",
    "- 구성 : 입력층 + 은닉층 + 출력층\n",
    "    * 입력층 : 입력값 <- 입력 피쳐 수 / 출력값 <- 층의 퍼셉트론 수\n",
    "    * 출력층 : 입력값 <- 이전층의 결과 수, 출력값 <- 입력 타겟 수"
   ],
   "metadata": {
    "collapsed": false
   },
   "id": "fb53d0a9b9da2407"
  },
  {
   "cell_type": "code",
   "outputs": [
    {
     "data": {
      "text/plain": "<torch._C.Generator at 0x29e820c3610>"
     },
     "execution_count": 14,
     "metadata": {},
     "output_type": "execute_result"
    }
   ],
   "source": [
    "import torch\n",
    "import torch.nn.functional as F\n",
    "import torch.nn as nn\n",
    "\n",
    "import torch.random as random\n",
    "random.manual_seed(12)"
   ],
   "metadata": {
    "collapsed": false,
    "ExecuteTime": {
     "end_time": "2024-03-23T05:50:03.891851400Z",
     "start_time": "2024-03-23T05:50:03.860824900Z"
    }
   },
   "id": "64d6d09c646fe153",
   "execution_count": 14
  },
  {
   "cell_type": "code",
   "outputs": [
    {
     "name": "stdout",
     "output_type": "stream",
     "text": [
      "[featureTS] torch.Size([4, 2]), 2D\n",
      "[targetTS] torch.Size([4, 1]), 2D\n"
     ]
    }
   ],
   "source": [
    "# 데이터 생성\n",
    "# 피쳐 : 점수 공부시간\n",
    "# 타겟 : 합격 불합격(이진)\n",
    "featureTS = torch.FloatTensor([[40, 4], [60, 5], [80, 6], [100, 8]])\n",
    "targetTS = torch.LongTensor([[0], [1], [1], [1]])\n",
    "\n",
    "print(f\"[featureTS] {featureTS.shape}, {featureTS.ndim}D\")\n",
    "print(f\"[targetTS] {targetTS.shape}, {targetTS.ndim}D\")"
   ],
   "metadata": {
    "collapsed": false,
    "ExecuteTime": {
     "end_time": "2024-03-23T05:50:05.961996500Z",
     "start_time": "2024-03-23T05:50:05.931408400Z"
    }
   },
   "id": "3bfc788351eace84",
   "execution_count": 15
  },
  {
   "cell_type": "code",
   "outputs": [],
   "source": [
    "## ANN 모델\n",
    "class Net(nn.Module):\n",
    "    \n",
    "    # 모델 구조 설정\n",
    "    def __init__(self):\n",
    "        super().__init__()\n",
    "        # 입력층 input 2는 고정\n",
    "        self.layer1 = nn.Linear(2, 4)\n",
    "        self.sig1 = nn.Sigmoid() # 재탕 가능 \n",
    "        \n",
    "        # 은닉층\n",
    "        self.layer2 = nn.Linear(4, 4)\n",
    "        self.sig2 = nn.Sigmoid()\n",
    "        \n",
    "        # 출력층 out 1은 고정\n",
    "        self.layer3 = nn.Linear(4, 1)\n",
    "        self.sig3 = nn.Sigmoid()\n",
    "    \n",
    "    # 순전파 함수\n",
    "    def forward(self, x):\n",
    "        x = self.layer1(x)\n",
    "        x = self.sig1(x)\n",
    "        x = self.layer2(x)\n",
    "        x = self.sig2(x)\n",
    "        x = self.sig3(x)\n",
    "        x = self.layer3(x)\n",
    "        \n",
    "        return x\n",
    "        \n",
    "        "
   ],
   "metadata": {
    "collapsed": false,
    "ExecuteTime": {
     "end_time": "2024-03-23T05:50:06.110314500Z",
     "start_time": "2024-03-23T05:50:06.094191600Z"
    }
   },
   "id": "c7fa211123c283b0",
   "execution_count": 16
  },
  {
   "cell_type": "code",
   "outputs": [
    {
     "data": {
      "text/plain": "Net(\n  (layer1): Linear(in_features=2, out_features=4, bias=True)\n  (sig1): Sigmoid()\n  (layer2): Linear(in_features=4, out_features=4, bias=True)\n  (sig2): Sigmoid()\n  (layer3): Linear(in_features=4, out_features=1, bias=True)\n  (sig3): Sigmoid()\n)"
     },
     "execution_count": 17,
     "metadata": {},
     "output_type": "execute_result"
    }
   ],
   "source": [
    "# 모델 인스턴스 생성 \n",
    "model1 = Net()\n",
    "model1"
   ],
   "metadata": {
    "collapsed": false,
    "ExecuteTime": {
     "end_time": "2024-03-23T05:50:06.267677600Z",
     "start_time": "2024-03-23T05:50:06.257081800Z"
    }
   },
   "id": "bed94c3a49a5a39c",
   "execution_count": 17
  },
  {
   "cell_type": "code",
   "outputs": [
    {
     "name": "stdout",
     "output_type": "stream",
     "text": [
      "Parameter containing:\n",
      "tensor([[-0.0485, -0.3779],\n",
      "        [-0.0669,  0.1232],\n",
      "        [-0.1292, -0.5273],\n",
      "        [ 0.1941, -0.3648]], requires_grad=True)\n",
      "Parameter containing:\n",
      "tensor([ 0.3270,  0.3146, -0.4253,  0.2755], requires_grad=True)\n",
      "Parameter containing:\n",
      "tensor([[ 0.0830,  0.1318,  0.0559, -0.3738],\n",
      "        [ 0.4790,  0.3443, -0.3744, -0.0544],\n",
      "        [ 0.1601, -0.4446, -0.3427,  0.3137],\n",
      "        [ 0.2216, -0.2283, -0.1997,  0.1099]], requires_grad=True)\n",
      "Parameter containing:\n",
      "tensor([ 0.0784,  0.1083, -0.0661,  0.3813], requires_grad=True)\n",
      "Parameter containing:\n",
      "tensor([[-0.1784, -0.2396, -0.2434, -0.3128]], requires_grad=True)\n",
      "Parameter containing:\n",
      "tensor([0.1423], requires_grad=True)\n"
     ]
    }
   ],
   "source": [
    "# 파라미터 보고 싶을 때\n",
    "for param in model1.parameters():\n",
    "    print(param)"
   ],
   "metadata": {
    "collapsed": false,
    "ExecuteTime": {
     "end_time": "2024-03-23T05:50:06.432019200Z",
     "start_time": "2024-03-23T05:50:06.406607500Z"
    }
   },
   "id": "7c2a2ed77d898e0d",
   "execution_count": 18
  },
  {
   "cell_type": "code",
   "outputs": [
    {
     "data": {
      "text/plain": "tensor([[-0.4739],\n        [-0.4738],\n        [-0.4738],\n        [-0.4738]], grad_fn=<AddmmBackward0>)"
     },
     "execution_count": 19,
     "metadata": {},
     "output_type": "execute_result"
    }
   ],
   "source": [
    "### 학습 진행\n",
    "## 에포크 : 데이터 처음부터 끝까지 한번 학습\n",
    "## 배치사이즈 : 데이터를 일정한 크기로 자른 것\n",
    "\n",
    "output = model1(featureTS)\n",
    "output"
   ],
   "metadata": {
    "collapsed": false,
    "ExecuteTime": {
     "end_time": "2024-03-23T05:50:06.576597200Z",
     "start_time": "2024-03-23T05:50:06.554776800Z"
    }
   },
   "id": "c575153e1296a023",
   "execution_count": 19
  },
  {
   "cell_type": "code",
   "outputs": [],
   "source": [
    "### 손실 계산 -> 0.5기준\n",
    "### 정확도(acc)\n",
    "correct = sum((output>0.5) == targetTS)\n",
    "accuracy = correct/targetTS.shape[0]"
   ],
   "metadata": {
    "collapsed": false,
    "ExecuteTime": {
     "end_time": "2024-03-23T05:51:55.470078700Z",
     "start_time": "2024-03-23T05:51:55.456691800Z"
    }
   },
   "id": "6d7b4d4f43817e43",
   "execution_count": 25
  },
  {
   "cell_type": "code",
   "outputs": [
    {
     "name": "stdout",
     "output_type": "stream",
     "text": [
      "accuracy: 0.25\n"
     ]
    }
   ],
   "source": [
    "print(f\"accuracy: {accuracy.item()}\")"
   ],
   "metadata": {
    "collapsed": false,
    "ExecuteTime": {
     "end_time": "2024-03-23T05:51:56.023833300Z",
     "start_time": "2024-03-23T05:51:56.019540200Z"
    }
   },
   "id": "8abe199494b33a72",
   "execution_count": 26
  },
  {
   "cell_type": "code",
   "outputs": [
    {
     "name": "stdout",
     "output_type": "stream",
     "text": [
      "정밀도 : 0\n"
     ]
    }
   ],
   "source": [
    "## 정밀도\n",
    "\n",
    "correct = sum(output>0.5)\n",
    "if not correct:\n",
    "    print(\"정밀도 : 0\")"
   ],
   "metadata": {
    "collapsed": false,
    "ExecuteTime": {
     "end_time": "2024-03-23T05:58:13.386275Z",
     "start_time": "2024-03-23T05:58:13.358988600Z"
    }
   },
   "id": "449886849123fcaf",
   "execution_count": 30
  },
  {
   "cell_type": "code",
   "outputs": [
    {
     "data": {
      "text/plain": "tensor([1])"
     },
     "execution_count": 28,
     "metadata": {},
     "output_type": "execute_result"
    }
   ],
   "source": [
    "## 재현율\n",
    "correct = sum((output>0.5) == targetTS)\n",
    "correct"
   ],
   "metadata": {
    "collapsed": false,
    "ExecuteTime": {
     "end_time": "2024-03-23T05:57:45.201393Z",
     "start_time": "2024-03-23T05:57:45.146892200Z"
    }
   },
   "id": "271edc0a423e7803",
   "execution_count": 28
  },
  {
   "cell_type": "markdown",
   "source": [
    "# 손실함수 예측과 정답 사이의 오차\n",
    "- 회귀 : MSE, MAE, RMSE\n",
    "- 분류 : binary_cross_entropy, cross_entropy"
   ],
   "metadata": {
    "collapsed": false
   },
   "id": "c23c3086075890f4"
  },
  {
   "cell_type": "code",
   "outputs": [
    {
     "name": "stdout",
     "output_type": "stream",
     "text": [
      "targetTS => \n",
      "tensor([[0],\n",
      "        [1],\n",
      "        [1],\n",
      "        [1]])\n",
      "output => \n",
      "tensor([[-0.4739],\n",
      "        [-0.4738],\n",
      "        [-0.4738],\n",
      "        [-0.4738]], grad_fn=<AddmmBackward0>)\n"
     ]
    }
   ],
   "source": [
    "print(f\"targetTS => \\n{targetTS}\")\n",
    "print(f\"output => \\n{output}\")"
   ],
   "metadata": {
    "collapsed": false,
    "ExecuteTime": {
     "end_time": "2024-03-23T06:01:26.956831100Z",
     "start_time": "2024-03-23T06:01:26.921025Z"
    }
   },
   "id": "524b5d6f90f41254",
   "execution_count": 33
  },
  {
   "cell_type": "code",
   "outputs": [
    {
     "ename": "RuntimeError",
     "evalue": "Found dtype Long but expected Float",
     "output_type": "error",
     "traceback": [
      "\u001B[1;31m---------------------------------------------------------------------------\u001B[0m",
      "\u001B[1;31mRuntimeError\u001B[0m                              Traceback (most recent call last)",
      "Cell \u001B[1;32mIn[34], line 1\u001B[0m\n\u001B[1;32m----> 1\u001B[0m \u001B[43mF\u001B[49m\u001B[38;5;241;43m.\u001B[39;49m\u001B[43mbinary_cross_entropy\u001B[49m\u001B[43m(\u001B[49m\u001B[43moutput\u001B[49m\u001B[43m,\u001B[49m\u001B[43m \u001B[49m\u001B[43mtargetTS\u001B[49m\u001B[43m)\u001B[49m\n",
      "File \u001B[1;32m~\\anaconda3\\envs\\Torch_PY38\\lib\\site-packages\\torch\\nn\\functional.py:3127\u001B[0m, in \u001B[0;36mbinary_cross_entropy\u001B[1;34m(input, target, weight, size_average, reduce, reduction)\u001B[0m\n\u001B[0;32m   3124\u001B[0m     new_size \u001B[38;5;241m=\u001B[39m _infer_size(target\u001B[38;5;241m.\u001B[39msize(), weight\u001B[38;5;241m.\u001B[39msize())\n\u001B[0;32m   3125\u001B[0m     weight \u001B[38;5;241m=\u001B[39m weight\u001B[38;5;241m.\u001B[39mexpand(new_size)\n\u001B[1;32m-> 3127\u001B[0m \u001B[38;5;28;01mreturn\u001B[39;00m \u001B[43mtorch\u001B[49m\u001B[38;5;241;43m.\u001B[39;49m\u001B[43m_C\u001B[49m\u001B[38;5;241;43m.\u001B[39;49m\u001B[43m_nn\u001B[49m\u001B[38;5;241;43m.\u001B[39;49m\u001B[43mbinary_cross_entropy\u001B[49m\u001B[43m(\u001B[49m\u001B[38;5;28;43minput\u001B[39;49m\u001B[43m,\u001B[49m\u001B[43m \u001B[49m\u001B[43mtarget\u001B[49m\u001B[43m,\u001B[49m\u001B[43m \u001B[49m\u001B[43mweight\u001B[49m\u001B[43m,\u001B[49m\u001B[43m \u001B[49m\u001B[43mreduction_enum\u001B[49m\u001B[43m)\u001B[49m\n",
      "\u001B[1;31mRuntimeError\u001B[0m: Found dtype Long but expected Float"
     ]
    }
   ],
   "source": [
    "F.binary_cross_entropy(output, targetTS) # 어떤 것들은 확률로 넣어야함, cross_entropy는 지가 알아서 확률을 결과로 변환힘"
   ],
   "metadata": {
    "collapsed": false,
    "ExecuteTime": {
     "end_time": "2024-03-23T06:03:28.687283600Z",
     "start_time": "2024-03-23T06:03:27.892965500Z"
    }
   },
   "id": "d0c3b1c99c0a67b1",
   "execution_count": 34
  },
  {
   "cell_type": "code",
   "outputs": [],
   "source": [],
   "metadata": {
    "collapsed": false
   },
   "id": "2967ef3b88672512"
  }
 ],
 "metadata": {
  "kernelspec": {
   "display_name": "Python 3",
   "language": "python",
   "name": "python3"
  },
  "language_info": {
   "codemirror_mode": {
    "name": "ipython",
    "version": 2
   },
   "file_extension": ".py",
   "mimetype": "text/x-python",
   "name": "python",
   "nbconvert_exporter": "python",
   "pygments_lexer": "ipython2",
   "version": "2.7.6"
  }
 },
 "nbformat": 4,
 "nbformat_minor": 5
}
