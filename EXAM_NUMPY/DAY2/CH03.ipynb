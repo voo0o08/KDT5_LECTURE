{
 "cells": [
  {
   "cell_type": "code",
   "execution_count": 70,
   "id": "aeedcc4c-996e-4afa-87fc-982ba447909c",
   "metadata": {},
   "outputs": [],
   "source": [
    "import numpy as np\n",
    "import pandas as pd\n",
    "\n",
    "%precision 2\n",
    "pd.set_option(\"display.precision\", 3)"
   ]
  },
  {
   "cell_type": "code",
   "execution_count": 71,
   "id": "41a2d578-1228-4f93-8935-c13befb62ecd",
   "metadata": {},
   "outputs": [
    {
     "data": {
      "text/html": [
       "<div>\n",
       "<style scoped>\n",
       "    .dataframe tbody tr th:only-of-type {\n",
       "        vertical-align: middle;\n",
       "    }\n",
       "\n",
       "    .dataframe tbody tr th {\n",
       "        vertical-align: top;\n",
       "    }\n",
       "\n",
       "    .dataframe thead th {\n",
       "        text-align: right;\n",
       "    }\n",
       "</style>\n",
       "<table border=\"1\" class=\"dataframe\">\n",
       "  <thead>\n",
       "    <tr style=\"text-align: right;\">\n",
       "      <th></th>\n",
       "      <th>english</th>\n",
       "      <th>mathematics</th>\n",
       "    </tr>\n",
       "    <tr>\n",
       "      <th>student number</th>\n",
       "      <th></th>\n",
       "      <th></th>\n",
       "    </tr>\n",
       "  </thead>\n",
       "  <tbody>\n",
       "    <tr>\n",
       "      <th>1</th>\n",
       "      <td>42</td>\n",
       "      <td>65</td>\n",
       "    </tr>\n",
       "    <tr>\n",
       "      <th>2</th>\n",
       "      <td>69</td>\n",
       "      <td>80</td>\n",
       "    </tr>\n",
       "    <tr>\n",
       "      <th>3</th>\n",
       "      <td>56</td>\n",
       "      <td>63</td>\n",
       "    </tr>\n",
       "    <tr>\n",
       "      <th>4</th>\n",
       "      <td>41</td>\n",
       "      <td>63</td>\n",
       "    </tr>\n",
       "    <tr>\n",
       "      <th>5</th>\n",
       "      <td>57</td>\n",
       "      <td>76</td>\n",
       "    </tr>\n",
       "  </tbody>\n",
       "</table>\n",
       "</div>"
      ],
      "text/plain": [
       "                english  mathematics\n",
       "student number                      \n",
       "1                    42           65\n",
       "2                    69           80\n",
       "3                    56           63\n",
       "4                    41           63\n",
       "5                    57           76"
      ]
     },
     "execution_count": 71,
     "metadata": {},
     "output_type": "execute_result"
    }
   ],
   "source": [
    "df = pd.read_csv(\"../data/ch2_scores_em.csv\", index_col = \"student number\")\n",
    "df.head()"
   ]
  },
  {
   "cell_type": "markdown",
   "id": "dd561041-2751-4751-b6d1-cd98cdb207e1",
   "metadata": {},
   "source": [
    "ch2_scores_em.csv -> 50명의 수학 시험 점수와 영어 시험 점수를 담은 파일"
   ]
  },
  {
   "cell_type": "code",
   "execution_count": 72,
   "id": "13d3f8da-ae45-45b9-b46d-493aeae0d7f0",
   "metadata": {},
   "outputs": [
    {
     "data": {
      "text/html": [
       "<div>\n",
       "<style scoped>\n",
       "    .dataframe tbody tr th:only-of-type {\n",
       "        vertical-align: middle;\n",
       "    }\n",
       "\n",
       "    .dataframe tbody tr th {\n",
       "        vertical-align: top;\n",
       "    }\n",
       "\n",
       "    .dataframe thead th {\n",
       "        text-align: right;\n",
       "    }\n",
       "</style>\n",
       "<table border=\"1\" class=\"dataframe\">\n",
       "  <thead>\n",
       "    <tr style=\"text-align: right;\">\n",
       "      <th></th>\n",
       "      <th>english</th>\n",
       "      <th>mathematics</th>\n",
       "    </tr>\n",
       "    <tr>\n",
       "      <th>student</th>\n",
       "      <th></th>\n",
       "      <th></th>\n",
       "    </tr>\n",
       "  </thead>\n",
       "  <tbody>\n",
       "    <tr>\n",
       "      <th>A</th>\n",
       "      <td>42</td>\n",
       "      <td>65</td>\n",
       "    </tr>\n",
       "    <tr>\n",
       "      <th>B</th>\n",
       "      <td>69</td>\n",
       "      <td>80</td>\n",
       "    </tr>\n",
       "    <tr>\n",
       "      <th>C</th>\n",
       "      <td>56</td>\n",
       "      <td>63</td>\n",
       "    </tr>\n",
       "    <tr>\n",
       "      <th>D</th>\n",
       "      <td>41</td>\n",
       "      <td>63</td>\n",
       "    </tr>\n",
       "    <tr>\n",
       "      <th>E</th>\n",
       "      <td>57</td>\n",
       "      <td>76</td>\n",
       "    </tr>\n",
       "    <tr>\n",
       "      <th>F</th>\n",
       "      <td>48</td>\n",
       "      <td>60</td>\n",
       "    </tr>\n",
       "    <tr>\n",
       "      <th>G</th>\n",
       "      <td>65</td>\n",
       "      <td>81</td>\n",
       "    </tr>\n",
       "    <tr>\n",
       "      <th>H</th>\n",
       "      <td>49</td>\n",
       "      <td>66</td>\n",
       "    </tr>\n",
       "    <tr>\n",
       "      <th>I</th>\n",
       "      <td>65</td>\n",
       "      <td>78</td>\n",
       "    </tr>\n",
       "    <tr>\n",
       "      <th>J</th>\n",
       "      <td>58</td>\n",
       "      <td>82</td>\n",
       "    </tr>\n",
       "  </tbody>\n",
       "</table>\n",
       "</div>"
      ],
      "text/plain": [
       "         english  mathematics\n",
       "student                      \n",
       "A             42           65\n",
       "B             69           80\n",
       "C             56           63\n",
       "D             41           63\n",
       "E             57           76\n",
       "F             48           60\n",
       "G             65           81\n",
       "H             49           66\n",
       "I             65           78\n",
       "J             58           82"
      ]
     },
     "execution_count": 72,
     "metadata": {},
     "output_type": "execute_result"
    }
   ],
   "source": [
    "en_scores = np.array(df[\"english\"])[:10]\n",
    "ma_scores = np.array(df[\"mathematics\"])[:10]\n",
    "\n",
    "index = pd.Index(['A', 'B', 'C', 'D', 'E', 'F', 'G', 'H', 'I', 'J'], name='student')\n",
    "scores_df = pd.DataFrame({\"english\" : en_scores, \"mathematics\":ma_scores}, index = index)\n",
    "\n",
    "scores_df"
   ]
  },
  {
   "cell_type": "markdown",
   "id": "35726c8c-f218-4c78-a353-dd884cf947fb",
   "metadata": {},
   "source": [
    "# 3.1 두 데이터 사이의 관계를 나타내는 지표  \n",
    "- 양의 상관관계\n",
    "- 음의 상관관계\n",
    "- 무상관<br>\n",
    "\n",
    "상관을 수치에 대한 지표로 표현하기\n",
    "## 3.1.1 np.cov : 공분산"
   ]
  },
  {
   "cell_type": "code",
   "execution_count": 73,
   "id": "3e51dc09-453a-4a7b-9340-bb6f1bffe472",
   "metadata": {},
   "outputs": [
    {
     "data": {
      "text/html": [
       "<div>\n",
       "<style scoped>\n",
       "    .dataframe tbody tr th:only-of-type {\n",
       "        vertical-align: middle;\n",
       "    }\n",
       "\n",
       "    .dataframe tbody tr th {\n",
       "        vertical-align: top;\n",
       "    }\n",
       "\n",
       "    .dataframe thead th {\n",
       "        text-align: right;\n",
       "    }\n",
       "</style>\n",
       "<table border=\"1\" class=\"dataframe\">\n",
       "  <thead>\n",
       "    <tr style=\"text-align: right;\">\n",
       "      <th></th>\n",
       "      <th>english</th>\n",
       "      <th>mathematics</th>\n",
       "      <th>english_deviation</th>\n",
       "      <th>mathematics_deviation</th>\n",
       "      <th>product of deviations</th>\n",
       "    </tr>\n",
       "    <tr>\n",
       "      <th>student</th>\n",
       "      <th></th>\n",
       "      <th></th>\n",
       "      <th></th>\n",
       "      <th></th>\n",
       "      <th></th>\n",
       "    </tr>\n",
       "  </thead>\n",
       "  <tbody>\n",
       "    <tr>\n",
       "      <th>A</th>\n",
       "      <td>42</td>\n",
       "      <td>65</td>\n",
       "      <td>-13.0</td>\n",
       "      <td>-6.4</td>\n",
       "      <td>83.2</td>\n",
       "    </tr>\n",
       "    <tr>\n",
       "      <th>B</th>\n",
       "      <td>69</td>\n",
       "      <td>80</td>\n",
       "      <td>14.0</td>\n",
       "      <td>8.6</td>\n",
       "      <td>120.4</td>\n",
       "    </tr>\n",
       "    <tr>\n",
       "      <th>C</th>\n",
       "      <td>56</td>\n",
       "      <td>63</td>\n",
       "      <td>1.0</td>\n",
       "      <td>-8.4</td>\n",
       "      <td>-8.4</td>\n",
       "    </tr>\n",
       "    <tr>\n",
       "      <th>D</th>\n",
       "      <td>41</td>\n",
       "      <td>63</td>\n",
       "      <td>-14.0</td>\n",
       "      <td>-8.4</td>\n",
       "      <td>117.6</td>\n",
       "    </tr>\n",
       "    <tr>\n",
       "      <th>E</th>\n",
       "      <td>57</td>\n",
       "      <td>76</td>\n",
       "      <td>2.0</td>\n",
       "      <td>4.6</td>\n",
       "      <td>9.2</td>\n",
       "    </tr>\n",
       "    <tr>\n",
       "      <th>F</th>\n",
       "      <td>48</td>\n",
       "      <td>60</td>\n",
       "      <td>-7.0</td>\n",
       "      <td>-11.4</td>\n",
       "      <td>79.8</td>\n",
       "    </tr>\n",
       "    <tr>\n",
       "      <th>G</th>\n",
       "      <td>65</td>\n",
       "      <td>81</td>\n",
       "      <td>10.0</td>\n",
       "      <td>9.6</td>\n",
       "      <td>96.0</td>\n",
       "    </tr>\n",
       "    <tr>\n",
       "      <th>H</th>\n",
       "      <td>49</td>\n",
       "      <td>66</td>\n",
       "      <td>-6.0</td>\n",
       "      <td>-5.4</td>\n",
       "      <td>32.4</td>\n",
       "    </tr>\n",
       "    <tr>\n",
       "      <th>I</th>\n",
       "      <td>65</td>\n",
       "      <td>78</td>\n",
       "      <td>10.0</td>\n",
       "      <td>6.6</td>\n",
       "      <td>66.0</td>\n",
       "    </tr>\n",
       "    <tr>\n",
       "      <th>J</th>\n",
       "      <td>58</td>\n",
       "      <td>82</td>\n",
       "      <td>3.0</td>\n",
       "      <td>10.6</td>\n",
       "      <td>31.8</td>\n",
       "    </tr>\n",
       "  </tbody>\n",
       "</table>\n",
       "</div>"
      ],
      "text/plain": [
       "         english  mathematics  english_deviation  mathematics_deviation  \\\n",
       "student                                                                   \n",
       "A             42           65              -13.0                   -6.4   \n",
       "B             69           80               14.0                    8.6   \n",
       "C             56           63                1.0                   -8.4   \n",
       "D             41           63              -14.0                   -8.4   \n",
       "E             57           76                2.0                    4.6   \n",
       "F             48           60               -7.0                  -11.4   \n",
       "G             65           81               10.0                    9.6   \n",
       "H             49           66               -6.0                   -5.4   \n",
       "I             65           78               10.0                    6.6   \n",
       "J             58           82                3.0                   10.6   \n",
       "\n",
       "         product of deviations  \n",
       "student                         \n",
       "A                         83.2  \n",
       "B                        120.4  \n",
       "C                         -8.4  \n",
       "D                        117.6  \n",
       "E                          9.2  \n",
       "F                         79.8  \n",
       "G                         96.0  \n",
       "H                         32.4  \n",
       "I                         66.0  \n",
       "J                         31.8  "
      ]
     },
     "execution_count": 73,
     "metadata": {},
     "output_type": "execute_result"
    }
   ],
   "source": [
    "summary_df = scores_df.copy()\n",
    "summary_df[\"english_deviation\"] = summary_df[\"english\"] - summary_df[\"english\"].mean()\n",
    "summary_df[\"mathematics_deviation\"] = summary_df[\"mathematics\"] - summary_df[\"mathematics\"].mean()\n",
    "summary_df[\"product of deviations\"] = summary_df[\"english_deviation\"] * summary_df[\"mathematics_deviation\"]\n",
    "summary_df"
   ]
  },
  {
   "cell_type": "code",
   "execution_count": 74,
   "id": "461e24e9-8648-4910-97e8-34e23c34ae3e",
   "metadata": {},
   "outputs": [
    {
     "data": {
      "text/plain": [
       "62.80"
      ]
     },
     "execution_count": 74,
     "metadata": {},
     "output_type": "execute_result"
    }
   ],
   "source": [
    "summary_df[\"product of deviations\"].mean() "
   ]
  },
  {
   "cell_type": "markdown",
   "id": "639f5a9a-f200-4d28-b957-7c0b0203276b",
   "metadata": {},
   "source": [
    "수학 점수와 영어점수는 양의 상관관계에 있다고 할 수 있음 "
   ]
  },
  {
   "cell_type": "code",
   "execution_count": 75,
   "id": "9bd1f7c8-7bfb-4972-a29c-8490641fc26f",
   "metadata": {},
   "outputs": [
    {
     "data": {
      "text/plain": [
       "array([[86.  , 62.8 ],\n",
       "       [62.8 , 68.44]])"
      ]
     },
     "execution_count": 75,
     "metadata": {},
     "output_type": "execute_result"
    }
   ],
   "source": [
    "cov_mat = np.cov(en_scores, ma_scores, ddof=0)\n",
    "cov_mat"
   ]
  },
  {
   "cell_type": "markdown",
   "id": "6c517c04-302b-4973-a34c-1ba1340b69bd",
   "metadata": {},
   "source": [
    "## 3.1.2 상관계수"
   ]
  },
  {
   "cell_type": "code",
   "execution_count": 76,
   "id": "18608034-b727-49e8-95b0-6e69ae62244c",
   "metadata": {},
   "outputs": [
    {
     "data": {
      "text/plain": [
       "0.82"
      ]
     },
     "execution_count": 76,
     "metadata": {},
     "output_type": "execute_result"
    }
   ],
   "source": [
    "np.cov(en_scores, ma_scores, ddof=0)[0, 1]/(np.std(en_scores)*np.std(ma_scores))"
   ]
  },
  {
   "cell_type": "markdown",
   "id": "fa3f4309-0dec-49f9-b639-29d64bcb80bc",
   "metadata": {},
   "source": [
    "## 3.2.1 산점도"
   ]
  },
  {
   "cell_type": "code",
   "execution_count": 77,
   "id": "3ea0d4a5-b362-4cb3-9d61-9c25226e2a87",
   "metadata": {},
   "outputs": [
    {
     "data": {
      "image/png": "[encoded data removed]",
      "text/plain": [
       "<Figure size 800x800 with 1 Axes>"
      ]
     },
     "metadata": {},
     "output_type": "display_data"
    }
   ],
   "source": [
    "import matplotlib.pyplot as plt\n",
    "\n",
    "%matplotlib inline\n",
    "\n",
    "en_scores = np.array(df[\"english\"])\n",
    "ma_scores = np.array(df[\"mathematics\"])\n",
    "\n",
    "fig = plt.figure(figsize = (8, 8))\n",
    "ax = fig.add_subplot(111)\n",
    "\n",
    "#산점도\n",
    "ax.scatter(en_scores, ma_scores)\n",
    "ax.set_xlabel(\"enlish\")\n",
    "ax.set_ylabel(\"mathmatics\")\n",
    "\n",
    "plt.show()"
   ]
  },
  {
   "cell_type": "markdown",
   "id": "be62787d-72c9-40ad-9879-32f8df89bd2e",
   "metadata": {},
   "source": [
    "## 3.2.2 회귀직선"
   ]
  },
  {
   "cell_type": "code",
   "execution_count": 78,
   "id": "a1764a81-73bb-4e39-9e39-71f01abb8a15",
   "metadata": {},
   "outputs": [],
   "source": [
    "poly_fit = np.polyfit(en_scores, ma_scores, 1) # 계수 구하기"
   ]
  },
  {
   "cell_type": "code",
   "execution_count": 89,
   "id": "0a75f44d-edfa-46a4-bb93-2d5a769ab59d",
   "metadata": {},
   "outputs": [
    {
     "data": {
      "text/latex": [
       "$x \\mapsto \\text{78.64} + \\text{13.05}\\,\\left(\\text{-2.76} + \\text{4.76e-02}x\\right)$"
      ],
      "text/plain": [
       "Polynomial([78.64, 13.05], domain=[37., 79.], window=[-1.,  1.], symbol='x')"
      ]
     },
     "execution_count": 89,
     "metadata": {},
     "output_type": "execute_result"
    }
   ],
   "source": [
    "# from numpy.polynomial import Polynomial\n",
    "fx = Polynomial.fit(en_scores, ma_scores, 1)\n",
    "fx"
   ]
  },
  {
   "cell_type": "code",
   "execution_count": 80,
   "id": "4453775f-b8fd-4bab-9ab5-42a79ea97109",
   "metadata": {},
   "outputs": [
    {
     "data": {
      "text/plain": [
       "42.60"
      ]
     },
     "execution_count": 80,
     "metadata": {},
     "output_type": "execute_result"
    }
   ],
   "source": [
    "fx(0) # 헤에에ㅔ 스고이 "
   ]
  },
  {
   "cell_type": "code",
   "execution_count": 81,
   "id": "eb1f9aae-5689-4f6c-b8c0-6a6dce13b768",
   "metadata": {},
   "outputs": [],
   "source": [
    "poly_1d = np.poly1d(poly_fit) # b0 + b1x를 반환하는 함수를 작성"
   ]
  },
  {
   "cell_type": "code",
   "execution_count": 82,
   "id": "bb038672-3d96-468e-99a0-e4c5010c0ba2",
   "metadata": {},
   "outputs": [
    {
     "data": {
      "text/plain": [
       "array([ 0.62, 42.6 ])"
      ]
     },
     "execution_count": 82,
     "metadata": {},
     "output_type": "execute_result"
    }
   ],
   "source": [
    "poly_fit # n차 계수 ... 0차 계수 "
   ]
  },
  {
   "cell_type": "code",
   "execution_count": 83,
   "id": "d3b3dc64-ca1d-4899-9d83-054bd2fb6e29",
   "metadata": {},
   "outputs": [
    {
     "data": {
      "image/png": "[encoded data removed]",
      "text/plain": [
       "<Figure size 800x800 with 1 Axes>"
      ]
     },
     "metadata": {},
     "output_type": "display_data"
    }
   ],
   "source": [
    "xs = np.linspace(en_scores.min(), en_scores.max())\n",
    "ys = poly_1d(xs)\n",
    "\n",
    "\n",
    "# 그래프 그리기 \n",
    "fig = plt.figure(figsize=(8, 8))\n",
    "ax = fig.add_subplot(111)\n",
    "ax.plot(xs, ys, color=\"gray\", label=f\"{poly_fit[1]:.2f}+{poly_fit[0]:.2f}x\")\n",
    "ax.scatter(en_scores, ma_scores, label=\"score\")\n",
    "\n",
    "# 설명\n",
    "ax.set_xlabel(\"english\")\n",
    "ax.set_ylabel(\"mathematics\")\n",
    "\n",
    "# 범례 표시\n",
    "ax.legend(loc=\"upper left\")\n",
    "\n",
    "plt.show()"
   ]
  },
  {
   "cell_type": "code",
   "execution_count": 84,
   "id": "c90b8ed8-818a-4b60-8d55-6fc2db78dd6e",
   "metadata": {},
   "outputs": [
    {
     "data": {
      "text/plain": [
       "42.60"
      ]
     },
     "execution_count": 84,
     "metadata": {},
     "output_type": "execute_result"
    }
   ],
   "source": [
    "poly_1d(0)"
   ]
  },
  {
   "cell_type": "markdown",
   "id": "67a30de6-740b-460e-b30e-192f7bc40e6c",
   "metadata": {},
   "source": [
    "## 3.2.3 히트맵"
   ]
  },
  {
   "cell_type": "code",
   "execution_count": 85,
   "id": "a44770f7-ffd3-4c0c-92e7-ef0cb474e30d",
   "metadata": {},
   "outputs": [
    {
     "data": {
      "image/png": "[encoded data removed]",
      "text/plain": [
       "<Figure size 1000x800 with 2 Axes>"
      ]
     },
     "metadata": {},
     "output_type": "display_data"
    }
   ],
   "source": [
    "fig = plt.figure(figsize=(10, 8))\n",
    "ax = fig.add_subplot(111)\n",
    "\n",
    "c = ax.hist2d(en_scores, ma_scores, bins=[9, 8], range=[(35, 80), (55, 95)])\n",
    "\n",
    "# 설명\n",
    "ax.set_xlabel(\"english\")\n",
    "ax.set_ylabel(\"mathematics\")\n",
    "ax.set_xticks(c[1])\n",
    "ax.set_yticks(c[2])\n",
    "\n",
    "# 컬러 바 표시\n",
    "fig.colorbar(c[3], ax=ax)\n",
    "plt.show()"
   ]
  },
  {
   "cell_type": "markdown",
   "id": "b2f9e35f-c9f0-416d-9f83-70a4f2b362dd",
   "metadata": {},
   "source": [
    "# 4.1 모집단과 표본"
   ]
  },
  {
   "cell_type": "code",
   "execution_count": 92,
   "id": "1d883fc4-325c-4bbb-b799-1b5cbf6032fe",
   "metadata": {},
   "outputs": [
    {
     "data": {
      "text/plain": [
       "54.55"
      ]
     },
     "execution_count": 92,
     "metadata": {},
     "output_type": "execute_result"
    }
   ],
   "source": [
    "np.random.seed(0)\n",
    "sample = np.random.choice(scores, 20)\n",
    "sample.mean()"
   ]
  },
  {
   "cell_type": "code",
   "execution_count": 93,
   "id": "6d734e81-76a0-43a4-a529-ba8d7c597fb1",
   "metadata": {},
   "outputs": [
    {
     "data": {
      "text/plain": [
       "55.00"
      ]
     },
     "execution_count": 93,
     "metadata": {},
     "output_type": "execute_result"
    }
   ],
   "source": [
    "scores.mean()"
   ]
  },
  {
   "cell_type": "code",
   "execution_count": 118,
   "id": "c1be3ed5-6309-492a-bb2b-ea0b9717617a",
   "metadata": {},
   "outputs": [
    {
     "name": "stdout",
     "output_type": "stream",
     "text": [
      "1번째 무작위 추출로 얻은 표본 평균 54.55\n",
      "2번째 무작위 추출로 얻은 표본 평균 50.7\n",
      "3번째 무작위 추출로 얻은 표본 평균 53.7\n",
      "4번째 무작위 추출로 얻은 표본 평균 55.1\n",
      "5번째 무작위 추출로 얻은 표본 평균 52.5\n"
     ]
    }
   ],
   "source": [
    "np.random.seed(0)\n",
    "for i in range(5):\n",
    "    sample = np.random.choice(scores, 20)\n",
    "    print(f\"{i+1}번째 무작위 추출로 얻은 표본 평균\", sample.mean())"
   ]
  },
  {
   "cell_type": "code",
   "execution_count": 114,
   "id": "a6776bdf-cb89-413d-be40-078dec60e9f6",
   "metadata": {},
   "outputs": [
    {
     "data": {
      "text/plain": [
       "array([0.98, 0.8 , 0.46, 0.78, 0.12, 0.64, 0.14, 0.94, 0.52, 0.41])"
      ]
     },
     "execution_count": 114,
     "metadata": {},
     "output_type": "execute_result"
    }
   ],
   "source": [
    "np.random.rand(10)"
   ]
  },
  {
   "cell_type": "code",
   "execution_count": null,
   "id": "a3530a0c-13fd-40c8-adf9-919124a74196",
   "metadata": {},
   "outputs": [],
   "source": [
    "이윤서 !!! 죽을래?? 까불지마 우씨!!! 농담이야 "
   ]
  },
  {
   "cell_type": "code",
   "execution_count": null,
   "id": "4e60a4e9-cfcb-4066-b9c2-a1a2b8392dc6",
   "metadata": {},
   "outputs": [],
   "source": []
  },
  {
   "cell_type": "code",
   "execution_count": null,
   "id": "78951df8-94c9-4108-a6fe-378d4a7b0364",
   "metadata": {},
   "outputs": [],
   "source": []
  },
  {
   "cell_type": "code",
   "execution_count": null,
   "id": "e2ccbc88-5b8a-46fa-8722-3030bb7a22c6",
   "metadata": {},
   "outputs": [],
   "source": []
  },
  {
   "cell_type": "code",
   "execution_count": null,
   "id": "460fafed-1ab7-4be4-a2db-b9e2418897d8",
   "metadata": {},
   "outputs": [],
   "source": []
  }
 ],
 "metadata": {
  "kernelspec": {
   "display_name": "Python 3 (ipykernel)",
   "language": "python",
   "name": "python3"
  },
  "language_info": {
   "codemirror_mode": {
    "name": "ipython",
    "version": 3
   },
   "file_extension": ".py",
   "mimetype": "text/x-python",
   "name": "python",
   "nbconvert_exporter": "python",
   "pygments_lexer": "ipython3",
   "version": "3.8.18"
  }
 },
 "nbformat": 4,
 "nbformat_minor": 5
}
