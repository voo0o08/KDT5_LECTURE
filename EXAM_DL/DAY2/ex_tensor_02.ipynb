{
 "cells": [
  {
   "cell_type": "code",
   "execution_count": 1,
   "id": "initial_id",
   "metadata": {
    "collapsed": true,
    "ExecuteTime": {
     "end_time": "2024-03-12T02:02:31.409791800Z",
     "start_time": "2024-03-12T02:02:31.396007Z"
    }
   },
   "outputs": [],
   "source": [
    "## Tensor 원소/요소 접근"
   ]
  },
  {
   "cell_type": "code",
   "outputs": [],
   "source": [
    "# 모듈 로딩\n",
    "import torch"
   ],
   "metadata": {
    "collapsed": false,
    "ExecuteTime": {
     "end_time": "2024-03-12T02:02:51.676418Z",
     "start_time": "2024-03-12T02:02:50.357310800Z"
    }
   },
   "id": "6bcaf9d5b1599cba",
   "execution_count": 2
  },
  {
   "cell_type": "code",
   "outputs": [
    {
     "name": "stderr",
     "output_type": "stream",
     "text": [
      "C:\\Users\\kdp\\AppData\\Local\\Temp\\ipykernel_15112\\3762021253.py:2: DeprecationWarning: an integer is required (got type float).  Implicit conversion to integers using __int__ is deprecated, and may be removed in a future version of Python.\n",
      "  points = torch.tensor([[4., 2.], [5, 3], [6, 4]], dtype=torch.int16)\n"
     ]
    }
   ],
   "source": [
    "# 텐서 생성\n",
    "points = torch.tensor([[4., 2.], [5, 3], [6, 4]], dtype=torch.int16)"
   ],
   "metadata": {
    "collapsed": false,
    "ExecuteTime": {
     "end_time": "2024-03-12T02:04:59.680308100Z",
     "start_time": "2024-03-12T02:04:59.654755200Z"
    }
   },
   "id": "850fe2794e54ca9a",
   "execution_count": 6
  },
  {
   "cell_type": "code",
   "outputs": [
    {
     "name": "stdout",
     "output_type": "stream",
     "text": [
      "tensor(3, dtype=torch.int16)\n"
     ]
    }
   ],
   "source": [
    "# tensor 원소 1개 접근\n",
    "# 데이터 3 추출 \n",
    "print(points[1, 1])"
   ],
   "metadata": {
    "collapsed": false,
    "ExecuteTime": {
     "end_time": "2024-03-12T02:04:59.815915500Z",
     "start_time": "2024-03-12T02:04:59.803506900Z"
    }
   },
   "id": "9a866d665c3bae0b",
   "execution_count": 7
  },
  {
   "cell_type": "code",
   "outputs": [
    {
     "name": "stdout",
     "output_type": "stream",
     "text": [
      "tensor([[5, 3],\n",
      "        [6, 4]], dtype=torch.int16)\n"
     ]
    }
   ],
   "source": [
    "# 1번 행부터 모든 행 추출\n",
    "print(points[1:])"
   ],
   "metadata": {
    "collapsed": false,
    "ExecuteTime": {
     "end_time": "2024-03-12T02:05:54.386574500Z",
     "start_time": "2024-03-12T02:05:54.377345Z"
    }
   },
   "id": "7eab72121557d268",
   "execution_count": 9
  },
  {
   "cell_type": "code",
   "outputs": [
    {
     "name": "stdout",
     "output_type": "stream",
     "text": [
      "tensor(4, dtype=torch.int16)\n"
     ]
    }
   ],
   "source": [
    "# 마지막 4가지고 오기\n",
    "print(points[-1, -1])"
   ],
   "metadata": {
    "collapsed": false,
    "ExecuteTime": {
     "end_time": "2024-03-12T02:06:21.168490Z",
     "start_time": "2024-03-12T02:06:21.144515300Z"
    }
   },
   "id": "e34bf1ff1219ce45",
   "execution_count": 10
  },
  {
   "cell_type": "code",
   "outputs": [
    {
     "data": {
      "text/plain": "torch.Size([1, 2])"
     },
     "execution_count": 17,
     "metadata": {},
     "output_type": "execute_result"
    }
   ],
   "source": [
    "torch.FloatTensor([[1, 2]]).shape"
   ],
   "metadata": {
    "collapsed": false,
    "ExecuteTime": {
     "end_time": "2024-03-12T02:19:43.473509400Z",
     "start_time": "2024-03-12T02:19:43.466272Z"
    }
   },
   "id": "b36938f09561e9df",
   "execution_count": 17
  },
  {
   "cell_type": "code",
   "outputs": [
    {
     "data": {
      "text/plain": "torch.Size([1, 2])"
     },
     "execution_count": 31,
     "metadata": {},
     "output_type": "execute_result"
    }
   ],
   "source": [
    "torch.FloatTensor([[1, 2]]).size()"
   ],
   "metadata": {
    "collapsed": false,
    "ExecuteTime": {
     "end_time": "2024-03-12T07:51:56.801348500Z",
     "start_time": "2024-03-12T07:51:56.792492200Z"
    }
   },
   "id": "e41b77fca7cc6d9e",
   "execution_count": 31
  },
  {
   "cell_type": "code",
   "outputs": [
    {
     "name": "stdout",
     "output_type": "stream",
     "text": [
      "m1.shape => torch.Size([1, 2]), m2.shape => torch.Size([1])\n"
     ]
    }
   ],
   "source": [
    "m1 = torch.FloatTensor([[1, 2]])\n",
    "m2 = torch.FloatTensor([3])\n",
    "\n",
    "print(f\"m1.shape => {m1.shape}, m2.shape => {m2.shape}\")"
   ],
   "metadata": {
    "collapsed": false,
    "ExecuteTime": {
     "end_time": "2024-03-12T02:21:23.955536200Z",
     "start_time": "2024-03-12T02:21:23.939838Z"
    }
   },
   "id": "f8ac962ece16d858",
   "execution_count": 19
  },
  {
   "cell_type": "code",
   "outputs": [
    {
     "name": "stdout",
     "output_type": "stream",
     "text": [
      "m3.shape => torch.Size([1, 2]), tensor([[4., 5.]])\n"
     ]
    }
   ],
   "source": [
    "m3 = m1 + m2\n",
    "print(f\"m3.shape => {m3.shape}, {m3}\")"
   ],
   "metadata": {
    "collapsed": false,
    "ExecuteTime": {
     "end_time": "2024-03-12T02:23:04.062160100Z",
     "start_time": "2024-03-12T02:23:04.054578800Z"
    }
   },
   "id": "174f783565652540",
   "execution_count": 21
  },
  {
   "cell_type": "code",
   "outputs": [
    {
     "data": {
      "text/plain": "torch.Size([2, 1])"
     },
     "execution_count": 22,
     "metadata": {},
     "output_type": "execute_result"
    }
   ],
   "source": [
    "torch.FloatTensor([[3], [4]]).shape"
   ],
   "metadata": {
    "collapsed": false,
    "ExecuteTime": {
     "end_time": "2024-03-12T02:23:15.230663700Z",
     "start_time": "2024-03-12T02:23:15.219607400Z"
    }
   },
   "id": "ff1ad088f9de7fcb",
   "execution_count": 22
  },
  {
   "cell_type": "code",
   "outputs": [
    {
     "name": "stdout",
     "output_type": "stream",
     "text": [
      "a.shape => torch.Size([2])\n",
      "a.ndim => 1\n"
     ]
    }
   ],
   "source": [
    "a = torch.FloatTensor([3, 4])\n",
    "print(f\"a.shape => {a.size()}\")\n",
    "print(f\"a.ndim => {a.ndim}\")\n"
   ],
   "metadata": {
    "collapsed": false,
    "ExecuteTime": {
     "end_time": "2024-03-12T07:54:51.631252900Z",
     "start_time": "2024-03-12T07:54:51.608089300Z"
    }
   },
   "id": "79e56fc2d3189c6a",
   "execution_count": 33
  },
  {
   "cell_type": "code",
   "outputs": [
    {
     "data": {
      "text/plain": "tensor([[3., 6.]])"
     },
     "execution_count": 30,
     "metadata": {},
     "output_type": "execute_result"
    }
   ],
   "source": [
    "m2.mul(m1)"
   ],
   "metadata": {
    "collapsed": false,
    "ExecuteTime": {
     "end_time": "2024-03-12T02:27:30.698930900Z",
     "start_time": "2024-03-12T02:27:30.664921200Z"
    }
   },
   "id": "842ae3b5e762a4d",
   "execution_count": 30
  },
  {
   "cell_type": "code",
   "outputs": [
    {
     "data": {
      "text/plain": "tensor([[ 3.,  4.],\n        [15., 20.]])"
     },
     "execution_count": 39,
     "metadata": {},
     "output_type": "execute_result"
    }
   ],
   "source": [
    "torch.FloatTensor([[1], [5]]) * torch.FloatTensor([3, 4])"
   ],
   "metadata": {
    "collapsed": false,
    "ExecuteTime": {
     "end_time": "2024-03-12T07:58:47.566464800Z",
     "start_time": "2024-03-12T07:58:47.534943400Z"
    }
   },
   "id": "d6d93e36926b7bdd",
   "execution_count": 39
  },
  {
   "cell_type": "code",
   "outputs": [
    {
     "ename": "RuntimeError",
     "evalue": "size mismatch, got input (2), mat (2x1), vec (2)",
     "output_type": "error",
     "traceback": [
      "\u001B[1;31m---------------------------------------------------------------------------\u001B[0m",
      "\u001B[1;31mRuntimeError\u001B[0m                              Traceback (most recent call last)",
      "Cell \u001B[1;32mIn[37], line 1\u001B[0m\n\u001B[1;32m----> 1\u001B[0m \u001B[43mtorch\u001B[49m\u001B[38;5;241;43m.\u001B[39;49m\u001B[43mFloatTensor\u001B[49m\u001B[43m(\u001B[49m\u001B[43m[\u001B[49m\u001B[43m[\u001B[49m\u001B[38;5;241;43m1\u001B[39;49m\u001B[43m]\u001B[49m\u001B[43m,\u001B[49m\u001B[43m \u001B[49m\u001B[43m[\u001B[49m\u001B[38;5;241;43m5\u001B[39;49m\u001B[43m]\u001B[49m\u001B[43m]\u001B[49m\u001B[43m)\u001B[49m\u001B[38;5;241;43m.\u001B[39;49m\u001B[43mmatmul\u001B[49m\u001B[43m(\u001B[49m\u001B[43mtorch\u001B[49m\u001B[38;5;241;43m.\u001B[39;49m\u001B[43mFloatTensor\u001B[49m\u001B[43m(\u001B[49m\u001B[43m[\u001B[49m\u001B[38;5;241;43m3\u001B[39;49m\u001B[43m,\u001B[49m\u001B[43m \u001B[49m\u001B[38;5;241;43m4\u001B[39;49m\u001B[43m]\u001B[49m\u001B[43m)\u001B[49m\u001B[43m)\u001B[49m\n",
      "\u001B[1;31mRuntimeError\u001B[0m: size mismatch, got input (2), mat (2x1), vec (2)"
     ]
    }
   ],
   "source": [
    "torch.FloatTensor([[1], [5]]).matmul(torch.FloatTensor([3, 4]))"
   ],
   "metadata": {
    "collapsed": false,
    "ExecuteTime": {
     "end_time": "2024-03-12T07:57:24.772858400Z",
     "start_time": "2024-03-12T07:57:24.741374100Z"
    }
   },
   "id": "f03bb75b19c2094c",
   "execution_count": 37
  },
  {
   "cell_type": "code",
   "outputs": [
    {
     "data": {
      "text/plain": "tensor([[ 3.,  4.],\n        [15., 20.]])"
     },
     "execution_count": 38,
     "metadata": {},
     "output_type": "execute_result"
    }
   ],
   "source": [
    "torch.FloatTensor([[1], [5]]).matmul(torch.FloatTensor([[3, 4]]))"
   ],
   "metadata": {
    "collapsed": false,
    "ExecuteTime": {
     "end_time": "2024-03-12T07:57:32.505266600Z",
     "start_time": "2024-03-12T07:57:32.494170500Z"
    }
   },
   "id": "4025f6d5f0125677",
   "execution_count": 38
  },
  {
   "cell_type": "code",
   "outputs": [
    {
     "data": {
      "text/plain": "torch.Size([1, 2])"
     },
     "execution_count": 43,
     "metadata": {},
     "output_type": "execute_result"
    }
   ],
   "source": [
    "a = torch.FloatTensor([[1, 5]])\n",
    "a.shape"
   ],
   "metadata": {
    "collapsed": false,
    "ExecuteTime": {
     "end_time": "2024-03-12T08:11:15.773271300Z",
     "start_time": "2024-03-12T08:11:15.760593300Z"
    }
   },
   "id": "e40d8999c0329030",
   "execution_count": 43
  },
  {
   "cell_type": "code",
   "outputs": [
    {
     "data": {
      "text/plain": "torch.Size([2, 1])"
     },
     "execution_count": 45,
     "metadata": {},
     "output_type": "execute_result"
    }
   ],
   "source": [
    "b = torch.FloatTensor([[1], [5]])\n",
    "b.shape"
   ],
   "metadata": {
    "collapsed": false,
    "ExecuteTime": {
     "end_time": "2024-03-12T08:11:41.239256300Z",
     "start_time": "2024-03-12T08:11:41.231847700Z"
    }
   },
   "id": "29e518f0578966e6",
   "execution_count": 45
  },
  {
   "cell_type": "code",
   "outputs": [
    {
     "data": {
      "text/plain": "tensor([[ 1.,  5.],\n        [ 5., 25.]])"
     },
     "execution_count": 46,
     "metadata": {},
     "output_type": "execute_result"
    }
   ],
   "source": [
    "a * b"
   ],
   "metadata": {
    "collapsed": false,
    "ExecuteTime": {
     "end_time": "2024-03-12T08:11:45.590670500Z",
     "start_time": "2024-03-12T08:11:45.566618Z"
    }
   },
   "id": "fd3a72c25365f8e3",
   "execution_count": 46
  },
  {
   "cell_type": "code",
   "outputs": [
    {
     "data": {
      "text/plain": "tensor([[26.]])"
     },
     "execution_count": 47,
     "metadata": {},
     "output_type": "execute_result"
    }
   ],
   "source": [
    "a.matmul(b)"
   ],
   "metadata": {
    "collapsed": false,
    "ExecuteTime": {
     "end_time": "2024-03-12T08:12:28.081761400Z",
     "start_time": "2024-03-12T08:12:28.072469700Z"
    }
   },
   "id": "702be1ef8bb9673b",
   "execution_count": 47
  },
  {
   "cell_type": "code",
   "outputs": [],
   "source": [],
   "metadata": {
    "collapsed": false
   },
   "id": "6e7abe0c4682bf65"
  }
 ],
 "metadata": {
  "kernelspec": {
   "display_name": "Python 3",
   "language": "python",
   "name": "python3"
  },
  "language_info": {
   "codemirror_mode": {
    "name": "ipython",
    "version": 2
   },
   "file_extension": ".py",
   "mimetype": "text/x-python",
   "name": "python",
   "nbconvert_exporter": "python",
   "pygments_lexer": "ipython2",
   "version": "2.7.6"
  }
 },
 "nbformat": 4,
 "nbformat_minor": 5
}
