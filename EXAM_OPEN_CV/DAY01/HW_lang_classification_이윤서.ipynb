{
 "cells": [
  {
   "cell_type": "markdown",
   "source": [
    "# 2024/03/21 과제\n",
    "\n",
    "[전제조건] \n",
    "- 알파벳 26개를 사용하는 언어를 식별할 수 있다.\n",
    "- 언어마다 사용하는 알파벳 빈도는 다르다\n",
    "\n",
    "[모델]\n",
    "- 알파벳 입력 시 해당 언어 출력\n",
    "\n",
    "[파일]\n",
    "- test : en 4개 / fr 4개 / id 4개 / tl 4개\n",
    "- train : en 10개 / fr 10개 / id 10개 / tl 10개\n",
    "\n",
    "-> 데이터의 개수가 적으니 머신러닝이 적절함"
   ],
   "metadata": {
    "collapsed": false
   },
   "id": "bc4abfebdaf73b7"
  },
  {
   "cell_type": "markdown",
   "source": [
    "## 1. 모듈 로딩 "
   ],
   "metadata": {
    "collapsed": false
   },
   "id": "3dede4f77d934c96"
  },
  {
   "cell_type": "code",
   "outputs": [],
   "source": [
    "from PIL import Image\n",
    "import pandas as pd\n",
    "import numpy as np\n",
    "import matplotlib.pyplot as plt\n",
    "\n",
    "import torch # torch 기본 모듈로 텐서 기본 함수들 \n",
    "import torch.nn as nn # linear Regression 기능의 클래스 Linear\n",
    "import torch.nn.functional as F # 손실함수를 위함\n",
    "import torch.optim as optim # 최적화를 위함\n",
    "\n",
    "import os\n",
    "\n",
    "from sklearn.preprocessing import OneHotEncoder\n",
    "ohEncoder = OneHotEncoder(sparse_output=False)"
   ],
   "metadata": {
    "collapsed": false,
    "ExecuteTime": {
     "end_time": "2024-03-23T04:54:45.422070400Z",
     "start_time": "2024-03-23T04:54:45.406968500Z"
    }
   },
   "id": "49327cb32df9d67",
   "execution_count": 37
  },
  {
   "cell_type": "markdown",
   "source": [
    "## 2. 데이터 준비\n",
    "1. 파일을 찾아간다. \n",
    "2. 파일명 split(\"-\")[0] -> label\n",
    "3. 리스트로 count하자 -> isalpha 사용\n",
    "4. 알파벳...?빈도...?를 count\n",
    "5. 그럼 데이터가...40개에 feature가 26인..?에"
   ],
   "metadata": {
    "collapsed": false
   },
   "id": "204c0958e8927867"
  },
  {
   "cell_type": "code",
   "outputs": [],
   "source": [
    "path = \"../data/lang_data/\"\n",
    "\n",
    "def count_alphas(name):\n",
    "    '''\n",
    "    name : test or train\n",
    "    :return: lable, feature\n",
    "    '''\n",
    "    label = []\n",
    "    feature_array = np.zeros((1, 26)) # dummy -> 나중에 제거 해주기\n",
    "    file_list = os.listdir(path = \"../data/lang_data/\"+name)\n",
    "    for file in file_list:\n",
    "        temp_array = list(np.zeros(26))\n",
    "\n",
    "        with open(\"../data/lang_data/\"+name+\"/\"+file,\"r\", encoding=\"utf-8\") as f:\n",
    "            chars = f.read() # 통 str\n",
    "            chars = chars.lower()\n",
    "        \n",
    "        for c in chars: # 한 글자씩 읽기\n",
    "            if c.isalpha(): # A~Z, a~z\n",
    "                if ord(c) <= 122:\n",
    "                    temp_array[ord(c)-97] += 1 # 소문자로 변환\n",
    "        \n",
    "        temp_array = list(temp_array/sum(temp_array)) # 전처리 정규화\n",
    "        label.append(file.split(\"-\")[0])\n",
    "        \n",
    "        feature_array = np.append(feature_array, [temp_array], axis = 0)\n",
    "        \n",
    "    feature_array = feature_array[1:, :]# dummy 행 제거\n",
    "    return feature_array, label"
   ],
   "metadata": {
    "collapsed": false,
    "ExecuteTime": {
     "end_time": "2024-03-23T04:59:21.837536700Z",
     "start_time": "2024-03-23T04:59:21.825881800Z"
    }
   },
   "id": "bab715272ddfadb3",
   "execution_count": 52
  },
  {
   "cell_type": "markdown",
   "source": [
    "## train data 불러오기"
   ],
   "metadata": {
    "collapsed": false
   },
   "id": "fb427ae7fcde86bb"
  },
  {
   "cell_type": "code",
   "outputs": [
    {
     "data": {
      "text/plain": "(          0         1         2         3         4         5         6   \\\n 0   0.075952  0.012840  0.045702  0.046137  0.105332  0.015669  0.019151   \n 1   0.096747  0.012406  0.044621  0.033257  0.105817  0.021268  0.015951   \n 2   0.084178  0.019912  0.030404  0.038870  0.136998  0.017408  0.031239   \n 3   0.071646  0.012172  0.045643  0.032642  0.120055  0.014661  0.025173   \n 4   0.072210  0.027715  0.029977  0.039593  0.121041  0.016780  0.023567   \n 5   0.073806  0.020368  0.031099  0.039641  0.141261  0.020368  0.020368   \n 6   0.081006  0.013555  0.035795  0.034010  0.123701  0.019075  0.018994   \n 7   0.083812  0.016864  0.043478  0.040493  0.122686  0.023311  0.019532   \n 8   0.089447  0.015744  0.029711  0.041249  0.116504  0.020782  0.015496   \n 9   0.082587  0.013215  0.032848  0.038085  0.123968  0.022142  0.016847   \n 10  0.077169  0.008256  0.032182  0.053243  0.137321  0.013648  0.010783   \n 11  0.078738  0.010451  0.037253  0.053283  0.150487  0.016222  0.010708   \n 12  0.072750  0.009625  0.037233  0.047008  0.142143  0.011565  0.011640   \n 13  0.070257  0.009433  0.045618  0.044632  0.147906  0.016825  0.012108   \n 14  0.080356  0.008889  0.038578  0.042844  0.149689  0.012089  0.006933   \n 15  0.080253  0.005007  0.033574  0.044323  0.153144  0.007657  0.019143   \n 16  0.077913  0.014919  0.035749  0.044830  0.149735  0.011784  0.011496   \n 17  0.072717  0.013065  0.035412  0.044990  0.150754  0.010523  0.010582   \n 18  0.072599  0.015761  0.039836  0.051129  0.157111  0.013031  0.013527   \n 19  0.078947  0.011501  0.035283  0.051852  0.143275  0.012086  0.020078   \n 20  0.126059  0.032387  0.014449  0.034380  0.096662  0.004484  0.059791   \n 21  0.147555  0.024698  0.009199  0.039441  0.093372  0.011089  0.033896   \n 22  0.177360  0.023339  0.005501  0.038741  0.083651  0.012691  0.049585   \n 23  0.169205  0.025294  0.004562  0.032405  0.069708  0.007917  0.045086   \n 24  0.180053  0.025664  0.008246  0.046101  0.083582  0.005113  0.034121   \n 25  0.193340  0.030921  0.025824  0.044512  0.070336  0.005776  0.045872   \n 26  0.209816  0.024625  0.008433  0.047563  0.068646  0.003036  0.048237   \n 27  0.205575  0.028310  0.006969  0.042247  0.081010  0.007622  0.033537   \n 28  0.181070  0.023953  0.006261  0.041063  0.095522  0.002839  0.036549   \n 29  0.193329  0.025551  0.004279  0.043927  0.093644  0.003398  0.037382   \n 30  0.233360  0.015886  0.002859  0.013344  0.018904  0.000318  0.093249   \n 31  0.246441  0.014927  0.002488  0.018521  0.020594  0.001935  0.098549   \n 32  0.226832  0.037107  0.001178  0.018652  0.014529  0.000262  0.104516   \n 33  0.229449  0.034553  0.003613  0.013550  0.009259  0.000000  0.097561   \n 34  0.246555  0.022236  0.002427  0.011901  0.010022  0.001253  0.108440   \n 35  0.223059  0.024581  0.008121  0.013168  0.024215  0.003512  0.096313   \n 36  0.219981  0.017919  0.004989  0.013994  0.023060  0.001795  0.089897   \n 37  0.229718  0.021067  0.002521  0.012775  0.029807  0.000280  0.091439   \n 38  0.177559  0.022822  0.019018  0.021784  0.064920  0.004927  0.066909   \n 39  0.202369  0.022730  0.019562  0.037057  0.064196  0.005786  0.033062   \n \n           7         8         9   ...        16        17        18        19  \\\n 0   0.043743  0.073993  0.001741  ...  0.000000  0.077693  0.061371  0.080522   \n 1   0.039408  0.082048  0.001043  ...  0.001772  0.065367  0.069016  0.088042   \n 2   0.027423  0.075355  0.002623  ...  0.005485  0.090140  0.071659  0.077739   \n 3   0.023513  0.094606  0.002490  ...  0.001660  0.053942  0.087967  0.081051   \n 4   0.059012  0.065234  0.001508  ...  0.000377  0.059201  0.073341  0.093703   \n 5   0.056943  0.065046  0.003285  ...  0.000438  0.072492  0.059571  0.095488   \n 6   0.036932  0.075406  0.000812  ...  0.001055  0.077273  0.070617  0.088231   \n 7   0.037635  0.075460  0.001080  ...  0.000508  0.071649  0.066408  0.078000   \n 8   0.048153  0.080226  0.002159  ...  0.000585  0.056813  0.072399  0.080923   \n 9   0.051183  0.077219  0.002100  ...  0.001692  0.064544  0.071968  0.084381   \n 10  0.004718  0.094693  0.006403  ...  0.007077  0.067734  0.069250  0.063858   \n 11  0.015517  0.069377  0.002308  ...  0.005899  0.075083  0.071621  0.077584   \n 12  0.006641  0.094538  0.002686  ...  0.009402  0.060215  0.087077  0.072004   \n 13  0.013798  0.076311  0.001690  ...  0.009785  0.070750  0.078634  0.073495   \n 14  0.014578  0.067378  0.002311  ...  0.008178  0.071467  0.081067  0.059733   \n 15  0.009277  0.075836  0.001914  ...  0.016640  0.063319  0.068620  0.085407   \n 16  0.012613  0.072003  0.002126  ...  0.006847  0.074741  0.082093  0.070561   \n 17  0.011528  0.071416  0.003015  ...  0.006621  0.076914  0.078333  0.065681   \n 18  0.014396  0.085629  0.004344  ...  0.005833  0.082030  0.066518  0.061057   \n 19  0.019493  0.089864  0.003899  ...  0.004678  0.077778  0.072320  0.063353   \n 20  0.013951  0.104634  0.003986  ...  0.000000  0.076731  0.069258  0.046836   \n 21  0.018523  0.100302  0.005292  ...  0.000000  0.046623  0.081401  0.050781   \n 22  0.018663  0.087148  0.007387  ...  0.000000  0.052061  0.047621  0.049861   \n 23  0.015029  0.097350  0.006642  ...  0.000000  0.050050  0.054411  0.049782   \n 24  0.020827  0.088696  0.009058  ...  0.000179  0.056879  0.054380  0.050208   \n 25  0.017669  0.086306  0.004077  ...  0.000680  0.058784  0.050629  0.046551   \n 26  0.022263  0.086018  0.007758  ...  0.000337  0.046045  0.036094  0.061393   \n 27  0.022648  0.077308  0.006751  ...  0.000000  0.054225  0.054007  0.054007   \n 28  0.022279  0.072880  0.013251  ...  0.000073  0.061376  0.045140  0.051911   \n 29  0.023411  0.070736  0.013719  ...  0.000126  0.058527  0.044179  0.047074   \n 30  0.012550  0.074345  0.000159  ...  0.000000  0.033836  0.049881  0.048133   \n 31  0.013822  0.074223  0.000138  ...  0.000000  0.027920  0.048929  0.046856   \n 32  0.015118  0.072906  0.000262  ...  0.000000  0.021531  0.045092  0.041296   \n 33  0.010614  0.101626  0.000000  ...  0.000000  0.017389  0.056007  0.046522   \n 34  0.012527  0.086831  0.000391  ...  0.000313  0.014015  0.047917  0.049405   \n 35  0.018802  0.087168  0.001280  ...  0.000878  0.017668  0.049053  0.054539   \n 36  0.016884  0.085151  0.000700  ...  0.000243  0.023182  0.054121  0.044872   \n 37  0.011262  0.070372  0.001793  ...  0.000056  0.026894  0.047344  0.059615   \n 38  0.019018  0.074516  0.001902  ...  0.000432  0.045902  0.058956  0.054806   \n 39  0.006750  0.075492  0.002342  ...  0.001791  0.039399  0.065023  0.046150   \n \n           20        21        22        23        24        25  \n 0   0.025898  0.009793  0.014146  0.000653  0.020022  0.000435  \n 1   0.027940  0.008236  0.014908  0.002137  0.015742  0.005578  \n 2   0.030643  0.013712  0.013950  0.002027  0.010731  0.000596  \n 3   0.029046  0.018811  0.011895  0.000553  0.017981  0.000553  \n 4   0.024321  0.005090  0.019608  0.006033  0.017534  0.001697  \n 5   0.024967  0.010731  0.023872  0.003066  0.014893  0.000657  \n 6   0.024269  0.022403  0.013312  0.002273  0.015422  0.000812  \n 7   0.028329  0.012799  0.014006  0.001969  0.016674  0.001429  \n 8   0.032117  0.008794  0.016643  0.002497  0.014822  0.000427  \n 9   0.036524  0.011829  0.016876  0.001181  0.013799  0.001152  \n 10  0.052233  0.013816  0.009941  0.003033  0.006066  0.000505  \n 11  0.053475  0.014299  0.000705  0.003911  0.003655  0.000834  \n 12  0.052007  0.010372  0.009029  0.003880  0.004999  0.000224  \n 13  0.059838  0.011334  0.001197  0.003661  0.003309  0.001478  \n 14  0.052622  0.014222  0.001778  0.003022  0.003733  0.001600  \n 15  0.060227  0.007952  0.000589  0.004270  0.003681  0.000442  \n 16  0.054452  0.010631  0.004541  0.003892  0.005334  0.000468  \n 17  0.050902  0.012711  0.002601  0.004966  0.004848  0.000118  \n 18  0.042690  0.015140  0.000745  0.005088  0.004964  0.001986  \n 19  0.043860  0.014035  0.000390  0.003314  0.005263  0.001170  \n 20  0.042352  0.003986  0.006477  0.001495  0.009467  0.001495  \n 21  0.040575  0.008065  0.005040  0.001386  0.013609  0.000630  \n 22  0.048525  0.001572  0.004086  0.000236  0.014577  0.000236  \n 23  0.046629  0.002214  0.001811  0.000201  0.011741  0.000537  \n 24  0.043260  0.003003  0.006233  0.000308  0.012921  0.001136  \n 25  0.033979  0.002718  0.003738  0.000680  0.017669  0.000340  \n 26  0.044358  0.000169  0.008939  0.000169  0.015180  0.000337  \n 27  0.041812  0.007840  0.004791  0.000000  0.021995  0.000436  \n 28  0.043830  0.001602  0.004368  0.000073  0.011431  0.000364  \n 29  0.043801  0.000881  0.002643  0.000126  0.014349  0.000126  \n 30  0.041303  0.000635  0.008102  0.000477  0.022081  0.000000  \n 31  0.031790  0.000829  0.007878  0.000276  0.023773  0.000415  \n 32  0.044634  0.002421  0.009620  0.000131  0.014921  0.000262  \n 33  0.034553  0.000452  0.014679  0.000226  0.036360  0.001581  \n 34  0.025916  0.000861  0.012058  0.000078  0.019574  0.001018  \n 35  0.027507  0.002451  0.012400  0.000512  0.020119  0.001061  \n 36  0.032673  0.000639  0.009096  0.000304  0.028171  0.000152  \n 37  0.034794  0.001065  0.014287  0.000056  0.019722  0.000056  \n 38  0.027835  0.005100  0.008212  0.000864  0.023340  0.002680  \n 39  0.027828  0.004822  0.005786  0.000413  0.033889  0.003031  \n \n [40 rows x 26 columns],\n ['en',\n  'en',\n  'en',\n  'en',\n  'en',\n  'en',\n  'en',\n  'en',\n  'en',\n  'en',\n  'fr',\n  'fr',\n  'fr',\n  'fr',\n  'fr',\n  'fr',\n  'fr',\n  'fr',\n  'fr',\n  'fr',\n  'id',\n  'id',\n  'id',\n  'id',\n  'id',\n  'id',\n  'id',\n  'id',\n  'id',\n  'id',\n  'tl',\n  'tl',\n  'tl',\n  'tl',\n  'tl',\n  'tl',\n  'tl',\n  'tl',\n  'tl',\n  'tl'])"
     },
     "execution_count": 54,
     "metadata": {},
     "output_type": "execute_result"
    }
   ],
   "source": [
    "x_train, y_train = count_alphas(\"train\")\n",
    "x_train = pd.DataFrame(x_train)\n",
    "x_train, y_train"
   ],
   "metadata": {
    "collapsed": false,
    "ExecuteTime": {
     "end_time": "2024-03-23T05:00:10.574046Z",
     "start_time": "2024-03-23T05:00:10.322976700Z"
    }
   },
   "id": "10066a28acb0bbb2",
   "execution_count": 54
  },
  {
   "cell_type": "code",
   "outputs": [
    {
     "data": {
      "text/plain": "<Figure size 640x480 with 1 Axes>",
      "image/png": "[encoded data removed]"
     },
     "metadata": {},
     "output_type": "display_data"
    }
   ],
   "source": [
    "import matplotlib.pyplot as plt\n",
    "plt.bar(x_train.columns, x_train[0:10].mean(), color = \"green\", label = \"en\")\n",
    "plt.bar(x_train.columns, x_train[10:20].mean(), color = \"red\", label = \"fr\")\n",
    "plt.bar(x_train.columns, x_train[20:30].mean(), color = \"blue\", label = \"id\")\n",
    "plt.bar(x_train.columns, x_train[30:40].mean(),color = \"yellow\", label = \"tl\")\n",
    "plt.legend()\n",
    "plt.show()"
   ],
   "metadata": {
    "collapsed": false,
    "ExecuteTime": {
     "end_time": "2024-03-23T06:32:33.321766900Z",
     "start_time": "2024-03-23T06:32:33.120269700Z"
    }
   },
   "id": "eae3f937f1329b6c",
   "execution_count": 135
  },
  {
   "cell_type": "markdown",
   "source": [
    "## test 데이터 불러오기"
   ],
   "metadata": {
    "collapsed": false
   },
   "id": "a1f70b710f1bfab5"
  },
  {
   "cell_type": "code",
   "outputs": [
    {
     "data": {
      "text/plain": "(          0         1         2         3         4         5         6   \\\n 0   0.067823  0.013459  0.034328  0.048817  0.116114  0.020014  0.016002   \n 1   0.080283  0.016174  0.035350  0.038342  0.129865  0.016704  0.018950   \n 2   0.087546  0.014697  0.030850  0.039405  0.121263  0.019975  0.016745   \n 3   0.078505  0.012169  0.039091  0.031337  0.119966  0.021215  0.016692   \n 4   0.090582  0.012481  0.032243  0.051910  0.137481  0.015980  0.011914   \n 5   0.085097  0.010113  0.039651  0.046137  0.139917  0.011880  0.011542   \n 6   0.056764  0.012008  0.035835  0.049876  0.127155  0.013476  0.008620   \n 7   0.071875  0.011413  0.038476  0.040330  0.139357  0.012185  0.015386   \n 8   0.178832  0.026958  0.013194  0.040057  0.092074  0.007119  0.033507   \n 9   0.178803  0.036816  0.007309  0.038576  0.080130  0.004467  0.036816   \n 10  0.104322  0.022424  0.015275  0.044199  0.089373  0.011375  0.026649   \n 11  0.164736  0.026052  0.014586  0.041574  0.088257  0.006201  0.035997   \n 12  0.185287  0.017061  0.010273  0.032104  0.052651  0.003669  0.072280   \n 13  0.213162  0.028816  0.006418  0.016862  0.035108  0.004278  0.076884   \n 14  0.185554  0.019668  0.014370  0.026720  0.033086  0.007966  0.082523   \n 15  0.167676  0.016949  0.018765  0.024818  0.055690  0.009080  0.066586   \n \n           7         8         9   ...        16        17        18        19  \\\n 0   0.022798  0.076920  0.002411  ...  0.000658  0.070124  0.079550  0.075122   \n 1   0.042697  0.073986  0.004463  ...  0.001138  0.066227  0.063599  0.078880   \n 2   0.047823  0.075352  0.000956  ...  0.000319  0.064568  0.074077  0.083087   \n 3   0.036399  0.084105  0.000969  ...  0.000862  0.060521  0.069782  0.096812   \n 4   0.009455  0.075359  0.001702  ...  0.010023  0.067322  0.076967  0.072428   \n 5   0.007146  0.077505  0.002797  ...  0.007561  0.068130  0.081501  0.071480   \n 6   0.007303  0.086050  0.002786  ...  0.006362  0.067304  0.090078  0.068433   \n 7   0.018410  0.079491  0.004150  ...  0.006887  0.064060  0.073023  0.066334   \n 8   0.018320  0.082582  0.006170  ...  0.000000  0.050973  0.053726  0.055434   \n 9   0.019491  0.076746  0.007715  ...  0.000000  0.056984  0.043720  0.059691   \n 10  0.015600  0.090510  0.005362  ...  0.000650  0.069548  0.079298  0.052811   \n 11  0.025116  0.082056  0.007254  ...  0.000156  0.053625  0.048789  0.053235   \n 12  0.013575  0.075949  0.001101  ...  0.000000  0.040910  0.055036  0.048982   \n 13  0.014471  0.090474  0.000252  ...  0.000252  0.026928  0.045426  0.053353   \n 14  0.014065  0.081723  0.000229  ...  0.000152  0.035830  0.058700  0.052258   \n 15  0.011501  0.070218  0.000605  ...  0.001211  0.044189  0.052663  0.061743   \n \n           20        21        22        23        24        25  \n 0   0.025910  0.014775  0.036103  0.005634  0.013087  0.000416  \n 1   0.027631  0.013026  0.014880  0.002119  0.013300  0.001491  \n 2   0.025254  0.009965  0.012832  0.001183  0.013696  0.001229  \n 3   0.031661  0.015184  0.012600  0.002692  0.019169  0.000538  \n 4   0.059758  0.012292  0.001986  0.003026  0.004917  0.002931  \n 5   0.052100  0.011726  0.001506  0.003396  0.002198  0.001675  \n 6   0.042912  0.013852  0.028909  0.009298  0.005157  0.000414  \n 7   0.048652  0.013598  0.002892  0.004282  0.003355  0.001192  \n 8   0.041576  0.002088  0.002563  0.000380  0.012055  0.000475  \n 9   0.040742  0.002030  0.003519  0.000677  0.014348  0.000677  \n 10  0.036887  0.016575  0.033637  0.004875  0.009587  0.000487  \n 11  0.047424  0.004680  0.004602  0.000468  0.014820  0.000585  \n 12  0.038525  0.003486  0.007338  0.001101  0.028435  0.001835  \n 13  0.029948  0.000755  0.015981  0.001133  0.016107  0.004782  \n 14  0.023899  0.004803  0.028359  0.003392  0.017076  0.000419  \n 15  0.037530  0.001816  0.016344  0.000605  0.018160  0.000605  \n \n [16 rows x 26 columns],\n ['en',\n  'en',\n  'en',\n  'en',\n  'fr',\n  'fr',\n  'fr',\n  'fr',\n  'id',\n  'id',\n  'id',\n  'id',\n  'tl',\n  'tl',\n  'tl',\n  'tl'])"
     },
     "execution_count": 59,
     "metadata": {},
     "output_type": "execute_result"
    }
   ],
   "source": [
    "x_test, y_test = count_alphas(\"test\")\n",
    "x_test = pd.DataFrame(x_test)\n",
    "x_test, y_test"
   ],
   "metadata": {
    "collapsed": false,
    "ExecuteTime": {
     "end_time": "2024-03-23T05:03:15.937150500Z",
     "start_time": "2024-03-23T05:03:15.790796400Z"
    }
   },
   "id": "5a46564aeb2a1614",
   "execution_count": 59
  },
  {
   "cell_type": "markdown",
   "source": [
    "## 3. 데이터 가공 및 전처리\n",
    "- 정규화는 위에서 함\n",
    "- 타겟 -> one-hot encoding"
   ],
   "metadata": {
    "collapsed": false
   },
   "id": "aaa633661b885ea0"
  },
  {
   "cell_type": "code",
   "outputs": [
    {
     "data": {
      "text/plain": "OneHotEncoder(sparse_output=False)",
      "text/html": "<style>#sk-container-id-1 {color: black;}#sk-container-id-1 pre{padding: 0;}#sk-container-id-1 div.sk-toggleable {background-color: white;}#sk-container-id-1 label.sk-toggleable__label {cursor: pointer;display: block;width: 100%;margin-bottom: 0;padding: 0.3em;box-sizing: border-box;text-align: center;}#sk-container-id-1 label.sk-toggleable__label-arrow:before {content: \"▸\";float: left;margin-right: 0.25em;color: #696969;}#sk-container-id-1 label.sk-toggleable__label-arrow:hover:before {color: black;}#sk-container-id-1 div.sk-estimator:hover label.sk-toggleable__label-arrow:before {color: black;}#sk-container-id-1 div.sk-toggleable__content {max-height: 0;max-width: 0;overflow: hidden;text-align: left;background-color: #f0f8ff;}#sk-container-id-1 div.sk-toggleable__content pre {margin: 0.2em;color: black;border-radius: 0.25em;background-color: #f0f8ff;}#sk-container-id-1 input.sk-toggleable__control:checked~div.sk-toggleable__content {max-height: 200px;max-width: 100%;overflow: auto;}#sk-container-id-1 input.sk-toggleable__control:checked~label.sk-toggleable__label-arrow:before {content: \"▾\";}#sk-container-id-1 div.sk-estimator input.sk-toggleable__control:checked~label.sk-toggleable__label {background-color: #d4ebff;}#sk-container-id-1 div.sk-label input.sk-toggleable__control:checked~label.sk-toggleable__label {background-color: #d4ebff;}#sk-container-id-1 input.sk-hidden--visually {border: 0;clip: rect(1px 1px 1px 1px);clip: rect(1px, 1px, 1px, 1px);height: 1px;margin: -1px;overflow: hidden;padding: 0;position: absolute;width: 1px;}#sk-container-id-1 div.sk-estimator {font-family: monospace;background-color: #f0f8ff;border: 1px dotted black;border-radius: 0.25em;box-sizing: border-box;margin-bottom: 0.5em;}#sk-container-id-1 div.sk-estimator:hover {background-color: #d4ebff;}#sk-container-id-1 div.sk-parallel-item::after {content: \"\";width: 100%;border-bottom: 1px solid gray;flex-grow: 1;}#sk-container-id-1 div.sk-label:hover label.sk-toggleable__label {background-color: #d4ebff;}#sk-container-id-1 div.sk-serial::before {content: \"\";position: absolute;border-left: 1px solid gray;box-sizing: border-box;top: 0;bottom: 0;left: 50%;z-index: 0;}#sk-container-id-1 div.sk-serial {display: flex;flex-direction: column;align-items: center;background-color: white;padding-right: 0.2em;padding-left: 0.2em;position: relative;}#sk-container-id-1 div.sk-item {position: relative;z-index: 1;}#sk-container-id-1 div.sk-parallel {display: flex;align-items: stretch;justify-content: center;background-color: white;position: relative;}#sk-container-id-1 div.sk-item::before, #sk-container-id-1 div.sk-parallel-item::before {content: \"\";position: absolute;border-left: 1px solid gray;box-sizing: border-box;top: 0;bottom: 0;left: 50%;z-index: -1;}#sk-container-id-1 div.sk-parallel-item {display: flex;flex-direction: column;z-index: 1;position: relative;background-color: white;}#sk-container-id-1 div.sk-parallel-item:first-child::after {align-self: flex-end;width: 50%;}#sk-container-id-1 div.sk-parallel-item:last-child::after {align-self: flex-start;width: 50%;}#sk-container-id-1 div.sk-parallel-item:only-child::after {width: 0;}#sk-container-id-1 div.sk-dashed-wrapped {border: 1px dashed gray;margin: 0 0.4em 0.5em 0.4em;box-sizing: border-box;padding-bottom: 0.4em;background-color: white;}#sk-container-id-1 div.sk-label label {font-family: monospace;font-weight: bold;display: inline-block;line-height: 1.2em;}#sk-container-id-1 div.sk-label-container {text-align: center;}#sk-container-id-1 div.sk-container {/* jupyter's `normalize.less` sets `[hidden] { display: none; }` but bootstrap.min.css set `[hidden] { display: none !important; }` so we also need the `!important` here to be able to override the default hidden behavior on the sphinx rendered scikit-learn.org. See: https://github.com/scikit-learn/scikit-learn/issues/21755 */display: inline-block !important;position: relative;}#sk-container-id-1 div.sk-text-repr-fallback {display: none;}</style><div id=\"sk-container-id-1\" class=\"sk-top-container\"><div class=\"sk-text-repr-fallback\"><pre>OneHotEncoder(sparse_output=False)</pre><b>In a Jupyter environment, please rerun this cell to show the HTML representation or trust the notebook. <br />On GitHub, the HTML representation is unable to render, please try loading this page with nbviewer.org.</b></div><div class=\"sk-container\" hidden><div class=\"sk-item\"><div class=\"sk-estimator sk-toggleable\"><input class=\"sk-toggleable__control sk-hidden--visually\" id=\"sk-estimator-id-1\" type=\"checkbox\" checked><label for=\"sk-estimator-id-1\" class=\"sk-toggleable__label sk-toggleable__label-arrow\">OneHotEncoder</label><div class=\"sk-toggleable__content\"><pre>OneHotEncoder(sparse_output=False)</pre></div></div></div></div></div>"
     },
     "execution_count": 60,
     "metadata": {},
     "output_type": "execute_result"
    }
   ],
   "source": [
    "from sklearn.preprocessing import OneHotEncoder\n",
    "OH_encoder = OneHotEncoder(sparse_output=False)\n",
    "OH_encoder"
   ],
   "metadata": {
    "collapsed": false,
    "ExecuteTime": {
     "end_time": "2024-03-23T05:04:56.833881900Z",
     "start_time": "2024-03-23T05:04:56.777511200Z"
    }
   },
   "id": "6e6b0e71b4f2d871",
   "execution_count": 60
  },
  {
   "cell_type": "code",
   "outputs": [],
   "source": [
    "y_train = np.array(y_train).reshape(len(y_train), -1)\n",
    "y_test = np.array(y_test).reshape(len(y_test), -1)"
   ],
   "metadata": {
    "collapsed": false,
    "ExecuteTime": {
     "end_time": "2024-03-23T05:09:11.685252400Z",
     "start_time": "2024-03-23T05:09:11.661651800Z"
    }
   },
   "id": "34d7851f98ab6ffb",
   "execution_count": 76
  },
  {
   "cell_type": "code",
   "outputs": [],
   "source": [
    "OH_encoder.fit(y_train)\n",
    "y_train = OH_encoder.transform(y_train)\n",
    "y_test = OH_encoder.transform(y_test)"
   ],
   "metadata": {
    "collapsed": false,
    "ExecuteTime": {
     "end_time": "2024-03-23T05:09:36.199030800Z",
     "start_time": "2024-03-23T05:09:36.163590500Z"
    }
   },
   "id": "d221494facb99f6e",
   "execution_count": 77
  },
  {
   "cell_type": "markdown",
   "source": [
    "## 5. 학습"
   ],
   "metadata": {
    "collapsed": false
   },
   "id": "4ae7402a1f0cf9fa"
  },
  {
   "cell_type": "markdown",
   "source": [
    "### 5-1 모델 생성"
   ],
   "metadata": {
    "collapsed": false
   },
   "id": "ef3caa0b793c0854"
  },
  {
   "cell_type": "code",
   "outputs": [],
   "source": [
    "from sklearn.ensemble import RandomForestClassifier"
   ],
   "metadata": {
    "collapsed": false,
    "ExecuteTime": {
     "end_time": "2024-03-23T04:53:24.446141300Z",
     "start_time": "2024-03-23T04:53:24.207760200Z"
    }
   },
   "id": "6438f8184b13defe",
   "execution_count": 35
  },
  {
   "cell_type": "code",
   "outputs": [],
   "source": [
    "Forest_Classifier = RandomForestClassifier()"
   ],
   "metadata": {
    "collapsed": false,
    "ExecuteTime": {
     "end_time": "2024-03-23T04:54:10.955574200Z",
     "start_time": "2024-03-23T04:54:10.930308700Z"
    }
   },
   "id": "8587761f7eb54521",
   "execution_count": 36
  },
  {
   "cell_type": "code",
   "outputs": [
    {
     "data": {
      "text/plain": "RandomForestClassifier()",
      "text/html": "<style>#sk-container-id-2 {color: black;}#sk-container-id-2 pre{padding: 0;}#sk-container-id-2 div.sk-toggleable {background-color: white;}#sk-container-id-2 label.sk-toggleable__label {cursor: pointer;display: block;width: 100%;margin-bottom: 0;padding: 0.3em;box-sizing: border-box;text-align: center;}#sk-container-id-2 label.sk-toggleable__label-arrow:before {content: \"▸\";float: left;margin-right: 0.25em;color: #696969;}#sk-container-id-2 label.sk-toggleable__label-arrow:hover:before {color: black;}#sk-container-id-2 div.sk-estimator:hover label.sk-toggleable__label-arrow:before {color: black;}#sk-container-id-2 div.sk-toggleable__content {max-height: 0;max-width: 0;overflow: hidden;text-align: left;background-color: #f0f8ff;}#sk-container-id-2 div.sk-toggleable__content pre {margin: 0.2em;color: black;border-radius: 0.25em;background-color: #f0f8ff;}#sk-container-id-2 input.sk-toggleable__control:checked~div.sk-toggleable__content {max-height: 200px;max-width: 100%;overflow: auto;}#sk-container-id-2 input.sk-toggleable__control:checked~label.sk-toggleable__label-arrow:before {content: \"▾\";}#sk-container-id-2 div.sk-estimator input.sk-toggleable__control:checked~label.sk-toggleable__label {background-color: #d4ebff;}#sk-container-id-2 div.sk-label input.sk-toggleable__control:checked~label.sk-toggleable__label {background-color: #d4ebff;}#sk-container-id-2 input.sk-hidden--visually {border: 0;clip: rect(1px 1px 1px 1px);clip: rect(1px, 1px, 1px, 1px);height: 1px;margin: -1px;overflow: hidden;padding: 0;position: absolute;width: 1px;}#sk-container-id-2 div.sk-estimator {font-family: monospace;background-color: #f0f8ff;border: 1px dotted black;border-radius: 0.25em;box-sizing: border-box;margin-bottom: 0.5em;}#sk-container-id-2 div.sk-estimator:hover {background-color: #d4ebff;}#sk-container-id-2 div.sk-parallel-item::after {content: \"\";width: 100%;border-bottom: 1px solid gray;flex-grow: 1;}#sk-container-id-2 div.sk-label:hover label.sk-toggleable__label {background-color: #d4ebff;}#sk-container-id-2 div.sk-serial::before {content: \"\";position: absolute;border-left: 1px solid gray;box-sizing: border-box;top: 0;bottom: 0;left: 50%;z-index: 0;}#sk-container-id-2 div.sk-serial {display: flex;flex-direction: column;align-items: center;background-color: white;padding-right: 0.2em;padding-left: 0.2em;position: relative;}#sk-container-id-2 div.sk-item {position: relative;z-index: 1;}#sk-container-id-2 div.sk-parallel {display: flex;align-items: stretch;justify-content: center;background-color: white;position: relative;}#sk-container-id-2 div.sk-item::before, #sk-container-id-2 div.sk-parallel-item::before {content: \"\";position: absolute;border-left: 1px solid gray;box-sizing: border-box;top: 0;bottom: 0;left: 50%;z-index: -1;}#sk-container-id-2 div.sk-parallel-item {display: flex;flex-direction: column;z-index: 1;position: relative;background-color: white;}#sk-container-id-2 div.sk-parallel-item:first-child::after {align-self: flex-end;width: 50%;}#sk-container-id-2 div.sk-parallel-item:last-child::after {align-self: flex-start;width: 50%;}#sk-container-id-2 div.sk-parallel-item:only-child::after {width: 0;}#sk-container-id-2 div.sk-dashed-wrapped {border: 1px dashed gray;margin: 0 0.4em 0.5em 0.4em;box-sizing: border-box;padding-bottom: 0.4em;background-color: white;}#sk-container-id-2 div.sk-label label {font-family: monospace;font-weight: bold;display: inline-block;line-height: 1.2em;}#sk-container-id-2 div.sk-label-container {text-align: center;}#sk-container-id-2 div.sk-container {/* jupyter's `normalize.less` sets `[hidden] { display: none; }` but bootstrap.min.css set `[hidden] { display: none !important; }` so we also need the `!important` here to be able to override the default hidden behavior on the sphinx rendered scikit-learn.org. See: https://github.com/scikit-learn/scikit-learn/issues/21755 */display: inline-block !important;position: relative;}#sk-container-id-2 div.sk-text-repr-fallback {display: none;}</style><div id=\"sk-container-id-2\" class=\"sk-top-container\"><div class=\"sk-text-repr-fallback\"><pre>RandomForestClassifier()</pre><b>In a Jupyter environment, please rerun this cell to show the HTML representation or trust the notebook. <br />On GitHub, the HTML representation is unable to render, please try loading this page with nbviewer.org.</b></div><div class=\"sk-container\" hidden><div class=\"sk-item\"><div class=\"sk-estimator sk-toggleable\"><input class=\"sk-toggleable__control sk-hidden--visually\" id=\"sk-estimator-id-2\" type=\"checkbox\" checked><label for=\"sk-estimator-id-2\" class=\"sk-toggleable__label sk-toggleable__label-arrow\">RandomForestClassifier</label><div class=\"sk-toggleable__content\"><pre>RandomForestClassifier()</pre></div></div></div></div></div>"
     },
     "execution_count": 78,
     "metadata": {},
     "output_type": "execute_result"
    }
   ],
   "source": [
    "Forest_Classifier.fit(x_train, y_train)"
   ],
   "metadata": {
    "collapsed": false,
    "ExecuteTime": {
     "end_time": "2024-03-23T05:10:06.720797100Z",
     "start_time": "2024-03-23T05:10:06.612566900Z"
    }
   },
   "id": "81e2b1ab4f5ff2f",
   "execution_count": 78
  },
  {
   "cell_type": "code",
   "outputs": [
    {
     "data": {
      "text/plain": "1.0"
     },
     "execution_count": 80,
     "metadata": {},
     "output_type": "execute_result"
    }
   ],
   "source": [
    "Forest_Classifier.score(x_train, y_train)"
   ],
   "metadata": {
    "collapsed": false,
    "ExecuteTime": {
     "end_time": "2024-03-23T05:10:31.306958800Z",
     "start_time": "2024-03-23T05:10:31.275410400Z"
    }
   },
   "id": "85b050e27086178b",
   "execution_count": 80
  },
  {
   "cell_type": "code",
   "outputs": [
    {
     "data": {
      "text/plain": "1.0"
     },
     "execution_count": 81,
     "metadata": {},
     "output_type": "execute_result"
    }
   ],
   "source": [
    "Forest_Classifier.score(x_test, y_test)"
   ],
   "metadata": {
    "collapsed": false,
    "ExecuteTime": {
     "end_time": "2024-03-23T05:10:42.510904100Z",
     "start_time": "2024-03-23T05:10:42.476120700Z"
    }
   },
   "id": "19d579a714497b51",
   "execution_count": 81
  },
  {
   "cell_type": "markdown",
   "source": [],
   "metadata": {
    "collapsed": false
   },
   "id": "c001ccab9083d9c4"
  },
  {
   "cell_type": "markdown",
   "source": [
    "# 예측 진행"
   ],
   "metadata": {
    "collapsed": false
   },
   "id": "2df89118b51e8d78"
  },
  {
   "cell_type": "code",
   "outputs": [],
   "source": [
    "def predict_fuction():\n",
    "    user = input(\"알파벳을 입력하세요 : \").lower()\n",
    "    \n",
    "    ################################\n",
    "    temp_array = np.zeros(26)\n",
    "    \n",
    "    for c in user: # 한 글자씩 읽기\n",
    "        if c.isalpha(): # A~Z, a~z\n",
    "            if ord(c) <= 122:\n",
    "                # print(ord(c)-97, \"=>\",c)\n",
    "                temp_array[ord(c)-97] += 1 # 소문자로 변환\n",
    "    \n",
    "    temp_array = temp_array/sum(temp_array) # 전처리 정규화\n",
    "    user_input = temp_array.reshape(-1, len(temp_array))\n",
    "    return user_input"
   ],
   "metadata": {
    "collapsed": false,
    "ExecuteTime": {
     "end_time": "2024-03-23T05:48:22.279854900Z",
     "start_time": "2024-03-23T05:48:22.271201200Z"
    }
   },
   "id": "7921dee4ac7468ba",
   "execution_count": 109
  },
  {
   "cell_type": "code",
   "outputs": [
    {
     "data": {
      "text/plain": "array([['en']], dtype='<U2')"
     },
     "execution_count": 111,
     "metadata": {},
     "output_type": "execute_result"
    }
   ],
   "source": [
    "# en -> 영어\n",
    "'''\n",
    "Washington:\n",
    "The United States warned Russian authorities earlier in March about a terrorist attack possibly targeting \"large gatherings\" in Moscow, the White House said Friday, hours after a mass shooting killed at least 60 people outside the Russian capital.\n",
    "\"Earlier this month, the US government had information about a planned terrorist attack in Moscow -- potentially targeting large gatherings, to include concerts\" and Washington \"shared this information with Russian authorities,\" National Security Council spokeswoman Adrienne Watson said.\n",
    "\n",
    "Watson said the administration of US President Joe Biden was complying with a long-standing \"duty to warn\" policy, in which the United States alerts nations or groups when it receives intelligence of specific threats to kidnap or kill multiple victims.\n",
    "\n",
    "Gunmen opened fire at a Moscow concert hall earlier in the day killing more than 60 people, wounding more than 100 and sparking an inferno, authorities said, with the Islamic State group claiming responsibility.\n",
    "\n",
    "Listen to the latest songs, only on JioSaavn.com\n",
    "\n",
    "US officials have told AFP they believe the claim of responsibility by the Islamic State to be credible.\n",
    "\n",
    "Russia's Investigative Committee said Saturday that more than 60 people had been killed, raising an earlier toll of 40, according to Russian news agencies.\n",
    "\n",
    "Post a comment\n",
    "(Except for the headline, this story has not been edited by NDTV staff and is published from a syndicated feed.)\n",
    "'''\n",
    "pre_target = Forest_Classifier.predict(predict_fuction())\n",
    "pre_target\n",
    "OH_encoder.inverse_transform(pre_target)\n",
    "# 0 -> en\n",
    "# 1 -> fr\n",
    "# 2 -> id\n",
    "# 3 -> tl\n",
    "# 입력값 z와 x는 인도의 경우 1회 답은 알 수 없지만 x, z 넣었을 때  확률은 인도가 제일 낮아야함\n",
    "\n"
   ],
   "metadata": {
    "collapsed": false,
    "ExecuteTime": {
     "end_time": "2024-03-23T05:49:10.283078700Z",
     "start_time": "2024-03-23T05:49:08.715243Z"
    }
   },
   "id": "adc32a6834db8a48",
   "execution_count": 111
  },
  {
   "cell_type": "code",
   "outputs": [
    {
     "data": {
      "text/plain": "array([['fr']], dtype='<U2')"
     },
     "execution_count": 114,
     "metadata": {},
     "output_type": "execute_result"
    }
   ],
   "source": [
    "# fr -> 프랑스어\n",
    "'''\n",
    "Une vraie petite araignée\n",
    "« Dites, monsieur, depuis combien de temps vos jumelles (Oriane et Margot) font-elles de l’escalade ? », demanda un moniteur, étonné par l’aisance de ces jumelles de 7 ans sur un mur d’escalade.\n",
    "« Ah non, aujourd’hui, c’est leur première fois… », répondit le papa. Immédiatement, le moniteur lui conseilla de les inscrire dans un club.\n",
    "Aussitôt fait : Oriane et Margot ont commencé à s’entraîner dans le club des Avirons, sur l’île de La Réunion.\n",
    "Aujourd’hui, Oriane a 19 ans, et elle grimpe comme si elle avait des gènes d’araignée en elle. Une fois ses mains saupoudrées de magnésie (craie) pour mieux adhérer à la paroi (en plein air) ou au mur d’escalade (en salle), plus personne ne l’arrête. Et, depuis ses débuts en poussine, Oriane Bertone a pris le goût du défi : « Dès que je sens la difficulté, je suis excitée. Alors, au lieu d’en avoir peur, ça me donne des ailes… »\n",
    "Et aujourd’hui, la Française décroche des médailles à chaque compétition.\n",
    "\n",
    "Une des premières aux Jeux !\n",
    "En octobre dernier, Oriane Bertone a même été une des toutes premières officiellement sélectionnées pour les Jeux olympiques de Paris. « Dans le milieu, on trouve mon ascension fulgurante, mais moi je me remets en question au pied de chaque paroi. En avoir vaincu une, la veille, n’assure pas une victoire sur une autre, le lendemain. Je dois être hyper-concentrée sur chaque centimètre. »\n",
    "Paris sera ses premiers Jeux olympiques : « Même si je suis née à Nice et que ma famille vit à La Réunion, je m’entraîne près de Paris, à Fontainebleau. Donc, je serai un peu comme chez moi à Paris… »\n",
    "\n",
    "« Pas peur de la pression aux Jeux… »\n",
    "Alors, confiante ou pas pour les Jeux de Paris, Oriane ? « Oui, même si je sais que la pression, à la maison, sera colossale. Mais je n’en ai pas peur… enfin, pour l’instant ! En plus, il risque d’y avoir un public de ouf ! »\n",
    "'''\n",
    "pre_target = Forest_Classifier.predict(predict_fuction())\n",
    "pre_target\n",
    "OH_encoder.inverse_transform(pre_target)\n"
   ],
   "metadata": {
    "collapsed": false,
    "ExecuteTime": {
     "end_time": "2024-03-23T05:56:14.632133600Z",
     "start_time": "2024-03-23T05:56:13.169843700Z"
    }
   },
   "id": "4fbb4c1b7b4f4788",
   "execution_count": 114
  },
  {
   "cell_type": "code",
   "outputs": [
    {
     "data": {
      "text/plain": "array([['tl']], dtype='<U2')"
     },
     "execution_count": 137,
     "metadata": {},
     "output_type": "execute_result"
    }
   ],
   "source": [
    "# tl -> 필리핀 타갈로그어\n",
    "'''\n",
    "ulubulkaning Cordillera de Apaneca sa El Salvador. Tahanan ang bansa sa 170 bulkan, aktibo ang 23 sa mga ito, kabilang dito ang dalawang kaldera, at higbulkan ang isa sa mga ito. Nabigyan ang El Salvador ng taguring La Tierra de Soberbios Volcanes, (Ang Lupa ng mga Kahanga-hangang Bulkan).\n",
    "Tungkol ito sa isang anyong lupa, para sa mitolohikong diyos, tingnan ang Bulkan (diyos).\n",
    "Ang bulkan ay pagkalagot sa krast ng isang bagay na may buntalaing laki, tulad ng Daigdig, na nagpapahintulot sa pagbuga ng mainit na lava, abo-bulkan, at buhag mula sa liyaban ng magma sa ilalim ng lupa.\n",
    "\n",
    "Mayroong mga bulkan sa Daigdig dahil na nakahiwalay ang kanyang krast sa 17 pangunahing, maigting na plakang tektonika na lumulutang sa mas mainit at mas malambot na latag ng mundo.[1] Samakatuwid, sa Daigdig, kadalasang matatagpuan ang mga bulkan kung saan naghihiwalay o nagdidikitan ang mga plakang tektonika, at matatagpuan ang karamihan nito sa ilalim ng tubig. Bilang halimbawa, isang gitkaragatang gulod, tulad ng Git-Atlantikong Gulod, ay mga bulkan na bunga ng mga pahiwalay na plakang tektonika samantalang ang Singsing ng Apoy ng Pasipiko ay may mga bulkan na bunga ng mga nagdidikit na plakang tektonika. Maaari ring mabuo ang mga bulkan kung saan may pagbanat at pagpayat sa mga plaka ng krast, hal. sa Siwang ng Silangang Aprika, sa bulubulkanin ng Wells Gray-Clearwater, at Siwang ng Rio Grande sa Hilagang Amerika. Ang ganitong uri ng bulkanismo ay nasa ilalim ng grupo ng \"palagayin ng plaka\" sa bulkanismo.[2] Ipinaliwanag din ang bulkanismo na malayo sa mga hangganan ng plaka bilang mga pluma ng latag. Ipinapalagay na ang mga tinatawag na \"batik-init\", tulad ng Hawaii, ay nanggagaling mula sa tumataas na diapir na may magma mula sa hangganan ng ubod–latag, 3,000 km kalalim sa Daigdig. Hindi naman nabubuo ang mga bulkan sa pagdulas ng dalawang plato sa isa't isa.\n",
    "\n",
    "Maaaring magdulot ang mga pumuputok na bulkan ng mararaming panganib, hindi lamang sa paligid ng pagputok. Isang halimbawa ng peligro ay maaaring maging panganib ang abo sa mga eroplano, lalo na ang mga mayroong mga likhisog panghimpapawid kung saan natutunaw ang mga tipik ng abo sa mataas na temperatura ng pagpapatakbo; pagkatapos, dumidikit ang mga natunaw na tipik sa mga talim ng turbina at nagbabago sa hugis nito na nakaiistorbo sa pagtakbo ng turbina. Nakaaapekto ang mga malaking pagsabog sa temperatura dahil hinaharangan ng abo at mga patak ng mga asido sulpuriko ang araw at nagpapalamig sa ibabang atmospera (o himpapawid); gayunman, maaari rin silang mabaon ng init na siningaw ng Daigdig, sa gayon ay nagpapainit sa mas itaas na atmospera (o alangaang). Ayon sa kasaysayan, naging sanhi ang mga bulkanikong tagginaw ng mga napakamalalang taggutom.\n",
    "\n",
    "Etimolohiya\n",
    "\n",
    "Bulkang Cleveland sa Kapuluang Aleutiano ng Alaska na kinuha mula sa Pandaigdigang Himpilang Pangkalawakan, Mayo 2006\n",
    "\n",
    "Mapa na nagpapakita ng mga hangganang pahiwalay (naghihiwalay na oseanikong gulod at kamakailang kubhangining bulkan)\n",
    "Nanggaling ang salitang bulkan mula sa pangalan ng Vulcano, isang bulkanikong pulo sa Kapuluang Eoliko ng Italya na ang pangalan naman ay nanggaling mula kay Vulcan, ang diyos ng apoy sa mitolohiyang Romano.[3] Ang pag-aaral sa mga bulkan ay tinatawag na bulkanolohiya.\n",
    "\n",
    "Plakang Tektonika\n",
    "Pangunahing artikulo: Tektonika ng plaka\n",
    "Hangganang pahiwalay\n",
    "'''\n",
    "pre_target = Forest_Classifier.predict(predict_fuction())\n",
    "pre_target\n",
    "OH_encoder.inverse_transform(pre_target)"
   ],
   "metadata": {
    "collapsed": false,
    "ExecuteTime": {
     "end_time": "2024-03-23T06:37:33.601195300Z",
     "start_time": "2024-03-23T06:37:32.514265600Z"
    }
   },
   "id": "38a2b17aea050fee",
   "execution_count": 137
  },
  {
   "cell_type": "code",
   "outputs": [],
   "source": [],
   "metadata": {
    "collapsed": false
   },
   "id": "3b5871de9f19b299"
  }
 ],
 "metadata": {
  "kernelspec": {
   "display_name": "Python 3",
   "language": "python",
   "name": "python3"
  },
  "language_info": {
   "codemirror_mode": {
    "name": "ipython",
    "version": 2
   },
   "file_extension": ".py",
   "mimetype": "text/x-python",
   "name": "python",
   "nbconvert_exporter": "python",
   "pygments_lexer": "ipython2",
   "version": "2.7.6"
  }
 },
 "nbformat": 4,
 "nbformat_minor": 5
}
